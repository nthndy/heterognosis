{
 "cells": [
  {
   "cell_type": "code",
   "execution_count": 1,
   "id": "b043dbb5-a736-439a-99c1-815c6627270c",
   "metadata": {},
   "outputs": [],
   "source": [
    "from pathlib import Path\n",
    "from natsort import natsorted\n",
    "from ast import literal_eval\n",
    "import numpy as np\n",
    "from skimage.io import imread\n",
    "import napari\n",
    "import pandas as pd\n",
    "from skimage.measure import regionprops\n",
    "from tqdm.auto import tqdm\n",
    "import zarr"
   ]
  },
  {
   "cell_type": "code",
   "execution_count": 43,
   "id": "57fc4187-23e8-4db4-8f7b-fd513ae4978e",
   "metadata": {},
   "outputs": [],
   "source": [
    "base_dir = Path('/mnt/DATA3/BPP0050/BPP0050-1-Live-cell-to4i_Live-1__2025-04-09T18_25_04-Measurement 1')#"
   ]
  },
  {
   "cell_type": "code",
   "execution_count": 44,
   "id": "6bd63530-eea0-4051-a819-c74332f79e91",
   "metadata": {},
   "outputs": [
    {
     "data": {
      "text/plain": [
       "[PosixPath('/mnt/DATA3/BPP0050/BPP0050-1-Live-cell-to4i_Live-1__2025-04-09T18_25_04-Measurement 1/acquisition/zarr/(3, 3).zarr'),\n",
       " PosixPath('/mnt/DATA3/BPP0050/BPP0050-1-Live-cell-to4i_Live-1__2025-04-09T18_25_04-Measurement 1/acquisition/zarr/(3, 4).zarr'),\n",
       " PosixPath('/mnt/DATA3/BPP0050/BPP0050-1-Live-cell-to4i_Live-1__2025-04-09T18_25_04-Measurement 1/acquisition/zarr/(3, 5).zarr'),\n",
       " PosixPath('/mnt/DATA3/BPP0050/BPP0050-1-Live-cell-to4i_Live-1__2025-04-09T18_25_04-Measurement 1/acquisition/zarr/(3, 6).zarr'),\n",
       " PosixPath('/mnt/DATA3/BPP0050/BPP0050-1-Live-cell-to4i_Live-1__2025-04-09T18_25_04-Measurement 1/acquisition/zarr/(3, 7).zarr'),\n",
       " PosixPath('/mnt/DATA3/BPP0050/BPP0050-1-Live-cell-to4i_Live-1__2025-04-09T18_25_04-Measurement 1/acquisition/zarr/(3, 8).zarr'),\n",
       " PosixPath('/mnt/DATA3/BPP0050/BPP0050-1-Live-cell-to4i_Live-1__2025-04-09T18_25_04-Measurement 1/acquisition/zarr/(4, 4).zarr'),\n",
       " PosixPath('/mnt/DATA3/BPP0050/BPP0050-1-Live-cell-to4i_Live-1__2025-04-09T18_25_04-Measurement 1/acquisition/zarr/(4, 5).zarr'),\n",
       " PosixPath('/mnt/DATA3/BPP0050/BPP0050-1-Live-cell-to4i_Live-1__2025-04-09T18_25_04-Measurement 1/acquisition/zarr/(4, 6).zarr'),\n",
       " PosixPath('/mnt/DATA3/BPP0050/BPP0050-1-Live-cell-to4i_Live-1__2025-04-09T18_25_04-Measurement 1/acquisition/zarr/(4, 7).zarr'),\n",
       " PosixPath('/mnt/DATA3/BPP0050/BPP0050-1-Live-cell-to4i_Live-1__2025-04-09T18_25_04-Measurement 1/acquisition/zarr/(4, 8).zarr'),\n",
       " PosixPath('/mnt/DATA3/BPP0050/BPP0050-1-Live-cell-to4i_Live-1__2025-04-09T18_25_04-Measurement 1/acquisition/zarr/(5, 4).zarr'),\n",
       " PosixPath('/mnt/DATA3/BPP0050/BPP0050-1-Live-cell-to4i_Live-1__2025-04-09T18_25_04-Measurement 1/acquisition/zarr/(5, 5).zarr'),\n",
       " PosixPath('/mnt/DATA3/BPP0050/BPP0050-1-Live-cell-to4i_Live-1__2025-04-09T18_25_04-Measurement 1/acquisition/zarr/.zattrs'),\n",
       " PosixPath('/mnt/DATA3/BPP0050/BPP0050-1-Live-cell-to4i_Live-1__2025-04-09T18_25_04-Measurement 1/acquisition/zarr/.zgroup')]"
      ]
     },
     "execution_count": 44,
     "metadata": {},
     "output_type": "execute_result"
    }
   ],
   "source": [
    "zarr_dirs = natsorted((base_dir / \"acquisition/zarr\").glob(\"*\"))\n",
    "zarr_dirs"
   ]
  },
  {
   "cell_type": "code",
   "execution_count": 45,
   "id": "70f724db-97e8-4edb-8ff7-f960dc91f692",
   "metadata": {},
   "outputs": [],
   "source": [
    "zarr_dir = Path('/mnt/DATA3/BPP0050/BPP0050-1-Live-cell-to4i_Live-1__2025-04-09T18_25_04-Measurement 1/acquisition/zarr/(3, 4).zarr')"
   ]
  },
  {
   "cell_type": "code",
   "execution_count": 46,
   "id": "325aec6a-765c-4f84-8fd1-670151a3414b",
   "metadata": {},
   "outputs": [],
   "source": [
    "acq_ID = literal_eval(zarr_dir.stem) \n",
    "\n",
    "label_dir = f'{base_dir}/labels/{acq_ID}/'\n",
    "\n",
    "zarr_group = zarr.open_group(zarr_dir)\n",
    "\n",
    "live_1_images = zarr_group.images"
   ]
  },
  {
   "cell_type": "code",
   "execution_count": 47,
   "id": "ce4f110a-2764-4b7b-ba3f-93412eb07050",
   "metadata": {},
   "outputs": [
    {
     "data": {
      "text/plain": [
       "'/mnt/DATA3/BPP0050/BPP0050-1-Live-cell-to4i_Live-1__2025-04-09T18_25_04-Measurement 1/labels/(3, 4)/'"
      ]
     },
     "execution_count": 47,
     "metadata": {},
     "output_type": "execute_result"
    }
   ],
   "source": [
    "label_dir"
   ]
  },
  {
   "cell_type": "code",
   "execution_count": 48,
   "id": "1822756e-0fbf-4536-bab5-d219881dd49b",
   "metadata": {},
   "outputs": [],
   "source": [
    "tracks_fn = Path(label_dir , 'trackastra/*.tif')"
   ]
  },
  {
   "cell_type": "code",
   "execution_count": 49,
   "id": "ea833b14-f5db-4a3a-95f7-a92e1d8aa84d",
   "metadata": {},
   "outputs": [],
   "source": [
    "masks_fns = sorted(Path(label_dir).rglob('trackastra/*.tif'))\n",
    "masks_live_1 = np.stack([imread(fn) for fn in masks_fns], axis=0)"
   ]
  },
  {
   "cell_type": "markdown",
   "id": "b4f260e8-1fe7-44ce-b9f0-0dd67fa9e864",
   "metadata": {},
   "source": [
    "# Launch napari"
   ]
  },
  {
   "cell_type": "code",
   "execution_count": 60,
   "id": "4b7ecf3a-9a51-4212-b487-b1c29d75f68e",
   "metadata": {},
   "outputs": [],
   "source": [
    "viewer = napari.Viewer(title = 'linking')"
   ]
  },
  {
   "cell_type": "code",
   "execution_count": 67,
   "id": "79c01965-9468-4de9-9d3a-09fc69c9dbdb",
   "metadata": {},
   "outputs": [
    {
     "data": {
      "text/plain": [
       "<Labels layer 'masks_live_1' at 0x7f08c8ad0af0>"
      ]
     },
     "execution_count": 67,
     "metadata": {},
     "output_type": "execute_result"
    }
   ],
   "source": [
    "viewer.add_labels(masks_live_1)"
   ]
  },
  {
   "cell_type": "markdown",
   "id": "609f4fd4-d191-43e5-a684-c7e2f1872a42",
   "metadata": {},
   "source": [
    "## Live 2"
   ]
  },
  {
   "cell_type": "code",
   "execution_count": 50,
   "id": "2acd485a-8e00-4286-bc7f-b6094269a93e",
   "metadata": {},
   "outputs": [],
   "source": [
    "base_dir = Path('/mnt/DATA3/BPP0050/BPP0050-1-Live-cell-to4i_Live-2__2025-04-10T18_45_48-Measurement 1')#"
   ]
  },
  {
   "cell_type": "code",
   "execution_count": 51,
   "id": "3acedda6-ced6-4eb6-a9c2-0740d41a5c1b",
   "metadata": {},
   "outputs": [
    {
     "data": {
      "text/plain": [
       "[PosixPath('/mnt/DATA3/BPP0050/BPP0050-1-Live-cell-to4i_Live-2__2025-04-10T18_45_48-Measurement 1/acquisition/zarr/(3, 3).zarr'),\n",
       " PosixPath('/mnt/DATA3/BPP0050/BPP0050-1-Live-cell-to4i_Live-2__2025-04-10T18_45_48-Measurement 1/acquisition/zarr/(3, 4).zarr'),\n",
       " PosixPath('/mnt/DATA3/BPP0050/BPP0050-1-Live-cell-to4i_Live-2__2025-04-10T18_45_48-Measurement 1/acquisition/zarr/(3, 5).zarr'),\n",
       " PosixPath('/mnt/DATA3/BPP0050/BPP0050-1-Live-cell-to4i_Live-2__2025-04-10T18_45_48-Measurement 1/acquisition/zarr/(3, 6).zarr'),\n",
       " PosixPath('/mnt/DATA3/BPP0050/BPP0050-1-Live-cell-to4i_Live-2__2025-04-10T18_45_48-Measurement 1/acquisition/zarr/(3, 7).zarr'),\n",
       " PosixPath('/mnt/DATA3/BPP0050/BPP0050-1-Live-cell-to4i_Live-2__2025-04-10T18_45_48-Measurement 1/acquisition/zarr/(3, 8).zarr'),\n",
       " PosixPath('/mnt/DATA3/BPP0050/BPP0050-1-Live-cell-to4i_Live-2__2025-04-10T18_45_48-Measurement 1/acquisition/zarr/(4, 4).zarr'),\n",
       " PosixPath('/mnt/DATA3/BPP0050/BPP0050-1-Live-cell-to4i_Live-2__2025-04-10T18_45_48-Measurement 1/acquisition/zarr/(4, 5).zarr'),\n",
       " PosixPath('/mnt/DATA3/BPP0050/BPP0050-1-Live-cell-to4i_Live-2__2025-04-10T18_45_48-Measurement 1/acquisition/zarr/(4, 6).zarr'),\n",
       " PosixPath('/mnt/DATA3/BPP0050/BPP0050-1-Live-cell-to4i_Live-2__2025-04-10T18_45_48-Measurement 1/acquisition/zarr/(4, 7).zarr'),\n",
       " PosixPath('/mnt/DATA3/BPP0050/BPP0050-1-Live-cell-to4i_Live-2__2025-04-10T18_45_48-Measurement 1/acquisition/zarr/(4, 8).zarr'),\n",
       " PosixPath('/mnt/DATA3/BPP0050/BPP0050-1-Live-cell-to4i_Live-2__2025-04-10T18_45_48-Measurement 1/acquisition/zarr/(5, 4).zarr'),\n",
       " PosixPath('/mnt/DATA3/BPP0050/BPP0050-1-Live-cell-to4i_Live-2__2025-04-10T18_45_48-Measurement 1/acquisition/zarr/(5, 5).zarr')]"
      ]
     },
     "execution_count": 51,
     "metadata": {},
     "output_type": "execute_result"
    }
   ],
   "source": [
    "zarr_dirs = natsorted((base_dir / \"acquisition/zarr\").glob(\"*\"))\n",
    "zarr_dirs"
   ]
  },
  {
   "cell_type": "code",
   "execution_count": 52,
   "id": "7c29a127-005e-4964-8abd-f1642f6afe33",
   "metadata": {},
   "outputs": [],
   "source": [
    "zarr_dir = Path('/mnt/DATA3/BPP0050/BPP0050-1-Live-cell-to4i_Live-2__2025-04-10T18_45_48-Measurement 1/acquisition/zarr/(3, 4).zarr')"
   ]
  },
  {
   "cell_type": "code",
   "execution_count": 53,
   "id": "cf447c17-2308-4095-b78c-113b709cba36",
   "metadata": {},
   "outputs": [],
   "source": [
    "acq_ID = literal_eval(zarr_dir.stem) \n",
    "\n",
    "label_dir = f'{base_dir}/labels/{acq_ID}/'\n",
    "\n",
    "zarr_group = zarr.open_group(zarr_dir)\n",
    "\n",
    "live_2_images = zarr_group.images"
   ]
  },
  {
   "cell_type": "code",
   "execution_count": 54,
   "id": "2692ead8-a01d-40f1-a65b-8980c29dd8bf",
   "metadata": {},
   "outputs": [
    {
     "data": {
      "text/plain": [
       "'/mnt/DATA3/BPP0050/BPP0050-1-Live-cell-to4i_Live-2__2025-04-10T18_45_48-Measurement 1/labels/(3, 4)/'"
      ]
     },
     "execution_count": 54,
     "metadata": {},
     "output_type": "execute_result"
    }
   ],
   "source": [
    "label_dir"
   ]
  },
  {
   "cell_type": "code",
   "execution_count": 55,
   "id": "7a83aef5-559a-45e7-ad3c-b8a9b7c7a2b5",
   "metadata": {},
   "outputs": [],
   "source": [
    "tracks_fn = Path(label_dir , 'trackastra/*.tif')"
   ]
  },
  {
   "cell_type": "code",
   "execution_count": 56,
   "id": "bad01918-84e6-4ad0-9c2f-c46e76330ff9",
   "metadata": {},
   "outputs": [],
   "source": [
    "masks_fns = sorted(Path(label_dir).rglob('trackastra/*.tif'))\n",
    "masks_live_2 = np.stack([imread(fn) for fn in masks_fns], axis=0)"
   ]
  },
  {
   "cell_type": "code",
   "execution_count": 68,
   "id": "43ea26ee-23b7-4b7b-abbf-f5dfbcce310c",
   "metadata": {},
   "outputs": [
    {
     "data": {
      "text/plain": [
       "<Labels layer 'masks_live_2' at 0x7f08c86c5390>"
      ]
     },
     "execution_count": 68,
     "metadata": {},
     "output_type": "execute_result"
    }
   ],
   "source": [
    "viewer.add_labels(masks_live_2)"
   ]
  },
  {
   "cell_type": "code",
   "execution_count": 57,
   "id": "67874550-1803-4db0-a08a-f1474b2e8fce",
   "metadata": {},
   "outputs": [],
   "source": [
    "masks = np.concatenate([masks_live_1, masks_live_2], axis = 0)"
   ]
  },
  {
   "cell_type": "code",
   "execution_count": 58,
   "id": "439b1945-c90d-4f70-b614-e9292b2d1abe",
   "metadata": {},
   "outputs": [
    {
     "data": {
      "text/plain": [
       "((48, 6911, 6911), (144, 6911, 6911), (192, 6911, 6911))"
      ]
     },
     "execution_count": 58,
     "metadata": {},
     "output_type": "execute_result"
    }
   ],
   "source": [
    "masks_live_1.shape, masks_live_2.shape, masks.shape\n"
   ]
  },
  {
   "cell_type": "code",
   "execution_count": null,
   "id": "9f482cc4-48f6-4b95-b8c6-1a343f312cd4",
   "metadata": {},
   "outputs": [],
   "source": [
    "masks_live_1 = masks_live_2 = 0"
   ]
  },
  {
   "cell_type": "code",
   "execution_count": 61,
   "id": "f9b4f5b9-5bd5-4c27-9573-39ef2133f6b6",
   "metadata": {},
   "outputs": [
    {
     "data": {
      "text/plain": [
       "<Labels layer 'masks' at 0x7f068854f0a0>"
      ]
     },
     "execution_count": 61,
     "metadata": {},
     "output_type": "execute_result"
    }
   ],
   "source": [
    "viewer.add_labels(masks)"
   ]
  },
  {
   "cell_type": "code",
   "execution_count": 62,
   "id": "2bbaceb9-d667-43e6-b171-20f5381944c2",
   "metadata": {},
   "outputs": [
    {
     "name": "stdout",
     "output_type": "stream",
     "text": [
      "CPU times: user 36.3 s, sys: 48.6 s, total: 1min 24s\n",
      "Wall time: 46 s\n"
     ]
    }
   ],
   "source": [
    "%%time \n",
    "bf_live_1 = live_1_images[:,-1,0,...]"
   ]
  },
  {
   "cell_type": "code",
   "execution_count": 83,
   "id": "03e3714f-62bb-42f5-869a-8d6d59c2038c",
   "metadata": {},
   "outputs": [
    {
     "data": {
      "text/plain": [
       "<Image layer 'bf_live_1' at 0x7f08cbf8fbb0>"
      ]
     },
     "execution_count": 83,
     "metadata": {},
     "output_type": "execute_result"
    }
   ],
   "source": [
    "viewer.add_image(bf_live_1)"
   ]
  },
  {
   "cell_type": "code",
   "execution_count": 23,
   "id": "9e635f18-5f09-4fb1-8035-5fffe25866a1",
   "metadata": {},
   "outputs": [
    {
     "name": "stdout",
     "output_type": "stream",
     "text": [
      "CPU times: user 36.2 s, sys: 48.4 s, total: 1min 24s\n",
      "Wall time: 28.5 s\n"
     ]
    }
   ],
   "source": [
    "%%time \n",
    "dpc_live_1 = live_1_images[:,0,0,...]"
   ]
  },
  {
   "cell_type": "code",
   "execution_count": 82,
   "id": "8a49d0c2-05c4-4ca3-82a1-a6ccb3d8ad17",
   "metadata": {},
   "outputs": [
    {
     "data": {
      "text/plain": [
       "<Image layer 'dpc_live_1' at 0x7f08c8b7c700>"
      ]
     },
     "execution_count": 82,
     "metadata": {},
     "output_type": "execute_result"
    }
   ],
   "source": [
    "viewer.add_image(dpc_live_1)"
   ]
  },
  {
   "cell_type": "code",
   "execution_count": 63,
   "id": "e8edda36-b3c5-42b2-a62c-c1f0582ca3b4",
   "metadata": {},
   "outputs": [
    {
     "name": "stdout",
     "output_type": "stream",
     "text": [
      "CPU times: user 2min 56s, sys: 1min 17s, total: 4min 14s\n",
      "Wall time: 1min 13s\n"
     ]
    }
   ],
   "source": [
    "%%time \n",
    "bf_live_2 = live_2_images[:,-1,0,...]"
   ]
  },
  {
   "cell_type": "code",
   "execution_count": 25,
   "id": "7a83246e-da5b-4d6b-b364-42dfdc16c76b",
   "metadata": {},
   "outputs": [
    {
     "name": "stdout",
     "output_type": "stream",
     "text": [
      "CPU times: user 2min 56s, sys: 1min 17s, total: 4min 14s\n",
      "Wall time: 1min 13s\n"
     ]
    }
   ],
   "source": [
    "%%time \n",
    "dpc_live_2 = live_2_images[:,0,0,...]"
   ]
  },
  {
   "cell_type": "code",
   "execution_count": 26,
   "id": "88e92631-5743-45f8-a288-783d4f8fb375",
   "metadata": {},
   "outputs": [
    {
     "name": "stdout",
     "output_type": "stream",
     "text": [
      "CPU times: user 7.2 s, sys: 4.5 s, total: 11.7 s\n",
      "Wall time: 11.7 s\n"
     ]
    }
   ],
   "source": [
    "%%time\n",
    "live_1_bf_dpc = np.stack([bf_live_1, dpc_live_1], axis = 1)\n",
    "live_2_bf_dpc = np.stack([bf_live_2, dpc_live_2], axis = 1)"
   ]
  },
  {
   "cell_type": "code",
   "execution_count": 65,
   "id": "9d39ca78-bec6-4ded-8829-bf41b2795992",
   "metadata": {},
   "outputs": [
    {
     "data": {
      "text/plain": [
       "(144, 6911, 6911)"
      ]
     },
     "execution_count": 65,
     "metadata": {},
     "output_type": "execute_result"
    }
   ],
   "source": [
    "bf_live_2.shape"
   ]
  },
  {
   "cell_type": "code",
   "execution_count": 66,
   "id": "3ddfbbb5-b9fe-4377-b9c2-8f7dda1518e0",
   "metadata": {},
   "outputs": [],
   "source": [
    "bf_images = np.concatenate([bf_live_1, bf_live_2], axis = 0)"
   ]
  },
  {
   "cell_type": "code",
   "execution_count": 27,
   "id": "3b3cfe68-7c33-48cf-b881-16233a27144c",
   "metadata": {
    "scrolled": true
   },
   "outputs": [],
   "source": [
    "images = np.concatenate([live_1_bf_dpc, live_2_bf_dpc], axis = 0)"
   ]
  },
  {
   "cell_type": "code",
   "execution_count": 30,
   "id": "0cb4d460-80b8-4841-84b9-5fc9b639ab28",
   "metadata": {},
   "outputs": [
    {
     "data": {
      "text/plain": [
       "(192, 2, 6911, 6911)"
      ]
     },
     "execution_count": 30,
     "metadata": {},
     "output_type": "execute_result"
    }
   ],
   "source": [
    "images.shape"
   ]
  },
  {
   "cell_type": "code",
   "execution_count": 67,
   "id": "b92a1506-13d2-407d-8f47-7a8c5cc4aac1",
   "metadata": {},
   "outputs": [
    {
     "data": {
      "text/plain": [
       "<Image layer 'bf_images' at 0x7f06ab765db0>"
      ]
     },
     "execution_count": 67,
     "metadata": {},
     "output_type": "execute_result"
    }
   ],
   "source": [
    "viewer.add_image(bf_images)"
   ]
  },
  {
   "cell_type": "code",
   "execution_count": 89,
   "id": "5af8f81f-2c6d-4686-b0d6-cf6ddf09ea13",
   "metadata": {},
   "outputs": [
    {
     "data": {
      "text/plain": [
       "[<Image layer 'Image' at 0x7f08cc491b10>,\n",
       " <Image layer 'Image [1]' at 0x7f08cc6f8190>]"
      ]
     },
     "execution_count": 89,
     "metadata": {},
     "output_type": "execute_result"
    }
   ],
   "source": [
    "viewer.add_image(images, channel_axis=1)"
   ]
  },
  {
   "cell_type": "markdown",
   "id": "853cfd0b-1520-4c88-a1ec-582385fb87d2",
   "metadata": {},
   "source": [
    "# Free up memory"
   ]
  },
  {
   "cell_type": "code",
   "execution_count": 93,
   "id": "d2fdc981-3cbc-4614-9978-3e628fdaa28a",
   "metadata": {},
   "outputs": [
    {
     "name": "stdout",
     "output_type": "stream",
     "text": [
      "Largest variables in memory:\n",
      "bf_dapi_images: 19039.61 MB\n",
      "masks_extended: 19039.61 MB\n",
      "corrected: 19039.61 MB\n",
      "all_vars: 0.00 MB\n",
      "vars_to_check: 0.00 MB\n",
      "masks_fns: 0.00 MB\n",
      "tqdm: 0.00 MB\n",
      "In: 0.00 MB\n",
      "Path: 0.00 MB\n",
      "Out: 0.00 MB\n"
     ]
    }
   ],
   "source": [
    "import sys\n",
    "\n",
    "# Get a dictionary of all variables in the current scope\n",
    "all_vars = globals().copy()\n",
    "\n",
    "# Remove built-in variables and some special ones\n",
    "to_exclude = ['__name__', '__doc__', '__package__', '__loader__', '__spec__', '__builtin__', '__builtins__']\n",
    "vars_to_check = {k: v for k, v in all_vars.items() if not k.startswith('_') and k not in to_exclude}\n",
    "\n",
    "# Function to get the size of an object in bytes\n",
    "def get_size(obj):\n",
    "    return sys.getsizeof(obj)\n",
    "\n",
    "# Get the size of each variable\n",
    "var_sizes = [(k, get_size(v)) for k, v in vars_to_check.items()]\n",
    "\n",
    "# Sort by size in descending order\n",
    "sorted_vars = sorted(var_sizes, key=lambda item: item[1], reverse=True)\n",
    "\n",
    "# Print the largest variables\n",
    "print(\"Largest variables in memory:\")\n",
    "for name, size in sorted_vars[:10]:  # Display the top 10 largest\n",
    "    print(f\"{name}: {size / (1024 * 1024):.2f} MB\")"
   ]
  },
  {
   "cell_type": "code",
   "execution_count": 69,
   "id": "54e135a8-405a-46f8-8431-e8e25d48fd8a",
   "metadata": {},
   "outputs": [],
   "source": [
    "del masks_live_2\n",
    "del bf_live_2\n",
    "del masks_live_1\n",
    "del bf_live_1"
   ]
  },
  {
   "cell_type": "code",
   "execution_count": 70,
   "id": "0bdf0c5d-b1dc-4846-9066-b5189a8ee865",
   "metadata": {},
   "outputs": [],
   "source": [
    "masks_live_2 = bf_live_2 = masks_live_1 = bf_live_1 = None"
   ]
  },
  {
   "cell_type": "code",
   "execution_count": 92,
   "id": "2fbcda31-a1e1-4540-b632-3fd6d2e624ca",
   "metadata": {},
   "outputs": [],
   "source": [
    "masks = bf_images = all_round_images = padding = None"
   ]
  },
  {
   "cell_type": "markdown",
   "id": "fdd7036e-9734-4e47-955c-39d9ff719123",
   "metadata": {},
   "source": [
    "# Add multiplexed data"
   ]
  },
  {
   "cell_type": "code",
   "execution_count": 72,
   "id": "ce6583b6-e062-4b72-a1cc-b98666155828",
   "metadata": {},
   "outputs": [],
   "source": [
    "zarr_dir = Path('/mnt/DATA3/BPP0050/multiplexed.zarr/3_4')"
   ]
  },
  {
   "cell_type": "code",
   "execution_count": 73,
   "id": "7169ea0b-5566-4b2f-8c74-a720126e40b0",
   "metadata": {},
   "outputs": [],
   "source": [
    "zarr_group = zarr.open_group(zarr_dir)"
   ]
  },
  {
   "cell_type": "code",
   "execution_count": 74,
   "id": "9aa46052-cb49-4e2d-8800-bc522a01ad1c",
   "metadata": {},
   "outputs": [],
   "source": [
    "multiplex_images = zarr_group.images"
   ]
  },
  {
   "cell_type": "code",
   "execution_count": 75,
   "id": "d7636eb6-bcdb-4c85-b870-a9fc97bf7e0f",
   "metadata": {},
   "outputs": [
    {
     "data": {
      "text/plain": [
       "<zarr.core.Array '/images' (17, 1, 4, 8, 6911, 6911) uint16>"
      ]
     },
     "execution_count": 75,
     "metadata": {},
     "output_type": "execute_result"
    }
   ],
   "source": [
    "multiplex_images"
   ]
  },
  {
   "cell_type": "code",
   "execution_count": 143,
   "id": "930c8251-743c-4557-8f8e-6aa71c709f76",
   "metadata": {},
   "outputs": [],
   "source": [
    "all_round_images"
   ]
  },
  {
   "cell_type": "code",
   "execution_count": 144,
   "id": "853a27bc-3166-4177-9812-d556d6c6da9b",
   "metadata": {},
   "outputs": [
    {
     "name": "stdout",
     "output_type": "stream",
     "text": [
      "CPU times: user 30.6 s, sys: 1min 26s, total: 1min 57s\n",
      "Wall time: 2min 41s\n"
     ]
    }
   ],
   "source": [
    "%%time\n",
    "all_round_images = multiplex_images[:,0,0,4,...]"
   ]
  },
  {
   "cell_type": "code",
   "execution_count": 145,
   "id": "8339eea2-b3e1-4783-ab1f-a7358002a3e4",
   "metadata": {},
   "outputs": [
    {
     "data": {
      "text/plain": [
       "(17, 6911, 6911)"
      ]
     },
     "execution_count": 145,
     "metadata": {},
     "output_type": "execute_result"
    }
   ],
   "source": [
    "all_round_images.shape"
   ]
  },
  {
   "cell_type": "code",
   "execution_count": 147,
   "id": "82e6b7b4-a445-4f4f-aac7-3aba3c3a0cf5",
   "metadata": {},
   "outputs": [
    {
     "data": {
      "text/plain": [
       "<Image layer 'all_round_images' at 0x7f088d0a54e0>"
      ]
     },
     "execution_count": 147,
     "metadata": {},
     "output_type": "execute_result"
    },
    {
     "name": "stdout",
     "output_type": "stream",
     "text": [
      "Rendering frames...\n"
     ]
    },
    {
     "name": "stderr",
     "output_type": "stream",
     "text": [
      "  0%|                                                                                                                                                             | 0/192 [00:00<?, ?it/s]IMAGEIO FFMPEG_WRITER WARNING: input image is not divisible by macro_block_size=16, resizing from (1055, 964) to (1056, 976) to ensure video compatibility with most codecs and players. To prevent resizing, make your input image divisible by the macro_block_size or set the macro_block_size to 1 (risking incompatibility).\n",
      "  1%|▊                                                                                                                                                    | 1/192 [00:03<09:57,  3.13s/it][swscaler @ 0x55771bed2300] Warning: data is not aligned! This can lead to a speed loss\n",
      "100%|███████████████████████████████████████████████████████████████████████████████████████████████████████████████████████████████████████████████████| 192/192 [00:52<00:00,  3.67it/s]\n"
     ]
    }
   ],
   "source": [
    "viewer.add_image(all_round_images)"
   ]
  },
  {
   "cell_type": "code",
   "execution_count": 78,
   "id": "274ee685-716b-4f84-899d-a4c4e5f27a58",
   "metadata": {},
   "outputs": [
    {
     "name": "stdout",
     "output_type": "stream",
     "text": [
      "CPU times: user 4.42 s, sys: 2.51 s, total: 6.93 s\n",
      "Wall time: 6.96 s\n"
     ]
    }
   ],
   "source": [
    "%%time\n",
    "bf_dapi_images = np.concatenate([bf_images, all_round_images], axis = 0)"
   ]
  },
  {
   "cell_type": "code",
   "execution_count": 80,
   "id": "a1face31-2f35-402d-97b8-cdfaa6787268",
   "metadata": {},
   "outputs": [
    {
     "data": {
      "text/plain": [
       "(209, 6911, 6911)"
      ]
     },
     "execution_count": 80,
     "metadata": {},
     "output_type": "execute_result"
    }
   ],
   "source": [
    "bf_dapi_images.shape"
   ]
  },
  {
   "cell_type": "code",
   "execution_count": 83,
   "id": "36dab2e2-08e5-4583-b514-f2eeb15219dc",
   "metadata": {},
   "outputs": [],
   "source": [
    "# Calculate how many frames need to be added\n",
    "n_missing = bf_dapi_images.shape[0] - masks.shape[0]\n",
    "\n",
    "# Get the last mask frame\n",
    "last_frame = masks[-1:]\n",
    "\n",
    "# Repeat the last frame n_missing times\n",
    "padding = np.repeat(last_frame, n_missing, axis=0)\n",
    "\n",
    "# Concatenate to extend masks\n",
    "masks_extended = np.concatenate([masks, padding], axis=0)\n"
   ]
  },
  {
   "cell_type": "code",
   "execution_count": 81,
   "id": "fcd38395-1ef0-4575-9e85-60f8138d3e1a",
   "metadata": {},
   "outputs": [
    {
     "data": {
      "text/plain": [
       "<Image layer 'bf_dapi_images' at 0x7f0694a8c7c0>"
      ]
     },
     "execution_count": 81,
     "metadata": {},
     "output_type": "execute_result"
    }
   ],
   "source": [
    "viewer.add_image(bf_dapi_images)"
   ]
  },
  {
   "cell_type": "code",
   "execution_count": 84,
   "id": "5e0e931f-eae7-4c6d-a776-3dca419c78c9",
   "metadata": {},
   "outputs": [
    {
     "data": {
      "text/plain": [
       "<Labels layer 'masks_extended' at 0x7f0693abfaf0>"
      ]
     },
     "execution_count": 84,
     "metadata": {},
     "output_type": "execute_result"
    },
    {
     "name": "stdout",
     "output_type": "stream",
     "text": [
      "Rendering frames...\n"
     ]
    },
    {
     "name": "stderr",
     "output_type": "stream",
     "text": [
      "  0%|                                                                                                                                                             | 0/211 [00:00<?, ?it/s]IMAGEIO FFMPEG_WRITER WARNING: input image is not divisible by macro_block_size=16, resizing from (1055, 964) to (1056, 976) to ensure video compatibility with most codecs and players. To prevent resizing, make your input image divisible by the macro_block_size or set the macro_block_size to 1 (risking incompatibility).\n",
      "  0%|▋                                                                                                                                                    | 1/211 [00:00<01:35,  2.21it/s][swscaler @ 0x562e11305300] Warning: data is not aligned! This can lead to a speed loss\n",
      "100%|███████████████████████████████████████████████████████████████████████████████████████████████████████████████████████████████████████████████████| 211/211 [00:22<00:00,  9.52it/s]\n"
     ]
    },
    {
     "name": "stdout",
     "output_type": "stream",
     "text": [
      "Rendering frames...\n"
     ]
    },
    {
     "name": "stderr",
     "output_type": "stream",
     "text": [
      "  0%|                                                                                                                                                             | 0/421 [00:00<?, ?it/s]IMAGEIO FFMPEG_WRITER WARNING: input image is not divisible by macro_block_size=16, resizing from (1055, 964) to (1056, 976) to ensure video compatibility with most codecs and players. To prevent resizing, make your input image divisible by the macro_block_size or set the macro_block_size to 1 (risking incompatibility).\n",
      "  0%|▎                                                                                                                                                    | 1/421 [00:00<01:47,  3.90it/s][swscaler @ 0x55dbd87b1300] Warning: data is not aligned! This can lead to a speed loss\n",
      "100%|███████████████████████████████████████████████████████████████████████████████████████████████████████████████████████████████████████████████████| 421/421 [00:31<00:00, 13.23it/s]\n",
      "WARNING: QXcbConnection: XCB error: 3 (BadWindow), sequence: 12064, resource id: 65388897, major code: 25 (SendEvent), minor code: 0\n",
      "WARNING: QXcbConnection: XCB error: 3 (BadWindow), sequence: 12066, resource id: 65388900, major code: 18 (ChangeProperty), minor code: 0\n",
      "WARNING: QXcbConnection: XCB error: 3 (BadWindow), sequence: 12067, resource id: 65388900, major code: 25 (SendEvent), minor code: 0\n",
      "WARNING: QXcbConnection: XCB error: 3 (BadWindow), sequence: 12070, resource id: 65388903, major code: 25 (SendEvent), minor code: 0\n"
     ]
    },
    {
     "name": "stdout",
     "output_type": "stream",
     "text": [
      "Rendering frames...\n"
     ]
    },
    {
     "name": "stderr",
     "output_type": "stream",
     "text": [
      "  0%|                                                                                                                                                             | 0/211 [00:00<?, ?it/s]IMAGEIO FFMPEG_WRITER WARNING: input image is not divisible by macro_block_size=16, resizing from (1055, 964) to (1056, 976) to ensure video compatibility with most codecs and players. To prevent resizing, make your input image divisible by the macro_block_size or set the macro_block_size to 1 (risking incompatibility).\n",
      "  0%|▋                                                                                                                                                    | 1/211 [00:00<01:19,  2.65it/s][swscaler @ 0x559072eda300] Warning: data is not aligned! This can lead to a speed loss\n",
      "100%|███████████████████████████████████████████████████████████████████████████████████████████████████████████████████████████████████████████████████| 211/211 [00:29<00:00,  7.13it/s]\n"
     ]
    }
   ],
   "source": [
    "viewer.add_labels(masks_extended)"
   ]
  },
  {
   "cell_type": "markdown",
   "id": "94e92cc0-a448-4b30-a04b-68508ec36f15",
   "metadata": {},
   "source": [
    "# Inspect transition 1"
   ]
  },
  {
   "cell_type": "code",
   "execution_count": 95,
   "id": "b1e06e60-e428-4d92-860b-1bc18e528a17",
   "metadata": {},
   "outputs": [],
   "source": [
    "np.save('/mnt/DATA3/BPP0050/temp_alignment/bf_dapi_images.npy', bf_dapi_images)\n",
    "np.save('/mnt/DATA3/BPP0050/temp_alignment/masks_extended.npy', masks_extended)\n"
   ]
  },
  {
   "cell_type": "code",
   "execution_count": 2,
   "id": "9c1a61d2-cdca-4e80-9656-7bebaad61abd",
   "metadata": {},
   "outputs": [
    {
     "name": "stdout",
     "output_type": "stream",
     "text": [
      "bf_dapi_images shape: (209, 6911, 6911)\n",
      "masks_extended shape: (209, 6911, 6911)\n"
     ]
    }
   ],
   "source": [
    "# Load saved arrays\n",
    "bf_dapi_images = np.load('/mnt/DATA3/BPP0050/temp_alignment/bf_dapi_images.npy')\n",
    "masks_extended = np.load('/mnt/DATA3/BPP0050/temp_alignment/masks_extended.npy')\n",
    "\n",
    "print(\"bf_dapi_images shape:\", bf_dapi_images.shape)\n",
    "print(\"masks_extended shape:\", masks_extended.shape)"
   ]
  },
  {
   "cell_type": "code",
   "execution_count": 101,
   "id": "d3d7bbaf-e753-4d55-bb08-14def371e88b",
   "metadata": {},
   "outputs": [
    {
     "data": {
      "text/plain": [
       "array([[  47.        , 3221.38923012, 3371.61110116],\n",
       "       [  48.        , 2997.65073021, 2618.35815147],\n",
       "       [  47.        , 3064.77228018, 3393.98495116],\n",
       "       [  48.        , 2833.57583028, 2618.35815147]])"
      ]
     },
     "execution_count": 101,
     "metadata": {},
     "output_type": "execute_result"
    }
   ],
   "source": [
    "viewer.layers['Points'].data"
   ]
  },
  {
   "cell_type": "code",
   "execution_count": 3,
   "id": "c7c34c2d-54d6-4a44-a112-0f30d81b4ddc",
   "metadata": {},
   "outputs": [],
   "source": [
    "# (Y, X) coordinates from frame 47 and 48\n",
    "points_47 = np.array([\n",
    "    [3221.38923012, 3371.61110116],\n",
    "    [3064.77228018, 3393.98495116]\n",
    "])\n",
    "\n",
    "points_48 = np.array([\n",
    "    [2997.65073021, 2618.35815147],\n",
    "    [2833.57583028, 2618.35815147]\n",
    "])\n",
    "\n",
    "# Compute average shift: how much 48 is displaced from 47\n",
    "shift_observed = translation_vector = np.mean(points_48 - points_47, axis=0)  # [ΔY, ΔX]\n",
    "\n"
   ]
  },
  {
   "cell_type": "code",
   "execution_count": 115,
   "id": "dfb60d8d-0291-4cc3-aac2-66d687ee6398",
   "metadata": {},
   "outputs": [
    {
     "data": {
      "text/plain": [
       "array([-227.46747491, -764.43987469])"
      ]
     },
     "execution_count": 115,
     "metadata": {},
     "output_type": "execute_result"
    }
   ],
   "source": [
    "translation_vector"
   ]
  },
  {
   "cell_type": "code",
   "execution_count": 4,
   "id": "24bcb93f-61a1-4d41-8761-ebd734bcae0e",
   "metadata": {},
   "outputs": [],
   "source": [
    "from scipy.ndimage import shift"
   ]
  },
  {
   "cell_type": "code",
   "execution_count": 5,
   "id": "c999a86f-302e-48a7-bf54-1f9015462de2",
   "metadata": {},
   "outputs": [
    {
     "name": "stdout",
     "output_type": "stream",
     "text": [
      "duplicated\n"
     ]
    },
    {
     "data": {
      "application/vnd.jupyter.widget-view+json": {
       "model_id": "747e200ebd48471ca572c39c66b01d7d",
       "version_major": 2,
       "version_minor": 0
      },
      "text/plain": [
       "  0%|          | 0/161 [00:00<?, ?it/s]"
      ]
     },
     "metadata": {},
     "output_type": "display_data"
    }
   ],
   "source": [
    "\n",
    "undo_shift = -shift_observed\n",
    "# Apply the translation to the relevant slice\n",
    "corrected = bf_dapi_images.copy()\n",
    "print('duplicated')\n",
    "for i in tqdm(range(48, corrected.shape[0]), total = len(range(48, corrected.shape[0]))):\n",
    "    corrected[i] = shift(bf_dapi_images[i], shift=undo_shift, order=0, mode='nearest')\n"
   ]
  },
  {
   "cell_type": "code",
   "execution_count": 6,
   "id": "8848262e-f9c3-4a4a-8d78-5bdbb73046ac",
   "metadata": {},
   "outputs": [
    {
     "name": "stdout",
     "output_type": "stream",
     "text": [
      "duplicated\n"
     ]
    },
    {
     "data": {
      "application/vnd.jupyter.widget-view+json": {
       "model_id": "e5a86b8c2e8141eda71d90fa49cc6b9e",
       "version_major": 2,
       "version_minor": 0
      },
      "text/plain": [
       "  0%|          | 0/161 [00:00<?, ?it/s]"
      ]
     },
     "metadata": {},
     "output_type": "display_data"
    }
   ],
   "source": [
    "corrected_masks = masks_extended.copy()\n",
    "    \n",
    "print('duplicated')\n",
    "for i in tqdm(range(48, corrected_masks.shape[0]), total = len(range(48, corrected_masks.shape[0]))):\n",
    "    corrected_masks[i] = shift(masks_extended[i], shift=undo_shift, order=0, mode='nearest')\n"
   ]
  },
  {
   "cell_type": "code",
   "execution_count": 129,
   "id": "59d70836-6ed4-484b-989e-fb3b0c3ec8ac",
   "metadata": {},
   "outputs": [
    {
     "data": {
      "text/plain": [
       "<Labels layer 'corrected_masks [1]' at 0x7f06a8fcabc0>"
      ]
     },
     "execution_count": 129,
     "metadata": {},
     "output_type": "execute_result"
    }
   ],
   "source": [
    "viewer.add_labels(corrected_masks)"
   ]
  },
  {
   "cell_type": "code",
   "execution_count": 130,
   "id": "16766618-dda3-4895-a1e4-16b0ebc31496",
   "metadata": {},
   "outputs": [],
   "source": [
    "np.save('/mnt/DATA3/BPP0050/temp_alignment/bf_dapi_images_corrected.npy', corrected)\n",
    "np.save('/mnt/DATA3/BPP0050/temp_alignment/masks_extended_corrected.npy', corrected_masks)\n"
   ]
  },
  {
   "cell_type": "code",
   "execution_count": 7,
   "id": "b65fa6ec-c485-419e-8cb6-1b7700be5929",
   "metadata": {},
   "outputs": [],
   "source": [
    "import numpy as np\n",
    "from scipy.stats import mode\n",
    "from skimage.measure import regionprops\n",
    "from tqdm.auto import tqdm\n",
    "\n",
    "def relabel_with_previous_overlap(masks):\n",
    "    relabeled = masks.copy()\n",
    "\n",
    "    for t in tqdm(range(48, masks.shape[0]), desc=\"Relabeling masks\"):\n",
    "        prev_frame = relabeled[t - 1]\n",
    "        curr_frame = relabeled[t]\n",
    "\n",
    "        new_frame = np.zeros_like(curr_frame)\n",
    "\n",
    "        # For each region in current frame\n",
    "        for region in regionprops(curr_frame):\n",
    "            label = region.label\n",
    "            coords = region.coords\n",
    "\n",
    "            # Find overlapping labels in previous frame\n",
    "            prev_labels = prev_frame[tuple(coords.T)]\n",
    "\n",
    "            # Get the most frequent overlapping label (excluding 0)\n",
    "            overlapping_labels = prev_labels[prev_labels > 0]\n",
    "\n",
    "            if overlapping_labels.size > 0:\n",
    "                new_label = mode(overlapping_labels, keepdims=False).mode\n",
    "            else:\n",
    "                new_label = label + 10000  # Assign a new, distinct label\n",
    "\n",
    "            new_frame[tuple(coords.T)] = new_label\n",
    "\n",
    "        relabeled[t] = new_frame\n",
    "\n",
    "    return relabeled\n",
    "\n"
   ]
  },
  {
   "cell_type": "code",
   "execution_count": 8,
   "id": "46ee116a-2476-4531-b817-49cd8f59a1bf",
   "metadata": {},
   "outputs": [
    {
     "data": {
      "application/vnd.jupyter.widget-view+json": {
       "model_id": "9330490025ce4de6b609f445ba8db416",
       "version_major": 2,
       "version_minor": 0
      },
      "text/plain": [
       "Relabeling masks:   0%|          | 0/161 [00:00<?, ?it/s]"
      ]
     },
     "metadata": {},
     "output_type": "display_data"
    }
   ],
   "source": [
    "relabelled_masks = relabel_with_previous_overlap(corrected_masks)"
   ]
  },
  {
   "cell_type": "code",
   "execution_count": 134,
   "id": "199ebf39-6126-42d4-9cf9-50f97efc3d65",
   "metadata": {},
   "outputs": [
    {
     "data": {
      "text/plain": [
       "<Labels layer 'relabelled_masks' at 0x7f088f0831f0>"
      ]
     },
     "execution_count": 134,
     "metadata": {},
     "output_type": "execute_result"
    }
   ],
   "source": [
    "viewer.add_labels(relabelled_masks)"
   ]
  },
  {
   "cell_type": "code",
   "execution_count": 9,
   "id": "bd28a2f8-cf00-4ce5-919a-fa691a724fbf",
   "metadata": {},
   "outputs": [],
   "source": [
    "np.save('/mnt/DATA3/BPP0050/temp_alignment/masks_extended_corrected_relabelled.npy', relabelled_masks)\n"
   ]
  },
  {
   "cell_type": "code",
   "execution_count": 138,
   "id": "33dbda84-23a6-41ec-a634-286337c5c41b",
   "metadata": {},
   "outputs": [
    {
     "name": "stdout",
     "output_type": "stream",
     "text": [
      "Segments in frame 48: 1032\n"
     ]
    }
   ],
   "source": [
    "\n",
    "num_segments = len(regionprops(relabelled_masks[48]))\n",
    "print(\"Segments in frame 48:\", num_segments)\n"
   ]
  },
  {
   "cell_type": "code",
   "execution_count": 139,
   "id": "c9128abd-18be-4f24-b8cb-030def906ec0",
   "metadata": {},
   "outputs": [
    {
     "data": {
      "text/plain": [
       "1720"
      ]
     },
     "execution_count": 139,
     "metadata": {},
     "output_type": "execute_result"
    }
   ],
   "source": [
    "len(regionprops(relabelled_masks[47]))"
   ]
  },
  {
   "cell_type": "code",
   "execution_count": 137,
   "id": "88120de2-e47e-4d49-94d9-abc301b0bc53",
   "metadata": {},
   "outputs": [
    {
     "data": {
      "text/plain": [
       "1033"
      ]
     },
     "execution_count": 137,
     "metadata": {},
     "output_type": "execute_result"
    }
   ],
   "source": [
    "len(np.unique(relabelled_masks[48]))"
   ]
  },
  {
   "cell_type": "markdown",
   "id": "c4ac6ddf-22c8-458d-bef9-4ec2a3a53591",
   "metadata": {},
   "source": [
    "# Adding intermediatary frame "
   ]
  },
  {
   "cell_type": "code",
   "execution_count": 10,
   "id": "8c9e2459-6c53-4296-8414-f3931ab1f998",
   "metadata": {},
   "outputs": [],
   "source": [
    "# Set the path to the Zarr store\n",
    "zarr_path = Path(\"/mnt/DATA3/BPP0050/BPP0050-1-Live-cell-to4i_Fixed_Cy1__2025-04-14T16_57_11-Measurement 1/acquisition/zarr/(3, 4).zarr\")\n",
    "\n",
    "# Open the Zarr group and load the image array\n",
    "zarr_group = zarr.open_group(zarr_path, mode='r')\n",
    "images = zarr_group['images']"
   ]
  },
  {
   "cell_type": "code",
   "execution_count": 37,
   "id": "503e73e8-3952-4908-80ee-1f9cbf890add",
   "metadata": {},
   "outputs": [],
   "source": [
    "intermed_frame = images[:,2,0,...]"
   ]
  },
  {
   "cell_type": "code",
   "execution_count": 38,
   "id": "df28539a-a3a6-456b-9bb2-b92d4512e03a",
   "metadata": {},
   "outputs": [
    {
     "data": {
      "text/plain": [
       "(1, 6911, 6911)"
      ]
     },
     "execution_count": 38,
     "metadata": {},
     "output_type": "execute_result"
    }
   ],
   "source": [
    "intermed_frame.shape"
   ]
  },
  {
   "cell_type": "code",
   "execution_count": 24,
   "id": "581ced7a-798d-4071-bfff-dd302ea12059",
   "metadata": {},
   "outputs": [],
   "source": [
    "# Step 1: remove the previous incorrect frame (at index 192)\n",
    "relabelled_masks = np.delete(relabelled_masks, 192, axis=0)\n",
    "\n",
    "# Step 2: insert the corrected intermed_frame at index 192\n",
    "relabelled_masks = np.concatenate([\n",
    "    relabelled_masks[:192],\n",
    "    intermed_frame,\n",
    "    relabelled_masks[192:]\n",
    "], axis=0)\n"
   ]
  },
  {
   "cell_type": "code",
   "execution_count": 13,
   "id": "faa45d65-bf17-4e4e-9b0a-fd6550cd2ff9",
   "metadata": {},
   "outputs": [
    {
     "name": "stdout",
     "output_type": "stream",
     "text": [
      "interleaving\n"
     ]
    }
   ],
   "source": [
    "# Insert between frames 191 and 192\n",
    "corrected = np.concatenate([\n",
    "    corrected[:192],         # up to and including frame 191\n",
    "    intermed_frame,          # the new frame\n",
    "    corrected[192:]          # from frame 192 onwards\n",
    "], axis=0)\n",
    "# Duplicate the last frame and append it\n",
    "print('interleaving')\n",
    "last_frame = relabelled_masks[-1:]\n",
    "relabelled_masks = np.concatenate([relabelled_masks, last_frame], axis=0)\n"
   ]
  },
  {
   "cell_type": "code",
   "execution_count": 25,
   "id": "56212195-eb35-48c9-b984-c0e8ca81be9d",
   "metadata": {},
   "outputs": [
    {
     "data": {
      "text/plain": [
       "<Labels layer 'relabelled_masks' at 0x7fed9c6d03a0>"
      ]
     },
     "execution_count": 25,
     "metadata": {},
     "output_type": "execute_result"
    }
   ],
   "source": [
    "viewer = napari.Viewer(title ='linking')\n",
    "\n",
    "viewer.add_image(corrected)\n",
    "viewer.add_labels(relabelled_masks)"
   ]
  },
  {
   "cell_type": "code",
   "execution_count": 31,
   "id": "77be7b85-9d25-4002-b584-36a6d06f40c6",
   "metadata": {},
   "outputs": [],
   "source": [
    "viewer = napari.Viewer(title = 'looking for link')"
   ]
  },
  {
   "cell_type": "code",
   "execution_count": 36,
   "id": "ed2a0a9c-9549-480e-8434-d679a35b2a54",
   "metadata": {},
   "outputs": [
    {
     "data": {
      "text/plain": [
       "<Image layer 'Image [2]' at 0x7feda8c5c4f0>"
      ]
     },
     "execution_count": 36,
     "metadata": {},
     "output_type": "execute_result"
    }
   ],
   "source": [
    "viewer.add_image(bf_dapi_images[190])"
   ]
  },
  {
   "cell_type": "code",
   "execution_count": 39,
   "id": "20a81b5a-3b09-4df0-a61c-69dca23d35d3",
   "metadata": {},
   "outputs": [
    {
     "data": {
      "text/plain": [
       "<Image layer 'intermed_frame' at 0x7fed9ff218a0>"
      ]
     },
     "execution_count": 39,
     "metadata": {},
     "output_type": "execute_result"
    }
   ],
   "source": [
    "viewer.add_image(intermed_frame)"
   ]
  },
  {
   "cell_type": "code",
   "execution_count": 33,
   "id": "b7ff9715-583c-4898-9080-30383823db7e",
   "metadata": {},
   "outputs": [
    {
     "data": {
      "text/plain": [
       "<Labels layer 'Labels' at 0x7feda91a59c0>"
      ]
     },
     "execution_count": 33,
     "metadata": {},
     "output_type": "execute_result"
    }
   ],
   "source": [
    "viewer.add_labels(relabelled_masks[191])"
   ]
  },
  {
   "cell_type": "code",
   "execution_count": 41,
   "id": "df1bf535-806a-4f47-835b-8144a3fe7176",
   "metadata": {},
   "outputs": [
    {
     "data": {
      "text/plain": [
       "array([[   0.        , 5184.46538947, 2570.41067026],\n",
       "       [   0.        , 5582.66295744, 2937.24103403]])"
      ]
     },
     "execution_count": 41,
     "metadata": {},
     "output_type": "execute_result"
    }
   ],
   "source": [
    "viewer.layers['Points'].data"
   ]
  },
  {
   "cell_type": "markdown",
   "id": "3ef0af42-db2d-4de1-89c0-9f1cc1849e14",
   "metadata": {},
   "source": [
    "# Create tracking"
   ]
  },
  {
   "cell_type": "code",
   "execution_count": null,
   "id": "53e459f5-1f83-4f8c-89b7-88caf871db60",
   "metadata": {},
   "outputs": [],
   "source": [
    "records = []\n",
    "label_stack = masks_live_1\n",
    "# Loop over timepoints\n",
    "for t in tqdm(range(label_stack.shape[0]), desc=\"Extracting coordinates\"):\n",
    "    labeled_img = label_stack[t]\n",
    "    for region in regionprops(labeled_img):\n",
    "        records.append([region.label, t, region.centroid[0], region.centroid[1]])\n",
    "\n",
    "# Create DataFrame with desired column order\n",
    "tracks_live_1 = pd.DataFrame(records, columns=[\"ID\", \"T\", \"Y\", \"X\"])\n",
    "\n",
    "records = []\n",
    "label_stack = masks_live_2\n",
    "# Loop over timepoints\n",
    "for t in tqdm(range(label_stack.shape[0]), desc=\"Extracting coordinates\"):\n",
    "    labeled_img = label_stack[t]\n",
    "    for region in regionprops(labeled_img):\n",
    "        records.append([region.label, t, region.centroid[0], region.centroid[1]])\n",
    "\n",
    "# Create DataFrame with desired column order\n",
    "tracks_live_2 = pd.DataFrame(records, columns=[\"ID\", \"T\", \"Y\", \"X\"])"
   ]
  },
  {
   "cell_type": "code",
   "execution_count": null,
   "id": "5aa72b5c-69e8-4df8-b900-d4678dc1ee04",
   "metadata": {},
   "outputs": [],
   "source": []
  }
 ],
 "metadata": {
  "kernelspec": {
   "display_name": "godspeed",
   "language": "python",
   "name": "godspeed"
  },
  "language_info": {
   "codemirror_mode": {
    "name": "ipython",
    "version": 3
   },
   "file_extension": ".py",
   "mimetype": "text/x-python",
   "name": "python",
   "nbconvert_exporter": "python",
   "pygments_lexer": "ipython3",
   "version": "3.10.13"
  }
 },
 "nbformat": 4,
 "nbformat_minor": 5
}
