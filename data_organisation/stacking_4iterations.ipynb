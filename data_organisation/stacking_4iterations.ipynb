{
 "cells": [
  {
   "cell_type": "code",
   "execution_count": 12,
   "id": "85ddc44f-91cd-44a7-ac87-7288ec2588bb",
   "metadata": {},
   "outputs": [],
   "source": [
    "from pathlib import Path\n",
    "import dask.array as da\n",
    "from collections import defaultdict\n",
    "import zarr\n",
    "import json\n",
    "from tqdm.auto import tqdm\n",
    "import os, glob\n",
    "from natsort import natsorted"
   ]
  },
  {
   "cell_type": "code",
   "execution_count": 17,
   "id": "cb166111-cc49-4bc1-bd3a-a32d66dcef89",
   "metadata": {},
   "outputs": [],
   "source": [
    "root_dir = Path(\"/mnt/DATA3/BPP0050\")\n",
    "\n",
    "exclude_path = root_dir / \"BPP0050-1-Live-cell-to4i_Fixed_Cy1__2025-04-14T16_57_11-Measurement 1\"\n",
    "\n",
    "def extract_cy_key(p):\n",
    "    name = p.name\n",
    "    for part in name.split('_'):\n",
    "        if part.startswith(\"Cy\"):\n",
    "            return part  # e.g. 'Cy1', 'Cy10', etc.\n",
    "    return \"\"\n",
    "\n",
    "iteration_dirs = [\n",
    "    p for p in root_dir.glob(\"*Fixed*/\")\n",
    "    if p != exclude_path\n",
    "]\n",
    "\n",
    "# Natural sort by Cy* label\n",
    "iteration_dirs = natsorted(iteration_dirs, key=extract_cy_key)\n"
   ]
  },
  {
   "cell_type": "code",
   "execution_count": 18,
   "id": "ddc2e7aa-c6e5-4267-8fb2-de9335412d74",
   "metadata": {},
   "outputs": [
    {
     "data": {
      "text/plain": [
       "[PosixPath('/mnt/DATA3/BPP0050/BPP0050-1-Live-cell-to4i_Fixed_Cy1-2__2025-04-14T18_24_32-Measurement 1'),\n",
       " PosixPath('/mnt/DATA3/BPP0050/BPP0050-1-Live-cell-to4i_Fixed_Cy2__2025-04-15T16_42_33-Measurement 3'),\n",
       " PosixPath('/mnt/DATA3/BPP0050/BPP0050-1-Live-cell-to4i_Fixed_Cy3__2025-04-16T16_15_21-Measurement 1'),\n",
       " PosixPath('/mnt/DATA3/BPP0050/BPP0050-1-Live-cell-to4i_Fixed_Cy4__2025-04-17T16_24_52-Measurement 1'),\n",
       " PosixPath('/mnt/DATA3/BPP0050/BPP0050-1-Live-cell-to4i_Fixed_Cy5__2025-04-18T16_38_51-Measurement 1'),\n",
       " PosixPath('/mnt/DATA3/BPP0050/BPP0050-1-Live-cell-to4i_Fixed_Cy6__2025-04-19T16_14_26-Measurement 1'),\n",
       " PosixPath('/mnt/DATA3/BPP0050/BPP0050-1-Live-cell-to4i_Fixed_Cy7__2025-04-20T16_03_17-Measurement 1'),\n",
       " PosixPath('/mnt/DATA3/BPP0050/BPP0050-1-Live-cell-to4i_Fixed_Cy8__2025-04-21T16_49_44-Measurement 1'),\n",
       " PosixPath('/mnt/DATA3/BPP0050/BPP0050-1-Live-cell-to4i_Fixed_Cy9__2025-04-22T18_25_01-Measurement 1'),\n",
       " PosixPath('/mnt/DATA3/BPP0050/BPP0050-1-Live-cell-to4i_Fixed_Cy10__2025-04-23T15_45_30-Measurement 1'),\n",
       " PosixPath('/mnt/DATA3/BPP0050/BPP0050-1-Live-cell-to4i_Fixed_Cy11__2025-04-24T16_08_42-Measurement 1'),\n",
       " PosixPath('/mnt/DATA3/BPP0050/BPP0050-1-Live-cell-to4i_Fixed_Cy12__2025-04-25T15_48_30-Measurement 1'),\n",
       " PosixPath('/mnt/DATA3/BPP0050/BPP0050-1-Live-cell-to4i_Fixed_Cy13__2025-04-26T16_33_47-Measurement 1'),\n",
       " PosixPath('/mnt/DATA3/BPP0050/BPP0050-1-Live-cell-to4i_Fixed_Cy14__2025-04-27T15_20_15-Measurement 1'),\n",
       " PosixPath('/mnt/DATA3/BPP0050/BPP0050-1-Live-cell-to4i_Fixed_Cy15__2025-04-28T16_14_55-Measurement 1'),\n",
       " PosixPath('/mnt/DATA3/BPP0050/BPP0050-1-Live-cell-to4i_Fixed_Cy16__2025-04-29T15_39_50-Measurement 1'),\n",
       " PosixPath('/mnt/DATA3/BPP0050/BPP0050-1-Live-cell-to4i_Fixed_Cy17__2025-04-30T18_09_02-Measurement 1')]"
      ]
     },
     "execution_count": 18,
     "metadata": {},
     "output_type": "execute_result"
    }
   ],
   "source": [
    "iteration_dirs"
   ]
  },
  {
   "cell_type": "code",
   "execution_count": 19,
   "id": "cff21627-afdf-4917-a86d-56fbe34aa976",
   "metadata": {},
   "outputs": [
    {
     "data": {
      "application/vnd.jupyter.widget-view+json": {
       "model_id": "525d7a49515f497abe2404e796c10888",
       "version_major": 2,
       "version_minor": 0
      },
      "text/plain": [
       "  0%|          | 0/17 [00:00<?, ?it/s]"
      ]
     },
     "metadata": {},
     "output_type": "display_data"
    },
    {
     "data": {
      "application/vnd.jupyter.widget-view+json": {
       "model_id": "1ce8641789834efca73a1f906d6bb2c6",
       "version_major": 2,
       "version_minor": 0
      },
      "text/plain": [
       "  0%|          | 0/21 [00:00<?, ?it/s]"
      ]
     },
     "metadata": {},
     "output_type": "display_data"
    }
   ],
   "source": [
    "# Paths\n",
    "root_dir = Path(\"/mnt/DATA3/BPP0050\")\n",
    "output_dir = root_dir / \"multiplexed\"\n",
    "output_dir.mkdir(exist_ok=True)\n",
    "\n",
    "# Collect all position-staining image paths\n",
    "pos_dict = defaultdict(list)\n",
    "\n",
    "for iter_dir in tqdm(iteration_dirs):\n",
    "    zarr_root = iter_dir / \"acquisition/zarr\"\n",
    "    for pos_zarr in zarr_root.glob(\"*.zarr\"):\n",
    "        pos_id = pos_zarr.stem  # e.g., '(2, 4)'\n",
    "        img_path = pos_zarr / \"images\"\n",
    "        if img_path.exists():\n",
    "            pos_dict[pos_id].append(img_path)\n",
    "\n",
    "# Stack across staining rounds for each position\n",
    "for pos_id, img_paths in tqdm(pos_dict.items(), total =len(pos_dict.items())):\n",
    "    arrays = [da.from_zarr(p) for p in sorted(img_paths)]\n",
    "    stacked = da.stack(arrays, axis=0)  # axis 0 is staining round (S)\n",
    "\n",
    "    # Normalize pos_id for file naming: \"(2, 4)\" → \"2_4\"\n",
    "    pos_name = pos_id.strip(\"()\").replace(\", \", \"_\")\n",
    "    out_path = output_dir / f\"{pos_name}_plexed.zarr\"\n",
    "    stacked.to_zarr(out_path, overwrite=True)\n"
   ]
  },
  {
   "cell_type": "code",
   "execution_count": 119,
   "id": "ef26cded-bf0c-44b7-af66-4990c3e76026",
   "metadata": {},
   "outputs": [
    {
     "data": {
      "text/plain": [
       "[PosixPath('/mnt/DATA3/BPP0050/BPP0050-1-Live-cell-to4i_Fixed_Cy1-2__2025-04-14T18_24_32-Measurement 1/acquisition/zarr/(5, 5).zarr/images'),\n",
       " PosixPath('/mnt/DATA3/BPP0050/BPP0050-1-Live-cell-to4i_Fixed_Cy2__2025-04-15T16_42_33-Measurement 3/acquisition/zarr/(5, 5).zarr/images'),\n",
       " PosixPath('/mnt/DATA3/BPP0050/BPP0050-1-Live-cell-to4i_Fixed_Cy3__2025-04-16T16_15_21-Measurement 1/acquisition/zarr/(5, 5).zarr/images'),\n",
       " PosixPath('/mnt/DATA3/BPP0050/BPP0050-1-Live-cell-to4i_Fixed_Cy4__2025-04-17T16_24_52-Measurement 1/acquisition/zarr/(5, 5).zarr/images'),\n",
       " PosixPath('/mnt/DATA3/BPP0050/BPP0050-1-Live-cell-to4i_Fixed_Cy5__2025-04-18T16_38_51-Measurement 1/acquisition/zarr/(5, 5).zarr/images'),\n",
       " PosixPath('/mnt/DATA3/BPP0050/BPP0050-1-Live-cell-to4i_Fixed_Cy6__2025-04-19T16_14_26-Measurement 1/acquisition/zarr/(5, 5).zarr/images'),\n",
       " PosixPath('/mnt/DATA3/BPP0050/BPP0050-1-Live-cell-to4i_Fixed_Cy7__2025-04-20T16_03_17-Measurement 1/acquisition/zarr/(5, 5).zarr/images'),\n",
       " PosixPath('/mnt/DATA3/BPP0050/BPP0050-1-Live-cell-to4i_Fixed_Cy8__2025-04-21T16_49_44-Measurement 1/acquisition/zarr/(5, 5).zarr/images'),\n",
       " PosixPath('/mnt/DATA3/BPP0050/BPP0050-1-Live-cell-to4i_Fixed_Cy9__2025-04-22T18_25_01-Measurement 1/acquisition/zarr/(5, 5).zarr/images'),\n",
       " PosixPath('/mnt/DATA3/BPP0050/BPP0050-1-Live-cell-to4i_Fixed_Cy10__2025-04-23T15_45_30-Measurement 1/acquisition/zarr/(5, 5).zarr/images'),\n",
       " PosixPath('/mnt/DATA3/BPP0050/BPP0050-1-Live-cell-to4i_Fixed_Cy11__2025-04-24T16_08_42-Measurement 1/acquisition/zarr/(5, 5).zarr/images'),\n",
       " PosixPath('/mnt/DATA3/BPP0050/BPP0050-1-Live-cell-to4i_Fixed_Cy12__2025-04-25T15_48_30-Measurement 1/acquisition/zarr/(5, 5).zarr/images'),\n",
       " PosixPath('/mnt/DATA3/BPP0050/BPP0050-1-Live-cell-to4i_Fixed_Cy13__2025-04-26T16_33_47-Measurement 1/acquisition/zarr/(5, 5).zarr/images'),\n",
       " PosixPath('/mnt/DATA3/BPP0050/BPP0050-1-Live-cell-to4i_Fixed_Cy14__2025-04-27T15_20_15-Measurement 1/acquisition/zarr/(5, 5).zarr/images'),\n",
       " PosixPath('/mnt/DATA3/BPP0050/BPP0050-1-Live-cell-to4i_Fixed_Cy15__2025-04-28T16_14_55-Measurement 1/acquisition/zarr/(5, 5).zarr/images'),\n",
       " PosixPath('/mnt/DATA3/BPP0050/BPP0050-1-Live-cell-to4i_Fixed_Cy16__2025-04-29T15_39_50-Measurement 1/acquisition/zarr/(5, 5).zarr/images'),\n",
       " PosixPath('/mnt/DATA3/BPP0050/BPP0050-1-Live-cell-to4i_Fixed_Cy17__2025-04-30T18_09_02-Measurement 1/acquisition/zarr/(5, 5).zarr/images')]"
      ]
     },
     "execution_count": 119,
     "metadata": {},
     "output_type": "execute_result"
    }
   ],
   "source": [
    "img_paths"
   ]
  },
  {
   "cell_type": "code",
   "execution_count": 118,
   "id": "0da5cc11-ef6c-40d5-84b1-08c0573e7b8f",
   "metadata": {},
   "outputs": [
    {
     "data": {
      "text/plain": [
       "defaultdict(list,\n",
       "            {'(2, 4)': [PosixPath('/mnt/DATA3/BPP0050/BPP0050-1-Live-cell-to4i_Fixed_Cy1-2__2025-04-14T18_24_32-Measurement 1/acquisition/zarr/(2, 4).zarr/images'),\n",
       "              PosixPath('/mnt/DATA3/BPP0050/BPP0050-1-Live-cell-to4i_Fixed_Cy2__2025-04-15T16_42_33-Measurement 3/acquisition/zarr/(2, 4).zarr/images'),\n",
       "              PosixPath('/mnt/DATA3/BPP0050/BPP0050-1-Live-cell-to4i_Fixed_Cy3__2025-04-16T16_15_21-Measurement 1/acquisition/zarr/(2, 4).zarr/images'),\n",
       "              PosixPath('/mnt/DATA3/BPP0050/BPP0050-1-Live-cell-to4i_Fixed_Cy4__2025-04-17T16_24_52-Measurement 1/acquisition/zarr/(2, 4).zarr/images'),\n",
       "              PosixPath('/mnt/DATA3/BPP0050/BPP0050-1-Live-cell-to4i_Fixed_Cy5__2025-04-18T16_38_51-Measurement 1/acquisition/zarr/(2, 4).zarr/images'),\n",
       "              PosixPath('/mnt/DATA3/BPP0050/BPP0050-1-Live-cell-to4i_Fixed_Cy6__2025-04-19T16_14_26-Measurement 1/acquisition/zarr/(2, 4).zarr/images'),\n",
       "              PosixPath('/mnt/DATA3/BPP0050/BPP0050-1-Live-cell-to4i_Fixed_Cy7__2025-04-20T16_03_17-Measurement 1/acquisition/zarr/(2, 4).zarr/images'),\n",
       "              PosixPath('/mnt/DATA3/BPP0050/BPP0050-1-Live-cell-to4i_Fixed_Cy8__2025-04-21T16_49_44-Measurement 1/acquisition/zarr/(2, 4).zarr/images'),\n",
       "              PosixPath('/mnt/DATA3/BPP0050/BPP0050-1-Live-cell-to4i_Fixed_Cy9__2025-04-22T18_25_01-Measurement 1/acquisition/zarr/(2, 4).zarr/images'),\n",
       "              PosixPath('/mnt/DATA3/BPP0050/BPP0050-1-Live-cell-to4i_Fixed_Cy10__2025-04-23T15_45_30-Measurement 1/acquisition/zarr/(2, 4).zarr/images'),\n",
       "              PosixPath('/mnt/DATA3/BPP0050/BPP0050-1-Live-cell-to4i_Fixed_Cy11__2025-04-24T16_08_42-Measurement 1/acquisition/zarr/(2, 4).zarr/images'),\n",
       "              PosixPath('/mnt/DATA3/BPP0050/BPP0050-1-Live-cell-to4i_Fixed_Cy12__2025-04-25T15_48_30-Measurement 1/acquisition/zarr/(2, 4).zarr/images'),\n",
       "              PosixPath('/mnt/DATA3/BPP0050/BPP0050-1-Live-cell-to4i_Fixed_Cy13__2025-04-26T16_33_47-Measurement 1/acquisition/zarr/(2, 4).zarr/images'),\n",
       "              PosixPath('/mnt/DATA3/BPP0050/BPP0050-1-Live-cell-to4i_Fixed_Cy14__2025-04-27T15_20_15-Measurement 1/acquisition/zarr/(2, 4).zarr/images'),\n",
       "              PosixPath('/mnt/DATA3/BPP0050/BPP0050-1-Live-cell-to4i_Fixed_Cy15__2025-04-28T16_14_55-Measurement 1/acquisition/zarr/(2, 4).zarr/images'),\n",
       "              PosixPath('/mnt/DATA3/BPP0050/BPP0050-1-Live-cell-to4i_Fixed_Cy16__2025-04-29T15_39_50-Measurement 1/acquisition/zarr/(2, 4).zarr/images'),\n",
       "              PosixPath('/mnt/DATA3/BPP0050/BPP0050-1-Live-cell-to4i_Fixed_Cy17__2025-04-30T18_09_02-Measurement 1/acquisition/zarr/(2, 4).zarr/images')],\n",
       "             '(3, 5)': [PosixPath('/mnt/DATA3/BPP0050/BPP0050-1-Live-cell-to4i_Fixed_Cy1-2__2025-04-14T18_24_32-Measurement 1/acquisition/zarr/(3, 5).zarr/images'),\n",
       "              PosixPath('/mnt/DATA3/BPP0050/BPP0050-1-Live-cell-to4i_Fixed_Cy2__2025-04-15T16_42_33-Measurement 3/acquisition/zarr/(3, 5).zarr/images'),\n",
       "              PosixPath('/mnt/DATA3/BPP0050/BPP0050-1-Live-cell-to4i_Fixed_Cy3__2025-04-16T16_15_21-Measurement 1/acquisition/zarr/(3, 5).zarr/images'),\n",
       "              PosixPath('/mnt/DATA3/BPP0050/BPP0050-1-Live-cell-to4i_Fixed_Cy4__2025-04-17T16_24_52-Measurement 1/acquisition/zarr/(3, 5).zarr/images'),\n",
       "              PosixPath('/mnt/DATA3/BPP0050/BPP0050-1-Live-cell-to4i_Fixed_Cy5__2025-04-18T16_38_51-Measurement 1/acquisition/zarr/(3, 5).zarr/images'),\n",
       "              PosixPath('/mnt/DATA3/BPP0050/BPP0050-1-Live-cell-to4i_Fixed_Cy6__2025-04-19T16_14_26-Measurement 1/acquisition/zarr/(3, 5).zarr/images'),\n",
       "              PosixPath('/mnt/DATA3/BPP0050/BPP0050-1-Live-cell-to4i_Fixed_Cy7__2025-04-20T16_03_17-Measurement 1/acquisition/zarr/(3, 5).zarr/images'),\n",
       "              PosixPath('/mnt/DATA3/BPP0050/BPP0050-1-Live-cell-to4i_Fixed_Cy8__2025-04-21T16_49_44-Measurement 1/acquisition/zarr/(3, 5).zarr/images'),\n",
       "              PosixPath('/mnt/DATA3/BPP0050/BPP0050-1-Live-cell-to4i_Fixed_Cy9__2025-04-22T18_25_01-Measurement 1/acquisition/zarr/(3, 5).zarr/images'),\n",
       "              PosixPath('/mnt/DATA3/BPP0050/BPP0050-1-Live-cell-to4i_Fixed_Cy10__2025-04-23T15_45_30-Measurement 1/acquisition/zarr/(3, 5).zarr/images'),\n",
       "              PosixPath('/mnt/DATA3/BPP0050/BPP0050-1-Live-cell-to4i_Fixed_Cy11__2025-04-24T16_08_42-Measurement 1/acquisition/zarr/(3, 5).zarr/images'),\n",
       "              PosixPath('/mnt/DATA3/BPP0050/BPP0050-1-Live-cell-to4i_Fixed_Cy12__2025-04-25T15_48_30-Measurement 1/acquisition/zarr/(3, 5).zarr/images'),\n",
       "              PosixPath('/mnt/DATA3/BPP0050/BPP0050-1-Live-cell-to4i_Fixed_Cy13__2025-04-26T16_33_47-Measurement 1/acquisition/zarr/(3, 5).zarr/images'),\n",
       "              PosixPath('/mnt/DATA3/BPP0050/BPP0050-1-Live-cell-to4i_Fixed_Cy14__2025-04-27T15_20_15-Measurement 1/acquisition/zarr/(3, 5).zarr/images'),\n",
       "              PosixPath('/mnt/DATA3/BPP0050/BPP0050-1-Live-cell-to4i_Fixed_Cy15__2025-04-28T16_14_55-Measurement 1/acquisition/zarr/(3, 5).zarr/images'),\n",
       "              PosixPath('/mnt/DATA3/BPP0050/BPP0050-1-Live-cell-to4i_Fixed_Cy16__2025-04-29T15_39_50-Measurement 1/acquisition/zarr/(3, 5).zarr/images'),\n",
       "              PosixPath('/mnt/DATA3/BPP0050/BPP0050-1-Live-cell-to4i_Fixed_Cy17__2025-04-30T18_09_02-Measurement 1/acquisition/zarr/(3, 5).zarr/images')],\n",
       "             '(3, 7)': [PosixPath('/mnt/DATA3/BPP0050/BPP0050-1-Live-cell-to4i_Fixed_Cy1-2__2025-04-14T18_24_32-Measurement 1/acquisition/zarr/(3, 7).zarr/images'),\n",
       "              PosixPath('/mnt/DATA3/BPP0050/BPP0050-1-Live-cell-to4i_Fixed_Cy2__2025-04-15T16_42_33-Measurement 3/acquisition/zarr/(3, 7).zarr/images'),\n",
       "              PosixPath('/mnt/DATA3/BPP0050/BPP0050-1-Live-cell-to4i_Fixed_Cy3__2025-04-16T16_15_21-Measurement 1/acquisition/zarr/(3, 7).zarr/images'),\n",
       "              PosixPath('/mnt/DATA3/BPP0050/BPP0050-1-Live-cell-to4i_Fixed_Cy4__2025-04-17T16_24_52-Measurement 1/acquisition/zarr/(3, 7).zarr/images'),\n",
       "              PosixPath('/mnt/DATA3/BPP0050/BPP0050-1-Live-cell-to4i_Fixed_Cy5__2025-04-18T16_38_51-Measurement 1/acquisition/zarr/(3, 7).zarr/images'),\n",
       "              PosixPath('/mnt/DATA3/BPP0050/BPP0050-1-Live-cell-to4i_Fixed_Cy6__2025-04-19T16_14_26-Measurement 1/acquisition/zarr/(3, 7).zarr/images'),\n",
       "              PosixPath('/mnt/DATA3/BPP0050/BPP0050-1-Live-cell-to4i_Fixed_Cy7__2025-04-20T16_03_17-Measurement 1/acquisition/zarr/(3, 7).zarr/images'),\n",
       "              PosixPath('/mnt/DATA3/BPP0050/BPP0050-1-Live-cell-to4i_Fixed_Cy8__2025-04-21T16_49_44-Measurement 1/acquisition/zarr/(3, 7).zarr/images'),\n",
       "              PosixPath('/mnt/DATA3/BPP0050/BPP0050-1-Live-cell-to4i_Fixed_Cy9__2025-04-22T18_25_01-Measurement 1/acquisition/zarr/(3, 7).zarr/images'),\n",
       "              PosixPath('/mnt/DATA3/BPP0050/BPP0050-1-Live-cell-to4i_Fixed_Cy10__2025-04-23T15_45_30-Measurement 1/acquisition/zarr/(3, 7).zarr/images'),\n",
       "              PosixPath('/mnt/DATA3/BPP0050/BPP0050-1-Live-cell-to4i_Fixed_Cy11__2025-04-24T16_08_42-Measurement 1/acquisition/zarr/(3, 7).zarr/images'),\n",
       "              PosixPath('/mnt/DATA3/BPP0050/BPP0050-1-Live-cell-to4i_Fixed_Cy12__2025-04-25T15_48_30-Measurement 1/acquisition/zarr/(3, 7).zarr/images'),\n",
       "              PosixPath('/mnt/DATA3/BPP0050/BPP0050-1-Live-cell-to4i_Fixed_Cy13__2025-04-26T16_33_47-Measurement 1/acquisition/zarr/(3, 7).zarr/images'),\n",
       "              PosixPath('/mnt/DATA3/BPP0050/BPP0050-1-Live-cell-to4i_Fixed_Cy14__2025-04-27T15_20_15-Measurement 1/acquisition/zarr/(3, 7).zarr/images'),\n",
       "              PosixPath('/mnt/DATA3/BPP0050/BPP0050-1-Live-cell-to4i_Fixed_Cy15__2025-04-28T16_14_55-Measurement 1/acquisition/zarr/(3, 7).zarr/images'),\n",
       "              PosixPath('/mnt/DATA3/BPP0050/BPP0050-1-Live-cell-to4i_Fixed_Cy16__2025-04-29T15_39_50-Measurement 1/acquisition/zarr/(3, 7).zarr/images'),\n",
       "              PosixPath('/mnt/DATA3/BPP0050/BPP0050-1-Live-cell-to4i_Fixed_Cy17__2025-04-30T18_09_02-Measurement 1/acquisition/zarr/(3, 7).zarr/images')],\n",
       "             '(2, 5)': [PosixPath('/mnt/DATA3/BPP0050/BPP0050-1-Live-cell-to4i_Fixed_Cy1-2__2025-04-14T18_24_32-Measurement 1/acquisition/zarr/(2, 5).zarr/images'),\n",
       "              PosixPath('/mnt/DATA3/BPP0050/BPP0050-1-Live-cell-to4i_Fixed_Cy2__2025-04-15T16_42_33-Measurement 3/acquisition/zarr/(2, 5).zarr/images'),\n",
       "              PosixPath('/mnt/DATA3/BPP0050/BPP0050-1-Live-cell-to4i_Fixed_Cy3__2025-04-16T16_15_21-Measurement 1/acquisition/zarr/(2, 5).zarr/images'),\n",
       "              PosixPath('/mnt/DATA3/BPP0050/BPP0050-1-Live-cell-to4i_Fixed_Cy4__2025-04-17T16_24_52-Measurement 1/acquisition/zarr/(2, 5).zarr/images'),\n",
       "              PosixPath('/mnt/DATA3/BPP0050/BPP0050-1-Live-cell-to4i_Fixed_Cy5__2025-04-18T16_38_51-Measurement 1/acquisition/zarr/(2, 5).zarr/images'),\n",
       "              PosixPath('/mnt/DATA3/BPP0050/BPP0050-1-Live-cell-to4i_Fixed_Cy6__2025-04-19T16_14_26-Measurement 1/acquisition/zarr/(2, 5).zarr/images'),\n",
       "              PosixPath('/mnt/DATA3/BPP0050/BPP0050-1-Live-cell-to4i_Fixed_Cy7__2025-04-20T16_03_17-Measurement 1/acquisition/zarr/(2, 5).zarr/images'),\n",
       "              PosixPath('/mnt/DATA3/BPP0050/BPP0050-1-Live-cell-to4i_Fixed_Cy8__2025-04-21T16_49_44-Measurement 1/acquisition/zarr/(2, 5).zarr/images'),\n",
       "              PosixPath('/mnt/DATA3/BPP0050/BPP0050-1-Live-cell-to4i_Fixed_Cy9__2025-04-22T18_25_01-Measurement 1/acquisition/zarr/(2, 5).zarr/images'),\n",
       "              PosixPath('/mnt/DATA3/BPP0050/BPP0050-1-Live-cell-to4i_Fixed_Cy10__2025-04-23T15_45_30-Measurement 1/acquisition/zarr/(2, 5).zarr/images'),\n",
       "              PosixPath('/mnt/DATA3/BPP0050/BPP0050-1-Live-cell-to4i_Fixed_Cy11__2025-04-24T16_08_42-Measurement 1/acquisition/zarr/(2, 5).zarr/images'),\n",
       "              PosixPath('/mnt/DATA3/BPP0050/BPP0050-1-Live-cell-to4i_Fixed_Cy12__2025-04-25T15_48_30-Measurement 1/acquisition/zarr/(2, 5).zarr/images'),\n",
       "              PosixPath('/mnt/DATA3/BPP0050/BPP0050-1-Live-cell-to4i_Fixed_Cy13__2025-04-26T16_33_47-Measurement 1/acquisition/zarr/(2, 5).zarr/images'),\n",
       "              PosixPath('/mnt/DATA3/BPP0050/BPP0050-1-Live-cell-to4i_Fixed_Cy14__2025-04-27T15_20_15-Measurement 1/acquisition/zarr/(2, 5).zarr/images'),\n",
       "              PosixPath('/mnt/DATA3/BPP0050/BPP0050-1-Live-cell-to4i_Fixed_Cy15__2025-04-28T16_14_55-Measurement 1/acquisition/zarr/(2, 5).zarr/images'),\n",
       "              PosixPath('/mnt/DATA3/BPP0050/BPP0050-1-Live-cell-to4i_Fixed_Cy16__2025-04-29T15_39_50-Measurement 1/acquisition/zarr/(2, 5).zarr/images'),\n",
       "              PosixPath('/mnt/DATA3/BPP0050/BPP0050-1-Live-cell-to4i_Fixed_Cy17__2025-04-30T18_09_02-Measurement 1/acquisition/zarr/(2, 5).zarr/images')],\n",
       "             '(4, 7)': [PosixPath('/mnt/DATA3/BPP0050/BPP0050-1-Live-cell-to4i_Fixed_Cy1-2__2025-04-14T18_24_32-Measurement 1/acquisition/zarr/(4, 7).zarr/images'),\n",
       "              PosixPath('/mnt/DATA3/BPP0050/BPP0050-1-Live-cell-to4i_Fixed_Cy2__2025-04-15T16_42_33-Measurement 3/acquisition/zarr/(4, 7).zarr/images'),\n",
       "              PosixPath('/mnt/DATA3/BPP0050/BPP0050-1-Live-cell-to4i_Fixed_Cy3__2025-04-16T16_15_21-Measurement 1/acquisition/zarr/(4, 7).zarr/images'),\n",
       "              PosixPath('/mnt/DATA3/BPP0050/BPP0050-1-Live-cell-to4i_Fixed_Cy4__2025-04-17T16_24_52-Measurement 1/acquisition/zarr/(4, 7).zarr/images'),\n",
       "              PosixPath('/mnt/DATA3/BPP0050/BPP0050-1-Live-cell-to4i_Fixed_Cy5__2025-04-18T16_38_51-Measurement 1/acquisition/zarr/(4, 7).zarr/images'),\n",
       "              PosixPath('/mnt/DATA3/BPP0050/BPP0050-1-Live-cell-to4i_Fixed_Cy6__2025-04-19T16_14_26-Measurement 1/acquisition/zarr/(4, 7).zarr/images'),\n",
       "              PosixPath('/mnt/DATA3/BPP0050/BPP0050-1-Live-cell-to4i_Fixed_Cy7__2025-04-20T16_03_17-Measurement 1/acquisition/zarr/(4, 7).zarr/images'),\n",
       "              PosixPath('/mnt/DATA3/BPP0050/BPP0050-1-Live-cell-to4i_Fixed_Cy8__2025-04-21T16_49_44-Measurement 1/acquisition/zarr/(4, 7).zarr/images'),\n",
       "              PosixPath('/mnt/DATA3/BPP0050/BPP0050-1-Live-cell-to4i_Fixed_Cy9__2025-04-22T18_25_01-Measurement 1/acquisition/zarr/(4, 7).zarr/images'),\n",
       "              PosixPath('/mnt/DATA3/BPP0050/BPP0050-1-Live-cell-to4i_Fixed_Cy10__2025-04-23T15_45_30-Measurement 1/acquisition/zarr/(4, 7).zarr/images'),\n",
       "              PosixPath('/mnt/DATA3/BPP0050/BPP0050-1-Live-cell-to4i_Fixed_Cy11__2025-04-24T16_08_42-Measurement 1/acquisition/zarr/(4, 7).zarr/images'),\n",
       "              PosixPath('/mnt/DATA3/BPP0050/BPP0050-1-Live-cell-to4i_Fixed_Cy12__2025-04-25T15_48_30-Measurement 1/acquisition/zarr/(4, 7).zarr/images'),\n",
       "              PosixPath('/mnt/DATA3/BPP0050/BPP0050-1-Live-cell-to4i_Fixed_Cy13__2025-04-26T16_33_47-Measurement 1/acquisition/zarr/(4, 7).zarr/images'),\n",
       "              PosixPath('/mnt/DATA3/BPP0050/BPP0050-1-Live-cell-to4i_Fixed_Cy14__2025-04-27T15_20_15-Measurement 1/acquisition/zarr/(4, 7).zarr/images'),\n",
       "              PosixPath('/mnt/DATA3/BPP0050/BPP0050-1-Live-cell-to4i_Fixed_Cy15__2025-04-28T16_14_55-Measurement 1/acquisition/zarr/(4, 7).zarr/images'),\n",
       "              PosixPath('/mnt/DATA3/BPP0050/BPP0050-1-Live-cell-to4i_Fixed_Cy16__2025-04-29T15_39_50-Measurement 1/acquisition/zarr/(4, 7).zarr/images'),\n",
       "              PosixPath('/mnt/DATA3/BPP0050/BPP0050-1-Live-cell-to4i_Fixed_Cy17__2025-04-30T18_09_02-Measurement 1/acquisition/zarr/(4, 7).zarr/images')],\n",
       "             '(3, 6)': [PosixPath('/mnt/DATA3/BPP0050/BPP0050-1-Live-cell-to4i_Fixed_Cy1-2__2025-04-14T18_24_32-Measurement 1/acquisition/zarr/(3, 6).zarr/images'),\n",
       "              PosixPath('/mnt/DATA3/BPP0050/BPP0050-1-Live-cell-to4i_Fixed_Cy2__2025-04-15T16_42_33-Measurement 3/acquisition/zarr/(3, 6).zarr/images'),\n",
       "              PosixPath('/mnt/DATA3/BPP0050/BPP0050-1-Live-cell-to4i_Fixed_Cy3__2025-04-16T16_15_21-Measurement 1/acquisition/zarr/(3, 6).zarr/images'),\n",
       "              PosixPath('/mnt/DATA3/BPP0050/BPP0050-1-Live-cell-to4i_Fixed_Cy4__2025-04-17T16_24_52-Measurement 1/acquisition/zarr/(3, 6).zarr/images'),\n",
       "              PosixPath('/mnt/DATA3/BPP0050/BPP0050-1-Live-cell-to4i_Fixed_Cy5__2025-04-18T16_38_51-Measurement 1/acquisition/zarr/(3, 6).zarr/images'),\n",
       "              PosixPath('/mnt/DATA3/BPP0050/BPP0050-1-Live-cell-to4i_Fixed_Cy6__2025-04-19T16_14_26-Measurement 1/acquisition/zarr/(3, 6).zarr/images'),\n",
       "              PosixPath('/mnt/DATA3/BPP0050/BPP0050-1-Live-cell-to4i_Fixed_Cy7__2025-04-20T16_03_17-Measurement 1/acquisition/zarr/(3, 6).zarr/images'),\n",
       "              PosixPath('/mnt/DATA3/BPP0050/BPP0050-1-Live-cell-to4i_Fixed_Cy8__2025-04-21T16_49_44-Measurement 1/acquisition/zarr/(3, 6).zarr/images'),\n",
       "              PosixPath('/mnt/DATA3/BPP0050/BPP0050-1-Live-cell-to4i_Fixed_Cy9__2025-04-22T18_25_01-Measurement 1/acquisition/zarr/(3, 6).zarr/images'),\n",
       "              PosixPath('/mnt/DATA3/BPP0050/BPP0050-1-Live-cell-to4i_Fixed_Cy10__2025-04-23T15_45_30-Measurement 1/acquisition/zarr/(3, 6).zarr/images'),\n",
       "              PosixPath('/mnt/DATA3/BPP0050/BPP0050-1-Live-cell-to4i_Fixed_Cy11__2025-04-24T16_08_42-Measurement 1/acquisition/zarr/(3, 6).zarr/images'),\n",
       "              PosixPath('/mnt/DATA3/BPP0050/BPP0050-1-Live-cell-to4i_Fixed_Cy12__2025-04-25T15_48_30-Measurement 1/acquisition/zarr/(3, 6).zarr/images'),\n",
       "              PosixPath('/mnt/DATA3/BPP0050/BPP0050-1-Live-cell-to4i_Fixed_Cy13__2025-04-26T16_33_47-Measurement 1/acquisition/zarr/(3, 6).zarr/images'),\n",
       "              PosixPath('/mnt/DATA3/BPP0050/BPP0050-1-Live-cell-to4i_Fixed_Cy14__2025-04-27T15_20_15-Measurement 1/acquisition/zarr/(3, 6).zarr/images'),\n",
       "              PosixPath('/mnt/DATA3/BPP0050/BPP0050-1-Live-cell-to4i_Fixed_Cy15__2025-04-28T16_14_55-Measurement 1/acquisition/zarr/(3, 6).zarr/images'),\n",
       "              PosixPath('/mnt/DATA3/BPP0050/BPP0050-1-Live-cell-to4i_Fixed_Cy16__2025-04-29T15_39_50-Measurement 1/acquisition/zarr/(3, 6).zarr/images'),\n",
       "              PosixPath('/mnt/DATA3/BPP0050/BPP0050-1-Live-cell-to4i_Fixed_Cy17__2025-04-30T18_09_02-Measurement 1/acquisition/zarr/(3, 6).zarr/images')],\n",
       "             '(3, 2)': [PosixPath('/mnt/DATA3/BPP0050/BPP0050-1-Live-cell-to4i_Fixed_Cy1-2__2025-04-14T18_24_32-Measurement 1/acquisition/zarr/(3, 2).zarr/images'),\n",
       "              PosixPath('/mnt/DATA3/BPP0050/BPP0050-1-Live-cell-to4i_Fixed_Cy2__2025-04-15T16_42_33-Measurement 3/acquisition/zarr/(3, 2).zarr/images'),\n",
       "              PosixPath('/mnt/DATA3/BPP0050/BPP0050-1-Live-cell-to4i_Fixed_Cy3__2025-04-16T16_15_21-Measurement 1/acquisition/zarr/(3, 2).zarr/images'),\n",
       "              PosixPath('/mnt/DATA3/BPP0050/BPP0050-1-Live-cell-to4i_Fixed_Cy4__2025-04-17T16_24_52-Measurement 1/acquisition/zarr/(3, 2).zarr/images'),\n",
       "              PosixPath('/mnt/DATA3/BPP0050/BPP0050-1-Live-cell-to4i_Fixed_Cy5__2025-04-18T16_38_51-Measurement 1/acquisition/zarr/(3, 2).zarr/images'),\n",
       "              PosixPath('/mnt/DATA3/BPP0050/BPP0050-1-Live-cell-to4i_Fixed_Cy6__2025-04-19T16_14_26-Measurement 1/acquisition/zarr/(3, 2).zarr/images'),\n",
       "              PosixPath('/mnt/DATA3/BPP0050/BPP0050-1-Live-cell-to4i_Fixed_Cy7__2025-04-20T16_03_17-Measurement 1/acquisition/zarr/(3, 2).zarr/images'),\n",
       "              PosixPath('/mnt/DATA3/BPP0050/BPP0050-1-Live-cell-to4i_Fixed_Cy8__2025-04-21T16_49_44-Measurement 1/acquisition/zarr/(3, 2).zarr/images'),\n",
       "              PosixPath('/mnt/DATA3/BPP0050/BPP0050-1-Live-cell-to4i_Fixed_Cy9__2025-04-22T18_25_01-Measurement 1/acquisition/zarr/(3, 2).zarr/images'),\n",
       "              PosixPath('/mnt/DATA3/BPP0050/BPP0050-1-Live-cell-to4i_Fixed_Cy10__2025-04-23T15_45_30-Measurement 1/acquisition/zarr/(3, 2).zarr/images'),\n",
       "              PosixPath('/mnt/DATA3/BPP0050/BPP0050-1-Live-cell-to4i_Fixed_Cy11__2025-04-24T16_08_42-Measurement 1/acquisition/zarr/(3, 2).zarr/images'),\n",
       "              PosixPath('/mnt/DATA3/BPP0050/BPP0050-1-Live-cell-to4i_Fixed_Cy12__2025-04-25T15_48_30-Measurement 1/acquisition/zarr/(3, 2).zarr/images'),\n",
       "              PosixPath('/mnt/DATA3/BPP0050/BPP0050-1-Live-cell-to4i_Fixed_Cy13__2025-04-26T16_33_47-Measurement 1/acquisition/zarr/(3, 2).zarr/images'),\n",
       "              PosixPath('/mnt/DATA3/BPP0050/BPP0050-1-Live-cell-to4i_Fixed_Cy14__2025-04-27T15_20_15-Measurement 1/acquisition/zarr/(3, 2).zarr/images'),\n",
       "              PosixPath('/mnt/DATA3/BPP0050/BPP0050-1-Live-cell-to4i_Fixed_Cy15__2025-04-28T16_14_55-Measurement 1/acquisition/zarr/(3, 2).zarr/images'),\n",
       "              PosixPath('/mnt/DATA3/BPP0050/BPP0050-1-Live-cell-to4i_Fixed_Cy16__2025-04-29T15_39_50-Measurement 1/acquisition/zarr/(3, 2).zarr/images'),\n",
       "              PosixPath('/mnt/DATA3/BPP0050/BPP0050-1-Live-cell-to4i_Fixed_Cy17__2025-04-30T18_09_02-Measurement 1/acquisition/zarr/(3, 2).zarr/images')],\n",
       "             '(3, 4)': [PosixPath('/mnt/DATA3/BPP0050/BPP0050-1-Live-cell-to4i_Fixed_Cy1-2__2025-04-14T18_24_32-Measurement 1/acquisition/zarr/(3, 4).zarr/images'),\n",
       "              PosixPath('/mnt/DATA3/BPP0050/BPP0050-1-Live-cell-to4i_Fixed_Cy2__2025-04-15T16_42_33-Measurement 3/acquisition/zarr/(3, 4).zarr/images'),\n",
       "              PosixPath('/mnt/DATA3/BPP0050/BPP0050-1-Live-cell-to4i_Fixed_Cy3__2025-04-16T16_15_21-Measurement 1/acquisition/zarr/(3, 4).zarr/images'),\n",
       "              PosixPath('/mnt/DATA3/BPP0050/BPP0050-1-Live-cell-to4i_Fixed_Cy4__2025-04-17T16_24_52-Measurement 1/acquisition/zarr/(3, 4).zarr/images'),\n",
       "              PosixPath('/mnt/DATA3/BPP0050/BPP0050-1-Live-cell-to4i_Fixed_Cy5__2025-04-18T16_38_51-Measurement 1/acquisition/zarr/(3, 4).zarr/images'),\n",
       "              PosixPath('/mnt/DATA3/BPP0050/BPP0050-1-Live-cell-to4i_Fixed_Cy6__2025-04-19T16_14_26-Measurement 1/acquisition/zarr/(3, 4).zarr/images'),\n",
       "              PosixPath('/mnt/DATA3/BPP0050/BPP0050-1-Live-cell-to4i_Fixed_Cy7__2025-04-20T16_03_17-Measurement 1/acquisition/zarr/(3, 4).zarr/images'),\n",
       "              PosixPath('/mnt/DATA3/BPP0050/BPP0050-1-Live-cell-to4i_Fixed_Cy8__2025-04-21T16_49_44-Measurement 1/acquisition/zarr/(3, 4).zarr/images'),\n",
       "              PosixPath('/mnt/DATA3/BPP0050/BPP0050-1-Live-cell-to4i_Fixed_Cy9__2025-04-22T18_25_01-Measurement 1/acquisition/zarr/(3, 4).zarr/images'),\n",
       "              PosixPath('/mnt/DATA3/BPP0050/BPP0050-1-Live-cell-to4i_Fixed_Cy10__2025-04-23T15_45_30-Measurement 1/acquisition/zarr/(3, 4).zarr/images'),\n",
       "              PosixPath('/mnt/DATA3/BPP0050/BPP0050-1-Live-cell-to4i_Fixed_Cy11__2025-04-24T16_08_42-Measurement 1/acquisition/zarr/(3, 4).zarr/images'),\n",
       "              PosixPath('/mnt/DATA3/BPP0050/BPP0050-1-Live-cell-to4i_Fixed_Cy12__2025-04-25T15_48_30-Measurement 1/acquisition/zarr/(3, 4).zarr/images'),\n",
       "              PosixPath('/mnt/DATA3/BPP0050/BPP0050-1-Live-cell-to4i_Fixed_Cy13__2025-04-26T16_33_47-Measurement 1/acquisition/zarr/(3, 4).zarr/images'),\n",
       "              PosixPath('/mnt/DATA3/BPP0050/BPP0050-1-Live-cell-to4i_Fixed_Cy14__2025-04-27T15_20_15-Measurement 1/acquisition/zarr/(3, 4).zarr/images'),\n",
       "              PosixPath('/mnt/DATA3/BPP0050/BPP0050-1-Live-cell-to4i_Fixed_Cy15__2025-04-28T16_14_55-Measurement 1/acquisition/zarr/(3, 4).zarr/images'),\n",
       "              PosixPath('/mnt/DATA3/BPP0050/BPP0050-1-Live-cell-to4i_Fixed_Cy16__2025-04-29T15_39_50-Measurement 1/acquisition/zarr/(3, 4).zarr/images'),\n",
       "              PosixPath('/mnt/DATA3/BPP0050/BPP0050-1-Live-cell-to4i_Fixed_Cy17__2025-04-30T18_09_02-Measurement 1/acquisition/zarr/(3, 4).zarr/images')],\n",
       "             '(2, 7)': [PosixPath('/mnt/DATA3/BPP0050/BPP0050-1-Live-cell-to4i_Fixed_Cy1-2__2025-04-14T18_24_32-Measurement 1/acquisition/zarr/(2, 7).zarr/images'),\n",
       "              PosixPath('/mnt/DATA3/BPP0050/BPP0050-1-Live-cell-to4i_Fixed_Cy2__2025-04-15T16_42_33-Measurement 3/acquisition/zarr/(2, 7).zarr/images'),\n",
       "              PosixPath('/mnt/DATA3/BPP0050/BPP0050-1-Live-cell-to4i_Fixed_Cy3__2025-04-16T16_15_21-Measurement 1/acquisition/zarr/(2, 7).zarr/images'),\n",
       "              PosixPath('/mnt/DATA3/BPP0050/BPP0050-1-Live-cell-to4i_Fixed_Cy4__2025-04-17T16_24_52-Measurement 1/acquisition/zarr/(2, 7).zarr/images'),\n",
       "              PosixPath('/mnt/DATA3/BPP0050/BPP0050-1-Live-cell-to4i_Fixed_Cy5__2025-04-18T16_38_51-Measurement 1/acquisition/zarr/(2, 7).zarr/images'),\n",
       "              PosixPath('/mnt/DATA3/BPP0050/BPP0050-1-Live-cell-to4i_Fixed_Cy6__2025-04-19T16_14_26-Measurement 1/acquisition/zarr/(2, 7).zarr/images'),\n",
       "              PosixPath('/mnt/DATA3/BPP0050/BPP0050-1-Live-cell-to4i_Fixed_Cy7__2025-04-20T16_03_17-Measurement 1/acquisition/zarr/(2, 7).zarr/images'),\n",
       "              PosixPath('/mnt/DATA3/BPP0050/BPP0050-1-Live-cell-to4i_Fixed_Cy8__2025-04-21T16_49_44-Measurement 1/acquisition/zarr/(2, 7).zarr/images'),\n",
       "              PosixPath('/mnt/DATA3/BPP0050/BPP0050-1-Live-cell-to4i_Fixed_Cy9__2025-04-22T18_25_01-Measurement 1/acquisition/zarr/(2, 7).zarr/images'),\n",
       "              PosixPath('/mnt/DATA3/BPP0050/BPP0050-1-Live-cell-to4i_Fixed_Cy10__2025-04-23T15_45_30-Measurement 1/acquisition/zarr/(2, 7).zarr/images'),\n",
       "              PosixPath('/mnt/DATA3/BPP0050/BPP0050-1-Live-cell-to4i_Fixed_Cy11__2025-04-24T16_08_42-Measurement 1/acquisition/zarr/(2, 7).zarr/images'),\n",
       "              PosixPath('/mnt/DATA3/BPP0050/BPP0050-1-Live-cell-to4i_Fixed_Cy12__2025-04-25T15_48_30-Measurement 1/acquisition/zarr/(2, 7).zarr/images'),\n",
       "              PosixPath('/mnt/DATA3/BPP0050/BPP0050-1-Live-cell-to4i_Fixed_Cy13__2025-04-26T16_33_47-Measurement 1/acquisition/zarr/(2, 7).zarr/images'),\n",
       "              PosixPath('/mnt/DATA3/BPP0050/BPP0050-1-Live-cell-to4i_Fixed_Cy14__2025-04-27T15_20_15-Measurement 1/acquisition/zarr/(2, 7).zarr/images'),\n",
       "              PosixPath('/mnt/DATA3/BPP0050/BPP0050-1-Live-cell-to4i_Fixed_Cy15__2025-04-28T16_14_55-Measurement 1/acquisition/zarr/(2, 7).zarr/images'),\n",
       "              PosixPath('/mnt/DATA3/BPP0050/BPP0050-1-Live-cell-to4i_Fixed_Cy16__2025-04-29T15_39_50-Measurement 1/acquisition/zarr/(2, 7).zarr/images'),\n",
       "              PosixPath('/mnt/DATA3/BPP0050/BPP0050-1-Live-cell-to4i_Fixed_Cy17__2025-04-30T18_09_02-Measurement 1/acquisition/zarr/(2, 7).zarr/images')],\n",
       "             '(3, 3)': [PosixPath('/mnt/DATA3/BPP0050/BPP0050-1-Live-cell-to4i_Fixed_Cy1-2__2025-04-14T18_24_32-Measurement 1/acquisition/zarr/(3, 3).zarr/images'),\n",
       "              PosixPath('/mnt/DATA3/BPP0050/BPP0050-1-Live-cell-to4i_Fixed_Cy2__2025-04-15T16_42_33-Measurement 3/acquisition/zarr/(3, 3).zarr/images'),\n",
       "              PosixPath('/mnt/DATA3/BPP0050/BPP0050-1-Live-cell-to4i_Fixed_Cy3__2025-04-16T16_15_21-Measurement 1/acquisition/zarr/(3, 3).zarr/images'),\n",
       "              PosixPath('/mnt/DATA3/BPP0050/BPP0050-1-Live-cell-to4i_Fixed_Cy4__2025-04-17T16_24_52-Measurement 1/acquisition/zarr/(3, 3).zarr/images'),\n",
       "              PosixPath('/mnt/DATA3/BPP0050/BPP0050-1-Live-cell-to4i_Fixed_Cy5__2025-04-18T16_38_51-Measurement 1/acquisition/zarr/(3, 3).zarr/images'),\n",
       "              PosixPath('/mnt/DATA3/BPP0050/BPP0050-1-Live-cell-to4i_Fixed_Cy6__2025-04-19T16_14_26-Measurement 1/acquisition/zarr/(3, 3).zarr/images'),\n",
       "              PosixPath('/mnt/DATA3/BPP0050/BPP0050-1-Live-cell-to4i_Fixed_Cy7__2025-04-20T16_03_17-Measurement 1/acquisition/zarr/(3, 3).zarr/images'),\n",
       "              PosixPath('/mnt/DATA3/BPP0050/BPP0050-1-Live-cell-to4i_Fixed_Cy8__2025-04-21T16_49_44-Measurement 1/acquisition/zarr/(3, 3).zarr/images'),\n",
       "              PosixPath('/mnt/DATA3/BPP0050/BPP0050-1-Live-cell-to4i_Fixed_Cy9__2025-04-22T18_25_01-Measurement 1/acquisition/zarr/(3, 3).zarr/images'),\n",
       "              PosixPath('/mnt/DATA3/BPP0050/BPP0050-1-Live-cell-to4i_Fixed_Cy10__2025-04-23T15_45_30-Measurement 1/acquisition/zarr/(3, 3).zarr/images'),\n",
       "              PosixPath('/mnt/DATA3/BPP0050/BPP0050-1-Live-cell-to4i_Fixed_Cy11__2025-04-24T16_08_42-Measurement 1/acquisition/zarr/(3, 3).zarr/images'),\n",
       "              PosixPath('/mnt/DATA3/BPP0050/BPP0050-1-Live-cell-to4i_Fixed_Cy12__2025-04-25T15_48_30-Measurement 1/acquisition/zarr/(3, 3).zarr/images'),\n",
       "              PosixPath('/mnt/DATA3/BPP0050/BPP0050-1-Live-cell-to4i_Fixed_Cy13__2025-04-26T16_33_47-Measurement 1/acquisition/zarr/(3, 3).zarr/images'),\n",
       "              PosixPath('/mnt/DATA3/BPP0050/BPP0050-1-Live-cell-to4i_Fixed_Cy14__2025-04-27T15_20_15-Measurement 1/acquisition/zarr/(3, 3).zarr/images'),\n",
       "              PosixPath('/mnt/DATA3/BPP0050/BPP0050-1-Live-cell-to4i_Fixed_Cy15__2025-04-28T16_14_55-Measurement 1/acquisition/zarr/(3, 3).zarr/images'),\n",
       "              PosixPath('/mnt/DATA3/BPP0050/BPP0050-1-Live-cell-to4i_Fixed_Cy16__2025-04-29T15_39_50-Measurement 1/acquisition/zarr/(3, 3).zarr/images'),\n",
       "              PosixPath('/mnt/DATA3/BPP0050/BPP0050-1-Live-cell-to4i_Fixed_Cy17__2025-04-30T18_09_02-Measurement 1/acquisition/zarr/(3, 3).zarr/images')],\n",
       "             '(2, 6)': [PosixPath('/mnt/DATA3/BPP0050/BPP0050-1-Live-cell-to4i_Fixed_Cy1-2__2025-04-14T18_24_32-Measurement 1/acquisition/zarr/(2, 6).zarr/images'),\n",
       "              PosixPath('/mnt/DATA3/BPP0050/BPP0050-1-Live-cell-to4i_Fixed_Cy2__2025-04-15T16_42_33-Measurement 3/acquisition/zarr/(2, 6).zarr/images'),\n",
       "              PosixPath('/mnt/DATA3/BPP0050/BPP0050-1-Live-cell-to4i_Fixed_Cy3__2025-04-16T16_15_21-Measurement 1/acquisition/zarr/(2, 6).zarr/images'),\n",
       "              PosixPath('/mnt/DATA3/BPP0050/BPP0050-1-Live-cell-to4i_Fixed_Cy4__2025-04-17T16_24_52-Measurement 1/acquisition/zarr/(2, 6).zarr/images'),\n",
       "              PosixPath('/mnt/DATA3/BPP0050/BPP0050-1-Live-cell-to4i_Fixed_Cy5__2025-04-18T16_38_51-Measurement 1/acquisition/zarr/(2, 6).zarr/images'),\n",
       "              PosixPath('/mnt/DATA3/BPP0050/BPP0050-1-Live-cell-to4i_Fixed_Cy6__2025-04-19T16_14_26-Measurement 1/acquisition/zarr/(2, 6).zarr/images'),\n",
       "              PosixPath('/mnt/DATA3/BPP0050/BPP0050-1-Live-cell-to4i_Fixed_Cy7__2025-04-20T16_03_17-Measurement 1/acquisition/zarr/(2, 6).zarr/images'),\n",
       "              PosixPath('/mnt/DATA3/BPP0050/BPP0050-1-Live-cell-to4i_Fixed_Cy8__2025-04-21T16_49_44-Measurement 1/acquisition/zarr/(2, 6).zarr/images'),\n",
       "              PosixPath('/mnt/DATA3/BPP0050/BPP0050-1-Live-cell-to4i_Fixed_Cy9__2025-04-22T18_25_01-Measurement 1/acquisition/zarr/(2, 6).zarr/images'),\n",
       "              PosixPath('/mnt/DATA3/BPP0050/BPP0050-1-Live-cell-to4i_Fixed_Cy10__2025-04-23T15_45_30-Measurement 1/acquisition/zarr/(2, 6).zarr/images'),\n",
       "              PosixPath('/mnt/DATA3/BPP0050/BPP0050-1-Live-cell-to4i_Fixed_Cy11__2025-04-24T16_08_42-Measurement 1/acquisition/zarr/(2, 6).zarr/images'),\n",
       "              PosixPath('/mnt/DATA3/BPP0050/BPP0050-1-Live-cell-to4i_Fixed_Cy12__2025-04-25T15_48_30-Measurement 1/acquisition/zarr/(2, 6).zarr/images'),\n",
       "              PosixPath('/mnt/DATA3/BPP0050/BPP0050-1-Live-cell-to4i_Fixed_Cy13__2025-04-26T16_33_47-Measurement 1/acquisition/zarr/(2, 6).zarr/images'),\n",
       "              PosixPath('/mnt/DATA3/BPP0050/BPP0050-1-Live-cell-to4i_Fixed_Cy14__2025-04-27T15_20_15-Measurement 1/acquisition/zarr/(2, 6).zarr/images'),\n",
       "              PosixPath('/mnt/DATA3/BPP0050/BPP0050-1-Live-cell-to4i_Fixed_Cy15__2025-04-28T16_14_55-Measurement 1/acquisition/zarr/(2, 6).zarr/images'),\n",
       "              PosixPath('/mnt/DATA3/BPP0050/BPP0050-1-Live-cell-to4i_Fixed_Cy16__2025-04-29T15_39_50-Measurement 1/acquisition/zarr/(2, 6).zarr/images'),\n",
       "              PosixPath('/mnt/DATA3/BPP0050/BPP0050-1-Live-cell-to4i_Fixed_Cy17__2025-04-30T18_09_02-Measurement 1/acquisition/zarr/(2, 6).zarr/images')],\n",
       "             '(3, 9)': [PosixPath('/mnt/DATA3/BPP0050/BPP0050-1-Live-cell-to4i_Fixed_Cy1-2__2025-04-14T18_24_32-Measurement 1/acquisition/zarr/(3, 9).zarr/images'),\n",
       "              PosixPath('/mnt/DATA3/BPP0050/BPP0050-1-Live-cell-to4i_Fixed_Cy2__2025-04-15T16_42_33-Measurement 3/acquisition/zarr/(3, 9).zarr/images'),\n",
       "              PosixPath('/mnt/DATA3/BPP0050/BPP0050-1-Live-cell-to4i_Fixed_Cy3__2025-04-16T16_15_21-Measurement 1/acquisition/zarr/(3, 9).zarr/images'),\n",
       "              PosixPath('/mnt/DATA3/BPP0050/BPP0050-1-Live-cell-to4i_Fixed_Cy4__2025-04-17T16_24_52-Measurement 1/acquisition/zarr/(3, 9).zarr/images'),\n",
       "              PosixPath('/mnt/DATA3/BPP0050/BPP0050-1-Live-cell-to4i_Fixed_Cy5__2025-04-18T16_38_51-Measurement 1/acquisition/zarr/(3, 9).zarr/images'),\n",
       "              PosixPath('/mnt/DATA3/BPP0050/BPP0050-1-Live-cell-to4i_Fixed_Cy6__2025-04-19T16_14_26-Measurement 1/acquisition/zarr/(3, 9).zarr/images'),\n",
       "              PosixPath('/mnt/DATA3/BPP0050/BPP0050-1-Live-cell-to4i_Fixed_Cy7__2025-04-20T16_03_17-Measurement 1/acquisition/zarr/(3, 9).zarr/images'),\n",
       "              PosixPath('/mnt/DATA3/BPP0050/BPP0050-1-Live-cell-to4i_Fixed_Cy8__2025-04-21T16_49_44-Measurement 1/acquisition/zarr/(3, 9).zarr/images'),\n",
       "              PosixPath('/mnt/DATA3/BPP0050/BPP0050-1-Live-cell-to4i_Fixed_Cy9__2025-04-22T18_25_01-Measurement 1/acquisition/zarr/(3, 9).zarr/images'),\n",
       "              PosixPath('/mnt/DATA3/BPP0050/BPP0050-1-Live-cell-to4i_Fixed_Cy10__2025-04-23T15_45_30-Measurement 1/acquisition/zarr/(3, 9).zarr/images'),\n",
       "              PosixPath('/mnt/DATA3/BPP0050/BPP0050-1-Live-cell-to4i_Fixed_Cy11__2025-04-24T16_08_42-Measurement 1/acquisition/zarr/(3, 9).zarr/images'),\n",
       "              PosixPath('/mnt/DATA3/BPP0050/BPP0050-1-Live-cell-to4i_Fixed_Cy12__2025-04-25T15_48_30-Measurement 1/acquisition/zarr/(3, 9).zarr/images'),\n",
       "              PosixPath('/mnt/DATA3/BPP0050/BPP0050-1-Live-cell-to4i_Fixed_Cy13__2025-04-26T16_33_47-Measurement 1/acquisition/zarr/(3, 9).zarr/images'),\n",
       "              PosixPath('/mnt/DATA3/BPP0050/BPP0050-1-Live-cell-to4i_Fixed_Cy14__2025-04-27T15_20_15-Measurement 1/acquisition/zarr/(3, 9).zarr/images'),\n",
       "              PosixPath('/mnt/DATA3/BPP0050/BPP0050-1-Live-cell-to4i_Fixed_Cy15__2025-04-28T16_14_55-Measurement 1/acquisition/zarr/(3, 9).zarr/images'),\n",
       "              PosixPath('/mnt/DATA3/BPP0050/BPP0050-1-Live-cell-to4i_Fixed_Cy16__2025-04-29T15_39_50-Measurement 1/acquisition/zarr/(3, 9).zarr/images'),\n",
       "              PosixPath('/mnt/DATA3/BPP0050/BPP0050-1-Live-cell-to4i_Fixed_Cy17__2025-04-30T18_09_02-Measurement 1/acquisition/zarr/(3, 9).zarr/images')],\n",
       "             '(4, 5)': [PosixPath('/mnt/DATA3/BPP0050/BPP0050-1-Live-cell-to4i_Fixed_Cy1-2__2025-04-14T18_24_32-Measurement 1/acquisition/zarr/(4, 5).zarr/images'),\n",
       "              PosixPath('/mnt/DATA3/BPP0050/BPP0050-1-Live-cell-to4i_Fixed_Cy2__2025-04-15T16_42_33-Measurement 3/acquisition/zarr/(4, 5).zarr/images'),\n",
       "              PosixPath('/mnt/DATA3/BPP0050/BPP0050-1-Live-cell-to4i_Fixed_Cy3__2025-04-16T16_15_21-Measurement 1/acquisition/zarr/(4, 5).zarr/images'),\n",
       "              PosixPath('/mnt/DATA3/BPP0050/BPP0050-1-Live-cell-to4i_Fixed_Cy4__2025-04-17T16_24_52-Measurement 1/acquisition/zarr/(4, 5).zarr/images'),\n",
       "              PosixPath('/mnt/DATA3/BPP0050/BPP0050-1-Live-cell-to4i_Fixed_Cy5__2025-04-18T16_38_51-Measurement 1/acquisition/zarr/(4, 5).zarr/images'),\n",
       "              PosixPath('/mnt/DATA3/BPP0050/BPP0050-1-Live-cell-to4i_Fixed_Cy6__2025-04-19T16_14_26-Measurement 1/acquisition/zarr/(4, 5).zarr/images'),\n",
       "              PosixPath('/mnt/DATA3/BPP0050/BPP0050-1-Live-cell-to4i_Fixed_Cy7__2025-04-20T16_03_17-Measurement 1/acquisition/zarr/(4, 5).zarr/images'),\n",
       "              PosixPath('/mnt/DATA3/BPP0050/BPP0050-1-Live-cell-to4i_Fixed_Cy8__2025-04-21T16_49_44-Measurement 1/acquisition/zarr/(4, 5).zarr/images'),\n",
       "              PosixPath('/mnt/DATA3/BPP0050/BPP0050-1-Live-cell-to4i_Fixed_Cy9__2025-04-22T18_25_01-Measurement 1/acquisition/zarr/(4, 5).zarr/images'),\n",
       "              PosixPath('/mnt/DATA3/BPP0050/BPP0050-1-Live-cell-to4i_Fixed_Cy10__2025-04-23T15_45_30-Measurement 1/acquisition/zarr/(4, 5).zarr/images'),\n",
       "              PosixPath('/mnt/DATA3/BPP0050/BPP0050-1-Live-cell-to4i_Fixed_Cy11__2025-04-24T16_08_42-Measurement 1/acquisition/zarr/(4, 5).zarr/images'),\n",
       "              PosixPath('/mnt/DATA3/BPP0050/BPP0050-1-Live-cell-to4i_Fixed_Cy12__2025-04-25T15_48_30-Measurement 1/acquisition/zarr/(4, 5).zarr/images'),\n",
       "              PosixPath('/mnt/DATA3/BPP0050/BPP0050-1-Live-cell-to4i_Fixed_Cy13__2025-04-26T16_33_47-Measurement 1/acquisition/zarr/(4, 5).zarr/images'),\n",
       "              PosixPath('/mnt/DATA3/BPP0050/BPP0050-1-Live-cell-to4i_Fixed_Cy14__2025-04-27T15_20_15-Measurement 1/acquisition/zarr/(4, 5).zarr/images'),\n",
       "              PosixPath('/mnt/DATA3/BPP0050/BPP0050-1-Live-cell-to4i_Fixed_Cy15__2025-04-28T16_14_55-Measurement 1/acquisition/zarr/(4, 5).zarr/images'),\n",
       "              PosixPath('/mnt/DATA3/BPP0050/BPP0050-1-Live-cell-to4i_Fixed_Cy16__2025-04-29T15_39_50-Measurement 1/acquisition/zarr/(4, 5).zarr/images'),\n",
       "              PosixPath('/mnt/DATA3/BPP0050/BPP0050-1-Live-cell-to4i_Fixed_Cy17__2025-04-30T18_09_02-Measurement 1/acquisition/zarr/(4, 5).zarr/images')],\n",
       "             '(4, 6)': [PosixPath('/mnt/DATA3/BPP0050/BPP0050-1-Live-cell-to4i_Fixed_Cy1-2__2025-04-14T18_24_32-Measurement 1/acquisition/zarr/(4, 6).zarr/images'),\n",
       "              PosixPath('/mnt/DATA3/BPP0050/BPP0050-1-Live-cell-to4i_Fixed_Cy2__2025-04-15T16_42_33-Measurement 3/acquisition/zarr/(4, 6).zarr/images'),\n",
       "              PosixPath('/mnt/DATA3/BPP0050/BPP0050-1-Live-cell-to4i_Fixed_Cy3__2025-04-16T16_15_21-Measurement 1/acquisition/zarr/(4, 6).zarr/images'),\n",
       "              PosixPath('/mnt/DATA3/BPP0050/BPP0050-1-Live-cell-to4i_Fixed_Cy4__2025-04-17T16_24_52-Measurement 1/acquisition/zarr/(4, 6).zarr/images'),\n",
       "              PosixPath('/mnt/DATA3/BPP0050/BPP0050-1-Live-cell-to4i_Fixed_Cy5__2025-04-18T16_38_51-Measurement 1/acquisition/zarr/(4, 6).zarr/images'),\n",
       "              PosixPath('/mnt/DATA3/BPP0050/BPP0050-1-Live-cell-to4i_Fixed_Cy6__2025-04-19T16_14_26-Measurement 1/acquisition/zarr/(4, 6).zarr/images'),\n",
       "              PosixPath('/mnt/DATA3/BPP0050/BPP0050-1-Live-cell-to4i_Fixed_Cy7__2025-04-20T16_03_17-Measurement 1/acquisition/zarr/(4, 6).zarr/images'),\n",
       "              PosixPath('/mnt/DATA3/BPP0050/BPP0050-1-Live-cell-to4i_Fixed_Cy8__2025-04-21T16_49_44-Measurement 1/acquisition/zarr/(4, 6).zarr/images'),\n",
       "              PosixPath('/mnt/DATA3/BPP0050/BPP0050-1-Live-cell-to4i_Fixed_Cy9__2025-04-22T18_25_01-Measurement 1/acquisition/zarr/(4, 6).zarr/images'),\n",
       "              PosixPath('/mnt/DATA3/BPP0050/BPP0050-1-Live-cell-to4i_Fixed_Cy10__2025-04-23T15_45_30-Measurement 1/acquisition/zarr/(4, 6).zarr/images'),\n",
       "              PosixPath('/mnt/DATA3/BPP0050/BPP0050-1-Live-cell-to4i_Fixed_Cy11__2025-04-24T16_08_42-Measurement 1/acquisition/zarr/(4, 6).zarr/images'),\n",
       "              PosixPath('/mnt/DATA3/BPP0050/BPP0050-1-Live-cell-to4i_Fixed_Cy12__2025-04-25T15_48_30-Measurement 1/acquisition/zarr/(4, 6).zarr/images'),\n",
       "              PosixPath('/mnt/DATA3/BPP0050/BPP0050-1-Live-cell-to4i_Fixed_Cy13__2025-04-26T16_33_47-Measurement 1/acquisition/zarr/(4, 6).zarr/images'),\n",
       "              PosixPath('/mnt/DATA3/BPP0050/BPP0050-1-Live-cell-to4i_Fixed_Cy14__2025-04-27T15_20_15-Measurement 1/acquisition/zarr/(4, 6).zarr/images'),\n",
       "              PosixPath('/mnt/DATA3/BPP0050/BPP0050-1-Live-cell-to4i_Fixed_Cy15__2025-04-28T16_14_55-Measurement 1/acquisition/zarr/(4, 6).zarr/images'),\n",
       "              PosixPath('/mnt/DATA3/BPP0050/BPP0050-1-Live-cell-to4i_Fixed_Cy16__2025-04-29T15_39_50-Measurement 1/acquisition/zarr/(4, 6).zarr/images'),\n",
       "              PosixPath('/mnt/DATA3/BPP0050/BPP0050-1-Live-cell-to4i_Fixed_Cy17__2025-04-30T18_09_02-Measurement 1/acquisition/zarr/(4, 6).zarr/images')],\n",
       "             '(4, 8)': [PosixPath('/mnt/DATA3/BPP0050/BPP0050-1-Live-cell-to4i_Fixed_Cy1-2__2025-04-14T18_24_32-Measurement 1/acquisition/zarr/(4, 8).zarr/images'),\n",
       "              PosixPath('/mnt/DATA3/BPP0050/BPP0050-1-Live-cell-to4i_Fixed_Cy2__2025-04-15T16_42_33-Measurement 3/acquisition/zarr/(4, 8).zarr/images'),\n",
       "              PosixPath('/mnt/DATA3/BPP0050/BPP0050-1-Live-cell-to4i_Fixed_Cy3__2025-04-16T16_15_21-Measurement 1/acquisition/zarr/(4, 8).zarr/images'),\n",
       "              PosixPath('/mnt/DATA3/BPP0050/BPP0050-1-Live-cell-to4i_Fixed_Cy4__2025-04-17T16_24_52-Measurement 1/acquisition/zarr/(4, 8).zarr/images'),\n",
       "              PosixPath('/mnt/DATA3/BPP0050/BPP0050-1-Live-cell-to4i_Fixed_Cy5__2025-04-18T16_38_51-Measurement 1/acquisition/zarr/(4, 8).zarr/images'),\n",
       "              PosixPath('/mnt/DATA3/BPP0050/BPP0050-1-Live-cell-to4i_Fixed_Cy6__2025-04-19T16_14_26-Measurement 1/acquisition/zarr/(4, 8).zarr/images'),\n",
       "              PosixPath('/mnt/DATA3/BPP0050/BPP0050-1-Live-cell-to4i_Fixed_Cy7__2025-04-20T16_03_17-Measurement 1/acquisition/zarr/(4, 8).zarr/images'),\n",
       "              PosixPath('/mnt/DATA3/BPP0050/BPP0050-1-Live-cell-to4i_Fixed_Cy8__2025-04-21T16_49_44-Measurement 1/acquisition/zarr/(4, 8).zarr/images'),\n",
       "              PosixPath('/mnt/DATA3/BPP0050/BPP0050-1-Live-cell-to4i_Fixed_Cy9__2025-04-22T18_25_01-Measurement 1/acquisition/zarr/(4, 8).zarr/images'),\n",
       "              PosixPath('/mnt/DATA3/BPP0050/BPP0050-1-Live-cell-to4i_Fixed_Cy10__2025-04-23T15_45_30-Measurement 1/acquisition/zarr/(4, 8).zarr/images'),\n",
       "              PosixPath('/mnt/DATA3/BPP0050/BPP0050-1-Live-cell-to4i_Fixed_Cy11__2025-04-24T16_08_42-Measurement 1/acquisition/zarr/(4, 8).zarr/images'),\n",
       "              PosixPath('/mnt/DATA3/BPP0050/BPP0050-1-Live-cell-to4i_Fixed_Cy12__2025-04-25T15_48_30-Measurement 1/acquisition/zarr/(4, 8).zarr/images'),\n",
       "              PosixPath('/mnt/DATA3/BPP0050/BPP0050-1-Live-cell-to4i_Fixed_Cy13__2025-04-26T16_33_47-Measurement 1/acquisition/zarr/(4, 8).zarr/images'),\n",
       "              PosixPath('/mnt/DATA3/BPP0050/BPP0050-1-Live-cell-to4i_Fixed_Cy14__2025-04-27T15_20_15-Measurement 1/acquisition/zarr/(4, 8).zarr/images'),\n",
       "              PosixPath('/mnt/DATA3/BPP0050/BPP0050-1-Live-cell-to4i_Fixed_Cy15__2025-04-28T16_14_55-Measurement 1/acquisition/zarr/(4, 8).zarr/images'),\n",
       "              PosixPath('/mnt/DATA3/BPP0050/BPP0050-1-Live-cell-to4i_Fixed_Cy16__2025-04-29T15_39_50-Measurement 1/acquisition/zarr/(4, 8).zarr/images'),\n",
       "              PosixPath('/mnt/DATA3/BPP0050/BPP0050-1-Live-cell-to4i_Fixed_Cy17__2025-04-30T18_09_02-Measurement 1/acquisition/zarr/(4, 8).zarr/images')],\n",
       "             '(4, 4)': [PosixPath('/mnt/DATA3/BPP0050/BPP0050-1-Live-cell-to4i_Fixed_Cy1-2__2025-04-14T18_24_32-Measurement 1/acquisition/zarr/(4, 4).zarr/images'),\n",
       "              PosixPath('/mnt/DATA3/BPP0050/BPP0050-1-Live-cell-to4i_Fixed_Cy2__2025-04-15T16_42_33-Measurement 3/acquisition/zarr/(4, 4).zarr/images'),\n",
       "              PosixPath('/mnt/DATA3/BPP0050/BPP0050-1-Live-cell-to4i_Fixed_Cy3__2025-04-16T16_15_21-Measurement 1/acquisition/zarr/(4, 4).zarr/images'),\n",
       "              PosixPath('/mnt/DATA3/BPP0050/BPP0050-1-Live-cell-to4i_Fixed_Cy4__2025-04-17T16_24_52-Measurement 1/acquisition/zarr/(4, 4).zarr/images'),\n",
       "              PosixPath('/mnt/DATA3/BPP0050/BPP0050-1-Live-cell-to4i_Fixed_Cy5__2025-04-18T16_38_51-Measurement 1/acquisition/zarr/(4, 4).zarr/images'),\n",
       "              PosixPath('/mnt/DATA3/BPP0050/BPP0050-1-Live-cell-to4i_Fixed_Cy6__2025-04-19T16_14_26-Measurement 1/acquisition/zarr/(4, 4).zarr/images'),\n",
       "              PosixPath('/mnt/DATA3/BPP0050/BPP0050-1-Live-cell-to4i_Fixed_Cy7__2025-04-20T16_03_17-Measurement 1/acquisition/zarr/(4, 4).zarr/images'),\n",
       "              PosixPath('/mnt/DATA3/BPP0050/BPP0050-1-Live-cell-to4i_Fixed_Cy8__2025-04-21T16_49_44-Measurement 1/acquisition/zarr/(4, 4).zarr/images'),\n",
       "              PosixPath('/mnt/DATA3/BPP0050/BPP0050-1-Live-cell-to4i_Fixed_Cy9__2025-04-22T18_25_01-Measurement 1/acquisition/zarr/(4, 4).zarr/images'),\n",
       "              PosixPath('/mnt/DATA3/BPP0050/BPP0050-1-Live-cell-to4i_Fixed_Cy10__2025-04-23T15_45_30-Measurement 1/acquisition/zarr/(4, 4).zarr/images'),\n",
       "              PosixPath('/mnt/DATA3/BPP0050/BPP0050-1-Live-cell-to4i_Fixed_Cy11__2025-04-24T16_08_42-Measurement 1/acquisition/zarr/(4, 4).zarr/images'),\n",
       "              PosixPath('/mnt/DATA3/BPP0050/BPP0050-1-Live-cell-to4i_Fixed_Cy12__2025-04-25T15_48_30-Measurement 1/acquisition/zarr/(4, 4).zarr/images'),\n",
       "              PosixPath('/mnt/DATA3/BPP0050/BPP0050-1-Live-cell-to4i_Fixed_Cy13__2025-04-26T16_33_47-Measurement 1/acquisition/zarr/(4, 4).zarr/images'),\n",
       "              PosixPath('/mnt/DATA3/BPP0050/BPP0050-1-Live-cell-to4i_Fixed_Cy14__2025-04-27T15_20_15-Measurement 1/acquisition/zarr/(4, 4).zarr/images'),\n",
       "              PosixPath('/mnt/DATA3/BPP0050/BPP0050-1-Live-cell-to4i_Fixed_Cy15__2025-04-28T16_14_55-Measurement 1/acquisition/zarr/(4, 4).zarr/images'),\n",
       "              PosixPath('/mnt/DATA3/BPP0050/BPP0050-1-Live-cell-to4i_Fixed_Cy16__2025-04-29T15_39_50-Measurement 1/acquisition/zarr/(4, 4).zarr/images'),\n",
       "              PosixPath('/mnt/DATA3/BPP0050/BPP0050-1-Live-cell-to4i_Fixed_Cy17__2025-04-30T18_09_02-Measurement 1/acquisition/zarr/(4, 4).zarr/images')],\n",
       "             '(3, 8)': [PosixPath('/mnt/DATA3/BPP0050/BPP0050-1-Live-cell-to4i_Fixed_Cy1-2__2025-04-14T18_24_32-Measurement 1/acquisition/zarr/(3, 8).zarr/images'),\n",
       "              PosixPath('/mnt/DATA3/BPP0050/BPP0050-1-Live-cell-to4i_Fixed_Cy2__2025-04-15T16_42_33-Measurement 3/acquisition/zarr/(3, 8).zarr/images'),\n",
       "              PosixPath('/mnt/DATA3/BPP0050/BPP0050-1-Live-cell-to4i_Fixed_Cy3__2025-04-16T16_15_21-Measurement 1/acquisition/zarr/(3, 8).zarr/images'),\n",
       "              PosixPath('/mnt/DATA3/BPP0050/BPP0050-1-Live-cell-to4i_Fixed_Cy4__2025-04-17T16_24_52-Measurement 1/acquisition/zarr/(3, 8).zarr/images'),\n",
       "              PosixPath('/mnt/DATA3/BPP0050/BPP0050-1-Live-cell-to4i_Fixed_Cy5__2025-04-18T16_38_51-Measurement 1/acquisition/zarr/(3, 8).zarr/images'),\n",
       "              PosixPath('/mnt/DATA3/BPP0050/BPP0050-1-Live-cell-to4i_Fixed_Cy6__2025-04-19T16_14_26-Measurement 1/acquisition/zarr/(3, 8).zarr/images'),\n",
       "              PosixPath('/mnt/DATA3/BPP0050/BPP0050-1-Live-cell-to4i_Fixed_Cy7__2025-04-20T16_03_17-Measurement 1/acquisition/zarr/(3, 8).zarr/images'),\n",
       "              PosixPath('/mnt/DATA3/BPP0050/BPP0050-1-Live-cell-to4i_Fixed_Cy8__2025-04-21T16_49_44-Measurement 1/acquisition/zarr/(3, 8).zarr/images'),\n",
       "              PosixPath('/mnt/DATA3/BPP0050/BPP0050-1-Live-cell-to4i_Fixed_Cy9__2025-04-22T18_25_01-Measurement 1/acquisition/zarr/(3, 8).zarr/images'),\n",
       "              PosixPath('/mnt/DATA3/BPP0050/BPP0050-1-Live-cell-to4i_Fixed_Cy10__2025-04-23T15_45_30-Measurement 1/acquisition/zarr/(3, 8).zarr/images'),\n",
       "              PosixPath('/mnt/DATA3/BPP0050/BPP0050-1-Live-cell-to4i_Fixed_Cy11__2025-04-24T16_08_42-Measurement 1/acquisition/zarr/(3, 8).zarr/images'),\n",
       "              PosixPath('/mnt/DATA3/BPP0050/BPP0050-1-Live-cell-to4i_Fixed_Cy12__2025-04-25T15_48_30-Measurement 1/acquisition/zarr/(3, 8).zarr/images'),\n",
       "              PosixPath('/mnt/DATA3/BPP0050/BPP0050-1-Live-cell-to4i_Fixed_Cy13__2025-04-26T16_33_47-Measurement 1/acquisition/zarr/(3, 8).zarr/images'),\n",
       "              PosixPath('/mnt/DATA3/BPP0050/BPP0050-1-Live-cell-to4i_Fixed_Cy14__2025-04-27T15_20_15-Measurement 1/acquisition/zarr/(3, 8).zarr/images'),\n",
       "              PosixPath('/mnt/DATA3/BPP0050/BPP0050-1-Live-cell-to4i_Fixed_Cy15__2025-04-28T16_14_55-Measurement 1/acquisition/zarr/(3, 8).zarr/images'),\n",
       "              PosixPath('/mnt/DATA3/BPP0050/BPP0050-1-Live-cell-to4i_Fixed_Cy16__2025-04-29T15_39_50-Measurement 1/acquisition/zarr/(3, 8).zarr/images'),\n",
       "              PosixPath('/mnt/DATA3/BPP0050/BPP0050-1-Live-cell-to4i_Fixed_Cy17__2025-04-30T18_09_02-Measurement 1/acquisition/zarr/(3, 8).zarr/images')],\n",
       "             '(4, 9)': [PosixPath('/mnt/DATA3/BPP0050/BPP0050-1-Live-cell-to4i_Fixed_Cy1-2__2025-04-14T18_24_32-Measurement 1/acquisition/zarr/(4, 9).zarr/images'),\n",
       "              PosixPath('/mnt/DATA3/BPP0050/BPP0050-1-Live-cell-to4i_Fixed_Cy2__2025-04-15T16_42_33-Measurement 3/acquisition/zarr/(4, 9).zarr/images'),\n",
       "              PosixPath('/mnt/DATA3/BPP0050/BPP0050-1-Live-cell-to4i_Fixed_Cy3__2025-04-16T16_15_21-Measurement 1/acquisition/zarr/(4, 9).zarr/images'),\n",
       "              PosixPath('/mnt/DATA3/BPP0050/BPP0050-1-Live-cell-to4i_Fixed_Cy4__2025-04-17T16_24_52-Measurement 1/acquisition/zarr/(4, 9).zarr/images'),\n",
       "              PosixPath('/mnt/DATA3/BPP0050/BPP0050-1-Live-cell-to4i_Fixed_Cy5__2025-04-18T16_38_51-Measurement 1/acquisition/zarr/(4, 9).zarr/images'),\n",
       "              PosixPath('/mnt/DATA3/BPP0050/BPP0050-1-Live-cell-to4i_Fixed_Cy6__2025-04-19T16_14_26-Measurement 1/acquisition/zarr/(4, 9).zarr/images'),\n",
       "              PosixPath('/mnt/DATA3/BPP0050/BPP0050-1-Live-cell-to4i_Fixed_Cy7__2025-04-20T16_03_17-Measurement 1/acquisition/zarr/(4, 9).zarr/images'),\n",
       "              PosixPath('/mnt/DATA3/BPP0050/BPP0050-1-Live-cell-to4i_Fixed_Cy8__2025-04-21T16_49_44-Measurement 1/acquisition/zarr/(4, 9).zarr/images'),\n",
       "              PosixPath('/mnt/DATA3/BPP0050/BPP0050-1-Live-cell-to4i_Fixed_Cy9__2025-04-22T18_25_01-Measurement 1/acquisition/zarr/(4, 9).zarr/images'),\n",
       "              PosixPath('/mnt/DATA3/BPP0050/BPP0050-1-Live-cell-to4i_Fixed_Cy10__2025-04-23T15_45_30-Measurement 1/acquisition/zarr/(4, 9).zarr/images'),\n",
       "              PosixPath('/mnt/DATA3/BPP0050/BPP0050-1-Live-cell-to4i_Fixed_Cy11__2025-04-24T16_08_42-Measurement 1/acquisition/zarr/(4, 9).zarr/images'),\n",
       "              PosixPath('/mnt/DATA3/BPP0050/BPP0050-1-Live-cell-to4i_Fixed_Cy12__2025-04-25T15_48_30-Measurement 1/acquisition/zarr/(4, 9).zarr/images'),\n",
       "              PosixPath('/mnt/DATA3/BPP0050/BPP0050-1-Live-cell-to4i_Fixed_Cy13__2025-04-26T16_33_47-Measurement 1/acquisition/zarr/(4, 9).zarr/images'),\n",
       "              PosixPath('/mnt/DATA3/BPP0050/BPP0050-1-Live-cell-to4i_Fixed_Cy14__2025-04-27T15_20_15-Measurement 1/acquisition/zarr/(4, 9).zarr/images'),\n",
       "              PosixPath('/mnt/DATA3/BPP0050/BPP0050-1-Live-cell-to4i_Fixed_Cy15__2025-04-28T16_14_55-Measurement 1/acquisition/zarr/(4, 9).zarr/images'),\n",
       "              PosixPath('/mnt/DATA3/BPP0050/BPP0050-1-Live-cell-to4i_Fixed_Cy16__2025-04-29T15_39_50-Measurement 1/acquisition/zarr/(4, 9).zarr/images'),\n",
       "              PosixPath('/mnt/DATA3/BPP0050/BPP0050-1-Live-cell-to4i_Fixed_Cy17__2025-04-30T18_09_02-Measurement 1/acquisition/zarr/(4, 9).zarr/images')],\n",
       "             '(5, 4)': [PosixPath('/mnt/DATA3/BPP0050/BPP0050-1-Live-cell-to4i_Fixed_Cy1-2__2025-04-14T18_24_32-Measurement 1/acquisition/zarr/(5, 4).zarr/images'),\n",
       "              PosixPath('/mnt/DATA3/BPP0050/BPP0050-1-Live-cell-to4i_Fixed_Cy2__2025-04-15T16_42_33-Measurement 3/acquisition/zarr/(5, 4).zarr/images'),\n",
       "              PosixPath('/mnt/DATA3/BPP0050/BPP0050-1-Live-cell-to4i_Fixed_Cy3__2025-04-16T16_15_21-Measurement 1/acquisition/zarr/(5, 4).zarr/images'),\n",
       "              PosixPath('/mnt/DATA3/BPP0050/BPP0050-1-Live-cell-to4i_Fixed_Cy4__2025-04-17T16_24_52-Measurement 1/acquisition/zarr/(5, 4).zarr/images'),\n",
       "              PosixPath('/mnt/DATA3/BPP0050/BPP0050-1-Live-cell-to4i_Fixed_Cy5__2025-04-18T16_38_51-Measurement 1/acquisition/zarr/(5, 4).zarr/images'),\n",
       "              PosixPath('/mnt/DATA3/BPP0050/BPP0050-1-Live-cell-to4i_Fixed_Cy6__2025-04-19T16_14_26-Measurement 1/acquisition/zarr/(5, 4).zarr/images'),\n",
       "              PosixPath('/mnt/DATA3/BPP0050/BPP0050-1-Live-cell-to4i_Fixed_Cy7__2025-04-20T16_03_17-Measurement 1/acquisition/zarr/(5, 4).zarr/images'),\n",
       "              PosixPath('/mnt/DATA3/BPP0050/BPP0050-1-Live-cell-to4i_Fixed_Cy8__2025-04-21T16_49_44-Measurement 1/acquisition/zarr/(5, 4).zarr/images'),\n",
       "              PosixPath('/mnt/DATA3/BPP0050/BPP0050-1-Live-cell-to4i_Fixed_Cy9__2025-04-22T18_25_01-Measurement 1/acquisition/zarr/(5, 4).zarr/images'),\n",
       "              PosixPath('/mnt/DATA3/BPP0050/BPP0050-1-Live-cell-to4i_Fixed_Cy10__2025-04-23T15_45_30-Measurement 1/acquisition/zarr/(5, 4).zarr/images'),\n",
       "              PosixPath('/mnt/DATA3/BPP0050/BPP0050-1-Live-cell-to4i_Fixed_Cy11__2025-04-24T16_08_42-Measurement 1/acquisition/zarr/(5, 4).zarr/images'),\n",
       "              PosixPath('/mnt/DATA3/BPP0050/BPP0050-1-Live-cell-to4i_Fixed_Cy12__2025-04-25T15_48_30-Measurement 1/acquisition/zarr/(5, 4).zarr/images'),\n",
       "              PosixPath('/mnt/DATA3/BPP0050/BPP0050-1-Live-cell-to4i_Fixed_Cy13__2025-04-26T16_33_47-Measurement 1/acquisition/zarr/(5, 4).zarr/images'),\n",
       "              PosixPath('/mnt/DATA3/BPP0050/BPP0050-1-Live-cell-to4i_Fixed_Cy14__2025-04-27T15_20_15-Measurement 1/acquisition/zarr/(5, 4).zarr/images'),\n",
       "              PosixPath('/mnt/DATA3/BPP0050/BPP0050-1-Live-cell-to4i_Fixed_Cy15__2025-04-28T16_14_55-Measurement 1/acquisition/zarr/(5, 4).zarr/images'),\n",
       "              PosixPath('/mnt/DATA3/BPP0050/BPP0050-1-Live-cell-to4i_Fixed_Cy16__2025-04-29T15_39_50-Measurement 1/acquisition/zarr/(5, 4).zarr/images'),\n",
       "              PosixPath('/mnt/DATA3/BPP0050/BPP0050-1-Live-cell-to4i_Fixed_Cy17__2025-04-30T18_09_02-Measurement 1/acquisition/zarr/(5, 4).zarr/images')],\n",
       "             '(2, 8)': [PosixPath('/mnt/DATA3/BPP0050/BPP0050-1-Live-cell-to4i_Fixed_Cy1-2__2025-04-14T18_24_32-Measurement 1/acquisition/zarr/(2, 8).zarr/images'),\n",
       "              PosixPath('/mnt/DATA3/BPP0050/BPP0050-1-Live-cell-to4i_Fixed_Cy2__2025-04-15T16_42_33-Measurement 3/acquisition/zarr/(2, 8).zarr/images'),\n",
       "              PosixPath('/mnt/DATA3/BPP0050/BPP0050-1-Live-cell-to4i_Fixed_Cy3__2025-04-16T16_15_21-Measurement 1/acquisition/zarr/(2, 8).zarr/images'),\n",
       "              PosixPath('/mnt/DATA3/BPP0050/BPP0050-1-Live-cell-to4i_Fixed_Cy4__2025-04-17T16_24_52-Measurement 1/acquisition/zarr/(2, 8).zarr/images'),\n",
       "              PosixPath('/mnt/DATA3/BPP0050/BPP0050-1-Live-cell-to4i_Fixed_Cy5__2025-04-18T16_38_51-Measurement 1/acquisition/zarr/(2, 8).zarr/images'),\n",
       "              PosixPath('/mnt/DATA3/BPP0050/BPP0050-1-Live-cell-to4i_Fixed_Cy6__2025-04-19T16_14_26-Measurement 1/acquisition/zarr/(2, 8).zarr/images'),\n",
       "              PosixPath('/mnt/DATA3/BPP0050/BPP0050-1-Live-cell-to4i_Fixed_Cy7__2025-04-20T16_03_17-Measurement 1/acquisition/zarr/(2, 8).zarr/images'),\n",
       "              PosixPath('/mnt/DATA3/BPP0050/BPP0050-1-Live-cell-to4i_Fixed_Cy8__2025-04-21T16_49_44-Measurement 1/acquisition/zarr/(2, 8).zarr/images'),\n",
       "              PosixPath('/mnt/DATA3/BPP0050/BPP0050-1-Live-cell-to4i_Fixed_Cy9__2025-04-22T18_25_01-Measurement 1/acquisition/zarr/(2, 8).zarr/images'),\n",
       "              PosixPath('/mnt/DATA3/BPP0050/BPP0050-1-Live-cell-to4i_Fixed_Cy10__2025-04-23T15_45_30-Measurement 1/acquisition/zarr/(2, 8).zarr/images'),\n",
       "              PosixPath('/mnt/DATA3/BPP0050/BPP0050-1-Live-cell-to4i_Fixed_Cy11__2025-04-24T16_08_42-Measurement 1/acquisition/zarr/(2, 8).zarr/images'),\n",
       "              PosixPath('/mnt/DATA3/BPP0050/BPP0050-1-Live-cell-to4i_Fixed_Cy12__2025-04-25T15_48_30-Measurement 1/acquisition/zarr/(2, 8).zarr/images'),\n",
       "              PosixPath('/mnt/DATA3/BPP0050/BPP0050-1-Live-cell-to4i_Fixed_Cy13__2025-04-26T16_33_47-Measurement 1/acquisition/zarr/(2, 8).zarr/images'),\n",
       "              PosixPath('/mnt/DATA3/BPP0050/BPP0050-1-Live-cell-to4i_Fixed_Cy14__2025-04-27T15_20_15-Measurement 1/acquisition/zarr/(2, 8).zarr/images'),\n",
       "              PosixPath('/mnt/DATA3/BPP0050/BPP0050-1-Live-cell-to4i_Fixed_Cy15__2025-04-28T16_14_55-Measurement 1/acquisition/zarr/(2, 8).zarr/images'),\n",
       "              PosixPath('/mnt/DATA3/BPP0050/BPP0050-1-Live-cell-to4i_Fixed_Cy16__2025-04-29T15_39_50-Measurement 1/acquisition/zarr/(2, 8).zarr/images'),\n",
       "              PosixPath('/mnt/DATA3/BPP0050/BPP0050-1-Live-cell-to4i_Fixed_Cy17__2025-04-30T18_09_02-Measurement 1/acquisition/zarr/(2, 8).zarr/images')],\n",
       "             '(5, 5)': [PosixPath('/mnt/DATA3/BPP0050/BPP0050-1-Live-cell-to4i_Fixed_Cy1-2__2025-04-14T18_24_32-Measurement 1/acquisition/zarr/(5, 5).zarr/images'),\n",
       "              PosixPath('/mnt/DATA3/BPP0050/BPP0050-1-Live-cell-to4i_Fixed_Cy2__2025-04-15T16_42_33-Measurement 3/acquisition/zarr/(5, 5).zarr/images'),\n",
       "              PosixPath('/mnt/DATA3/BPP0050/BPP0050-1-Live-cell-to4i_Fixed_Cy3__2025-04-16T16_15_21-Measurement 1/acquisition/zarr/(5, 5).zarr/images'),\n",
       "              PosixPath('/mnt/DATA3/BPP0050/BPP0050-1-Live-cell-to4i_Fixed_Cy4__2025-04-17T16_24_52-Measurement 1/acquisition/zarr/(5, 5).zarr/images'),\n",
       "              PosixPath('/mnt/DATA3/BPP0050/BPP0050-1-Live-cell-to4i_Fixed_Cy5__2025-04-18T16_38_51-Measurement 1/acquisition/zarr/(5, 5).zarr/images'),\n",
       "              PosixPath('/mnt/DATA3/BPP0050/BPP0050-1-Live-cell-to4i_Fixed_Cy6__2025-04-19T16_14_26-Measurement 1/acquisition/zarr/(5, 5).zarr/images'),\n",
       "              PosixPath('/mnt/DATA3/BPP0050/BPP0050-1-Live-cell-to4i_Fixed_Cy7__2025-04-20T16_03_17-Measurement 1/acquisition/zarr/(5, 5).zarr/images'),\n",
       "              PosixPath('/mnt/DATA3/BPP0050/BPP0050-1-Live-cell-to4i_Fixed_Cy8__2025-04-21T16_49_44-Measurement 1/acquisition/zarr/(5, 5).zarr/images'),\n",
       "              PosixPath('/mnt/DATA3/BPP0050/BPP0050-1-Live-cell-to4i_Fixed_Cy9__2025-04-22T18_25_01-Measurement 1/acquisition/zarr/(5, 5).zarr/images'),\n",
       "              PosixPath('/mnt/DATA3/BPP0050/BPP0050-1-Live-cell-to4i_Fixed_Cy10__2025-04-23T15_45_30-Measurement 1/acquisition/zarr/(5, 5).zarr/images'),\n",
       "              PosixPath('/mnt/DATA3/BPP0050/BPP0050-1-Live-cell-to4i_Fixed_Cy11__2025-04-24T16_08_42-Measurement 1/acquisition/zarr/(5, 5).zarr/images'),\n",
       "              PosixPath('/mnt/DATA3/BPP0050/BPP0050-1-Live-cell-to4i_Fixed_Cy12__2025-04-25T15_48_30-Measurement 1/acquisition/zarr/(5, 5).zarr/images'),\n",
       "              PosixPath('/mnt/DATA3/BPP0050/BPP0050-1-Live-cell-to4i_Fixed_Cy13__2025-04-26T16_33_47-Measurement 1/acquisition/zarr/(5, 5).zarr/images'),\n",
       "              PosixPath('/mnt/DATA3/BPP0050/BPP0050-1-Live-cell-to4i_Fixed_Cy14__2025-04-27T15_20_15-Measurement 1/acquisition/zarr/(5, 5).zarr/images'),\n",
       "              PosixPath('/mnt/DATA3/BPP0050/BPP0050-1-Live-cell-to4i_Fixed_Cy15__2025-04-28T16_14_55-Measurement 1/acquisition/zarr/(5, 5).zarr/images'),\n",
       "              PosixPath('/mnt/DATA3/BPP0050/BPP0050-1-Live-cell-to4i_Fixed_Cy16__2025-04-29T15_39_50-Measurement 1/acquisition/zarr/(5, 5).zarr/images'),\n",
       "              PosixPath('/mnt/DATA3/BPP0050/BPP0050-1-Live-cell-to4i_Fixed_Cy17__2025-04-30T18_09_02-Measurement 1/acquisition/zarr/(5, 5).zarr/images')]})"
      ]
     },
     "execution_count": 118,
     "metadata": {},
     "output_type": "execute_result"
    }
   ],
   "source": [
    "pos_dict"
   ]
  },
  {
   "cell_type": "markdown",
   "id": "909c85c2-5b4e-4c9c-b012-16260894cc9f",
   "metadata": {},
   "source": [
    "\n",
    "### load registration stack"
   ]
  },
  {
   "cell_type": "code",
   "execution_count": 21,
   "id": "06c63535-e70f-4dfb-955a-9426ca108e73",
   "metadata": {},
   "outputs": [],
   "source": [
    "import napari"
   ]
  },
  {
   "cell_type": "code",
   "execution_count": 33,
   "id": "bf102135-d970-4925-abcf-2ec3c54de00a",
   "metadata": {},
   "outputs": [
    {
     "name": "stdout",
     "output_type": "stream",
     "text": [
      "CPU times: user 40.3 s, sys: 1min 32s, total: 2min 12s\n",
      "Wall time: 2min 12s\n"
     ]
    }
   ],
   "source": [
    "%%time\n",
    "fixed_cycles = stacked.max(axis=3).compute()"
   ]
  },
  {
   "cell_type": "code",
   "execution_count": 34,
   "id": "eb2c12da-b9aa-4af5-a3ea-682e2061bd85",
   "metadata": {},
   "outputs": [
    {
     "data": {
      "text/plain": [
       "[<Image layer 'Image' at 0x7ff3434979a0>,\n",
       " <Image layer 'Image [1]' at 0x7ff3434d7370>,\n",
       " <Image layer 'Image [2]' at 0x7ff342302c20>,\n",
       " <Image layer 'Image [3]' at 0x7ff35ddc05e0>]"
      ]
     },
     "execution_count": 34,
     "metadata": {},
     "output_type": "execute_result"
    }
   ],
   "source": [
    "viewer = napari.Viewer(title = 'multiplex stacks')\n",
    "viewer.add_image(fixed_cycles, channel_axis = 2)"
   ]
  },
  {
   "cell_type": "code",
   "execution_count": 47,
   "id": "975a03f0-8231-4a76-bd03-f34cb1e4e259",
   "metadata": {},
   "outputs": [],
   "source": [
    "reg_zarr = '/mnt/DATA3/BPP0050/BPP0050-1-Live-cell-to4i_Fixed_Cy1__2025-04-14T16_57_11-Measurement 1/acquisition/zarr/(5, 5).zarr'"
   ]
  },
  {
   "cell_type": "code",
   "execution_count": 48,
   "id": "e5b213a8-7fc5-4475-918c-c381e9c331ed",
   "metadata": {},
   "outputs": [],
   "source": [
    "zarr_group = zarr.open_group(reg_zarr)"
   ]
  },
  {
   "cell_type": "code",
   "execution_count": 49,
   "id": "0d769966-1e6d-4164-91d2-fc1280e8a86c",
   "metadata": {},
   "outputs": [
    {
     "data": {
      "text/plain": [
       "<zarr.core.Array '/labels/segmentation' (6911, 6911) uint16>"
      ]
     },
     "execution_count": 49,
     "metadata": {},
     "output_type": "execute_result"
    }
   ],
   "source": [
    "zarr_group.labels.segmentation"
   ]
  },
  {
   "cell_type": "code",
   "execution_count": 50,
   "id": "aaf00411-205d-4af3-8e09-9d29354e0886",
   "metadata": {
    "scrolled": true
   },
   "outputs": [
    {
     "data": {
      "text/plain": [
       "<zarr.core.Array '/images' (1, 6, 3, 6911, 6911) uint16>"
      ]
     },
     "execution_count": 50,
     "metadata": {},
     "output_type": "execute_result"
    }
   ],
   "source": [
    "zarr_group.images"
   ]
  },
  {
   "cell_type": "code",
   "execution_count": 72,
   "id": "5d7a9251-d53b-4cf1-8457-c4441754fc00",
   "metadata": {},
   "outputs": [],
   "source": [
    "registration = zarr_group.images[:].max(axis=2)"
   ]
  },
  {
   "cell_type": "code",
   "execution_count": 73,
   "id": "c7a1c0ee-3d18-4881-b4de-cad26ea59967",
   "metadata": {},
   "outputs": [
    {
     "data": {
      "text/plain": [
       "(1, 6, 6911, 6911)"
      ]
     },
     "execution_count": 73,
     "metadata": {},
     "output_type": "execute_result"
    }
   ],
   "source": [
    "registration.shape"
   ]
  },
  {
   "cell_type": "code",
   "execution_count": 75,
   "id": "291f8f3c-dd2c-4028-8483-69b8f53518b7",
   "metadata": {},
   "outputs": [
    {
     "data": {
      "text/plain": [
       "[<Image layer 'Image [4]' at 0x7ff331865a20>,\n",
       " <Image layer 'Image [5]' at 0x7ff331864be0>,\n",
       " <Image layer 'Image [6]' at 0x7ff33132a1d0>,\n",
       " <Image layer 'Image [7]' at 0x7ff330160fd0>,\n",
       " <Image layer 'Image [8]' at 0x7ff35df7b430>,\n",
       " <Image layer 'Image [9]' at 0x7ff331c418d0>]"
      ]
     },
     "execution_count": 75,
     "metadata": {},
     "output_type": "execute_result"
    }
   ],
   "source": [
    "viewer.add_image(registration, channel_axis=1)"
   ]
  },
  {
   "cell_type": "code",
   "execution_count": 56,
   "id": "91bb298c-6f01-4444-8d65-d867e1204357",
   "metadata": {},
   "outputs": [
    {
     "data": {
      "text/plain": [
       "(6911, 6911)"
      ]
     },
     "execution_count": 56,
     "metadata": {},
     "output_type": "execute_result"
    }
   ],
   "source": [
    "segmentation = zarr_group.labels.segmentation[:]\n",
    "segmentation.shape"
   ]
  },
  {
   "cell_type": "code",
   "execution_count": 57,
   "id": "d022c607-7d53-4cdb-ad56-97ff045d6343",
   "metadata": {},
   "outputs": [
    {
     "data": {
      "text/plain": [
       "<Labels layer 'segmentation' at 0x7ff31dea9360>"
      ]
     },
     "execution_count": 57,
     "metadata": {},
     "output_type": "execute_result"
    }
   ],
   "source": [
    "viewer.add_labels(segmentation)"
   ]
  },
  {
   "cell_type": "markdown",
   "id": "356959d2-c408-481d-bfe2-ce756a4d3dd8",
   "metadata": {},
   "source": [
    "### Calculating shift between images"
   ]
  },
  {
   "cell_type": "code",
   "execution_count": 76,
   "id": "806c2732-6e8d-4564-946c-23c46a9b5a9f",
   "metadata": {},
   "outputs": [
    {
     "data": {
      "text/plain": [
       "(17, 1, 4, 6911, 6911)"
      ]
     },
     "execution_count": 76,
     "metadata": {},
     "output_type": "execute_result"
    }
   ],
   "source": [
    "fixed_cycles.shape"
   ]
  },
  {
   "cell_type": "code",
   "execution_count": 77,
   "id": "a6455e59-fcce-4aae-ac35-0f97e93e38c1",
   "metadata": {},
   "outputs": [
    {
     "data": {
      "text/plain": [
       "(1, 6911, 6911)"
      ]
     },
     "execution_count": 77,
     "metadata": {},
     "output_type": "execute_result"
    }
   ],
   "source": [
    "registration[:,-1,...].shape"
   ]
  },
  {
   "cell_type": "code",
   "execution_count": 88,
   "id": "e423d5d7-b89d-4756-9895-460f156d1700",
   "metadata": {},
   "outputs": [],
   "source": [
    "from skimage.registration import phase_cross_correlation\n",
    "from scipy.ndimage import shift as ndi_shift\n",
    "import numpy as np"
   ]
  },
  {
   "cell_type": "code",
   "execution_count": 84,
   "id": "891d746b-db1d-4d55-b32d-7c3469f26dcc",
   "metadata": {},
   "outputs": [
    {
     "data": {
      "text/plain": [
       "(1, 6911, 6911)"
      ]
     },
     "execution_count": 84,
     "metadata": {},
     "output_type": "execute_result"
    }
   ],
   "source": [
    "dapi_reference_img.shape"
   ]
  },
  {
   "cell_type": "code",
   "execution_count": 104,
   "id": "7f16f513-f71d-4db0-b7d5-2e9bc91b2994",
   "metadata": {},
   "outputs": [
    {
     "data": {
      "text/plain": [
       "((6911, 6911), (6911, 6911))"
      ]
     },
     "execution_count": 104,
     "metadata": {},
     "output_type": "execute_result"
    }
   ],
   "source": [
    "dapi_cycle_img.shape, dapi_reference_img.shape"
   ]
  },
  {
   "cell_type": "code",
   "execution_count": 107,
   "id": "10677ac9-a946-4bf8-bfd7-b1639c96dc43",
   "metadata": {},
   "outputs": [
    {
     "data": {
      "text/plain": [
       "<Image layer 'dapi_reference_img' at 0x7ff337baca60>"
      ]
     },
     "execution_count": 107,
     "metadata": {},
     "output_type": "execute_result"
    }
   ],
   "source": [
    "viewer.add_image(dapi_cycle_img)\n",
    "viewer.add_image(dapi_reference_img)"
   ]
  },
  {
   "cell_type": "code",
   "execution_count": 109,
   "id": "5f1e0c42-9434-40b8-b8f6-78830c8acf12",
   "metadata": {},
   "outputs": [],
   "source": [
    "from skimage.exposure import rescale_intensity\n",
    "\n",
    "ref = rescale_intensity(dapi_reference_img, in_range='image', out_range=(0, 1))\n",
    "cyc = rescale_intensity(dapi_cycle_img, in_range='image', out_range=(0, 1))\n"
   ]
  },
  {
   "cell_type": "code",
   "execution_count": 110,
   "id": "9c840a47-a0d4-4974-b489-018f23a54d93",
   "metadata": {},
   "outputs": [
    {
     "name": "stdout",
     "output_type": "stream",
     "text": [
      "[-0.4  0.4]\n"
     ]
    }
   ],
   "source": [
    "shift, error, phasediff = phase_cross_correlation(ref, cyc, upsample_factor=10)\n",
    "print(shift)"
   ]
  },
  {
   "cell_type": "code",
   "execution_count": 113,
   "id": "f32bc0af-17d1-4202-948d-da42d25beb09",
   "metadata": {},
   "outputs": [
    {
     "name": "stdout",
     "output_type": "stream",
     "text": [
      "[-0.1  0. ]\n"
     ]
    }
   ],
   "source": [
    "def center_crop(img, size=2048):\n",
    "    y, x = img.shape\n",
    "    y0 = y//2 - size//2\n",
    "    x0 = x//2 - size//2\n",
    "    return img[y0:y0+size, x0:x0+size]\n",
    "\n",
    "ref_crop = center_crop(dapi_reference_img)\n",
    "cyc_crop = center_crop(dapi_cycle_img)\n",
    "shift, error, phasediff = phase_cross_correlation(ref_crop, cyc_crop, upsample_factor=10)\n",
    "print(shift)"
   ]
  },
  {
   "cell_type": "code",
   "execution_count": 114,
   "id": "c96c5c40-bf5c-4047-a0ef-1c9bc5c46fad",
   "metadata": {},
   "outputs": [
    {
     "name": "stdout",
     "output_type": "stream",
     "text": [
      "[0. 0.]\n"
     ]
    }
   ],
   "source": [
    "from skimage.filters import threshold_otsu\n",
    "\n",
    "thresh = threshold_otsu(dapi_reference_img)\n",
    "mask = dapi_reference_img > thresh\n",
    "\n",
    "ref_masked = dapi_reference_img * mask\n",
    "cyc_masked = dapi_cycle_img * mask\n",
    "\n",
    "shift, error, phasediff = phase_cross_correlation(ref_masked, cyc_masked, upsample_factor=10)\n",
    "print(shift)"
   ]
  },
  {
   "cell_type": "code",
   "execution_count": 116,
   "id": "ae5b92a8-a66f-4872-ad24-3ea6d4122ee7",
   "metadata": {},
   "outputs": [
    {
     "data": {
      "text/plain": [
       "<Image layer 'cyc_masked' at 0x7ff330daaa10>"
      ]
     },
     "execution_count": 116,
     "metadata": {},
     "output_type": "execute_result"
    }
   ],
   "source": [
    "viewer.add_image(ref_masked)\n",
    "viewer.add_image(cyc_masked)"
   ]
  },
  {
   "cell_type": "code",
   "execution_count": 117,
   "id": "079551df-80ce-4365-bfb7-b09ff35e481e",
   "metadata": {},
   "outputs": [
    {
     "name": "stdout",
     "output_type": "stream",
     "text": [
      "Upsample 1: shift=[0. 0.], error=1.0\n",
      "Upsample 2: shift=[0. 0.], error=1.0\n",
      "Upsample 5: shift=[0. 0.], error=1.0\n",
      "Upsample 10: shift=[-0.1  0. ], error=1.0\n",
      "Upsample 20: shift=[-0.05  0.  ], error=1.0\n"
     ]
    }
   ],
   "source": [
    "for up in [1, 2, 5, 10, 20]:\n",
    "    shift, error, _ = phase_cross_correlation(ref_crop, cyc_crop, upsample_factor=up)\n",
    "    print(f\"Upsample {up}: shift={shift}, error={error}\")"
   ]
  },
  {
   "cell_type": "code",
   "execution_count": 124,
   "id": "ee14278f-1b78-4c2a-ae2d-e71565369c02",
   "metadata": {},
   "outputs": [],
   "source": [
    "dapi_cycle_img = fixed_cycles[-1,0,-1,...]"
   ]
  },
  {
   "cell_type": "code",
   "execution_count": 140,
   "id": "6e6ff2e1-de38-4499-b7c0-0662782eefce",
   "metadata": {},
   "outputs": [
    {
     "data": {
      "text/plain": [
       "(6911, 6911)"
      ]
     },
     "execution_count": 140,
     "metadata": {},
     "output_type": "execute_result"
    }
   ],
   "source": [
    "dapi_cycle_img.shape"
   ]
  },
  {
   "cell_type": "code",
   "execution_count": 141,
   "id": "953e52f9-69bb-493e-90a9-ef76421b300c",
   "metadata": {},
   "outputs": [
    {
     "data": {
      "application/vnd.jupyter.widget-view+json": {
       "model_id": "83fa764cd2624390b211f189b3a165f7",
       "version_major": 2,
       "version_minor": 0
      },
      "text/plain": [
       "  0%|          | 0/17 [00:00<?, ?it/s]"
      ]
     },
     "metadata": {},
     "output_type": "display_data"
    },
    {
     "name": "stdout",
     "output_type": "stream",
     "text": [
      "[-3.7  0.4]\n",
      "[ 2.8 -3.8]\n",
      "[15.  -5.1]\n",
      "[12.   2.9]\n",
      "[ -15. -263.]\n",
      "[  3.7 -16.9]\n",
      "[19.   1.2]\n",
      "[10.6 -6.3]\n",
      "[99.5 74. ]\n",
      "[43.4 30.2]\n",
      "[71.6 51.6]\n",
      "[7.3 5.1]\n",
      "[ 6.8 -0.7]\n",
      "[4.1 1.9]\n",
      "[-2.4 -2. ]\n",
      "[9.2 2. ]\n",
      "[10.5  1. ]\n"
     ]
    }
   ],
   "source": [
    "aligned_cycles = []\n",
    "\n",
    "dapi_reference_img = registration[0, -1, 0:800,0:800]\n",
    "ref_masked, flows, styles = cellpose_model.eval(dapi_reference_img,)    \n",
    "for i, cycle in tqdm(enumerate(fixed_cycles), total=len(fixed_cycles)):\n",
    "    dapi_cycle_img = cycle[0, -1,  0:800,0:800]\n",
    "    \n",
    "    cyc_masked, flows, styles = cellpose_model.eval(dapi_cycle_img,)    \n",
    "    \n",
    "    shift, error, phasediff = phase_cross_correlation(ref_masked, cyc_masked, upsample_factor=10)\n",
    "    \n",
    "    print(shift)\n",
    "    # Apply shift to all channels in this cycle\n",
    "    shifted = np.stack([\n",
    "        ndi_shift(cycle[0, c, ...], shift, order=1, mode='constant')\n",
    "        for c in range(cycle.shape[1])\n",
    "    ], axis=0) \n",
    "\n",
    "    aligned_cycles.append(shifted)\n",
    "    \n",
    "aligned_cycles = np.stack(aligned_cycles, axis=0)"
   ]
  },
  {
   "cell_type": "code",
   "execution_count": 142,
   "id": "56d5e9a0-0099-4064-8fac-b7fed0a1a36b",
   "metadata": {},
   "outputs": [
    {
     "data": {
      "text/plain": [
       "(17, 4, 6911, 6911)"
      ]
     },
     "execution_count": 142,
     "metadata": {},
     "output_type": "execute_result"
    }
   ],
   "source": [
    "aligned_cycles.shape"
   ]
  },
  {
   "cell_type": "code",
   "execution_count": 143,
   "id": "d18e741b-9acf-44ff-944e-2d0f46823fe2",
   "metadata": {},
   "outputs": [
    {
     "data": {
      "text/plain": [
       "[<Image layer 'Image' at 0x7ff31dd3d0c0>,\n",
       " <Image layer 'Image [1]' at 0x7ff321c15120>,\n",
       " <Image layer 'Image [2]' at 0x7ff321bea4d0>,\n",
       " <Image layer 'Image [3]' at 0x7ff321d0e200>]"
      ]
     },
     "execution_count": 143,
     "metadata": {},
     "output_type": "execute_result"
    }
   ],
   "source": [
    "viewer = napari.Viewer(title = 'visualising_shift')\n",
    "viewer.add_image(aligned_cycles, channel_axis=1)"
   ]
  },
  {
   "cell_type": "code",
   "execution_count": 144,
   "id": "8fe54bf6-048e-456e-84a0-8fa8362d049e",
   "metadata": {},
   "outputs": [
    {
     "data": {
      "text/plain": [
       "<Labels layer 'segmentation' at 0x7ff3231acf70>"
      ]
     },
     "execution_count": 144,
     "metadata": {},
     "output_type": "execute_result"
    }
   ],
   "source": [
    "viewer.add_labels(segmentation)"
   ]
  },
  {
   "cell_type": "code",
   "execution_count": 139,
   "id": "10cefbd7-61a8-4101-a94c-204cd83b0236",
   "metadata": {
    "scrolled": true
   },
   "outputs": [
    {
     "data": {
      "application/vnd.jupyter.widget-view+json": {
       "model_id": "0798af669bad4bf583808fff673db94a",
       "version_major": 2,
       "version_minor": 0
      },
      "text/plain": [
       "  0%|          | 0/17 [00:00<?, ?it/s]"
      ]
     },
     "metadata": {},
     "output_type": "display_data"
    },
    {
     "name": "stdout",
     "output_type": "stream",
     "text": [
      "[-3.6  2. ]\n",
      "[ 5.  -0.5]\n",
      "[13.9 -1.5]\n",
      "[14.7  5.4]\n"
     ]
    },
    {
     "name": "stderr",
     "output_type": "stream",
     "text": [
      "\n",
      "KeyboardInterrupt\n",
      "\n"
     ]
    }
   ],
   "source": [
    "aligned_cycles = []\n",
    "\n",
    "dapi_reference_img = registration[0, -1, ...] \n",
    "ref_masked, flows, styles = cellpose_model.eval(dapi_reference_img[,)    \n",
    "for i, cycle in tqdm(enumerate(fixed_cycles), total=len(fixed_cycles)):\n",
    "    dapi_cycle_img = cycle[0, -1, ...]\n",
    "    \n",
    "\n",
    "\n",
    "    cyc_masked, flows, styles = cellpose_model.eval(dapi_cycle_img,)    \n",
    "    \n",
    "    shift, error, phasediff = phase_cross_correlation(ref_masked, cyc_masked, upsample_factor=10)\n",
    "    \n",
    "    print(shift)\n",
    "    # Apply shift to all channels in this cycle\n",
    "    shifted = np.stack([\n",
    "        ndi_shift(cycle[0, c, ...], shift, order=1, mode='constant')\n",
    "        for c in range(cycle.shape[1])\n",
    "    ], axis=0) \n",
    "\n",
    "    aligned_cycles.append(shifted)\n",
    "    \n",
    "aligned_cycles = np.stack(aligned_cycles, axis=0)"
   ]
  },
  {
   "cell_type": "code",
   "execution_count": 101,
   "id": "41da06e0-5f7d-4aea-b119-0592410bdf3d",
   "metadata": {},
   "outputs": [
    {
     "data": {
      "text/plain": [
       "array([0. , 0.1])"
      ]
     },
     "execution_count": 101,
     "metadata": {},
     "output_type": "execute_result"
    }
   ],
   "source": [
    "shift"
   ]
  },
  {
   "cell_type": "code",
   "execution_count": 96,
   "id": "9552d062-2571-48be-a287-01af78557b2f",
   "metadata": {},
   "outputs": [
    {
     "data": {
      "text/plain": [
       "(17, 4, 6911, 6911)"
      ]
     },
     "execution_count": 96,
     "metadata": {},
     "output_type": "execute_result"
    }
   ],
   "source": [
    "aligned_cycles.shape"
   ]
  },
  {
   "cell_type": "code",
   "execution_count": 98,
   "id": "36773c7b-3db8-4630-9384-b879f53033c5",
   "metadata": {},
   "outputs": [
    {
     "data": {
      "text/plain": [
       "[<Image layer 'Image' at 0x7ff341f54040>,\n",
       " <Image layer 'Image [1]' at 0x7ff3421509d0>,\n",
       " <Image layer 'Image [2]' at 0x7ff3434e00a0>,\n",
       " <Image layer 'Image [3]' at 0x7ff31deaa020>]"
      ]
     },
     "execution_count": 98,
     "metadata": {},
     "output_type": "execute_result"
    }
   ],
   "source": [
    "viewer.add_image(aligned_cycles, channel_axis=1)"
   ]
  },
  {
   "cell_type": "code",
   "execution_count": 148,
   "id": "1fc26ea7-1ad2-49ac-9cc7-acc0847e7e56",
   "metadata": {},
   "outputs": [],
   "source": [
    "from qtpy.QtWidgets import QLabel\n",
    "from qtpy.QtCore import Qt"
   ]
  },
  {
   "cell_type": "code",
   "execution_count": 151,
   "id": "e97ade67-9197-48ba-a904-8e598e258602",
   "metadata": {},
   "outputs": [
    {
     "data": {
      "text/plain": [
       "[[0.0, 1851.0221923335575],\n",
       " [0.0, 2423.9576328177536],\n",
       " [176.28782784129118, 1234.0147948890383],\n",
       " [100.0, 1189.9428379287156]]"
      ]
     },
     "execution_count": 151,
     "metadata": {},
     "output_type": "execute_result"
    }
   ],
   "source": [
    "original_layer_names = ['Image', 'Image [1]', 'Image [2]', 'Image [3]']\n",
    "contrast_limits = [viewer.layers[name].contrast_limits for name in original_layer_names]\n",
    "contrast_limits"
   ]
  },
  {
   "cell_type": "code",
   "execution_count": 162,
   "id": "832570f0-cc8d-48ee-b6c3-36c5b4743e00",
   "metadata": {},
   "outputs": [],
   "source": [
    "\n",
    "# Add image: interpret first axis as \"time\", second as channel\n",
    "viewer.add_image(\n",
    "    aligned_cycles,\n",
    "    name='Aligned cycles',\n",
    "    channel_axis=1,\n",
    "    contrast_limits=contrast_limits,\n",
    "    scale=(1.0, 0.189, 0.189),\n",
    "    # colormap='gray',\n",
    "    # blending='additive',\n",
    "    # rendering='mip',\n",
    "    # visible=True\n",
    ")\n",
    "\n",
    "# Enable scale bar\n",
    "viewer.scale_bar.visible = True\n",
    "viewer.scale_bar.unit = \"µm\"\n",
    "viewer.scale_bar.position = \"bottom_left\"\n",
    "viewer.scale_bar.colored = False\n"
   ]
  },
  {
   "cell_type": "code",
   "execution_count": 157,
   "id": "7349d88a-e547-4144-97db-b3dbe4500f1a",
   "metadata": {},
   "outputs": [],
   "source": [
    "viewer.scale_bar.length = None\n",
    "viewer.scale_bar.font_size = 24\n"
   ]
  },
  {
   "cell_type": "code",
   "execution_count": 167,
   "id": "5a1670cf-de36-4779-b3b6-bfcd7d00693e",
   "metadata": {},
   "outputs": [
    {
     "data": {
      "text/plain": [
       "<function __main__.update_slider(event)>"
      ]
     },
     "execution_count": 167,
     "metadata": {},
     "output_type": "execute_result"
    },
    {
     "name": "stdout",
     "output_type": "stream",
     "text": [
      "inside\n",
      "inside\n",
      "inside\n",
      "inside\n",
      "inside\n",
      "inside\n",
      "inside\n",
      "inside\n",
      "inside\n",
      "inside\n",
      "inside\n",
      "inside\n",
      "inside\n",
      "inside\n",
      "inside\n",
      "inside\n",
      "inside\n",
      "inside\n",
      "inside\n",
      "inside\n",
      "inside\n",
      "inside\n",
      "inside\n",
      "inside\n"
     ]
    }
   ],
   "source": [
    "def update_slider(event):\n",
    "    # only trigger if update comes from first axis (optional)\n",
    "    time = viewer.dims.current_step[0]\n",
    "    viewer.text_overlay.text = f\"Cycle #{time+1}\"\n",
    "\n",
    "# viewer.text_overlay.visible = True\n",
    "# viewer.dims.events.current_step.connect(update_slider)\n",
    "\n",
    "viewer.text_overlay.visible = True\n",
    "viewer.text_overlay.font_size = 24\n",
    "viewer.text_overlay.color = 'white'\n",
    "viewer.dims.events.current_step.connect(update_slider)"
   ]
  },
  {
   "cell_type": "code",
   "execution_count": 169,
   "id": "1cf4c7bb-fc61-40be-9f70-b79a24d9d01e",
   "metadata": {},
   "outputs": [
    {
     "data": {
      "text/plain": [
       "<Labels layer 'segmentation [1]' at 0x7ff23257a980>"
      ]
     },
     "execution_count": 169,
     "metadata": {},
     "output_type": "execute_result"
    }
   ],
   "source": [
    "viewer.add_labels(segmentation, scale=(0.189, 0.189),\n",
    ")"
   ]
  },
  {
   "cell_type": "code",
   "execution_count": 171,
   "id": "db379090-bf23-4f3d-811b-e290cb86a0ba",
   "metadata": {},
   "outputs": [
    {
     "name": "stdout",
     "output_type": "stream",
     "text": [
      "inside\n",
      "inside\n",
      "inside\n",
      "inside\n",
      "inside\n",
      "inside\n",
      "inside\n",
      "inside\n",
      "inside\n",
      "inside\n",
      "inside\n",
      "inside\n",
      "inside\n",
      "inside\n",
      "inside\n",
      "inside\n",
      "inside\n",
      "inside\n",
      "inside\n",
      "inside\n",
      "inside\n",
      "inside\n",
      "Rendering frames...\n"
     ]
    },
    {
     "name": "stderr",
     "output_type": "stream",
     "text": [
      "  0%|                                                                                           | 0/18 [00:00<?, ?it/s]"
     ]
    },
    {
     "name": "stdout",
     "output_type": "stream",
     "text": [
      "inside\n",
      "inside\n"
     ]
    },
    {
     "name": "stderr",
     "output_type": "stream",
     "text": [
      "IMAGEIO FFMPEG_WRITER WARNING: input image is not divisible by macro_block_size=16, resizing from (939, 910) to (944, 912) to ensure video compatibility with most codecs and players. To prevent resizing, make your input image divisible by the macro_block_size or set the macro_block_size to 1 (risking incompatibility).\n",
      "  6%|████▌                                                                              | 1/18 [00:01<00:23,  1.40s/it][rawvideo @ 0x5558adbe62c0] Stream #0: not enough frames to estimate rate; consider increasing probesize\n",
      "[swscaler @ 0x5558adc009c0] Warning: data is not aligned! This can lead to a speed loss\n"
     ]
    },
    {
     "name": "stdout",
     "output_type": "stream",
     "text": [
      "inside\n",
      "inside\n"
     ]
    },
    {
     "name": "stderr",
     "output_type": "stream",
     "text": [
      " 22%|██████████████████▍                                                                | 4/18 [00:02<00:05,  2.37it/s]"
     ]
    },
    {
     "name": "stdout",
     "output_type": "stream",
     "text": [
      "inside\n",
      "inside\n"
     ]
    },
    {
     "name": "stderr",
     "output_type": "stream",
     "text": [
      " 28%|███████████████████████                                                            | 5/18 [00:02<00:04,  2.75it/s]"
     ]
    },
    {
     "name": "stdout",
     "output_type": "stream",
     "text": [
      "inside\n",
      "inside\n"
     ]
    },
    {
     "name": "stderr",
     "output_type": "stream",
     "text": [
      " 33%|███████████████████████████▋                                                       | 6/18 [00:02<00:03,  3.13it/s]"
     ]
    },
    {
     "name": "stdout",
     "output_type": "stream",
     "text": [
      "inside\n",
      "inside\n"
     ]
    },
    {
     "name": "stderr",
     "output_type": "stream",
     "text": [
      " 39%|████████████████████████████████▎                                                  | 7/18 [00:02<00:03,  3.32it/s]"
     ]
    },
    {
     "name": "stdout",
     "output_type": "stream",
     "text": [
      "inside\n",
      "inside\n"
     ]
    },
    {
     "name": "stderr",
     "output_type": "stream",
     "text": [
      " 44%|████████████████████████████████████▉                                              | 8/18 [00:03<00:02,  3.61it/s]"
     ]
    },
    {
     "name": "stdout",
     "output_type": "stream",
     "text": [
      "inside\n",
      "inside\n"
     ]
    },
    {
     "name": "stderr",
     "output_type": "stream",
     "text": [
      " 50%|█████████████████████████████████████████▌                                         | 9/18 [00:03<00:02,  3.77it/s]"
     ]
    },
    {
     "name": "stdout",
     "output_type": "stream",
     "text": [
      "inside\n",
      "inside\n"
     ]
    },
    {
     "name": "stderr",
     "output_type": "stream",
     "text": [
      " 56%|█████████████████████████████████████████████▌                                    | 10/18 [00:03<00:02,  3.77it/s]"
     ]
    },
    {
     "name": "stdout",
     "output_type": "stream",
     "text": [
      "inside\n",
      "inside\n"
     ]
    },
    {
     "name": "stderr",
     "output_type": "stream",
     "text": [
      " 61%|██████████████████████████████████████████████████                                | 11/18 [00:03<00:01,  3.80it/s]"
     ]
    },
    {
     "name": "stdout",
     "output_type": "stream",
     "text": [
      "inside\n",
      "inside\n"
     ]
    },
    {
     "name": "stderr",
     "output_type": "stream",
     "text": [
      " 67%|██████████████████████████████████████████████████████▋                           | 12/18 [00:04<00:01,  3.90it/s]"
     ]
    },
    {
     "name": "stdout",
     "output_type": "stream",
     "text": [
      "inside\n",
      "inside\n"
     ]
    },
    {
     "name": "stderr",
     "output_type": "stream",
     "text": [
      " 72%|███████████████████████████████████████████████████████████▏                      | 13/18 [00:04<00:01,  4.10it/s]"
     ]
    },
    {
     "name": "stdout",
     "output_type": "stream",
     "text": [
      "inside\n",
      "inside\n"
     ]
    },
    {
     "name": "stderr",
     "output_type": "stream",
     "text": [
      " 78%|███████████████████████████████████████████████████████████████▊                  | 14/18 [00:04<00:00,  4.23it/s]"
     ]
    },
    {
     "name": "stdout",
     "output_type": "stream",
     "text": [
      "inside\n",
      "inside\n"
     ]
    },
    {
     "name": "stderr",
     "output_type": "stream",
     "text": [
      " 83%|████████████████████████████████████████████████████████████████████▎             | 15/18 [00:04<00:00,  4.37it/s]"
     ]
    },
    {
     "name": "stdout",
     "output_type": "stream",
     "text": [
      "inside\n",
      "inside\n"
     ]
    },
    {
     "name": "stderr",
     "output_type": "stream",
     "text": [
      " 89%|████████████████████████████████████████████████████████████████████████▉         | 16/18 [00:04<00:00,  4.27it/s]"
     ]
    },
    {
     "name": "stdout",
     "output_type": "stream",
     "text": [
      "inside\n",
      "inside\n"
     ]
    },
    {
     "name": "stderr",
     "output_type": "stream",
     "text": [
      " 94%|█████████████████████████████████████████████████████████████████████████████▍    | 17/18 [00:05<00:00,  4.30it/s]"
     ]
    },
    {
     "name": "stdout",
     "output_type": "stream",
     "text": [
      "inside\n",
      "inside\n"
     ]
    },
    {
     "name": "stderr",
     "output_type": "stream",
     "text": [
      "100%|██████████████████████████████████████████████████████████████████████████████████| 18/18 [00:05<00:00,  3.36it/s]"
     ]
    },
    {
     "name": "stdout",
     "output_type": "stream",
     "text": [
      "inside\n",
      "inside\n"
     ]
    },
    {
     "name": "stderr",
     "output_type": "stream",
     "text": [
      "\n"
     ]
    },
    {
     "name": "stdout",
     "output_type": "stream",
     "text": [
      "inside\n",
      "inside\n",
      "inside\n",
      "inside\n",
      "inside\n",
      "inside\n",
      "inside\n",
      "inside\n",
      "inside\n",
      "inside\n",
      "inside\n",
      "inside\n",
      "inside\n",
      "inside\n",
      "inside\n",
      "inside\n",
      "inside\n",
      "inside\n",
      "inside\n",
      "inside\n",
      "inside\n",
      "inside\n",
      "inside\n",
      "inside\n",
      "inside\n",
      "inside\n",
      "inside\n",
      "inside\n",
      "inside\n",
      "inside\n",
      "inside\n",
      "inside\n",
      "inside\n",
      "inside\n"
     ]
    }
   ],
   "source": [
    "viewer.camera.zoom=0.8"
   ]
  },
  {
   "cell_type": "markdown",
   "id": "aaa201b7-d8ae-4942-94d3-fbdbbd31fdde",
   "metadata": {},
   "source": [
    "## Troubleshooting the lack of image shift"
   ]
  },
  {
   "cell_type": "code",
   "execution_count": 128,
   "id": "b3a24153-a4cd-4a76-95de-90db2cb41f3f",
   "metadata": {},
   "outputs": [
    {
     "data": {
      "text/plain": [
       "(6911, 6911)"
      ]
     },
     "execution_count": 128,
     "metadata": {},
     "output_type": "execute_result"
    }
   ],
   "source": [
    "dapi_reference_img.shape"
   ]
  },
  {
   "cell_type": "code",
   "execution_count": 137,
   "id": "70994203-1c1f-4672-add0-823853381d09",
   "metadata": {},
   "outputs": [
    {
     "name": "stdout",
     "output_type": "stream",
     "text": [
      "\n",
      "\n",
      "Welcome to CellposeSAM, cellpose v4.0.1! The neural network component of\n",
      "CPSAM is much larger than in previous versions and CPU excution is slow. \n",
      "We encourage users to use GPU/MPS if available. \n",
      "\n",
      "\n",
      "GPU is available!\n",
      "Device name: NVIDIA RTX A6000\n"
     ]
    }
   ],
   "source": [
    "import torch\n",
    "from cellpose import models, core\n",
    "if torch.cuda.is_available():\n",
    "    print(\"GPU is available!\")\n",
    "    print(\"Device name:\", torch.cuda.get_device_name(0))\n",
    "else:\n",
    "    print(\"No GPU available.\")\n",
    "\n",
    "cellpose_model = models.CellposeModel(gpu=True)\n"
   ]
  },
  {
   "cell_type": "code",
   "execution_count": 138,
   "id": "5b1df2f0-e7b3-4ce8-996d-b6bee14dac48",
   "metadata": {},
   "outputs": [
    {
     "name": "stdout",
     "output_type": "stream",
     "text": [
      "Known offset (y, x): None\n"
     ]
    },
    {
     "data": {
      "image/png": "[encoded data removed]",
      "text/plain": [
       "<Figure size 800x300 with 3 Axes>"
      ]
     },
     "metadata": {},
     "output_type": "display_data"
    },
    {
     "name": "stdout",
     "output_type": "stream",
     "text": [
      "Detected pixel offset (y, x): [9. 2.]\n"
     ]
    },
    {
     "data": {
      "image/png": "[encoded data removed]",
      "text/plain": [
       "<Figure size 800x300 with 3 Axes>"
      ]
     },
     "metadata": {},
     "output_type": "display_data"
    },
    {
     "name": "stdout",
     "output_type": "stream",
     "text": [
      "Detected subpixel offset (y, x): [8.55 1.93]\n"
     ]
    }
   ],
   "source": [
    "import numpy as np\n",
    "import matplotlib.pyplot as plt\n",
    "\n",
    "from skimage import data\n",
    "from skimage.registration import phase_cross_correlation\n",
    "from skimage.registration._phase_cross_correlation import _upsampled_dft\n",
    "from scipy.ndimage import fourier_shift\n",
    "\n",
    "crop = 2000\n",
    "image = dapi_reference_img[0:crop,0:crop]\n",
    "shift = None #(-22.4, 13.32)\n",
    "# The shift corresponds to the pixel offset relative to the reference image\n",
    "# offset_image = fourier_shift(np.fft.fftn(image), shift)\n",
    "offset_image = dapi_cycle_img[0:crop,0:crop] #np.fft.ifftn(offset_image)\n",
    "print(f'Known offset (y, x): {shift}')\n",
    "\n",
    "\n",
    "image, flows, styles = cellpose_model.eval(image,)    \n",
    "offset_image, flows, styles = cellpose_model.eval(offset_image,)    \n",
    "# pixel precision first\n",
    "shift, error, diffphase = phase_cross_correlation(image, offset_image)\n",
    "\n",
    "fig = plt.figure(figsize=(8, 3))\n",
    "ax1 = plt.subplot(1, 3, 1)\n",
    "ax2 = plt.subplot(1, 3, 2, sharex=ax1, sharey=ax1)\n",
    "ax3 = plt.subplot(1, 3, 3)\n",
    "\n",
    "ax1.imshow(image, cmap='gray')\n",
    "ax1.set_axis_off()\n",
    "ax1.set_title('Reference image')\n",
    "\n",
    "ax2.imshow(offset_image.real, cmap='gray')\n",
    "ax2.set_axis_off()\n",
    "ax2.set_title('Offset image')\n",
    "\n",
    "# Show the output of a cross-correlation to show what the algorithm is\n",
    "# doing behind the scenes\n",
    "image_product = np.fft.fft2(image) * np.fft.fft2(offset_image).conj()\n",
    "cc_image = np.fft.fftshift(np.fft.ifft2(image_product))\n",
    "ax3.imshow(cc_image.real)\n",
    "ax3.set_axis_off()\n",
    "ax3.set_title(\"Cross-correlation\")\n",
    "\n",
    "plt.show()\n",
    "\n",
    "print(f'Detected pixel offset (y, x): {shift}')\n",
    "\n",
    "# subpixel precision\n",
    "shift, error, diffphase = phase_cross_correlation(\n",
    "    image, offset_image, upsample_factor=100\n",
    ")\n",
    "\n",
    "fig = plt.figure(figsize=(8, 3))\n",
    "ax1 = plt.subplot(1, 3, 1)\n",
    "ax2 = plt.subplot(1, 3, 2, sharex=ax1, sharey=ax1)\n",
    "ax3 = plt.subplot(1, 3, 3)\n",
    "\n",
    "ax1.imshow(image, cmap='gray')\n",
    "ax1.set_axis_off()\n",
    "ax1.set_title('Reference image')\n",
    "\n",
    "ax2.imshow(offset_image.real, cmap='gray')\n",
    "ax2.set_axis_off()\n",
    "ax2.set_title('Offset image')\n",
    "\n",
    "# Calculate the upsampled DFT, again to show what the algorithm is doing\n",
    "# behind the scenes.  Constants correspond to calculated values in routine.\n",
    "# See source code for details.\n",
    "cc_image = _upsampled_dft(image_product, 150, 100, (shift * 100) + 75).conj()\n",
    "ax3.imshow(cc_image.real)\n",
    "ax3.set_axis_off()\n",
    "ax3.set_title(\"Supersampled XC sub-area\")\n",
    "\n",
    "\n",
    "plt.show()\n",
    "\n",
    "print(f'Detected subpixel offset (y, x): {shift}')"
   ]
  },
  {
   "cell_type": "code",
   "execution_count": 134,
   "id": "85683673-a274-4ba2-a583-a3f05cc35706",
   "metadata": {},
   "outputs": [
    {
     "data": {
      "text/plain": [
       "371"
      ]
     },
     "execution_count": 134,
     "metadata": {},
     "output_type": "execute_result"
    }
   ],
   "source": [
    "thresh"
   ]
  },
  {
   "cell_type": "code",
   "execution_count": 127,
   "id": "aaa55159-2fbb-4366-ab5d-c2ebeeb02fa8",
   "metadata": {},
   "outputs": [
    {
     "data": {
      "text/plain": [
       "<Image layer 'dapi_reference_img [1]' at 0x7ff31de7cf70>"
      ]
     },
     "execution_count": 127,
     "metadata": {},
     "output_type": "execute_result"
    }
   ],
   "source": [
    "viewer.add_image(dapi_cycle_img)\n",
    "viewer.add_image(dapi_reference_img)"
   ]
  },
  {
   "cell_type": "code",
   "execution_count": null,
   "id": "3b874024-0a0f-4d5a-8911-e021a4c64035",
   "metadata": {},
   "outputs": [],
   "source": []
  }
 ],
 "metadata": {
  "kernelspec": {
   "display_name": "godspeed",
   "language": "python",
   "name": "godspeed"
  },
  "language_info": {
   "codemirror_mode": {
    "name": "ipython",
    "version": 3
   },
   "file_extension": ".py",
   "mimetype": "text/x-python",
   "name": "python",
   "nbconvert_exporter": "python",
   "pygments_lexer": "ipython3",
   "version": "3.10.13"
  }
 },
 "nbformat": 4,
 "nbformat_minor": 5
}
