{
 "cells": [
  {
   "cell_type": "code",
   "execution_count": 1,
   "id": "89746c4c-09fe-4359-bf6e-f625775fc52d",
   "metadata": {},
   "outputs": [],
   "source": [
    "import os\n",
    "import shutil\n",
    "import filecmp\n",
    "import logging\n",
    "from tqdm.auto import tqdm"
   ]
  },
  {
   "cell_type": "code",
   "execution_count": 4,
   "id": "f6ba4509-b517-42b3-9b34-29f35e250b19",
   "metadata": {
    "scrolled": true
   },
   "outputs": [
    {
     "data": {
      "application/vnd.jupyter.widget-view+json": {
       "model_id": "3e490bdf79db4f359126d9386f7ec06d",
       "version_major": 2,
       "version_minor": 0
      },
      "text/plain": [
       "  0%|          | 0/790328 [00:00<?, ?file/s]"
      ]
     },
     "metadata": {},
     "output_type": "display_data"
    }
   ],
   "source": [
    "\n",
    "\n",
    "# Configure logging\n",
    "logging.basicConfig(level=logging.ERROR,\n",
    "                    format='%(asctime)s - %(levelname)s - %(message)s',\n",
    "                    filename='file_transfer_log.txt')\n",
    "\n",
    "# Set your source and destination directories here\n",
    "source_directory = '/run/user/30046150/gvfs/smb-share:server=data2.thecrick.org,share=lab-gutierrezm/home/shared/Shared - Baptiste Pradel/4i/Live-cell to 4i for Nathan'\n",
    "destination_directory = '/mnt/DATA3/BPP0050'\n",
    "\n",
    "# Ensure both directories exist\n",
    "if not os.path.exists(source_directory):\n",
    "    print(f\"Error: Source directory '{source_directory}' does not exist.\")\n",
    "    exit()\n",
    "if not os.path.exists(destination_directory):\n",
    "    print(f\"Error: Destination directory '{destination_directory}' does not exist. Creating it.\")\n",
    "    os.makedirs(destination_directory)\n",
    "\n",
    "# Get the total number of files to copy\n",
    "total_files = 0\n",
    "for root, _, files in os.walk(source_directory):\n",
    "    total_files += len(files)\n",
    "\n",
    "# Use os.walk to traverse the source directory\n",
    "copied_files = 0\n",
    "with tqdm(total=total_files, unit='file') as pbar:\n",
    "    for root, _, files in os.walk(source_directory):\n",
    "        for file in files:\n",
    "            source_file_path = os.path.join(root, file)\n",
    "            dest_file_path = os.path.join(destination_directory, os.path.relpath(source_file_path, source_directory))\n",
    "\n",
    "            if not os.path.exists(dest_file_path):\n",
    "                # print(f\"Copying missing file: '{source_file_path}' to '{dest_file_path}'\")\n",
    "                os.makedirs(os.path.dirname(dest_file_path), exist_ok=True)\n",
    "                try:\n",
    "                    shutil.copy2(source_file_path, dest_file_path)\n",
    "                    copied_files += 1\n",
    "                    pbar.update(1)\n",
    "                except Exception as e:\n",
    "                    error_message = f\"Error copying file: '{source_file_path}': {e}\"\n",
    "                    print(error_message)\n",
    "                    logging.error(error_message)\n",
    "            elif not filecmp.cmp(source_file_path, dest_file_path, shallow=False):\n",
    "                # print(f\"Copying changed file: '{source_file_path}' to '{dest_file_path}'\")\n",
    "                try:\n",
    "                    shutil.copy2(source_file_path, dest_file_path)\n",
    "                    copied_files += 1\n",
    "                    pbar.update(1)\n",
    "                except Exception as e:\n",
    "                    error_message = f\"Error copying file: '{source_file_path}': {e}\"\n",
    "                    print(error_message)\n",
    "                    logging.error(error_message)\n",
    "            else:\n",
    "                # print(f\"Skipping identical file: '{source_file_path}'\")\n",
    "                pbar.update(1) #still update even if skipped.\n",
    "# print(f\"Copied {copied_files} files.\")\n"
   ]
  },
  {
   "cell_type": "markdown",
   "id": "7d1859c1-02cc-427e-af64-dfd64fcb6fb7",
   "metadata": {},
   "source": [
    "# Revisiting incomplete element"
   ]
  },
  {
   "cell_type": "code",
   "execution_count": null,
   "id": "2d3198cf-569b-4883-b185-9d1f4d623a89",
   "metadata": {},
   "outputs": [],
   "source": [
    "import os\n",
    "import shutil\n",
    "from tqdm.auto import tqdm\n",
    "\n",
    "def copy_images_with_progress(src_dir, dst_dir):\n",
    "    \"\"\"\n",
    "    Copies all files from the source directory to the destination directory\n",
    "    with a progress bar and error logging.\n",
    "\n",
    "    Args:\n",
    "        src_dir (str): Path to the source directory.\n",
    "        dst_dir (str): Path to the destination directory.\n",
    "    \"\"\"\n",
    "    if not os.path.exists(dst_dir):\n",
    "        os.makedirs(dst_dir)\n",
    "\n",
    "    files_to_copy = [f for f in os.listdir(src_dir) if os.path.isfile(os.path.join(src_dir, f))]\n",
    "    total_files = len(files_to_copy)\n",
    "    copied_count = 0\n",
    "    errors = []\n",
    "\n",
    "    with tqdm(total=total_files, desc=\"Copying Images\") as pbar:\n",
    "        for filename in files_to_copy:\n",
    "            src_path = os.path.join(src_dir, filename)\n",
    "            dst_path = os.path.join(dst_dir, filename)\n",
    "            try:\n",
    "                shutil.copy2(src_path, dst_path)  # copy with metadata\n",
    "                copied_count += 1\n",
    "                pbar.update(1)\n",
    "            except Exception as e:\n",
    "                errors.append(f\"Error copying '{filename}': {e}\")\n",
    "                pbar.update(1)\n",
    "\n",
    "    print(f\"\\nSuccessfully copied {copied_count}/{total_files} files.\")\n",
    "    if errors:\n",
    "        print(\"\\nErrors encountered:\")\n",
    "        for error in errors:\n",
    "            print(error)\n",
    "\n",
    "source_directory = '/mnt/OPERA/Baptiste_Live-cell to4i for Nathan/BPP0050-1-Live-cell-to4i_Live-2__2025-04-10T18_45_48-Measurement 1/Images'\n",
    "destination_directory = '/mnt/DATA3/BPP0050/BPP0050-1-Live-cell-to4i_Live-2__2025-04-10T18_45_48-Measurement 1/acquisition/Images'\n",
    "copy_images_with_progress(source_directory, destination_directory)"
   ]
  },
  {
   "cell_type": "code",
   "execution_count": 4,
   "id": "9063ded9-de4d-468b-b4f1-12199f1c9b00",
   "metadata": {},
   "outputs": [],
   "source": [
    "src_dir = source_directory\n",
    "dst_dir = destination_directory"
   ]
  },
  {
   "cell_type": "code",
   "execution_count": 5,
   "id": "a796ed0b-37a4-43a4-97e4-d70dbd9b2a30",
   "metadata": {},
   "outputs": [],
   "source": [
    "if not os.path.exists(dst_dir):\n",
    "    os.makedirs(dst_dir)\n",
    "\n",
    "files_to_copy = [f for f in os.listdir(src_dir) if os.path.isfile(os.path.join(src_dir, f))]\n",
    "total_files = len(files_to_copy)\n",
    "copied_count = 0\n",
    "errors = []\n"
   ]
  },
  {
   "cell_type": "code",
   "execution_count": 6,
   "id": "bd974b44-e2c6-4fe8-b1aa-b53b6eb2c283",
   "metadata": {},
   "outputs": [
    {
     "name": "stdout",
     "output_type": "stream",
     "text": [
      "642097\n"
     ]
    }
   ],
   "source": [
    "print(total_files)"
   ]
  },
  {
   "cell_type": "code",
   "execution_count": 9,
   "id": "e754baaa-661c-4c12-8ea2-0fafb6d4a388",
   "metadata": {},
   "outputs": [],
   "source": [
    "dst_dir = destination_directory = '/mnt/DATA3/BPP0050/BPP0050-1-Live-cell-to4i_Live-2__2025-04-10T18_45_48-Measurement 1/acquisition/Images'\n"
   ]
  },
  {
   "cell_type": "code",
   "execution_count": 10,
   "id": "152848b4-ad60-4596-afbe-446b48cc0bae",
   "metadata": {},
   "outputs": [
    {
     "data": {
      "application/vnd.jupyter.widget-view+json": {
       "model_id": "d9d43eafa45a469da89444b19e79e5df",
       "version_major": 2,
       "version_minor": 0
      },
      "text/plain": [
       "Copying Images:   0%|          | 0/642097 [00:00<?, ?it/s]"
      ]
     },
     "metadata": {},
     "output_type": "display_data"
    },
    {
     "name": "stdout",
     "output_type": "stream",
     "text": [
      "\n",
      "Successfully copied 642191/642097 files.\n"
     ]
    }
   ],
   "source": [
    "\n",
    "with tqdm(total=total_files, desc=\"Copying Images\") as pbar:\n",
    "    for filename in files_to_copy:\n",
    "        src_path = os.path.join(src_dir, filename)\n",
    "        dst_path = os.path.join(dst_dir, filename)\n",
    "        try:\n",
    "            shutil.copy2(src_path, dst_path)  # copy with metadata\n",
    "            copied_count += 1\n",
    "            pbar.update(1)\n",
    "        except Exception as e:\n",
    "            errors.append(f\"Error copying '{filename}': {e}\")\n",
    "            print('error')\n",
    "            pbar.update(1)\n",
    "\n",
    "print(f\"\\nSuccessfully copied {copied_count}/{total_files} files.\")\n",
    "if errors:\n",
    "    print(\"\\nErrors encountered:\")\n",
    "    for error in errors:\n",
    "        print(error)"
   ]
  }
 ],
 "metadata": {
  "kernelspec": {
   "display_name": "godspeed",
   "language": "python",
   "name": "godspeed"
  },
  "language_info": {
   "codemirror_mode": {
    "name": "ipython",
    "version": 3
   },
   "file_extension": ".py",
   "mimetype": "text/x-python",
   "name": "python",
   "nbconvert_exporter": "python",
   "pygments_lexer": "ipython3",
   "version": "3.10.13"
  }
 },
 "nbformat": 4,
 "nbformat_minor": 5
}
