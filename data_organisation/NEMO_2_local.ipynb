{
 "cells": [
  {
   "cell_type": "code",
   "execution_count": 4,
   "id": "f6ba4509-b517-42b3-9b34-29f35e250b19",
   "metadata": {
    "scrolled": true
   },
   "outputs": [
    {
     "data": {
      "application/vnd.jupyter.widget-view+json": {
       "model_id": "3e490bdf79db4f359126d9386f7ec06d",
       "version_major": 2,
       "version_minor": 0
      },
      "text/plain": [
       "  0%|          | 0/790328 [00:00<?, ?file/s]"
      ]
     },
     "metadata": {},
     "output_type": "display_data"
    }
   ],
   "source": [
    "import os\n",
    "import shutil\n",
    "import filecmp\n",
    "import logging\n",
    "from tqdm.auto import tqdm\n",
    "\n",
    "# Configure logging\n",
    "logging.basicConfig(level=logging.ERROR,\n",
    "                    format='%(asctime)s - %(levelname)s - %(message)s',\n",
    "                    filename='file_transfer_log.txt')\n",
    "\n",
    "# Set your source and destination directories here\n",
    "source_directory = '/run/user/30046150/gvfs/smb-share:server=data2.thecrick.org,share=lab-gutierrezm/home/shared/Shared - Baptiste Pradel/4i/Live-cell to 4i for Nathan'\n",
    "destination_directory = '/mnt/DATA3/BPP0050'\n",
    "\n",
    "# Ensure both directories exist\n",
    "if not os.path.exists(source_directory):\n",
    "    print(f\"Error: Source directory '{source_directory}' does not exist.\")\n",
    "    exit()\n",
    "if not os.path.exists(destination_directory):\n",
    "    print(f\"Error: Destination directory '{destination_directory}' does not exist. Creating it.\")\n",
    "    os.makedirs(destination_directory)\n",
    "\n",
    "# Get the total number of files to copy\n",
    "total_files = 0\n",
    "for root, _, files in os.walk(source_directory):\n",
    "    total_files += len(files)\n",
    "\n",
    "# Use os.walk to traverse the source directory\n",
    "copied_files = 0\n",
    "with tqdm(total=total_files, unit='file') as pbar:\n",
    "    for root, _, files in os.walk(source_directory):\n",
    "        for file in files:\n",
    "            source_file_path = os.path.join(root, file)\n",
    "            dest_file_path = os.path.join(destination_directory, os.path.relpath(source_file_path, source_directory))\n",
    "\n",
    "            if not os.path.exists(dest_file_path):\n",
    "                # print(f\"Copying missing file: '{source_file_path}' to '{dest_file_path}'\")\n",
    "                os.makedirs(os.path.dirname(dest_file_path), exist_ok=True)\n",
    "                try:\n",
    "                    shutil.copy2(source_file_path, dest_file_path)\n",
    "                    copied_files += 1\n",
    "                    pbar.update(1)\n",
    "                except Exception as e:\n",
    "                    error_message = f\"Error copying file: '{source_file_path}': {e}\"\n",
    "                    print(error_message)\n",
    "                    logging.error(error_message)\n",
    "            elif not filecmp.cmp(source_file_path, dest_file_path, shallow=False):\n",
    "                # print(f\"Copying changed file: '{source_file_path}' to '{dest_file_path}'\")\n",
    "                try:\n",
    "                    shutil.copy2(source_file_path, dest_file_path)\n",
    "                    copied_files += 1\n",
    "                    pbar.update(1)\n",
    "                except Exception as e:\n",
    "                    error_message = f\"Error copying file: '{source_file_path}': {e}\"\n",
    "                    print(error_message)\n",
    "                    logging.error(error_message)\n",
    "            else:\n",
    "                # print(f\"Skipping identical file: '{source_file_path}'\")\n",
    "                pbar.update(1) #still update even if skipped.\n",
    "# print(f\"Copied {copied_files} files.\")\n"
   ]
  }
 ],
 "metadata": {
  "kernelspec": {
   "display_name": "godspeed",
   "language": "python",
   "name": "godspeed"
  },
  "language_info": {
   "codemirror_mode": {
    "name": "ipython",
    "version": 3
   },
   "file_extension": ".py",
   "mimetype": "text/x-python",
   "name": "python",
   "nbconvert_exporter": "python",
   "pygments_lexer": "ipython3",
   "version": "3.10.13"
  }
 },
 "nbformat": 4,
 "nbformat_minor": 5
}
