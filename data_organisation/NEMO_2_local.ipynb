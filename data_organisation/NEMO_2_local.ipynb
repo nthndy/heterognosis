{
 "cells": [
  {
   "cell_type": "code",
   "execution_count": null,
   "id": "89746c4c-09fe-4359-bf6e-f625775fc52d",
   "metadata": {},
   "outputs": [],
   "source": [
    "import os\n",
    "import shutil\n",
    "import filecmp\n",
    "import logging\n",
    "from tqdm.auto import tqdm"
   ]
  },
  {
   "cell_type": "code",
   "execution_count": 4,
   "id": "f6ba4509-b517-42b3-9b34-29f35e250b19",
   "metadata": {
    "scrolled": true
   },
   "outputs": [
    {
     "data": {
      "application/vnd.jupyter.widget-view+json": {
       "model_id": "3e490bdf79db4f359126d9386f7ec06d",
       "version_major": 2,
       "version_minor": 0
      },
      "text/plain": [
       "  0%|          | 0/790328 [00:00<?, ?file/s]"
      ]
     },
     "metadata": {},
     "output_type": "display_data"
    }
   ],
   "source": [
    "\n",
    "\n",
    "# Configure logging\n",
    "logging.basicConfig(level=logging.ERROR,\n",
    "                    format='%(asctime)s - %(levelname)s - %(message)s',\n",
    "                    filename='file_transfer_log.txt')\n",
    "\n",
    "# Set your source and destination directories here\n",
    "source_directory = '/run/user/30046150/gvfs/smb-share:server=data2.thecrick.org,share=lab-gutierrezm/home/shared/Shared - Baptiste Pradel/4i/Live-cell to 4i for Nathan'\n",
    "destination_directory = '/mnt/DATA3/BPP0050'\n",
    "\n",
    "# Ensure both directories exist\n",
    "if not os.path.exists(source_directory):\n",
    "    print(f\"Error: Source directory '{source_directory}' does not exist.\")\n",
    "    exit()\n",
    "if not os.path.exists(destination_directory):\n",
    "    print(f\"Error: Destination directory '{destination_directory}' does not exist. Creating it.\")\n",
    "    os.makedirs(destination_directory)\n",
    "\n",
    "# Get the total number of files to copy\n",
    "total_files = 0\n",
    "for root, _, files in os.walk(source_directory):\n",
    "    total_files += len(files)\n",
    "\n",
    "# Use os.walk to traverse the source directory\n",
    "copied_files = 0\n",
    "with tqdm(total=total_files, unit='file') as pbar:\n",
    "    for root, _, files in os.walk(source_directory):\n",
    "        for file in files:\n",
    "            source_file_path = os.path.join(root, file)\n",
    "            dest_file_path = os.path.join(destination_directory, os.path.relpath(source_file_path, source_directory))\n",
    "\n",
    "            if not os.path.exists(dest_file_path):\n",
    "                # print(f\"Copying missing file: '{source_file_path}' to '{dest_file_path}'\")\n",
    "                os.makedirs(os.path.dirname(dest_file_path), exist_ok=True)\n",
    "                try:\n",
    "                    shutil.copy2(source_file_path, dest_file_path)\n",
    "                    copied_files += 1\n",
    "                    pbar.update(1)\n",
    "                except Exception as e:\n",
    "                    error_message = f\"Error copying file: '{source_file_path}': {e}\"\n",
    "                    print(error_message)\n",
    "                    logging.error(error_message)\n",
    "            elif not filecmp.cmp(source_file_path, dest_file_path, shallow=False):\n",
    "                # print(f\"Copying changed file: '{source_file_path}' to '{dest_file_path}'\")\n",
    "                try:\n",
    "                    shutil.copy2(source_file_path, dest_file_path)\n",
    "                    copied_files += 1\n",
    "                    pbar.update(1)\n",
    "                except Exception as e:\n",
    "                    error_message = f\"Error copying file: '{source_file_path}': {e}\"\n",
    "                    print(error_message)\n",
    "                    logging.error(error_message)\n",
    "            else:\n",
    "                # print(f\"Skipping identical file: '{source_file_path}'\")\n",
    "                pbar.update(1) #still update even if skipped.\n",
    "# print(f\"Copied {copied_files} files.\")\n"
   ]
  },
  {
   "cell_type": "markdown",
   "id": "7d1859c1-02cc-427e-af64-dfd64fcb6fb7",
   "metadata": {},
   "source": [
    "# Revisiting incomplete element"
   ]
  },
  {
   "cell_type": "code",
   "execution_count": 1,
   "id": "2d3198cf-569b-4883-b185-9d1f4d623a89",
   "metadata": {},
   "outputs": [
    {
     "name": "stderr",
     "output_type": "stream",
     "text": [
      "Exception ignored in: <bound method IPythonKernel._clean_thread_parent_frames of <ipykernel.ipkernel.IPythonKernel object at 0x7ff1a7760280>>\n",
      "Traceback (most recent call last):\n",
      "  File \"/home/dayn/miniconda3/envs/godspeed/lib/python3.10/site-packages/ipykernel/ipkernel.py\", line 775, in _clean_thread_parent_frames\n",
      "    def _clean_thread_parent_frames(\n",
      "KeyboardInterrupt: \n"
     ]
    },
    {
     "ename": "KeyboardInterrupt",
     "evalue": "",
     "output_type": "error",
     "traceback": [
      "\u001b[0;31m---------------------------------------------------------------------------\u001b[0m",
      "\u001b[0;31mKeyboardInterrupt\u001b[0m                         Traceback (most recent call last)",
      "Cell \u001b[0;32mIn[1], line 42\u001b[0m\n\u001b[1;32m     40\u001b[0m source_directory \u001b[38;5;241m=\u001b[39m \u001b[38;5;124m'\u001b[39m\u001b[38;5;124m/run/user/30046150/gvfs/smb-share:server=data2.thecrick.org,share=lab-gutierrezm/home/shared/Shared - Baptiste Pradel/4i/Live-cell to 4i for Nathan/BPP0050-1-Live-cell-to4i_Live-2__2025-04-10T18_45_48-Measurement 1/Images\u001b[39m\u001b[38;5;124m'\u001b[39m\n\u001b[1;32m     41\u001b[0m destination_directory \u001b[38;5;241m=\u001b[39m \u001b[38;5;124m'\u001b[39m\u001b[38;5;124m/mnt/DATA3/BPP0050/BPP0050-1-Live-cell-to4i_Live-2__2025-04-10T18_45_48-Measurement 1/Images\u001b[39m\u001b[38;5;124m'\u001b[39m\n\u001b[0;32m---> 42\u001b[0m \u001b[43mcopy_images_with_progress\u001b[49m\u001b[43m(\u001b[49m\u001b[43msource_directory\u001b[49m\u001b[43m,\u001b[49m\u001b[43m \u001b[49m\u001b[43mdestination_directory\u001b[49m\u001b[43m)\u001b[49m\n",
      "Cell \u001b[0;32mIn[1], line 17\u001b[0m, in \u001b[0;36mcopy_images_with_progress\u001b[0;34m(src_dir, dst_dir)\u001b[0m\n\u001b[1;32m     14\u001b[0m \u001b[38;5;28;01mif\u001b[39;00m \u001b[38;5;129;01mnot\u001b[39;00m os\u001b[38;5;241m.\u001b[39mpath\u001b[38;5;241m.\u001b[39mexists(dst_dir):\n\u001b[1;32m     15\u001b[0m     os\u001b[38;5;241m.\u001b[39mmakedirs(dst_dir)\n\u001b[0;32m---> 17\u001b[0m files_to_copy \u001b[38;5;241m=\u001b[39m [f \u001b[38;5;28;01mfor\u001b[39;00m f \u001b[38;5;129;01min\u001b[39;00m os\u001b[38;5;241m.\u001b[39mlistdir(src_dir) \u001b[38;5;28;01mif\u001b[39;00m os\u001b[38;5;241m.\u001b[39mpath\u001b[38;5;241m.\u001b[39misfile(os\u001b[38;5;241m.\u001b[39mpath\u001b[38;5;241m.\u001b[39mjoin(src_dir, f))]\n\u001b[1;32m     18\u001b[0m total_files \u001b[38;5;241m=\u001b[39m \u001b[38;5;28mlen\u001b[39m(files_to_copy)\n\u001b[1;32m     19\u001b[0m copied_count \u001b[38;5;241m=\u001b[39m \u001b[38;5;241m0\u001b[39m\n",
      "Cell \u001b[0;32mIn[1], line 17\u001b[0m, in \u001b[0;36m<listcomp>\u001b[0;34m(.0)\u001b[0m\n\u001b[1;32m     14\u001b[0m \u001b[38;5;28;01mif\u001b[39;00m \u001b[38;5;129;01mnot\u001b[39;00m os\u001b[38;5;241m.\u001b[39mpath\u001b[38;5;241m.\u001b[39mexists(dst_dir):\n\u001b[1;32m     15\u001b[0m     os\u001b[38;5;241m.\u001b[39mmakedirs(dst_dir)\n\u001b[0;32m---> 17\u001b[0m files_to_copy \u001b[38;5;241m=\u001b[39m [f \u001b[38;5;28;01mfor\u001b[39;00m f \u001b[38;5;129;01min\u001b[39;00m os\u001b[38;5;241m.\u001b[39mlistdir(src_dir) \u001b[38;5;28;01mif\u001b[39;00m \u001b[43mos\u001b[49m\u001b[38;5;241;43m.\u001b[39;49m\u001b[43mpath\u001b[49m\u001b[38;5;241;43m.\u001b[39;49m\u001b[43misfile\u001b[49m\u001b[43m(\u001b[49m\u001b[43mos\u001b[49m\u001b[38;5;241;43m.\u001b[39;49m\u001b[43mpath\u001b[49m\u001b[38;5;241;43m.\u001b[39;49m\u001b[43mjoin\u001b[49m\u001b[43m(\u001b[49m\u001b[43msrc_dir\u001b[49m\u001b[43m,\u001b[49m\u001b[43m \u001b[49m\u001b[43mf\u001b[49m\u001b[43m)\u001b[49m\u001b[43m)\u001b[49m]\n\u001b[1;32m     18\u001b[0m total_files \u001b[38;5;241m=\u001b[39m \u001b[38;5;28mlen\u001b[39m(files_to_copy)\n\u001b[1;32m     19\u001b[0m copied_count \u001b[38;5;241m=\u001b[39m \u001b[38;5;241m0\u001b[39m\n",
      "File \u001b[0;32m~/miniconda3/envs/godspeed/lib/python3.10/genericpath.py:30\u001b[0m, in \u001b[0;36misfile\u001b[0;34m(path)\u001b[0m\n\u001b[1;32m     28\u001b[0m \u001b[38;5;250m\u001b[39m\u001b[38;5;124;03m\"\"\"Test whether a path is a regular file\"\"\"\u001b[39;00m\n\u001b[1;32m     29\u001b[0m \u001b[38;5;28;01mtry\u001b[39;00m:\n\u001b[0;32m---> 30\u001b[0m     st \u001b[38;5;241m=\u001b[39m \u001b[43mos\u001b[49m\u001b[38;5;241;43m.\u001b[39;49m\u001b[43mstat\u001b[49m\u001b[43m(\u001b[49m\u001b[43mpath\u001b[49m\u001b[43m)\u001b[49m\n\u001b[1;32m     31\u001b[0m \u001b[38;5;28;01mexcept\u001b[39;00m (\u001b[38;5;167;01mOSError\u001b[39;00m, \u001b[38;5;167;01mValueError\u001b[39;00m):\n\u001b[1;32m     32\u001b[0m     \u001b[38;5;28;01mreturn\u001b[39;00m \u001b[38;5;28;01mFalse\u001b[39;00m\n",
      "\u001b[0;31mKeyboardInterrupt\u001b[0m: "
     ]
    }
   ],
   "source": [
    "import os\n",
    "import shutil\n",
    "from tqdm.auto import tqdm\n",
    "\n",
    "def copy_images_with_progress(src_dir, dst_dir):\n",
    "    \"\"\"\n",
    "    Copies all files from the source directory to the destination directory\n",
    "    with a progress bar and error logging.\n",
    "\n",
    "    Args:\n",
    "        src_dir (str): Path to the source directory.\n",
    "        dst_dir (str): Path to the destination directory.\n",
    "    \"\"\"\n",
    "    if not os.path.exists(dst_dir):\n",
    "        os.makedirs(dst_dir)\n",
    "\n",
    "    files_to_copy = [f for f in os.listdir(src_dir) if os.path.isfile(os.path.join(src_dir, f))]\n",
    "    total_files = len(files_to_copy)\n",
    "    copied_count = 0\n",
    "    errors = []\n",
    "\n",
    "    with tqdm(total=total_files, desc=\"Copying Images\") as pbar:\n",
    "        for filename in files_to_copy:\n",
    "            src_path = os.path.join(src_dir, filename)\n",
    "            dst_path = os.path.join(dst_dir, filename)\n",
    "            try:\n",
    "                shutil.copy2(src_path, dst_path)  # copy with metadata\n",
    "                copied_count += 1\n",
    "                pbar.update(1)\n",
    "            except Exception as e:\n",
    "                errors.append(f\"Error copying '{filename}': {e}\")\n",
    "                pbar.update(1)\n",
    "\n",
    "    print(f\"\\nSuccessfully copied {copied_count}/{total_files} files.\")\n",
    "    if errors:\n",
    "        print(\"\\nErrors encountered:\")\n",
    "        for error in errors:\n",
    "            print(error)\n",
    "\n",
    "source_directory = '/run/user/30046150/gvfs/smb-share:server=data2.thecrick.org,share=lab-gutierrezm/home/shared/Shared - Baptiste Pradel/4i/Live-cell to 4i for Nathan/BPP0050-1-Live-cell-to4i_Live-2__2025-04-10T18_45_48-Measurement 1/Images'\n",
    "destination_directory = '/mnt/DATA3/BPP0050/BPP0050-1-Live-cell-to4i_Live-2__2025-04-10T18_45_48-Measurement 1/Images'\n",
    "copy_images_with_progress(source_directory, destination_directory)"
   ]
  }
 ],
 "metadata": {
  "kernelspec": {
   "display_name": "godspeed",
   "language": "python",
   "name": "godspeed"
  },
  "language_info": {
   "codemirror_mode": {
    "name": "ipython",
    "version": 3
   },
   "file_extension": ".py",
   "mimetype": "text/x-python",
   "name": "python",
   "nbconvert_exporter": "python",
   "pygments_lexer": "ipython3",
   "version": "3.10.13"
  }
 },
 "nbformat": 4,
 "nbformat_minor": 5
}
