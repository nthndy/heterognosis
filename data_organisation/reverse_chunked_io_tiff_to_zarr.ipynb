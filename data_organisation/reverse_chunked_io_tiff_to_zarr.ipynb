{
 "cells": [
  {
   "cell_type": "markdown",
   "id": "0f386625-438a-4e1a-b696-d39ce1c852a7",
   "metadata": {},
   "source": [
    "# Zarr Tiling \n",
    "\n",
    "Notebook for taking Opera Phenix tiff output and tiling the images together into zarr mosaics with metadata attribute, specifically for the heterognosis project"
   ]
  },
  {
   "cell_type": "code",
   "execution_count": 1,
   "id": "adae0225-5c8b-42da-b76a-2af579102fbc",
   "metadata": {},
   "outputs": [],
   "source": [
    "import os\n",
    "import glob\n",
    "import pandas as pd\n",
    "import numpy as np\n",
    "import zarr\n",
    "import dask.array\n",
    "from scipy import stats\n",
    "import xml.etree.ElementTree as ET\n",
    "from tqdm.auto import tqdm \n",
    "from skimage.io import imread\n",
    "from macrohet import dataio \n",
    "\n",
    "\n",
    "def create_alpha_mask(height, width, feather=0.1):\n",
    "    \"\"\"\n",
    "    Create a 2D alpha mask of shape (height, width).\n",
    "    The mask is 1 in the interior, and over the last `feather` pixels\n",
    "    near each edge, it linearly ramps down to 0.\n",
    "    feather is a fraction of image i.e. a float percentage.\n",
    "    This is the core function that enables smooth image tiling \n",
    "    without dramatic cropping of cell morphology.\n",
    "    \"\"\"\n",
    "    # Coordinates\n",
    "    y = np.arange(height)\n",
    "    x = np.arange(width)\n",
    "\n",
    "    feather_pixels = feather * min(height, width)\n",
    "    \n",
    "    # Distance from left and right edges\n",
    "    dist_x_left  = x\n",
    "    dist_x_right = (width - 1) - x\n",
    "    # Distance from top and bottom edges\n",
    "    dist_y_top    = y\n",
    "    dist_y_bottom = (height - 1) - y\n",
    "    \n",
    "    # For each row, figure out the \"vertical\" ramp factor from top/bottom\n",
    "    # We'll make an array that is the min distance to top or bottom.\n",
    "    ramp_y = np.minimum(dist_y_top, dist_y_bottom)\n",
    "    # For each column, min distance to left or right\n",
    "    ramp_x = np.minimum(dist_x_left, dist_x_right)\n",
    "    \n",
    "    # Combine to get a 2D \"distance from any edge\"\n",
    "    # We can broadcast ramp_y over columns, ramp_x over rows\n",
    "    dist_from_edge = np.minimum(\n",
    "        ramp_y[:, None],\n",
    "        ramp_x[None, :]\n",
    "    )\n",
    "    \n",
    "    # Turn that distance into an alpha that goes from 0 to 1 linearly\n",
    "    # from the very edge to `feather` pixels in.\n",
    "    # If dist_from_edge >= feather, alpha=1. If dist < 0, alpha=0, etc.\n",
    "    alpha = np.clip(dist_from_edge / feather_pixels, 0, 1)\n",
    "    \n",
    "    return alpha\n",
    "\n",
    "\n",
    "def load_assay_layout(xml_file_name):\n",
    "    \"\"\"\n",
    "    Loads and parses an assay layout XML file into a pandas DataFrame with a 'position' index.\n",
    "\n",
    "    Args:\n",
    "        xml_file_name (str): The full path to the assay layout XML file.\n",
    "\n",
    "    Returns:\n",
    "        pandas.DataFrame: A DataFrame containing the assay layout information,\n",
    "                          with a 'position' column as index and each layer as a column.\n",
    "                          Returns an empty DataFrame if the file is not found or parsing fails.\n",
    "    \"\"\"\n",
    "    df_assay_layout = pd.DataFrame()\n",
    "\n",
    "    if not os.path.exists(xml_file_name):\n",
    "        print(f\"Error: The file '{xml_file_name}' was not found.\")\n",
    "    else:\n",
    "        try:\n",
    "            tree = ET.parse(xml_file_name)\n",
    "            root = tree.getroot()\n",
    "            namespaces = {'ns': 'http://www.perkinelmer.com/PEHH/HarmonyV5'}\n",
    "            plate_data = {}\n",
    "\n",
    "            for layer in root.findall('ns:Layer', namespaces):\n",
    "                layer_name_element = layer.find('ns:Name', namespaces)\n",
    "                if layer_name_element is None or layer_name_element.text is None:\n",
    "                    print(\"Warning: Found a layer without a name. Skipping this layer.\")\n",
    "                    continue\n",
    "                layer_name = layer_name_element.text.strip()\n",
    "\n",
    "                for well in layer.findall('ns:Well', namespaces):\n",
    "                    row_element = well.find('ns:Row', namespaces)\n",
    "                    col_element = well.find('ns:Col', namespaces)\n",
    "                    value_element = well.find('ns:Value', namespaces)\n",
    "\n",
    "                    if row_element is None or row_element.text is None or \\\n",
    "                       col_element is None or col_element.text is None:\n",
    "                        print(f\"Warning: Found a well in layer '{layer_name}' without row or col. Skipping this well.\")\n",
    "                        continue\n",
    "\n",
    "                    try:\n",
    "                        row = int(row_element.text.strip())\n",
    "                        col = int(col_element.text.strip())\n",
    "                    except ValueError:\n",
    "                        print(f\"Warning: Could not parse row/col as integers for a well in layer '{layer_name}'. Skipping this well.\")\n",
    "                        continue\n",
    "\n",
    "                    value = value_element.text.strip() if value_element is not None and value_element.text is not None else pd.NA\n",
    "                    well_key = (row, col)\n",
    "                    if well_key not in plate_data:\n",
    "                        plate_data[well_key] = {}\n",
    "                    plate_data[well_key][layer_name] = value\n",
    "\n",
    "            if plate_data:\n",
    "                df_assay_layout = pd.DataFrame.from_dict(plate_data, orient='index')\n",
    "                df_assay_layout.index.names = ['Row', 'Col']\n",
    "                df_assay_layout = df_assay_layout.sort_index()\n",
    "                df_assay_layout = df_assay_layout.dropna(how='all')\n",
    "\n",
    "                # Create a new 'position' column\n",
    "                df_assay_layout['position'] = df_assay_layout.index.map(lambda rc: f\"({rc[0]}, {rc[1]})\")\n",
    "                # Set 'position' as the new index\n",
    "                df_assay_layout = df_assay_layout.set_index('position')\n",
    "                df_assay_layout = df_assay_layout.drop(columns=['Row', 'Col']) # Drop the old index columns\n",
    "\n",
    "            else:\n",
    "                print(\"No data was extracted from the XML file to populate the DataFrame.\")\n",
    "\n",
    "        except ET.ParseError as e:\n",
    "            print(f\"Error parsing XML file '{xml_file_name}': {e}\")\n",
    "        except FileNotFoundError:\n",
    "            print(f\"Error: The file '{xml_file_name}' was not found.\")\n",
    "        except Exception as e:\n",
    "            print(f\"An unexpected error occurred during XML processing: {e}\")\n",
    "\n",
    "    return df_assay_layout\n"
   ]
  },
  {
   "cell_type": "markdown",
   "id": "3238f01f-4ae2-48df-ac49-fa69a691b9c7",
   "metadata": {},
   "source": [
    "### Add acquisition subdirectories\n",
    "\n",
    "This is where all the imagery will be kept"
   ]
  },
  {
   "cell_type": "code",
   "execution_count": null,
   "id": "aa93e011-c91e-4854-9031-2de325ce2820",
   "metadata": {},
   "outputs": [],
   "source": [
    "base_dir = '/mnt/DATA3/BPP0050/'\n",
    "parent_directories = glob.glob(os.path.join(base_dir, '*/'))\n",
    "\n",
    "# Define the name of the new subdirectory for acquisitions\n",
    "ACQUISITIONS_DIR_NAME = \"acquisition\"\n",
    "\n",
    "print(f\"Starting to organize subdirectories into '{ACQUISITIONS_DIR_NAME}'...\")\n",
    "\n",
    "for parent_dir in parent_directories:\n",
    "    # Ensure the parent directory path is clean and exists\n",
    "    parent_dir = os.path.normpath(parent_dir)\n",
    "    if not os.path.isdir(parent_dir):\n",
    "        print(f\"Warning: Parent directory not found, skipping: {parent_dir}\")\n",
    "        continue\n",
    "\n",
    "    # Construct the path for the new 'acquisitions' subdirectory\n",
    "    acquisitions_path = os.path.join(parent_dir, ACQUISITIONS_DIR_NAME)\n",
    "\n",
    "    # Create the 'acquisitions' subdirectory if it doesn't exist\n",
    "    try:\n",
    "        os.makedirs(acquisitions_path, exist_ok=True)\n",
    "        print(f\"Ensured '{acquisitions_path}' exists.\")\n",
    "    except OSError as e:\n",
    "        print(f\"Error creating '{acquisitions_path}': {e}\")\n",
    "        continue # Skip to the next parent directory if creation fails\n",
    "\n",
    "    # List all entries in the parent directory\n",
    "    # Filter for actual directories, excluding the 'acquisitions' directory itself\n",
    "    items_in_parent_dir = [\n",
    "        d for d in os.listdir(parent_dir)\n",
    "        if os.path.isdir(os.path.join(parent_dir, d)) and d != ACQUISITIONS_DIR_NAME\n",
    "    ]\n",
    "\n",
    "    if not items_in_parent_dir:\n",
    "        print(f\"No subdirectories found to move in: {parent_dir}\")\n",
    "        continue\n",
    "\n",
    "    print(f\"Processing parent directory: {parent_dir}\")\n",
    "    for subdir_name in items_in_parent_dir:\n",
    "        source_path = os.path.join(parent_dir, subdir_name)\n",
    "        destination_path = os.path.join(acquisitions_path, subdir_name)\n",
    "\n",
    "        try:\n",
    "            # Move the subdirectory\n",
    "            shutil.move(source_path, destination_path)\n",
    "            print(f\"  Moved '{source_path}' to '{destination_path}'\")\n",
    "        except shutil.Error as e:\n",
    "            print(f\"  Error moving '{source_path}': {e}\")\n",
    "        except Exception as e:\n",
    "            print(f\"  An unexpected error occurred while moving '{source_path}': {e}\")\n",
    "\n",
    "print(\"Script finished.\")"
   ]
  },
  {
   "cell_type": "markdown",
   "id": "b18bcaa1-7b7b-4632-b4f7-09726eed5786",
   "metadata": {},
   "source": [
    "# Tile, add metadata and save out "
   ]
  },
  {
   "cell_type": "code",
   "execution_count": 2,
   "id": "56ae1b72-5a0c-4638-990c-1d6cff78eb64",
   "metadata": {},
   "outputs": [
    {
     "data": {
      "text/plain": [
       "['/mnt/DATA3/BPP0050/BPP0050-1-Live-cell-to4i_Fixed_Cy5__2025-04-18T16_38_51-Measurement 1/',\n",
       " '/mnt/DATA3/BPP0050/BPP0050-1-Live-cell-to4i_Fixed_Cy8__2025-04-21T16_49_44-Measurement 1/',\n",
       " '/mnt/DATA3/BPP0050/BPP0050-1-Live-cell-to4i_Fixed_Cy10__2025-04-23T15_45_30-Measurement 1/',\n",
       " '/mnt/DATA3/BPP0050/BPP0050-1-Live-cell-to4i_Fixed_Cy2__2025-04-15T16_42_33-Measurement 3/',\n",
       " '/mnt/DATA3/BPP0050/BPP0050-1-Live-cell-to4i_Fixed_Cy4__2025-04-17T16_24_52-Measurement 1/',\n",
       " '/mnt/DATA3/BPP0050/multiplexed/',\n",
       " '/mnt/DATA3/BPP0050/BPP0050-1-Live-cell-to4i_Live-1__2025-04-09T18_25_04-Measurement 1/',\n",
       " '/mnt/DATA3/BPP0050/BPP0050-1-Live-cell-to4i_Live-2__2025-04-10T18_45_48-Measurement 1/',\n",
       " '/mnt/DATA3/BPP0050/BPP0050-1-Live-cell-to4i_Fixed_Cy7__2025-04-20T16_03_17-Measurement 1/',\n",
       " '/mnt/DATA3/BPP0050/BPP0050-1-Live-cell-to4i_Fixed_Cy17__2025-04-30T18_09_02-Measurement 1/',\n",
       " '/mnt/DATA3/BPP0050/BPP0050-1-Live-cell-to4i_Fixed_Cy13__2025-04-26T16_33_47-Measurement 1/',\n",
       " '/mnt/DATA3/BPP0050/BPP0050-1-Live-cell-to4i_Fixed_Cy6__2025-04-19T16_14_26-Measurement 1/',\n",
       " '/mnt/DATA3/BPP0050/BPP0050-1-Live-cell-to4i_Fixed_Cy9__2025-04-22T18_25_01-Measurement 1/',\n",
       " '/mnt/DATA3/BPP0050/BPP0050-1-Live-cell-to4i_Fixed_Cy1-2__2025-04-14T18_24_32-Measurement 1/',\n",
       " '/mnt/DATA3/BPP0050/BPP0050-1-Live-cell-to4i_Fixed_Cy15__2025-04-28T16_14_55-Measurement 1/',\n",
       " '/mnt/DATA3/BPP0050/BPP0050-1-Live-cell-to4i_Fixed_Cy16__2025-04-29T15_39_50-Measurement 1/',\n",
       " '/mnt/DATA3/BPP0050/BPP0050-1-Live-cell-to4i_Fixed_Cy1__2025-04-14T16_57_11-Measurement 1/',\n",
       " '/mnt/DATA3/BPP0050/BPP0050-1-Live-cell-to4i_Fixed_Cy12__2025-04-25T15_48_30-Measurement 1/',\n",
       " '/mnt/DATA3/BPP0050/BPP0050-1-Live-cell-to4i_Fixed_Cy3__2025-04-16T16_15_21-Measurement 1/',\n",
       " '/mnt/DATA3/BPP0050/BPP0050-1-Live-cell-to4i_Fixed_Cy11__2025-04-24T16_08_42-Measurement 1/',\n",
       " '/mnt/DATA3/BPP0050/BPP0050-1-Live-cell-to4i_Fixed_Cy14__2025-04-27T15_20_15-Measurement 1/']"
      ]
     },
     "execution_count": 2,
     "metadata": {},
     "output_type": "execute_result"
    }
   ],
   "source": [
    "base_dir = '/mnt/DATA3/BPP0050/'\n",
    "base_dirs = glob.glob(os.path.join(base_dir, '*/'))\n",
    "base_dirs"
   ]
  },
  {
   "cell_type": "code",
   "execution_count": null,
   "id": "b99c47cd-497e-4732-9588-6dcc68d0ee16",
   "metadata": {
    "scrolled": true
   },
   "outputs": [
    {
     "data": {
      "application/vnd.jupyter.widget-view+json": {
       "model_id": "b3811d5e9da24fcd9cd9d4f2e6e20244",
       "version_major": 2,
       "version_minor": 0
      },
      "text/plain": [
       "  0%|          | 0/21 [00:00<?, ?it/s]"
      ]
     },
     "metadata": {},
     "output_type": "display_data"
    },
    {
     "name": "stdout",
     "output_type": "stream",
     "text": [
      "skipping completed BPP0050-1-Live-cell-to4i_Fixed_Cy5__2025-04-18T16_38_51-Measurement 1\n",
      "skipping completed BPP0050-1-Live-cell-to4i_Fixed_Cy8__2025-04-21T16_49_44-Measurement 1\n",
      "skipping completed BPP0050-1-Live-cell-to4i_Fixed_Cy10__2025-04-23T15_45_30-Measurement 1\n",
      "skipping completed BPP0050-1-Live-cell-to4i_Fixed_Cy2__2025-04-15T16_42_33-Measurement 3\n",
      "skipping completed BPP0050-1-Live-cell-to4i_Fixed_Cy4__2025-04-17T16_24_52-Measurement 1\n",
      "skipping completed multiplexed\n",
      "skipping completed BPP0050-1-Live-cell-to4i_Live-1__2025-04-09T18_25_04-Measurement 1\n",
      "Reading metadata XML file...\n"
     ]
    },
    {
     "data": {
      "application/vnd.jupyter.widget-view+json": {
       "model_id": "683a6d9c56da4582a33ad2c391368ce7",
       "version_major": 2,
       "version_minor": 0
      },
      "text/plain": [
       "0it [00:00, ?it/s]"
      ]
     },
     "metadata": {},
     "output_type": "display_data"
    },
    {
     "name": "stdout",
     "output_type": "stream",
     "text": [
      "Extracting metadata complete!\n"
     ]
    },
    {
     "name": "stderr",
     "output_type": "stream",
     "text": [
      "/tmp/ipykernel_95196/2933064589.py:12: FutureWarning: errors='ignore' is deprecated and will raise in a future version. Use to_numeric without passing `errors` and catch exceptions explicitly instead\n",
      "  metadata = metadata.apply(pd.to_numeric, errors='ignore')\n"
     ]
    },
    {
     "name": "stdout",
     "output_type": "stream",
     "text": [
      "An unexpected error occurred during XML processing: \"['Row', 'Col'] not found in axis\"\n"
     ]
    },
    {
     "data": {
      "application/vnd.jupyter.widget-view+json": {
       "model_id": "bba19ac962cf4f8a9c659dea4ae1ad34",
       "version_major": 2,
       "version_minor": 0
      },
      "text/plain": [
       "Now tiling in BPP0050-1-Live-cell-to4i_Live-2__2025-04-10T18_45_48-Measurement 1:   0%|          | 0/13 [00:00…"
      ]
     },
     "metadata": {},
     "output_type": "display_data"
    },
    {
     "data": {
      "application/vnd.jupyter.widget-view+json": {
       "model_id": "709cff0b022e4038a8b6259dc363a388",
       "version_major": 2,
       "version_minor": 0
      },
      "text/plain": [
       "Processing Time Points:   0%|          | 0/144 [00:00<?, ?it/s]"
      ]
     },
     "metadata": {},
     "output_type": "display_data"
    },
    {
     "data": {
      "application/vnd.jupyter.widget-view+json": {
       "model_id": "",
       "version_major": 2,
       "version_minor": 0
      },
      "text/plain": [
       "Processing Channels (T=0):   0%|          | 0/3 [00:00<?, ?it/s]"
      ]
     },
     "metadata": {},
     "output_type": "display_data"
    },
    {
     "data": {
      "application/vnd.jupyter.widget-view+json": {
       "model_id": "",
       "version_major": 2,
       "version_minor": 0
      },
      "text/plain": [
       "Processing Channels (T=1):   0%|          | 0/3 [00:00<?, ?it/s]"
      ]
     },
     "metadata": {},
     "output_type": "display_data"
    },
    {
     "data": {
      "application/vnd.jupyter.widget-view+json": {
       "model_id": "",
       "version_major": 2,
       "version_minor": 0
      },
      "text/plain": [
       "Processing Channels (T=2):   0%|          | 0/3 [00:00<?, ?it/s]"
      ]
     },
     "metadata": {},
     "output_type": "display_data"
    },
    {
     "data": {
      "application/vnd.jupyter.widget-view+json": {
       "model_id": "",
       "version_major": 2,
       "version_minor": 0
      },
      "text/plain": [
       "Processing Channels (T=3):   0%|          | 0/3 [00:00<?, ?it/s]"
      ]
     },
     "metadata": {},
     "output_type": "display_data"
    },
    {
     "data": {
      "application/vnd.jupyter.widget-view+json": {
       "model_id": "",
       "version_major": 2,
       "version_minor": 0
      },
      "text/plain": [
       "Processing Channels (T=4):   0%|          | 0/3 [00:00<?, ?it/s]"
      ]
     },
     "metadata": {},
     "output_type": "display_data"
    },
    {
     "data": {
      "application/vnd.jupyter.widget-view+json": {
       "model_id": "",
       "version_major": 2,
       "version_minor": 0
      },
      "text/plain": [
       "Processing Channels (T=5):   0%|          | 0/3 [00:00<?, ?it/s]"
      ]
     },
     "metadata": {},
     "output_type": "display_data"
    },
    {
     "data": {
      "application/vnd.jupyter.widget-view+json": {
       "model_id": "",
       "version_major": 2,
       "version_minor": 0
      },
      "text/plain": [
       "Processing Channels (T=6):   0%|          | 0/3 [00:00<?, ?it/s]"
      ]
     },
     "metadata": {},
     "output_type": "display_data"
    },
    {
     "data": {
      "application/vnd.jupyter.widget-view+json": {
       "model_id": "",
       "version_major": 2,
       "version_minor": 0
      },
      "text/plain": [
       "Processing Channels (T=7):   0%|          | 0/3 [00:00<?, ?it/s]"
      ]
     },
     "metadata": {},
     "output_type": "display_data"
    },
    {
     "data": {
      "application/vnd.jupyter.widget-view+json": {
       "model_id": "",
       "version_major": 2,
       "version_minor": 0
      },
      "text/plain": [
       "Processing Channels (T=8):   0%|          | 0/3 [00:00<?, ?it/s]"
      ]
     },
     "metadata": {},
     "output_type": "display_data"
    },
    {
     "data": {
      "application/vnd.jupyter.widget-view+json": {
       "model_id": "",
       "version_major": 2,
       "version_minor": 0
      },
      "text/plain": [
       "Processing Channels (T=9):   0%|          | 0/3 [00:00<?, ?it/s]"
      ]
     },
     "metadata": {},
     "output_type": "display_data"
    },
    {
     "data": {
      "application/vnd.jupyter.widget-view+json": {
       "model_id": "",
       "version_major": 2,
       "version_minor": 0
      },
      "text/plain": [
       "Processing Channels (T=10):   0%|          | 0/3 [00:00<?, ?it/s]"
      ]
     },
     "metadata": {},
     "output_type": "display_data"
    },
    {
     "data": {
      "application/vnd.jupyter.widget-view+json": {
       "model_id": "",
       "version_major": 2,
       "version_minor": 0
      },
      "text/plain": [
       "Processing Channels (T=11):   0%|          | 0/3 [00:00<?, ?it/s]"
      ]
     },
     "metadata": {},
     "output_type": "display_data"
    },
    {
     "data": {
      "application/vnd.jupyter.widget-view+json": {
       "model_id": "",
       "version_major": 2,
       "version_minor": 0
      },
      "text/plain": [
       "Processing Channels (T=12):   0%|          | 0/3 [00:00<?, ?it/s]"
      ]
     },
     "metadata": {},
     "output_type": "display_data"
    },
    {
     "data": {
      "application/vnd.jupyter.widget-view+json": {
       "model_id": "",
       "version_major": 2,
       "version_minor": 0
      },
      "text/plain": [
       "Processing Channels (T=13):   0%|          | 0/3 [00:00<?, ?it/s]"
      ]
     },
     "metadata": {},
     "output_type": "display_data"
    },
    {
     "data": {
      "application/vnd.jupyter.widget-view+json": {
       "model_id": "",
       "version_major": 2,
       "version_minor": 0
      },
      "text/plain": [
       "Processing Channels (T=14):   0%|          | 0/3 [00:00<?, ?it/s]"
      ]
     },
     "metadata": {},
     "output_type": "display_data"
    },
    {
     "data": {
      "application/vnd.jupyter.widget-view+json": {
       "model_id": "",
       "version_major": 2,
       "version_minor": 0
      },
      "text/plain": [
       "Processing Channels (T=15):   0%|          | 0/3 [00:00<?, ?it/s]"
      ]
     },
     "metadata": {},
     "output_type": "display_data"
    },
    {
     "data": {
      "application/vnd.jupyter.widget-view+json": {
       "model_id": "",
       "version_major": 2,
       "version_minor": 0
      },
      "text/plain": [
       "Processing Channels (T=16):   0%|          | 0/3 [00:00<?, ?it/s]"
      ]
     },
     "metadata": {},
     "output_type": "display_data"
    },
    {
     "data": {
      "application/vnd.jupyter.widget-view+json": {
       "model_id": "",
       "version_major": 2,
       "version_minor": 0
      },
      "text/plain": [
       "Processing Channels (T=17):   0%|          | 0/3 [00:00<?, ?it/s]"
      ]
     },
     "metadata": {},
     "output_type": "display_data"
    },
    {
     "data": {
      "application/vnd.jupyter.widget-view+json": {
       "model_id": "",
       "version_major": 2,
       "version_minor": 0
      },
      "text/plain": [
       "Processing Channels (T=18):   0%|          | 0/3 [00:00<?, ?it/s]"
      ]
     },
     "metadata": {},
     "output_type": "display_data"
    },
    {
     "data": {
      "application/vnd.jupyter.widget-view+json": {
       "model_id": "",
       "version_major": 2,
       "version_minor": 0
      },
      "text/plain": [
       "Processing Channels (T=19):   0%|          | 0/3 [00:00<?, ?it/s]"
      ]
     },
     "metadata": {},
     "output_type": "display_data"
    },
    {
     "data": {
      "application/vnd.jupyter.widget-view+json": {
       "model_id": "",
       "version_major": 2,
       "version_minor": 0
      },
      "text/plain": [
       "Processing Channels (T=20):   0%|          | 0/3 [00:00<?, ?it/s]"
      ]
     },
     "metadata": {},
     "output_type": "display_data"
    },
    {
     "data": {
      "application/vnd.jupyter.widget-view+json": {
       "model_id": "",
       "version_major": 2,
       "version_minor": 0
      },
      "text/plain": [
       "Processing Channels (T=21):   0%|          | 0/3 [00:00<?, ?it/s]"
      ]
     },
     "metadata": {},
     "output_type": "display_data"
    },
    {
     "data": {
      "application/vnd.jupyter.widget-view+json": {
       "model_id": "",
       "version_major": 2,
       "version_minor": 0
      },
      "text/plain": [
       "Processing Channels (T=22):   0%|          | 0/3 [00:00<?, ?it/s]"
      ]
     },
     "metadata": {},
     "output_type": "display_data"
    },
    {
     "data": {
      "application/vnd.jupyter.widget-view+json": {
       "model_id": "",
       "version_major": 2,
       "version_minor": 0
      },
      "text/plain": [
       "Processing Channels (T=23):   0%|          | 0/3 [00:00<?, ?it/s]"
      ]
     },
     "metadata": {},
     "output_type": "display_data"
    },
    {
     "data": {
      "application/vnd.jupyter.widget-view+json": {
       "model_id": "",
       "version_major": 2,
       "version_minor": 0
      },
      "text/plain": [
       "Processing Channels (T=24):   0%|          | 0/3 [00:00<?, ?it/s]"
      ]
     },
     "metadata": {},
     "output_type": "display_data"
    },
    {
     "data": {
      "application/vnd.jupyter.widget-view+json": {
       "model_id": "",
       "version_major": 2,
       "version_minor": 0
      },
      "text/plain": [
       "Processing Channels (T=25):   0%|          | 0/3 [00:00<?, ?it/s]"
      ]
     },
     "metadata": {},
     "output_type": "display_data"
    },
    {
     "data": {
      "application/vnd.jupyter.widget-view+json": {
       "model_id": "",
       "version_major": 2,
       "version_minor": 0
      },
      "text/plain": [
       "Processing Channels (T=26):   0%|          | 0/3 [00:00<?, ?it/s]"
      ]
     },
     "metadata": {},
     "output_type": "display_data"
    },
    {
     "data": {
      "application/vnd.jupyter.widget-view+json": {
       "model_id": "",
       "version_major": 2,
       "version_minor": 0
      },
      "text/plain": [
       "Processing Channels (T=27):   0%|          | 0/3 [00:00<?, ?it/s]"
      ]
     },
     "metadata": {},
     "output_type": "display_data"
    },
    {
     "data": {
      "application/vnd.jupyter.widget-view+json": {
       "model_id": "",
       "version_major": 2,
       "version_minor": 0
      },
      "text/plain": [
       "Processing Channels (T=28):   0%|          | 0/3 [00:00<?, ?it/s]"
      ]
     },
     "metadata": {},
     "output_type": "display_data"
    },
    {
     "data": {
      "application/vnd.jupyter.widget-view+json": {
       "model_id": "",
       "version_major": 2,
       "version_minor": 0
      },
      "text/plain": [
       "Processing Channels (T=29):   0%|          | 0/3 [00:00<?, ?it/s]"
      ]
     },
     "metadata": {},
     "output_type": "display_data"
    },
    {
     "data": {
      "application/vnd.jupyter.widget-view+json": {
       "model_id": "",
       "version_major": 2,
       "version_minor": 0
      },
      "text/plain": [
       "Processing Channels (T=30):   0%|          | 0/3 [00:00<?, ?it/s]"
      ]
     },
     "metadata": {},
     "output_type": "display_data"
    },
    {
     "data": {
      "application/vnd.jupyter.widget-view+json": {
       "model_id": "",
       "version_major": 2,
       "version_minor": 0
      },
      "text/plain": [
       "Processing Channels (T=31):   0%|          | 0/3 [00:00<?, ?it/s]"
      ]
     },
     "metadata": {},
     "output_type": "display_data"
    },
    {
     "data": {
      "application/vnd.jupyter.widget-view+json": {
       "model_id": "",
       "version_major": 2,
       "version_minor": 0
      },
      "text/plain": [
       "Processing Channels (T=32):   0%|          | 0/3 [00:00<?, ?it/s]"
      ]
     },
     "metadata": {},
     "output_type": "display_data"
    },
    {
     "data": {
      "application/vnd.jupyter.widget-view+json": {
       "model_id": "",
       "version_major": 2,
       "version_minor": 0
      },
      "text/plain": [
       "Processing Channels (T=33):   0%|          | 0/3 [00:00<?, ?it/s]"
      ]
     },
     "metadata": {},
     "output_type": "display_data"
    },
    {
     "data": {
      "application/vnd.jupyter.widget-view+json": {
       "model_id": "",
       "version_major": 2,
       "version_minor": 0
      },
      "text/plain": [
       "Processing Channels (T=34):   0%|          | 0/3 [00:00<?, ?it/s]"
      ]
     },
     "metadata": {},
     "output_type": "display_data"
    },
    {
     "data": {
      "application/vnd.jupyter.widget-view+json": {
       "model_id": "",
       "version_major": 2,
       "version_minor": 0
      },
      "text/plain": [
       "Processing Channels (T=35):   0%|          | 0/3 [00:00<?, ?it/s]"
      ]
     },
     "metadata": {},
     "output_type": "display_data"
    },
    {
     "data": {
      "application/vnd.jupyter.widget-view+json": {
       "model_id": "",
       "version_major": 2,
       "version_minor": 0
      },
      "text/plain": [
       "Processing Channels (T=36):   0%|          | 0/3 [00:00<?, ?it/s]"
      ]
     },
     "metadata": {},
     "output_type": "display_data"
    },
    {
     "data": {
      "application/vnd.jupyter.widget-view+json": {
       "model_id": "",
       "version_major": 2,
       "version_minor": 0
      },
      "text/plain": [
       "Processing Channels (T=37):   0%|          | 0/3 [00:00<?, ?it/s]"
      ]
     },
     "metadata": {},
     "output_type": "display_data"
    },
    {
     "data": {
      "application/vnd.jupyter.widget-view+json": {
       "model_id": "",
       "version_major": 2,
       "version_minor": 0
      },
      "text/plain": [
       "Processing Channels (T=38):   0%|          | 0/3 [00:00<?, ?it/s]"
      ]
     },
     "metadata": {},
     "output_type": "display_data"
    },
    {
     "data": {
      "application/vnd.jupyter.widget-view+json": {
       "model_id": "",
       "version_major": 2,
       "version_minor": 0
      },
      "text/plain": [
       "Processing Channels (T=39):   0%|          | 0/3 [00:00<?, ?it/s]"
      ]
     },
     "metadata": {},
     "output_type": "display_data"
    },
    {
     "data": {
      "application/vnd.jupyter.widget-view+json": {
       "model_id": "",
       "version_major": 2,
       "version_minor": 0
      },
      "text/plain": [
       "Processing Channels (T=40):   0%|          | 0/3 [00:00<?, ?it/s]"
      ]
     },
     "metadata": {},
     "output_type": "display_data"
    },
    {
     "data": {
      "application/vnd.jupyter.widget-view+json": {
       "model_id": "",
       "version_major": 2,
       "version_minor": 0
      },
      "text/plain": [
       "Processing Channels (T=41):   0%|          | 0/3 [00:00<?, ?it/s]"
      ]
     },
     "metadata": {},
     "output_type": "display_data"
    },
    {
     "data": {
      "application/vnd.jupyter.widget-view+json": {
       "model_id": "",
       "version_major": 2,
       "version_minor": 0
      },
      "text/plain": [
       "Processing Channels (T=42):   0%|          | 0/3 [00:00<?, ?it/s]"
      ]
     },
     "metadata": {},
     "output_type": "display_data"
    },
    {
     "data": {
      "application/vnd.jupyter.widget-view+json": {
       "model_id": "",
       "version_major": 2,
       "version_minor": 0
      },
      "text/plain": [
       "Processing Channels (T=43):   0%|          | 0/3 [00:00<?, ?it/s]"
      ]
     },
     "metadata": {},
     "output_type": "display_data"
    },
    {
     "data": {
      "application/vnd.jupyter.widget-view+json": {
       "model_id": "",
       "version_major": 2,
       "version_minor": 0
      },
      "text/plain": [
       "Processing Channels (T=44):   0%|          | 0/3 [00:00<?, ?it/s]"
      ]
     },
     "metadata": {},
     "output_type": "display_data"
    },
    {
     "data": {
      "application/vnd.jupyter.widget-view+json": {
       "model_id": "",
       "version_major": 2,
       "version_minor": 0
      },
      "text/plain": [
       "Processing Channels (T=45):   0%|          | 0/3 [00:00<?, ?it/s]"
      ]
     },
     "metadata": {},
     "output_type": "display_data"
    },
    {
     "data": {
      "application/vnd.jupyter.widget-view+json": {
       "model_id": "",
       "version_major": 2,
       "version_minor": 0
      },
      "text/plain": [
       "Processing Channels (T=46):   0%|          | 0/3 [00:00<?, ?it/s]"
      ]
     },
     "metadata": {},
     "output_type": "display_data"
    },
    {
     "data": {
      "application/vnd.jupyter.widget-view+json": {
       "model_id": "",
       "version_major": 2,
       "version_minor": 0
      },
      "text/plain": [
       "Processing Channels (T=47):   0%|          | 0/3 [00:00<?, ?it/s]"
      ]
     },
     "metadata": {},
     "output_type": "display_data"
    },
    {
     "data": {
      "application/vnd.jupyter.widget-view+json": {
       "model_id": "",
       "version_major": 2,
       "version_minor": 0
      },
      "text/plain": [
       "Processing Channels (T=48):   0%|          | 0/3 [00:00<?, ?it/s]"
      ]
     },
     "metadata": {},
     "output_type": "display_data"
    },
    {
     "data": {
      "application/vnd.jupyter.widget-view+json": {
       "model_id": "",
       "version_major": 2,
       "version_minor": 0
      },
      "text/plain": [
       "Processing Channels (T=49):   0%|          | 0/3 [00:00<?, ?it/s]"
      ]
     },
     "metadata": {},
     "output_type": "display_data"
    },
    {
     "data": {
      "application/vnd.jupyter.widget-view+json": {
       "model_id": "",
       "version_major": 2,
       "version_minor": 0
      },
      "text/plain": [
       "Processing Channels (T=50):   0%|          | 0/3 [00:00<?, ?it/s]"
      ]
     },
     "metadata": {},
     "output_type": "display_data"
    },
    {
     "data": {
      "application/vnd.jupyter.widget-view+json": {
       "model_id": "",
       "version_major": 2,
       "version_minor": 0
      },
      "text/plain": [
       "Processing Channels (T=51):   0%|          | 0/3 [00:00<?, ?it/s]"
      ]
     },
     "metadata": {},
     "output_type": "display_data"
    },
    {
     "data": {
      "application/vnd.jupyter.widget-view+json": {
       "model_id": "",
       "version_major": 2,
       "version_minor": 0
      },
      "text/plain": [
       "Processing Channels (T=52):   0%|          | 0/3 [00:00<?, ?it/s]"
      ]
     },
     "metadata": {},
     "output_type": "display_data"
    },
    {
     "data": {
      "application/vnd.jupyter.widget-view+json": {
       "model_id": "",
       "version_major": 2,
       "version_minor": 0
      },
      "text/plain": [
       "Processing Channels (T=53):   0%|          | 0/3 [00:00<?, ?it/s]"
      ]
     },
     "metadata": {},
     "output_type": "display_data"
    },
    {
     "data": {
      "application/vnd.jupyter.widget-view+json": {
       "model_id": "",
       "version_major": 2,
       "version_minor": 0
      },
      "text/plain": [
       "Processing Channels (T=54):   0%|          | 0/3 [00:00<?, ?it/s]"
      ]
     },
     "metadata": {},
     "output_type": "display_data"
    },
    {
     "data": {
      "application/vnd.jupyter.widget-view+json": {
       "model_id": "",
       "version_major": 2,
       "version_minor": 0
      },
      "text/plain": [
       "Processing Channels (T=55):   0%|          | 0/3 [00:00<?, ?it/s]"
      ]
     },
     "metadata": {},
     "output_type": "display_data"
    },
    {
     "data": {
      "application/vnd.jupyter.widget-view+json": {
       "model_id": "",
       "version_major": 2,
       "version_minor": 0
      },
      "text/plain": [
       "Processing Channels (T=56):   0%|          | 0/3 [00:00<?, ?it/s]"
      ]
     },
     "metadata": {},
     "output_type": "display_data"
    },
    {
     "data": {
      "application/vnd.jupyter.widget-view+json": {
       "model_id": "",
       "version_major": 2,
       "version_minor": 0
      },
      "text/plain": [
       "Processing Channels (T=57):   0%|          | 0/3 [00:00<?, ?it/s]"
      ]
     },
     "metadata": {},
     "output_type": "display_data"
    },
    {
     "data": {
      "application/vnd.jupyter.widget-view+json": {
       "model_id": "",
       "version_major": 2,
       "version_minor": 0
      },
      "text/plain": [
       "Processing Channels (T=58):   0%|          | 0/3 [00:00<?, ?it/s]"
      ]
     },
     "metadata": {},
     "output_type": "display_data"
    },
    {
     "data": {
      "application/vnd.jupyter.widget-view+json": {
       "model_id": "",
       "version_major": 2,
       "version_minor": 0
      },
      "text/plain": [
       "Processing Channels (T=59):   0%|          | 0/3 [00:00<?, ?it/s]"
      ]
     },
     "metadata": {},
     "output_type": "display_data"
    },
    {
     "data": {
      "application/vnd.jupyter.widget-view+json": {
       "model_id": "",
       "version_major": 2,
       "version_minor": 0
      },
      "text/plain": [
       "Processing Channels (T=60):   0%|          | 0/3 [00:00<?, ?it/s]"
      ]
     },
     "metadata": {},
     "output_type": "display_data"
    },
    {
     "data": {
      "application/vnd.jupyter.widget-view+json": {
       "model_id": "",
       "version_major": 2,
       "version_minor": 0
      },
      "text/plain": [
       "Processing Channels (T=61):   0%|          | 0/3 [00:00<?, ?it/s]"
      ]
     },
     "metadata": {},
     "output_type": "display_data"
    },
    {
     "data": {
      "application/vnd.jupyter.widget-view+json": {
       "model_id": "",
       "version_major": 2,
       "version_minor": 0
      },
      "text/plain": [
       "Processing Channels (T=62):   0%|          | 0/3 [00:00<?, ?it/s]"
      ]
     },
     "metadata": {},
     "output_type": "display_data"
    },
    {
     "data": {
      "application/vnd.jupyter.widget-view+json": {
       "model_id": "",
       "version_major": 2,
       "version_minor": 0
      },
      "text/plain": [
       "Processing Channels (T=63):   0%|          | 0/3 [00:00<?, ?it/s]"
      ]
     },
     "metadata": {},
     "output_type": "display_data"
    },
    {
     "data": {
      "application/vnd.jupyter.widget-view+json": {
       "model_id": "",
       "version_major": 2,
       "version_minor": 0
      },
      "text/plain": [
       "Processing Channels (T=64):   0%|          | 0/3 [00:00<?, ?it/s]"
      ]
     },
     "metadata": {},
     "output_type": "display_data"
    },
    {
     "data": {
      "application/vnd.jupyter.widget-view+json": {
       "model_id": "",
       "version_major": 2,
       "version_minor": 0
      },
      "text/plain": [
       "Processing Channels (T=65):   0%|          | 0/3 [00:00<?, ?it/s]"
      ]
     },
     "metadata": {},
     "output_type": "display_data"
    },
    {
     "data": {
      "application/vnd.jupyter.widget-view+json": {
       "model_id": "",
       "version_major": 2,
       "version_minor": 0
      },
      "text/plain": [
       "Processing Channels (T=66):   0%|          | 0/3 [00:00<?, ?it/s]"
      ]
     },
     "metadata": {},
     "output_type": "display_data"
    },
    {
     "data": {
      "application/vnd.jupyter.widget-view+json": {
       "model_id": "",
       "version_major": 2,
       "version_minor": 0
      },
      "text/plain": [
       "Processing Channels (T=67):   0%|          | 0/3 [00:00<?, ?it/s]"
      ]
     },
     "metadata": {},
     "output_type": "display_data"
    },
    {
     "data": {
      "application/vnd.jupyter.widget-view+json": {
       "model_id": "",
       "version_major": 2,
       "version_minor": 0
      },
      "text/plain": [
       "Processing Channels (T=68):   0%|          | 0/3 [00:00<?, ?it/s]"
      ]
     },
     "metadata": {},
     "output_type": "display_data"
    },
    {
     "data": {
      "application/vnd.jupyter.widget-view+json": {
       "model_id": "",
       "version_major": 2,
       "version_minor": 0
      },
      "text/plain": [
       "Processing Channels (T=69):   0%|          | 0/3 [00:00<?, ?it/s]"
      ]
     },
     "metadata": {},
     "output_type": "display_data"
    },
    {
     "data": {
      "application/vnd.jupyter.widget-view+json": {
       "model_id": "",
       "version_major": 2,
       "version_minor": 0
      },
      "text/plain": [
       "Processing Channels (T=70):   0%|          | 0/3 [00:00<?, ?it/s]"
      ]
     },
     "metadata": {},
     "output_type": "display_data"
    },
    {
     "data": {
      "application/vnd.jupyter.widget-view+json": {
       "model_id": "",
       "version_major": 2,
       "version_minor": 0
      },
      "text/plain": [
       "Processing Channels (T=71):   0%|          | 0/3 [00:00<?, ?it/s]"
      ]
     },
     "metadata": {},
     "output_type": "display_data"
    },
    {
     "data": {
      "application/vnd.jupyter.widget-view+json": {
       "model_id": "",
       "version_major": 2,
       "version_minor": 0
      },
      "text/plain": [
       "Processing Channels (T=72):   0%|          | 0/3 [00:00<?, ?it/s]"
      ]
     },
     "metadata": {},
     "output_type": "display_data"
    },
    {
     "data": {
      "application/vnd.jupyter.widget-view+json": {
       "model_id": "",
       "version_major": 2,
       "version_minor": 0
      },
      "text/plain": [
       "Processing Channels (T=73):   0%|          | 0/3 [00:00<?, ?it/s]"
      ]
     },
     "metadata": {},
     "output_type": "display_data"
    },
    {
     "data": {
      "application/vnd.jupyter.widget-view+json": {
       "model_id": "",
       "version_major": 2,
       "version_minor": 0
      },
      "text/plain": [
       "Processing Channels (T=74):   0%|          | 0/3 [00:00<?, ?it/s]"
      ]
     },
     "metadata": {},
     "output_type": "display_data"
    },
    {
     "data": {
      "application/vnd.jupyter.widget-view+json": {
       "model_id": "",
       "version_major": 2,
       "version_minor": 0
      },
      "text/plain": [
       "Processing Channels (T=75):   0%|          | 0/3 [00:00<?, ?it/s]"
      ]
     },
     "metadata": {},
     "output_type": "display_data"
    },
    {
     "data": {
      "application/vnd.jupyter.widget-view+json": {
       "model_id": "",
       "version_major": 2,
       "version_minor": 0
      },
      "text/plain": [
       "Processing Channels (T=76):   0%|          | 0/3 [00:00<?, ?it/s]"
      ]
     },
     "metadata": {},
     "output_type": "display_data"
    },
    {
     "data": {
      "application/vnd.jupyter.widget-view+json": {
       "model_id": "",
       "version_major": 2,
       "version_minor": 0
      },
      "text/plain": [
       "Processing Channels (T=77):   0%|          | 0/3 [00:00<?, ?it/s]"
      ]
     },
     "metadata": {},
     "output_type": "display_data"
    },
    {
     "data": {
      "application/vnd.jupyter.widget-view+json": {
       "model_id": "",
       "version_major": 2,
       "version_minor": 0
      },
      "text/plain": [
       "Processing Channels (T=78):   0%|          | 0/3 [00:00<?, ?it/s]"
      ]
     },
     "metadata": {},
     "output_type": "display_data"
    },
    {
     "data": {
      "application/vnd.jupyter.widget-view+json": {
       "model_id": "",
       "version_major": 2,
       "version_minor": 0
      },
      "text/plain": [
       "Processing Channels (T=79):   0%|          | 0/3 [00:00<?, ?it/s]"
      ]
     },
     "metadata": {},
     "output_type": "display_data"
    },
    {
     "data": {
      "application/vnd.jupyter.widget-view+json": {
       "model_id": "",
       "version_major": 2,
       "version_minor": 0
      },
      "text/plain": [
       "Processing Channels (T=80):   0%|          | 0/3 [00:00<?, ?it/s]"
      ]
     },
     "metadata": {},
     "output_type": "display_data"
    },
    {
     "data": {
      "application/vnd.jupyter.widget-view+json": {
       "model_id": "",
       "version_major": 2,
       "version_minor": 0
      },
      "text/plain": [
       "Processing Channels (T=81):   0%|          | 0/3 [00:00<?, ?it/s]"
      ]
     },
     "metadata": {},
     "output_type": "display_data"
    },
    {
     "data": {
      "application/vnd.jupyter.widget-view+json": {
       "model_id": "",
       "version_major": 2,
       "version_minor": 0
      },
      "text/plain": [
       "Processing Channels (T=82):   0%|          | 0/3 [00:00<?, ?it/s]"
      ]
     },
     "metadata": {},
     "output_type": "display_data"
    },
    {
     "data": {
      "application/vnd.jupyter.widget-view+json": {
       "model_id": "",
       "version_major": 2,
       "version_minor": 0
      },
      "text/plain": [
       "Processing Channels (T=83):   0%|          | 0/3 [00:00<?, ?it/s]"
      ]
     },
     "metadata": {},
     "output_type": "display_data"
    },
    {
     "data": {
      "application/vnd.jupyter.widget-view+json": {
       "model_id": "",
       "version_major": 2,
       "version_minor": 0
      },
      "text/plain": [
       "Processing Channels (T=84):   0%|          | 0/3 [00:00<?, ?it/s]"
      ]
     },
     "metadata": {},
     "output_type": "display_data"
    },
    {
     "data": {
      "application/vnd.jupyter.widget-view+json": {
       "model_id": "",
       "version_major": 2,
       "version_minor": 0
      },
      "text/plain": [
       "Processing Channels (T=85):   0%|          | 0/3 [00:00<?, ?it/s]"
      ]
     },
     "metadata": {},
     "output_type": "display_data"
    },
    {
     "data": {
      "application/vnd.jupyter.widget-view+json": {
       "model_id": "",
       "version_major": 2,
       "version_minor": 0
      },
      "text/plain": [
       "Processing Channels (T=86):   0%|          | 0/3 [00:00<?, ?it/s]"
      ]
     },
     "metadata": {},
     "output_type": "display_data"
    },
    {
     "data": {
      "application/vnd.jupyter.widget-view+json": {
       "model_id": "",
       "version_major": 2,
       "version_minor": 0
      },
      "text/plain": [
       "Processing Channels (T=87):   0%|          | 0/3 [00:00<?, ?it/s]"
      ]
     },
     "metadata": {},
     "output_type": "display_data"
    },
    {
     "data": {
      "application/vnd.jupyter.widget-view+json": {
       "model_id": "",
       "version_major": 2,
       "version_minor": 0
      },
      "text/plain": [
       "Processing Channels (T=88):   0%|          | 0/3 [00:00<?, ?it/s]"
      ]
     },
     "metadata": {},
     "output_type": "display_data"
    },
    {
     "data": {
      "application/vnd.jupyter.widget-view+json": {
       "model_id": "",
       "version_major": 2,
       "version_minor": 0
      },
      "text/plain": [
       "Processing Channels (T=89):   0%|          | 0/3 [00:00<?, ?it/s]"
      ]
     },
     "metadata": {},
     "output_type": "display_data"
    },
    {
     "data": {
      "application/vnd.jupyter.widget-view+json": {
       "model_id": "",
       "version_major": 2,
       "version_minor": 0
      },
      "text/plain": [
       "Processing Channels (T=90):   0%|          | 0/3 [00:00<?, ?it/s]"
      ]
     },
     "metadata": {},
     "output_type": "display_data"
    },
    {
     "data": {
      "application/vnd.jupyter.widget-view+json": {
       "model_id": "",
       "version_major": 2,
       "version_minor": 0
      },
      "text/plain": [
       "Processing Channels (T=91):   0%|          | 0/3 [00:00<?, ?it/s]"
      ]
     },
     "metadata": {},
     "output_type": "display_data"
    },
    {
     "data": {
      "application/vnd.jupyter.widget-view+json": {
       "model_id": "",
       "version_major": 2,
       "version_minor": 0
      },
      "text/plain": [
       "Processing Channels (T=92):   0%|          | 0/3 [00:00<?, ?it/s]"
      ]
     },
     "metadata": {},
     "output_type": "display_data"
    },
    {
     "data": {
      "application/vnd.jupyter.widget-view+json": {
       "model_id": "",
       "version_major": 2,
       "version_minor": 0
      },
      "text/plain": [
       "Processing Channels (T=93):   0%|          | 0/3 [00:00<?, ?it/s]"
      ]
     },
     "metadata": {},
     "output_type": "display_data"
    },
    {
     "data": {
      "application/vnd.jupyter.widget-view+json": {
       "model_id": "",
       "version_major": 2,
       "version_minor": 0
      },
      "text/plain": [
       "Processing Channels (T=94):   0%|          | 0/3 [00:00<?, ?it/s]"
      ]
     },
     "metadata": {},
     "output_type": "display_data"
    },
    {
     "data": {
      "application/vnd.jupyter.widget-view+json": {
       "model_id": "",
       "version_major": 2,
       "version_minor": 0
      },
      "text/plain": [
       "Processing Channels (T=95):   0%|          | 0/3 [00:00<?, ?it/s]"
      ]
     },
     "metadata": {},
     "output_type": "display_data"
    },
    {
     "data": {
      "application/vnd.jupyter.widget-view+json": {
       "model_id": "",
       "version_major": 2,
       "version_minor": 0
      },
      "text/plain": [
       "Processing Channels (T=96):   0%|          | 0/3 [00:00<?, ?it/s]"
      ]
     },
     "metadata": {},
     "output_type": "display_data"
    },
    {
     "data": {
      "application/vnd.jupyter.widget-view+json": {
       "model_id": "",
       "version_major": 2,
       "version_minor": 0
      },
      "text/plain": [
       "Processing Channels (T=97):   0%|          | 0/3 [00:00<?, ?it/s]"
      ]
     },
     "metadata": {},
     "output_type": "display_data"
    },
    {
     "data": {
      "application/vnd.jupyter.widget-view+json": {
       "model_id": "",
       "version_major": 2,
       "version_minor": 0
      },
      "text/plain": [
       "Processing Channels (T=98):   0%|          | 0/3 [00:00<?, ?it/s]"
      ]
     },
     "metadata": {},
     "output_type": "display_data"
    },
    {
     "data": {
      "application/vnd.jupyter.widget-view+json": {
       "model_id": "",
       "version_major": 2,
       "version_minor": 0
      },
      "text/plain": [
       "Processing Channels (T=99):   0%|          | 0/3 [00:00<?, ?it/s]"
      ]
     },
     "metadata": {},
     "output_type": "display_data"
    },
    {
     "data": {
      "application/vnd.jupyter.widget-view+json": {
       "model_id": "",
       "version_major": 2,
       "version_minor": 0
      },
      "text/plain": [
       "Processing Channels (T=100):   0%|          | 0/3 [00:00<?, ?it/s]"
      ]
     },
     "metadata": {},
     "output_type": "display_data"
    },
    {
     "data": {
      "application/vnd.jupyter.widget-view+json": {
       "model_id": "",
       "version_major": 2,
       "version_minor": 0
      },
      "text/plain": [
       "Processing Channels (T=101):   0%|          | 0/3 [00:00<?, ?it/s]"
      ]
     },
     "metadata": {},
     "output_type": "display_data"
    },
    {
     "data": {
      "application/vnd.jupyter.widget-view+json": {
       "model_id": "",
       "version_major": 2,
       "version_minor": 0
      },
      "text/plain": [
       "Processing Channels (T=102):   0%|          | 0/3 [00:00<?, ?it/s]"
      ]
     },
     "metadata": {},
     "output_type": "display_data"
    },
    {
     "data": {
      "application/vnd.jupyter.widget-view+json": {
       "model_id": "",
       "version_major": 2,
       "version_minor": 0
      },
      "text/plain": [
       "Processing Channels (T=103):   0%|          | 0/3 [00:00<?, ?it/s]"
      ]
     },
     "metadata": {},
     "output_type": "display_data"
    },
    {
     "data": {
      "application/vnd.jupyter.widget-view+json": {
       "model_id": "",
       "version_major": 2,
       "version_minor": 0
      },
      "text/plain": [
       "Processing Channels (T=104):   0%|          | 0/3 [00:00<?, ?it/s]"
      ]
     },
     "metadata": {},
     "output_type": "display_data"
    },
    {
     "data": {
      "application/vnd.jupyter.widget-view+json": {
       "model_id": "",
       "version_major": 2,
       "version_minor": 0
      },
      "text/plain": [
       "Processing Channels (T=105):   0%|          | 0/3 [00:00<?, ?it/s]"
      ]
     },
     "metadata": {},
     "output_type": "display_data"
    },
    {
     "data": {
      "application/vnd.jupyter.widget-view+json": {
       "model_id": "",
       "version_major": 2,
       "version_minor": 0
      },
      "text/plain": [
       "Processing Channels (T=106):   0%|          | 0/3 [00:00<?, ?it/s]"
      ]
     },
     "metadata": {},
     "output_type": "display_data"
    },
    {
     "data": {
      "application/vnd.jupyter.widget-view+json": {
       "model_id": "",
       "version_major": 2,
       "version_minor": 0
      },
      "text/plain": [
       "Processing Channels (T=107):   0%|          | 0/3 [00:00<?, ?it/s]"
      ]
     },
     "metadata": {},
     "output_type": "display_data"
    },
    {
     "data": {
      "application/vnd.jupyter.widget-view+json": {
       "model_id": "",
       "version_major": 2,
       "version_minor": 0
      },
      "text/plain": [
       "Processing Channels (T=108):   0%|          | 0/3 [00:00<?, ?it/s]"
      ]
     },
     "metadata": {},
     "output_type": "display_data"
    },
    {
     "data": {
      "application/vnd.jupyter.widget-view+json": {
       "model_id": "",
       "version_major": 2,
       "version_minor": 0
      },
      "text/plain": [
       "Processing Channels (T=109):   0%|          | 0/3 [00:00<?, ?it/s]"
      ]
     },
     "metadata": {},
     "output_type": "display_data"
    },
    {
     "data": {
      "application/vnd.jupyter.widget-view+json": {
       "model_id": "",
       "version_major": 2,
       "version_minor": 0
      },
      "text/plain": [
       "Processing Channels (T=110):   0%|          | 0/3 [00:00<?, ?it/s]"
      ]
     },
     "metadata": {},
     "output_type": "display_data"
    },
    {
     "data": {
      "application/vnd.jupyter.widget-view+json": {
       "model_id": "",
       "version_major": 2,
       "version_minor": 0
      },
      "text/plain": [
       "Processing Channels (T=111):   0%|          | 0/3 [00:00<?, ?it/s]"
      ]
     },
     "metadata": {},
     "output_type": "display_data"
    },
    {
     "data": {
      "application/vnd.jupyter.widget-view+json": {
       "model_id": "",
       "version_major": 2,
       "version_minor": 0
      },
      "text/plain": [
       "Processing Channels (T=112):   0%|          | 0/3 [00:00<?, ?it/s]"
      ]
     },
     "metadata": {},
     "output_type": "display_data"
    },
    {
     "data": {
      "application/vnd.jupyter.widget-view+json": {
       "model_id": "",
       "version_major": 2,
       "version_minor": 0
      },
      "text/plain": [
       "Processing Channels (T=113):   0%|          | 0/3 [00:00<?, ?it/s]"
      ]
     },
     "metadata": {},
     "output_type": "display_data"
    },
    {
     "data": {
      "application/vnd.jupyter.widget-view+json": {
       "model_id": "",
       "version_major": 2,
       "version_minor": 0
      },
      "text/plain": [
       "Processing Channels (T=114):   0%|          | 0/3 [00:00<?, ?it/s]"
      ]
     },
     "metadata": {},
     "output_type": "display_data"
    },
    {
     "data": {
      "application/vnd.jupyter.widget-view+json": {
       "model_id": "",
       "version_major": 2,
       "version_minor": 0
      },
      "text/plain": [
       "Processing Channels (T=115):   0%|          | 0/3 [00:00<?, ?it/s]"
      ]
     },
     "metadata": {},
     "output_type": "display_data"
    },
    {
     "data": {
      "application/vnd.jupyter.widget-view+json": {
       "model_id": "",
       "version_major": 2,
       "version_minor": 0
      },
      "text/plain": [
       "Processing Channels (T=116):   0%|          | 0/3 [00:00<?, ?it/s]"
      ]
     },
     "metadata": {},
     "output_type": "display_data"
    },
    {
     "data": {
      "application/vnd.jupyter.widget-view+json": {
       "model_id": "",
       "version_major": 2,
       "version_minor": 0
      },
      "text/plain": [
       "Processing Channels (T=117):   0%|          | 0/3 [00:00<?, ?it/s]"
      ]
     },
     "metadata": {},
     "output_type": "display_data"
    },
    {
     "data": {
      "application/vnd.jupyter.widget-view+json": {
       "model_id": "",
       "version_major": 2,
       "version_minor": 0
      },
      "text/plain": [
       "Processing Channels (T=118):   0%|          | 0/3 [00:00<?, ?it/s]"
      ]
     },
     "metadata": {},
     "output_type": "display_data"
    },
    {
     "data": {
      "application/vnd.jupyter.widget-view+json": {
       "model_id": "",
       "version_major": 2,
       "version_minor": 0
      },
      "text/plain": [
       "Processing Channels (T=119):   0%|          | 0/3 [00:00<?, ?it/s]"
      ]
     },
     "metadata": {},
     "output_type": "display_data"
    },
    {
     "data": {
      "application/vnd.jupyter.widget-view+json": {
       "model_id": "",
       "version_major": 2,
       "version_minor": 0
      },
      "text/plain": [
       "Processing Channels (T=120):   0%|          | 0/3 [00:00<?, ?it/s]"
      ]
     },
     "metadata": {},
     "output_type": "display_data"
    },
    {
     "data": {
      "application/vnd.jupyter.widget-view+json": {
       "model_id": "",
       "version_major": 2,
       "version_minor": 0
      },
      "text/plain": [
       "Processing Channels (T=121):   0%|          | 0/3 [00:00<?, ?it/s]"
      ]
     },
     "metadata": {},
     "output_type": "display_data"
    },
    {
     "data": {
      "application/vnd.jupyter.widget-view+json": {
       "model_id": "",
       "version_major": 2,
       "version_minor": 0
      },
      "text/plain": [
       "Processing Channels (T=122):   0%|          | 0/3 [00:00<?, ?it/s]"
      ]
     },
     "metadata": {},
     "output_type": "display_data"
    },
    {
     "data": {
      "application/vnd.jupyter.widget-view+json": {
       "model_id": "",
       "version_major": 2,
       "version_minor": 0
      },
      "text/plain": [
       "Processing Channels (T=123):   0%|          | 0/3 [00:00<?, ?it/s]"
      ]
     },
     "metadata": {},
     "output_type": "display_data"
    },
    {
     "data": {
      "application/vnd.jupyter.widget-view+json": {
       "model_id": "",
       "version_major": 2,
       "version_minor": 0
      },
      "text/plain": [
       "Processing Channels (T=124):   0%|          | 0/3 [00:00<?, ?it/s]"
      ]
     },
     "metadata": {},
     "output_type": "display_data"
    },
    {
     "data": {
      "application/vnd.jupyter.widget-view+json": {
       "model_id": "",
       "version_major": 2,
       "version_minor": 0
      },
      "text/plain": [
       "Processing Channels (T=125):   0%|          | 0/3 [00:00<?, ?it/s]"
      ]
     },
     "metadata": {},
     "output_type": "display_data"
    },
    {
     "data": {
      "application/vnd.jupyter.widget-view+json": {
       "model_id": "",
       "version_major": 2,
       "version_minor": 0
      },
      "text/plain": [
       "Processing Channels (T=126):   0%|          | 0/3 [00:00<?, ?it/s]"
      ]
     },
     "metadata": {},
     "output_type": "display_data"
    },
    {
     "data": {
      "application/vnd.jupyter.widget-view+json": {
       "model_id": "",
       "version_major": 2,
       "version_minor": 0
      },
      "text/plain": [
       "Processing Channels (T=127):   0%|          | 0/3 [00:00<?, ?it/s]"
      ]
     },
     "metadata": {},
     "output_type": "display_data"
    },
    {
     "data": {
      "application/vnd.jupyter.widget-view+json": {
       "model_id": "",
       "version_major": 2,
       "version_minor": 0
      },
      "text/plain": [
       "Processing Channels (T=128):   0%|          | 0/3 [00:00<?, ?it/s]"
      ]
     },
     "metadata": {},
     "output_type": "display_data"
    },
    {
     "data": {
      "application/vnd.jupyter.widget-view+json": {
       "model_id": "",
       "version_major": 2,
       "version_minor": 0
      },
      "text/plain": [
       "Processing Channels (T=129):   0%|          | 0/3 [00:00<?, ?it/s]"
      ]
     },
     "metadata": {},
     "output_type": "display_data"
    },
    {
     "data": {
      "application/vnd.jupyter.widget-view+json": {
       "model_id": "",
       "version_major": 2,
       "version_minor": 0
      },
      "text/plain": [
       "Processing Channels (T=130):   0%|          | 0/3 [00:00<?, ?it/s]"
      ]
     },
     "metadata": {},
     "output_type": "display_data"
    },
    {
     "data": {
      "application/vnd.jupyter.widget-view+json": {
       "model_id": "",
       "version_major": 2,
       "version_minor": 0
      },
      "text/plain": [
       "Processing Channels (T=131):   0%|          | 0/3 [00:00<?, ?it/s]"
      ]
     },
     "metadata": {},
     "output_type": "display_data"
    },
    {
     "data": {
      "application/vnd.jupyter.widget-view+json": {
       "model_id": "",
       "version_major": 2,
       "version_minor": 0
      },
      "text/plain": [
       "Processing Channels (T=132):   0%|          | 0/3 [00:00<?, ?it/s]"
      ]
     },
     "metadata": {},
     "output_type": "display_data"
    },
    {
     "data": {
      "application/vnd.jupyter.widget-view+json": {
       "model_id": "",
       "version_major": 2,
       "version_minor": 0
      },
      "text/plain": [
       "Processing Channels (T=133):   0%|          | 0/3 [00:00<?, ?it/s]"
      ]
     },
     "metadata": {},
     "output_type": "display_data"
    },
    {
     "data": {
      "application/vnd.jupyter.widget-view+json": {
       "model_id": "",
       "version_major": 2,
       "version_minor": 0
      },
      "text/plain": [
       "Processing Channels (T=134):   0%|          | 0/3 [00:00<?, ?it/s]"
      ]
     },
     "metadata": {},
     "output_type": "display_data"
    },
    {
     "data": {
      "application/vnd.jupyter.widget-view+json": {
       "model_id": "",
       "version_major": 2,
       "version_minor": 0
      },
      "text/plain": [
       "Processing Channels (T=135):   0%|          | 0/3 [00:00<?, ?it/s]"
      ]
     },
     "metadata": {},
     "output_type": "display_data"
    },
    {
     "data": {
      "application/vnd.jupyter.widget-view+json": {
       "model_id": "",
       "version_major": 2,
       "version_minor": 0
      },
      "text/plain": [
       "Processing Channels (T=136):   0%|          | 0/3 [00:00<?, ?it/s]"
      ]
     },
     "metadata": {},
     "output_type": "display_data"
    },
    {
     "data": {
      "application/vnd.jupyter.widget-view+json": {
       "model_id": "",
       "version_major": 2,
       "version_minor": 0
      },
      "text/plain": [
       "Processing Channels (T=137):   0%|          | 0/3 [00:00<?, ?it/s]"
      ]
     },
     "metadata": {},
     "output_type": "display_data"
    },
    {
     "data": {
      "application/vnd.jupyter.widget-view+json": {
       "model_id": "",
       "version_major": 2,
       "version_minor": 0
      },
      "text/plain": [
       "Processing Channels (T=138):   0%|          | 0/3 [00:00<?, ?it/s]"
      ]
     },
     "metadata": {},
     "output_type": "display_data"
    },
    {
     "data": {
      "application/vnd.jupyter.widget-view+json": {
       "model_id": "",
       "version_major": 2,
       "version_minor": 0
      },
      "text/plain": [
       "Processing Channels (T=139):   0%|          | 0/3 [00:00<?, ?it/s]"
      ]
     },
     "metadata": {},
     "output_type": "display_data"
    },
    {
     "data": {
      "application/vnd.jupyter.widget-view+json": {
       "model_id": "",
       "version_major": 2,
       "version_minor": 0
      },
      "text/plain": [
       "Processing Channels (T=140):   0%|          | 0/3 [00:00<?, ?it/s]"
      ]
     },
     "metadata": {},
     "output_type": "display_data"
    },
    {
     "data": {
      "application/vnd.jupyter.widget-view+json": {
       "model_id": "",
       "version_major": 2,
       "version_minor": 0
      },
      "text/plain": [
       "Processing Channels (T=141):   0%|          | 0/3 [00:00<?, ?it/s]"
      ]
     },
     "metadata": {},
     "output_type": "display_data"
    },
    {
     "data": {
      "application/vnd.jupyter.widget-view+json": {
       "model_id": "",
       "version_major": 2,
       "version_minor": 0
      },
      "text/plain": [
       "Processing Channels (T=142):   0%|          | 0/3 [00:00<?, ?it/s]"
      ]
     },
     "metadata": {},
     "output_type": "display_data"
    },
    {
     "data": {
      "application/vnd.jupyter.widget-view+json": {
       "model_id": "",
       "version_major": 2,
       "version_minor": 0
      },
      "text/plain": [
       "Processing Channels (T=143):   0%|          | 0/3 [00:00<?, ?it/s]"
      ]
     },
     "metadata": {},
     "output_type": "display_data"
    },
    {
     "name": "stdout",
     "output_type": "stream",
     "text": [
      "Final image volume shape: (144, 3, 3, 6911, 6911)\n"
     ]
    }
   ],
   "source": [
    "\n",
    "\n",
    "for base_dir in tqdm(base_dirs, total = len(base_dirs)):\n",
    "\n",
    "    base_dir_ID = base_dir.split('/')[-2] #os.path.basename(base_dir)\n",
    "    if base_dir_ID != 'BPP0050-1-Live-cell-to4i_Live-2__2025-04-10T18_45_48-Measurement 1':\n",
    "        print('skipping completed', base_dir_ID)\n",
    "        continue\n",
    "    \n",
    "    metadata_fn = os.path.join(base_dir, 'acquisition/Images/Index.idx.xml')\n",
    "    metadata = dataio.read_harmony_metadata(metadata_fn)  \n",
    "\n",
    "    # Convert applicable columns to numeric values\n",
    "    metadata = metadata.apply(pd.to_numeric, errors='ignore')\n",
    "    # Invert Y coordinates (cathode ray tube adjustment)\n",
    "    metadata['PositionY'] = -metadata['PositionY']\n",
    "    \n",
    "    # Find the minimum Z position for non-Phase Contrast channels\n",
    "    min_z = metadata.loc[~metadata['ChannelName'].str.contains('Phase Contrast', case=False, na=False), 'PositionZ'].min()\n",
    "    \n",
    "    # Assign this minimum Z value to all \"Phase Contrast\" channels\n",
    "    metadata.loc[metadata['ChannelName'].str.contains('Phase Contrast', case=False, na=False), 'PositionZ'] = min_z\n",
    "    \n",
    "    image_dir = os.path.join(base_dir, 'acquisition/Images/')\n",
    "    # use the metadata for the rows cols as the assay layout can be the same for multiple acquisitions, encompassing multiple layouts\n",
    "    rows_cols = metadata[['Row', 'Col']].drop_duplicates().values\n",
    "    \n",
    "    assay_layout_fn = glob.glob(os.path.join(base_dir, 'acquisition/Assaylayout/*.xml'))[0]\n",
    "    assay_layout = load_assay_layout(assay_layout_fn)\n",
    "\n",
    "\n",
    "\n",
    "\n",
    "    for row_col in tqdm(rows_cols, desc=f'Now tiling in {base_dir_ID}', total = len(rows_cols)):\n",
    "        row, column = int(row_col[0]), int(row_col[1])\n",
    "        col = column\n",
    "        acq_ID = row, column\n",
    "        \n",
    "        if os.path.exists(os.path.join(base_dir, f'acquisition/zarr/{acq_ID}.zarr')):\n",
    "            print(os.path.join(base_dir, f'acquisition/zarr/{acq_ID}.zarr'), 'already exists, skipping')\n",
    "            continue\n",
    "\n",
    "        # Filter metadata for the current row and column (include all time points)\n",
    "        position_metadata = metadata[(metadata['Row'] == row) & (metadata['Col'] == column)]\n",
    "        # Get unique time points\n",
    "        timepoint_ids = sorted(position_metadata['TimepointID'].unique())\n",
    "        # Initialize a list to store time-lapse volumes\n",
    "        time_volumes = []\n",
    "        \n",
    "        sample_tile_id =  position_metadata.iloc[0]\n",
    "        # Iterate over each time point\n",
    "        for timepoint_id in tqdm(timepoint_ids, desc=\"Processing Time Points\", leave=True, position=1):\n",
    "            # Filter metadata for the current time point\n",
    "            time_metadata = position_metadata[position_metadata['TimepointID'] == timepoint_id]\n",
    "            # Get unique Channel\n",
    "            channel_ids = sorted(time_metadata['ChannelID'].unique())\n",
    "            # Initialize a list to hold each channel's Z-stack for this time point\n",
    "            channel_volumes = []\n",
    "            # Iterate over each channel\n",
    "            for channel_id in tqdm(channel_ids, desc=f\"Processing Channels (T={timepoint_id})\", leave=False, position=2):\n",
    "                # get specific channel metadata\n",
    "                channel_slice_metadata = time_metadata[time_metadata['ChannelID'] == channel_id]\n",
    "                # get z positions for this channel\n",
    "                z_ids = sorted(channel_slice_metadata['PositionZ'].unique())\n",
    "                # init a list to hold z slices\n",
    "                z_slices = []\n",
    "                # Iterate over Z positions\n",
    "                for z_id in z_ids:#tqdm(z_positions, desc=\"Processing Z-slices\", leave=False, position=3):\n",
    "                    # get specific z slice metadata\n",
    "                    z_slice_metadata = channel_slice_metadata[channel_slice_metadata['PositionZ'] == z_id]\n",
    "                    # Initialize mosaic_slice if needed, ie for the first image to be placed in the blank slate\n",
    "                    mosaic_size_x = int((z_slice_metadata['PositionX'].max() - z_slice_metadata['PositionX'].min()) / sample_tile_id['ImageResolutionX']) + sample_tile_id['ImageSizeX']\n",
    "                    mosaic_size_y = int((z_slice_metadata['PositionY'].max() - z_slice_metadata['PositionY'].min()) / sample_tile_id['ImageResolutionY']) + sample_tile_id['ImageSizeY']\n",
    "                    # For each position, create a large mosaic (accumulator & weight)\n",
    "                    # Suppose mosaic_size_y, mosaic_size_x is the total bounding box in Y and X.\n",
    "                    accumulator = np.zeros((mosaic_size_y, mosaic_size_x), dtype=np.float32)\n",
    "                    weight_map  = np.zeros((mosaic_size_y, mosaic_size_x), dtype=np.float32)\n",
    "                    \n",
    "                    for tile_index, tile_id in z_slice_metadata.iterrows():\n",
    "                        # load the tile\n",
    "                        img_path = os.path.join(image_dir, tile_id['URL'])\n",
    "                        try:\n",
    "                            tile = imread(img_path).astype(np.float32)\n",
    "                        except FileNotFoundError:\n",
    "                            tile = np.zeros((tile_id['ImageSizeY'], tile_id['ImageSizeX']), dtype=np.float32)\n",
    "                    \n",
    "                        # create alpha mask for this tile's shape\n",
    "                        alpha_mask = create_alpha_mask(tile.shape[0], tile.shape[1], feather=0.1)\n",
    "                    \n",
    "                        # figure out where to place this tile in the mosaic\n",
    "                        x_pixel = int((tile_id['PositionX'] - z_slice_metadata['PositionX'].min()) / tile_id['ImageResolutionX'])\n",
    "                        y_pixel = int((tile_id['PositionY'] - z_slice_metadata['PositionY'].min()) / tile_id['ImageResolutionY'])\n",
    "                    \n",
    "                        # add into the accumulator & weight\n",
    "                        # We slice out the region in the mosaic that corresponds to this tile\n",
    "                        acc_slice = accumulator[y_pixel:y_pixel+tile.shape[0], x_pixel:x_pixel+tile.shape[1]]\n",
    "                        wgt_slice = weight_map[y_pixel:y_pixel+tile.shape[0], x_pixel:x_pixel+tile.shape[1]]\n",
    "                    \n",
    "                        acc_slice += tile * alpha_mask\n",
    "                        wgt_slice += alpha_mask\n",
    "                    \n",
    "                    # AFTER all tiles are placed:\n",
    "                    final_mosaic = np.zeros_like(accumulator, dtype=np.float32)\n",
    "                    \n",
    "                    # Avoid division by zero\n",
    "                    nonzero_mask = (weight_map > 0)\n",
    "                    final_mosaic[nonzero_mask] = accumulator[nonzero_mask] / weight_map[nonzero_mask]\n",
    "                    \n",
    "                    # Then, convert final mosaic to e.g. uint16 if desired\n",
    "                    mosaic = np.clip(final_mosaic, 0, 65535).astype(np.uint16)\n",
    "                    \n",
    "                    # now append that mosaic z slice to z slices stack, different if DPC\n",
    "                    if \"Phase Contrast\" in channel_slice_metadata['ChannelName'].iloc[0]:  \n",
    "                        # print(f\"Distributing DPC image across Z slices\")\n",
    "                        dpc_slice = mosaic / len(metadata['PositionZ'].unique())  \n",
    "                        z_slices = [mosaic] * len(metadata['PositionZ'].unique())  \n",
    "                        break  \n",
    "                    else:\n",
    "                        z_slices.append(mosaic)\n",
    "                    \n",
    "                #stack z slices into a channel volume\n",
    "                if len(z_slices) > 0:\n",
    "                    # channel_volume = np.max(z_slices, axis=0)\n",
    "                    channel_volume = np.stack(z_slices, axis=0)\n",
    "                    channel_volumes.append(channel_volume)\n",
    "            # stack the channel volume into a time volume\n",
    "            if len(channel_volumes) > 0:\n",
    "                image_volume_czyx = np.stack(channel_volumes, axis=0)  # C, Z, Y, X\n",
    "                time_volumes.append(image_volume_czyx)  # Store for this time point\n",
    "        # Stack all time points into a 5D array (T, C, Z, Y, X)\n",
    "        if len(time_volumes) > 0:\n",
    "            images = np.stack(time_volumes, axis=0)  # T, C, Z, Y, X\n",
    "            print(f\"Final image volume shape: {images.shape}\")\n",
    "\n",
    "        try:\n",
    "            zarr_output_dir = os.path.join(base_dir, f'acquisition/zarr/{acq_ID}.zarr')\n",
    "            dask_images = dask.array.from_array(images)\n",
    "            zarr_group = zarr.open(zarr_output_dir, mode='w')\n",
    "            dask.array.to_zarr(dask_images, zarr_output_dir, component='images')\n",
    "            print(f\"Saved Zarr array successfully to {zarr_output_dir}\")\n",
    "        except:\n",
    "            print(base_dir_ID, acq_ID, 'zarr output failed')\n",
    "\n",
    "    # --- Omero Metadata ---\n",
    "    omero_metadata = {}\n",
    "    average_time_difference_seconds = None\n",
    "\n",
    "    # Calculate temporal framerate based on unique, sorted TimepointIDs\n",
    "    if 'AbsTime' in metadata.columns and 'TimepointID' in metadata.columns:\n",
    "        try:\n",
    "            if not pd.api.types.is_datetime64_any_dtype(metadata['AbsTime']):\n",
    "                metadata['AbsTime'] = pd.to_datetime(metadata['AbsTime'], format='ISO8601', utc=True)\n",
    "\n",
    "            timepoint_abs_times = metadata[['TimepointID', 'AbsTime']].drop_duplicates(subset=['TimepointID']).sort_values(key=lambda x: pd.to_numeric(x, errors='ignore'), by='TimepointID')\n",
    "\n",
    "            if len(timepoint_abs_times['TimepointID'].unique()) > 1: # Check if there is a time series\n",
    "                # Calculate the time difference between consecutive timepoints in seconds\n",
    "                time_diffs = timepoint_abs_times['AbsTime'].diff().dt.total_seconds().dropna()\n",
    "\n",
    "                if not time_diffs.empty:\n",
    "                    # Calculate the average time difference in seconds\n",
    "                    average_time_difference_seconds = time_diffs.mean()\n",
    "                    if average_time_difference_seconds > 0:\n",
    "                        framerate = 1 / average_time_difference_seconds\n",
    "                        omero_metadata['frameRate'] = framerate\n",
    "                        print(f\"Calculated framerate: {framerate} frames per second\")\n",
    "                    else:\n",
    "                        print(\"Warning: Average time difference is zero or negative, cannot calculate framerate.\")\n",
    "                else:\n",
    "                    print(\"Warning: Could not calculate time differences for framerate.\")\n",
    "            else:\n",
    "                print(\"Warning: Less than two unique TimepointIDs found, skipping framerate calculation.\")\n",
    "\n",
    "        except Exception as e:\n",
    "            print(f\"Warning: An error occurred while calculating framerate: {e}\")\n",
    "    # Channels (rest of your channel metadata code remains the same)\n",
    "    channels_data = []\n",
    "    for index, row in metadata.drop_duplicates(subset=['ChannelID']).iterrows():\n",
    "        emission_wavelength_meters = None\n",
    "        excitation_wavelength_meters = None\n",
    "    \n",
    "        if pd.notna(row['MainEmissionWavelength']):\n",
    "            try:\n",
    "                emission_wavelength = float(row['MainEmissionWavelength'])\n",
    "                emission_wavelength_meters = emission_wavelength * 1e-9\n",
    "            except ValueError:\n",
    "                print(f\"Warning: Could not convert '{row['MainEmissionWavelength']}' to float for emission wavelength (Channel ID: {row['ChannelID']}). Setting to None.\")\n",
    "    \n",
    "        if pd.notna(row['MainExcitationWavelength']):\n",
    "            try:\n",
    "                excitation_wavelength = float(row['MainExcitationWavelength'])\n",
    "                excitation_wavelength_meters = excitation_wavelength * 1e-9\n",
    "            except ValueError:\n",
    "                print(f\"Warning: Could not convert '{row['MainExcitationWavelength']}' to float for excitation wavelength (Channel ID: {row['ChannelID']}). Setting to None.\")\n",
    "    \n",
    "        channel = {\n",
    "            \"id\": int(row['ChannelID']),\n",
    "            \"label\": row['ChannelName'],\n",
    "            \"emissionWaveMeters\": emission_wavelength_meters,\n",
    "            \"excitationWaveMeters\": excitation_wavelength_meters,\n",
    "            # Add other relevant channel metadata if available\n",
    "        }\n",
    "        channels_data.append(channel)\n",
    "    omero_metadata['channels'] = channels_data\n",
    "    \n",
    "    # Objective (rest of your objective metadata code remains the same)\n",
    "    objective_data = {}\n",
    "    if 'ObjectiveMagnification' in metadata.columns and pd.notna(metadata['ObjectiveMagnification'].iloc[0]):\n",
    "        try:\n",
    "            objective_data['magnification'] = float(metadata['ObjectiveMagnification'].iloc[0])\n",
    "        except ValueError:\n",
    "            print(f\"Warning: Could not convert '{metadata['ObjectiveMagnification'].iloc[0]}' to float for objective magnification. Skipping.\")\n",
    "    if 'ObjectiveNA' in metadata.columns and pd.notna(metadata['ObjectiveNA'].iloc[0]):\n",
    "        try:\n",
    "            objective_data['numericalAperture'] = float(metadata['ObjectiveNA'].iloc[0])\n",
    "        except ValueError:\n",
    "            print(f\"Warning: Could not convert '{metadata['ObjectiveNA'].iloc[0]}' to float for objective NA. Skipping.\")\n",
    "    if objective_data:\n",
    "        omero_metadata['objective'] = objective_data\n",
    "\n",
    "    # --- Multiscales Metadata ---\n",
    "    multiscales_data = [{\n",
    "        \"name\": \"images\",\n",
    "        \"datasets\": [],\n",
    "        \"axes\": [\n",
    "            {\"name\": \"t\", \"type\": \"time\", \"unit\": \"second\", \"spacing\": average_time_difference_seconds},\n",
    "            {\"name\": \"c\", \"type\": \"channel\"},\n",
    "            {\"name\": \"z\", \"type\": \"space\", \"unit\": \"meter\", \"spacing\": None},\n",
    "            {\"name\": \"y\", \"type\": \"space\", \"unit\": \"meter\", \"pixelResolution\": None},\n",
    "            {\"name\": \"x\", \"type\": \"space\", \"unit\": \"meter\", \"pixelResolution\": None}\n",
    "        ],\n",
    "        \"type\": \"image\",\n",
    "        \"version\": \"0.4\"\n",
    "    }]\n",
    "\n",
    "    # Iterate through your existing Zarr directories to populate datasets (remains the same)\n",
    "    zarr_root_dir = f'{base_dir}/acquisition/zarr/'\n",
    "    for filename in os.listdir(zarr_root_dir):\n",
    "        if filename.endswith('.zarr'):\n",
    "            position_name = filename.replace('.zarr', '')\n",
    "            multiscales_data[0]['datasets'].append({\"path\": f\"{filename}/images\"})\n",
    "\n",
    "    # Add Image resolution and size information (remains the same)\n",
    "    if 'ImageResolutionX' in metadata.columns and 'ImageResolutionY' in metadata.columns:\n",
    "        try:\n",
    "            resolution_x = float(metadata['ImageResolutionX'].iloc[0])\n",
    "            resolution_y = float(metadata['ImageResolutionY'].iloc[0])\n",
    "            multiscales_data[0]['axes'][3]['pixelResolution'] = resolution_y\n",
    "            multiscales_data[0]['axes'][4]['pixelResolution'] = resolution_x\n",
    "        except ValueError:\n",
    "            print(\"Warning: Could not convert ImageResolutionX or ImageResolutionY to float. Skipping resolution metadata.\")\n",
    "        except IndexError:\n",
    "            print(\"Warning: Could not set pixelResolution, check axes configuration.\")\n",
    "\n",
    "    if 'ImageSizeX' in metadata.columns and 'ImageSizeY' in metadata.columns:\n",
    "        try:\n",
    "            size_x = int(metadata['ImageSizeX'].iloc[0])\n",
    "            size_y = int(metadata['ImageSizeY'].iloc[0])\n",
    "        except ValueError:\n",
    "            print(\"Warning: Could not convert ImageSizeX or ImageSizeY to int. Skipping image size metadata.\")\n",
    "\n",
    "    # Calculate mode of differences between unique Z positions for pseudo z-resolution (remains the same)\n",
    "    if 'PositionZ' in metadata.columns:\n",
    "        try:\n",
    "            z_positions = metadata['PositionZ'].astype(float).unique()\n",
    "            z_positions_sorted = np.sort(z_positions)\n",
    "            if len(z_positions_sorted) > 1:\n",
    "                z_diffs = np.diff(z_positions_sorted)\n",
    "                mode_result = stats.mode(z_diffs)\n",
    "                if mode_result.count > 0:\n",
    "                    modal_z_diff = mode_result.mode\n",
    "                    multiscales_data[0]['axes'][2]['spacing'] = modal_z_diff # in meters\n",
    "                    multiscales_data[0]['axes'][2]['unit'] = \"meter\"\n",
    "                else:\n",
    "                    print(\"Warning: No unique mode found for z-position differences.\")\n",
    "            else:\n",
    "                print(\"Warning: Only one unique z position found, cannot calculate z difference mode.\")\n",
    "        except ValueError:\n",
    "            print(\"Warning: Could not process PositionZ values for z-resolution calculation.\")\n",
    "        except IndexError:\n",
    "            print(\"Warning: Could not set z spacing, check axes configuration.\")\n",
    "\n",
    "\n",
    "    # --- Combine Metadata and save ---\n",
    "    top_level_attrs = {\n",
    "        \"assay_layout\": assay_layout.to_dict(orient='index'),\n",
    "        \"omero\": omero_metadata,\n",
    "        \"multiscales\": multiscales_data,\n",
    "        \"version\": \"0.4\",\n",
    "    }\n",
    "\n",
    "    # Create the top-level Zarr group and save metadata\n",
    "    group = zarr.group(zarr_root_dir, overwrite=False)\n",
    "    group.attrs.put(top_level_attrs)\n",
    "\n",
    "    print(f\"OME-Zarr metadata and assay layout saved to: {zarr_root_dir}/.zattrs\")"
   ]
  },
  {
   "cell_type": "markdown",
   "id": "d657de83-8087-440f-83dc-0df8e83dc577",
   "metadata": {},
   "source": [
    "# redo this one: '/mnt/DATA3/BPP0050/BPP0050-1-Live-cell-to4i_Live-2__2025-04-10T18_45_48-Measurement 1/acquisition/Images/Index.idx.xml'\n",
    "\n",
    "Trying iterative/chunked save out"
   ]
  },
  {
   "cell_type": "code",
   "execution_count": 2,
   "id": "f769c2e4-3e85-45f2-aba1-9d1c6acd3de4",
   "metadata": {},
   "outputs": [],
   "source": [
    "from pathlib import Path\n",
    "import numcodecs\n"
   ]
  },
  {
   "cell_type": "code",
   "execution_count": 3,
   "id": "1bb361f4-841a-49c7-8485-d0df8d485d84",
   "metadata": {},
   "outputs": [
    {
     "name": "stdout",
     "output_type": "stream",
     "text": [
      "Reading metadata XML file...\n"
     ]
    },
    {
     "data": {
      "application/vnd.jupyter.widget-view+json": {
       "model_id": "74f960f86f694557a4d2bf9933bbb791",
       "version_major": 2,
       "version_minor": 0
      },
      "text/plain": [
       "0it [00:00, ?it/s]"
      ]
     },
     "metadata": {},
     "output_type": "display_data"
    },
    {
     "name": "stdout",
     "output_type": "stream",
     "text": [
      "Extracting metadata complete!\n"
     ]
    },
    {
     "name": "stderr",
     "output_type": "stream",
     "text": [
      "/tmp/ipykernel_212293/207075134.py:9: FutureWarning: errors='ignore' is deprecated and will raise in a future version. Use to_numeric without passing `errors` and catch exceptions explicitly instead\n",
      "  metadata = metadata.apply(pd.to_numeric, errors='ignore')\n"
     ]
    },
    {
     "name": "stdout",
     "output_type": "stream",
     "text": [
      "An unexpected error occurred during XML processing: \"['Row', 'Col'] not found in axis\"\n"
     ]
    }
   ],
   "source": [
    "base_dir =  '/mnt/DATA3/BPP0050/BPP0050-1-Live-cell-to4i_Live-2__2025-04-10T18_45_48-Measurement 1/'\n",
    "\n",
    "base_dir_ID = 'BPP0050-1-Live-cell-to4i_Live-2__2025-04-10T18_45_48-Measurement 1'\n",
    "\n",
    "metadata_fn = os.path.join(base_dir, 'acquisition/Images/Index.idx.xml')\n",
    "metadata = dataio.read_harmony_metadata(metadata_fn)  \n",
    "\n",
    "# Convert applicable columns to numeric values\n",
    "metadata = metadata.apply(pd.to_numeric, errors='ignore')\n",
    "# Invert Y coordinates (cathode ray tube adjustment)\n",
    "metadata['PositionY'] = -metadata['PositionY']\n",
    "\n",
    "# Find the minimum Z position for non-Phase Contrast channels\n",
    "min_z = metadata.loc[~metadata['ChannelName'].str.contains('Phase Contrast', case=False, na=False), 'PositionZ'].min()\n",
    "\n",
    "# Assign this minimum Z value to all \"Phase Contrast\" channels\n",
    "metadata.loc[metadata['ChannelName'].str.contains('Phase Contrast', case=False, na=False), 'PositionZ'] = min_z\n",
    "\n",
    "image_dir = os.path.join(base_dir, 'acquisition/Images/')\n",
    "# use the metadata for the rows cols as the assay layout can be the same for multiple acquisitions, encompassing multiple layouts\n",
    "rows_cols = metadata[['Row', 'Col']].drop_duplicates().values\n",
    "\n",
    "assay_layout_fn = glob.glob(os.path.join(base_dir, 'acquisition/Assaylayout/*.xml'))[0]\n",
    "assay_layout = load_assay_layout(assay_layout_fn)\n",
    "\n",
    "\n"
   ]
  },
  {
   "cell_type": "code",
   "execution_count": 4,
   "id": "e5948775-70a5-4d88-ac2d-61d24d19a997",
   "metadata": {},
   "outputs": [
    {
     "data": {
      "text/plain": [
       "array([[3, 3],\n",
       "       [3, 4],\n",
       "       [3, 5],\n",
       "       [3, 6],\n",
       "       [3, 7],\n",
       "       [3, 8],\n",
       "       [4, 4],\n",
       "       [4, 5],\n",
       "       [4, 6],\n",
       "       [4, 7],\n",
       "       [4, 8],\n",
       "       [5, 4],\n",
       "       [5, 5]])"
      ]
     },
     "execution_count": 4,
     "metadata": {},
     "output_type": "execute_result"
    }
   ],
   "source": [
    "rows_cols"
   ]
  },
  {
   "cell_type": "code",
   "execution_count": 6,
   "id": "0f068507-4afc-43d3-b530-0e932f6c5483",
   "metadata": {},
   "outputs": [
    {
     "name": "stdout",
     "output_type": "stream",
     "text": [
      "[5 5]\n",
      "[5 4]\n",
      "[4 8]\n",
      "[4 7]\n",
      "[4 6]\n",
      "[4 5]\n",
      "[4 4]\n",
      "[3 8]\n",
      "[3 7]\n",
      "[3 6]\n",
      "[3 5]\n",
      "[3 4]\n",
      "[3 3]\n"
     ]
    }
   ],
   "source": [
    "for i in reversed(rows_cols):\n",
    "    print(i)"
   ]
  },
  {
   "cell_type": "code",
   "execution_count": 7,
   "id": "e45fd0c0-78d7-44c7-9331-fdcb3d7a5093",
   "metadata": {},
   "outputs": [
    {
     "data": {
      "application/vnd.jupyter.widget-view+json": {
       "model_id": "b2aadebba7074f2ca69d56e278343ca8",
       "version_major": 2,
       "version_minor": 0
      },
      "text/plain": [
       "Now tiling in BPP0050-1-Live-cell-to4i_Live-2__2025-04-10T18_45_48-Measurement 1:   0%|          | 0/13 [00:00…"
      ]
     },
     "metadata": {},
     "output_type": "display_data"
    },
    {
     "data": {
      "application/vnd.jupyter.widget-view+json": {
       "model_id": "b9684e9ceda345809b9a7f60a7412c02",
       "version_major": 2,
       "version_minor": 0
      },
      "text/plain": [
       "Processing Time Points:   0%|          | 0/144 [00:00<?, ?it/s]"
      ]
     },
     "metadata": {},
     "output_type": "display_data"
    },
    {
     "data": {
      "application/vnd.jupyter.widget-view+json": {
       "model_id": "",
       "version_major": 2,
       "version_minor": 0
      },
      "text/plain": [
       "Processing Channels (T=0):   0%|          | 0/3 [00:00<?, ?it/s]"
      ]
     },
     "metadata": {},
     "output_type": "display_data"
    },
    {
     "name": "stdout",
     "output_type": "stream",
     "text": [
      "Timepoint ID 0 saved out\n"
     ]
    },
    {
     "data": {
      "application/vnd.jupyter.widget-view+json": {
       "model_id": "",
       "version_major": 2,
       "version_minor": 0
      },
      "text/plain": [
       "Processing Channels (T=1):   0%|          | 0/3 [00:00<?, ?it/s]"
      ]
     },
     "metadata": {},
     "output_type": "display_data"
    },
    {
     "name": "stdout",
     "output_type": "stream",
     "text": [
      "Timepoint ID 1 saved out\n"
     ]
    },
    {
     "data": {
      "application/vnd.jupyter.widget-view+json": {
       "model_id": "",
       "version_major": 2,
       "version_minor": 0
      },
      "text/plain": [
       "Processing Channels (T=2):   0%|          | 0/3 [00:00<?, ?it/s]"
      ]
     },
     "metadata": {},
     "output_type": "display_data"
    },
    {
     "name": "stdout",
     "output_type": "stream",
     "text": [
      "Timepoint ID 2 saved out\n"
     ]
    },
    {
     "data": {
      "application/vnd.jupyter.widget-view+json": {
       "model_id": "",
       "version_major": 2,
       "version_minor": 0
      },
      "text/plain": [
       "Processing Channels (T=3):   0%|          | 0/3 [00:00<?, ?it/s]"
      ]
     },
     "metadata": {},
     "output_type": "display_data"
    },
    {
     "name": "stdout",
     "output_type": "stream",
     "text": [
      "Timepoint ID 3 saved out\n"
     ]
    },
    {
     "data": {
      "application/vnd.jupyter.widget-view+json": {
       "model_id": "",
       "version_major": 2,
       "version_minor": 0
      },
      "text/plain": [
       "Processing Channels (T=4):   0%|          | 0/3 [00:00<?, ?it/s]"
      ]
     },
     "metadata": {},
     "output_type": "display_data"
    },
    {
     "name": "stdout",
     "output_type": "stream",
     "text": [
      "Timepoint ID 4 saved out\n"
     ]
    },
    {
     "data": {
      "application/vnd.jupyter.widget-view+json": {
       "model_id": "",
       "version_major": 2,
       "version_minor": 0
      },
      "text/plain": [
       "Processing Channels (T=5):   0%|          | 0/3 [00:00<?, ?it/s]"
      ]
     },
     "metadata": {},
     "output_type": "display_data"
    },
    {
     "name": "stdout",
     "output_type": "stream",
     "text": [
      "Timepoint ID 5 saved out\n"
     ]
    },
    {
     "data": {
      "application/vnd.jupyter.widget-view+json": {
       "model_id": "",
       "version_major": 2,
       "version_minor": 0
      },
      "text/plain": [
       "Processing Channels (T=6):   0%|          | 0/3 [00:00<?, ?it/s]"
      ]
     },
     "metadata": {},
     "output_type": "display_data"
    },
    {
     "name": "stdout",
     "output_type": "stream",
     "text": [
      "Timepoint ID 6 saved out\n"
     ]
    },
    {
     "data": {
      "application/vnd.jupyter.widget-view+json": {
       "model_id": "",
       "version_major": 2,
       "version_minor": 0
      },
      "text/plain": [
       "Processing Channels (T=7):   0%|          | 0/3 [00:00<?, ?it/s]"
      ]
     },
     "metadata": {},
     "output_type": "display_data"
    },
    {
     "name": "stdout",
     "output_type": "stream",
     "text": [
      "Timepoint ID 7 saved out\n"
     ]
    },
    {
     "data": {
      "application/vnd.jupyter.widget-view+json": {
       "model_id": "",
       "version_major": 2,
       "version_minor": 0
      },
      "text/plain": [
       "Processing Channels (T=8):   0%|          | 0/3 [00:00<?, ?it/s]"
      ]
     },
     "metadata": {},
     "output_type": "display_data"
    },
    {
     "name": "stdout",
     "output_type": "stream",
     "text": [
      "Timepoint ID 8 saved out\n"
     ]
    },
    {
     "data": {
      "application/vnd.jupyter.widget-view+json": {
       "model_id": "",
       "version_major": 2,
       "version_minor": 0
      },
      "text/plain": [
       "Processing Channels (T=9):   0%|          | 0/3 [00:00<?, ?it/s]"
      ]
     },
     "metadata": {},
     "output_type": "display_data"
    },
    {
     "name": "stdout",
     "output_type": "stream",
     "text": [
      "Timepoint ID 9 saved out\n"
     ]
    },
    {
     "data": {
      "application/vnd.jupyter.widget-view+json": {
       "model_id": "",
       "version_major": 2,
       "version_minor": 0
      },
      "text/plain": [
       "Processing Channels (T=10):   0%|          | 0/3 [00:00<?, ?it/s]"
      ]
     },
     "metadata": {},
     "output_type": "display_data"
    },
    {
     "name": "stdout",
     "output_type": "stream",
     "text": [
      "Timepoint ID 10 saved out\n"
     ]
    },
    {
     "data": {
      "application/vnd.jupyter.widget-view+json": {
       "model_id": "",
       "version_major": 2,
       "version_minor": 0
      },
      "text/plain": [
       "Processing Channels (T=11):   0%|          | 0/3 [00:00<?, ?it/s]"
      ]
     },
     "metadata": {},
     "output_type": "display_data"
    },
    {
     "name": "stdout",
     "output_type": "stream",
     "text": [
      "Timepoint ID 11 saved out\n"
     ]
    },
    {
     "data": {
      "application/vnd.jupyter.widget-view+json": {
       "model_id": "",
       "version_major": 2,
       "version_minor": 0
      },
      "text/plain": [
       "Processing Channels (T=12):   0%|          | 0/3 [00:00<?, ?it/s]"
      ]
     },
     "metadata": {},
     "output_type": "display_data"
    },
    {
     "name": "stdout",
     "output_type": "stream",
     "text": [
      "Timepoint ID 12 saved out\n"
     ]
    },
    {
     "data": {
      "application/vnd.jupyter.widget-view+json": {
       "model_id": "",
       "version_major": 2,
       "version_minor": 0
      },
      "text/plain": [
       "Processing Channels (T=13):   0%|          | 0/3 [00:00<?, ?it/s]"
      ]
     },
     "metadata": {},
     "output_type": "display_data"
    },
    {
     "name": "stdout",
     "output_type": "stream",
     "text": [
      "Timepoint ID 13 saved out\n"
     ]
    },
    {
     "data": {
      "application/vnd.jupyter.widget-view+json": {
       "model_id": "",
       "version_major": 2,
       "version_minor": 0
      },
      "text/plain": [
       "Processing Channels (T=14):   0%|          | 0/3 [00:00<?, ?it/s]"
      ]
     },
     "metadata": {},
     "output_type": "display_data"
    },
    {
     "name": "stdout",
     "output_type": "stream",
     "text": [
      "Timepoint ID 14 saved out\n"
     ]
    },
    {
     "data": {
      "application/vnd.jupyter.widget-view+json": {
       "model_id": "",
       "version_major": 2,
       "version_minor": 0
      },
      "text/plain": [
       "Processing Channels (T=15):   0%|          | 0/3 [00:00<?, ?it/s]"
      ]
     },
     "metadata": {},
     "output_type": "display_data"
    },
    {
     "name": "stdout",
     "output_type": "stream",
     "text": [
      "Timepoint ID 15 saved out\n"
     ]
    },
    {
     "data": {
      "application/vnd.jupyter.widget-view+json": {
       "model_id": "",
       "version_major": 2,
       "version_minor": 0
      },
      "text/plain": [
       "Processing Channels (T=16):   0%|          | 0/3 [00:00<?, ?it/s]"
      ]
     },
     "metadata": {},
     "output_type": "display_data"
    },
    {
     "name": "stdout",
     "output_type": "stream",
     "text": [
      "Timepoint ID 16 saved out\n"
     ]
    },
    {
     "data": {
      "application/vnd.jupyter.widget-view+json": {
       "model_id": "",
       "version_major": 2,
       "version_minor": 0
      },
      "text/plain": [
       "Processing Channels (T=17):   0%|          | 0/3 [00:00<?, ?it/s]"
      ]
     },
     "metadata": {},
     "output_type": "display_data"
    },
    {
     "name": "stdout",
     "output_type": "stream",
     "text": [
      "Timepoint ID 17 saved out\n"
     ]
    },
    {
     "data": {
      "application/vnd.jupyter.widget-view+json": {
       "model_id": "",
       "version_major": 2,
       "version_minor": 0
      },
      "text/plain": [
       "Processing Channels (T=18):   0%|          | 0/3 [00:00<?, ?it/s]"
      ]
     },
     "metadata": {},
     "output_type": "display_data"
    },
    {
     "name": "stdout",
     "output_type": "stream",
     "text": [
      "Timepoint ID 18 saved out\n"
     ]
    },
    {
     "data": {
      "application/vnd.jupyter.widget-view+json": {
       "model_id": "",
       "version_major": 2,
       "version_minor": 0
      },
      "text/plain": [
       "Processing Channels (T=19):   0%|          | 0/3 [00:00<?, ?it/s]"
      ]
     },
     "metadata": {},
     "output_type": "display_data"
    },
    {
     "name": "stdout",
     "output_type": "stream",
     "text": [
      "Timepoint ID 19 saved out\n"
     ]
    },
    {
     "data": {
      "application/vnd.jupyter.widget-view+json": {
       "model_id": "",
       "version_major": 2,
       "version_minor": 0
      },
      "text/plain": [
       "Processing Channels (T=20):   0%|          | 0/3 [00:00<?, ?it/s]"
      ]
     },
     "metadata": {},
     "output_type": "display_data"
    },
    {
     "name": "stdout",
     "output_type": "stream",
     "text": [
      "Timepoint ID 20 saved out\n"
     ]
    },
    {
     "data": {
      "application/vnd.jupyter.widget-view+json": {
       "model_id": "",
       "version_major": 2,
       "version_minor": 0
      },
      "text/plain": [
       "Processing Channels (T=21):   0%|          | 0/3 [00:00<?, ?it/s]"
      ]
     },
     "metadata": {},
     "output_type": "display_data"
    },
    {
     "name": "stdout",
     "output_type": "stream",
     "text": [
      "Timepoint ID 21 saved out\n"
     ]
    },
    {
     "data": {
      "application/vnd.jupyter.widget-view+json": {
       "model_id": "",
       "version_major": 2,
       "version_minor": 0
      },
      "text/plain": [
       "Processing Channels (T=22):   0%|          | 0/3 [00:00<?, ?it/s]"
      ]
     },
     "metadata": {},
     "output_type": "display_data"
    },
    {
     "name": "stdout",
     "output_type": "stream",
     "text": [
      "Timepoint ID 22 saved out\n"
     ]
    },
    {
     "data": {
      "application/vnd.jupyter.widget-view+json": {
       "model_id": "",
       "version_major": 2,
       "version_minor": 0
      },
      "text/plain": [
       "Processing Channels (T=23):   0%|          | 0/3 [00:00<?, ?it/s]"
      ]
     },
     "metadata": {},
     "output_type": "display_data"
    },
    {
     "name": "stdout",
     "output_type": "stream",
     "text": [
      "Timepoint ID 23 saved out\n"
     ]
    },
    {
     "data": {
      "application/vnd.jupyter.widget-view+json": {
       "model_id": "16f5802169c548899eb2862207dc515e",
       "version_major": 2,
       "version_minor": 0
      },
      "text/plain": [
       "Processing Channels (T=24):   0%|          | 0/3 [00:00<?, ?it/s]"
      ]
     },
     "metadata": {},
     "output_type": "display_data"
    },
    {
     "name": "stdout",
     "output_type": "stream",
     "text": [
      "Timepoint ID 24 saved out\n"
     ]
    },
    {
     "data": {
      "application/vnd.jupyter.widget-view+json": {
       "model_id": "605563ff86ef4e8798b98045cf7942b8",
       "version_major": 2,
       "version_minor": 0
      },
      "text/plain": [
       "Processing Channels (T=25):   0%|          | 0/3 [00:00<?, ?it/s]"
      ]
     },
     "metadata": {},
     "output_type": "display_data"
    },
    {
     "name": "stdout",
     "output_type": "stream",
     "text": [
      "Timepoint ID 25 saved out\n"
     ]
    },
    {
     "data": {
      "application/vnd.jupyter.widget-view+json": {
       "model_id": "67dfce77811e43a6aa2b577390dfad60",
       "version_major": 2,
       "version_minor": 0
      },
      "text/plain": [
       "Processing Channels (T=26):   0%|          | 0/3 [00:00<?, ?it/s]"
      ]
     },
     "metadata": {},
     "output_type": "display_data"
    },
    {
     "name": "stdout",
     "output_type": "stream",
     "text": [
      "Timepoint ID 26 saved out\n"
     ]
    },
    {
     "data": {
      "application/vnd.jupyter.widget-view+json": {
       "model_id": "cefa060f3f414409b4e680b619c70fca",
       "version_major": 2,
       "version_minor": 0
      },
      "text/plain": [
       "Processing Channels (T=27):   0%|          | 0/3 [00:00<?, ?it/s]"
      ]
     },
     "metadata": {},
     "output_type": "display_data"
    },
    {
     "name": "stdout",
     "output_type": "stream",
     "text": [
      "Timepoint ID 27 saved out\n"
     ]
    },
    {
     "data": {
      "application/vnd.jupyter.widget-view+json": {
       "model_id": "e488f158e4174407b9e2a48fc61ad9fb",
       "version_major": 2,
       "version_minor": 0
      },
      "text/plain": [
       "Processing Channels (T=28):   0%|          | 0/3 [00:00<?, ?it/s]"
      ]
     },
     "metadata": {},
     "output_type": "display_data"
    },
    {
     "name": "stdout",
     "output_type": "stream",
     "text": [
      "Timepoint ID 28 saved out\n"
     ]
    },
    {
     "data": {
      "application/vnd.jupyter.widget-view+json": {
       "model_id": "fe63f61c25e34deb9e7d5cd325d00cfa",
       "version_major": 2,
       "version_minor": 0
      },
      "text/plain": [
       "Processing Channels (T=29):   0%|          | 0/3 [00:00<?, ?it/s]"
      ]
     },
     "metadata": {},
     "output_type": "display_data"
    },
    {
     "name": "stdout",
     "output_type": "stream",
     "text": [
      "Timepoint ID 29 saved out\n"
     ]
    },
    {
     "data": {
      "application/vnd.jupyter.widget-view+json": {
       "model_id": "f30e73f0996a42e2bacc4d20c04b5cf4",
       "version_major": 2,
       "version_minor": 0
      },
      "text/plain": [
       "Processing Channels (T=30):   0%|          | 0/3 [00:00<?, ?it/s]"
      ]
     },
     "metadata": {},
     "output_type": "display_data"
    },
    {
     "name": "stdout",
     "output_type": "stream",
     "text": [
      "Timepoint ID 30 saved out\n"
     ]
    },
    {
     "data": {
      "application/vnd.jupyter.widget-view+json": {
       "model_id": "40e4193c7f5c4ec186790cc374b09eca",
       "version_major": 2,
       "version_minor": 0
      },
      "text/plain": [
       "Processing Channels (T=31):   0%|          | 0/3 [00:00<?, ?it/s]"
      ]
     },
     "metadata": {},
     "output_type": "display_data"
    },
    {
     "name": "stdout",
     "output_type": "stream",
     "text": [
      "Timepoint ID 31 saved out\n"
     ]
    },
    {
     "data": {
      "application/vnd.jupyter.widget-view+json": {
       "model_id": "7c59da043df34d1d99b59c56c49929e9",
       "version_major": 2,
       "version_minor": 0
      },
      "text/plain": [
       "Processing Channels (T=32):   0%|          | 0/3 [00:00<?, ?it/s]"
      ]
     },
     "metadata": {},
     "output_type": "display_data"
    },
    {
     "name": "stdout",
     "output_type": "stream",
     "text": [
      "Timepoint ID 32 saved out\n"
     ]
    },
    {
     "data": {
      "application/vnd.jupyter.widget-view+json": {
       "model_id": "9152bc61eda44b2589b1333ac6dc0860",
       "version_major": 2,
       "version_minor": 0
      },
      "text/plain": [
       "Processing Channels (T=33):   0%|          | 0/3 [00:00<?, ?it/s]"
      ]
     },
     "metadata": {},
     "output_type": "display_data"
    },
    {
     "name": "stdout",
     "output_type": "stream",
     "text": [
      "Timepoint ID 33 saved out\n"
     ]
    },
    {
     "data": {
      "application/vnd.jupyter.widget-view+json": {
       "model_id": "7e86c7feffa746ab8599cc1d347f525d",
       "version_major": 2,
       "version_minor": 0
      },
      "text/plain": [
       "Processing Channels (T=34):   0%|          | 0/3 [00:00<?, ?it/s]"
      ]
     },
     "metadata": {},
     "output_type": "display_data"
    },
    {
     "name": "stdout",
     "output_type": "stream",
     "text": [
      "Timepoint ID 34 saved out\n"
     ]
    },
    {
     "data": {
      "application/vnd.jupyter.widget-view+json": {
       "model_id": "8423d00f2458437696bb17af4b98c4ae",
       "version_major": 2,
       "version_minor": 0
      },
      "text/plain": [
       "Processing Channels (T=35):   0%|          | 0/3 [00:00<?, ?it/s]"
      ]
     },
     "metadata": {},
     "output_type": "display_data"
    },
    {
     "name": "stdout",
     "output_type": "stream",
     "text": [
      "Timepoint ID 35 saved out\n"
     ]
    },
    {
     "data": {
      "application/vnd.jupyter.widget-view+json": {
       "model_id": "4ce693b594214075a75ee95ecf8aee5b",
       "version_major": 2,
       "version_minor": 0
      },
      "text/plain": [
       "Processing Channels (T=36):   0%|          | 0/3 [00:00<?, ?it/s]"
      ]
     },
     "metadata": {},
     "output_type": "display_data"
    },
    {
     "name": "stdout",
     "output_type": "stream",
     "text": [
      "Timepoint ID 36 saved out\n"
     ]
    },
    {
     "data": {
      "application/vnd.jupyter.widget-view+json": {
       "model_id": "3c1382ee7fad4720a4207eeaa5caaf57",
       "version_major": 2,
       "version_minor": 0
      },
      "text/plain": [
       "Processing Channels (T=37):   0%|          | 0/3 [00:00<?, ?it/s]"
      ]
     },
     "metadata": {},
     "output_type": "display_data"
    },
    {
     "name": "stdout",
     "output_type": "stream",
     "text": [
      "Timepoint ID 37 saved out\n"
     ]
    },
    {
     "data": {
      "application/vnd.jupyter.widget-view+json": {
       "model_id": "8c686501b6c9496cbbefe1c1e8523973",
       "version_major": 2,
       "version_minor": 0
      },
      "text/plain": [
       "Processing Channels (T=38):   0%|          | 0/3 [00:00<?, ?it/s]"
      ]
     },
     "metadata": {},
     "output_type": "display_data"
    },
    {
     "name": "stdout",
     "output_type": "stream",
     "text": [
      "Timepoint ID 38 saved out\n"
     ]
    },
    {
     "data": {
      "application/vnd.jupyter.widget-view+json": {
       "model_id": "0defc03668714036897e9397234636fe",
       "version_major": 2,
       "version_minor": 0
      },
      "text/plain": [
       "Processing Channels (T=39):   0%|          | 0/3 [00:00<?, ?it/s]"
      ]
     },
     "metadata": {},
     "output_type": "display_data"
    },
    {
     "name": "stdout",
     "output_type": "stream",
     "text": [
      "Timepoint ID 39 saved out\n"
     ]
    },
    {
     "data": {
      "application/vnd.jupyter.widget-view+json": {
       "model_id": "5deaa8ce25c743b49c936ed8f86b0d79",
       "version_major": 2,
       "version_minor": 0
      },
      "text/plain": [
       "Processing Channels (T=40):   0%|          | 0/3 [00:00<?, ?it/s]"
      ]
     },
     "metadata": {},
     "output_type": "display_data"
    },
    {
     "name": "stdout",
     "output_type": "stream",
     "text": [
      "Timepoint ID 40 saved out\n"
     ]
    },
    {
     "data": {
      "application/vnd.jupyter.widget-view+json": {
       "model_id": "752092caafbf49e5951a06189a19f875",
       "version_major": 2,
       "version_minor": 0
      },
      "text/plain": [
       "Processing Channels (T=41):   0%|          | 0/3 [00:00<?, ?it/s]"
      ]
     },
     "metadata": {},
     "output_type": "display_data"
    },
    {
     "name": "stdout",
     "output_type": "stream",
     "text": [
      "Timepoint ID 41 saved out\n"
     ]
    },
    {
     "data": {
      "application/vnd.jupyter.widget-view+json": {
       "model_id": "bcf0e1d2cc454702937a953a57923820",
       "version_major": 2,
       "version_minor": 0
      },
      "text/plain": [
       "Processing Channels (T=42):   0%|          | 0/3 [00:00<?, ?it/s]"
      ]
     },
     "metadata": {},
     "output_type": "display_data"
    },
    {
     "name": "stdout",
     "output_type": "stream",
     "text": [
      "Timepoint ID 42 saved out\n"
     ]
    },
    {
     "data": {
      "application/vnd.jupyter.widget-view+json": {
       "model_id": "c8ed80f4e95a4867aa32d3edcc00e143",
       "version_major": 2,
       "version_minor": 0
      },
      "text/plain": [
       "Processing Channels (T=43):   0%|          | 0/3 [00:00<?, ?it/s]"
      ]
     },
     "metadata": {},
     "output_type": "display_data"
    },
    {
     "name": "stdout",
     "output_type": "stream",
     "text": [
      "Timepoint ID 43 saved out\n"
     ]
    },
    {
     "data": {
      "application/vnd.jupyter.widget-view+json": {
       "model_id": "8296e2aa6063443ea08a808fa5d87dfc",
       "version_major": 2,
       "version_minor": 0
      },
      "text/plain": [
       "Processing Channels (T=44):   0%|          | 0/3 [00:00<?, ?it/s]"
      ]
     },
     "metadata": {},
     "output_type": "display_data"
    },
    {
     "name": "stdout",
     "output_type": "stream",
     "text": [
      "Timepoint ID 44 saved out\n"
     ]
    },
    {
     "data": {
      "application/vnd.jupyter.widget-view+json": {
       "model_id": "b0e84584f92245ed94fe18bbcdf155a2",
       "version_major": 2,
       "version_minor": 0
      },
      "text/plain": [
       "Processing Channels (T=45):   0%|          | 0/3 [00:00<?, ?it/s]"
      ]
     },
     "metadata": {},
     "output_type": "display_data"
    },
    {
     "name": "stdout",
     "output_type": "stream",
     "text": [
      "Timepoint ID 45 saved out\n"
     ]
    },
    {
     "data": {
      "application/vnd.jupyter.widget-view+json": {
       "model_id": "d76b466ff29a41a09563ab0aebb6d890",
       "version_major": 2,
       "version_minor": 0
      },
      "text/plain": [
       "Processing Channels (T=46):   0%|          | 0/3 [00:00<?, ?it/s]"
      ]
     },
     "metadata": {},
     "output_type": "display_data"
    },
    {
     "name": "stdout",
     "output_type": "stream",
     "text": [
      "Timepoint ID 46 saved out\n"
     ]
    },
    {
     "data": {
      "application/vnd.jupyter.widget-view+json": {
       "model_id": "4cc5b4d101b74cf9981d9f92002bd736",
       "version_major": 2,
       "version_minor": 0
      },
      "text/plain": [
       "Processing Channels (T=47):   0%|          | 0/3 [00:00<?, ?it/s]"
      ]
     },
     "metadata": {},
     "output_type": "display_data"
    },
    {
     "name": "stdout",
     "output_type": "stream",
     "text": [
      "Timepoint ID 47 saved out\n"
     ]
    },
    {
     "data": {
      "application/vnd.jupyter.widget-view+json": {
       "model_id": "e16bb4b05d524eb0906d83155d25ad18",
       "version_major": 2,
       "version_minor": 0
      },
      "text/plain": [
       "Processing Channels (T=48):   0%|          | 0/3 [00:00<?, ?it/s]"
      ]
     },
     "metadata": {},
     "output_type": "display_data"
    },
    {
     "name": "stdout",
     "output_type": "stream",
     "text": [
      "Timepoint ID 48 saved out\n"
     ]
    },
    {
     "data": {
      "application/vnd.jupyter.widget-view+json": {
       "model_id": "631ce285d5024b81be4e1ae0de346f0d",
       "version_major": 2,
       "version_minor": 0
      },
      "text/plain": [
       "Processing Channels (T=49):   0%|          | 0/3 [00:00<?, ?it/s]"
      ]
     },
     "metadata": {},
     "output_type": "display_data"
    },
    {
     "name": "stdout",
     "output_type": "stream",
     "text": [
      "Timepoint ID 49 saved out\n"
     ]
    },
    {
     "data": {
      "application/vnd.jupyter.widget-view+json": {
       "model_id": "41eed9354816441a84c1181fe6ae0158",
       "version_major": 2,
       "version_minor": 0
      },
      "text/plain": [
       "Processing Channels (T=50):   0%|          | 0/3 [00:00<?, ?it/s]"
      ]
     },
     "metadata": {},
     "output_type": "display_data"
    },
    {
     "name": "stdout",
     "output_type": "stream",
     "text": [
      "Timepoint ID 50 saved out\n"
     ]
    },
    {
     "data": {
      "application/vnd.jupyter.widget-view+json": {
       "model_id": "ba1a2676a8eb40c68a7555883e4dcffc",
       "version_major": 2,
       "version_minor": 0
      },
      "text/plain": [
       "Processing Channels (T=51):   0%|          | 0/3 [00:00<?, ?it/s]"
      ]
     },
     "metadata": {},
     "output_type": "display_data"
    },
    {
     "name": "stdout",
     "output_type": "stream",
     "text": [
      "Timepoint ID 51 saved out\n"
     ]
    },
    {
     "data": {
      "application/vnd.jupyter.widget-view+json": {
       "model_id": "502eb94733e54e719cca4e6f121df07f",
       "version_major": 2,
       "version_minor": 0
      },
      "text/plain": [
       "Processing Channels (T=52):   0%|          | 0/3 [00:00<?, ?it/s]"
      ]
     },
     "metadata": {},
     "output_type": "display_data"
    },
    {
     "name": "stdout",
     "output_type": "stream",
     "text": [
      "Timepoint ID 52 saved out\n"
     ]
    },
    {
     "data": {
      "application/vnd.jupyter.widget-view+json": {
       "model_id": "00214d3d062b4586881a560ae5f34fd4",
       "version_major": 2,
       "version_minor": 0
      },
      "text/plain": [
       "Processing Channels (T=53):   0%|          | 0/3 [00:00<?, ?it/s]"
      ]
     },
     "metadata": {},
     "output_type": "display_data"
    },
    {
     "name": "stdout",
     "output_type": "stream",
     "text": [
      "Timepoint ID 53 saved out\n"
     ]
    },
    {
     "data": {
      "application/vnd.jupyter.widget-view+json": {
       "model_id": "706fd72891b24545adda4c830789443b",
       "version_major": 2,
       "version_minor": 0
      },
      "text/plain": [
       "Processing Channels (T=54):   0%|          | 0/3 [00:00<?, ?it/s]"
      ]
     },
     "metadata": {},
     "output_type": "display_data"
    },
    {
     "name": "stdout",
     "output_type": "stream",
     "text": [
      "Timepoint ID 54 saved out\n"
     ]
    },
    {
     "data": {
      "application/vnd.jupyter.widget-view+json": {
       "model_id": "d3b801b129c14f3491d20bf79ec1f68e",
       "version_major": 2,
       "version_minor": 0
      },
      "text/plain": [
       "Processing Channels (T=55):   0%|          | 0/3 [00:00<?, ?it/s]"
      ]
     },
     "metadata": {},
     "output_type": "display_data"
    },
    {
     "name": "stdout",
     "output_type": "stream",
     "text": [
      "Timepoint ID 55 saved out\n"
     ]
    },
    {
     "data": {
      "application/vnd.jupyter.widget-view+json": {
       "model_id": "1754dee7bc01461a95c8cd884996376c",
       "version_major": 2,
       "version_minor": 0
      },
      "text/plain": [
       "Processing Channels (T=56):   0%|          | 0/3 [00:00<?, ?it/s]"
      ]
     },
     "metadata": {},
     "output_type": "display_data"
    },
    {
     "name": "stdout",
     "output_type": "stream",
     "text": [
      "Timepoint ID 56 saved out\n"
     ]
    },
    {
     "data": {
      "application/vnd.jupyter.widget-view+json": {
       "model_id": "56ebd6b687e542be873ccd1e4ea16565",
       "version_major": 2,
       "version_minor": 0
      },
      "text/plain": [
       "Processing Channels (T=57):   0%|          | 0/3 [00:00<?, ?it/s]"
      ]
     },
     "metadata": {},
     "output_type": "display_data"
    },
    {
     "name": "stdout",
     "output_type": "stream",
     "text": [
      "Timepoint ID 57 saved out\n"
     ]
    },
    {
     "data": {
      "application/vnd.jupyter.widget-view+json": {
       "model_id": "8967f4fc01b945d889207efaece641aa",
       "version_major": 2,
       "version_minor": 0
      },
      "text/plain": [
       "Processing Channels (T=58):   0%|          | 0/3 [00:00<?, ?it/s]"
      ]
     },
     "metadata": {},
     "output_type": "display_data"
    },
    {
     "name": "stdout",
     "output_type": "stream",
     "text": [
      "Timepoint ID 58 saved out\n"
     ]
    },
    {
     "data": {
      "application/vnd.jupyter.widget-view+json": {
       "model_id": "a7149e6674fc47c0b99b79272ca26c43",
       "version_major": 2,
       "version_minor": 0
      },
      "text/plain": [
       "Processing Channels (T=59):   0%|          | 0/3 [00:00<?, ?it/s]"
      ]
     },
     "metadata": {},
     "output_type": "display_data"
    },
    {
     "name": "stdout",
     "output_type": "stream",
     "text": [
      "Timepoint ID 59 saved out\n"
     ]
    },
    {
     "data": {
      "application/vnd.jupyter.widget-view+json": {
       "model_id": "8de7a2912e0d49cd90752b617b8aa812",
       "version_major": 2,
       "version_minor": 0
      },
      "text/plain": [
       "Processing Channels (T=60):   0%|          | 0/3 [00:00<?, ?it/s]"
      ]
     },
     "metadata": {},
     "output_type": "display_data"
    },
    {
     "name": "stdout",
     "output_type": "stream",
     "text": [
      "Timepoint ID 60 saved out\n"
     ]
    },
    {
     "data": {
      "application/vnd.jupyter.widget-view+json": {
       "model_id": "c9cf5d5e9bf14db58769610b44106c89",
       "version_major": 2,
       "version_minor": 0
      },
      "text/plain": [
       "Processing Channels (T=61):   0%|          | 0/3 [00:00<?, ?it/s]"
      ]
     },
     "metadata": {},
     "output_type": "display_data"
    },
    {
     "name": "stdout",
     "output_type": "stream",
     "text": [
      "Timepoint ID 61 saved out\n"
     ]
    },
    {
     "data": {
      "application/vnd.jupyter.widget-view+json": {
       "model_id": "7cc60fb7fb354eecb228550136c94db9",
       "version_major": 2,
       "version_minor": 0
      },
      "text/plain": [
       "Processing Channels (T=62):   0%|          | 0/3 [00:00<?, ?it/s]"
      ]
     },
     "metadata": {},
     "output_type": "display_data"
    },
    {
     "name": "stdout",
     "output_type": "stream",
     "text": [
      "Timepoint ID 62 saved out\n"
     ]
    },
    {
     "data": {
      "application/vnd.jupyter.widget-view+json": {
       "model_id": "e68386368d5443b18755f42dfc2b9356",
       "version_major": 2,
       "version_minor": 0
      },
      "text/plain": [
       "Processing Channels (T=63):   0%|          | 0/3 [00:00<?, ?it/s]"
      ]
     },
     "metadata": {},
     "output_type": "display_data"
    },
    {
     "name": "stdout",
     "output_type": "stream",
     "text": [
      "Timepoint ID 63 saved out\n"
     ]
    },
    {
     "data": {
      "application/vnd.jupyter.widget-view+json": {
       "model_id": "951658791843442e85ab01eed1d59820",
       "version_major": 2,
       "version_minor": 0
      },
      "text/plain": [
       "Processing Channels (T=64):   0%|          | 0/3 [00:00<?, ?it/s]"
      ]
     },
     "metadata": {},
     "output_type": "display_data"
    },
    {
     "name": "stdout",
     "output_type": "stream",
     "text": [
      "Timepoint ID 64 saved out\n"
     ]
    },
    {
     "data": {
      "application/vnd.jupyter.widget-view+json": {
       "model_id": "8e0e523be7704125a4131a6105f9d453",
       "version_major": 2,
       "version_minor": 0
      },
      "text/plain": [
       "Processing Channels (T=65):   0%|          | 0/3 [00:00<?, ?it/s]"
      ]
     },
     "metadata": {},
     "output_type": "display_data"
    },
    {
     "name": "stdout",
     "output_type": "stream",
     "text": [
      "Timepoint ID 65 saved out\n"
     ]
    },
    {
     "data": {
      "application/vnd.jupyter.widget-view+json": {
       "model_id": "026a08a95aba41719e347160b748b778",
       "version_major": 2,
       "version_minor": 0
      },
      "text/plain": [
       "Processing Channels (T=66):   0%|          | 0/3 [00:00<?, ?it/s]"
      ]
     },
     "metadata": {},
     "output_type": "display_data"
    },
    {
     "name": "stdout",
     "output_type": "stream",
     "text": [
      "Timepoint ID 66 saved out\n"
     ]
    },
    {
     "data": {
      "application/vnd.jupyter.widget-view+json": {
       "model_id": "c9e1c75305a247f6b546e47112d6b4df",
       "version_major": 2,
       "version_minor": 0
      },
      "text/plain": [
       "Processing Channels (T=67):   0%|          | 0/3 [00:00<?, ?it/s]"
      ]
     },
     "metadata": {},
     "output_type": "display_data"
    },
    {
     "name": "stdout",
     "output_type": "stream",
     "text": [
      "Timepoint ID 67 saved out\n"
     ]
    },
    {
     "data": {
      "application/vnd.jupyter.widget-view+json": {
       "model_id": "906e9b47f61042d497fd19e8f0e2fce4",
       "version_major": 2,
       "version_minor": 0
      },
      "text/plain": [
       "Processing Channels (T=68):   0%|          | 0/3 [00:00<?, ?it/s]"
      ]
     },
     "metadata": {},
     "output_type": "display_data"
    },
    {
     "name": "stdout",
     "output_type": "stream",
     "text": [
      "Timepoint ID 68 saved out\n"
     ]
    },
    {
     "data": {
      "application/vnd.jupyter.widget-view+json": {
       "model_id": "197a9138a0e147029e9cd6d11a760b10",
       "version_major": 2,
       "version_minor": 0
      },
      "text/plain": [
       "Processing Channels (T=69):   0%|          | 0/3 [00:00<?, ?it/s]"
      ]
     },
     "metadata": {},
     "output_type": "display_data"
    },
    {
     "name": "stdout",
     "output_type": "stream",
     "text": [
      "Timepoint ID 69 saved out\n"
     ]
    },
    {
     "data": {
      "application/vnd.jupyter.widget-view+json": {
       "model_id": "97a79eb647cd4dca816485e749d7a432",
       "version_major": 2,
       "version_minor": 0
      },
      "text/plain": [
       "Processing Channels (T=70):   0%|          | 0/3 [00:00<?, ?it/s]"
      ]
     },
     "metadata": {},
     "output_type": "display_data"
    },
    {
     "name": "stdout",
     "output_type": "stream",
     "text": [
      "Timepoint ID 70 saved out\n"
     ]
    },
    {
     "data": {
      "application/vnd.jupyter.widget-view+json": {
       "model_id": "16b344a87f1446a8877ab750b02619fb",
       "version_major": 2,
       "version_minor": 0
      },
      "text/plain": [
       "Processing Channels (T=71):   0%|          | 0/3 [00:00<?, ?it/s]"
      ]
     },
     "metadata": {},
     "output_type": "display_data"
    },
    {
     "name": "stdout",
     "output_type": "stream",
     "text": [
      "Timepoint ID 71 saved out\n"
     ]
    },
    {
     "data": {
      "application/vnd.jupyter.widget-view+json": {
       "model_id": "5306cbfdb7c04bfbab5836c6330b4388",
       "version_major": 2,
       "version_minor": 0
      },
      "text/plain": [
       "Processing Channels (T=72):   0%|          | 0/3 [00:00<?, ?it/s]"
      ]
     },
     "metadata": {},
     "output_type": "display_data"
    },
    {
     "name": "stdout",
     "output_type": "stream",
     "text": [
      "Timepoint ID 72 saved out\n"
     ]
    },
    {
     "data": {
      "application/vnd.jupyter.widget-view+json": {
       "model_id": "2d0cfad46b0d429a806e156e09b67d2f",
       "version_major": 2,
       "version_minor": 0
      },
      "text/plain": [
       "Processing Channels (T=73):   0%|          | 0/3 [00:00<?, ?it/s]"
      ]
     },
     "metadata": {},
     "output_type": "display_data"
    },
    {
     "name": "stdout",
     "output_type": "stream",
     "text": [
      "Timepoint ID 73 saved out\n"
     ]
    },
    {
     "data": {
      "application/vnd.jupyter.widget-view+json": {
       "model_id": "ef003f50ce7140a38a28b6e9eea70f69",
       "version_major": 2,
       "version_minor": 0
      },
      "text/plain": [
       "Processing Channels (T=74):   0%|          | 0/3 [00:00<?, ?it/s]"
      ]
     },
     "metadata": {},
     "output_type": "display_data"
    },
    {
     "name": "stdout",
     "output_type": "stream",
     "text": [
      "Timepoint ID 74 saved out\n"
     ]
    },
    {
     "data": {
      "application/vnd.jupyter.widget-view+json": {
       "model_id": "5832c317f1734211a14575f5607dd5c3",
       "version_major": 2,
       "version_minor": 0
      },
      "text/plain": [
       "Processing Channels (T=75):   0%|          | 0/3 [00:00<?, ?it/s]"
      ]
     },
     "metadata": {},
     "output_type": "display_data"
    },
    {
     "name": "stdout",
     "output_type": "stream",
     "text": [
      "Timepoint ID 75 saved out\n"
     ]
    },
    {
     "data": {
      "application/vnd.jupyter.widget-view+json": {
       "model_id": "ca8fbc44e1884b5fb45277b13d5590dd",
       "version_major": 2,
       "version_minor": 0
      },
      "text/plain": [
       "Processing Channels (T=76):   0%|          | 0/3 [00:00<?, ?it/s]"
      ]
     },
     "metadata": {},
     "output_type": "display_data"
    },
    {
     "name": "stdout",
     "output_type": "stream",
     "text": [
      "Timepoint ID 76 saved out\n"
     ]
    },
    {
     "data": {
      "application/vnd.jupyter.widget-view+json": {
       "model_id": "d5f8b3c4a775426298822b879bc2b57f",
       "version_major": 2,
       "version_minor": 0
      },
      "text/plain": [
       "Processing Channels (T=77):   0%|          | 0/3 [00:00<?, ?it/s]"
      ]
     },
     "metadata": {},
     "output_type": "display_data"
    },
    {
     "name": "stdout",
     "output_type": "stream",
     "text": [
      "Timepoint ID 77 saved out\n"
     ]
    },
    {
     "data": {
      "application/vnd.jupyter.widget-view+json": {
       "model_id": "2b404fb3180d4af892c16e5c5638553b",
       "version_major": 2,
       "version_minor": 0
      },
      "text/plain": [
       "Processing Channels (T=78):   0%|          | 0/3 [00:00<?, ?it/s]"
      ]
     },
     "metadata": {},
     "output_type": "display_data"
    },
    {
     "name": "stdout",
     "output_type": "stream",
     "text": [
      "Timepoint ID 78 saved out\n"
     ]
    },
    {
     "data": {
      "application/vnd.jupyter.widget-view+json": {
       "model_id": "65645219d70c44f992a98933a0de2dac",
       "version_major": 2,
       "version_minor": 0
      },
      "text/plain": [
       "Processing Channels (T=79):   0%|          | 0/3 [00:00<?, ?it/s]"
      ]
     },
     "metadata": {},
     "output_type": "display_data"
    },
    {
     "name": "stdout",
     "output_type": "stream",
     "text": [
      "Timepoint ID 79 saved out\n"
     ]
    },
    {
     "data": {
      "application/vnd.jupyter.widget-view+json": {
       "model_id": "9b023c051ea74b23acc015756f0e0e48",
       "version_major": 2,
       "version_minor": 0
      },
      "text/plain": [
       "Processing Channels (T=80):   0%|          | 0/3 [00:00<?, ?it/s]"
      ]
     },
     "metadata": {},
     "output_type": "display_data"
    },
    {
     "name": "stdout",
     "output_type": "stream",
     "text": [
      "Timepoint ID 80 saved out\n"
     ]
    },
    {
     "data": {
      "application/vnd.jupyter.widget-view+json": {
       "model_id": "94e14127b20d4febaa244ce7e2d6bfa0",
       "version_major": 2,
       "version_minor": 0
      },
      "text/plain": [
       "Processing Channels (T=81):   0%|          | 0/3 [00:00<?, ?it/s]"
      ]
     },
     "metadata": {},
     "output_type": "display_data"
    },
    {
     "name": "stdout",
     "output_type": "stream",
     "text": [
      "Timepoint ID 81 saved out\n"
     ]
    },
    {
     "data": {
      "application/vnd.jupyter.widget-view+json": {
       "model_id": "dde8e68496704301b15473f5b0889cc6",
       "version_major": 2,
       "version_minor": 0
      },
      "text/plain": [
       "Processing Channels (T=82):   0%|          | 0/3 [00:00<?, ?it/s]"
      ]
     },
     "metadata": {},
     "output_type": "display_data"
    },
    {
     "name": "stdout",
     "output_type": "stream",
     "text": [
      "Timepoint ID 82 saved out\n"
     ]
    },
    {
     "data": {
      "application/vnd.jupyter.widget-view+json": {
       "model_id": "071aa6aee8f64d5793a0aff1c0128dc1",
       "version_major": 2,
       "version_minor": 0
      },
      "text/plain": [
       "Processing Channels (T=83):   0%|          | 0/3 [00:00<?, ?it/s]"
      ]
     },
     "metadata": {},
     "output_type": "display_data"
    },
    {
     "name": "stdout",
     "output_type": "stream",
     "text": [
      "Timepoint ID 83 saved out\n"
     ]
    },
    {
     "data": {
      "application/vnd.jupyter.widget-view+json": {
       "model_id": "6243ebf3663e455faf061fc2d08ba0ad",
       "version_major": 2,
       "version_minor": 0
      },
      "text/plain": [
       "Processing Channels (T=84):   0%|          | 0/3 [00:00<?, ?it/s]"
      ]
     },
     "metadata": {},
     "output_type": "display_data"
    },
    {
     "name": "stdout",
     "output_type": "stream",
     "text": [
      "Timepoint ID 84 saved out\n"
     ]
    },
    {
     "data": {
      "application/vnd.jupyter.widget-view+json": {
       "model_id": "c04f5df7be0a4a459d2a495dc9bc22ca",
       "version_major": 2,
       "version_minor": 0
      },
      "text/plain": [
       "Processing Channels (T=85):   0%|          | 0/3 [00:00<?, ?it/s]"
      ]
     },
     "metadata": {},
     "output_type": "display_data"
    },
    {
     "name": "stdout",
     "output_type": "stream",
     "text": [
      "Timepoint ID 85 saved out\n"
     ]
    },
    {
     "data": {
      "application/vnd.jupyter.widget-view+json": {
       "model_id": "a1ad18fb453e4069807e4f656789a85a",
       "version_major": 2,
       "version_minor": 0
      },
      "text/plain": [
       "Processing Channels (T=86):   0%|          | 0/3 [00:00<?, ?it/s]"
      ]
     },
     "metadata": {},
     "output_type": "display_data"
    },
    {
     "name": "stdout",
     "output_type": "stream",
     "text": [
      "Timepoint ID 86 saved out\n"
     ]
    },
    {
     "data": {
      "application/vnd.jupyter.widget-view+json": {
       "model_id": "9007e8e2eb374d5ba45ac75122f1b160",
       "version_major": 2,
       "version_minor": 0
      },
      "text/plain": [
       "Processing Channels (T=87):   0%|          | 0/3 [00:00<?, ?it/s]"
      ]
     },
     "metadata": {},
     "output_type": "display_data"
    },
    {
     "name": "stdout",
     "output_type": "stream",
     "text": [
      "Timepoint ID 87 saved out\n"
     ]
    },
    {
     "data": {
      "application/vnd.jupyter.widget-view+json": {
       "model_id": "6a45c1b01ec7410f958a20423d5f509c",
       "version_major": 2,
       "version_minor": 0
      },
      "text/plain": [
       "Processing Channels (T=88):   0%|          | 0/3 [00:00<?, ?it/s]"
      ]
     },
     "metadata": {},
     "output_type": "display_data"
    },
    {
     "name": "stdout",
     "output_type": "stream",
     "text": [
      "Timepoint ID 88 saved out\n"
     ]
    },
    {
     "data": {
      "application/vnd.jupyter.widget-view+json": {
       "model_id": "30ce23f859764abea5537c832038488c",
       "version_major": 2,
       "version_minor": 0
      },
      "text/plain": [
       "Processing Channels (T=89):   0%|          | 0/3 [00:00<?, ?it/s]"
      ]
     },
     "metadata": {},
     "output_type": "display_data"
    },
    {
     "name": "stdout",
     "output_type": "stream",
     "text": [
      "Timepoint ID 89 saved out\n"
     ]
    },
    {
     "data": {
      "application/vnd.jupyter.widget-view+json": {
       "model_id": "5d4ae35f5ddb4b06bc10132faf66bfb1",
       "version_major": 2,
       "version_minor": 0
      },
      "text/plain": [
       "Processing Channels (T=90):   0%|          | 0/3 [00:00<?, ?it/s]"
      ]
     },
     "metadata": {},
     "output_type": "display_data"
    },
    {
     "name": "stdout",
     "output_type": "stream",
     "text": [
      "Timepoint ID 90 saved out\n"
     ]
    },
    {
     "data": {
      "application/vnd.jupyter.widget-view+json": {
       "model_id": "79f9d13f2aad44ea87c3af55d3731a9a",
       "version_major": 2,
       "version_minor": 0
      },
      "text/plain": [
       "Processing Channels (T=91):   0%|          | 0/3 [00:00<?, ?it/s]"
      ]
     },
     "metadata": {},
     "output_type": "display_data"
    },
    {
     "name": "stdout",
     "output_type": "stream",
     "text": [
      "Timepoint ID 91 saved out\n"
     ]
    },
    {
     "data": {
      "application/vnd.jupyter.widget-view+json": {
       "model_id": "5a8df83be0c44ded8833b231eb94068b",
       "version_major": 2,
       "version_minor": 0
      },
      "text/plain": [
       "Processing Channels (T=92):   0%|          | 0/3 [00:00<?, ?it/s]"
      ]
     },
     "metadata": {},
     "output_type": "display_data"
    },
    {
     "name": "stdout",
     "output_type": "stream",
     "text": [
      "Timepoint ID 92 saved out\n"
     ]
    },
    {
     "data": {
      "application/vnd.jupyter.widget-view+json": {
       "model_id": "f798b6fd33db4f02abe0317c14d04ee1",
       "version_major": 2,
       "version_minor": 0
      },
      "text/plain": [
       "Processing Channels (T=93):   0%|          | 0/3 [00:00<?, ?it/s]"
      ]
     },
     "metadata": {},
     "output_type": "display_data"
    },
    {
     "name": "stdout",
     "output_type": "stream",
     "text": [
      "Timepoint ID 93 saved out\n"
     ]
    },
    {
     "data": {
      "application/vnd.jupyter.widget-view+json": {
       "model_id": "a86a3d4b2ea6444d90ff6b925ae97f48",
       "version_major": 2,
       "version_minor": 0
      },
      "text/plain": [
       "Processing Channels (T=94):   0%|          | 0/3 [00:00<?, ?it/s]"
      ]
     },
     "metadata": {},
     "output_type": "display_data"
    },
    {
     "name": "stdout",
     "output_type": "stream",
     "text": [
      "Timepoint ID 94 saved out\n"
     ]
    },
    {
     "data": {
      "application/vnd.jupyter.widget-view+json": {
       "model_id": "3f222b66f8754c7ca0f4c2ab1a4808ef",
       "version_major": 2,
       "version_minor": 0
      },
      "text/plain": [
       "Processing Channels (T=95):   0%|          | 0/3 [00:00<?, ?it/s]"
      ]
     },
     "metadata": {},
     "output_type": "display_data"
    },
    {
     "name": "stdout",
     "output_type": "stream",
     "text": [
      "Timepoint ID 95 saved out\n"
     ]
    },
    {
     "data": {
      "application/vnd.jupyter.widget-view+json": {
       "model_id": "aefa2d587f724e91aaf7120a73cb77bc",
       "version_major": 2,
       "version_minor": 0
      },
      "text/plain": [
       "Processing Channels (T=96):   0%|          | 0/3 [00:00<?, ?it/s]"
      ]
     },
     "metadata": {},
     "output_type": "display_data"
    },
    {
     "name": "stdout",
     "output_type": "stream",
     "text": [
      "Timepoint ID 96 saved out\n"
     ]
    },
    {
     "data": {
      "application/vnd.jupyter.widget-view+json": {
       "model_id": "daa6c0d6797543599efda2d0cec844fc",
       "version_major": 2,
       "version_minor": 0
      },
      "text/plain": [
       "Processing Channels (T=97):   0%|          | 0/3 [00:00<?, ?it/s]"
      ]
     },
     "metadata": {},
     "output_type": "display_data"
    },
    {
     "name": "stdout",
     "output_type": "stream",
     "text": [
      "Timepoint ID 97 saved out\n"
     ]
    },
    {
     "data": {
      "application/vnd.jupyter.widget-view+json": {
       "model_id": "905639b7c76145dfa51f7704af04b7b8",
       "version_major": 2,
       "version_minor": 0
      },
      "text/plain": [
       "Processing Channels (T=98):   0%|          | 0/3 [00:00<?, ?it/s]"
      ]
     },
     "metadata": {},
     "output_type": "display_data"
    },
    {
     "name": "stdout",
     "output_type": "stream",
     "text": [
      "Timepoint ID 98 saved out\n"
     ]
    },
    {
     "data": {
      "application/vnd.jupyter.widget-view+json": {
       "model_id": "5b9e332b326b408a860d84e5d57aa34c",
       "version_major": 2,
       "version_minor": 0
      },
      "text/plain": [
       "Processing Channels (T=99):   0%|          | 0/3 [00:00<?, ?it/s]"
      ]
     },
     "metadata": {},
     "output_type": "display_data"
    },
    {
     "name": "stdout",
     "output_type": "stream",
     "text": [
      "Timepoint ID 99 saved out\n"
     ]
    },
    {
     "data": {
      "application/vnd.jupyter.widget-view+json": {
       "model_id": "10161de778ae4d37a6c38762780f1cd6",
       "version_major": 2,
       "version_minor": 0
      },
      "text/plain": [
       "Processing Channels (T=100):   0%|          | 0/3 [00:00<?, ?it/s]"
      ]
     },
     "metadata": {},
     "output_type": "display_data"
    },
    {
     "name": "stdout",
     "output_type": "stream",
     "text": [
      "Timepoint ID 100 saved out\n"
     ]
    },
    {
     "data": {
      "application/vnd.jupyter.widget-view+json": {
       "model_id": "dff88abcdd7d4f61b7ca5eefb1f85921",
       "version_major": 2,
       "version_minor": 0
      },
      "text/plain": [
       "Processing Channels (T=101):   0%|          | 0/3 [00:00<?, ?it/s]"
      ]
     },
     "metadata": {},
     "output_type": "display_data"
    },
    {
     "name": "stdout",
     "output_type": "stream",
     "text": [
      "Timepoint ID 101 saved out\n"
     ]
    },
    {
     "data": {
      "application/vnd.jupyter.widget-view+json": {
       "model_id": "f2c1f692850e4e1fb582528263c17b20",
       "version_major": 2,
       "version_minor": 0
      },
      "text/plain": [
       "Processing Channels (T=102):   0%|          | 0/3 [00:00<?, ?it/s]"
      ]
     },
     "metadata": {},
     "output_type": "display_data"
    },
    {
     "name": "stdout",
     "output_type": "stream",
     "text": [
      "Timepoint ID 102 saved out\n"
     ]
    },
    {
     "data": {
      "application/vnd.jupyter.widget-view+json": {
       "model_id": "402f12b7e6b1404193cfbf5d1c614266",
       "version_major": 2,
       "version_minor": 0
      },
      "text/plain": [
       "Processing Channels (T=103):   0%|          | 0/3 [00:00<?, ?it/s]"
      ]
     },
     "metadata": {},
     "output_type": "display_data"
    },
    {
     "name": "stdout",
     "output_type": "stream",
     "text": [
      "Timepoint ID 103 saved out\n"
     ]
    },
    {
     "data": {
      "application/vnd.jupyter.widget-view+json": {
       "model_id": "e0130e83378e420cac69be65c9cbe699",
       "version_major": 2,
       "version_minor": 0
      },
      "text/plain": [
       "Processing Channels (T=104):   0%|          | 0/3 [00:00<?, ?it/s]"
      ]
     },
     "metadata": {},
     "output_type": "display_data"
    },
    {
     "name": "stdout",
     "output_type": "stream",
     "text": [
      "Timepoint ID 104 saved out\n"
     ]
    },
    {
     "data": {
      "application/vnd.jupyter.widget-view+json": {
       "model_id": "bd51e5d19ee547848bc7ee060754f4cf",
       "version_major": 2,
       "version_minor": 0
      },
      "text/plain": [
       "Processing Channels (T=105):   0%|          | 0/3 [00:00<?, ?it/s]"
      ]
     },
     "metadata": {},
     "output_type": "display_data"
    },
    {
     "name": "stdout",
     "output_type": "stream",
     "text": [
      "Timepoint ID 105 saved out\n"
     ]
    },
    {
     "data": {
      "application/vnd.jupyter.widget-view+json": {
       "model_id": "cf96c843857044218674af574296c033",
       "version_major": 2,
       "version_minor": 0
      },
      "text/plain": [
       "Processing Channels (T=106):   0%|          | 0/3 [00:00<?, ?it/s]"
      ]
     },
     "metadata": {},
     "output_type": "display_data"
    },
    {
     "name": "stdout",
     "output_type": "stream",
     "text": [
      "Timepoint ID 106 saved out\n"
     ]
    },
    {
     "data": {
      "application/vnd.jupyter.widget-view+json": {
       "model_id": "87afdac28040428286f4be3e79499976",
       "version_major": 2,
       "version_minor": 0
      },
      "text/plain": [
       "Processing Channels (T=107):   0%|          | 0/3 [00:00<?, ?it/s]"
      ]
     },
     "metadata": {},
     "output_type": "display_data"
    },
    {
     "name": "stdout",
     "output_type": "stream",
     "text": [
      "Timepoint ID 107 saved out\n"
     ]
    },
    {
     "data": {
      "application/vnd.jupyter.widget-view+json": {
       "model_id": "5a83be3f96a9414c891b16feeba5a83d",
       "version_major": 2,
       "version_minor": 0
      },
      "text/plain": [
       "Processing Channels (T=108):   0%|          | 0/3 [00:00<?, ?it/s]"
      ]
     },
     "metadata": {},
     "output_type": "display_data"
    },
    {
     "name": "stdout",
     "output_type": "stream",
     "text": [
      "Timepoint ID 108 saved out\n"
     ]
    },
    {
     "data": {
      "application/vnd.jupyter.widget-view+json": {
       "model_id": "cba515d6886f4dd2b7083857495120d7",
       "version_major": 2,
       "version_minor": 0
      },
      "text/plain": [
       "Processing Channels (T=109):   0%|          | 0/3 [00:00<?, ?it/s]"
      ]
     },
     "metadata": {},
     "output_type": "display_data"
    },
    {
     "name": "stdout",
     "output_type": "stream",
     "text": [
      "Timepoint ID 109 saved out\n"
     ]
    },
    {
     "data": {
      "application/vnd.jupyter.widget-view+json": {
       "model_id": "5a031c10cf89405fb07806726b32cd54",
       "version_major": 2,
       "version_minor": 0
      },
      "text/plain": [
       "Processing Channels (T=110):   0%|          | 0/3 [00:00<?, ?it/s]"
      ]
     },
     "metadata": {},
     "output_type": "display_data"
    },
    {
     "name": "stdout",
     "output_type": "stream",
     "text": [
      "Timepoint ID 110 saved out\n"
     ]
    },
    {
     "data": {
      "application/vnd.jupyter.widget-view+json": {
       "model_id": "0bdc71afb5774f4bbe8939c3f088e8ea",
       "version_major": 2,
       "version_minor": 0
      },
      "text/plain": [
       "Processing Channels (T=111):   0%|          | 0/3 [00:00<?, ?it/s]"
      ]
     },
     "metadata": {},
     "output_type": "display_data"
    },
    {
     "name": "stdout",
     "output_type": "stream",
     "text": [
      "Timepoint ID 111 saved out\n"
     ]
    },
    {
     "data": {
      "application/vnd.jupyter.widget-view+json": {
       "model_id": "3e04829313c947cbb127e3fd229f6bcd",
       "version_major": 2,
       "version_minor": 0
      },
      "text/plain": [
       "Processing Channels (T=112):   0%|          | 0/3 [00:00<?, ?it/s]"
      ]
     },
     "metadata": {},
     "output_type": "display_data"
    },
    {
     "name": "stdout",
     "output_type": "stream",
     "text": [
      "Timepoint ID 112 saved out\n"
     ]
    },
    {
     "data": {
      "application/vnd.jupyter.widget-view+json": {
       "model_id": "f6a99868e22240c3a5745f8c9e2f59c8",
       "version_major": 2,
       "version_minor": 0
      },
      "text/plain": [
       "Processing Channels (T=113):   0%|          | 0/3 [00:00<?, ?it/s]"
      ]
     },
     "metadata": {},
     "output_type": "display_data"
    },
    {
     "name": "stdout",
     "output_type": "stream",
     "text": [
      "Timepoint ID 113 saved out\n"
     ]
    },
    {
     "data": {
      "application/vnd.jupyter.widget-view+json": {
       "model_id": "461bc62679d8412685afd7a0df26b027",
       "version_major": 2,
       "version_minor": 0
      },
      "text/plain": [
       "Processing Channels (T=114):   0%|          | 0/3 [00:00<?, ?it/s]"
      ]
     },
     "metadata": {},
     "output_type": "display_data"
    },
    {
     "name": "stdout",
     "output_type": "stream",
     "text": [
      "Timepoint ID 114 saved out\n"
     ]
    },
    {
     "data": {
      "application/vnd.jupyter.widget-view+json": {
       "model_id": "b9c3ac939d5044c989d4a7f50804828c",
       "version_major": 2,
       "version_minor": 0
      },
      "text/plain": [
       "Processing Channels (T=115):   0%|          | 0/3 [00:00<?, ?it/s]"
      ]
     },
     "metadata": {},
     "output_type": "display_data"
    },
    {
     "name": "stdout",
     "output_type": "stream",
     "text": [
      "Timepoint ID 115 saved out\n"
     ]
    },
    {
     "data": {
      "application/vnd.jupyter.widget-view+json": {
       "model_id": "e5b37486a3bb4708af35a15e6ba1b1e4",
       "version_major": 2,
       "version_minor": 0
      },
      "text/plain": [
       "Processing Channels (T=116):   0%|          | 0/3 [00:00<?, ?it/s]"
      ]
     },
     "metadata": {},
     "output_type": "display_data"
    },
    {
     "name": "stdout",
     "output_type": "stream",
     "text": [
      "Timepoint ID 116 saved out\n"
     ]
    },
    {
     "data": {
      "application/vnd.jupyter.widget-view+json": {
       "model_id": "3e9a0f84978c4348b36683c87206aeec",
       "version_major": 2,
       "version_minor": 0
      },
      "text/plain": [
       "Processing Channels (T=117):   0%|          | 0/3 [00:00<?, ?it/s]"
      ]
     },
     "metadata": {},
     "output_type": "display_data"
    },
    {
     "name": "stdout",
     "output_type": "stream",
     "text": [
      "Timepoint ID 117 saved out\n"
     ]
    },
    {
     "data": {
      "application/vnd.jupyter.widget-view+json": {
       "model_id": "a12649fc0d504f37be2bc5ae5318af98",
       "version_major": 2,
       "version_minor": 0
      },
      "text/plain": [
       "Processing Channels (T=118):   0%|          | 0/3 [00:00<?, ?it/s]"
      ]
     },
     "metadata": {},
     "output_type": "display_data"
    },
    {
     "name": "stdout",
     "output_type": "stream",
     "text": [
      "Timepoint ID 118 saved out\n"
     ]
    },
    {
     "data": {
      "application/vnd.jupyter.widget-view+json": {
       "model_id": "2fe932d800784ff9a532077fa9ee6986",
       "version_major": 2,
       "version_minor": 0
      },
      "text/plain": [
       "Processing Channels (T=119):   0%|          | 0/3 [00:00<?, ?it/s]"
      ]
     },
     "metadata": {},
     "output_type": "display_data"
    },
    {
     "name": "stdout",
     "output_type": "stream",
     "text": [
      "Timepoint ID 119 saved out\n"
     ]
    },
    {
     "data": {
      "application/vnd.jupyter.widget-view+json": {
       "model_id": "5e3b9c87452c49009667e43d30867fac",
       "version_major": 2,
       "version_minor": 0
      },
      "text/plain": [
       "Processing Channels (T=120):   0%|          | 0/3 [00:00<?, ?it/s]"
      ]
     },
     "metadata": {},
     "output_type": "display_data"
    },
    {
     "name": "stdout",
     "output_type": "stream",
     "text": [
      "Timepoint ID 120 saved out\n"
     ]
    },
    {
     "data": {
      "application/vnd.jupyter.widget-view+json": {
       "model_id": "76a822a0268d4f419fab6a7c2960c908",
       "version_major": 2,
       "version_minor": 0
      },
      "text/plain": [
       "Processing Channels (T=121):   0%|          | 0/3 [00:00<?, ?it/s]"
      ]
     },
     "metadata": {},
     "output_type": "display_data"
    },
    {
     "name": "stdout",
     "output_type": "stream",
     "text": [
      "Timepoint ID 121 saved out\n"
     ]
    },
    {
     "data": {
      "application/vnd.jupyter.widget-view+json": {
       "model_id": "782dce0fd889418b984a0ae56f8b28e6",
       "version_major": 2,
       "version_minor": 0
      },
      "text/plain": [
       "Processing Channels (T=122):   0%|          | 0/3 [00:00<?, ?it/s]"
      ]
     },
     "metadata": {},
     "output_type": "display_data"
    },
    {
     "name": "stdout",
     "output_type": "stream",
     "text": [
      "Timepoint ID 122 saved out\n"
     ]
    },
    {
     "data": {
      "application/vnd.jupyter.widget-view+json": {
       "model_id": "65611dfcc2c94d219b0919422ee1e241",
       "version_major": 2,
       "version_minor": 0
      },
      "text/plain": [
       "Processing Channels (T=123):   0%|          | 0/3 [00:00<?, ?it/s]"
      ]
     },
     "metadata": {},
     "output_type": "display_data"
    },
    {
     "name": "stdout",
     "output_type": "stream",
     "text": [
      "Timepoint ID 123 saved out\n"
     ]
    },
    {
     "data": {
      "application/vnd.jupyter.widget-view+json": {
       "model_id": "7dde12b5eb064f8baecff58fa80c7938",
       "version_major": 2,
       "version_minor": 0
      },
      "text/plain": [
       "Processing Channels (T=124):   0%|          | 0/3 [00:00<?, ?it/s]"
      ]
     },
     "metadata": {},
     "output_type": "display_data"
    },
    {
     "name": "stdout",
     "output_type": "stream",
     "text": [
      "Timepoint ID 124 saved out\n"
     ]
    },
    {
     "data": {
      "application/vnd.jupyter.widget-view+json": {
       "model_id": "30e8748fb5be4116826197836682f913",
       "version_major": 2,
       "version_minor": 0
      },
      "text/plain": [
       "Processing Channels (T=125):   0%|          | 0/3 [00:00<?, ?it/s]"
      ]
     },
     "metadata": {},
     "output_type": "display_data"
    },
    {
     "name": "stdout",
     "output_type": "stream",
     "text": [
      "Timepoint ID 125 saved out\n"
     ]
    },
    {
     "data": {
      "application/vnd.jupyter.widget-view+json": {
       "model_id": "20adf547f49b48d88d490c9e5dc33434",
       "version_major": 2,
       "version_minor": 0
      },
      "text/plain": [
       "Processing Channels (T=126):   0%|          | 0/3 [00:00<?, ?it/s]"
      ]
     },
     "metadata": {},
     "output_type": "display_data"
    },
    {
     "name": "stdout",
     "output_type": "stream",
     "text": [
      "Timepoint ID 126 saved out\n"
     ]
    },
    {
     "data": {
      "application/vnd.jupyter.widget-view+json": {
       "model_id": "e88511e20dbf4b2ba20e01c1efb354c8",
       "version_major": 2,
       "version_minor": 0
      },
      "text/plain": [
       "Processing Channels (T=127):   0%|          | 0/3 [00:00<?, ?it/s]"
      ]
     },
     "metadata": {},
     "output_type": "display_data"
    },
    {
     "name": "stdout",
     "output_type": "stream",
     "text": [
      "Timepoint ID 127 saved out\n"
     ]
    },
    {
     "data": {
      "application/vnd.jupyter.widget-view+json": {
       "model_id": "35f8d56d897641409a0cadcb82a811dd",
       "version_major": 2,
       "version_minor": 0
      },
      "text/plain": [
       "Processing Channels (T=128):   0%|          | 0/3 [00:00<?, ?it/s]"
      ]
     },
     "metadata": {},
     "output_type": "display_data"
    },
    {
     "name": "stdout",
     "output_type": "stream",
     "text": [
      "Timepoint ID 128 saved out\n"
     ]
    },
    {
     "data": {
      "application/vnd.jupyter.widget-view+json": {
       "model_id": "a4727bec01f843d1bf5c9142ca799740",
       "version_major": 2,
       "version_minor": 0
      },
      "text/plain": [
       "Processing Channels (T=129):   0%|          | 0/3 [00:00<?, ?it/s]"
      ]
     },
     "metadata": {},
     "output_type": "display_data"
    },
    {
     "name": "stdout",
     "output_type": "stream",
     "text": [
      "Timepoint ID 129 saved out\n"
     ]
    },
    {
     "data": {
      "application/vnd.jupyter.widget-view+json": {
       "model_id": "3c3b7462625f4ae0bb8cea97411f32a6",
       "version_major": 2,
       "version_minor": 0
      },
      "text/plain": [
       "Processing Channels (T=130):   0%|          | 0/3 [00:00<?, ?it/s]"
      ]
     },
     "metadata": {},
     "output_type": "display_data"
    },
    {
     "name": "stdout",
     "output_type": "stream",
     "text": [
      "Timepoint ID 130 saved out\n"
     ]
    },
    {
     "data": {
      "application/vnd.jupyter.widget-view+json": {
       "model_id": "33be187f82554e9b8d39923edac896cd",
       "version_major": 2,
       "version_minor": 0
      },
      "text/plain": [
       "Processing Channels (T=131):   0%|          | 0/3 [00:00<?, ?it/s]"
      ]
     },
     "metadata": {},
     "output_type": "display_data"
    },
    {
     "name": "stdout",
     "output_type": "stream",
     "text": [
      "Timepoint ID 131 saved out\n"
     ]
    },
    {
     "data": {
      "application/vnd.jupyter.widget-view+json": {
       "model_id": "470ff6a3790d4028aeb4bf2cc16c0170",
       "version_major": 2,
       "version_minor": 0
      },
      "text/plain": [
       "Processing Channels (T=132):   0%|          | 0/3 [00:00<?, ?it/s]"
      ]
     },
     "metadata": {},
     "output_type": "display_data"
    },
    {
     "name": "stdout",
     "output_type": "stream",
     "text": [
      "Timepoint ID 132 saved out\n"
     ]
    },
    {
     "data": {
      "application/vnd.jupyter.widget-view+json": {
       "model_id": "d847869f39b54f97ab4393ab67baa9bc",
       "version_major": 2,
       "version_minor": 0
      },
      "text/plain": [
       "Processing Channels (T=133):   0%|          | 0/3 [00:00<?, ?it/s]"
      ]
     },
     "metadata": {},
     "output_type": "display_data"
    },
    {
     "name": "stdout",
     "output_type": "stream",
     "text": [
      "Timepoint ID 133 saved out\n"
     ]
    },
    {
     "data": {
      "application/vnd.jupyter.widget-view+json": {
       "model_id": "66891b7c38ec496781c9b55dae0f839a",
       "version_major": 2,
       "version_minor": 0
      },
      "text/plain": [
       "Processing Channels (T=134):   0%|          | 0/3 [00:00<?, ?it/s]"
      ]
     },
     "metadata": {},
     "output_type": "display_data"
    },
    {
     "name": "stdout",
     "output_type": "stream",
     "text": [
      "Timepoint ID 134 saved out\n"
     ]
    },
    {
     "data": {
      "application/vnd.jupyter.widget-view+json": {
       "model_id": "c557700df73d4a85b0a39d6546eeb3f0",
       "version_major": 2,
       "version_minor": 0
      },
      "text/plain": [
       "Processing Channels (T=135):   0%|          | 0/3 [00:00<?, ?it/s]"
      ]
     },
     "metadata": {},
     "output_type": "display_data"
    },
    {
     "name": "stdout",
     "output_type": "stream",
     "text": [
      "Timepoint ID 135 saved out\n"
     ]
    },
    {
     "data": {
      "application/vnd.jupyter.widget-view+json": {
       "model_id": "e2a03b2a1f3642b89717f3043c71ffaf",
       "version_major": 2,
       "version_minor": 0
      },
      "text/plain": [
       "Processing Channels (T=136):   0%|          | 0/3 [00:00<?, ?it/s]"
      ]
     },
     "metadata": {},
     "output_type": "display_data"
    },
    {
     "name": "stdout",
     "output_type": "stream",
     "text": [
      "Timepoint ID 136 saved out\n"
     ]
    },
    {
     "data": {
      "application/vnd.jupyter.widget-view+json": {
       "model_id": "d54da923bfc4455397573d7e42cb7c41",
       "version_major": 2,
       "version_minor": 0
      },
      "text/plain": [
       "Processing Channels (T=137):   0%|          | 0/3 [00:00<?, ?it/s]"
      ]
     },
     "metadata": {},
     "output_type": "display_data"
    },
    {
     "name": "stdout",
     "output_type": "stream",
     "text": [
      "Timepoint ID 137 saved out\n"
     ]
    },
    {
     "data": {
      "application/vnd.jupyter.widget-view+json": {
       "model_id": "a615000e78394b3aa4d3f8d6e4bc3fab",
       "version_major": 2,
       "version_minor": 0
      },
      "text/plain": [
       "Processing Channels (T=138):   0%|          | 0/3 [00:00<?, ?it/s]"
      ]
     },
     "metadata": {},
     "output_type": "display_data"
    },
    {
     "name": "stdout",
     "output_type": "stream",
     "text": [
      "Timepoint ID 138 saved out\n"
     ]
    },
    {
     "data": {
      "application/vnd.jupyter.widget-view+json": {
       "model_id": "6ed71d2718c24d298ca774c3b2dc0a71",
       "version_major": 2,
       "version_minor": 0
      },
      "text/plain": [
       "Processing Channels (T=139):   0%|          | 0/3 [00:00<?, ?it/s]"
      ]
     },
     "metadata": {},
     "output_type": "display_data"
    },
    {
     "name": "stdout",
     "output_type": "stream",
     "text": [
      "Timepoint ID 139 saved out\n"
     ]
    },
    {
     "data": {
      "application/vnd.jupyter.widget-view+json": {
       "model_id": "2a11729df22b4ebfa023ae3891d17d2f",
       "version_major": 2,
       "version_minor": 0
      },
      "text/plain": [
       "Processing Channels (T=140):   0%|          | 0/3 [00:00<?, ?it/s]"
      ]
     },
     "metadata": {},
     "output_type": "display_data"
    },
    {
     "name": "stdout",
     "output_type": "stream",
     "text": [
      "Timepoint ID 140 saved out\n"
     ]
    },
    {
     "data": {
      "application/vnd.jupyter.widget-view+json": {
       "model_id": "5309e4bbcbd0434a8e1f1eaf42603676",
       "version_major": 2,
       "version_minor": 0
      },
      "text/plain": [
       "Processing Channels (T=141):   0%|          | 0/3 [00:00<?, ?it/s]"
      ]
     },
     "metadata": {},
     "output_type": "display_data"
    },
    {
     "name": "stdout",
     "output_type": "stream",
     "text": [
      "Timepoint ID 141 saved out\n"
     ]
    },
    {
     "data": {
      "application/vnd.jupyter.widget-view+json": {
       "model_id": "ef21dcf45be14b35aaf89e4eab16edd6",
       "version_major": 2,
       "version_minor": 0
      },
      "text/plain": [
       "Processing Channels (T=142):   0%|          | 0/3 [00:00<?, ?it/s]"
      ]
     },
     "metadata": {},
     "output_type": "display_data"
    },
    {
     "name": "stdout",
     "output_type": "stream",
     "text": [
      "Timepoint ID 142 saved out\n"
     ]
    },
    {
     "data": {
      "application/vnd.jupyter.widget-view+json": {
       "model_id": "9fb984e7ea224ae99ecfcf89aca57330",
       "version_major": 2,
       "version_minor": 0
      },
      "text/plain": [
       "Processing Channels (T=143):   0%|          | 0/3 [00:00<?, ?it/s]"
      ]
     },
     "metadata": {},
     "output_type": "display_data"
    },
    {
     "name": "stdout",
     "output_type": "stream",
     "text": [
      "Timepoint ID 143 saved out\n"
     ]
    },
    {
     "data": {
      "application/vnd.jupyter.widget-view+json": {
       "model_id": "48d656a93d714ef18dae2ba452d0dca4",
       "version_major": 2,
       "version_minor": 0
      },
      "text/plain": [
       "Processing Time Points:   0%|          | 0/144 [00:00<?, ?it/s]"
      ]
     },
     "metadata": {},
     "output_type": "display_data"
    },
    {
     "data": {
      "application/vnd.jupyter.widget-view+json": {
       "model_id": "66b29a47709045d2af272c2045099564",
       "version_major": 2,
       "version_minor": 0
      },
      "text/plain": [
       "Processing Channels (T=0):   0%|          | 0/3 [00:00<?, ?it/s]"
      ]
     },
     "metadata": {},
     "output_type": "display_data"
    },
    {
     "name": "stdout",
     "output_type": "stream",
     "text": [
      "Timepoint ID 0 saved out\n"
     ]
    },
    {
     "data": {
      "application/vnd.jupyter.widget-view+json": {
       "model_id": "ae5ea8673d16478ebe6df735a858fb35",
       "version_major": 2,
       "version_minor": 0
      },
      "text/plain": [
       "Processing Channels (T=1):   0%|          | 0/3 [00:00<?, ?it/s]"
      ]
     },
     "metadata": {},
     "output_type": "display_data"
    },
    {
     "name": "stdout",
     "output_type": "stream",
     "text": [
      "Timepoint ID 1 saved out\n"
     ]
    },
    {
     "data": {
      "application/vnd.jupyter.widget-view+json": {
       "model_id": "a75d34fa28c241b6964fece0b68b1f99",
       "version_major": 2,
       "version_minor": 0
      },
      "text/plain": [
       "Processing Channels (T=2):   0%|          | 0/3 [00:00<?, ?it/s]"
      ]
     },
     "metadata": {},
     "output_type": "display_data"
    },
    {
     "name": "stdout",
     "output_type": "stream",
     "text": [
      "Timepoint ID 2 saved out\n"
     ]
    },
    {
     "data": {
      "application/vnd.jupyter.widget-view+json": {
       "model_id": "47ed25cf434f4ebc899842dacd014889",
       "version_major": 2,
       "version_minor": 0
      },
      "text/plain": [
       "Processing Channels (T=3):   0%|          | 0/3 [00:00<?, ?it/s]"
      ]
     },
     "metadata": {},
     "output_type": "display_data"
    },
    {
     "name": "stdout",
     "output_type": "stream",
     "text": [
      "Timepoint ID 3 saved out\n"
     ]
    },
    {
     "data": {
      "application/vnd.jupyter.widget-view+json": {
       "model_id": "79951637e59a416e84b5f408e041eb22",
       "version_major": 2,
       "version_minor": 0
      },
      "text/plain": [
       "Processing Channels (T=4):   0%|          | 0/3 [00:00<?, ?it/s]"
      ]
     },
     "metadata": {},
     "output_type": "display_data"
    },
    {
     "name": "stdout",
     "output_type": "stream",
     "text": [
      "Timepoint ID 4 saved out\n"
     ]
    },
    {
     "data": {
      "application/vnd.jupyter.widget-view+json": {
       "model_id": "85c64cebf53e43adb19d7c2b699ff9be",
       "version_major": 2,
       "version_minor": 0
      },
      "text/plain": [
       "Processing Channels (T=5):   0%|          | 0/3 [00:00<?, ?it/s]"
      ]
     },
     "metadata": {},
     "output_type": "display_data"
    },
    {
     "name": "stdout",
     "output_type": "stream",
     "text": [
      "Timepoint ID 5 saved out\n"
     ]
    },
    {
     "data": {
      "application/vnd.jupyter.widget-view+json": {
       "model_id": "e373261973c34cab9dcba13577dd18cd",
       "version_major": 2,
       "version_minor": 0
      },
      "text/plain": [
       "Processing Channels (T=6):   0%|          | 0/3 [00:00<?, ?it/s]"
      ]
     },
     "metadata": {},
     "output_type": "display_data"
    },
    {
     "name": "stdout",
     "output_type": "stream",
     "text": [
      "Timepoint ID 6 saved out\n"
     ]
    },
    {
     "data": {
      "application/vnd.jupyter.widget-view+json": {
       "model_id": "5277fdb374ca42f086835818de73cdfd",
       "version_major": 2,
       "version_minor": 0
      },
      "text/plain": [
       "Processing Channels (T=7):   0%|          | 0/3 [00:00<?, ?it/s]"
      ]
     },
     "metadata": {},
     "output_type": "display_data"
    },
    {
     "name": "stdout",
     "output_type": "stream",
     "text": [
      "Timepoint ID 7 saved out\n"
     ]
    },
    {
     "data": {
      "application/vnd.jupyter.widget-view+json": {
       "model_id": "d847be44531242938dfd5d0ce3f1ad98",
       "version_major": 2,
       "version_minor": 0
      },
      "text/plain": [
       "Processing Channels (T=8):   0%|          | 0/3 [00:00<?, ?it/s]"
      ]
     },
     "metadata": {},
     "output_type": "display_data"
    },
    {
     "name": "stdout",
     "output_type": "stream",
     "text": [
      "Timepoint ID 8 saved out\n"
     ]
    },
    {
     "data": {
      "application/vnd.jupyter.widget-view+json": {
       "model_id": "0c3f9b200f1c404dae35707fc42aee07",
       "version_major": 2,
       "version_minor": 0
      },
      "text/plain": [
       "Processing Channels (T=9):   0%|          | 0/3 [00:00<?, ?it/s]"
      ]
     },
     "metadata": {},
     "output_type": "display_data"
    },
    {
     "name": "stdout",
     "output_type": "stream",
     "text": [
      "Timepoint ID 9 saved out\n"
     ]
    },
    {
     "data": {
      "application/vnd.jupyter.widget-view+json": {
       "model_id": "83b8cd65b55d45ed9021628b7e07f1e5",
       "version_major": 2,
       "version_minor": 0
      },
      "text/plain": [
       "Processing Channels (T=10):   0%|          | 0/3 [00:00<?, ?it/s]"
      ]
     },
     "metadata": {},
     "output_type": "display_data"
    },
    {
     "name": "stdout",
     "output_type": "stream",
     "text": [
      "Timepoint ID 10 saved out\n"
     ]
    },
    {
     "data": {
      "application/vnd.jupyter.widget-view+json": {
       "model_id": "b6e2f3d68fc74056a222e5f4376fa347",
       "version_major": 2,
       "version_minor": 0
      },
      "text/plain": [
       "Processing Channels (T=11):   0%|          | 0/3 [00:00<?, ?it/s]"
      ]
     },
     "metadata": {},
     "output_type": "display_data"
    },
    {
     "name": "stdout",
     "output_type": "stream",
     "text": [
      "Timepoint ID 11 saved out\n"
     ]
    },
    {
     "data": {
      "application/vnd.jupyter.widget-view+json": {
       "model_id": "6d509ab3443c420dbc49c937ede41476",
       "version_major": 2,
       "version_minor": 0
      },
      "text/plain": [
       "Processing Channels (T=12):   0%|          | 0/3 [00:00<?, ?it/s]"
      ]
     },
     "metadata": {},
     "output_type": "display_data"
    },
    {
     "name": "stdout",
     "output_type": "stream",
     "text": [
      "Timepoint ID 12 saved out\n"
     ]
    },
    {
     "data": {
      "application/vnd.jupyter.widget-view+json": {
       "model_id": "b8b63dab90f84d18b5bd67b6104868fe",
       "version_major": 2,
       "version_minor": 0
      },
      "text/plain": [
       "Processing Channels (T=13):   0%|          | 0/3 [00:00<?, ?it/s]"
      ]
     },
     "metadata": {},
     "output_type": "display_data"
    },
    {
     "name": "stdout",
     "output_type": "stream",
     "text": [
      "Timepoint ID 13 saved out\n"
     ]
    },
    {
     "data": {
      "application/vnd.jupyter.widget-view+json": {
       "model_id": "4c155231288c45a393cf143e524f28fc",
       "version_major": 2,
       "version_minor": 0
      },
      "text/plain": [
       "Processing Channels (T=14):   0%|          | 0/3 [00:00<?, ?it/s]"
      ]
     },
     "metadata": {},
     "output_type": "display_data"
    },
    {
     "name": "stdout",
     "output_type": "stream",
     "text": [
      "Timepoint ID 14 saved out\n"
     ]
    },
    {
     "data": {
      "application/vnd.jupyter.widget-view+json": {
       "model_id": "dec5b1fcda2d403989b6522f2e0f6d81",
       "version_major": 2,
       "version_minor": 0
      },
      "text/plain": [
       "Processing Channels (T=15):   0%|          | 0/3 [00:00<?, ?it/s]"
      ]
     },
     "metadata": {},
     "output_type": "display_data"
    },
    {
     "name": "stdout",
     "output_type": "stream",
     "text": [
      "Timepoint ID 15 saved out\n"
     ]
    },
    {
     "data": {
      "application/vnd.jupyter.widget-view+json": {
       "model_id": "4024d41febda4757ba518bf9e4cec4b5",
       "version_major": 2,
       "version_minor": 0
      },
      "text/plain": [
       "Processing Channels (T=16):   0%|          | 0/3 [00:00<?, ?it/s]"
      ]
     },
     "metadata": {},
     "output_type": "display_data"
    },
    {
     "name": "stdout",
     "output_type": "stream",
     "text": [
      "Timepoint ID 16 saved out\n"
     ]
    },
    {
     "data": {
      "application/vnd.jupyter.widget-view+json": {
       "model_id": "aa98e487e5a941579765879de6b36cec",
       "version_major": 2,
       "version_minor": 0
      },
      "text/plain": [
       "Processing Channels (T=17):   0%|          | 0/3 [00:00<?, ?it/s]"
      ]
     },
     "metadata": {},
     "output_type": "display_data"
    },
    {
     "name": "stdout",
     "output_type": "stream",
     "text": [
      "Timepoint ID 17 saved out\n"
     ]
    },
    {
     "data": {
      "application/vnd.jupyter.widget-view+json": {
       "model_id": "f70860379a6740509a5839f539534b58",
       "version_major": 2,
       "version_minor": 0
      },
      "text/plain": [
       "Processing Channels (T=18):   0%|          | 0/3 [00:00<?, ?it/s]"
      ]
     },
     "metadata": {},
     "output_type": "display_data"
    },
    {
     "name": "stdout",
     "output_type": "stream",
     "text": [
      "Timepoint ID 18 saved out\n"
     ]
    },
    {
     "data": {
      "application/vnd.jupyter.widget-view+json": {
       "model_id": "437bb439e9d049ddbee42f75334a2dd2",
       "version_major": 2,
       "version_minor": 0
      },
      "text/plain": [
       "Processing Channels (T=19):   0%|          | 0/3 [00:00<?, ?it/s]"
      ]
     },
     "metadata": {},
     "output_type": "display_data"
    },
    {
     "name": "stdout",
     "output_type": "stream",
     "text": [
      "Timepoint ID 19 saved out\n"
     ]
    },
    {
     "data": {
      "application/vnd.jupyter.widget-view+json": {
       "model_id": "86f13d0e8408426b9cf7c351095809e3",
       "version_major": 2,
       "version_minor": 0
      },
      "text/plain": [
       "Processing Channels (T=20):   0%|          | 0/3 [00:00<?, ?it/s]"
      ]
     },
     "metadata": {},
     "output_type": "display_data"
    },
    {
     "name": "stdout",
     "output_type": "stream",
     "text": [
      "Timepoint ID 20 saved out\n"
     ]
    },
    {
     "data": {
      "application/vnd.jupyter.widget-view+json": {
       "model_id": "7e6b0e479cba4ae8864b21cc92b5b601",
       "version_major": 2,
       "version_minor": 0
      },
      "text/plain": [
       "Processing Channels (T=21):   0%|          | 0/3 [00:00<?, ?it/s]"
      ]
     },
     "metadata": {},
     "output_type": "display_data"
    },
    {
     "name": "stdout",
     "output_type": "stream",
     "text": [
      "Timepoint ID 21 saved out\n"
     ]
    },
    {
     "data": {
      "application/vnd.jupyter.widget-view+json": {
       "model_id": "9430f752604345148082c7cf72fe87c5",
       "version_major": 2,
       "version_minor": 0
      },
      "text/plain": [
       "Processing Channels (T=22):   0%|          | 0/3 [00:00<?, ?it/s]"
      ]
     },
     "metadata": {},
     "output_type": "display_data"
    },
    {
     "name": "stdout",
     "output_type": "stream",
     "text": [
      "Timepoint ID 22 saved out\n"
     ]
    },
    {
     "data": {
      "application/vnd.jupyter.widget-view+json": {
       "model_id": "3a6453b11786465caabf1b8d96e7a322",
       "version_major": 2,
       "version_minor": 0
      },
      "text/plain": [
       "Processing Channels (T=23):   0%|          | 0/3 [00:00<?, ?it/s]"
      ]
     },
     "metadata": {},
     "output_type": "display_data"
    },
    {
     "name": "stdout",
     "output_type": "stream",
     "text": [
      "Timepoint ID 23 saved out\n"
     ]
    },
    {
     "data": {
      "application/vnd.jupyter.widget-view+json": {
       "model_id": "e6869adb5c7c43549d817c97d94655df",
       "version_major": 2,
       "version_minor": 0
      },
      "text/plain": [
       "Processing Channels (T=24):   0%|          | 0/3 [00:00<?, ?it/s]"
      ]
     },
     "metadata": {},
     "output_type": "display_data"
    },
    {
     "name": "stdout",
     "output_type": "stream",
     "text": [
      "Timepoint ID 24 saved out\n"
     ]
    },
    {
     "data": {
      "application/vnd.jupyter.widget-view+json": {
       "model_id": "d915ac72d3524309a1c353db1209e333",
       "version_major": 2,
       "version_minor": 0
      },
      "text/plain": [
       "Processing Channels (T=25):   0%|          | 0/3 [00:00<?, ?it/s]"
      ]
     },
     "metadata": {},
     "output_type": "display_data"
    },
    {
     "name": "stdout",
     "output_type": "stream",
     "text": [
      "Timepoint ID 25 saved out\n"
     ]
    },
    {
     "data": {
      "application/vnd.jupyter.widget-view+json": {
       "model_id": "55c2ee9d47f94377987a605e35fbfed9",
       "version_major": 2,
       "version_minor": 0
      },
      "text/plain": [
       "Processing Channels (T=26):   0%|          | 0/3 [00:00<?, ?it/s]"
      ]
     },
     "metadata": {},
     "output_type": "display_data"
    },
    {
     "name": "stdout",
     "output_type": "stream",
     "text": [
      "Timepoint ID 26 saved out\n"
     ]
    },
    {
     "data": {
      "application/vnd.jupyter.widget-view+json": {
       "model_id": "12f4d8761df8490891ab2c737a35dc29",
       "version_major": 2,
       "version_minor": 0
      },
      "text/plain": [
       "Processing Channels (T=27):   0%|          | 0/3 [00:00<?, ?it/s]"
      ]
     },
     "metadata": {},
     "output_type": "display_data"
    },
    {
     "name": "stdout",
     "output_type": "stream",
     "text": [
      "Timepoint ID 27 saved out\n"
     ]
    },
    {
     "data": {
      "application/vnd.jupyter.widget-view+json": {
       "model_id": "6ad2d6b83bc34601854bedbf1aec4a12",
       "version_major": 2,
       "version_minor": 0
      },
      "text/plain": [
       "Processing Channels (T=28):   0%|          | 0/3 [00:00<?, ?it/s]"
      ]
     },
     "metadata": {},
     "output_type": "display_data"
    },
    {
     "name": "stdout",
     "output_type": "stream",
     "text": [
      "Timepoint ID 28 saved out\n"
     ]
    },
    {
     "data": {
      "application/vnd.jupyter.widget-view+json": {
       "model_id": "815c182ed3ea42c3b6bb74e87a28062f",
       "version_major": 2,
       "version_minor": 0
      },
      "text/plain": [
       "Processing Channels (T=29):   0%|          | 0/3 [00:00<?, ?it/s]"
      ]
     },
     "metadata": {},
     "output_type": "display_data"
    },
    {
     "name": "stdout",
     "output_type": "stream",
     "text": [
      "Timepoint ID 29 saved out\n"
     ]
    },
    {
     "data": {
      "application/vnd.jupyter.widget-view+json": {
       "model_id": "35fb1e0061fe4708a99763b48f808512",
       "version_major": 2,
       "version_minor": 0
      },
      "text/plain": [
       "Processing Channels (T=30):   0%|          | 0/3 [00:00<?, ?it/s]"
      ]
     },
     "metadata": {},
     "output_type": "display_data"
    },
    {
     "name": "stdout",
     "output_type": "stream",
     "text": [
      "Timepoint ID 30 saved out\n"
     ]
    },
    {
     "data": {
      "application/vnd.jupyter.widget-view+json": {
       "model_id": "bf19ffac399e4cb1b4ca617554a57a29",
       "version_major": 2,
       "version_minor": 0
      },
      "text/plain": [
       "Processing Channels (T=31):   0%|          | 0/3 [00:00<?, ?it/s]"
      ]
     },
     "metadata": {},
     "output_type": "display_data"
    },
    {
     "name": "stdout",
     "output_type": "stream",
     "text": [
      "Timepoint ID 31 saved out\n"
     ]
    },
    {
     "data": {
      "application/vnd.jupyter.widget-view+json": {
       "model_id": "24ff994af42244f59ad545436d12a7d7",
       "version_major": 2,
       "version_minor": 0
      },
      "text/plain": [
       "Processing Channels (T=32):   0%|          | 0/3 [00:00<?, ?it/s]"
      ]
     },
     "metadata": {},
     "output_type": "display_data"
    },
    {
     "name": "stdout",
     "output_type": "stream",
     "text": [
      "Timepoint ID 32 saved out\n"
     ]
    },
    {
     "data": {
      "application/vnd.jupyter.widget-view+json": {
       "model_id": "a4410c27714b43e48836242080ab759a",
       "version_major": 2,
       "version_minor": 0
      },
      "text/plain": [
       "Processing Channels (T=33):   0%|          | 0/3 [00:00<?, ?it/s]"
      ]
     },
     "metadata": {},
     "output_type": "display_data"
    },
    {
     "name": "stdout",
     "output_type": "stream",
     "text": [
      "Timepoint ID 33 saved out\n"
     ]
    },
    {
     "data": {
      "application/vnd.jupyter.widget-view+json": {
       "model_id": "3f55b736c70e4b98a43f34a93f0614ce",
       "version_major": 2,
       "version_minor": 0
      },
      "text/plain": [
       "Processing Channels (T=34):   0%|          | 0/3 [00:00<?, ?it/s]"
      ]
     },
     "metadata": {},
     "output_type": "display_data"
    },
    {
     "name": "stdout",
     "output_type": "stream",
     "text": [
      "Timepoint ID 34 saved out\n"
     ]
    },
    {
     "data": {
      "application/vnd.jupyter.widget-view+json": {
       "model_id": "5460666e061f4fd594c90affce82caaa",
       "version_major": 2,
       "version_minor": 0
      },
      "text/plain": [
       "Processing Channels (T=35):   0%|          | 0/3 [00:00<?, ?it/s]"
      ]
     },
     "metadata": {},
     "output_type": "display_data"
    },
    {
     "name": "stdout",
     "output_type": "stream",
     "text": [
      "Timepoint ID 35 saved out\n"
     ]
    },
    {
     "data": {
      "application/vnd.jupyter.widget-view+json": {
       "model_id": "7af76b80dea04c49bcee44c35abfdda2",
       "version_major": 2,
       "version_minor": 0
      },
      "text/plain": [
       "Processing Channels (T=36):   0%|          | 0/3 [00:00<?, ?it/s]"
      ]
     },
     "metadata": {},
     "output_type": "display_data"
    },
    {
     "name": "stdout",
     "output_type": "stream",
     "text": [
      "Timepoint ID 36 saved out\n"
     ]
    },
    {
     "data": {
      "application/vnd.jupyter.widget-view+json": {
       "model_id": "65ac7fa3abaa470881659f6078059534",
       "version_major": 2,
       "version_minor": 0
      },
      "text/plain": [
       "Processing Channels (T=37):   0%|          | 0/3 [00:00<?, ?it/s]"
      ]
     },
     "metadata": {},
     "output_type": "display_data"
    },
    {
     "name": "stdout",
     "output_type": "stream",
     "text": [
      "Timepoint ID 37 saved out\n"
     ]
    },
    {
     "data": {
      "application/vnd.jupyter.widget-view+json": {
       "model_id": "5d270a89ca7e4b1e907a0e3359f3fef6",
       "version_major": 2,
       "version_minor": 0
      },
      "text/plain": [
       "Processing Channels (T=38):   0%|          | 0/3 [00:00<?, ?it/s]"
      ]
     },
     "metadata": {},
     "output_type": "display_data"
    },
    {
     "name": "stdout",
     "output_type": "stream",
     "text": [
      "Timepoint ID 38 saved out\n"
     ]
    },
    {
     "data": {
      "application/vnd.jupyter.widget-view+json": {
       "model_id": "b860bb93cf2f415b81c0ab9ddabf8d2c",
       "version_major": 2,
       "version_minor": 0
      },
      "text/plain": [
       "Processing Channels (T=39):   0%|          | 0/3 [00:00<?, ?it/s]"
      ]
     },
     "metadata": {},
     "output_type": "display_data"
    },
    {
     "name": "stdout",
     "output_type": "stream",
     "text": [
      "Timepoint ID 39 saved out\n"
     ]
    },
    {
     "data": {
      "application/vnd.jupyter.widget-view+json": {
       "model_id": "a4fdaa1d7eae4a5c8da4d9fa3b6dc2ef",
       "version_major": 2,
       "version_minor": 0
      },
      "text/plain": [
       "Processing Channels (T=40):   0%|          | 0/3 [00:00<?, ?it/s]"
      ]
     },
     "metadata": {},
     "output_type": "display_data"
    },
    {
     "name": "stdout",
     "output_type": "stream",
     "text": [
      "Timepoint ID 40 saved out\n"
     ]
    },
    {
     "data": {
      "application/vnd.jupyter.widget-view+json": {
       "model_id": "e38f34fc81ab4640b1202975c2eb9335",
       "version_major": 2,
       "version_minor": 0
      },
      "text/plain": [
       "Processing Channels (T=41):   0%|          | 0/3 [00:00<?, ?it/s]"
      ]
     },
     "metadata": {},
     "output_type": "display_data"
    },
    {
     "name": "stdout",
     "output_type": "stream",
     "text": [
      "Timepoint ID 41 saved out\n"
     ]
    },
    {
     "data": {
      "application/vnd.jupyter.widget-view+json": {
       "model_id": "f6d8d7dbe26c444e9f3830f32d41db0a",
       "version_major": 2,
       "version_minor": 0
      },
      "text/plain": [
       "Processing Channels (T=42):   0%|          | 0/3 [00:00<?, ?it/s]"
      ]
     },
     "metadata": {},
     "output_type": "display_data"
    },
    {
     "name": "stdout",
     "output_type": "stream",
     "text": [
      "Timepoint ID 42 saved out\n"
     ]
    },
    {
     "data": {
      "application/vnd.jupyter.widget-view+json": {
       "model_id": "3e67586cbe904c159afebc8e765e04ac",
       "version_major": 2,
       "version_minor": 0
      },
      "text/plain": [
       "Processing Channels (T=43):   0%|          | 0/3 [00:00<?, ?it/s]"
      ]
     },
     "metadata": {},
     "output_type": "display_data"
    },
    {
     "name": "stdout",
     "output_type": "stream",
     "text": [
      "Timepoint ID 43 saved out\n"
     ]
    },
    {
     "data": {
      "application/vnd.jupyter.widget-view+json": {
       "model_id": "c1c4af3111324f34adb634b83f156c3b",
       "version_major": 2,
       "version_minor": 0
      },
      "text/plain": [
       "Processing Channels (T=44):   0%|          | 0/3 [00:00<?, ?it/s]"
      ]
     },
     "metadata": {},
     "output_type": "display_data"
    },
    {
     "name": "stdout",
     "output_type": "stream",
     "text": [
      "Timepoint ID 44 saved out\n"
     ]
    },
    {
     "data": {
      "application/vnd.jupyter.widget-view+json": {
       "model_id": "199a1936450d45889de425b7875e7257",
       "version_major": 2,
       "version_minor": 0
      },
      "text/plain": [
       "Processing Channels (T=45):   0%|          | 0/3 [00:00<?, ?it/s]"
      ]
     },
     "metadata": {},
     "output_type": "display_data"
    },
    {
     "name": "stdout",
     "output_type": "stream",
     "text": [
      "Timepoint ID 45 saved out\n"
     ]
    },
    {
     "data": {
      "application/vnd.jupyter.widget-view+json": {
       "model_id": "0b56465684f343629241e289540ceb72",
       "version_major": 2,
       "version_minor": 0
      },
      "text/plain": [
       "Processing Channels (T=46):   0%|          | 0/3 [00:00<?, ?it/s]"
      ]
     },
     "metadata": {},
     "output_type": "display_data"
    },
    {
     "name": "stdout",
     "output_type": "stream",
     "text": [
      "Timepoint ID 46 saved out\n"
     ]
    },
    {
     "data": {
      "application/vnd.jupyter.widget-view+json": {
       "model_id": "720b1fd3d8bb41f6a5fd82ae064ee187",
       "version_major": 2,
       "version_minor": 0
      },
      "text/plain": [
       "Processing Channels (T=47):   0%|          | 0/3 [00:00<?, ?it/s]"
      ]
     },
     "metadata": {},
     "output_type": "display_data"
    },
    {
     "name": "stdout",
     "output_type": "stream",
     "text": [
      "Timepoint ID 47 saved out\n"
     ]
    },
    {
     "data": {
      "application/vnd.jupyter.widget-view+json": {
       "model_id": "6935d5d633fe40f8992ec597b42a8694",
       "version_major": 2,
       "version_minor": 0
      },
      "text/plain": [
       "Processing Channels (T=48):   0%|          | 0/3 [00:00<?, ?it/s]"
      ]
     },
     "metadata": {},
     "output_type": "display_data"
    },
    {
     "name": "stdout",
     "output_type": "stream",
     "text": [
      "Timepoint ID 48 saved out\n"
     ]
    },
    {
     "data": {
      "application/vnd.jupyter.widget-view+json": {
       "model_id": "c22ba506aea24e6fbe936e270d58d00f",
       "version_major": 2,
       "version_minor": 0
      },
      "text/plain": [
       "Processing Channels (T=49):   0%|          | 0/3 [00:00<?, ?it/s]"
      ]
     },
     "metadata": {},
     "output_type": "display_data"
    },
    {
     "name": "stdout",
     "output_type": "stream",
     "text": [
      "Timepoint ID 49 saved out\n"
     ]
    },
    {
     "data": {
      "application/vnd.jupyter.widget-view+json": {
       "model_id": "60fe094f2b2f46719d0ce540676ce898",
       "version_major": 2,
       "version_minor": 0
      },
      "text/plain": [
       "Processing Channels (T=50):   0%|          | 0/3 [00:00<?, ?it/s]"
      ]
     },
     "metadata": {},
     "output_type": "display_data"
    },
    {
     "name": "stdout",
     "output_type": "stream",
     "text": [
      "Timepoint ID 50 saved out\n"
     ]
    },
    {
     "data": {
      "application/vnd.jupyter.widget-view+json": {
       "model_id": "f6c1bf47eb8f4b10b72be9a0f2118f5a",
       "version_major": 2,
       "version_minor": 0
      },
      "text/plain": [
       "Processing Channels (T=51):   0%|          | 0/3 [00:00<?, ?it/s]"
      ]
     },
     "metadata": {},
     "output_type": "display_data"
    },
    {
     "name": "stdout",
     "output_type": "stream",
     "text": [
      "Timepoint ID 51 saved out\n"
     ]
    },
    {
     "data": {
      "application/vnd.jupyter.widget-view+json": {
       "model_id": "a15f1697535745489df5116d44ce34f7",
       "version_major": 2,
       "version_minor": 0
      },
      "text/plain": [
       "Processing Channels (T=52):   0%|          | 0/3 [00:00<?, ?it/s]"
      ]
     },
     "metadata": {},
     "output_type": "display_data"
    },
    {
     "name": "stdout",
     "output_type": "stream",
     "text": [
      "Timepoint ID 52 saved out\n"
     ]
    },
    {
     "data": {
      "application/vnd.jupyter.widget-view+json": {
       "model_id": "749cc4a0cf114f8cb70b1d45a2a527bc",
       "version_major": 2,
       "version_minor": 0
      },
      "text/plain": [
       "Processing Channels (T=53):   0%|          | 0/3 [00:00<?, ?it/s]"
      ]
     },
     "metadata": {},
     "output_type": "display_data"
    },
    {
     "name": "stdout",
     "output_type": "stream",
     "text": [
      "Timepoint ID 53 saved out\n"
     ]
    },
    {
     "data": {
      "application/vnd.jupyter.widget-view+json": {
       "model_id": "8e78f99b33ca4d82b78ad61d6f180042",
       "version_major": 2,
       "version_minor": 0
      },
      "text/plain": [
       "Processing Channels (T=54):   0%|          | 0/3 [00:00<?, ?it/s]"
      ]
     },
     "metadata": {},
     "output_type": "display_data"
    },
    {
     "name": "stdout",
     "output_type": "stream",
     "text": [
      "Timepoint ID 54 saved out\n"
     ]
    },
    {
     "data": {
      "application/vnd.jupyter.widget-view+json": {
       "model_id": "ad57f43bb76e4aafb253b4fa895d6811",
       "version_major": 2,
       "version_minor": 0
      },
      "text/plain": [
       "Processing Channels (T=55):   0%|          | 0/3 [00:00<?, ?it/s]"
      ]
     },
     "metadata": {},
     "output_type": "display_data"
    },
    {
     "name": "stdout",
     "output_type": "stream",
     "text": [
      "Timepoint ID 55 saved out\n"
     ]
    },
    {
     "data": {
      "application/vnd.jupyter.widget-view+json": {
       "model_id": "437bd4ccbd7246189dc4ab41ceafa4c0",
       "version_major": 2,
       "version_minor": 0
      },
      "text/plain": [
       "Processing Channels (T=56):   0%|          | 0/3 [00:00<?, ?it/s]"
      ]
     },
     "metadata": {},
     "output_type": "display_data"
    },
    {
     "name": "stdout",
     "output_type": "stream",
     "text": [
      "Timepoint ID 56 saved out\n"
     ]
    },
    {
     "data": {
      "application/vnd.jupyter.widget-view+json": {
       "model_id": "c6bdee509e964405aaf9ea1be933e3ed",
       "version_major": 2,
       "version_minor": 0
      },
      "text/plain": [
       "Processing Channels (T=57):   0%|          | 0/3 [00:00<?, ?it/s]"
      ]
     },
     "metadata": {},
     "output_type": "display_data"
    },
    {
     "name": "stdout",
     "output_type": "stream",
     "text": [
      "Timepoint ID 57 saved out\n"
     ]
    },
    {
     "data": {
      "application/vnd.jupyter.widget-view+json": {
       "model_id": "1746603213164f97b6ae9720f5b10c63",
       "version_major": 2,
       "version_minor": 0
      },
      "text/plain": [
       "Processing Channels (T=58):   0%|          | 0/3 [00:00<?, ?it/s]"
      ]
     },
     "metadata": {},
     "output_type": "display_data"
    },
    {
     "name": "stdout",
     "output_type": "stream",
     "text": [
      "Timepoint ID 58 saved out\n"
     ]
    },
    {
     "data": {
      "application/vnd.jupyter.widget-view+json": {
       "model_id": "45006c1d9ef54126a53dcd5fe6aa61f5",
       "version_major": 2,
       "version_minor": 0
      },
      "text/plain": [
       "Processing Channels (T=59):   0%|          | 0/3 [00:00<?, ?it/s]"
      ]
     },
     "metadata": {},
     "output_type": "display_data"
    },
    {
     "name": "stdout",
     "output_type": "stream",
     "text": [
      "Timepoint ID 59 saved out\n"
     ]
    },
    {
     "data": {
      "application/vnd.jupyter.widget-view+json": {
       "model_id": "3066eff37f35475d92142221b2e2f3e1",
       "version_major": 2,
       "version_minor": 0
      },
      "text/plain": [
       "Processing Channels (T=60):   0%|          | 0/3 [00:00<?, ?it/s]"
      ]
     },
     "metadata": {},
     "output_type": "display_data"
    },
    {
     "name": "stdout",
     "output_type": "stream",
     "text": [
      "Timepoint ID 60 saved out\n"
     ]
    },
    {
     "data": {
      "application/vnd.jupyter.widget-view+json": {
       "model_id": "328fffa76dcd4be59486822c68c7c29f",
       "version_major": 2,
       "version_minor": 0
      },
      "text/plain": [
       "Processing Channels (T=61):   0%|          | 0/3 [00:00<?, ?it/s]"
      ]
     },
     "metadata": {},
     "output_type": "display_data"
    },
    {
     "name": "stdout",
     "output_type": "stream",
     "text": [
      "Timepoint ID 61 saved out\n"
     ]
    },
    {
     "data": {
      "application/vnd.jupyter.widget-view+json": {
       "model_id": "09256df1c21e4c4eb0c970335202ccea",
       "version_major": 2,
       "version_minor": 0
      },
      "text/plain": [
       "Processing Channels (T=62):   0%|          | 0/3 [00:00<?, ?it/s]"
      ]
     },
     "metadata": {},
     "output_type": "display_data"
    },
    {
     "name": "stdout",
     "output_type": "stream",
     "text": [
      "Timepoint ID 62 saved out\n"
     ]
    },
    {
     "data": {
      "application/vnd.jupyter.widget-view+json": {
       "model_id": "6af5f00199144e20b314d97c6f68a0ac",
       "version_major": 2,
       "version_minor": 0
      },
      "text/plain": [
       "Processing Channels (T=63):   0%|          | 0/3 [00:00<?, ?it/s]"
      ]
     },
     "metadata": {},
     "output_type": "display_data"
    },
    {
     "name": "stdout",
     "output_type": "stream",
     "text": [
      "Timepoint ID 63 saved out\n"
     ]
    },
    {
     "data": {
      "application/vnd.jupyter.widget-view+json": {
       "model_id": "f7478458351e490a993f5a8bd9e2f75e",
       "version_major": 2,
       "version_minor": 0
      },
      "text/plain": [
       "Processing Channels (T=64):   0%|          | 0/3 [00:00<?, ?it/s]"
      ]
     },
     "metadata": {},
     "output_type": "display_data"
    },
    {
     "name": "stdout",
     "output_type": "stream",
     "text": [
      "Timepoint ID 64 saved out\n"
     ]
    },
    {
     "data": {
      "application/vnd.jupyter.widget-view+json": {
       "model_id": "8d2cb77ff36a40449eb03bf751db6807",
       "version_major": 2,
       "version_minor": 0
      },
      "text/plain": [
       "Processing Channels (T=65):   0%|          | 0/3 [00:00<?, ?it/s]"
      ]
     },
     "metadata": {},
     "output_type": "display_data"
    },
    {
     "name": "stdout",
     "output_type": "stream",
     "text": [
      "Timepoint ID 65 saved out\n"
     ]
    },
    {
     "data": {
      "application/vnd.jupyter.widget-view+json": {
       "model_id": "27299019a4b44cf99b375d7afbba43dc",
       "version_major": 2,
       "version_minor": 0
      },
      "text/plain": [
       "Processing Channels (T=66):   0%|          | 0/3 [00:00<?, ?it/s]"
      ]
     },
     "metadata": {},
     "output_type": "display_data"
    },
    {
     "name": "stdout",
     "output_type": "stream",
     "text": [
      "Timepoint ID 66 saved out\n"
     ]
    },
    {
     "data": {
      "application/vnd.jupyter.widget-view+json": {
       "model_id": "2dee114f9e974dbd94faf111a47db5f6",
       "version_major": 2,
       "version_minor": 0
      },
      "text/plain": [
       "Processing Channels (T=67):   0%|          | 0/3 [00:00<?, ?it/s]"
      ]
     },
     "metadata": {},
     "output_type": "display_data"
    },
    {
     "name": "stdout",
     "output_type": "stream",
     "text": [
      "Timepoint ID 67 saved out\n"
     ]
    },
    {
     "data": {
      "application/vnd.jupyter.widget-view+json": {
       "model_id": "5ff093ce4bb24a37882d037f5cacd894",
       "version_major": 2,
       "version_minor": 0
      },
      "text/plain": [
       "Processing Channels (T=68):   0%|          | 0/3 [00:00<?, ?it/s]"
      ]
     },
     "metadata": {},
     "output_type": "display_data"
    },
    {
     "name": "stdout",
     "output_type": "stream",
     "text": [
      "Timepoint ID 68 saved out\n"
     ]
    },
    {
     "data": {
      "application/vnd.jupyter.widget-view+json": {
       "model_id": "9bc99bcc5ddb4d80893e550ab7d231e7",
       "version_major": 2,
       "version_minor": 0
      },
      "text/plain": [
       "Processing Channels (T=69):   0%|          | 0/3 [00:00<?, ?it/s]"
      ]
     },
     "metadata": {},
     "output_type": "display_data"
    },
    {
     "name": "stdout",
     "output_type": "stream",
     "text": [
      "Timepoint ID 69 saved out\n"
     ]
    },
    {
     "data": {
      "application/vnd.jupyter.widget-view+json": {
       "model_id": "734e3c7892f84a3aa0b2f40c396bb009",
       "version_major": 2,
       "version_minor": 0
      },
      "text/plain": [
       "Processing Channels (T=70):   0%|          | 0/3 [00:00<?, ?it/s]"
      ]
     },
     "metadata": {},
     "output_type": "display_data"
    },
    {
     "name": "stdout",
     "output_type": "stream",
     "text": [
      "Timepoint ID 70 saved out\n"
     ]
    },
    {
     "data": {
      "application/vnd.jupyter.widget-view+json": {
       "model_id": "63d12dcf686042b1b9cfb2afdb45bb27",
       "version_major": 2,
       "version_minor": 0
      },
      "text/plain": [
       "Processing Channels (T=71):   0%|          | 0/3 [00:00<?, ?it/s]"
      ]
     },
     "metadata": {},
     "output_type": "display_data"
    },
    {
     "name": "stdout",
     "output_type": "stream",
     "text": [
      "Timepoint ID 71 saved out\n"
     ]
    },
    {
     "data": {
      "application/vnd.jupyter.widget-view+json": {
       "model_id": "387a07fd067448a4ba73718cdf49f9e4",
       "version_major": 2,
       "version_minor": 0
      },
      "text/plain": [
       "Processing Channels (T=72):   0%|          | 0/3 [00:00<?, ?it/s]"
      ]
     },
     "metadata": {},
     "output_type": "display_data"
    },
    {
     "name": "stdout",
     "output_type": "stream",
     "text": [
      "Timepoint ID 72 saved out\n"
     ]
    },
    {
     "data": {
      "application/vnd.jupyter.widget-view+json": {
       "model_id": "e679ff5b12fb4901b7d644c26e6d1730",
       "version_major": 2,
       "version_minor": 0
      },
      "text/plain": [
       "Processing Channels (T=73):   0%|          | 0/3 [00:00<?, ?it/s]"
      ]
     },
     "metadata": {},
     "output_type": "display_data"
    },
    {
     "name": "stdout",
     "output_type": "stream",
     "text": [
      "Timepoint ID 73 saved out\n"
     ]
    },
    {
     "data": {
      "application/vnd.jupyter.widget-view+json": {
       "model_id": "99000760b5e84f0c83e4c0ffcdeb48e8",
       "version_major": 2,
       "version_minor": 0
      },
      "text/plain": [
       "Processing Channels (T=74):   0%|          | 0/3 [00:00<?, ?it/s]"
      ]
     },
     "metadata": {},
     "output_type": "display_data"
    },
    {
     "name": "stdout",
     "output_type": "stream",
     "text": [
      "Timepoint ID 74 saved out\n"
     ]
    },
    {
     "data": {
      "application/vnd.jupyter.widget-view+json": {
       "model_id": "09fa5a6b58ed49b2880966452b2c362c",
       "version_major": 2,
       "version_minor": 0
      },
      "text/plain": [
       "Processing Channels (T=75):   0%|          | 0/3 [00:00<?, ?it/s]"
      ]
     },
     "metadata": {},
     "output_type": "display_data"
    },
    {
     "name": "stdout",
     "output_type": "stream",
     "text": [
      "Timepoint ID 75 saved out\n"
     ]
    },
    {
     "data": {
      "application/vnd.jupyter.widget-view+json": {
       "model_id": "49ce9a46d7ef4e7286aa8d9d0c258ddd",
       "version_major": 2,
       "version_minor": 0
      },
      "text/plain": [
       "Processing Channels (T=76):   0%|          | 0/3 [00:00<?, ?it/s]"
      ]
     },
     "metadata": {},
     "output_type": "display_data"
    },
    {
     "name": "stdout",
     "output_type": "stream",
     "text": [
      "Timepoint ID 76 saved out\n"
     ]
    },
    {
     "data": {
      "application/vnd.jupyter.widget-view+json": {
       "model_id": "a19496d8fbbc493bb31d3f7ee4edbfa7",
       "version_major": 2,
       "version_minor": 0
      },
      "text/plain": [
       "Processing Channels (T=77):   0%|          | 0/3 [00:00<?, ?it/s]"
      ]
     },
     "metadata": {},
     "output_type": "display_data"
    },
    {
     "name": "stdout",
     "output_type": "stream",
     "text": [
      "Timepoint ID 77 saved out\n"
     ]
    },
    {
     "data": {
      "application/vnd.jupyter.widget-view+json": {
       "model_id": "2a4eaa23ea7740cfa8f70bfa33be7f11",
       "version_major": 2,
       "version_minor": 0
      },
      "text/plain": [
       "Processing Channels (T=78):   0%|          | 0/3 [00:00<?, ?it/s]"
      ]
     },
     "metadata": {},
     "output_type": "display_data"
    },
    {
     "name": "stdout",
     "output_type": "stream",
     "text": [
      "Timepoint ID 78 saved out\n"
     ]
    },
    {
     "data": {
      "application/vnd.jupyter.widget-view+json": {
       "model_id": "27f2e1e6849b4cefb11dd97bc900774c",
       "version_major": 2,
       "version_minor": 0
      },
      "text/plain": [
       "Processing Channels (T=79):   0%|          | 0/3 [00:00<?, ?it/s]"
      ]
     },
     "metadata": {},
     "output_type": "display_data"
    },
    {
     "name": "stdout",
     "output_type": "stream",
     "text": [
      "Timepoint ID 79 saved out\n"
     ]
    },
    {
     "data": {
      "application/vnd.jupyter.widget-view+json": {
       "model_id": "0257f384043742e0ae4fb05a6f4aa700",
       "version_major": 2,
       "version_minor": 0
      },
      "text/plain": [
       "Processing Channels (T=80):   0%|          | 0/3 [00:00<?, ?it/s]"
      ]
     },
     "metadata": {},
     "output_type": "display_data"
    },
    {
     "name": "stdout",
     "output_type": "stream",
     "text": [
      "Timepoint ID 80 saved out\n"
     ]
    },
    {
     "data": {
      "application/vnd.jupyter.widget-view+json": {
       "model_id": "7505c8c6c4c14768886c69d89861d78c",
       "version_major": 2,
       "version_minor": 0
      },
      "text/plain": [
       "Processing Channels (T=81):   0%|          | 0/3 [00:00<?, ?it/s]"
      ]
     },
     "metadata": {},
     "output_type": "display_data"
    },
    {
     "name": "stdout",
     "output_type": "stream",
     "text": [
      "Timepoint ID 81 saved out\n"
     ]
    },
    {
     "data": {
      "application/vnd.jupyter.widget-view+json": {
       "model_id": "3720fdad3d244b2084323a185c2f14ac",
       "version_major": 2,
       "version_minor": 0
      },
      "text/plain": [
       "Processing Channels (T=82):   0%|          | 0/3 [00:00<?, ?it/s]"
      ]
     },
     "metadata": {},
     "output_type": "display_data"
    },
    {
     "name": "stdout",
     "output_type": "stream",
     "text": [
      "Timepoint ID 82 saved out\n"
     ]
    },
    {
     "data": {
      "application/vnd.jupyter.widget-view+json": {
       "model_id": "ab232ee6eb454d2b9fad70a7cf4094ef",
       "version_major": 2,
       "version_minor": 0
      },
      "text/plain": [
       "Processing Channels (T=83):   0%|          | 0/3 [00:00<?, ?it/s]"
      ]
     },
     "metadata": {},
     "output_type": "display_data"
    },
    {
     "name": "stdout",
     "output_type": "stream",
     "text": [
      "Timepoint ID 83 saved out\n"
     ]
    },
    {
     "data": {
      "application/vnd.jupyter.widget-view+json": {
       "model_id": "932c65e8b5ab4afeb86c3227b7dfada2",
       "version_major": 2,
       "version_minor": 0
      },
      "text/plain": [
       "Processing Channels (T=84):   0%|          | 0/3 [00:00<?, ?it/s]"
      ]
     },
     "metadata": {},
     "output_type": "display_data"
    },
    {
     "name": "stdout",
     "output_type": "stream",
     "text": [
      "Timepoint ID 84 saved out\n"
     ]
    },
    {
     "data": {
      "application/vnd.jupyter.widget-view+json": {
       "model_id": "d690f117576f41c2ab7dd33059456de9",
       "version_major": 2,
       "version_minor": 0
      },
      "text/plain": [
       "Processing Channels (T=85):   0%|          | 0/3 [00:00<?, ?it/s]"
      ]
     },
     "metadata": {},
     "output_type": "display_data"
    },
    {
     "name": "stdout",
     "output_type": "stream",
     "text": [
      "Timepoint ID 85 saved out\n"
     ]
    },
    {
     "data": {
      "application/vnd.jupyter.widget-view+json": {
       "model_id": "6ba353ba066d4e428e3e38a611153249",
       "version_major": 2,
       "version_minor": 0
      },
      "text/plain": [
       "Processing Channels (T=86):   0%|          | 0/3 [00:00<?, ?it/s]"
      ]
     },
     "metadata": {},
     "output_type": "display_data"
    },
    {
     "name": "stdout",
     "output_type": "stream",
     "text": [
      "Timepoint ID 86 saved out\n"
     ]
    },
    {
     "data": {
      "application/vnd.jupyter.widget-view+json": {
       "model_id": "79895c98a7054b0d87f454e66e001420",
       "version_major": 2,
       "version_minor": 0
      },
      "text/plain": [
       "Processing Channels (T=87):   0%|          | 0/3 [00:00<?, ?it/s]"
      ]
     },
     "metadata": {},
     "output_type": "display_data"
    },
    {
     "name": "stdout",
     "output_type": "stream",
     "text": [
      "Timepoint ID 87 saved out\n"
     ]
    },
    {
     "data": {
      "application/vnd.jupyter.widget-view+json": {
       "model_id": "775850ac7dfe41cc834cb5767f91711b",
       "version_major": 2,
       "version_minor": 0
      },
      "text/plain": [
       "Processing Channels (T=88):   0%|          | 0/3 [00:00<?, ?it/s]"
      ]
     },
     "metadata": {},
     "output_type": "display_data"
    },
    {
     "name": "stdout",
     "output_type": "stream",
     "text": [
      "Timepoint ID 88 saved out\n"
     ]
    },
    {
     "data": {
      "application/vnd.jupyter.widget-view+json": {
       "model_id": "adb628c88a484933a34fa729d10f11e6",
       "version_major": 2,
       "version_minor": 0
      },
      "text/plain": [
       "Processing Channels (T=89):   0%|          | 0/3 [00:00<?, ?it/s]"
      ]
     },
     "metadata": {},
     "output_type": "display_data"
    },
    {
     "name": "stdout",
     "output_type": "stream",
     "text": [
      "Timepoint ID 89 saved out\n"
     ]
    },
    {
     "data": {
      "application/vnd.jupyter.widget-view+json": {
       "model_id": "40beef491613461e957113a0b0abb10d",
       "version_major": 2,
       "version_minor": 0
      },
      "text/plain": [
       "Processing Channels (T=90):   0%|          | 0/3 [00:00<?, ?it/s]"
      ]
     },
     "metadata": {},
     "output_type": "display_data"
    },
    {
     "name": "stdout",
     "output_type": "stream",
     "text": [
      "Timepoint ID 90 saved out\n"
     ]
    },
    {
     "data": {
      "application/vnd.jupyter.widget-view+json": {
       "model_id": "8b0fa9b235d6432ba9f554576e043afb",
       "version_major": 2,
       "version_minor": 0
      },
      "text/plain": [
       "Processing Channels (T=91):   0%|          | 0/3 [00:00<?, ?it/s]"
      ]
     },
     "metadata": {},
     "output_type": "display_data"
    },
    {
     "name": "stdout",
     "output_type": "stream",
     "text": [
      "Timepoint ID 91 saved out\n"
     ]
    },
    {
     "data": {
      "application/vnd.jupyter.widget-view+json": {
       "model_id": "bc7075aabe664446993e9afdff6663b1",
       "version_major": 2,
       "version_minor": 0
      },
      "text/plain": [
       "Processing Channels (T=92):   0%|          | 0/3 [00:00<?, ?it/s]"
      ]
     },
     "metadata": {},
     "output_type": "display_data"
    },
    {
     "name": "stdout",
     "output_type": "stream",
     "text": [
      "Timepoint ID 92 saved out\n"
     ]
    },
    {
     "data": {
      "application/vnd.jupyter.widget-view+json": {
       "model_id": "945284e63dc64c2db6527b2bfa7f81cb",
       "version_major": 2,
       "version_minor": 0
      },
      "text/plain": [
       "Processing Channels (T=93):   0%|          | 0/3 [00:00<?, ?it/s]"
      ]
     },
     "metadata": {},
     "output_type": "display_data"
    },
    {
     "name": "stdout",
     "output_type": "stream",
     "text": [
      "Timepoint ID 93 saved out\n"
     ]
    },
    {
     "data": {
      "application/vnd.jupyter.widget-view+json": {
       "model_id": "f007a4ad1ecf435199440b763f3dcc13",
       "version_major": 2,
       "version_minor": 0
      },
      "text/plain": [
       "Processing Channels (T=94):   0%|          | 0/3 [00:00<?, ?it/s]"
      ]
     },
     "metadata": {},
     "output_type": "display_data"
    },
    {
     "name": "stdout",
     "output_type": "stream",
     "text": [
      "Timepoint ID 94 saved out\n"
     ]
    },
    {
     "data": {
      "application/vnd.jupyter.widget-view+json": {
       "model_id": "16da041341d04c568eaf382f64edcceb",
       "version_major": 2,
       "version_minor": 0
      },
      "text/plain": [
       "Processing Channels (T=95):   0%|          | 0/3 [00:00<?, ?it/s]"
      ]
     },
     "metadata": {},
     "output_type": "display_data"
    },
    {
     "name": "stdout",
     "output_type": "stream",
     "text": [
      "Timepoint ID 95 saved out\n"
     ]
    },
    {
     "data": {
      "application/vnd.jupyter.widget-view+json": {
       "model_id": "4751836df45d41348afe3e4fd7ede3bd",
       "version_major": 2,
       "version_minor": 0
      },
      "text/plain": [
       "Processing Channels (T=96):   0%|          | 0/3 [00:00<?, ?it/s]"
      ]
     },
     "metadata": {},
     "output_type": "display_data"
    },
    {
     "name": "stdout",
     "output_type": "stream",
     "text": [
      "Timepoint ID 96 saved out\n"
     ]
    },
    {
     "data": {
      "application/vnd.jupyter.widget-view+json": {
       "model_id": "137ed54d75694be3a102cbb5a848d5e3",
       "version_major": 2,
       "version_minor": 0
      },
      "text/plain": [
       "Processing Channels (T=97):   0%|          | 0/3 [00:00<?, ?it/s]"
      ]
     },
     "metadata": {},
     "output_type": "display_data"
    },
    {
     "name": "stdout",
     "output_type": "stream",
     "text": [
      "Timepoint ID 97 saved out\n"
     ]
    },
    {
     "data": {
      "application/vnd.jupyter.widget-view+json": {
       "model_id": "7564e50d844e45e8a28f87c731c23fd0",
       "version_major": 2,
       "version_minor": 0
      },
      "text/plain": [
       "Processing Channels (T=98):   0%|          | 0/3 [00:00<?, ?it/s]"
      ]
     },
     "metadata": {},
     "output_type": "display_data"
    },
    {
     "name": "stdout",
     "output_type": "stream",
     "text": [
      "Timepoint ID 98 saved out\n"
     ]
    },
    {
     "data": {
      "application/vnd.jupyter.widget-view+json": {
       "model_id": "7257b1ee9d154e6d912e25c524e932c5",
       "version_major": 2,
       "version_minor": 0
      },
      "text/plain": [
       "Processing Channels (T=99):   0%|          | 0/3 [00:00<?, ?it/s]"
      ]
     },
     "metadata": {},
     "output_type": "display_data"
    },
    {
     "name": "stdout",
     "output_type": "stream",
     "text": [
      "Timepoint ID 99 saved out\n"
     ]
    },
    {
     "data": {
      "application/vnd.jupyter.widget-view+json": {
       "model_id": "1bf8e3ede47c4341837e3910bd520392",
       "version_major": 2,
       "version_minor": 0
      },
      "text/plain": [
       "Processing Channels (T=100):   0%|          | 0/3 [00:00<?, ?it/s]"
      ]
     },
     "metadata": {},
     "output_type": "display_data"
    },
    {
     "name": "stdout",
     "output_type": "stream",
     "text": [
      "Timepoint ID 100 saved out\n"
     ]
    },
    {
     "data": {
      "application/vnd.jupyter.widget-view+json": {
       "model_id": "a62b221aa0264e518c3d2e3b1bf2caa4",
       "version_major": 2,
       "version_minor": 0
      },
      "text/plain": [
       "Processing Channels (T=101):   0%|          | 0/3 [00:00<?, ?it/s]"
      ]
     },
     "metadata": {},
     "output_type": "display_data"
    },
    {
     "name": "stdout",
     "output_type": "stream",
     "text": [
      "Timepoint ID 101 saved out\n"
     ]
    },
    {
     "data": {
      "application/vnd.jupyter.widget-view+json": {
       "model_id": "6473d11989b94104806281a254b8e8a0",
       "version_major": 2,
       "version_minor": 0
      },
      "text/plain": [
       "Processing Channels (T=102):   0%|          | 0/3 [00:00<?, ?it/s]"
      ]
     },
     "metadata": {},
     "output_type": "display_data"
    },
    {
     "name": "stdout",
     "output_type": "stream",
     "text": [
      "Timepoint ID 102 saved out\n"
     ]
    },
    {
     "data": {
      "application/vnd.jupyter.widget-view+json": {
       "model_id": "48e3cb58ad504085932d453e113f96d3",
       "version_major": 2,
       "version_minor": 0
      },
      "text/plain": [
       "Processing Channels (T=103):   0%|          | 0/3 [00:00<?, ?it/s]"
      ]
     },
     "metadata": {},
     "output_type": "display_data"
    },
    {
     "name": "stdout",
     "output_type": "stream",
     "text": [
      "Timepoint ID 103 saved out\n"
     ]
    },
    {
     "data": {
      "application/vnd.jupyter.widget-view+json": {
       "model_id": "bc69e684072a4132bb59572a91f20cbb",
       "version_major": 2,
       "version_minor": 0
      },
      "text/plain": [
       "Processing Channels (T=104):   0%|          | 0/3 [00:00<?, ?it/s]"
      ]
     },
     "metadata": {},
     "output_type": "display_data"
    },
    {
     "name": "stdout",
     "output_type": "stream",
     "text": [
      "Timepoint ID 104 saved out\n"
     ]
    },
    {
     "data": {
      "application/vnd.jupyter.widget-view+json": {
       "model_id": "ea19155aeaae4677a099088f23b69fb9",
       "version_major": 2,
       "version_minor": 0
      },
      "text/plain": [
       "Processing Channels (T=105):   0%|          | 0/3 [00:00<?, ?it/s]"
      ]
     },
     "metadata": {},
     "output_type": "display_data"
    },
    {
     "name": "stdout",
     "output_type": "stream",
     "text": [
      "Timepoint ID 105 saved out\n"
     ]
    },
    {
     "data": {
      "application/vnd.jupyter.widget-view+json": {
       "model_id": "2355145acb434737a760d5beef8084d6",
       "version_major": 2,
       "version_minor": 0
      },
      "text/plain": [
       "Processing Channels (T=106):   0%|          | 0/3 [00:00<?, ?it/s]"
      ]
     },
     "metadata": {},
     "output_type": "display_data"
    },
    {
     "name": "stdout",
     "output_type": "stream",
     "text": [
      "Timepoint ID 106 saved out\n"
     ]
    },
    {
     "data": {
      "application/vnd.jupyter.widget-view+json": {
       "model_id": "5368a3b2e200469c9a2905acdd4fd15f",
       "version_major": 2,
       "version_minor": 0
      },
      "text/plain": [
       "Processing Channels (T=107):   0%|          | 0/3 [00:00<?, ?it/s]"
      ]
     },
     "metadata": {},
     "output_type": "display_data"
    },
    {
     "name": "stdout",
     "output_type": "stream",
     "text": [
      "Timepoint ID 107 saved out\n"
     ]
    },
    {
     "data": {
      "application/vnd.jupyter.widget-view+json": {
       "model_id": "4ef7ce48ec2b41f9bf3a158fdee7dbb5",
       "version_major": 2,
       "version_minor": 0
      },
      "text/plain": [
       "Processing Channels (T=108):   0%|          | 0/3 [00:00<?, ?it/s]"
      ]
     },
     "metadata": {},
     "output_type": "display_data"
    },
    {
     "name": "stdout",
     "output_type": "stream",
     "text": [
      "Timepoint ID 108 saved out\n"
     ]
    },
    {
     "data": {
      "application/vnd.jupyter.widget-view+json": {
       "model_id": "90d381a55a3e460b83c6061b19263482",
       "version_major": 2,
       "version_minor": 0
      },
      "text/plain": [
       "Processing Channels (T=109):   0%|          | 0/3 [00:00<?, ?it/s]"
      ]
     },
     "metadata": {},
     "output_type": "display_data"
    },
    {
     "name": "stdout",
     "output_type": "stream",
     "text": [
      "Timepoint ID 109 saved out\n"
     ]
    },
    {
     "data": {
      "application/vnd.jupyter.widget-view+json": {
       "model_id": "f0234fbc6096474f96920b4e7beda568",
       "version_major": 2,
       "version_minor": 0
      },
      "text/plain": [
       "Processing Channels (T=110):   0%|          | 0/3 [00:00<?, ?it/s]"
      ]
     },
     "metadata": {},
     "output_type": "display_data"
    },
    {
     "name": "stdout",
     "output_type": "stream",
     "text": [
      "Timepoint ID 110 saved out\n"
     ]
    },
    {
     "data": {
      "application/vnd.jupyter.widget-view+json": {
       "model_id": "c175742e694040c8b20b803000562526",
       "version_major": 2,
       "version_minor": 0
      },
      "text/plain": [
       "Processing Channels (T=111):   0%|          | 0/3 [00:00<?, ?it/s]"
      ]
     },
     "metadata": {},
     "output_type": "display_data"
    },
    {
     "name": "stdout",
     "output_type": "stream",
     "text": [
      "Timepoint ID 111 saved out\n"
     ]
    },
    {
     "data": {
      "application/vnd.jupyter.widget-view+json": {
       "model_id": "6cb2244aec8645b7bdfc777b55681d44",
       "version_major": 2,
       "version_minor": 0
      },
      "text/plain": [
       "Processing Channels (T=112):   0%|          | 0/3 [00:00<?, ?it/s]"
      ]
     },
     "metadata": {},
     "output_type": "display_data"
    },
    {
     "name": "stdout",
     "output_type": "stream",
     "text": [
      "Timepoint ID 112 saved out\n"
     ]
    },
    {
     "data": {
      "application/vnd.jupyter.widget-view+json": {
       "model_id": "db8d3cbdcd314feb928d0a239ae6af1c",
       "version_major": 2,
       "version_minor": 0
      },
      "text/plain": [
       "Processing Channels (T=113):   0%|          | 0/3 [00:00<?, ?it/s]"
      ]
     },
     "metadata": {},
     "output_type": "display_data"
    },
    {
     "name": "stdout",
     "output_type": "stream",
     "text": [
      "Timepoint ID 113 saved out\n"
     ]
    },
    {
     "data": {
      "application/vnd.jupyter.widget-view+json": {
       "model_id": "4483aa2f634d4876844930fb418b551c",
       "version_major": 2,
       "version_minor": 0
      },
      "text/plain": [
       "Processing Channels (T=114):   0%|          | 0/3 [00:00<?, ?it/s]"
      ]
     },
     "metadata": {},
     "output_type": "display_data"
    },
    {
     "name": "stdout",
     "output_type": "stream",
     "text": [
      "Timepoint ID 114 saved out\n"
     ]
    },
    {
     "data": {
      "application/vnd.jupyter.widget-view+json": {
       "model_id": "c52eaa5216bb443a832836e1dd164c91",
       "version_major": 2,
       "version_minor": 0
      },
      "text/plain": [
       "Processing Channels (T=115):   0%|          | 0/3 [00:00<?, ?it/s]"
      ]
     },
     "metadata": {},
     "output_type": "display_data"
    },
    {
     "name": "stdout",
     "output_type": "stream",
     "text": [
      "Timepoint ID 115 saved out\n"
     ]
    },
    {
     "data": {
      "application/vnd.jupyter.widget-view+json": {
       "model_id": "28a515f752534435af6012fe54604af7",
       "version_major": 2,
       "version_minor": 0
      },
      "text/plain": [
       "Processing Channels (T=116):   0%|          | 0/3 [00:00<?, ?it/s]"
      ]
     },
     "metadata": {},
     "output_type": "display_data"
    },
    {
     "name": "stdout",
     "output_type": "stream",
     "text": [
      "Timepoint ID 116 saved out\n"
     ]
    },
    {
     "data": {
      "application/vnd.jupyter.widget-view+json": {
       "model_id": "fc03b0b74f45422e90585d9a834bc11f",
       "version_major": 2,
       "version_minor": 0
      },
      "text/plain": [
       "Processing Channels (T=117):   0%|          | 0/3 [00:00<?, ?it/s]"
      ]
     },
     "metadata": {},
     "output_type": "display_data"
    },
    {
     "name": "stdout",
     "output_type": "stream",
     "text": [
      "Timepoint ID 117 saved out\n"
     ]
    },
    {
     "data": {
      "application/vnd.jupyter.widget-view+json": {
       "model_id": "95dedc9219e147bdbaba37a48f87624d",
       "version_major": 2,
       "version_minor": 0
      },
      "text/plain": [
       "Processing Channels (T=118):   0%|          | 0/3 [00:00<?, ?it/s]"
      ]
     },
     "metadata": {},
     "output_type": "display_data"
    },
    {
     "name": "stdout",
     "output_type": "stream",
     "text": [
      "Timepoint ID 118 saved out\n"
     ]
    },
    {
     "data": {
      "application/vnd.jupyter.widget-view+json": {
       "model_id": "4eb273b4d1884c63969e49e7565043ad",
       "version_major": 2,
       "version_minor": 0
      },
      "text/plain": [
       "Processing Channels (T=119):   0%|          | 0/3 [00:00<?, ?it/s]"
      ]
     },
     "metadata": {},
     "output_type": "display_data"
    },
    {
     "name": "stdout",
     "output_type": "stream",
     "text": [
      "Timepoint ID 119 saved out\n"
     ]
    },
    {
     "data": {
      "application/vnd.jupyter.widget-view+json": {
       "model_id": "4727010605b441d597f211c53bf995f1",
       "version_major": 2,
       "version_minor": 0
      },
      "text/plain": [
       "Processing Channels (T=120):   0%|          | 0/3 [00:00<?, ?it/s]"
      ]
     },
     "metadata": {},
     "output_type": "display_data"
    },
    {
     "name": "stdout",
     "output_type": "stream",
     "text": [
      "Timepoint ID 120 saved out\n"
     ]
    },
    {
     "data": {
      "application/vnd.jupyter.widget-view+json": {
       "model_id": "ec9c9a863e8e40edaa984681cb2570bd",
       "version_major": 2,
       "version_minor": 0
      },
      "text/plain": [
       "Processing Channels (T=121):   0%|          | 0/3 [00:00<?, ?it/s]"
      ]
     },
     "metadata": {},
     "output_type": "display_data"
    },
    {
     "name": "stdout",
     "output_type": "stream",
     "text": [
      "Timepoint ID 121 saved out\n"
     ]
    },
    {
     "data": {
      "application/vnd.jupyter.widget-view+json": {
       "model_id": "1549a5f6f94f4f469f4516e15c9d1b09",
       "version_major": 2,
       "version_minor": 0
      },
      "text/plain": [
       "Processing Channels (T=122):   0%|          | 0/3 [00:00<?, ?it/s]"
      ]
     },
     "metadata": {},
     "output_type": "display_data"
    },
    {
     "name": "stdout",
     "output_type": "stream",
     "text": [
      "Timepoint ID 122 saved out\n"
     ]
    },
    {
     "data": {
      "application/vnd.jupyter.widget-view+json": {
       "model_id": "f572984359c8466faa3e33c8db9d0e99",
       "version_major": 2,
       "version_minor": 0
      },
      "text/plain": [
       "Processing Channels (T=123):   0%|          | 0/3 [00:00<?, ?it/s]"
      ]
     },
     "metadata": {},
     "output_type": "display_data"
    },
    {
     "name": "stdout",
     "output_type": "stream",
     "text": [
      "Timepoint ID 123 saved out\n"
     ]
    },
    {
     "data": {
      "application/vnd.jupyter.widget-view+json": {
       "model_id": "dd2b3f5b39bc416292cdf66acb1e693a",
       "version_major": 2,
       "version_minor": 0
      },
      "text/plain": [
       "Processing Channels (T=124):   0%|          | 0/3 [00:00<?, ?it/s]"
      ]
     },
     "metadata": {},
     "output_type": "display_data"
    },
    {
     "name": "stdout",
     "output_type": "stream",
     "text": [
      "Timepoint ID 124 saved out\n"
     ]
    },
    {
     "data": {
      "application/vnd.jupyter.widget-view+json": {
       "model_id": "540dc1e5a88b42619d7871d878d2c2bb",
       "version_major": 2,
       "version_minor": 0
      },
      "text/plain": [
       "Processing Channels (T=125):   0%|          | 0/3 [00:00<?, ?it/s]"
      ]
     },
     "metadata": {},
     "output_type": "display_data"
    },
    {
     "name": "stdout",
     "output_type": "stream",
     "text": [
      "Timepoint ID 125 saved out\n"
     ]
    },
    {
     "data": {
      "application/vnd.jupyter.widget-view+json": {
       "model_id": "4558a17d62f14b8bbab4bdc4fed59909",
       "version_major": 2,
       "version_minor": 0
      },
      "text/plain": [
       "Processing Channels (T=126):   0%|          | 0/3 [00:00<?, ?it/s]"
      ]
     },
     "metadata": {},
     "output_type": "display_data"
    },
    {
     "name": "stdout",
     "output_type": "stream",
     "text": [
      "Timepoint ID 126 saved out\n"
     ]
    },
    {
     "data": {
      "application/vnd.jupyter.widget-view+json": {
       "model_id": "2d498f3ffd66402989cc5eb81e640adb",
       "version_major": 2,
       "version_minor": 0
      },
      "text/plain": [
       "Processing Channels (T=127):   0%|          | 0/3 [00:00<?, ?it/s]"
      ]
     },
     "metadata": {},
     "output_type": "display_data"
    },
    {
     "name": "stdout",
     "output_type": "stream",
     "text": [
      "Timepoint ID 127 saved out\n"
     ]
    },
    {
     "data": {
      "application/vnd.jupyter.widget-view+json": {
       "model_id": "0b9e17d85e57453282e5bb66552b6140",
       "version_major": 2,
       "version_minor": 0
      },
      "text/plain": [
       "Processing Channels (T=128):   0%|          | 0/3 [00:00<?, ?it/s]"
      ]
     },
     "metadata": {},
     "output_type": "display_data"
    },
    {
     "name": "stdout",
     "output_type": "stream",
     "text": [
      "Timepoint ID 128 saved out\n"
     ]
    },
    {
     "data": {
      "application/vnd.jupyter.widget-view+json": {
       "model_id": "342e367c87fb4c90b34b65c4fadf52d0",
       "version_major": 2,
       "version_minor": 0
      },
      "text/plain": [
       "Processing Channels (T=129):   0%|          | 0/3 [00:00<?, ?it/s]"
      ]
     },
     "metadata": {},
     "output_type": "display_data"
    },
    {
     "name": "stdout",
     "output_type": "stream",
     "text": [
      "Timepoint ID 129 saved out\n"
     ]
    },
    {
     "data": {
      "application/vnd.jupyter.widget-view+json": {
       "model_id": "0a1883222b1648ab94ba6766e4547ab8",
       "version_major": 2,
       "version_minor": 0
      },
      "text/plain": [
       "Processing Channels (T=130):   0%|          | 0/3 [00:00<?, ?it/s]"
      ]
     },
     "metadata": {},
     "output_type": "display_data"
    },
    {
     "name": "stdout",
     "output_type": "stream",
     "text": [
      "Timepoint ID 130 saved out\n"
     ]
    },
    {
     "data": {
      "application/vnd.jupyter.widget-view+json": {
       "model_id": "f07b8c67eefc474b9388c35ab9f81350",
       "version_major": 2,
       "version_minor": 0
      },
      "text/plain": [
       "Processing Channels (T=131):   0%|          | 0/3 [00:00<?, ?it/s]"
      ]
     },
     "metadata": {},
     "output_type": "display_data"
    },
    {
     "name": "stdout",
     "output_type": "stream",
     "text": [
      "Timepoint ID 131 saved out\n"
     ]
    },
    {
     "data": {
      "application/vnd.jupyter.widget-view+json": {
       "model_id": "e1ebff7c05264a0a8968b0e498f55561",
       "version_major": 2,
       "version_minor": 0
      },
      "text/plain": [
       "Processing Channels (T=132):   0%|          | 0/3 [00:00<?, ?it/s]"
      ]
     },
     "metadata": {},
     "output_type": "display_data"
    },
    {
     "name": "stdout",
     "output_type": "stream",
     "text": [
      "Timepoint ID 132 saved out\n"
     ]
    },
    {
     "data": {
      "application/vnd.jupyter.widget-view+json": {
       "model_id": "70d12a74c10647d4be5294775c1595ac",
       "version_major": 2,
       "version_minor": 0
      },
      "text/plain": [
       "Processing Channels (T=133):   0%|          | 0/3 [00:00<?, ?it/s]"
      ]
     },
     "metadata": {},
     "output_type": "display_data"
    },
    {
     "name": "stdout",
     "output_type": "stream",
     "text": [
      "Timepoint ID 133 saved out\n"
     ]
    },
    {
     "data": {
      "application/vnd.jupyter.widget-view+json": {
       "model_id": "0847647d879d43369bec01a3b43dd96a",
       "version_major": 2,
       "version_minor": 0
      },
      "text/plain": [
       "Processing Channels (T=134):   0%|          | 0/3 [00:00<?, ?it/s]"
      ]
     },
     "metadata": {},
     "output_type": "display_data"
    },
    {
     "name": "stdout",
     "output_type": "stream",
     "text": [
      "Timepoint ID 134 saved out\n"
     ]
    },
    {
     "data": {
      "application/vnd.jupyter.widget-view+json": {
       "model_id": "67dc88a758604b6a9a06ada33c5f8634",
       "version_major": 2,
       "version_minor": 0
      },
      "text/plain": [
       "Processing Channels (T=135):   0%|          | 0/3 [00:00<?, ?it/s]"
      ]
     },
     "metadata": {},
     "output_type": "display_data"
    },
    {
     "name": "stdout",
     "output_type": "stream",
     "text": [
      "Timepoint ID 135 saved out\n"
     ]
    },
    {
     "data": {
      "application/vnd.jupyter.widget-view+json": {
       "model_id": "6d53f1cdbf384c3bac3307ecf03cf9c9",
       "version_major": 2,
       "version_minor": 0
      },
      "text/plain": [
       "Processing Channels (T=136):   0%|          | 0/3 [00:00<?, ?it/s]"
      ]
     },
     "metadata": {},
     "output_type": "display_data"
    },
    {
     "name": "stdout",
     "output_type": "stream",
     "text": [
      "Timepoint ID 136 saved out\n"
     ]
    },
    {
     "data": {
      "application/vnd.jupyter.widget-view+json": {
       "model_id": "3945e571e9a948d18031295370df5ce4",
       "version_major": 2,
       "version_minor": 0
      },
      "text/plain": [
       "Processing Channels (T=137):   0%|          | 0/3 [00:00<?, ?it/s]"
      ]
     },
     "metadata": {},
     "output_type": "display_data"
    },
    {
     "name": "stdout",
     "output_type": "stream",
     "text": [
      "Timepoint ID 137 saved out\n"
     ]
    },
    {
     "data": {
      "application/vnd.jupyter.widget-view+json": {
       "model_id": "e1c29327952f44c7bbbb8b56e2e16887",
       "version_major": 2,
       "version_minor": 0
      },
      "text/plain": [
       "Processing Channels (T=138):   0%|          | 0/3 [00:00<?, ?it/s]"
      ]
     },
     "metadata": {},
     "output_type": "display_data"
    },
    {
     "name": "stdout",
     "output_type": "stream",
     "text": [
      "Timepoint ID 138 saved out\n"
     ]
    },
    {
     "data": {
      "application/vnd.jupyter.widget-view+json": {
       "model_id": "175a1571156248fd81304f02d50b9f94",
       "version_major": 2,
       "version_minor": 0
      },
      "text/plain": [
       "Processing Channels (T=139):   0%|          | 0/3 [00:00<?, ?it/s]"
      ]
     },
     "metadata": {},
     "output_type": "display_data"
    },
    {
     "name": "stdout",
     "output_type": "stream",
     "text": [
      "Timepoint ID 139 saved out\n"
     ]
    },
    {
     "data": {
      "application/vnd.jupyter.widget-view+json": {
       "model_id": "81825a44a820414188dd570d7e058042",
       "version_major": 2,
       "version_minor": 0
      },
      "text/plain": [
       "Processing Channels (T=140):   0%|          | 0/3 [00:00<?, ?it/s]"
      ]
     },
     "metadata": {},
     "output_type": "display_data"
    },
    {
     "name": "stdout",
     "output_type": "stream",
     "text": [
      "Timepoint ID 140 saved out\n"
     ]
    },
    {
     "data": {
      "application/vnd.jupyter.widget-view+json": {
       "model_id": "385e006c1cd040939cdd89a1b1ffbe2e",
       "version_major": 2,
       "version_minor": 0
      },
      "text/plain": [
       "Processing Channels (T=141):   0%|          | 0/3 [00:00<?, ?it/s]"
      ]
     },
     "metadata": {},
     "output_type": "display_data"
    },
    {
     "name": "stdout",
     "output_type": "stream",
     "text": [
      "Timepoint ID 141 saved out\n"
     ]
    },
    {
     "data": {
      "application/vnd.jupyter.widget-view+json": {
       "model_id": "51dab923d8714735984b84282c95d6e6",
       "version_major": 2,
       "version_minor": 0
      },
      "text/plain": [
       "Processing Channels (T=142):   0%|          | 0/3 [00:00<?, ?it/s]"
      ]
     },
     "metadata": {},
     "output_type": "display_data"
    },
    {
     "name": "stdout",
     "output_type": "stream",
     "text": [
      "Timepoint ID 142 saved out\n"
     ]
    },
    {
     "data": {
      "application/vnd.jupyter.widget-view+json": {
       "model_id": "59f1d6b477584ac180c7d2830f60a4f3",
       "version_major": 2,
       "version_minor": 0
      },
      "text/plain": [
       "Processing Channels (T=143):   0%|          | 0/3 [00:00<?, ?it/s]"
      ]
     },
     "metadata": {},
     "output_type": "display_data"
    },
    {
     "name": "stdout",
     "output_type": "stream",
     "text": [
      "Timepoint ID 143 saved out\n"
     ]
    },
    {
     "data": {
      "application/vnd.jupyter.widget-view+json": {
       "model_id": "9b6774e398ac4af8b05a4fbeb73aa861",
       "version_major": 2,
       "version_minor": 0
      },
      "text/plain": [
       "Processing Time Points:   0%|          | 0/144 [00:00<?, ?it/s]"
      ]
     },
     "metadata": {},
     "output_type": "display_data"
    },
    {
     "data": {
      "application/vnd.jupyter.widget-view+json": {
       "model_id": "47f2fd96507e4249806f79cc665f4073",
       "version_major": 2,
       "version_minor": 0
      },
      "text/plain": [
       "Processing Channels (T=0):   0%|          | 0/3 [00:00<?, ?it/s]"
      ]
     },
     "metadata": {},
     "output_type": "display_data"
    },
    {
     "name": "stdout",
     "output_type": "stream",
     "text": [
      "Timepoint ID 0 saved out\n"
     ]
    },
    {
     "data": {
      "application/vnd.jupyter.widget-view+json": {
       "model_id": "06b8871f3fbb4eebabb7ca2e97100250",
       "version_major": 2,
       "version_minor": 0
      },
      "text/plain": [
       "Processing Channels (T=1):   0%|          | 0/3 [00:00<?, ?it/s]"
      ]
     },
     "metadata": {},
     "output_type": "display_data"
    },
    {
     "name": "stdout",
     "output_type": "stream",
     "text": [
      "Timepoint ID 1 saved out\n"
     ]
    },
    {
     "data": {
      "application/vnd.jupyter.widget-view+json": {
       "model_id": "cbd115e55332447cbfe3b464b40a956a",
       "version_major": 2,
       "version_minor": 0
      },
      "text/plain": [
       "Processing Channels (T=2):   0%|          | 0/3 [00:00<?, ?it/s]"
      ]
     },
     "metadata": {},
     "output_type": "display_data"
    },
    {
     "name": "stdout",
     "output_type": "stream",
     "text": [
      "Timepoint ID 2 saved out\n"
     ]
    },
    {
     "data": {
      "application/vnd.jupyter.widget-view+json": {
       "model_id": "0773b0b862f54840b85b7f57fc118f62",
       "version_major": 2,
       "version_minor": 0
      },
      "text/plain": [
       "Processing Channels (T=3):   0%|          | 0/3 [00:00<?, ?it/s]"
      ]
     },
     "metadata": {},
     "output_type": "display_data"
    },
    {
     "name": "stdout",
     "output_type": "stream",
     "text": [
      "Timepoint ID 3 saved out\n"
     ]
    },
    {
     "data": {
      "application/vnd.jupyter.widget-view+json": {
       "model_id": "45caf20d94fd438a9ce7aa558aa4bb52",
       "version_major": 2,
       "version_minor": 0
      },
      "text/plain": [
       "Processing Channels (T=4):   0%|          | 0/3 [00:00<?, ?it/s]"
      ]
     },
     "metadata": {},
     "output_type": "display_data"
    },
    {
     "name": "stdout",
     "output_type": "stream",
     "text": [
      "Timepoint ID 4 saved out\n"
     ]
    },
    {
     "data": {
      "application/vnd.jupyter.widget-view+json": {
       "model_id": "402df945e3314cd7807a4bf8f5fdc26a",
       "version_major": 2,
       "version_minor": 0
      },
      "text/plain": [
       "Processing Channels (T=5):   0%|          | 0/3 [00:00<?, ?it/s]"
      ]
     },
     "metadata": {},
     "output_type": "display_data"
    },
    {
     "name": "stdout",
     "output_type": "stream",
     "text": [
      "Timepoint ID 5 saved out\n"
     ]
    },
    {
     "data": {
      "application/vnd.jupyter.widget-view+json": {
       "model_id": "010ebce1f0ba4ce7bff89816f9ada15b",
       "version_major": 2,
       "version_minor": 0
      },
      "text/plain": [
       "Processing Channels (T=6):   0%|          | 0/3 [00:00<?, ?it/s]"
      ]
     },
     "metadata": {},
     "output_type": "display_data"
    },
    {
     "name": "stdout",
     "output_type": "stream",
     "text": [
      "Timepoint ID 6 saved out\n"
     ]
    },
    {
     "data": {
      "application/vnd.jupyter.widget-view+json": {
       "model_id": "08925537e1ee4927be694b2fd181e24f",
       "version_major": 2,
       "version_minor": 0
      },
      "text/plain": [
       "Processing Channels (T=7):   0%|          | 0/3 [00:00<?, ?it/s]"
      ]
     },
     "metadata": {},
     "output_type": "display_data"
    },
    {
     "name": "stdout",
     "output_type": "stream",
     "text": [
      "Timepoint ID 7 saved out\n"
     ]
    },
    {
     "data": {
      "application/vnd.jupyter.widget-view+json": {
       "model_id": "c16bb4c76b40447db12b056cf427b241",
       "version_major": 2,
       "version_minor": 0
      },
      "text/plain": [
       "Processing Channels (T=8):   0%|          | 0/3 [00:00<?, ?it/s]"
      ]
     },
     "metadata": {},
     "output_type": "display_data"
    },
    {
     "name": "stdout",
     "output_type": "stream",
     "text": [
      "Timepoint ID 8 saved out\n"
     ]
    },
    {
     "data": {
      "application/vnd.jupyter.widget-view+json": {
       "model_id": "d366d5f1b5284800b1f93d227d0e9e83",
       "version_major": 2,
       "version_minor": 0
      },
      "text/plain": [
       "Processing Channels (T=9):   0%|          | 0/3 [00:00<?, ?it/s]"
      ]
     },
     "metadata": {},
     "output_type": "display_data"
    },
    {
     "name": "stdout",
     "output_type": "stream",
     "text": [
      "Timepoint ID 9 saved out\n"
     ]
    },
    {
     "data": {
      "application/vnd.jupyter.widget-view+json": {
       "model_id": "741ec9776382476fb1542c399241e209",
       "version_major": 2,
       "version_minor": 0
      },
      "text/plain": [
       "Processing Channels (T=10):   0%|          | 0/3 [00:00<?, ?it/s]"
      ]
     },
     "metadata": {},
     "output_type": "display_data"
    },
    {
     "name": "stdout",
     "output_type": "stream",
     "text": [
      "Timepoint ID 10 saved out\n"
     ]
    },
    {
     "data": {
      "application/vnd.jupyter.widget-view+json": {
       "model_id": "de903afeff74436dba301ec1a68154df",
       "version_major": 2,
       "version_minor": 0
      },
      "text/plain": [
       "Processing Channels (T=11):   0%|          | 0/3 [00:00<?, ?it/s]"
      ]
     },
     "metadata": {},
     "output_type": "display_data"
    },
    {
     "name": "stdout",
     "output_type": "stream",
     "text": [
      "Timepoint ID 11 saved out\n"
     ]
    },
    {
     "data": {
      "application/vnd.jupyter.widget-view+json": {
       "model_id": "8e27015f5e424ad797238c1fb5dad9de",
       "version_major": 2,
       "version_minor": 0
      },
      "text/plain": [
       "Processing Channels (T=12):   0%|          | 0/3 [00:00<?, ?it/s]"
      ]
     },
     "metadata": {},
     "output_type": "display_data"
    },
    {
     "name": "stdout",
     "output_type": "stream",
     "text": [
      "Timepoint ID 12 saved out\n"
     ]
    },
    {
     "data": {
      "application/vnd.jupyter.widget-view+json": {
       "model_id": "d4df9ddcb7244ca6a86b9f02f2fb03a7",
       "version_major": 2,
       "version_minor": 0
      },
      "text/plain": [
       "Processing Channels (T=13):   0%|          | 0/3 [00:00<?, ?it/s]"
      ]
     },
     "metadata": {},
     "output_type": "display_data"
    },
    {
     "name": "stdout",
     "output_type": "stream",
     "text": [
      "Timepoint ID 13 saved out\n"
     ]
    },
    {
     "data": {
      "application/vnd.jupyter.widget-view+json": {
       "model_id": "94a95285784749708ad2ced184da2269",
       "version_major": 2,
       "version_minor": 0
      },
      "text/plain": [
       "Processing Channels (T=14):   0%|          | 0/3 [00:00<?, ?it/s]"
      ]
     },
     "metadata": {},
     "output_type": "display_data"
    },
    {
     "name": "stdout",
     "output_type": "stream",
     "text": [
      "Timepoint ID 14 saved out\n"
     ]
    },
    {
     "data": {
      "application/vnd.jupyter.widget-view+json": {
       "model_id": "0174a0fe05b348998e62c4d6eb17854e",
       "version_major": 2,
       "version_minor": 0
      },
      "text/plain": [
       "Processing Channels (T=15):   0%|          | 0/3 [00:00<?, ?it/s]"
      ]
     },
     "metadata": {},
     "output_type": "display_data"
    },
    {
     "name": "stdout",
     "output_type": "stream",
     "text": [
      "Timepoint ID 15 saved out\n"
     ]
    },
    {
     "data": {
      "application/vnd.jupyter.widget-view+json": {
       "model_id": "119e4d1fdabf4456b1ebcf0c3fb83bec",
       "version_major": 2,
       "version_minor": 0
      },
      "text/plain": [
       "Processing Channels (T=16):   0%|          | 0/3 [00:00<?, ?it/s]"
      ]
     },
     "metadata": {},
     "output_type": "display_data"
    },
    {
     "name": "stdout",
     "output_type": "stream",
     "text": [
      "Timepoint ID 16 saved out\n"
     ]
    },
    {
     "data": {
      "application/vnd.jupyter.widget-view+json": {
       "model_id": "dc9325e440884dc48ff25f1d6ce6477d",
       "version_major": 2,
       "version_minor": 0
      },
      "text/plain": [
       "Processing Channels (T=17):   0%|          | 0/3 [00:00<?, ?it/s]"
      ]
     },
     "metadata": {},
     "output_type": "display_data"
    },
    {
     "name": "stdout",
     "output_type": "stream",
     "text": [
      "Timepoint ID 17 saved out\n"
     ]
    },
    {
     "data": {
      "application/vnd.jupyter.widget-view+json": {
       "model_id": "e5bebdffe482439ab1b65fee9d68d9ba",
       "version_major": 2,
       "version_minor": 0
      },
      "text/plain": [
       "Processing Channels (T=18):   0%|          | 0/3 [00:00<?, ?it/s]"
      ]
     },
     "metadata": {},
     "output_type": "display_data"
    },
    {
     "name": "stdout",
     "output_type": "stream",
     "text": [
      "Timepoint ID 18 saved out\n"
     ]
    },
    {
     "data": {
      "application/vnd.jupyter.widget-view+json": {
       "model_id": "20ae7971da6f4e44bf9d12927d62aa06",
       "version_major": 2,
       "version_minor": 0
      },
      "text/plain": [
       "Processing Channels (T=19):   0%|          | 0/3 [00:00<?, ?it/s]"
      ]
     },
     "metadata": {},
     "output_type": "display_data"
    },
    {
     "name": "stdout",
     "output_type": "stream",
     "text": [
      "Timepoint ID 19 saved out\n"
     ]
    },
    {
     "data": {
      "application/vnd.jupyter.widget-view+json": {
       "model_id": "57f44119bd474329b181fd64ece8a7f3",
       "version_major": 2,
       "version_minor": 0
      },
      "text/plain": [
       "Processing Channels (T=20):   0%|          | 0/3 [00:00<?, ?it/s]"
      ]
     },
     "metadata": {},
     "output_type": "display_data"
    },
    {
     "name": "stdout",
     "output_type": "stream",
     "text": [
      "Timepoint ID 20 saved out\n"
     ]
    },
    {
     "data": {
      "application/vnd.jupyter.widget-view+json": {
       "model_id": "ffc3029f60d6419aa4ca7b6d37f6750e",
       "version_major": 2,
       "version_minor": 0
      },
      "text/plain": [
       "Processing Channels (T=21):   0%|          | 0/3 [00:00<?, ?it/s]"
      ]
     },
     "metadata": {},
     "output_type": "display_data"
    },
    {
     "name": "stdout",
     "output_type": "stream",
     "text": [
      "Timepoint ID 21 saved out\n"
     ]
    },
    {
     "data": {
      "application/vnd.jupyter.widget-view+json": {
       "model_id": "66d9f98eb9a74a8f8612f77fd0ace9c7",
       "version_major": 2,
       "version_minor": 0
      },
      "text/plain": [
       "Processing Channels (T=22):   0%|          | 0/3 [00:00<?, ?it/s]"
      ]
     },
     "metadata": {},
     "output_type": "display_data"
    },
    {
     "name": "stdout",
     "output_type": "stream",
     "text": [
      "Timepoint ID 22 saved out\n"
     ]
    },
    {
     "data": {
      "application/vnd.jupyter.widget-view+json": {
       "model_id": "a9fc5ae0ea76449e83f690b21c247d21",
       "version_major": 2,
       "version_minor": 0
      },
      "text/plain": [
       "Processing Channels (T=23):   0%|          | 0/3 [00:00<?, ?it/s]"
      ]
     },
     "metadata": {},
     "output_type": "display_data"
    },
    {
     "name": "stdout",
     "output_type": "stream",
     "text": [
      "Timepoint ID 23 saved out\n"
     ]
    },
    {
     "data": {
      "application/vnd.jupyter.widget-view+json": {
       "model_id": "a439890ca64e4478899c86351fed7791",
       "version_major": 2,
       "version_minor": 0
      },
      "text/plain": [
       "Processing Channels (T=24):   0%|          | 0/3 [00:00<?, ?it/s]"
      ]
     },
     "metadata": {},
     "output_type": "display_data"
    },
    {
     "name": "stdout",
     "output_type": "stream",
     "text": [
      "Timepoint ID 24 saved out\n"
     ]
    },
    {
     "data": {
      "application/vnd.jupyter.widget-view+json": {
       "model_id": "2773debd163649e0b1f7e94d4959c6ca",
       "version_major": 2,
       "version_minor": 0
      },
      "text/plain": [
       "Processing Channels (T=25):   0%|          | 0/3 [00:00<?, ?it/s]"
      ]
     },
     "metadata": {},
     "output_type": "display_data"
    },
    {
     "name": "stdout",
     "output_type": "stream",
     "text": [
      "Timepoint ID 25 saved out\n"
     ]
    },
    {
     "data": {
      "application/vnd.jupyter.widget-view+json": {
       "model_id": "1d18abe1432b4581b9e97272bb81f6a8",
       "version_major": 2,
       "version_minor": 0
      },
      "text/plain": [
       "Processing Channels (T=26):   0%|          | 0/3 [00:00<?, ?it/s]"
      ]
     },
     "metadata": {},
     "output_type": "display_data"
    },
    {
     "name": "stdout",
     "output_type": "stream",
     "text": [
      "Timepoint ID 26 saved out\n"
     ]
    },
    {
     "data": {
      "application/vnd.jupyter.widget-view+json": {
       "model_id": "ea323265a05e43e59200df278cda05b4",
       "version_major": 2,
       "version_minor": 0
      },
      "text/plain": [
       "Processing Channels (T=27):   0%|          | 0/3 [00:00<?, ?it/s]"
      ]
     },
     "metadata": {},
     "output_type": "display_data"
    },
    {
     "name": "stdout",
     "output_type": "stream",
     "text": [
      "Timepoint ID 27 saved out\n"
     ]
    },
    {
     "data": {
      "application/vnd.jupyter.widget-view+json": {
       "model_id": "71c214ad2c9a41f3906643562786d80c",
       "version_major": 2,
       "version_minor": 0
      },
      "text/plain": [
       "Processing Channels (T=28):   0%|          | 0/3 [00:00<?, ?it/s]"
      ]
     },
     "metadata": {},
     "output_type": "display_data"
    },
    {
     "name": "stdout",
     "output_type": "stream",
     "text": [
      "Timepoint ID 28 saved out\n"
     ]
    },
    {
     "data": {
      "application/vnd.jupyter.widget-view+json": {
       "model_id": "4db44532fe0f4cf48c711000b65ab285",
       "version_major": 2,
       "version_minor": 0
      },
      "text/plain": [
       "Processing Channels (T=29):   0%|          | 0/3 [00:00<?, ?it/s]"
      ]
     },
     "metadata": {},
     "output_type": "display_data"
    },
    {
     "name": "stdout",
     "output_type": "stream",
     "text": [
      "Timepoint ID 29 saved out\n"
     ]
    },
    {
     "data": {
      "application/vnd.jupyter.widget-view+json": {
       "model_id": "41f8049ea35c4c2bb162a1321f32ba7b",
       "version_major": 2,
       "version_minor": 0
      },
      "text/plain": [
       "Processing Channels (T=30):   0%|          | 0/3 [00:00<?, ?it/s]"
      ]
     },
     "metadata": {},
     "output_type": "display_data"
    },
    {
     "name": "stdout",
     "output_type": "stream",
     "text": [
      "Timepoint ID 30 saved out\n"
     ]
    },
    {
     "data": {
      "application/vnd.jupyter.widget-view+json": {
       "model_id": "18a8e3cba81c4438b838159b84ac2f73",
       "version_major": 2,
       "version_minor": 0
      },
      "text/plain": [
       "Processing Channels (T=31):   0%|          | 0/3 [00:00<?, ?it/s]"
      ]
     },
     "metadata": {},
     "output_type": "display_data"
    },
    {
     "name": "stdout",
     "output_type": "stream",
     "text": [
      "Timepoint ID 31 saved out\n"
     ]
    },
    {
     "data": {
      "application/vnd.jupyter.widget-view+json": {
       "model_id": "8cb667876dd8419a8c3d7cf77bd18879",
       "version_major": 2,
       "version_minor": 0
      },
      "text/plain": [
       "Processing Channels (T=32):   0%|          | 0/3 [00:00<?, ?it/s]"
      ]
     },
     "metadata": {},
     "output_type": "display_data"
    },
    {
     "name": "stdout",
     "output_type": "stream",
     "text": [
      "Timepoint ID 32 saved out\n"
     ]
    },
    {
     "data": {
      "application/vnd.jupyter.widget-view+json": {
       "model_id": "7de17a1926ed49cf8ba27bf57109b859",
       "version_major": 2,
       "version_minor": 0
      },
      "text/plain": [
       "Processing Channels (T=33):   0%|          | 0/3 [00:00<?, ?it/s]"
      ]
     },
     "metadata": {},
     "output_type": "display_data"
    },
    {
     "name": "stdout",
     "output_type": "stream",
     "text": [
      "Timepoint ID 33 saved out\n"
     ]
    },
    {
     "data": {
      "application/vnd.jupyter.widget-view+json": {
       "model_id": "cb7e8ca464bd4610a8e121d78d202c9e",
       "version_major": 2,
       "version_minor": 0
      },
      "text/plain": [
       "Processing Channels (T=34):   0%|          | 0/3 [00:00<?, ?it/s]"
      ]
     },
     "metadata": {},
     "output_type": "display_data"
    },
    {
     "name": "stdout",
     "output_type": "stream",
     "text": [
      "Timepoint ID 34 saved out\n"
     ]
    },
    {
     "data": {
      "application/vnd.jupyter.widget-view+json": {
       "model_id": "99e7396fb68c45b19a4046dcdaeae35f",
       "version_major": 2,
       "version_minor": 0
      },
      "text/plain": [
       "Processing Channels (T=35):   0%|          | 0/3 [00:00<?, ?it/s]"
      ]
     },
     "metadata": {},
     "output_type": "display_data"
    },
    {
     "name": "stdout",
     "output_type": "stream",
     "text": [
      "Timepoint ID 35 saved out\n"
     ]
    },
    {
     "data": {
      "application/vnd.jupyter.widget-view+json": {
       "model_id": "ba53afa165b04e0aa782c04655e68b49",
       "version_major": 2,
       "version_minor": 0
      },
      "text/plain": [
       "Processing Channels (T=36):   0%|          | 0/3 [00:00<?, ?it/s]"
      ]
     },
     "metadata": {},
     "output_type": "display_data"
    },
    {
     "name": "stdout",
     "output_type": "stream",
     "text": [
      "Timepoint ID 36 saved out\n"
     ]
    },
    {
     "data": {
      "application/vnd.jupyter.widget-view+json": {
       "model_id": "c4b84aff0065433396ecdaaa097cfa70",
       "version_major": 2,
       "version_minor": 0
      },
      "text/plain": [
       "Processing Channels (T=37):   0%|          | 0/3 [00:00<?, ?it/s]"
      ]
     },
     "metadata": {},
     "output_type": "display_data"
    },
    {
     "name": "stdout",
     "output_type": "stream",
     "text": [
      "Timepoint ID 37 saved out\n"
     ]
    },
    {
     "data": {
      "application/vnd.jupyter.widget-view+json": {
       "model_id": "2836419eb89644c191d59b2b77c3355e",
       "version_major": 2,
       "version_minor": 0
      },
      "text/plain": [
       "Processing Channels (T=38):   0%|          | 0/3 [00:00<?, ?it/s]"
      ]
     },
     "metadata": {},
     "output_type": "display_data"
    },
    {
     "name": "stdout",
     "output_type": "stream",
     "text": [
      "Timepoint ID 38 saved out\n"
     ]
    },
    {
     "data": {
      "application/vnd.jupyter.widget-view+json": {
       "model_id": "5d41d27b64504afd83e43e986ff3bd4b",
       "version_major": 2,
       "version_minor": 0
      },
      "text/plain": [
       "Processing Channels (T=39):   0%|          | 0/3 [00:00<?, ?it/s]"
      ]
     },
     "metadata": {},
     "output_type": "display_data"
    },
    {
     "name": "stdout",
     "output_type": "stream",
     "text": [
      "Timepoint ID 39 saved out\n"
     ]
    },
    {
     "data": {
      "application/vnd.jupyter.widget-view+json": {
       "model_id": "d4df5b280eed47ce82bd74f023a938a5",
       "version_major": 2,
       "version_minor": 0
      },
      "text/plain": [
       "Processing Channels (T=40):   0%|          | 0/3 [00:00<?, ?it/s]"
      ]
     },
     "metadata": {},
     "output_type": "display_data"
    },
    {
     "name": "stdout",
     "output_type": "stream",
     "text": [
      "Timepoint ID 40 saved out\n"
     ]
    },
    {
     "data": {
      "application/vnd.jupyter.widget-view+json": {
       "model_id": "3f03308b26644532a34bf7a76da42da3",
       "version_major": 2,
       "version_minor": 0
      },
      "text/plain": [
       "Processing Channels (T=41):   0%|          | 0/3 [00:00<?, ?it/s]"
      ]
     },
     "metadata": {},
     "output_type": "display_data"
    },
    {
     "name": "stdout",
     "output_type": "stream",
     "text": [
      "Timepoint ID 41 saved out\n"
     ]
    },
    {
     "data": {
      "application/vnd.jupyter.widget-view+json": {
       "model_id": "c2d2b243b2e34017acdd6aa28dca871f",
       "version_major": 2,
       "version_minor": 0
      },
      "text/plain": [
       "Processing Channels (T=42):   0%|          | 0/3 [00:00<?, ?it/s]"
      ]
     },
     "metadata": {},
     "output_type": "display_data"
    },
    {
     "name": "stdout",
     "output_type": "stream",
     "text": [
      "Timepoint ID 42 saved out\n"
     ]
    },
    {
     "data": {
      "application/vnd.jupyter.widget-view+json": {
       "model_id": "0f44dc402f414762aa456bf59278a0c6",
       "version_major": 2,
       "version_minor": 0
      },
      "text/plain": [
       "Processing Channels (T=43):   0%|          | 0/3 [00:00<?, ?it/s]"
      ]
     },
     "metadata": {},
     "output_type": "display_data"
    },
    {
     "name": "stdout",
     "output_type": "stream",
     "text": [
      "Timepoint ID 43 saved out\n"
     ]
    },
    {
     "data": {
      "application/vnd.jupyter.widget-view+json": {
       "model_id": "f4d18949dc2f4170971ee19735b12b36",
       "version_major": 2,
       "version_minor": 0
      },
      "text/plain": [
       "Processing Channels (T=44):   0%|          | 0/3 [00:00<?, ?it/s]"
      ]
     },
     "metadata": {},
     "output_type": "display_data"
    },
    {
     "name": "stdout",
     "output_type": "stream",
     "text": [
      "Timepoint ID 44 saved out\n"
     ]
    },
    {
     "data": {
      "application/vnd.jupyter.widget-view+json": {
       "model_id": "9156b3213f904cdc84b648ae7e431b4d",
       "version_major": 2,
       "version_minor": 0
      },
      "text/plain": [
       "Processing Channels (T=45):   0%|          | 0/3 [00:00<?, ?it/s]"
      ]
     },
     "metadata": {},
     "output_type": "display_data"
    },
    {
     "name": "stdout",
     "output_type": "stream",
     "text": [
      "Timepoint ID 45 saved out\n"
     ]
    },
    {
     "data": {
      "application/vnd.jupyter.widget-view+json": {
       "model_id": "bc6f1e79cc76407fa5aa313c964e52e9",
       "version_major": 2,
       "version_minor": 0
      },
      "text/plain": [
       "Processing Channels (T=46):   0%|          | 0/3 [00:00<?, ?it/s]"
      ]
     },
     "metadata": {},
     "output_type": "display_data"
    },
    {
     "name": "stdout",
     "output_type": "stream",
     "text": [
      "Timepoint ID 46 saved out\n"
     ]
    },
    {
     "data": {
      "application/vnd.jupyter.widget-view+json": {
       "model_id": "528e8f046e574e9ba4cd01675dc72ac3",
       "version_major": 2,
       "version_minor": 0
      },
      "text/plain": [
       "Processing Channels (T=47):   0%|          | 0/3 [00:00<?, ?it/s]"
      ]
     },
     "metadata": {},
     "output_type": "display_data"
    },
    {
     "name": "stdout",
     "output_type": "stream",
     "text": [
      "Timepoint ID 47 saved out\n"
     ]
    },
    {
     "data": {
      "application/vnd.jupyter.widget-view+json": {
       "model_id": "ad66363f41d84f2cb07be53a58fe5fcd",
       "version_major": 2,
       "version_minor": 0
      },
      "text/plain": [
       "Processing Channels (T=48):   0%|          | 0/3 [00:00<?, ?it/s]"
      ]
     },
     "metadata": {},
     "output_type": "display_data"
    },
    {
     "name": "stdout",
     "output_type": "stream",
     "text": [
      "Timepoint ID 48 saved out\n"
     ]
    },
    {
     "data": {
      "application/vnd.jupyter.widget-view+json": {
       "model_id": "b189bd889d0344118b321aa68e96c282",
       "version_major": 2,
       "version_minor": 0
      },
      "text/plain": [
       "Processing Channels (T=49):   0%|          | 0/3 [00:00<?, ?it/s]"
      ]
     },
     "metadata": {},
     "output_type": "display_data"
    },
    {
     "name": "stdout",
     "output_type": "stream",
     "text": [
      "Timepoint ID 49 saved out\n"
     ]
    },
    {
     "data": {
      "application/vnd.jupyter.widget-view+json": {
       "model_id": "c6fe299ea45b40c899235f9f14dd020a",
       "version_major": 2,
       "version_minor": 0
      },
      "text/plain": [
       "Processing Channels (T=50):   0%|          | 0/3 [00:00<?, ?it/s]"
      ]
     },
     "metadata": {},
     "output_type": "display_data"
    },
    {
     "name": "stdout",
     "output_type": "stream",
     "text": [
      "Timepoint ID 50 saved out\n"
     ]
    },
    {
     "data": {
      "application/vnd.jupyter.widget-view+json": {
       "model_id": "98606edb90e44da98ba1e65ac196327b",
       "version_major": 2,
       "version_minor": 0
      },
      "text/plain": [
       "Processing Channels (T=51):   0%|          | 0/3 [00:00<?, ?it/s]"
      ]
     },
     "metadata": {},
     "output_type": "display_data"
    },
    {
     "name": "stdout",
     "output_type": "stream",
     "text": [
      "Timepoint ID 51 saved out\n"
     ]
    },
    {
     "data": {
      "application/vnd.jupyter.widget-view+json": {
       "model_id": "7be18c3c6647414bb2ef59676b7b0b16",
       "version_major": 2,
       "version_minor": 0
      },
      "text/plain": [
       "Processing Channels (T=52):   0%|          | 0/3 [00:00<?, ?it/s]"
      ]
     },
     "metadata": {},
     "output_type": "display_data"
    },
    {
     "name": "stdout",
     "output_type": "stream",
     "text": [
      "Timepoint ID 52 saved out\n"
     ]
    },
    {
     "data": {
      "application/vnd.jupyter.widget-view+json": {
       "model_id": "c187960d264b4bd48be7eb6868b03e7e",
       "version_major": 2,
       "version_minor": 0
      },
      "text/plain": [
       "Processing Channels (T=53):   0%|          | 0/3 [00:00<?, ?it/s]"
      ]
     },
     "metadata": {},
     "output_type": "display_data"
    },
    {
     "name": "stdout",
     "output_type": "stream",
     "text": [
      "Timepoint ID 53 saved out\n"
     ]
    },
    {
     "data": {
      "application/vnd.jupyter.widget-view+json": {
       "model_id": "426e6dd82a08481fb27719a69e60ef56",
       "version_major": 2,
       "version_minor": 0
      },
      "text/plain": [
       "Processing Channels (T=54):   0%|          | 0/3 [00:00<?, ?it/s]"
      ]
     },
     "metadata": {},
     "output_type": "display_data"
    },
    {
     "name": "stdout",
     "output_type": "stream",
     "text": [
      "Timepoint ID 54 saved out\n"
     ]
    },
    {
     "data": {
      "application/vnd.jupyter.widget-view+json": {
       "model_id": "40d49595584e45959d3ed89ef45f53f8",
       "version_major": 2,
       "version_minor": 0
      },
      "text/plain": [
       "Processing Channels (T=55):   0%|          | 0/3 [00:00<?, ?it/s]"
      ]
     },
     "metadata": {},
     "output_type": "display_data"
    },
    {
     "name": "stdout",
     "output_type": "stream",
     "text": [
      "Timepoint ID 55 saved out\n"
     ]
    },
    {
     "data": {
      "application/vnd.jupyter.widget-view+json": {
       "model_id": "8050d43776084d4398dee85d73b83cd3",
       "version_major": 2,
       "version_minor": 0
      },
      "text/plain": [
       "Processing Channels (T=56):   0%|          | 0/3 [00:00<?, ?it/s]"
      ]
     },
     "metadata": {},
     "output_type": "display_data"
    },
    {
     "name": "stdout",
     "output_type": "stream",
     "text": [
      "Timepoint ID 56 saved out\n"
     ]
    },
    {
     "data": {
      "application/vnd.jupyter.widget-view+json": {
       "model_id": "09f39cff66594af3b103a31a6748b0db",
       "version_major": 2,
       "version_minor": 0
      },
      "text/plain": [
       "Processing Channels (T=57):   0%|          | 0/3 [00:00<?, ?it/s]"
      ]
     },
     "metadata": {},
     "output_type": "display_data"
    },
    {
     "name": "stdout",
     "output_type": "stream",
     "text": [
      "Timepoint ID 57 saved out\n"
     ]
    },
    {
     "data": {
      "application/vnd.jupyter.widget-view+json": {
       "model_id": "1d286ed6e9894aa898ea200f4965b64c",
       "version_major": 2,
       "version_minor": 0
      },
      "text/plain": [
       "Processing Channels (T=58):   0%|          | 0/3 [00:00<?, ?it/s]"
      ]
     },
     "metadata": {},
     "output_type": "display_data"
    },
    {
     "name": "stdout",
     "output_type": "stream",
     "text": [
      "Timepoint ID 58 saved out\n"
     ]
    },
    {
     "data": {
      "application/vnd.jupyter.widget-view+json": {
       "model_id": "b8a99a906d3d4b07a0b3c5e90fbbebbd",
       "version_major": 2,
       "version_minor": 0
      },
      "text/plain": [
       "Processing Channels (T=59):   0%|          | 0/3 [00:00<?, ?it/s]"
      ]
     },
     "metadata": {},
     "output_type": "display_data"
    },
    {
     "name": "stdout",
     "output_type": "stream",
     "text": [
      "Timepoint ID 59 saved out\n"
     ]
    },
    {
     "data": {
      "application/vnd.jupyter.widget-view+json": {
       "model_id": "48e756f7177d44658ab1629ae8fbe553",
       "version_major": 2,
       "version_minor": 0
      },
      "text/plain": [
       "Processing Channels (T=60):   0%|          | 0/3 [00:00<?, ?it/s]"
      ]
     },
     "metadata": {},
     "output_type": "display_data"
    },
    {
     "name": "stdout",
     "output_type": "stream",
     "text": [
      "Timepoint ID 60 saved out\n"
     ]
    },
    {
     "data": {
      "application/vnd.jupyter.widget-view+json": {
       "model_id": "e360c202ef5d4e0998f0624efcd19d41",
       "version_major": 2,
       "version_minor": 0
      },
      "text/plain": [
       "Processing Channels (T=61):   0%|          | 0/3 [00:00<?, ?it/s]"
      ]
     },
     "metadata": {},
     "output_type": "display_data"
    },
    {
     "name": "stdout",
     "output_type": "stream",
     "text": [
      "Timepoint ID 61 saved out\n"
     ]
    },
    {
     "data": {
      "application/vnd.jupyter.widget-view+json": {
       "model_id": "114f4362d1e246708b8bee5fc9d9e157",
       "version_major": 2,
       "version_minor": 0
      },
      "text/plain": [
       "Processing Channels (T=62):   0%|          | 0/3 [00:00<?, ?it/s]"
      ]
     },
     "metadata": {},
     "output_type": "display_data"
    },
    {
     "name": "stdout",
     "output_type": "stream",
     "text": [
      "Timepoint ID 62 saved out\n"
     ]
    },
    {
     "data": {
      "application/vnd.jupyter.widget-view+json": {
       "model_id": "2ac757e3eedd47438ecb6cecd62bf2f9",
       "version_major": 2,
       "version_minor": 0
      },
      "text/plain": [
       "Processing Channels (T=63):   0%|          | 0/3 [00:00<?, ?it/s]"
      ]
     },
     "metadata": {},
     "output_type": "display_data"
    },
    {
     "name": "stdout",
     "output_type": "stream",
     "text": [
      "Timepoint ID 63 saved out\n"
     ]
    },
    {
     "data": {
      "application/vnd.jupyter.widget-view+json": {
       "model_id": "0ae35e92082341dc87a7b1aa4af0ce32",
       "version_major": 2,
       "version_minor": 0
      },
      "text/plain": [
       "Processing Channels (T=64):   0%|          | 0/3 [00:00<?, ?it/s]"
      ]
     },
     "metadata": {},
     "output_type": "display_data"
    },
    {
     "name": "stdout",
     "output_type": "stream",
     "text": [
      "Timepoint ID 64 saved out\n"
     ]
    },
    {
     "data": {
      "application/vnd.jupyter.widget-view+json": {
       "model_id": "87fd7b2b95114bc0bf145658e1f2df54",
       "version_major": 2,
       "version_minor": 0
      },
      "text/plain": [
       "Processing Channels (T=65):   0%|          | 0/3 [00:00<?, ?it/s]"
      ]
     },
     "metadata": {},
     "output_type": "display_data"
    },
    {
     "name": "stdout",
     "output_type": "stream",
     "text": [
      "Timepoint ID 65 saved out\n"
     ]
    },
    {
     "data": {
      "application/vnd.jupyter.widget-view+json": {
       "model_id": "7da147f4c2fc4c3294f62765896e95cb",
       "version_major": 2,
       "version_minor": 0
      },
      "text/plain": [
       "Processing Channels (T=66):   0%|          | 0/3 [00:00<?, ?it/s]"
      ]
     },
     "metadata": {},
     "output_type": "display_data"
    },
    {
     "name": "stdout",
     "output_type": "stream",
     "text": [
      "Timepoint ID 66 saved out\n"
     ]
    },
    {
     "data": {
      "application/vnd.jupyter.widget-view+json": {
       "model_id": "08d97591f4a54a5d920b68a3d94d1058",
       "version_major": 2,
       "version_minor": 0
      },
      "text/plain": [
       "Processing Channels (T=67):   0%|          | 0/3 [00:00<?, ?it/s]"
      ]
     },
     "metadata": {},
     "output_type": "display_data"
    },
    {
     "name": "stdout",
     "output_type": "stream",
     "text": [
      "Timepoint ID 67 saved out\n"
     ]
    },
    {
     "data": {
      "application/vnd.jupyter.widget-view+json": {
       "model_id": "bf8e6bd671f4470d810f5f5a7e346040",
       "version_major": 2,
       "version_minor": 0
      },
      "text/plain": [
       "Processing Channels (T=68):   0%|          | 0/3 [00:00<?, ?it/s]"
      ]
     },
     "metadata": {},
     "output_type": "display_data"
    },
    {
     "name": "stdout",
     "output_type": "stream",
     "text": [
      "Timepoint ID 68 saved out\n"
     ]
    },
    {
     "data": {
      "application/vnd.jupyter.widget-view+json": {
       "model_id": "7b3533ae527841d4b6cb22bcbe3bd5eb",
       "version_major": 2,
       "version_minor": 0
      },
      "text/plain": [
       "Processing Channels (T=69):   0%|          | 0/3 [00:00<?, ?it/s]"
      ]
     },
     "metadata": {},
     "output_type": "display_data"
    },
    {
     "name": "stdout",
     "output_type": "stream",
     "text": [
      "Timepoint ID 69 saved out\n"
     ]
    },
    {
     "data": {
      "application/vnd.jupyter.widget-view+json": {
       "model_id": "31d5fc9532744892847293dc055878f8",
       "version_major": 2,
       "version_minor": 0
      },
      "text/plain": [
       "Processing Channels (T=70):   0%|          | 0/3 [00:00<?, ?it/s]"
      ]
     },
     "metadata": {},
     "output_type": "display_data"
    },
    {
     "name": "stdout",
     "output_type": "stream",
     "text": [
      "Timepoint ID 70 saved out\n"
     ]
    },
    {
     "data": {
      "application/vnd.jupyter.widget-view+json": {
       "model_id": "a321712344fb4a25ac86ad2eaf937054",
       "version_major": 2,
       "version_minor": 0
      },
      "text/plain": [
       "Processing Channels (T=71):   0%|          | 0/3 [00:00<?, ?it/s]"
      ]
     },
     "metadata": {},
     "output_type": "display_data"
    },
    {
     "name": "stdout",
     "output_type": "stream",
     "text": [
      "Timepoint ID 71 saved out\n"
     ]
    },
    {
     "data": {
      "application/vnd.jupyter.widget-view+json": {
       "model_id": "bf3c009b69944d76bf2371093cf8d9b0",
       "version_major": 2,
       "version_minor": 0
      },
      "text/plain": [
       "Processing Channels (T=72):   0%|          | 0/3 [00:00<?, ?it/s]"
      ]
     },
     "metadata": {},
     "output_type": "display_data"
    },
    {
     "name": "stdout",
     "output_type": "stream",
     "text": [
      "Timepoint ID 72 saved out\n"
     ]
    },
    {
     "data": {
      "application/vnd.jupyter.widget-view+json": {
       "model_id": "7bd263d509944010b82b9db80bd546ee",
       "version_major": 2,
       "version_minor": 0
      },
      "text/plain": [
       "Processing Channels (T=73):   0%|          | 0/3 [00:00<?, ?it/s]"
      ]
     },
     "metadata": {},
     "output_type": "display_data"
    },
    {
     "name": "stdout",
     "output_type": "stream",
     "text": [
      "Timepoint ID 73 saved out\n"
     ]
    },
    {
     "data": {
      "application/vnd.jupyter.widget-view+json": {
       "model_id": "338418387b574d91851105f90496736e",
       "version_major": 2,
       "version_minor": 0
      },
      "text/plain": [
       "Processing Channels (T=74):   0%|          | 0/3 [00:00<?, ?it/s]"
      ]
     },
     "metadata": {},
     "output_type": "display_data"
    },
    {
     "name": "stdout",
     "output_type": "stream",
     "text": [
      "Timepoint ID 74 saved out\n"
     ]
    },
    {
     "data": {
      "application/vnd.jupyter.widget-view+json": {
       "model_id": "8b86835cfaf7400496705c04df6560be",
       "version_major": 2,
       "version_minor": 0
      },
      "text/plain": [
       "Processing Channels (T=75):   0%|          | 0/3 [00:00<?, ?it/s]"
      ]
     },
     "metadata": {},
     "output_type": "display_data"
    },
    {
     "name": "stdout",
     "output_type": "stream",
     "text": [
      "Timepoint ID 75 saved out\n"
     ]
    },
    {
     "data": {
      "application/vnd.jupyter.widget-view+json": {
       "model_id": "984325d2e9204f9295ae9fdf0dc18e74",
       "version_major": 2,
       "version_minor": 0
      },
      "text/plain": [
       "Processing Channels (T=76):   0%|          | 0/3 [00:00<?, ?it/s]"
      ]
     },
     "metadata": {},
     "output_type": "display_data"
    },
    {
     "name": "stdout",
     "output_type": "stream",
     "text": [
      "Timepoint ID 76 saved out\n"
     ]
    },
    {
     "data": {
      "application/vnd.jupyter.widget-view+json": {
       "model_id": "b09dc79e2d3b4701845272e1e102bdc7",
       "version_major": 2,
       "version_minor": 0
      },
      "text/plain": [
       "Processing Channels (T=77):   0%|          | 0/3 [00:00<?, ?it/s]"
      ]
     },
     "metadata": {},
     "output_type": "display_data"
    },
    {
     "name": "stdout",
     "output_type": "stream",
     "text": [
      "Timepoint ID 77 saved out\n"
     ]
    },
    {
     "data": {
      "application/vnd.jupyter.widget-view+json": {
       "model_id": "417a6e7b707346518442ad29b89e47fa",
       "version_major": 2,
       "version_minor": 0
      },
      "text/plain": [
       "Processing Channels (T=78):   0%|          | 0/3 [00:00<?, ?it/s]"
      ]
     },
     "metadata": {},
     "output_type": "display_data"
    },
    {
     "name": "stdout",
     "output_type": "stream",
     "text": [
      "Timepoint ID 78 saved out\n"
     ]
    },
    {
     "data": {
      "application/vnd.jupyter.widget-view+json": {
       "model_id": "7d07e58560dc4fd996ee9d290c7db2de",
       "version_major": 2,
       "version_minor": 0
      },
      "text/plain": [
       "Processing Channels (T=79):   0%|          | 0/3 [00:00<?, ?it/s]"
      ]
     },
     "metadata": {},
     "output_type": "display_data"
    },
    {
     "name": "stdout",
     "output_type": "stream",
     "text": [
      "Timepoint ID 79 saved out\n"
     ]
    },
    {
     "data": {
      "application/vnd.jupyter.widget-view+json": {
       "model_id": "a91506ad54694d6cabe6c95309c4d842",
       "version_major": 2,
       "version_minor": 0
      },
      "text/plain": [
       "Processing Channels (T=80):   0%|          | 0/3 [00:00<?, ?it/s]"
      ]
     },
     "metadata": {},
     "output_type": "display_data"
    },
    {
     "name": "stdout",
     "output_type": "stream",
     "text": [
      "Timepoint ID 80 saved out\n"
     ]
    },
    {
     "data": {
      "application/vnd.jupyter.widget-view+json": {
       "model_id": "5131a44a05144ea39d441e5153b21dfb",
       "version_major": 2,
       "version_minor": 0
      },
      "text/plain": [
       "Processing Channels (T=81):   0%|          | 0/3 [00:00<?, ?it/s]"
      ]
     },
     "metadata": {},
     "output_type": "display_data"
    },
    {
     "name": "stdout",
     "output_type": "stream",
     "text": [
      "Timepoint ID 81 saved out\n"
     ]
    },
    {
     "data": {
      "application/vnd.jupyter.widget-view+json": {
       "model_id": "e054e05c4c2241729f2cbfcb0e90154f",
       "version_major": 2,
       "version_minor": 0
      },
      "text/plain": [
       "Processing Channels (T=82):   0%|          | 0/3 [00:00<?, ?it/s]"
      ]
     },
     "metadata": {},
     "output_type": "display_data"
    },
    {
     "name": "stdout",
     "output_type": "stream",
     "text": [
      "Timepoint ID 82 saved out\n"
     ]
    },
    {
     "data": {
      "application/vnd.jupyter.widget-view+json": {
       "model_id": "1f46ced6c9ad49dea276cf64f86c8f5c",
       "version_major": 2,
       "version_minor": 0
      },
      "text/plain": [
       "Processing Channels (T=83):   0%|          | 0/3 [00:00<?, ?it/s]"
      ]
     },
     "metadata": {},
     "output_type": "display_data"
    },
    {
     "name": "stdout",
     "output_type": "stream",
     "text": [
      "Timepoint ID 83 saved out\n"
     ]
    },
    {
     "data": {
      "application/vnd.jupyter.widget-view+json": {
       "model_id": "8da876b91dcd49ecbdeffbd9df5fa6ae",
       "version_major": 2,
       "version_minor": 0
      },
      "text/plain": [
       "Processing Channels (T=84):   0%|          | 0/3 [00:00<?, ?it/s]"
      ]
     },
     "metadata": {},
     "output_type": "display_data"
    },
    {
     "name": "stdout",
     "output_type": "stream",
     "text": [
      "Timepoint ID 84 saved out\n"
     ]
    },
    {
     "data": {
      "application/vnd.jupyter.widget-view+json": {
       "model_id": "673d4e2de3f5450fb48bd158fb9ee881",
       "version_major": 2,
       "version_minor": 0
      },
      "text/plain": [
       "Processing Channels (T=85):   0%|          | 0/3 [00:00<?, ?it/s]"
      ]
     },
     "metadata": {},
     "output_type": "display_data"
    },
    {
     "name": "stdout",
     "output_type": "stream",
     "text": [
      "Timepoint ID 85 saved out\n"
     ]
    },
    {
     "data": {
      "application/vnd.jupyter.widget-view+json": {
       "model_id": "51990ce6365f4815bf7a257a16486dfe",
       "version_major": 2,
       "version_minor": 0
      },
      "text/plain": [
       "Processing Channels (T=86):   0%|          | 0/3 [00:00<?, ?it/s]"
      ]
     },
     "metadata": {},
     "output_type": "display_data"
    },
    {
     "name": "stdout",
     "output_type": "stream",
     "text": [
      "Timepoint ID 86 saved out\n"
     ]
    },
    {
     "data": {
      "application/vnd.jupyter.widget-view+json": {
       "model_id": "2d6dea6891c04c618d8eff9e4f7db689",
       "version_major": 2,
       "version_minor": 0
      },
      "text/plain": [
       "Processing Channels (T=87):   0%|          | 0/3 [00:00<?, ?it/s]"
      ]
     },
     "metadata": {},
     "output_type": "display_data"
    },
    {
     "name": "stdout",
     "output_type": "stream",
     "text": [
      "Timepoint ID 87 saved out\n"
     ]
    },
    {
     "data": {
      "application/vnd.jupyter.widget-view+json": {
       "model_id": "5e88bcb807ef4f28bbd802124a3d2174",
       "version_major": 2,
       "version_minor": 0
      },
      "text/plain": [
       "Processing Channels (T=88):   0%|          | 0/3 [00:00<?, ?it/s]"
      ]
     },
     "metadata": {},
     "output_type": "display_data"
    },
    {
     "name": "stdout",
     "output_type": "stream",
     "text": [
      "Timepoint ID 88 saved out\n"
     ]
    },
    {
     "data": {
      "application/vnd.jupyter.widget-view+json": {
       "model_id": "fadd62338fdb4c2281f3d58e70461a4c",
       "version_major": 2,
       "version_minor": 0
      },
      "text/plain": [
       "Processing Channels (T=89):   0%|          | 0/3 [00:00<?, ?it/s]"
      ]
     },
     "metadata": {},
     "output_type": "display_data"
    },
    {
     "name": "stdout",
     "output_type": "stream",
     "text": [
      "Timepoint ID 89 saved out\n"
     ]
    },
    {
     "data": {
      "application/vnd.jupyter.widget-view+json": {
       "model_id": "955930ada0d944c3a4c81ffbaa446f3d",
       "version_major": 2,
       "version_minor": 0
      },
      "text/plain": [
       "Processing Channels (T=90):   0%|          | 0/3 [00:00<?, ?it/s]"
      ]
     },
     "metadata": {},
     "output_type": "display_data"
    },
    {
     "name": "stdout",
     "output_type": "stream",
     "text": [
      "Timepoint ID 90 saved out\n"
     ]
    },
    {
     "data": {
      "application/vnd.jupyter.widget-view+json": {
       "model_id": "18a8db8ebeff4763b2b6f798b40b8620",
       "version_major": 2,
       "version_minor": 0
      },
      "text/plain": [
       "Processing Channels (T=91):   0%|          | 0/3 [00:00<?, ?it/s]"
      ]
     },
     "metadata": {},
     "output_type": "display_data"
    },
    {
     "name": "stdout",
     "output_type": "stream",
     "text": [
      "Timepoint ID 91 saved out\n"
     ]
    },
    {
     "data": {
      "application/vnd.jupyter.widget-view+json": {
       "model_id": "397e856f14184ffa992a046c7f29ed45",
       "version_major": 2,
       "version_minor": 0
      },
      "text/plain": [
       "Processing Channels (T=92):   0%|          | 0/3 [00:00<?, ?it/s]"
      ]
     },
     "metadata": {},
     "output_type": "display_data"
    },
    {
     "name": "stdout",
     "output_type": "stream",
     "text": [
      "Timepoint ID 92 saved out\n"
     ]
    },
    {
     "data": {
      "application/vnd.jupyter.widget-view+json": {
       "model_id": "61846a727b3f42d2a14498678c12a152",
       "version_major": 2,
       "version_minor": 0
      },
      "text/plain": [
       "Processing Channels (T=93):   0%|          | 0/3 [00:00<?, ?it/s]"
      ]
     },
     "metadata": {},
     "output_type": "display_data"
    },
    {
     "name": "stdout",
     "output_type": "stream",
     "text": [
      "Timepoint ID 93 saved out\n"
     ]
    },
    {
     "data": {
      "application/vnd.jupyter.widget-view+json": {
       "model_id": "de872276f7c540c3b11e84073498481e",
       "version_major": 2,
       "version_minor": 0
      },
      "text/plain": [
       "Processing Channels (T=94):   0%|          | 0/3 [00:00<?, ?it/s]"
      ]
     },
     "metadata": {},
     "output_type": "display_data"
    },
    {
     "name": "stdout",
     "output_type": "stream",
     "text": [
      "Timepoint ID 94 saved out\n"
     ]
    },
    {
     "data": {
      "application/vnd.jupyter.widget-view+json": {
       "model_id": "3148466dad6442abaabb5ad7dfa3eca3",
       "version_major": 2,
       "version_minor": 0
      },
      "text/plain": [
       "Processing Channels (T=95):   0%|          | 0/3 [00:00<?, ?it/s]"
      ]
     },
     "metadata": {},
     "output_type": "display_data"
    },
    {
     "name": "stdout",
     "output_type": "stream",
     "text": [
      "Timepoint ID 95 saved out\n"
     ]
    },
    {
     "data": {
      "application/vnd.jupyter.widget-view+json": {
       "model_id": "568094d3661348df9dda7ea8ed13a02c",
       "version_major": 2,
       "version_minor": 0
      },
      "text/plain": [
       "Processing Channels (T=96):   0%|          | 0/3 [00:00<?, ?it/s]"
      ]
     },
     "metadata": {},
     "output_type": "display_data"
    },
    {
     "name": "stdout",
     "output_type": "stream",
     "text": [
      "Timepoint ID 96 saved out\n"
     ]
    },
    {
     "data": {
      "application/vnd.jupyter.widget-view+json": {
       "model_id": "a0a7f815cf804e828dee97145109a132",
       "version_major": 2,
       "version_minor": 0
      },
      "text/plain": [
       "Processing Channels (T=97):   0%|          | 0/3 [00:00<?, ?it/s]"
      ]
     },
     "metadata": {},
     "output_type": "display_data"
    },
    {
     "name": "stdout",
     "output_type": "stream",
     "text": [
      "Timepoint ID 97 saved out\n"
     ]
    },
    {
     "data": {
      "application/vnd.jupyter.widget-view+json": {
       "model_id": "05606f96189545ad8cc8da1268fe32b8",
       "version_major": 2,
       "version_minor": 0
      },
      "text/plain": [
       "Processing Channels (T=98):   0%|          | 0/3 [00:00<?, ?it/s]"
      ]
     },
     "metadata": {},
     "output_type": "display_data"
    },
    {
     "name": "stdout",
     "output_type": "stream",
     "text": [
      "Timepoint ID 98 saved out\n"
     ]
    },
    {
     "data": {
      "application/vnd.jupyter.widget-view+json": {
       "model_id": "5a96b93f2feb4ae792e65553e91762ea",
       "version_major": 2,
       "version_minor": 0
      },
      "text/plain": [
       "Processing Channels (T=99):   0%|          | 0/3 [00:00<?, ?it/s]"
      ]
     },
     "metadata": {},
     "output_type": "display_data"
    },
    {
     "name": "stdout",
     "output_type": "stream",
     "text": [
      "Timepoint ID 99 saved out\n"
     ]
    },
    {
     "data": {
      "application/vnd.jupyter.widget-view+json": {
       "model_id": "30eeef42e0b04ea298c9cf7d2bfbb217",
       "version_major": 2,
       "version_minor": 0
      },
      "text/plain": [
       "Processing Channels (T=100):   0%|          | 0/3 [00:00<?, ?it/s]"
      ]
     },
     "metadata": {},
     "output_type": "display_data"
    },
    {
     "name": "stdout",
     "output_type": "stream",
     "text": [
      "Timepoint ID 100 saved out\n"
     ]
    },
    {
     "data": {
      "application/vnd.jupyter.widget-view+json": {
       "model_id": "0ee1b6b672524c81806a95e9bdebcb23",
       "version_major": 2,
       "version_minor": 0
      },
      "text/plain": [
       "Processing Channels (T=101):   0%|          | 0/3 [00:00<?, ?it/s]"
      ]
     },
     "metadata": {},
     "output_type": "display_data"
    },
    {
     "name": "stdout",
     "output_type": "stream",
     "text": [
      "Timepoint ID 101 saved out\n"
     ]
    },
    {
     "data": {
      "application/vnd.jupyter.widget-view+json": {
       "model_id": "c4be575d34954077affb30bdbc2b2973",
       "version_major": 2,
       "version_minor": 0
      },
      "text/plain": [
       "Processing Channels (T=102):   0%|          | 0/3 [00:00<?, ?it/s]"
      ]
     },
     "metadata": {},
     "output_type": "display_data"
    },
    {
     "name": "stdout",
     "output_type": "stream",
     "text": [
      "Timepoint ID 102 saved out\n"
     ]
    },
    {
     "data": {
      "application/vnd.jupyter.widget-view+json": {
       "model_id": "9161ed3ca69d45a1baeb158854adc032",
       "version_major": 2,
       "version_minor": 0
      },
      "text/plain": [
       "Processing Channels (T=103):   0%|          | 0/3 [00:00<?, ?it/s]"
      ]
     },
     "metadata": {},
     "output_type": "display_data"
    },
    {
     "name": "stdout",
     "output_type": "stream",
     "text": [
      "Timepoint ID 103 saved out\n"
     ]
    },
    {
     "data": {
      "application/vnd.jupyter.widget-view+json": {
       "model_id": "26dd27c73e1644c4993e45c73c1fcba5",
       "version_major": 2,
       "version_minor": 0
      },
      "text/plain": [
       "Processing Channels (T=104):   0%|          | 0/3 [00:00<?, ?it/s]"
      ]
     },
     "metadata": {},
     "output_type": "display_data"
    },
    {
     "name": "stdout",
     "output_type": "stream",
     "text": [
      "Timepoint ID 104 saved out\n"
     ]
    },
    {
     "data": {
      "application/vnd.jupyter.widget-view+json": {
       "model_id": "f2197213a1cb4ddfa9fd9f0f50ca53de",
       "version_major": 2,
       "version_minor": 0
      },
      "text/plain": [
       "Processing Channels (T=105):   0%|          | 0/3 [00:00<?, ?it/s]"
      ]
     },
     "metadata": {},
     "output_type": "display_data"
    },
    {
     "name": "stdout",
     "output_type": "stream",
     "text": [
      "Timepoint ID 105 saved out\n"
     ]
    },
    {
     "data": {
      "application/vnd.jupyter.widget-view+json": {
       "model_id": "f5c69c1de42743a3af2490eaa47fe84c",
       "version_major": 2,
       "version_minor": 0
      },
      "text/plain": [
       "Processing Channels (T=106):   0%|          | 0/3 [00:00<?, ?it/s]"
      ]
     },
     "metadata": {},
     "output_type": "display_data"
    },
    {
     "name": "stdout",
     "output_type": "stream",
     "text": [
      "Timepoint ID 106 saved out\n"
     ]
    },
    {
     "data": {
      "application/vnd.jupyter.widget-view+json": {
       "model_id": "e8594440bc124496b7a528096fb21c69",
       "version_major": 2,
       "version_minor": 0
      },
      "text/plain": [
       "Processing Channels (T=107):   0%|          | 0/3 [00:00<?, ?it/s]"
      ]
     },
     "metadata": {},
     "output_type": "display_data"
    },
    {
     "name": "stdout",
     "output_type": "stream",
     "text": [
      "Timepoint ID 107 saved out\n"
     ]
    },
    {
     "data": {
      "application/vnd.jupyter.widget-view+json": {
       "model_id": "1ce57757a1234a5f940a9d4952eac7b8",
       "version_major": 2,
       "version_minor": 0
      },
      "text/plain": [
       "Processing Channels (T=108):   0%|          | 0/3 [00:00<?, ?it/s]"
      ]
     },
     "metadata": {},
     "output_type": "display_data"
    },
    {
     "name": "stdout",
     "output_type": "stream",
     "text": [
      "Timepoint ID 108 saved out\n"
     ]
    },
    {
     "data": {
      "application/vnd.jupyter.widget-view+json": {
       "model_id": "b2c60c19672845e5b17fdf02428174d5",
       "version_major": 2,
       "version_minor": 0
      },
      "text/plain": [
       "Processing Channels (T=109):   0%|          | 0/3 [00:00<?, ?it/s]"
      ]
     },
     "metadata": {},
     "output_type": "display_data"
    },
    {
     "name": "stdout",
     "output_type": "stream",
     "text": [
      "Timepoint ID 109 saved out\n"
     ]
    },
    {
     "data": {
      "application/vnd.jupyter.widget-view+json": {
       "model_id": "a80f1553018d4000a67c22ca635c6ed4",
       "version_major": 2,
       "version_minor": 0
      },
      "text/plain": [
       "Processing Channels (T=110):   0%|          | 0/3 [00:00<?, ?it/s]"
      ]
     },
     "metadata": {},
     "output_type": "display_data"
    },
    {
     "name": "stdout",
     "output_type": "stream",
     "text": [
      "Timepoint ID 110 saved out\n"
     ]
    },
    {
     "data": {
      "application/vnd.jupyter.widget-view+json": {
       "model_id": "9e0f350e1bcb4d32833edb9dd3a8259b",
       "version_major": 2,
       "version_minor": 0
      },
      "text/plain": [
       "Processing Channels (T=111):   0%|          | 0/3 [00:00<?, ?it/s]"
      ]
     },
     "metadata": {},
     "output_type": "display_data"
    },
    {
     "name": "stdout",
     "output_type": "stream",
     "text": [
      "Timepoint ID 111 saved out\n"
     ]
    },
    {
     "data": {
      "application/vnd.jupyter.widget-view+json": {
       "model_id": "af9a9e0f7dda4fdea8a8bd533a0eb4cd",
       "version_major": 2,
       "version_minor": 0
      },
      "text/plain": [
       "Processing Channels (T=112):   0%|          | 0/3 [00:00<?, ?it/s]"
      ]
     },
     "metadata": {},
     "output_type": "display_data"
    },
    {
     "name": "stdout",
     "output_type": "stream",
     "text": [
      "Timepoint ID 112 saved out\n"
     ]
    },
    {
     "data": {
      "application/vnd.jupyter.widget-view+json": {
       "model_id": "e70cd7ce4b844e55a54e57c6303a69a8",
       "version_major": 2,
       "version_minor": 0
      },
      "text/plain": [
       "Processing Channels (T=113):   0%|          | 0/3 [00:00<?, ?it/s]"
      ]
     },
     "metadata": {},
     "output_type": "display_data"
    },
    {
     "name": "stdout",
     "output_type": "stream",
     "text": [
      "Timepoint ID 113 saved out\n"
     ]
    },
    {
     "data": {
      "application/vnd.jupyter.widget-view+json": {
       "model_id": "623f7f6cad0b4693b73767ddbe9440ec",
       "version_major": 2,
       "version_minor": 0
      },
      "text/plain": [
       "Processing Channels (T=114):   0%|          | 0/3 [00:00<?, ?it/s]"
      ]
     },
     "metadata": {},
     "output_type": "display_data"
    },
    {
     "name": "stdout",
     "output_type": "stream",
     "text": [
      "Timepoint ID 114 saved out\n"
     ]
    },
    {
     "data": {
      "application/vnd.jupyter.widget-view+json": {
       "model_id": "0e109cefc05d47f2b5b3a7a7cebd7d95",
       "version_major": 2,
       "version_minor": 0
      },
      "text/plain": [
       "Processing Channels (T=115):   0%|          | 0/3 [00:00<?, ?it/s]"
      ]
     },
     "metadata": {},
     "output_type": "display_data"
    },
    {
     "name": "stdout",
     "output_type": "stream",
     "text": [
      "Timepoint ID 115 saved out\n"
     ]
    },
    {
     "data": {
      "application/vnd.jupyter.widget-view+json": {
       "model_id": "874bfe4ef1364f268f578f74dd35d177",
       "version_major": 2,
       "version_minor": 0
      },
      "text/plain": [
       "Processing Channels (T=116):   0%|          | 0/3 [00:00<?, ?it/s]"
      ]
     },
     "metadata": {},
     "output_type": "display_data"
    },
    {
     "name": "stdout",
     "output_type": "stream",
     "text": [
      "Timepoint ID 116 saved out\n"
     ]
    },
    {
     "data": {
      "application/vnd.jupyter.widget-view+json": {
       "model_id": "048fb89104314a709412ba277a33c3f5",
       "version_major": 2,
       "version_minor": 0
      },
      "text/plain": [
       "Processing Channels (T=117):   0%|          | 0/3 [00:00<?, ?it/s]"
      ]
     },
     "metadata": {},
     "output_type": "display_data"
    },
    {
     "name": "stdout",
     "output_type": "stream",
     "text": [
      "Timepoint ID 117 saved out\n"
     ]
    },
    {
     "data": {
      "application/vnd.jupyter.widget-view+json": {
       "model_id": "d08f185152c3491290bf91cf9291c245",
       "version_major": 2,
       "version_minor": 0
      },
      "text/plain": [
       "Processing Channels (T=118):   0%|          | 0/3 [00:00<?, ?it/s]"
      ]
     },
     "metadata": {},
     "output_type": "display_data"
    },
    {
     "name": "stdout",
     "output_type": "stream",
     "text": [
      "Timepoint ID 118 saved out\n"
     ]
    },
    {
     "data": {
      "application/vnd.jupyter.widget-view+json": {
       "model_id": "4afc3516081f4633998ee0baf3793702",
       "version_major": 2,
       "version_minor": 0
      },
      "text/plain": [
       "Processing Channels (T=119):   0%|          | 0/3 [00:00<?, ?it/s]"
      ]
     },
     "metadata": {},
     "output_type": "display_data"
    },
    {
     "name": "stdout",
     "output_type": "stream",
     "text": [
      "Timepoint ID 119 saved out\n"
     ]
    },
    {
     "data": {
      "application/vnd.jupyter.widget-view+json": {
       "model_id": "10546608b262447e8dac013e986d1b67",
       "version_major": 2,
       "version_minor": 0
      },
      "text/plain": [
       "Processing Channels (T=120):   0%|          | 0/3 [00:00<?, ?it/s]"
      ]
     },
     "metadata": {},
     "output_type": "display_data"
    },
    {
     "name": "stdout",
     "output_type": "stream",
     "text": [
      "Timepoint ID 120 saved out\n"
     ]
    },
    {
     "data": {
      "application/vnd.jupyter.widget-view+json": {
       "model_id": "c5dbb6763348410b8d67b40a689fd147",
       "version_major": 2,
       "version_minor": 0
      },
      "text/plain": [
       "Processing Channels (T=121):   0%|          | 0/3 [00:00<?, ?it/s]"
      ]
     },
     "metadata": {},
     "output_type": "display_data"
    },
    {
     "name": "stdout",
     "output_type": "stream",
     "text": [
      "Timepoint ID 121 saved out\n"
     ]
    },
    {
     "data": {
      "application/vnd.jupyter.widget-view+json": {
       "model_id": "5859770a60e94f0c9646ef666eb142e7",
       "version_major": 2,
       "version_minor": 0
      },
      "text/plain": [
       "Processing Channels (T=122):   0%|          | 0/3 [00:00<?, ?it/s]"
      ]
     },
     "metadata": {},
     "output_type": "display_data"
    },
    {
     "name": "stdout",
     "output_type": "stream",
     "text": [
      "Timepoint ID 122 saved out\n"
     ]
    },
    {
     "data": {
      "application/vnd.jupyter.widget-view+json": {
       "model_id": "3eda962e44a04e939977151cf79ca560",
       "version_major": 2,
       "version_minor": 0
      },
      "text/plain": [
       "Processing Channels (T=123):   0%|          | 0/3 [00:00<?, ?it/s]"
      ]
     },
     "metadata": {},
     "output_type": "display_data"
    },
    {
     "name": "stdout",
     "output_type": "stream",
     "text": [
      "Timepoint ID 123 saved out\n"
     ]
    },
    {
     "data": {
      "application/vnd.jupyter.widget-view+json": {
       "model_id": "1db130ea3f31459d9e9443b53fc61bca",
       "version_major": 2,
       "version_minor": 0
      },
      "text/plain": [
       "Processing Channels (T=124):   0%|          | 0/3 [00:00<?, ?it/s]"
      ]
     },
     "metadata": {},
     "output_type": "display_data"
    },
    {
     "name": "stdout",
     "output_type": "stream",
     "text": [
      "Timepoint ID 124 saved out\n"
     ]
    },
    {
     "data": {
      "application/vnd.jupyter.widget-view+json": {
       "model_id": "5910bbf744fb4d1aa0d380fdd8d05619",
       "version_major": 2,
       "version_minor": 0
      },
      "text/plain": [
       "Processing Channels (T=125):   0%|          | 0/3 [00:00<?, ?it/s]"
      ]
     },
     "metadata": {},
     "output_type": "display_data"
    },
    {
     "name": "stdout",
     "output_type": "stream",
     "text": [
      "Timepoint ID 125 saved out\n"
     ]
    },
    {
     "data": {
      "application/vnd.jupyter.widget-view+json": {
       "model_id": "63ea25352977465ebb84349a8b26cac4",
       "version_major": 2,
       "version_minor": 0
      },
      "text/plain": [
       "Processing Channels (T=126):   0%|          | 0/3 [00:00<?, ?it/s]"
      ]
     },
     "metadata": {},
     "output_type": "display_data"
    },
    {
     "name": "stdout",
     "output_type": "stream",
     "text": [
      "Timepoint ID 126 saved out\n"
     ]
    },
    {
     "data": {
      "application/vnd.jupyter.widget-view+json": {
       "model_id": "a8241357b9764a958d47f3b18a304d5e",
       "version_major": 2,
       "version_minor": 0
      },
      "text/plain": [
       "Processing Channels (T=127):   0%|          | 0/3 [00:00<?, ?it/s]"
      ]
     },
     "metadata": {},
     "output_type": "display_data"
    },
    {
     "name": "stdout",
     "output_type": "stream",
     "text": [
      "Timepoint ID 127 saved out\n"
     ]
    },
    {
     "data": {
      "application/vnd.jupyter.widget-view+json": {
       "model_id": "2c5e46fa650b4ea69e2dc6c8a3e91d03",
       "version_major": 2,
       "version_minor": 0
      },
      "text/plain": [
       "Processing Channels (T=128):   0%|          | 0/3 [00:00<?, ?it/s]"
      ]
     },
     "metadata": {},
     "output_type": "display_data"
    },
    {
     "name": "stdout",
     "output_type": "stream",
     "text": [
      "Timepoint ID 128 saved out\n"
     ]
    },
    {
     "data": {
      "application/vnd.jupyter.widget-view+json": {
       "model_id": "2fc1f168080147aa83d8a5fc27a61303",
       "version_major": 2,
       "version_minor": 0
      },
      "text/plain": [
       "Processing Channels (T=129):   0%|          | 0/3 [00:00<?, ?it/s]"
      ]
     },
     "metadata": {},
     "output_type": "display_data"
    },
    {
     "name": "stdout",
     "output_type": "stream",
     "text": [
      "Timepoint ID 129 saved out\n"
     ]
    },
    {
     "data": {
      "application/vnd.jupyter.widget-view+json": {
       "model_id": "0239dee6eabf4b24a5d2b4433739e8ee",
       "version_major": 2,
       "version_minor": 0
      },
      "text/plain": [
       "Processing Channels (T=130):   0%|          | 0/3 [00:00<?, ?it/s]"
      ]
     },
     "metadata": {},
     "output_type": "display_data"
    },
    {
     "name": "stdout",
     "output_type": "stream",
     "text": [
      "Timepoint ID 130 saved out\n"
     ]
    },
    {
     "data": {
      "application/vnd.jupyter.widget-view+json": {
       "model_id": "65b99db73d0e4d6ba86296d5f8ef9477",
       "version_major": 2,
       "version_minor": 0
      },
      "text/plain": [
       "Processing Channels (T=131):   0%|          | 0/3 [00:00<?, ?it/s]"
      ]
     },
     "metadata": {},
     "output_type": "display_data"
    },
    {
     "name": "stdout",
     "output_type": "stream",
     "text": [
      "Timepoint ID 131 saved out\n"
     ]
    },
    {
     "data": {
      "application/vnd.jupyter.widget-view+json": {
       "model_id": "6b7d514143944675a805af0e845e9fe2",
       "version_major": 2,
       "version_minor": 0
      },
      "text/plain": [
       "Processing Channels (T=132):   0%|          | 0/3 [00:00<?, ?it/s]"
      ]
     },
     "metadata": {},
     "output_type": "display_data"
    },
    {
     "name": "stdout",
     "output_type": "stream",
     "text": [
      "Timepoint ID 132 saved out\n"
     ]
    },
    {
     "data": {
      "application/vnd.jupyter.widget-view+json": {
       "model_id": "7134eb8d3f184e9ebc295268d7436f5b",
       "version_major": 2,
       "version_minor": 0
      },
      "text/plain": [
       "Processing Channels (T=133):   0%|          | 0/3 [00:00<?, ?it/s]"
      ]
     },
     "metadata": {},
     "output_type": "display_data"
    },
    {
     "name": "stdout",
     "output_type": "stream",
     "text": [
      "Timepoint ID 133 saved out\n"
     ]
    },
    {
     "data": {
      "application/vnd.jupyter.widget-view+json": {
       "model_id": "f3fbb3f3e58045ccb795c6f23cfd9377",
       "version_major": 2,
       "version_minor": 0
      },
      "text/plain": [
       "Processing Channels (T=134):   0%|          | 0/3 [00:00<?, ?it/s]"
      ]
     },
     "metadata": {},
     "output_type": "display_data"
    },
    {
     "name": "stdout",
     "output_type": "stream",
     "text": [
      "Timepoint ID 134 saved out\n"
     ]
    },
    {
     "data": {
      "application/vnd.jupyter.widget-view+json": {
       "model_id": "bdd91a22607648cb81e390b29cfc678e",
       "version_major": 2,
       "version_minor": 0
      },
      "text/plain": [
       "Processing Channels (T=135):   0%|          | 0/3 [00:00<?, ?it/s]"
      ]
     },
     "metadata": {},
     "output_type": "display_data"
    },
    {
     "name": "stdout",
     "output_type": "stream",
     "text": [
      "Timepoint ID 135 saved out\n"
     ]
    },
    {
     "data": {
      "application/vnd.jupyter.widget-view+json": {
       "model_id": "e34a13665ed34e068e9f1319b2d3049a",
       "version_major": 2,
       "version_minor": 0
      },
      "text/plain": [
       "Processing Channels (T=136):   0%|          | 0/3 [00:00<?, ?it/s]"
      ]
     },
     "metadata": {},
     "output_type": "display_data"
    },
    {
     "name": "stdout",
     "output_type": "stream",
     "text": [
      "Timepoint ID 136 saved out\n"
     ]
    },
    {
     "data": {
      "application/vnd.jupyter.widget-view+json": {
       "model_id": "41750f886a3c4e5b8abb3cfbb27bce84",
       "version_major": 2,
       "version_minor": 0
      },
      "text/plain": [
       "Processing Channels (T=137):   0%|          | 0/3 [00:00<?, ?it/s]"
      ]
     },
     "metadata": {},
     "output_type": "display_data"
    },
    {
     "name": "stdout",
     "output_type": "stream",
     "text": [
      "Timepoint ID 137 saved out\n"
     ]
    },
    {
     "data": {
      "application/vnd.jupyter.widget-view+json": {
       "model_id": "1c3ac14e840743768653cc6f93f65cd2",
       "version_major": 2,
       "version_minor": 0
      },
      "text/plain": [
       "Processing Channels (T=138):   0%|          | 0/3 [00:00<?, ?it/s]"
      ]
     },
     "metadata": {},
     "output_type": "display_data"
    },
    {
     "name": "stdout",
     "output_type": "stream",
     "text": [
      "Timepoint ID 138 saved out\n"
     ]
    },
    {
     "data": {
      "application/vnd.jupyter.widget-view+json": {
       "model_id": "a096c03e5a2d4d31aa8ac826e603c571",
       "version_major": 2,
       "version_minor": 0
      },
      "text/plain": [
       "Processing Channels (T=139):   0%|          | 0/3 [00:00<?, ?it/s]"
      ]
     },
     "metadata": {},
     "output_type": "display_data"
    },
    {
     "name": "stdout",
     "output_type": "stream",
     "text": [
      "Timepoint ID 139 saved out\n"
     ]
    },
    {
     "data": {
      "application/vnd.jupyter.widget-view+json": {
       "model_id": "03a2b81850304772aa82f8f774b8d70b",
       "version_major": 2,
       "version_minor": 0
      },
      "text/plain": [
       "Processing Channels (T=140):   0%|          | 0/3 [00:00<?, ?it/s]"
      ]
     },
     "metadata": {},
     "output_type": "display_data"
    },
    {
     "name": "stdout",
     "output_type": "stream",
     "text": [
      "Timepoint ID 140 saved out\n"
     ]
    },
    {
     "data": {
      "application/vnd.jupyter.widget-view+json": {
       "model_id": "3a6030e8de39467091cb6322396e3d61",
       "version_major": 2,
       "version_minor": 0
      },
      "text/plain": [
       "Processing Channels (T=141):   0%|          | 0/3 [00:00<?, ?it/s]"
      ]
     },
     "metadata": {},
     "output_type": "display_data"
    },
    {
     "name": "stdout",
     "output_type": "stream",
     "text": [
      "Timepoint ID 141 saved out\n"
     ]
    },
    {
     "data": {
      "application/vnd.jupyter.widget-view+json": {
       "model_id": "7bc9d1deb88246398ed5e08cca61e66c",
       "version_major": 2,
       "version_minor": 0
      },
      "text/plain": [
       "Processing Channels (T=142):   0%|          | 0/3 [00:00<?, ?it/s]"
      ]
     },
     "metadata": {},
     "output_type": "display_data"
    },
    {
     "name": "stdout",
     "output_type": "stream",
     "text": [
      "Timepoint ID 142 saved out\n"
     ]
    },
    {
     "data": {
      "application/vnd.jupyter.widget-view+json": {
       "model_id": "04d12100fe96467298651e39526686f1",
       "version_major": 2,
       "version_minor": 0
      },
      "text/plain": [
       "Processing Channels (T=143):   0%|          | 0/3 [00:00<?, ?it/s]"
      ]
     },
     "metadata": {},
     "output_type": "display_data"
    },
    {
     "name": "stdout",
     "output_type": "stream",
     "text": [
      "Timepoint ID 143 saved out\n"
     ]
    },
    {
     "data": {
      "application/vnd.jupyter.widget-view+json": {
       "model_id": "011aeb125ca4496391b226dfa69df89e",
       "version_major": 2,
       "version_minor": 0
      },
      "text/plain": [
       "Processing Time Points:   0%|          | 0/144 [00:00<?, ?it/s]"
      ]
     },
     "metadata": {},
     "output_type": "display_data"
    },
    {
     "data": {
      "application/vnd.jupyter.widget-view+json": {
       "model_id": "454dfda6c71847ae9f5330d27c92775e",
       "version_major": 2,
       "version_minor": 0
      },
      "text/plain": [
       "Processing Channels (T=0):   0%|          | 0/3 [00:00<?, ?it/s]"
      ]
     },
     "metadata": {},
     "output_type": "display_data"
    },
    {
     "name": "stdout",
     "output_type": "stream",
     "text": [
      "Timepoint ID 0 saved out\n"
     ]
    },
    {
     "data": {
      "application/vnd.jupyter.widget-view+json": {
       "model_id": "e743e16ea9c74896933262e301acdc8f",
       "version_major": 2,
       "version_minor": 0
      },
      "text/plain": [
       "Processing Channels (T=1):   0%|          | 0/3 [00:00<?, ?it/s]"
      ]
     },
     "metadata": {},
     "output_type": "display_data"
    },
    {
     "name": "stdout",
     "output_type": "stream",
     "text": [
      "Timepoint ID 1 saved out\n"
     ]
    },
    {
     "data": {
      "application/vnd.jupyter.widget-view+json": {
       "model_id": "8e72f9cbc250477297a2e295238d314b",
       "version_major": 2,
       "version_minor": 0
      },
      "text/plain": [
       "Processing Channels (T=2):   0%|          | 0/3 [00:00<?, ?it/s]"
      ]
     },
     "metadata": {},
     "output_type": "display_data"
    },
    {
     "name": "stdout",
     "output_type": "stream",
     "text": [
      "Timepoint ID 2 saved out\n"
     ]
    },
    {
     "data": {
      "application/vnd.jupyter.widget-view+json": {
       "model_id": "8c9518481e4345fc95107af2d5ae689e",
       "version_major": 2,
       "version_minor": 0
      },
      "text/plain": [
       "Processing Channels (T=3):   0%|          | 0/3 [00:00<?, ?it/s]"
      ]
     },
     "metadata": {},
     "output_type": "display_data"
    },
    {
     "name": "stdout",
     "output_type": "stream",
     "text": [
      "Timepoint ID 3 saved out\n"
     ]
    },
    {
     "data": {
      "application/vnd.jupyter.widget-view+json": {
       "model_id": "50035bf26cbc4d8fa317aa517c299b8f",
       "version_major": 2,
       "version_minor": 0
      },
      "text/plain": [
       "Processing Channels (T=4):   0%|          | 0/3 [00:00<?, ?it/s]"
      ]
     },
     "metadata": {},
     "output_type": "display_data"
    },
    {
     "name": "stdout",
     "output_type": "stream",
     "text": [
      "Timepoint ID 4 saved out\n"
     ]
    },
    {
     "data": {
      "application/vnd.jupyter.widget-view+json": {
       "model_id": "f864853e855f4573bfe8c9aa18951bfa",
       "version_major": 2,
       "version_minor": 0
      },
      "text/plain": [
       "Processing Channels (T=5):   0%|          | 0/3 [00:00<?, ?it/s]"
      ]
     },
     "metadata": {},
     "output_type": "display_data"
    },
    {
     "name": "stdout",
     "output_type": "stream",
     "text": [
      "Timepoint ID 5 saved out\n"
     ]
    },
    {
     "data": {
      "application/vnd.jupyter.widget-view+json": {
       "model_id": "cbed4db0f4a14c2abbeb44eb8704d32f",
       "version_major": 2,
       "version_minor": 0
      },
      "text/plain": [
       "Processing Channels (T=6):   0%|          | 0/3 [00:00<?, ?it/s]"
      ]
     },
     "metadata": {},
     "output_type": "display_data"
    },
    {
     "name": "stdout",
     "output_type": "stream",
     "text": [
      "Timepoint ID 6 saved out\n"
     ]
    },
    {
     "data": {
      "application/vnd.jupyter.widget-view+json": {
       "model_id": "cbfcaec390d646128f575dbc173c5da1",
       "version_major": 2,
       "version_minor": 0
      },
      "text/plain": [
       "Processing Channels (T=7):   0%|          | 0/3 [00:00<?, ?it/s]"
      ]
     },
     "metadata": {},
     "output_type": "display_data"
    },
    {
     "name": "stdout",
     "output_type": "stream",
     "text": [
      "Timepoint ID 7 saved out\n"
     ]
    },
    {
     "data": {
      "application/vnd.jupyter.widget-view+json": {
       "model_id": "136e394337f14b1fb0fad8bb5e979c6e",
       "version_major": 2,
       "version_minor": 0
      },
      "text/plain": [
       "Processing Channels (T=8):   0%|          | 0/3 [00:00<?, ?it/s]"
      ]
     },
     "metadata": {},
     "output_type": "display_data"
    },
    {
     "name": "stdout",
     "output_type": "stream",
     "text": [
      "Timepoint ID 8 saved out\n"
     ]
    },
    {
     "data": {
      "application/vnd.jupyter.widget-view+json": {
       "model_id": "ce0737c3252540c4adfc88d5b0c50b72",
       "version_major": 2,
       "version_minor": 0
      },
      "text/plain": [
       "Processing Channels (T=9):   0%|          | 0/3 [00:00<?, ?it/s]"
      ]
     },
     "metadata": {},
     "output_type": "display_data"
    },
    {
     "name": "stdout",
     "output_type": "stream",
     "text": [
      "Timepoint ID 9 saved out\n"
     ]
    },
    {
     "data": {
      "application/vnd.jupyter.widget-view+json": {
       "model_id": "69ae4ee7504b4af1ba5bc008857950c8",
       "version_major": 2,
       "version_minor": 0
      },
      "text/plain": [
       "Processing Channels (T=10):   0%|          | 0/3 [00:00<?, ?it/s]"
      ]
     },
     "metadata": {},
     "output_type": "display_data"
    },
    {
     "name": "stdout",
     "output_type": "stream",
     "text": [
      "Timepoint ID 10 saved out\n"
     ]
    },
    {
     "data": {
      "application/vnd.jupyter.widget-view+json": {
       "model_id": "de1b966297ad4414a454fe6509eb98f9",
       "version_major": 2,
       "version_minor": 0
      },
      "text/plain": [
       "Processing Channels (T=11):   0%|          | 0/3 [00:00<?, ?it/s]"
      ]
     },
     "metadata": {},
     "output_type": "display_data"
    },
    {
     "name": "stdout",
     "output_type": "stream",
     "text": [
      "Timepoint ID 11 saved out\n"
     ]
    },
    {
     "data": {
      "application/vnd.jupyter.widget-view+json": {
       "model_id": "2299c0b8d3ee4591a6981a2b9eb8bebc",
       "version_major": 2,
       "version_minor": 0
      },
      "text/plain": [
       "Processing Channels (T=12):   0%|          | 0/3 [00:00<?, ?it/s]"
      ]
     },
     "metadata": {},
     "output_type": "display_data"
    },
    {
     "name": "stdout",
     "output_type": "stream",
     "text": [
      "Timepoint ID 12 saved out\n"
     ]
    },
    {
     "data": {
      "application/vnd.jupyter.widget-view+json": {
       "model_id": "d656b2189c7941688eff91cd16f7c009",
       "version_major": 2,
       "version_minor": 0
      },
      "text/plain": [
       "Processing Channels (T=13):   0%|          | 0/3 [00:00<?, ?it/s]"
      ]
     },
     "metadata": {},
     "output_type": "display_data"
    },
    {
     "name": "stdout",
     "output_type": "stream",
     "text": [
      "Timepoint ID 13 saved out\n"
     ]
    },
    {
     "data": {
      "application/vnd.jupyter.widget-view+json": {
       "model_id": "4ed8ba2be4d04134bf086fe7ba9d7ddb",
       "version_major": 2,
       "version_minor": 0
      },
      "text/plain": [
       "Processing Channels (T=14):   0%|          | 0/3 [00:00<?, ?it/s]"
      ]
     },
     "metadata": {},
     "output_type": "display_data"
    },
    {
     "name": "stdout",
     "output_type": "stream",
     "text": [
      "Timepoint ID 14 saved out\n"
     ]
    },
    {
     "data": {
      "application/vnd.jupyter.widget-view+json": {
       "model_id": "658da4a8e05842e79ba9b5a03028581d",
       "version_major": 2,
       "version_minor": 0
      },
      "text/plain": [
       "Processing Channels (T=15):   0%|          | 0/3 [00:00<?, ?it/s]"
      ]
     },
     "metadata": {},
     "output_type": "display_data"
    },
    {
     "name": "stdout",
     "output_type": "stream",
     "text": [
      "Timepoint ID 15 saved out\n"
     ]
    },
    {
     "data": {
      "application/vnd.jupyter.widget-view+json": {
       "model_id": "fcc7efe68c1647b485c2deb98df9bb7c",
       "version_major": 2,
       "version_minor": 0
      },
      "text/plain": [
       "Processing Channels (T=16):   0%|          | 0/3 [00:00<?, ?it/s]"
      ]
     },
     "metadata": {},
     "output_type": "display_data"
    },
    {
     "name": "stdout",
     "output_type": "stream",
     "text": [
      "Timepoint ID 16 saved out\n"
     ]
    },
    {
     "data": {
      "application/vnd.jupyter.widget-view+json": {
       "model_id": "46724f9b325d4293b99e78e771d57be8",
       "version_major": 2,
       "version_minor": 0
      },
      "text/plain": [
       "Processing Channels (T=17):   0%|          | 0/3 [00:00<?, ?it/s]"
      ]
     },
     "metadata": {},
     "output_type": "display_data"
    },
    {
     "name": "stdout",
     "output_type": "stream",
     "text": [
      "Timepoint ID 17 saved out\n"
     ]
    },
    {
     "data": {
      "application/vnd.jupyter.widget-view+json": {
       "model_id": "25f284b0313148da9a385573d7d708ac",
       "version_major": 2,
       "version_minor": 0
      },
      "text/plain": [
       "Processing Channels (T=18):   0%|          | 0/3 [00:00<?, ?it/s]"
      ]
     },
     "metadata": {},
     "output_type": "display_data"
    },
    {
     "name": "stdout",
     "output_type": "stream",
     "text": [
      "Timepoint ID 18 saved out\n"
     ]
    },
    {
     "data": {
      "application/vnd.jupyter.widget-view+json": {
       "model_id": "7d4ce9bae359463bb5a452a458ca7d57",
       "version_major": 2,
       "version_minor": 0
      },
      "text/plain": [
       "Processing Channels (T=19):   0%|          | 0/3 [00:00<?, ?it/s]"
      ]
     },
     "metadata": {},
     "output_type": "display_data"
    },
    {
     "name": "stdout",
     "output_type": "stream",
     "text": [
      "Timepoint ID 19 saved out\n"
     ]
    },
    {
     "data": {
      "application/vnd.jupyter.widget-view+json": {
       "model_id": "b7eb3fb6b4f94eada1d3231c0847914f",
       "version_major": 2,
       "version_minor": 0
      },
      "text/plain": [
       "Processing Channels (T=20):   0%|          | 0/3 [00:00<?, ?it/s]"
      ]
     },
     "metadata": {},
     "output_type": "display_data"
    },
    {
     "name": "stdout",
     "output_type": "stream",
     "text": [
      "Timepoint ID 20 saved out\n"
     ]
    },
    {
     "data": {
      "application/vnd.jupyter.widget-view+json": {
       "model_id": "f5d1110e3b684d30965a63121ac1cd00",
       "version_major": 2,
       "version_minor": 0
      },
      "text/plain": [
       "Processing Channels (T=21):   0%|          | 0/3 [00:00<?, ?it/s]"
      ]
     },
     "metadata": {},
     "output_type": "display_data"
    },
    {
     "name": "stdout",
     "output_type": "stream",
     "text": [
      "Timepoint ID 21 saved out\n"
     ]
    },
    {
     "data": {
      "application/vnd.jupyter.widget-view+json": {
       "model_id": "771ed92c2b2945838cf5b7de0335a7c9",
       "version_major": 2,
       "version_minor": 0
      },
      "text/plain": [
       "Processing Channels (T=22):   0%|          | 0/3 [00:00<?, ?it/s]"
      ]
     },
     "metadata": {},
     "output_type": "display_data"
    },
    {
     "name": "stdout",
     "output_type": "stream",
     "text": [
      "Timepoint ID 22 saved out\n"
     ]
    },
    {
     "data": {
      "application/vnd.jupyter.widget-view+json": {
       "model_id": "5c4a3b2b312a416fbe293b96e4ad6a7f",
       "version_major": 2,
       "version_minor": 0
      },
      "text/plain": [
       "Processing Channels (T=23):   0%|          | 0/3 [00:00<?, ?it/s]"
      ]
     },
     "metadata": {},
     "output_type": "display_data"
    },
    {
     "name": "stdout",
     "output_type": "stream",
     "text": [
      "Timepoint ID 23 saved out\n"
     ]
    },
    {
     "data": {
      "application/vnd.jupyter.widget-view+json": {
       "model_id": "8942d64bd16b41d688f696f0633ae2c6",
       "version_major": 2,
       "version_minor": 0
      },
      "text/plain": [
       "Processing Channels (T=24):   0%|          | 0/3 [00:00<?, ?it/s]"
      ]
     },
     "metadata": {},
     "output_type": "display_data"
    },
    {
     "name": "stdout",
     "output_type": "stream",
     "text": [
      "Timepoint ID 24 saved out\n"
     ]
    },
    {
     "data": {
      "application/vnd.jupyter.widget-view+json": {
       "model_id": "46c7ae8a6025458cbfb37b07fe714f0e",
       "version_major": 2,
       "version_minor": 0
      },
      "text/plain": [
       "Processing Channels (T=25):   0%|          | 0/3 [00:00<?, ?it/s]"
      ]
     },
     "metadata": {},
     "output_type": "display_data"
    },
    {
     "name": "stdout",
     "output_type": "stream",
     "text": [
      "Timepoint ID 25 saved out\n"
     ]
    },
    {
     "data": {
      "application/vnd.jupyter.widget-view+json": {
       "model_id": "7eb6821caa6b40e594cd46788ac8b641",
       "version_major": 2,
       "version_minor": 0
      },
      "text/plain": [
       "Processing Channels (T=26):   0%|          | 0/3 [00:00<?, ?it/s]"
      ]
     },
     "metadata": {},
     "output_type": "display_data"
    },
    {
     "name": "stdout",
     "output_type": "stream",
     "text": [
      "Timepoint ID 26 saved out\n"
     ]
    },
    {
     "data": {
      "application/vnd.jupyter.widget-view+json": {
       "model_id": "7a1ca15f4992448b8def228b2afaaeab",
       "version_major": 2,
       "version_minor": 0
      },
      "text/plain": [
       "Processing Channels (T=27):   0%|          | 0/3 [00:00<?, ?it/s]"
      ]
     },
     "metadata": {},
     "output_type": "display_data"
    },
    {
     "name": "stdout",
     "output_type": "stream",
     "text": [
      "Timepoint ID 27 saved out\n"
     ]
    },
    {
     "data": {
      "application/vnd.jupyter.widget-view+json": {
       "model_id": "d531b1ac564c4c69bbc665ad434721f4",
       "version_major": 2,
       "version_minor": 0
      },
      "text/plain": [
       "Processing Channels (T=28):   0%|          | 0/3 [00:00<?, ?it/s]"
      ]
     },
     "metadata": {},
     "output_type": "display_data"
    },
    {
     "name": "stdout",
     "output_type": "stream",
     "text": [
      "Timepoint ID 28 saved out\n"
     ]
    },
    {
     "data": {
      "application/vnd.jupyter.widget-view+json": {
       "model_id": "c99fadd42e4d4fe885b54788018df02a",
       "version_major": 2,
       "version_minor": 0
      },
      "text/plain": [
       "Processing Channels (T=29):   0%|          | 0/3 [00:00<?, ?it/s]"
      ]
     },
     "metadata": {},
     "output_type": "display_data"
    },
    {
     "name": "stdout",
     "output_type": "stream",
     "text": [
      "Timepoint ID 29 saved out\n"
     ]
    },
    {
     "data": {
      "application/vnd.jupyter.widget-view+json": {
       "model_id": "f585e32f5b6c473eac7152ecfd6efaad",
       "version_major": 2,
       "version_minor": 0
      },
      "text/plain": [
       "Processing Channels (T=30):   0%|          | 0/3 [00:00<?, ?it/s]"
      ]
     },
     "metadata": {},
     "output_type": "display_data"
    },
    {
     "name": "stdout",
     "output_type": "stream",
     "text": [
      "Timepoint ID 30 saved out\n"
     ]
    },
    {
     "data": {
      "application/vnd.jupyter.widget-view+json": {
       "model_id": "57db56ce7da749bd914cdcd6eb3e14f3",
       "version_major": 2,
       "version_minor": 0
      },
      "text/plain": [
       "Processing Channels (T=31):   0%|          | 0/3 [00:00<?, ?it/s]"
      ]
     },
     "metadata": {},
     "output_type": "display_data"
    },
    {
     "name": "stdout",
     "output_type": "stream",
     "text": [
      "Timepoint ID 31 saved out\n"
     ]
    },
    {
     "data": {
      "application/vnd.jupyter.widget-view+json": {
       "model_id": "169365ca5a124d2a81d880ea2be07ab4",
       "version_major": 2,
       "version_minor": 0
      },
      "text/plain": [
       "Processing Channels (T=32):   0%|          | 0/3 [00:00<?, ?it/s]"
      ]
     },
     "metadata": {},
     "output_type": "display_data"
    },
    {
     "name": "stdout",
     "output_type": "stream",
     "text": [
      "Timepoint ID 32 saved out\n"
     ]
    },
    {
     "data": {
      "application/vnd.jupyter.widget-view+json": {
       "model_id": "e766004c154941279ed5d834528f04d3",
       "version_major": 2,
       "version_minor": 0
      },
      "text/plain": [
       "Processing Channels (T=33):   0%|          | 0/3 [00:00<?, ?it/s]"
      ]
     },
     "metadata": {},
     "output_type": "display_data"
    },
    {
     "name": "stdout",
     "output_type": "stream",
     "text": [
      "Timepoint ID 33 saved out\n"
     ]
    },
    {
     "data": {
      "application/vnd.jupyter.widget-view+json": {
       "model_id": "8084a7bb46f94781b147d7a4ba8cb973",
       "version_major": 2,
       "version_minor": 0
      },
      "text/plain": [
       "Processing Channels (T=34):   0%|          | 0/3 [00:00<?, ?it/s]"
      ]
     },
     "metadata": {},
     "output_type": "display_data"
    },
    {
     "name": "stdout",
     "output_type": "stream",
     "text": [
      "Timepoint ID 34 saved out\n"
     ]
    },
    {
     "data": {
      "application/vnd.jupyter.widget-view+json": {
       "model_id": "44d3dc50734c4618b670f17d077745f5",
       "version_major": 2,
       "version_minor": 0
      },
      "text/plain": [
       "Processing Channels (T=35):   0%|          | 0/3 [00:00<?, ?it/s]"
      ]
     },
     "metadata": {},
     "output_type": "display_data"
    },
    {
     "name": "stdout",
     "output_type": "stream",
     "text": [
      "Timepoint ID 35 saved out\n"
     ]
    },
    {
     "data": {
      "application/vnd.jupyter.widget-view+json": {
       "model_id": "880881f068e54479891dfcf678c82c4f",
       "version_major": 2,
       "version_minor": 0
      },
      "text/plain": [
       "Processing Channels (T=36):   0%|          | 0/3 [00:00<?, ?it/s]"
      ]
     },
     "metadata": {},
     "output_type": "display_data"
    },
    {
     "name": "stdout",
     "output_type": "stream",
     "text": [
      "Timepoint ID 36 saved out\n"
     ]
    },
    {
     "data": {
      "application/vnd.jupyter.widget-view+json": {
       "model_id": "2d967846233247928443e486a994f5b3",
       "version_major": 2,
       "version_minor": 0
      },
      "text/plain": [
       "Processing Channels (T=37):   0%|          | 0/3 [00:00<?, ?it/s]"
      ]
     },
     "metadata": {},
     "output_type": "display_data"
    },
    {
     "name": "stdout",
     "output_type": "stream",
     "text": [
      "Timepoint ID 37 saved out\n"
     ]
    },
    {
     "data": {
      "application/vnd.jupyter.widget-view+json": {
       "model_id": "1e5845ba1ece4a47bcb0147d8b152477",
       "version_major": 2,
       "version_minor": 0
      },
      "text/plain": [
       "Processing Channels (T=38):   0%|          | 0/3 [00:00<?, ?it/s]"
      ]
     },
     "metadata": {},
     "output_type": "display_data"
    },
    {
     "name": "stdout",
     "output_type": "stream",
     "text": [
      "Timepoint ID 38 saved out\n"
     ]
    },
    {
     "data": {
      "application/vnd.jupyter.widget-view+json": {
       "model_id": "0a873b4e683b4b0891fd01597047c811",
       "version_major": 2,
       "version_minor": 0
      },
      "text/plain": [
       "Processing Channels (T=39):   0%|          | 0/3 [00:00<?, ?it/s]"
      ]
     },
     "metadata": {},
     "output_type": "display_data"
    },
    {
     "name": "stdout",
     "output_type": "stream",
     "text": [
      "Timepoint ID 39 saved out\n"
     ]
    },
    {
     "data": {
      "application/vnd.jupyter.widget-view+json": {
       "model_id": "0b432c0ffcac47e2a3c7722ac4238573",
       "version_major": 2,
       "version_minor": 0
      },
      "text/plain": [
       "Processing Channels (T=40):   0%|          | 0/3 [00:00<?, ?it/s]"
      ]
     },
     "metadata": {},
     "output_type": "display_data"
    },
    {
     "name": "stdout",
     "output_type": "stream",
     "text": [
      "Timepoint ID 40 saved out\n"
     ]
    },
    {
     "data": {
      "application/vnd.jupyter.widget-view+json": {
       "model_id": "2348247503f048a693c72673a3704985",
       "version_major": 2,
       "version_minor": 0
      },
      "text/plain": [
       "Processing Channels (T=41):   0%|          | 0/3 [00:00<?, ?it/s]"
      ]
     },
     "metadata": {},
     "output_type": "display_data"
    },
    {
     "name": "stdout",
     "output_type": "stream",
     "text": [
      "Timepoint ID 41 saved out\n"
     ]
    },
    {
     "data": {
      "application/vnd.jupyter.widget-view+json": {
       "model_id": "72ece05370774ce1a31c34f8f5129e59",
       "version_major": 2,
       "version_minor": 0
      },
      "text/plain": [
       "Processing Channels (T=42):   0%|          | 0/3 [00:00<?, ?it/s]"
      ]
     },
     "metadata": {},
     "output_type": "display_data"
    },
    {
     "name": "stdout",
     "output_type": "stream",
     "text": [
      "Timepoint ID 42 saved out\n"
     ]
    },
    {
     "data": {
      "application/vnd.jupyter.widget-view+json": {
       "model_id": "f8c58effa5ce4598850b9900af25ae2e",
       "version_major": 2,
       "version_minor": 0
      },
      "text/plain": [
       "Processing Channels (T=43):   0%|          | 0/3 [00:00<?, ?it/s]"
      ]
     },
     "metadata": {},
     "output_type": "display_data"
    },
    {
     "name": "stdout",
     "output_type": "stream",
     "text": [
      "Timepoint ID 43 saved out\n"
     ]
    },
    {
     "data": {
      "application/vnd.jupyter.widget-view+json": {
       "model_id": "62d75ef8fc17433f84f1e75bca588447",
       "version_major": 2,
       "version_minor": 0
      },
      "text/plain": [
       "Processing Channels (T=44):   0%|          | 0/3 [00:00<?, ?it/s]"
      ]
     },
     "metadata": {},
     "output_type": "display_data"
    },
    {
     "name": "stdout",
     "output_type": "stream",
     "text": [
      "Timepoint ID 44 saved out\n"
     ]
    },
    {
     "data": {
      "application/vnd.jupyter.widget-view+json": {
       "model_id": "8b7af0bb7ef54b2799fbf3a8b03c1209",
       "version_major": 2,
       "version_minor": 0
      },
      "text/plain": [
       "Processing Channels (T=45):   0%|          | 0/3 [00:00<?, ?it/s]"
      ]
     },
     "metadata": {},
     "output_type": "display_data"
    },
    {
     "name": "stdout",
     "output_type": "stream",
     "text": [
      "Timepoint ID 45 saved out\n"
     ]
    },
    {
     "data": {
      "application/vnd.jupyter.widget-view+json": {
       "model_id": "d269bbb6d4084667862d59d3e479a9c5",
       "version_major": 2,
       "version_minor": 0
      },
      "text/plain": [
       "Processing Channels (T=46):   0%|          | 0/3 [00:00<?, ?it/s]"
      ]
     },
     "metadata": {},
     "output_type": "display_data"
    },
    {
     "name": "stdout",
     "output_type": "stream",
     "text": [
      "Timepoint ID 46 saved out\n"
     ]
    },
    {
     "data": {
      "application/vnd.jupyter.widget-view+json": {
       "model_id": "e79deaeebefa43848b2705a3d05fe0d5",
       "version_major": 2,
       "version_minor": 0
      },
      "text/plain": [
       "Processing Channels (T=47):   0%|          | 0/3 [00:00<?, ?it/s]"
      ]
     },
     "metadata": {},
     "output_type": "display_data"
    },
    {
     "name": "stdout",
     "output_type": "stream",
     "text": [
      "Timepoint ID 47 saved out\n"
     ]
    },
    {
     "data": {
      "application/vnd.jupyter.widget-view+json": {
       "model_id": "0fadc130db1b44ffb625a1357d145660",
       "version_major": 2,
       "version_minor": 0
      },
      "text/plain": [
       "Processing Channels (T=48):   0%|          | 0/3 [00:00<?, ?it/s]"
      ]
     },
     "metadata": {},
     "output_type": "display_data"
    },
    {
     "name": "stdout",
     "output_type": "stream",
     "text": [
      "Timepoint ID 48 saved out\n"
     ]
    },
    {
     "data": {
      "application/vnd.jupyter.widget-view+json": {
       "model_id": "9e01e8c6a239444c88407d1be10d44e0",
       "version_major": 2,
       "version_minor": 0
      },
      "text/plain": [
       "Processing Channels (T=49):   0%|          | 0/3 [00:00<?, ?it/s]"
      ]
     },
     "metadata": {},
     "output_type": "display_data"
    },
    {
     "name": "stdout",
     "output_type": "stream",
     "text": [
      "Timepoint ID 49 saved out\n"
     ]
    },
    {
     "data": {
      "application/vnd.jupyter.widget-view+json": {
       "model_id": "aa1fd8a4116a43c3a54caf83b9663710",
       "version_major": 2,
       "version_minor": 0
      },
      "text/plain": [
       "Processing Channels (T=50):   0%|          | 0/3 [00:00<?, ?it/s]"
      ]
     },
     "metadata": {},
     "output_type": "display_data"
    },
    {
     "name": "stdout",
     "output_type": "stream",
     "text": [
      "Timepoint ID 50 saved out\n"
     ]
    },
    {
     "data": {
      "application/vnd.jupyter.widget-view+json": {
       "model_id": "9f579a5593694864949b1523f036e8c4",
       "version_major": 2,
       "version_minor": 0
      },
      "text/plain": [
       "Processing Channels (T=51):   0%|          | 0/3 [00:00<?, ?it/s]"
      ]
     },
     "metadata": {},
     "output_type": "display_data"
    },
    {
     "name": "stdout",
     "output_type": "stream",
     "text": [
      "Timepoint ID 51 saved out\n"
     ]
    },
    {
     "data": {
      "application/vnd.jupyter.widget-view+json": {
       "model_id": "2a73eb352a1745af9647728354165de8",
       "version_major": 2,
       "version_minor": 0
      },
      "text/plain": [
       "Processing Channels (T=52):   0%|          | 0/3 [00:00<?, ?it/s]"
      ]
     },
     "metadata": {},
     "output_type": "display_data"
    },
    {
     "name": "stdout",
     "output_type": "stream",
     "text": [
      "Timepoint ID 52 saved out\n"
     ]
    },
    {
     "data": {
      "application/vnd.jupyter.widget-view+json": {
       "model_id": "d21f35963abb4e90a539174ea3d673b6",
       "version_major": 2,
       "version_minor": 0
      },
      "text/plain": [
       "Processing Channels (T=53):   0%|          | 0/3 [00:00<?, ?it/s]"
      ]
     },
     "metadata": {},
     "output_type": "display_data"
    },
    {
     "name": "stdout",
     "output_type": "stream",
     "text": [
      "Timepoint ID 53 saved out\n"
     ]
    },
    {
     "data": {
      "application/vnd.jupyter.widget-view+json": {
       "model_id": "7661a72b7ae44b50b139ca14b93c9956",
       "version_major": 2,
       "version_minor": 0
      },
      "text/plain": [
       "Processing Channels (T=54):   0%|          | 0/3 [00:00<?, ?it/s]"
      ]
     },
     "metadata": {},
     "output_type": "display_data"
    },
    {
     "name": "stdout",
     "output_type": "stream",
     "text": [
      "Timepoint ID 54 saved out\n"
     ]
    },
    {
     "data": {
      "application/vnd.jupyter.widget-view+json": {
       "model_id": "35afacd1a5c44c27bb0c6a955a780406",
       "version_major": 2,
       "version_minor": 0
      },
      "text/plain": [
       "Processing Channels (T=55):   0%|          | 0/3 [00:00<?, ?it/s]"
      ]
     },
     "metadata": {},
     "output_type": "display_data"
    },
    {
     "name": "stdout",
     "output_type": "stream",
     "text": [
      "Timepoint ID 55 saved out\n"
     ]
    },
    {
     "data": {
      "application/vnd.jupyter.widget-view+json": {
       "model_id": "989d9625ecf24827ae04ed8c3497d4a9",
       "version_major": 2,
       "version_minor": 0
      },
      "text/plain": [
       "Processing Channels (T=56):   0%|          | 0/3 [00:00<?, ?it/s]"
      ]
     },
     "metadata": {},
     "output_type": "display_data"
    },
    {
     "name": "stdout",
     "output_type": "stream",
     "text": [
      "Timepoint ID 56 saved out\n"
     ]
    },
    {
     "data": {
      "application/vnd.jupyter.widget-view+json": {
       "model_id": "15d7ab8ad3c9481990c66b9c0b8d467c",
       "version_major": 2,
       "version_minor": 0
      },
      "text/plain": [
       "Processing Channels (T=57):   0%|          | 0/3 [00:00<?, ?it/s]"
      ]
     },
     "metadata": {},
     "output_type": "display_data"
    },
    {
     "name": "stdout",
     "output_type": "stream",
     "text": [
      "Timepoint ID 57 saved out\n"
     ]
    },
    {
     "data": {
      "application/vnd.jupyter.widget-view+json": {
       "model_id": "383effd09e664759a445a83b624b6319",
       "version_major": 2,
       "version_minor": 0
      },
      "text/plain": [
       "Processing Channels (T=58):   0%|          | 0/3 [00:00<?, ?it/s]"
      ]
     },
     "metadata": {},
     "output_type": "display_data"
    },
    {
     "name": "stdout",
     "output_type": "stream",
     "text": [
      "Timepoint ID 58 saved out\n"
     ]
    },
    {
     "data": {
      "application/vnd.jupyter.widget-view+json": {
       "model_id": "33a53926870647a59fe67fe21b08dde9",
       "version_major": 2,
       "version_minor": 0
      },
      "text/plain": [
       "Processing Channels (T=59):   0%|          | 0/3 [00:00<?, ?it/s]"
      ]
     },
     "metadata": {},
     "output_type": "display_data"
    },
    {
     "name": "stdout",
     "output_type": "stream",
     "text": [
      "Timepoint ID 59 saved out\n"
     ]
    },
    {
     "data": {
      "application/vnd.jupyter.widget-view+json": {
       "model_id": "48cac08248714d5fb2ecf46b7250414e",
       "version_major": 2,
       "version_minor": 0
      },
      "text/plain": [
       "Processing Channels (T=60):   0%|          | 0/3 [00:00<?, ?it/s]"
      ]
     },
     "metadata": {},
     "output_type": "display_data"
    },
    {
     "name": "stdout",
     "output_type": "stream",
     "text": [
      "Timepoint ID 60 saved out\n"
     ]
    },
    {
     "data": {
      "application/vnd.jupyter.widget-view+json": {
       "model_id": "996837978a6d42dd80e614ba2f83fa86",
       "version_major": 2,
       "version_minor": 0
      },
      "text/plain": [
       "Processing Channels (T=61):   0%|          | 0/3 [00:00<?, ?it/s]"
      ]
     },
     "metadata": {},
     "output_type": "display_data"
    },
    {
     "name": "stdout",
     "output_type": "stream",
     "text": [
      "Timepoint ID 61 saved out\n"
     ]
    },
    {
     "data": {
      "application/vnd.jupyter.widget-view+json": {
       "model_id": "85b443d2cf68499f84580de179590809",
       "version_major": 2,
       "version_minor": 0
      },
      "text/plain": [
       "Processing Channels (T=62):   0%|          | 0/3 [00:00<?, ?it/s]"
      ]
     },
     "metadata": {},
     "output_type": "display_data"
    },
    {
     "name": "stdout",
     "output_type": "stream",
     "text": [
      "Timepoint ID 62 saved out\n"
     ]
    },
    {
     "data": {
      "application/vnd.jupyter.widget-view+json": {
       "model_id": "ff40f48fc89549e3a5560c35f4750b22",
       "version_major": 2,
       "version_minor": 0
      },
      "text/plain": [
       "Processing Channels (T=63):   0%|          | 0/3 [00:00<?, ?it/s]"
      ]
     },
     "metadata": {},
     "output_type": "display_data"
    },
    {
     "name": "stdout",
     "output_type": "stream",
     "text": [
      "Timepoint ID 63 saved out\n"
     ]
    },
    {
     "data": {
      "application/vnd.jupyter.widget-view+json": {
       "model_id": "53f446aea15641ccb65ec2a0ade6dd66",
       "version_major": 2,
       "version_minor": 0
      },
      "text/plain": [
       "Processing Channels (T=64):   0%|          | 0/3 [00:00<?, ?it/s]"
      ]
     },
     "metadata": {},
     "output_type": "display_data"
    },
    {
     "name": "stdout",
     "output_type": "stream",
     "text": [
      "Timepoint ID 64 saved out\n"
     ]
    },
    {
     "data": {
      "application/vnd.jupyter.widget-view+json": {
       "model_id": "fa310ca76c0c409c872b8b85b8cb16da",
       "version_major": 2,
       "version_minor": 0
      },
      "text/plain": [
       "Processing Channels (T=65):   0%|          | 0/3 [00:00<?, ?it/s]"
      ]
     },
     "metadata": {},
     "output_type": "display_data"
    },
    {
     "name": "stdout",
     "output_type": "stream",
     "text": [
      "Timepoint ID 65 saved out\n"
     ]
    },
    {
     "data": {
      "application/vnd.jupyter.widget-view+json": {
       "model_id": "2ee48a079ac84c2db00188cb4d7e2a71",
       "version_major": 2,
       "version_minor": 0
      },
      "text/plain": [
       "Processing Channels (T=66):   0%|          | 0/3 [00:00<?, ?it/s]"
      ]
     },
     "metadata": {},
     "output_type": "display_data"
    },
    {
     "name": "stdout",
     "output_type": "stream",
     "text": [
      "Timepoint ID 66 saved out\n"
     ]
    },
    {
     "data": {
      "application/vnd.jupyter.widget-view+json": {
       "model_id": "310677ec24924461b21553951588b153",
       "version_major": 2,
       "version_minor": 0
      },
      "text/plain": [
       "Processing Channels (T=67):   0%|          | 0/3 [00:00<?, ?it/s]"
      ]
     },
     "metadata": {},
     "output_type": "display_data"
    },
    {
     "name": "stdout",
     "output_type": "stream",
     "text": [
      "Timepoint ID 67 saved out\n"
     ]
    },
    {
     "data": {
      "application/vnd.jupyter.widget-view+json": {
       "model_id": "94f52c559dc141c7b64a24636d88d78e",
       "version_major": 2,
       "version_minor": 0
      },
      "text/plain": [
       "Processing Channels (T=68):   0%|          | 0/3 [00:00<?, ?it/s]"
      ]
     },
     "metadata": {},
     "output_type": "display_data"
    },
    {
     "name": "stdout",
     "output_type": "stream",
     "text": [
      "Timepoint ID 68 saved out\n"
     ]
    },
    {
     "data": {
      "application/vnd.jupyter.widget-view+json": {
       "model_id": "6b398d6e96904730925f0a52b2ee96ab",
       "version_major": 2,
       "version_minor": 0
      },
      "text/plain": [
       "Processing Channels (T=69):   0%|          | 0/3 [00:00<?, ?it/s]"
      ]
     },
     "metadata": {},
     "output_type": "display_data"
    },
    {
     "name": "stdout",
     "output_type": "stream",
     "text": [
      "Timepoint ID 69 saved out\n"
     ]
    },
    {
     "data": {
      "application/vnd.jupyter.widget-view+json": {
       "model_id": "6807aa9049804282bd7fab139f83e0b8",
       "version_major": 2,
       "version_minor": 0
      },
      "text/plain": [
       "Processing Channels (T=70):   0%|          | 0/3 [00:00<?, ?it/s]"
      ]
     },
     "metadata": {},
     "output_type": "display_data"
    },
    {
     "name": "stdout",
     "output_type": "stream",
     "text": [
      "Timepoint ID 70 saved out\n"
     ]
    },
    {
     "data": {
      "application/vnd.jupyter.widget-view+json": {
       "model_id": "79f861b70de84092a4c570ed2d0b9593",
       "version_major": 2,
       "version_minor": 0
      },
      "text/plain": [
       "Processing Channels (T=71):   0%|          | 0/3 [00:00<?, ?it/s]"
      ]
     },
     "metadata": {},
     "output_type": "display_data"
    },
    {
     "name": "stdout",
     "output_type": "stream",
     "text": [
      "Timepoint ID 71 saved out\n"
     ]
    },
    {
     "data": {
      "application/vnd.jupyter.widget-view+json": {
       "model_id": "87504a44655a45ffa5a029f89d114313",
       "version_major": 2,
       "version_minor": 0
      },
      "text/plain": [
       "Processing Channels (T=72):   0%|          | 0/3 [00:00<?, ?it/s]"
      ]
     },
     "metadata": {},
     "output_type": "display_data"
    },
    {
     "name": "stdout",
     "output_type": "stream",
     "text": [
      "Timepoint ID 72 saved out\n"
     ]
    },
    {
     "data": {
      "application/vnd.jupyter.widget-view+json": {
       "model_id": "ec384aa6353e4a3fba0f575c5e45cf88",
       "version_major": 2,
       "version_minor": 0
      },
      "text/plain": [
       "Processing Channels (T=73):   0%|          | 0/3 [00:00<?, ?it/s]"
      ]
     },
     "metadata": {},
     "output_type": "display_data"
    },
    {
     "name": "stdout",
     "output_type": "stream",
     "text": [
      "Timepoint ID 73 saved out\n"
     ]
    },
    {
     "data": {
      "application/vnd.jupyter.widget-view+json": {
       "model_id": "6ca0ca51e04e47bda96412b5b5774678",
       "version_major": 2,
       "version_minor": 0
      },
      "text/plain": [
       "Processing Channels (T=74):   0%|          | 0/3 [00:00<?, ?it/s]"
      ]
     },
     "metadata": {},
     "output_type": "display_data"
    },
    {
     "name": "stdout",
     "output_type": "stream",
     "text": [
      "Timepoint ID 74 saved out\n"
     ]
    },
    {
     "data": {
      "application/vnd.jupyter.widget-view+json": {
       "model_id": "814057f5474f4d46a01a549a3f6455a1",
       "version_major": 2,
       "version_minor": 0
      },
      "text/plain": [
       "Processing Channels (T=75):   0%|          | 0/3 [00:00<?, ?it/s]"
      ]
     },
     "metadata": {},
     "output_type": "display_data"
    },
    {
     "name": "stdout",
     "output_type": "stream",
     "text": [
      "Timepoint ID 75 saved out\n"
     ]
    },
    {
     "data": {
      "application/vnd.jupyter.widget-view+json": {
       "model_id": "4a3bfcd731be4d9381951e10ec6a1f13",
       "version_major": 2,
       "version_minor": 0
      },
      "text/plain": [
       "Processing Channels (T=76):   0%|          | 0/3 [00:00<?, ?it/s]"
      ]
     },
     "metadata": {},
     "output_type": "display_data"
    },
    {
     "name": "stdout",
     "output_type": "stream",
     "text": [
      "Timepoint ID 76 saved out\n"
     ]
    },
    {
     "data": {
      "application/vnd.jupyter.widget-view+json": {
       "model_id": "ac97fa2da2e64538b8d0cc830599dc49",
       "version_major": 2,
       "version_minor": 0
      },
      "text/plain": [
       "Processing Channels (T=77):   0%|          | 0/3 [00:00<?, ?it/s]"
      ]
     },
     "metadata": {},
     "output_type": "display_data"
    },
    {
     "name": "stdout",
     "output_type": "stream",
     "text": [
      "Timepoint ID 77 saved out\n"
     ]
    },
    {
     "data": {
      "application/vnd.jupyter.widget-view+json": {
       "model_id": "8c402c7766674f2991f82472fe967c5d",
       "version_major": 2,
       "version_minor": 0
      },
      "text/plain": [
       "Processing Channels (T=78):   0%|          | 0/3 [00:00<?, ?it/s]"
      ]
     },
     "metadata": {},
     "output_type": "display_data"
    },
    {
     "name": "stdout",
     "output_type": "stream",
     "text": [
      "Timepoint ID 78 saved out\n"
     ]
    },
    {
     "data": {
      "application/vnd.jupyter.widget-view+json": {
       "model_id": "b4543a38030a4e28a075becd9618c58c",
       "version_major": 2,
       "version_minor": 0
      },
      "text/plain": [
       "Processing Channels (T=79):   0%|          | 0/3 [00:00<?, ?it/s]"
      ]
     },
     "metadata": {},
     "output_type": "display_data"
    },
    {
     "name": "stdout",
     "output_type": "stream",
     "text": [
      "Timepoint ID 79 saved out\n"
     ]
    },
    {
     "data": {
      "application/vnd.jupyter.widget-view+json": {
       "model_id": "92539c6a8b034f28905ffd5e7b3a5d5b",
       "version_major": 2,
       "version_minor": 0
      },
      "text/plain": [
       "Processing Channels (T=80):   0%|          | 0/3 [00:00<?, ?it/s]"
      ]
     },
     "metadata": {},
     "output_type": "display_data"
    },
    {
     "name": "stdout",
     "output_type": "stream",
     "text": [
      "Timepoint ID 80 saved out\n"
     ]
    },
    {
     "data": {
      "application/vnd.jupyter.widget-view+json": {
       "model_id": "9cbc36cc45ee482eab1d7dc28d0175ee",
       "version_major": 2,
       "version_minor": 0
      },
      "text/plain": [
       "Processing Channels (T=81):   0%|          | 0/3 [00:00<?, ?it/s]"
      ]
     },
     "metadata": {},
     "output_type": "display_data"
    },
    {
     "name": "stdout",
     "output_type": "stream",
     "text": [
      "Timepoint ID 81 saved out\n"
     ]
    },
    {
     "data": {
      "application/vnd.jupyter.widget-view+json": {
       "model_id": "d778204dea754e52a0c080c5c0dee4ef",
       "version_major": 2,
       "version_minor": 0
      },
      "text/plain": [
       "Processing Channels (T=82):   0%|          | 0/3 [00:00<?, ?it/s]"
      ]
     },
     "metadata": {},
     "output_type": "display_data"
    },
    {
     "name": "stdout",
     "output_type": "stream",
     "text": [
      "Timepoint ID 82 saved out\n"
     ]
    },
    {
     "data": {
      "application/vnd.jupyter.widget-view+json": {
       "model_id": "210693b9066347ca8984cc7b2cf4d768",
       "version_major": 2,
       "version_minor": 0
      },
      "text/plain": [
       "Processing Channels (T=83):   0%|          | 0/3 [00:00<?, ?it/s]"
      ]
     },
     "metadata": {},
     "output_type": "display_data"
    },
    {
     "name": "stdout",
     "output_type": "stream",
     "text": [
      "Timepoint ID 83 saved out\n"
     ]
    },
    {
     "data": {
      "application/vnd.jupyter.widget-view+json": {
       "model_id": "2b1c750f8a034e12a02718edb8dae5b2",
       "version_major": 2,
       "version_minor": 0
      },
      "text/plain": [
       "Processing Channels (T=84):   0%|          | 0/3 [00:00<?, ?it/s]"
      ]
     },
     "metadata": {},
     "output_type": "display_data"
    },
    {
     "name": "stdout",
     "output_type": "stream",
     "text": [
      "Timepoint ID 84 saved out\n"
     ]
    },
    {
     "data": {
      "application/vnd.jupyter.widget-view+json": {
       "model_id": "8a164b526091463482244591b2cfff12",
       "version_major": 2,
       "version_minor": 0
      },
      "text/plain": [
       "Processing Channels (T=85):   0%|          | 0/3 [00:00<?, ?it/s]"
      ]
     },
     "metadata": {},
     "output_type": "display_data"
    },
    {
     "name": "stdout",
     "output_type": "stream",
     "text": [
      "Timepoint ID 85 saved out\n"
     ]
    },
    {
     "data": {
      "application/vnd.jupyter.widget-view+json": {
       "model_id": "00301c6d31834bb6906b32a65123dca5",
       "version_major": 2,
       "version_minor": 0
      },
      "text/plain": [
       "Processing Channels (T=86):   0%|          | 0/3 [00:00<?, ?it/s]"
      ]
     },
     "metadata": {},
     "output_type": "display_data"
    },
    {
     "name": "stdout",
     "output_type": "stream",
     "text": [
      "Timepoint ID 86 saved out\n"
     ]
    },
    {
     "data": {
      "application/vnd.jupyter.widget-view+json": {
       "model_id": "495ddc1f65c9434185e9912147b63095",
       "version_major": 2,
       "version_minor": 0
      },
      "text/plain": [
       "Processing Channels (T=87):   0%|          | 0/3 [00:00<?, ?it/s]"
      ]
     },
     "metadata": {},
     "output_type": "display_data"
    },
    {
     "name": "stdout",
     "output_type": "stream",
     "text": [
      "Timepoint ID 87 saved out\n"
     ]
    },
    {
     "data": {
      "application/vnd.jupyter.widget-view+json": {
       "model_id": "9f54c56a915841cfbf5b0ed106c28887",
       "version_major": 2,
       "version_minor": 0
      },
      "text/plain": [
       "Processing Channels (T=88):   0%|          | 0/3 [00:00<?, ?it/s]"
      ]
     },
     "metadata": {},
     "output_type": "display_data"
    },
    {
     "name": "stdout",
     "output_type": "stream",
     "text": [
      "Timepoint ID 88 saved out\n"
     ]
    },
    {
     "data": {
      "application/vnd.jupyter.widget-view+json": {
       "model_id": "c263d660e9594276956778c691080330",
       "version_major": 2,
       "version_minor": 0
      },
      "text/plain": [
       "Processing Channels (T=89):   0%|          | 0/3 [00:00<?, ?it/s]"
      ]
     },
     "metadata": {},
     "output_type": "display_data"
    },
    {
     "name": "stdout",
     "output_type": "stream",
     "text": [
      "Timepoint ID 89 saved out\n"
     ]
    },
    {
     "data": {
      "application/vnd.jupyter.widget-view+json": {
       "model_id": "a7fe0dec755a487c86ca4038299e84d1",
       "version_major": 2,
       "version_minor": 0
      },
      "text/plain": [
       "Processing Channels (T=90):   0%|          | 0/3 [00:00<?, ?it/s]"
      ]
     },
     "metadata": {},
     "output_type": "display_data"
    },
    {
     "name": "stdout",
     "output_type": "stream",
     "text": [
      "Timepoint ID 90 saved out\n"
     ]
    },
    {
     "data": {
      "application/vnd.jupyter.widget-view+json": {
       "model_id": "2ec4342692bb4c98813f85dc9a43356a",
       "version_major": 2,
       "version_minor": 0
      },
      "text/plain": [
       "Processing Channels (T=91):   0%|          | 0/3 [00:00<?, ?it/s]"
      ]
     },
     "metadata": {},
     "output_type": "display_data"
    },
    {
     "name": "stdout",
     "output_type": "stream",
     "text": [
      "Timepoint ID 91 saved out\n"
     ]
    },
    {
     "data": {
      "application/vnd.jupyter.widget-view+json": {
       "model_id": "cabbe47f07704c97a69bc1ed762df3f5",
       "version_major": 2,
       "version_minor": 0
      },
      "text/plain": [
       "Processing Channels (T=92):   0%|          | 0/3 [00:00<?, ?it/s]"
      ]
     },
     "metadata": {},
     "output_type": "display_data"
    },
    {
     "name": "stdout",
     "output_type": "stream",
     "text": [
      "Timepoint ID 92 saved out\n"
     ]
    },
    {
     "data": {
      "application/vnd.jupyter.widget-view+json": {
       "model_id": "fe6a4904171e4d1981ef144ed730541b",
       "version_major": 2,
       "version_minor": 0
      },
      "text/plain": [
       "Processing Channels (T=93):   0%|          | 0/3 [00:00<?, ?it/s]"
      ]
     },
     "metadata": {},
     "output_type": "display_data"
    },
    {
     "name": "stdout",
     "output_type": "stream",
     "text": [
      "Timepoint ID 93 saved out\n"
     ]
    },
    {
     "data": {
      "application/vnd.jupyter.widget-view+json": {
       "model_id": "43ddd606e6674bf98e65e93d11291cec",
       "version_major": 2,
       "version_minor": 0
      },
      "text/plain": [
       "Processing Channels (T=94):   0%|          | 0/3 [00:00<?, ?it/s]"
      ]
     },
     "metadata": {},
     "output_type": "display_data"
    },
    {
     "name": "stdout",
     "output_type": "stream",
     "text": [
      "Timepoint ID 94 saved out\n"
     ]
    },
    {
     "data": {
      "application/vnd.jupyter.widget-view+json": {
       "model_id": "9b7539238ef3447ba1cb9b5a67ce9b79",
       "version_major": 2,
       "version_minor": 0
      },
      "text/plain": [
       "Processing Channels (T=95):   0%|          | 0/3 [00:00<?, ?it/s]"
      ]
     },
     "metadata": {},
     "output_type": "display_data"
    },
    {
     "name": "stdout",
     "output_type": "stream",
     "text": [
      "Timepoint ID 95 saved out\n"
     ]
    },
    {
     "data": {
      "application/vnd.jupyter.widget-view+json": {
       "model_id": "d14cad7d0d094856a304e592d5ad44d8",
       "version_major": 2,
       "version_minor": 0
      },
      "text/plain": [
       "Processing Channels (T=96):   0%|          | 0/3 [00:00<?, ?it/s]"
      ]
     },
     "metadata": {},
     "output_type": "display_data"
    },
    {
     "name": "stdout",
     "output_type": "stream",
     "text": [
      "Timepoint ID 96 saved out\n"
     ]
    },
    {
     "data": {
      "application/vnd.jupyter.widget-view+json": {
       "model_id": "524bd9d8a62e4f758d1fdfc6a52903c6",
       "version_major": 2,
       "version_minor": 0
      },
      "text/plain": [
       "Processing Channels (T=97):   0%|          | 0/3 [00:00<?, ?it/s]"
      ]
     },
     "metadata": {},
     "output_type": "display_data"
    },
    {
     "name": "stdout",
     "output_type": "stream",
     "text": [
      "Timepoint ID 97 saved out\n"
     ]
    },
    {
     "data": {
      "application/vnd.jupyter.widget-view+json": {
       "model_id": "6b5df701ba22438f8da1f063fc34fea3",
       "version_major": 2,
       "version_minor": 0
      },
      "text/plain": [
       "Processing Channels (T=98):   0%|          | 0/3 [00:00<?, ?it/s]"
      ]
     },
     "metadata": {},
     "output_type": "display_data"
    },
    {
     "name": "stdout",
     "output_type": "stream",
     "text": [
      "Timepoint ID 98 saved out\n"
     ]
    },
    {
     "data": {
      "application/vnd.jupyter.widget-view+json": {
       "model_id": "44900bf48679469e8e5f94db41310239",
       "version_major": 2,
       "version_minor": 0
      },
      "text/plain": [
       "Processing Channels (T=99):   0%|          | 0/3 [00:00<?, ?it/s]"
      ]
     },
     "metadata": {},
     "output_type": "display_data"
    },
    {
     "name": "stdout",
     "output_type": "stream",
     "text": [
      "Timepoint ID 99 saved out\n"
     ]
    },
    {
     "data": {
      "application/vnd.jupyter.widget-view+json": {
       "model_id": "31b157220b414f069f9e06b804f8670e",
       "version_major": 2,
       "version_minor": 0
      },
      "text/plain": [
       "Processing Channels (T=100):   0%|          | 0/3 [00:00<?, ?it/s]"
      ]
     },
     "metadata": {},
     "output_type": "display_data"
    },
    {
     "name": "stdout",
     "output_type": "stream",
     "text": [
      "Timepoint ID 100 saved out\n"
     ]
    },
    {
     "data": {
      "application/vnd.jupyter.widget-view+json": {
       "model_id": "205e9bf7baae483d90a7be92900854e4",
       "version_major": 2,
       "version_minor": 0
      },
      "text/plain": [
       "Processing Channels (T=101):   0%|          | 0/3 [00:00<?, ?it/s]"
      ]
     },
     "metadata": {},
     "output_type": "display_data"
    },
    {
     "name": "stdout",
     "output_type": "stream",
     "text": [
      "Timepoint ID 101 saved out\n"
     ]
    },
    {
     "data": {
      "application/vnd.jupyter.widget-view+json": {
       "model_id": "2eef92d0abd24232a2704c3420972575",
       "version_major": 2,
       "version_minor": 0
      },
      "text/plain": [
       "Processing Channels (T=102):   0%|          | 0/3 [00:00<?, ?it/s]"
      ]
     },
     "metadata": {},
     "output_type": "display_data"
    },
    {
     "name": "stdout",
     "output_type": "stream",
     "text": [
      "Timepoint ID 102 saved out\n"
     ]
    },
    {
     "data": {
      "application/vnd.jupyter.widget-view+json": {
       "model_id": "ea7e9e8aef4e4bd09ea1589ed8ccae54",
       "version_major": 2,
       "version_minor": 0
      },
      "text/plain": [
       "Processing Channels (T=103):   0%|          | 0/3 [00:00<?, ?it/s]"
      ]
     },
     "metadata": {},
     "output_type": "display_data"
    },
    {
     "name": "stdout",
     "output_type": "stream",
     "text": [
      "Timepoint ID 103 saved out\n"
     ]
    },
    {
     "data": {
      "application/vnd.jupyter.widget-view+json": {
       "model_id": "52bbf82183d245f5a4969bd7bb73225f",
       "version_major": 2,
       "version_minor": 0
      },
      "text/plain": [
       "Processing Channels (T=104):   0%|          | 0/3 [00:00<?, ?it/s]"
      ]
     },
     "metadata": {},
     "output_type": "display_data"
    },
    {
     "name": "stdout",
     "output_type": "stream",
     "text": [
      "Timepoint ID 104 saved out\n"
     ]
    },
    {
     "data": {
      "application/vnd.jupyter.widget-view+json": {
       "model_id": "aa66decb0d314ddc95acbc7bfcba7a4e",
       "version_major": 2,
       "version_minor": 0
      },
      "text/plain": [
       "Processing Channels (T=105):   0%|          | 0/3 [00:00<?, ?it/s]"
      ]
     },
     "metadata": {},
     "output_type": "display_data"
    },
    {
     "name": "stdout",
     "output_type": "stream",
     "text": [
      "Timepoint ID 105 saved out\n"
     ]
    },
    {
     "data": {
      "application/vnd.jupyter.widget-view+json": {
       "model_id": "026443bc6dfc4f1b811426b3dcea90d6",
       "version_major": 2,
       "version_minor": 0
      },
      "text/plain": [
       "Processing Channels (T=106):   0%|          | 0/3 [00:00<?, ?it/s]"
      ]
     },
     "metadata": {},
     "output_type": "display_data"
    },
    {
     "name": "stdout",
     "output_type": "stream",
     "text": [
      "Timepoint ID 106 saved out\n"
     ]
    },
    {
     "data": {
      "application/vnd.jupyter.widget-view+json": {
       "model_id": "57ac006bc4284425a25d030374e9aff9",
       "version_major": 2,
       "version_minor": 0
      },
      "text/plain": [
       "Processing Channels (T=107):   0%|          | 0/3 [00:00<?, ?it/s]"
      ]
     },
     "metadata": {},
     "output_type": "display_data"
    },
    {
     "name": "stdout",
     "output_type": "stream",
     "text": [
      "Timepoint ID 107 saved out\n"
     ]
    },
    {
     "data": {
      "application/vnd.jupyter.widget-view+json": {
       "model_id": "ca06e4a2a9c044b99baf5a1ce2e6f0ba",
       "version_major": 2,
       "version_minor": 0
      },
      "text/plain": [
       "Processing Channels (T=108):   0%|          | 0/3 [00:00<?, ?it/s]"
      ]
     },
     "metadata": {},
     "output_type": "display_data"
    },
    {
     "name": "stdout",
     "output_type": "stream",
     "text": [
      "Timepoint ID 108 saved out\n"
     ]
    },
    {
     "data": {
      "application/vnd.jupyter.widget-view+json": {
       "model_id": "8aba337f4e4a403ea1efc727b869fbc9",
       "version_major": 2,
       "version_minor": 0
      },
      "text/plain": [
       "Processing Channels (T=109):   0%|          | 0/3 [00:00<?, ?it/s]"
      ]
     },
     "metadata": {},
     "output_type": "display_data"
    },
    {
     "name": "stdout",
     "output_type": "stream",
     "text": [
      "Timepoint ID 109 saved out\n"
     ]
    },
    {
     "data": {
      "application/vnd.jupyter.widget-view+json": {
       "model_id": "6a70461b987845c2ada5685ecd23f1ec",
       "version_major": 2,
       "version_minor": 0
      },
      "text/plain": [
       "Processing Channels (T=110):   0%|          | 0/3 [00:00<?, ?it/s]"
      ]
     },
     "metadata": {},
     "output_type": "display_data"
    },
    {
     "name": "stdout",
     "output_type": "stream",
     "text": [
      "Timepoint ID 110 saved out\n"
     ]
    },
    {
     "data": {
      "application/vnd.jupyter.widget-view+json": {
       "model_id": "ca135d5710b047969438a9c04ebed21d",
       "version_major": 2,
       "version_minor": 0
      },
      "text/plain": [
       "Processing Channels (T=111):   0%|          | 0/3 [00:00<?, ?it/s]"
      ]
     },
     "metadata": {},
     "output_type": "display_data"
    },
    {
     "name": "stdout",
     "output_type": "stream",
     "text": [
      "Timepoint ID 111 saved out\n"
     ]
    },
    {
     "data": {
      "application/vnd.jupyter.widget-view+json": {
       "model_id": "b605cb3a080d4e0faeb786ed33fb966b",
       "version_major": 2,
       "version_minor": 0
      },
      "text/plain": [
       "Processing Channels (T=112):   0%|          | 0/3 [00:00<?, ?it/s]"
      ]
     },
     "metadata": {},
     "output_type": "display_data"
    },
    {
     "name": "stdout",
     "output_type": "stream",
     "text": [
      "Timepoint ID 112 saved out\n"
     ]
    },
    {
     "data": {
      "application/vnd.jupyter.widget-view+json": {
       "model_id": "74d075f5d80c4a37af77e5c3d6593dec",
       "version_major": 2,
       "version_minor": 0
      },
      "text/plain": [
       "Processing Channels (T=113):   0%|          | 0/3 [00:00<?, ?it/s]"
      ]
     },
     "metadata": {},
     "output_type": "display_data"
    },
    {
     "name": "stdout",
     "output_type": "stream",
     "text": [
      "Timepoint ID 113 saved out\n"
     ]
    },
    {
     "data": {
      "application/vnd.jupyter.widget-view+json": {
       "model_id": "5ded2adcfc1e49578f9b6425ab507daf",
       "version_major": 2,
       "version_minor": 0
      },
      "text/plain": [
       "Processing Channels (T=114):   0%|          | 0/3 [00:00<?, ?it/s]"
      ]
     },
     "metadata": {},
     "output_type": "display_data"
    },
    {
     "name": "stdout",
     "output_type": "stream",
     "text": [
      "Timepoint ID 114 saved out\n"
     ]
    },
    {
     "data": {
      "application/vnd.jupyter.widget-view+json": {
       "model_id": "5351a6558d0e4c87ad5b53d2bd7060e9",
       "version_major": 2,
       "version_minor": 0
      },
      "text/plain": [
       "Processing Channels (T=115):   0%|          | 0/3 [00:00<?, ?it/s]"
      ]
     },
     "metadata": {},
     "output_type": "display_data"
    },
    {
     "name": "stdout",
     "output_type": "stream",
     "text": [
      "Timepoint ID 115 saved out\n"
     ]
    },
    {
     "data": {
      "application/vnd.jupyter.widget-view+json": {
       "model_id": "e72a595d129049888a58383d6c297116",
       "version_major": 2,
       "version_minor": 0
      },
      "text/plain": [
       "Processing Channels (T=116):   0%|          | 0/3 [00:00<?, ?it/s]"
      ]
     },
     "metadata": {},
     "output_type": "display_data"
    },
    {
     "name": "stdout",
     "output_type": "stream",
     "text": [
      "Timepoint ID 116 saved out\n"
     ]
    },
    {
     "data": {
      "application/vnd.jupyter.widget-view+json": {
       "model_id": "2313d3a9a5514a85859e30202e86c603",
       "version_major": 2,
       "version_minor": 0
      },
      "text/plain": [
       "Processing Channels (T=117):   0%|          | 0/3 [00:00<?, ?it/s]"
      ]
     },
     "metadata": {},
     "output_type": "display_data"
    },
    {
     "name": "stdout",
     "output_type": "stream",
     "text": [
      "Timepoint ID 117 saved out\n"
     ]
    },
    {
     "data": {
      "application/vnd.jupyter.widget-view+json": {
       "model_id": "6e27fa4284fd4118b56dadff1c18af84",
       "version_major": 2,
       "version_minor": 0
      },
      "text/plain": [
       "Processing Channels (T=118):   0%|          | 0/3 [00:00<?, ?it/s]"
      ]
     },
     "metadata": {},
     "output_type": "display_data"
    },
    {
     "name": "stdout",
     "output_type": "stream",
     "text": [
      "Timepoint ID 118 saved out\n"
     ]
    },
    {
     "data": {
      "application/vnd.jupyter.widget-view+json": {
       "model_id": "b6bd9abcf50c4ddaaf28627a8e2724a1",
       "version_major": 2,
       "version_minor": 0
      },
      "text/plain": [
       "Processing Channels (T=119):   0%|          | 0/3 [00:00<?, ?it/s]"
      ]
     },
     "metadata": {},
     "output_type": "display_data"
    },
    {
     "name": "stdout",
     "output_type": "stream",
     "text": [
      "Timepoint ID 119 saved out\n"
     ]
    },
    {
     "data": {
      "application/vnd.jupyter.widget-view+json": {
       "model_id": "e22431f8e1be4e6aad137b5ab4186ad4",
       "version_major": 2,
       "version_minor": 0
      },
      "text/plain": [
       "Processing Channels (T=120):   0%|          | 0/3 [00:00<?, ?it/s]"
      ]
     },
     "metadata": {},
     "output_type": "display_data"
    },
    {
     "name": "stdout",
     "output_type": "stream",
     "text": [
      "Timepoint ID 120 saved out\n"
     ]
    },
    {
     "data": {
      "application/vnd.jupyter.widget-view+json": {
       "model_id": "6bdd549e2bb646b69aa601e1913f6d0b",
       "version_major": 2,
       "version_minor": 0
      },
      "text/plain": [
       "Processing Channels (T=121):   0%|          | 0/3 [00:00<?, ?it/s]"
      ]
     },
     "metadata": {},
     "output_type": "display_data"
    },
    {
     "name": "stdout",
     "output_type": "stream",
     "text": [
      "Timepoint ID 121 saved out\n"
     ]
    },
    {
     "data": {
      "application/vnd.jupyter.widget-view+json": {
       "model_id": "c9f0d6d5fb6f4cb88f24cb71e5bd9fe4",
       "version_major": 2,
       "version_minor": 0
      },
      "text/plain": [
       "Processing Channels (T=122):   0%|          | 0/3 [00:00<?, ?it/s]"
      ]
     },
     "metadata": {},
     "output_type": "display_data"
    },
    {
     "name": "stdout",
     "output_type": "stream",
     "text": [
      "Timepoint ID 122 saved out\n"
     ]
    },
    {
     "data": {
      "application/vnd.jupyter.widget-view+json": {
       "model_id": "f315bb3cf11143bab97f19956471d9d4",
       "version_major": 2,
       "version_minor": 0
      },
      "text/plain": [
       "Processing Channels (T=123):   0%|          | 0/3 [00:00<?, ?it/s]"
      ]
     },
     "metadata": {},
     "output_type": "display_data"
    },
    {
     "name": "stdout",
     "output_type": "stream",
     "text": [
      "Timepoint ID 123 saved out\n"
     ]
    },
    {
     "data": {
      "application/vnd.jupyter.widget-view+json": {
       "model_id": "0df073305d954b5e885ee3e1030636a3",
       "version_major": 2,
       "version_minor": 0
      },
      "text/plain": [
       "Processing Channels (T=124):   0%|          | 0/3 [00:00<?, ?it/s]"
      ]
     },
     "metadata": {},
     "output_type": "display_data"
    },
    {
     "name": "stdout",
     "output_type": "stream",
     "text": [
      "Timepoint ID 124 saved out\n"
     ]
    },
    {
     "data": {
      "application/vnd.jupyter.widget-view+json": {
       "model_id": "52516db5a0da4c2aa8e180860f8c87cb",
       "version_major": 2,
       "version_minor": 0
      },
      "text/plain": [
       "Processing Channels (T=125):   0%|          | 0/3 [00:00<?, ?it/s]"
      ]
     },
     "metadata": {},
     "output_type": "display_data"
    },
    {
     "name": "stdout",
     "output_type": "stream",
     "text": [
      "Timepoint ID 125 saved out\n"
     ]
    },
    {
     "data": {
      "application/vnd.jupyter.widget-view+json": {
       "model_id": "3d75048176c54ebc85dfb5f82996b980",
       "version_major": 2,
       "version_minor": 0
      },
      "text/plain": [
       "Processing Channels (T=126):   0%|          | 0/3 [00:00<?, ?it/s]"
      ]
     },
     "metadata": {},
     "output_type": "display_data"
    },
    {
     "name": "stdout",
     "output_type": "stream",
     "text": [
      "Timepoint ID 126 saved out\n"
     ]
    },
    {
     "data": {
      "application/vnd.jupyter.widget-view+json": {
       "model_id": "80b32fa5fc704af2b3caa5b34840bc4c",
       "version_major": 2,
       "version_minor": 0
      },
      "text/plain": [
       "Processing Channels (T=127):   0%|          | 0/3 [00:00<?, ?it/s]"
      ]
     },
     "metadata": {},
     "output_type": "display_data"
    },
    {
     "name": "stdout",
     "output_type": "stream",
     "text": [
      "Timepoint ID 127 saved out\n"
     ]
    },
    {
     "data": {
      "application/vnd.jupyter.widget-view+json": {
       "model_id": "86d9dbaa14374d1e948f69b98479544d",
       "version_major": 2,
       "version_minor": 0
      },
      "text/plain": [
       "Processing Channels (T=128):   0%|          | 0/3 [00:00<?, ?it/s]"
      ]
     },
     "metadata": {},
     "output_type": "display_data"
    },
    {
     "name": "stdout",
     "output_type": "stream",
     "text": [
      "Timepoint ID 128 saved out\n"
     ]
    },
    {
     "data": {
      "application/vnd.jupyter.widget-view+json": {
       "model_id": "38a2486fb29741509d89c12ec3cd91fe",
       "version_major": 2,
       "version_minor": 0
      },
      "text/plain": [
       "Processing Channels (T=129):   0%|          | 0/3 [00:00<?, ?it/s]"
      ]
     },
     "metadata": {},
     "output_type": "display_data"
    },
    {
     "name": "stdout",
     "output_type": "stream",
     "text": [
      "Timepoint ID 129 saved out\n"
     ]
    },
    {
     "data": {
      "application/vnd.jupyter.widget-view+json": {
       "model_id": "aed772bb765e4119a7fa28dbf2ad4551",
       "version_major": 2,
       "version_minor": 0
      },
      "text/plain": [
       "Processing Channels (T=130):   0%|          | 0/3 [00:00<?, ?it/s]"
      ]
     },
     "metadata": {},
     "output_type": "display_data"
    },
    {
     "name": "stdout",
     "output_type": "stream",
     "text": [
      "Timepoint ID 130 saved out\n"
     ]
    },
    {
     "data": {
      "application/vnd.jupyter.widget-view+json": {
       "model_id": "bee88da68be94e7ba88aa6aeb635e91d",
       "version_major": 2,
       "version_minor": 0
      },
      "text/plain": [
       "Processing Channels (T=131):   0%|          | 0/3 [00:00<?, ?it/s]"
      ]
     },
     "metadata": {},
     "output_type": "display_data"
    },
    {
     "name": "stdout",
     "output_type": "stream",
     "text": [
      "Timepoint ID 131 saved out\n"
     ]
    },
    {
     "data": {
      "application/vnd.jupyter.widget-view+json": {
       "model_id": "98119679f0b3402282951af3e87c04dc",
       "version_major": 2,
       "version_minor": 0
      },
      "text/plain": [
       "Processing Channels (T=132):   0%|          | 0/3 [00:00<?, ?it/s]"
      ]
     },
     "metadata": {},
     "output_type": "display_data"
    },
    {
     "name": "stdout",
     "output_type": "stream",
     "text": [
      "Timepoint ID 132 saved out\n"
     ]
    },
    {
     "data": {
      "application/vnd.jupyter.widget-view+json": {
       "model_id": "59cdcd0a26ef423b80414357fee3ff30",
       "version_major": 2,
       "version_minor": 0
      },
      "text/plain": [
       "Processing Channels (T=133):   0%|          | 0/3 [00:00<?, ?it/s]"
      ]
     },
     "metadata": {},
     "output_type": "display_data"
    },
    {
     "name": "stdout",
     "output_type": "stream",
     "text": [
      "Timepoint ID 133 saved out\n"
     ]
    },
    {
     "data": {
      "application/vnd.jupyter.widget-view+json": {
       "model_id": "206acf0279c547e0adfda9897ec51c20",
       "version_major": 2,
       "version_minor": 0
      },
      "text/plain": [
       "Processing Channels (T=134):   0%|          | 0/3 [00:00<?, ?it/s]"
      ]
     },
     "metadata": {},
     "output_type": "display_data"
    },
    {
     "name": "stdout",
     "output_type": "stream",
     "text": [
      "Timepoint ID 134 saved out\n"
     ]
    },
    {
     "data": {
      "application/vnd.jupyter.widget-view+json": {
       "model_id": "a9eb28ba9e0a4ba5bce9b11cb94e97bd",
       "version_major": 2,
       "version_minor": 0
      },
      "text/plain": [
       "Processing Channels (T=135):   0%|          | 0/3 [00:00<?, ?it/s]"
      ]
     },
     "metadata": {},
     "output_type": "display_data"
    },
    {
     "name": "stdout",
     "output_type": "stream",
     "text": [
      "Timepoint ID 135 saved out\n"
     ]
    },
    {
     "data": {
      "application/vnd.jupyter.widget-view+json": {
       "model_id": "0b134091cf85481ab529d8c4d2ffc9bd",
       "version_major": 2,
       "version_minor": 0
      },
      "text/plain": [
       "Processing Channels (T=136):   0%|          | 0/3 [00:00<?, ?it/s]"
      ]
     },
     "metadata": {},
     "output_type": "display_data"
    },
    {
     "name": "stdout",
     "output_type": "stream",
     "text": [
      "Timepoint ID 136 saved out\n"
     ]
    },
    {
     "data": {
      "application/vnd.jupyter.widget-view+json": {
       "model_id": "c745fed3fa434229b16a0b9d08f286eb",
       "version_major": 2,
       "version_minor": 0
      },
      "text/plain": [
       "Processing Channels (T=137):   0%|          | 0/3 [00:00<?, ?it/s]"
      ]
     },
     "metadata": {},
     "output_type": "display_data"
    },
    {
     "name": "stdout",
     "output_type": "stream",
     "text": [
      "Timepoint ID 137 saved out\n"
     ]
    },
    {
     "data": {
      "application/vnd.jupyter.widget-view+json": {
       "model_id": "0585465f26eb4464bbd83d9c66fbad0e",
       "version_major": 2,
       "version_minor": 0
      },
      "text/plain": [
       "Processing Channels (T=138):   0%|          | 0/3 [00:00<?, ?it/s]"
      ]
     },
     "metadata": {},
     "output_type": "display_data"
    },
    {
     "name": "stdout",
     "output_type": "stream",
     "text": [
      "Timepoint ID 138 saved out\n"
     ]
    },
    {
     "data": {
      "application/vnd.jupyter.widget-view+json": {
       "model_id": "754ce4b4902d4e5681dd29432fbffec7",
       "version_major": 2,
       "version_minor": 0
      },
      "text/plain": [
       "Processing Channels (T=139):   0%|          | 0/3 [00:00<?, ?it/s]"
      ]
     },
     "metadata": {},
     "output_type": "display_data"
    },
    {
     "name": "stdout",
     "output_type": "stream",
     "text": [
      "Timepoint ID 139 saved out\n"
     ]
    },
    {
     "data": {
      "application/vnd.jupyter.widget-view+json": {
       "model_id": "3a43a04f12c64dc0921ef752e9f900d8",
       "version_major": 2,
       "version_minor": 0
      },
      "text/plain": [
       "Processing Channels (T=140):   0%|          | 0/3 [00:00<?, ?it/s]"
      ]
     },
     "metadata": {},
     "output_type": "display_data"
    },
    {
     "name": "stdout",
     "output_type": "stream",
     "text": [
      "Timepoint ID 140 saved out\n"
     ]
    },
    {
     "data": {
      "application/vnd.jupyter.widget-view+json": {
       "model_id": "922cdd48d9c24b43a64d4a7d094c2b7f",
       "version_major": 2,
       "version_minor": 0
      },
      "text/plain": [
       "Processing Channels (T=141):   0%|          | 0/3 [00:00<?, ?it/s]"
      ]
     },
     "metadata": {},
     "output_type": "display_data"
    },
    {
     "name": "stdout",
     "output_type": "stream",
     "text": [
      "Timepoint ID 141 saved out\n"
     ]
    },
    {
     "data": {
      "application/vnd.jupyter.widget-view+json": {
       "model_id": "2b28a468ecfe4a40a71e059ea72986a1",
       "version_major": 2,
       "version_minor": 0
      },
      "text/plain": [
       "Processing Channels (T=142):   0%|          | 0/3 [00:00<?, ?it/s]"
      ]
     },
     "metadata": {},
     "output_type": "display_data"
    },
    {
     "name": "stdout",
     "output_type": "stream",
     "text": [
      "Timepoint ID 142 saved out\n"
     ]
    },
    {
     "data": {
      "application/vnd.jupyter.widget-view+json": {
       "model_id": "d36b890c966941d6b04e7922b332442f",
       "version_major": 2,
       "version_minor": 0
      },
      "text/plain": [
       "Processing Channels (T=143):   0%|          | 0/3 [00:00<?, ?it/s]"
      ]
     },
     "metadata": {},
     "output_type": "display_data"
    },
    {
     "name": "stdout",
     "output_type": "stream",
     "text": [
      "Timepoint ID 143 saved out\n"
     ]
    },
    {
     "data": {
      "application/vnd.jupyter.widget-view+json": {
       "model_id": "4d4b943e254344a490d3ab5612752eec",
       "version_major": 2,
       "version_minor": 0
      },
      "text/plain": [
       "Processing Time Points:   0%|          | 0/144 [00:00<?, ?it/s]"
      ]
     },
     "metadata": {},
     "output_type": "display_data"
    },
    {
     "data": {
      "application/vnd.jupyter.widget-view+json": {
       "model_id": "1f782204c6de4707b0075574ee82be6b",
       "version_major": 2,
       "version_minor": 0
      },
      "text/plain": [
       "Processing Channels (T=0):   0%|          | 0/3 [00:00<?, ?it/s]"
      ]
     },
     "metadata": {},
     "output_type": "display_data"
    },
    {
     "name": "stdout",
     "output_type": "stream",
     "text": [
      "Timepoint ID 0 saved out\n"
     ]
    },
    {
     "data": {
      "application/vnd.jupyter.widget-view+json": {
       "model_id": "3c635b7f4c5b4322bc40cb50ddf8cdd6",
       "version_major": 2,
       "version_minor": 0
      },
      "text/plain": [
       "Processing Channels (T=1):   0%|          | 0/3 [00:00<?, ?it/s]"
      ]
     },
     "metadata": {},
     "output_type": "display_data"
    },
    {
     "name": "stdout",
     "output_type": "stream",
     "text": [
      "Timepoint ID 1 saved out\n"
     ]
    },
    {
     "data": {
      "application/vnd.jupyter.widget-view+json": {
       "model_id": "0cc44e92590941c089328a9aaa52e0ce",
       "version_major": 2,
       "version_minor": 0
      },
      "text/plain": [
       "Processing Channels (T=2):   0%|          | 0/3 [00:00<?, ?it/s]"
      ]
     },
     "metadata": {},
     "output_type": "display_data"
    },
    {
     "name": "stdout",
     "output_type": "stream",
     "text": [
      "Timepoint ID 2 saved out\n"
     ]
    },
    {
     "data": {
      "application/vnd.jupyter.widget-view+json": {
       "model_id": "5016b81ba2114cb88c91276d167f71c5",
       "version_major": 2,
       "version_minor": 0
      },
      "text/plain": [
       "Processing Channels (T=3):   0%|          | 0/3 [00:00<?, ?it/s]"
      ]
     },
     "metadata": {},
     "output_type": "display_data"
    },
    {
     "name": "stdout",
     "output_type": "stream",
     "text": [
      "Timepoint ID 3 saved out\n"
     ]
    },
    {
     "data": {
      "application/vnd.jupyter.widget-view+json": {
       "model_id": "1df3aef2b895425595f9a15066d3733b",
       "version_major": 2,
       "version_minor": 0
      },
      "text/plain": [
       "Processing Channels (T=4):   0%|          | 0/3 [00:00<?, ?it/s]"
      ]
     },
     "metadata": {},
     "output_type": "display_data"
    },
    {
     "name": "stdout",
     "output_type": "stream",
     "text": [
      "Timepoint ID 4 saved out\n"
     ]
    },
    {
     "data": {
      "application/vnd.jupyter.widget-view+json": {
       "model_id": "c87b58e394484289bb78a40613ceb2ec",
       "version_major": 2,
       "version_minor": 0
      },
      "text/plain": [
       "Processing Channels (T=5):   0%|          | 0/3 [00:00<?, ?it/s]"
      ]
     },
     "metadata": {},
     "output_type": "display_data"
    },
    {
     "name": "stdout",
     "output_type": "stream",
     "text": [
      "Timepoint ID 5 saved out\n"
     ]
    },
    {
     "data": {
      "application/vnd.jupyter.widget-view+json": {
       "model_id": "f386f9bb4fdb4eb491a834ea9ab9e3c7",
       "version_major": 2,
       "version_minor": 0
      },
      "text/plain": [
       "Processing Channels (T=6):   0%|          | 0/3 [00:00<?, ?it/s]"
      ]
     },
     "metadata": {},
     "output_type": "display_data"
    },
    {
     "name": "stdout",
     "output_type": "stream",
     "text": [
      "Timepoint ID 6 saved out\n"
     ]
    },
    {
     "data": {
      "application/vnd.jupyter.widget-view+json": {
       "model_id": "d4500509d1704641a944e3d9622b08d6",
       "version_major": 2,
       "version_minor": 0
      },
      "text/plain": [
       "Processing Channels (T=7):   0%|          | 0/3 [00:00<?, ?it/s]"
      ]
     },
     "metadata": {},
     "output_type": "display_data"
    },
    {
     "name": "stdout",
     "output_type": "stream",
     "text": [
      "Timepoint ID 7 saved out\n"
     ]
    },
    {
     "data": {
      "application/vnd.jupyter.widget-view+json": {
       "model_id": "bc3872452c1744c1ae27f1cff0371fc0",
       "version_major": 2,
       "version_minor": 0
      },
      "text/plain": [
       "Processing Channels (T=8):   0%|          | 0/3 [00:00<?, ?it/s]"
      ]
     },
     "metadata": {},
     "output_type": "display_data"
    },
    {
     "name": "stdout",
     "output_type": "stream",
     "text": [
      "Timepoint ID 8 saved out\n"
     ]
    },
    {
     "data": {
      "application/vnd.jupyter.widget-view+json": {
       "model_id": "215bc945eefa4658ab618248fb9a4810",
       "version_major": 2,
       "version_minor": 0
      },
      "text/plain": [
       "Processing Channels (T=9):   0%|          | 0/3 [00:00<?, ?it/s]"
      ]
     },
     "metadata": {},
     "output_type": "display_data"
    },
    {
     "name": "stdout",
     "output_type": "stream",
     "text": [
      "Timepoint ID 9 saved out\n"
     ]
    },
    {
     "data": {
      "application/vnd.jupyter.widget-view+json": {
       "model_id": "40bdfc6649624a4298099bfd7d533eac",
       "version_major": 2,
       "version_minor": 0
      },
      "text/plain": [
       "Processing Channels (T=10):   0%|          | 0/3 [00:00<?, ?it/s]"
      ]
     },
     "metadata": {},
     "output_type": "display_data"
    },
    {
     "name": "stdout",
     "output_type": "stream",
     "text": [
      "Timepoint ID 10 saved out\n"
     ]
    },
    {
     "data": {
      "application/vnd.jupyter.widget-view+json": {
       "model_id": "241cff56759a4f529d1837a38c05692b",
       "version_major": 2,
       "version_minor": 0
      },
      "text/plain": [
       "Processing Channels (T=11):   0%|          | 0/3 [00:00<?, ?it/s]"
      ]
     },
     "metadata": {},
     "output_type": "display_data"
    },
    {
     "name": "stdout",
     "output_type": "stream",
     "text": [
      "Timepoint ID 11 saved out\n"
     ]
    },
    {
     "data": {
      "application/vnd.jupyter.widget-view+json": {
       "model_id": "e4fac984c9b14831add70faea4bef000",
       "version_major": 2,
       "version_minor": 0
      },
      "text/plain": [
       "Processing Channels (T=12):   0%|          | 0/3 [00:00<?, ?it/s]"
      ]
     },
     "metadata": {},
     "output_type": "display_data"
    },
    {
     "name": "stdout",
     "output_type": "stream",
     "text": [
      "Timepoint ID 12 saved out\n"
     ]
    },
    {
     "data": {
      "application/vnd.jupyter.widget-view+json": {
       "model_id": "f3a63445dfa94464879d3a7c4a0f2da3",
       "version_major": 2,
       "version_minor": 0
      },
      "text/plain": [
       "Processing Channels (T=13):   0%|          | 0/3 [00:00<?, ?it/s]"
      ]
     },
     "metadata": {},
     "output_type": "display_data"
    },
    {
     "name": "stdout",
     "output_type": "stream",
     "text": [
      "Timepoint ID 13 saved out\n"
     ]
    },
    {
     "data": {
      "application/vnd.jupyter.widget-view+json": {
       "model_id": "52666cae9a45488fbe21563644b24a52",
       "version_major": 2,
       "version_minor": 0
      },
      "text/plain": [
       "Processing Channels (T=14):   0%|          | 0/3 [00:00<?, ?it/s]"
      ]
     },
     "metadata": {},
     "output_type": "display_data"
    },
    {
     "name": "stdout",
     "output_type": "stream",
     "text": [
      "Timepoint ID 14 saved out\n"
     ]
    },
    {
     "data": {
      "application/vnd.jupyter.widget-view+json": {
       "model_id": "a6e877cd030a486eb3b9a5592a67181b",
       "version_major": 2,
       "version_minor": 0
      },
      "text/plain": [
       "Processing Channels (T=15):   0%|          | 0/3 [00:00<?, ?it/s]"
      ]
     },
     "metadata": {},
     "output_type": "display_data"
    },
    {
     "name": "stdout",
     "output_type": "stream",
     "text": [
      "Timepoint ID 15 saved out\n"
     ]
    },
    {
     "data": {
      "application/vnd.jupyter.widget-view+json": {
       "model_id": "a0169363c8f44e9193177cae88f8f7b0",
       "version_major": 2,
       "version_minor": 0
      },
      "text/plain": [
       "Processing Channels (T=16):   0%|          | 0/3 [00:00<?, ?it/s]"
      ]
     },
     "metadata": {},
     "output_type": "display_data"
    },
    {
     "name": "stdout",
     "output_type": "stream",
     "text": [
      "Timepoint ID 16 saved out\n"
     ]
    },
    {
     "data": {
      "application/vnd.jupyter.widget-view+json": {
       "model_id": "112d569cf833452b845b6fe9942b10ce",
       "version_major": 2,
       "version_minor": 0
      },
      "text/plain": [
       "Processing Channels (T=17):   0%|          | 0/3 [00:00<?, ?it/s]"
      ]
     },
     "metadata": {},
     "output_type": "display_data"
    },
    {
     "name": "stdout",
     "output_type": "stream",
     "text": [
      "Timepoint ID 17 saved out\n"
     ]
    },
    {
     "data": {
      "application/vnd.jupyter.widget-view+json": {
       "model_id": "33856a54254d4db6b72cc0c648307843",
       "version_major": 2,
       "version_minor": 0
      },
      "text/plain": [
       "Processing Channels (T=18):   0%|          | 0/3 [00:00<?, ?it/s]"
      ]
     },
     "metadata": {},
     "output_type": "display_data"
    },
    {
     "name": "stdout",
     "output_type": "stream",
     "text": [
      "Timepoint ID 18 saved out\n"
     ]
    },
    {
     "data": {
      "application/vnd.jupyter.widget-view+json": {
       "model_id": "7790213de5034d87af882da377e0d6db",
       "version_major": 2,
       "version_minor": 0
      },
      "text/plain": [
       "Processing Channels (T=19):   0%|          | 0/3 [00:00<?, ?it/s]"
      ]
     },
     "metadata": {},
     "output_type": "display_data"
    },
    {
     "name": "stdout",
     "output_type": "stream",
     "text": [
      "Timepoint ID 19 saved out\n"
     ]
    },
    {
     "data": {
      "application/vnd.jupyter.widget-view+json": {
       "model_id": "54abf75d30bc4cc3ba77c6c2f108ffec",
       "version_major": 2,
       "version_minor": 0
      },
      "text/plain": [
       "Processing Channels (T=20):   0%|          | 0/3 [00:00<?, ?it/s]"
      ]
     },
     "metadata": {},
     "output_type": "display_data"
    },
    {
     "name": "stdout",
     "output_type": "stream",
     "text": [
      "Timepoint ID 20 saved out\n"
     ]
    },
    {
     "data": {
      "application/vnd.jupyter.widget-view+json": {
       "model_id": "f88485b3089946e8b529008abafe0fea",
       "version_major": 2,
       "version_minor": 0
      },
      "text/plain": [
       "Processing Channels (T=21):   0%|          | 0/3 [00:00<?, ?it/s]"
      ]
     },
     "metadata": {},
     "output_type": "display_data"
    },
    {
     "name": "stdout",
     "output_type": "stream",
     "text": [
      "Timepoint ID 21 saved out\n"
     ]
    },
    {
     "data": {
      "application/vnd.jupyter.widget-view+json": {
       "model_id": "301ae7e46bc14aa880a5dace33ba4e18",
       "version_major": 2,
       "version_minor": 0
      },
      "text/plain": [
       "Processing Channels (T=22):   0%|          | 0/3 [00:00<?, ?it/s]"
      ]
     },
     "metadata": {},
     "output_type": "display_data"
    },
    {
     "name": "stdout",
     "output_type": "stream",
     "text": [
      "Timepoint ID 22 saved out\n"
     ]
    },
    {
     "data": {
      "application/vnd.jupyter.widget-view+json": {
       "model_id": "44af60c7b3cd48c8929b258c477ed49e",
       "version_major": 2,
       "version_minor": 0
      },
      "text/plain": [
       "Processing Channels (T=23):   0%|          | 0/3 [00:00<?, ?it/s]"
      ]
     },
     "metadata": {},
     "output_type": "display_data"
    },
    {
     "name": "stdout",
     "output_type": "stream",
     "text": [
      "Timepoint ID 23 saved out\n"
     ]
    },
    {
     "data": {
      "application/vnd.jupyter.widget-view+json": {
       "model_id": "7e5469b2df7541009b92ff6a8330478f",
       "version_major": 2,
       "version_minor": 0
      },
      "text/plain": [
       "Processing Channels (T=24):   0%|          | 0/3 [00:00<?, ?it/s]"
      ]
     },
     "metadata": {},
     "output_type": "display_data"
    },
    {
     "name": "stdout",
     "output_type": "stream",
     "text": [
      "Timepoint ID 24 saved out\n"
     ]
    },
    {
     "data": {
      "application/vnd.jupyter.widget-view+json": {
       "model_id": "55a3c015b0a2485c9bfccbf6c9fc03a9",
       "version_major": 2,
       "version_minor": 0
      },
      "text/plain": [
       "Processing Channels (T=25):   0%|          | 0/3 [00:00<?, ?it/s]"
      ]
     },
     "metadata": {},
     "output_type": "display_data"
    },
    {
     "name": "stdout",
     "output_type": "stream",
     "text": [
      "Timepoint ID 25 saved out\n"
     ]
    },
    {
     "data": {
      "application/vnd.jupyter.widget-view+json": {
       "model_id": "0a6ed24e3c204db9ba494fbcf8354fc3",
       "version_major": 2,
       "version_minor": 0
      },
      "text/plain": [
       "Processing Channels (T=26):   0%|          | 0/3 [00:00<?, ?it/s]"
      ]
     },
     "metadata": {},
     "output_type": "display_data"
    },
    {
     "name": "stdout",
     "output_type": "stream",
     "text": [
      "Timepoint ID 26 saved out\n"
     ]
    },
    {
     "data": {
      "application/vnd.jupyter.widget-view+json": {
       "model_id": "59310f9d07af43a1b1bde61cb902220a",
       "version_major": 2,
       "version_minor": 0
      },
      "text/plain": [
       "Processing Channels (T=27):   0%|          | 0/3 [00:00<?, ?it/s]"
      ]
     },
     "metadata": {},
     "output_type": "display_data"
    },
    {
     "name": "stdout",
     "output_type": "stream",
     "text": [
      "Timepoint ID 27 saved out\n"
     ]
    },
    {
     "data": {
      "application/vnd.jupyter.widget-view+json": {
       "model_id": "5c5f79befc6e48fd9fbc0e8d95e91240",
       "version_major": 2,
       "version_minor": 0
      },
      "text/plain": [
       "Processing Channels (T=28):   0%|          | 0/3 [00:00<?, ?it/s]"
      ]
     },
     "metadata": {},
     "output_type": "display_data"
    },
    {
     "name": "stdout",
     "output_type": "stream",
     "text": [
      "Timepoint ID 28 saved out\n"
     ]
    },
    {
     "data": {
      "application/vnd.jupyter.widget-view+json": {
       "model_id": "ef069c0f98dd4e30a7d066060a1af615",
       "version_major": 2,
       "version_minor": 0
      },
      "text/plain": [
       "Processing Channels (T=29):   0%|          | 0/3 [00:00<?, ?it/s]"
      ]
     },
     "metadata": {},
     "output_type": "display_data"
    },
    {
     "name": "stdout",
     "output_type": "stream",
     "text": [
      "Timepoint ID 29 saved out\n"
     ]
    },
    {
     "data": {
      "application/vnd.jupyter.widget-view+json": {
       "model_id": "c123cd95c367401ba337771d4b9fce52",
       "version_major": 2,
       "version_minor": 0
      },
      "text/plain": [
       "Processing Channels (T=30):   0%|          | 0/3 [00:00<?, ?it/s]"
      ]
     },
     "metadata": {},
     "output_type": "display_data"
    },
    {
     "name": "stdout",
     "output_type": "stream",
     "text": [
      "Timepoint ID 30 saved out\n"
     ]
    },
    {
     "data": {
      "application/vnd.jupyter.widget-view+json": {
       "model_id": "6938f7e9dcb843308555135880f127f7",
       "version_major": 2,
       "version_minor": 0
      },
      "text/plain": [
       "Processing Channels (T=31):   0%|          | 0/3 [00:00<?, ?it/s]"
      ]
     },
     "metadata": {},
     "output_type": "display_data"
    },
    {
     "name": "stdout",
     "output_type": "stream",
     "text": [
      "Timepoint ID 31 saved out\n"
     ]
    },
    {
     "data": {
      "application/vnd.jupyter.widget-view+json": {
       "model_id": "4247b8a33db6498cad85e437684dafc1",
       "version_major": 2,
       "version_minor": 0
      },
      "text/plain": [
       "Processing Channels (T=32):   0%|          | 0/3 [00:00<?, ?it/s]"
      ]
     },
     "metadata": {},
     "output_type": "display_data"
    },
    {
     "name": "stdout",
     "output_type": "stream",
     "text": [
      "Timepoint ID 32 saved out\n"
     ]
    },
    {
     "data": {
      "application/vnd.jupyter.widget-view+json": {
       "model_id": "b2512991e8a74a869cbbef38693646f4",
       "version_major": 2,
       "version_minor": 0
      },
      "text/plain": [
       "Processing Channels (T=33):   0%|          | 0/3 [00:00<?, ?it/s]"
      ]
     },
     "metadata": {},
     "output_type": "display_data"
    },
    {
     "name": "stdout",
     "output_type": "stream",
     "text": [
      "Timepoint ID 33 saved out\n"
     ]
    },
    {
     "data": {
      "application/vnd.jupyter.widget-view+json": {
       "model_id": "4dfcf178efd1407899f1e91aa261c080",
       "version_major": 2,
       "version_minor": 0
      },
      "text/plain": [
       "Processing Channels (T=34):   0%|          | 0/3 [00:00<?, ?it/s]"
      ]
     },
     "metadata": {},
     "output_type": "display_data"
    },
    {
     "name": "stdout",
     "output_type": "stream",
     "text": [
      "Timepoint ID 34 saved out\n"
     ]
    },
    {
     "data": {
      "application/vnd.jupyter.widget-view+json": {
       "model_id": "172d92ca73574c7ebea600741e18f6c7",
       "version_major": 2,
       "version_minor": 0
      },
      "text/plain": [
       "Processing Channels (T=35):   0%|          | 0/3 [00:00<?, ?it/s]"
      ]
     },
     "metadata": {},
     "output_type": "display_data"
    },
    {
     "name": "stdout",
     "output_type": "stream",
     "text": [
      "Timepoint ID 35 saved out\n"
     ]
    },
    {
     "data": {
      "application/vnd.jupyter.widget-view+json": {
       "model_id": "8d12ad3153b4487881984fabfe1cb9c3",
       "version_major": 2,
       "version_minor": 0
      },
      "text/plain": [
       "Processing Channels (T=36):   0%|          | 0/3 [00:00<?, ?it/s]"
      ]
     },
     "metadata": {},
     "output_type": "display_data"
    },
    {
     "name": "stdout",
     "output_type": "stream",
     "text": [
      "Timepoint ID 36 saved out\n"
     ]
    },
    {
     "data": {
      "application/vnd.jupyter.widget-view+json": {
       "model_id": "dcf969432cf84310afaefe6ba319cd00",
       "version_major": 2,
       "version_minor": 0
      },
      "text/plain": [
       "Processing Channels (T=37):   0%|          | 0/3 [00:00<?, ?it/s]"
      ]
     },
     "metadata": {},
     "output_type": "display_data"
    },
    {
     "name": "stdout",
     "output_type": "stream",
     "text": [
      "Timepoint ID 37 saved out\n"
     ]
    },
    {
     "data": {
      "application/vnd.jupyter.widget-view+json": {
       "model_id": "2884cc43449546c8b7080708226e333c",
       "version_major": 2,
       "version_minor": 0
      },
      "text/plain": [
       "Processing Channels (T=38):   0%|          | 0/3 [00:00<?, ?it/s]"
      ]
     },
     "metadata": {},
     "output_type": "display_data"
    },
    {
     "name": "stdout",
     "output_type": "stream",
     "text": [
      "Timepoint ID 38 saved out\n"
     ]
    },
    {
     "data": {
      "application/vnd.jupyter.widget-view+json": {
       "model_id": "f36b178537a0489cbc2d2d68b57a9398",
       "version_major": 2,
       "version_minor": 0
      },
      "text/plain": [
       "Processing Channels (T=39):   0%|          | 0/3 [00:00<?, ?it/s]"
      ]
     },
     "metadata": {},
     "output_type": "display_data"
    },
    {
     "name": "stdout",
     "output_type": "stream",
     "text": [
      "Timepoint ID 39 saved out\n"
     ]
    },
    {
     "data": {
      "application/vnd.jupyter.widget-view+json": {
       "model_id": "fa90194e9733429e84a1e18f0554e5d7",
       "version_major": 2,
       "version_minor": 0
      },
      "text/plain": [
       "Processing Channels (T=40):   0%|          | 0/3 [00:00<?, ?it/s]"
      ]
     },
     "metadata": {},
     "output_type": "display_data"
    },
    {
     "name": "stdout",
     "output_type": "stream",
     "text": [
      "Timepoint ID 40 saved out\n"
     ]
    },
    {
     "data": {
      "application/vnd.jupyter.widget-view+json": {
       "model_id": "077e15b8a76542cdb0e4a7b56a8b138c",
       "version_major": 2,
       "version_minor": 0
      },
      "text/plain": [
       "Processing Channels (T=41):   0%|          | 0/3 [00:00<?, ?it/s]"
      ]
     },
     "metadata": {},
     "output_type": "display_data"
    },
    {
     "name": "stdout",
     "output_type": "stream",
     "text": [
      "Timepoint ID 41 saved out\n"
     ]
    },
    {
     "data": {
      "application/vnd.jupyter.widget-view+json": {
       "model_id": "3035bd444472444a8c1757866104809f",
       "version_major": 2,
       "version_minor": 0
      },
      "text/plain": [
       "Processing Channels (T=42):   0%|          | 0/3 [00:00<?, ?it/s]"
      ]
     },
     "metadata": {},
     "output_type": "display_data"
    },
    {
     "name": "stdout",
     "output_type": "stream",
     "text": [
      "Timepoint ID 42 saved out\n"
     ]
    },
    {
     "data": {
      "application/vnd.jupyter.widget-view+json": {
       "model_id": "5b9eb7ff8c0d4a289126114413eb694d",
       "version_major": 2,
       "version_minor": 0
      },
      "text/plain": [
       "Processing Channels (T=43):   0%|          | 0/3 [00:00<?, ?it/s]"
      ]
     },
     "metadata": {},
     "output_type": "display_data"
    },
    {
     "name": "stdout",
     "output_type": "stream",
     "text": [
      "Timepoint ID 43 saved out\n"
     ]
    },
    {
     "data": {
      "application/vnd.jupyter.widget-view+json": {
       "model_id": "477d19160cf949e988ba805a71fcad02",
       "version_major": 2,
       "version_minor": 0
      },
      "text/plain": [
       "Processing Channels (T=44):   0%|          | 0/3 [00:00<?, ?it/s]"
      ]
     },
     "metadata": {},
     "output_type": "display_data"
    },
    {
     "name": "stdout",
     "output_type": "stream",
     "text": [
      "Timepoint ID 44 saved out\n"
     ]
    },
    {
     "data": {
      "application/vnd.jupyter.widget-view+json": {
       "model_id": "2f3f6e0244124d6f8821fde8755da240",
       "version_major": 2,
       "version_minor": 0
      },
      "text/plain": [
       "Processing Channels (T=45):   0%|          | 0/3 [00:00<?, ?it/s]"
      ]
     },
     "metadata": {},
     "output_type": "display_data"
    },
    {
     "name": "stdout",
     "output_type": "stream",
     "text": [
      "Timepoint ID 45 saved out\n"
     ]
    },
    {
     "data": {
      "application/vnd.jupyter.widget-view+json": {
       "model_id": "94b10d4e0a164e3d891489c588449030",
       "version_major": 2,
       "version_minor": 0
      },
      "text/plain": [
       "Processing Channels (T=46):   0%|          | 0/3 [00:00<?, ?it/s]"
      ]
     },
     "metadata": {},
     "output_type": "display_data"
    },
    {
     "name": "stdout",
     "output_type": "stream",
     "text": [
      "Timepoint ID 46 saved out\n"
     ]
    },
    {
     "data": {
      "application/vnd.jupyter.widget-view+json": {
       "model_id": "6fb03ae543ca4b4b91ee6dacf77f2c52",
       "version_major": 2,
       "version_minor": 0
      },
      "text/plain": [
       "Processing Channels (T=47):   0%|          | 0/3 [00:00<?, ?it/s]"
      ]
     },
     "metadata": {},
     "output_type": "display_data"
    },
    {
     "name": "stdout",
     "output_type": "stream",
     "text": [
      "Timepoint ID 47 saved out\n"
     ]
    },
    {
     "data": {
      "application/vnd.jupyter.widget-view+json": {
       "model_id": "5a55cad8818a45969ee3f34045ff4165",
       "version_major": 2,
       "version_minor": 0
      },
      "text/plain": [
       "Processing Channels (T=48):   0%|          | 0/3 [00:00<?, ?it/s]"
      ]
     },
     "metadata": {},
     "output_type": "display_data"
    },
    {
     "name": "stdout",
     "output_type": "stream",
     "text": [
      "Timepoint ID 48 saved out\n"
     ]
    },
    {
     "data": {
      "application/vnd.jupyter.widget-view+json": {
       "model_id": "ef170c19344845d18b07a3d0c6366190",
       "version_major": 2,
       "version_minor": 0
      },
      "text/plain": [
       "Processing Channels (T=49):   0%|          | 0/3 [00:00<?, ?it/s]"
      ]
     },
     "metadata": {},
     "output_type": "display_data"
    },
    {
     "name": "stdout",
     "output_type": "stream",
     "text": [
      "Timepoint ID 49 saved out\n"
     ]
    },
    {
     "data": {
      "application/vnd.jupyter.widget-view+json": {
       "model_id": "b86ba517e64b47549bad0a07aff8134f",
       "version_major": 2,
       "version_minor": 0
      },
      "text/plain": [
       "Processing Channels (T=50):   0%|          | 0/3 [00:00<?, ?it/s]"
      ]
     },
     "metadata": {},
     "output_type": "display_data"
    },
    {
     "name": "stdout",
     "output_type": "stream",
     "text": [
      "Timepoint ID 50 saved out\n"
     ]
    },
    {
     "data": {
      "application/vnd.jupyter.widget-view+json": {
       "model_id": "8f7e0d96b8514c038100c6329f63204c",
       "version_major": 2,
       "version_minor": 0
      },
      "text/plain": [
       "Processing Channels (T=51):   0%|          | 0/3 [00:00<?, ?it/s]"
      ]
     },
     "metadata": {},
     "output_type": "display_data"
    },
    {
     "name": "stdout",
     "output_type": "stream",
     "text": [
      "Timepoint ID 51 saved out\n"
     ]
    },
    {
     "data": {
      "application/vnd.jupyter.widget-view+json": {
       "model_id": "767da8faea344fd7bd40dc4a4490a8e8",
       "version_major": 2,
       "version_minor": 0
      },
      "text/plain": [
       "Processing Channels (T=52):   0%|          | 0/3 [00:00<?, ?it/s]"
      ]
     },
     "metadata": {},
     "output_type": "display_data"
    },
    {
     "name": "stdout",
     "output_type": "stream",
     "text": [
      "Timepoint ID 52 saved out\n"
     ]
    },
    {
     "data": {
      "application/vnd.jupyter.widget-view+json": {
       "model_id": "c687b2fd31bc42fd8536611ca84258c2",
       "version_major": 2,
       "version_minor": 0
      },
      "text/plain": [
       "Processing Channels (T=53):   0%|          | 0/3 [00:00<?, ?it/s]"
      ]
     },
     "metadata": {},
     "output_type": "display_data"
    },
    {
     "name": "stdout",
     "output_type": "stream",
     "text": [
      "Timepoint ID 53 saved out\n"
     ]
    },
    {
     "data": {
      "application/vnd.jupyter.widget-view+json": {
       "model_id": "b95b59f188f8478384d350fe472ec580",
       "version_major": 2,
       "version_minor": 0
      },
      "text/plain": [
       "Processing Channels (T=54):   0%|          | 0/3 [00:00<?, ?it/s]"
      ]
     },
     "metadata": {},
     "output_type": "display_data"
    },
    {
     "name": "stdout",
     "output_type": "stream",
     "text": [
      "Timepoint ID 54 saved out\n"
     ]
    },
    {
     "data": {
      "application/vnd.jupyter.widget-view+json": {
       "model_id": "a22baa960da34d35995a930bacb1973d",
       "version_major": 2,
       "version_minor": 0
      },
      "text/plain": [
       "Processing Channels (T=55):   0%|          | 0/3 [00:00<?, ?it/s]"
      ]
     },
     "metadata": {},
     "output_type": "display_data"
    },
    {
     "name": "stdout",
     "output_type": "stream",
     "text": [
      "Timepoint ID 55 saved out\n"
     ]
    },
    {
     "data": {
      "application/vnd.jupyter.widget-view+json": {
       "model_id": "25b75c1e473848acb0bd23f68cf36ee8",
       "version_major": 2,
       "version_minor": 0
      },
      "text/plain": [
       "Processing Channels (T=56):   0%|          | 0/3 [00:00<?, ?it/s]"
      ]
     },
     "metadata": {},
     "output_type": "display_data"
    },
    {
     "name": "stdout",
     "output_type": "stream",
     "text": [
      "Timepoint ID 56 saved out\n"
     ]
    },
    {
     "data": {
      "application/vnd.jupyter.widget-view+json": {
       "model_id": "0667d471434a4eb08c80d92d569aa833",
       "version_major": 2,
       "version_minor": 0
      },
      "text/plain": [
       "Processing Channels (T=57):   0%|          | 0/3 [00:00<?, ?it/s]"
      ]
     },
     "metadata": {},
     "output_type": "display_data"
    },
    {
     "name": "stdout",
     "output_type": "stream",
     "text": [
      "Timepoint ID 57 saved out\n"
     ]
    },
    {
     "data": {
      "application/vnd.jupyter.widget-view+json": {
       "model_id": "4f540e8ea40e4e69a3797069d4a6d993",
       "version_major": 2,
       "version_minor": 0
      },
      "text/plain": [
       "Processing Channels (T=58):   0%|          | 0/3 [00:00<?, ?it/s]"
      ]
     },
     "metadata": {},
     "output_type": "display_data"
    },
    {
     "name": "stdout",
     "output_type": "stream",
     "text": [
      "Timepoint ID 58 saved out\n"
     ]
    },
    {
     "data": {
      "application/vnd.jupyter.widget-view+json": {
       "model_id": "3e006211f73845ed872eb6f46c8f0265",
       "version_major": 2,
       "version_minor": 0
      },
      "text/plain": [
       "Processing Channels (T=59):   0%|          | 0/3 [00:00<?, ?it/s]"
      ]
     },
     "metadata": {},
     "output_type": "display_data"
    },
    {
     "name": "stdout",
     "output_type": "stream",
     "text": [
      "Timepoint ID 59 saved out\n"
     ]
    },
    {
     "data": {
      "application/vnd.jupyter.widget-view+json": {
       "model_id": "4c9267da452d416887b8b75bbe948273",
       "version_major": 2,
       "version_minor": 0
      },
      "text/plain": [
       "Processing Channels (T=60):   0%|          | 0/3 [00:00<?, ?it/s]"
      ]
     },
     "metadata": {},
     "output_type": "display_data"
    },
    {
     "name": "stdout",
     "output_type": "stream",
     "text": [
      "Timepoint ID 60 saved out\n"
     ]
    },
    {
     "data": {
      "application/vnd.jupyter.widget-view+json": {
       "model_id": "4af70b1a696d4ad5a934a6aca57ba811",
       "version_major": 2,
       "version_minor": 0
      },
      "text/plain": [
       "Processing Channels (T=61):   0%|          | 0/3 [00:00<?, ?it/s]"
      ]
     },
     "metadata": {},
     "output_type": "display_data"
    },
    {
     "name": "stdout",
     "output_type": "stream",
     "text": [
      "Timepoint ID 61 saved out\n"
     ]
    },
    {
     "data": {
      "application/vnd.jupyter.widget-view+json": {
       "model_id": "eb293ecfa0194b419a7c81ad4fa47dc4",
       "version_major": 2,
       "version_minor": 0
      },
      "text/plain": [
       "Processing Channels (T=62):   0%|          | 0/3 [00:00<?, ?it/s]"
      ]
     },
     "metadata": {},
     "output_type": "display_data"
    },
    {
     "name": "stdout",
     "output_type": "stream",
     "text": [
      "Timepoint ID 62 saved out\n"
     ]
    },
    {
     "data": {
      "application/vnd.jupyter.widget-view+json": {
       "model_id": "d3571dbce414484b87538b16a3ce193a",
       "version_major": 2,
       "version_minor": 0
      },
      "text/plain": [
       "Processing Channels (T=63):   0%|          | 0/3 [00:00<?, ?it/s]"
      ]
     },
     "metadata": {},
     "output_type": "display_data"
    },
    {
     "name": "stdout",
     "output_type": "stream",
     "text": [
      "Timepoint ID 63 saved out\n"
     ]
    },
    {
     "data": {
      "application/vnd.jupyter.widget-view+json": {
       "model_id": "540dd4e051034593a2c87dc4ec266852",
       "version_major": 2,
       "version_minor": 0
      },
      "text/plain": [
       "Processing Channels (T=64):   0%|          | 0/3 [00:00<?, ?it/s]"
      ]
     },
     "metadata": {},
     "output_type": "display_data"
    },
    {
     "name": "stdout",
     "output_type": "stream",
     "text": [
      "Timepoint ID 64 saved out\n"
     ]
    },
    {
     "data": {
      "application/vnd.jupyter.widget-view+json": {
       "model_id": "a190a8d1c57d40edb8a718df60012077",
       "version_major": 2,
       "version_minor": 0
      },
      "text/plain": [
       "Processing Channels (T=65):   0%|          | 0/3 [00:00<?, ?it/s]"
      ]
     },
     "metadata": {},
     "output_type": "display_data"
    },
    {
     "name": "stdout",
     "output_type": "stream",
     "text": [
      "Timepoint ID 65 saved out\n"
     ]
    },
    {
     "data": {
      "application/vnd.jupyter.widget-view+json": {
       "model_id": "7f00f4ceb7dd49f4a5a7b673d7143bef",
       "version_major": 2,
       "version_minor": 0
      },
      "text/plain": [
       "Processing Channels (T=66):   0%|          | 0/3 [00:00<?, ?it/s]"
      ]
     },
     "metadata": {},
     "output_type": "display_data"
    },
    {
     "name": "stdout",
     "output_type": "stream",
     "text": [
      "Timepoint ID 66 saved out\n"
     ]
    },
    {
     "data": {
      "application/vnd.jupyter.widget-view+json": {
       "model_id": "c84d0f4cdceb4938a88985e1278df4d9",
       "version_major": 2,
       "version_minor": 0
      },
      "text/plain": [
       "Processing Channels (T=67):   0%|          | 0/3 [00:00<?, ?it/s]"
      ]
     },
     "metadata": {},
     "output_type": "display_data"
    },
    {
     "name": "stdout",
     "output_type": "stream",
     "text": [
      "Timepoint ID 67 saved out\n"
     ]
    },
    {
     "data": {
      "application/vnd.jupyter.widget-view+json": {
       "model_id": "387da4c73c184d818fb71ac7eb0757d3",
       "version_major": 2,
       "version_minor": 0
      },
      "text/plain": [
       "Processing Channels (T=68):   0%|          | 0/3 [00:00<?, ?it/s]"
      ]
     },
     "metadata": {},
     "output_type": "display_data"
    },
    {
     "name": "stdout",
     "output_type": "stream",
     "text": [
      "Timepoint ID 68 saved out\n"
     ]
    },
    {
     "data": {
      "application/vnd.jupyter.widget-view+json": {
       "model_id": "cc54544aa6654b04bfc79a4153181bfd",
       "version_major": 2,
       "version_minor": 0
      },
      "text/plain": [
       "Processing Channels (T=69):   0%|          | 0/3 [00:00<?, ?it/s]"
      ]
     },
     "metadata": {},
     "output_type": "display_data"
    },
    {
     "name": "stdout",
     "output_type": "stream",
     "text": [
      "Timepoint ID 69 saved out\n"
     ]
    },
    {
     "data": {
      "application/vnd.jupyter.widget-view+json": {
       "model_id": "c39fc4085439423990f08845729e30a5",
       "version_major": 2,
       "version_minor": 0
      },
      "text/plain": [
       "Processing Channels (T=70):   0%|          | 0/3 [00:00<?, ?it/s]"
      ]
     },
     "metadata": {},
     "output_type": "display_data"
    },
    {
     "name": "stdout",
     "output_type": "stream",
     "text": [
      "Timepoint ID 70 saved out\n"
     ]
    },
    {
     "data": {
      "application/vnd.jupyter.widget-view+json": {
       "model_id": "6bdbd9bb7beb42a0bad75d3e1c68fc7e",
       "version_major": 2,
       "version_minor": 0
      },
      "text/plain": [
       "Processing Channels (T=71):   0%|          | 0/3 [00:00<?, ?it/s]"
      ]
     },
     "metadata": {},
     "output_type": "display_data"
    },
    {
     "name": "stdout",
     "output_type": "stream",
     "text": [
      "Timepoint ID 71 saved out\n"
     ]
    },
    {
     "data": {
      "application/vnd.jupyter.widget-view+json": {
       "model_id": "af8dc8d853bd478faf3d1f1fbd154d77",
       "version_major": 2,
       "version_minor": 0
      },
      "text/plain": [
       "Processing Channels (T=72):   0%|          | 0/3 [00:00<?, ?it/s]"
      ]
     },
     "metadata": {},
     "output_type": "display_data"
    },
    {
     "name": "stdout",
     "output_type": "stream",
     "text": [
      "Timepoint ID 72 saved out\n"
     ]
    },
    {
     "data": {
      "application/vnd.jupyter.widget-view+json": {
       "model_id": "0f92dd1da8ab4a49a13bf6770ba3a05a",
       "version_major": 2,
       "version_minor": 0
      },
      "text/plain": [
       "Processing Channels (T=73):   0%|          | 0/3 [00:00<?, ?it/s]"
      ]
     },
     "metadata": {},
     "output_type": "display_data"
    },
    {
     "name": "stdout",
     "output_type": "stream",
     "text": [
      "Timepoint ID 73 saved out\n"
     ]
    },
    {
     "data": {
      "application/vnd.jupyter.widget-view+json": {
       "model_id": "fc15134070d64890834acdd5c220e9f9",
       "version_major": 2,
       "version_minor": 0
      },
      "text/plain": [
       "Processing Channels (T=74):   0%|          | 0/3 [00:00<?, ?it/s]"
      ]
     },
     "metadata": {},
     "output_type": "display_data"
    },
    {
     "name": "stdout",
     "output_type": "stream",
     "text": [
      "Timepoint ID 74 saved out\n"
     ]
    },
    {
     "data": {
      "application/vnd.jupyter.widget-view+json": {
       "model_id": "a806d27338b8457ebfdd988b8c64235b",
       "version_major": 2,
       "version_minor": 0
      },
      "text/plain": [
       "Processing Channels (T=75):   0%|          | 0/3 [00:00<?, ?it/s]"
      ]
     },
     "metadata": {},
     "output_type": "display_data"
    },
    {
     "name": "stdout",
     "output_type": "stream",
     "text": [
      "Timepoint ID 75 saved out\n"
     ]
    },
    {
     "data": {
      "application/vnd.jupyter.widget-view+json": {
       "model_id": "6bd97c8a9d9b41799878de78261a6717",
       "version_major": 2,
       "version_minor": 0
      },
      "text/plain": [
       "Processing Channels (T=76):   0%|          | 0/3 [00:00<?, ?it/s]"
      ]
     },
     "metadata": {},
     "output_type": "display_data"
    },
    {
     "name": "stdout",
     "output_type": "stream",
     "text": [
      "Timepoint ID 76 saved out\n"
     ]
    },
    {
     "data": {
      "application/vnd.jupyter.widget-view+json": {
       "model_id": "1799421e68b44e73b1abde230d2c61db",
       "version_major": 2,
       "version_minor": 0
      },
      "text/plain": [
       "Processing Channels (T=77):   0%|          | 0/3 [00:00<?, ?it/s]"
      ]
     },
     "metadata": {},
     "output_type": "display_data"
    },
    {
     "name": "stdout",
     "output_type": "stream",
     "text": [
      "Timepoint ID 77 saved out\n"
     ]
    },
    {
     "data": {
      "application/vnd.jupyter.widget-view+json": {
       "model_id": "6e9ce71d8a0d46a8a33c0e6e5a9dd395",
       "version_major": 2,
       "version_minor": 0
      },
      "text/plain": [
       "Processing Channels (T=78):   0%|          | 0/3 [00:00<?, ?it/s]"
      ]
     },
     "metadata": {},
     "output_type": "display_data"
    },
    {
     "name": "stdout",
     "output_type": "stream",
     "text": [
      "Timepoint ID 78 saved out\n"
     ]
    },
    {
     "data": {
      "application/vnd.jupyter.widget-view+json": {
       "model_id": "87475a8b4daf4d5c9bc0af617ea6cadc",
       "version_major": 2,
       "version_minor": 0
      },
      "text/plain": [
       "Processing Channels (T=79):   0%|          | 0/3 [00:00<?, ?it/s]"
      ]
     },
     "metadata": {},
     "output_type": "display_data"
    },
    {
     "name": "stdout",
     "output_type": "stream",
     "text": [
      "Timepoint ID 79 saved out\n"
     ]
    },
    {
     "data": {
      "application/vnd.jupyter.widget-view+json": {
       "model_id": "a4dc4e39a6d14443adf975686e4eeea2",
       "version_major": 2,
       "version_minor": 0
      },
      "text/plain": [
       "Processing Channels (T=80):   0%|          | 0/3 [00:00<?, ?it/s]"
      ]
     },
     "metadata": {},
     "output_type": "display_data"
    },
    {
     "name": "stdout",
     "output_type": "stream",
     "text": [
      "Timepoint ID 80 saved out\n"
     ]
    },
    {
     "data": {
      "application/vnd.jupyter.widget-view+json": {
       "model_id": "946e9f8f3b084d858cecd9d93cf94849",
       "version_major": 2,
       "version_minor": 0
      },
      "text/plain": [
       "Processing Channels (T=81):   0%|          | 0/3 [00:00<?, ?it/s]"
      ]
     },
     "metadata": {},
     "output_type": "display_data"
    },
    {
     "name": "stdout",
     "output_type": "stream",
     "text": [
      "Timepoint ID 81 saved out\n"
     ]
    },
    {
     "data": {
      "application/vnd.jupyter.widget-view+json": {
       "model_id": "2c71d64135d345e0bd78a3255b3e4c48",
       "version_major": 2,
       "version_minor": 0
      },
      "text/plain": [
       "Processing Channels (T=82):   0%|          | 0/3 [00:00<?, ?it/s]"
      ]
     },
     "metadata": {},
     "output_type": "display_data"
    },
    {
     "name": "stdout",
     "output_type": "stream",
     "text": [
      "Timepoint ID 82 saved out\n"
     ]
    },
    {
     "data": {
      "application/vnd.jupyter.widget-view+json": {
       "model_id": "7f13fbb88b02462d821eb77605336c5f",
       "version_major": 2,
       "version_minor": 0
      },
      "text/plain": [
       "Processing Channels (T=83):   0%|          | 0/3 [00:00<?, ?it/s]"
      ]
     },
     "metadata": {},
     "output_type": "display_data"
    },
    {
     "name": "stdout",
     "output_type": "stream",
     "text": [
      "Timepoint ID 83 saved out\n"
     ]
    },
    {
     "data": {
      "application/vnd.jupyter.widget-view+json": {
       "model_id": "27366db617fb4dc9aa16c289902a7df9",
       "version_major": 2,
       "version_minor": 0
      },
      "text/plain": [
       "Processing Channels (T=84):   0%|          | 0/3 [00:00<?, ?it/s]"
      ]
     },
     "metadata": {},
     "output_type": "display_data"
    },
    {
     "name": "stdout",
     "output_type": "stream",
     "text": [
      "Timepoint ID 84 saved out\n"
     ]
    },
    {
     "data": {
      "application/vnd.jupyter.widget-view+json": {
       "model_id": "a9483c3d51ca4ba0b56ef25d09160fcd",
       "version_major": 2,
       "version_minor": 0
      },
      "text/plain": [
       "Processing Channels (T=85):   0%|          | 0/3 [00:00<?, ?it/s]"
      ]
     },
     "metadata": {},
     "output_type": "display_data"
    },
    {
     "name": "stdout",
     "output_type": "stream",
     "text": [
      "Timepoint ID 85 saved out\n"
     ]
    },
    {
     "data": {
      "application/vnd.jupyter.widget-view+json": {
       "model_id": "29b77dc3aae840eaa2f6911925112871",
       "version_major": 2,
       "version_minor": 0
      },
      "text/plain": [
       "Processing Channels (T=86):   0%|          | 0/3 [00:00<?, ?it/s]"
      ]
     },
     "metadata": {},
     "output_type": "display_data"
    },
    {
     "name": "stdout",
     "output_type": "stream",
     "text": [
      "Timepoint ID 86 saved out\n"
     ]
    },
    {
     "data": {
      "application/vnd.jupyter.widget-view+json": {
       "model_id": "f29aad643543459cba7dddff2584e47c",
       "version_major": 2,
       "version_minor": 0
      },
      "text/plain": [
       "Processing Channels (T=87):   0%|          | 0/3 [00:00<?, ?it/s]"
      ]
     },
     "metadata": {},
     "output_type": "display_data"
    },
    {
     "name": "stdout",
     "output_type": "stream",
     "text": [
      "Timepoint ID 87 saved out\n"
     ]
    },
    {
     "data": {
      "application/vnd.jupyter.widget-view+json": {
       "model_id": "98a5042fdd134984a756caa49a7130e9",
       "version_major": 2,
       "version_minor": 0
      },
      "text/plain": [
       "Processing Channels (T=88):   0%|          | 0/3 [00:00<?, ?it/s]"
      ]
     },
     "metadata": {},
     "output_type": "display_data"
    },
    {
     "name": "stdout",
     "output_type": "stream",
     "text": [
      "Timepoint ID 88 saved out\n"
     ]
    },
    {
     "data": {
      "application/vnd.jupyter.widget-view+json": {
       "model_id": "6506de51fbd04984b338d19146c852d7",
       "version_major": 2,
       "version_minor": 0
      },
      "text/plain": [
       "Processing Channels (T=89):   0%|          | 0/3 [00:00<?, ?it/s]"
      ]
     },
     "metadata": {},
     "output_type": "display_data"
    },
    {
     "name": "stdout",
     "output_type": "stream",
     "text": [
      "Timepoint ID 89 saved out\n"
     ]
    },
    {
     "data": {
      "application/vnd.jupyter.widget-view+json": {
       "model_id": "1855a1328230416eb2ea2e8a8ff9cf82",
       "version_major": 2,
       "version_minor": 0
      },
      "text/plain": [
       "Processing Channels (T=90):   0%|          | 0/3 [00:00<?, ?it/s]"
      ]
     },
     "metadata": {},
     "output_type": "display_data"
    },
    {
     "name": "stdout",
     "output_type": "stream",
     "text": [
      "Timepoint ID 90 saved out\n"
     ]
    },
    {
     "data": {
      "application/vnd.jupyter.widget-view+json": {
       "model_id": "97b7e3d9637b42de9510a351ccfeb2e6",
       "version_major": 2,
       "version_minor": 0
      },
      "text/plain": [
       "Processing Channels (T=91):   0%|          | 0/3 [00:00<?, ?it/s]"
      ]
     },
     "metadata": {},
     "output_type": "display_data"
    },
    {
     "name": "stdout",
     "output_type": "stream",
     "text": [
      "Timepoint ID 91 saved out\n"
     ]
    },
    {
     "data": {
      "application/vnd.jupyter.widget-view+json": {
       "model_id": "07384d2aa25a473bb574db79aaf8bf57",
       "version_major": 2,
       "version_minor": 0
      },
      "text/plain": [
       "Processing Channels (T=92):   0%|          | 0/3 [00:00<?, ?it/s]"
      ]
     },
     "metadata": {},
     "output_type": "display_data"
    },
    {
     "name": "stdout",
     "output_type": "stream",
     "text": [
      "Timepoint ID 92 saved out\n"
     ]
    },
    {
     "data": {
      "application/vnd.jupyter.widget-view+json": {
       "model_id": "158d3eb71b65400b9ccf72d4549e7f67",
       "version_major": 2,
       "version_minor": 0
      },
      "text/plain": [
       "Processing Channels (T=93):   0%|          | 0/3 [00:00<?, ?it/s]"
      ]
     },
     "metadata": {},
     "output_type": "display_data"
    },
    {
     "name": "stdout",
     "output_type": "stream",
     "text": [
      "Timepoint ID 93 saved out\n"
     ]
    },
    {
     "data": {
      "application/vnd.jupyter.widget-view+json": {
       "model_id": "c1554d20a96a47978b8098f049b87b9e",
       "version_major": 2,
       "version_minor": 0
      },
      "text/plain": [
       "Processing Channels (T=94):   0%|          | 0/3 [00:00<?, ?it/s]"
      ]
     },
     "metadata": {},
     "output_type": "display_data"
    },
    {
     "name": "stdout",
     "output_type": "stream",
     "text": [
      "Timepoint ID 94 saved out\n"
     ]
    },
    {
     "data": {
      "application/vnd.jupyter.widget-view+json": {
       "model_id": "0db8675140a34aa097c67e5909227dd4",
       "version_major": 2,
       "version_minor": 0
      },
      "text/plain": [
       "Processing Channels (T=95):   0%|          | 0/3 [00:00<?, ?it/s]"
      ]
     },
     "metadata": {},
     "output_type": "display_data"
    },
    {
     "name": "stdout",
     "output_type": "stream",
     "text": [
      "Timepoint ID 95 saved out\n"
     ]
    },
    {
     "data": {
      "application/vnd.jupyter.widget-view+json": {
       "model_id": "f04fff524cad4ab6ba7f803fcd294c60",
       "version_major": 2,
       "version_minor": 0
      },
      "text/plain": [
       "Processing Channels (T=96):   0%|          | 0/3 [00:00<?, ?it/s]"
      ]
     },
     "metadata": {},
     "output_type": "display_data"
    },
    {
     "name": "stdout",
     "output_type": "stream",
     "text": [
      "Timepoint ID 96 saved out\n"
     ]
    },
    {
     "data": {
      "application/vnd.jupyter.widget-view+json": {
       "model_id": "c4d09615544540a3ae69e1235389e243",
       "version_major": 2,
       "version_minor": 0
      },
      "text/plain": [
       "Processing Channels (T=97):   0%|          | 0/3 [00:00<?, ?it/s]"
      ]
     },
     "metadata": {},
     "output_type": "display_data"
    },
    {
     "name": "stdout",
     "output_type": "stream",
     "text": [
      "Timepoint ID 97 saved out\n"
     ]
    },
    {
     "data": {
      "application/vnd.jupyter.widget-view+json": {
       "model_id": "db8f0e9b72a4442782fd3e47bf3a0f5c",
       "version_major": 2,
       "version_minor": 0
      },
      "text/plain": [
       "Processing Channels (T=98):   0%|          | 0/3 [00:00<?, ?it/s]"
      ]
     },
     "metadata": {},
     "output_type": "display_data"
    },
    {
     "name": "stdout",
     "output_type": "stream",
     "text": [
      "Timepoint ID 98 saved out\n"
     ]
    },
    {
     "data": {
      "application/vnd.jupyter.widget-view+json": {
       "model_id": "137ffbf3ba6749b5bef7c75706b3385d",
       "version_major": 2,
       "version_minor": 0
      },
      "text/plain": [
       "Processing Channels (T=99):   0%|          | 0/3 [00:00<?, ?it/s]"
      ]
     },
     "metadata": {},
     "output_type": "display_data"
    },
    {
     "name": "stdout",
     "output_type": "stream",
     "text": [
      "Timepoint ID 99 saved out\n"
     ]
    },
    {
     "data": {
      "application/vnd.jupyter.widget-view+json": {
       "model_id": "cd2e4091d2ac48bb8fcb3a9670902a4e",
       "version_major": 2,
       "version_minor": 0
      },
      "text/plain": [
       "Processing Channels (T=100):   0%|          | 0/3 [00:00<?, ?it/s]"
      ]
     },
     "metadata": {},
     "output_type": "display_data"
    },
    {
     "name": "stdout",
     "output_type": "stream",
     "text": [
      "Timepoint ID 100 saved out\n"
     ]
    },
    {
     "data": {
      "application/vnd.jupyter.widget-view+json": {
       "model_id": "858e2fcf5c464948915b2d051f21a20f",
       "version_major": 2,
       "version_minor": 0
      },
      "text/plain": [
       "Processing Channels (T=101):   0%|          | 0/3 [00:00<?, ?it/s]"
      ]
     },
     "metadata": {},
     "output_type": "display_data"
    },
    {
     "name": "stdout",
     "output_type": "stream",
     "text": [
      "Timepoint ID 101 saved out\n"
     ]
    },
    {
     "data": {
      "application/vnd.jupyter.widget-view+json": {
       "model_id": "875b8624ebe240a882eeb378692e25c5",
       "version_major": 2,
       "version_minor": 0
      },
      "text/plain": [
       "Processing Channels (T=102):   0%|          | 0/3 [00:00<?, ?it/s]"
      ]
     },
     "metadata": {},
     "output_type": "display_data"
    },
    {
     "name": "stdout",
     "output_type": "stream",
     "text": [
      "Timepoint ID 102 saved out\n"
     ]
    },
    {
     "data": {
      "application/vnd.jupyter.widget-view+json": {
       "model_id": "95596ac4a2604be58a39ef9f88cd8569",
       "version_major": 2,
       "version_minor": 0
      },
      "text/plain": [
       "Processing Channels (T=103):   0%|          | 0/3 [00:00<?, ?it/s]"
      ]
     },
     "metadata": {},
     "output_type": "display_data"
    },
    {
     "name": "stdout",
     "output_type": "stream",
     "text": [
      "Timepoint ID 103 saved out\n"
     ]
    },
    {
     "data": {
      "application/vnd.jupyter.widget-view+json": {
       "model_id": "7c05de716b13402b9b4e024a7ef7e82a",
       "version_major": 2,
       "version_minor": 0
      },
      "text/plain": [
       "Processing Channels (T=104):   0%|          | 0/3 [00:00<?, ?it/s]"
      ]
     },
     "metadata": {},
     "output_type": "display_data"
    },
    {
     "name": "stdout",
     "output_type": "stream",
     "text": [
      "Timepoint ID 104 saved out\n"
     ]
    },
    {
     "data": {
      "application/vnd.jupyter.widget-view+json": {
       "model_id": "1b9dd4bf0b6e43d78bf86794f10ea1bf",
       "version_major": 2,
       "version_minor": 0
      },
      "text/plain": [
       "Processing Channels (T=105):   0%|          | 0/3 [00:00<?, ?it/s]"
      ]
     },
     "metadata": {},
     "output_type": "display_data"
    },
    {
     "name": "stdout",
     "output_type": "stream",
     "text": [
      "Timepoint ID 105 saved out\n"
     ]
    },
    {
     "data": {
      "application/vnd.jupyter.widget-view+json": {
       "model_id": "c1a0019586064c0ba167def1e9627fa5",
       "version_major": 2,
       "version_minor": 0
      },
      "text/plain": [
       "Processing Channels (T=106):   0%|          | 0/3 [00:00<?, ?it/s]"
      ]
     },
     "metadata": {},
     "output_type": "display_data"
    },
    {
     "name": "stdout",
     "output_type": "stream",
     "text": [
      "Timepoint ID 106 saved out\n"
     ]
    },
    {
     "data": {
      "application/vnd.jupyter.widget-view+json": {
       "model_id": "69cdb39b61fc457b80e076ea7d53a72d",
       "version_major": 2,
       "version_minor": 0
      },
      "text/plain": [
       "Processing Channels (T=107):   0%|          | 0/3 [00:00<?, ?it/s]"
      ]
     },
     "metadata": {},
     "output_type": "display_data"
    },
    {
     "name": "stdout",
     "output_type": "stream",
     "text": [
      "Timepoint ID 107 saved out\n"
     ]
    },
    {
     "data": {
      "application/vnd.jupyter.widget-view+json": {
       "model_id": "3162fe833aa54faea669eda39667efcc",
       "version_major": 2,
       "version_minor": 0
      },
      "text/plain": [
       "Processing Channels (T=108):   0%|          | 0/3 [00:00<?, ?it/s]"
      ]
     },
     "metadata": {},
     "output_type": "display_data"
    },
    {
     "name": "stdout",
     "output_type": "stream",
     "text": [
      "Timepoint ID 108 saved out\n"
     ]
    },
    {
     "data": {
      "application/vnd.jupyter.widget-view+json": {
       "model_id": "931bfe41c73248b895a23473ef052a7b",
       "version_major": 2,
       "version_minor": 0
      },
      "text/plain": [
       "Processing Channels (T=109):   0%|          | 0/3 [00:00<?, ?it/s]"
      ]
     },
     "metadata": {},
     "output_type": "display_data"
    },
    {
     "name": "stdout",
     "output_type": "stream",
     "text": [
      "Timepoint ID 109 saved out\n"
     ]
    },
    {
     "data": {
      "application/vnd.jupyter.widget-view+json": {
       "model_id": "e6fa2a19ad954cbd82ab29818ed55f4a",
       "version_major": 2,
       "version_minor": 0
      },
      "text/plain": [
       "Processing Channels (T=110):   0%|          | 0/3 [00:00<?, ?it/s]"
      ]
     },
     "metadata": {},
     "output_type": "display_data"
    },
    {
     "name": "stdout",
     "output_type": "stream",
     "text": [
      "Timepoint ID 110 saved out\n"
     ]
    },
    {
     "data": {
      "application/vnd.jupyter.widget-view+json": {
       "model_id": "df11fda05c3247309d7986e75b7f3d9c",
       "version_major": 2,
       "version_minor": 0
      },
      "text/plain": [
       "Processing Channels (T=111):   0%|          | 0/3 [00:00<?, ?it/s]"
      ]
     },
     "metadata": {},
     "output_type": "display_data"
    },
    {
     "name": "stdout",
     "output_type": "stream",
     "text": [
      "Timepoint ID 111 saved out\n"
     ]
    },
    {
     "data": {
      "application/vnd.jupyter.widget-view+json": {
       "model_id": "14ec73831aa14d0d965131e799370f70",
       "version_major": 2,
       "version_minor": 0
      },
      "text/plain": [
       "Processing Channels (T=112):   0%|          | 0/3 [00:00<?, ?it/s]"
      ]
     },
     "metadata": {},
     "output_type": "display_data"
    },
    {
     "name": "stdout",
     "output_type": "stream",
     "text": [
      "Timepoint ID 112 saved out\n"
     ]
    },
    {
     "data": {
      "application/vnd.jupyter.widget-view+json": {
       "model_id": "d6427b2d7d9c45b09cb72faa6f44fb9f",
       "version_major": 2,
       "version_minor": 0
      },
      "text/plain": [
       "Processing Channels (T=113):   0%|          | 0/3 [00:00<?, ?it/s]"
      ]
     },
     "metadata": {},
     "output_type": "display_data"
    },
    {
     "name": "stdout",
     "output_type": "stream",
     "text": [
      "Timepoint ID 113 saved out\n"
     ]
    },
    {
     "data": {
      "application/vnd.jupyter.widget-view+json": {
       "model_id": "5a392e8830cf4ceea961b40b94c82323",
       "version_major": 2,
       "version_minor": 0
      },
      "text/plain": [
       "Processing Channels (T=114):   0%|          | 0/3 [00:00<?, ?it/s]"
      ]
     },
     "metadata": {},
     "output_type": "display_data"
    },
    {
     "name": "stdout",
     "output_type": "stream",
     "text": [
      "Timepoint ID 114 saved out\n"
     ]
    },
    {
     "data": {
      "application/vnd.jupyter.widget-view+json": {
       "model_id": "3c4c9d782cc94799a734d18436704e07",
       "version_major": 2,
       "version_minor": 0
      },
      "text/plain": [
       "Processing Channels (T=115):   0%|          | 0/3 [00:00<?, ?it/s]"
      ]
     },
     "metadata": {},
     "output_type": "display_data"
    },
    {
     "name": "stdout",
     "output_type": "stream",
     "text": [
      "Timepoint ID 115 saved out\n"
     ]
    },
    {
     "data": {
      "application/vnd.jupyter.widget-view+json": {
       "model_id": "bb90045676054ac09c5ffe4d3a9e71d2",
       "version_major": 2,
       "version_minor": 0
      },
      "text/plain": [
       "Processing Channels (T=116):   0%|          | 0/3 [00:00<?, ?it/s]"
      ]
     },
     "metadata": {},
     "output_type": "display_data"
    },
    {
     "name": "stdout",
     "output_type": "stream",
     "text": [
      "Timepoint ID 116 saved out\n"
     ]
    },
    {
     "data": {
      "application/vnd.jupyter.widget-view+json": {
       "model_id": "a9d247966f4f45d9befed3197ed7bd77",
       "version_major": 2,
       "version_minor": 0
      },
      "text/plain": [
       "Processing Channels (T=117):   0%|          | 0/3 [00:00<?, ?it/s]"
      ]
     },
     "metadata": {},
     "output_type": "display_data"
    },
    {
     "name": "stdout",
     "output_type": "stream",
     "text": [
      "Timepoint ID 117 saved out\n"
     ]
    },
    {
     "data": {
      "application/vnd.jupyter.widget-view+json": {
       "model_id": "db65bf58eb6b4452b6fe2013dac4ffe7",
       "version_major": 2,
       "version_minor": 0
      },
      "text/plain": [
       "Processing Channels (T=118):   0%|          | 0/3 [00:00<?, ?it/s]"
      ]
     },
     "metadata": {},
     "output_type": "display_data"
    },
    {
     "name": "stdout",
     "output_type": "stream",
     "text": [
      "Timepoint ID 118 saved out\n"
     ]
    },
    {
     "data": {
      "application/vnd.jupyter.widget-view+json": {
       "model_id": "d9f0336272834b4b80d5fbc76f7d7dab",
       "version_major": 2,
       "version_minor": 0
      },
      "text/plain": [
       "Processing Channels (T=119):   0%|          | 0/3 [00:00<?, ?it/s]"
      ]
     },
     "metadata": {},
     "output_type": "display_data"
    },
    {
     "name": "stdout",
     "output_type": "stream",
     "text": [
      "Timepoint ID 119 saved out\n"
     ]
    },
    {
     "data": {
      "application/vnd.jupyter.widget-view+json": {
       "model_id": "bccb2f3dea314d6898ca5cb6e049a5c9",
       "version_major": 2,
       "version_minor": 0
      },
      "text/plain": [
       "Processing Channels (T=120):   0%|          | 0/3 [00:00<?, ?it/s]"
      ]
     },
     "metadata": {},
     "output_type": "display_data"
    },
    {
     "name": "stdout",
     "output_type": "stream",
     "text": [
      "Timepoint ID 120 saved out\n"
     ]
    },
    {
     "data": {
      "application/vnd.jupyter.widget-view+json": {
       "model_id": "9b71501fcdf3430a87a724894d27e4fb",
       "version_major": 2,
       "version_minor": 0
      },
      "text/plain": [
       "Processing Channels (T=121):   0%|          | 0/3 [00:00<?, ?it/s]"
      ]
     },
     "metadata": {},
     "output_type": "display_data"
    },
    {
     "name": "stdout",
     "output_type": "stream",
     "text": [
      "Timepoint ID 121 saved out\n"
     ]
    },
    {
     "data": {
      "application/vnd.jupyter.widget-view+json": {
       "model_id": "185708203b4f476bb1cc578d8aead9db",
       "version_major": 2,
       "version_minor": 0
      },
      "text/plain": [
       "Processing Channels (T=122):   0%|          | 0/3 [00:00<?, ?it/s]"
      ]
     },
     "metadata": {},
     "output_type": "display_data"
    },
    {
     "name": "stdout",
     "output_type": "stream",
     "text": [
      "Timepoint ID 122 saved out\n"
     ]
    },
    {
     "data": {
      "application/vnd.jupyter.widget-view+json": {
       "model_id": "668fed76c7464b8c9e3181407e9ef09a",
       "version_major": 2,
       "version_minor": 0
      },
      "text/plain": [
       "Processing Channels (T=123):   0%|          | 0/3 [00:00<?, ?it/s]"
      ]
     },
     "metadata": {},
     "output_type": "display_data"
    },
    {
     "name": "stdout",
     "output_type": "stream",
     "text": [
      "Timepoint ID 123 saved out\n"
     ]
    },
    {
     "data": {
      "application/vnd.jupyter.widget-view+json": {
       "model_id": "b08c5ee9389b4bb1b76d6caa31e1d3ef",
       "version_major": 2,
       "version_minor": 0
      },
      "text/plain": [
       "Processing Channels (T=124):   0%|          | 0/3 [00:00<?, ?it/s]"
      ]
     },
     "metadata": {},
     "output_type": "display_data"
    },
    {
     "name": "stdout",
     "output_type": "stream",
     "text": [
      "Timepoint ID 124 saved out\n"
     ]
    },
    {
     "data": {
      "application/vnd.jupyter.widget-view+json": {
       "model_id": "6a0ef99e8cfa4153908aeca568e9d303",
       "version_major": 2,
       "version_minor": 0
      },
      "text/plain": [
       "Processing Channels (T=125):   0%|          | 0/3 [00:00<?, ?it/s]"
      ]
     },
     "metadata": {},
     "output_type": "display_data"
    },
    {
     "name": "stdout",
     "output_type": "stream",
     "text": [
      "Timepoint ID 125 saved out\n"
     ]
    },
    {
     "data": {
      "application/vnd.jupyter.widget-view+json": {
       "model_id": "854b6479ef95469b980349c9fa1aeef5",
       "version_major": 2,
       "version_minor": 0
      },
      "text/plain": [
       "Processing Channels (T=126):   0%|          | 0/3 [00:00<?, ?it/s]"
      ]
     },
     "metadata": {},
     "output_type": "display_data"
    },
    {
     "name": "stdout",
     "output_type": "stream",
     "text": [
      "Timepoint ID 126 saved out\n"
     ]
    },
    {
     "data": {
      "application/vnd.jupyter.widget-view+json": {
       "model_id": "a04fe99e95b64b6db48354a72e2b33a6",
       "version_major": 2,
       "version_minor": 0
      },
      "text/plain": [
       "Processing Channels (T=127):   0%|          | 0/3 [00:00<?, ?it/s]"
      ]
     },
     "metadata": {},
     "output_type": "display_data"
    },
    {
     "name": "stdout",
     "output_type": "stream",
     "text": [
      "Timepoint ID 127 saved out\n"
     ]
    },
    {
     "data": {
      "application/vnd.jupyter.widget-view+json": {
       "model_id": "f55f5ea4fe9048a8878f3b31648f6592",
       "version_major": 2,
       "version_minor": 0
      },
      "text/plain": [
       "Processing Channels (T=128):   0%|          | 0/3 [00:00<?, ?it/s]"
      ]
     },
     "metadata": {},
     "output_type": "display_data"
    },
    {
     "name": "stdout",
     "output_type": "stream",
     "text": [
      "Timepoint ID 128 saved out\n"
     ]
    },
    {
     "data": {
      "application/vnd.jupyter.widget-view+json": {
       "model_id": "01f7a54b53774abebe867d813500e256",
       "version_major": 2,
       "version_minor": 0
      },
      "text/plain": [
       "Processing Channels (T=129):   0%|          | 0/3 [00:00<?, ?it/s]"
      ]
     },
     "metadata": {},
     "output_type": "display_data"
    },
    {
     "name": "stdout",
     "output_type": "stream",
     "text": [
      "Timepoint ID 129 saved out\n"
     ]
    },
    {
     "data": {
      "application/vnd.jupyter.widget-view+json": {
       "model_id": "32df39dc867d4ead809789bc06b59c5f",
       "version_major": 2,
       "version_minor": 0
      },
      "text/plain": [
       "Processing Channels (T=130):   0%|          | 0/3 [00:00<?, ?it/s]"
      ]
     },
     "metadata": {},
     "output_type": "display_data"
    },
    {
     "name": "stdout",
     "output_type": "stream",
     "text": [
      "Timepoint ID 130 saved out\n"
     ]
    },
    {
     "data": {
      "application/vnd.jupyter.widget-view+json": {
       "model_id": "feb5f413140d42c6969a5b76144e76d8",
       "version_major": 2,
       "version_minor": 0
      },
      "text/plain": [
       "Processing Channels (T=131):   0%|          | 0/3 [00:00<?, ?it/s]"
      ]
     },
     "metadata": {},
     "output_type": "display_data"
    },
    {
     "name": "stdout",
     "output_type": "stream",
     "text": [
      "Timepoint ID 131 saved out\n"
     ]
    },
    {
     "data": {
      "application/vnd.jupyter.widget-view+json": {
       "model_id": "9bc6eb409bcc40748801b3dd3372309f",
       "version_major": 2,
       "version_minor": 0
      },
      "text/plain": [
       "Processing Channels (T=132):   0%|          | 0/3 [00:00<?, ?it/s]"
      ]
     },
     "metadata": {},
     "output_type": "display_data"
    },
    {
     "name": "stdout",
     "output_type": "stream",
     "text": [
      "Timepoint ID 132 saved out\n"
     ]
    },
    {
     "data": {
      "application/vnd.jupyter.widget-view+json": {
       "model_id": "8b82e7dfd734484ebc24c1f5d7d77137",
       "version_major": 2,
       "version_minor": 0
      },
      "text/plain": [
       "Processing Channels (T=133):   0%|          | 0/3 [00:00<?, ?it/s]"
      ]
     },
     "metadata": {},
     "output_type": "display_data"
    },
    {
     "name": "stdout",
     "output_type": "stream",
     "text": [
      "Timepoint ID 133 saved out\n"
     ]
    },
    {
     "data": {
      "application/vnd.jupyter.widget-view+json": {
       "model_id": "cd82b201a9014292a3e274cb48a809c7",
       "version_major": 2,
       "version_minor": 0
      },
      "text/plain": [
       "Processing Channels (T=134):   0%|          | 0/3 [00:00<?, ?it/s]"
      ]
     },
     "metadata": {},
     "output_type": "display_data"
    },
    {
     "name": "stdout",
     "output_type": "stream",
     "text": [
      "Timepoint ID 134 saved out\n"
     ]
    },
    {
     "data": {
      "application/vnd.jupyter.widget-view+json": {
       "model_id": "ec5f1fb07da64c42adcae561eabfd275",
       "version_major": 2,
       "version_minor": 0
      },
      "text/plain": [
       "Processing Channels (T=135):   0%|          | 0/3 [00:00<?, ?it/s]"
      ]
     },
     "metadata": {},
     "output_type": "display_data"
    },
    {
     "name": "stdout",
     "output_type": "stream",
     "text": [
      "Timepoint ID 135 saved out\n"
     ]
    },
    {
     "data": {
      "application/vnd.jupyter.widget-view+json": {
       "model_id": "91fe8f9cfba94fca83bcdb3dc5e24d00",
       "version_major": 2,
       "version_minor": 0
      },
      "text/plain": [
       "Processing Channels (T=136):   0%|          | 0/3 [00:00<?, ?it/s]"
      ]
     },
     "metadata": {},
     "output_type": "display_data"
    },
    {
     "name": "stdout",
     "output_type": "stream",
     "text": [
      "Timepoint ID 136 saved out\n"
     ]
    },
    {
     "data": {
      "application/vnd.jupyter.widget-view+json": {
       "model_id": "78a395b8ad18410b8a1af4d193e4b3cc",
       "version_major": 2,
       "version_minor": 0
      },
      "text/plain": [
       "Processing Channels (T=137):   0%|          | 0/3 [00:00<?, ?it/s]"
      ]
     },
     "metadata": {},
     "output_type": "display_data"
    },
    {
     "name": "stdout",
     "output_type": "stream",
     "text": [
      "Timepoint ID 137 saved out\n"
     ]
    },
    {
     "data": {
      "application/vnd.jupyter.widget-view+json": {
       "model_id": "40122bd9a4004bbdbd449089ce30f11c",
       "version_major": 2,
       "version_minor": 0
      },
      "text/plain": [
       "Processing Channels (T=138):   0%|          | 0/3 [00:00<?, ?it/s]"
      ]
     },
     "metadata": {},
     "output_type": "display_data"
    },
    {
     "name": "stdout",
     "output_type": "stream",
     "text": [
      "Timepoint ID 138 saved out\n"
     ]
    },
    {
     "data": {
      "application/vnd.jupyter.widget-view+json": {
       "model_id": "095ab63317374ed2b4dc0a37a97cb450",
       "version_major": 2,
       "version_minor": 0
      },
      "text/plain": [
       "Processing Channels (T=139):   0%|          | 0/3 [00:00<?, ?it/s]"
      ]
     },
     "metadata": {},
     "output_type": "display_data"
    },
    {
     "name": "stdout",
     "output_type": "stream",
     "text": [
      "Timepoint ID 139 saved out\n"
     ]
    },
    {
     "data": {
      "application/vnd.jupyter.widget-view+json": {
       "model_id": "aaf9bb5f331544d1907db2d256301834",
       "version_major": 2,
       "version_minor": 0
      },
      "text/plain": [
       "Processing Channels (T=140):   0%|          | 0/3 [00:00<?, ?it/s]"
      ]
     },
     "metadata": {},
     "output_type": "display_data"
    },
    {
     "name": "stdout",
     "output_type": "stream",
     "text": [
      "Timepoint ID 140 saved out\n"
     ]
    },
    {
     "data": {
      "application/vnd.jupyter.widget-view+json": {
       "model_id": "13c77b5b9eb14e35ad8790925f4ad6ac",
       "version_major": 2,
       "version_minor": 0
      },
      "text/plain": [
       "Processing Channels (T=141):   0%|          | 0/3 [00:00<?, ?it/s]"
      ]
     },
     "metadata": {},
     "output_type": "display_data"
    },
    {
     "name": "stdout",
     "output_type": "stream",
     "text": [
      "Timepoint ID 141 saved out\n"
     ]
    },
    {
     "data": {
      "application/vnd.jupyter.widget-view+json": {
       "model_id": "3730c1097400488ea4aa9f259f5c7d83",
       "version_major": 2,
       "version_minor": 0
      },
      "text/plain": [
       "Processing Channels (T=142):   0%|          | 0/3 [00:00<?, ?it/s]"
      ]
     },
     "metadata": {},
     "output_type": "display_data"
    },
    {
     "name": "stdout",
     "output_type": "stream",
     "text": [
      "Timepoint ID 142 saved out\n"
     ]
    },
    {
     "data": {
      "application/vnd.jupyter.widget-view+json": {
       "model_id": "d335792708b24e94bbe6199994cf5526",
       "version_major": 2,
       "version_minor": 0
      },
      "text/plain": [
       "Processing Channels (T=143):   0%|          | 0/3 [00:00<?, ?it/s]"
      ]
     },
     "metadata": {},
     "output_type": "display_data"
    },
    {
     "name": "stdout",
     "output_type": "stream",
     "text": [
      "Timepoint ID 143 saved out\n"
     ]
    },
    {
     "data": {
      "application/vnd.jupyter.widget-view+json": {
       "model_id": "87397885923a4f089c9e3d78c8c50a55",
       "version_major": 2,
       "version_minor": 0
      },
      "text/plain": [
       "Processing Time Points:   0%|          | 0/144 [00:00<?, ?it/s]"
      ]
     },
     "metadata": {},
     "output_type": "display_data"
    },
    {
     "data": {
      "application/vnd.jupyter.widget-view+json": {
       "model_id": "4e73063b79dc44a29d2498e28b481ced",
       "version_major": 2,
       "version_minor": 0
      },
      "text/plain": [
       "Processing Channels (T=0):   0%|          | 0/3 [00:00<?, ?it/s]"
      ]
     },
     "metadata": {},
     "output_type": "display_data"
    },
    {
     "name": "stdout",
     "output_type": "stream",
     "text": [
      "Timepoint ID 0 saved out\n"
     ]
    },
    {
     "data": {
      "application/vnd.jupyter.widget-view+json": {
       "model_id": "41c867f67f114943acbba62f6123387d",
       "version_major": 2,
       "version_minor": 0
      },
      "text/plain": [
       "Processing Channels (T=1):   0%|          | 0/3 [00:00<?, ?it/s]"
      ]
     },
     "metadata": {},
     "output_type": "display_data"
    },
    {
     "name": "stdout",
     "output_type": "stream",
     "text": [
      "Timepoint ID 1 saved out\n"
     ]
    },
    {
     "data": {
      "application/vnd.jupyter.widget-view+json": {
       "model_id": "8bc6baf4b677449599b0130d11c776ae",
       "version_major": 2,
       "version_minor": 0
      },
      "text/plain": [
       "Processing Channels (T=2):   0%|          | 0/3 [00:00<?, ?it/s]"
      ]
     },
     "metadata": {},
     "output_type": "display_data"
    },
    {
     "name": "stdout",
     "output_type": "stream",
     "text": [
      "Timepoint ID 2 saved out\n"
     ]
    },
    {
     "data": {
      "application/vnd.jupyter.widget-view+json": {
       "model_id": "ccfee522a6e74372bae86253b2a6ed1e",
       "version_major": 2,
       "version_minor": 0
      },
      "text/plain": [
       "Processing Channels (T=3):   0%|          | 0/3 [00:00<?, ?it/s]"
      ]
     },
     "metadata": {},
     "output_type": "display_data"
    },
    {
     "name": "stdout",
     "output_type": "stream",
     "text": [
      "Timepoint ID 3 saved out\n"
     ]
    },
    {
     "data": {
      "application/vnd.jupyter.widget-view+json": {
       "model_id": "6f43444cc9964fa1b859c26f3d69f8d5",
       "version_major": 2,
       "version_minor": 0
      },
      "text/plain": [
       "Processing Channels (T=4):   0%|          | 0/3 [00:00<?, ?it/s]"
      ]
     },
     "metadata": {},
     "output_type": "display_data"
    },
    {
     "name": "stdout",
     "output_type": "stream",
     "text": [
      "Timepoint ID 4 saved out\n"
     ]
    },
    {
     "data": {
      "application/vnd.jupyter.widget-view+json": {
       "model_id": "51fa04145b23465dab58986fcd484968",
       "version_major": 2,
       "version_minor": 0
      },
      "text/plain": [
       "Processing Channels (T=5):   0%|          | 0/3 [00:00<?, ?it/s]"
      ]
     },
     "metadata": {},
     "output_type": "display_data"
    },
    {
     "name": "stdout",
     "output_type": "stream",
     "text": [
      "Timepoint ID 5 saved out\n"
     ]
    },
    {
     "data": {
      "application/vnd.jupyter.widget-view+json": {
       "model_id": "b5d61e94154b48bb97ff7753c4d19703",
       "version_major": 2,
       "version_minor": 0
      },
      "text/plain": [
       "Processing Channels (T=6):   0%|          | 0/3 [00:00<?, ?it/s]"
      ]
     },
     "metadata": {},
     "output_type": "display_data"
    },
    {
     "name": "stdout",
     "output_type": "stream",
     "text": [
      "Timepoint ID 6 saved out\n"
     ]
    },
    {
     "data": {
      "application/vnd.jupyter.widget-view+json": {
       "model_id": "0ae4efabd0f64f22ab62796ddc350d74",
       "version_major": 2,
       "version_minor": 0
      },
      "text/plain": [
       "Processing Channels (T=7):   0%|          | 0/3 [00:00<?, ?it/s]"
      ]
     },
     "metadata": {},
     "output_type": "display_data"
    },
    {
     "name": "stdout",
     "output_type": "stream",
     "text": [
      "Timepoint ID 7 saved out\n"
     ]
    },
    {
     "data": {
      "application/vnd.jupyter.widget-view+json": {
       "model_id": "5c6795e21e2248c0b60b01f9fa31f0f9",
       "version_major": 2,
       "version_minor": 0
      },
      "text/plain": [
       "Processing Channels (T=8):   0%|          | 0/3 [00:00<?, ?it/s]"
      ]
     },
     "metadata": {},
     "output_type": "display_data"
    },
    {
     "name": "stdout",
     "output_type": "stream",
     "text": [
      "Timepoint ID 8 saved out\n"
     ]
    },
    {
     "data": {
      "application/vnd.jupyter.widget-view+json": {
       "model_id": "9decbcb27d2649ad8b0ffdfa691e58e7",
       "version_major": 2,
       "version_minor": 0
      },
      "text/plain": [
       "Processing Channels (T=9):   0%|          | 0/3 [00:00<?, ?it/s]"
      ]
     },
     "metadata": {},
     "output_type": "display_data"
    },
    {
     "name": "stdout",
     "output_type": "stream",
     "text": [
      "Timepoint ID 9 saved out\n"
     ]
    },
    {
     "data": {
      "application/vnd.jupyter.widget-view+json": {
       "model_id": "b2578870395845b1a674346a0e95451e",
       "version_major": 2,
       "version_minor": 0
      },
      "text/plain": [
       "Processing Channels (T=10):   0%|          | 0/3 [00:00<?, ?it/s]"
      ]
     },
     "metadata": {},
     "output_type": "display_data"
    },
    {
     "name": "stdout",
     "output_type": "stream",
     "text": [
      "Timepoint ID 10 saved out\n"
     ]
    },
    {
     "data": {
      "application/vnd.jupyter.widget-view+json": {
       "model_id": "363bbc47001c40749741ec0b652c1ebb",
       "version_major": 2,
       "version_minor": 0
      },
      "text/plain": [
       "Processing Channels (T=11):   0%|          | 0/3 [00:00<?, ?it/s]"
      ]
     },
     "metadata": {},
     "output_type": "display_data"
    },
    {
     "name": "stdout",
     "output_type": "stream",
     "text": [
      "Timepoint ID 11 saved out\n"
     ]
    },
    {
     "data": {
      "application/vnd.jupyter.widget-view+json": {
       "model_id": "447bf8ac2c3c46dba4a15355bb80071e",
       "version_major": 2,
       "version_minor": 0
      },
      "text/plain": [
       "Processing Channels (T=12):   0%|          | 0/3 [00:00<?, ?it/s]"
      ]
     },
     "metadata": {},
     "output_type": "display_data"
    },
    {
     "name": "stdout",
     "output_type": "stream",
     "text": [
      "Timepoint ID 12 saved out\n"
     ]
    },
    {
     "data": {
      "application/vnd.jupyter.widget-view+json": {
       "model_id": "c12b2dfbf7a444b6b6302efb0fe8696b",
       "version_major": 2,
       "version_minor": 0
      },
      "text/plain": [
       "Processing Channels (T=13):   0%|          | 0/3 [00:00<?, ?it/s]"
      ]
     },
     "metadata": {},
     "output_type": "display_data"
    },
    {
     "name": "stdout",
     "output_type": "stream",
     "text": [
      "Timepoint ID 13 saved out\n"
     ]
    },
    {
     "data": {
      "application/vnd.jupyter.widget-view+json": {
       "model_id": "adbcf7b183f1464296450f0ca1bc9278",
       "version_major": 2,
       "version_minor": 0
      },
      "text/plain": [
       "Processing Channels (T=14):   0%|          | 0/3 [00:00<?, ?it/s]"
      ]
     },
     "metadata": {},
     "output_type": "display_data"
    },
    {
     "name": "stdout",
     "output_type": "stream",
     "text": [
      "Timepoint ID 14 saved out\n"
     ]
    },
    {
     "data": {
      "application/vnd.jupyter.widget-view+json": {
       "model_id": "08e3129e37fd420aaa42ad67e23d359d",
       "version_major": 2,
       "version_minor": 0
      },
      "text/plain": [
       "Processing Channels (T=15):   0%|          | 0/3 [00:00<?, ?it/s]"
      ]
     },
     "metadata": {},
     "output_type": "display_data"
    },
    {
     "name": "stdout",
     "output_type": "stream",
     "text": [
      "Timepoint ID 15 saved out\n"
     ]
    },
    {
     "data": {
      "application/vnd.jupyter.widget-view+json": {
       "model_id": "1a546cf0b1574639a11b68dc64036d7d",
       "version_major": 2,
       "version_minor": 0
      },
      "text/plain": [
       "Processing Channels (T=16):   0%|          | 0/3 [00:00<?, ?it/s]"
      ]
     },
     "metadata": {},
     "output_type": "display_data"
    },
    {
     "name": "stdout",
     "output_type": "stream",
     "text": [
      "Timepoint ID 16 saved out\n"
     ]
    },
    {
     "data": {
      "application/vnd.jupyter.widget-view+json": {
       "model_id": "4b08bbb472c146ccbfcd1e3d8c1358cd",
       "version_major": 2,
       "version_minor": 0
      },
      "text/plain": [
       "Processing Channels (T=17):   0%|          | 0/3 [00:00<?, ?it/s]"
      ]
     },
     "metadata": {},
     "output_type": "display_data"
    },
    {
     "name": "stdout",
     "output_type": "stream",
     "text": [
      "Timepoint ID 17 saved out\n"
     ]
    },
    {
     "data": {
      "application/vnd.jupyter.widget-view+json": {
       "model_id": "594a3d67583c48d0867006a7003d0d10",
       "version_major": 2,
       "version_minor": 0
      },
      "text/plain": [
       "Processing Channels (T=18):   0%|          | 0/3 [00:00<?, ?it/s]"
      ]
     },
     "metadata": {},
     "output_type": "display_data"
    },
    {
     "name": "stdout",
     "output_type": "stream",
     "text": [
      "Timepoint ID 18 saved out\n"
     ]
    },
    {
     "data": {
      "application/vnd.jupyter.widget-view+json": {
       "model_id": "8c4e8bd6233f4448af3152bde5df1afc",
       "version_major": 2,
       "version_minor": 0
      },
      "text/plain": [
       "Processing Channels (T=19):   0%|          | 0/3 [00:00<?, ?it/s]"
      ]
     },
     "metadata": {},
     "output_type": "display_data"
    },
    {
     "name": "stdout",
     "output_type": "stream",
     "text": [
      "Timepoint ID 19 saved out\n"
     ]
    },
    {
     "data": {
      "application/vnd.jupyter.widget-view+json": {
       "model_id": "1ecbf7e3198942b18222b7a2a5ab621a",
       "version_major": 2,
       "version_minor": 0
      },
      "text/plain": [
       "Processing Channels (T=20):   0%|          | 0/3 [00:00<?, ?it/s]"
      ]
     },
     "metadata": {},
     "output_type": "display_data"
    },
    {
     "name": "stdout",
     "output_type": "stream",
     "text": [
      "Timepoint ID 20 saved out\n"
     ]
    },
    {
     "data": {
      "application/vnd.jupyter.widget-view+json": {
       "model_id": "1ec8b27ce3fa4ae79f3d991ebbec78fa",
       "version_major": 2,
       "version_minor": 0
      },
      "text/plain": [
       "Processing Channels (T=21):   0%|          | 0/3 [00:00<?, ?it/s]"
      ]
     },
     "metadata": {},
     "output_type": "display_data"
    },
    {
     "name": "stdout",
     "output_type": "stream",
     "text": [
      "Timepoint ID 21 saved out\n"
     ]
    },
    {
     "data": {
      "application/vnd.jupyter.widget-view+json": {
       "model_id": "db74438bc99845c79f39277cbb061916",
       "version_major": 2,
       "version_minor": 0
      },
      "text/plain": [
       "Processing Channels (T=22):   0%|          | 0/3 [00:00<?, ?it/s]"
      ]
     },
     "metadata": {},
     "output_type": "display_data"
    },
    {
     "name": "stdout",
     "output_type": "stream",
     "text": [
      "Timepoint ID 22 saved out\n"
     ]
    },
    {
     "data": {
      "application/vnd.jupyter.widget-view+json": {
       "model_id": "4c467a9e606a466dbeb15a178479280c",
       "version_major": 2,
       "version_minor": 0
      },
      "text/plain": [
       "Processing Channels (T=23):   0%|          | 0/3 [00:00<?, ?it/s]"
      ]
     },
     "metadata": {},
     "output_type": "display_data"
    },
    {
     "name": "stdout",
     "output_type": "stream",
     "text": [
      "Timepoint ID 23 saved out\n"
     ]
    },
    {
     "data": {
      "application/vnd.jupyter.widget-view+json": {
       "model_id": "0ce7aa4a4ae1417b96a1f9b000e66c5b",
       "version_major": 2,
       "version_minor": 0
      },
      "text/plain": [
       "Processing Channels (T=24):   0%|          | 0/3 [00:00<?, ?it/s]"
      ]
     },
     "metadata": {},
     "output_type": "display_data"
    },
    {
     "name": "stdout",
     "output_type": "stream",
     "text": [
      "Timepoint ID 24 saved out\n"
     ]
    },
    {
     "data": {
      "application/vnd.jupyter.widget-view+json": {
       "model_id": "70d1b89dc6024c5fb4bf6f773fa43348",
       "version_major": 2,
       "version_minor": 0
      },
      "text/plain": [
       "Processing Channels (T=25):   0%|          | 0/3 [00:00<?, ?it/s]"
      ]
     },
     "metadata": {},
     "output_type": "display_data"
    },
    {
     "name": "stdout",
     "output_type": "stream",
     "text": [
      "Timepoint ID 25 saved out\n"
     ]
    },
    {
     "data": {
      "application/vnd.jupyter.widget-view+json": {
       "model_id": "bc88a9a183e744ec9c6be7ba44c285b1",
       "version_major": 2,
       "version_minor": 0
      },
      "text/plain": [
       "Processing Channels (T=26):   0%|          | 0/3 [00:00<?, ?it/s]"
      ]
     },
     "metadata": {},
     "output_type": "display_data"
    },
    {
     "name": "stdout",
     "output_type": "stream",
     "text": [
      "Timepoint ID 26 saved out\n"
     ]
    },
    {
     "data": {
      "application/vnd.jupyter.widget-view+json": {
       "model_id": "9d314187d56d4ea0950694995f9f58c0",
       "version_major": 2,
       "version_minor": 0
      },
      "text/plain": [
       "Processing Channels (T=27):   0%|          | 0/3 [00:00<?, ?it/s]"
      ]
     },
     "metadata": {},
     "output_type": "display_data"
    },
    {
     "name": "stdout",
     "output_type": "stream",
     "text": [
      "Timepoint ID 27 saved out\n"
     ]
    },
    {
     "data": {
      "application/vnd.jupyter.widget-view+json": {
       "model_id": "e94ca49d85e04f1781003874454fc3f4",
       "version_major": 2,
       "version_minor": 0
      },
      "text/plain": [
       "Processing Channels (T=28):   0%|          | 0/3 [00:00<?, ?it/s]"
      ]
     },
     "metadata": {},
     "output_type": "display_data"
    },
    {
     "name": "stdout",
     "output_type": "stream",
     "text": [
      "Timepoint ID 28 saved out\n"
     ]
    },
    {
     "data": {
      "application/vnd.jupyter.widget-view+json": {
       "model_id": "78daf77deac94795a129125391e5ceec",
       "version_major": 2,
       "version_minor": 0
      },
      "text/plain": [
       "Processing Channels (T=29):   0%|          | 0/3 [00:00<?, ?it/s]"
      ]
     },
     "metadata": {},
     "output_type": "display_data"
    },
    {
     "name": "stdout",
     "output_type": "stream",
     "text": [
      "Timepoint ID 29 saved out\n"
     ]
    },
    {
     "data": {
      "application/vnd.jupyter.widget-view+json": {
       "model_id": "6f02f152636442f2b50595f3139bc121",
       "version_major": 2,
       "version_minor": 0
      },
      "text/plain": [
       "Processing Channels (T=30):   0%|          | 0/3 [00:00<?, ?it/s]"
      ]
     },
     "metadata": {},
     "output_type": "display_data"
    },
    {
     "name": "stdout",
     "output_type": "stream",
     "text": [
      "Timepoint ID 30 saved out\n"
     ]
    },
    {
     "data": {
      "application/vnd.jupyter.widget-view+json": {
       "model_id": "06a9d6ad066441bab8c04573a94010cf",
       "version_major": 2,
       "version_minor": 0
      },
      "text/plain": [
       "Processing Channels (T=31):   0%|          | 0/3 [00:00<?, ?it/s]"
      ]
     },
     "metadata": {},
     "output_type": "display_data"
    },
    {
     "name": "stdout",
     "output_type": "stream",
     "text": [
      "Timepoint ID 31 saved out\n"
     ]
    },
    {
     "data": {
      "application/vnd.jupyter.widget-view+json": {
       "model_id": "8c9cfa59491745ccaa71100637ffbb7a",
       "version_major": 2,
       "version_minor": 0
      },
      "text/plain": [
       "Processing Channels (T=32):   0%|          | 0/3 [00:00<?, ?it/s]"
      ]
     },
     "metadata": {},
     "output_type": "display_data"
    },
    {
     "name": "stdout",
     "output_type": "stream",
     "text": [
      "Timepoint ID 32 saved out\n"
     ]
    },
    {
     "data": {
      "application/vnd.jupyter.widget-view+json": {
       "model_id": "dbecbe3235164a73ae88a3aa50c56b02",
       "version_major": 2,
       "version_minor": 0
      },
      "text/plain": [
       "Processing Channels (T=33):   0%|          | 0/3 [00:00<?, ?it/s]"
      ]
     },
     "metadata": {},
     "output_type": "display_data"
    },
    {
     "name": "stdout",
     "output_type": "stream",
     "text": [
      "Timepoint ID 33 saved out\n"
     ]
    },
    {
     "data": {
      "application/vnd.jupyter.widget-view+json": {
       "model_id": "5d2410a71b8c401ca323222fbab1e507",
       "version_major": 2,
       "version_minor": 0
      },
      "text/plain": [
       "Processing Channels (T=34):   0%|          | 0/3 [00:00<?, ?it/s]"
      ]
     },
     "metadata": {},
     "output_type": "display_data"
    },
    {
     "name": "stdout",
     "output_type": "stream",
     "text": [
      "Timepoint ID 34 saved out\n"
     ]
    },
    {
     "data": {
      "application/vnd.jupyter.widget-view+json": {
       "model_id": "487cc8d0e25b4521ad9467ec92b46198",
       "version_major": 2,
       "version_minor": 0
      },
      "text/plain": [
       "Processing Channels (T=35):   0%|          | 0/3 [00:00<?, ?it/s]"
      ]
     },
     "metadata": {},
     "output_type": "display_data"
    },
    {
     "name": "stdout",
     "output_type": "stream",
     "text": [
      "Timepoint ID 35 saved out\n"
     ]
    },
    {
     "data": {
      "application/vnd.jupyter.widget-view+json": {
       "model_id": "1e77491631464752ada09c472a0bfdef",
       "version_major": 2,
       "version_minor": 0
      },
      "text/plain": [
       "Processing Channels (T=36):   0%|          | 0/3 [00:00<?, ?it/s]"
      ]
     },
     "metadata": {},
     "output_type": "display_data"
    },
    {
     "name": "stdout",
     "output_type": "stream",
     "text": [
      "Timepoint ID 36 saved out\n"
     ]
    },
    {
     "data": {
      "application/vnd.jupyter.widget-view+json": {
       "model_id": "072e891b4e6448899bf8b52bb1f626e5",
       "version_major": 2,
       "version_minor": 0
      },
      "text/plain": [
       "Processing Channels (T=37):   0%|          | 0/3 [00:00<?, ?it/s]"
      ]
     },
     "metadata": {},
     "output_type": "display_data"
    },
    {
     "name": "stdout",
     "output_type": "stream",
     "text": [
      "Timepoint ID 37 saved out\n"
     ]
    },
    {
     "data": {
      "application/vnd.jupyter.widget-view+json": {
       "model_id": "7520a26a5c044718b8bb02ac48ea15bd",
       "version_major": 2,
       "version_minor": 0
      },
      "text/plain": [
       "Processing Channels (T=38):   0%|          | 0/3 [00:00<?, ?it/s]"
      ]
     },
     "metadata": {},
     "output_type": "display_data"
    },
    {
     "name": "stdout",
     "output_type": "stream",
     "text": [
      "Timepoint ID 38 saved out\n"
     ]
    },
    {
     "data": {
      "application/vnd.jupyter.widget-view+json": {
       "model_id": "14f5941fe5344da5b8f02e052ba6ba88",
       "version_major": 2,
       "version_minor": 0
      },
      "text/plain": [
       "Processing Channels (T=39):   0%|          | 0/3 [00:00<?, ?it/s]"
      ]
     },
     "metadata": {},
     "output_type": "display_data"
    },
    {
     "name": "stdout",
     "output_type": "stream",
     "text": [
      "Timepoint ID 39 saved out\n"
     ]
    },
    {
     "data": {
      "application/vnd.jupyter.widget-view+json": {
       "model_id": "9a56005564344c1abea250213de9e0fb",
       "version_major": 2,
       "version_minor": 0
      },
      "text/plain": [
       "Processing Channels (T=40):   0%|          | 0/3 [00:00<?, ?it/s]"
      ]
     },
     "metadata": {},
     "output_type": "display_data"
    },
    {
     "name": "stdout",
     "output_type": "stream",
     "text": [
      "Timepoint ID 40 saved out\n"
     ]
    },
    {
     "data": {
      "application/vnd.jupyter.widget-view+json": {
       "model_id": "d40b94d7ff3a464a9062c4eba2dd7075",
       "version_major": 2,
       "version_minor": 0
      },
      "text/plain": [
       "Processing Channels (T=41):   0%|          | 0/3 [00:00<?, ?it/s]"
      ]
     },
     "metadata": {},
     "output_type": "display_data"
    },
    {
     "name": "stdout",
     "output_type": "stream",
     "text": [
      "Timepoint ID 41 saved out\n"
     ]
    },
    {
     "data": {
      "application/vnd.jupyter.widget-view+json": {
       "model_id": "6cd1c20cf7b548c3830e963e45177f9e",
       "version_major": 2,
       "version_minor": 0
      },
      "text/plain": [
       "Processing Channels (T=42):   0%|          | 0/3 [00:00<?, ?it/s]"
      ]
     },
     "metadata": {},
     "output_type": "display_data"
    },
    {
     "name": "stdout",
     "output_type": "stream",
     "text": [
      "Timepoint ID 42 saved out\n"
     ]
    },
    {
     "data": {
      "application/vnd.jupyter.widget-view+json": {
       "model_id": "7422b04658b14742be33379f0eb4618f",
       "version_major": 2,
       "version_minor": 0
      },
      "text/plain": [
       "Processing Channels (T=43):   0%|          | 0/3 [00:00<?, ?it/s]"
      ]
     },
     "metadata": {},
     "output_type": "display_data"
    },
    {
     "name": "stdout",
     "output_type": "stream",
     "text": [
      "Timepoint ID 43 saved out\n"
     ]
    },
    {
     "data": {
      "application/vnd.jupyter.widget-view+json": {
       "model_id": "97991282d49f469086f1dc2d9e4f7894",
       "version_major": 2,
       "version_minor": 0
      },
      "text/plain": [
       "Processing Channels (T=44):   0%|          | 0/3 [00:00<?, ?it/s]"
      ]
     },
     "metadata": {},
     "output_type": "display_data"
    },
    {
     "name": "stdout",
     "output_type": "stream",
     "text": [
      "Timepoint ID 44 saved out\n"
     ]
    },
    {
     "data": {
      "application/vnd.jupyter.widget-view+json": {
       "model_id": "ca3cbcb0667c455b8c4333049cf2746a",
       "version_major": 2,
       "version_minor": 0
      },
      "text/plain": [
       "Processing Channels (T=45):   0%|          | 0/3 [00:00<?, ?it/s]"
      ]
     },
     "metadata": {},
     "output_type": "display_data"
    },
    {
     "name": "stdout",
     "output_type": "stream",
     "text": [
      "Timepoint ID 45 saved out\n"
     ]
    },
    {
     "data": {
      "application/vnd.jupyter.widget-view+json": {
       "model_id": "47fb2a6019a2429498f6f687e5f7a99a",
       "version_major": 2,
       "version_minor": 0
      },
      "text/plain": [
       "Processing Channels (T=46):   0%|          | 0/3 [00:00<?, ?it/s]"
      ]
     },
     "metadata": {},
     "output_type": "display_data"
    },
    {
     "name": "stdout",
     "output_type": "stream",
     "text": [
      "Timepoint ID 46 saved out\n"
     ]
    },
    {
     "data": {
      "application/vnd.jupyter.widget-view+json": {
       "model_id": "1ab233e6423942048640a354fd21dfda",
       "version_major": 2,
       "version_minor": 0
      },
      "text/plain": [
       "Processing Channels (T=47):   0%|          | 0/3 [00:00<?, ?it/s]"
      ]
     },
     "metadata": {},
     "output_type": "display_data"
    },
    {
     "name": "stdout",
     "output_type": "stream",
     "text": [
      "Timepoint ID 47 saved out\n"
     ]
    },
    {
     "data": {
      "application/vnd.jupyter.widget-view+json": {
       "model_id": "2cb86d733acd465ab404c07c511a56b2",
       "version_major": 2,
       "version_minor": 0
      },
      "text/plain": [
       "Processing Channels (T=48):   0%|          | 0/3 [00:00<?, ?it/s]"
      ]
     },
     "metadata": {},
     "output_type": "display_data"
    },
    {
     "name": "stdout",
     "output_type": "stream",
     "text": [
      "Timepoint ID 48 saved out\n"
     ]
    },
    {
     "data": {
      "application/vnd.jupyter.widget-view+json": {
       "model_id": "decbb5ead91649e2b202816d956e3a05",
       "version_major": 2,
       "version_minor": 0
      },
      "text/plain": [
       "Processing Channels (T=49):   0%|          | 0/3 [00:00<?, ?it/s]"
      ]
     },
     "metadata": {},
     "output_type": "display_data"
    },
    {
     "name": "stdout",
     "output_type": "stream",
     "text": [
      "Timepoint ID 49 saved out\n"
     ]
    },
    {
     "data": {
      "application/vnd.jupyter.widget-view+json": {
       "model_id": "8546b709c876499dbd88ee9b6cbda462",
       "version_major": 2,
       "version_minor": 0
      },
      "text/plain": [
       "Processing Channels (T=50):   0%|          | 0/3 [00:00<?, ?it/s]"
      ]
     },
     "metadata": {},
     "output_type": "display_data"
    },
    {
     "name": "stdout",
     "output_type": "stream",
     "text": [
      "Timepoint ID 50 saved out\n"
     ]
    },
    {
     "data": {
      "application/vnd.jupyter.widget-view+json": {
       "model_id": "388c5018d780482dab41ea55ee669bcf",
       "version_major": 2,
       "version_minor": 0
      },
      "text/plain": [
       "Processing Channels (T=51):   0%|          | 0/3 [00:00<?, ?it/s]"
      ]
     },
     "metadata": {},
     "output_type": "display_data"
    },
    {
     "name": "stdout",
     "output_type": "stream",
     "text": [
      "Timepoint ID 51 saved out\n"
     ]
    },
    {
     "data": {
      "application/vnd.jupyter.widget-view+json": {
       "model_id": "138e739e334c4e0c9ed70ca7e4277240",
       "version_major": 2,
       "version_minor": 0
      },
      "text/plain": [
       "Processing Channels (T=52):   0%|          | 0/3 [00:00<?, ?it/s]"
      ]
     },
     "metadata": {},
     "output_type": "display_data"
    },
    {
     "name": "stdout",
     "output_type": "stream",
     "text": [
      "Timepoint ID 52 saved out\n"
     ]
    },
    {
     "data": {
      "application/vnd.jupyter.widget-view+json": {
       "model_id": "bcb9ce1b25344e0ebcb4b959a85701a7",
       "version_major": 2,
       "version_minor": 0
      },
      "text/plain": [
       "Processing Channels (T=53):   0%|          | 0/3 [00:00<?, ?it/s]"
      ]
     },
     "metadata": {},
     "output_type": "display_data"
    },
    {
     "name": "stdout",
     "output_type": "stream",
     "text": [
      "Timepoint ID 53 saved out\n"
     ]
    },
    {
     "data": {
      "application/vnd.jupyter.widget-view+json": {
       "model_id": "ed80f4a02e22415192d75bc883f01c37",
       "version_major": 2,
       "version_minor": 0
      },
      "text/plain": [
       "Processing Channels (T=54):   0%|          | 0/3 [00:00<?, ?it/s]"
      ]
     },
     "metadata": {},
     "output_type": "display_data"
    },
    {
     "name": "stdout",
     "output_type": "stream",
     "text": [
      "Timepoint ID 54 saved out\n"
     ]
    },
    {
     "data": {
      "application/vnd.jupyter.widget-view+json": {
       "model_id": "ef46b2a42f5245409131d018350797ef",
       "version_major": 2,
       "version_minor": 0
      },
      "text/plain": [
       "Processing Channels (T=55):   0%|          | 0/3 [00:00<?, ?it/s]"
      ]
     },
     "metadata": {},
     "output_type": "display_data"
    },
    {
     "name": "stdout",
     "output_type": "stream",
     "text": [
      "Timepoint ID 55 saved out\n"
     ]
    },
    {
     "data": {
      "application/vnd.jupyter.widget-view+json": {
       "model_id": "58d91986bfb44423b6a5b36284fa98e2",
       "version_major": 2,
       "version_minor": 0
      },
      "text/plain": [
       "Processing Channels (T=56):   0%|          | 0/3 [00:00<?, ?it/s]"
      ]
     },
     "metadata": {},
     "output_type": "display_data"
    },
    {
     "name": "stdout",
     "output_type": "stream",
     "text": [
      "Timepoint ID 56 saved out\n"
     ]
    },
    {
     "data": {
      "application/vnd.jupyter.widget-view+json": {
       "model_id": "82309a78fdde4c329111b3b7d34d7150",
       "version_major": 2,
       "version_minor": 0
      },
      "text/plain": [
       "Processing Channels (T=57):   0%|          | 0/3 [00:00<?, ?it/s]"
      ]
     },
     "metadata": {},
     "output_type": "display_data"
    },
    {
     "name": "stdout",
     "output_type": "stream",
     "text": [
      "Timepoint ID 57 saved out\n"
     ]
    },
    {
     "data": {
      "application/vnd.jupyter.widget-view+json": {
       "model_id": "0c0ecdc6df2540e49654daf493df0f4b",
       "version_major": 2,
       "version_minor": 0
      },
      "text/plain": [
       "Processing Channels (T=58):   0%|          | 0/3 [00:00<?, ?it/s]"
      ]
     },
     "metadata": {},
     "output_type": "display_data"
    },
    {
     "name": "stdout",
     "output_type": "stream",
     "text": [
      "Timepoint ID 58 saved out\n"
     ]
    },
    {
     "data": {
      "application/vnd.jupyter.widget-view+json": {
       "model_id": "e960a552c0ae4842b69d8303a0b99a94",
       "version_major": 2,
       "version_minor": 0
      },
      "text/plain": [
       "Processing Channels (T=59):   0%|          | 0/3 [00:00<?, ?it/s]"
      ]
     },
     "metadata": {},
     "output_type": "display_data"
    },
    {
     "name": "stdout",
     "output_type": "stream",
     "text": [
      "Timepoint ID 59 saved out\n"
     ]
    },
    {
     "data": {
      "application/vnd.jupyter.widget-view+json": {
       "model_id": "a00802d0f012454eb51e40890316a8ae",
       "version_major": 2,
       "version_minor": 0
      },
      "text/plain": [
       "Processing Channels (T=60):   0%|          | 0/3 [00:00<?, ?it/s]"
      ]
     },
     "metadata": {},
     "output_type": "display_data"
    },
    {
     "name": "stdout",
     "output_type": "stream",
     "text": [
      "Timepoint ID 60 saved out\n"
     ]
    },
    {
     "data": {
      "application/vnd.jupyter.widget-view+json": {
       "model_id": "3dfa6e80971146b9af0e4c5ebdcc0cf6",
       "version_major": 2,
       "version_minor": 0
      },
      "text/plain": [
       "Processing Channels (T=61):   0%|          | 0/3 [00:00<?, ?it/s]"
      ]
     },
     "metadata": {},
     "output_type": "display_data"
    },
    {
     "name": "stdout",
     "output_type": "stream",
     "text": [
      "Timepoint ID 61 saved out\n"
     ]
    },
    {
     "data": {
      "application/vnd.jupyter.widget-view+json": {
       "model_id": "776279bea0a6437daba1df10bd84d328",
       "version_major": 2,
       "version_minor": 0
      },
      "text/plain": [
       "Processing Channels (T=62):   0%|          | 0/3 [00:00<?, ?it/s]"
      ]
     },
     "metadata": {},
     "output_type": "display_data"
    },
    {
     "name": "stdout",
     "output_type": "stream",
     "text": [
      "Timepoint ID 62 saved out\n"
     ]
    },
    {
     "data": {
      "application/vnd.jupyter.widget-view+json": {
       "model_id": "c81ebe26e34047bf9c258093f5c51732",
       "version_major": 2,
       "version_minor": 0
      },
      "text/plain": [
       "Processing Channels (T=63):   0%|          | 0/3 [00:00<?, ?it/s]"
      ]
     },
     "metadata": {},
     "output_type": "display_data"
    },
    {
     "name": "stdout",
     "output_type": "stream",
     "text": [
      "Timepoint ID 63 saved out\n"
     ]
    },
    {
     "data": {
      "application/vnd.jupyter.widget-view+json": {
       "model_id": "bad5a4ae9dc54573b5ddb2a00f716e6c",
       "version_major": 2,
       "version_minor": 0
      },
      "text/plain": [
       "Processing Channels (T=64):   0%|          | 0/3 [00:00<?, ?it/s]"
      ]
     },
     "metadata": {},
     "output_type": "display_data"
    },
    {
     "name": "stdout",
     "output_type": "stream",
     "text": [
      "Timepoint ID 64 saved out\n"
     ]
    },
    {
     "data": {
      "application/vnd.jupyter.widget-view+json": {
       "model_id": "d8461a3e56df4a8b9a1890074ca07f85",
       "version_major": 2,
       "version_minor": 0
      },
      "text/plain": [
       "Processing Channels (T=65):   0%|          | 0/3 [00:00<?, ?it/s]"
      ]
     },
     "metadata": {},
     "output_type": "display_data"
    },
    {
     "name": "stdout",
     "output_type": "stream",
     "text": [
      "Timepoint ID 65 saved out\n"
     ]
    },
    {
     "data": {
      "application/vnd.jupyter.widget-view+json": {
       "model_id": "74cadc295b2143e5854dc7369e97ce70",
       "version_major": 2,
       "version_minor": 0
      },
      "text/plain": [
       "Processing Channels (T=66):   0%|          | 0/3 [00:00<?, ?it/s]"
      ]
     },
     "metadata": {},
     "output_type": "display_data"
    },
    {
     "name": "stdout",
     "output_type": "stream",
     "text": [
      "Timepoint ID 66 saved out\n"
     ]
    },
    {
     "data": {
      "application/vnd.jupyter.widget-view+json": {
       "model_id": "e3669a7615d34470874bdfa6cc1af606",
       "version_major": 2,
       "version_minor": 0
      },
      "text/plain": [
       "Processing Channels (T=67):   0%|          | 0/3 [00:00<?, ?it/s]"
      ]
     },
     "metadata": {},
     "output_type": "display_data"
    },
    {
     "name": "stdout",
     "output_type": "stream",
     "text": [
      "Timepoint ID 67 saved out\n"
     ]
    },
    {
     "data": {
      "application/vnd.jupyter.widget-view+json": {
       "model_id": "1d6310f140ee4484853e718854aa1441",
       "version_major": 2,
       "version_minor": 0
      },
      "text/plain": [
       "Processing Channels (T=68):   0%|          | 0/3 [00:00<?, ?it/s]"
      ]
     },
     "metadata": {},
     "output_type": "display_data"
    },
    {
     "name": "stdout",
     "output_type": "stream",
     "text": [
      "Timepoint ID 68 saved out\n"
     ]
    },
    {
     "data": {
      "application/vnd.jupyter.widget-view+json": {
       "model_id": "fa69a0a5e5364e8d90fe1c7686b49497",
       "version_major": 2,
       "version_minor": 0
      },
      "text/plain": [
       "Processing Channels (T=69):   0%|          | 0/3 [00:00<?, ?it/s]"
      ]
     },
     "metadata": {},
     "output_type": "display_data"
    },
    {
     "name": "stdout",
     "output_type": "stream",
     "text": [
      "Timepoint ID 69 saved out\n"
     ]
    },
    {
     "data": {
      "application/vnd.jupyter.widget-view+json": {
       "model_id": "f30f7f835d5b4d4c8bd3e7f712a08595",
       "version_major": 2,
       "version_minor": 0
      },
      "text/plain": [
       "Processing Channels (T=70):   0%|          | 0/3 [00:00<?, ?it/s]"
      ]
     },
     "metadata": {},
     "output_type": "display_data"
    },
    {
     "name": "stdout",
     "output_type": "stream",
     "text": [
      "Timepoint ID 70 saved out\n"
     ]
    },
    {
     "data": {
      "application/vnd.jupyter.widget-view+json": {
       "model_id": "c0392ac985804a058123e0ed0e4af728",
       "version_major": 2,
       "version_minor": 0
      },
      "text/plain": [
       "Processing Channels (T=71):   0%|          | 0/3 [00:00<?, ?it/s]"
      ]
     },
     "metadata": {},
     "output_type": "display_data"
    },
    {
     "name": "stdout",
     "output_type": "stream",
     "text": [
      "Timepoint ID 71 saved out\n"
     ]
    },
    {
     "data": {
      "application/vnd.jupyter.widget-view+json": {
       "model_id": "c2cfc31e29144c52a1c4c034a0858ebc",
       "version_major": 2,
       "version_minor": 0
      },
      "text/plain": [
       "Processing Channels (T=72):   0%|          | 0/3 [00:00<?, ?it/s]"
      ]
     },
     "metadata": {},
     "output_type": "display_data"
    },
    {
     "name": "stdout",
     "output_type": "stream",
     "text": [
      "Timepoint ID 72 saved out\n"
     ]
    },
    {
     "data": {
      "application/vnd.jupyter.widget-view+json": {
       "model_id": "231fd42919e448d1830cc045b48c4799",
       "version_major": 2,
       "version_minor": 0
      },
      "text/plain": [
       "Processing Channels (T=73):   0%|          | 0/3 [00:00<?, ?it/s]"
      ]
     },
     "metadata": {},
     "output_type": "display_data"
    },
    {
     "name": "stdout",
     "output_type": "stream",
     "text": [
      "Timepoint ID 73 saved out\n"
     ]
    },
    {
     "data": {
      "application/vnd.jupyter.widget-view+json": {
       "model_id": "40554cbbbc4a4d99be0558b94a2ff1bb",
       "version_major": 2,
       "version_minor": 0
      },
      "text/plain": [
       "Processing Channels (T=74):   0%|          | 0/3 [00:00<?, ?it/s]"
      ]
     },
     "metadata": {},
     "output_type": "display_data"
    },
    {
     "name": "stdout",
     "output_type": "stream",
     "text": [
      "Timepoint ID 74 saved out\n"
     ]
    },
    {
     "data": {
      "application/vnd.jupyter.widget-view+json": {
       "model_id": "c38367e29d9b431099f59e8b56c43fd9",
       "version_major": 2,
       "version_minor": 0
      },
      "text/plain": [
       "Processing Channels (T=75):   0%|          | 0/3 [00:00<?, ?it/s]"
      ]
     },
     "metadata": {},
     "output_type": "display_data"
    },
    {
     "name": "stdout",
     "output_type": "stream",
     "text": [
      "Timepoint ID 75 saved out\n"
     ]
    },
    {
     "data": {
      "application/vnd.jupyter.widget-view+json": {
       "model_id": "a406dd6bd16c43e397f84275fc5fc894",
       "version_major": 2,
       "version_minor": 0
      },
      "text/plain": [
       "Processing Channels (T=76):   0%|          | 0/3 [00:00<?, ?it/s]"
      ]
     },
     "metadata": {},
     "output_type": "display_data"
    },
    {
     "name": "stdout",
     "output_type": "stream",
     "text": [
      "Timepoint ID 76 saved out\n"
     ]
    },
    {
     "data": {
      "application/vnd.jupyter.widget-view+json": {
       "model_id": "5e42749003b34f2398d17a16ae42b7c5",
       "version_major": 2,
       "version_minor": 0
      },
      "text/plain": [
       "Processing Channels (T=77):   0%|          | 0/3 [00:00<?, ?it/s]"
      ]
     },
     "metadata": {},
     "output_type": "display_data"
    },
    {
     "name": "stdout",
     "output_type": "stream",
     "text": [
      "Timepoint ID 77 saved out\n"
     ]
    },
    {
     "data": {
      "application/vnd.jupyter.widget-view+json": {
       "model_id": "5f101794d1da4d8fa8e3729163be1369",
       "version_major": 2,
       "version_minor": 0
      },
      "text/plain": [
       "Processing Channels (T=78):   0%|          | 0/3 [00:00<?, ?it/s]"
      ]
     },
     "metadata": {},
     "output_type": "display_data"
    },
    {
     "name": "stdout",
     "output_type": "stream",
     "text": [
      "Timepoint ID 78 saved out\n"
     ]
    },
    {
     "data": {
      "application/vnd.jupyter.widget-view+json": {
       "model_id": "224c0461ba5e4bc7928492ec768f4899",
       "version_major": 2,
       "version_minor": 0
      },
      "text/plain": [
       "Processing Channels (T=79):   0%|          | 0/3 [00:00<?, ?it/s]"
      ]
     },
     "metadata": {},
     "output_type": "display_data"
    },
    {
     "name": "stdout",
     "output_type": "stream",
     "text": [
      "Timepoint ID 79 saved out\n"
     ]
    },
    {
     "data": {
      "application/vnd.jupyter.widget-view+json": {
       "model_id": "564f3f8e60fc465093afe850588e38b1",
       "version_major": 2,
       "version_minor": 0
      },
      "text/plain": [
       "Processing Channels (T=80):   0%|          | 0/3 [00:00<?, ?it/s]"
      ]
     },
     "metadata": {},
     "output_type": "display_data"
    },
    {
     "name": "stdout",
     "output_type": "stream",
     "text": [
      "Timepoint ID 80 saved out\n"
     ]
    },
    {
     "data": {
      "application/vnd.jupyter.widget-view+json": {
       "model_id": "f711da465f574240a30b09d455f2dbe1",
       "version_major": 2,
       "version_minor": 0
      },
      "text/plain": [
       "Processing Channels (T=81):   0%|          | 0/3 [00:00<?, ?it/s]"
      ]
     },
     "metadata": {},
     "output_type": "display_data"
    },
    {
     "name": "stdout",
     "output_type": "stream",
     "text": [
      "Timepoint ID 81 saved out\n"
     ]
    },
    {
     "data": {
      "application/vnd.jupyter.widget-view+json": {
       "model_id": "73431fdfa5f04f17babb7b160f22b077",
       "version_major": 2,
       "version_minor": 0
      },
      "text/plain": [
       "Processing Channels (T=82):   0%|          | 0/3 [00:00<?, ?it/s]"
      ]
     },
     "metadata": {},
     "output_type": "display_data"
    },
    {
     "name": "stdout",
     "output_type": "stream",
     "text": [
      "Timepoint ID 82 saved out\n"
     ]
    },
    {
     "data": {
      "application/vnd.jupyter.widget-view+json": {
       "model_id": "fe3cfc7e6bf145bca47a563bab373c46",
       "version_major": 2,
       "version_minor": 0
      },
      "text/plain": [
       "Processing Channels (T=83):   0%|          | 0/3 [00:00<?, ?it/s]"
      ]
     },
     "metadata": {},
     "output_type": "display_data"
    },
    {
     "name": "stdout",
     "output_type": "stream",
     "text": [
      "Timepoint ID 83 saved out\n"
     ]
    },
    {
     "data": {
      "application/vnd.jupyter.widget-view+json": {
       "model_id": "9fabde6f527941cc8588f1fa9bee1eeb",
       "version_major": 2,
       "version_minor": 0
      },
      "text/plain": [
       "Processing Channels (T=84):   0%|          | 0/3 [00:00<?, ?it/s]"
      ]
     },
     "metadata": {},
     "output_type": "display_data"
    },
    {
     "name": "stdout",
     "output_type": "stream",
     "text": [
      "Timepoint ID 84 saved out\n"
     ]
    },
    {
     "data": {
      "application/vnd.jupyter.widget-view+json": {
       "model_id": "5fefc7aeac36437b902587ea9e3c7263",
       "version_major": 2,
       "version_minor": 0
      },
      "text/plain": [
       "Processing Channels (T=85):   0%|          | 0/3 [00:00<?, ?it/s]"
      ]
     },
     "metadata": {},
     "output_type": "display_data"
    },
    {
     "name": "stdout",
     "output_type": "stream",
     "text": [
      "Timepoint ID 85 saved out\n"
     ]
    },
    {
     "data": {
      "application/vnd.jupyter.widget-view+json": {
       "model_id": "60d48909c4c541a59b833a9ad1f024bc",
       "version_major": 2,
       "version_minor": 0
      },
      "text/plain": [
       "Processing Channels (T=86):   0%|          | 0/3 [00:00<?, ?it/s]"
      ]
     },
     "metadata": {},
     "output_type": "display_data"
    },
    {
     "name": "stdout",
     "output_type": "stream",
     "text": [
      "Timepoint ID 86 saved out\n"
     ]
    },
    {
     "data": {
      "application/vnd.jupyter.widget-view+json": {
       "model_id": "206d03d2301b41dba2b4eebd62cbe908",
       "version_major": 2,
       "version_minor": 0
      },
      "text/plain": [
       "Processing Channels (T=87):   0%|          | 0/3 [00:00<?, ?it/s]"
      ]
     },
     "metadata": {},
     "output_type": "display_data"
    },
    {
     "name": "stdout",
     "output_type": "stream",
     "text": [
      "Timepoint ID 87 saved out\n"
     ]
    },
    {
     "data": {
      "application/vnd.jupyter.widget-view+json": {
       "model_id": "0e6fb4c4377b43fb843a37b8b4d81def",
       "version_major": 2,
       "version_minor": 0
      },
      "text/plain": [
       "Processing Channels (T=88):   0%|          | 0/3 [00:00<?, ?it/s]"
      ]
     },
     "metadata": {},
     "output_type": "display_data"
    },
    {
     "name": "stdout",
     "output_type": "stream",
     "text": [
      "Timepoint ID 88 saved out\n"
     ]
    },
    {
     "data": {
      "application/vnd.jupyter.widget-view+json": {
       "model_id": "61d990bc8c64488a995dd93ebd535a0b",
       "version_major": 2,
       "version_minor": 0
      },
      "text/plain": [
       "Processing Channels (T=89):   0%|          | 0/3 [00:00<?, ?it/s]"
      ]
     },
     "metadata": {},
     "output_type": "display_data"
    },
    {
     "name": "stdout",
     "output_type": "stream",
     "text": [
      "Timepoint ID 89 saved out\n"
     ]
    },
    {
     "data": {
      "application/vnd.jupyter.widget-view+json": {
       "model_id": "463123b3dc834f9c93bf7f8e77ca5502",
       "version_major": 2,
       "version_minor": 0
      },
      "text/plain": [
       "Processing Channels (T=90):   0%|          | 0/3 [00:00<?, ?it/s]"
      ]
     },
     "metadata": {},
     "output_type": "display_data"
    },
    {
     "name": "stdout",
     "output_type": "stream",
     "text": [
      "Timepoint ID 90 saved out\n"
     ]
    },
    {
     "data": {
      "application/vnd.jupyter.widget-view+json": {
       "model_id": "df7cb57a9efe473ca1a98479785e9eac",
       "version_major": 2,
       "version_minor": 0
      },
      "text/plain": [
       "Processing Channels (T=91):   0%|          | 0/3 [00:00<?, ?it/s]"
      ]
     },
     "metadata": {},
     "output_type": "display_data"
    },
    {
     "name": "stdout",
     "output_type": "stream",
     "text": [
      "Timepoint ID 91 saved out\n"
     ]
    },
    {
     "data": {
      "application/vnd.jupyter.widget-view+json": {
       "model_id": "6c131df7682943ff90e3a491a4feb551",
       "version_major": 2,
       "version_minor": 0
      },
      "text/plain": [
       "Processing Channels (T=92):   0%|          | 0/3 [00:00<?, ?it/s]"
      ]
     },
     "metadata": {},
     "output_type": "display_data"
    },
    {
     "name": "stdout",
     "output_type": "stream",
     "text": [
      "Timepoint ID 92 saved out\n"
     ]
    },
    {
     "data": {
      "application/vnd.jupyter.widget-view+json": {
       "model_id": "addb99a364814ad49f819a014e0a31e8",
       "version_major": 2,
       "version_minor": 0
      },
      "text/plain": [
       "Processing Channels (T=93):   0%|          | 0/3 [00:00<?, ?it/s]"
      ]
     },
     "metadata": {},
     "output_type": "display_data"
    },
    {
     "name": "stdout",
     "output_type": "stream",
     "text": [
      "Timepoint ID 93 saved out\n"
     ]
    },
    {
     "data": {
      "application/vnd.jupyter.widget-view+json": {
       "model_id": "631b43ca82bc497aa76a9539d86c0b7b",
       "version_major": 2,
       "version_minor": 0
      },
      "text/plain": [
       "Processing Channels (T=94):   0%|          | 0/3 [00:00<?, ?it/s]"
      ]
     },
     "metadata": {},
     "output_type": "display_data"
    },
    {
     "name": "stdout",
     "output_type": "stream",
     "text": [
      "Timepoint ID 94 saved out\n"
     ]
    },
    {
     "data": {
      "application/vnd.jupyter.widget-view+json": {
       "model_id": "a558caa3d13f4c848adb07c76a89f487",
       "version_major": 2,
       "version_minor": 0
      },
      "text/plain": [
       "Processing Channels (T=95):   0%|          | 0/3 [00:00<?, ?it/s]"
      ]
     },
     "metadata": {},
     "output_type": "display_data"
    },
    {
     "name": "stdout",
     "output_type": "stream",
     "text": [
      "Timepoint ID 95 saved out\n"
     ]
    },
    {
     "data": {
      "application/vnd.jupyter.widget-view+json": {
       "model_id": "68f6ca535ac445f69e15a266ff79b456",
       "version_major": 2,
       "version_minor": 0
      },
      "text/plain": [
       "Processing Channels (T=96):   0%|          | 0/3 [00:00<?, ?it/s]"
      ]
     },
     "metadata": {},
     "output_type": "display_data"
    },
    {
     "name": "stdout",
     "output_type": "stream",
     "text": [
      "Timepoint ID 96 saved out\n"
     ]
    },
    {
     "data": {
      "application/vnd.jupyter.widget-view+json": {
       "model_id": "c51d748cc3db46518cafe60b36e2f280",
       "version_major": 2,
       "version_minor": 0
      },
      "text/plain": [
       "Processing Channels (T=97):   0%|          | 0/3 [00:00<?, ?it/s]"
      ]
     },
     "metadata": {},
     "output_type": "display_data"
    },
    {
     "name": "stdout",
     "output_type": "stream",
     "text": [
      "Timepoint ID 97 saved out\n"
     ]
    },
    {
     "data": {
      "application/vnd.jupyter.widget-view+json": {
       "model_id": "1c6ba09cff6141daba3085943b68f936",
       "version_major": 2,
       "version_minor": 0
      },
      "text/plain": [
       "Processing Channels (T=98):   0%|          | 0/3 [00:00<?, ?it/s]"
      ]
     },
     "metadata": {},
     "output_type": "display_data"
    },
    {
     "name": "stdout",
     "output_type": "stream",
     "text": [
      "Timepoint ID 98 saved out\n"
     ]
    },
    {
     "data": {
      "application/vnd.jupyter.widget-view+json": {
       "model_id": "a462b26fcb4245b5a630059b2a81e9d3",
       "version_major": 2,
       "version_minor": 0
      },
      "text/plain": [
       "Processing Channels (T=99):   0%|          | 0/3 [00:00<?, ?it/s]"
      ]
     },
     "metadata": {},
     "output_type": "display_data"
    },
    {
     "name": "stdout",
     "output_type": "stream",
     "text": [
      "Timepoint ID 99 saved out\n"
     ]
    },
    {
     "data": {
      "application/vnd.jupyter.widget-view+json": {
       "model_id": "3f0effbc2cd5466f97136678d7777b40",
       "version_major": 2,
       "version_minor": 0
      },
      "text/plain": [
       "Processing Channels (T=100):   0%|          | 0/3 [00:00<?, ?it/s]"
      ]
     },
     "metadata": {},
     "output_type": "display_data"
    },
    {
     "name": "stdout",
     "output_type": "stream",
     "text": [
      "Timepoint ID 100 saved out\n"
     ]
    },
    {
     "data": {
      "application/vnd.jupyter.widget-view+json": {
       "model_id": "3a89adb684fe4f299cffb363583211ab",
       "version_major": 2,
       "version_minor": 0
      },
      "text/plain": [
       "Processing Channels (T=101):   0%|          | 0/3 [00:00<?, ?it/s]"
      ]
     },
     "metadata": {},
     "output_type": "display_data"
    },
    {
     "name": "stdout",
     "output_type": "stream",
     "text": [
      "Timepoint ID 101 saved out\n"
     ]
    },
    {
     "data": {
      "application/vnd.jupyter.widget-view+json": {
       "model_id": "b4425a1410bf4881a57bc721c8bb4cfc",
       "version_major": 2,
       "version_minor": 0
      },
      "text/plain": [
       "Processing Channels (T=102):   0%|          | 0/3 [00:00<?, ?it/s]"
      ]
     },
     "metadata": {},
     "output_type": "display_data"
    },
    {
     "name": "stdout",
     "output_type": "stream",
     "text": [
      "Timepoint ID 102 saved out\n"
     ]
    },
    {
     "data": {
      "application/vnd.jupyter.widget-view+json": {
       "model_id": "c270bf7caa2d41c7a8c7b4ad04b24e3d",
       "version_major": 2,
       "version_minor": 0
      },
      "text/plain": [
       "Processing Channels (T=103):   0%|          | 0/3 [00:00<?, ?it/s]"
      ]
     },
     "metadata": {},
     "output_type": "display_data"
    },
    {
     "name": "stdout",
     "output_type": "stream",
     "text": [
      "Timepoint ID 103 saved out\n"
     ]
    },
    {
     "data": {
      "application/vnd.jupyter.widget-view+json": {
       "model_id": "752cb3e9a416418c997de1f172ff6f1b",
       "version_major": 2,
       "version_minor": 0
      },
      "text/plain": [
       "Processing Channels (T=104):   0%|          | 0/3 [00:00<?, ?it/s]"
      ]
     },
     "metadata": {},
     "output_type": "display_data"
    },
    {
     "name": "stdout",
     "output_type": "stream",
     "text": [
      "Timepoint ID 104 saved out\n"
     ]
    },
    {
     "data": {
      "application/vnd.jupyter.widget-view+json": {
       "model_id": "09f168d2da7f491a870c545d1b8ef624",
       "version_major": 2,
       "version_minor": 0
      },
      "text/plain": [
       "Processing Channels (T=105):   0%|          | 0/3 [00:00<?, ?it/s]"
      ]
     },
     "metadata": {},
     "output_type": "display_data"
    },
    {
     "name": "stdout",
     "output_type": "stream",
     "text": [
      "Timepoint ID 105 saved out\n"
     ]
    },
    {
     "data": {
      "application/vnd.jupyter.widget-view+json": {
       "model_id": "fec699e7f261473394d8feb5478c07fb",
       "version_major": 2,
       "version_minor": 0
      },
      "text/plain": [
       "Processing Channels (T=106):   0%|          | 0/3 [00:00<?, ?it/s]"
      ]
     },
     "metadata": {},
     "output_type": "display_data"
    },
    {
     "name": "stdout",
     "output_type": "stream",
     "text": [
      "Timepoint ID 106 saved out\n"
     ]
    },
    {
     "data": {
      "application/vnd.jupyter.widget-view+json": {
       "model_id": "8e560040056c4512a773ef906cf86ae8",
       "version_major": 2,
       "version_minor": 0
      },
      "text/plain": [
       "Processing Channels (T=107):   0%|          | 0/3 [00:00<?, ?it/s]"
      ]
     },
     "metadata": {},
     "output_type": "display_data"
    },
    {
     "name": "stdout",
     "output_type": "stream",
     "text": [
      "Timepoint ID 107 saved out\n"
     ]
    },
    {
     "data": {
      "application/vnd.jupyter.widget-view+json": {
       "model_id": "92b6c0b9d7f246af9c976f9b5af635d7",
       "version_major": 2,
       "version_minor": 0
      },
      "text/plain": [
       "Processing Channels (T=108):   0%|          | 0/3 [00:00<?, ?it/s]"
      ]
     },
     "metadata": {},
     "output_type": "display_data"
    },
    {
     "name": "stdout",
     "output_type": "stream",
     "text": [
      "Timepoint ID 108 saved out\n"
     ]
    },
    {
     "data": {
      "application/vnd.jupyter.widget-view+json": {
       "model_id": "be81943141894a88a03fdd866a7e55c2",
       "version_major": 2,
       "version_minor": 0
      },
      "text/plain": [
       "Processing Channels (T=109):   0%|          | 0/3 [00:00<?, ?it/s]"
      ]
     },
     "metadata": {},
     "output_type": "display_data"
    },
    {
     "name": "stdout",
     "output_type": "stream",
     "text": [
      "Timepoint ID 109 saved out\n"
     ]
    },
    {
     "data": {
      "application/vnd.jupyter.widget-view+json": {
       "model_id": "f84dbab27d9e4438b56455f77ee252ad",
       "version_major": 2,
       "version_minor": 0
      },
      "text/plain": [
       "Processing Channels (T=110):   0%|          | 0/3 [00:00<?, ?it/s]"
      ]
     },
     "metadata": {},
     "output_type": "display_data"
    },
    {
     "name": "stdout",
     "output_type": "stream",
     "text": [
      "Timepoint ID 110 saved out\n"
     ]
    },
    {
     "data": {
      "application/vnd.jupyter.widget-view+json": {
       "model_id": "648a8387f7804f69a46d8c8a5e8565dd",
       "version_major": 2,
       "version_minor": 0
      },
      "text/plain": [
       "Processing Channels (T=111):   0%|          | 0/3 [00:00<?, ?it/s]"
      ]
     },
     "metadata": {},
     "output_type": "display_data"
    },
    {
     "name": "stdout",
     "output_type": "stream",
     "text": [
      "Timepoint ID 111 saved out\n"
     ]
    },
    {
     "data": {
      "application/vnd.jupyter.widget-view+json": {
       "model_id": "bea336bb8fb4405aaf0e16d01d273adc",
       "version_major": 2,
       "version_minor": 0
      },
      "text/plain": [
       "Processing Channels (T=112):   0%|          | 0/3 [00:00<?, ?it/s]"
      ]
     },
     "metadata": {},
     "output_type": "display_data"
    },
    {
     "name": "stdout",
     "output_type": "stream",
     "text": [
      "Timepoint ID 112 saved out\n"
     ]
    },
    {
     "data": {
      "application/vnd.jupyter.widget-view+json": {
       "model_id": "aaa7bd72f9074a498d7869de2433ccdc",
       "version_major": 2,
       "version_minor": 0
      },
      "text/plain": [
       "Processing Channels (T=113):   0%|          | 0/3 [00:00<?, ?it/s]"
      ]
     },
     "metadata": {},
     "output_type": "display_data"
    },
    {
     "name": "stdout",
     "output_type": "stream",
     "text": [
      "Timepoint ID 113 saved out\n"
     ]
    },
    {
     "data": {
      "application/vnd.jupyter.widget-view+json": {
       "model_id": "2a948d9ee52e4f158c173e1da9f851eb",
       "version_major": 2,
       "version_minor": 0
      },
      "text/plain": [
       "Processing Channels (T=114):   0%|          | 0/3 [00:00<?, ?it/s]"
      ]
     },
     "metadata": {},
     "output_type": "display_data"
    },
    {
     "name": "stdout",
     "output_type": "stream",
     "text": [
      "Timepoint ID 114 saved out\n"
     ]
    },
    {
     "data": {
      "application/vnd.jupyter.widget-view+json": {
       "model_id": "4d811632cee1451e9e1b336b61f81ea9",
       "version_major": 2,
       "version_minor": 0
      },
      "text/plain": [
       "Processing Channels (T=115):   0%|          | 0/3 [00:00<?, ?it/s]"
      ]
     },
     "metadata": {},
     "output_type": "display_data"
    },
    {
     "name": "stdout",
     "output_type": "stream",
     "text": [
      "Timepoint ID 115 saved out\n"
     ]
    },
    {
     "data": {
      "application/vnd.jupyter.widget-view+json": {
       "model_id": "83a6b6f7161149c49ad8642b63c7e047",
       "version_major": 2,
       "version_minor": 0
      },
      "text/plain": [
       "Processing Channels (T=116):   0%|          | 0/3 [00:00<?, ?it/s]"
      ]
     },
     "metadata": {},
     "output_type": "display_data"
    },
    {
     "name": "stdout",
     "output_type": "stream",
     "text": [
      "Timepoint ID 116 saved out\n"
     ]
    },
    {
     "data": {
      "application/vnd.jupyter.widget-view+json": {
       "model_id": "984232982e7945788aa2e63cf1f3d167",
       "version_major": 2,
       "version_minor": 0
      },
      "text/plain": [
       "Processing Channels (T=117):   0%|          | 0/3 [00:00<?, ?it/s]"
      ]
     },
     "metadata": {},
     "output_type": "display_data"
    },
    {
     "name": "stdout",
     "output_type": "stream",
     "text": [
      "Timepoint ID 117 saved out\n"
     ]
    },
    {
     "data": {
      "application/vnd.jupyter.widget-view+json": {
       "model_id": "4274e873b9d1440999e99e52ee9d848f",
       "version_major": 2,
       "version_minor": 0
      },
      "text/plain": [
       "Processing Channels (T=118):   0%|          | 0/3 [00:00<?, ?it/s]"
      ]
     },
     "metadata": {},
     "output_type": "display_data"
    },
    {
     "name": "stdout",
     "output_type": "stream",
     "text": [
      "Timepoint ID 118 saved out\n"
     ]
    },
    {
     "data": {
      "application/vnd.jupyter.widget-view+json": {
       "model_id": "cde84cc3f5db45b0b4f91ea0c75fd66d",
       "version_major": 2,
       "version_minor": 0
      },
      "text/plain": [
       "Processing Channels (T=119):   0%|          | 0/3 [00:00<?, ?it/s]"
      ]
     },
     "metadata": {},
     "output_type": "display_data"
    },
    {
     "name": "stdout",
     "output_type": "stream",
     "text": [
      "Timepoint ID 119 saved out\n"
     ]
    },
    {
     "data": {
      "application/vnd.jupyter.widget-view+json": {
       "model_id": "a09ba6a296104588bc0ae6e6bf7afbaf",
       "version_major": 2,
       "version_minor": 0
      },
      "text/plain": [
       "Processing Channels (T=120):   0%|          | 0/3 [00:00<?, ?it/s]"
      ]
     },
     "metadata": {},
     "output_type": "display_data"
    },
    {
     "name": "stdout",
     "output_type": "stream",
     "text": [
      "Timepoint ID 120 saved out\n"
     ]
    },
    {
     "data": {
      "application/vnd.jupyter.widget-view+json": {
       "model_id": "d379f2c5075d4b62a2f2fd157ecca1f5",
       "version_major": 2,
       "version_minor": 0
      },
      "text/plain": [
       "Processing Channels (T=121):   0%|          | 0/3 [00:00<?, ?it/s]"
      ]
     },
     "metadata": {},
     "output_type": "display_data"
    },
    {
     "name": "stdout",
     "output_type": "stream",
     "text": [
      "Timepoint ID 121 saved out\n"
     ]
    },
    {
     "data": {
      "application/vnd.jupyter.widget-view+json": {
       "model_id": "7d0e9dcbd3d546369d81283d96f92afe",
       "version_major": 2,
       "version_minor": 0
      },
      "text/plain": [
       "Processing Channels (T=122):   0%|          | 0/3 [00:00<?, ?it/s]"
      ]
     },
     "metadata": {},
     "output_type": "display_data"
    },
    {
     "name": "stdout",
     "output_type": "stream",
     "text": [
      "Timepoint ID 122 saved out\n"
     ]
    },
    {
     "data": {
      "application/vnd.jupyter.widget-view+json": {
       "model_id": "b967bacc304145a8bf05d7a041d8aae4",
       "version_major": 2,
       "version_minor": 0
      },
      "text/plain": [
       "Processing Channels (T=123):   0%|          | 0/3 [00:00<?, ?it/s]"
      ]
     },
     "metadata": {},
     "output_type": "display_data"
    },
    {
     "name": "stdout",
     "output_type": "stream",
     "text": [
      "Timepoint ID 123 saved out\n"
     ]
    },
    {
     "data": {
      "application/vnd.jupyter.widget-view+json": {
       "model_id": "aa69faf2e5184f1a9872c48b497c11d0",
       "version_major": 2,
       "version_minor": 0
      },
      "text/plain": [
       "Processing Channels (T=124):   0%|          | 0/3 [00:00<?, ?it/s]"
      ]
     },
     "metadata": {},
     "output_type": "display_data"
    },
    {
     "name": "stdout",
     "output_type": "stream",
     "text": [
      "Timepoint ID 124 saved out\n"
     ]
    },
    {
     "data": {
      "application/vnd.jupyter.widget-view+json": {
       "model_id": "fc0148e383fe4a1f8aaf9a4b73c55f17",
       "version_major": 2,
       "version_minor": 0
      },
      "text/plain": [
       "Processing Channels (T=125):   0%|          | 0/3 [00:00<?, ?it/s]"
      ]
     },
     "metadata": {},
     "output_type": "display_data"
    },
    {
     "name": "stdout",
     "output_type": "stream",
     "text": [
      "Timepoint ID 125 saved out\n"
     ]
    },
    {
     "data": {
      "application/vnd.jupyter.widget-view+json": {
       "model_id": "547ffe7ff406424d9844fd33562556aa",
       "version_major": 2,
       "version_minor": 0
      },
      "text/plain": [
       "Processing Channels (T=126):   0%|          | 0/3 [00:00<?, ?it/s]"
      ]
     },
     "metadata": {},
     "output_type": "display_data"
    },
    {
     "name": "stdout",
     "output_type": "stream",
     "text": [
      "Timepoint ID 126 saved out\n"
     ]
    },
    {
     "data": {
      "application/vnd.jupyter.widget-view+json": {
       "model_id": "f90f37cdaad240099fb05a80e1369c0b",
       "version_major": 2,
       "version_minor": 0
      },
      "text/plain": [
       "Processing Channels (T=127):   0%|          | 0/3 [00:00<?, ?it/s]"
      ]
     },
     "metadata": {},
     "output_type": "display_data"
    },
    {
     "name": "stdout",
     "output_type": "stream",
     "text": [
      "Timepoint ID 127 saved out\n"
     ]
    },
    {
     "data": {
      "application/vnd.jupyter.widget-view+json": {
       "model_id": "fd52587edac743c996c11cb9b6bf460e",
       "version_major": 2,
       "version_minor": 0
      },
      "text/plain": [
       "Processing Channels (T=128):   0%|          | 0/3 [00:00<?, ?it/s]"
      ]
     },
     "metadata": {},
     "output_type": "display_data"
    },
    {
     "name": "stdout",
     "output_type": "stream",
     "text": [
      "Timepoint ID 128 saved out\n"
     ]
    },
    {
     "data": {
      "application/vnd.jupyter.widget-view+json": {
       "model_id": "ba82779bf88c44fdbf4fcefa350e84aa",
       "version_major": 2,
       "version_minor": 0
      },
      "text/plain": [
       "Processing Channels (T=129):   0%|          | 0/3 [00:00<?, ?it/s]"
      ]
     },
     "metadata": {},
     "output_type": "display_data"
    },
    {
     "name": "stdout",
     "output_type": "stream",
     "text": [
      "Timepoint ID 129 saved out\n"
     ]
    },
    {
     "data": {
      "application/vnd.jupyter.widget-view+json": {
       "model_id": "401fd270318e4ca08a3f556bfee71a77",
       "version_major": 2,
       "version_minor": 0
      },
      "text/plain": [
       "Processing Channels (T=130):   0%|          | 0/3 [00:00<?, ?it/s]"
      ]
     },
     "metadata": {},
     "output_type": "display_data"
    },
    {
     "name": "stdout",
     "output_type": "stream",
     "text": [
      "Timepoint ID 130 saved out\n"
     ]
    },
    {
     "data": {
      "application/vnd.jupyter.widget-view+json": {
       "model_id": "7d78de75955a4bf6952e0c819f7e5974",
       "version_major": 2,
       "version_minor": 0
      },
      "text/plain": [
       "Processing Channels (T=131):   0%|          | 0/3 [00:00<?, ?it/s]"
      ]
     },
     "metadata": {},
     "output_type": "display_data"
    },
    {
     "name": "stdout",
     "output_type": "stream",
     "text": [
      "Timepoint ID 131 saved out\n"
     ]
    },
    {
     "data": {
      "application/vnd.jupyter.widget-view+json": {
       "model_id": "e3539b07ed8241ba8d4f958d565d6298",
       "version_major": 2,
       "version_minor": 0
      },
      "text/plain": [
       "Processing Channels (T=132):   0%|          | 0/3 [00:00<?, ?it/s]"
      ]
     },
     "metadata": {},
     "output_type": "display_data"
    },
    {
     "name": "stdout",
     "output_type": "stream",
     "text": [
      "Timepoint ID 132 saved out\n"
     ]
    },
    {
     "data": {
      "application/vnd.jupyter.widget-view+json": {
       "model_id": "2079662828254c0a940fa8b49ea4681e",
       "version_major": 2,
       "version_minor": 0
      },
      "text/plain": [
       "Processing Channels (T=133):   0%|          | 0/3 [00:00<?, ?it/s]"
      ]
     },
     "metadata": {},
     "output_type": "display_data"
    },
    {
     "name": "stdout",
     "output_type": "stream",
     "text": [
      "Timepoint ID 133 saved out\n"
     ]
    },
    {
     "data": {
      "application/vnd.jupyter.widget-view+json": {
       "model_id": "830411e2b1464925a2632c71c7bf9d23",
       "version_major": 2,
       "version_minor": 0
      },
      "text/plain": [
       "Processing Channels (T=134):   0%|          | 0/3 [00:00<?, ?it/s]"
      ]
     },
     "metadata": {},
     "output_type": "display_data"
    },
    {
     "name": "stdout",
     "output_type": "stream",
     "text": [
      "Timepoint ID 134 saved out\n"
     ]
    },
    {
     "data": {
      "application/vnd.jupyter.widget-view+json": {
       "model_id": "2fbf937cd70a4c01b4a95f9bbbf5a88f",
       "version_major": 2,
       "version_minor": 0
      },
      "text/plain": [
       "Processing Channels (T=135):   0%|          | 0/3 [00:00<?, ?it/s]"
      ]
     },
     "metadata": {},
     "output_type": "display_data"
    },
    {
     "name": "stdout",
     "output_type": "stream",
     "text": [
      "Timepoint ID 135 saved out\n"
     ]
    },
    {
     "data": {
      "application/vnd.jupyter.widget-view+json": {
       "model_id": "20362a1f2dfd4d3bb28ede4e34aa5815",
       "version_major": 2,
       "version_minor": 0
      },
      "text/plain": [
       "Processing Channels (T=136):   0%|          | 0/3 [00:00<?, ?it/s]"
      ]
     },
     "metadata": {},
     "output_type": "display_data"
    },
    {
     "name": "stdout",
     "output_type": "stream",
     "text": [
      "Timepoint ID 136 saved out\n"
     ]
    },
    {
     "data": {
      "application/vnd.jupyter.widget-view+json": {
       "model_id": "b496444bf8a54afea66b40eed07b9e1c",
       "version_major": 2,
       "version_minor": 0
      },
      "text/plain": [
       "Processing Channels (T=137):   0%|          | 0/3 [00:00<?, ?it/s]"
      ]
     },
     "metadata": {},
     "output_type": "display_data"
    },
    {
     "name": "stdout",
     "output_type": "stream",
     "text": [
      "Timepoint ID 137 saved out\n"
     ]
    },
    {
     "data": {
      "application/vnd.jupyter.widget-view+json": {
       "model_id": "5665475c381a4618b0b7b4c7c6c08cc5",
       "version_major": 2,
       "version_minor": 0
      },
      "text/plain": [
       "Processing Channels (T=138):   0%|          | 0/3 [00:00<?, ?it/s]"
      ]
     },
     "metadata": {},
     "output_type": "display_data"
    },
    {
     "name": "stdout",
     "output_type": "stream",
     "text": [
      "Timepoint ID 138 saved out\n"
     ]
    },
    {
     "data": {
      "application/vnd.jupyter.widget-view+json": {
       "model_id": "27f1514fc6f94866b3af3214c07fdc53",
       "version_major": 2,
       "version_minor": 0
      },
      "text/plain": [
       "Processing Channels (T=139):   0%|          | 0/3 [00:00<?, ?it/s]"
      ]
     },
     "metadata": {},
     "output_type": "display_data"
    },
    {
     "name": "stdout",
     "output_type": "stream",
     "text": [
      "Timepoint ID 139 saved out\n"
     ]
    },
    {
     "data": {
      "application/vnd.jupyter.widget-view+json": {
       "model_id": "baeefc13ad7e43a4a2161eb9f31a9cf5",
       "version_major": 2,
       "version_minor": 0
      },
      "text/plain": [
       "Processing Channels (T=140):   0%|          | 0/3 [00:00<?, ?it/s]"
      ]
     },
     "metadata": {},
     "output_type": "display_data"
    },
    {
     "name": "stdout",
     "output_type": "stream",
     "text": [
      "Timepoint ID 140 saved out\n"
     ]
    },
    {
     "data": {
      "application/vnd.jupyter.widget-view+json": {
       "model_id": "72c5f3e097e54aca9c0402276184d092",
       "version_major": 2,
       "version_minor": 0
      },
      "text/plain": [
       "Processing Channels (T=141):   0%|          | 0/3 [00:00<?, ?it/s]"
      ]
     },
     "metadata": {},
     "output_type": "display_data"
    },
    {
     "name": "stdout",
     "output_type": "stream",
     "text": [
      "Timepoint ID 141 saved out\n"
     ]
    },
    {
     "data": {
      "application/vnd.jupyter.widget-view+json": {
       "model_id": "a33aa7845d764a87b4b7d74c3e07619e",
       "version_major": 2,
       "version_minor": 0
      },
      "text/plain": [
       "Processing Channels (T=142):   0%|          | 0/3 [00:00<?, ?it/s]"
      ]
     },
     "metadata": {},
     "output_type": "display_data"
    },
    {
     "name": "stdout",
     "output_type": "stream",
     "text": [
      "Timepoint ID 142 saved out\n"
     ]
    },
    {
     "data": {
      "application/vnd.jupyter.widget-view+json": {
       "model_id": "804f556085ee455e81a690146837637f",
       "version_major": 2,
       "version_minor": 0
      },
      "text/plain": [
       "Processing Channels (T=143):   0%|          | 0/3 [00:00<?, ?it/s]"
      ]
     },
     "metadata": {},
     "output_type": "display_data"
    },
    {
     "name": "stdout",
     "output_type": "stream",
     "text": [
      "Timepoint ID 143 saved out\n",
      "/mnt/DATA3/BPP0050/BPP0050-1-Live-cell-to4i_Live-2__2025-04-10T18_45_48-Measurement 1/acquisition/zarr/(4, 4).zarr already exists, skipping\n",
      "/mnt/DATA3/BPP0050/BPP0050-1-Live-cell-to4i_Live-2__2025-04-10T18_45_48-Measurement 1/acquisition/zarr/(3, 8).zarr already exists, skipping\n",
      "/mnt/DATA3/BPP0050/BPP0050-1-Live-cell-to4i_Live-2__2025-04-10T18_45_48-Measurement 1/acquisition/zarr/(3, 7).zarr already exists, skipping\n",
      "/mnt/DATA3/BPP0050/BPP0050-1-Live-cell-to4i_Live-2__2025-04-10T18_45_48-Measurement 1/acquisition/zarr/(3, 6).zarr already exists, skipping\n",
      "/mnt/DATA3/BPP0050/BPP0050-1-Live-cell-to4i_Live-2__2025-04-10T18_45_48-Measurement 1/acquisition/zarr/(3, 5).zarr already exists, skipping\n",
      "/mnt/DATA3/BPP0050/BPP0050-1-Live-cell-to4i_Live-2__2025-04-10T18_45_48-Measurement 1/acquisition/zarr/(3, 4).zarr already exists, skipping\n"
     ]
    },
    {
     "data": {
      "application/vnd.jupyter.widget-view+json": {
       "model_id": "ff2db43a6e79413c8f4fd6b105713ac3",
       "version_major": 2,
       "version_minor": 0
      },
      "text/plain": [
       "Processing Time Points:   0%|          | 0/144 [00:00<?, ?it/s]"
      ]
     },
     "metadata": {},
     "output_type": "display_data"
    },
    {
     "data": {
      "application/vnd.jupyter.widget-view+json": {
       "model_id": "60809d8e2fc24b0ebf7e1dbb95ec9968",
       "version_major": 2,
       "version_minor": 0
      },
      "text/plain": [
       "Processing Channels (T=0):   0%|          | 0/3 [00:00<?, ?it/s]"
      ]
     },
     "metadata": {},
     "output_type": "display_data"
    },
    {
     "name": "stdout",
     "output_type": "stream",
     "text": [
      "Timepoint ID 0 saved out\n"
     ]
    },
    {
     "data": {
      "application/vnd.jupyter.widget-view+json": {
       "model_id": "62e759e7a47a4513807e28dda4780481",
       "version_major": 2,
       "version_minor": 0
      },
      "text/plain": [
       "Processing Channels (T=1):   0%|          | 0/3 [00:00<?, ?it/s]"
      ]
     },
     "metadata": {},
     "output_type": "display_data"
    },
    {
     "name": "stdout",
     "output_type": "stream",
     "text": [
      "Timepoint ID 1 saved out\n"
     ]
    },
    {
     "data": {
      "application/vnd.jupyter.widget-view+json": {
       "model_id": "a014ae461d4b418e97722574ceef7249",
       "version_major": 2,
       "version_minor": 0
      },
      "text/plain": [
       "Processing Channels (T=2):   0%|          | 0/3 [00:00<?, ?it/s]"
      ]
     },
     "metadata": {},
     "output_type": "display_data"
    },
    {
     "name": "stdout",
     "output_type": "stream",
     "text": [
      "Timepoint ID 2 saved out\n"
     ]
    },
    {
     "data": {
      "application/vnd.jupyter.widget-view+json": {
       "model_id": "10607e94016644d7964edc7eac99c098",
       "version_major": 2,
       "version_minor": 0
      },
      "text/plain": [
       "Processing Channels (T=3):   0%|          | 0/3 [00:00<?, ?it/s]"
      ]
     },
     "metadata": {},
     "output_type": "display_data"
    },
    {
     "name": "stdout",
     "output_type": "stream",
     "text": [
      "Timepoint ID 3 saved out\n"
     ]
    },
    {
     "data": {
      "application/vnd.jupyter.widget-view+json": {
       "model_id": "1269b22af9ef4ccc87b949c337081f58",
       "version_major": 2,
       "version_minor": 0
      },
      "text/plain": [
       "Processing Channels (T=4):   0%|          | 0/3 [00:00<?, ?it/s]"
      ]
     },
     "metadata": {},
     "output_type": "display_data"
    },
    {
     "name": "stdout",
     "output_type": "stream",
     "text": [
      "Timepoint ID 4 saved out\n"
     ]
    },
    {
     "data": {
      "application/vnd.jupyter.widget-view+json": {
       "model_id": "afd682a7a7f848c3b8d0dcc2774390b4",
       "version_major": 2,
       "version_minor": 0
      },
      "text/plain": [
       "Processing Channels (T=5):   0%|          | 0/3 [00:00<?, ?it/s]"
      ]
     },
     "metadata": {},
     "output_type": "display_data"
    },
    {
     "name": "stdout",
     "output_type": "stream",
     "text": [
      "Timepoint ID 5 saved out\n"
     ]
    },
    {
     "data": {
      "application/vnd.jupyter.widget-view+json": {
       "model_id": "8ca10e88546c4b3e9443ae9dad9afe38",
       "version_major": 2,
       "version_minor": 0
      },
      "text/plain": [
       "Processing Channels (T=6):   0%|          | 0/3 [00:00<?, ?it/s]"
      ]
     },
     "metadata": {},
     "output_type": "display_data"
    },
    {
     "name": "stdout",
     "output_type": "stream",
     "text": [
      "Timepoint ID 6 saved out\n"
     ]
    },
    {
     "data": {
      "application/vnd.jupyter.widget-view+json": {
       "model_id": "fa16a27eaa374832bbdf6df9392d3469",
       "version_major": 2,
       "version_minor": 0
      },
      "text/plain": [
       "Processing Channels (T=7):   0%|          | 0/3 [00:00<?, ?it/s]"
      ]
     },
     "metadata": {},
     "output_type": "display_data"
    },
    {
     "name": "stdout",
     "output_type": "stream",
     "text": [
      "Timepoint ID 7 saved out\n"
     ]
    },
    {
     "data": {
      "application/vnd.jupyter.widget-view+json": {
       "model_id": "b6375cdf371b4feea2c6cdd111b254f1",
       "version_major": 2,
       "version_minor": 0
      },
      "text/plain": [
       "Processing Channels (T=8):   0%|          | 0/3 [00:00<?, ?it/s]"
      ]
     },
     "metadata": {},
     "output_type": "display_data"
    },
    {
     "name": "stdout",
     "output_type": "stream",
     "text": [
      "Timepoint ID 8 saved out\n"
     ]
    },
    {
     "data": {
      "application/vnd.jupyter.widget-view+json": {
       "model_id": "fef3bda7c0984ffda06a6f9e4e44e3fb",
       "version_major": 2,
       "version_minor": 0
      },
      "text/plain": [
       "Processing Channels (T=9):   0%|          | 0/3 [00:00<?, ?it/s]"
      ]
     },
     "metadata": {},
     "output_type": "display_data"
    },
    {
     "name": "stdout",
     "output_type": "stream",
     "text": [
      "Timepoint ID 9 saved out\n"
     ]
    },
    {
     "data": {
      "application/vnd.jupyter.widget-view+json": {
       "model_id": "e168086cadec4bae805203d81189d5e2",
       "version_major": 2,
       "version_minor": 0
      },
      "text/plain": [
       "Processing Channels (T=10):   0%|          | 0/3 [00:00<?, ?it/s]"
      ]
     },
     "metadata": {},
     "output_type": "display_data"
    },
    {
     "name": "stdout",
     "output_type": "stream",
     "text": [
      "Timepoint ID 10 saved out\n"
     ]
    },
    {
     "data": {
      "application/vnd.jupyter.widget-view+json": {
       "model_id": "8e874c8b89ff43df91633e8ded7a5aff",
       "version_major": 2,
       "version_minor": 0
      },
      "text/plain": [
       "Processing Channels (T=11):   0%|          | 0/3 [00:00<?, ?it/s]"
      ]
     },
     "metadata": {},
     "output_type": "display_data"
    },
    {
     "name": "stdout",
     "output_type": "stream",
     "text": [
      "Timepoint ID 11 saved out\n"
     ]
    },
    {
     "data": {
      "application/vnd.jupyter.widget-view+json": {
       "model_id": "f897288747af4ac28c2284157774ff51",
       "version_major": 2,
       "version_minor": 0
      },
      "text/plain": [
       "Processing Channels (T=12):   0%|          | 0/3 [00:00<?, ?it/s]"
      ]
     },
     "metadata": {},
     "output_type": "display_data"
    },
    {
     "name": "stdout",
     "output_type": "stream",
     "text": [
      "Timepoint ID 12 saved out\n"
     ]
    },
    {
     "data": {
      "application/vnd.jupyter.widget-view+json": {
       "model_id": "d9a520da059a414ea7627c2af57287a8",
       "version_major": 2,
       "version_minor": 0
      },
      "text/plain": [
       "Processing Channels (T=13):   0%|          | 0/3 [00:00<?, ?it/s]"
      ]
     },
     "metadata": {},
     "output_type": "display_data"
    },
    {
     "name": "stdout",
     "output_type": "stream",
     "text": [
      "Timepoint ID 13 saved out\n"
     ]
    },
    {
     "data": {
      "application/vnd.jupyter.widget-view+json": {
       "model_id": "6d839a6af2ae45d5bf0f551d0c2bf0d8",
       "version_major": 2,
       "version_minor": 0
      },
      "text/plain": [
       "Processing Channels (T=14):   0%|          | 0/3 [00:00<?, ?it/s]"
      ]
     },
     "metadata": {},
     "output_type": "display_data"
    },
    {
     "name": "stdout",
     "output_type": "stream",
     "text": [
      "Timepoint ID 14 saved out\n"
     ]
    },
    {
     "data": {
      "application/vnd.jupyter.widget-view+json": {
       "model_id": "94773a262280421781e3999a6258528d",
       "version_major": 2,
       "version_minor": 0
      },
      "text/plain": [
       "Processing Channels (T=15):   0%|          | 0/3 [00:00<?, ?it/s]"
      ]
     },
     "metadata": {},
     "output_type": "display_data"
    },
    {
     "name": "stdout",
     "output_type": "stream",
     "text": [
      "Timepoint ID 15 saved out\n"
     ]
    },
    {
     "data": {
      "application/vnd.jupyter.widget-view+json": {
       "model_id": "90b074d80d7447169573627593507745",
       "version_major": 2,
       "version_minor": 0
      },
      "text/plain": [
       "Processing Channels (T=16):   0%|          | 0/3 [00:00<?, ?it/s]"
      ]
     },
     "metadata": {},
     "output_type": "display_data"
    },
    {
     "name": "stdout",
     "output_type": "stream",
     "text": [
      "Timepoint ID 16 saved out\n"
     ]
    },
    {
     "data": {
      "application/vnd.jupyter.widget-view+json": {
       "model_id": "0fa96c6b1d1748df8581b12a041c2f5e",
       "version_major": 2,
       "version_minor": 0
      },
      "text/plain": [
       "Processing Channels (T=17):   0%|          | 0/3 [00:00<?, ?it/s]"
      ]
     },
     "metadata": {},
     "output_type": "display_data"
    },
    {
     "name": "stdout",
     "output_type": "stream",
     "text": [
      "Timepoint ID 17 saved out\n"
     ]
    },
    {
     "data": {
      "application/vnd.jupyter.widget-view+json": {
       "model_id": "c1e22615f57445bf833ccdc04f443d5f",
       "version_major": 2,
       "version_minor": 0
      },
      "text/plain": [
       "Processing Channels (T=18):   0%|          | 0/3 [00:00<?, ?it/s]"
      ]
     },
     "metadata": {},
     "output_type": "display_data"
    },
    {
     "name": "stdout",
     "output_type": "stream",
     "text": [
      "Timepoint ID 18 saved out\n"
     ]
    },
    {
     "data": {
      "application/vnd.jupyter.widget-view+json": {
       "model_id": "0f7260711faf4e4ea9aed4183b04d932",
       "version_major": 2,
       "version_minor": 0
      },
      "text/plain": [
       "Processing Channels (T=19):   0%|          | 0/3 [00:00<?, ?it/s]"
      ]
     },
     "metadata": {},
     "output_type": "display_data"
    },
    {
     "name": "stdout",
     "output_type": "stream",
     "text": [
      "Timepoint ID 19 saved out\n"
     ]
    },
    {
     "data": {
      "application/vnd.jupyter.widget-view+json": {
       "model_id": "8c15373e21214f859270f9dbfa851769",
       "version_major": 2,
       "version_minor": 0
      },
      "text/plain": [
       "Processing Channels (T=20):   0%|          | 0/3 [00:00<?, ?it/s]"
      ]
     },
     "metadata": {},
     "output_type": "display_data"
    },
    {
     "name": "stdout",
     "output_type": "stream",
     "text": [
      "Timepoint ID 20 saved out\n"
     ]
    },
    {
     "data": {
      "application/vnd.jupyter.widget-view+json": {
       "model_id": "1c3f9b75227d41d6b64e445f0e8e035a",
       "version_major": 2,
       "version_minor": 0
      },
      "text/plain": [
       "Processing Channels (T=21):   0%|          | 0/3 [00:00<?, ?it/s]"
      ]
     },
     "metadata": {},
     "output_type": "display_data"
    },
    {
     "name": "stdout",
     "output_type": "stream",
     "text": [
      "Timepoint ID 21 saved out\n"
     ]
    },
    {
     "data": {
      "application/vnd.jupyter.widget-view+json": {
       "model_id": "db6af530ffd1412a92a055eecde657d6",
       "version_major": 2,
       "version_minor": 0
      },
      "text/plain": [
       "Processing Channels (T=22):   0%|          | 0/3 [00:00<?, ?it/s]"
      ]
     },
     "metadata": {},
     "output_type": "display_data"
    },
    {
     "name": "stdout",
     "output_type": "stream",
     "text": [
      "Timepoint ID 22 saved out\n"
     ]
    },
    {
     "data": {
      "application/vnd.jupyter.widget-view+json": {
       "model_id": "c22464a64ffb4e8eb3491b6c29bfb158",
       "version_major": 2,
       "version_minor": 0
      },
      "text/plain": [
       "Processing Channels (T=23):   0%|          | 0/3 [00:00<?, ?it/s]"
      ]
     },
     "metadata": {},
     "output_type": "display_data"
    },
    {
     "name": "stdout",
     "output_type": "stream",
     "text": [
      "Timepoint ID 23 saved out\n"
     ]
    },
    {
     "data": {
      "application/vnd.jupyter.widget-view+json": {
       "model_id": "af5b826d923e4514999af62664373fc3",
       "version_major": 2,
       "version_minor": 0
      },
      "text/plain": [
       "Processing Channels (T=24):   0%|          | 0/3 [00:00<?, ?it/s]"
      ]
     },
     "metadata": {},
     "output_type": "display_data"
    },
    {
     "name": "stdout",
     "output_type": "stream",
     "text": [
      "Timepoint ID 24 saved out\n"
     ]
    },
    {
     "data": {
      "application/vnd.jupyter.widget-view+json": {
       "model_id": "e46f658213b64ec4b4cf6c1090071cd9",
       "version_major": 2,
       "version_minor": 0
      },
      "text/plain": [
       "Processing Channels (T=25):   0%|          | 0/3 [00:00<?, ?it/s]"
      ]
     },
     "metadata": {},
     "output_type": "display_data"
    },
    {
     "name": "stdout",
     "output_type": "stream",
     "text": [
      "Timepoint ID 25 saved out\n"
     ]
    },
    {
     "data": {
      "application/vnd.jupyter.widget-view+json": {
       "model_id": "5f1acf57940b4c6ab3fb9e7f3fc9eac1",
       "version_major": 2,
       "version_minor": 0
      },
      "text/plain": [
       "Processing Channels (T=26):   0%|          | 0/3 [00:00<?, ?it/s]"
      ]
     },
     "metadata": {},
     "output_type": "display_data"
    },
    {
     "name": "stdout",
     "output_type": "stream",
     "text": [
      "Timepoint ID 26 saved out\n"
     ]
    },
    {
     "data": {
      "application/vnd.jupyter.widget-view+json": {
       "model_id": "0080f2d2aa9344699d984ef646091a58",
       "version_major": 2,
       "version_minor": 0
      },
      "text/plain": [
       "Processing Channels (T=27):   0%|          | 0/3 [00:00<?, ?it/s]"
      ]
     },
     "metadata": {},
     "output_type": "display_data"
    },
    {
     "name": "stdout",
     "output_type": "stream",
     "text": [
      "Timepoint ID 27 saved out\n"
     ]
    },
    {
     "data": {
      "application/vnd.jupyter.widget-view+json": {
       "model_id": "b0f6eac9cf8f4784be6f525cdd074bd4",
       "version_major": 2,
       "version_minor": 0
      },
      "text/plain": [
       "Processing Channels (T=28):   0%|          | 0/3 [00:00<?, ?it/s]"
      ]
     },
     "metadata": {},
     "output_type": "display_data"
    },
    {
     "name": "stdout",
     "output_type": "stream",
     "text": [
      "Timepoint ID 28 saved out\n"
     ]
    },
    {
     "data": {
      "application/vnd.jupyter.widget-view+json": {
       "model_id": "a4a8a4a171994d6d919c941adf35b188",
       "version_major": 2,
       "version_minor": 0
      },
      "text/plain": [
       "Processing Channels (T=29):   0%|          | 0/3 [00:00<?, ?it/s]"
      ]
     },
     "metadata": {},
     "output_type": "display_data"
    },
    {
     "name": "stdout",
     "output_type": "stream",
     "text": [
      "Timepoint ID 29 saved out\n"
     ]
    },
    {
     "data": {
      "application/vnd.jupyter.widget-view+json": {
       "model_id": "61c3f4802b4e4f58b54167852697de94",
       "version_major": 2,
       "version_minor": 0
      },
      "text/plain": [
       "Processing Channels (T=30):   0%|          | 0/3 [00:00<?, ?it/s]"
      ]
     },
     "metadata": {},
     "output_type": "display_data"
    },
    {
     "name": "stdout",
     "output_type": "stream",
     "text": [
      "Timepoint ID 30 saved out\n"
     ]
    },
    {
     "data": {
      "application/vnd.jupyter.widget-view+json": {
       "model_id": "faac816e3eab48febdbc1316e7d5ed26",
       "version_major": 2,
       "version_minor": 0
      },
      "text/plain": [
       "Processing Channels (T=31):   0%|          | 0/3 [00:00<?, ?it/s]"
      ]
     },
     "metadata": {},
     "output_type": "display_data"
    },
    {
     "name": "stdout",
     "output_type": "stream",
     "text": [
      "Timepoint ID 31 saved out\n"
     ]
    },
    {
     "data": {
      "application/vnd.jupyter.widget-view+json": {
       "model_id": "b8c456fec94d4f7682011ad33237070b",
       "version_major": 2,
       "version_minor": 0
      },
      "text/plain": [
       "Processing Channels (T=32):   0%|          | 0/3 [00:00<?, ?it/s]"
      ]
     },
     "metadata": {},
     "output_type": "display_data"
    },
    {
     "name": "stdout",
     "output_type": "stream",
     "text": [
      "Timepoint ID 32 saved out\n"
     ]
    },
    {
     "data": {
      "application/vnd.jupyter.widget-view+json": {
       "model_id": "7dba93f9343d40a2b5dfe1ccef5c47da",
       "version_major": 2,
       "version_minor": 0
      },
      "text/plain": [
       "Processing Channels (T=33):   0%|          | 0/3 [00:00<?, ?it/s]"
      ]
     },
     "metadata": {},
     "output_type": "display_data"
    },
    {
     "name": "stdout",
     "output_type": "stream",
     "text": [
      "Timepoint ID 33 saved out\n"
     ]
    },
    {
     "data": {
      "application/vnd.jupyter.widget-view+json": {
       "model_id": "45b81837174d4c018865e921ec7fdd15",
       "version_major": 2,
       "version_minor": 0
      },
      "text/plain": [
       "Processing Channels (T=34):   0%|          | 0/3 [00:00<?, ?it/s]"
      ]
     },
     "metadata": {},
     "output_type": "display_data"
    },
    {
     "name": "stdout",
     "output_type": "stream",
     "text": [
      "Timepoint ID 34 saved out\n"
     ]
    },
    {
     "data": {
      "application/vnd.jupyter.widget-view+json": {
       "model_id": "8039f7b939a44bf1900d17db5ef112b7",
       "version_major": 2,
       "version_minor": 0
      },
      "text/plain": [
       "Processing Channels (T=35):   0%|          | 0/3 [00:00<?, ?it/s]"
      ]
     },
     "metadata": {},
     "output_type": "display_data"
    },
    {
     "name": "stdout",
     "output_type": "stream",
     "text": [
      "Timepoint ID 35 saved out\n"
     ]
    },
    {
     "data": {
      "application/vnd.jupyter.widget-view+json": {
       "model_id": "9ba89946e0b3448885c3dd6a11c14880",
       "version_major": 2,
       "version_minor": 0
      },
      "text/plain": [
       "Processing Channels (T=36):   0%|          | 0/3 [00:00<?, ?it/s]"
      ]
     },
     "metadata": {},
     "output_type": "display_data"
    },
    {
     "name": "stdout",
     "output_type": "stream",
     "text": [
      "Timepoint ID 36 saved out\n"
     ]
    },
    {
     "data": {
      "application/vnd.jupyter.widget-view+json": {
       "model_id": "7afd9698576c4260ade5dabb1be6a595",
       "version_major": 2,
       "version_minor": 0
      },
      "text/plain": [
       "Processing Channels (T=37):   0%|          | 0/3 [00:00<?, ?it/s]"
      ]
     },
     "metadata": {},
     "output_type": "display_data"
    },
    {
     "name": "stdout",
     "output_type": "stream",
     "text": [
      "Timepoint ID 37 saved out\n"
     ]
    },
    {
     "data": {
      "application/vnd.jupyter.widget-view+json": {
       "model_id": "fe64fe22089f4094871906f4fb1a7a86",
       "version_major": 2,
       "version_minor": 0
      },
      "text/plain": [
       "Processing Channels (T=38):   0%|          | 0/3 [00:00<?, ?it/s]"
      ]
     },
     "metadata": {},
     "output_type": "display_data"
    },
    {
     "name": "stdout",
     "output_type": "stream",
     "text": [
      "Timepoint ID 38 saved out\n"
     ]
    },
    {
     "data": {
      "application/vnd.jupyter.widget-view+json": {
       "model_id": "e024235fbe73462f80494df2da4fe517",
       "version_major": 2,
       "version_minor": 0
      },
      "text/plain": [
       "Processing Channels (T=39):   0%|          | 0/3 [00:00<?, ?it/s]"
      ]
     },
     "metadata": {},
     "output_type": "display_data"
    },
    {
     "name": "stdout",
     "output_type": "stream",
     "text": [
      "Timepoint ID 39 saved out\n"
     ]
    },
    {
     "data": {
      "application/vnd.jupyter.widget-view+json": {
       "model_id": "e8815da198c14f6fb13a1f876d741d03",
       "version_major": 2,
       "version_minor": 0
      },
      "text/plain": [
       "Processing Channels (T=40):   0%|          | 0/3 [00:00<?, ?it/s]"
      ]
     },
     "metadata": {},
     "output_type": "display_data"
    },
    {
     "name": "stdout",
     "output_type": "stream",
     "text": [
      "Timepoint ID 40 saved out\n"
     ]
    },
    {
     "data": {
      "application/vnd.jupyter.widget-view+json": {
       "model_id": "850be6a5c5dc4f18bb23e6483fba303e",
       "version_major": 2,
       "version_minor": 0
      },
      "text/plain": [
       "Processing Channels (T=41):   0%|          | 0/3 [00:00<?, ?it/s]"
      ]
     },
     "metadata": {},
     "output_type": "display_data"
    },
    {
     "name": "stdout",
     "output_type": "stream",
     "text": [
      "Timepoint ID 41 saved out\n"
     ]
    },
    {
     "data": {
      "application/vnd.jupyter.widget-view+json": {
       "model_id": "9cb58224e2b942238d5533af2bb26d17",
       "version_major": 2,
       "version_minor": 0
      },
      "text/plain": [
       "Processing Channels (T=42):   0%|          | 0/3 [00:00<?, ?it/s]"
      ]
     },
     "metadata": {},
     "output_type": "display_data"
    },
    {
     "name": "stdout",
     "output_type": "stream",
     "text": [
      "Timepoint ID 42 saved out\n"
     ]
    },
    {
     "data": {
      "application/vnd.jupyter.widget-view+json": {
       "model_id": "da507ac1331b49d1a1798ce40bbfd0b1",
       "version_major": 2,
       "version_minor": 0
      },
      "text/plain": [
       "Processing Channels (T=43):   0%|          | 0/3 [00:00<?, ?it/s]"
      ]
     },
     "metadata": {},
     "output_type": "display_data"
    },
    {
     "name": "stdout",
     "output_type": "stream",
     "text": [
      "Timepoint ID 43 saved out\n"
     ]
    },
    {
     "data": {
      "application/vnd.jupyter.widget-view+json": {
       "model_id": "0ca4c48e4e9a488c8b44919d94cc634c",
       "version_major": 2,
       "version_minor": 0
      },
      "text/plain": [
       "Processing Channels (T=44):   0%|          | 0/3 [00:00<?, ?it/s]"
      ]
     },
     "metadata": {},
     "output_type": "display_data"
    },
    {
     "name": "stdout",
     "output_type": "stream",
     "text": [
      "Timepoint ID 44 saved out\n"
     ]
    },
    {
     "data": {
      "application/vnd.jupyter.widget-view+json": {
       "model_id": "805d73a2ffe147ebaf8da5b2c4504666",
       "version_major": 2,
       "version_minor": 0
      },
      "text/plain": [
       "Processing Channels (T=45):   0%|          | 0/3 [00:00<?, ?it/s]"
      ]
     },
     "metadata": {},
     "output_type": "display_data"
    },
    {
     "name": "stdout",
     "output_type": "stream",
     "text": [
      "Timepoint ID 45 saved out\n"
     ]
    },
    {
     "data": {
      "application/vnd.jupyter.widget-view+json": {
       "model_id": "ab4173ed256044d8af8100e44dd9a555",
       "version_major": 2,
       "version_minor": 0
      },
      "text/plain": [
       "Processing Channels (T=46):   0%|          | 0/3 [00:00<?, ?it/s]"
      ]
     },
     "metadata": {},
     "output_type": "display_data"
    },
    {
     "name": "stdout",
     "output_type": "stream",
     "text": [
      "Timepoint ID 46 saved out\n"
     ]
    },
    {
     "data": {
      "application/vnd.jupyter.widget-view+json": {
       "model_id": "d51dd1ce02804407afb0a31785396ff4",
       "version_major": 2,
       "version_minor": 0
      },
      "text/plain": [
       "Processing Channels (T=47):   0%|          | 0/3 [00:00<?, ?it/s]"
      ]
     },
     "metadata": {},
     "output_type": "display_data"
    },
    {
     "name": "stdout",
     "output_type": "stream",
     "text": [
      "Timepoint ID 47 saved out\n"
     ]
    },
    {
     "data": {
      "application/vnd.jupyter.widget-view+json": {
       "model_id": "89607d6e98424e53bdb18cf44785a9c7",
       "version_major": 2,
       "version_minor": 0
      },
      "text/plain": [
       "Processing Channels (T=48):   0%|          | 0/3 [00:00<?, ?it/s]"
      ]
     },
     "metadata": {},
     "output_type": "display_data"
    },
    {
     "name": "stdout",
     "output_type": "stream",
     "text": [
      "Timepoint ID 48 saved out\n"
     ]
    },
    {
     "data": {
      "application/vnd.jupyter.widget-view+json": {
       "model_id": "e11a60010ffd49b392b2bec34dcfc438",
       "version_major": 2,
       "version_minor": 0
      },
      "text/plain": [
       "Processing Channels (T=49):   0%|          | 0/3 [00:00<?, ?it/s]"
      ]
     },
     "metadata": {},
     "output_type": "display_data"
    },
    {
     "name": "stdout",
     "output_type": "stream",
     "text": [
      "Timepoint ID 49 saved out\n"
     ]
    },
    {
     "data": {
      "application/vnd.jupyter.widget-view+json": {
       "model_id": "2c4a188e70db4fef89280f81bba350ac",
       "version_major": 2,
       "version_minor": 0
      },
      "text/plain": [
       "Processing Channels (T=50):   0%|          | 0/3 [00:00<?, ?it/s]"
      ]
     },
     "metadata": {},
     "output_type": "display_data"
    },
    {
     "name": "stdout",
     "output_type": "stream",
     "text": [
      "Timepoint ID 50 saved out\n"
     ]
    },
    {
     "data": {
      "application/vnd.jupyter.widget-view+json": {
       "model_id": "da28ca3db0a240d2bdafbf52e9fdc5ce",
       "version_major": 2,
       "version_minor": 0
      },
      "text/plain": [
       "Processing Channels (T=51):   0%|          | 0/3 [00:00<?, ?it/s]"
      ]
     },
     "metadata": {},
     "output_type": "display_data"
    },
    {
     "name": "stdout",
     "output_type": "stream",
     "text": [
      "Timepoint ID 51 saved out\n"
     ]
    },
    {
     "data": {
      "application/vnd.jupyter.widget-view+json": {
       "model_id": "847890986eb64932908df54c551526f6",
       "version_major": 2,
       "version_minor": 0
      },
      "text/plain": [
       "Processing Channels (T=52):   0%|          | 0/3 [00:00<?, ?it/s]"
      ]
     },
     "metadata": {},
     "output_type": "display_data"
    },
    {
     "name": "stdout",
     "output_type": "stream",
     "text": [
      "Timepoint ID 52 saved out\n"
     ]
    },
    {
     "data": {
      "application/vnd.jupyter.widget-view+json": {
       "model_id": "55d69f8f331548aabce6618d776eb2de",
       "version_major": 2,
       "version_minor": 0
      },
      "text/plain": [
       "Processing Channels (T=53):   0%|          | 0/3 [00:00<?, ?it/s]"
      ]
     },
     "metadata": {},
     "output_type": "display_data"
    },
    {
     "name": "stdout",
     "output_type": "stream",
     "text": [
      "Timepoint ID 53 saved out\n"
     ]
    },
    {
     "data": {
      "application/vnd.jupyter.widget-view+json": {
       "model_id": "f8ea77f82ae141a0b87306e3756971a5",
       "version_major": 2,
       "version_minor": 0
      },
      "text/plain": [
       "Processing Channels (T=54):   0%|          | 0/3 [00:00<?, ?it/s]"
      ]
     },
     "metadata": {},
     "output_type": "display_data"
    },
    {
     "name": "stdout",
     "output_type": "stream",
     "text": [
      "Timepoint ID 54 saved out\n"
     ]
    },
    {
     "data": {
      "application/vnd.jupyter.widget-view+json": {
       "model_id": "171cb752b4e34c619ddb9d44e1ce8e49",
       "version_major": 2,
       "version_minor": 0
      },
      "text/plain": [
       "Processing Channels (T=55):   0%|          | 0/3 [00:00<?, ?it/s]"
      ]
     },
     "metadata": {},
     "output_type": "display_data"
    },
    {
     "name": "stdout",
     "output_type": "stream",
     "text": [
      "Timepoint ID 55 saved out\n"
     ]
    },
    {
     "data": {
      "application/vnd.jupyter.widget-view+json": {
       "model_id": "a1624a87d7fe45f9a805b5cc692a9263",
       "version_major": 2,
       "version_minor": 0
      },
      "text/plain": [
       "Processing Channels (T=56):   0%|          | 0/3 [00:00<?, ?it/s]"
      ]
     },
     "metadata": {},
     "output_type": "display_data"
    },
    {
     "name": "stdout",
     "output_type": "stream",
     "text": [
      "Timepoint ID 56 saved out\n"
     ]
    },
    {
     "data": {
      "application/vnd.jupyter.widget-view+json": {
       "model_id": "238e74c13b0040e89f7affec31f07fe6",
       "version_major": 2,
       "version_minor": 0
      },
      "text/plain": [
       "Processing Channels (T=57):   0%|          | 0/3 [00:00<?, ?it/s]"
      ]
     },
     "metadata": {},
     "output_type": "display_data"
    },
    {
     "name": "stdout",
     "output_type": "stream",
     "text": [
      "Timepoint ID 57 saved out\n"
     ]
    },
    {
     "data": {
      "application/vnd.jupyter.widget-view+json": {
       "model_id": "235b50c50b2c493d907585951b81141a",
       "version_major": 2,
       "version_minor": 0
      },
      "text/plain": [
       "Processing Channels (T=58):   0%|          | 0/3 [00:00<?, ?it/s]"
      ]
     },
     "metadata": {},
     "output_type": "display_data"
    },
    {
     "name": "stdout",
     "output_type": "stream",
     "text": [
      "Timepoint ID 58 saved out\n"
     ]
    },
    {
     "data": {
      "application/vnd.jupyter.widget-view+json": {
       "model_id": "2a606ac5acc8439ca1dae8da5fd069bc",
       "version_major": 2,
       "version_minor": 0
      },
      "text/plain": [
       "Processing Channels (T=59):   0%|          | 0/3 [00:00<?, ?it/s]"
      ]
     },
     "metadata": {},
     "output_type": "display_data"
    },
    {
     "name": "stdout",
     "output_type": "stream",
     "text": [
      "Timepoint ID 59 saved out\n"
     ]
    },
    {
     "data": {
      "application/vnd.jupyter.widget-view+json": {
       "model_id": "21c2d88297754d2c8dd7268ea0d6932b",
       "version_major": 2,
       "version_minor": 0
      },
      "text/plain": [
       "Processing Channels (T=60):   0%|          | 0/3 [00:00<?, ?it/s]"
      ]
     },
     "metadata": {},
     "output_type": "display_data"
    },
    {
     "name": "stdout",
     "output_type": "stream",
     "text": [
      "Timepoint ID 60 saved out\n"
     ]
    },
    {
     "data": {
      "application/vnd.jupyter.widget-view+json": {
       "model_id": "bce7b0084b834d16bdbacf1b97fb19fb",
       "version_major": 2,
       "version_minor": 0
      },
      "text/plain": [
       "Processing Channels (T=61):   0%|          | 0/3 [00:00<?, ?it/s]"
      ]
     },
     "metadata": {},
     "output_type": "display_data"
    },
    {
     "name": "stdout",
     "output_type": "stream",
     "text": [
      "Timepoint ID 61 saved out\n"
     ]
    },
    {
     "data": {
      "application/vnd.jupyter.widget-view+json": {
       "model_id": "4cabe69f1e7644b3a19bf5fb097b272b",
       "version_major": 2,
       "version_minor": 0
      },
      "text/plain": [
       "Processing Channels (T=62):   0%|          | 0/3 [00:00<?, ?it/s]"
      ]
     },
     "metadata": {},
     "output_type": "display_data"
    },
    {
     "name": "stdout",
     "output_type": "stream",
     "text": [
      "Timepoint ID 62 saved out\n"
     ]
    },
    {
     "data": {
      "application/vnd.jupyter.widget-view+json": {
       "model_id": "de17aef7eec749d3a1d76ee52a8b3058",
       "version_major": 2,
       "version_minor": 0
      },
      "text/plain": [
       "Processing Channels (T=63):   0%|          | 0/3 [00:00<?, ?it/s]"
      ]
     },
     "metadata": {},
     "output_type": "display_data"
    },
    {
     "name": "stdout",
     "output_type": "stream",
     "text": [
      "Timepoint ID 63 saved out\n"
     ]
    },
    {
     "data": {
      "application/vnd.jupyter.widget-view+json": {
       "model_id": "0e7a02430d14401ab5b8b4a23e7a462a",
       "version_major": 2,
       "version_minor": 0
      },
      "text/plain": [
       "Processing Channels (T=64):   0%|          | 0/3 [00:00<?, ?it/s]"
      ]
     },
     "metadata": {},
     "output_type": "display_data"
    },
    {
     "name": "stdout",
     "output_type": "stream",
     "text": [
      "Timepoint ID 64 saved out\n"
     ]
    },
    {
     "data": {
      "application/vnd.jupyter.widget-view+json": {
       "model_id": "93db3e376ad04da086e73770e94b133b",
       "version_major": 2,
       "version_minor": 0
      },
      "text/plain": [
       "Processing Channels (T=65):   0%|          | 0/3 [00:00<?, ?it/s]"
      ]
     },
     "metadata": {},
     "output_type": "display_data"
    },
    {
     "name": "stdout",
     "output_type": "stream",
     "text": [
      "Timepoint ID 65 saved out\n"
     ]
    },
    {
     "data": {
      "application/vnd.jupyter.widget-view+json": {
       "model_id": "5608c376d65c4b11b386986dbbee7a48",
       "version_major": 2,
       "version_minor": 0
      },
      "text/plain": [
       "Processing Channels (T=66):   0%|          | 0/3 [00:00<?, ?it/s]"
      ]
     },
     "metadata": {},
     "output_type": "display_data"
    },
    {
     "name": "stdout",
     "output_type": "stream",
     "text": [
      "Timepoint ID 66 saved out\n"
     ]
    },
    {
     "data": {
      "application/vnd.jupyter.widget-view+json": {
       "model_id": "5afc0353aa974c0693a5cbd044f1aecb",
       "version_major": 2,
       "version_minor": 0
      },
      "text/plain": [
       "Processing Channels (T=67):   0%|          | 0/3 [00:00<?, ?it/s]"
      ]
     },
     "metadata": {},
     "output_type": "display_data"
    },
    {
     "name": "stdout",
     "output_type": "stream",
     "text": [
      "Timepoint ID 67 saved out\n"
     ]
    },
    {
     "data": {
      "application/vnd.jupyter.widget-view+json": {
       "model_id": "0391d0b5267d4d258175387ee52c2891",
       "version_major": 2,
       "version_minor": 0
      },
      "text/plain": [
       "Processing Channels (T=68):   0%|          | 0/3 [00:00<?, ?it/s]"
      ]
     },
     "metadata": {},
     "output_type": "display_data"
    },
    {
     "name": "stdout",
     "output_type": "stream",
     "text": [
      "Timepoint ID 68 saved out\n"
     ]
    },
    {
     "data": {
      "application/vnd.jupyter.widget-view+json": {
       "model_id": "64007764c25a4869b32552bce1eb6732",
       "version_major": 2,
       "version_minor": 0
      },
      "text/plain": [
       "Processing Channels (T=69):   0%|          | 0/3 [00:00<?, ?it/s]"
      ]
     },
     "metadata": {},
     "output_type": "display_data"
    },
    {
     "name": "stdout",
     "output_type": "stream",
     "text": [
      "Timepoint ID 69 saved out\n"
     ]
    },
    {
     "data": {
      "application/vnd.jupyter.widget-view+json": {
       "model_id": "92619e6c5a7a4c9783e5cf239dd2eb3b",
       "version_major": 2,
       "version_minor": 0
      },
      "text/plain": [
       "Processing Channels (T=70):   0%|          | 0/3 [00:00<?, ?it/s]"
      ]
     },
     "metadata": {},
     "output_type": "display_data"
    },
    {
     "name": "stdout",
     "output_type": "stream",
     "text": [
      "Timepoint ID 70 saved out\n"
     ]
    },
    {
     "data": {
      "application/vnd.jupyter.widget-view+json": {
       "model_id": "f2f69dfdfd384b8099d6c66261fdb11f",
       "version_major": 2,
       "version_minor": 0
      },
      "text/plain": [
       "Processing Channels (T=71):   0%|          | 0/3 [00:00<?, ?it/s]"
      ]
     },
     "metadata": {},
     "output_type": "display_data"
    },
    {
     "name": "stdout",
     "output_type": "stream",
     "text": [
      "Timepoint ID 71 saved out\n"
     ]
    },
    {
     "data": {
      "application/vnd.jupyter.widget-view+json": {
       "model_id": "c829870b6b22483f87754773c03a5c20",
       "version_major": 2,
       "version_minor": 0
      },
      "text/plain": [
       "Processing Channels (T=72):   0%|          | 0/3 [00:00<?, ?it/s]"
      ]
     },
     "metadata": {},
     "output_type": "display_data"
    },
    {
     "name": "stdout",
     "output_type": "stream",
     "text": [
      "Timepoint ID 72 saved out\n"
     ]
    },
    {
     "data": {
      "application/vnd.jupyter.widget-view+json": {
       "model_id": "8a6bc998291d4fbfacf4bc260ca2f764",
       "version_major": 2,
       "version_minor": 0
      },
      "text/plain": [
       "Processing Channels (T=73):   0%|          | 0/3 [00:00<?, ?it/s]"
      ]
     },
     "metadata": {},
     "output_type": "display_data"
    },
    {
     "name": "stdout",
     "output_type": "stream",
     "text": [
      "Timepoint ID 73 saved out\n"
     ]
    },
    {
     "data": {
      "application/vnd.jupyter.widget-view+json": {
       "model_id": "80b86b5b039b45a4b2e02521464f4318",
       "version_major": 2,
       "version_minor": 0
      },
      "text/plain": [
       "Processing Channels (T=74):   0%|          | 0/3 [00:00<?, ?it/s]"
      ]
     },
     "metadata": {},
     "output_type": "display_data"
    },
    {
     "name": "stdout",
     "output_type": "stream",
     "text": [
      "Timepoint ID 74 saved out\n"
     ]
    },
    {
     "data": {
      "application/vnd.jupyter.widget-view+json": {
       "model_id": "64cd8c5d30c1431f8fb53bef4f434bfa",
       "version_major": 2,
       "version_minor": 0
      },
      "text/plain": [
       "Processing Channels (T=75):   0%|          | 0/3 [00:00<?, ?it/s]"
      ]
     },
     "metadata": {},
     "output_type": "display_data"
    },
    {
     "name": "stdout",
     "output_type": "stream",
     "text": [
      "Timepoint ID 75 saved out\n"
     ]
    },
    {
     "data": {
      "application/vnd.jupyter.widget-view+json": {
       "model_id": "ace91bf946d844ad8e45801598070c7d",
       "version_major": 2,
       "version_minor": 0
      },
      "text/plain": [
       "Processing Channels (T=76):   0%|          | 0/3 [00:00<?, ?it/s]"
      ]
     },
     "metadata": {},
     "output_type": "display_data"
    },
    {
     "name": "stdout",
     "output_type": "stream",
     "text": [
      "Timepoint ID 76 saved out\n"
     ]
    },
    {
     "data": {
      "application/vnd.jupyter.widget-view+json": {
       "model_id": "604a66007daf4442904fc2a3f83bd6e5",
       "version_major": 2,
       "version_minor": 0
      },
      "text/plain": [
       "Processing Channels (T=77):   0%|          | 0/3 [00:00<?, ?it/s]"
      ]
     },
     "metadata": {},
     "output_type": "display_data"
    },
    {
     "name": "stdout",
     "output_type": "stream",
     "text": [
      "Timepoint ID 77 saved out\n"
     ]
    },
    {
     "data": {
      "application/vnd.jupyter.widget-view+json": {
       "model_id": "59e88c32f52e417b9f3b081fbf29abb0",
       "version_major": 2,
       "version_minor": 0
      },
      "text/plain": [
       "Processing Channels (T=78):   0%|          | 0/3 [00:00<?, ?it/s]"
      ]
     },
     "metadata": {},
     "output_type": "display_data"
    },
    {
     "name": "stdout",
     "output_type": "stream",
     "text": [
      "Timepoint ID 78 saved out\n"
     ]
    },
    {
     "data": {
      "application/vnd.jupyter.widget-view+json": {
       "model_id": "88d2c9b918a247559bcc10acc577a9c0",
       "version_major": 2,
       "version_minor": 0
      },
      "text/plain": [
       "Processing Channels (T=79):   0%|          | 0/3 [00:00<?, ?it/s]"
      ]
     },
     "metadata": {},
     "output_type": "display_data"
    },
    {
     "name": "stdout",
     "output_type": "stream",
     "text": [
      "Timepoint ID 79 saved out\n"
     ]
    },
    {
     "data": {
      "application/vnd.jupyter.widget-view+json": {
       "model_id": "e3a64ff4dad24e02b9bbd30578b0220a",
       "version_major": 2,
       "version_minor": 0
      },
      "text/plain": [
       "Processing Channels (T=80):   0%|          | 0/3 [00:00<?, ?it/s]"
      ]
     },
     "metadata": {},
     "output_type": "display_data"
    },
    {
     "name": "stdout",
     "output_type": "stream",
     "text": [
      "Timepoint ID 80 saved out\n"
     ]
    },
    {
     "data": {
      "application/vnd.jupyter.widget-view+json": {
       "model_id": "a0a4d68f12ba441d9145856b6224a3b5",
       "version_major": 2,
       "version_minor": 0
      },
      "text/plain": [
       "Processing Channels (T=81):   0%|          | 0/3 [00:00<?, ?it/s]"
      ]
     },
     "metadata": {},
     "output_type": "display_data"
    },
    {
     "name": "stdout",
     "output_type": "stream",
     "text": [
      "Timepoint ID 81 saved out\n"
     ]
    },
    {
     "data": {
      "application/vnd.jupyter.widget-view+json": {
       "model_id": "f41cd1d8599c4c24be8cec3bbd0660e0",
       "version_major": 2,
       "version_minor": 0
      },
      "text/plain": [
       "Processing Channels (T=82):   0%|          | 0/3 [00:00<?, ?it/s]"
      ]
     },
     "metadata": {},
     "output_type": "display_data"
    },
    {
     "name": "stdout",
     "output_type": "stream",
     "text": [
      "Timepoint ID 82 saved out\n"
     ]
    },
    {
     "data": {
      "application/vnd.jupyter.widget-view+json": {
       "model_id": "4c699a7a611b4e14af20091999da20d5",
       "version_major": 2,
       "version_minor": 0
      },
      "text/plain": [
       "Processing Channels (T=83):   0%|          | 0/3 [00:00<?, ?it/s]"
      ]
     },
     "metadata": {},
     "output_type": "display_data"
    },
    {
     "name": "stdout",
     "output_type": "stream",
     "text": [
      "Timepoint ID 83 saved out\n"
     ]
    },
    {
     "data": {
      "application/vnd.jupyter.widget-view+json": {
       "model_id": "c6973932ec85438ab7472405a367d1c5",
       "version_major": 2,
       "version_minor": 0
      },
      "text/plain": [
       "Processing Channels (T=84):   0%|          | 0/3 [00:00<?, ?it/s]"
      ]
     },
     "metadata": {},
     "output_type": "display_data"
    },
    {
     "name": "stdout",
     "output_type": "stream",
     "text": [
      "Timepoint ID 84 saved out\n"
     ]
    },
    {
     "data": {
      "application/vnd.jupyter.widget-view+json": {
       "model_id": "70d90cb953db4fe5bebad30e79c293fd",
       "version_major": 2,
       "version_minor": 0
      },
      "text/plain": [
       "Processing Channels (T=85):   0%|          | 0/3 [00:00<?, ?it/s]"
      ]
     },
     "metadata": {},
     "output_type": "display_data"
    },
    {
     "name": "stdout",
     "output_type": "stream",
     "text": [
      "Timepoint ID 85 saved out\n"
     ]
    },
    {
     "data": {
      "application/vnd.jupyter.widget-view+json": {
       "model_id": "64df9a39b6804129969b3693a5d38ac3",
       "version_major": 2,
       "version_minor": 0
      },
      "text/plain": [
       "Processing Channels (T=86):   0%|          | 0/3 [00:00<?, ?it/s]"
      ]
     },
     "metadata": {},
     "output_type": "display_data"
    },
    {
     "name": "stdout",
     "output_type": "stream",
     "text": [
      "Timepoint ID 86 saved out\n"
     ]
    },
    {
     "data": {
      "application/vnd.jupyter.widget-view+json": {
       "model_id": "2d218a14f5c847e89ebf685caecdf26a",
       "version_major": 2,
       "version_minor": 0
      },
      "text/plain": [
       "Processing Channels (T=87):   0%|          | 0/3 [00:00<?, ?it/s]"
      ]
     },
     "metadata": {},
     "output_type": "display_data"
    },
    {
     "name": "stdout",
     "output_type": "stream",
     "text": [
      "Timepoint ID 87 saved out\n"
     ]
    },
    {
     "data": {
      "application/vnd.jupyter.widget-view+json": {
       "model_id": "ca741156da3642c0a2098b69fc65ed5c",
       "version_major": 2,
       "version_minor": 0
      },
      "text/plain": [
       "Processing Channels (T=88):   0%|          | 0/3 [00:00<?, ?it/s]"
      ]
     },
     "metadata": {},
     "output_type": "display_data"
    },
    {
     "name": "stdout",
     "output_type": "stream",
     "text": [
      "Timepoint ID 88 saved out\n"
     ]
    },
    {
     "data": {
      "application/vnd.jupyter.widget-view+json": {
       "model_id": "e6dff89b71bf4405b957972b89bc2053",
       "version_major": 2,
       "version_minor": 0
      },
      "text/plain": [
       "Processing Channels (T=89):   0%|          | 0/3 [00:00<?, ?it/s]"
      ]
     },
     "metadata": {},
     "output_type": "display_data"
    },
    {
     "name": "stdout",
     "output_type": "stream",
     "text": [
      "Timepoint ID 89 saved out\n"
     ]
    },
    {
     "data": {
      "application/vnd.jupyter.widget-view+json": {
       "model_id": "603dcf5d19f1459e854d65d290968411",
       "version_major": 2,
       "version_minor": 0
      },
      "text/plain": [
       "Processing Channels (T=90):   0%|          | 0/3 [00:00<?, ?it/s]"
      ]
     },
     "metadata": {},
     "output_type": "display_data"
    },
    {
     "name": "stdout",
     "output_type": "stream",
     "text": [
      "Timepoint ID 90 saved out\n"
     ]
    },
    {
     "data": {
      "application/vnd.jupyter.widget-view+json": {
       "model_id": "8e8867913f6d4b0dbe8fdc6e8dad1513",
       "version_major": 2,
       "version_minor": 0
      },
      "text/plain": [
       "Processing Channels (T=91):   0%|          | 0/3 [00:00<?, ?it/s]"
      ]
     },
     "metadata": {},
     "output_type": "display_data"
    },
    {
     "name": "stdout",
     "output_type": "stream",
     "text": [
      "Timepoint ID 91 saved out\n"
     ]
    },
    {
     "data": {
      "application/vnd.jupyter.widget-view+json": {
       "model_id": "bf3dd4f32e2946f3933137cff5854e52",
       "version_major": 2,
       "version_minor": 0
      },
      "text/plain": [
       "Processing Channels (T=92):   0%|          | 0/3 [00:00<?, ?it/s]"
      ]
     },
     "metadata": {},
     "output_type": "display_data"
    },
    {
     "name": "stdout",
     "output_type": "stream",
     "text": [
      "Timepoint ID 92 saved out\n"
     ]
    },
    {
     "data": {
      "application/vnd.jupyter.widget-view+json": {
       "model_id": "c30423b4733a4fb687b1cc3e4570936b",
       "version_major": 2,
       "version_minor": 0
      },
      "text/plain": [
       "Processing Channels (T=93):   0%|          | 0/3 [00:00<?, ?it/s]"
      ]
     },
     "metadata": {},
     "output_type": "display_data"
    },
    {
     "name": "stdout",
     "output_type": "stream",
     "text": [
      "Timepoint ID 93 saved out\n"
     ]
    },
    {
     "data": {
      "application/vnd.jupyter.widget-view+json": {
       "model_id": "1ce8f57d74e84f86902668f929e17ffa",
       "version_major": 2,
       "version_minor": 0
      },
      "text/plain": [
       "Processing Channels (T=94):   0%|          | 0/3 [00:00<?, ?it/s]"
      ]
     },
     "metadata": {},
     "output_type": "display_data"
    },
    {
     "name": "stdout",
     "output_type": "stream",
     "text": [
      "Timepoint ID 94 saved out\n"
     ]
    },
    {
     "data": {
      "application/vnd.jupyter.widget-view+json": {
       "model_id": "81065aa7c4004be491bee5cdf3541ecb",
       "version_major": 2,
       "version_minor": 0
      },
      "text/plain": [
       "Processing Channels (T=95):   0%|          | 0/3 [00:00<?, ?it/s]"
      ]
     },
     "metadata": {},
     "output_type": "display_data"
    },
    {
     "name": "stdout",
     "output_type": "stream",
     "text": [
      "Timepoint ID 95 saved out\n"
     ]
    },
    {
     "data": {
      "application/vnd.jupyter.widget-view+json": {
       "model_id": "11d179efe61a438a95725ead5043c92f",
       "version_major": 2,
       "version_minor": 0
      },
      "text/plain": [
       "Processing Channels (T=96):   0%|          | 0/3 [00:00<?, ?it/s]"
      ]
     },
     "metadata": {},
     "output_type": "display_data"
    },
    {
     "name": "stdout",
     "output_type": "stream",
     "text": [
      "Timepoint ID 96 saved out\n"
     ]
    },
    {
     "data": {
      "application/vnd.jupyter.widget-view+json": {
       "model_id": "ba382b7542a24f279f04e1f5fdcd60e3",
       "version_major": 2,
       "version_minor": 0
      },
      "text/plain": [
       "Processing Channels (T=97):   0%|          | 0/3 [00:00<?, ?it/s]"
      ]
     },
     "metadata": {},
     "output_type": "display_data"
    },
    {
     "name": "stdout",
     "output_type": "stream",
     "text": [
      "Timepoint ID 97 saved out\n"
     ]
    },
    {
     "data": {
      "application/vnd.jupyter.widget-view+json": {
       "model_id": "1a191791ae09428496d7b23b528b59c0",
       "version_major": 2,
       "version_minor": 0
      },
      "text/plain": [
       "Processing Channels (T=98):   0%|          | 0/3 [00:00<?, ?it/s]"
      ]
     },
     "metadata": {},
     "output_type": "display_data"
    },
    {
     "name": "stdout",
     "output_type": "stream",
     "text": [
      "Timepoint ID 98 saved out\n"
     ]
    },
    {
     "data": {
      "application/vnd.jupyter.widget-view+json": {
       "model_id": "325fa461cad445ffbf4af48111de58be",
       "version_major": 2,
       "version_minor": 0
      },
      "text/plain": [
       "Processing Channels (T=99):   0%|          | 0/3 [00:00<?, ?it/s]"
      ]
     },
     "metadata": {},
     "output_type": "display_data"
    },
    {
     "name": "stdout",
     "output_type": "stream",
     "text": [
      "Timepoint ID 99 saved out\n"
     ]
    },
    {
     "data": {
      "application/vnd.jupyter.widget-view+json": {
       "model_id": "bcfcca61dcf244328d781524609e4c52",
       "version_major": 2,
       "version_minor": 0
      },
      "text/plain": [
       "Processing Channels (T=100):   0%|          | 0/3 [00:00<?, ?it/s]"
      ]
     },
     "metadata": {},
     "output_type": "display_data"
    },
    {
     "name": "stdout",
     "output_type": "stream",
     "text": [
      "Timepoint ID 100 saved out\n"
     ]
    },
    {
     "data": {
      "application/vnd.jupyter.widget-view+json": {
       "model_id": "05fbfca1be16401b81f09209ee982643",
       "version_major": 2,
       "version_minor": 0
      },
      "text/plain": [
       "Processing Channels (T=101):   0%|          | 0/3 [00:00<?, ?it/s]"
      ]
     },
     "metadata": {},
     "output_type": "display_data"
    },
    {
     "name": "stdout",
     "output_type": "stream",
     "text": [
      "Timepoint ID 101 saved out\n"
     ]
    },
    {
     "data": {
      "application/vnd.jupyter.widget-view+json": {
       "model_id": "bfed329b56884d5b8e379472d78c9760",
       "version_major": 2,
       "version_minor": 0
      },
      "text/plain": [
       "Processing Channels (T=102):   0%|          | 0/3 [00:00<?, ?it/s]"
      ]
     },
     "metadata": {},
     "output_type": "display_data"
    },
    {
     "name": "stdout",
     "output_type": "stream",
     "text": [
      "Timepoint ID 102 saved out\n"
     ]
    },
    {
     "data": {
      "application/vnd.jupyter.widget-view+json": {
       "model_id": "0e1f7f0e35c64ff49f7c0fa0d6e039ec",
       "version_major": 2,
       "version_minor": 0
      },
      "text/plain": [
       "Processing Channels (T=103):   0%|          | 0/3 [00:00<?, ?it/s]"
      ]
     },
     "metadata": {},
     "output_type": "display_data"
    },
    {
     "name": "stdout",
     "output_type": "stream",
     "text": [
      "Timepoint ID 103 saved out\n"
     ]
    },
    {
     "data": {
      "application/vnd.jupyter.widget-view+json": {
       "model_id": "3ab5f352427c4eecbd5457d51f551a03",
       "version_major": 2,
       "version_minor": 0
      },
      "text/plain": [
       "Processing Channels (T=104):   0%|          | 0/3 [00:00<?, ?it/s]"
      ]
     },
     "metadata": {},
     "output_type": "display_data"
    },
    {
     "name": "stdout",
     "output_type": "stream",
     "text": [
      "Timepoint ID 104 saved out\n"
     ]
    },
    {
     "data": {
      "application/vnd.jupyter.widget-view+json": {
       "model_id": "1887d13773a549b2973c5ca8c9ff50de",
       "version_major": 2,
       "version_minor": 0
      },
      "text/plain": [
       "Processing Channels (T=105):   0%|          | 0/3 [00:00<?, ?it/s]"
      ]
     },
     "metadata": {},
     "output_type": "display_data"
    },
    {
     "name": "stdout",
     "output_type": "stream",
     "text": [
      "Timepoint ID 105 saved out\n"
     ]
    },
    {
     "data": {
      "application/vnd.jupyter.widget-view+json": {
       "model_id": "b1d3349ad1af4734a07049fade73d8a6",
       "version_major": 2,
       "version_minor": 0
      },
      "text/plain": [
       "Processing Channels (T=106):   0%|          | 0/3 [00:00<?, ?it/s]"
      ]
     },
     "metadata": {},
     "output_type": "display_data"
    },
    {
     "name": "stdout",
     "output_type": "stream",
     "text": [
      "Timepoint ID 106 saved out\n"
     ]
    },
    {
     "data": {
      "application/vnd.jupyter.widget-view+json": {
       "model_id": "0ad806ab50ed43ee84f6971a55ee5a21",
       "version_major": 2,
       "version_minor": 0
      },
      "text/plain": [
       "Processing Channels (T=107):   0%|          | 0/3 [00:00<?, ?it/s]"
      ]
     },
     "metadata": {},
     "output_type": "display_data"
    },
    {
     "name": "stdout",
     "output_type": "stream",
     "text": [
      "Timepoint ID 107 saved out\n"
     ]
    },
    {
     "data": {
      "application/vnd.jupyter.widget-view+json": {
       "model_id": "55beb6b94c0a4d72b7c9a3ca96538fa1",
       "version_major": 2,
       "version_minor": 0
      },
      "text/plain": [
       "Processing Channels (T=108):   0%|          | 0/3 [00:00<?, ?it/s]"
      ]
     },
     "metadata": {},
     "output_type": "display_data"
    },
    {
     "name": "stdout",
     "output_type": "stream",
     "text": [
      "Timepoint ID 108 saved out\n"
     ]
    },
    {
     "data": {
      "application/vnd.jupyter.widget-view+json": {
       "model_id": "276e39cf70684ca7b51daf95d8efda36",
       "version_major": 2,
       "version_minor": 0
      },
      "text/plain": [
       "Processing Channels (T=109):   0%|          | 0/3 [00:00<?, ?it/s]"
      ]
     },
     "metadata": {},
     "output_type": "display_data"
    },
    {
     "name": "stdout",
     "output_type": "stream",
     "text": [
      "Timepoint ID 109 saved out\n"
     ]
    },
    {
     "data": {
      "application/vnd.jupyter.widget-view+json": {
       "model_id": "9c316077afe3436d8bd42306ed9fc20f",
       "version_major": 2,
       "version_minor": 0
      },
      "text/plain": [
       "Processing Channels (T=110):   0%|          | 0/3 [00:00<?, ?it/s]"
      ]
     },
     "metadata": {},
     "output_type": "display_data"
    },
    {
     "name": "stdout",
     "output_type": "stream",
     "text": [
      "Timepoint ID 110 saved out\n"
     ]
    },
    {
     "data": {
      "application/vnd.jupyter.widget-view+json": {
       "model_id": "7daece8361b340a0b85a2a5502f5eb50",
       "version_major": 2,
       "version_minor": 0
      },
      "text/plain": [
       "Processing Channels (T=111):   0%|          | 0/3 [00:00<?, ?it/s]"
      ]
     },
     "metadata": {},
     "output_type": "display_data"
    },
    {
     "name": "stdout",
     "output_type": "stream",
     "text": [
      "Timepoint ID 111 saved out\n"
     ]
    },
    {
     "data": {
      "application/vnd.jupyter.widget-view+json": {
       "model_id": "bf23f9244d5941dc8b27263584d3245b",
       "version_major": 2,
       "version_minor": 0
      },
      "text/plain": [
       "Processing Channels (T=112):   0%|          | 0/3 [00:00<?, ?it/s]"
      ]
     },
     "metadata": {},
     "output_type": "display_data"
    },
    {
     "name": "stdout",
     "output_type": "stream",
     "text": [
      "Timepoint ID 112 saved out\n"
     ]
    },
    {
     "data": {
      "application/vnd.jupyter.widget-view+json": {
       "model_id": "459e793cc3e843ca924e13335c4e003a",
       "version_major": 2,
       "version_minor": 0
      },
      "text/plain": [
       "Processing Channels (T=113):   0%|          | 0/3 [00:00<?, ?it/s]"
      ]
     },
     "metadata": {},
     "output_type": "display_data"
    },
    {
     "name": "stdout",
     "output_type": "stream",
     "text": [
      "Timepoint ID 113 saved out\n"
     ]
    },
    {
     "data": {
      "application/vnd.jupyter.widget-view+json": {
       "model_id": "5c2d825ce0d44066b0b447810269048d",
       "version_major": 2,
       "version_minor": 0
      },
      "text/plain": [
       "Processing Channels (T=114):   0%|          | 0/3 [00:00<?, ?it/s]"
      ]
     },
     "metadata": {},
     "output_type": "display_data"
    },
    {
     "name": "stdout",
     "output_type": "stream",
     "text": [
      "Timepoint ID 114 saved out\n"
     ]
    },
    {
     "data": {
      "application/vnd.jupyter.widget-view+json": {
       "model_id": "fbc3d605ce504ba5b987e948d4949d6d",
       "version_major": 2,
       "version_minor": 0
      },
      "text/plain": [
       "Processing Channels (T=115):   0%|          | 0/3 [00:00<?, ?it/s]"
      ]
     },
     "metadata": {},
     "output_type": "display_data"
    },
    {
     "name": "stdout",
     "output_type": "stream",
     "text": [
      "Timepoint ID 115 saved out\n"
     ]
    },
    {
     "data": {
      "application/vnd.jupyter.widget-view+json": {
       "model_id": "01c01a7a38e44c8c8a492eb32aae20c9",
       "version_major": 2,
       "version_minor": 0
      },
      "text/plain": [
       "Processing Channels (T=116):   0%|          | 0/3 [00:00<?, ?it/s]"
      ]
     },
     "metadata": {},
     "output_type": "display_data"
    },
    {
     "name": "stdout",
     "output_type": "stream",
     "text": [
      "Timepoint ID 116 saved out\n"
     ]
    },
    {
     "data": {
      "application/vnd.jupyter.widget-view+json": {
       "model_id": "b1736d1e55164f358132f34ded392c87",
       "version_major": 2,
       "version_minor": 0
      },
      "text/plain": [
       "Processing Channels (T=117):   0%|          | 0/3 [00:00<?, ?it/s]"
      ]
     },
     "metadata": {},
     "output_type": "display_data"
    },
    {
     "name": "stdout",
     "output_type": "stream",
     "text": [
      "Timepoint ID 117 saved out\n"
     ]
    },
    {
     "data": {
      "application/vnd.jupyter.widget-view+json": {
       "model_id": "47f2771bcb3e4ca9b2f36db54fbe348c",
       "version_major": 2,
       "version_minor": 0
      },
      "text/plain": [
       "Processing Channels (T=118):   0%|          | 0/3 [00:00<?, ?it/s]"
      ]
     },
     "metadata": {},
     "output_type": "display_data"
    },
    {
     "name": "stdout",
     "output_type": "stream",
     "text": [
      "Timepoint ID 118 saved out\n"
     ]
    },
    {
     "data": {
      "application/vnd.jupyter.widget-view+json": {
       "model_id": "24974d91bee94f34a8775191cdb70100",
       "version_major": 2,
       "version_minor": 0
      },
      "text/plain": [
       "Processing Channels (T=119):   0%|          | 0/3 [00:00<?, ?it/s]"
      ]
     },
     "metadata": {},
     "output_type": "display_data"
    },
    {
     "name": "stdout",
     "output_type": "stream",
     "text": [
      "Timepoint ID 119 saved out\n"
     ]
    },
    {
     "data": {
      "application/vnd.jupyter.widget-view+json": {
       "model_id": "ef1272b5962148609c50d7c493dfd997",
       "version_major": 2,
       "version_minor": 0
      },
      "text/plain": [
       "Processing Channels (T=120):   0%|          | 0/3 [00:00<?, ?it/s]"
      ]
     },
     "metadata": {},
     "output_type": "display_data"
    },
    {
     "name": "stdout",
     "output_type": "stream",
     "text": [
      "Timepoint ID 120 saved out\n"
     ]
    },
    {
     "data": {
      "application/vnd.jupyter.widget-view+json": {
       "model_id": "f9fe5077dbf34f218fb57984ed524835",
       "version_major": 2,
       "version_minor": 0
      },
      "text/plain": [
       "Processing Channels (T=121):   0%|          | 0/3 [00:00<?, ?it/s]"
      ]
     },
     "metadata": {},
     "output_type": "display_data"
    },
    {
     "name": "stdout",
     "output_type": "stream",
     "text": [
      "Timepoint ID 121 saved out\n"
     ]
    },
    {
     "data": {
      "application/vnd.jupyter.widget-view+json": {
       "model_id": "24554f5c7bda4104abeeaf667f4f3af5",
       "version_major": 2,
       "version_minor": 0
      },
      "text/plain": [
       "Processing Channels (T=122):   0%|          | 0/3 [00:00<?, ?it/s]"
      ]
     },
     "metadata": {},
     "output_type": "display_data"
    },
    {
     "name": "stdout",
     "output_type": "stream",
     "text": [
      "Timepoint ID 122 saved out\n"
     ]
    },
    {
     "data": {
      "application/vnd.jupyter.widget-view+json": {
       "model_id": "c4fa68950a5444ef91e53f325137bcdd",
       "version_major": 2,
       "version_minor": 0
      },
      "text/plain": [
       "Processing Channels (T=123):   0%|          | 0/3 [00:00<?, ?it/s]"
      ]
     },
     "metadata": {},
     "output_type": "display_data"
    },
    {
     "name": "stdout",
     "output_type": "stream",
     "text": [
      "Timepoint ID 123 saved out\n"
     ]
    },
    {
     "data": {
      "application/vnd.jupyter.widget-view+json": {
       "model_id": "445c9675b3c84f55b9eb81294842cc33",
       "version_major": 2,
       "version_minor": 0
      },
      "text/plain": [
       "Processing Channels (T=124):   0%|          | 0/3 [00:00<?, ?it/s]"
      ]
     },
     "metadata": {},
     "output_type": "display_data"
    },
    {
     "name": "stdout",
     "output_type": "stream",
     "text": [
      "Timepoint ID 124 saved out\n"
     ]
    },
    {
     "data": {
      "application/vnd.jupyter.widget-view+json": {
       "model_id": "83d6a11cfa784aa7a560948c0fead382",
       "version_major": 2,
       "version_minor": 0
      },
      "text/plain": [
       "Processing Channels (T=125):   0%|          | 0/3 [00:00<?, ?it/s]"
      ]
     },
     "metadata": {},
     "output_type": "display_data"
    },
    {
     "name": "stdout",
     "output_type": "stream",
     "text": [
      "Timepoint ID 125 saved out\n"
     ]
    },
    {
     "data": {
      "application/vnd.jupyter.widget-view+json": {
       "model_id": "52aa673a6dfc4124b4d9529edf434801",
       "version_major": 2,
       "version_minor": 0
      },
      "text/plain": [
       "Processing Channels (T=126):   0%|          | 0/3 [00:00<?, ?it/s]"
      ]
     },
     "metadata": {},
     "output_type": "display_data"
    },
    {
     "name": "stdout",
     "output_type": "stream",
     "text": [
      "Timepoint ID 126 saved out\n"
     ]
    },
    {
     "data": {
      "application/vnd.jupyter.widget-view+json": {
       "model_id": "6adadd04d24842618955134c201156c7",
       "version_major": 2,
       "version_minor": 0
      },
      "text/plain": [
       "Processing Channels (T=127):   0%|          | 0/3 [00:00<?, ?it/s]"
      ]
     },
     "metadata": {},
     "output_type": "display_data"
    },
    {
     "name": "stdout",
     "output_type": "stream",
     "text": [
      "Timepoint ID 127 saved out\n"
     ]
    },
    {
     "data": {
      "application/vnd.jupyter.widget-view+json": {
       "model_id": "ccd4cc98e9214402aaf7cca92675f747",
       "version_major": 2,
       "version_minor": 0
      },
      "text/plain": [
       "Processing Channels (T=128):   0%|          | 0/3 [00:00<?, ?it/s]"
      ]
     },
     "metadata": {},
     "output_type": "display_data"
    },
    {
     "name": "stdout",
     "output_type": "stream",
     "text": [
      "Timepoint ID 128 saved out\n"
     ]
    },
    {
     "data": {
      "application/vnd.jupyter.widget-view+json": {
       "model_id": "e19a21874101459aa63185262a152b80",
       "version_major": 2,
       "version_minor": 0
      },
      "text/plain": [
       "Processing Channels (T=129):   0%|          | 0/3 [00:00<?, ?it/s]"
      ]
     },
     "metadata": {},
     "output_type": "display_data"
    },
    {
     "name": "stdout",
     "output_type": "stream",
     "text": [
      "Timepoint ID 129 saved out\n"
     ]
    },
    {
     "data": {
      "application/vnd.jupyter.widget-view+json": {
       "model_id": "f11034369c774946a54cdaa05190116d",
       "version_major": 2,
       "version_minor": 0
      },
      "text/plain": [
       "Processing Channels (T=130):   0%|          | 0/3 [00:00<?, ?it/s]"
      ]
     },
     "metadata": {},
     "output_type": "display_data"
    },
    {
     "name": "stdout",
     "output_type": "stream",
     "text": [
      "Timepoint ID 130 saved out\n"
     ]
    },
    {
     "data": {
      "application/vnd.jupyter.widget-view+json": {
       "model_id": "44c791557ef54a6e97c5911e033c391e",
       "version_major": 2,
       "version_minor": 0
      },
      "text/plain": [
       "Processing Channels (T=131):   0%|          | 0/3 [00:00<?, ?it/s]"
      ]
     },
     "metadata": {},
     "output_type": "display_data"
    },
    {
     "name": "stdout",
     "output_type": "stream",
     "text": [
      "Timepoint ID 131 saved out\n"
     ]
    },
    {
     "data": {
      "application/vnd.jupyter.widget-view+json": {
       "model_id": "5b1b1d96877c4d19a85dd4faf3914066",
       "version_major": 2,
       "version_minor": 0
      },
      "text/plain": [
       "Processing Channels (T=132):   0%|          | 0/3 [00:00<?, ?it/s]"
      ]
     },
     "metadata": {},
     "output_type": "display_data"
    },
    {
     "name": "stdout",
     "output_type": "stream",
     "text": [
      "Timepoint ID 132 saved out\n"
     ]
    },
    {
     "data": {
      "application/vnd.jupyter.widget-view+json": {
       "model_id": "695941384b494cf7a0c5b42c5ee9ed67",
       "version_major": 2,
       "version_minor": 0
      },
      "text/plain": [
       "Processing Channels (T=133):   0%|          | 0/3 [00:00<?, ?it/s]"
      ]
     },
     "metadata": {},
     "output_type": "display_data"
    },
    {
     "name": "stdout",
     "output_type": "stream",
     "text": [
      "Timepoint ID 133 saved out\n"
     ]
    },
    {
     "data": {
      "application/vnd.jupyter.widget-view+json": {
       "model_id": "1e1b508af5b943229c6cafe7302e3e10",
       "version_major": 2,
       "version_minor": 0
      },
      "text/plain": [
       "Processing Channels (T=134):   0%|          | 0/3 [00:00<?, ?it/s]"
      ]
     },
     "metadata": {},
     "output_type": "display_data"
    },
    {
     "name": "stdout",
     "output_type": "stream",
     "text": [
      "Timepoint ID 134 saved out\n"
     ]
    },
    {
     "data": {
      "application/vnd.jupyter.widget-view+json": {
       "model_id": "ad233e9755974c4b89d07186baf8e16b",
       "version_major": 2,
       "version_minor": 0
      },
      "text/plain": [
       "Processing Channels (T=135):   0%|          | 0/3 [00:00<?, ?it/s]"
      ]
     },
     "metadata": {},
     "output_type": "display_data"
    },
    {
     "name": "stdout",
     "output_type": "stream",
     "text": [
      "Timepoint ID 135 saved out\n"
     ]
    },
    {
     "data": {
      "application/vnd.jupyter.widget-view+json": {
       "model_id": "7e8c9031a8ba40c4a8005edd7a82fcf6",
       "version_major": 2,
       "version_minor": 0
      },
      "text/plain": [
       "Processing Channels (T=136):   0%|          | 0/3 [00:00<?, ?it/s]"
      ]
     },
     "metadata": {},
     "output_type": "display_data"
    },
    {
     "name": "stdout",
     "output_type": "stream",
     "text": [
      "Timepoint ID 136 saved out\n"
     ]
    },
    {
     "data": {
      "application/vnd.jupyter.widget-view+json": {
       "model_id": "d91a64aea5814ecdbbf0f9765f648996",
       "version_major": 2,
       "version_minor": 0
      },
      "text/plain": [
       "Processing Channels (T=137):   0%|          | 0/3 [00:00<?, ?it/s]"
      ]
     },
     "metadata": {},
     "output_type": "display_data"
    },
    {
     "name": "stdout",
     "output_type": "stream",
     "text": [
      "Timepoint ID 137 saved out\n"
     ]
    },
    {
     "data": {
      "application/vnd.jupyter.widget-view+json": {
       "model_id": "c7744bbf67c148b6b370943ce05e0f3d",
       "version_major": 2,
       "version_minor": 0
      },
      "text/plain": [
       "Processing Channels (T=138):   0%|          | 0/3 [00:00<?, ?it/s]"
      ]
     },
     "metadata": {},
     "output_type": "display_data"
    },
    {
     "name": "stdout",
     "output_type": "stream",
     "text": [
      "Timepoint ID 138 saved out\n"
     ]
    },
    {
     "data": {
      "application/vnd.jupyter.widget-view+json": {
       "model_id": "c6d4e9c89f3f410aa8072eeda605d01a",
       "version_major": 2,
       "version_minor": 0
      },
      "text/plain": [
       "Processing Channels (T=139):   0%|          | 0/3 [00:00<?, ?it/s]"
      ]
     },
     "metadata": {},
     "output_type": "display_data"
    },
    {
     "name": "stdout",
     "output_type": "stream",
     "text": [
      "Timepoint ID 139 saved out\n"
     ]
    },
    {
     "data": {
      "application/vnd.jupyter.widget-view+json": {
       "model_id": "f37bef84f8ee41edb009bbcdf504109e",
       "version_major": 2,
       "version_minor": 0
      },
      "text/plain": [
       "Processing Channels (T=140):   0%|          | 0/3 [00:00<?, ?it/s]"
      ]
     },
     "metadata": {},
     "output_type": "display_data"
    },
    {
     "name": "stdout",
     "output_type": "stream",
     "text": [
      "Timepoint ID 140 saved out\n"
     ]
    },
    {
     "data": {
      "application/vnd.jupyter.widget-view+json": {
       "model_id": "c56114c671984a5c87cfbcde735c163b",
       "version_major": 2,
       "version_minor": 0
      },
      "text/plain": [
       "Processing Channels (T=141):   0%|          | 0/3 [00:00<?, ?it/s]"
      ]
     },
     "metadata": {},
     "output_type": "display_data"
    },
    {
     "name": "stdout",
     "output_type": "stream",
     "text": [
      "Timepoint ID 141 saved out\n"
     ]
    },
    {
     "data": {
      "application/vnd.jupyter.widget-view+json": {
       "model_id": "f98912873e9a4b28ada1349d0c3ce53c",
       "version_major": 2,
       "version_minor": 0
      },
      "text/plain": [
       "Processing Channels (T=142):   0%|          | 0/3 [00:00<?, ?it/s]"
      ]
     },
     "metadata": {},
     "output_type": "display_data"
    },
    {
     "name": "stdout",
     "output_type": "stream",
     "text": [
      "Timepoint ID 142 saved out\n"
     ]
    },
    {
     "data": {
      "application/vnd.jupyter.widget-view+json": {
       "model_id": "2587de4dabb04110b9db49d9908de86b",
       "version_major": 2,
       "version_minor": 0
      },
      "text/plain": [
       "Processing Channels (T=143):   0%|          | 0/3 [00:00<?, ?it/s]"
      ]
     },
     "metadata": {},
     "output_type": "display_data"
    },
    {
     "name": "stdout",
     "output_type": "stream",
     "text": [
      "Timepoint ID 143 saved out\n"
     ]
    }
   ],
   "source": [
    "\n",
    "\n",
    "for row_col in tqdm(reversed(rows_cols), desc=f'Now tiling in {base_dir_ID}', total = len(rows_cols)):\n",
    "    row, column = int(row_col[0]), int(row_col[1])\n",
    "    col = column\n",
    "    acq_ID = row, column\n",
    "\n",
    "    # Filter metadata for the current row and column (include all time points)\n",
    "    position_metadata = metadata[(metadata['Row'] == row) & (metadata['Col'] == column)]\n",
    "    # Get unique time points\n",
    "    timepoint_ids = sorted(position_metadata['TimepointID'].unique())\n",
    "    # Initialize a list to store time-lapse volumes\n",
    "    time_volumes = []\n",
    "    \n",
    "    # Define Zarr output path\n",
    "    zarr_output_dir = Path(base_dir) / f\"acquisition/zarr/{acq_ID}.zarr\"\n",
    "\n",
    "    if os.path.exists(zarr_output_dir):\n",
    "        print(zarr_output_dir, 'already exists, skipping')\n",
    "        continue\n",
    "\n",
    "    # Create root Zarr group\n",
    "    root = zarr.open_group(zarr_output_dir, mode='w')\n",
    "\n",
    "    T = len(position_metadata['TimepointID'].unique())\n",
    "    C = len(position_metadata['ChannelID'].unique())\n",
    "    Z = len(position_metadata['PlaneID'].unique())\n",
    "    Y = int((position_metadata['PositionY'].max() - position_metadata['PositionY'].min()) / position_metadata['ImageResolutionY'].iloc[0]) + position_metadata['ImageSizeY'].iloc[0]\n",
    "    X = int((position_metadata['PositionX'].max() - position_metadata['PositionX'].min()) / position_metadata['ImageResolutionX'].iloc[0]) + position_metadata['ImageSizeX'].iloc[0]\n",
    "    \n",
    "    zarr_array = root.create_dataset(\n",
    "        name=\"images\",\n",
    "        shape=(T, C, Z, Y, X),\n",
    "        chunks=(1, C, Z, Y, X),  # Chunk along T for sequential write\n",
    "        dtype='uint16',\n",
    "        compressor=numcodecs.Blosc(cname='zstd', clevel=5, shuffle=numcodecs.Blosc.BITSHUFFLE)\n",
    "    )    \n",
    "\n",
    "\n",
    "    sample_tile_id =  position_metadata.iloc[0]\n",
    "    # Iterate over each time point\n",
    "    for timepoint_id in tqdm(timepoint_ids, desc=\"Processing Time Points\", leave=True, position=1):\n",
    "        # Filter metadata for the current time point\n",
    "        time_metadata = position_metadata[position_metadata['TimepointID'] == timepoint_id]\n",
    "        # Get unique Channel\n",
    "        channel_ids = sorted(time_metadata['ChannelID'].unique())\n",
    "        # Initialize a list to hold each channel's Z-stack for this time point\n",
    "        channel_volumes = []\n",
    "        # Iterate over each channel\n",
    "        for channel_id in tqdm(channel_ids, desc=f\"Processing Channels (T={timepoint_id})\", leave=False, position=2):\n",
    "            # get specific channel metadata\n",
    "            channel_slice_metadata = time_metadata[time_metadata['ChannelID'] == channel_id]\n",
    "            # get z positions for this channel\n",
    "            z_ids = sorted(channel_slice_metadata['PositionZ'].unique())\n",
    "            # init a list to hold z slices\n",
    "            z_slices = []\n",
    "            # Iterate over Z positions\n",
    "            for z_id in z_ids:#tqdm(z_positions, desc=\"Processing Z-slices\", leave=False, position=3):\n",
    "                # get specific z slice metadata\n",
    "                z_slice_metadata = channel_slice_metadata[channel_slice_metadata['PositionZ'] == z_id]\n",
    "                # Initialize mosaic_slice if needed, ie for the first image to be placed in the blank slate\n",
    "                mosaic_size_x = int((z_slice_metadata['PositionX'].max() - z_slice_metadata['PositionX'].min()) / sample_tile_id['ImageResolutionX']) + sample_tile_id['ImageSizeX']\n",
    "                mosaic_size_y = int((z_slice_metadata['PositionY'].max() - z_slice_metadata['PositionY'].min()) / sample_tile_id['ImageResolutionY']) + sample_tile_id['ImageSizeY']\n",
    "                # For each position, create a large mosaic (accumulator & weight)\n",
    "                # Suppose mosaic_size_y, mosaic_size_x is the total bounding box in Y and X.\n",
    "                accumulator = np.zeros((mosaic_size_y, mosaic_size_x), dtype=np.float32)\n",
    "                weight_map  = np.zeros((mosaic_size_y, mosaic_size_x), dtype=np.float32)\n",
    "                \n",
    "                for tile_index, tile_id in z_slice_metadata.iterrows():\n",
    "                    # load the tile\n",
    "                    img_path = os.path.join(image_dir, tile_id['URL'])\n",
    "                    try:\n",
    "                        tile = imread(img_path).astype(np.float32)\n",
    "                    except FileNotFoundError:\n",
    "                        tile = np.zeros((tile_id['ImageSizeY'], tile_id['ImageSizeX']), dtype=np.float32)\n",
    "                \n",
    "                    # create alpha mask for this tile's shape\n",
    "                    alpha_mask = create_alpha_mask(tile.shape[0], tile.shape[1], feather=0.1)\n",
    "                \n",
    "                    # figure out where to place this tile in the mosaic\n",
    "                    x_pixel = int((tile_id['PositionX'] - z_slice_metadata['PositionX'].min()) / tile_id['ImageResolutionX'])\n",
    "                    y_pixel = int((tile_id['PositionY'] - z_slice_metadata['PositionY'].min()) / tile_id['ImageResolutionY'])\n",
    "                \n",
    "                    # add into the accumulator & weight\n",
    "                    # We slice out the region in the mosaic that corresponds to this tile\n",
    "                    acc_slice = accumulator[y_pixel:y_pixel+tile.shape[0], x_pixel:x_pixel+tile.shape[1]]\n",
    "                    wgt_slice = weight_map[y_pixel:y_pixel+tile.shape[0], x_pixel:x_pixel+tile.shape[1]]\n",
    "                \n",
    "                    acc_slice += tile * alpha_mask\n",
    "                    wgt_slice += alpha_mask\n",
    "                \n",
    "                # AFTER all tiles are placed:\n",
    "                final_mosaic = np.zeros_like(accumulator, dtype=np.float32)\n",
    "                \n",
    "                # Avoid division by zero\n",
    "                nonzero_mask = (weight_map > 0)\n",
    "                final_mosaic[nonzero_mask] = accumulator[nonzero_mask] / weight_map[nonzero_mask]\n",
    "                \n",
    "                # Then, convert final mosaic to e.g. uint16 if desired\n",
    "                mosaic = np.clip(final_mosaic, 0, 65535).astype(np.uint16)\n",
    "                \n",
    "                # now append that mosaic z slice to z slices stack, different if DPC\n",
    "                if \"Phase Contrast\" in channel_slice_metadata['ChannelName'].iloc[0]:  \n",
    "                    # print(f\"Distributing DPC image across Z slices\")\n",
    "                    dpc_slice = mosaic / len(metadata['PositionZ'].unique())  \n",
    "                    z_slices = [mosaic] * len(metadata['PositionZ'].unique())  \n",
    "                    break  \n",
    "                else:\n",
    "                    z_slices.append(mosaic)\n",
    "                \n",
    "            #stack z slices into a channel volume\n",
    "            if len(z_slices) > 0:\n",
    "                # channel_volume = np.max(z_slices, axis=0)\n",
    "                channel_volume = np.stack(z_slices, axis=0)\n",
    "                channel_volumes.append(channel_volume)\n",
    "        # stack the channel volume into a time volume\n",
    "        if len(channel_volumes) > 0:\n",
    "            image_volume_czyx = np.stack(channel_volumes, axis=0)  # C, Z, Y, X\n",
    "            # time_volumes.append(image_volume_czyx)  # Store for this time point\n",
    "            zarr_array[timepoint_id] = image_volume_czyx  # write to zarr on the fly\n",
    "            print(f'Timepoint ID {timepoint_id} saved out')\n",
    "    # # Stack all time points into a 5D array (T, C, Z, Y, X)\n",
    "    # if len(time_volumes) > 0:\n",
    "    #     images = np.stack(time_volumes, axis=0)  # T, C, Z, Y, X\n",
    "    #     print(f\"Final image volume shape: {images.shape}\")\n",
    "    # !notify-send \"Jupyter Notebook\" \"Your process has completed successfully!\"\n",
    "    \n",
    "    # try:\n",
    "    #     dask_images = dask.array.from_array(images)\n",
    "    #     zarr_group = zarr.open(zarr_output_dir, mode='w')\n",
    "    #     dask.array.to_zarr(dask_images, zarr_output_dir, component='images')\n",
    "    #     print(f\"Saved Zarr array successfully to {zarr_output_dir}\")\n",
    "    # except:\n",
    "    #     print(base_dir_ID, acq_ID, 'zarr output failed')\n"
   ]
  }
 ],
 "metadata": {
  "kernelspec": {
   "display_name": "godspeed",
   "language": "python",
   "name": "godspeed"
  },
  "language_info": {
   "codemirror_mode": {
    "name": "ipython",
    "version": 3
   },
   "file_extension": ".py",
   "mimetype": "text/x-python",
   "name": "python",
   "nbconvert_exporter": "python",
   "pygments_lexer": "ipython3",
   "version": "3.10.13"
  }
 },
 "nbformat": 4,
 "nbformat_minor": 5
}
