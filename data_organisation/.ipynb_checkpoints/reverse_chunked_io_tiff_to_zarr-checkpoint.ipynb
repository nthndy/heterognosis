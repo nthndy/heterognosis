{
 "cells": [
  {
   "cell_type": "markdown",
   "id": "0f386625-438a-4e1a-b696-d39ce1c852a7",
   "metadata": {},
   "source": [
    "# Zarr Tiling \n",
    "\n",
    "Notebook for taking Opera Phenix tiff output and tiling the images together into zarr mosaics with metadata attribute, specifically for the heterognosis project"
   ]
  },
  {
   "cell_type": "code",
   "execution_count": 1,
   "id": "adae0225-5c8b-42da-b76a-2af579102fbc",
   "metadata": {},
   "outputs": [],
   "source": [
    "import os\n",
    "import glob\n",
    "import pandas as pd\n",
    "import numpy as np\n",
    "import zarr\n",
    "import dask.array\n",
    "from scipy import stats\n",
    "import xml.etree.ElementTree as ET\n",
    "from tqdm.auto import tqdm \n",
    "from skimage.io import imread\n",
    "from macrohet import dataio \n",
    "\n",
    "\n",
    "def create_alpha_mask(height, width, feather=0.1):\n",
    "    \"\"\"\n",
    "    Create a 2D alpha mask of shape (height, width).\n",
    "    The mask is 1 in the interior, and over the last `feather` pixels\n",
    "    near each edge, it linearly ramps down to 0.\n",
    "    feather is a fraction of image i.e. a float percentage.\n",
    "    This is the core function that enables smooth image tiling \n",
    "    without dramatic cropping of cell morphology.\n",
    "    \"\"\"\n",
    "    # Coordinates\n",
    "    y = np.arange(height)\n",
    "    x = np.arange(width)\n",
    "\n",
    "    feather_pixels = feather * min(height, width)\n",
    "    \n",
    "    # Distance from left and right edges\n",
    "    dist_x_left  = x\n",
    "    dist_x_right = (width - 1) - x\n",
    "    # Distance from top and bottom edges\n",
    "    dist_y_top    = y\n",
    "    dist_y_bottom = (height - 1) - y\n",
    "    \n",
    "    # For each row, figure out the \"vertical\" ramp factor from top/bottom\n",
    "    # We'll make an array that is the min distance to top or bottom.\n",
    "    ramp_y = np.minimum(dist_y_top, dist_y_bottom)\n",
    "    # For each column, min distance to left or right\n",
    "    ramp_x = np.minimum(dist_x_left, dist_x_right)\n",
    "    \n",
    "    # Combine to get a 2D \"distance from any edge\"\n",
    "    # We can broadcast ramp_y over columns, ramp_x over rows\n",
    "    dist_from_edge = np.minimum(\n",
    "        ramp_y[:, None],\n",
    "        ramp_x[None, :]\n",
    "    )\n",
    "    \n",
    "    # Turn that distance into an alpha that goes from 0 to 1 linearly\n",
    "    # from the very edge to `feather` pixels in.\n",
    "    # If dist_from_edge >= feather, alpha=1. If dist < 0, alpha=0, etc.\n",
    "    alpha = np.clip(dist_from_edge / feather_pixels, 0, 1)\n",
    "    \n",
    "    return alpha\n",
    "\n",
    "\n",
    "def load_assay_layout(xml_file_name):\n",
    "    \"\"\"\n",
    "    Loads and parses an assay layout XML file into a pandas DataFrame with a 'position' index.\n",
    "\n",
    "    Args:\n",
    "        xml_file_name (str): The full path to the assay layout XML file.\n",
    "\n",
    "    Returns:\n",
    "        pandas.DataFrame: A DataFrame containing the assay layout information,\n",
    "                          with a 'position' column as index and each layer as a column.\n",
    "                          Returns an empty DataFrame if the file is not found or parsing fails.\n",
    "    \"\"\"\n",
    "    df_assay_layout = pd.DataFrame()\n",
    "\n",
    "    if not os.path.exists(xml_file_name):\n",
    "        print(f\"Error: The file '{xml_file_name}' was not found.\")\n",
    "    else:\n",
    "        try:\n",
    "            tree = ET.parse(xml_file_name)\n",
    "            root = tree.getroot()\n",
    "            namespaces = {'ns': 'http://www.perkinelmer.com/PEHH/HarmonyV5'}\n",
    "            plate_data = {}\n",
    "\n",
    "            for layer in root.findall('ns:Layer', namespaces):\n",
    "                layer_name_element = layer.find('ns:Name', namespaces)\n",
    "                if layer_name_element is None or layer_name_element.text is None:\n",
    "                    print(\"Warning: Found a layer without a name. Skipping this layer.\")\n",
    "                    continue\n",
    "                layer_name = layer_name_element.text.strip()\n",
    "\n",
    "                for well in layer.findall('ns:Well', namespaces):\n",
    "                    row_element = well.find('ns:Row', namespaces)\n",
    "                    col_element = well.find('ns:Col', namespaces)\n",
    "                    value_element = well.find('ns:Value', namespaces)\n",
    "\n",
    "                    if row_element is None or row_element.text is None or \\\n",
    "                       col_element is None or col_element.text is None:\n",
    "                        print(f\"Warning: Found a well in layer '{layer_name}' without row or col. Skipping this well.\")\n",
    "                        continue\n",
    "\n",
    "                    try:\n",
    "                        row = int(row_element.text.strip())\n",
    "                        col = int(col_element.text.strip())\n",
    "                    except ValueError:\n",
    "                        print(f\"Warning: Could not parse row/col as integers for a well in layer '{layer_name}'. Skipping this well.\")\n",
    "                        continue\n",
    "\n",
    "                    value = value_element.text.strip() if value_element is not None and value_element.text is not None else pd.NA\n",
    "                    well_key = (row, col)\n",
    "                    if well_key not in plate_data:\n",
    "                        plate_data[well_key] = {}\n",
    "                    plate_data[well_key][layer_name] = value\n",
    "\n",
    "            if plate_data:\n",
    "                df_assay_layout = pd.DataFrame.from_dict(plate_data, orient='index')\n",
    "                df_assay_layout.index.names = ['Row', 'Col']\n",
    "                df_assay_layout = df_assay_layout.sort_index()\n",
    "                df_assay_layout = df_assay_layout.dropna(how='all')\n",
    "\n",
    "                # Create a new 'position' column\n",
    "                df_assay_layout['position'] = df_assay_layout.index.map(lambda rc: f\"({rc[0]}, {rc[1]})\")\n",
    "                # Set 'position' as the new index\n",
    "                df_assay_layout = df_assay_layout.set_index('position')\n",
    "                df_assay_layout = df_assay_layout.drop(columns=['Row', 'Col']) # Drop the old index columns\n",
    "\n",
    "            else:\n",
    "                print(\"No data was extracted from the XML file to populate the DataFrame.\")\n",
    "\n",
    "        except ET.ParseError as e:\n",
    "            print(f\"Error parsing XML file '{xml_file_name}': {e}\")\n",
    "        except FileNotFoundError:\n",
    "            print(f\"Error: The file '{xml_file_name}' was not found.\")\n",
    "        except Exception as e:\n",
    "            print(f\"An unexpected error occurred during XML processing: {e}\")\n",
    "\n",
    "    return df_assay_layout\n"
   ]
  },
  {
   "cell_type": "markdown",
   "id": "3238f01f-4ae2-48df-ac49-fa69a691b9c7",
   "metadata": {},
   "source": [
    "### Add acquisition subdirectories\n",
    "\n",
    "This is where all the imagery will be kept"
   ]
  },
  {
   "cell_type": "code",
   "execution_count": null,
   "id": "aa93e011-c91e-4854-9031-2de325ce2820",
   "metadata": {},
   "outputs": [],
   "source": [
    "base_dir = '/mnt/DATA3/BPP0050/'\n",
    "parent_directories = glob.glob(os.path.join(base_dir, '*/'))\n",
    "\n",
    "# Define the name of the new subdirectory for acquisitions\n",
    "ACQUISITIONS_DIR_NAME = \"acquisition\"\n",
    "\n",
    "print(f\"Starting to organize subdirectories into '{ACQUISITIONS_DIR_NAME}'...\")\n",
    "\n",
    "for parent_dir in parent_directories:\n",
    "    # Ensure the parent directory path is clean and exists\n",
    "    parent_dir = os.path.normpath(parent_dir)\n",
    "    if not os.path.isdir(parent_dir):\n",
    "        print(f\"Warning: Parent directory not found, skipping: {parent_dir}\")\n",
    "        continue\n",
    "\n",
    "    # Construct the path for the new 'acquisitions' subdirectory\n",
    "    acquisitions_path = os.path.join(parent_dir, ACQUISITIONS_DIR_NAME)\n",
    "\n",
    "    # Create the 'acquisitions' subdirectory if it doesn't exist\n",
    "    try:\n",
    "        os.makedirs(acquisitions_path, exist_ok=True)\n",
    "        print(f\"Ensured '{acquisitions_path}' exists.\")\n",
    "    except OSError as e:\n",
    "        print(f\"Error creating '{acquisitions_path}': {e}\")\n",
    "        continue # Skip to the next parent directory if creation fails\n",
    "\n",
    "    # List all entries in the parent directory\n",
    "    # Filter for actual directories, excluding the 'acquisitions' directory itself\n",
    "    items_in_parent_dir = [\n",
    "        d for d in os.listdir(parent_dir)\n",
    "        if os.path.isdir(os.path.join(parent_dir, d)) and d != ACQUISITIONS_DIR_NAME\n",
    "    ]\n",
    "\n",
    "    if not items_in_parent_dir:\n",
    "        print(f\"No subdirectories found to move in: {parent_dir}\")\n",
    "        continue\n",
    "\n",
    "    print(f\"Processing parent directory: {parent_dir}\")\n",
    "    for subdir_name in items_in_parent_dir:\n",
    "        source_path = os.path.join(parent_dir, subdir_name)\n",
    "        destination_path = os.path.join(acquisitions_path, subdir_name)\n",
    "\n",
    "        try:\n",
    "            # Move the subdirectory\n",
    "            shutil.move(source_path, destination_path)\n",
    "            print(f\"  Moved '{source_path}' to '{destination_path}'\")\n",
    "        except shutil.Error as e:\n",
    "            print(f\"  Error moving '{source_path}': {e}\")\n",
    "        except Exception as e:\n",
    "            print(f\"  An unexpected error occurred while moving '{source_path}': {e}\")\n",
    "\n",
    "print(\"Script finished.\")"
   ]
  },
  {
   "cell_type": "markdown",
   "id": "b18bcaa1-7b7b-4632-b4f7-09726eed5786",
   "metadata": {},
   "source": [
    "# Tile, add metadata and save out "
   ]
  },
  {
   "cell_type": "code",
   "execution_count": 2,
   "id": "56ae1b72-5a0c-4638-990c-1d6cff78eb64",
   "metadata": {},
   "outputs": [
    {
     "data": {
      "text/plain": [
       "['/mnt/DATA3/BPP0050/BPP0050-1-Live-cell-to4i_Fixed_Cy5__2025-04-18T16_38_51-Measurement 1/',\n",
       " '/mnt/DATA3/BPP0050/BPP0050-1-Live-cell-to4i_Fixed_Cy8__2025-04-21T16_49_44-Measurement 1/',\n",
       " '/mnt/DATA3/BPP0050/BPP0050-1-Live-cell-to4i_Fixed_Cy10__2025-04-23T15_45_30-Measurement 1/',\n",
       " '/mnt/DATA3/BPP0050/BPP0050-1-Live-cell-to4i_Fixed_Cy2__2025-04-15T16_42_33-Measurement 3/',\n",
       " '/mnt/DATA3/BPP0050/BPP0050-1-Live-cell-to4i_Fixed_Cy4__2025-04-17T16_24_52-Measurement 1/',\n",
       " '/mnt/DATA3/BPP0050/multiplexed/',\n",
       " '/mnt/DATA3/BPP0050/BPP0050-1-Live-cell-to4i_Live-1__2025-04-09T18_25_04-Measurement 1/',\n",
       " '/mnt/DATA3/BPP0050/BPP0050-1-Live-cell-to4i_Live-2__2025-04-10T18_45_48-Measurement 1/',\n",
       " '/mnt/DATA3/BPP0050/BPP0050-1-Live-cell-to4i_Fixed_Cy7__2025-04-20T16_03_17-Measurement 1/',\n",
       " '/mnt/DATA3/BPP0050/BPP0050-1-Live-cell-to4i_Fixed_Cy17__2025-04-30T18_09_02-Measurement 1/',\n",
       " '/mnt/DATA3/BPP0050/BPP0050-1-Live-cell-to4i_Fixed_Cy13__2025-04-26T16_33_47-Measurement 1/',\n",
       " '/mnt/DATA3/BPP0050/BPP0050-1-Live-cell-to4i_Fixed_Cy6__2025-04-19T16_14_26-Measurement 1/',\n",
       " '/mnt/DATA3/BPP0050/BPP0050-1-Live-cell-to4i_Fixed_Cy9__2025-04-22T18_25_01-Measurement 1/',\n",
       " '/mnt/DATA3/BPP0050/BPP0050-1-Live-cell-to4i_Fixed_Cy1-2__2025-04-14T18_24_32-Measurement 1/',\n",
       " '/mnt/DATA3/BPP0050/BPP0050-1-Live-cell-to4i_Fixed_Cy15__2025-04-28T16_14_55-Measurement 1/',\n",
       " '/mnt/DATA3/BPP0050/BPP0050-1-Live-cell-to4i_Fixed_Cy16__2025-04-29T15_39_50-Measurement 1/',\n",
       " '/mnt/DATA3/BPP0050/BPP0050-1-Live-cell-to4i_Fixed_Cy1__2025-04-14T16_57_11-Measurement 1/',\n",
       " '/mnt/DATA3/BPP0050/BPP0050-1-Live-cell-to4i_Fixed_Cy12__2025-04-25T15_48_30-Measurement 1/',\n",
       " '/mnt/DATA3/BPP0050/BPP0050-1-Live-cell-to4i_Fixed_Cy3__2025-04-16T16_15_21-Measurement 1/',\n",
       " '/mnt/DATA3/BPP0050/BPP0050-1-Live-cell-to4i_Fixed_Cy11__2025-04-24T16_08_42-Measurement 1/',\n",
       " '/mnt/DATA3/BPP0050/BPP0050-1-Live-cell-to4i_Fixed_Cy14__2025-04-27T15_20_15-Measurement 1/']"
      ]
     },
     "execution_count": 2,
     "metadata": {},
     "output_type": "execute_result"
    }
   ],
   "source": [
    "base_dir = '/mnt/DATA3/BPP0050/'\n",
    "base_dirs = glob.glob(os.path.join(base_dir, '*/'))\n",
    "base_dirs"
   ]
  },
  {
   "cell_type": "code",
   "execution_count": null,
   "id": "b99c47cd-497e-4732-9588-6dcc68d0ee16",
   "metadata": {
    "scrolled": true
   },
   "outputs": [
    {
     "data": {
      "application/vnd.jupyter.widget-view+json": {
       "model_id": "b3811d5e9da24fcd9cd9d4f2e6e20244",
       "version_major": 2,
       "version_minor": 0
      },
      "text/plain": [
       "  0%|          | 0/21 [00:00<?, ?it/s]"
      ]
     },
     "metadata": {},
     "output_type": "display_data"
    },
    {
     "name": "stdout",
     "output_type": "stream",
     "text": [
      "skipping completed BPP0050-1-Live-cell-to4i_Fixed_Cy5__2025-04-18T16_38_51-Measurement 1\n",
      "skipping completed BPP0050-1-Live-cell-to4i_Fixed_Cy8__2025-04-21T16_49_44-Measurement 1\n",
      "skipping completed BPP0050-1-Live-cell-to4i_Fixed_Cy10__2025-04-23T15_45_30-Measurement 1\n",
      "skipping completed BPP0050-1-Live-cell-to4i_Fixed_Cy2__2025-04-15T16_42_33-Measurement 3\n",
      "skipping completed BPP0050-1-Live-cell-to4i_Fixed_Cy4__2025-04-17T16_24_52-Measurement 1\n",
      "skipping completed multiplexed\n",
      "skipping completed BPP0050-1-Live-cell-to4i_Live-1__2025-04-09T18_25_04-Measurement 1\n",
      "Reading metadata XML file...\n"
     ]
    },
    {
     "data": {
      "application/vnd.jupyter.widget-view+json": {
       "model_id": "683a6d9c56da4582a33ad2c391368ce7",
       "version_major": 2,
       "version_minor": 0
      },
      "text/plain": [
       "0it [00:00, ?it/s]"
      ]
     },
     "metadata": {},
     "output_type": "display_data"
    },
    {
     "name": "stdout",
     "output_type": "stream",
     "text": [
      "Extracting metadata complete!\n"
     ]
    },
    {
     "name": "stderr",
     "output_type": "stream",
     "text": [
      "/tmp/ipykernel_95196/2933064589.py:12: FutureWarning: errors='ignore' is deprecated and will raise in a future version. Use to_numeric without passing `errors` and catch exceptions explicitly instead\n",
      "  metadata = metadata.apply(pd.to_numeric, errors='ignore')\n"
     ]
    },
    {
     "name": "stdout",
     "output_type": "stream",
     "text": [
      "An unexpected error occurred during XML processing: \"['Row', 'Col'] not found in axis\"\n"
     ]
    },
    {
     "data": {
      "application/vnd.jupyter.widget-view+json": {
       "model_id": "bba19ac962cf4f8a9c659dea4ae1ad34",
       "version_major": 2,
       "version_minor": 0
      },
      "text/plain": [
       "Now tiling in BPP0050-1-Live-cell-to4i_Live-2__2025-04-10T18_45_48-Measurement 1:   0%|          | 0/13 [00:00…"
      ]
     },
     "metadata": {},
     "output_type": "display_data"
    },
    {
     "data": {
      "application/vnd.jupyter.widget-view+json": {
       "model_id": "709cff0b022e4038a8b6259dc363a388",
       "version_major": 2,
       "version_minor": 0
      },
      "text/plain": [
       "Processing Time Points:   0%|          | 0/144 [00:00<?, ?it/s]"
      ]
     },
     "metadata": {},
     "output_type": "display_data"
    },
    {
     "data": {
      "application/vnd.jupyter.widget-view+json": {
       "model_id": "",
       "version_major": 2,
       "version_minor": 0
      },
      "text/plain": [
       "Processing Channels (T=0):   0%|          | 0/3 [00:00<?, ?it/s]"
      ]
     },
     "metadata": {},
     "output_type": "display_data"
    },
    {
     "data": {
      "application/vnd.jupyter.widget-view+json": {
       "model_id": "",
       "version_major": 2,
       "version_minor": 0
      },
      "text/plain": [
       "Processing Channels (T=1):   0%|          | 0/3 [00:00<?, ?it/s]"
      ]
     },
     "metadata": {},
     "output_type": "display_data"
    },
    {
     "data": {
      "application/vnd.jupyter.widget-view+json": {
       "model_id": "",
       "version_major": 2,
       "version_minor": 0
      },
      "text/plain": [
       "Processing Channels (T=2):   0%|          | 0/3 [00:00<?, ?it/s]"
      ]
     },
     "metadata": {},
     "output_type": "display_data"
    },
    {
     "data": {
      "application/vnd.jupyter.widget-view+json": {
       "model_id": "",
       "version_major": 2,
       "version_minor": 0
      },
      "text/plain": [
       "Processing Channels (T=3):   0%|          | 0/3 [00:00<?, ?it/s]"
      ]
     },
     "metadata": {},
     "output_type": "display_data"
    },
    {
     "data": {
      "application/vnd.jupyter.widget-view+json": {
       "model_id": "",
       "version_major": 2,
       "version_minor": 0
      },
      "text/plain": [
       "Processing Channels (T=4):   0%|          | 0/3 [00:00<?, ?it/s]"
      ]
     },
     "metadata": {},
     "output_type": "display_data"
    },
    {
     "data": {
      "application/vnd.jupyter.widget-view+json": {
       "model_id": "",
       "version_major": 2,
       "version_minor": 0
      },
      "text/plain": [
       "Processing Channels (T=5):   0%|          | 0/3 [00:00<?, ?it/s]"
      ]
     },
     "metadata": {},
     "output_type": "display_data"
    },
    {
     "data": {
      "application/vnd.jupyter.widget-view+json": {
       "model_id": "",
       "version_major": 2,
       "version_minor": 0
      },
      "text/plain": [
       "Processing Channels (T=6):   0%|          | 0/3 [00:00<?, ?it/s]"
      ]
     },
     "metadata": {},
     "output_type": "display_data"
    },
    {
     "data": {
      "application/vnd.jupyter.widget-view+json": {
       "model_id": "",
       "version_major": 2,
       "version_minor": 0
      },
      "text/plain": [
       "Processing Channels (T=7):   0%|          | 0/3 [00:00<?, ?it/s]"
      ]
     },
     "metadata": {},
     "output_type": "display_data"
    },
    {
     "data": {
      "application/vnd.jupyter.widget-view+json": {
       "model_id": "",
       "version_major": 2,
       "version_minor": 0
      },
      "text/plain": [
       "Processing Channels (T=8):   0%|          | 0/3 [00:00<?, ?it/s]"
      ]
     },
     "metadata": {},
     "output_type": "display_data"
    },
    {
     "data": {
      "application/vnd.jupyter.widget-view+json": {
       "model_id": "",
       "version_major": 2,
       "version_minor": 0
      },
      "text/plain": [
       "Processing Channels (T=9):   0%|          | 0/3 [00:00<?, ?it/s]"
      ]
     },
     "metadata": {},
     "output_type": "display_data"
    },
    {
     "data": {
      "application/vnd.jupyter.widget-view+json": {
       "model_id": "",
       "version_major": 2,
       "version_minor": 0
      },
      "text/plain": [
       "Processing Channels (T=10):   0%|          | 0/3 [00:00<?, ?it/s]"
      ]
     },
     "metadata": {},
     "output_type": "display_data"
    },
    {
     "data": {
      "application/vnd.jupyter.widget-view+json": {
       "model_id": "",
       "version_major": 2,
       "version_minor": 0
      },
      "text/plain": [
       "Processing Channels (T=11):   0%|          | 0/3 [00:00<?, ?it/s]"
      ]
     },
     "metadata": {},
     "output_type": "display_data"
    },
    {
     "data": {
      "application/vnd.jupyter.widget-view+json": {
       "model_id": "",
       "version_major": 2,
       "version_minor": 0
      },
      "text/plain": [
       "Processing Channels (T=12):   0%|          | 0/3 [00:00<?, ?it/s]"
      ]
     },
     "metadata": {},
     "output_type": "display_data"
    },
    {
     "data": {
      "application/vnd.jupyter.widget-view+json": {
       "model_id": "",
       "version_major": 2,
       "version_minor": 0
      },
      "text/plain": [
       "Processing Channels (T=13):   0%|          | 0/3 [00:00<?, ?it/s]"
      ]
     },
     "metadata": {},
     "output_type": "display_data"
    },
    {
     "data": {
      "application/vnd.jupyter.widget-view+json": {
       "model_id": "",
       "version_major": 2,
       "version_minor": 0
      },
      "text/plain": [
       "Processing Channels (T=14):   0%|          | 0/3 [00:00<?, ?it/s]"
      ]
     },
     "metadata": {},
     "output_type": "display_data"
    },
    {
     "data": {
      "application/vnd.jupyter.widget-view+json": {
       "model_id": "",
       "version_major": 2,
       "version_minor": 0
      },
      "text/plain": [
       "Processing Channels (T=15):   0%|          | 0/3 [00:00<?, ?it/s]"
      ]
     },
     "metadata": {},
     "output_type": "display_data"
    },
    {
     "data": {
      "application/vnd.jupyter.widget-view+json": {
       "model_id": "",
       "version_major": 2,
       "version_minor": 0
      },
      "text/plain": [
       "Processing Channels (T=16):   0%|          | 0/3 [00:00<?, ?it/s]"
      ]
     },
     "metadata": {},
     "output_type": "display_data"
    },
    {
     "data": {
      "application/vnd.jupyter.widget-view+json": {
       "model_id": "",
       "version_major": 2,
       "version_minor": 0
      },
      "text/plain": [
       "Processing Channels (T=17):   0%|          | 0/3 [00:00<?, ?it/s]"
      ]
     },
     "metadata": {},
     "output_type": "display_data"
    },
    {
     "data": {
      "application/vnd.jupyter.widget-view+json": {
       "model_id": "",
       "version_major": 2,
       "version_minor": 0
      },
      "text/plain": [
       "Processing Channels (T=18):   0%|          | 0/3 [00:00<?, ?it/s]"
      ]
     },
     "metadata": {},
     "output_type": "display_data"
    },
    {
     "data": {
      "application/vnd.jupyter.widget-view+json": {
       "model_id": "",
       "version_major": 2,
       "version_minor": 0
      },
      "text/plain": [
       "Processing Channels (T=19):   0%|          | 0/3 [00:00<?, ?it/s]"
      ]
     },
     "metadata": {},
     "output_type": "display_data"
    },
    {
     "data": {
      "application/vnd.jupyter.widget-view+json": {
       "model_id": "",
       "version_major": 2,
       "version_minor": 0
      },
      "text/plain": [
       "Processing Channels (T=20):   0%|          | 0/3 [00:00<?, ?it/s]"
      ]
     },
     "metadata": {},
     "output_type": "display_data"
    },
    {
     "data": {
      "application/vnd.jupyter.widget-view+json": {
       "model_id": "",
       "version_major": 2,
       "version_minor": 0
      },
      "text/plain": [
       "Processing Channels (T=21):   0%|          | 0/3 [00:00<?, ?it/s]"
      ]
     },
     "metadata": {},
     "output_type": "display_data"
    },
    {
     "data": {
      "application/vnd.jupyter.widget-view+json": {
       "model_id": "",
       "version_major": 2,
       "version_minor": 0
      },
      "text/plain": [
       "Processing Channels (T=22):   0%|          | 0/3 [00:00<?, ?it/s]"
      ]
     },
     "metadata": {},
     "output_type": "display_data"
    },
    {
     "data": {
      "application/vnd.jupyter.widget-view+json": {
       "model_id": "",
       "version_major": 2,
       "version_minor": 0
      },
      "text/plain": [
       "Processing Channels (T=23):   0%|          | 0/3 [00:00<?, ?it/s]"
      ]
     },
     "metadata": {},
     "output_type": "display_data"
    },
    {
     "data": {
      "application/vnd.jupyter.widget-view+json": {
       "model_id": "",
       "version_major": 2,
       "version_minor": 0
      },
      "text/plain": [
       "Processing Channels (T=24):   0%|          | 0/3 [00:00<?, ?it/s]"
      ]
     },
     "metadata": {},
     "output_type": "display_data"
    },
    {
     "data": {
      "application/vnd.jupyter.widget-view+json": {
       "model_id": "",
       "version_major": 2,
       "version_minor": 0
      },
      "text/plain": [
       "Processing Channels (T=25):   0%|          | 0/3 [00:00<?, ?it/s]"
      ]
     },
     "metadata": {},
     "output_type": "display_data"
    },
    {
     "data": {
      "application/vnd.jupyter.widget-view+json": {
       "model_id": "",
       "version_major": 2,
       "version_minor": 0
      },
      "text/plain": [
       "Processing Channels (T=26):   0%|          | 0/3 [00:00<?, ?it/s]"
      ]
     },
     "metadata": {},
     "output_type": "display_data"
    },
    {
     "data": {
      "application/vnd.jupyter.widget-view+json": {
       "model_id": "",
       "version_major": 2,
       "version_minor": 0
      },
      "text/plain": [
       "Processing Channels (T=27):   0%|          | 0/3 [00:00<?, ?it/s]"
      ]
     },
     "metadata": {},
     "output_type": "display_data"
    },
    {
     "data": {
      "application/vnd.jupyter.widget-view+json": {
       "model_id": "",
       "version_major": 2,
       "version_minor": 0
      },
      "text/plain": [
       "Processing Channels (T=28):   0%|          | 0/3 [00:00<?, ?it/s]"
      ]
     },
     "metadata": {},
     "output_type": "display_data"
    },
    {
     "data": {
      "application/vnd.jupyter.widget-view+json": {
       "model_id": "",
       "version_major": 2,
       "version_minor": 0
      },
      "text/plain": [
       "Processing Channels (T=29):   0%|          | 0/3 [00:00<?, ?it/s]"
      ]
     },
     "metadata": {},
     "output_type": "display_data"
    },
    {
     "data": {
      "application/vnd.jupyter.widget-view+json": {
       "model_id": "",
       "version_major": 2,
       "version_minor": 0
      },
      "text/plain": [
       "Processing Channels (T=30):   0%|          | 0/3 [00:00<?, ?it/s]"
      ]
     },
     "metadata": {},
     "output_type": "display_data"
    },
    {
     "data": {
      "application/vnd.jupyter.widget-view+json": {
       "model_id": "",
       "version_major": 2,
       "version_minor": 0
      },
      "text/plain": [
       "Processing Channels (T=31):   0%|          | 0/3 [00:00<?, ?it/s]"
      ]
     },
     "metadata": {},
     "output_type": "display_data"
    },
    {
     "data": {
      "application/vnd.jupyter.widget-view+json": {
       "model_id": "",
       "version_major": 2,
       "version_minor": 0
      },
      "text/plain": [
       "Processing Channels (T=32):   0%|          | 0/3 [00:00<?, ?it/s]"
      ]
     },
     "metadata": {},
     "output_type": "display_data"
    },
    {
     "data": {
      "application/vnd.jupyter.widget-view+json": {
       "model_id": "",
       "version_major": 2,
       "version_minor": 0
      },
      "text/plain": [
       "Processing Channels (T=33):   0%|          | 0/3 [00:00<?, ?it/s]"
      ]
     },
     "metadata": {},
     "output_type": "display_data"
    },
    {
     "data": {
      "application/vnd.jupyter.widget-view+json": {
       "model_id": "",
       "version_major": 2,
       "version_minor": 0
      },
      "text/plain": [
       "Processing Channels (T=34):   0%|          | 0/3 [00:00<?, ?it/s]"
      ]
     },
     "metadata": {},
     "output_type": "display_data"
    },
    {
     "data": {
      "application/vnd.jupyter.widget-view+json": {
       "model_id": "",
       "version_major": 2,
       "version_minor": 0
      },
      "text/plain": [
       "Processing Channels (T=35):   0%|          | 0/3 [00:00<?, ?it/s]"
      ]
     },
     "metadata": {},
     "output_type": "display_data"
    },
    {
     "data": {
      "application/vnd.jupyter.widget-view+json": {
       "model_id": "",
       "version_major": 2,
       "version_minor": 0
      },
      "text/plain": [
       "Processing Channels (T=36):   0%|          | 0/3 [00:00<?, ?it/s]"
      ]
     },
     "metadata": {},
     "output_type": "display_data"
    },
    {
     "data": {
      "application/vnd.jupyter.widget-view+json": {
       "model_id": "",
       "version_major": 2,
       "version_minor": 0
      },
      "text/plain": [
       "Processing Channels (T=37):   0%|          | 0/3 [00:00<?, ?it/s]"
      ]
     },
     "metadata": {},
     "output_type": "display_data"
    },
    {
     "data": {
      "application/vnd.jupyter.widget-view+json": {
       "model_id": "",
       "version_major": 2,
       "version_minor": 0
      },
      "text/plain": [
       "Processing Channels (T=38):   0%|          | 0/3 [00:00<?, ?it/s]"
      ]
     },
     "metadata": {},
     "output_type": "display_data"
    },
    {
     "data": {
      "application/vnd.jupyter.widget-view+json": {
       "model_id": "",
       "version_major": 2,
       "version_minor": 0
      },
      "text/plain": [
       "Processing Channels (T=39):   0%|          | 0/3 [00:00<?, ?it/s]"
      ]
     },
     "metadata": {},
     "output_type": "display_data"
    },
    {
     "data": {
      "application/vnd.jupyter.widget-view+json": {
       "model_id": "",
       "version_major": 2,
       "version_minor": 0
      },
      "text/plain": [
       "Processing Channels (T=40):   0%|          | 0/3 [00:00<?, ?it/s]"
      ]
     },
     "metadata": {},
     "output_type": "display_data"
    },
    {
     "data": {
      "application/vnd.jupyter.widget-view+json": {
       "model_id": "",
       "version_major": 2,
       "version_minor": 0
      },
      "text/plain": [
       "Processing Channels (T=41):   0%|          | 0/3 [00:00<?, ?it/s]"
      ]
     },
     "metadata": {},
     "output_type": "display_data"
    },
    {
     "data": {
      "application/vnd.jupyter.widget-view+json": {
       "model_id": "",
       "version_major": 2,
       "version_minor": 0
      },
      "text/plain": [
       "Processing Channels (T=42):   0%|          | 0/3 [00:00<?, ?it/s]"
      ]
     },
     "metadata": {},
     "output_type": "display_data"
    },
    {
     "data": {
      "application/vnd.jupyter.widget-view+json": {
       "model_id": "",
       "version_major": 2,
       "version_minor": 0
      },
      "text/plain": [
       "Processing Channels (T=43):   0%|          | 0/3 [00:00<?, ?it/s]"
      ]
     },
     "metadata": {},
     "output_type": "display_data"
    },
    {
     "data": {
      "application/vnd.jupyter.widget-view+json": {
       "model_id": "",
       "version_major": 2,
       "version_minor": 0
      },
      "text/plain": [
       "Processing Channels (T=44):   0%|          | 0/3 [00:00<?, ?it/s]"
      ]
     },
     "metadata": {},
     "output_type": "display_data"
    },
    {
     "data": {
      "application/vnd.jupyter.widget-view+json": {
       "model_id": "",
       "version_major": 2,
       "version_minor": 0
      },
      "text/plain": [
       "Processing Channels (T=45):   0%|          | 0/3 [00:00<?, ?it/s]"
      ]
     },
     "metadata": {},
     "output_type": "display_data"
    },
    {
     "data": {
      "application/vnd.jupyter.widget-view+json": {
       "model_id": "",
       "version_major": 2,
       "version_minor": 0
      },
      "text/plain": [
       "Processing Channels (T=46):   0%|          | 0/3 [00:00<?, ?it/s]"
      ]
     },
     "metadata": {},
     "output_type": "display_data"
    },
    {
     "data": {
      "application/vnd.jupyter.widget-view+json": {
       "model_id": "",
       "version_major": 2,
       "version_minor": 0
      },
      "text/plain": [
       "Processing Channels (T=47):   0%|          | 0/3 [00:00<?, ?it/s]"
      ]
     },
     "metadata": {},
     "output_type": "display_data"
    },
    {
     "data": {
      "application/vnd.jupyter.widget-view+json": {
       "model_id": "",
       "version_major": 2,
       "version_minor": 0
      },
      "text/plain": [
       "Processing Channels (T=48):   0%|          | 0/3 [00:00<?, ?it/s]"
      ]
     },
     "metadata": {},
     "output_type": "display_data"
    },
    {
     "data": {
      "application/vnd.jupyter.widget-view+json": {
       "model_id": "",
       "version_major": 2,
       "version_minor": 0
      },
      "text/plain": [
       "Processing Channels (T=49):   0%|          | 0/3 [00:00<?, ?it/s]"
      ]
     },
     "metadata": {},
     "output_type": "display_data"
    },
    {
     "data": {
      "application/vnd.jupyter.widget-view+json": {
       "model_id": "",
       "version_major": 2,
       "version_minor": 0
      },
      "text/plain": [
       "Processing Channels (T=50):   0%|          | 0/3 [00:00<?, ?it/s]"
      ]
     },
     "metadata": {},
     "output_type": "display_data"
    },
    {
     "data": {
      "application/vnd.jupyter.widget-view+json": {
       "model_id": "",
       "version_major": 2,
       "version_minor": 0
      },
      "text/plain": [
       "Processing Channels (T=51):   0%|          | 0/3 [00:00<?, ?it/s]"
      ]
     },
     "metadata": {},
     "output_type": "display_data"
    },
    {
     "data": {
      "application/vnd.jupyter.widget-view+json": {
       "model_id": "",
       "version_major": 2,
       "version_minor": 0
      },
      "text/plain": [
       "Processing Channels (T=52):   0%|          | 0/3 [00:00<?, ?it/s]"
      ]
     },
     "metadata": {},
     "output_type": "display_data"
    },
    {
     "data": {
      "application/vnd.jupyter.widget-view+json": {
       "model_id": "",
       "version_major": 2,
       "version_minor": 0
      },
      "text/plain": [
       "Processing Channels (T=53):   0%|          | 0/3 [00:00<?, ?it/s]"
      ]
     },
     "metadata": {},
     "output_type": "display_data"
    },
    {
     "data": {
      "application/vnd.jupyter.widget-view+json": {
       "model_id": "",
       "version_major": 2,
       "version_minor": 0
      },
      "text/plain": [
       "Processing Channels (T=54):   0%|          | 0/3 [00:00<?, ?it/s]"
      ]
     },
     "metadata": {},
     "output_type": "display_data"
    },
    {
     "data": {
      "application/vnd.jupyter.widget-view+json": {
       "model_id": "",
       "version_major": 2,
       "version_minor": 0
      },
      "text/plain": [
       "Processing Channels (T=55):   0%|          | 0/3 [00:00<?, ?it/s]"
      ]
     },
     "metadata": {},
     "output_type": "display_data"
    },
    {
     "data": {
      "application/vnd.jupyter.widget-view+json": {
       "model_id": "",
       "version_major": 2,
       "version_minor": 0
      },
      "text/plain": [
       "Processing Channels (T=56):   0%|          | 0/3 [00:00<?, ?it/s]"
      ]
     },
     "metadata": {},
     "output_type": "display_data"
    },
    {
     "data": {
      "application/vnd.jupyter.widget-view+json": {
       "model_id": "",
       "version_major": 2,
       "version_minor": 0
      },
      "text/plain": [
       "Processing Channels (T=57):   0%|          | 0/3 [00:00<?, ?it/s]"
      ]
     },
     "metadata": {},
     "output_type": "display_data"
    },
    {
     "data": {
      "application/vnd.jupyter.widget-view+json": {
       "model_id": "",
       "version_major": 2,
       "version_minor": 0
      },
      "text/plain": [
       "Processing Channels (T=58):   0%|          | 0/3 [00:00<?, ?it/s]"
      ]
     },
     "metadata": {},
     "output_type": "display_data"
    },
    {
     "data": {
      "application/vnd.jupyter.widget-view+json": {
       "model_id": "",
       "version_major": 2,
       "version_minor": 0
      },
      "text/plain": [
       "Processing Channels (T=59):   0%|          | 0/3 [00:00<?, ?it/s]"
      ]
     },
     "metadata": {},
     "output_type": "display_data"
    },
    {
     "data": {
      "application/vnd.jupyter.widget-view+json": {
       "model_id": "",
       "version_major": 2,
       "version_minor": 0
      },
      "text/plain": [
       "Processing Channels (T=60):   0%|          | 0/3 [00:00<?, ?it/s]"
      ]
     },
     "metadata": {},
     "output_type": "display_data"
    },
    {
     "data": {
      "application/vnd.jupyter.widget-view+json": {
       "model_id": "",
       "version_major": 2,
       "version_minor": 0
      },
      "text/plain": [
       "Processing Channels (T=61):   0%|          | 0/3 [00:00<?, ?it/s]"
      ]
     },
     "metadata": {},
     "output_type": "display_data"
    },
    {
     "data": {
      "application/vnd.jupyter.widget-view+json": {
       "model_id": "",
       "version_major": 2,
       "version_minor": 0
      },
      "text/plain": [
       "Processing Channels (T=62):   0%|          | 0/3 [00:00<?, ?it/s]"
      ]
     },
     "metadata": {},
     "output_type": "display_data"
    },
    {
     "data": {
      "application/vnd.jupyter.widget-view+json": {
       "model_id": "",
       "version_major": 2,
       "version_minor": 0
      },
      "text/plain": [
       "Processing Channels (T=63):   0%|          | 0/3 [00:00<?, ?it/s]"
      ]
     },
     "metadata": {},
     "output_type": "display_data"
    },
    {
     "data": {
      "application/vnd.jupyter.widget-view+json": {
       "model_id": "",
       "version_major": 2,
       "version_minor": 0
      },
      "text/plain": [
       "Processing Channels (T=64):   0%|          | 0/3 [00:00<?, ?it/s]"
      ]
     },
     "metadata": {},
     "output_type": "display_data"
    },
    {
     "data": {
      "application/vnd.jupyter.widget-view+json": {
       "model_id": "",
       "version_major": 2,
       "version_minor": 0
      },
      "text/plain": [
       "Processing Channels (T=65):   0%|          | 0/3 [00:00<?, ?it/s]"
      ]
     },
     "metadata": {},
     "output_type": "display_data"
    },
    {
     "data": {
      "application/vnd.jupyter.widget-view+json": {
       "model_id": "",
       "version_major": 2,
       "version_minor": 0
      },
      "text/plain": [
       "Processing Channels (T=66):   0%|          | 0/3 [00:00<?, ?it/s]"
      ]
     },
     "metadata": {},
     "output_type": "display_data"
    },
    {
     "data": {
      "application/vnd.jupyter.widget-view+json": {
       "model_id": "",
       "version_major": 2,
       "version_minor": 0
      },
      "text/plain": [
       "Processing Channels (T=67):   0%|          | 0/3 [00:00<?, ?it/s]"
      ]
     },
     "metadata": {},
     "output_type": "display_data"
    },
    {
     "data": {
      "application/vnd.jupyter.widget-view+json": {
       "model_id": "",
       "version_major": 2,
       "version_minor": 0
      },
      "text/plain": [
       "Processing Channels (T=68):   0%|          | 0/3 [00:00<?, ?it/s]"
      ]
     },
     "metadata": {},
     "output_type": "display_data"
    },
    {
     "data": {
      "application/vnd.jupyter.widget-view+json": {
       "model_id": "",
       "version_major": 2,
       "version_minor": 0
      },
      "text/plain": [
       "Processing Channels (T=69):   0%|          | 0/3 [00:00<?, ?it/s]"
      ]
     },
     "metadata": {},
     "output_type": "display_data"
    },
    {
     "data": {
      "application/vnd.jupyter.widget-view+json": {
       "model_id": "",
       "version_major": 2,
       "version_minor": 0
      },
      "text/plain": [
       "Processing Channels (T=70):   0%|          | 0/3 [00:00<?, ?it/s]"
      ]
     },
     "metadata": {},
     "output_type": "display_data"
    },
    {
     "data": {
      "application/vnd.jupyter.widget-view+json": {
       "model_id": "",
       "version_major": 2,
       "version_minor": 0
      },
      "text/plain": [
       "Processing Channels (T=71):   0%|          | 0/3 [00:00<?, ?it/s]"
      ]
     },
     "metadata": {},
     "output_type": "display_data"
    },
    {
     "data": {
      "application/vnd.jupyter.widget-view+json": {
       "model_id": "",
       "version_major": 2,
       "version_minor": 0
      },
      "text/plain": [
       "Processing Channels (T=72):   0%|          | 0/3 [00:00<?, ?it/s]"
      ]
     },
     "metadata": {},
     "output_type": "display_data"
    },
    {
     "data": {
      "application/vnd.jupyter.widget-view+json": {
       "model_id": "",
       "version_major": 2,
       "version_minor": 0
      },
      "text/plain": [
       "Processing Channels (T=73):   0%|          | 0/3 [00:00<?, ?it/s]"
      ]
     },
     "metadata": {},
     "output_type": "display_data"
    },
    {
     "data": {
      "application/vnd.jupyter.widget-view+json": {
       "model_id": "",
       "version_major": 2,
       "version_minor": 0
      },
      "text/plain": [
       "Processing Channels (T=74):   0%|          | 0/3 [00:00<?, ?it/s]"
      ]
     },
     "metadata": {},
     "output_type": "display_data"
    },
    {
     "data": {
      "application/vnd.jupyter.widget-view+json": {
       "model_id": "",
       "version_major": 2,
       "version_minor": 0
      },
      "text/plain": [
       "Processing Channels (T=75):   0%|          | 0/3 [00:00<?, ?it/s]"
      ]
     },
     "metadata": {},
     "output_type": "display_data"
    },
    {
     "data": {
      "application/vnd.jupyter.widget-view+json": {
       "model_id": "",
       "version_major": 2,
       "version_minor": 0
      },
      "text/plain": [
       "Processing Channels (T=76):   0%|          | 0/3 [00:00<?, ?it/s]"
      ]
     },
     "metadata": {},
     "output_type": "display_data"
    },
    {
     "data": {
      "application/vnd.jupyter.widget-view+json": {
       "model_id": "",
       "version_major": 2,
       "version_minor": 0
      },
      "text/plain": [
       "Processing Channels (T=77):   0%|          | 0/3 [00:00<?, ?it/s]"
      ]
     },
     "metadata": {},
     "output_type": "display_data"
    },
    {
     "data": {
      "application/vnd.jupyter.widget-view+json": {
       "model_id": "",
       "version_major": 2,
       "version_minor": 0
      },
      "text/plain": [
       "Processing Channels (T=78):   0%|          | 0/3 [00:00<?, ?it/s]"
      ]
     },
     "metadata": {},
     "output_type": "display_data"
    },
    {
     "data": {
      "application/vnd.jupyter.widget-view+json": {
       "model_id": "",
       "version_major": 2,
       "version_minor": 0
      },
      "text/plain": [
       "Processing Channels (T=79):   0%|          | 0/3 [00:00<?, ?it/s]"
      ]
     },
     "metadata": {},
     "output_type": "display_data"
    },
    {
     "data": {
      "application/vnd.jupyter.widget-view+json": {
       "model_id": "",
       "version_major": 2,
       "version_minor": 0
      },
      "text/plain": [
       "Processing Channels (T=80):   0%|          | 0/3 [00:00<?, ?it/s]"
      ]
     },
     "metadata": {},
     "output_type": "display_data"
    },
    {
     "data": {
      "application/vnd.jupyter.widget-view+json": {
       "model_id": "",
       "version_major": 2,
       "version_minor": 0
      },
      "text/plain": [
       "Processing Channels (T=81):   0%|          | 0/3 [00:00<?, ?it/s]"
      ]
     },
     "metadata": {},
     "output_type": "display_data"
    },
    {
     "data": {
      "application/vnd.jupyter.widget-view+json": {
       "model_id": "",
       "version_major": 2,
       "version_minor": 0
      },
      "text/plain": [
       "Processing Channels (T=82):   0%|          | 0/3 [00:00<?, ?it/s]"
      ]
     },
     "metadata": {},
     "output_type": "display_data"
    },
    {
     "data": {
      "application/vnd.jupyter.widget-view+json": {
       "model_id": "",
       "version_major": 2,
       "version_minor": 0
      },
      "text/plain": [
       "Processing Channels (T=83):   0%|          | 0/3 [00:00<?, ?it/s]"
      ]
     },
     "metadata": {},
     "output_type": "display_data"
    },
    {
     "data": {
      "application/vnd.jupyter.widget-view+json": {
       "model_id": "",
       "version_major": 2,
       "version_minor": 0
      },
      "text/plain": [
       "Processing Channels (T=84):   0%|          | 0/3 [00:00<?, ?it/s]"
      ]
     },
     "metadata": {},
     "output_type": "display_data"
    },
    {
     "data": {
      "application/vnd.jupyter.widget-view+json": {
       "model_id": "",
       "version_major": 2,
       "version_minor": 0
      },
      "text/plain": [
       "Processing Channels (T=85):   0%|          | 0/3 [00:00<?, ?it/s]"
      ]
     },
     "metadata": {},
     "output_type": "display_data"
    },
    {
     "data": {
      "application/vnd.jupyter.widget-view+json": {
       "model_id": "",
       "version_major": 2,
       "version_minor": 0
      },
      "text/plain": [
       "Processing Channels (T=86):   0%|          | 0/3 [00:00<?, ?it/s]"
      ]
     },
     "metadata": {},
     "output_type": "display_data"
    },
    {
     "data": {
      "application/vnd.jupyter.widget-view+json": {
       "model_id": "",
       "version_major": 2,
       "version_minor": 0
      },
      "text/plain": [
       "Processing Channels (T=87):   0%|          | 0/3 [00:00<?, ?it/s]"
      ]
     },
     "metadata": {},
     "output_type": "display_data"
    },
    {
     "data": {
      "application/vnd.jupyter.widget-view+json": {
       "model_id": "",
       "version_major": 2,
       "version_minor": 0
      },
      "text/plain": [
       "Processing Channels (T=88):   0%|          | 0/3 [00:00<?, ?it/s]"
      ]
     },
     "metadata": {},
     "output_type": "display_data"
    },
    {
     "data": {
      "application/vnd.jupyter.widget-view+json": {
       "model_id": "",
       "version_major": 2,
       "version_minor": 0
      },
      "text/plain": [
       "Processing Channels (T=89):   0%|          | 0/3 [00:00<?, ?it/s]"
      ]
     },
     "metadata": {},
     "output_type": "display_data"
    },
    {
     "data": {
      "application/vnd.jupyter.widget-view+json": {
       "model_id": "",
       "version_major": 2,
       "version_minor": 0
      },
      "text/plain": [
       "Processing Channels (T=90):   0%|          | 0/3 [00:00<?, ?it/s]"
      ]
     },
     "metadata": {},
     "output_type": "display_data"
    },
    {
     "data": {
      "application/vnd.jupyter.widget-view+json": {
       "model_id": "",
       "version_major": 2,
       "version_minor": 0
      },
      "text/plain": [
       "Processing Channels (T=91):   0%|          | 0/3 [00:00<?, ?it/s]"
      ]
     },
     "metadata": {},
     "output_type": "display_data"
    },
    {
     "data": {
      "application/vnd.jupyter.widget-view+json": {
       "model_id": "",
       "version_major": 2,
       "version_minor": 0
      },
      "text/plain": [
       "Processing Channels (T=92):   0%|          | 0/3 [00:00<?, ?it/s]"
      ]
     },
     "metadata": {},
     "output_type": "display_data"
    },
    {
     "data": {
      "application/vnd.jupyter.widget-view+json": {
       "model_id": "",
       "version_major": 2,
       "version_minor": 0
      },
      "text/plain": [
       "Processing Channels (T=93):   0%|          | 0/3 [00:00<?, ?it/s]"
      ]
     },
     "metadata": {},
     "output_type": "display_data"
    },
    {
     "data": {
      "application/vnd.jupyter.widget-view+json": {
       "model_id": "",
       "version_major": 2,
       "version_minor": 0
      },
      "text/plain": [
       "Processing Channels (T=94):   0%|          | 0/3 [00:00<?, ?it/s]"
      ]
     },
     "metadata": {},
     "output_type": "display_data"
    },
    {
     "data": {
      "application/vnd.jupyter.widget-view+json": {
       "model_id": "",
       "version_major": 2,
       "version_minor": 0
      },
      "text/plain": [
       "Processing Channels (T=95):   0%|          | 0/3 [00:00<?, ?it/s]"
      ]
     },
     "metadata": {},
     "output_type": "display_data"
    },
    {
     "data": {
      "application/vnd.jupyter.widget-view+json": {
       "model_id": "",
       "version_major": 2,
       "version_minor": 0
      },
      "text/plain": [
       "Processing Channels (T=96):   0%|          | 0/3 [00:00<?, ?it/s]"
      ]
     },
     "metadata": {},
     "output_type": "display_data"
    },
    {
     "data": {
      "application/vnd.jupyter.widget-view+json": {
       "model_id": "",
       "version_major": 2,
       "version_minor": 0
      },
      "text/plain": [
       "Processing Channels (T=97):   0%|          | 0/3 [00:00<?, ?it/s]"
      ]
     },
     "metadata": {},
     "output_type": "display_data"
    },
    {
     "data": {
      "application/vnd.jupyter.widget-view+json": {
       "model_id": "",
       "version_major": 2,
       "version_minor": 0
      },
      "text/plain": [
       "Processing Channels (T=98):   0%|          | 0/3 [00:00<?, ?it/s]"
      ]
     },
     "metadata": {},
     "output_type": "display_data"
    },
    {
     "data": {
      "application/vnd.jupyter.widget-view+json": {
       "model_id": "",
       "version_major": 2,
       "version_minor": 0
      },
      "text/plain": [
       "Processing Channels (T=99):   0%|          | 0/3 [00:00<?, ?it/s]"
      ]
     },
     "metadata": {},
     "output_type": "display_data"
    },
    {
     "data": {
      "application/vnd.jupyter.widget-view+json": {
       "model_id": "",
       "version_major": 2,
       "version_minor": 0
      },
      "text/plain": [
       "Processing Channels (T=100):   0%|          | 0/3 [00:00<?, ?it/s]"
      ]
     },
     "metadata": {},
     "output_type": "display_data"
    },
    {
     "data": {
      "application/vnd.jupyter.widget-view+json": {
       "model_id": "",
       "version_major": 2,
       "version_minor": 0
      },
      "text/plain": [
       "Processing Channels (T=101):   0%|          | 0/3 [00:00<?, ?it/s]"
      ]
     },
     "metadata": {},
     "output_type": "display_data"
    },
    {
     "data": {
      "application/vnd.jupyter.widget-view+json": {
       "model_id": "",
       "version_major": 2,
       "version_minor": 0
      },
      "text/plain": [
       "Processing Channels (T=102):   0%|          | 0/3 [00:00<?, ?it/s]"
      ]
     },
     "metadata": {},
     "output_type": "display_data"
    },
    {
     "data": {
      "application/vnd.jupyter.widget-view+json": {
       "model_id": "",
       "version_major": 2,
       "version_minor": 0
      },
      "text/plain": [
       "Processing Channels (T=103):   0%|          | 0/3 [00:00<?, ?it/s]"
      ]
     },
     "metadata": {},
     "output_type": "display_data"
    },
    {
     "data": {
      "application/vnd.jupyter.widget-view+json": {
       "model_id": "",
       "version_major": 2,
       "version_minor": 0
      },
      "text/plain": [
       "Processing Channels (T=104):   0%|          | 0/3 [00:00<?, ?it/s]"
      ]
     },
     "metadata": {},
     "output_type": "display_data"
    },
    {
     "data": {
      "application/vnd.jupyter.widget-view+json": {
       "model_id": "",
       "version_major": 2,
       "version_minor": 0
      },
      "text/plain": [
       "Processing Channels (T=105):   0%|          | 0/3 [00:00<?, ?it/s]"
      ]
     },
     "metadata": {},
     "output_type": "display_data"
    },
    {
     "data": {
      "application/vnd.jupyter.widget-view+json": {
       "model_id": "",
       "version_major": 2,
       "version_minor": 0
      },
      "text/plain": [
       "Processing Channels (T=106):   0%|          | 0/3 [00:00<?, ?it/s]"
      ]
     },
     "metadata": {},
     "output_type": "display_data"
    },
    {
     "data": {
      "application/vnd.jupyter.widget-view+json": {
       "model_id": "",
       "version_major": 2,
       "version_minor": 0
      },
      "text/plain": [
       "Processing Channels (T=107):   0%|          | 0/3 [00:00<?, ?it/s]"
      ]
     },
     "metadata": {},
     "output_type": "display_data"
    },
    {
     "data": {
      "application/vnd.jupyter.widget-view+json": {
       "model_id": "",
       "version_major": 2,
       "version_minor": 0
      },
      "text/plain": [
       "Processing Channels (T=108):   0%|          | 0/3 [00:00<?, ?it/s]"
      ]
     },
     "metadata": {},
     "output_type": "display_data"
    },
    {
     "data": {
      "application/vnd.jupyter.widget-view+json": {
       "model_id": "",
       "version_major": 2,
       "version_minor": 0
      },
      "text/plain": [
       "Processing Channels (T=109):   0%|          | 0/3 [00:00<?, ?it/s]"
      ]
     },
     "metadata": {},
     "output_type": "display_data"
    },
    {
     "data": {
      "application/vnd.jupyter.widget-view+json": {
       "model_id": "",
       "version_major": 2,
       "version_minor": 0
      },
      "text/plain": [
       "Processing Channels (T=110):   0%|          | 0/3 [00:00<?, ?it/s]"
      ]
     },
     "metadata": {},
     "output_type": "display_data"
    },
    {
     "data": {
      "application/vnd.jupyter.widget-view+json": {
       "model_id": "",
       "version_major": 2,
       "version_minor": 0
      },
      "text/plain": [
       "Processing Channels (T=111):   0%|          | 0/3 [00:00<?, ?it/s]"
      ]
     },
     "metadata": {},
     "output_type": "display_data"
    },
    {
     "data": {
      "application/vnd.jupyter.widget-view+json": {
       "model_id": "",
       "version_major": 2,
       "version_minor": 0
      },
      "text/plain": [
       "Processing Channels (T=112):   0%|          | 0/3 [00:00<?, ?it/s]"
      ]
     },
     "metadata": {},
     "output_type": "display_data"
    },
    {
     "data": {
      "application/vnd.jupyter.widget-view+json": {
       "model_id": "",
       "version_major": 2,
       "version_minor": 0
      },
      "text/plain": [
       "Processing Channels (T=113):   0%|          | 0/3 [00:00<?, ?it/s]"
      ]
     },
     "metadata": {},
     "output_type": "display_data"
    },
    {
     "data": {
      "application/vnd.jupyter.widget-view+json": {
       "model_id": "",
       "version_major": 2,
       "version_minor": 0
      },
      "text/plain": [
       "Processing Channels (T=114):   0%|          | 0/3 [00:00<?, ?it/s]"
      ]
     },
     "metadata": {},
     "output_type": "display_data"
    },
    {
     "data": {
      "application/vnd.jupyter.widget-view+json": {
       "model_id": "",
       "version_major": 2,
       "version_minor": 0
      },
      "text/plain": [
       "Processing Channels (T=115):   0%|          | 0/3 [00:00<?, ?it/s]"
      ]
     },
     "metadata": {},
     "output_type": "display_data"
    },
    {
     "data": {
      "application/vnd.jupyter.widget-view+json": {
       "model_id": "",
       "version_major": 2,
       "version_minor": 0
      },
      "text/plain": [
       "Processing Channels (T=116):   0%|          | 0/3 [00:00<?, ?it/s]"
      ]
     },
     "metadata": {},
     "output_type": "display_data"
    },
    {
     "data": {
      "application/vnd.jupyter.widget-view+json": {
       "model_id": "",
       "version_major": 2,
       "version_minor": 0
      },
      "text/plain": [
       "Processing Channels (T=117):   0%|          | 0/3 [00:00<?, ?it/s]"
      ]
     },
     "metadata": {},
     "output_type": "display_data"
    },
    {
     "data": {
      "application/vnd.jupyter.widget-view+json": {
       "model_id": "",
       "version_major": 2,
       "version_minor": 0
      },
      "text/plain": [
       "Processing Channels (T=118):   0%|          | 0/3 [00:00<?, ?it/s]"
      ]
     },
     "metadata": {},
     "output_type": "display_data"
    },
    {
     "data": {
      "application/vnd.jupyter.widget-view+json": {
       "model_id": "",
       "version_major": 2,
       "version_minor": 0
      },
      "text/plain": [
       "Processing Channels (T=119):   0%|          | 0/3 [00:00<?, ?it/s]"
      ]
     },
     "metadata": {},
     "output_type": "display_data"
    },
    {
     "data": {
      "application/vnd.jupyter.widget-view+json": {
       "model_id": "",
       "version_major": 2,
       "version_minor": 0
      },
      "text/plain": [
       "Processing Channels (T=120):   0%|          | 0/3 [00:00<?, ?it/s]"
      ]
     },
     "metadata": {},
     "output_type": "display_data"
    },
    {
     "data": {
      "application/vnd.jupyter.widget-view+json": {
       "model_id": "",
       "version_major": 2,
       "version_minor": 0
      },
      "text/plain": [
       "Processing Channels (T=121):   0%|          | 0/3 [00:00<?, ?it/s]"
      ]
     },
     "metadata": {},
     "output_type": "display_data"
    },
    {
     "data": {
      "application/vnd.jupyter.widget-view+json": {
       "model_id": "",
       "version_major": 2,
       "version_minor": 0
      },
      "text/plain": [
       "Processing Channels (T=122):   0%|          | 0/3 [00:00<?, ?it/s]"
      ]
     },
     "metadata": {},
     "output_type": "display_data"
    },
    {
     "data": {
      "application/vnd.jupyter.widget-view+json": {
       "model_id": "",
       "version_major": 2,
       "version_minor": 0
      },
      "text/plain": [
       "Processing Channels (T=123):   0%|          | 0/3 [00:00<?, ?it/s]"
      ]
     },
     "metadata": {},
     "output_type": "display_data"
    },
    {
     "data": {
      "application/vnd.jupyter.widget-view+json": {
       "model_id": "",
       "version_major": 2,
       "version_minor": 0
      },
      "text/plain": [
       "Processing Channels (T=124):   0%|          | 0/3 [00:00<?, ?it/s]"
      ]
     },
     "metadata": {},
     "output_type": "display_data"
    },
    {
     "data": {
      "application/vnd.jupyter.widget-view+json": {
       "model_id": "",
       "version_major": 2,
       "version_minor": 0
      },
      "text/plain": [
       "Processing Channels (T=125):   0%|          | 0/3 [00:00<?, ?it/s]"
      ]
     },
     "metadata": {},
     "output_type": "display_data"
    },
    {
     "data": {
      "application/vnd.jupyter.widget-view+json": {
       "model_id": "",
       "version_major": 2,
       "version_minor": 0
      },
      "text/plain": [
       "Processing Channels (T=126):   0%|          | 0/3 [00:00<?, ?it/s]"
      ]
     },
     "metadata": {},
     "output_type": "display_data"
    },
    {
     "data": {
      "application/vnd.jupyter.widget-view+json": {
       "model_id": "",
       "version_major": 2,
       "version_minor": 0
      },
      "text/plain": [
       "Processing Channels (T=127):   0%|          | 0/3 [00:00<?, ?it/s]"
      ]
     },
     "metadata": {},
     "output_type": "display_data"
    },
    {
     "data": {
      "application/vnd.jupyter.widget-view+json": {
       "model_id": "",
       "version_major": 2,
       "version_minor": 0
      },
      "text/plain": [
       "Processing Channels (T=128):   0%|          | 0/3 [00:00<?, ?it/s]"
      ]
     },
     "metadata": {},
     "output_type": "display_data"
    },
    {
     "data": {
      "application/vnd.jupyter.widget-view+json": {
       "model_id": "",
       "version_major": 2,
       "version_minor": 0
      },
      "text/plain": [
       "Processing Channels (T=129):   0%|          | 0/3 [00:00<?, ?it/s]"
      ]
     },
     "metadata": {},
     "output_type": "display_data"
    },
    {
     "data": {
      "application/vnd.jupyter.widget-view+json": {
       "model_id": "",
       "version_major": 2,
       "version_minor": 0
      },
      "text/plain": [
       "Processing Channels (T=130):   0%|          | 0/3 [00:00<?, ?it/s]"
      ]
     },
     "metadata": {},
     "output_type": "display_data"
    },
    {
     "data": {
      "application/vnd.jupyter.widget-view+json": {
       "model_id": "",
       "version_major": 2,
       "version_minor": 0
      },
      "text/plain": [
       "Processing Channels (T=131):   0%|          | 0/3 [00:00<?, ?it/s]"
      ]
     },
     "metadata": {},
     "output_type": "display_data"
    },
    {
     "data": {
      "application/vnd.jupyter.widget-view+json": {
       "model_id": "",
       "version_major": 2,
       "version_minor": 0
      },
      "text/plain": [
       "Processing Channels (T=132):   0%|          | 0/3 [00:00<?, ?it/s]"
      ]
     },
     "metadata": {},
     "output_type": "display_data"
    },
    {
     "data": {
      "application/vnd.jupyter.widget-view+json": {
       "model_id": "",
       "version_major": 2,
       "version_minor": 0
      },
      "text/plain": [
       "Processing Channels (T=133):   0%|          | 0/3 [00:00<?, ?it/s]"
      ]
     },
     "metadata": {},
     "output_type": "display_data"
    },
    {
     "data": {
      "application/vnd.jupyter.widget-view+json": {
       "model_id": "",
       "version_major": 2,
       "version_minor": 0
      },
      "text/plain": [
       "Processing Channels (T=134):   0%|          | 0/3 [00:00<?, ?it/s]"
      ]
     },
     "metadata": {},
     "output_type": "display_data"
    },
    {
     "data": {
      "application/vnd.jupyter.widget-view+json": {
       "model_id": "",
       "version_major": 2,
       "version_minor": 0
      },
      "text/plain": [
       "Processing Channels (T=135):   0%|          | 0/3 [00:00<?, ?it/s]"
      ]
     },
     "metadata": {},
     "output_type": "display_data"
    },
    {
     "data": {
      "application/vnd.jupyter.widget-view+json": {
       "model_id": "",
       "version_major": 2,
       "version_minor": 0
      },
      "text/plain": [
       "Processing Channels (T=136):   0%|          | 0/3 [00:00<?, ?it/s]"
      ]
     },
     "metadata": {},
     "output_type": "display_data"
    },
    {
     "data": {
      "application/vnd.jupyter.widget-view+json": {
       "model_id": "",
       "version_major": 2,
       "version_minor": 0
      },
      "text/plain": [
       "Processing Channels (T=137):   0%|          | 0/3 [00:00<?, ?it/s]"
      ]
     },
     "metadata": {},
     "output_type": "display_data"
    },
    {
     "data": {
      "application/vnd.jupyter.widget-view+json": {
       "model_id": "",
       "version_major": 2,
       "version_minor": 0
      },
      "text/plain": [
       "Processing Channels (T=138):   0%|          | 0/3 [00:00<?, ?it/s]"
      ]
     },
     "metadata": {},
     "output_type": "display_data"
    },
    {
     "data": {
      "application/vnd.jupyter.widget-view+json": {
       "model_id": "",
       "version_major": 2,
       "version_minor": 0
      },
      "text/plain": [
       "Processing Channels (T=139):   0%|          | 0/3 [00:00<?, ?it/s]"
      ]
     },
     "metadata": {},
     "output_type": "display_data"
    },
    {
     "data": {
      "application/vnd.jupyter.widget-view+json": {
       "model_id": "",
       "version_major": 2,
       "version_minor": 0
      },
      "text/plain": [
       "Processing Channels (T=140):   0%|          | 0/3 [00:00<?, ?it/s]"
      ]
     },
     "metadata": {},
     "output_type": "display_data"
    },
    {
     "data": {
      "application/vnd.jupyter.widget-view+json": {
       "model_id": "",
       "version_major": 2,
       "version_minor": 0
      },
      "text/plain": [
       "Processing Channels (T=141):   0%|          | 0/3 [00:00<?, ?it/s]"
      ]
     },
     "metadata": {},
     "output_type": "display_data"
    },
    {
     "data": {
      "application/vnd.jupyter.widget-view+json": {
       "model_id": "",
       "version_major": 2,
       "version_minor": 0
      },
      "text/plain": [
       "Processing Channels (T=142):   0%|          | 0/3 [00:00<?, ?it/s]"
      ]
     },
     "metadata": {},
     "output_type": "display_data"
    },
    {
     "data": {
      "application/vnd.jupyter.widget-view+json": {
       "model_id": "",
       "version_major": 2,
       "version_minor": 0
      },
      "text/plain": [
       "Processing Channels (T=143):   0%|          | 0/3 [00:00<?, ?it/s]"
      ]
     },
     "metadata": {},
     "output_type": "display_data"
    },
    {
     "name": "stdout",
     "output_type": "stream",
     "text": [
      "Final image volume shape: (144, 3, 3, 6911, 6911)\n"
     ]
    }
   ],
   "source": [
    "\n",
    "\n",
    "for base_dir in tqdm(base_dirs, total = len(base_dirs)):\n",
    "\n",
    "    base_dir_ID = base_dir.split('/')[-2] #os.path.basename(base_dir)\n",
    "    if base_dir_ID != 'BPP0050-1-Live-cell-to4i_Live-2__2025-04-10T18_45_48-Measurement 1':\n",
    "        print('skipping completed', base_dir_ID)\n",
    "        continue\n",
    "    \n",
    "    metadata_fn = os.path.join(base_dir, 'acquisition/Images/Index.idx.xml')\n",
    "    metadata = dataio.read_harmony_metadata(metadata_fn)  \n",
    "\n",
    "    # Convert applicable columns to numeric values\n",
    "    metadata = metadata.apply(pd.to_numeric, errors='ignore')\n",
    "    # Invert Y coordinates (cathode ray tube adjustment)\n",
    "    metadata['PositionY'] = -metadata['PositionY']\n",
    "    \n",
    "    # Find the minimum Z position for non-Phase Contrast channels\n",
    "    min_z = metadata.loc[~metadata['ChannelName'].str.contains('Phase Contrast', case=False, na=False), 'PositionZ'].min()\n",
    "    \n",
    "    # Assign this minimum Z value to all \"Phase Contrast\" channels\n",
    "    metadata.loc[metadata['ChannelName'].str.contains('Phase Contrast', case=False, na=False), 'PositionZ'] = min_z\n",
    "    \n",
    "    image_dir = os.path.join(base_dir, 'acquisition/Images/')\n",
    "    # use the metadata for the rows cols as the assay layout can be the same for multiple acquisitions, encompassing multiple layouts\n",
    "    rows_cols = metadata[['Row', 'Col']].drop_duplicates().values\n",
    "    \n",
    "    assay_layout_fn = glob.glob(os.path.join(base_dir, 'acquisition/Assaylayout/*.xml'))[0]\n",
    "    assay_layout = load_assay_layout(assay_layout_fn)\n",
    "\n",
    "\n",
    "\n",
    "\n",
    "    for row_col in tqdm(rows_cols, desc=f'Now tiling in {base_dir_ID}', total = len(rows_cols)):\n",
    "        row, column = int(row_col[0]), int(row_col[1])\n",
    "        col = column\n",
    "        acq_ID = row, column\n",
    "        \n",
    "        if os.path.exists(os.path.join(base_dir, f'acquisition/zarr/{acq_ID}.zarr')):\n",
    "            print(os.path.join(base_dir, f'acquisition/zarr/{acq_ID}.zarr'), 'already exists, skipping')\n",
    "            continue\n",
    "\n",
    "        # Filter metadata for the current row and column (include all time points)\n",
    "        position_metadata = metadata[(metadata['Row'] == row) & (metadata['Col'] == column)]\n",
    "        # Get unique time points\n",
    "        timepoint_ids = sorted(position_metadata['TimepointID'].unique())\n",
    "        # Initialize a list to store time-lapse volumes\n",
    "        time_volumes = []\n",
    "        \n",
    "        sample_tile_id =  position_metadata.iloc[0]\n",
    "        # Iterate over each time point\n",
    "        for timepoint_id in tqdm(timepoint_ids, desc=\"Processing Time Points\", leave=True, position=1):\n",
    "            # Filter metadata for the current time point\n",
    "            time_metadata = position_metadata[position_metadata['TimepointID'] == timepoint_id]\n",
    "            # Get unique Channel\n",
    "            channel_ids = sorted(time_metadata['ChannelID'].unique())\n",
    "            # Initialize a list to hold each channel's Z-stack for this time point\n",
    "            channel_volumes = []\n",
    "            # Iterate over each channel\n",
    "            for channel_id in tqdm(channel_ids, desc=f\"Processing Channels (T={timepoint_id})\", leave=False, position=2):\n",
    "                # get specific channel metadata\n",
    "                channel_slice_metadata = time_metadata[time_metadata['ChannelID'] == channel_id]\n",
    "                # get z positions for this channel\n",
    "                z_ids = sorted(channel_slice_metadata['PositionZ'].unique())\n",
    "                # init a list to hold z slices\n",
    "                z_slices = []\n",
    "                # Iterate over Z positions\n",
    "                for z_id in z_ids:#tqdm(z_positions, desc=\"Processing Z-slices\", leave=False, position=3):\n",
    "                    # get specific z slice metadata\n",
    "                    z_slice_metadata = channel_slice_metadata[channel_slice_metadata['PositionZ'] == z_id]\n",
    "                    # Initialize mosaic_slice if needed, ie for the first image to be placed in the blank slate\n",
    "                    mosaic_size_x = int((z_slice_metadata['PositionX'].max() - z_slice_metadata['PositionX'].min()) / sample_tile_id['ImageResolutionX']) + sample_tile_id['ImageSizeX']\n",
    "                    mosaic_size_y = int((z_slice_metadata['PositionY'].max() - z_slice_metadata['PositionY'].min()) / sample_tile_id['ImageResolutionY']) + sample_tile_id['ImageSizeY']\n",
    "                    # For each position, create a large mosaic (accumulator & weight)\n",
    "                    # Suppose mosaic_size_y, mosaic_size_x is the total bounding box in Y and X.\n",
    "                    accumulator = np.zeros((mosaic_size_y, mosaic_size_x), dtype=np.float32)\n",
    "                    weight_map  = np.zeros((mosaic_size_y, mosaic_size_x), dtype=np.float32)\n",
    "                    \n",
    "                    for tile_index, tile_id in z_slice_metadata.iterrows():\n",
    "                        # load the tile\n",
    "                        img_path = os.path.join(image_dir, tile_id['URL'])\n",
    "                        try:\n",
    "                            tile = imread(img_path).astype(np.float32)\n",
    "                        except FileNotFoundError:\n",
    "                            tile = np.zeros((tile_id['ImageSizeY'], tile_id['ImageSizeX']), dtype=np.float32)\n",
    "                    \n",
    "                        # create alpha mask for this tile's shape\n",
    "                        alpha_mask = create_alpha_mask(tile.shape[0], tile.shape[1], feather=0.1)\n",
    "                    \n",
    "                        # figure out where to place this tile in the mosaic\n",
    "                        x_pixel = int((tile_id['PositionX'] - z_slice_metadata['PositionX'].min()) / tile_id['ImageResolutionX'])\n",
    "                        y_pixel = int((tile_id['PositionY'] - z_slice_metadata['PositionY'].min()) / tile_id['ImageResolutionY'])\n",
    "                    \n",
    "                        # add into the accumulator & weight\n",
    "                        # We slice out the region in the mosaic that corresponds to this tile\n",
    "                        acc_slice = accumulator[y_pixel:y_pixel+tile.shape[0], x_pixel:x_pixel+tile.shape[1]]\n",
    "                        wgt_slice = weight_map[y_pixel:y_pixel+tile.shape[0], x_pixel:x_pixel+tile.shape[1]]\n",
    "                    \n",
    "                        acc_slice += tile * alpha_mask\n",
    "                        wgt_slice += alpha_mask\n",
    "                    \n",
    "                    # AFTER all tiles are placed:\n",
    "                    final_mosaic = np.zeros_like(accumulator, dtype=np.float32)\n",
    "                    \n",
    "                    # Avoid division by zero\n",
    "                    nonzero_mask = (weight_map > 0)\n",
    "                    final_mosaic[nonzero_mask] = accumulator[nonzero_mask] / weight_map[nonzero_mask]\n",
    "                    \n",
    "                    # Then, convert final mosaic to e.g. uint16 if desired\n",
    "                    mosaic = np.clip(final_mosaic, 0, 65535).astype(np.uint16)\n",
    "                    \n",
    "                    # now append that mosaic z slice to z slices stack, different if DPC\n",
    "                    if \"Phase Contrast\" in channel_slice_metadata['ChannelName'].iloc[0]:  \n",
    "                        # print(f\"Distributing DPC image across Z slices\")\n",
    "                        dpc_slice = mosaic / len(metadata['PositionZ'].unique())  \n",
    "                        z_slices = [mosaic] * len(metadata['PositionZ'].unique())  \n",
    "                        break  \n",
    "                    else:\n",
    "                        z_slices.append(mosaic)\n",
    "                    \n",
    "                #stack z slices into a channel volume\n",
    "                if len(z_slices) > 0:\n",
    "                    # channel_volume = np.max(z_slices, axis=0)\n",
    "                    channel_volume = np.stack(z_slices, axis=0)\n",
    "                    channel_volumes.append(channel_volume)\n",
    "            # stack the channel volume into a time volume\n",
    "            if len(channel_volumes) > 0:\n",
    "                image_volume_czyx = np.stack(channel_volumes, axis=0)  # C, Z, Y, X\n",
    "                time_volumes.append(image_volume_czyx)  # Store for this time point\n",
    "        # Stack all time points into a 5D array (T, C, Z, Y, X)\n",
    "        if len(time_volumes) > 0:\n",
    "            images = np.stack(time_volumes, axis=0)  # T, C, Z, Y, X\n",
    "            print(f\"Final image volume shape: {images.shape}\")\n",
    "\n",
    "        try:\n",
    "            zarr_output_dir = os.path.join(base_dir, f'acquisition/zarr/{acq_ID}.zarr')\n",
    "            dask_images = dask.array.from_array(images)\n",
    "            zarr_group = zarr.open(zarr_output_dir, mode='w')\n",
    "            dask.array.to_zarr(dask_images, zarr_output_dir, component='images')\n",
    "            print(f\"Saved Zarr array successfully to {zarr_output_dir}\")\n",
    "        except:\n",
    "            print(base_dir_ID, acq_ID, 'zarr output failed')\n",
    "\n",
    "    # --- Omero Metadata ---\n",
    "    omero_metadata = {}\n",
    "    average_time_difference_seconds = None\n",
    "\n",
    "    # Calculate temporal framerate based on unique, sorted TimepointIDs\n",
    "    if 'AbsTime' in metadata.columns and 'TimepointID' in metadata.columns:\n",
    "        try:\n",
    "            if not pd.api.types.is_datetime64_any_dtype(metadata['AbsTime']):\n",
    "                metadata['AbsTime'] = pd.to_datetime(metadata['AbsTime'], format='ISO8601', utc=True)\n",
    "\n",
    "            timepoint_abs_times = metadata[['TimepointID', 'AbsTime']].drop_duplicates(subset=['TimepointID']).sort_values(key=lambda x: pd.to_numeric(x, errors='ignore'), by='TimepointID')\n",
    "\n",
    "            if len(timepoint_abs_times['TimepointID'].unique()) > 1: # Check if there is a time series\n",
    "                # Calculate the time difference between consecutive timepoints in seconds\n",
    "                time_diffs = timepoint_abs_times['AbsTime'].diff().dt.total_seconds().dropna()\n",
    "\n",
    "                if not time_diffs.empty:\n",
    "                    # Calculate the average time difference in seconds\n",
    "                    average_time_difference_seconds = time_diffs.mean()\n",
    "                    if average_time_difference_seconds > 0:\n",
    "                        framerate = 1 / average_time_difference_seconds\n",
    "                        omero_metadata['frameRate'] = framerate\n",
    "                        print(f\"Calculated framerate: {framerate} frames per second\")\n",
    "                    else:\n",
    "                        print(\"Warning: Average time difference is zero or negative, cannot calculate framerate.\")\n",
    "                else:\n",
    "                    print(\"Warning: Could not calculate time differences for framerate.\")\n",
    "            else:\n",
    "                print(\"Warning: Less than two unique TimepointIDs found, skipping framerate calculation.\")\n",
    "\n",
    "        except Exception as e:\n",
    "            print(f\"Warning: An error occurred while calculating framerate: {e}\")\n",
    "    # Channels (rest of your channel metadata code remains the same)\n",
    "    channels_data = []\n",
    "    for index, row in metadata.drop_duplicates(subset=['ChannelID']).iterrows():\n",
    "        emission_wavelength_meters = None\n",
    "        excitation_wavelength_meters = None\n",
    "    \n",
    "        if pd.notna(row['MainEmissionWavelength']):\n",
    "            try:\n",
    "                emission_wavelength = float(row['MainEmissionWavelength'])\n",
    "                emission_wavelength_meters = emission_wavelength * 1e-9\n",
    "            except ValueError:\n",
    "                print(f\"Warning: Could not convert '{row['MainEmissionWavelength']}' to float for emission wavelength (Channel ID: {row['ChannelID']}). Setting to None.\")\n",
    "    \n",
    "        if pd.notna(row['MainExcitationWavelength']):\n",
    "            try:\n",
    "                excitation_wavelength = float(row['MainExcitationWavelength'])\n",
    "                excitation_wavelength_meters = excitation_wavelength * 1e-9\n",
    "            except ValueError:\n",
    "                print(f\"Warning: Could not convert '{row['MainExcitationWavelength']}' to float for excitation wavelength (Channel ID: {row['ChannelID']}). Setting to None.\")\n",
    "    \n",
    "        channel = {\n",
    "            \"id\": int(row['ChannelID']),\n",
    "            \"label\": row['ChannelName'],\n",
    "            \"emissionWaveMeters\": emission_wavelength_meters,\n",
    "            \"excitationWaveMeters\": excitation_wavelength_meters,\n",
    "            # Add other relevant channel metadata if available\n",
    "        }\n",
    "        channels_data.append(channel)\n",
    "    omero_metadata['channels'] = channels_data\n",
    "    \n",
    "    # Objective (rest of your objective metadata code remains the same)\n",
    "    objective_data = {}\n",
    "    if 'ObjectiveMagnification' in metadata.columns and pd.notna(metadata['ObjectiveMagnification'].iloc[0]):\n",
    "        try:\n",
    "            objective_data['magnification'] = float(metadata['ObjectiveMagnification'].iloc[0])\n",
    "        except ValueError:\n",
    "            print(f\"Warning: Could not convert '{metadata['ObjectiveMagnification'].iloc[0]}' to float for objective magnification. Skipping.\")\n",
    "    if 'ObjectiveNA' in metadata.columns and pd.notna(metadata['ObjectiveNA'].iloc[0]):\n",
    "        try:\n",
    "            objective_data['numericalAperture'] = float(metadata['ObjectiveNA'].iloc[0])\n",
    "        except ValueError:\n",
    "            print(f\"Warning: Could not convert '{metadata['ObjectiveNA'].iloc[0]}' to float for objective NA. Skipping.\")\n",
    "    if objective_data:\n",
    "        omero_metadata['objective'] = objective_data\n",
    "\n",
    "    # --- Multiscales Metadata ---\n",
    "    multiscales_data = [{\n",
    "        \"name\": \"images\",\n",
    "        \"datasets\": [],\n",
    "        \"axes\": [\n",
    "            {\"name\": \"t\", \"type\": \"time\", \"unit\": \"second\", \"spacing\": average_time_difference_seconds},\n",
    "            {\"name\": \"c\", \"type\": \"channel\"},\n",
    "            {\"name\": \"z\", \"type\": \"space\", \"unit\": \"meter\", \"spacing\": None},\n",
    "            {\"name\": \"y\", \"type\": \"space\", \"unit\": \"meter\", \"pixelResolution\": None},\n",
    "            {\"name\": \"x\", \"type\": \"space\", \"unit\": \"meter\", \"pixelResolution\": None}\n",
    "        ],\n",
    "        \"type\": \"image\",\n",
    "        \"version\": \"0.4\"\n",
    "    }]\n",
    "\n",
    "    # Iterate through your existing Zarr directories to populate datasets (remains the same)\n",
    "    zarr_root_dir = f'{base_dir}/acquisition/zarr/'\n",
    "    for filename in os.listdir(zarr_root_dir):\n",
    "        if filename.endswith('.zarr'):\n",
    "            position_name = filename.replace('.zarr', '')\n",
    "            multiscales_data[0]['datasets'].append({\"path\": f\"{filename}/images\"})\n",
    "\n",
    "    # Add Image resolution and size information (remains the same)\n",
    "    if 'ImageResolutionX' in metadata.columns and 'ImageResolutionY' in metadata.columns:\n",
    "        try:\n",
    "            resolution_x = float(metadata['ImageResolutionX'].iloc[0])\n",
    "            resolution_y = float(metadata['ImageResolutionY'].iloc[0])\n",
    "            multiscales_data[0]['axes'][3]['pixelResolution'] = resolution_y\n",
    "            multiscales_data[0]['axes'][4]['pixelResolution'] = resolution_x\n",
    "        except ValueError:\n",
    "            print(\"Warning: Could not convert ImageResolutionX or ImageResolutionY to float. Skipping resolution metadata.\")\n",
    "        except IndexError:\n",
    "            print(\"Warning: Could not set pixelResolution, check axes configuration.\")\n",
    "\n",
    "    if 'ImageSizeX' in metadata.columns and 'ImageSizeY' in metadata.columns:\n",
    "        try:\n",
    "            size_x = int(metadata['ImageSizeX'].iloc[0])\n",
    "            size_y = int(metadata['ImageSizeY'].iloc[0])\n",
    "        except ValueError:\n",
    "            print(\"Warning: Could not convert ImageSizeX or ImageSizeY to int. Skipping image size metadata.\")\n",
    "\n",
    "    # Calculate mode of differences between unique Z positions for pseudo z-resolution (remains the same)\n",
    "    if 'PositionZ' in metadata.columns:\n",
    "        try:\n",
    "            z_positions = metadata['PositionZ'].astype(float).unique()\n",
    "            z_positions_sorted = np.sort(z_positions)\n",
    "            if len(z_positions_sorted) > 1:\n",
    "                z_diffs = np.diff(z_positions_sorted)\n",
    "                mode_result = stats.mode(z_diffs)\n",
    "                if mode_result.count > 0:\n",
    "                    modal_z_diff = mode_result.mode\n",
    "                    multiscales_data[0]['axes'][2]['spacing'] = modal_z_diff # in meters\n",
    "                    multiscales_data[0]['axes'][2]['unit'] = \"meter\"\n",
    "                else:\n",
    "                    print(\"Warning: No unique mode found for z-position differences.\")\n",
    "            else:\n",
    "                print(\"Warning: Only one unique z position found, cannot calculate z difference mode.\")\n",
    "        except ValueError:\n",
    "            print(\"Warning: Could not process PositionZ values for z-resolution calculation.\")\n",
    "        except IndexError:\n",
    "            print(\"Warning: Could not set z spacing, check axes configuration.\")\n",
    "\n",
    "\n",
    "    # --- Combine Metadata and save ---\n",
    "    top_level_attrs = {\n",
    "        \"assay_layout\": assay_layout.to_dict(orient='index'),\n",
    "        \"omero\": omero_metadata,\n",
    "        \"multiscales\": multiscales_data,\n",
    "        \"version\": \"0.4\",\n",
    "    }\n",
    "\n",
    "    # Create the top-level Zarr group and save metadata\n",
    "    group = zarr.group(zarr_root_dir, overwrite=False)\n",
    "    group.attrs.put(top_level_attrs)\n",
    "\n",
    "    print(f\"OME-Zarr metadata and assay layout saved to: {zarr_root_dir}/.zattrs\")"
   ]
  },
  {
   "cell_type": "markdown",
   "id": "d657de83-8087-440f-83dc-0df8e83dc577",
   "metadata": {},
   "source": [
    "# redo this one: '/mnt/DATA3/BPP0050/BPP0050-1-Live-cell-to4i_Live-2__2025-04-10T18_45_48-Measurement 1/acquisition/Images/Index.idx.xml'\n",
    "\n",
    "Trying iterative/chunked save out"
   ]
  },
  {
   "cell_type": "code",
   "execution_count": 35,
   "id": "f769c2e4-3e85-45f2-aba1-9d1c6acd3de4",
   "metadata": {},
   "outputs": [],
   "source": [
    "from pathlib import Path\n",
    "import numcodecs\n"
   ]
  },
  {
   "cell_type": "code",
   "execution_count": null,
   "id": "e45fd0c0-78d7-44c7-9331-fdcb3d7a5093",
   "metadata": {},
   "outputs": [
    {
     "name": "stdout",
     "output_type": "stream",
     "text": [
      "Reading metadata XML file...\n"
     ]
    },
    {
     "data": {
      "application/vnd.jupyter.widget-view+json": {
       "model_id": "f7ad7b32f40e42369dca5125bee1f64b",
       "version_major": 2,
       "version_minor": 0
      },
      "text/plain": [
       "0it [00:00, ?it/s]"
      ]
     },
     "metadata": {},
     "output_type": "display_data"
    },
    {
     "name": "stdout",
     "output_type": "stream",
     "text": [
      "Extracting metadata complete!\n"
     ]
    },
    {
     "name": "stderr",
     "output_type": "stream",
     "text": [
      "/tmp/ipykernel_208248/2736082061.py:9: FutureWarning: errors='ignore' is deprecated and will raise in a future version. Use to_numeric without passing `errors` and catch exceptions explicitly instead\n",
      "  metadata = metadata.apply(pd.to_numeric, errors='ignore')\n"
     ]
    },
    {
     "name": "stdout",
     "output_type": "stream",
     "text": [
      "An unexpected error occurred during XML processing: \"['Row', 'Col'] not found in axis\"\n"
     ]
    },
    {
     "data": {
      "application/vnd.jupyter.widget-view+json": {
       "model_id": "41121df43cb042f5bacc26eb9997c040",
       "version_major": 2,
       "version_minor": 0
      },
      "text/plain": [
       "Now tiling in BPP0050-1-Live-cell-to4i_Live-2__2025-04-10T18_45_48-Measurement 1:   0%|          | 0/13 [00:00…"
      ]
     },
     "metadata": {},
     "output_type": "display_data"
    },
    {
     "name": "stdout",
     "output_type": "stream",
     "text": [
      "/mnt/DATA3/BPP0050/BPP0050-1-Live-cell-to4i_Live-2__2025-04-10T18_45_48-Measurement 1/acquisition/zarr/(3, 3).zarr already exists, skipping\n"
     ]
    },
    {
     "data": {
      "application/vnd.jupyter.widget-view+json": {
       "model_id": "7f19eb2bbea7498fa6418343f7544406",
       "version_major": 2,
       "version_minor": 0
      },
      "text/plain": [
       "Processing Time Points:   0%|          | 0/144 [00:00<?, ?it/s]"
      ]
     },
     "metadata": {},
     "output_type": "display_data"
    },
    {
     "data": {
      "application/vnd.jupyter.widget-view+json": {
       "model_id": "",
       "version_major": 2,
       "version_minor": 0
      },
      "text/plain": [
       "Processing Channels (T=0):   0%|          | 0/3 [00:00<?, ?it/s]"
      ]
     },
     "metadata": {},
     "output_type": "display_data"
    },
    {
     "name": "stdout",
     "output_type": "stream",
     "text": [
      "Timepoint ID 0 saved out\n"
     ]
    },
    {
     "data": {
      "application/vnd.jupyter.widget-view+json": {
       "model_id": "2efde837dabe49bcb0d5dc0f78422661",
       "version_major": 2,
       "version_minor": 0
      },
      "text/plain": [
       "Processing Channels (T=1):   0%|          | 0/3 [00:00<?, ?it/s]"
      ]
     },
     "metadata": {},
     "output_type": "display_data"
    }
   ],
   "source": [
    "base_dir =  '/mnt/DATA3/BPP0050/BPP0050-1-Live-cell-to4i_Live-2__2025-04-10T18_45_48-Measurement 1/'\n",
    "\n",
    "base_dir_ID = 'BPP0050-1-Live-cell-to4i_Live-2__2025-04-10T18_45_48-Measurement 1'\n",
    "\n",
    "metadata_fn = os.path.join(base_dir, 'acquisition/Images/Index.idx.xml')\n",
    "metadata = dataio.read_harmony_metadata(metadata_fn)  \n",
    "\n",
    "# Convert applicable columns to numeric values\n",
    "metadata = metadata.apply(pd.to_numeric, errors='ignore')\n",
    "# Invert Y coordinates (cathode ray tube adjustment)\n",
    "metadata['PositionY'] = -metadata['PositionY']\n",
    "\n",
    "# Find the minimum Z position for non-Phase Contrast channels\n",
    "min_z = metadata.loc[~metadata['ChannelName'].str.contains('Phase Contrast', case=False, na=False), 'PositionZ'].min()\n",
    "\n",
    "# Assign this minimum Z value to all \"Phase Contrast\" channels\n",
    "metadata.loc[metadata['ChannelName'].str.contains('Phase Contrast', case=False, na=False), 'PositionZ'] = min_z\n",
    "\n",
    "image_dir = os.path.join(base_dir, 'acquisition/Images/')\n",
    "# use the metadata for the rows cols as the assay layout can be the same for multiple acquisitions, encompassing multiple layouts\n",
    "rows_cols = metadata[['Row', 'Col']].drop_duplicates().values\n",
    "\n",
    "assay_layout_fn = glob.glob(os.path.join(base_dir, 'acquisition/Assaylayout/*.xml'))[0]\n",
    "assay_layout = load_assay_layout(assay_layout_fn)\n",
    "\n",
    "\n",
    "\n",
    "\n",
    "for row_col in tqdm(rows_cols, desc=f'Now tiling in {base_dir_ID}', total = len(rows_cols)):\n",
    "    row, column = int(row_col[0]), int(row_col[1])\n",
    "    col = column\n",
    "    acq_ID = row, column\n",
    "\n",
    "    # Filter metadata for the current row and column (include all time points)\n",
    "    position_metadata = metadata[(metadata['Row'] == row) & (metadata['Col'] == column)]\n",
    "    # Get unique time points\n",
    "    timepoint_ids = sorted(position_metadata['TimepointID'].unique())\n",
    "    # Initialize a list to store time-lapse volumes\n",
    "    time_volumes = []\n",
    "    \n",
    "    # Define Zarr output path\n",
    "    zarr_output_dir = Path(base_dir) / f\"acquisition/zarr/{acq_ID}.zarr\"\n",
    "\n",
    "    if os.path.exists(zarr_output_dir):\n",
    "        print(zarr_output_dir, 'already exists, skipping')\n",
    "        continue\n",
    "\n",
    "    # Create root Zarr group\n",
    "    root = zarr.open_group(zarr_output_dir, mode='w')\n",
    "\n",
    "    T = len(position_metadata['TimepointID'].unique())\n",
    "    C = len(position_metadata['ChannelID'].unique())\n",
    "    Z = len(position_metadata['PlaneID'].unique())\n",
    "    Y = int((position_metadata['PositionY'].max() - position_metadata['PositionY'].min()) / position_metadata['ImageResolutionY'].iloc[0]) + position_metadata['ImageSizeY'].iloc[0]\n",
    "    X = int((position_metadata['PositionX'].max() - position_metadata['PositionX'].min()) / position_metadata['ImageResolutionX'].iloc[0]) + position_metadata['ImageSizeX'].iloc[0]\n",
    "    \n",
    "    zarr_array = root.create_dataset(\n",
    "        name=\"images\",\n",
    "        shape=(T, C, Z, Y, X),\n",
    "        chunks=(1, C, Z, Y, X),  # Chunk along T for sequential write\n",
    "        dtype='uint16',\n",
    "        compressor=numcodecs.Blosc(cname='zstd', clevel=5, shuffle=numcodecs.Blosc.BITSHUFFLE)\n",
    "    )    \n",
    "\n",
    "\n",
    "    sample_tile_id =  position_metadata.iloc[0]\n",
    "    # Iterate over each time point\n",
    "    for timepoint_id in tqdm(timepoint_ids, desc=\"Processing Time Points\", leave=True, position=1):\n",
    "        # Filter metadata for the current time point\n",
    "        time_metadata = position_metadata[position_metadata['TimepointID'] == timepoint_id]\n",
    "        # Get unique Channel\n",
    "        channel_ids = sorted(time_metadata['ChannelID'].unique())\n",
    "        # Initialize a list to hold each channel's Z-stack for this time point\n",
    "        channel_volumes = []\n",
    "        # Iterate over each channel\n",
    "        for channel_id in tqdm(channel_ids, desc=f\"Processing Channels (T={timepoint_id})\", leave=False, position=2):\n",
    "            # get specific channel metadata\n",
    "            channel_slice_metadata = time_metadata[time_metadata['ChannelID'] == channel_id]\n",
    "            # get z positions for this channel\n",
    "            z_ids = sorted(channel_slice_metadata['PositionZ'].unique())\n",
    "            # init a list to hold z slices\n",
    "            z_slices = []\n",
    "            # Iterate over Z positions\n",
    "            for z_id in z_ids:#tqdm(z_positions, desc=\"Processing Z-slices\", leave=False, position=3):\n",
    "                # get specific z slice metadata\n",
    "                z_slice_metadata = channel_slice_metadata[channel_slice_metadata['PositionZ'] == z_id]\n",
    "                # Initialize mosaic_slice if needed, ie for the first image to be placed in the blank slate\n",
    "                mosaic_size_x = int((z_slice_metadata['PositionX'].max() - z_slice_metadata['PositionX'].min()) / sample_tile_id['ImageResolutionX']) + sample_tile_id['ImageSizeX']\n",
    "                mosaic_size_y = int((z_slice_metadata['PositionY'].max() - z_slice_metadata['PositionY'].min()) / sample_tile_id['ImageResolutionY']) + sample_tile_id['ImageSizeY']\n",
    "                # For each position, create a large mosaic (accumulator & weight)\n",
    "                # Suppose mosaic_size_y, mosaic_size_x is the total bounding box in Y and X.\n",
    "                accumulator = np.zeros((mosaic_size_y, mosaic_size_x), dtype=np.float32)\n",
    "                weight_map  = np.zeros((mosaic_size_y, mosaic_size_x), dtype=np.float32)\n",
    "                \n",
    "                for tile_index, tile_id in z_slice_metadata.iterrows():\n",
    "                    # load the tile\n",
    "                    img_path = os.path.join(image_dir, tile_id['URL'])\n",
    "                    try:\n",
    "                        tile = imread(img_path).astype(np.float32)\n",
    "                    except FileNotFoundError:\n",
    "                        tile = np.zeros((tile_id['ImageSizeY'], tile_id['ImageSizeX']), dtype=np.float32)\n",
    "                \n",
    "                    # create alpha mask for this tile's shape\n",
    "                    alpha_mask = create_alpha_mask(tile.shape[0], tile.shape[1], feather=0.1)\n",
    "                \n",
    "                    # figure out where to place this tile in the mosaic\n",
    "                    x_pixel = int((tile_id['PositionX'] - z_slice_metadata['PositionX'].min()) / tile_id['ImageResolutionX'])\n",
    "                    y_pixel = int((tile_id['PositionY'] - z_slice_metadata['PositionY'].min()) / tile_id['ImageResolutionY'])\n",
    "                \n",
    "                    # add into the accumulator & weight\n",
    "                    # We slice out the region in the mosaic that corresponds to this tile\n",
    "                    acc_slice = accumulator[y_pixel:y_pixel+tile.shape[0], x_pixel:x_pixel+tile.shape[1]]\n",
    "                    wgt_slice = weight_map[y_pixel:y_pixel+tile.shape[0], x_pixel:x_pixel+tile.shape[1]]\n",
    "                \n",
    "                    acc_slice += tile * alpha_mask\n",
    "                    wgt_slice += alpha_mask\n",
    "                \n",
    "                # AFTER all tiles are placed:\n",
    "                final_mosaic = np.zeros_like(accumulator, dtype=np.float32)\n",
    "                \n",
    "                # Avoid division by zero\n",
    "                nonzero_mask = (weight_map > 0)\n",
    "                final_mosaic[nonzero_mask] = accumulator[nonzero_mask] / weight_map[nonzero_mask]\n",
    "                \n",
    "                # Then, convert final mosaic to e.g. uint16 if desired\n",
    "                mosaic = np.clip(final_mosaic, 0, 65535).astype(np.uint16)\n",
    "                \n",
    "                # now append that mosaic z slice to z slices stack, different if DPC\n",
    "                if \"Phase Contrast\" in channel_slice_metadata['ChannelName'].iloc[0]:  \n",
    "                    # print(f\"Distributing DPC image across Z slices\")\n",
    "                    dpc_slice = mosaic / len(metadata['PositionZ'].unique())  \n",
    "                    z_slices = [mosaic] * len(metadata['PositionZ'].unique())  \n",
    "                    break  \n",
    "                else:\n",
    "                    z_slices.append(mosaic)\n",
    "                \n",
    "            #stack z slices into a channel volume\n",
    "            if len(z_slices) > 0:\n",
    "                # channel_volume = np.max(z_slices, axis=0)\n",
    "                channel_volume = np.stack(z_slices, axis=0)\n",
    "                channel_volumes.append(channel_volume)\n",
    "        # stack the channel volume into a time volume\n",
    "        if len(channel_volumes) > 0:\n",
    "            image_volume_czyx = np.stack(channel_volumes, axis=0)  # C, Z, Y, X\n",
    "            # time_volumes.append(image_volume_czyx)  # Store for this time point\n",
    "            zarr_array[timepoint_id] = image_volume_czyx  # write to zarr on the fly\n",
    "            print(f'Timepoint ID {timepoint_id} saved out')\n",
    "    # # Stack all time points into a 5D array (T, C, Z, Y, X)\n",
    "    # if len(time_volumes) > 0:\n",
    "    #     images = np.stack(time_volumes, axis=0)  # T, C, Z, Y, X\n",
    "    #     print(f\"Final image volume shape: {images.shape}\")\n",
    "    # !notify-send \"Jupyter Notebook\" \"Your process has completed successfully!\"\n",
    "    \n",
    "    # try:\n",
    "    #     dask_images = dask.array.from_array(images)\n",
    "    #     zarr_group = zarr.open(zarr_output_dir, mode='w')\n",
    "    #     dask.array.to_zarr(dask_images, zarr_output_dir, component='images')\n",
    "    #     print(f\"Saved Zarr array successfully to {zarr_output_dir}\")\n",
    "    # except:\n",
    "    #     print(base_dir_ID, acq_ID, 'zarr output failed')\n"
   ]
  }
 ],
 "metadata": {
  "kernelspec": {
   "display_name": "godspeed",
   "language": "python",
   "name": "godspeed"
  },
  "language_info": {
   "codemirror_mode": {
    "name": "ipython",
    "version": 3
   },
   "file_extension": ".py",
   "mimetype": "text/x-python",
   "name": "python",
   "nbconvert_exporter": "python",
   "pygments_lexer": "ipython3",
   "version": "3.10.13"
  }
 },
 "nbformat": 4,
 "nbformat_minor": 5
}
