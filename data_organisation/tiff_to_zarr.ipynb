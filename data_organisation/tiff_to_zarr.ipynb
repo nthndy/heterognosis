{
 "cells": [
  {
   "cell_type": "markdown",
   "id": "0f386625-438a-4e1a-b696-d39ce1c852a7",
   "metadata": {},
   "source": [
    "# Zarr Tiling \n",
    "\n",
    "Notebook for taking Opera Phenix tiff output and tiling the images together into zarr mosaics with metadata attribute, specifically for the heterognosis project"
   ]
  },
  {
   "cell_type": "code",
   "execution_count": 1,
   "id": "adae0225-5c8b-42da-b76a-2af579102fbc",
   "metadata": {},
   "outputs": [],
   "source": [
    "import os\n",
    "import glob\n",
    "import pandas as pd\n",
    "import numpy as np\n",
    "import zarr\n",
    "import dask.array\n",
    "from scipy import stats\n",
    "import xml.etree.ElementTree as ET\n",
    "from tqdm.auto import tqdm \n",
    "from skimage.io import imread\n",
    "from macrohet import dataio \n",
    "\n",
    "\n",
    "def create_alpha_mask(height, width, feather=0.1):\n",
    "    \"\"\"\n",
    "    Create a 2D alpha mask of shape (height, width).\n",
    "    The mask is 1 in the interior, and over the last `feather` pixels\n",
    "    near each edge, it linearly ramps down to 0.\n",
    "    feather is a fraction of image i.e. a float percentage.\n",
    "    This is the core function that enables smooth image tiling \n",
    "    without dramatic cropping of cell morphology.\n",
    "    \"\"\"\n",
    "    # Coordinates\n",
    "    y = np.arange(height)\n",
    "    x = np.arange(width)\n",
    "\n",
    "    feather_pixels = feather * min(height, width)\n",
    "    \n",
    "    # Distance from left and right edges\n",
    "    dist_x_left  = x\n",
    "    dist_x_right = (width - 1) - x\n",
    "    # Distance from top and bottom edges\n",
    "    dist_y_top    = y\n",
    "    dist_y_bottom = (height - 1) - y\n",
    "    \n",
    "    # For each row, figure out the \"vertical\" ramp factor from top/bottom\n",
    "    # We'll make an array that is the min distance to top or bottom.\n",
    "    ramp_y = np.minimum(dist_y_top, dist_y_bottom)\n",
    "    # For each column, min distance to left or right\n",
    "    ramp_x = np.minimum(dist_x_left, dist_x_right)\n",
    "    \n",
    "    # Combine to get a 2D \"distance from any edge\"\n",
    "    # We can broadcast ramp_y over columns, ramp_x over rows\n",
    "    dist_from_edge = np.minimum(\n",
    "        ramp_y[:, None],\n",
    "        ramp_x[None, :]\n",
    "    )\n",
    "    \n",
    "    # Turn that distance into an alpha that goes from 0 to 1 linearly\n",
    "    # from the very edge to `feather` pixels in.\n",
    "    # If dist_from_edge >= feather, alpha=1. If dist < 0, alpha=0, etc.\n",
    "    alpha = np.clip(dist_from_edge / feather_pixels, 0, 1)\n",
    "    \n",
    "    return alpha\n",
    "\n",
    "\n",
    "def load_assay_layout(xml_file_name):\n",
    "    \"\"\"\n",
    "    Loads and parses an assay layout XML file into a pandas DataFrame with a 'position' index.\n",
    "\n",
    "    Args:\n",
    "        xml_file_name (str): The full path to the assay layout XML file.\n",
    "\n",
    "    Returns:\n",
    "        pandas.DataFrame: A DataFrame containing the assay layout information,\n",
    "                          with a 'position' column as index and each layer as a column.\n",
    "                          Returns an empty DataFrame if the file is not found or parsing fails.\n",
    "    \"\"\"\n",
    "    df_assay_layout = pd.DataFrame()\n",
    "\n",
    "    if not os.path.exists(xml_file_name):\n",
    "        print(f\"Error: The file '{xml_file_name}' was not found.\")\n",
    "    else:\n",
    "        try:\n",
    "            tree = ET.parse(xml_file_name)\n",
    "            root = tree.getroot()\n",
    "            namespaces = {'ns': 'http://www.perkinelmer.com/PEHH/HarmonyV5'}\n",
    "            plate_data = {}\n",
    "\n",
    "            for layer in root.findall('ns:Layer', namespaces):\n",
    "                layer_name_element = layer.find('ns:Name', namespaces)\n",
    "                if layer_name_element is None or layer_name_element.text is None:\n",
    "                    print(\"Warning: Found a layer without a name. Skipping this layer.\")\n",
    "                    continue\n",
    "                layer_name = layer_name_element.text.strip()\n",
    "\n",
    "                for well in layer.findall('ns:Well', namespaces):\n",
    "                    row_element = well.find('ns:Row', namespaces)\n",
    "                    col_element = well.find('ns:Col', namespaces)\n",
    "                    value_element = well.find('ns:Value', namespaces)\n",
    "\n",
    "                    if row_element is None or row_element.text is None or \\\n",
    "                       col_element is None or col_element.text is None:\n",
    "                        print(f\"Warning: Found a well in layer '{layer_name}' without row or col. Skipping this well.\")\n",
    "                        continue\n",
    "\n",
    "                    try:\n",
    "                        row = int(row_element.text.strip())\n",
    "                        col = int(col_element.text.strip())\n",
    "                    except ValueError:\n",
    "                        print(f\"Warning: Could not parse row/col as integers for a well in layer '{layer_name}'. Skipping this well.\")\n",
    "                        continue\n",
    "\n",
    "                    value = value_element.text.strip() if value_element is not None and value_element.text is not None else pd.NA\n",
    "                    well_key = (row, col)\n",
    "                    if well_key not in plate_data:\n",
    "                        plate_data[well_key] = {}\n",
    "                    plate_data[well_key][layer_name] = value\n",
    "\n",
    "            if plate_data:\n",
    "                df_assay_layout = pd.DataFrame.from_dict(plate_data, orient='index')\n",
    "                df_assay_layout.index.names = ['Row', 'Col']\n",
    "                df_assay_layout = df_assay_layout.sort_index()\n",
    "                df_assay_layout = df_assay_layout.dropna(how='all')\n",
    "\n",
    "                # Create a new 'position' column\n",
    "                df_assay_layout['position'] = df_assay_layout.index.map(lambda rc: f\"({rc[0]}, {rc[1]})\")\n",
    "                # Set 'position' as the new index\n",
    "                df_assay_layout = df_assay_layout.set_index('position')\n",
    "                df_assay_layout = df_assay_layout.drop(columns=['Row', 'Col']) # Drop the old index columns\n",
    "\n",
    "            else:\n",
    "                print(\"No data was extracted from the XML file to populate the DataFrame.\")\n",
    "\n",
    "        except ET.ParseError as e:\n",
    "            print(f\"Error parsing XML file '{xml_file_name}': {e}\")\n",
    "        except FileNotFoundError:\n",
    "            print(f\"Error: The file '{xml_file_name}' was not found.\")\n",
    "        except Exception as e:\n",
    "            print(f\"An unexpected error occurred during XML processing: {e}\")\n",
    "\n",
    "    return df_assay_layout\n"
   ]
  },
  {
   "cell_type": "markdown",
   "id": "3238f01f-4ae2-48df-ac49-fa69a691b9c7",
   "metadata": {},
   "source": [
    "### Add acquisition subdirectories\n",
    "\n",
    "This is where all the imagery will be kept"
   ]
  },
  {
   "cell_type": "code",
   "execution_count": null,
   "id": "aa93e011-c91e-4854-9031-2de325ce2820",
   "metadata": {},
   "outputs": [],
   "source": [
    "base_dir = '/mnt/DATA3/BPP0050/'\n",
    "parent_directories = glob.glob(os.path.join(base_dir, '*/'))\n",
    "\n",
    "# Define the name of the new subdirectory for acquisitions\n",
    "ACQUISITIONS_DIR_NAME = \"acquisition\"\n",
    "\n",
    "print(f\"Starting to organize subdirectories into '{ACQUISITIONS_DIR_NAME}'...\")\n",
    "\n",
    "for parent_dir in parent_directories:\n",
    "    # Ensure the parent directory path is clean and exists\n",
    "    parent_dir = os.path.normpath(parent_dir)\n",
    "    if not os.path.isdir(parent_dir):\n",
    "        print(f\"Warning: Parent directory not found, skipping: {parent_dir}\")\n",
    "        continue\n",
    "\n",
    "    # Construct the path for the new 'acquisitions' subdirectory\n",
    "    acquisitions_path = os.path.join(parent_dir, ACQUISITIONS_DIR_NAME)\n",
    "\n",
    "    # Create the 'acquisitions' subdirectory if it doesn't exist\n",
    "    try:\n",
    "        os.makedirs(acquisitions_path, exist_ok=True)\n",
    "        print(f\"Ensured '{acquisitions_path}' exists.\")\n",
    "    except OSError as e:\n",
    "        print(f\"Error creating '{acquisitions_path}': {e}\")\n",
    "        continue # Skip to the next parent directory if creation fails\n",
    "\n",
    "    # List all entries in the parent directory\n",
    "    # Filter for actual directories, excluding the 'acquisitions' directory itself\n",
    "    items_in_parent_dir = [\n",
    "        d for d in os.listdir(parent_dir)\n",
    "        if os.path.isdir(os.path.join(parent_dir, d)) and d != ACQUISITIONS_DIR_NAME\n",
    "    ]\n",
    "\n",
    "    if not items_in_parent_dir:\n",
    "        print(f\"No subdirectories found to move in: {parent_dir}\")\n",
    "        continue\n",
    "\n",
    "    print(f\"Processing parent directory: {parent_dir}\")\n",
    "    for subdir_name in items_in_parent_dir:\n",
    "        source_path = os.path.join(parent_dir, subdir_name)\n",
    "        destination_path = os.path.join(acquisitions_path, subdir_name)\n",
    "\n",
    "        try:\n",
    "            # Move the subdirectory\n",
    "            shutil.move(source_path, destination_path)\n",
    "            print(f\"  Moved '{source_path}' to '{destination_path}'\")\n",
    "        except shutil.Error as e:\n",
    "            print(f\"  Error moving '{source_path}': {e}\")\n",
    "        except Exception as e:\n",
    "            print(f\"  An unexpected error occurred while moving '{source_path}': {e}\")\n",
    "\n",
    "print(\"Script finished.\")"
   ]
  },
  {
   "cell_type": "markdown",
   "id": "b18bcaa1-7b7b-4632-b4f7-09726eed5786",
   "metadata": {},
   "source": [
    "# Tile, add metadata and save out "
   ]
  },
  {
   "cell_type": "code",
   "execution_count": 2,
   "id": "56ae1b72-5a0c-4638-990c-1d6cff78eb64",
   "metadata": {},
   "outputs": [
    {
     "data": {
      "text/plain": [
       "['/mnt/DATA3/BPP0050/BPP0050-1-Live-cell-to4i_Fixed_Cy5__2025-04-18T16_38_51-Measurement 1/',\n",
       " '/mnt/DATA3/BPP0050/BPP0050-1-Live-cell-to4i_Fixed_Cy8__2025-04-21T16_49_44-Measurement 1/',\n",
       " '/mnt/DATA3/BPP0050/BPP0050-1-Live-cell-to4i_Fixed_Cy10__2025-04-23T15_45_30-Measurement 1/',\n",
       " '/mnt/DATA3/BPP0050/BPP0050-1-Live-cell-to4i_Fixed_Cy2__2025-04-15T16_42_33-Measurement 3/',\n",
       " '/mnt/DATA3/BPP0050/BPP0050-1-Live-cell-to4i_Fixed_Cy4__2025-04-17T16_24_52-Measurement 1/',\n",
       " '/mnt/DATA3/BPP0050/multiplexed/',\n",
       " '/mnt/DATA3/BPP0050/BPP0050-1-Live-cell-to4i_Live-1__2025-04-09T18_25_04-Measurement 1/',\n",
       " '/mnt/DATA3/BPP0050/BPP0050-1-Live-cell-to4i_Live-2__2025-04-10T18_45_48-Measurement 1/',\n",
       " '/mnt/DATA3/BPP0050/BPP0050-1-Live-cell-to4i_Fixed_Cy7__2025-04-20T16_03_17-Measurement 1/',\n",
       " '/mnt/DATA3/BPP0050/BPP0050-1-Live-cell-to4i_Fixed_Cy17__2025-04-30T18_09_02-Measurement 1/',\n",
       " '/mnt/DATA3/BPP0050/BPP0050-1-Live-cell-to4i_Fixed_Cy13__2025-04-26T16_33_47-Measurement 1/',\n",
       " '/mnt/DATA3/BPP0050/BPP0050-1-Live-cell-to4i_Fixed_Cy6__2025-04-19T16_14_26-Measurement 1/',\n",
       " '/mnt/DATA3/BPP0050/BPP0050-1-Live-cell-to4i_Fixed_Cy9__2025-04-22T18_25_01-Measurement 1/',\n",
       " '/mnt/DATA3/BPP0050/BPP0050-1-Live-cell-to4i_Fixed_Cy1-2__2025-04-14T18_24_32-Measurement 1/',\n",
       " '/mnt/DATA3/BPP0050/BPP0050-1-Live-cell-to4i_Fixed_Cy15__2025-04-28T16_14_55-Measurement 1/',\n",
       " '/mnt/DATA3/BPP0050/BPP0050-1-Live-cell-to4i_Fixed_Cy16__2025-04-29T15_39_50-Measurement 1/',\n",
       " '/mnt/DATA3/BPP0050/BPP0050-1-Live-cell-to4i_Fixed_Cy1__2025-04-14T16_57_11-Measurement 1/',\n",
       " '/mnt/DATA3/BPP0050/BPP0050-1-Live-cell-to4i_Fixed_Cy12__2025-04-25T15_48_30-Measurement 1/',\n",
       " '/mnt/DATA3/BPP0050/BPP0050-1-Live-cell-to4i_Fixed_Cy3__2025-04-16T16_15_21-Measurement 1/',\n",
       " '/mnt/DATA3/BPP0050/BPP0050-1-Live-cell-to4i_Fixed_Cy11__2025-04-24T16_08_42-Measurement 1/',\n",
       " '/mnt/DATA3/BPP0050/BPP0050-1-Live-cell-to4i_Fixed_Cy14__2025-04-27T15_20_15-Measurement 1/']"
      ]
     },
     "execution_count": 2,
     "metadata": {},
     "output_type": "execute_result"
    }
   ],
   "source": [
    "base_dir = '/mnt/DATA3/BPP0050/'\n",
    "base_dirs = glob.glob(os.path.join(base_dir, '*/'))\n",
    "base_dirs"
   ]
  },
  {
   "cell_type": "code",
   "execution_count": null,
   "id": "b99c47cd-497e-4732-9588-6dcc68d0ee16",
   "metadata": {
    "scrolled": true
   },
   "outputs": [
    {
     "data": {
      "application/vnd.jupyter.widget-view+json": {
       "model_id": "b3811d5e9da24fcd9cd9d4f2e6e20244",
       "version_major": 2,
       "version_minor": 0
      },
      "text/plain": [
       "  0%|          | 0/21 [00:00<?, ?it/s]"
      ]
     },
     "metadata": {},
     "output_type": "display_data"
    },
    {
     "name": "stdout",
     "output_type": "stream",
     "text": [
      "skipping completed BPP0050-1-Live-cell-to4i_Fixed_Cy5__2025-04-18T16_38_51-Measurement 1\n",
      "skipping completed BPP0050-1-Live-cell-to4i_Fixed_Cy8__2025-04-21T16_49_44-Measurement 1\n",
      "skipping completed BPP0050-1-Live-cell-to4i_Fixed_Cy10__2025-04-23T15_45_30-Measurement 1\n",
      "skipping completed BPP0050-1-Live-cell-to4i_Fixed_Cy2__2025-04-15T16_42_33-Measurement 3\n",
      "skipping completed BPP0050-1-Live-cell-to4i_Fixed_Cy4__2025-04-17T16_24_52-Measurement 1\n",
      "skipping completed multiplexed\n",
      "skipping completed BPP0050-1-Live-cell-to4i_Live-1__2025-04-09T18_25_04-Measurement 1\n",
      "Reading metadata XML file...\n"
     ]
    },
    {
     "data": {
      "application/vnd.jupyter.widget-view+json": {
       "model_id": "683a6d9c56da4582a33ad2c391368ce7",
       "version_major": 2,
       "version_minor": 0
      },
      "text/plain": [
       "0it [00:00, ?it/s]"
      ]
     },
     "metadata": {},
     "output_type": "display_data"
    },
    {
     "name": "stdout",
     "output_type": "stream",
     "text": [
      "Extracting metadata complete!\n"
     ]
    },
    {
     "name": "stderr",
     "output_type": "stream",
     "text": [
      "/tmp/ipykernel_95196/2933064589.py:12: FutureWarning: errors='ignore' is deprecated and will raise in a future version. Use to_numeric without passing `errors` and catch exceptions explicitly instead\n",
      "  metadata = metadata.apply(pd.to_numeric, errors='ignore')\n"
     ]
    },
    {
     "name": "stdout",
     "output_type": "stream",
     "text": [
      "An unexpected error occurred during XML processing: \"['Row', 'Col'] not found in axis\"\n"
     ]
    },
    {
     "data": {
      "application/vnd.jupyter.widget-view+json": {
       "model_id": "bba19ac962cf4f8a9c659dea4ae1ad34",
       "version_major": 2,
       "version_minor": 0
      },
      "text/plain": [
       "Now tiling in BPP0050-1-Live-cell-to4i_Live-2__2025-04-10T18_45_48-Measurement 1:   0%|          | 0/13 [00:00…"
      ]
     },
     "metadata": {},
     "output_type": "display_data"
    },
    {
     "data": {
      "application/vnd.jupyter.widget-view+json": {
       "model_id": "709cff0b022e4038a8b6259dc363a388",
       "version_major": 2,
       "version_minor": 0
      },
      "text/plain": [
       "Processing Time Points:   0%|          | 0/144 [00:00<?, ?it/s]"
      ]
     },
     "metadata": {},
     "output_type": "display_data"
    },
    {
     "data": {
      "application/vnd.jupyter.widget-view+json": {
       "model_id": "",
       "version_major": 2,
       "version_minor": 0
      },
      "text/plain": [
       "Processing Channels (T=0):   0%|          | 0/3 [00:00<?, ?it/s]"
      ]
     },
     "metadata": {},
     "output_type": "display_data"
    },
    {
     "data": {
      "application/vnd.jupyter.widget-view+json": {
       "model_id": "",
       "version_major": 2,
       "version_minor": 0
      },
      "text/plain": [
       "Processing Channels (T=1):   0%|          | 0/3 [00:00<?, ?it/s]"
      ]
     },
     "metadata": {},
     "output_type": "display_data"
    },
    {
     "data": {
      "application/vnd.jupyter.widget-view+json": {
       "model_id": "",
       "version_major": 2,
       "version_minor": 0
      },
      "text/plain": [
       "Processing Channels (T=2):   0%|          | 0/3 [00:00<?, ?it/s]"
      ]
     },
     "metadata": {},
     "output_type": "display_data"
    },
    {
     "data": {
      "application/vnd.jupyter.widget-view+json": {
       "model_id": "",
       "version_major": 2,
       "version_minor": 0
      },
      "text/plain": [
       "Processing Channels (T=3):   0%|          | 0/3 [00:00<?, ?it/s]"
      ]
     },
     "metadata": {},
     "output_type": "display_data"
    },
    {
     "data": {
      "application/vnd.jupyter.widget-view+json": {
       "model_id": "",
       "version_major": 2,
       "version_minor": 0
      },
      "text/plain": [
       "Processing Channels (T=4):   0%|          | 0/3 [00:00<?, ?it/s]"
      ]
     },
     "metadata": {},
     "output_type": "display_data"
    },
    {
     "data": {
      "application/vnd.jupyter.widget-view+json": {
       "model_id": "",
       "version_major": 2,
       "version_minor": 0
      },
      "text/plain": [
       "Processing Channels (T=5):   0%|          | 0/3 [00:00<?, ?it/s]"
      ]
     },
     "metadata": {},
     "output_type": "display_data"
    },
    {
     "data": {
      "application/vnd.jupyter.widget-view+json": {
       "model_id": "",
       "version_major": 2,
       "version_minor": 0
      },
      "text/plain": [
       "Processing Channels (T=6):   0%|          | 0/3 [00:00<?, ?it/s]"
      ]
     },
     "metadata": {},
     "output_type": "display_data"
    },
    {
     "data": {
      "application/vnd.jupyter.widget-view+json": {
       "model_id": "",
       "version_major": 2,
       "version_minor": 0
      },
      "text/plain": [
       "Processing Channels (T=7):   0%|          | 0/3 [00:00<?, ?it/s]"
      ]
     },
     "metadata": {},
     "output_type": "display_data"
    },
    {
     "data": {
      "application/vnd.jupyter.widget-view+json": {
       "model_id": "",
       "version_major": 2,
       "version_minor": 0
      },
      "text/plain": [
       "Processing Channels (T=8):   0%|          | 0/3 [00:00<?, ?it/s]"
      ]
     },
     "metadata": {},
     "output_type": "display_data"
    },
    {
     "data": {
      "application/vnd.jupyter.widget-view+json": {
       "model_id": "",
       "version_major": 2,
       "version_minor": 0
      },
      "text/plain": [
       "Processing Channels (T=9):   0%|          | 0/3 [00:00<?, ?it/s]"
      ]
     },
     "metadata": {},
     "output_type": "display_data"
    },
    {
     "data": {
      "application/vnd.jupyter.widget-view+json": {
       "model_id": "",
       "version_major": 2,
       "version_minor": 0
      },
      "text/plain": [
       "Processing Channels (T=10):   0%|          | 0/3 [00:00<?, ?it/s]"
      ]
     },
     "metadata": {},
     "output_type": "display_data"
    },
    {
     "data": {
      "application/vnd.jupyter.widget-view+json": {
       "model_id": "",
       "version_major": 2,
       "version_minor": 0
      },
      "text/plain": [
       "Processing Channels (T=11):   0%|          | 0/3 [00:00<?, ?it/s]"
      ]
     },
     "metadata": {},
     "output_type": "display_data"
    },
    {
     "data": {
      "application/vnd.jupyter.widget-view+json": {
       "model_id": "",
       "version_major": 2,
       "version_minor": 0
      },
      "text/plain": [
       "Processing Channels (T=12):   0%|          | 0/3 [00:00<?, ?it/s]"
      ]
     },
     "metadata": {},
     "output_type": "display_data"
    },
    {
     "data": {
      "application/vnd.jupyter.widget-view+json": {
       "model_id": "",
       "version_major": 2,
       "version_minor": 0
      },
      "text/plain": [
       "Processing Channels (T=13):   0%|          | 0/3 [00:00<?, ?it/s]"
      ]
     },
     "metadata": {},
     "output_type": "display_data"
    },
    {
     "data": {
      "application/vnd.jupyter.widget-view+json": {
       "model_id": "",
       "version_major": 2,
       "version_minor": 0
      },
      "text/plain": [
       "Processing Channels (T=14):   0%|          | 0/3 [00:00<?, ?it/s]"
      ]
     },
     "metadata": {},
     "output_type": "display_data"
    },
    {
     "data": {
      "application/vnd.jupyter.widget-view+json": {
       "model_id": "",
       "version_major": 2,
       "version_minor": 0
      },
      "text/plain": [
       "Processing Channels (T=15):   0%|          | 0/3 [00:00<?, ?it/s]"
      ]
     },
     "metadata": {},
     "output_type": "display_data"
    },
    {
     "data": {
      "application/vnd.jupyter.widget-view+json": {
       "model_id": "",
       "version_major": 2,
       "version_minor": 0
      },
      "text/plain": [
       "Processing Channels (T=16):   0%|          | 0/3 [00:00<?, ?it/s]"
      ]
     },
     "metadata": {},
     "output_type": "display_data"
    },
    {
     "data": {
      "application/vnd.jupyter.widget-view+json": {
       "model_id": "",
       "version_major": 2,
       "version_minor": 0
      },
      "text/plain": [
       "Processing Channels (T=17):   0%|          | 0/3 [00:00<?, ?it/s]"
      ]
     },
     "metadata": {},
     "output_type": "display_data"
    },
    {
     "data": {
      "application/vnd.jupyter.widget-view+json": {
       "model_id": "",
       "version_major": 2,
       "version_minor": 0
      },
      "text/plain": [
       "Processing Channels (T=18):   0%|          | 0/3 [00:00<?, ?it/s]"
      ]
     },
     "metadata": {},
     "output_type": "display_data"
    },
    {
     "data": {
      "application/vnd.jupyter.widget-view+json": {
       "model_id": "",
       "version_major": 2,
       "version_minor": 0
      },
      "text/plain": [
       "Processing Channels (T=19):   0%|          | 0/3 [00:00<?, ?it/s]"
      ]
     },
     "metadata": {},
     "output_type": "display_data"
    },
    {
     "data": {
      "application/vnd.jupyter.widget-view+json": {
       "model_id": "",
       "version_major": 2,
       "version_minor": 0
      },
      "text/plain": [
       "Processing Channels (T=20):   0%|          | 0/3 [00:00<?, ?it/s]"
      ]
     },
     "metadata": {},
     "output_type": "display_data"
    },
    {
     "data": {
      "application/vnd.jupyter.widget-view+json": {
       "model_id": "",
       "version_major": 2,
       "version_minor": 0
      },
      "text/plain": [
       "Processing Channels (T=21):   0%|          | 0/3 [00:00<?, ?it/s]"
      ]
     },
     "metadata": {},
     "output_type": "display_data"
    },
    {
     "data": {
      "application/vnd.jupyter.widget-view+json": {
       "model_id": "",
       "version_major": 2,
       "version_minor": 0
      },
      "text/plain": [
       "Processing Channels (T=22):   0%|          | 0/3 [00:00<?, ?it/s]"
      ]
     },
     "metadata": {},
     "output_type": "display_data"
    },
    {
     "data": {
      "application/vnd.jupyter.widget-view+json": {
       "model_id": "",
       "version_major": 2,
       "version_minor": 0
      },
      "text/plain": [
       "Processing Channels (T=23):   0%|          | 0/3 [00:00<?, ?it/s]"
      ]
     },
     "metadata": {},
     "output_type": "display_data"
    },
    {
     "data": {
      "application/vnd.jupyter.widget-view+json": {
       "model_id": "",
       "version_major": 2,
       "version_minor": 0
      },
      "text/plain": [
       "Processing Channels (T=24):   0%|          | 0/3 [00:00<?, ?it/s]"
      ]
     },
     "metadata": {},
     "output_type": "display_data"
    },
    {
     "data": {
      "application/vnd.jupyter.widget-view+json": {
       "model_id": "",
       "version_major": 2,
       "version_minor": 0
      },
      "text/plain": [
       "Processing Channels (T=25):   0%|          | 0/3 [00:00<?, ?it/s]"
      ]
     },
     "metadata": {},
     "output_type": "display_data"
    },
    {
     "data": {
      "application/vnd.jupyter.widget-view+json": {
       "model_id": "",
       "version_major": 2,
       "version_minor": 0
      },
      "text/plain": [
       "Processing Channels (T=26):   0%|          | 0/3 [00:00<?, ?it/s]"
      ]
     },
     "metadata": {},
     "output_type": "display_data"
    },
    {
     "data": {
      "application/vnd.jupyter.widget-view+json": {
       "model_id": "",
       "version_major": 2,
       "version_minor": 0
      },
      "text/plain": [
       "Processing Channels (T=27):   0%|          | 0/3 [00:00<?, ?it/s]"
      ]
     },
     "metadata": {},
     "output_type": "display_data"
    },
    {
     "data": {
      "application/vnd.jupyter.widget-view+json": {
       "model_id": "",
       "version_major": 2,
       "version_minor": 0
      },
      "text/plain": [
       "Processing Channels (T=28):   0%|          | 0/3 [00:00<?, ?it/s]"
      ]
     },
     "metadata": {},
     "output_type": "display_data"
    },
    {
     "data": {
      "application/vnd.jupyter.widget-view+json": {
       "model_id": "",
       "version_major": 2,
       "version_minor": 0
      },
      "text/plain": [
       "Processing Channels (T=29):   0%|          | 0/3 [00:00<?, ?it/s]"
      ]
     },
     "metadata": {},
     "output_type": "display_data"
    },
    {
     "data": {
      "application/vnd.jupyter.widget-view+json": {
       "model_id": "",
       "version_major": 2,
       "version_minor": 0
      },
      "text/plain": [
       "Processing Channels (T=30):   0%|          | 0/3 [00:00<?, ?it/s]"
      ]
     },
     "metadata": {},
     "output_type": "display_data"
    },
    {
     "data": {
      "application/vnd.jupyter.widget-view+json": {
       "model_id": "",
       "version_major": 2,
       "version_minor": 0
      },
      "text/plain": [
       "Processing Channels (T=31):   0%|          | 0/3 [00:00<?, ?it/s]"
      ]
     },
     "metadata": {},
     "output_type": "display_data"
    },
    {
     "data": {
      "application/vnd.jupyter.widget-view+json": {
       "model_id": "",
       "version_major": 2,
       "version_minor": 0
      },
      "text/plain": [
       "Processing Channels (T=32):   0%|          | 0/3 [00:00<?, ?it/s]"
      ]
     },
     "metadata": {},
     "output_type": "display_data"
    },
    {
     "data": {
      "application/vnd.jupyter.widget-view+json": {
       "model_id": "",
       "version_major": 2,
       "version_minor": 0
      },
      "text/plain": [
       "Processing Channels (T=33):   0%|          | 0/3 [00:00<?, ?it/s]"
      ]
     },
     "metadata": {},
     "output_type": "display_data"
    },
    {
     "data": {
      "application/vnd.jupyter.widget-view+json": {
       "model_id": "",
       "version_major": 2,
       "version_minor": 0
      },
      "text/plain": [
       "Processing Channels (T=34):   0%|          | 0/3 [00:00<?, ?it/s]"
      ]
     },
     "metadata": {},
     "output_type": "display_data"
    },
    {
     "data": {
      "application/vnd.jupyter.widget-view+json": {
       "model_id": "",
       "version_major": 2,
       "version_minor": 0
      },
      "text/plain": [
       "Processing Channels (T=35):   0%|          | 0/3 [00:00<?, ?it/s]"
      ]
     },
     "metadata": {},
     "output_type": "display_data"
    },
    {
     "data": {
      "application/vnd.jupyter.widget-view+json": {
       "model_id": "",
       "version_major": 2,
       "version_minor": 0
      },
      "text/plain": [
       "Processing Channels (T=36):   0%|          | 0/3 [00:00<?, ?it/s]"
      ]
     },
     "metadata": {},
     "output_type": "display_data"
    },
    {
     "data": {
      "application/vnd.jupyter.widget-view+json": {
       "model_id": "",
       "version_major": 2,
       "version_minor": 0
      },
      "text/plain": [
       "Processing Channels (T=37):   0%|          | 0/3 [00:00<?, ?it/s]"
      ]
     },
     "metadata": {},
     "output_type": "display_data"
    },
    {
     "data": {
      "application/vnd.jupyter.widget-view+json": {
       "model_id": "",
       "version_major": 2,
       "version_minor": 0
      },
      "text/plain": [
       "Processing Channels (T=38):   0%|          | 0/3 [00:00<?, ?it/s]"
      ]
     },
     "metadata": {},
     "output_type": "display_data"
    },
    {
     "data": {
      "application/vnd.jupyter.widget-view+json": {
       "model_id": "",
       "version_major": 2,
       "version_minor": 0
      },
      "text/plain": [
       "Processing Channels (T=39):   0%|          | 0/3 [00:00<?, ?it/s]"
      ]
     },
     "metadata": {},
     "output_type": "display_data"
    },
    {
     "data": {
      "application/vnd.jupyter.widget-view+json": {
       "model_id": "",
       "version_major": 2,
       "version_minor": 0
      },
      "text/plain": [
       "Processing Channels (T=40):   0%|          | 0/3 [00:00<?, ?it/s]"
      ]
     },
     "metadata": {},
     "output_type": "display_data"
    },
    {
     "data": {
      "application/vnd.jupyter.widget-view+json": {
       "model_id": "",
       "version_major": 2,
       "version_minor": 0
      },
      "text/plain": [
       "Processing Channels (T=41):   0%|          | 0/3 [00:00<?, ?it/s]"
      ]
     },
     "metadata": {},
     "output_type": "display_data"
    },
    {
     "data": {
      "application/vnd.jupyter.widget-view+json": {
       "model_id": "",
       "version_major": 2,
       "version_minor": 0
      },
      "text/plain": [
       "Processing Channels (T=42):   0%|          | 0/3 [00:00<?, ?it/s]"
      ]
     },
     "metadata": {},
     "output_type": "display_data"
    },
    {
     "data": {
      "application/vnd.jupyter.widget-view+json": {
       "model_id": "",
       "version_major": 2,
       "version_minor": 0
      },
      "text/plain": [
       "Processing Channels (T=43):   0%|          | 0/3 [00:00<?, ?it/s]"
      ]
     },
     "metadata": {},
     "output_type": "display_data"
    },
    {
     "data": {
      "application/vnd.jupyter.widget-view+json": {
       "model_id": "",
       "version_major": 2,
       "version_minor": 0
      },
      "text/plain": [
       "Processing Channels (T=44):   0%|          | 0/3 [00:00<?, ?it/s]"
      ]
     },
     "metadata": {},
     "output_type": "display_data"
    },
    {
     "data": {
      "application/vnd.jupyter.widget-view+json": {
       "model_id": "",
       "version_major": 2,
       "version_minor": 0
      },
      "text/plain": [
       "Processing Channels (T=45):   0%|          | 0/3 [00:00<?, ?it/s]"
      ]
     },
     "metadata": {},
     "output_type": "display_data"
    },
    {
     "data": {
      "application/vnd.jupyter.widget-view+json": {
       "model_id": "",
       "version_major": 2,
       "version_minor": 0
      },
      "text/plain": [
       "Processing Channels (T=46):   0%|          | 0/3 [00:00<?, ?it/s]"
      ]
     },
     "metadata": {},
     "output_type": "display_data"
    },
    {
     "data": {
      "application/vnd.jupyter.widget-view+json": {
       "model_id": "",
       "version_major": 2,
       "version_minor": 0
      },
      "text/plain": [
       "Processing Channels (T=47):   0%|          | 0/3 [00:00<?, ?it/s]"
      ]
     },
     "metadata": {},
     "output_type": "display_data"
    },
    {
     "data": {
      "application/vnd.jupyter.widget-view+json": {
       "model_id": "",
       "version_major": 2,
       "version_minor": 0
      },
      "text/plain": [
       "Processing Channels (T=48):   0%|          | 0/3 [00:00<?, ?it/s]"
      ]
     },
     "metadata": {},
     "output_type": "display_data"
    },
    {
     "data": {
      "application/vnd.jupyter.widget-view+json": {
       "model_id": "",
       "version_major": 2,
       "version_minor": 0
      },
      "text/plain": [
       "Processing Channels (T=49):   0%|          | 0/3 [00:00<?, ?it/s]"
      ]
     },
     "metadata": {},
     "output_type": "display_data"
    },
    {
     "data": {
      "application/vnd.jupyter.widget-view+json": {
       "model_id": "",
       "version_major": 2,
       "version_minor": 0
      },
      "text/plain": [
       "Processing Channels (T=50):   0%|          | 0/3 [00:00<?, ?it/s]"
      ]
     },
     "metadata": {},
     "output_type": "display_data"
    },
    {
     "data": {
      "application/vnd.jupyter.widget-view+json": {
       "model_id": "",
       "version_major": 2,
       "version_minor": 0
      },
      "text/plain": [
       "Processing Channels (T=51):   0%|          | 0/3 [00:00<?, ?it/s]"
      ]
     },
     "metadata": {},
     "output_type": "display_data"
    },
    {
     "data": {
      "application/vnd.jupyter.widget-view+json": {
       "model_id": "",
       "version_major": 2,
       "version_minor": 0
      },
      "text/plain": [
       "Processing Channels (T=52):   0%|          | 0/3 [00:00<?, ?it/s]"
      ]
     },
     "metadata": {},
     "output_type": "display_data"
    },
    {
     "data": {
      "application/vnd.jupyter.widget-view+json": {
       "model_id": "",
       "version_major": 2,
       "version_minor": 0
      },
      "text/plain": [
       "Processing Channels (T=53):   0%|          | 0/3 [00:00<?, ?it/s]"
      ]
     },
     "metadata": {},
     "output_type": "display_data"
    },
    {
     "data": {
      "application/vnd.jupyter.widget-view+json": {
       "model_id": "",
       "version_major": 2,
       "version_minor": 0
      },
      "text/plain": [
       "Processing Channels (T=54):   0%|          | 0/3 [00:00<?, ?it/s]"
      ]
     },
     "metadata": {},
     "output_type": "display_data"
    },
    {
     "data": {
      "application/vnd.jupyter.widget-view+json": {
       "model_id": "",
       "version_major": 2,
       "version_minor": 0
      },
      "text/plain": [
       "Processing Channels (T=55):   0%|          | 0/3 [00:00<?, ?it/s]"
      ]
     },
     "metadata": {},
     "output_type": "display_data"
    },
    {
     "data": {
      "application/vnd.jupyter.widget-view+json": {
       "model_id": "",
       "version_major": 2,
       "version_minor": 0
      },
      "text/plain": [
       "Processing Channels (T=56):   0%|          | 0/3 [00:00<?, ?it/s]"
      ]
     },
     "metadata": {},
     "output_type": "display_data"
    },
    {
     "data": {
      "application/vnd.jupyter.widget-view+json": {
       "model_id": "",
       "version_major": 2,
       "version_minor": 0
      },
      "text/plain": [
       "Processing Channels (T=57):   0%|          | 0/3 [00:00<?, ?it/s]"
      ]
     },
     "metadata": {},
     "output_type": "display_data"
    },
    {
     "data": {
      "application/vnd.jupyter.widget-view+json": {
       "model_id": "",
       "version_major": 2,
       "version_minor": 0
      },
      "text/plain": [
       "Processing Channels (T=58):   0%|          | 0/3 [00:00<?, ?it/s]"
      ]
     },
     "metadata": {},
     "output_type": "display_data"
    },
    {
     "data": {
      "application/vnd.jupyter.widget-view+json": {
       "model_id": "",
       "version_major": 2,
       "version_minor": 0
      },
      "text/plain": [
       "Processing Channels (T=59):   0%|          | 0/3 [00:00<?, ?it/s]"
      ]
     },
     "metadata": {},
     "output_type": "display_data"
    },
    {
     "data": {
      "application/vnd.jupyter.widget-view+json": {
       "model_id": "",
       "version_major": 2,
       "version_minor": 0
      },
      "text/plain": [
       "Processing Channels (T=60):   0%|          | 0/3 [00:00<?, ?it/s]"
      ]
     },
     "metadata": {},
     "output_type": "display_data"
    },
    {
     "data": {
      "application/vnd.jupyter.widget-view+json": {
       "model_id": "",
       "version_major": 2,
       "version_minor": 0
      },
      "text/plain": [
       "Processing Channels (T=61):   0%|          | 0/3 [00:00<?, ?it/s]"
      ]
     },
     "metadata": {},
     "output_type": "display_data"
    },
    {
     "data": {
      "application/vnd.jupyter.widget-view+json": {
       "model_id": "",
       "version_major": 2,
       "version_minor": 0
      },
      "text/plain": [
       "Processing Channels (T=62):   0%|          | 0/3 [00:00<?, ?it/s]"
      ]
     },
     "metadata": {},
     "output_type": "display_data"
    },
    {
     "data": {
      "application/vnd.jupyter.widget-view+json": {
       "model_id": "",
       "version_major": 2,
       "version_minor": 0
      },
      "text/plain": [
       "Processing Channels (T=63):   0%|          | 0/3 [00:00<?, ?it/s]"
      ]
     },
     "metadata": {},
     "output_type": "display_data"
    },
    {
     "data": {
      "application/vnd.jupyter.widget-view+json": {
       "model_id": "",
       "version_major": 2,
       "version_minor": 0
      },
      "text/plain": [
       "Processing Channels (T=64):   0%|          | 0/3 [00:00<?, ?it/s]"
      ]
     },
     "metadata": {},
     "output_type": "display_data"
    },
    {
     "data": {
      "application/vnd.jupyter.widget-view+json": {
       "model_id": "",
       "version_major": 2,
       "version_minor": 0
      },
      "text/plain": [
       "Processing Channels (T=65):   0%|          | 0/3 [00:00<?, ?it/s]"
      ]
     },
     "metadata": {},
     "output_type": "display_data"
    },
    {
     "data": {
      "application/vnd.jupyter.widget-view+json": {
       "model_id": "",
       "version_major": 2,
       "version_minor": 0
      },
      "text/plain": [
       "Processing Channels (T=66):   0%|          | 0/3 [00:00<?, ?it/s]"
      ]
     },
     "metadata": {},
     "output_type": "display_data"
    },
    {
     "data": {
      "application/vnd.jupyter.widget-view+json": {
       "model_id": "",
       "version_major": 2,
       "version_minor": 0
      },
      "text/plain": [
       "Processing Channels (T=67):   0%|          | 0/3 [00:00<?, ?it/s]"
      ]
     },
     "metadata": {},
     "output_type": "display_data"
    },
    {
     "data": {
      "application/vnd.jupyter.widget-view+json": {
       "model_id": "",
       "version_major": 2,
       "version_minor": 0
      },
      "text/plain": [
       "Processing Channels (T=68):   0%|          | 0/3 [00:00<?, ?it/s]"
      ]
     },
     "metadata": {},
     "output_type": "display_data"
    },
    {
     "data": {
      "application/vnd.jupyter.widget-view+json": {
       "model_id": "",
       "version_major": 2,
       "version_minor": 0
      },
      "text/plain": [
       "Processing Channels (T=69):   0%|          | 0/3 [00:00<?, ?it/s]"
      ]
     },
     "metadata": {},
     "output_type": "display_data"
    },
    {
     "data": {
      "application/vnd.jupyter.widget-view+json": {
       "model_id": "",
       "version_major": 2,
       "version_minor": 0
      },
      "text/plain": [
       "Processing Channels (T=70):   0%|          | 0/3 [00:00<?, ?it/s]"
      ]
     },
     "metadata": {},
     "output_type": "display_data"
    },
    {
     "data": {
      "application/vnd.jupyter.widget-view+json": {
       "model_id": "",
       "version_major": 2,
       "version_minor": 0
      },
      "text/plain": [
       "Processing Channels (T=71):   0%|          | 0/3 [00:00<?, ?it/s]"
      ]
     },
     "metadata": {},
     "output_type": "display_data"
    },
    {
     "data": {
      "application/vnd.jupyter.widget-view+json": {
       "model_id": "",
       "version_major": 2,
       "version_minor": 0
      },
      "text/plain": [
       "Processing Channels (T=72):   0%|          | 0/3 [00:00<?, ?it/s]"
      ]
     },
     "metadata": {},
     "output_type": "display_data"
    },
    {
     "data": {
      "application/vnd.jupyter.widget-view+json": {
       "model_id": "",
       "version_major": 2,
       "version_minor": 0
      },
      "text/plain": [
       "Processing Channels (T=73):   0%|          | 0/3 [00:00<?, ?it/s]"
      ]
     },
     "metadata": {},
     "output_type": "display_data"
    },
    {
     "data": {
      "application/vnd.jupyter.widget-view+json": {
       "model_id": "",
       "version_major": 2,
       "version_minor": 0
      },
      "text/plain": [
       "Processing Channels (T=74):   0%|          | 0/3 [00:00<?, ?it/s]"
      ]
     },
     "metadata": {},
     "output_type": "display_data"
    },
    {
     "data": {
      "application/vnd.jupyter.widget-view+json": {
       "model_id": "",
       "version_major": 2,
       "version_minor": 0
      },
      "text/plain": [
       "Processing Channels (T=75):   0%|          | 0/3 [00:00<?, ?it/s]"
      ]
     },
     "metadata": {},
     "output_type": "display_data"
    },
    {
     "data": {
      "application/vnd.jupyter.widget-view+json": {
       "model_id": "",
       "version_major": 2,
       "version_minor": 0
      },
      "text/plain": [
       "Processing Channels (T=76):   0%|          | 0/3 [00:00<?, ?it/s]"
      ]
     },
     "metadata": {},
     "output_type": "display_data"
    },
    {
     "data": {
      "application/vnd.jupyter.widget-view+json": {
       "model_id": "",
       "version_major": 2,
       "version_minor": 0
      },
      "text/plain": [
       "Processing Channels (T=77):   0%|          | 0/3 [00:00<?, ?it/s]"
      ]
     },
     "metadata": {},
     "output_type": "display_data"
    },
    {
     "data": {
      "application/vnd.jupyter.widget-view+json": {
       "model_id": "",
       "version_major": 2,
       "version_minor": 0
      },
      "text/plain": [
       "Processing Channels (T=78):   0%|          | 0/3 [00:00<?, ?it/s]"
      ]
     },
     "metadata": {},
     "output_type": "display_data"
    },
    {
     "data": {
      "application/vnd.jupyter.widget-view+json": {
       "model_id": "",
       "version_major": 2,
       "version_minor": 0
      },
      "text/plain": [
       "Processing Channels (T=79):   0%|          | 0/3 [00:00<?, ?it/s]"
      ]
     },
     "metadata": {},
     "output_type": "display_data"
    },
    {
     "data": {
      "application/vnd.jupyter.widget-view+json": {
       "model_id": "",
       "version_major": 2,
       "version_minor": 0
      },
      "text/plain": [
       "Processing Channels (T=80):   0%|          | 0/3 [00:00<?, ?it/s]"
      ]
     },
     "metadata": {},
     "output_type": "display_data"
    },
    {
     "data": {
      "application/vnd.jupyter.widget-view+json": {
       "model_id": "",
       "version_major": 2,
       "version_minor": 0
      },
      "text/plain": [
       "Processing Channels (T=81):   0%|          | 0/3 [00:00<?, ?it/s]"
      ]
     },
     "metadata": {},
     "output_type": "display_data"
    },
    {
     "data": {
      "application/vnd.jupyter.widget-view+json": {
       "model_id": "",
       "version_major": 2,
       "version_minor": 0
      },
      "text/plain": [
       "Processing Channels (T=82):   0%|          | 0/3 [00:00<?, ?it/s]"
      ]
     },
     "metadata": {},
     "output_type": "display_data"
    },
    {
     "data": {
      "application/vnd.jupyter.widget-view+json": {
       "model_id": "",
       "version_major": 2,
       "version_minor": 0
      },
      "text/plain": [
       "Processing Channels (T=83):   0%|          | 0/3 [00:00<?, ?it/s]"
      ]
     },
     "metadata": {},
     "output_type": "display_data"
    },
    {
     "data": {
      "application/vnd.jupyter.widget-view+json": {
       "model_id": "",
       "version_major": 2,
       "version_minor": 0
      },
      "text/plain": [
       "Processing Channels (T=84):   0%|          | 0/3 [00:00<?, ?it/s]"
      ]
     },
     "metadata": {},
     "output_type": "display_data"
    },
    {
     "data": {
      "application/vnd.jupyter.widget-view+json": {
       "model_id": "",
       "version_major": 2,
       "version_minor": 0
      },
      "text/plain": [
       "Processing Channels (T=85):   0%|          | 0/3 [00:00<?, ?it/s]"
      ]
     },
     "metadata": {},
     "output_type": "display_data"
    },
    {
     "data": {
      "application/vnd.jupyter.widget-view+json": {
       "model_id": "",
       "version_major": 2,
       "version_minor": 0
      },
      "text/plain": [
       "Processing Channels (T=86):   0%|          | 0/3 [00:00<?, ?it/s]"
      ]
     },
     "metadata": {},
     "output_type": "display_data"
    },
    {
     "data": {
      "application/vnd.jupyter.widget-view+json": {
       "model_id": "",
       "version_major": 2,
       "version_minor": 0
      },
      "text/plain": [
       "Processing Channels (T=87):   0%|          | 0/3 [00:00<?, ?it/s]"
      ]
     },
     "metadata": {},
     "output_type": "display_data"
    },
    {
     "data": {
      "application/vnd.jupyter.widget-view+json": {
       "model_id": "",
       "version_major": 2,
       "version_minor": 0
      },
      "text/plain": [
       "Processing Channels (T=88):   0%|          | 0/3 [00:00<?, ?it/s]"
      ]
     },
     "metadata": {},
     "output_type": "display_data"
    },
    {
     "data": {
      "application/vnd.jupyter.widget-view+json": {
       "model_id": "",
       "version_major": 2,
       "version_minor": 0
      },
      "text/plain": [
       "Processing Channels (T=89):   0%|          | 0/3 [00:00<?, ?it/s]"
      ]
     },
     "metadata": {},
     "output_type": "display_data"
    },
    {
     "data": {
      "application/vnd.jupyter.widget-view+json": {
       "model_id": "",
       "version_major": 2,
       "version_minor": 0
      },
      "text/plain": [
       "Processing Channels (T=90):   0%|          | 0/3 [00:00<?, ?it/s]"
      ]
     },
     "metadata": {},
     "output_type": "display_data"
    },
    {
     "data": {
      "application/vnd.jupyter.widget-view+json": {
       "model_id": "",
       "version_major": 2,
       "version_minor": 0
      },
      "text/plain": [
       "Processing Channels (T=91):   0%|          | 0/3 [00:00<?, ?it/s]"
      ]
     },
     "metadata": {},
     "output_type": "display_data"
    },
    {
     "data": {
      "application/vnd.jupyter.widget-view+json": {
       "model_id": "",
       "version_major": 2,
       "version_minor": 0
      },
      "text/plain": [
       "Processing Channels (T=92):   0%|          | 0/3 [00:00<?, ?it/s]"
      ]
     },
     "metadata": {},
     "output_type": "display_data"
    },
    {
     "data": {
      "application/vnd.jupyter.widget-view+json": {
       "model_id": "",
       "version_major": 2,
       "version_minor": 0
      },
      "text/plain": [
       "Processing Channels (T=93):   0%|          | 0/3 [00:00<?, ?it/s]"
      ]
     },
     "metadata": {},
     "output_type": "display_data"
    },
    {
     "data": {
      "application/vnd.jupyter.widget-view+json": {
       "model_id": "",
       "version_major": 2,
       "version_minor": 0
      },
      "text/plain": [
       "Processing Channels (T=94):   0%|          | 0/3 [00:00<?, ?it/s]"
      ]
     },
     "metadata": {},
     "output_type": "display_data"
    },
    {
     "data": {
      "application/vnd.jupyter.widget-view+json": {
       "model_id": "",
       "version_major": 2,
       "version_minor": 0
      },
      "text/plain": [
       "Processing Channels (T=95):   0%|          | 0/3 [00:00<?, ?it/s]"
      ]
     },
     "metadata": {},
     "output_type": "display_data"
    },
    {
     "data": {
      "application/vnd.jupyter.widget-view+json": {
       "model_id": "",
       "version_major": 2,
       "version_minor": 0
      },
      "text/plain": [
       "Processing Channels (T=96):   0%|          | 0/3 [00:00<?, ?it/s]"
      ]
     },
     "metadata": {},
     "output_type": "display_data"
    },
    {
     "data": {
      "application/vnd.jupyter.widget-view+json": {
       "model_id": "",
       "version_major": 2,
       "version_minor": 0
      },
      "text/plain": [
       "Processing Channels (T=97):   0%|          | 0/3 [00:00<?, ?it/s]"
      ]
     },
     "metadata": {},
     "output_type": "display_data"
    },
    {
     "data": {
      "application/vnd.jupyter.widget-view+json": {
       "model_id": "",
       "version_major": 2,
       "version_minor": 0
      },
      "text/plain": [
       "Processing Channels (T=98):   0%|          | 0/3 [00:00<?, ?it/s]"
      ]
     },
     "metadata": {},
     "output_type": "display_data"
    },
    {
     "data": {
      "application/vnd.jupyter.widget-view+json": {
       "model_id": "",
       "version_major": 2,
       "version_minor": 0
      },
      "text/plain": [
       "Processing Channels (T=99):   0%|          | 0/3 [00:00<?, ?it/s]"
      ]
     },
     "metadata": {},
     "output_type": "display_data"
    },
    {
     "data": {
      "application/vnd.jupyter.widget-view+json": {
       "model_id": "",
       "version_major": 2,
       "version_minor": 0
      },
      "text/plain": [
       "Processing Channels (T=100):   0%|          | 0/3 [00:00<?, ?it/s]"
      ]
     },
     "metadata": {},
     "output_type": "display_data"
    },
    {
     "data": {
      "application/vnd.jupyter.widget-view+json": {
       "model_id": "",
       "version_major": 2,
       "version_minor": 0
      },
      "text/plain": [
       "Processing Channels (T=101):   0%|          | 0/3 [00:00<?, ?it/s]"
      ]
     },
     "metadata": {},
     "output_type": "display_data"
    },
    {
     "data": {
      "application/vnd.jupyter.widget-view+json": {
       "model_id": "",
       "version_major": 2,
       "version_minor": 0
      },
      "text/plain": [
       "Processing Channels (T=102):   0%|          | 0/3 [00:00<?, ?it/s]"
      ]
     },
     "metadata": {},
     "output_type": "display_data"
    },
    {
     "data": {
      "application/vnd.jupyter.widget-view+json": {
       "model_id": "",
       "version_major": 2,
       "version_minor": 0
      },
      "text/plain": [
       "Processing Channels (T=103):   0%|          | 0/3 [00:00<?, ?it/s]"
      ]
     },
     "metadata": {},
     "output_type": "display_data"
    },
    {
     "data": {
      "application/vnd.jupyter.widget-view+json": {
       "model_id": "",
       "version_major": 2,
       "version_minor": 0
      },
      "text/plain": [
       "Processing Channels (T=104):   0%|          | 0/3 [00:00<?, ?it/s]"
      ]
     },
     "metadata": {},
     "output_type": "display_data"
    },
    {
     "data": {
      "application/vnd.jupyter.widget-view+json": {
       "model_id": "",
       "version_major": 2,
       "version_minor": 0
      },
      "text/plain": [
       "Processing Channels (T=105):   0%|          | 0/3 [00:00<?, ?it/s]"
      ]
     },
     "metadata": {},
     "output_type": "display_data"
    },
    {
     "data": {
      "application/vnd.jupyter.widget-view+json": {
       "model_id": "",
       "version_major": 2,
       "version_minor": 0
      },
      "text/plain": [
       "Processing Channels (T=106):   0%|          | 0/3 [00:00<?, ?it/s]"
      ]
     },
     "metadata": {},
     "output_type": "display_data"
    },
    {
     "data": {
      "application/vnd.jupyter.widget-view+json": {
       "model_id": "",
       "version_major": 2,
       "version_minor": 0
      },
      "text/plain": [
       "Processing Channels (T=107):   0%|          | 0/3 [00:00<?, ?it/s]"
      ]
     },
     "metadata": {},
     "output_type": "display_data"
    },
    {
     "data": {
      "application/vnd.jupyter.widget-view+json": {
       "model_id": "",
       "version_major": 2,
       "version_minor": 0
      },
      "text/plain": [
       "Processing Channels (T=108):   0%|          | 0/3 [00:00<?, ?it/s]"
      ]
     },
     "metadata": {},
     "output_type": "display_data"
    },
    {
     "data": {
      "application/vnd.jupyter.widget-view+json": {
       "model_id": "",
       "version_major": 2,
       "version_minor": 0
      },
      "text/plain": [
       "Processing Channels (T=109):   0%|          | 0/3 [00:00<?, ?it/s]"
      ]
     },
     "metadata": {},
     "output_type": "display_data"
    },
    {
     "data": {
      "application/vnd.jupyter.widget-view+json": {
       "model_id": "",
       "version_major": 2,
       "version_minor": 0
      },
      "text/plain": [
       "Processing Channels (T=110):   0%|          | 0/3 [00:00<?, ?it/s]"
      ]
     },
     "metadata": {},
     "output_type": "display_data"
    },
    {
     "data": {
      "application/vnd.jupyter.widget-view+json": {
       "model_id": "",
       "version_major": 2,
       "version_minor": 0
      },
      "text/plain": [
       "Processing Channels (T=111):   0%|          | 0/3 [00:00<?, ?it/s]"
      ]
     },
     "metadata": {},
     "output_type": "display_data"
    },
    {
     "data": {
      "application/vnd.jupyter.widget-view+json": {
       "model_id": "",
       "version_major": 2,
       "version_minor": 0
      },
      "text/plain": [
       "Processing Channels (T=112):   0%|          | 0/3 [00:00<?, ?it/s]"
      ]
     },
     "metadata": {},
     "output_type": "display_data"
    },
    {
     "data": {
      "application/vnd.jupyter.widget-view+json": {
       "model_id": "",
       "version_major": 2,
       "version_minor": 0
      },
      "text/plain": [
       "Processing Channels (T=113):   0%|          | 0/3 [00:00<?, ?it/s]"
      ]
     },
     "metadata": {},
     "output_type": "display_data"
    },
    {
     "data": {
      "application/vnd.jupyter.widget-view+json": {
       "model_id": "",
       "version_major": 2,
       "version_minor": 0
      },
      "text/plain": [
       "Processing Channels (T=114):   0%|          | 0/3 [00:00<?, ?it/s]"
      ]
     },
     "metadata": {},
     "output_type": "display_data"
    },
    {
     "data": {
      "application/vnd.jupyter.widget-view+json": {
       "model_id": "",
       "version_major": 2,
       "version_minor": 0
      },
      "text/plain": [
       "Processing Channels (T=115):   0%|          | 0/3 [00:00<?, ?it/s]"
      ]
     },
     "metadata": {},
     "output_type": "display_data"
    },
    {
     "data": {
      "application/vnd.jupyter.widget-view+json": {
       "model_id": "",
       "version_major": 2,
       "version_minor": 0
      },
      "text/plain": [
       "Processing Channels (T=116):   0%|          | 0/3 [00:00<?, ?it/s]"
      ]
     },
     "metadata": {},
     "output_type": "display_data"
    },
    {
     "data": {
      "application/vnd.jupyter.widget-view+json": {
       "model_id": "",
       "version_major": 2,
       "version_minor": 0
      },
      "text/plain": [
       "Processing Channels (T=117):   0%|          | 0/3 [00:00<?, ?it/s]"
      ]
     },
     "metadata": {},
     "output_type": "display_data"
    },
    {
     "data": {
      "application/vnd.jupyter.widget-view+json": {
       "model_id": "",
       "version_major": 2,
       "version_minor": 0
      },
      "text/plain": [
       "Processing Channels (T=118):   0%|          | 0/3 [00:00<?, ?it/s]"
      ]
     },
     "metadata": {},
     "output_type": "display_data"
    },
    {
     "data": {
      "application/vnd.jupyter.widget-view+json": {
       "model_id": "",
       "version_major": 2,
       "version_minor": 0
      },
      "text/plain": [
       "Processing Channels (T=119):   0%|          | 0/3 [00:00<?, ?it/s]"
      ]
     },
     "metadata": {},
     "output_type": "display_data"
    },
    {
     "data": {
      "application/vnd.jupyter.widget-view+json": {
       "model_id": "",
       "version_major": 2,
       "version_minor": 0
      },
      "text/plain": [
       "Processing Channels (T=120):   0%|          | 0/3 [00:00<?, ?it/s]"
      ]
     },
     "metadata": {},
     "output_type": "display_data"
    },
    {
     "data": {
      "application/vnd.jupyter.widget-view+json": {
       "model_id": "",
       "version_major": 2,
       "version_minor": 0
      },
      "text/plain": [
       "Processing Channels (T=121):   0%|          | 0/3 [00:00<?, ?it/s]"
      ]
     },
     "metadata": {},
     "output_type": "display_data"
    },
    {
     "data": {
      "application/vnd.jupyter.widget-view+json": {
       "model_id": "",
       "version_major": 2,
       "version_minor": 0
      },
      "text/plain": [
       "Processing Channels (T=122):   0%|          | 0/3 [00:00<?, ?it/s]"
      ]
     },
     "metadata": {},
     "output_type": "display_data"
    },
    {
     "data": {
      "application/vnd.jupyter.widget-view+json": {
       "model_id": "",
       "version_major": 2,
       "version_minor": 0
      },
      "text/plain": [
       "Processing Channels (T=123):   0%|          | 0/3 [00:00<?, ?it/s]"
      ]
     },
     "metadata": {},
     "output_type": "display_data"
    },
    {
     "data": {
      "application/vnd.jupyter.widget-view+json": {
       "model_id": "",
       "version_major": 2,
       "version_minor": 0
      },
      "text/plain": [
       "Processing Channels (T=124):   0%|          | 0/3 [00:00<?, ?it/s]"
      ]
     },
     "metadata": {},
     "output_type": "display_data"
    },
    {
     "data": {
      "application/vnd.jupyter.widget-view+json": {
       "model_id": "",
       "version_major": 2,
       "version_minor": 0
      },
      "text/plain": [
       "Processing Channels (T=125):   0%|          | 0/3 [00:00<?, ?it/s]"
      ]
     },
     "metadata": {},
     "output_type": "display_data"
    },
    {
     "data": {
      "application/vnd.jupyter.widget-view+json": {
       "model_id": "",
       "version_major": 2,
       "version_minor": 0
      },
      "text/plain": [
       "Processing Channels (T=126):   0%|          | 0/3 [00:00<?, ?it/s]"
      ]
     },
     "metadata": {},
     "output_type": "display_data"
    },
    {
     "data": {
      "application/vnd.jupyter.widget-view+json": {
       "model_id": "",
       "version_major": 2,
       "version_minor": 0
      },
      "text/plain": [
       "Processing Channels (T=127):   0%|          | 0/3 [00:00<?, ?it/s]"
      ]
     },
     "metadata": {},
     "output_type": "display_data"
    },
    {
     "data": {
      "application/vnd.jupyter.widget-view+json": {
       "model_id": "",
       "version_major": 2,
       "version_minor": 0
      },
      "text/plain": [
       "Processing Channels (T=128):   0%|          | 0/3 [00:00<?, ?it/s]"
      ]
     },
     "metadata": {},
     "output_type": "display_data"
    },
    {
     "data": {
      "application/vnd.jupyter.widget-view+json": {
       "model_id": "",
       "version_major": 2,
       "version_minor": 0
      },
      "text/plain": [
       "Processing Channels (T=129):   0%|          | 0/3 [00:00<?, ?it/s]"
      ]
     },
     "metadata": {},
     "output_type": "display_data"
    },
    {
     "data": {
      "application/vnd.jupyter.widget-view+json": {
       "model_id": "",
       "version_major": 2,
       "version_minor": 0
      },
      "text/plain": [
       "Processing Channels (T=130):   0%|          | 0/3 [00:00<?, ?it/s]"
      ]
     },
     "metadata": {},
     "output_type": "display_data"
    },
    {
     "data": {
      "application/vnd.jupyter.widget-view+json": {
       "model_id": "",
       "version_major": 2,
       "version_minor": 0
      },
      "text/plain": [
       "Processing Channels (T=131):   0%|          | 0/3 [00:00<?, ?it/s]"
      ]
     },
     "metadata": {},
     "output_type": "display_data"
    },
    {
     "data": {
      "application/vnd.jupyter.widget-view+json": {
       "model_id": "",
       "version_major": 2,
       "version_minor": 0
      },
      "text/plain": [
       "Processing Channels (T=132):   0%|          | 0/3 [00:00<?, ?it/s]"
      ]
     },
     "metadata": {},
     "output_type": "display_data"
    },
    {
     "data": {
      "application/vnd.jupyter.widget-view+json": {
       "model_id": "",
       "version_major": 2,
       "version_minor": 0
      },
      "text/plain": [
       "Processing Channels (T=133):   0%|          | 0/3 [00:00<?, ?it/s]"
      ]
     },
     "metadata": {},
     "output_type": "display_data"
    },
    {
     "data": {
      "application/vnd.jupyter.widget-view+json": {
       "model_id": "",
       "version_major": 2,
       "version_minor": 0
      },
      "text/plain": [
       "Processing Channels (T=134):   0%|          | 0/3 [00:00<?, ?it/s]"
      ]
     },
     "metadata": {},
     "output_type": "display_data"
    },
    {
     "data": {
      "application/vnd.jupyter.widget-view+json": {
       "model_id": "",
       "version_major": 2,
       "version_minor": 0
      },
      "text/plain": [
       "Processing Channels (T=135):   0%|          | 0/3 [00:00<?, ?it/s]"
      ]
     },
     "metadata": {},
     "output_type": "display_data"
    },
    {
     "data": {
      "application/vnd.jupyter.widget-view+json": {
       "model_id": "",
       "version_major": 2,
       "version_minor": 0
      },
      "text/plain": [
       "Processing Channels (T=136):   0%|          | 0/3 [00:00<?, ?it/s]"
      ]
     },
     "metadata": {},
     "output_type": "display_data"
    },
    {
     "data": {
      "application/vnd.jupyter.widget-view+json": {
       "model_id": "",
       "version_major": 2,
       "version_minor": 0
      },
      "text/plain": [
       "Processing Channels (T=137):   0%|          | 0/3 [00:00<?, ?it/s]"
      ]
     },
     "metadata": {},
     "output_type": "display_data"
    },
    {
     "data": {
      "application/vnd.jupyter.widget-view+json": {
       "model_id": "",
       "version_major": 2,
       "version_minor": 0
      },
      "text/plain": [
       "Processing Channels (T=138):   0%|          | 0/3 [00:00<?, ?it/s]"
      ]
     },
     "metadata": {},
     "output_type": "display_data"
    },
    {
     "data": {
      "application/vnd.jupyter.widget-view+json": {
       "model_id": "",
       "version_major": 2,
       "version_minor": 0
      },
      "text/plain": [
       "Processing Channels (T=139):   0%|          | 0/3 [00:00<?, ?it/s]"
      ]
     },
     "metadata": {},
     "output_type": "display_data"
    },
    {
     "data": {
      "application/vnd.jupyter.widget-view+json": {
       "model_id": "",
       "version_major": 2,
       "version_minor": 0
      },
      "text/plain": [
       "Processing Channels (T=140):   0%|          | 0/3 [00:00<?, ?it/s]"
      ]
     },
     "metadata": {},
     "output_type": "display_data"
    },
    {
     "data": {
      "application/vnd.jupyter.widget-view+json": {
       "model_id": "",
       "version_major": 2,
       "version_minor": 0
      },
      "text/plain": [
       "Processing Channels (T=141):   0%|          | 0/3 [00:00<?, ?it/s]"
      ]
     },
     "metadata": {},
     "output_type": "display_data"
    },
    {
     "data": {
      "application/vnd.jupyter.widget-view+json": {
       "model_id": "",
       "version_major": 2,
       "version_minor": 0
      },
      "text/plain": [
       "Processing Channels (T=142):   0%|          | 0/3 [00:00<?, ?it/s]"
      ]
     },
     "metadata": {},
     "output_type": "display_data"
    },
    {
     "data": {
      "application/vnd.jupyter.widget-view+json": {
       "model_id": "",
       "version_major": 2,
       "version_minor": 0
      },
      "text/plain": [
       "Processing Channels (T=143):   0%|          | 0/3 [00:00<?, ?it/s]"
      ]
     },
     "metadata": {},
     "output_type": "display_data"
    },
    {
     "name": "stdout",
     "output_type": "stream",
     "text": [
      "Final image volume shape: (144, 3, 3, 6911, 6911)\n"
     ]
    }
   ],
   "source": [
    "\n",
    "\n",
    "for base_dir in tqdm(base_dirs, total = len(base_dirs)):\n",
    "\n",
    "    base_dir_ID = base_dir.split('/')[-2] #os.path.basename(base_dir)\n",
    "    if base_dir_ID != 'BPP0050-1-Live-cell-to4i_Live-2__2025-04-10T18_45_48-Measurement 1':\n",
    "        print('skipping completed', base_dir_ID)\n",
    "        continue\n",
    "    \n",
    "    metadata_fn = os.path.join(base_dir, 'acquisition/Images/Index.idx.xml')\n",
    "    metadata = dataio.read_harmony_metadata(metadata_fn)  \n",
    "\n",
    "    # Convert applicable columns to numeric values\n",
    "    metadata = metadata.apply(pd.to_numeric, errors='ignore')\n",
    "    # Invert Y coordinates (cathode ray tube adjustment)\n",
    "    metadata['PositionY'] = -metadata['PositionY']\n",
    "    \n",
    "    # Find the minimum Z position for non-Phase Contrast channels\n",
    "    min_z = metadata.loc[~metadata['ChannelName'].str.contains('Phase Contrast', case=False, na=False), 'PositionZ'].min()\n",
    "    \n",
    "    # Assign this minimum Z value to all \"Phase Contrast\" channels\n",
    "    metadata.loc[metadata['ChannelName'].str.contains('Phase Contrast', case=False, na=False), 'PositionZ'] = min_z\n",
    "    \n",
    "    image_dir = os.path.join(base_dir, 'acquisition/Images/')\n",
    "    # use the metadata for the rows cols as the assay layout can be the same for multiple acquisitions, encompassing multiple layouts\n",
    "    rows_cols = metadata[['Row', 'Col']].drop_duplicates().values\n",
    "    \n",
    "    assay_layout_fn = glob.glob(os.path.join(base_dir, 'acquisition/Assaylayout/*.xml'))[0]\n",
    "    assay_layout = load_assay_layout(assay_layout_fn)\n",
    "\n",
    "\n",
    "\n",
    "\n",
    "    for row_col in tqdm(rows_cols, desc=f'Now tiling in {base_dir_ID}', total = len(rows_cols)):\n",
    "        row, column = int(row_col[0]), int(row_col[1])\n",
    "        col = column\n",
    "        acq_ID = row, column\n",
    "        \n",
    "        if os.path.exists(os.path.join(base_dir, f'acquisition/zarr/{acq_ID}.zarr')):\n",
    "            print(os.path.join(base_dir, f'acquisition/zarr/{acq_ID}.zarr'), 'already exists, skipping')\n",
    "            continue\n",
    "\n",
    "        # Filter metadata for the current row and column (include all time points)\n",
    "        position_metadata = metadata[(metadata['Row'] == row) & (metadata['Col'] == column)]\n",
    "        # Get unique time points\n",
    "        timepoint_ids = sorted(position_metadata['TimepointID'].unique())\n",
    "        # Initialize a list to store time-lapse volumes\n",
    "        time_volumes = []\n",
    "        \n",
    "        sample_tile_id =  position_metadata.iloc[0]\n",
    "        # Iterate over each time point\n",
    "        for timepoint_id in tqdm(timepoint_ids, desc=\"Processing Time Points\", leave=True, position=1):\n",
    "            # Filter metadata for the current time point\n",
    "            time_metadata = position_metadata[position_metadata['TimepointID'] == timepoint_id]\n",
    "            # Get unique Channel\n",
    "            channel_ids = sorted(time_metadata['ChannelID'].unique())\n",
    "            # Initialize a list to hold each channel's Z-stack for this time point\n",
    "            channel_volumes = []\n",
    "            # Iterate over each channel\n",
    "            for channel_id in tqdm(channel_ids, desc=f\"Processing Channels (T={timepoint_id})\", leave=False, position=2):\n",
    "                # get specific channel metadata\n",
    "                channel_slice_metadata = time_metadata[time_metadata['ChannelID'] == channel_id]\n",
    "                # get z positions for this channel\n",
    "                z_ids = sorted(channel_slice_metadata['PositionZ'].unique())\n",
    "                # init a list to hold z slices\n",
    "                z_slices = []\n",
    "                # Iterate over Z positions\n",
    "                for z_id in z_ids:#tqdm(z_positions, desc=\"Processing Z-slices\", leave=False, position=3):\n",
    "                    # get specific z slice metadata\n",
    "                    z_slice_metadata = channel_slice_metadata[channel_slice_metadata['PositionZ'] == z_id]\n",
    "                    # Initialize mosaic_slice if needed, ie for the first image to be placed in the blank slate\n",
    "                    mosaic_size_x = int((z_slice_metadata['PositionX'].max() - z_slice_metadata['PositionX'].min()) / sample_tile_id['ImageResolutionX']) + sample_tile_id['ImageSizeX']\n",
    "                    mosaic_size_y = int((z_slice_metadata['PositionY'].max() - z_slice_metadata['PositionY'].min()) / sample_tile_id['ImageResolutionY']) + sample_tile_id['ImageSizeY']\n",
    "                    # For each position, create a large mosaic (accumulator & weight)\n",
    "                    # Suppose mosaic_size_y, mosaic_size_x is the total bounding box in Y and X.\n",
    "                    accumulator = np.zeros((mosaic_size_y, mosaic_size_x), dtype=np.float32)\n",
    "                    weight_map  = np.zeros((mosaic_size_y, mosaic_size_x), dtype=np.float32)\n",
    "                    \n",
    "                    for tile_index, tile_id in z_slice_metadata.iterrows():\n",
    "                        # load the tile\n",
    "                        img_path = os.path.join(image_dir, tile_id['URL'])\n",
    "                        try:\n",
    "                            tile = imread(img_path).astype(np.float32)\n",
    "                        except FileNotFoundError:\n",
    "                            tile = np.zeros((tile_id['ImageSizeY'], tile_id['ImageSizeX']), dtype=np.float32)\n",
    "                    \n",
    "                        # create alpha mask for this tile's shape\n",
    "                        alpha_mask = create_alpha_mask(tile.shape[0], tile.shape[1], feather=0.1)\n",
    "                    \n",
    "                        # figure out where to place this tile in the mosaic\n",
    "                        x_pixel = int((tile_id['PositionX'] - z_slice_metadata['PositionX'].min()) / tile_id['ImageResolutionX'])\n",
    "                        y_pixel = int((tile_id['PositionY'] - z_slice_metadata['PositionY'].min()) / tile_id['ImageResolutionY'])\n",
    "                    \n",
    "                        # add into the accumulator & weight\n",
    "                        # We slice out the region in the mosaic that corresponds to this tile\n",
    "                        acc_slice = accumulator[y_pixel:y_pixel+tile.shape[0], x_pixel:x_pixel+tile.shape[1]]\n",
    "                        wgt_slice = weight_map[y_pixel:y_pixel+tile.shape[0], x_pixel:x_pixel+tile.shape[1]]\n",
    "                    \n",
    "                        acc_slice += tile * alpha_mask\n",
    "                        wgt_slice += alpha_mask\n",
    "                    \n",
    "                    # AFTER all tiles are placed:\n",
    "                    final_mosaic = np.zeros_like(accumulator, dtype=np.float32)\n",
    "                    \n",
    "                    # Avoid division by zero\n",
    "                    nonzero_mask = (weight_map > 0)\n",
    "                    final_mosaic[nonzero_mask] = accumulator[nonzero_mask] / weight_map[nonzero_mask]\n",
    "                    \n",
    "                    # Then, convert final mosaic to e.g. uint16 if desired\n",
    "                    mosaic = np.clip(final_mosaic, 0, 65535).astype(np.uint16)\n",
    "                    \n",
    "                    # now append that mosaic z slice to z slices stack, different if DPC\n",
    "                    if \"Phase Contrast\" in channel_slice_metadata['ChannelName'].iloc[0]:  \n",
    "                        # print(f\"Distributing DPC image across Z slices\")\n",
    "                        dpc_slice = mosaic / len(metadata['PositionZ'].unique())  \n",
    "                        z_slices = [mosaic] * len(metadata['PositionZ'].unique())  \n",
    "                        break  \n",
    "                    else:\n",
    "                        z_slices.append(mosaic)\n",
    "                    \n",
    "                #stack z slices into a channel volume\n",
    "                if len(z_slices) > 0:\n",
    "                    # channel_volume = np.max(z_slices, axis=0)\n",
    "                    channel_volume = np.stack(z_slices, axis=0)\n",
    "                    channel_volumes.append(channel_volume)\n",
    "            # stack the channel volume into a time volume\n",
    "            if len(channel_volumes) > 0:\n",
    "                image_volume_czyx = np.stack(channel_volumes, axis=0)  # C, Z, Y, X\n",
    "                time_volumes.append(image_volume_czyx)  # Store for this time point\n",
    "        # Stack all time points into a 5D array (T, C, Z, Y, X)\n",
    "        if len(time_volumes) > 0:\n",
    "            images = np.stack(time_volumes, axis=0)  # T, C, Z, Y, X\n",
    "            print(f\"Final image volume shape: {images.shape}\")\n",
    "\n",
    "        try:\n",
    "            zarr_output_dir = os.path.join(base_dir, f'acquisition/zarr/{acq_ID}.zarr')\n",
    "            dask_images = dask.array.from_array(images)\n",
    "            zarr_group = zarr.open(zarr_output_dir, mode='w')\n",
    "            dask.array.to_zarr(dask_images, zarr_output_dir, component='images')\n",
    "            print(f\"Saved Zarr array successfully to {zarr_output_dir}\")\n",
    "        except:\n",
    "            print(base_dir_ID, acq_ID, 'zarr output failed')\n",
    "\n",
    "    # --- Omero Metadata ---\n",
    "    omero_metadata = {}\n",
    "    average_time_difference_seconds = None\n",
    "\n",
    "    # Calculate temporal framerate based on unique, sorted TimepointIDs\n",
    "    if 'AbsTime' in metadata.columns and 'TimepointID' in metadata.columns:\n",
    "        try:\n",
    "            if not pd.api.types.is_datetime64_any_dtype(metadata['AbsTime']):\n",
    "                metadata['AbsTime'] = pd.to_datetime(metadata['AbsTime'], format='ISO8601', utc=True)\n",
    "\n",
    "            timepoint_abs_times = metadata[['TimepointID', 'AbsTime']].drop_duplicates(subset=['TimepointID']).sort_values(key=lambda x: pd.to_numeric(x, errors='ignore'), by='TimepointID')\n",
    "\n",
    "            if len(timepoint_abs_times['TimepointID'].unique()) > 1: # Check if there is a time series\n",
    "                # Calculate the time difference between consecutive timepoints in seconds\n",
    "                time_diffs = timepoint_abs_times['AbsTime'].diff().dt.total_seconds().dropna()\n",
    "\n",
    "                if not time_diffs.empty:\n",
    "                    # Calculate the average time difference in seconds\n",
    "                    average_time_difference_seconds = time_diffs.mean()\n",
    "                    if average_time_difference_seconds > 0:\n",
    "                        framerate = 1 / average_time_difference_seconds\n",
    "                        omero_metadata['frameRate'] = framerate\n",
    "                        print(f\"Calculated framerate: {framerate} frames per second\")\n",
    "                    else:\n",
    "                        print(\"Warning: Average time difference is zero or negative, cannot calculate framerate.\")\n",
    "                else:\n",
    "                    print(\"Warning: Could not calculate time differences for framerate.\")\n",
    "            else:\n",
    "                print(\"Warning: Less than two unique TimepointIDs found, skipping framerate calculation.\")\n",
    "\n",
    "        except Exception as e:\n",
    "            print(f\"Warning: An error occurred while calculating framerate: {e}\")\n",
    "    # Channels (rest of your channel metadata code remains the same)\n",
    "    channels_data = []\n",
    "    for index, row in metadata.drop_duplicates(subset=['ChannelID']).iterrows():\n",
    "        emission_wavelength_meters = None\n",
    "        excitation_wavelength_meters = None\n",
    "    \n",
    "        if pd.notna(row['MainEmissionWavelength']):\n",
    "            try:\n",
    "                emission_wavelength = float(row['MainEmissionWavelength'])\n",
    "                emission_wavelength_meters = emission_wavelength * 1e-9\n",
    "            except ValueError:\n",
    "                print(f\"Warning: Could not convert '{row['MainEmissionWavelength']}' to float for emission wavelength (Channel ID: {row['ChannelID']}). Setting to None.\")\n",
    "    \n",
    "        if pd.notna(row['MainExcitationWavelength']):\n",
    "            try:\n",
    "                excitation_wavelength = float(row['MainExcitationWavelength'])\n",
    "                excitation_wavelength_meters = excitation_wavelength * 1e-9\n",
    "            except ValueError:\n",
    "                print(f\"Warning: Could not convert '{row['MainExcitationWavelength']}' to float for excitation wavelength (Channel ID: {row['ChannelID']}). Setting to None.\")\n",
    "    \n",
    "        channel = {\n",
    "            \"id\": int(row['ChannelID']),\n",
    "            \"label\": row['ChannelName'],\n",
    "            \"emissionWaveMeters\": emission_wavelength_meters,\n",
    "            \"excitationWaveMeters\": excitation_wavelength_meters,\n",
    "            # Add other relevant channel metadata if available\n",
    "        }\n",
    "        channels_data.append(channel)\n",
    "    omero_metadata['channels'] = channels_data\n",
    "    \n",
    "    # Objective (rest of your objective metadata code remains the same)\n",
    "    objective_data = {}\n",
    "    if 'ObjectiveMagnification' in metadata.columns and pd.notna(metadata['ObjectiveMagnification'].iloc[0]):\n",
    "        try:\n",
    "            objective_data['magnification'] = float(metadata['ObjectiveMagnification'].iloc[0])\n",
    "        except ValueError:\n",
    "            print(f\"Warning: Could not convert '{metadata['ObjectiveMagnification'].iloc[0]}' to float for objective magnification. Skipping.\")\n",
    "    if 'ObjectiveNA' in metadata.columns and pd.notna(metadata['ObjectiveNA'].iloc[0]):\n",
    "        try:\n",
    "            objective_data['numericalAperture'] = float(metadata['ObjectiveNA'].iloc[0])\n",
    "        except ValueError:\n",
    "            print(f\"Warning: Could not convert '{metadata['ObjectiveNA'].iloc[0]}' to float for objective NA. Skipping.\")\n",
    "    if objective_data:\n",
    "        omero_metadata['objective'] = objective_data\n",
    "\n",
    "    # --- Multiscales Metadata ---\n",
    "    multiscales_data = [{\n",
    "        \"name\": \"images\",\n",
    "        \"datasets\": [],\n",
    "        \"axes\": [\n",
    "            {\"name\": \"t\", \"type\": \"time\", \"unit\": \"second\", \"spacing\": average_time_difference_seconds},\n",
    "            {\"name\": \"c\", \"type\": \"channel\"},\n",
    "            {\"name\": \"z\", \"type\": \"space\", \"unit\": \"meter\", \"spacing\": None},\n",
    "            {\"name\": \"y\", \"type\": \"space\", \"unit\": \"meter\", \"pixelResolution\": None},\n",
    "            {\"name\": \"x\", \"type\": \"space\", \"unit\": \"meter\", \"pixelResolution\": None}\n",
    "        ],\n",
    "        \"type\": \"image\",\n",
    "        \"version\": \"0.4\"\n",
    "    }]\n",
    "\n",
    "    # Iterate through your existing Zarr directories to populate datasets (remains the same)\n",
    "    zarr_root_dir = f'{base_dir}/acquisition/zarr/'\n",
    "    for filename in os.listdir(zarr_root_dir):\n",
    "        if filename.endswith('.zarr'):\n",
    "            position_name = filename.replace('.zarr', '')\n",
    "            multiscales_data[0]['datasets'].append({\"path\": f\"{filename}/images\"})\n",
    "\n",
    "    # Add Image resolution and size information (remains the same)\n",
    "    if 'ImageResolutionX' in metadata.columns and 'ImageResolutionY' in metadata.columns:\n",
    "        try:\n",
    "            resolution_x = float(metadata['ImageResolutionX'].iloc[0])\n",
    "            resolution_y = float(metadata['ImageResolutionY'].iloc[0])\n",
    "            multiscales_data[0]['axes'][3]['pixelResolution'] = resolution_y\n",
    "            multiscales_data[0]['axes'][4]['pixelResolution'] = resolution_x\n",
    "        except ValueError:\n",
    "            print(\"Warning: Could not convert ImageResolutionX or ImageResolutionY to float. Skipping resolution metadata.\")\n",
    "        except IndexError:\n",
    "            print(\"Warning: Could not set pixelResolution, check axes configuration.\")\n",
    "\n",
    "    if 'ImageSizeX' in metadata.columns and 'ImageSizeY' in metadata.columns:\n",
    "        try:\n",
    "            size_x = int(metadata['ImageSizeX'].iloc[0])\n",
    "            size_y = int(metadata['ImageSizeY'].iloc[0])\n",
    "        except ValueError:\n",
    "            print(\"Warning: Could not convert ImageSizeX or ImageSizeY to int. Skipping image size metadata.\")\n",
    "\n",
    "    # Calculate mode of differences between unique Z positions for pseudo z-resolution (remains the same)\n",
    "    if 'PositionZ' in metadata.columns:\n",
    "        try:\n",
    "            z_positions = metadata['PositionZ'].astype(float).unique()\n",
    "            z_positions_sorted = np.sort(z_positions)\n",
    "            if len(z_positions_sorted) > 1:\n",
    "                z_diffs = np.diff(z_positions_sorted)\n",
    "                mode_result = stats.mode(z_diffs)\n",
    "                if mode_result.count > 0:\n",
    "                    modal_z_diff = mode_result.mode\n",
    "                    multiscales_data[0]['axes'][2]['spacing'] = modal_z_diff # in meters\n",
    "                    multiscales_data[0]['axes'][2]['unit'] = \"meter\"\n",
    "                else:\n",
    "                    print(\"Warning: No unique mode found for z-position differences.\")\n",
    "            else:\n",
    "                print(\"Warning: Only one unique z position found, cannot calculate z difference mode.\")\n",
    "        except ValueError:\n",
    "            print(\"Warning: Could not process PositionZ values for z-resolution calculation.\")\n",
    "        except IndexError:\n",
    "            print(\"Warning: Could not set z spacing, check axes configuration.\")\n",
    "\n",
    "\n",
    "    # --- Combine Metadata and save ---\n",
    "    top_level_attrs = {\n",
    "        \"assay_layout\": assay_layout.to_dict(orient='index'),\n",
    "        \"omero\": omero_metadata,\n",
    "        \"multiscales\": multiscales_data,\n",
    "        \"version\": \"0.4\",\n",
    "    }\n",
    "\n",
    "    # Create the top-level Zarr group and save metadata\n",
    "    group = zarr.group(zarr_root_dir, overwrite=False)\n",
    "    group.attrs.put(top_level_attrs)\n",
    "\n",
    "    print(f\"OME-Zarr metadata and assay layout saved to: {zarr_root_dir}/.zattrs\")"
   ]
  },
  {
   "cell_type": "markdown",
   "id": "d657de83-8087-440f-83dc-0df8e83dc577",
   "metadata": {},
   "source": [
    "# redo this one: '/mnt/DATA3/BPP0050/BPP0050-1-Live-cell-to4i_Live-2__2025-04-10T18_45_48-Measurement 1/acquisition/Images/Index.idx.xml'\n",
    "\n",
    "Trying iterative/chunked save out"
   ]
  },
  {
   "cell_type": "code",
   "execution_count": 35,
   "id": "f769c2e4-3e85-45f2-aba1-9d1c6acd3de4",
   "metadata": {},
   "outputs": [],
   "source": [
    "from pathlib import Path\n",
    "import numcodecs\n"
   ]
  },
  {
   "cell_type": "code",
   "execution_count": 40,
   "id": "e45fd0c0-78d7-44c7-9331-fdcb3d7a5093",
   "metadata": {},
   "outputs": [
    {
     "name": "stdout",
     "output_type": "stream",
     "text": [
      "Reading metadata XML file...\n"
     ]
    },
    {
     "data": {
      "application/vnd.jupyter.widget-view+json": {
       "model_id": "f7ad7b32f40e42369dca5125bee1f64b",
       "version_major": 2,
       "version_minor": 0
      },
      "text/plain": [
       "0it [00:00, ?it/s]"
      ]
     },
     "metadata": {},
     "output_type": "display_data"
    },
    {
     "name": "stdout",
     "output_type": "stream",
     "text": [
      "Extracting metadata complete!\n"
     ]
    },
    {
     "name": "stderr",
     "output_type": "stream",
     "text": [
      "/tmp/ipykernel_208248/2736082061.py:9: FutureWarning: errors='ignore' is deprecated and will raise in a future version. Use to_numeric without passing `errors` and catch exceptions explicitly instead\n",
      "  metadata = metadata.apply(pd.to_numeric, errors='ignore')\n"
     ]
    },
    {
     "name": "stdout",
     "output_type": "stream",
     "text": [
      "An unexpected error occurred during XML processing: \"['Row', 'Col'] not found in axis\"\n"
     ]
    },
    {
     "data": {
      "application/vnd.jupyter.widget-view+json": {
       "model_id": "41121df43cb042f5bacc26eb9997c040",
       "version_major": 2,
       "version_minor": 0
      },
      "text/plain": [
       "Now tiling in BPP0050-1-Live-cell-to4i_Live-2__2025-04-10T18_45_48-Measurement 1:   0%|          | 0/13 [00:00…"
      ]
     },
     "metadata": {},
     "output_type": "display_data"
    },
    {
     "name": "stdout",
     "output_type": "stream",
     "text": [
      "/mnt/DATA3/BPP0050/BPP0050-1-Live-cell-to4i_Live-2__2025-04-10T18_45_48-Measurement 1/acquisition/zarr/(3, 3).zarr already exists, skipping\n"
     ]
    },
    {
     "data": {
      "application/vnd.jupyter.widget-view+json": {
       "model_id": "7f19eb2bbea7498fa6418343f7544406",
       "version_major": 2,
       "version_minor": 0
      },
      "text/plain": [
       "Processing Time Points:   0%|          | 0/144 [00:00<?, ?it/s]"
      ]
     },
     "metadata": {},
     "output_type": "display_data"
    },
    {
     "data": {
      "application/vnd.jupyter.widget-view+json": {
       "model_id": "",
       "version_major": 2,
       "version_minor": 0
      },
      "text/plain": [
       "Processing Channels (T=0):   0%|          | 0/3 [00:00<?, ?it/s]"
      ]
     },
     "metadata": {},
     "output_type": "display_data"
    },
    {
     "name": "stdout",
     "output_type": "stream",
     "text": [
      "Timepoint ID 0 saved out\n"
     ]
    },
    {
     "data": {
      "application/vnd.jupyter.widget-view+json": {
       "model_id": "",
       "version_major": 2,
       "version_minor": 0
      },
      "text/plain": [
       "Processing Channels (T=1):   0%|          | 0/3 [00:00<?, ?it/s]"
      ]
     },
     "metadata": {},
     "output_type": "display_data"
    },
    {
     "name": "stdout",
     "output_type": "stream",
     "text": [
      "Timepoint ID 1 saved out\n"
     ]
    },
    {
     "data": {
      "application/vnd.jupyter.widget-view+json": {
       "model_id": "",
       "version_major": 2,
       "version_minor": 0
      },
      "text/plain": [
       "Processing Channels (T=2):   0%|          | 0/3 [00:00<?, ?it/s]"
      ]
     },
     "metadata": {},
     "output_type": "display_data"
    },
    {
     "name": "stdout",
     "output_type": "stream",
     "text": [
      "Timepoint ID 2 saved out\n"
     ]
    },
    {
     "data": {
      "application/vnd.jupyter.widget-view+json": {
       "model_id": "",
       "version_major": 2,
       "version_minor": 0
      },
      "text/plain": [
       "Processing Channels (T=3):   0%|          | 0/3 [00:00<?, ?it/s]"
      ]
     },
     "metadata": {},
     "output_type": "display_data"
    },
    {
     "name": "stdout",
     "output_type": "stream",
     "text": [
      "Timepoint ID 3 saved out\n"
     ]
    },
    {
     "data": {
      "application/vnd.jupyter.widget-view+json": {
       "model_id": "",
       "version_major": 2,
       "version_minor": 0
      },
      "text/plain": [
       "Processing Channels (T=4):   0%|          | 0/3 [00:00<?, ?it/s]"
      ]
     },
     "metadata": {},
     "output_type": "display_data"
    },
    {
     "name": "stdout",
     "output_type": "stream",
     "text": [
      "Timepoint ID 4 saved out\n"
     ]
    },
    {
     "data": {
      "application/vnd.jupyter.widget-view+json": {
       "model_id": "",
       "version_major": 2,
       "version_minor": 0
      },
      "text/plain": [
       "Processing Channels (T=5):   0%|          | 0/3 [00:00<?, ?it/s]"
      ]
     },
     "metadata": {},
     "output_type": "display_data"
    },
    {
     "name": "stdout",
     "output_type": "stream",
     "text": [
      "Timepoint ID 5 saved out\n"
     ]
    },
    {
     "data": {
      "application/vnd.jupyter.widget-view+json": {
       "model_id": "",
       "version_major": 2,
       "version_minor": 0
      },
      "text/plain": [
       "Processing Channels (T=6):   0%|          | 0/3 [00:00<?, ?it/s]"
      ]
     },
     "metadata": {},
     "output_type": "display_data"
    },
    {
     "name": "stdout",
     "output_type": "stream",
     "text": [
      "Timepoint ID 6 saved out\n"
     ]
    },
    {
     "data": {
      "application/vnd.jupyter.widget-view+json": {
       "model_id": "",
       "version_major": 2,
       "version_minor": 0
      },
      "text/plain": [
       "Processing Channels (T=7):   0%|          | 0/3 [00:00<?, ?it/s]"
      ]
     },
     "metadata": {},
     "output_type": "display_data"
    },
    {
     "name": "stdout",
     "output_type": "stream",
     "text": [
      "Timepoint ID 7 saved out\n"
     ]
    },
    {
     "data": {
      "application/vnd.jupyter.widget-view+json": {
       "model_id": "",
       "version_major": 2,
       "version_minor": 0
      },
      "text/plain": [
       "Processing Channels (T=8):   0%|          | 0/3 [00:00<?, ?it/s]"
      ]
     },
     "metadata": {},
     "output_type": "display_data"
    },
    {
     "name": "stdout",
     "output_type": "stream",
     "text": [
      "Timepoint ID 8 saved out\n"
     ]
    },
    {
     "data": {
      "application/vnd.jupyter.widget-view+json": {
       "model_id": "",
       "version_major": 2,
       "version_minor": 0
      },
      "text/plain": [
       "Processing Channels (T=9):   0%|          | 0/3 [00:00<?, ?it/s]"
      ]
     },
     "metadata": {},
     "output_type": "display_data"
    },
    {
     "name": "stdout",
     "output_type": "stream",
     "text": [
      "Timepoint ID 9 saved out\n"
     ]
    },
    {
     "data": {
      "application/vnd.jupyter.widget-view+json": {
       "model_id": "",
       "version_major": 2,
       "version_minor": 0
      },
      "text/plain": [
       "Processing Channels (T=10):   0%|          | 0/3 [00:00<?, ?it/s]"
      ]
     },
     "metadata": {},
     "output_type": "display_data"
    },
    {
     "name": "stdout",
     "output_type": "stream",
     "text": [
      "Timepoint ID 10 saved out\n"
     ]
    },
    {
     "data": {
      "application/vnd.jupyter.widget-view+json": {
       "model_id": "",
       "version_major": 2,
       "version_minor": 0
      },
      "text/plain": [
       "Processing Channels (T=11):   0%|          | 0/3 [00:00<?, ?it/s]"
      ]
     },
     "metadata": {},
     "output_type": "display_data"
    },
    {
     "name": "stdout",
     "output_type": "stream",
     "text": [
      "Timepoint ID 11 saved out\n"
     ]
    },
    {
     "data": {
      "application/vnd.jupyter.widget-view+json": {
       "model_id": "",
       "version_major": 2,
       "version_minor": 0
      },
      "text/plain": [
       "Processing Channels (T=12):   0%|          | 0/3 [00:00<?, ?it/s]"
      ]
     },
     "metadata": {},
     "output_type": "display_data"
    },
    {
     "name": "stdout",
     "output_type": "stream",
     "text": [
      "Timepoint ID 12 saved out\n"
     ]
    },
    {
     "data": {
      "application/vnd.jupyter.widget-view+json": {
       "model_id": "",
       "version_major": 2,
       "version_minor": 0
      },
      "text/plain": [
       "Processing Channels (T=13):   0%|          | 0/3 [00:00<?, ?it/s]"
      ]
     },
     "metadata": {},
     "output_type": "display_data"
    },
    {
     "name": "stdout",
     "output_type": "stream",
     "text": [
      "Timepoint ID 13 saved out\n"
     ]
    },
    {
     "data": {
      "application/vnd.jupyter.widget-view+json": {
       "model_id": "",
       "version_major": 2,
       "version_minor": 0
      },
      "text/plain": [
       "Processing Channels (T=14):   0%|          | 0/3 [00:00<?, ?it/s]"
      ]
     },
     "metadata": {},
     "output_type": "display_data"
    },
    {
     "name": "stdout",
     "output_type": "stream",
     "text": [
      "Timepoint ID 14 saved out\n"
     ]
    },
    {
     "data": {
      "application/vnd.jupyter.widget-view+json": {
       "model_id": "",
       "version_major": 2,
       "version_minor": 0
      },
      "text/plain": [
       "Processing Channels (T=15):   0%|          | 0/3 [00:00<?, ?it/s]"
      ]
     },
     "metadata": {},
     "output_type": "display_data"
    },
    {
     "name": "stdout",
     "output_type": "stream",
     "text": [
      "Timepoint ID 15 saved out\n"
     ]
    },
    {
     "data": {
      "application/vnd.jupyter.widget-view+json": {
       "model_id": "",
       "version_major": 2,
       "version_minor": 0
      },
      "text/plain": [
       "Processing Channels (T=16):   0%|          | 0/3 [00:00<?, ?it/s]"
      ]
     },
     "metadata": {},
     "output_type": "display_data"
    },
    {
     "name": "stdout",
     "output_type": "stream",
     "text": [
      "Timepoint ID 16 saved out\n"
     ]
    },
    {
     "data": {
      "application/vnd.jupyter.widget-view+json": {
       "model_id": "",
       "version_major": 2,
       "version_minor": 0
      },
      "text/plain": [
       "Processing Channels (T=17):   0%|          | 0/3 [00:00<?, ?it/s]"
      ]
     },
     "metadata": {},
     "output_type": "display_data"
    },
    {
     "name": "stdout",
     "output_type": "stream",
     "text": [
      "Timepoint ID 17 saved out\n"
     ]
    },
    {
     "data": {
      "application/vnd.jupyter.widget-view+json": {
       "model_id": "",
       "version_major": 2,
       "version_minor": 0
      },
      "text/plain": [
       "Processing Channels (T=18):   0%|          | 0/3 [00:00<?, ?it/s]"
      ]
     },
     "metadata": {},
     "output_type": "display_data"
    },
    {
     "name": "stdout",
     "output_type": "stream",
     "text": [
      "Timepoint ID 18 saved out\n"
     ]
    },
    {
     "data": {
      "application/vnd.jupyter.widget-view+json": {
       "model_id": "",
       "version_major": 2,
       "version_minor": 0
      },
      "text/plain": [
       "Processing Channels (T=19):   0%|          | 0/3 [00:00<?, ?it/s]"
      ]
     },
     "metadata": {},
     "output_type": "display_data"
    },
    {
     "name": "stdout",
     "output_type": "stream",
     "text": [
      "Timepoint ID 19 saved out\n"
     ]
    },
    {
     "data": {
      "application/vnd.jupyter.widget-view+json": {
       "model_id": "",
       "version_major": 2,
       "version_minor": 0
      },
      "text/plain": [
       "Processing Channels (T=20):   0%|          | 0/3 [00:00<?, ?it/s]"
      ]
     },
     "metadata": {},
     "output_type": "display_data"
    },
    {
     "name": "stdout",
     "output_type": "stream",
     "text": [
      "Timepoint ID 20 saved out\n"
     ]
    },
    {
     "data": {
      "application/vnd.jupyter.widget-view+json": {
       "model_id": "df4dc2740d5b4a29b2cf2dcb0bf0ed9f",
       "version_major": 2,
       "version_minor": 0
      },
      "text/plain": [
       "Processing Channels (T=21):   0%|          | 0/3 [00:00<?, ?it/s]"
      ]
     },
     "metadata": {},
     "output_type": "display_data"
    },
    {
     "name": "stdout",
     "output_type": "stream",
     "text": [
      "Timepoint ID 21 saved out\n"
     ]
    },
    {
     "data": {
      "application/vnd.jupyter.widget-view+json": {
       "model_id": "2b23c4698d1149e4afe6064481e05106",
       "version_major": 2,
       "version_minor": 0
      },
      "text/plain": [
       "Processing Channels (T=22):   0%|          | 0/3 [00:00<?, ?it/s]"
      ]
     },
     "metadata": {},
     "output_type": "display_data"
    },
    {
     "name": "stdout",
     "output_type": "stream",
     "text": [
      "Timepoint ID 22 saved out\n"
     ]
    },
    {
     "data": {
      "application/vnd.jupyter.widget-view+json": {
       "model_id": "ce1d24658f1341bcb8c76930bffc2abd",
       "version_major": 2,
       "version_minor": 0
      },
      "text/plain": [
       "Processing Channels (T=23):   0%|          | 0/3 [00:00<?, ?it/s]"
      ]
     },
     "metadata": {},
     "output_type": "display_data"
    },
    {
     "name": "stdout",
     "output_type": "stream",
     "text": [
      "Timepoint ID 23 saved out\n"
     ]
    },
    {
     "data": {
      "application/vnd.jupyter.widget-view+json": {
       "model_id": "0d883b51762f46738a5e553d8a2ba989",
       "version_major": 2,
       "version_minor": 0
      },
      "text/plain": [
       "Processing Channels (T=24):   0%|          | 0/3 [00:00<?, ?it/s]"
      ]
     },
     "metadata": {},
     "output_type": "display_data"
    },
    {
     "name": "stdout",
     "output_type": "stream",
     "text": [
      "Timepoint ID 24 saved out\n"
     ]
    },
    {
     "data": {
      "application/vnd.jupyter.widget-view+json": {
       "model_id": "f0a11e7ee82c49409469a0b40b3c8649",
       "version_major": 2,
       "version_minor": 0
      },
      "text/plain": [
       "Processing Channels (T=25):   0%|          | 0/3 [00:00<?, ?it/s]"
      ]
     },
     "metadata": {},
     "output_type": "display_data"
    },
    {
     "name": "stdout",
     "output_type": "stream",
     "text": [
      "Timepoint ID 25 saved out\n"
     ]
    },
    {
     "data": {
      "application/vnd.jupyter.widget-view+json": {
       "model_id": "9e7399a3915b4d06ad792207265bf1ba",
       "version_major": 2,
       "version_minor": 0
      },
      "text/plain": [
       "Processing Channels (T=26):   0%|          | 0/3 [00:00<?, ?it/s]"
      ]
     },
     "metadata": {},
     "output_type": "display_data"
    },
    {
     "name": "stdout",
     "output_type": "stream",
     "text": [
      "Timepoint ID 26 saved out\n"
     ]
    },
    {
     "data": {
      "application/vnd.jupyter.widget-view+json": {
       "model_id": "5267dbb0e20e43b2aa8a4b40049f3002",
       "version_major": 2,
       "version_minor": 0
      },
      "text/plain": [
       "Processing Channels (T=27):   0%|          | 0/3 [00:00<?, ?it/s]"
      ]
     },
     "metadata": {},
     "output_type": "display_data"
    },
    {
     "name": "stdout",
     "output_type": "stream",
     "text": [
      "Timepoint ID 27 saved out\n"
     ]
    },
    {
     "data": {
      "application/vnd.jupyter.widget-view+json": {
       "model_id": "aebd1a5892b444ea8df00a0d9bdc1765",
       "version_major": 2,
       "version_minor": 0
      },
      "text/plain": [
       "Processing Channels (T=28):   0%|          | 0/3 [00:00<?, ?it/s]"
      ]
     },
     "metadata": {},
     "output_type": "display_data"
    },
    {
     "name": "stdout",
     "output_type": "stream",
     "text": [
      "Timepoint ID 28 saved out\n"
     ]
    },
    {
     "data": {
      "application/vnd.jupyter.widget-view+json": {
       "model_id": "0a2824a5642d4b50979772c6e0b8b288",
       "version_major": 2,
       "version_minor": 0
      },
      "text/plain": [
       "Processing Channels (T=29):   0%|          | 0/3 [00:00<?, ?it/s]"
      ]
     },
     "metadata": {},
     "output_type": "display_data"
    },
    {
     "name": "stdout",
     "output_type": "stream",
     "text": [
      "Timepoint ID 29 saved out\n"
     ]
    },
    {
     "data": {
      "application/vnd.jupyter.widget-view+json": {
       "model_id": "b73f95f587334d90969be61fd1f9cd4f",
       "version_major": 2,
       "version_minor": 0
      },
      "text/plain": [
       "Processing Channels (T=30):   0%|          | 0/3 [00:00<?, ?it/s]"
      ]
     },
     "metadata": {},
     "output_type": "display_data"
    },
    {
     "name": "stdout",
     "output_type": "stream",
     "text": [
      "Timepoint ID 30 saved out\n"
     ]
    },
    {
     "data": {
      "application/vnd.jupyter.widget-view+json": {
       "model_id": "6bac0819f5644f3990241347c530853f",
       "version_major": 2,
       "version_minor": 0
      },
      "text/plain": [
       "Processing Channels (T=31):   0%|          | 0/3 [00:00<?, ?it/s]"
      ]
     },
     "metadata": {},
     "output_type": "display_data"
    },
    {
     "name": "stdout",
     "output_type": "stream",
     "text": [
      "Timepoint ID 31 saved out\n"
     ]
    },
    {
     "data": {
      "application/vnd.jupyter.widget-view+json": {
       "model_id": "d8f5432640944c189822da749538dc7c",
       "version_major": 2,
       "version_minor": 0
      },
      "text/plain": [
       "Processing Channels (T=32):   0%|          | 0/3 [00:00<?, ?it/s]"
      ]
     },
     "metadata": {},
     "output_type": "display_data"
    },
    {
     "name": "stdout",
     "output_type": "stream",
     "text": [
      "Timepoint ID 32 saved out\n"
     ]
    },
    {
     "data": {
      "application/vnd.jupyter.widget-view+json": {
       "model_id": "a6db1952b32041c38def5d5f96024201",
       "version_major": 2,
       "version_minor": 0
      },
      "text/plain": [
       "Processing Channels (T=33):   0%|          | 0/3 [00:00<?, ?it/s]"
      ]
     },
     "metadata": {},
     "output_type": "display_data"
    },
    {
     "name": "stdout",
     "output_type": "stream",
     "text": [
      "Timepoint ID 33 saved out\n"
     ]
    },
    {
     "data": {
      "application/vnd.jupyter.widget-view+json": {
       "model_id": "0ef4897530044313a4cdd936ed9d2ac5",
       "version_major": 2,
       "version_minor": 0
      },
      "text/plain": [
       "Processing Channels (T=34):   0%|          | 0/3 [00:00<?, ?it/s]"
      ]
     },
     "metadata": {},
     "output_type": "display_data"
    },
    {
     "name": "stdout",
     "output_type": "stream",
     "text": [
      "Timepoint ID 34 saved out\n"
     ]
    },
    {
     "data": {
      "application/vnd.jupyter.widget-view+json": {
       "model_id": "04145d64af6a4ae7a36087a9dd0031d1",
       "version_major": 2,
       "version_minor": 0
      },
      "text/plain": [
       "Processing Channels (T=35):   0%|          | 0/3 [00:00<?, ?it/s]"
      ]
     },
     "metadata": {},
     "output_type": "display_data"
    },
    {
     "name": "stdout",
     "output_type": "stream",
     "text": [
      "Timepoint ID 35 saved out\n"
     ]
    },
    {
     "data": {
      "application/vnd.jupyter.widget-view+json": {
       "model_id": "69b68cf3c0cf46839a713250b9e06cb6",
       "version_major": 2,
       "version_minor": 0
      },
      "text/plain": [
       "Processing Channels (T=36):   0%|          | 0/3 [00:00<?, ?it/s]"
      ]
     },
     "metadata": {},
     "output_type": "display_data"
    },
    {
     "name": "stdout",
     "output_type": "stream",
     "text": [
      "Timepoint ID 36 saved out\n"
     ]
    },
    {
     "data": {
      "application/vnd.jupyter.widget-view+json": {
       "model_id": "8aef1c9ffb7c4ef8974b36c86541b2df",
       "version_major": 2,
       "version_minor": 0
      },
      "text/plain": [
       "Processing Channels (T=37):   0%|          | 0/3 [00:00<?, ?it/s]"
      ]
     },
     "metadata": {},
     "output_type": "display_data"
    },
    {
     "name": "stdout",
     "output_type": "stream",
     "text": [
      "Timepoint ID 37 saved out\n"
     ]
    },
    {
     "data": {
      "application/vnd.jupyter.widget-view+json": {
       "model_id": "1cddd34a574e4010926f271bac28196d",
       "version_major": 2,
       "version_minor": 0
      },
      "text/plain": [
       "Processing Channels (T=38):   0%|          | 0/3 [00:00<?, ?it/s]"
      ]
     },
     "metadata": {},
     "output_type": "display_data"
    },
    {
     "name": "stdout",
     "output_type": "stream",
     "text": [
      "Timepoint ID 38 saved out\n"
     ]
    },
    {
     "data": {
      "application/vnd.jupyter.widget-view+json": {
       "model_id": "64804084e9044e1f89eef25693e811ee",
       "version_major": 2,
       "version_minor": 0
      },
      "text/plain": [
       "Processing Channels (T=39):   0%|          | 0/3 [00:00<?, ?it/s]"
      ]
     },
     "metadata": {},
     "output_type": "display_data"
    },
    {
     "name": "stdout",
     "output_type": "stream",
     "text": [
      "Timepoint ID 39 saved out\n"
     ]
    },
    {
     "data": {
      "application/vnd.jupyter.widget-view+json": {
       "model_id": "305b543012044b229b36413eacac3c01",
       "version_major": 2,
       "version_minor": 0
      },
      "text/plain": [
       "Processing Channels (T=40):   0%|          | 0/3 [00:00<?, ?it/s]"
      ]
     },
     "metadata": {},
     "output_type": "display_data"
    },
    {
     "name": "stdout",
     "output_type": "stream",
     "text": [
      "Timepoint ID 40 saved out\n"
     ]
    },
    {
     "data": {
      "application/vnd.jupyter.widget-view+json": {
       "model_id": "ab81908966e84d6481a4dfc4a15627df",
       "version_major": 2,
       "version_minor": 0
      },
      "text/plain": [
       "Processing Channels (T=41):   0%|          | 0/3 [00:00<?, ?it/s]"
      ]
     },
     "metadata": {},
     "output_type": "display_data"
    },
    {
     "name": "stdout",
     "output_type": "stream",
     "text": [
      "Timepoint ID 41 saved out\n"
     ]
    },
    {
     "data": {
      "application/vnd.jupyter.widget-view+json": {
       "model_id": "8466b5dfe4e24741988c310c683a4d69",
       "version_major": 2,
       "version_minor": 0
      },
      "text/plain": [
       "Processing Channels (T=42):   0%|          | 0/3 [00:00<?, ?it/s]"
      ]
     },
     "metadata": {},
     "output_type": "display_data"
    },
    {
     "name": "stdout",
     "output_type": "stream",
     "text": [
      "Timepoint ID 42 saved out\n"
     ]
    },
    {
     "data": {
      "application/vnd.jupyter.widget-view+json": {
       "model_id": "c499f4ba8255467d8fd4101e9966d127",
       "version_major": 2,
       "version_minor": 0
      },
      "text/plain": [
       "Processing Channels (T=43):   0%|          | 0/3 [00:00<?, ?it/s]"
      ]
     },
     "metadata": {},
     "output_type": "display_data"
    },
    {
     "name": "stdout",
     "output_type": "stream",
     "text": [
      "Timepoint ID 43 saved out\n"
     ]
    },
    {
     "data": {
      "application/vnd.jupyter.widget-view+json": {
       "model_id": "f793e39620e94546ae428cb7e13b64a8",
       "version_major": 2,
       "version_minor": 0
      },
      "text/plain": [
       "Processing Channels (T=44):   0%|          | 0/3 [00:00<?, ?it/s]"
      ]
     },
     "metadata": {},
     "output_type": "display_data"
    },
    {
     "name": "stdout",
     "output_type": "stream",
     "text": [
      "Timepoint ID 44 saved out\n"
     ]
    },
    {
     "data": {
      "application/vnd.jupyter.widget-view+json": {
       "model_id": "1725be3b6c314029ba99ceb40c5e1450",
       "version_major": 2,
       "version_minor": 0
      },
      "text/plain": [
       "Processing Channels (T=45):   0%|          | 0/3 [00:00<?, ?it/s]"
      ]
     },
     "metadata": {},
     "output_type": "display_data"
    },
    {
     "name": "stdout",
     "output_type": "stream",
     "text": [
      "Timepoint ID 45 saved out\n"
     ]
    },
    {
     "data": {
      "application/vnd.jupyter.widget-view+json": {
       "model_id": "3bd9ae9358f6407ab6c3a4eaea4d6501",
       "version_major": 2,
       "version_minor": 0
      },
      "text/plain": [
       "Processing Channels (T=46):   0%|          | 0/3 [00:00<?, ?it/s]"
      ]
     },
     "metadata": {},
     "output_type": "display_data"
    },
    {
     "name": "stdout",
     "output_type": "stream",
     "text": [
      "Timepoint ID 46 saved out\n"
     ]
    },
    {
     "data": {
      "application/vnd.jupyter.widget-view+json": {
       "model_id": "ea04cf646bd44ebe8e71b21238549a7d",
       "version_major": 2,
       "version_minor": 0
      },
      "text/plain": [
       "Processing Channels (T=47):   0%|          | 0/3 [00:00<?, ?it/s]"
      ]
     },
     "metadata": {},
     "output_type": "display_data"
    },
    {
     "name": "stdout",
     "output_type": "stream",
     "text": [
      "Timepoint ID 47 saved out\n"
     ]
    },
    {
     "data": {
      "application/vnd.jupyter.widget-view+json": {
       "model_id": "679d54944db14507a16625b69ef62797",
       "version_major": 2,
       "version_minor": 0
      },
      "text/plain": [
       "Processing Channels (T=48):   0%|          | 0/3 [00:00<?, ?it/s]"
      ]
     },
     "metadata": {},
     "output_type": "display_data"
    },
    {
     "name": "stdout",
     "output_type": "stream",
     "text": [
      "Timepoint ID 48 saved out\n"
     ]
    },
    {
     "data": {
      "application/vnd.jupyter.widget-view+json": {
       "model_id": "ee4b52b5bffb414a8b4ae9bca46298c1",
       "version_major": 2,
       "version_minor": 0
      },
      "text/plain": [
       "Processing Channels (T=49):   0%|          | 0/3 [00:00<?, ?it/s]"
      ]
     },
     "metadata": {},
     "output_type": "display_data"
    },
    {
     "name": "stdout",
     "output_type": "stream",
     "text": [
      "Timepoint ID 49 saved out\n"
     ]
    },
    {
     "data": {
      "application/vnd.jupyter.widget-view+json": {
       "model_id": "0b6c84c909cb4cffa63ed09e599a96cf",
       "version_major": 2,
       "version_minor": 0
      },
      "text/plain": [
       "Processing Channels (T=50):   0%|          | 0/3 [00:00<?, ?it/s]"
      ]
     },
     "metadata": {},
     "output_type": "display_data"
    },
    {
     "name": "stdout",
     "output_type": "stream",
     "text": [
      "Timepoint ID 50 saved out\n"
     ]
    },
    {
     "data": {
      "application/vnd.jupyter.widget-view+json": {
       "model_id": "d2bbbf6267624dc19a273014cc3922b8",
       "version_major": 2,
       "version_minor": 0
      },
      "text/plain": [
       "Processing Channels (T=51):   0%|          | 0/3 [00:00<?, ?it/s]"
      ]
     },
     "metadata": {},
     "output_type": "display_data"
    },
    {
     "name": "stdout",
     "output_type": "stream",
     "text": [
      "Timepoint ID 51 saved out\n"
     ]
    },
    {
     "data": {
      "application/vnd.jupyter.widget-view+json": {
       "model_id": "ac3de9ec6d2e43dc92a89c5cb84ebc75",
       "version_major": 2,
       "version_minor": 0
      },
      "text/plain": [
       "Processing Channels (T=52):   0%|          | 0/3 [00:00<?, ?it/s]"
      ]
     },
     "metadata": {},
     "output_type": "display_data"
    },
    {
     "name": "stdout",
     "output_type": "stream",
     "text": [
      "Timepoint ID 52 saved out\n"
     ]
    },
    {
     "data": {
      "application/vnd.jupyter.widget-view+json": {
       "model_id": "1941bdb490794b92b90cb36d2d4fe46e",
       "version_major": 2,
       "version_minor": 0
      },
      "text/plain": [
       "Processing Channels (T=53):   0%|          | 0/3 [00:00<?, ?it/s]"
      ]
     },
     "metadata": {},
     "output_type": "display_data"
    },
    {
     "name": "stdout",
     "output_type": "stream",
     "text": [
      "Timepoint ID 53 saved out\n"
     ]
    },
    {
     "data": {
      "application/vnd.jupyter.widget-view+json": {
       "model_id": "385de582365945538bd89b5c8397b597",
       "version_major": 2,
       "version_minor": 0
      },
      "text/plain": [
       "Processing Channels (T=54):   0%|          | 0/3 [00:00<?, ?it/s]"
      ]
     },
     "metadata": {},
     "output_type": "display_data"
    },
    {
     "name": "stdout",
     "output_type": "stream",
     "text": [
      "Timepoint ID 54 saved out\n"
     ]
    },
    {
     "data": {
      "application/vnd.jupyter.widget-view+json": {
       "model_id": "584d69eb353c4fb3919274fc2534dcb3",
       "version_major": 2,
       "version_minor": 0
      },
      "text/plain": [
       "Processing Channels (T=55):   0%|          | 0/3 [00:00<?, ?it/s]"
      ]
     },
     "metadata": {},
     "output_type": "display_data"
    },
    {
     "name": "stdout",
     "output_type": "stream",
     "text": [
      "Timepoint ID 55 saved out\n"
     ]
    },
    {
     "data": {
      "application/vnd.jupyter.widget-view+json": {
       "model_id": "41c15e3dae52461f88f04d501fc652a3",
       "version_major": 2,
       "version_minor": 0
      },
      "text/plain": [
       "Processing Channels (T=56):   0%|          | 0/3 [00:00<?, ?it/s]"
      ]
     },
     "metadata": {},
     "output_type": "display_data"
    },
    {
     "name": "stdout",
     "output_type": "stream",
     "text": [
      "Timepoint ID 56 saved out\n"
     ]
    },
    {
     "data": {
      "application/vnd.jupyter.widget-view+json": {
       "model_id": "8469d4cb634243e8babb17cd1b5a54b5",
       "version_major": 2,
       "version_minor": 0
      },
      "text/plain": [
       "Processing Channels (T=57):   0%|          | 0/3 [00:00<?, ?it/s]"
      ]
     },
     "metadata": {},
     "output_type": "display_data"
    },
    {
     "name": "stdout",
     "output_type": "stream",
     "text": [
      "Timepoint ID 57 saved out\n"
     ]
    },
    {
     "data": {
      "application/vnd.jupyter.widget-view+json": {
       "model_id": "3314fcbeb89440c8aa875986396fc4cf",
       "version_major": 2,
       "version_minor": 0
      },
      "text/plain": [
       "Processing Channels (T=58):   0%|          | 0/3 [00:00<?, ?it/s]"
      ]
     },
     "metadata": {},
     "output_type": "display_data"
    },
    {
     "name": "stdout",
     "output_type": "stream",
     "text": [
      "Timepoint ID 58 saved out\n"
     ]
    },
    {
     "data": {
      "application/vnd.jupyter.widget-view+json": {
       "model_id": "217ba6c15cc04f7e9c27bdbe737ec7d8",
       "version_major": 2,
       "version_minor": 0
      },
      "text/plain": [
       "Processing Channels (T=59):   0%|          | 0/3 [00:00<?, ?it/s]"
      ]
     },
     "metadata": {},
     "output_type": "display_data"
    },
    {
     "name": "stdout",
     "output_type": "stream",
     "text": [
      "Timepoint ID 59 saved out\n"
     ]
    },
    {
     "data": {
      "application/vnd.jupyter.widget-view+json": {
       "model_id": "705e0401360543d9bee5d1a3ca52ce53",
       "version_major": 2,
       "version_minor": 0
      },
      "text/plain": [
       "Processing Channels (T=60):   0%|          | 0/3 [00:00<?, ?it/s]"
      ]
     },
     "metadata": {},
     "output_type": "display_data"
    },
    {
     "name": "stdout",
     "output_type": "stream",
     "text": [
      "Timepoint ID 60 saved out\n"
     ]
    },
    {
     "data": {
      "application/vnd.jupyter.widget-view+json": {
       "model_id": "c28397d50d5c4e719fc40ea11859e502",
       "version_major": 2,
       "version_minor": 0
      },
      "text/plain": [
       "Processing Channels (T=61):   0%|          | 0/3 [00:00<?, ?it/s]"
      ]
     },
     "metadata": {},
     "output_type": "display_data"
    },
    {
     "name": "stdout",
     "output_type": "stream",
     "text": [
      "Timepoint ID 61 saved out\n"
     ]
    },
    {
     "data": {
      "application/vnd.jupyter.widget-view+json": {
       "model_id": "2ad50c9bb2e848ac9406c738062d988e",
       "version_major": 2,
       "version_minor": 0
      },
      "text/plain": [
       "Processing Channels (T=62):   0%|          | 0/3 [00:00<?, ?it/s]"
      ]
     },
     "metadata": {},
     "output_type": "display_data"
    },
    {
     "name": "stdout",
     "output_type": "stream",
     "text": [
      "Timepoint ID 62 saved out\n"
     ]
    },
    {
     "data": {
      "application/vnd.jupyter.widget-view+json": {
       "model_id": "32f7c6a9bc0443dc825e139b3f3393bc",
       "version_major": 2,
       "version_minor": 0
      },
      "text/plain": [
       "Processing Channels (T=63):   0%|          | 0/3 [00:00<?, ?it/s]"
      ]
     },
     "metadata": {},
     "output_type": "display_data"
    },
    {
     "name": "stdout",
     "output_type": "stream",
     "text": [
      "Timepoint ID 63 saved out\n"
     ]
    },
    {
     "data": {
      "application/vnd.jupyter.widget-view+json": {
       "model_id": "ddb93dd2e4664ffa877bb32514513b33",
       "version_major": 2,
       "version_minor": 0
      },
      "text/plain": [
       "Processing Channels (T=64):   0%|          | 0/3 [00:00<?, ?it/s]"
      ]
     },
     "metadata": {},
     "output_type": "display_data"
    },
    {
     "name": "stdout",
     "output_type": "stream",
     "text": [
      "Timepoint ID 64 saved out\n"
     ]
    },
    {
     "data": {
      "application/vnd.jupyter.widget-view+json": {
       "model_id": "382f3db7dce3464db5bd698c578a95f2",
       "version_major": 2,
       "version_minor": 0
      },
      "text/plain": [
       "Processing Channels (T=65):   0%|          | 0/3 [00:00<?, ?it/s]"
      ]
     },
     "metadata": {},
     "output_type": "display_data"
    },
    {
     "name": "stdout",
     "output_type": "stream",
     "text": [
      "Timepoint ID 65 saved out\n"
     ]
    },
    {
     "data": {
      "application/vnd.jupyter.widget-view+json": {
       "model_id": "fb2c2ee3ed4a49c7a3afc603f4be51bf",
       "version_major": 2,
       "version_minor": 0
      },
      "text/plain": [
       "Processing Channels (T=66):   0%|          | 0/3 [00:00<?, ?it/s]"
      ]
     },
     "metadata": {},
     "output_type": "display_data"
    },
    {
     "name": "stdout",
     "output_type": "stream",
     "text": [
      "Timepoint ID 66 saved out\n"
     ]
    },
    {
     "data": {
      "application/vnd.jupyter.widget-view+json": {
       "model_id": "01b53f9fe0a645b981a7a0ddd617bb9c",
       "version_major": 2,
       "version_minor": 0
      },
      "text/plain": [
       "Processing Channels (T=67):   0%|          | 0/3 [00:00<?, ?it/s]"
      ]
     },
     "metadata": {},
     "output_type": "display_data"
    },
    {
     "name": "stdout",
     "output_type": "stream",
     "text": [
      "Timepoint ID 67 saved out\n"
     ]
    },
    {
     "data": {
      "application/vnd.jupyter.widget-view+json": {
       "model_id": "7c8bb9f6b0ec4efa94363154a3ede030",
       "version_major": 2,
       "version_minor": 0
      },
      "text/plain": [
       "Processing Channels (T=68):   0%|          | 0/3 [00:00<?, ?it/s]"
      ]
     },
     "metadata": {},
     "output_type": "display_data"
    },
    {
     "name": "stdout",
     "output_type": "stream",
     "text": [
      "Timepoint ID 68 saved out\n"
     ]
    },
    {
     "data": {
      "application/vnd.jupyter.widget-view+json": {
       "model_id": "20e84515dc594b429d279752442f8eec",
       "version_major": 2,
       "version_minor": 0
      },
      "text/plain": [
       "Processing Channels (T=69):   0%|          | 0/3 [00:00<?, ?it/s]"
      ]
     },
     "metadata": {},
     "output_type": "display_data"
    },
    {
     "name": "stdout",
     "output_type": "stream",
     "text": [
      "Timepoint ID 69 saved out\n"
     ]
    },
    {
     "data": {
      "application/vnd.jupyter.widget-view+json": {
       "model_id": "8dc4dac26c1f4790971edb5343b9494e",
       "version_major": 2,
       "version_minor": 0
      },
      "text/plain": [
       "Processing Channels (T=70):   0%|          | 0/3 [00:00<?, ?it/s]"
      ]
     },
     "metadata": {},
     "output_type": "display_data"
    },
    {
     "name": "stdout",
     "output_type": "stream",
     "text": [
      "Timepoint ID 70 saved out\n"
     ]
    },
    {
     "data": {
      "application/vnd.jupyter.widget-view+json": {
       "model_id": "d9b60500bc0249d09ebbf967cebca672",
       "version_major": 2,
       "version_minor": 0
      },
      "text/plain": [
       "Processing Channels (T=71):   0%|          | 0/3 [00:00<?, ?it/s]"
      ]
     },
     "metadata": {},
     "output_type": "display_data"
    },
    {
     "name": "stdout",
     "output_type": "stream",
     "text": [
      "Timepoint ID 71 saved out\n"
     ]
    },
    {
     "data": {
      "application/vnd.jupyter.widget-view+json": {
       "model_id": "b5f1f2ced1b146bba081ce33e51edcee",
       "version_major": 2,
       "version_minor": 0
      },
      "text/plain": [
       "Processing Channels (T=72):   0%|          | 0/3 [00:00<?, ?it/s]"
      ]
     },
     "metadata": {},
     "output_type": "display_data"
    },
    {
     "name": "stdout",
     "output_type": "stream",
     "text": [
      "Timepoint ID 72 saved out\n"
     ]
    },
    {
     "data": {
      "application/vnd.jupyter.widget-view+json": {
       "model_id": "7743286de335486bbca55618acc1cc6e",
       "version_major": 2,
       "version_minor": 0
      },
      "text/plain": [
       "Processing Channels (T=73):   0%|          | 0/3 [00:00<?, ?it/s]"
      ]
     },
     "metadata": {},
     "output_type": "display_data"
    },
    {
     "name": "stdout",
     "output_type": "stream",
     "text": [
      "Timepoint ID 73 saved out\n"
     ]
    },
    {
     "data": {
      "application/vnd.jupyter.widget-view+json": {
       "model_id": "d19a3a7c9cff469e82e4d2b358328b91",
       "version_major": 2,
       "version_minor": 0
      },
      "text/plain": [
       "Processing Channels (T=74):   0%|          | 0/3 [00:00<?, ?it/s]"
      ]
     },
     "metadata": {},
     "output_type": "display_data"
    },
    {
     "name": "stdout",
     "output_type": "stream",
     "text": [
      "Timepoint ID 74 saved out\n"
     ]
    },
    {
     "data": {
      "application/vnd.jupyter.widget-view+json": {
       "model_id": "5825f5a44648484598f293f7c9edbaf3",
       "version_major": 2,
       "version_minor": 0
      },
      "text/plain": [
       "Processing Channels (T=75):   0%|          | 0/3 [00:00<?, ?it/s]"
      ]
     },
     "metadata": {},
     "output_type": "display_data"
    },
    {
     "name": "stdout",
     "output_type": "stream",
     "text": [
      "Timepoint ID 75 saved out\n"
     ]
    },
    {
     "data": {
      "application/vnd.jupyter.widget-view+json": {
       "model_id": "9234d111203c45b392acdb4a32b0a77c",
       "version_major": 2,
       "version_minor": 0
      },
      "text/plain": [
       "Processing Channels (T=76):   0%|          | 0/3 [00:00<?, ?it/s]"
      ]
     },
     "metadata": {},
     "output_type": "display_data"
    },
    {
     "name": "stdout",
     "output_type": "stream",
     "text": [
      "Timepoint ID 76 saved out\n"
     ]
    },
    {
     "data": {
      "application/vnd.jupyter.widget-view+json": {
       "model_id": "2bc44cdce9b249398affb15e0216ec8e",
       "version_major": 2,
       "version_minor": 0
      },
      "text/plain": [
       "Processing Channels (T=77):   0%|          | 0/3 [00:00<?, ?it/s]"
      ]
     },
     "metadata": {},
     "output_type": "display_data"
    },
    {
     "name": "stdout",
     "output_type": "stream",
     "text": [
      "Timepoint ID 77 saved out\n"
     ]
    },
    {
     "data": {
      "application/vnd.jupyter.widget-view+json": {
       "model_id": "ba14fca0cc504c84abbfbbdc108270ad",
       "version_major": 2,
       "version_minor": 0
      },
      "text/plain": [
       "Processing Channels (T=78):   0%|          | 0/3 [00:00<?, ?it/s]"
      ]
     },
     "metadata": {},
     "output_type": "display_data"
    },
    {
     "name": "stdout",
     "output_type": "stream",
     "text": [
      "Timepoint ID 78 saved out\n"
     ]
    },
    {
     "data": {
      "application/vnd.jupyter.widget-view+json": {
       "model_id": "ff413122275d4eb6b04a72a155c69ea0",
       "version_major": 2,
       "version_minor": 0
      },
      "text/plain": [
       "Processing Channels (T=79):   0%|          | 0/3 [00:00<?, ?it/s]"
      ]
     },
     "metadata": {},
     "output_type": "display_data"
    },
    {
     "name": "stdout",
     "output_type": "stream",
     "text": [
      "Timepoint ID 79 saved out\n"
     ]
    },
    {
     "data": {
      "application/vnd.jupyter.widget-view+json": {
       "model_id": "829e70755596452aaf7143b1213ec11b",
       "version_major": 2,
       "version_minor": 0
      },
      "text/plain": [
       "Processing Channels (T=80):   0%|          | 0/3 [00:00<?, ?it/s]"
      ]
     },
     "metadata": {},
     "output_type": "display_data"
    },
    {
     "name": "stdout",
     "output_type": "stream",
     "text": [
      "Timepoint ID 80 saved out\n"
     ]
    },
    {
     "data": {
      "application/vnd.jupyter.widget-view+json": {
       "model_id": "cb992efbb9a24a588f989ca9846df0fc",
       "version_major": 2,
       "version_minor": 0
      },
      "text/plain": [
       "Processing Channels (T=81):   0%|          | 0/3 [00:00<?, ?it/s]"
      ]
     },
     "metadata": {},
     "output_type": "display_data"
    },
    {
     "name": "stdout",
     "output_type": "stream",
     "text": [
      "Timepoint ID 81 saved out\n"
     ]
    },
    {
     "data": {
      "application/vnd.jupyter.widget-view+json": {
       "model_id": "7b01c1d1ff154e6b8dcfcf6bf14cd536",
       "version_major": 2,
       "version_minor": 0
      },
      "text/plain": [
       "Processing Channels (T=82):   0%|          | 0/3 [00:00<?, ?it/s]"
      ]
     },
     "metadata": {},
     "output_type": "display_data"
    },
    {
     "name": "stdout",
     "output_type": "stream",
     "text": [
      "Timepoint ID 82 saved out\n"
     ]
    },
    {
     "data": {
      "application/vnd.jupyter.widget-view+json": {
       "model_id": "8659cce135084a8290d4f589cb582008",
       "version_major": 2,
       "version_minor": 0
      },
      "text/plain": [
       "Processing Channels (T=83):   0%|          | 0/3 [00:00<?, ?it/s]"
      ]
     },
     "metadata": {},
     "output_type": "display_data"
    },
    {
     "name": "stdout",
     "output_type": "stream",
     "text": [
      "Timepoint ID 83 saved out\n"
     ]
    },
    {
     "data": {
      "application/vnd.jupyter.widget-view+json": {
       "model_id": "ac7a6ad13f04404e82d11f38161ea84f",
       "version_major": 2,
       "version_minor": 0
      },
      "text/plain": [
       "Processing Channels (T=84):   0%|          | 0/3 [00:00<?, ?it/s]"
      ]
     },
     "metadata": {},
     "output_type": "display_data"
    },
    {
     "name": "stdout",
     "output_type": "stream",
     "text": [
      "Timepoint ID 84 saved out\n"
     ]
    },
    {
     "data": {
      "application/vnd.jupyter.widget-view+json": {
       "model_id": "52e7abcf9c9641cea3fc290521236f97",
       "version_major": 2,
       "version_minor": 0
      },
      "text/plain": [
       "Processing Channels (T=85):   0%|          | 0/3 [00:00<?, ?it/s]"
      ]
     },
     "metadata": {},
     "output_type": "display_data"
    },
    {
     "name": "stdout",
     "output_type": "stream",
     "text": [
      "Timepoint ID 85 saved out\n"
     ]
    },
    {
     "data": {
      "application/vnd.jupyter.widget-view+json": {
       "model_id": "1958742ddadd4ac4a216d48f101e3dde",
       "version_major": 2,
       "version_minor": 0
      },
      "text/plain": [
       "Processing Channels (T=86):   0%|          | 0/3 [00:00<?, ?it/s]"
      ]
     },
     "metadata": {},
     "output_type": "display_data"
    },
    {
     "name": "stdout",
     "output_type": "stream",
     "text": [
      "Timepoint ID 86 saved out\n"
     ]
    },
    {
     "data": {
      "application/vnd.jupyter.widget-view+json": {
       "model_id": "9a70b2aeff3f4f94a50181845516a03f",
       "version_major": 2,
       "version_minor": 0
      },
      "text/plain": [
       "Processing Channels (T=87):   0%|          | 0/3 [00:00<?, ?it/s]"
      ]
     },
     "metadata": {},
     "output_type": "display_data"
    },
    {
     "name": "stdout",
     "output_type": "stream",
     "text": [
      "Timepoint ID 87 saved out\n"
     ]
    },
    {
     "data": {
      "application/vnd.jupyter.widget-view+json": {
       "model_id": "278d4086860146329ac8863711540162",
       "version_major": 2,
       "version_minor": 0
      },
      "text/plain": [
       "Processing Channels (T=88):   0%|          | 0/3 [00:00<?, ?it/s]"
      ]
     },
     "metadata": {},
     "output_type": "display_data"
    },
    {
     "name": "stdout",
     "output_type": "stream",
     "text": [
      "Timepoint ID 88 saved out\n"
     ]
    },
    {
     "data": {
      "application/vnd.jupyter.widget-view+json": {
       "model_id": "d2625c083120402a9ba913358328bc45",
       "version_major": 2,
       "version_minor": 0
      },
      "text/plain": [
       "Processing Channels (T=89):   0%|          | 0/3 [00:00<?, ?it/s]"
      ]
     },
     "metadata": {},
     "output_type": "display_data"
    },
    {
     "name": "stdout",
     "output_type": "stream",
     "text": [
      "Timepoint ID 89 saved out\n"
     ]
    },
    {
     "data": {
      "application/vnd.jupyter.widget-view+json": {
       "model_id": "4167510bd7bd467685f66272ac70fd83",
       "version_major": 2,
       "version_minor": 0
      },
      "text/plain": [
       "Processing Channels (T=90):   0%|          | 0/3 [00:00<?, ?it/s]"
      ]
     },
     "metadata": {},
     "output_type": "display_data"
    },
    {
     "name": "stdout",
     "output_type": "stream",
     "text": [
      "Timepoint ID 90 saved out\n"
     ]
    },
    {
     "data": {
      "application/vnd.jupyter.widget-view+json": {
       "model_id": "2e13e4d1070e4cfb88681998a38244ea",
       "version_major": 2,
       "version_minor": 0
      },
      "text/plain": [
       "Processing Channels (T=91):   0%|          | 0/3 [00:00<?, ?it/s]"
      ]
     },
     "metadata": {},
     "output_type": "display_data"
    },
    {
     "name": "stdout",
     "output_type": "stream",
     "text": [
      "Timepoint ID 91 saved out\n"
     ]
    },
    {
     "data": {
      "application/vnd.jupyter.widget-view+json": {
       "model_id": "bae672566ecc45768da0505c3f4c1c70",
       "version_major": 2,
       "version_minor": 0
      },
      "text/plain": [
       "Processing Channels (T=92):   0%|          | 0/3 [00:00<?, ?it/s]"
      ]
     },
     "metadata": {},
     "output_type": "display_data"
    },
    {
     "name": "stdout",
     "output_type": "stream",
     "text": [
      "Timepoint ID 92 saved out\n"
     ]
    },
    {
     "data": {
      "application/vnd.jupyter.widget-view+json": {
       "model_id": "595d3771d7624389bd5c5e9da9bc6099",
       "version_major": 2,
       "version_minor": 0
      },
      "text/plain": [
       "Processing Channels (T=93):   0%|          | 0/3 [00:00<?, ?it/s]"
      ]
     },
     "metadata": {},
     "output_type": "display_data"
    },
    {
     "name": "stdout",
     "output_type": "stream",
     "text": [
      "Timepoint ID 93 saved out\n"
     ]
    },
    {
     "data": {
      "application/vnd.jupyter.widget-view+json": {
       "model_id": "d32582888adb479d869440ce6c9ae5f7",
       "version_major": 2,
       "version_minor": 0
      },
      "text/plain": [
       "Processing Channels (T=94):   0%|          | 0/3 [00:00<?, ?it/s]"
      ]
     },
     "metadata": {},
     "output_type": "display_data"
    },
    {
     "name": "stdout",
     "output_type": "stream",
     "text": [
      "Timepoint ID 94 saved out\n"
     ]
    },
    {
     "data": {
      "application/vnd.jupyter.widget-view+json": {
       "model_id": "16e7b9537c1e4a43b7ee77b100c9c5b1",
       "version_major": 2,
       "version_minor": 0
      },
      "text/plain": [
       "Processing Channels (T=95):   0%|          | 0/3 [00:00<?, ?it/s]"
      ]
     },
     "metadata": {},
     "output_type": "display_data"
    },
    {
     "name": "stdout",
     "output_type": "stream",
     "text": [
      "Timepoint ID 95 saved out\n"
     ]
    },
    {
     "data": {
      "application/vnd.jupyter.widget-view+json": {
       "model_id": "45a1898a95b442819bb60ac9ac57838d",
       "version_major": 2,
       "version_minor": 0
      },
      "text/plain": [
       "Processing Channels (T=96):   0%|          | 0/3 [00:00<?, ?it/s]"
      ]
     },
     "metadata": {},
     "output_type": "display_data"
    },
    {
     "name": "stdout",
     "output_type": "stream",
     "text": [
      "Timepoint ID 96 saved out\n"
     ]
    },
    {
     "data": {
      "application/vnd.jupyter.widget-view+json": {
       "model_id": "3d2ed3c208754c18ab85fcc99fe1ed8e",
       "version_major": 2,
       "version_minor": 0
      },
      "text/plain": [
       "Processing Channels (T=97):   0%|          | 0/3 [00:00<?, ?it/s]"
      ]
     },
     "metadata": {},
     "output_type": "display_data"
    },
    {
     "name": "stdout",
     "output_type": "stream",
     "text": [
      "Timepoint ID 97 saved out\n"
     ]
    },
    {
     "data": {
      "application/vnd.jupyter.widget-view+json": {
       "model_id": "fb675ebfae104d9d9c9076a74587f032",
       "version_major": 2,
       "version_minor": 0
      },
      "text/plain": [
       "Processing Channels (T=98):   0%|          | 0/3 [00:00<?, ?it/s]"
      ]
     },
     "metadata": {},
     "output_type": "display_data"
    },
    {
     "name": "stdout",
     "output_type": "stream",
     "text": [
      "Timepoint ID 98 saved out\n"
     ]
    },
    {
     "data": {
      "application/vnd.jupyter.widget-view+json": {
       "model_id": "0763e6039a394693903e9480d11b05ac",
       "version_major": 2,
       "version_minor": 0
      },
      "text/plain": [
       "Processing Channels (T=99):   0%|          | 0/3 [00:00<?, ?it/s]"
      ]
     },
     "metadata": {},
     "output_type": "display_data"
    },
    {
     "name": "stdout",
     "output_type": "stream",
     "text": [
      "Timepoint ID 99 saved out\n"
     ]
    },
    {
     "data": {
      "application/vnd.jupyter.widget-view+json": {
       "model_id": "1cddc6cfd4c14cf6a5ee2f46b0039e8a",
       "version_major": 2,
       "version_minor": 0
      },
      "text/plain": [
       "Processing Channels (T=100):   0%|          | 0/3 [00:00<?, ?it/s]"
      ]
     },
     "metadata": {},
     "output_type": "display_data"
    },
    {
     "name": "stdout",
     "output_type": "stream",
     "text": [
      "Timepoint ID 100 saved out\n"
     ]
    },
    {
     "data": {
      "application/vnd.jupyter.widget-view+json": {
       "model_id": "ed3c0225522d470c92568d4f2c5259fa",
       "version_major": 2,
       "version_minor": 0
      },
      "text/plain": [
       "Processing Channels (T=101):   0%|          | 0/3 [00:00<?, ?it/s]"
      ]
     },
     "metadata": {},
     "output_type": "display_data"
    },
    {
     "name": "stdout",
     "output_type": "stream",
     "text": [
      "Timepoint ID 101 saved out\n"
     ]
    },
    {
     "data": {
      "application/vnd.jupyter.widget-view+json": {
       "model_id": "5283b500eeb24df796b977005b40a8cb",
       "version_major": 2,
       "version_minor": 0
      },
      "text/plain": [
       "Processing Channels (T=102):   0%|          | 0/3 [00:00<?, ?it/s]"
      ]
     },
     "metadata": {},
     "output_type": "display_data"
    },
    {
     "name": "stdout",
     "output_type": "stream",
     "text": [
      "Timepoint ID 102 saved out\n"
     ]
    },
    {
     "data": {
      "application/vnd.jupyter.widget-view+json": {
       "model_id": "3278f84024d741eebb9b3a9efb7b9b53",
       "version_major": 2,
       "version_minor": 0
      },
      "text/plain": [
       "Processing Channels (T=103):   0%|          | 0/3 [00:00<?, ?it/s]"
      ]
     },
     "metadata": {},
     "output_type": "display_data"
    },
    {
     "name": "stdout",
     "output_type": "stream",
     "text": [
      "Timepoint ID 103 saved out\n"
     ]
    },
    {
     "data": {
      "application/vnd.jupyter.widget-view+json": {
       "model_id": "829e3a84a1e742d79bda10d8d824658f",
       "version_major": 2,
       "version_minor": 0
      },
      "text/plain": [
       "Processing Channels (T=104):   0%|          | 0/3 [00:00<?, ?it/s]"
      ]
     },
     "metadata": {},
     "output_type": "display_data"
    },
    {
     "name": "stdout",
     "output_type": "stream",
     "text": [
      "Timepoint ID 104 saved out\n"
     ]
    },
    {
     "data": {
      "application/vnd.jupyter.widget-view+json": {
       "model_id": "4e2a8e4ae1224d1bbcacd584d85eed93",
       "version_major": 2,
       "version_minor": 0
      },
      "text/plain": [
       "Processing Channels (T=105):   0%|          | 0/3 [00:00<?, ?it/s]"
      ]
     },
     "metadata": {},
     "output_type": "display_data"
    },
    {
     "name": "stdout",
     "output_type": "stream",
     "text": [
      "Timepoint ID 105 saved out\n"
     ]
    },
    {
     "data": {
      "application/vnd.jupyter.widget-view+json": {
       "model_id": "dc54829aea2e47ad9ebb267d4e52c792",
       "version_major": 2,
       "version_minor": 0
      },
      "text/plain": [
       "Processing Channels (T=106):   0%|          | 0/3 [00:00<?, ?it/s]"
      ]
     },
     "metadata": {},
     "output_type": "display_data"
    },
    {
     "name": "stdout",
     "output_type": "stream",
     "text": [
      "Timepoint ID 106 saved out\n"
     ]
    },
    {
     "data": {
      "application/vnd.jupyter.widget-view+json": {
       "model_id": "1c53f739f0f3492f8b3da312f0ea1252",
       "version_major": 2,
       "version_minor": 0
      },
      "text/plain": [
       "Processing Channels (T=107):   0%|          | 0/3 [00:00<?, ?it/s]"
      ]
     },
     "metadata": {},
     "output_type": "display_data"
    },
    {
     "name": "stdout",
     "output_type": "stream",
     "text": [
      "Timepoint ID 107 saved out\n"
     ]
    },
    {
     "data": {
      "application/vnd.jupyter.widget-view+json": {
       "model_id": "2006de1ad75c4a16abe5419cf78f8a4c",
       "version_major": 2,
       "version_minor": 0
      },
      "text/plain": [
       "Processing Channels (T=108):   0%|          | 0/3 [00:00<?, ?it/s]"
      ]
     },
     "metadata": {},
     "output_type": "display_data"
    },
    {
     "name": "stdout",
     "output_type": "stream",
     "text": [
      "Timepoint ID 108 saved out\n"
     ]
    },
    {
     "data": {
      "application/vnd.jupyter.widget-view+json": {
       "model_id": "01eef44eff97461fb74cd5b647986de2",
       "version_major": 2,
       "version_minor": 0
      },
      "text/plain": [
       "Processing Channels (T=109):   0%|          | 0/3 [00:00<?, ?it/s]"
      ]
     },
     "metadata": {},
     "output_type": "display_data"
    },
    {
     "name": "stdout",
     "output_type": "stream",
     "text": [
      "Timepoint ID 109 saved out\n"
     ]
    },
    {
     "data": {
      "application/vnd.jupyter.widget-view+json": {
       "model_id": "b80a986e6192487ba7188881b709b6f5",
       "version_major": 2,
       "version_minor": 0
      },
      "text/plain": [
       "Processing Channels (T=110):   0%|          | 0/3 [00:00<?, ?it/s]"
      ]
     },
     "metadata": {},
     "output_type": "display_data"
    },
    {
     "name": "stdout",
     "output_type": "stream",
     "text": [
      "Timepoint ID 110 saved out\n"
     ]
    },
    {
     "data": {
      "application/vnd.jupyter.widget-view+json": {
       "model_id": "aeaab1297d7448159f239149793b4d9f",
       "version_major": 2,
       "version_minor": 0
      },
      "text/plain": [
       "Processing Channels (T=111):   0%|          | 0/3 [00:00<?, ?it/s]"
      ]
     },
     "metadata": {},
     "output_type": "display_data"
    },
    {
     "name": "stdout",
     "output_type": "stream",
     "text": [
      "Timepoint ID 111 saved out\n"
     ]
    },
    {
     "data": {
      "application/vnd.jupyter.widget-view+json": {
       "model_id": "2f73974cfa5c4a219cd83f7a9dafca44",
       "version_major": 2,
       "version_minor": 0
      },
      "text/plain": [
       "Processing Channels (T=112):   0%|          | 0/3 [00:00<?, ?it/s]"
      ]
     },
     "metadata": {},
     "output_type": "display_data"
    },
    {
     "name": "stdout",
     "output_type": "stream",
     "text": [
      "Timepoint ID 112 saved out\n"
     ]
    },
    {
     "data": {
      "application/vnd.jupyter.widget-view+json": {
       "model_id": "724ab6808650433aad99c33af9e49feb",
       "version_major": 2,
       "version_minor": 0
      },
      "text/plain": [
       "Processing Channels (T=113):   0%|          | 0/3 [00:00<?, ?it/s]"
      ]
     },
     "metadata": {},
     "output_type": "display_data"
    },
    {
     "name": "stdout",
     "output_type": "stream",
     "text": [
      "Timepoint ID 113 saved out\n"
     ]
    },
    {
     "data": {
      "application/vnd.jupyter.widget-view+json": {
       "model_id": "61b500ebc8bb4267b96823938961be57",
       "version_major": 2,
       "version_minor": 0
      },
      "text/plain": [
       "Processing Channels (T=114):   0%|          | 0/3 [00:00<?, ?it/s]"
      ]
     },
     "metadata": {},
     "output_type": "display_data"
    },
    {
     "name": "stdout",
     "output_type": "stream",
     "text": [
      "Timepoint ID 114 saved out\n"
     ]
    },
    {
     "data": {
      "application/vnd.jupyter.widget-view+json": {
       "model_id": "f4aa73a7d60b43e9bae53273217dadcb",
       "version_major": 2,
       "version_minor": 0
      },
      "text/plain": [
       "Processing Channels (T=115):   0%|          | 0/3 [00:00<?, ?it/s]"
      ]
     },
     "metadata": {},
     "output_type": "display_data"
    },
    {
     "name": "stdout",
     "output_type": "stream",
     "text": [
      "Timepoint ID 115 saved out\n"
     ]
    },
    {
     "data": {
      "application/vnd.jupyter.widget-view+json": {
       "model_id": "a57981b5592a4063973d6f1d6527c39f",
       "version_major": 2,
       "version_minor": 0
      },
      "text/plain": [
       "Processing Channels (T=116):   0%|          | 0/3 [00:00<?, ?it/s]"
      ]
     },
     "metadata": {},
     "output_type": "display_data"
    },
    {
     "name": "stdout",
     "output_type": "stream",
     "text": [
      "Timepoint ID 116 saved out\n"
     ]
    },
    {
     "data": {
      "application/vnd.jupyter.widget-view+json": {
       "model_id": "39340ec2aaab40f9a775d5eaf7dde7ad",
       "version_major": 2,
       "version_minor": 0
      },
      "text/plain": [
       "Processing Channels (T=117):   0%|          | 0/3 [00:00<?, ?it/s]"
      ]
     },
     "metadata": {},
     "output_type": "display_data"
    },
    {
     "name": "stdout",
     "output_type": "stream",
     "text": [
      "Timepoint ID 117 saved out\n"
     ]
    },
    {
     "data": {
      "application/vnd.jupyter.widget-view+json": {
       "model_id": "510a145de6ad4071a0db1f6b0aa2b957",
       "version_major": 2,
       "version_minor": 0
      },
      "text/plain": [
       "Processing Channels (T=118):   0%|          | 0/3 [00:00<?, ?it/s]"
      ]
     },
     "metadata": {},
     "output_type": "display_data"
    },
    {
     "name": "stdout",
     "output_type": "stream",
     "text": [
      "Timepoint ID 118 saved out\n"
     ]
    },
    {
     "data": {
      "application/vnd.jupyter.widget-view+json": {
       "model_id": "e22918d3c4ac40009feaaed096239920",
       "version_major": 2,
       "version_minor": 0
      },
      "text/plain": [
       "Processing Channels (T=119):   0%|          | 0/3 [00:00<?, ?it/s]"
      ]
     },
     "metadata": {},
     "output_type": "display_data"
    },
    {
     "name": "stdout",
     "output_type": "stream",
     "text": [
      "Timepoint ID 119 saved out\n"
     ]
    },
    {
     "data": {
      "application/vnd.jupyter.widget-view+json": {
       "model_id": "b84adbe2ea9346d8a3ffae44936caebc",
       "version_major": 2,
       "version_minor": 0
      },
      "text/plain": [
       "Processing Channels (T=120):   0%|          | 0/3 [00:00<?, ?it/s]"
      ]
     },
     "metadata": {},
     "output_type": "display_data"
    },
    {
     "name": "stdout",
     "output_type": "stream",
     "text": [
      "Timepoint ID 120 saved out\n"
     ]
    },
    {
     "data": {
      "application/vnd.jupyter.widget-view+json": {
       "model_id": "b085aff9392c4196be4e885c8e096bf8",
       "version_major": 2,
       "version_minor": 0
      },
      "text/plain": [
       "Processing Channels (T=121):   0%|          | 0/3 [00:00<?, ?it/s]"
      ]
     },
     "metadata": {},
     "output_type": "display_data"
    },
    {
     "name": "stdout",
     "output_type": "stream",
     "text": [
      "Timepoint ID 121 saved out\n"
     ]
    },
    {
     "data": {
      "application/vnd.jupyter.widget-view+json": {
       "model_id": "7a31b5f8c7db4d10a7117930a8d06556",
       "version_major": 2,
       "version_minor": 0
      },
      "text/plain": [
       "Processing Channels (T=122):   0%|          | 0/3 [00:00<?, ?it/s]"
      ]
     },
     "metadata": {},
     "output_type": "display_data"
    },
    {
     "name": "stdout",
     "output_type": "stream",
     "text": [
      "Timepoint ID 122 saved out\n"
     ]
    },
    {
     "data": {
      "application/vnd.jupyter.widget-view+json": {
       "model_id": "523e07005b744d648784b638cd366470",
       "version_major": 2,
       "version_minor": 0
      },
      "text/plain": [
       "Processing Channels (T=123):   0%|          | 0/3 [00:00<?, ?it/s]"
      ]
     },
     "metadata": {},
     "output_type": "display_data"
    },
    {
     "name": "stdout",
     "output_type": "stream",
     "text": [
      "Timepoint ID 123 saved out\n"
     ]
    },
    {
     "data": {
      "application/vnd.jupyter.widget-view+json": {
       "model_id": "5cc5889fb2b7478ca5fd137900f6dfce",
       "version_major": 2,
       "version_minor": 0
      },
      "text/plain": [
       "Processing Channels (T=124):   0%|          | 0/3 [00:00<?, ?it/s]"
      ]
     },
     "metadata": {},
     "output_type": "display_data"
    },
    {
     "name": "stdout",
     "output_type": "stream",
     "text": [
      "Timepoint ID 124 saved out\n"
     ]
    },
    {
     "data": {
      "application/vnd.jupyter.widget-view+json": {
       "model_id": "f8e298b047fa4f9b84496d42cfe4e787",
       "version_major": 2,
       "version_minor": 0
      },
      "text/plain": [
       "Processing Channels (T=125):   0%|          | 0/3 [00:00<?, ?it/s]"
      ]
     },
     "metadata": {},
     "output_type": "display_data"
    },
    {
     "name": "stdout",
     "output_type": "stream",
     "text": [
      "Timepoint ID 125 saved out\n"
     ]
    },
    {
     "data": {
      "application/vnd.jupyter.widget-view+json": {
       "model_id": "3833dd85bf454d0b91c407a8047bf462",
       "version_major": 2,
       "version_minor": 0
      },
      "text/plain": [
       "Processing Channels (T=126):   0%|          | 0/3 [00:00<?, ?it/s]"
      ]
     },
     "metadata": {},
     "output_type": "display_data"
    },
    {
     "name": "stdout",
     "output_type": "stream",
     "text": [
      "Timepoint ID 126 saved out\n"
     ]
    },
    {
     "data": {
      "application/vnd.jupyter.widget-view+json": {
       "model_id": "75cdde96754f4dd2a396fdc89b686dd0",
       "version_major": 2,
       "version_minor": 0
      },
      "text/plain": [
       "Processing Channels (T=127):   0%|          | 0/3 [00:00<?, ?it/s]"
      ]
     },
     "metadata": {},
     "output_type": "display_data"
    },
    {
     "name": "stdout",
     "output_type": "stream",
     "text": [
      "Timepoint ID 127 saved out\n"
     ]
    },
    {
     "data": {
      "application/vnd.jupyter.widget-view+json": {
       "model_id": "55648bd4505344898bbe3b771a31184e",
       "version_major": 2,
       "version_minor": 0
      },
      "text/plain": [
       "Processing Channels (T=128):   0%|          | 0/3 [00:00<?, ?it/s]"
      ]
     },
     "metadata": {},
     "output_type": "display_data"
    },
    {
     "name": "stdout",
     "output_type": "stream",
     "text": [
      "Timepoint ID 128 saved out\n"
     ]
    },
    {
     "data": {
      "application/vnd.jupyter.widget-view+json": {
       "model_id": "5cee211da32a40769cd91eb064e16508",
       "version_major": 2,
       "version_minor": 0
      },
      "text/plain": [
       "Processing Channels (T=129):   0%|          | 0/3 [00:00<?, ?it/s]"
      ]
     },
     "metadata": {},
     "output_type": "display_data"
    },
    {
     "name": "stdout",
     "output_type": "stream",
     "text": [
      "Timepoint ID 129 saved out\n"
     ]
    },
    {
     "data": {
      "application/vnd.jupyter.widget-view+json": {
       "model_id": "216686bef6034badbba77b3419e5e226",
       "version_major": 2,
       "version_minor": 0
      },
      "text/plain": [
       "Processing Channels (T=130):   0%|          | 0/3 [00:00<?, ?it/s]"
      ]
     },
     "metadata": {},
     "output_type": "display_data"
    },
    {
     "name": "stdout",
     "output_type": "stream",
     "text": [
      "Timepoint ID 130 saved out\n"
     ]
    },
    {
     "data": {
      "application/vnd.jupyter.widget-view+json": {
       "model_id": "bfea6c7e9a234d519b398c69822443b3",
       "version_major": 2,
       "version_minor": 0
      },
      "text/plain": [
       "Processing Channels (T=131):   0%|          | 0/3 [00:00<?, ?it/s]"
      ]
     },
     "metadata": {},
     "output_type": "display_data"
    },
    {
     "name": "stdout",
     "output_type": "stream",
     "text": [
      "Timepoint ID 131 saved out\n"
     ]
    },
    {
     "data": {
      "application/vnd.jupyter.widget-view+json": {
       "model_id": "f6dce49e0e15495c877b88562f2e09ed",
       "version_major": 2,
       "version_minor": 0
      },
      "text/plain": [
       "Processing Channels (T=132):   0%|          | 0/3 [00:00<?, ?it/s]"
      ]
     },
     "metadata": {},
     "output_type": "display_data"
    },
    {
     "name": "stdout",
     "output_type": "stream",
     "text": [
      "Timepoint ID 132 saved out\n"
     ]
    },
    {
     "data": {
      "application/vnd.jupyter.widget-view+json": {
       "model_id": "2703e1e938cf41daa952461deff4bfc5",
       "version_major": 2,
       "version_minor": 0
      },
      "text/plain": [
       "Processing Channels (T=133):   0%|          | 0/3 [00:00<?, ?it/s]"
      ]
     },
     "metadata": {},
     "output_type": "display_data"
    },
    {
     "name": "stdout",
     "output_type": "stream",
     "text": [
      "Timepoint ID 133 saved out\n"
     ]
    },
    {
     "data": {
      "application/vnd.jupyter.widget-view+json": {
       "model_id": "885fda5a8097446b858d396cf26aa53e",
       "version_major": 2,
       "version_minor": 0
      },
      "text/plain": [
       "Processing Channels (T=134):   0%|          | 0/3 [00:00<?, ?it/s]"
      ]
     },
     "metadata": {},
     "output_type": "display_data"
    },
    {
     "name": "stdout",
     "output_type": "stream",
     "text": [
      "Timepoint ID 134 saved out\n"
     ]
    },
    {
     "data": {
      "application/vnd.jupyter.widget-view+json": {
       "model_id": "e73294debfda41b4b937de0d8831c95d",
       "version_major": 2,
       "version_minor": 0
      },
      "text/plain": [
       "Processing Channels (T=135):   0%|          | 0/3 [00:00<?, ?it/s]"
      ]
     },
     "metadata": {},
     "output_type": "display_data"
    },
    {
     "name": "stdout",
     "output_type": "stream",
     "text": [
      "Timepoint ID 135 saved out\n"
     ]
    },
    {
     "data": {
      "application/vnd.jupyter.widget-view+json": {
       "model_id": "b3e2b5bf22524f5cbe10f9f899d1a8e9",
       "version_major": 2,
       "version_minor": 0
      },
      "text/plain": [
       "Processing Channels (T=136):   0%|          | 0/3 [00:00<?, ?it/s]"
      ]
     },
     "metadata": {},
     "output_type": "display_data"
    },
    {
     "name": "stdout",
     "output_type": "stream",
     "text": [
      "Timepoint ID 136 saved out\n"
     ]
    },
    {
     "data": {
      "application/vnd.jupyter.widget-view+json": {
       "model_id": "0b1151929cf24d4cb5049a5593da2c72",
       "version_major": 2,
       "version_minor": 0
      },
      "text/plain": [
       "Processing Channels (T=137):   0%|          | 0/3 [00:00<?, ?it/s]"
      ]
     },
     "metadata": {},
     "output_type": "display_data"
    },
    {
     "name": "stdout",
     "output_type": "stream",
     "text": [
      "Timepoint ID 137 saved out\n"
     ]
    },
    {
     "data": {
      "application/vnd.jupyter.widget-view+json": {
       "model_id": "b8bde38a5b4749a7a2292c65d55e7127",
       "version_major": 2,
       "version_minor": 0
      },
      "text/plain": [
       "Processing Channels (T=138):   0%|          | 0/3 [00:00<?, ?it/s]"
      ]
     },
     "metadata": {},
     "output_type": "display_data"
    },
    {
     "name": "stdout",
     "output_type": "stream",
     "text": [
      "Timepoint ID 138 saved out\n"
     ]
    },
    {
     "data": {
      "application/vnd.jupyter.widget-view+json": {
       "model_id": "2e1c5643c88e4cb8b196887027565d09",
       "version_major": 2,
       "version_minor": 0
      },
      "text/plain": [
       "Processing Channels (T=139):   0%|          | 0/3 [00:00<?, ?it/s]"
      ]
     },
     "metadata": {},
     "output_type": "display_data"
    },
    {
     "name": "stdout",
     "output_type": "stream",
     "text": [
      "Timepoint ID 139 saved out\n"
     ]
    },
    {
     "data": {
      "application/vnd.jupyter.widget-view+json": {
       "model_id": "9eefc641427e4df0a1803ce4ac1bfb4a",
       "version_major": 2,
       "version_minor": 0
      },
      "text/plain": [
       "Processing Channels (T=140):   0%|          | 0/3 [00:00<?, ?it/s]"
      ]
     },
     "metadata": {},
     "output_type": "display_data"
    },
    {
     "name": "stdout",
     "output_type": "stream",
     "text": [
      "Timepoint ID 140 saved out\n"
     ]
    },
    {
     "data": {
      "application/vnd.jupyter.widget-view+json": {
       "model_id": "20463745a3f640aab70f2c4d2932cbc2",
       "version_major": 2,
       "version_minor": 0
      },
      "text/plain": [
       "Processing Channels (T=141):   0%|          | 0/3 [00:00<?, ?it/s]"
      ]
     },
     "metadata": {},
     "output_type": "display_data"
    },
    {
     "name": "stdout",
     "output_type": "stream",
     "text": [
      "Timepoint ID 141 saved out\n"
     ]
    },
    {
     "data": {
      "application/vnd.jupyter.widget-view+json": {
       "model_id": "b6635bcb4bfd4511819fa5fe51bd3e20",
       "version_major": 2,
       "version_minor": 0
      },
      "text/plain": [
       "Processing Channels (T=142):   0%|          | 0/3 [00:00<?, ?it/s]"
      ]
     },
     "metadata": {},
     "output_type": "display_data"
    },
    {
     "name": "stdout",
     "output_type": "stream",
     "text": [
      "Timepoint ID 142 saved out\n"
     ]
    },
    {
     "data": {
      "application/vnd.jupyter.widget-view+json": {
       "model_id": "7583f413dc1c4063a96ff823f23e70c1",
       "version_major": 2,
       "version_minor": 0
      },
      "text/plain": [
       "Processing Channels (T=143):   0%|          | 0/3 [00:00<?, ?it/s]"
      ]
     },
     "metadata": {},
     "output_type": "display_data"
    },
    {
     "name": "stdout",
     "output_type": "stream",
     "text": [
      "Timepoint ID 143 saved out\n"
     ]
    },
    {
     "data": {
      "application/vnd.jupyter.widget-view+json": {
       "model_id": "b55e548ddd024df2a49aaf4b405d17ff",
       "version_major": 2,
       "version_minor": 0
      },
      "text/plain": [
       "Processing Time Points:   0%|          | 0/144 [00:00<?, ?it/s]"
      ]
     },
     "metadata": {},
     "output_type": "display_data"
    },
    {
     "data": {
      "application/vnd.jupyter.widget-view+json": {
       "model_id": "a73f0dcd1b90421ba8218f1e304a9e9b",
       "version_major": 2,
       "version_minor": 0
      },
      "text/plain": [
       "Processing Channels (T=0):   0%|          | 0/3 [00:00<?, ?it/s]"
      ]
     },
     "metadata": {},
     "output_type": "display_data"
    },
    {
     "name": "stdout",
     "output_type": "stream",
     "text": [
      "Timepoint ID 0 saved out\n"
     ]
    },
    {
     "data": {
      "application/vnd.jupyter.widget-view+json": {
       "model_id": "99d2df10e3684bbfb1c4faf741ae21da",
       "version_major": 2,
       "version_minor": 0
      },
      "text/plain": [
       "Processing Channels (T=1):   0%|          | 0/3 [00:00<?, ?it/s]"
      ]
     },
     "metadata": {},
     "output_type": "display_data"
    },
    {
     "name": "stdout",
     "output_type": "stream",
     "text": [
      "Timepoint ID 1 saved out\n"
     ]
    },
    {
     "data": {
      "application/vnd.jupyter.widget-view+json": {
       "model_id": "9178c0fdc7654bc686d27c32351ed97e",
       "version_major": 2,
       "version_minor": 0
      },
      "text/plain": [
       "Processing Channels (T=2):   0%|          | 0/3 [00:00<?, ?it/s]"
      ]
     },
     "metadata": {},
     "output_type": "display_data"
    },
    {
     "name": "stdout",
     "output_type": "stream",
     "text": [
      "Timepoint ID 2 saved out\n"
     ]
    },
    {
     "data": {
      "application/vnd.jupyter.widget-view+json": {
       "model_id": "9f23b340912247b5960d33c37faa0619",
       "version_major": 2,
       "version_minor": 0
      },
      "text/plain": [
       "Processing Channels (T=3):   0%|          | 0/3 [00:00<?, ?it/s]"
      ]
     },
     "metadata": {},
     "output_type": "display_data"
    },
    {
     "name": "stdout",
     "output_type": "stream",
     "text": [
      "Timepoint ID 3 saved out\n"
     ]
    },
    {
     "data": {
      "application/vnd.jupyter.widget-view+json": {
       "model_id": "6ad8afb8fbff4e80b47d855c609b544d",
       "version_major": 2,
       "version_minor": 0
      },
      "text/plain": [
       "Processing Channels (T=4):   0%|          | 0/3 [00:00<?, ?it/s]"
      ]
     },
     "metadata": {},
     "output_type": "display_data"
    },
    {
     "name": "stdout",
     "output_type": "stream",
     "text": [
      "Timepoint ID 4 saved out\n"
     ]
    },
    {
     "data": {
      "application/vnd.jupyter.widget-view+json": {
       "model_id": "c7e79959ce394fa1a0fe943174f3440f",
       "version_major": 2,
       "version_minor": 0
      },
      "text/plain": [
       "Processing Channels (T=5):   0%|          | 0/3 [00:00<?, ?it/s]"
      ]
     },
     "metadata": {},
     "output_type": "display_data"
    },
    {
     "name": "stdout",
     "output_type": "stream",
     "text": [
      "Timepoint ID 5 saved out\n"
     ]
    },
    {
     "data": {
      "application/vnd.jupyter.widget-view+json": {
       "model_id": "d7729e76ac2e4396a24d82c78455c80d",
       "version_major": 2,
       "version_minor": 0
      },
      "text/plain": [
       "Processing Channels (T=6):   0%|          | 0/3 [00:00<?, ?it/s]"
      ]
     },
     "metadata": {},
     "output_type": "display_data"
    },
    {
     "name": "stdout",
     "output_type": "stream",
     "text": [
      "Timepoint ID 6 saved out\n"
     ]
    },
    {
     "data": {
      "application/vnd.jupyter.widget-view+json": {
       "model_id": "f1517b6a18d84094b317ab0f1223cc12",
       "version_major": 2,
       "version_minor": 0
      },
      "text/plain": [
       "Processing Channels (T=7):   0%|          | 0/3 [00:00<?, ?it/s]"
      ]
     },
     "metadata": {},
     "output_type": "display_data"
    },
    {
     "name": "stdout",
     "output_type": "stream",
     "text": [
      "Timepoint ID 7 saved out\n"
     ]
    },
    {
     "data": {
      "application/vnd.jupyter.widget-view+json": {
       "model_id": "b5ad5901b8d246b0aa4b60fa243f0184",
       "version_major": 2,
       "version_minor": 0
      },
      "text/plain": [
       "Processing Channels (T=8):   0%|          | 0/3 [00:00<?, ?it/s]"
      ]
     },
     "metadata": {},
     "output_type": "display_data"
    },
    {
     "name": "stdout",
     "output_type": "stream",
     "text": [
      "Timepoint ID 8 saved out\n"
     ]
    },
    {
     "data": {
      "application/vnd.jupyter.widget-view+json": {
       "model_id": "ecfb885892de42f99375d800c5080213",
       "version_major": 2,
       "version_minor": 0
      },
      "text/plain": [
       "Processing Channels (T=9):   0%|          | 0/3 [00:00<?, ?it/s]"
      ]
     },
     "metadata": {},
     "output_type": "display_data"
    },
    {
     "name": "stdout",
     "output_type": "stream",
     "text": [
      "Timepoint ID 9 saved out\n"
     ]
    },
    {
     "data": {
      "application/vnd.jupyter.widget-view+json": {
       "model_id": "8576338cd269486c98d55936e1de498f",
       "version_major": 2,
       "version_minor": 0
      },
      "text/plain": [
       "Processing Channels (T=10):   0%|          | 0/3 [00:00<?, ?it/s]"
      ]
     },
     "metadata": {},
     "output_type": "display_data"
    },
    {
     "name": "stdout",
     "output_type": "stream",
     "text": [
      "Timepoint ID 10 saved out\n"
     ]
    },
    {
     "data": {
      "application/vnd.jupyter.widget-view+json": {
       "model_id": "2bf55b9e27f44b06925417bc1c9f96de",
       "version_major": 2,
       "version_minor": 0
      },
      "text/plain": [
       "Processing Channels (T=11):   0%|          | 0/3 [00:00<?, ?it/s]"
      ]
     },
     "metadata": {},
     "output_type": "display_data"
    },
    {
     "name": "stdout",
     "output_type": "stream",
     "text": [
      "Timepoint ID 11 saved out\n"
     ]
    },
    {
     "data": {
      "application/vnd.jupyter.widget-view+json": {
       "model_id": "f8c218e0789c42208493209996453985",
       "version_major": 2,
       "version_minor": 0
      },
      "text/plain": [
       "Processing Channels (T=12):   0%|          | 0/3 [00:00<?, ?it/s]"
      ]
     },
     "metadata": {},
     "output_type": "display_data"
    },
    {
     "name": "stdout",
     "output_type": "stream",
     "text": [
      "Timepoint ID 12 saved out\n"
     ]
    },
    {
     "data": {
      "application/vnd.jupyter.widget-view+json": {
       "model_id": "434c1de1e6e74e2e946c747fc5f09800",
       "version_major": 2,
       "version_minor": 0
      },
      "text/plain": [
       "Processing Channels (T=13):   0%|          | 0/3 [00:00<?, ?it/s]"
      ]
     },
     "metadata": {},
     "output_type": "display_data"
    },
    {
     "name": "stdout",
     "output_type": "stream",
     "text": [
      "Timepoint ID 13 saved out\n"
     ]
    },
    {
     "data": {
      "application/vnd.jupyter.widget-view+json": {
       "model_id": "24d04f60b1b44a41912932ca37edb3d4",
       "version_major": 2,
       "version_minor": 0
      },
      "text/plain": [
       "Processing Channels (T=14):   0%|          | 0/3 [00:00<?, ?it/s]"
      ]
     },
     "metadata": {},
     "output_type": "display_data"
    },
    {
     "name": "stdout",
     "output_type": "stream",
     "text": [
      "Timepoint ID 14 saved out\n"
     ]
    },
    {
     "data": {
      "application/vnd.jupyter.widget-view+json": {
       "model_id": "3e3f52d30adb4b0c9cdb05ea2ed000bc",
       "version_major": 2,
       "version_minor": 0
      },
      "text/plain": [
       "Processing Channels (T=15):   0%|          | 0/3 [00:00<?, ?it/s]"
      ]
     },
     "metadata": {},
     "output_type": "display_data"
    },
    {
     "name": "stdout",
     "output_type": "stream",
     "text": [
      "Timepoint ID 15 saved out\n"
     ]
    },
    {
     "data": {
      "application/vnd.jupyter.widget-view+json": {
       "model_id": "592dfe057ec14722951768e5160cc1a6",
       "version_major": 2,
       "version_minor": 0
      },
      "text/plain": [
       "Processing Channels (T=16):   0%|          | 0/3 [00:00<?, ?it/s]"
      ]
     },
     "metadata": {},
     "output_type": "display_data"
    },
    {
     "name": "stdout",
     "output_type": "stream",
     "text": [
      "Timepoint ID 16 saved out\n"
     ]
    },
    {
     "data": {
      "application/vnd.jupyter.widget-view+json": {
       "model_id": "032ebae29313431db61463b2dddd8c12",
       "version_major": 2,
       "version_minor": 0
      },
      "text/plain": [
       "Processing Channels (T=17):   0%|          | 0/3 [00:00<?, ?it/s]"
      ]
     },
     "metadata": {},
     "output_type": "display_data"
    },
    {
     "name": "stdout",
     "output_type": "stream",
     "text": [
      "Timepoint ID 17 saved out\n"
     ]
    },
    {
     "data": {
      "application/vnd.jupyter.widget-view+json": {
       "model_id": "12a6c928ee8c44df9fdcc66814da8c2d",
       "version_major": 2,
       "version_minor": 0
      },
      "text/plain": [
       "Processing Channels (T=18):   0%|          | 0/3 [00:00<?, ?it/s]"
      ]
     },
     "metadata": {},
     "output_type": "display_data"
    },
    {
     "name": "stdout",
     "output_type": "stream",
     "text": [
      "Timepoint ID 18 saved out\n"
     ]
    },
    {
     "data": {
      "application/vnd.jupyter.widget-view+json": {
       "model_id": "c07b9a35a66e45ccb7526b152fc646d2",
       "version_major": 2,
       "version_minor": 0
      },
      "text/plain": [
       "Processing Channels (T=19):   0%|          | 0/3 [00:00<?, ?it/s]"
      ]
     },
     "metadata": {},
     "output_type": "display_data"
    },
    {
     "name": "stdout",
     "output_type": "stream",
     "text": [
      "Timepoint ID 19 saved out\n"
     ]
    },
    {
     "data": {
      "application/vnd.jupyter.widget-view+json": {
       "model_id": "c344866948884f8f8c69e86a143a7cde",
       "version_major": 2,
       "version_minor": 0
      },
      "text/plain": [
       "Processing Channels (T=20):   0%|          | 0/3 [00:00<?, ?it/s]"
      ]
     },
     "metadata": {},
     "output_type": "display_data"
    },
    {
     "name": "stdout",
     "output_type": "stream",
     "text": [
      "Timepoint ID 20 saved out\n"
     ]
    },
    {
     "data": {
      "application/vnd.jupyter.widget-view+json": {
       "model_id": "9b60c63b33874b39a907e04f876d844c",
       "version_major": 2,
       "version_minor": 0
      },
      "text/plain": [
       "Processing Channels (T=21):   0%|          | 0/3 [00:00<?, ?it/s]"
      ]
     },
     "metadata": {},
     "output_type": "display_data"
    },
    {
     "name": "stdout",
     "output_type": "stream",
     "text": [
      "Timepoint ID 21 saved out\n"
     ]
    },
    {
     "data": {
      "application/vnd.jupyter.widget-view+json": {
       "model_id": "51f875e03b414c3c86d594047e35808c",
       "version_major": 2,
       "version_minor": 0
      },
      "text/plain": [
       "Processing Channels (T=22):   0%|          | 0/3 [00:00<?, ?it/s]"
      ]
     },
     "metadata": {},
     "output_type": "display_data"
    },
    {
     "name": "stdout",
     "output_type": "stream",
     "text": [
      "Timepoint ID 22 saved out\n"
     ]
    },
    {
     "data": {
      "application/vnd.jupyter.widget-view+json": {
       "model_id": "8f403dd6abc8498293291ff2fe49276b",
       "version_major": 2,
       "version_minor": 0
      },
      "text/plain": [
       "Processing Channels (T=23):   0%|          | 0/3 [00:00<?, ?it/s]"
      ]
     },
     "metadata": {},
     "output_type": "display_data"
    },
    {
     "name": "stdout",
     "output_type": "stream",
     "text": [
      "Timepoint ID 23 saved out\n"
     ]
    },
    {
     "data": {
      "application/vnd.jupyter.widget-view+json": {
       "model_id": "a98bda75c54040a5b139471ac9dc95b7",
       "version_major": 2,
       "version_minor": 0
      },
      "text/plain": [
       "Processing Channels (T=24):   0%|          | 0/3 [00:00<?, ?it/s]"
      ]
     },
     "metadata": {},
     "output_type": "display_data"
    },
    {
     "name": "stdout",
     "output_type": "stream",
     "text": [
      "Timepoint ID 24 saved out\n"
     ]
    },
    {
     "data": {
      "application/vnd.jupyter.widget-view+json": {
       "model_id": "3549f3c00dae472e84ad47fcf4f43a09",
       "version_major": 2,
       "version_minor": 0
      },
      "text/plain": [
       "Processing Channels (T=25):   0%|          | 0/3 [00:00<?, ?it/s]"
      ]
     },
     "metadata": {},
     "output_type": "display_data"
    },
    {
     "name": "stdout",
     "output_type": "stream",
     "text": [
      "Timepoint ID 25 saved out\n"
     ]
    },
    {
     "data": {
      "application/vnd.jupyter.widget-view+json": {
       "model_id": "311591dbf2944894b66eec22c5cd817e",
       "version_major": 2,
       "version_minor": 0
      },
      "text/plain": [
       "Processing Channels (T=26):   0%|          | 0/3 [00:00<?, ?it/s]"
      ]
     },
     "metadata": {},
     "output_type": "display_data"
    },
    {
     "name": "stdout",
     "output_type": "stream",
     "text": [
      "Timepoint ID 26 saved out\n"
     ]
    },
    {
     "data": {
      "application/vnd.jupyter.widget-view+json": {
       "model_id": "2d57a4d70e5348b5a3efbac6665c6d21",
       "version_major": 2,
       "version_minor": 0
      },
      "text/plain": [
       "Processing Channels (T=27):   0%|          | 0/3 [00:00<?, ?it/s]"
      ]
     },
     "metadata": {},
     "output_type": "display_data"
    },
    {
     "name": "stdout",
     "output_type": "stream",
     "text": [
      "Timepoint ID 27 saved out\n"
     ]
    },
    {
     "data": {
      "application/vnd.jupyter.widget-view+json": {
       "model_id": "ab63ea2a1b264c14833bd8e631fcdca7",
       "version_major": 2,
       "version_minor": 0
      },
      "text/plain": [
       "Processing Channels (T=28):   0%|          | 0/3 [00:00<?, ?it/s]"
      ]
     },
     "metadata": {},
     "output_type": "display_data"
    },
    {
     "name": "stdout",
     "output_type": "stream",
     "text": [
      "Timepoint ID 28 saved out\n"
     ]
    },
    {
     "data": {
      "application/vnd.jupyter.widget-view+json": {
       "model_id": "281eb0d51bb249b2bfcd08d5f66b3713",
       "version_major": 2,
       "version_minor": 0
      },
      "text/plain": [
       "Processing Channels (T=29):   0%|          | 0/3 [00:00<?, ?it/s]"
      ]
     },
     "metadata": {},
     "output_type": "display_data"
    },
    {
     "name": "stdout",
     "output_type": "stream",
     "text": [
      "Timepoint ID 29 saved out\n"
     ]
    },
    {
     "data": {
      "application/vnd.jupyter.widget-view+json": {
       "model_id": "fb1b4be476164938b8afb16566f90074",
       "version_major": 2,
       "version_minor": 0
      },
      "text/plain": [
       "Processing Channels (T=30):   0%|          | 0/3 [00:00<?, ?it/s]"
      ]
     },
     "metadata": {},
     "output_type": "display_data"
    },
    {
     "name": "stdout",
     "output_type": "stream",
     "text": [
      "Timepoint ID 30 saved out\n"
     ]
    },
    {
     "data": {
      "application/vnd.jupyter.widget-view+json": {
       "model_id": "7c37980e41874291a76bfe7e34212b80",
       "version_major": 2,
       "version_minor": 0
      },
      "text/plain": [
       "Processing Channels (T=31):   0%|          | 0/3 [00:00<?, ?it/s]"
      ]
     },
     "metadata": {},
     "output_type": "display_data"
    },
    {
     "name": "stdout",
     "output_type": "stream",
     "text": [
      "Timepoint ID 31 saved out\n"
     ]
    },
    {
     "data": {
      "application/vnd.jupyter.widget-view+json": {
       "model_id": "64510dba2d2b4ce3b13bc987ed5d9c85",
       "version_major": 2,
       "version_minor": 0
      },
      "text/plain": [
       "Processing Channels (T=32):   0%|          | 0/3 [00:00<?, ?it/s]"
      ]
     },
     "metadata": {},
     "output_type": "display_data"
    },
    {
     "name": "stdout",
     "output_type": "stream",
     "text": [
      "Timepoint ID 32 saved out\n"
     ]
    },
    {
     "data": {
      "application/vnd.jupyter.widget-view+json": {
       "model_id": "8ef9b6b13fcb4679a2fae6667711eb62",
       "version_major": 2,
       "version_minor": 0
      },
      "text/plain": [
       "Processing Channels (T=33):   0%|          | 0/3 [00:00<?, ?it/s]"
      ]
     },
     "metadata": {},
     "output_type": "display_data"
    },
    {
     "name": "stdout",
     "output_type": "stream",
     "text": [
      "Timepoint ID 33 saved out\n"
     ]
    },
    {
     "data": {
      "application/vnd.jupyter.widget-view+json": {
       "model_id": "6d0666be2e7b49218a06ca6ae81fa418",
       "version_major": 2,
       "version_minor": 0
      },
      "text/plain": [
       "Processing Channels (T=34):   0%|          | 0/3 [00:00<?, ?it/s]"
      ]
     },
     "metadata": {},
     "output_type": "display_data"
    },
    {
     "name": "stdout",
     "output_type": "stream",
     "text": [
      "Timepoint ID 34 saved out\n"
     ]
    },
    {
     "data": {
      "application/vnd.jupyter.widget-view+json": {
       "model_id": "b5581e60a8c544e2a62febff81bc07fa",
       "version_major": 2,
       "version_minor": 0
      },
      "text/plain": [
       "Processing Channels (T=35):   0%|          | 0/3 [00:00<?, ?it/s]"
      ]
     },
     "metadata": {},
     "output_type": "display_data"
    },
    {
     "name": "stdout",
     "output_type": "stream",
     "text": [
      "Timepoint ID 35 saved out\n"
     ]
    },
    {
     "data": {
      "application/vnd.jupyter.widget-view+json": {
       "model_id": "946b456c0cd74d45b788bc14070cdebe",
       "version_major": 2,
       "version_minor": 0
      },
      "text/plain": [
       "Processing Channels (T=36):   0%|          | 0/3 [00:00<?, ?it/s]"
      ]
     },
     "metadata": {},
     "output_type": "display_data"
    },
    {
     "name": "stdout",
     "output_type": "stream",
     "text": [
      "Timepoint ID 36 saved out\n"
     ]
    },
    {
     "data": {
      "application/vnd.jupyter.widget-view+json": {
       "model_id": "cbc9099c25f24553ad7835f4187265e0",
       "version_major": 2,
       "version_minor": 0
      },
      "text/plain": [
       "Processing Channels (T=37):   0%|          | 0/3 [00:00<?, ?it/s]"
      ]
     },
     "metadata": {},
     "output_type": "display_data"
    },
    {
     "name": "stdout",
     "output_type": "stream",
     "text": [
      "Timepoint ID 37 saved out\n"
     ]
    },
    {
     "data": {
      "application/vnd.jupyter.widget-view+json": {
       "model_id": "be1afde6daee4a6094ab801d793efffd",
       "version_major": 2,
       "version_minor": 0
      },
      "text/plain": [
       "Processing Channels (T=38):   0%|          | 0/3 [00:00<?, ?it/s]"
      ]
     },
     "metadata": {},
     "output_type": "display_data"
    },
    {
     "name": "stdout",
     "output_type": "stream",
     "text": [
      "Timepoint ID 38 saved out\n"
     ]
    },
    {
     "data": {
      "application/vnd.jupyter.widget-view+json": {
       "model_id": "f31d3a7aa9ff4d3d8f9af83f1cfcbc90",
       "version_major": 2,
       "version_minor": 0
      },
      "text/plain": [
       "Processing Channels (T=39):   0%|          | 0/3 [00:00<?, ?it/s]"
      ]
     },
     "metadata": {},
     "output_type": "display_data"
    },
    {
     "name": "stdout",
     "output_type": "stream",
     "text": [
      "Timepoint ID 39 saved out\n"
     ]
    },
    {
     "data": {
      "application/vnd.jupyter.widget-view+json": {
       "model_id": "66dd723f1d2b4a569447211abf52a6cd",
       "version_major": 2,
       "version_minor": 0
      },
      "text/plain": [
       "Processing Channels (T=40):   0%|          | 0/3 [00:00<?, ?it/s]"
      ]
     },
     "metadata": {},
     "output_type": "display_data"
    },
    {
     "name": "stdout",
     "output_type": "stream",
     "text": [
      "Timepoint ID 40 saved out\n"
     ]
    },
    {
     "data": {
      "application/vnd.jupyter.widget-view+json": {
       "model_id": "0d57020318f5485d9032ea98bac1d8c0",
       "version_major": 2,
       "version_minor": 0
      },
      "text/plain": [
       "Processing Channels (T=41):   0%|          | 0/3 [00:00<?, ?it/s]"
      ]
     },
     "metadata": {},
     "output_type": "display_data"
    },
    {
     "name": "stdout",
     "output_type": "stream",
     "text": [
      "Timepoint ID 41 saved out\n"
     ]
    },
    {
     "data": {
      "application/vnd.jupyter.widget-view+json": {
       "model_id": "c651b380646344a09d9d98ae8cf7a6d0",
       "version_major": 2,
       "version_minor": 0
      },
      "text/plain": [
       "Processing Channels (T=42):   0%|          | 0/3 [00:00<?, ?it/s]"
      ]
     },
     "metadata": {},
     "output_type": "display_data"
    },
    {
     "name": "stdout",
     "output_type": "stream",
     "text": [
      "Timepoint ID 42 saved out\n"
     ]
    },
    {
     "data": {
      "application/vnd.jupyter.widget-view+json": {
       "model_id": "b219501251a44afe98d9c4aba610bd94",
       "version_major": 2,
       "version_minor": 0
      },
      "text/plain": [
       "Processing Channels (T=43):   0%|          | 0/3 [00:00<?, ?it/s]"
      ]
     },
     "metadata": {},
     "output_type": "display_data"
    },
    {
     "name": "stdout",
     "output_type": "stream",
     "text": [
      "Timepoint ID 43 saved out\n"
     ]
    },
    {
     "data": {
      "application/vnd.jupyter.widget-view+json": {
       "model_id": "69d7547d3d0c444f81fe548a205a8ba5",
       "version_major": 2,
       "version_minor": 0
      },
      "text/plain": [
       "Processing Channels (T=44):   0%|          | 0/3 [00:00<?, ?it/s]"
      ]
     },
     "metadata": {},
     "output_type": "display_data"
    },
    {
     "name": "stdout",
     "output_type": "stream",
     "text": [
      "Timepoint ID 44 saved out\n"
     ]
    },
    {
     "data": {
      "application/vnd.jupyter.widget-view+json": {
       "model_id": "56ccf2ac46b94b79966eda286e4672cc",
       "version_major": 2,
       "version_minor": 0
      },
      "text/plain": [
       "Processing Channels (T=45):   0%|          | 0/3 [00:00<?, ?it/s]"
      ]
     },
     "metadata": {},
     "output_type": "display_data"
    },
    {
     "name": "stdout",
     "output_type": "stream",
     "text": [
      "Timepoint ID 45 saved out\n"
     ]
    },
    {
     "data": {
      "application/vnd.jupyter.widget-view+json": {
       "model_id": "11bcae0fdbd24ea39a84c6a1690e7e29",
       "version_major": 2,
       "version_minor": 0
      },
      "text/plain": [
       "Processing Channels (T=46):   0%|          | 0/3 [00:00<?, ?it/s]"
      ]
     },
     "metadata": {},
     "output_type": "display_data"
    },
    {
     "name": "stdout",
     "output_type": "stream",
     "text": [
      "Timepoint ID 46 saved out\n"
     ]
    },
    {
     "data": {
      "application/vnd.jupyter.widget-view+json": {
       "model_id": "46b5b30ceeca44cc965070af0c2a9079",
       "version_major": 2,
       "version_minor": 0
      },
      "text/plain": [
       "Processing Channels (T=47):   0%|          | 0/3 [00:00<?, ?it/s]"
      ]
     },
     "metadata": {},
     "output_type": "display_data"
    },
    {
     "name": "stdout",
     "output_type": "stream",
     "text": [
      "Timepoint ID 47 saved out\n"
     ]
    },
    {
     "data": {
      "application/vnd.jupyter.widget-view+json": {
       "model_id": "1eb924a6350a4c3394b12637aaee94f5",
       "version_major": 2,
       "version_minor": 0
      },
      "text/plain": [
       "Processing Channels (T=48):   0%|          | 0/3 [00:00<?, ?it/s]"
      ]
     },
     "metadata": {},
     "output_type": "display_data"
    },
    {
     "name": "stdout",
     "output_type": "stream",
     "text": [
      "Timepoint ID 48 saved out\n"
     ]
    },
    {
     "data": {
      "application/vnd.jupyter.widget-view+json": {
       "model_id": "193dbcc6f86740a281de64209a6e2beb",
       "version_major": 2,
       "version_minor": 0
      },
      "text/plain": [
       "Processing Channels (T=49):   0%|          | 0/3 [00:00<?, ?it/s]"
      ]
     },
     "metadata": {},
     "output_type": "display_data"
    },
    {
     "name": "stdout",
     "output_type": "stream",
     "text": [
      "Timepoint ID 49 saved out\n"
     ]
    },
    {
     "data": {
      "application/vnd.jupyter.widget-view+json": {
       "model_id": "b6e62437edec4279812c94a6ac574b45",
       "version_major": 2,
       "version_minor": 0
      },
      "text/plain": [
       "Processing Channels (T=50):   0%|          | 0/3 [00:00<?, ?it/s]"
      ]
     },
     "metadata": {},
     "output_type": "display_data"
    },
    {
     "name": "stdout",
     "output_type": "stream",
     "text": [
      "Timepoint ID 50 saved out\n"
     ]
    },
    {
     "data": {
      "application/vnd.jupyter.widget-view+json": {
       "model_id": "79caf8b6fba54421a9673f25c9130b20",
       "version_major": 2,
       "version_minor": 0
      },
      "text/plain": [
       "Processing Channels (T=51):   0%|          | 0/3 [00:00<?, ?it/s]"
      ]
     },
     "metadata": {},
     "output_type": "display_data"
    },
    {
     "name": "stdout",
     "output_type": "stream",
     "text": [
      "Timepoint ID 51 saved out\n"
     ]
    },
    {
     "data": {
      "application/vnd.jupyter.widget-view+json": {
       "model_id": "ac54e3a12316402fbeb1215e7c208561",
       "version_major": 2,
       "version_minor": 0
      },
      "text/plain": [
       "Processing Channels (T=52):   0%|          | 0/3 [00:00<?, ?it/s]"
      ]
     },
     "metadata": {},
     "output_type": "display_data"
    },
    {
     "name": "stdout",
     "output_type": "stream",
     "text": [
      "Timepoint ID 52 saved out\n"
     ]
    },
    {
     "data": {
      "application/vnd.jupyter.widget-view+json": {
       "model_id": "596770fe1c1e4159a03f43ae0ce5def9",
       "version_major": 2,
       "version_minor": 0
      },
      "text/plain": [
       "Processing Channels (T=53):   0%|          | 0/3 [00:00<?, ?it/s]"
      ]
     },
     "metadata": {},
     "output_type": "display_data"
    },
    {
     "name": "stdout",
     "output_type": "stream",
     "text": [
      "Timepoint ID 53 saved out\n"
     ]
    },
    {
     "data": {
      "application/vnd.jupyter.widget-view+json": {
       "model_id": "2a717f9a0c8e474ba47b72d830090488",
       "version_major": 2,
       "version_minor": 0
      },
      "text/plain": [
       "Processing Channels (T=54):   0%|          | 0/3 [00:00<?, ?it/s]"
      ]
     },
     "metadata": {},
     "output_type": "display_data"
    },
    {
     "name": "stdout",
     "output_type": "stream",
     "text": [
      "Timepoint ID 54 saved out\n"
     ]
    },
    {
     "data": {
      "application/vnd.jupyter.widget-view+json": {
       "model_id": "61102c6df5484b3484709ecbd012da17",
       "version_major": 2,
       "version_minor": 0
      },
      "text/plain": [
       "Processing Channels (T=55):   0%|          | 0/3 [00:00<?, ?it/s]"
      ]
     },
     "metadata": {},
     "output_type": "display_data"
    },
    {
     "name": "stdout",
     "output_type": "stream",
     "text": [
      "Timepoint ID 55 saved out\n"
     ]
    },
    {
     "data": {
      "application/vnd.jupyter.widget-view+json": {
       "model_id": "46dda7bb843e4c9a92b32bdfe5a3f1c8",
       "version_major": 2,
       "version_minor": 0
      },
      "text/plain": [
       "Processing Channels (T=56):   0%|          | 0/3 [00:00<?, ?it/s]"
      ]
     },
     "metadata": {},
     "output_type": "display_data"
    },
    {
     "name": "stdout",
     "output_type": "stream",
     "text": [
      "Timepoint ID 56 saved out\n"
     ]
    },
    {
     "data": {
      "application/vnd.jupyter.widget-view+json": {
       "model_id": "c73f4936f8ce4bb2bb360b4c7a6d36c5",
       "version_major": 2,
       "version_minor": 0
      },
      "text/plain": [
       "Processing Channels (T=57):   0%|          | 0/3 [00:00<?, ?it/s]"
      ]
     },
     "metadata": {},
     "output_type": "display_data"
    },
    {
     "name": "stdout",
     "output_type": "stream",
     "text": [
      "Timepoint ID 57 saved out\n"
     ]
    },
    {
     "data": {
      "application/vnd.jupyter.widget-view+json": {
       "model_id": "dae27a0198df4ec49e0148a4c06c9769",
       "version_major": 2,
       "version_minor": 0
      },
      "text/plain": [
       "Processing Channels (T=58):   0%|          | 0/3 [00:00<?, ?it/s]"
      ]
     },
     "metadata": {},
     "output_type": "display_data"
    },
    {
     "name": "stdout",
     "output_type": "stream",
     "text": [
      "Timepoint ID 58 saved out\n"
     ]
    },
    {
     "data": {
      "application/vnd.jupyter.widget-view+json": {
       "model_id": "a8fa46f224c3414da10f6dbfb3753e63",
       "version_major": 2,
       "version_minor": 0
      },
      "text/plain": [
       "Processing Channels (T=59):   0%|          | 0/3 [00:00<?, ?it/s]"
      ]
     },
     "metadata": {},
     "output_type": "display_data"
    },
    {
     "name": "stdout",
     "output_type": "stream",
     "text": [
      "Timepoint ID 59 saved out\n"
     ]
    },
    {
     "data": {
      "application/vnd.jupyter.widget-view+json": {
       "model_id": "d3c1c4fb890348a7848f6cb9fdfd6b87",
       "version_major": 2,
       "version_minor": 0
      },
      "text/plain": [
       "Processing Channels (T=60):   0%|          | 0/3 [00:00<?, ?it/s]"
      ]
     },
     "metadata": {},
     "output_type": "display_data"
    },
    {
     "name": "stdout",
     "output_type": "stream",
     "text": [
      "Timepoint ID 60 saved out\n"
     ]
    },
    {
     "data": {
      "application/vnd.jupyter.widget-view+json": {
       "model_id": "f341c29ad6424c0dade9301962b83206",
       "version_major": 2,
       "version_minor": 0
      },
      "text/plain": [
       "Processing Channels (T=61):   0%|          | 0/3 [00:00<?, ?it/s]"
      ]
     },
     "metadata": {},
     "output_type": "display_data"
    },
    {
     "name": "stdout",
     "output_type": "stream",
     "text": [
      "Timepoint ID 61 saved out\n"
     ]
    },
    {
     "data": {
      "application/vnd.jupyter.widget-view+json": {
       "model_id": "01340a225ff34431a638d9c3e07b0581",
       "version_major": 2,
       "version_minor": 0
      },
      "text/plain": [
       "Processing Channels (T=62):   0%|          | 0/3 [00:00<?, ?it/s]"
      ]
     },
     "metadata": {},
     "output_type": "display_data"
    },
    {
     "name": "stdout",
     "output_type": "stream",
     "text": [
      "Timepoint ID 62 saved out\n"
     ]
    },
    {
     "data": {
      "application/vnd.jupyter.widget-view+json": {
       "model_id": "442e2efe6b4f4158beecf7de75c89e2a",
       "version_major": 2,
       "version_minor": 0
      },
      "text/plain": [
       "Processing Channels (T=63):   0%|          | 0/3 [00:00<?, ?it/s]"
      ]
     },
     "metadata": {},
     "output_type": "display_data"
    },
    {
     "name": "stdout",
     "output_type": "stream",
     "text": [
      "Timepoint ID 63 saved out\n"
     ]
    },
    {
     "data": {
      "application/vnd.jupyter.widget-view+json": {
       "model_id": "fec33c75816e4fefa2dc92607d38f6a8",
       "version_major": 2,
       "version_minor": 0
      },
      "text/plain": [
       "Processing Channels (T=64):   0%|          | 0/3 [00:00<?, ?it/s]"
      ]
     },
     "metadata": {},
     "output_type": "display_data"
    },
    {
     "name": "stdout",
     "output_type": "stream",
     "text": [
      "Timepoint ID 64 saved out\n"
     ]
    },
    {
     "data": {
      "application/vnd.jupyter.widget-view+json": {
       "model_id": "e84cf57e94e8417686a44c6a4ca58cd2",
       "version_major": 2,
       "version_minor": 0
      },
      "text/plain": [
       "Processing Channels (T=65):   0%|          | 0/3 [00:00<?, ?it/s]"
      ]
     },
     "metadata": {},
     "output_type": "display_data"
    },
    {
     "name": "stdout",
     "output_type": "stream",
     "text": [
      "Timepoint ID 65 saved out\n"
     ]
    },
    {
     "data": {
      "application/vnd.jupyter.widget-view+json": {
       "model_id": "9225a478a3694af78b8c47c5eb7d3e84",
       "version_major": 2,
       "version_minor": 0
      },
      "text/plain": [
       "Processing Channels (T=66):   0%|          | 0/3 [00:00<?, ?it/s]"
      ]
     },
     "metadata": {},
     "output_type": "display_data"
    },
    {
     "name": "stdout",
     "output_type": "stream",
     "text": [
      "Timepoint ID 66 saved out\n"
     ]
    },
    {
     "data": {
      "application/vnd.jupyter.widget-view+json": {
       "model_id": "5cedde24ce2b4e968c4d7314f70876ce",
       "version_major": 2,
       "version_minor": 0
      },
      "text/plain": [
       "Processing Channels (T=67):   0%|          | 0/3 [00:00<?, ?it/s]"
      ]
     },
     "metadata": {},
     "output_type": "display_data"
    },
    {
     "name": "stdout",
     "output_type": "stream",
     "text": [
      "Timepoint ID 67 saved out\n"
     ]
    },
    {
     "data": {
      "application/vnd.jupyter.widget-view+json": {
       "model_id": "852324b09f1e448aafd26f397cb6fae0",
       "version_major": 2,
       "version_minor": 0
      },
      "text/plain": [
       "Processing Channels (T=68):   0%|          | 0/3 [00:00<?, ?it/s]"
      ]
     },
     "metadata": {},
     "output_type": "display_data"
    },
    {
     "name": "stdout",
     "output_type": "stream",
     "text": [
      "Timepoint ID 68 saved out\n"
     ]
    },
    {
     "data": {
      "application/vnd.jupyter.widget-view+json": {
       "model_id": "e86077175bcf4d68a5d04a0a634ef1d2",
       "version_major": 2,
       "version_minor": 0
      },
      "text/plain": [
       "Processing Channels (T=69):   0%|          | 0/3 [00:00<?, ?it/s]"
      ]
     },
     "metadata": {},
     "output_type": "display_data"
    },
    {
     "name": "stdout",
     "output_type": "stream",
     "text": [
      "Timepoint ID 69 saved out\n"
     ]
    },
    {
     "data": {
      "application/vnd.jupyter.widget-view+json": {
       "model_id": "3c2bc1c732e74fcaac73029736c2e769",
       "version_major": 2,
       "version_minor": 0
      },
      "text/plain": [
       "Processing Channels (T=70):   0%|          | 0/3 [00:00<?, ?it/s]"
      ]
     },
     "metadata": {},
     "output_type": "display_data"
    },
    {
     "name": "stdout",
     "output_type": "stream",
     "text": [
      "Timepoint ID 70 saved out\n"
     ]
    },
    {
     "data": {
      "application/vnd.jupyter.widget-view+json": {
       "model_id": "44ca8cb211f1449c9eb7fb9b0d32cf02",
       "version_major": 2,
       "version_minor": 0
      },
      "text/plain": [
       "Processing Channels (T=71):   0%|          | 0/3 [00:00<?, ?it/s]"
      ]
     },
     "metadata": {},
     "output_type": "display_data"
    },
    {
     "name": "stdout",
     "output_type": "stream",
     "text": [
      "Timepoint ID 71 saved out\n"
     ]
    },
    {
     "data": {
      "application/vnd.jupyter.widget-view+json": {
       "model_id": "4fd55b3a12db429cadc7633705de8733",
       "version_major": 2,
       "version_minor": 0
      },
      "text/plain": [
       "Processing Channels (T=72):   0%|          | 0/3 [00:00<?, ?it/s]"
      ]
     },
     "metadata": {},
     "output_type": "display_data"
    },
    {
     "name": "stdout",
     "output_type": "stream",
     "text": [
      "Timepoint ID 72 saved out\n"
     ]
    },
    {
     "data": {
      "application/vnd.jupyter.widget-view+json": {
       "model_id": "371cc5f2817f4eea85860bb9b6b2446a",
       "version_major": 2,
       "version_minor": 0
      },
      "text/plain": [
       "Processing Channels (T=73):   0%|          | 0/3 [00:00<?, ?it/s]"
      ]
     },
     "metadata": {},
     "output_type": "display_data"
    },
    {
     "name": "stdout",
     "output_type": "stream",
     "text": [
      "Timepoint ID 73 saved out\n"
     ]
    },
    {
     "data": {
      "application/vnd.jupyter.widget-view+json": {
       "model_id": "bf705424c3e44217b91ea36cfc4a0089",
       "version_major": 2,
       "version_minor": 0
      },
      "text/plain": [
       "Processing Channels (T=74):   0%|          | 0/3 [00:00<?, ?it/s]"
      ]
     },
     "metadata": {},
     "output_type": "display_data"
    },
    {
     "name": "stdout",
     "output_type": "stream",
     "text": [
      "Timepoint ID 74 saved out\n"
     ]
    },
    {
     "data": {
      "application/vnd.jupyter.widget-view+json": {
       "model_id": "d1c63402439843cab38eeb444f86d86e",
       "version_major": 2,
       "version_minor": 0
      },
      "text/plain": [
       "Processing Channels (T=75):   0%|          | 0/3 [00:00<?, ?it/s]"
      ]
     },
     "metadata": {},
     "output_type": "display_data"
    },
    {
     "name": "stdout",
     "output_type": "stream",
     "text": [
      "Timepoint ID 75 saved out\n"
     ]
    },
    {
     "data": {
      "application/vnd.jupyter.widget-view+json": {
       "model_id": "2f693ffb857d4b0091a57ac8a6a2b00a",
       "version_major": 2,
       "version_minor": 0
      },
      "text/plain": [
       "Processing Channels (T=76):   0%|          | 0/3 [00:00<?, ?it/s]"
      ]
     },
     "metadata": {},
     "output_type": "display_data"
    },
    {
     "name": "stdout",
     "output_type": "stream",
     "text": [
      "Timepoint ID 76 saved out\n"
     ]
    },
    {
     "data": {
      "application/vnd.jupyter.widget-view+json": {
       "model_id": "fc623a42acb843c8b08fee1b26c16a47",
       "version_major": 2,
       "version_minor": 0
      },
      "text/plain": [
       "Processing Channels (T=77):   0%|          | 0/3 [00:00<?, ?it/s]"
      ]
     },
     "metadata": {},
     "output_type": "display_data"
    },
    {
     "name": "stdout",
     "output_type": "stream",
     "text": [
      "Timepoint ID 77 saved out\n"
     ]
    },
    {
     "data": {
      "application/vnd.jupyter.widget-view+json": {
       "model_id": "2efc60b79db04a19bdf21e35a51d58ab",
       "version_major": 2,
       "version_minor": 0
      },
      "text/plain": [
       "Processing Channels (T=78):   0%|          | 0/3 [00:00<?, ?it/s]"
      ]
     },
     "metadata": {},
     "output_type": "display_data"
    },
    {
     "name": "stdout",
     "output_type": "stream",
     "text": [
      "Timepoint ID 78 saved out\n"
     ]
    },
    {
     "data": {
      "application/vnd.jupyter.widget-view+json": {
       "model_id": "f8a74bf907e34bf68fdfc18fefb215de",
       "version_major": 2,
       "version_minor": 0
      },
      "text/plain": [
       "Processing Channels (T=79):   0%|          | 0/3 [00:00<?, ?it/s]"
      ]
     },
     "metadata": {},
     "output_type": "display_data"
    },
    {
     "name": "stdout",
     "output_type": "stream",
     "text": [
      "Timepoint ID 79 saved out\n"
     ]
    },
    {
     "data": {
      "application/vnd.jupyter.widget-view+json": {
       "model_id": "ed675dfe76e24eab8033087a5c41bfbc",
       "version_major": 2,
       "version_minor": 0
      },
      "text/plain": [
       "Processing Channels (T=80):   0%|          | 0/3 [00:00<?, ?it/s]"
      ]
     },
     "metadata": {},
     "output_type": "display_data"
    },
    {
     "name": "stdout",
     "output_type": "stream",
     "text": [
      "Timepoint ID 80 saved out\n"
     ]
    },
    {
     "data": {
      "application/vnd.jupyter.widget-view+json": {
       "model_id": "1b3b6d9b1cd9431685668e4f6a1a0a1f",
       "version_major": 2,
       "version_minor": 0
      },
      "text/plain": [
       "Processing Channels (T=81):   0%|          | 0/3 [00:00<?, ?it/s]"
      ]
     },
     "metadata": {},
     "output_type": "display_data"
    },
    {
     "name": "stdout",
     "output_type": "stream",
     "text": [
      "Timepoint ID 81 saved out\n"
     ]
    },
    {
     "data": {
      "application/vnd.jupyter.widget-view+json": {
       "model_id": "72cc2d32e3534eacadba6f0e4d13f376",
       "version_major": 2,
       "version_minor": 0
      },
      "text/plain": [
       "Processing Channels (T=82):   0%|          | 0/3 [00:00<?, ?it/s]"
      ]
     },
     "metadata": {},
     "output_type": "display_data"
    },
    {
     "name": "stdout",
     "output_type": "stream",
     "text": [
      "Timepoint ID 82 saved out\n"
     ]
    },
    {
     "data": {
      "application/vnd.jupyter.widget-view+json": {
       "model_id": "ddffa7a0c2804ae699fe8b4950a7ab01",
       "version_major": 2,
       "version_minor": 0
      },
      "text/plain": [
       "Processing Channels (T=83):   0%|          | 0/3 [00:00<?, ?it/s]"
      ]
     },
     "metadata": {},
     "output_type": "display_data"
    },
    {
     "name": "stdout",
     "output_type": "stream",
     "text": [
      "Timepoint ID 83 saved out\n"
     ]
    },
    {
     "data": {
      "application/vnd.jupyter.widget-view+json": {
       "model_id": "62d5bebcc68145e3bbe4eb7084d10d24",
       "version_major": 2,
       "version_minor": 0
      },
      "text/plain": [
       "Processing Channels (T=84):   0%|          | 0/3 [00:00<?, ?it/s]"
      ]
     },
     "metadata": {},
     "output_type": "display_data"
    },
    {
     "name": "stdout",
     "output_type": "stream",
     "text": [
      "Timepoint ID 84 saved out\n"
     ]
    },
    {
     "data": {
      "application/vnd.jupyter.widget-view+json": {
       "model_id": "81d2b848ad8a4dac984561331f771d5a",
       "version_major": 2,
       "version_minor": 0
      },
      "text/plain": [
       "Processing Channels (T=85):   0%|          | 0/3 [00:00<?, ?it/s]"
      ]
     },
     "metadata": {},
     "output_type": "display_data"
    },
    {
     "name": "stdout",
     "output_type": "stream",
     "text": [
      "Timepoint ID 85 saved out\n"
     ]
    },
    {
     "data": {
      "application/vnd.jupyter.widget-view+json": {
       "model_id": "f3d3b81e24354dda93f95ec05fdac5d1",
       "version_major": 2,
       "version_minor": 0
      },
      "text/plain": [
       "Processing Channels (T=86):   0%|          | 0/3 [00:00<?, ?it/s]"
      ]
     },
     "metadata": {},
     "output_type": "display_data"
    },
    {
     "name": "stdout",
     "output_type": "stream",
     "text": [
      "Timepoint ID 86 saved out\n"
     ]
    },
    {
     "data": {
      "application/vnd.jupyter.widget-view+json": {
       "model_id": "a26910732ba44c34b74cf1d51f3e4580",
       "version_major": 2,
       "version_minor": 0
      },
      "text/plain": [
       "Processing Channels (T=87):   0%|          | 0/3 [00:00<?, ?it/s]"
      ]
     },
     "metadata": {},
     "output_type": "display_data"
    },
    {
     "name": "stdout",
     "output_type": "stream",
     "text": [
      "Timepoint ID 87 saved out\n"
     ]
    },
    {
     "data": {
      "application/vnd.jupyter.widget-view+json": {
       "model_id": "f4ab32955c0142b28b30773c74a19ec6",
       "version_major": 2,
       "version_minor": 0
      },
      "text/plain": [
       "Processing Channels (T=88):   0%|          | 0/3 [00:00<?, ?it/s]"
      ]
     },
     "metadata": {},
     "output_type": "display_data"
    },
    {
     "name": "stdout",
     "output_type": "stream",
     "text": [
      "Timepoint ID 88 saved out\n"
     ]
    },
    {
     "data": {
      "application/vnd.jupyter.widget-view+json": {
       "model_id": "55a5c964e400434099ae92429d27b284",
       "version_major": 2,
       "version_minor": 0
      },
      "text/plain": [
       "Processing Channels (T=89):   0%|          | 0/3 [00:00<?, ?it/s]"
      ]
     },
     "metadata": {},
     "output_type": "display_data"
    },
    {
     "name": "stdout",
     "output_type": "stream",
     "text": [
      "Timepoint ID 89 saved out\n"
     ]
    },
    {
     "data": {
      "application/vnd.jupyter.widget-view+json": {
       "model_id": "bcc1c2ae8a5745c5ba9251d6bb6f6189",
       "version_major": 2,
       "version_minor": 0
      },
      "text/plain": [
       "Processing Channels (T=90):   0%|          | 0/3 [00:00<?, ?it/s]"
      ]
     },
     "metadata": {},
     "output_type": "display_data"
    },
    {
     "name": "stdout",
     "output_type": "stream",
     "text": [
      "Timepoint ID 90 saved out\n"
     ]
    },
    {
     "data": {
      "application/vnd.jupyter.widget-view+json": {
       "model_id": "f1f6e3bd252b4e898895ecd2e6d9ef2d",
       "version_major": 2,
       "version_minor": 0
      },
      "text/plain": [
       "Processing Channels (T=91):   0%|          | 0/3 [00:00<?, ?it/s]"
      ]
     },
     "metadata": {},
     "output_type": "display_data"
    },
    {
     "name": "stdout",
     "output_type": "stream",
     "text": [
      "Timepoint ID 91 saved out\n"
     ]
    },
    {
     "data": {
      "application/vnd.jupyter.widget-view+json": {
       "model_id": "e78c484340ee487ebc93aeb23d17a0a0",
       "version_major": 2,
       "version_minor": 0
      },
      "text/plain": [
       "Processing Channels (T=92):   0%|          | 0/3 [00:00<?, ?it/s]"
      ]
     },
     "metadata": {},
     "output_type": "display_data"
    },
    {
     "name": "stdout",
     "output_type": "stream",
     "text": [
      "Timepoint ID 92 saved out\n"
     ]
    },
    {
     "data": {
      "application/vnd.jupyter.widget-view+json": {
       "model_id": "0727e67f4c524085aa0f17381a38c093",
       "version_major": 2,
       "version_minor": 0
      },
      "text/plain": [
       "Processing Channels (T=93):   0%|          | 0/3 [00:00<?, ?it/s]"
      ]
     },
     "metadata": {},
     "output_type": "display_data"
    },
    {
     "name": "stdout",
     "output_type": "stream",
     "text": [
      "Timepoint ID 93 saved out\n"
     ]
    },
    {
     "data": {
      "application/vnd.jupyter.widget-view+json": {
       "model_id": "0e2414a965874ba893ab7c03d96351e9",
       "version_major": 2,
       "version_minor": 0
      },
      "text/plain": [
       "Processing Channels (T=94):   0%|          | 0/3 [00:00<?, ?it/s]"
      ]
     },
     "metadata": {},
     "output_type": "display_data"
    },
    {
     "name": "stdout",
     "output_type": "stream",
     "text": [
      "Timepoint ID 94 saved out\n"
     ]
    },
    {
     "data": {
      "application/vnd.jupyter.widget-view+json": {
       "model_id": "92d4f4a3b11549a5a080c527784f3050",
       "version_major": 2,
       "version_minor": 0
      },
      "text/plain": [
       "Processing Channels (T=95):   0%|          | 0/3 [00:00<?, ?it/s]"
      ]
     },
     "metadata": {},
     "output_type": "display_data"
    },
    {
     "name": "stdout",
     "output_type": "stream",
     "text": [
      "Timepoint ID 95 saved out\n"
     ]
    },
    {
     "data": {
      "application/vnd.jupyter.widget-view+json": {
       "model_id": "88d4566ffb2b4d8dbe091fcd42a224c6",
       "version_major": 2,
       "version_minor": 0
      },
      "text/plain": [
       "Processing Channels (T=96):   0%|          | 0/3 [00:00<?, ?it/s]"
      ]
     },
     "metadata": {},
     "output_type": "display_data"
    },
    {
     "name": "stdout",
     "output_type": "stream",
     "text": [
      "Timepoint ID 96 saved out\n"
     ]
    },
    {
     "data": {
      "application/vnd.jupyter.widget-view+json": {
       "model_id": "79d3ceb3b07341b9a9a037a595b7cd58",
       "version_major": 2,
       "version_minor": 0
      },
      "text/plain": [
       "Processing Channels (T=97):   0%|          | 0/3 [00:00<?, ?it/s]"
      ]
     },
     "metadata": {},
     "output_type": "display_data"
    },
    {
     "name": "stdout",
     "output_type": "stream",
     "text": [
      "Timepoint ID 97 saved out\n"
     ]
    },
    {
     "data": {
      "application/vnd.jupyter.widget-view+json": {
       "model_id": "8cccb440a14f4cf38ad4ae2587b338a3",
       "version_major": 2,
       "version_minor": 0
      },
      "text/plain": [
       "Processing Channels (T=98):   0%|          | 0/3 [00:00<?, ?it/s]"
      ]
     },
     "metadata": {},
     "output_type": "display_data"
    },
    {
     "name": "stdout",
     "output_type": "stream",
     "text": [
      "Timepoint ID 98 saved out\n"
     ]
    },
    {
     "data": {
      "application/vnd.jupyter.widget-view+json": {
       "model_id": "f14268e0794f495e8711f4b4ed9e8b67",
       "version_major": 2,
       "version_minor": 0
      },
      "text/plain": [
       "Processing Channels (T=99):   0%|          | 0/3 [00:00<?, ?it/s]"
      ]
     },
     "metadata": {},
     "output_type": "display_data"
    },
    {
     "name": "stdout",
     "output_type": "stream",
     "text": [
      "Timepoint ID 99 saved out\n"
     ]
    },
    {
     "data": {
      "application/vnd.jupyter.widget-view+json": {
       "model_id": "c39c6772cf9d42eabcd5d7d5a72df821",
       "version_major": 2,
       "version_minor": 0
      },
      "text/plain": [
       "Processing Channels (T=100):   0%|          | 0/3 [00:00<?, ?it/s]"
      ]
     },
     "metadata": {},
     "output_type": "display_data"
    },
    {
     "name": "stdout",
     "output_type": "stream",
     "text": [
      "Timepoint ID 100 saved out\n"
     ]
    },
    {
     "data": {
      "application/vnd.jupyter.widget-view+json": {
       "model_id": "cffeb17f9a454b4cade51ba51b527715",
       "version_major": 2,
       "version_minor": 0
      },
      "text/plain": [
       "Processing Channels (T=101):   0%|          | 0/3 [00:00<?, ?it/s]"
      ]
     },
     "metadata": {},
     "output_type": "display_data"
    },
    {
     "name": "stdout",
     "output_type": "stream",
     "text": [
      "Timepoint ID 101 saved out\n"
     ]
    },
    {
     "data": {
      "application/vnd.jupyter.widget-view+json": {
       "model_id": "3f14f644d68e4f4fbbe23a6c3fe07e1f",
       "version_major": 2,
       "version_minor": 0
      },
      "text/plain": [
       "Processing Channels (T=102):   0%|          | 0/3 [00:00<?, ?it/s]"
      ]
     },
     "metadata": {},
     "output_type": "display_data"
    },
    {
     "name": "stdout",
     "output_type": "stream",
     "text": [
      "Timepoint ID 102 saved out\n"
     ]
    },
    {
     "data": {
      "application/vnd.jupyter.widget-view+json": {
       "model_id": "4bb4c32311a144839c06f01832730963",
       "version_major": 2,
       "version_minor": 0
      },
      "text/plain": [
       "Processing Channels (T=103):   0%|          | 0/3 [00:00<?, ?it/s]"
      ]
     },
     "metadata": {},
     "output_type": "display_data"
    },
    {
     "name": "stdout",
     "output_type": "stream",
     "text": [
      "Timepoint ID 103 saved out\n"
     ]
    },
    {
     "data": {
      "application/vnd.jupyter.widget-view+json": {
       "model_id": "488be5a71f8d415a9dd9ec5b48af5ad2",
       "version_major": 2,
       "version_minor": 0
      },
      "text/plain": [
       "Processing Channels (T=104):   0%|          | 0/3 [00:00<?, ?it/s]"
      ]
     },
     "metadata": {},
     "output_type": "display_data"
    },
    {
     "name": "stdout",
     "output_type": "stream",
     "text": [
      "Timepoint ID 104 saved out\n"
     ]
    },
    {
     "data": {
      "application/vnd.jupyter.widget-view+json": {
       "model_id": "5a8c7a651c2141d096e5ee7f8ae8006e",
       "version_major": 2,
       "version_minor": 0
      },
      "text/plain": [
       "Processing Channels (T=105):   0%|          | 0/3 [00:00<?, ?it/s]"
      ]
     },
     "metadata": {},
     "output_type": "display_data"
    },
    {
     "name": "stdout",
     "output_type": "stream",
     "text": [
      "Timepoint ID 105 saved out\n"
     ]
    },
    {
     "data": {
      "application/vnd.jupyter.widget-view+json": {
       "model_id": "fcc52899b479454e9ed30edc75b3a0f3",
       "version_major": 2,
       "version_minor": 0
      },
      "text/plain": [
       "Processing Channels (T=106):   0%|          | 0/3 [00:00<?, ?it/s]"
      ]
     },
     "metadata": {},
     "output_type": "display_data"
    },
    {
     "name": "stdout",
     "output_type": "stream",
     "text": [
      "Timepoint ID 106 saved out\n"
     ]
    },
    {
     "data": {
      "application/vnd.jupyter.widget-view+json": {
       "model_id": "bba57ab6122a4b90b7341c2d6a4ed977",
       "version_major": 2,
       "version_minor": 0
      },
      "text/plain": [
       "Processing Channels (T=107):   0%|          | 0/3 [00:00<?, ?it/s]"
      ]
     },
     "metadata": {},
     "output_type": "display_data"
    },
    {
     "name": "stdout",
     "output_type": "stream",
     "text": [
      "Timepoint ID 107 saved out\n"
     ]
    },
    {
     "data": {
      "application/vnd.jupyter.widget-view+json": {
       "model_id": "ff732c80056e4b7f9811c9c16c3c4e96",
       "version_major": 2,
       "version_minor": 0
      },
      "text/plain": [
       "Processing Channels (T=108):   0%|          | 0/3 [00:00<?, ?it/s]"
      ]
     },
     "metadata": {},
     "output_type": "display_data"
    },
    {
     "name": "stdout",
     "output_type": "stream",
     "text": [
      "Timepoint ID 108 saved out\n"
     ]
    },
    {
     "data": {
      "application/vnd.jupyter.widget-view+json": {
       "model_id": "6a4ea9e3bfc641a7afacf4dfc3e4a66a",
       "version_major": 2,
       "version_minor": 0
      },
      "text/plain": [
       "Processing Channels (T=109):   0%|          | 0/3 [00:00<?, ?it/s]"
      ]
     },
     "metadata": {},
     "output_type": "display_data"
    },
    {
     "name": "stdout",
     "output_type": "stream",
     "text": [
      "Timepoint ID 109 saved out\n"
     ]
    },
    {
     "data": {
      "application/vnd.jupyter.widget-view+json": {
       "model_id": "01dfbc9f57714f3bba7d41ec54275c2e",
       "version_major": 2,
       "version_minor": 0
      },
      "text/plain": [
       "Processing Channels (T=110):   0%|          | 0/3 [00:00<?, ?it/s]"
      ]
     },
     "metadata": {},
     "output_type": "display_data"
    },
    {
     "name": "stdout",
     "output_type": "stream",
     "text": [
      "Timepoint ID 110 saved out\n"
     ]
    },
    {
     "data": {
      "application/vnd.jupyter.widget-view+json": {
       "model_id": "ca2baeb307034c5a9346269a53678f6e",
       "version_major": 2,
       "version_minor": 0
      },
      "text/plain": [
       "Processing Channels (T=111):   0%|          | 0/3 [00:00<?, ?it/s]"
      ]
     },
     "metadata": {},
     "output_type": "display_data"
    },
    {
     "name": "stdout",
     "output_type": "stream",
     "text": [
      "Timepoint ID 111 saved out\n"
     ]
    },
    {
     "data": {
      "application/vnd.jupyter.widget-view+json": {
       "model_id": "06bcd4df9c0d42698b88123213a04f1c",
       "version_major": 2,
       "version_minor": 0
      },
      "text/plain": [
       "Processing Channels (T=112):   0%|          | 0/3 [00:00<?, ?it/s]"
      ]
     },
     "metadata": {},
     "output_type": "display_data"
    },
    {
     "name": "stdout",
     "output_type": "stream",
     "text": [
      "Timepoint ID 112 saved out\n"
     ]
    },
    {
     "data": {
      "application/vnd.jupyter.widget-view+json": {
       "model_id": "0e1f6753c2b14958af287ca6a53507fb",
       "version_major": 2,
       "version_minor": 0
      },
      "text/plain": [
       "Processing Channels (T=113):   0%|          | 0/3 [00:00<?, ?it/s]"
      ]
     },
     "metadata": {},
     "output_type": "display_data"
    },
    {
     "name": "stdout",
     "output_type": "stream",
     "text": [
      "Timepoint ID 113 saved out\n"
     ]
    },
    {
     "data": {
      "application/vnd.jupyter.widget-view+json": {
       "model_id": "e0f56cb0cc724762b243989c7c2304d8",
       "version_major": 2,
       "version_minor": 0
      },
      "text/plain": [
       "Processing Channels (T=114):   0%|          | 0/3 [00:00<?, ?it/s]"
      ]
     },
     "metadata": {},
     "output_type": "display_data"
    },
    {
     "name": "stdout",
     "output_type": "stream",
     "text": [
      "Timepoint ID 114 saved out\n"
     ]
    },
    {
     "data": {
      "application/vnd.jupyter.widget-view+json": {
       "model_id": "357086a6e1ea4778b161a898a12423e9",
       "version_major": 2,
       "version_minor": 0
      },
      "text/plain": [
       "Processing Channels (T=115):   0%|          | 0/3 [00:00<?, ?it/s]"
      ]
     },
     "metadata": {},
     "output_type": "display_data"
    },
    {
     "name": "stdout",
     "output_type": "stream",
     "text": [
      "Timepoint ID 115 saved out\n"
     ]
    },
    {
     "data": {
      "application/vnd.jupyter.widget-view+json": {
       "model_id": "51f5be9a4de54c0f9bc643a4e44e4c49",
       "version_major": 2,
       "version_minor": 0
      },
      "text/plain": [
       "Processing Channels (T=116):   0%|          | 0/3 [00:00<?, ?it/s]"
      ]
     },
     "metadata": {},
     "output_type": "display_data"
    },
    {
     "name": "stdout",
     "output_type": "stream",
     "text": [
      "Timepoint ID 116 saved out\n"
     ]
    },
    {
     "data": {
      "application/vnd.jupyter.widget-view+json": {
       "model_id": "d0ceaa8d5b9449269171b89503a4a34a",
       "version_major": 2,
       "version_minor": 0
      },
      "text/plain": [
       "Processing Channels (T=117):   0%|          | 0/3 [00:00<?, ?it/s]"
      ]
     },
     "metadata": {},
     "output_type": "display_data"
    },
    {
     "name": "stdout",
     "output_type": "stream",
     "text": [
      "Timepoint ID 117 saved out\n"
     ]
    },
    {
     "data": {
      "application/vnd.jupyter.widget-view+json": {
       "model_id": "c4008d6c377b4b45943b243ce5593d67",
       "version_major": 2,
       "version_minor": 0
      },
      "text/plain": [
       "Processing Channels (T=118):   0%|          | 0/3 [00:00<?, ?it/s]"
      ]
     },
     "metadata": {},
     "output_type": "display_data"
    },
    {
     "name": "stdout",
     "output_type": "stream",
     "text": [
      "Timepoint ID 118 saved out\n"
     ]
    },
    {
     "data": {
      "application/vnd.jupyter.widget-view+json": {
       "model_id": "0ec8b5ab47da49f19f83e1cef13bbc71",
       "version_major": 2,
       "version_minor": 0
      },
      "text/plain": [
       "Processing Channels (T=119):   0%|          | 0/3 [00:00<?, ?it/s]"
      ]
     },
     "metadata": {},
     "output_type": "display_data"
    },
    {
     "name": "stdout",
     "output_type": "stream",
     "text": [
      "Timepoint ID 119 saved out\n"
     ]
    },
    {
     "data": {
      "application/vnd.jupyter.widget-view+json": {
       "model_id": "06f681de82b04276b4a7b2e46d13080a",
       "version_major": 2,
       "version_minor": 0
      },
      "text/plain": [
       "Processing Channels (T=120):   0%|          | 0/3 [00:00<?, ?it/s]"
      ]
     },
     "metadata": {},
     "output_type": "display_data"
    },
    {
     "name": "stdout",
     "output_type": "stream",
     "text": [
      "Timepoint ID 120 saved out\n"
     ]
    },
    {
     "data": {
      "application/vnd.jupyter.widget-view+json": {
       "model_id": "aeec238e1f0f4281bb05c6a72d1c8f58",
       "version_major": 2,
       "version_minor": 0
      },
      "text/plain": [
       "Processing Channels (T=121):   0%|          | 0/3 [00:00<?, ?it/s]"
      ]
     },
     "metadata": {},
     "output_type": "display_data"
    },
    {
     "name": "stdout",
     "output_type": "stream",
     "text": [
      "Timepoint ID 121 saved out\n"
     ]
    },
    {
     "data": {
      "application/vnd.jupyter.widget-view+json": {
       "model_id": "db6548baeb934725963a3a9451bb84f7",
       "version_major": 2,
       "version_minor": 0
      },
      "text/plain": [
       "Processing Channels (T=122):   0%|          | 0/3 [00:00<?, ?it/s]"
      ]
     },
     "metadata": {},
     "output_type": "display_data"
    },
    {
     "name": "stdout",
     "output_type": "stream",
     "text": [
      "Timepoint ID 122 saved out\n"
     ]
    },
    {
     "data": {
      "application/vnd.jupyter.widget-view+json": {
       "model_id": "9f13a42dba624d48bf1d418079fb7477",
       "version_major": 2,
       "version_minor": 0
      },
      "text/plain": [
       "Processing Channels (T=123):   0%|          | 0/3 [00:00<?, ?it/s]"
      ]
     },
     "metadata": {},
     "output_type": "display_data"
    },
    {
     "name": "stdout",
     "output_type": "stream",
     "text": [
      "Timepoint ID 123 saved out\n"
     ]
    },
    {
     "data": {
      "application/vnd.jupyter.widget-view+json": {
       "model_id": "00f45a5ea20f4c4f9765ab9fe1dd3e40",
       "version_major": 2,
       "version_minor": 0
      },
      "text/plain": [
       "Processing Channels (T=124):   0%|          | 0/3 [00:00<?, ?it/s]"
      ]
     },
     "metadata": {},
     "output_type": "display_data"
    },
    {
     "name": "stdout",
     "output_type": "stream",
     "text": [
      "Timepoint ID 124 saved out\n"
     ]
    },
    {
     "data": {
      "application/vnd.jupyter.widget-view+json": {
       "model_id": "dc3f6e546f284d51a92f14358be2e087",
       "version_major": 2,
       "version_minor": 0
      },
      "text/plain": [
       "Processing Channels (T=125):   0%|          | 0/3 [00:00<?, ?it/s]"
      ]
     },
     "metadata": {},
     "output_type": "display_data"
    },
    {
     "name": "stdout",
     "output_type": "stream",
     "text": [
      "Timepoint ID 125 saved out\n"
     ]
    },
    {
     "data": {
      "application/vnd.jupyter.widget-view+json": {
       "model_id": "2036c42f2da34d81a24cc60de2bab923",
       "version_major": 2,
       "version_minor": 0
      },
      "text/plain": [
       "Processing Channels (T=126):   0%|          | 0/3 [00:00<?, ?it/s]"
      ]
     },
     "metadata": {},
     "output_type": "display_data"
    },
    {
     "name": "stdout",
     "output_type": "stream",
     "text": [
      "Timepoint ID 126 saved out\n"
     ]
    },
    {
     "data": {
      "application/vnd.jupyter.widget-view+json": {
       "model_id": "f5991ef8376143f7a76111a5aa19a17a",
       "version_major": 2,
       "version_minor": 0
      },
      "text/plain": [
       "Processing Channels (T=127):   0%|          | 0/3 [00:00<?, ?it/s]"
      ]
     },
     "metadata": {},
     "output_type": "display_data"
    },
    {
     "name": "stdout",
     "output_type": "stream",
     "text": [
      "Timepoint ID 127 saved out\n"
     ]
    },
    {
     "data": {
      "application/vnd.jupyter.widget-view+json": {
       "model_id": "beff8319773b4b7bacf7ef7e5e64ff34",
       "version_major": 2,
       "version_minor": 0
      },
      "text/plain": [
       "Processing Channels (T=128):   0%|          | 0/3 [00:00<?, ?it/s]"
      ]
     },
     "metadata": {},
     "output_type": "display_data"
    },
    {
     "name": "stdout",
     "output_type": "stream",
     "text": [
      "Timepoint ID 128 saved out\n"
     ]
    },
    {
     "data": {
      "application/vnd.jupyter.widget-view+json": {
       "model_id": "1bcc55c7321a4c859c5292a052841756",
       "version_major": 2,
       "version_minor": 0
      },
      "text/plain": [
       "Processing Channels (T=129):   0%|          | 0/3 [00:00<?, ?it/s]"
      ]
     },
     "metadata": {},
     "output_type": "display_data"
    },
    {
     "name": "stdout",
     "output_type": "stream",
     "text": [
      "Timepoint ID 129 saved out\n"
     ]
    },
    {
     "data": {
      "application/vnd.jupyter.widget-view+json": {
       "model_id": "a043dc05fee044a89a15068d49f00ed5",
       "version_major": 2,
       "version_minor": 0
      },
      "text/plain": [
       "Processing Channels (T=130):   0%|          | 0/3 [00:00<?, ?it/s]"
      ]
     },
     "metadata": {},
     "output_type": "display_data"
    },
    {
     "name": "stdout",
     "output_type": "stream",
     "text": [
      "Timepoint ID 130 saved out\n"
     ]
    },
    {
     "data": {
      "application/vnd.jupyter.widget-view+json": {
       "model_id": "bfdc8705415441e68ccf56ec3453e30a",
       "version_major": 2,
       "version_minor": 0
      },
      "text/plain": [
       "Processing Channels (T=131):   0%|          | 0/3 [00:00<?, ?it/s]"
      ]
     },
     "metadata": {},
     "output_type": "display_data"
    },
    {
     "name": "stdout",
     "output_type": "stream",
     "text": [
      "Timepoint ID 131 saved out\n"
     ]
    },
    {
     "data": {
      "application/vnd.jupyter.widget-view+json": {
       "model_id": "f3f37701d6d2428fbbef690ceb9c37c0",
       "version_major": 2,
       "version_minor": 0
      },
      "text/plain": [
       "Processing Channels (T=132):   0%|          | 0/3 [00:00<?, ?it/s]"
      ]
     },
     "metadata": {},
     "output_type": "display_data"
    },
    {
     "name": "stdout",
     "output_type": "stream",
     "text": [
      "Timepoint ID 132 saved out\n"
     ]
    },
    {
     "data": {
      "application/vnd.jupyter.widget-view+json": {
       "model_id": "ac03686076bc4a4284234c730befc4a3",
       "version_major": 2,
       "version_minor": 0
      },
      "text/plain": [
       "Processing Channels (T=133):   0%|          | 0/3 [00:00<?, ?it/s]"
      ]
     },
     "metadata": {},
     "output_type": "display_data"
    },
    {
     "name": "stdout",
     "output_type": "stream",
     "text": [
      "Timepoint ID 133 saved out\n"
     ]
    },
    {
     "data": {
      "application/vnd.jupyter.widget-view+json": {
       "model_id": "99b41047e3074474b74b4c76adada8aa",
       "version_major": 2,
       "version_minor": 0
      },
      "text/plain": [
       "Processing Channels (T=134):   0%|          | 0/3 [00:00<?, ?it/s]"
      ]
     },
     "metadata": {},
     "output_type": "display_data"
    },
    {
     "name": "stdout",
     "output_type": "stream",
     "text": [
      "Timepoint ID 134 saved out\n"
     ]
    },
    {
     "data": {
      "application/vnd.jupyter.widget-view+json": {
       "model_id": "9440cde95f73457c9ef1dafe198e9604",
       "version_major": 2,
       "version_minor": 0
      },
      "text/plain": [
       "Processing Channels (T=135):   0%|          | 0/3 [00:00<?, ?it/s]"
      ]
     },
     "metadata": {},
     "output_type": "display_data"
    },
    {
     "name": "stdout",
     "output_type": "stream",
     "text": [
      "Timepoint ID 135 saved out\n"
     ]
    },
    {
     "data": {
      "application/vnd.jupyter.widget-view+json": {
       "model_id": "0cc1007e3ae04defa27cce6b13777d2a",
       "version_major": 2,
       "version_minor": 0
      },
      "text/plain": [
       "Processing Channels (T=136):   0%|          | 0/3 [00:00<?, ?it/s]"
      ]
     },
     "metadata": {},
     "output_type": "display_data"
    },
    {
     "name": "stdout",
     "output_type": "stream",
     "text": [
      "Timepoint ID 136 saved out\n"
     ]
    },
    {
     "data": {
      "application/vnd.jupyter.widget-view+json": {
       "model_id": "6eb3c7e4b4ec4e3b8c4eb5623aa88a9d",
       "version_major": 2,
       "version_minor": 0
      },
      "text/plain": [
       "Processing Channels (T=137):   0%|          | 0/3 [00:00<?, ?it/s]"
      ]
     },
     "metadata": {},
     "output_type": "display_data"
    },
    {
     "name": "stdout",
     "output_type": "stream",
     "text": [
      "Timepoint ID 137 saved out\n"
     ]
    },
    {
     "data": {
      "application/vnd.jupyter.widget-view+json": {
       "model_id": "44d8b351eedb46efaaba1b92a1ab752c",
       "version_major": 2,
       "version_minor": 0
      },
      "text/plain": [
       "Processing Channels (T=138):   0%|          | 0/3 [00:00<?, ?it/s]"
      ]
     },
     "metadata": {},
     "output_type": "display_data"
    },
    {
     "name": "stdout",
     "output_type": "stream",
     "text": [
      "Timepoint ID 138 saved out\n"
     ]
    },
    {
     "data": {
      "application/vnd.jupyter.widget-view+json": {
       "model_id": "cae9bdf94e2f4dba96d0dcd6ab78ac83",
       "version_major": 2,
       "version_minor": 0
      },
      "text/plain": [
       "Processing Channels (T=139):   0%|          | 0/3 [00:00<?, ?it/s]"
      ]
     },
     "metadata": {},
     "output_type": "display_data"
    },
    {
     "name": "stdout",
     "output_type": "stream",
     "text": [
      "Timepoint ID 139 saved out\n"
     ]
    },
    {
     "data": {
      "application/vnd.jupyter.widget-view+json": {
       "model_id": "63a5fc8dfa474186ac81f7c2a26c885f",
       "version_major": 2,
       "version_minor": 0
      },
      "text/plain": [
       "Processing Channels (T=140):   0%|          | 0/3 [00:00<?, ?it/s]"
      ]
     },
     "metadata": {},
     "output_type": "display_data"
    },
    {
     "name": "stdout",
     "output_type": "stream",
     "text": [
      "Timepoint ID 140 saved out\n"
     ]
    },
    {
     "data": {
      "application/vnd.jupyter.widget-view+json": {
       "model_id": "8fbb2bdc43ce4621a7119603296f9d1b",
       "version_major": 2,
       "version_minor": 0
      },
      "text/plain": [
       "Processing Channels (T=141):   0%|          | 0/3 [00:00<?, ?it/s]"
      ]
     },
     "metadata": {},
     "output_type": "display_data"
    },
    {
     "name": "stdout",
     "output_type": "stream",
     "text": [
      "Timepoint ID 141 saved out\n"
     ]
    },
    {
     "data": {
      "application/vnd.jupyter.widget-view+json": {
       "model_id": "7bb90d2ffd844818b0b9931dd8aad908",
       "version_major": 2,
       "version_minor": 0
      },
      "text/plain": [
       "Processing Channels (T=142):   0%|          | 0/3 [00:00<?, ?it/s]"
      ]
     },
     "metadata": {},
     "output_type": "display_data"
    },
    {
     "name": "stdout",
     "output_type": "stream",
     "text": [
      "Timepoint ID 142 saved out\n"
     ]
    },
    {
     "data": {
      "application/vnd.jupyter.widget-view+json": {
       "model_id": "b9a4c59b3f74407a8081d8e778069124",
       "version_major": 2,
       "version_minor": 0
      },
      "text/plain": [
       "Processing Channels (T=143):   0%|          | 0/3 [00:00<?, ?it/s]"
      ]
     },
     "metadata": {},
     "output_type": "display_data"
    },
    {
     "name": "stdout",
     "output_type": "stream",
     "text": [
      "Timepoint ID 143 saved out\n"
     ]
    },
    {
     "data": {
      "application/vnd.jupyter.widget-view+json": {
       "model_id": "cb30acc6862d4bda96e1c6d417e7101e",
       "version_major": 2,
       "version_minor": 0
      },
      "text/plain": [
       "Processing Time Points:   0%|          | 0/144 [00:00<?, ?it/s]"
      ]
     },
     "metadata": {},
     "output_type": "display_data"
    },
    {
     "data": {
      "application/vnd.jupyter.widget-view+json": {
       "model_id": "fce13c9c5da84cd791dae00ade892c4e",
       "version_major": 2,
       "version_minor": 0
      },
      "text/plain": [
       "Processing Channels (T=0):   0%|          | 0/3 [00:00<?, ?it/s]"
      ]
     },
     "metadata": {},
     "output_type": "display_data"
    },
    {
     "name": "stdout",
     "output_type": "stream",
     "text": [
      "Timepoint ID 0 saved out\n"
     ]
    },
    {
     "data": {
      "application/vnd.jupyter.widget-view+json": {
       "model_id": "3767986e8d314aa0b8e300b98b6c3eab",
       "version_major": 2,
       "version_minor": 0
      },
      "text/plain": [
       "Processing Channels (T=1):   0%|          | 0/3 [00:00<?, ?it/s]"
      ]
     },
     "metadata": {},
     "output_type": "display_data"
    },
    {
     "name": "stdout",
     "output_type": "stream",
     "text": [
      "Timepoint ID 1 saved out\n"
     ]
    },
    {
     "data": {
      "application/vnd.jupyter.widget-view+json": {
       "model_id": "151d0d8f751e4dc1ab8c7cbfae024b5b",
       "version_major": 2,
       "version_minor": 0
      },
      "text/plain": [
       "Processing Channels (T=2):   0%|          | 0/3 [00:00<?, ?it/s]"
      ]
     },
     "metadata": {},
     "output_type": "display_data"
    },
    {
     "name": "stdout",
     "output_type": "stream",
     "text": [
      "Timepoint ID 2 saved out\n"
     ]
    },
    {
     "data": {
      "application/vnd.jupyter.widget-view+json": {
       "model_id": "09e617fe4b4142b9a8a19c863c18d88c",
       "version_major": 2,
       "version_minor": 0
      },
      "text/plain": [
       "Processing Channels (T=3):   0%|          | 0/3 [00:00<?, ?it/s]"
      ]
     },
     "metadata": {},
     "output_type": "display_data"
    },
    {
     "name": "stdout",
     "output_type": "stream",
     "text": [
      "Timepoint ID 3 saved out\n"
     ]
    },
    {
     "data": {
      "application/vnd.jupyter.widget-view+json": {
       "model_id": "8fc1b66a19894716b3f4d0811f0d2452",
       "version_major": 2,
       "version_minor": 0
      },
      "text/plain": [
       "Processing Channels (T=4):   0%|          | 0/3 [00:00<?, ?it/s]"
      ]
     },
     "metadata": {},
     "output_type": "display_data"
    },
    {
     "name": "stdout",
     "output_type": "stream",
     "text": [
      "Timepoint ID 4 saved out\n"
     ]
    },
    {
     "data": {
      "application/vnd.jupyter.widget-view+json": {
       "model_id": "476faec2f9ba40278d7977405f90aae9",
       "version_major": 2,
       "version_minor": 0
      },
      "text/plain": [
       "Processing Channels (T=5):   0%|          | 0/3 [00:00<?, ?it/s]"
      ]
     },
     "metadata": {},
     "output_type": "display_data"
    },
    {
     "name": "stdout",
     "output_type": "stream",
     "text": [
      "Timepoint ID 5 saved out\n"
     ]
    },
    {
     "data": {
      "application/vnd.jupyter.widget-view+json": {
       "model_id": "070311021ab24ba4a55cf2685f8aaa96",
       "version_major": 2,
       "version_minor": 0
      },
      "text/plain": [
       "Processing Channels (T=6):   0%|          | 0/3 [00:00<?, ?it/s]"
      ]
     },
     "metadata": {},
     "output_type": "display_data"
    },
    {
     "name": "stdout",
     "output_type": "stream",
     "text": [
      "Timepoint ID 6 saved out\n"
     ]
    },
    {
     "data": {
      "application/vnd.jupyter.widget-view+json": {
       "model_id": "b9bd4bbeb26b4493bbb7d0bf23dcaf67",
       "version_major": 2,
       "version_minor": 0
      },
      "text/plain": [
       "Processing Channels (T=7):   0%|          | 0/3 [00:00<?, ?it/s]"
      ]
     },
     "metadata": {},
     "output_type": "display_data"
    },
    {
     "name": "stdout",
     "output_type": "stream",
     "text": [
      "Timepoint ID 7 saved out\n"
     ]
    },
    {
     "data": {
      "application/vnd.jupyter.widget-view+json": {
       "model_id": "1822e3eb950a4d76ba5af8a86edd66ba",
       "version_major": 2,
       "version_minor": 0
      },
      "text/plain": [
       "Processing Channels (T=8):   0%|          | 0/3 [00:00<?, ?it/s]"
      ]
     },
     "metadata": {},
     "output_type": "display_data"
    },
    {
     "name": "stdout",
     "output_type": "stream",
     "text": [
      "Timepoint ID 8 saved out\n"
     ]
    },
    {
     "data": {
      "application/vnd.jupyter.widget-view+json": {
       "model_id": "b8a5948375664b208f6d3e9a81b4cbdc",
       "version_major": 2,
       "version_minor": 0
      },
      "text/plain": [
       "Processing Channels (T=9):   0%|          | 0/3 [00:00<?, ?it/s]"
      ]
     },
     "metadata": {},
     "output_type": "display_data"
    },
    {
     "name": "stdout",
     "output_type": "stream",
     "text": [
      "Timepoint ID 9 saved out\n"
     ]
    },
    {
     "data": {
      "application/vnd.jupyter.widget-view+json": {
       "model_id": "8b2bf5f8f9584487839987797fc49fc1",
       "version_major": 2,
       "version_minor": 0
      },
      "text/plain": [
       "Processing Channels (T=10):   0%|          | 0/3 [00:00<?, ?it/s]"
      ]
     },
     "metadata": {},
     "output_type": "display_data"
    },
    {
     "name": "stdout",
     "output_type": "stream",
     "text": [
      "Timepoint ID 10 saved out\n"
     ]
    },
    {
     "data": {
      "application/vnd.jupyter.widget-view+json": {
       "model_id": "d311cc00bd614195b65a84beff2536cc",
       "version_major": 2,
       "version_minor": 0
      },
      "text/plain": [
       "Processing Channels (T=11):   0%|          | 0/3 [00:00<?, ?it/s]"
      ]
     },
     "metadata": {},
     "output_type": "display_data"
    },
    {
     "name": "stdout",
     "output_type": "stream",
     "text": [
      "Timepoint ID 11 saved out\n"
     ]
    },
    {
     "data": {
      "application/vnd.jupyter.widget-view+json": {
       "model_id": "9713ddd290f74ef7bdc5a1c6b95eec2b",
       "version_major": 2,
       "version_minor": 0
      },
      "text/plain": [
       "Processing Channels (T=12):   0%|          | 0/3 [00:00<?, ?it/s]"
      ]
     },
     "metadata": {},
     "output_type": "display_data"
    },
    {
     "name": "stdout",
     "output_type": "stream",
     "text": [
      "Timepoint ID 12 saved out\n"
     ]
    },
    {
     "data": {
      "application/vnd.jupyter.widget-view+json": {
       "model_id": "e8e23b3d02f548a2bfccf63ae4e85558",
       "version_major": 2,
       "version_minor": 0
      },
      "text/plain": [
       "Processing Channels (T=13):   0%|          | 0/3 [00:00<?, ?it/s]"
      ]
     },
     "metadata": {},
     "output_type": "display_data"
    },
    {
     "name": "stdout",
     "output_type": "stream",
     "text": [
      "Timepoint ID 13 saved out\n"
     ]
    },
    {
     "data": {
      "application/vnd.jupyter.widget-view+json": {
       "model_id": "306666b579a4400abf05c29e39413ac7",
       "version_major": 2,
       "version_minor": 0
      },
      "text/plain": [
       "Processing Channels (T=14):   0%|          | 0/3 [00:00<?, ?it/s]"
      ]
     },
     "metadata": {},
     "output_type": "display_data"
    },
    {
     "name": "stdout",
     "output_type": "stream",
     "text": [
      "Timepoint ID 14 saved out\n"
     ]
    },
    {
     "data": {
      "application/vnd.jupyter.widget-view+json": {
       "model_id": "3fa6ee6a3fcd4e39947cdccc29d33e3a",
       "version_major": 2,
       "version_minor": 0
      },
      "text/plain": [
       "Processing Channels (T=15):   0%|          | 0/3 [00:00<?, ?it/s]"
      ]
     },
     "metadata": {},
     "output_type": "display_data"
    },
    {
     "name": "stdout",
     "output_type": "stream",
     "text": [
      "Timepoint ID 15 saved out\n"
     ]
    },
    {
     "data": {
      "application/vnd.jupyter.widget-view+json": {
       "model_id": "21c63fc0c06744308329e0d317559603",
       "version_major": 2,
       "version_minor": 0
      },
      "text/plain": [
       "Processing Channels (T=16):   0%|          | 0/3 [00:00<?, ?it/s]"
      ]
     },
     "metadata": {},
     "output_type": "display_data"
    },
    {
     "name": "stdout",
     "output_type": "stream",
     "text": [
      "Timepoint ID 16 saved out\n"
     ]
    },
    {
     "data": {
      "application/vnd.jupyter.widget-view+json": {
       "model_id": "3b977157954d449fb2a7c105a3196c1c",
       "version_major": 2,
       "version_minor": 0
      },
      "text/plain": [
       "Processing Channels (T=17):   0%|          | 0/3 [00:00<?, ?it/s]"
      ]
     },
     "metadata": {},
     "output_type": "display_data"
    },
    {
     "name": "stdout",
     "output_type": "stream",
     "text": [
      "Timepoint ID 17 saved out\n"
     ]
    },
    {
     "data": {
      "application/vnd.jupyter.widget-view+json": {
       "model_id": "1e52dfc117944bdba434a4ae087f5b05",
       "version_major": 2,
       "version_minor": 0
      },
      "text/plain": [
       "Processing Channels (T=18):   0%|          | 0/3 [00:00<?, ?it/s]"
      ]
     },
     "metadata": {},
     "output_type": "display_data"
    },
    {
     "name": "stdout",
     "output_type": "stream",
     "text": [
      "Timepoint ID 18 saved out\n"
     ]
    },
    {
     "data": {
      "application/vnd.jupyter.widget-view+json": {
       "model_id": "81141ac582b2488fb03d44b79170107b",
       "version_major": 2,
       "version_minor": 0
      },
      "text/plain": [
       "Processing Channels (T=19):   0%|          | 0/3 [00:00<?, ?it/s]"
      ]
     },
     "metadata": {},
     "output_type": "display_data"
    },
    {
     "name": "stdout",
     "output_type": "stream",
     "text": [
      "Timepoint ID 19 saved out\n"
     ]
    },
    {
     "data": {
      "application/vnd.jupyter.widget-view+json": {
       "model_id": "e853045543f94a82a9314320c5e02519",
       "version_major": 2,
       "version_minor": 0
      },
      "text/plain": [
       "Processing Channels (T=20):   0%|          | 0/3 [00:00<?, ?it/s]"
      ]
     },
     "metadata": {},
     "output_type": "display_data"
    },
    {
     "name": "stdout",
     "output_type": "stream",
     "text": [
      "Timepoint ID 20 saved out\n"
     ]
    },
    {
     "data": {
      "application/vnd.jupyter.widget-view+json": {
       "model_id": "a9a6867fa01641f18ca8c8ce50365ab2",
       "version_major": 2,
       "version_minor": 0
      },
      "text/plain": [
       "Processing Channels (T=21):   0%|          | 0/3 [00:00<?, ?it/s]"
      ]
     },
     "metadata": {},
     "output_type": "display_data"
    },
    {
     "name": "stdout",
     "output_type": "stream",
     "text": [
      "Timepoint ID 21 saved out\n"
     ]
    },
    {
     "data": {
      "application/vnd.jupyter.widget-view+json": {
       "model_id": "e8d25929d00d4d5bbf79b177ef830898",
       "version_major": 2,
       "version_minor": 0
      },
      "text/plain": [
       "Processing Channels (T=22):   0%|          | 0/3 [00:00<?, ?it/s]"
      ]
     },
     "metadata": {},
     "output_type": "display_data"
    },
    {
     "name": "stdout",
     "output_type": "stream",
     "text": [
      "Timepoint ID 22 saved out\n"
     ]
    },
    {
     "data": {
      "application/vnd.jupyter.widget-view+json": {
       "model_id": "e666f9acaedd4705acf071fefa906039",
       "version_major": 2,
       "version_minor": 0
      },
      "text/plain": [
       "Processing Channels (T=23):   0%|          | 0/3 [00:00<?, ?it/s]"
      ]
     },
     "metadata": {},
     "output_type": "display_data"
    },
    {
     "name": "stdout",
     "output_type": "stream",
     "text": [
      "Timepoint ID 23 saved out\n"
     ]
    },
    {
     "data": {
      "application/vnd.jupyter.widget-view+json": {
       "model_id": "902f9c15c52845d7b60c21884d154de7",
       "version_major": 2,
       "version_minor": 0
      },
      "text/plain": [
       "Processing Channels (T=24):   0%|          | 0/3 [00:00<?, ?it/s]"
      ]
     },
     "metadata": {},
     "output_type": "display_data"
    },
    {
     "name": "stdout",
     "output_type": "stream",
     "text": [
      "Timepoint ID 24 saved out\n"
     ]
    },
    {
     "data": {
      "application/vnd.jupyter.widget-view+json": {
       "model_id": "34a1d5af7adf42ccbd13cb9366ae9e2e",
       "version_major": 2,
       "version_minor": 0
      },
      "text/plain": [
       "Processing Channels (T=25):   0%|          | 0/3 [00:00<?, ?it/s]"
      ]
     },
     "metadata": {},
     "output_type": "display_data"
    },
    {
     "name": "stdout",
     "output_type": "stream",
     "text": [
      "Timepoint ID 25 saved out\n"
     ]
    },
    {
     "data": {
      "application/vnd.jupyter.widget-view+json": {
       "model_id": "475a22d286334755b9ba142d6f6ea22e",
       "version_major": 2,
       "version_minor": 0
      },
      "text/plain": [
       "Processing Channels (T=26):   0%|          | 0/3 [00:00<?, ?it/s]"
      ]
     },
     "metadata": {},
     "output_type": "display_data"
    },
    {
     "name": "stdout",
     "output_type": "stream",
     "text": [
      "Timepoint ID 26 saved out\n"
     ]
    },
    {
     "data": {
      "application/vnd.jupyter.widget-view+json": {
       "model_id": "06fd7f4d367847a284288d5a1619f36f",
       "version_major": 2,
       "version_minor": 0
      },
      "text/plain": [
       "Processing Channels (T=27):   0%|          | 0/3 [00:00<?, ?it/s]"
      ]
     },
     "metadata": {},
     "output_type": "display_data"
    },
    {
     "name": "stdout",
     "output_type": "stream",
     "text": [
      "Timepoint ID 27 saved out\n"
     ]
    },
    {
     "data": {
      "application/vnd.jupyter.widget-view+json": {
       "model_id": "2ab75f9b26c3456c8dd4a1e18f370519",
       "version_major": 2,
       "version_minor": 0
      },
      "text/plain": [
       "Processing Channels (T=28):   0%|          | 0/3 [00:00<?, ?it/s]"
      ]
     },
     "metadata": {},
     "output_type": "display_data"
    },
    {
     "name": "stdout",
     "output_type": "stream",
     "text": [
      "Timepoint ID 28 saved out\n"
     ]
    },
    {
     "data": {
      "application/vnd.jupyter.widget-view+json": {
       "model_id": "871ac4c0d0714c439f3593290bae7713",
       "version_major": 2,
       "version_minor": 0
      },
      "text/plain": [
       "Processing Channels (T=29):   0%|          | 0/3 [00:00<?, ?it/s]"
      ]
     },
     "metadata": {},
     "output_type": "display_data"
    },
    {
     "name": "stdout",
     "output_type": "stream",
     "text": [
      "Timepoint ID 29 saved out\n"
     ]
    },
    {
     "data": {
      "application/vnd.jupyter.widget-view+json": {
       "model_id": "0a7e9d39c7d1442693abe81d848f0f78",
       "version_major": 2,
       "version_minor": 0
      },
      "text/plain": [
       "Processing Channels (T=30):   0%|          | 0/3 [00:00<?, ?it/s]"
      ]
     },
     "metadata": {},
     "output_type": "display_data"
    },
    {
     "name": "stdout",
     "output_type": "stream",
     "text": [
      "Timepoint ID 30 saved out\n"
     ]
    },
    {
     "data": {
      "application/vnd.jupyter.widget-view+json": {
       "model_id": "28371d2ddc54484aaf2cb792a4dd48a9",
       "version_major": 2,
       "version_minor": 0
      },
      "text/plain": [
       "Processing Channels (T=31):   0%|          | 0/3 [00:00<?, ?it/s]"
      ]
     },
     "metadata": {},
     "output_type": "display_data"
    },
    {
     "name": "stdout",
     "output_type": "stream",
     "text": [
      "Timepoint ID 31 saved out\n"
     ]
    },
    {
     "data": {
      "application/vnd.jupyter.widget-view+json": {
       "model_id": "93426da28ce945d6a4601abbb026c0a6",
       "version_major": 2,
       "version_minor": 0
      },
      "text/plain": [
       "Processing Channels (T=32):   0%|          | 0/3 [00:00<?, ?it/s]"
      ]
     },
     "metadata": {},
     "output_type": "display_data"
    },
    {
     "name": "stdout",
     "output_type": "stream",
     "text": [
      "Timepoint ID 32 saved out\n"
     ]
    },
    {
     "data": {
      "application/vnd.jupyter.widget-view+json": {
       "model_id": "642f0871b633449485c3f8df245ddb3f",
       "version_major": 2,
       "version_minor": 0
      },
      "text/plain": [
       "Processing Channels (T=33):   0%|          | 0/3 [00:00<?, ?it/s]"
      ]
     },
     "metadata": {},
     "output_type": "display_data"
    },
    {
     "name": "stdout",
     "output_type": "stream",
     "text": [
      "Timepoint ID 33 saved out\n"
     ]
    },
    {
     "data": {
      "application/vnd.jupyter.widget-view+json": {
       "model_id": "94c0aabc8afb4b35a1f1649ede658838",
       "version_major": 2,
       "version_minor": 0
      },
      "text/plain": [
       "Processing Channels (T=34):   0%|          | 0/3 [00:00<?, ?it/s]"
      ]
     },
     "metadata": {},
     "output_type": "display_data"
    },
    {
     "name": "stdout",
     "output_type": "stream",
     "text": [
      "Timepoint ID 34 saved out\n"
     ]
    },
    {
     "data": {
      "application/vnd.jupyter.widget-view+json": {
       "model_id": "b7cc6b34a5604267a9f3229c0a1814d5",
       "version_major": 2,
       "version_minor": 0
      },
      "text/plain": [
       "Processing Channels (T=35):   0%|          | 0/3 [00:00<?, ?it/s]"
      ]
     },
     "metadata": {},
     "output_type": "display_data"
    },
    {
     "name": "stdout",
     "output_type": "stream",
     "text": [
      "Timepoint ID 35 saved out\n"
     ]
    },
    {
     "data": {
      "application/vnd.jupyter.widget-view+json": {
       "model_id": "bd5b82ed2d364c7cbd3878145c9b1ec8",
       "version_major": 2,
       "version_minor": 0
      },
      "text/plain": [
       "Processing Channels (T=36):   0%|          | 0/3 [00:00<?, ?it/s]"
      ]
     },
     "metadata": {},
     "output_type": "display_data"
    },
    {
     "name": "stdout",
     "output_type": "stream",
     "text": [
      "Timepoint ID 36 saved out\n"
     ]
    },
    {
     "data": {
      "application/vnd.jupyter.widget-view+json": {
       "model_id": "97778cfa05ae4c0486c5062f0ae1efba",
       "version_major": 2,
       "version_minor": 0
      },
      "text/plain": [
       "Processing Channels (T=37):   0%|          | 0/3 [00:00<?, ?it/s]"
      ]
     },
     "metadata": {},
     "output_type": "display_data"
    },
    {
     "name": "stdout",
     "output_type": "stream",
     "text": [
      "Timepoint ID 37 saved out\n"
     ]
    },
    {
     "data": {
      "application/vnd.jupyter.widget-view+json": {
       "model_id": "7f77212a121c46e5b14e119e40cb80bc",
       "version_major": 2,
       "version_minor": 0
      },
      "text/plain": [
       "Processing Channels (T=38):   0%|          | 0/3 [00:00<?, ?it/s]"
      ]
     },
     "metadata": {},
     "output_type": "display_data"
    },
    {
     "name": "stdout",
     "output_type": "stream",
     "text": [
      "Timepoint ID 38 saved out\n"
     ]
    },
    {
     "data": {
      "application/vnd.jupyter.widget-view+json": {
       "model_id": "c48bc494ca8b4dd4a42d4eae3009fb63",
       "version_major": 2,
       "version_minor": 0
      },
      "text/plain": [
       "Processing Channels (T=39):   0%|          | 0/3 [00:00<?, ?it/s]"
      ]
     },
     "metadata": {},
     "output_type": "display_data"
    },
    {
     "name": "stdout",
     "output_type": "stream",
     "text": [
      "Timepoint ID 39 saved out\n"
     ]
    },
    {
     "data": {
      "application/vnd.jupyter.widget-view+json": {
       "model_id": "6c05352dbffb441e858e3005097c137e",
       "version_major": 2,
       "version_minor": 0
      },
      "text/plain": [
       "Processing Channels (T=40):   0%|          | 0/3 [00:00<?, ?it/s]"
      ]
     },
     "metadata": {},
     "output_type": "display_data"
    },
    {
     "name": "stdout",
     "output_type": "stream",
     "text": [
      "Timepoint ID 40 saved out\n"
     ]
    },
    {
     "data": {
      "application/vnd.jupyter.widget-view+json": {
       "model_id": "351077d457cd41f085766d0291297e18",
       "version_major": 2,
       "version_minor": 0
      },
      "text/plain": [
       "Processing Channels (T=41):   0%|          | 0/3 [00:00<?, ?it/s]"
      ]
     },
     "metadata": {},
     "output_type": "display_data"
    },
    {
     "name": "stdout",
     "output_type": "stream",
     "text": [
      "Timepoint ID 41 saved out\n"
     ]
    },
    {
     "data": {
      "application/vnd.jupyter.widget-view+json": {
       "model_id": "a4c038d834d74ec2bb1a527ffa791704",
       "version_major": 2,
       "version_minor": 0
      },
      "text/plain": [
       "Processing Channels (T=42):   0%|          | 0/3 [00:00<?, ?it/s]"
      ]
     },
     "metadata": {},
     "output_type": "display_data"
    },
    {
     "name": "stdout",
     "output_type": "stream",
     "text": [
      "Timepoint ID 42 saved out\n"
     ]
    },
    {
     "data": {
      "application/vnd.jupyter.widget-view+json": {
       "model_id": "63bed236d2414f1b86d4e8c5b00dddc5",
       "version_major": 2,
       "version_minor": 0
      },
      "text/plain": [
       "Processing Channels (T=43):   0%|          | 0/3 [00:00<?, ?it/s]"
      ]
     },
     "metadata": {},
     "output_type": "display_data"
    },
    {
     "name": "stdout",
     "output_type": "stream",
     "text": [
      "Timepoint ID 43 saved out\n"
     ]
    },
    {
     "data": {
      "application/vnd.jupyter.widget-view+json": {
       "model_id": "2ce39c159cb341a8bda7702a45c82a1e",
       "version_major": 2,
       "version_minor": 0
      },
      "text/plain": [
       "Processing Channels (T=44):   0%|          | 0/3 [00:00<?, ?it/s]"
      ]
     },
     "metadata": {},
     "output_type": "display_data"
    },
    {
     "name": "stdout",
     "output_type": "stream",
     "text": [
      "Timepoint ID 44 saved out\n"
     ]
    },
    {
     "data": {
      "application/vnd.jupyter.widget-view+json": {
       "model_id": "154f90b64e82431db0da95d015ca3299",
       "version_major": 2,
       "version_minor": 0
      },
      "text/plain": [
       "Processing Channels (T=45):   0%|          | 0/3 [00:00<?, ?it/s]"
      ]
     },
     "metadata": {},
     "output_type": "display_data"
    },
    {
     "name": "stdout",
     "output_type": "stream",
     "text": [
      "Timepoint ID 45 saved out\n"
     ]
    },
    {
     "data": {
      "application/vnd.jupyter.widget-view+json": {
       "model_id": "3175c48e65d24e40a936828a03329347",
       "version_major": 2,
       "version_minor": 0
      },
      "text/plain": [
       "Processing Channels (T=46):   0%|          | 0/3 [00:00<?, ?it/s]"
      ]
     },
     "metadata": {},
     "output_type": "display_data"
    },
    {
     "name": "stdout",
     "output_type": "stream",
     "text": [
      "Timepoint ID 46 saved out\n"
     ]
    },
    {
     "data": {
      "application/vnd.jupyter.widget-view+json": {
       "model_id": "081d6764248e4c92a7bc31b7bd3cc174",
       "version_major": 2,
       "version_minor": 0
      },
      "text/plain": [
       "Processing Channels (T=47):   0%|          | 0/3 [00:00<?, ?it/s]"
      ]
     },
     "metadata": {},
     "output_type": "display_data"
    },
    {
     "name": "stdout",
     "output_type": "stream",
     "text": [
      "Timepoint ID 47 saved out\n"
     ]
    },
    {
     "data": {
      "application/vnd.jupyter.widget-view+json": {
       "model_id": "1462e79279d444578616bf7190537471",
       "version_major": 2,
       "version_minor": 0
      },
      "text/plain": [
       "Processing Channels (T=48):   0%|          | 0/3 [00:00<?, ?it/s]"
      ]
     },
     "metadata": {},
     "output_type": "display_data"
    },
    {
     "name": "stdout",
     "output_type": "stream",
     "text": [
      "Timepoint ID 48 saved out\n"
     ]
    },
    {
     "data": {
      "application/vnd.jupyter.widget-view+json": {
       "model_id": "794ab2529e554f74b26a45f7f00688de",
       "version_major": 2,
       "version_minor": 0
      },
      "text/plain": [
       "Processing Channels (T=49):   0%|          | 0/3 [00:00<?, ?it/s]"
      ]
     },
     "metadata": {},
     "output_type": "display_data"
    },
    {
     "name": "stdout",
     "output_type": "stream",
     "text": [
      "Timepoint ID 49 saved out\n"
     ]
    },
    {
     "data": {
      "application/vnd.jupyter.widget-view+json": {
       "model_id": "c16ddb9c2f784657a5630031472f18bd",
       "version_major": 2,
       "version_minor": 0
      },
      "text/plain": [
       "Processing Channels (T=50):   0%|          | 0/3 [00:00<?, ?it/s]"
      ]
     },
     "metadata": {},
     "output_type": "display_data"
    },
    {
     "name": "stdout",
     "output_type": "stream",
     "text": [
      "Timepoint ID 50 saved out\n"
     ]
    },
    {
     "data": {
      "application/vnd.jupyter.widget-view+json": {
       "model_id": "bce1fb1735b54a5db9fb7885671fa09c",
       "version_major": 2,
       "version_minor": 0
      },
      "text/plain": [
       "Processing Channels (T=51):   0%|          | 0/3 [00:00<?, ?it/s]"
      ]
     },
     "metadata": {},
     "output_type": "display_data"
    },
    {
     "name": "stdout",
     "output_type": "stream",
     "text": [
      "Timepoint ID 51 saved out\n"
     ]
    },
    {
     "data": {
      "application/vnd.jupyter.widget-view+json": {
       "model_id": "14e2e11c0f1147ca9e723ef8f168e9fb",
       "version_major": 2,
       "version_minor": 0
      },
      "text/plain": [
       "Processing Channels (T=52):   0%|          | 0/3 [00:00<?, ?it/s]"
      ]
     },
     "metadata": {},
     "output_type": "display_data"
    },
    {
     "name": "stdout",
     "output_type": "stream",
     "text": [
      "Timepoint ID 52 saved out\n"
     ]
    },
    {
     "data": {
      "application/vnd.jupyter.widget-view+json": {
       "model_id": "5ad6ca9592da4f8b95d26ae852915777",
       "version_major": 2,
       "version_minor": 0
      },
      "text/plain": [
       "Processing Channels (T=53):   0%|          | 0/3 [00:00<?, ?it/s]"
      ]
     },
     "metadata": {},
     "output_type": "display_data"
    },
    {
     "name": "stdout",
     "output_type": "stream",
     "text": [
      "Timepoint ID 53 saved out\n"
     ]
    },
    {
     "data": {
      "application/vnd.jupyter.widget-view+json": {
       "model_id": "fd103cfc5d154d32adbe7092af10ecc0",
       "version_major": 2,
       "version_minor": 0
      },
      "text/plain": [
       "Processing Channels (T=54):   0%|          | 0/3 [00:00<?, ?it/s]"
      ]
     },
     "metadata": {},
     "output_type": "display_data"
    },
    {
     "name": "stdout",
     "output_type": "stream",
     "text": [
      "Timepoint ID 54 saved out\n"
     ]
    },
    {
     "data": {
      "application/vnd.jupyter.widget-view+json": {
       "model_id": "2b4179832e6e453e85c8b86046f64399",
       "version_major": 2,
       "version_minor": 0
      },
      "text/plain": [
       "Processing Channels (T=55):   0%|          | 0/3 [00:00<?, ?it/s]"
      ]
     },
     "metadata": {},
     "output_type": "display_data"
    },
    {
     "name": "stdout",
     "output_type": "stream",
     "text": [
      "Timepoint ID 55 saved out\n"
     ]
    },
    {
     "data": {
      "application/vnd.jupyter.widget-view+json": {
       "model_id": "81a2d48577c24b0888475f113f743f25",
       "version_major": 2,
       "version_minor": 0
      },
      "text/plain": [
       "Processing Channels (T=56):   0%|          | 0/3 [00:00<?, ?it/s]"
      ]
     },
     "metadata": {},
     "output_type": "display_data"
    },
    {
     "name": "stdout",
     "output_type": "stream",
     "text": [
      "Timepoint ID 56 saved out\n"
     ]
    },
    {
     "data": {
      "application/vnd.jupyter.widget-view+json": {
       "model_id": "350a57ad66244396aff71868567c1838",
       "version_major": 2,
       "version_minor": 0
      },
      "text/plain": [
       "Processing Channels (T=57):   0%|          | 0/3 [00:00<?, ?it/s]"
      ]
     },
     "metadata": {},
     "output_type": "display_data"
    },
    {
     "name": "stdout",
     "output_type": "stream",
     "text": [
      "Timepoint ID 57 saved out\n"
     ]
    },
    {
     "data": {
      "application/vnd.jupyter.widget-view+json": {
       "model_id": "6ba9e45007be4d16b2ddc6955adcaa0d",
       "version_major": 2,
       "version_minor": 0
      },
      "text/plain": [
       "Processing Channels (T=58):   0%|          | 0/3 [00:00<?, ?it/s]"
      ]
     },
     "metadata": {},
     "output_type": "display_data"
    },
    {
     "name": "stdout",
     "output_type": "stream",
     "text": [
      "Timepoint ID 58 saved out\n"
     ]
    },
    {
     "data": {
      "application/vnd.jupyter.widget-view+json": {
       "model_id": "b57b80cbe6774c0389009d33731f1e12",
       "version_major": 2,
       "version_minor": 0
      },
      "text/plain": [
       "Processing Channels (T=59):   0%|          | 0/3 [00:00<?, ?it/s]"
      ]
     },
     "metadata": {},
     "output_type": "display_data"
    },
    {
     "name": "stdout",
     "output_type": "stream",
     "text": [
      "Timepoint ID 59 saved out\n"
     ]
    },
    {
     "data": {
      "application/vnd.jupyter.widget-view+json": {
       "model_id": "1a12b2db329a4e4584aca7ea37e1c885",
       "version_major": 2,
       "version_minor": 0
      },
      "text/plain": [
       "Processing Channels (T=60):   0%|          | 0/3 [00:00<?, ?it/s]"
      ]
     },
     "metadata": {},
     "output_type": "display_data"
    },
    {
     "name": "stdout",
     "output_type": "stream",
     "text": [
      "Timepoint ID 60 saved out\n"
     ]
    },
    {
     "data": {
      "application/vnd.jupyter.widget-view+json": {
       "model_id": "61eb612986dc4d1198d2ec762f7a6727",
       "version_major": 2,
       "version_minor": 0
      },
      "text/plain": [
       "Processing Channels (T=61):   0%|          | 0/3 [00:00<?, ?it/s]"
      ]
     },
     "metadata": {},
     "output_type": "display_data"
    },
    {
     "name": "stdout",
     "output_type": "stream",
     "text": [
      "Timepoint ID 61 saved out\n"
     ]
    },
    {
     "data": {
      "application/vnd.jupyter.widget-view+json": {
       "model_id": "12642942a765465ba36e02d1c09ac05c",
       "version_major": 2,
       "version_minor": 0
      },
      "text/plain": [
       "Processing Channels (T=62):   0%|          | 0/3 [00:00<?, ?it/s]"
      ]
     },
     "metadata": {},
     "output_type": "display_data"
    },
    {
     "name": "stdout",
     "output_type": "stream",
     "text": [
      "Timepoint ID 62 saved out\n"
     ]
    },
    {
     "data": {
      "application/vnd.jupyter.widget-view+json": {
       "model_id": "202ab2d6cb0049fdafaaa3b4fd2fbb5f",
       "version_major": 2,
       "version_minor": 0
      },
      "text/plain": [
       "Processing Channels (T=63):   0%|          | 0/3 [00:00<?, ?it/s]"
      ]
     },
     "metadata": {},
     "output_type": "display_data"
    },
    {
     "name": "stdout",
     "output_type": "stream",
     "text": [
      "Timepoint ID 63 saved out\n"
     ]
    },
    {
     "data": {
      "application/vnd.jupyter.widget-view+json": {
       "model_id": "6c0571ed9608472bae3cc864ccb663e7",
       "version_major": 2,
       "version_minor": 0
      },
      "text/plain": [
       "Processing Channels (T=64):   0%|          | 0/3 [00:00<?, ?it/s]"
      ]
     },
     "metadata": {},
     "output_type": "display_data"
    },
    {
     "name": "stdout",
     "output_type": "stream",
     "text": [
      "Timepoint ID 64 saved out\n"
     ]
    },
    {
     "data": {
      "application/vnd.jupyter.widget-view+json": {
       "model_id": "7c3819509157408a967eacefd55f5afd",
       "version_major": 2,
       "version_minor": 0
      },
      "text/plain": [
       "Processing Channels (T=65):   0%|          | 0/3 [00:00<?, ?it/s]"
      ]
     },
     "metadata": {},
     "output_type": "display_data"
    },
    {
     "name": "stdout",
     "output_type": "stream",
     "text": [
      "Timepoint ID 65 saved out\n"
     ]
    },
    {
     "data": {
      "application/vnd.jupyter.widget-view+json": {
       "model_id": "5e287812f74f4ee9a87a1a0ea31a5247",
       "version_major": 2,
       "version_minor": 0
      },
      "text/plain": [
       "Processing Channels (T=66):   0%|          | 0/3 [00:00<?, ?it/s]"
      ]
     },
     "metadata": {},
     "output_type": "display_data"
    },
    {
     "name": "stdout",
     "output_type": "stream",
     "text": [
      "Timepoint ID 66 saved out\n"
     ]
    },
    {
     "data": {
      "application/vnd.jupyter.widget-view+json": {
       "model_id": "15624840a3ec4a6d801a2029ea3253c2",
       "version_major": 2,
       "version_minor": 0
      },
      "text/plain": [
       "Processing Channels (T=67):   0%|          | 0/3 [00:00<?, ?it/s]"
      ]
     },
     "metadata": {},
     "output_type": "display_data"
    },
    {
     "name": "stdout",
     "output_type": "stream",
     "text": [
      "Timepoint ID 67 saved out\n"
     ]
    },
    {
     "data": {
      "application/vnd.jupyter.widget-view+json": {
       "model_id": "03734f3d0bd24c9f941c7a20cb165d33",
       "version_major": 2,
       "version_minor": 0
      },
      "text/plain": [
       "Processing Channels (T=68):   0%|          | 0/3 [00:00<?, ?it/s]"
      ]
     },
     "metadata": {},
     "output_type": "display_data"
    },
    {
     "name": "stdout",
     "output_type": "stream",
     "text": [
      "Timepoint ID 68 saved out\n"
     ]
    },
    {
     "data": {
      "application/vnd.jupyter.widget-view+json": {
       "model_id": "d956335044a14f45a5255f79855ea27c",
       "version_major": 2,
       "version_minor": 0
      },
      "text/plain": [
       "Processing Channels (T=69):   0%|          | 0/3 [00:00<?, ?it/s]"
      ]
     },
     "metadata": {},
     "output_type": "display_data"
    },
    {
     "name": "stdout",
     "output_type": "stream",
     "text": [
      "Timepoint ID 69 saved out\n"
     ]
    },
    {
     "data": {
      "application/vnd.jupyter.widget-view+json": {
       "model_id": "a1a2728f9c4d4a3c9fa6d773ccfbd25b",
       "version_major": 2,
       "version_minor": 0
      },
      "text/plain": [
       "Processing Channels (T=70):   0%|          | 0/3 [00:00<?, ?it/s]"
      ]
     },
     "metadata": {},
     "output_type": "display_data"
    },
    {
     "name": "stdout",
     "output_type": "stream",
     "text": [
      "Timepoint ID 70 saved out\n"
     ]
    },
    {
     "data": {
      "application/vnd.jupyter.widget-view+json": {
       "model_id": "5fc4bd4be3e04c10a289dd7244df87ab",
       "version_major": 2,
       "version_minor": 0
      },
      "text/plain": [
       "Processing Channels (T=71):   0%|          | 0/3 [00:00<?, ?it/s]"
      ]
     },
     "metadata": {},
     "output_type": "display_data"
    },
    {
     "name": "stdout",
     "output_type": "stream",
     "text": [
      "Timepoint ID 71 saved out\n"
     ]
    },
    {
     "data": {
      "application/vnd.jupyter.widget-view+json": {
       "model_id": "bcb481cb77cb483d9f28d39c33c0037e",
       "version_major": 2,
       "version_minor": 0
      },
      "text/plain": [
       "Processing Channels (T=72):   0%|          | 0/3 [00:00<?, ?it/s]"
      ]
     },
     "metadata": {},
     "output_type": "display_data"
    },
    {
     "name": "stdout",
     "output_type": "stream",
     "text": [
      "Timepoint ID 72 saved out\n"
     ]
    },
    {
     "data": {
      "application/vnd.jupyter.widget-view+json": {
       "model_id": "cee3252fff7a426db9a77dec88beb59d",
       "version_major": 2,
       "version_minor": 0
      },
      "text/plain": [
       "Processing Channels (T=73):   0%|          | 0/3 [00:00<?, ?it/s]"
      ]
     },
     "metadata": {},
     "output_type": "display_data"
    },
    {
     "name": "stdout",
     "output_type": "stream",
     "text": [
      "Timepoint ID 73 saved out\n"
     ]
    },
    {
     "data": {
      "application/vnd.jupyter.widget-view+json": {
       "model_id": "6c7a986b80ed4c5db97635ca31beced2",
       "version_major": 2,
       "version_minor": 0
      },
      "text/plain": [
       "Processing Channels (T=74):   0%|          | 0/3 [00:00<?, ?it/s]"
      ]
     },
     "metadata": {},
     "output_type": "display_data"
    },
    {
     "name": "stdout",
     "output_type": "stream",
     "text": [
      "Timepoint ID 74 saved out\n"
     ]
    },
    {
     "data": {
      "application/vnd.jupyter.widget-view+json": {
       "model_id": "751a9204d830435084cf4b0f46bb9b21",
       "version_major": 2,
       "version_minor": 0
      },
      "text/plain": [
       "Processing Channels (T=75):   0%|          | 0/3 [00:00<?, ?it/s]"
      ]
     },
     "metadata": {},
     "output_type": "display_data"
    },
    {
     "name": "stdout",
     "output_type": "stream",
     "text": [
      "Timepoint ID 75 saved out\n"
     ]
    },
    {
     "data": {
      "application/vnd.jupyter.widget-view+json": {
       "model_id": "ff866831f3974319a82eca394c035a5d",
       "version_major": 2,
       "version_minor": 0
      },
      "text/plain": [
       "Processing Channels (T=76):   0%|          | 0/3 [00:00<?, ?it/s]"
      ]
     },
     "metadata": {},
     "output_type": "display_data"
    },
    {
     "name": "stdout",
     "output_type": "stream",
     "text": [
      "Timepoint ID 76 saved out\n"
     ]
    },
    {
     "data": {
      "application/vnd.jupyter.widget-view+json": {
       "model_id": "96a9de4a1f984d299c57e564b1fa7333",
       "version_major": 2,
       "version_minor": 0
      },
      "text/plain": [
       "Processing Channels (T=77):   0%|          | 0/3 [00:00<?, ?it/s]"
      ]
     },
     "metadata": {},
     "output_type": "display_data"
    },
    {
     "name": "stdout",
     "output_type": "stream",
     "text": [
      "Timepoint ID 77 saved out\n"
     ]
    },
    {
     "data": {
      "application/vnd.jupyter.widget-view+json": {
       "model_id": "83e90376258b4144b8db12c503409176",
       "version_major": 2,
       "version_minor": 0
      },
      "text/plain": [
       "Processing Channels (T=78):   0%|          | 0/3 [00:00<?, ?it/s]"
      ]
     },
     "metadata": {},
     "output_type": "display_data"
    },
    {
     "name": "stdout",
     "output_type": "stream",
     "text": [
      "Timepoint ID 78 saved out\n"
     ]
    },
    {
     "data": {
      "application/vnd.jupyter.widget-view+json": {
       "model_id": "8aa88581cebf4a85a8684e3e1fe7f578",
       "version_major": 2,
       "version_minor": 0
      },
      "text/plain": [
       "Processing Channels (T=79):   0%|          | 0/3 [00:00<?, ?it/s]"
      ]
     },
     "metadata": {},
     "output_type": "display_data"
    },
    {
     "name": "stdout",
     "output_type": "stream",
     "text": [
      "Timepoint ID 79 saved out\n"
     ]
    },
    {
     "data": {
      "application/vnd.jupyter.widget-view+json": {
       "model_id": "24175281f2a04226a9a0d5915702c025",
       "version_major": 2,
       "version_minor": 0
      },
      "text/plain": [
       "Processing Channels (T=80):   0%|          | 0/3 [00:00<?, ?it/s]"
      ]
     },
     "metadata": {},
     "output_type": "display_data"
    },
    {
     "name": "stdout",
     "output_type": "stream",
     "text": [
      "Timepoint ID 80 saved out\n"
     ]
    },
    {
     "data": {
      "application/vnd.jupyter.widget-view+json": {
       "model_id": "ced1e9235f454e73add4b6b12e401286",
       "version_major": 2,
       "version_minor": 0
      },
      "text/plain": [
       "Processing Channels (T=81):   0%|          | 0/3 [00:00<?, ?it/s]"
      ]
     },
     "metadata": {},
     "output_type": "display_data"
    },
    {
     "name": "stdout",
     "output_type": "stream",
     "text": [
      "Timepoint ID 81 saved out\n"
     ]
    },
    {
     "data": {
      "application/vnd.jupyter.widget-view+json": {
       "model_id": "30fad55dd9084f3086038ee140dc0751",
       "version_major": 2,
       "version_minor": 0
      },
      "text/plain": [
       "Processing Channels (T=82):   0%|          | 0/3 [00:00<?, ?it/s]"
      ]
     },
     "metadata": {},
     "output_type": "display_data"
    },
    {
     "name": "stdout",
     "output_type": "stream",
     "text": [
      "Timepoint ID 82 saved out\n"
     ]
    },
    {
     "data": {
      "application/vnd.jupyter.widget-view+json": {
       "model_id": "2ed2ff4cc654498bb6a43b836ea08729",
       "version_major": 2,
       "version_minor": 0
      },
      "text/plain": [
       "Processing Channels (T=83):   0%|          | 0/3 [00:00<?, ?it/s]"
      ]
     },
     "metadata": {},
     "output_type": "display_data"
    },
    {
     "name": "stdout",
     "output_type": "stream",
     "text": [
      "Timepoint ID 83 saved out\n"
     ]
    },
    {
     "data": {
      "application/vnd.jupyter.widget-view+json": {
       "model_id": "7c0bd15923f54479858a377b10221e57",
       "version_major": 2,
       "version_minor": 0
      },
      "text/plain": [
       "Processing Channels (T=84):   0%|          | 0/3 [00:00<?, ?it/s]"
      ]
     },
     "metadata": {},
     "output_type": "display_data"
    },
    {
     "name": "stdout",
     "output_type": "stream",
     "text": [
      "Timepoint ID 84 saved out\n"
     ]
    },
    {
     "data": {
      "application/vnd.jupyter.widget-view+json": {
       "model_id": "776d0eb24023451790cc936823541f1c",
       "version_major": 2,
       "version_minor": 0
      },
      "text/plain": [
       "Processing Channels (T=85):   0%|          | 0/3 [00:00<?, ?it/s]"
      ]
     },
     "metadata": {},
     "output_type": "display_data"
    },
    {
     "name": "stdout",
     "output_type": "stream",
     "text": [
      "Timepoint ID 85 saved out\n"
     ]
    },
    {
     "data": {
      "application/vnd.jupyter.widget-view+json": {
       "model_id": "2e4e71c6ebba44afa80d15d5165c9877",
       "version_major": 2,
       "version_minor": 0
      },
      "text/plain": [
       "Processing Channels (T=86):   0%|          | 0/3 [00:00<?, ?it/s]"
      ]
     },
     "metadata": {},
     "output_type": "display_data"
    },
    {
     "name": "stdout",
     "output_type": "stream",
     "text": [
      "Timepoint ID 86 saved out\n"
     ]
    },
    {
     "data": {
      "application/vnd.jupyter.widget-view+json": {
       "model_id": "1a72812e36b54c74a3657c30fd1d08d1",
       "version_major": 2,
       "version_minor": 0
      },
      "text/plain": [
       "Processing Channels (T=87):   0%|          | 0/3 [00:00<?, ?it/s]"
      ]
     },
     "metadata": {},
     "output_type": "display_data"
    },
    {
     "name": "stdout",
     "output_type": "stream",
     "text": [
      "Timepoint ID 87 saved out\n"
     ]
    },
    {
     "data": {
      "application/vnd.jupyter.widget-view+json": {
       "model_id": "3e854798ff43488da22f35a7b7435dad",
       "version_major": 2,
       "version_minor": 0
      },
      "text/plain": [
       "Processing Channels (T=88):   0%|          | 0/3 [00:00<?, ?it/s]"
      ]
     },
     "metadata": {},
     "output_type": "display_data"
    },
    {
     "name": "stdout",
     "output_type": "stream",
     "text": [
      "Timepoint ID 88 saved out\n"
     ]
    },
    {
     "data": {
      "application/vnd.jupyter.widget-view+json": {
       "model_id": "b205b5d4a9fd448aa72ce04bf8353477",
       "version_major": 2,
       "version_minor": 0
      },
      "text/plain": [
       "Processing Channels (T=89):   0%|          | 0/3 [00:00<?, ?it/s]"
      ]
     },
     "metadata": {},
     "output_type": "display_data"
    },
    {
     "name": "stdout",
     "output_type": "stream",
     "text": [
      "Timepoint ID 89 saved out\n"
     ]
    },
    {
     "data": {
      "application/vnd.jupyter.widget-view+json": {
       "model_id": "f108bd7bbcf14b08bc0420b429b2aff4",
       "version_major": 2,
       "version_minor": 0
      },
      "text/plain": [
       "Processing Channels (T=90):   0%|          | 0/3 [00:00<?, ?it/s]"
      ]
     },
     "metadata": {},
     "output_type": "display_data"
    },
    {
     "name": "stdout",
     "output_type": "stream",
     "text": [
      "Timepoint ID 90 saved out\n"
     ]
    },
    {
     "data": {
      "application/vnd.jupyter.widget-view+json": {
       "model_id": "0c020e31a6084a218ad54f6762652fb9",
       "version_major": 2,
       "version_minor": 0
      },
      "text/plain": [
       "Processing Channels (T=91):   0%|          | 0/3 [00:00<?, ?it/s]"
      ]
     },
     "metadata": {},
     "output_type": "display_data"
    },
    {
     "name": "stdout",
     "output_type": "stream",
     "text": [
      "Timepoint ID 91 saved out\n"
     ]
    },
    {
     "data": {
      "application/vnd.jupyter.widget-view+json": {
       "model_id": "32cca20c325e4865bf8994c85744aca0",
       "version_major": 2,
       "version_minor": 0
      },
      "text/plain": [
       "Processing Channels (T=92):   0%|          | 0/3 [00:00<?, ?it/s]"
      ]
     },
     "metadata": {},
     "output_type": "display_data"
    },
    {
     "name": "stdout",
     "output_type": "stream",
     "text": [
      "Timepoint ID 92 saved out\n"
     ]
    },
    {
     "data": {
      "application/vnd.jupyter.widget-view+json": {
       "model_id": "28882bd6d13b476f8edd8c6ad3063283",
       "version_major": 2,
       "version_minor": 0
      },
      "text/plain": [
       "Processing Channels (T=93):   0%|          | 0/3 [00:00<?, ?it/s]"
      ]
     },
     "metadata": {},
     "output_type": "display_data"
    },
    {
     "name": "stdout",
     "output_type": "stream",
     "text": [
      "Timepoint ID 93 saved out\n"
     ]
    },
    {
     "data": {
      "application/vnd.jupyter.widget-view+json": {
       "model_id": "e85d8214449840cabb65a6d74e142a0f",
       "version_major": 2,
       "version_minor": 0
      },
      "text/plain": [
       "Processing Channels (T=94):   0%|          | 0/3 [00:00<?, ?it/s]"
      ]
     },
     "metadata": {},
     "output_type": "display_data"
    },
    {
     "name": "stdout",
     "output_type": "stream",
     "text": [
      "Timepoint ID 94 saved out\n"
     ]
    },
    {
     "data": {
      "application/vnd.jupyter.widget-view+json": {
       "model_id": "04fecc6937af40e08f3520ccbc3ca524",
       "version_major": 2,
       "version_minor": 0
      },
      "text/plain": [
       "Processing Channels (T=95):   0%|          | 0/3 [00:00<?, ?it/s]"
      ]
     },
     "metadata": {},
     "output_type": "display_data"
    },
    {
     "name": "stdout",
     "output_type": "stream",
     "text": [
      "Timepoint ID 95 saved out\n"
     ]
    },
    {
     "data": {
      "application/vnd.jupyter.widget-view+json": {
       "model_id": "f42bf71011a149bf8dce74ffd5f60440",
       "version_major": 2,
       "version_minor": 0
      },
      "text/plain": [
       "Processing Channels (T=96):   0%|          | 0/3 [00:00<?, ?it/s]"
      ]
     },
     "metadata": {},
     "output_type": "display_data"
    },
    {
     "name": "stdout",
     "output_type": "stream",
     "text": [
      "Timepoint ID 96 saved out\n"
     ]
    },
    {
     "data": {
      "application/vnd.jupyter.widget-view+json": {
       "model_id": "d415597d3fab49d5ab9f160b96f3c85d",
       "version_major": 2,
       "version_minor": 0
      },
      "text/plain": [
       "Processing Channels (T=97):   0%|          | 0/3 [00:00<?, ?it/s]"
      ]
     },
     "metadata": {},
     "output_type": "display_data"
    },
    {
     "name": "stdout",
     "output_type": "stream",
     "text": [
      "Timepoint ID 97 saved out\n"
     ]
    },
    {
     "data": {
      "application/vnd.jupyter.widget-view+json": {
       "model_id": "8e7ffde6ae4c4ed1a428c35ef99de00e",
       "version_major": 2,
       "version_minor": 0
      },
      "text/plain": [
       "Processing Channels (T=98):   0%|          | 0/3 [00:00<?, ?it/s]"
      ]
     },
     "metadata": {},
     "output_type": "display_data"
    },
    {
     "name": "stdout",
     "output_type": "stream",
     "text": [
      "Timepoint ID 98 saved out\n"
     ]
    },
    {
     "data": {
      "application/vnd.jupyter.widget-view+json": {
       "model_id": "a3662ca22d60497098bd663f51bda2f8",
       "version_major": 2,
       "version_minor": 0
      },
      "text/plain": [
       "Processing Channels (T=99):   0%|          | 0/3 [00:00<?, ?it/s]"
      ]
     },
     "metadata": {},
     "output_type": "display_data"
    },
    {
     "name": "stdout",
     "output_type": "stream",
     "text": [
      "Timepoint ID 99 saved out\n"
     ]
    },
    {
     "data": {
      "application/vnd.jupyter.widget-view+json": {
       "model_id": "891857bbe43b4587aa7df7ad35de1c46",
       "version_major": 2,
       "version_minor": 0
      },
      "text/plain": [
       "Processing Channels (T=100):   0%|          | 0/3 [00:00<?, ?it/s]"
      ]
     },
     "metadata": {},
     "output_type": "display_data"
    },
    {
     "name": "stdout",
     "output_type": "stream",
     "text": [
      "Timepoint ID 100 saved out\n"
     ]
    },
    {
     "data": {
      "application/vnd.jupyter.widget-view+json": {
       "model_id": "e069fbef37a147b0aa6bf4da88ccc5e9",
       "version_major": 2,
       "version_minor": 0
      },
      "text/plain": [
       "Processing Channels (T=101):   0%|          | 0/3 [00:00<?, ?it/s]"
      ]
     },
     "metadata": {},
     "output_type": "display_data"
    },
    {
     "name": "stdout",
     "output_type": "stream",
     "text": [
      "Timepoint ID 101 saved out\n"
     ]
    },
    {
     "data": {
      "application/vnd.jupyter.widget-view+json": {
       "model_id": "e671a6cdc13846c2bbe192845b248d04",
       "version_major": 2,
       "version_minor": 0
      },
      "text/plain": [
       "Processing Channels (T=102):   0%|          | 0/3 [00:00<?, ?it/s]"
      ]
     },
     "metadata": {},
     "output_type": "display_data"
    },
    {
     "name": "stdout",
     "output_type": "stream",
     "text": [
      "Timepoint ID 102 saved out\n"
     ]
    },
    {
     "data": {
      "application/vnd.jupyter.widget-view+json": {
       "model_id": "837bbb3f2afa46df990bed776c47e8c2",
       "version_major": 2,
       "version_minor": 0
      },
      "text/plain": [
       "Processing Channels (T=103):   0%|          | 0/3 [00:00<?, ?it/s]"
      ]
     },
     "metadata": {},
     "output_type": "display_data"
    },
    {
     "name": "stdout",
     "output_type": "stream",
     "text": [
      "Timepoint ID 103 saved out\n"
     ]
    },
    {
     "data": {
      "application/vnd.jupyter.widget-view+json": {
       "model_id": "fe740477c68e4d5f9543bd3ad02ba17b",
       "version_major": 2,
       "version_minor": 0
      },
      "text/plain": [
       "Processing Channels (T=104):   0%|          | 0/3 [00:00<?, ?it/s]"
      ]
     },
     "metadata": {},
     "output_type": "display_data"
    },
    {
     "name": "stdout",
     "output_type": "stream",
     "text": [
      "Timepoint ID 104 saved out\n"
     ]
    },
    {
     "data": {
      "application/vnd.jupyter.widget-view+json": {
       "model_id": "4cde012bfe1c4165b6e6e5cc14f9e2dd",
       "version_major": 2,
       "version_minor": 0
      },
      "text/plain": [
       "Processing Channels (T=105):   0%|          | 0/3 [00:00<?, ?it/s]"
      ]
     },
     "metadata": {},
     "output_type": "display_data"
    },
    {
     "name": "stdout",
     "output_type": "stream",
     "text": [
      "Timepoint ID 105 saved out\n"
     ]
    },
    {
     "data": {
      "application/vnd.jupyter.widget-view+json": {
       "model_id": "c2e420510d4b4a0d983d296938430526",
       "version_major": 2,
       "version_minor": 0
      },
      "text/plain": [
       "Processing Channels (T=106):   0%|          | 0/3 [00:00<?, ?it/s]"
      ]
     },
     "metadata": {},
     "output_type": "display_data"
    },
    {
     "name": "stdout",
     "output_type": "stream",
     "text": [
      "Timepoint ID 106 saved out\n"
     ]
    },
    {
     "data": {
      "application/vnd.jupyter.widget-view+json": {
       "model_id": "82944cd767434bad9138a49197fd0b0a",
       "version_major": 2,
       "version_minor": 0
      },
      "text/plain": [
       "Processing Channels (T=107):   0%|          | 0/3 [00:00<?, ?it/s]"
      ]
     },
     "metadata": {},
     "output_type": "display_data"
    },
    {
     "name": "stdout",
     "output_type": "stream",
     "text": [
      "Timepoint ID 107 saved out\n"
     ]
    },
    {
     "data": {
      "application/vnd.jupyter.widget-view+json": {
       "model_id": "fc589e139a894fabbf23c51ed0044fd8",
       "version_major": 2,
       "version_minor": 0
      },
      "text/plain": [
       "Processing Channels (T=108):   0%|          | 0/3 [00:00<?, ?it/s]"
      ]
     },
     "metadata": {},
     "output_type": "display_data"
    },
    {
     "name": "stdout",
     "output_type": "stream",
     "text": [
      "Timepoint ID 108 saved out\n"
     ]
    },
    {
     "data": {
      "application/vnd.jupyter.widget-view+json": {
       "model_id": "62400800f030482b899d3efc2f939df7",
       "version_major": 2,
       "version_minor": 0
      },
      "text/plain": [
       "Processing Channels (T=109):   0%|          | 0/3 [00:00<?, ?it/s]"
      ]
     },
     "metadata": {},
     "output_type": "display_data"
    },
    {
     "name": "stdout",
     "output_type": "stream",
     "text": [
      "Timepoint ID 109 saved out\n"
     ]
    },
    {
     "data": {
      "application/vnd.jupyter.widget-view+json": {
       "model_id": "ec3a32ad4f17431fa366676fe707fa45",
       "version_major": 2,
       "version_minor": 0
      },
      "text/plain": [
       "Processing Channels (T=110):   0%|          | 0/3 [00:00<?, ?it/s]"
      ]
     },
     "metadata": {},
     "output_type": "display_data"
    },
    {
     "name": "stdout",
     "output_type": "stream",
     "text": [
      "Timepoint ID 110 saved out\n"
     ]
    },
    {
     "data": {
      "application/vnd.jupyter.widget-view+json": {
       "model_id": "4fce140b7f214f7198ed7d612ff07134",
       "version_major": 2,
       "version_minor": 0
      },
      "text/plain": [
       "Processing Channels (T=111):   0%|          | 0/3 [00:00<?, ?it/s]"
      ]
     },
     "metadata": {},
     "output_type": "display_data"
    },
    {
     "name": "stdout",
     "output_type": "stream",
     "text": [
      "Timepoint ID 111 saved out\n"
     ]
    },
    {
     "data": {
      "application/vnd.jupyter.widget-view+json": {
       "model_id": "7fe7d7fcee304cbd86908f454dae6f75",
       "version_major": 2,
       "version_minor": 0
      },
      "text/plain": [
       "Processing Channels (T=112):   0%|          | 0/3 [00:00<?, ?it/s]"
      ]
     },
     "metadata": {},
     "output_type": "display_data"
    },
    {
     "name": "stdout",
     "output_type": "stream",
     "text": [
      "Timepoint ID 112 saved out\n"
     ]
    },
    {
     "data": {
      "application/vnd.jupyter.widget-view+json": {
       "model_id": "4587207aa53048ad87dc9af7ca272ead",
       "version_major": 2,
       "version_minor": 0
      },
      "text/plain": [
       "Processing Channels (T=113):   0%|          | 0/3 [00:00<?, ?it/s]"
      ]
     },
     "metadata": {},
     "output_type": "display_data"
    },
    {
     "name": "stdout",
     "output_type": "stream",
     "text": [
      "Timepoint ID 113 saved out\n"
     ]
    },
    {
     "data": {
      "application/vnd.jupyter.widget-view+json": {
       "model_id": "4cf7c33fbe894396af221a5941954d8d",
       "version_major": 2,
       "version_minor": 0
      },
      "text/plain": [
       "Processing Channels (T=114):   0%|          | 0/3 [00:00<?, ?it/s]"
      ]
     },
     "metadata": {},
     "output_type": "display_data"
    },
    {
     "name": "stdout",
     "output_type": "stream",
     "text": [
      "Timepoint ID 114 saved out\n"
     ]
    },
    {
     "data": {
      "application/vnd.jupyter.widget-view+json": {
       "model_id": "c2f5caf654394a6185eb16e003b71931",
       "version_major": 2,
       "version_minor": 0
      },
      "text/plain": [
       "Processing Channels (T=115):   0%|          | 0/3 [00:00<?, ?it/s]"
      ]
     },
     "metadata": {},
     "output_type": "display_data"
    },
    {
     "name": "stdout",
     "output_type": "stream",
     "text": [
      "Timepoint ID 115 saved out\n"
     ]
    },
    {
     "data": {
      "application/vnd.jupyter.widget-view+json": {
       "model_id": "861b1c9c3e114ba48510b67af8bd84bd",
       "version_major": 2,
       "version_minor": 0
      },
      "text/plain": [
       "Processing Channels (T=116):   0%|          | 0/3 [00:00<?, ?it/s]"
      ]
     },
     "metadata": {},
     "output_type": "display_data"
    },
    {
     "name": "stdout",
     "output_type": "stream",
     "text": [
      "Timepoint ID 116 saved out\n"
     ]
    },
    {
     "data": {
      "application/vnd.jupyter.widget-view+json": {
       "model_id": "40fed77e111c4df8b1c3eeaddc6e301c",
       "version_major": 2,
       "version_minor": 0
      },
      "text/plain": [
       "Processing Channels (T=117):   0%|          | 0/3 [00:00<?, ?it/s]"
      ]
     },
     "metadata": {},
     "output_type": "display_data"
    },
    {
     "name": "stdout",
     "output_type": "stream",
     "text": [
      "Timepoint ID 117 saved out\n"
     ]
    },
    {
     "data": {
      "application/vnd.jupyter.widget-view+json": {
       "model_id": "b9f371ca7ef84472ab160304e4951447",
       "version_major": 2,
       "version_minor": 0
      },
      "text/plain": [
       "Processing Channels (T=118):   0%|          | 0/3 [00:00<?, ?it/s]"
      ]
     },
     "metadata": {},
     "output_type": "display_data"
    },
    {
     "name": "stdout",
     "output_type": "stream",
     "text": [
      "Timepoint ID 118 saved out\n"
     ]
    },
    {
     "data": {
      "application/vnd.jupyter.widget-view+json": {
       "model_id": "5a0613b5f8ae4185a572e960d02910e8",
       "version_major": 2,
       "version_minor": 0
      },
      "text/plain": [
       "Processing Channels (T=119):   0%|          | 0/3 [00:00<?, ?it/s]"
      ]
     },
     "metadata": {},
     "output_type": "display_data"
    },
    {
     "name": "stdout",
     "output_type": "stream",
     "text": [
      "Timepoint ID 119 saved out\n"
     ]
    },
    {
     "data": {
      "application/vnd.jupyter.widget-view+json": {
       "model_id": "2b133be675c04884b14c6798c73b8c7e",
       "version_major": 2,
       "version_minor": 0
      },
      "text/plain": [
       "Processing Channels (T=120):   0%|          | 0/3 [00:00<?, ?it/s]"
      ]
     },
     "metadata": {},
     "output_type": "display_data"
    },
    {
     "name": "stdout",
     "output_type": "stream",
     "text": [
      "Timepoint ID 120 saved out\n"
     ]
    },
    {
     "data": {
      "application/vnd.jupyter.widget-view+json": {
       "model_id": "9be44af853574a16823a06db78febe1e",
       "version_major": 2,
       "version_minor": 0
      },
      "text/plain": [
       "Processing Channels (T=121):   0%|          | 0/3 [00:00<?, ?it/s]"
      ]
     },
     "metadata": {},
     "output_type": "display_data"
    },
    {
     "name": "stdout",
     "output_type": "stream",
     "text": [
      "Timepoint ID 121 saved out\n"
     ]
    },
    {
     "data": {
      "application/vnd.jupyter.widget-view+json": {
       "model_id": "4b196cd762ef4e5a9629861b8022347c",
       "version_major": 2,
       "version_minor": 0
      },
      "text/plain": [
       "Processing Channels (T=122):   0%|          | 0/3 [00:00<?, ?it/s]"
      ]
     },
     "metadata": {},
     "output_type": "display_data"
    },
    {
     "name": "stdout",
     "output_type": "stream",
     "text": [
      "Timepoint ID 122 saved out\n"
     ]
    },
    {
     "data": {
      "application/vnd.jupyter.widget-view+json": {
       "model_id": "185f602d2d71439cbb6e289b94912c1e",
       "version_major": 2,
       "version_minor": 0
      },
      "text/plain": [
       "Processing Channels (T=123):   0%|          | 0/3 [00:00<?, ?it/s]"
      ]
     },
     "metadata": {},
     "output_type": "display_data"
    },
    {
     "name": "stdout",
     "output_type": "stream",
     "text": [
      "Timepoint ID 123 saved out\n"
     ]
    },
    {
     "data": {
      "application/vnd.jupyter.widget-view+json": {
       "model_id": "4da0d9dd4e404ea4a6811cb4e9ef76d1",
       "version_major": 2,
       "version_minor": 0
      },
      "text/plain": [
       "Processing Channels (T=124):   0%|          | 0/3 [00:00<?, ?it/s]"
      ]
     },
     "metadata": {},
     "output_type": "display_data"
    },
    {
     "name": "stdout",
     "output_type": "stream",
     "text": [
      "Timepoint ID 124 saved out\n"
     ]
    },
    {
     "data": {
      "application/vnd.jupyter.widget-view+json": {
       "model_id": "232aff3cc2e14fcb9ee1fe8d06c2271a",
       "version_major": 2,
       "version_minor": 0
      },
      "text/plain": [
       "Processing Channels (T=125):   0%|          | 0/3 [00:00<?, ?it/s]"
      ]
     },
     "metadata": {},
     "output_type": "display_data"
    },
    {
     "name": "stdout",
     "output_type": "stream",
     "text": [
      "Timepoint ID 125 saved out\n"
     ]
    },
    {
     "data": {
      "application/vnd.jupyter.widget-view+json": {
       "model_id": "f88a092bc94b432f9ae8814ed70fd515",
       "version_major": 2,
       "version_minor": 0
      },
      "text/plain": [
       "Processing Channels (T=126):   0%|          | 0/3 [00:00<?, ?it/s]"
      ]
     },
     "metadata": {},
     "output_type": "display_data"
    },
    {
     "name": "stdout",
     "output_type": "stream",
     "text": [
      "Timepoint ID 126 saved out\n"
     ]
    },
    {
     "data": {
      "application/vnd.jupyter.widget-view+json": {
       "model_id": "2b858c7ae7a54ec2a18986e1c69a7a4c",
       "version_major": 2,
       "version_minor": 0
      },
      "text/plain": [
       "Processing Channels (T=127):   0%|          | 0/3 [00:00<?, ?it/s]"
      ]
     },
     "metadata": {},
     "output_type": "display_data"
    },
    {
     "name": "stdout",
     "output_type": "stream",
     "text": [
      "Timepoint ID 127 saved out\n"
     ]
    },
    {
     "data": {
      "application/vnd.jupyter.widget-view+json": {
       "model_id": "3f13378f506f4ae3a09a919cf05c0a50",
       "version_major": 2,
       "version_minor": 0
      },
      "text/plain": [
       "Processing Channels (T=128):   0%|          | 0/3 [00:00<?, ?it/s]"
      ]
     },
     "metadata": {},
     "output_type": "display_data"
    },
    {
     "name": "stdout",
     "output_type": "stream",
     "text": [
      "Timepoint ID 128 saved out\n"
     ]
    },
    {
     "data": {
      "application/vnd.jupyter.widget-view+json": {
       "model_id": "77104548f2574494a895c529319f06e0",
       "version_major": 2,
       "version_minor": 0
      },
      "text/plain": [
       "Processing Channels (T=129):   0%|          | 0/3 [00:00<?, ?it/s]"
      ]
     },
     "metadata": {},
     "output_type": "display_data"
    },
    {
     "name": "stdout",
     "output_type": "stream",
     "text": [
      "Timepoint ID 129 saved out\n"
     ]
    },
    {
     "data": {
      "application/vnd.jupyter.widget-view+json": {
       "model_id": "1f8d14fcff2444c78721e5929c6d2303",
       "version_major": 2,
       "version_minor": 0
      },
      "text/plain": [
       "Processing Channels (T=130):   0%|          | 0/3 [00:00<?, ?it/s]"
      ]
     },
     "metadata": {},
     "output_type": "display_data"
    },
    {
     "name": "stdout",
     "output_type": "stream",
     "text": [
      "Timepoint ID 130 saved out\n"
     ]
    },
    {
     "data": {
      "application/vnd.jupyter.widget-view+json": {
       "model_id": "681fff0d1aa646feb3b1a77c3f9ac73d",
       "version_major": 2,
       "version_minor": 0
      },
      "text/plain": [
       "Processing Channels (T=131):   0%|          | 0/3 [00:00<?, ?it/s]"
      ]
     },
     "metadata": {},
     "output_type": "display_data"
    },
    {
     "name": "stdout",
     "output_type": "stream",
     "text": [
      "Timepoint ID 131 saved out\n"
     ]
    },
    {
     "data": {
      "application/vnd.jupyter.widget-view+json": {
       "model_id": "f65a2ceb81a4483388e45f41076a48dd",
       "version_major": 2,
       "version_minor": 0
      },
      "text/plain": [
       "Processing Channels (T=132):   0%|          | 0/3 [00:00<?, ?it/s]"
      ]
     },
     "metadata": {},
     "output_type": "display_data"
    },
    {
     "name": "stdout",
     "output_type": "stream",
     "text": [
      "Timepoint ID 132 saved out\n"
     ]
    },
    {
     "data": {
      "application/vnd.jupyter.widget-view+json": {
       "model_id": "e112c8c230524f2b813ae8a5907482f6",
       "version_major": 2,
       "version_minor": 0
      },
      "text/plain": [
       "Processing Channels (T=133):   0%|          | 0/3 [00:00<?, ?it/s]"
      ]
     },
     "metadata": {},
     "output_type": "display_data"
    },
    {
     "name": "stdout",
     "output_type": "stream",
     "text": [
      "Timepoint ID 133 saved out\n"
     ]
    },
    {
     "data": {
      "application/vnd.jupyter.widget-view+json": {
       "model_id": "5ef750d4e3a84cf382e74f9196cdadf8",
       "version_major": 2,
       "version_minor": 0
      },
      "text/plain": [
       "Processing Channels (T=134):   0%|          | 0/3 [00:00<?, ?it/s]"
      ]
     },
     "metadata": {},
     "output_type": "display_data"
    },
    {
     "name": "stdout",
     "output_type": "stream",
     "text": [
      "Timepoint ID 134 saved out\n"
     ]
    },
    {
     "data": {
      "application/vnd.jupyter.widget-view+json": {
       "model_id": "6ea34afb09864c3bbc7a26783338b8eb",
       "version_major": 2,
       "version_minor": 0
      },
      "text/plain": [
       "Processing Channels (T=135):   0%|          | 0/3 [00:00<?, ?it/s]"
      ]
     },
     "metadata": {},
     "output_type": "display_data"
    },
    {
     "name": "stdout",
     "output_type": "stream",
     "text": [
      "Timepoint ID 135 saved out\n"
     ]
    },
    {
     "data": {
      "application/vnd.jupyter.widget-view+json": {
       "model_id": "b16d53aaff514e89a4f9fe1bb346b204",
       "version_major": 2,
       "version_minor": 0
      },
      "text/plain": [
       "Processing Channels (T=136):   0%|          | 0/3 [00:00<?, ?it/s]"
      ]
     },
     "metadata": {},
     "output_type": "display_data"
    },
    {
     "name": "stdout",
     "output_type": "stream",
     "text": [
      "Timepoint ID 136 saved out\n"
     ]
    },
    {
     "data": {
      "application/vnd.jupyter.widget-view+json": {
       "model_id": "553456d1ebc7469bb722758790c5f167",
       "version_major": 2,
       "version_minor": 0
      },
      "text/plain": [
       "Processing Channels (T=137):   0%|          | 0/3 [00:00<?, ?it/s]"
      ]
     },
     "metadata": {},
     "output_type": "display_data"
    },
    {
     "name": "stdout",
     "output_type": "stream",
     "text": [
      "Timepoint ID 137 saved out\n"
     ]
    },
    {
     "data": {
      "application/vnd.jupyter.widget-view+json": {
       "model_id": "2e18729eed88464c96f63f2a3fb9f709",
       "version_major": 2,
       "version_minor": 0
      },
      "text/plain": [
       "Processing Channels (T=138):   0%|          | 0/3 [00:00<?, ?it/s]"
      ]
     },
     "metadata": {},
     "output_type": "display_data"
    },
    {
     "name": "stdout",
     "output_type": "stream",
     "text": [
      "Timepoint ID 138 saved out\n"
     ]
    },
    {
     "data": {
      "application/vnd.jupyter.widget-view+json": {
       "model_id": "6a67fa31d13448709157765d19bf147c",
       "version_major": 2,
       "version_minor": 0
      },
      "text/plain": [
       "Processing Channels (T=139):   0%|          | 0/3 [00:00<?, ?it/s]"
      ]
     },
     "metadata": {},
     "output_type": "display_data"
    },
    {
     "name": "stdout",
     "output_type": "stream",
     "text": [
      "Timepoint ID 139 saved out\n"
     ]
    },
    {
     "data": {
      "application/vnd.jupyter.widget-view+json": {
       "model_id": "366ff2aea9184f7595226e1fa574f3be",
       "version_major": 2,
       "version_minor": 0
      },
      "text/plain": [
       "Processing Channels (T=140):   0%|          | 0/3 [00:00<?, ?it/s]"
      ]
     },
     "metadata": {},
     "output_type": "display_data"
    },
    {
     "name": "stdout",
     "output_type": "stream",
     "text": [
      "Timepoint ID 140 saved out\n"
     ]
    },
    {
     "data": {
      "application/vnd.jupyter.widget-view+json": {
       "model_id": "aed33122b56043f6b4c0591441511874",
       "version_major": 2,
       "version_minor": 0
      },
      "text/plain": [
       "Processing Channels (T=141):   0%|          | 0/3 [00:00<?, ?it/s]"
      ]
     },
     "metadata": {},
     "output_type": "display_data"
    },
    {
     "name": "stdout",
     "output_type": "stream",
     "text": [
      "Timepoint ID 141 saved out\n"
     ]
    },
    {
     "data": {
      "application/vnd.jupyter.widget-view+json": {
       "model_id": "1dfe9effc5314d658268f89333821bf0",
       "version_major": 2,
       "version_minor": 0
      },
      "text/plain": [
       "Processing Channels (T=142):   0%|          | 0/3 [00:00<?, ?it/s]"
      ]
     },
     "metadata": {},
     "output_type": "display_data"
    },
    {
     "name": "stdout",
     "output_type": "stream",
     "text": [
      "Timepoint ID 142 saved out\n"
     ]
    },
    {
     "data": {
      "application/vnd.jupyter.widget-view+json": {
       "model_id": "259428dbc6954ac78a8377a5193619ad",
       "version_major": 2,
       "version_minor": 0
      },
      "text/plain": [
       "Processing Channels (T=143):   0%|          | 0/3 [00:00<?, ?it/s]"
      ]
     },
     "metadata": {},
     "output_type": "display_data"
    },
    {
     "name": "stdout",
     "output_type": "stream",
     "text": [
      "Timepoint ID 143 saved out\n"
     ]
    },
    {
     "data": {
      "application/vnd.jupyter.widget-view+json": {
       "model_id": "da2a52f31c6641a38de3c02a9063861d",
       "version_major": 2,
       "version_minor": 0
      },
      "text/plain": [
       "Processing Time Points:   0%|          | 0/144 [00:00<?, ?it/s]"
      ]
     },
     "metadata": {},
     "output_type": "display_data"
    },
    {
     "data": {
      "application/vnd.jupyter.widget-view+json": {
       "model_id": "7f1a668ff98f474ea0b44c8cbda11f46",
       "version_major": 2,
       "version_minor": 0
      },
      "text/plain": [
       "Processing Channels (T=0):   0%|          | 0/3 [00:00<?, ?it/s]"
      ]
     },
     "metadata": {},
     "output_type": "display_data"
    },
    {
     "name": "stdout",
     "output_type": "stream",
     "text": [
      "Timepoint ID 0 saved out\n"
     ]
    },
    {
     "data": {
      "application/vnd.jupyter.widget-view+json": {
       "model_id": "472f1934372d4533be3b789e620a26e8",
       "version_major": 2,
       "version_minor": 0
      },
      "text/plain": [
       "Processing Channels (T=1):   0%|          | 0/3 [00:00<?, ?it/s]"
      ]
     },
     "metadata": {},
     "output_type": "display_data"
    },
    {
     "name": "stdout",
     "output_type": "stream",
     "text": [
      "Timepoint ID 1 saved out\n"
     ]
    },
    {
     "data": {
      "application/vnd.jupyter.widget-view+json": {
       "model_id": "184a9fed18c842cb8ff65aeb06bd8261",
       "version_major": 2,
       "version_minor": 0
      },
      "text/plain": [
       "Processing Channels (T=2):   0%|          | 0/3 [00:00<?, ?it/s]"
      ]
     },
     "metadata": {},
     "output_type": "display_data"
    },
    {
     "name": "stdout",
     "output_type": "stream",
     "text": [
      "Timepoint ID 2 saved out\n"
     ]
    },
    {
     "data": {
      "application/vnd.jupyter.widget-view+json": {
       "model_id": "c8962f5b13f946618417ef9d5396e598",
       "version_major": 2,
       "version_minor": 0
      },
      "text/plain": [
       "Processing Channels (T=3):   0%|          | 0/3 [00:00<?, ?it/s]"
      ]
     },
     "metadata": {},
     "output_type": "display_data"
    },
    {
     "name": "stdout",
     "output_type": "stream",
     "text": [
      "Timepoint ID 3 saved out\n"
     ]
    },
    {
     "data": {
      "application/vnd.jupyter.widget-view+json": {
       "model_id": "9f4c7e2bc3ab41da937be6fbcbc3a793",
       "version_major": 2,
       "version_minor": 0
      },
      "text/plain": [
       "Processing Channels (T=4):   0%|          | 0/3 [00:00<?, ?it/s]"
      ]
     },
     "metadata": {},
     "output_type": "display_data"
    },
    {
     "name": "stdout",
     "output_type": "stream",
     "text": [
      "Timepoint ID 4 saved out\n"
     ]
    },
    {
     "data": {
      "application/vnd.jupyter.widget-view+json": {
       "model_id": "188c3e7ac63643a69e2d736661f7c179",
       "version_major": 2,
       "version_minor": 0
      },
      "text/plain": [
       "Processing Channels (T=5):   0%|          | 0/3 [00:00<?, ?it/s]"
      ]
     },
     "metadata": {},
     "output_type": "display_data"
    },
    {
     "name": "stdout",
     "output_type": "stream",
     "text": [
      "Timepoint ID 5 saved out\n"
     ]
    },
    {
     "data": {
      "application/vnd.jupyter.widget-view+json": {
       "model_id": "49332057131a40dca401c22d23f61450",
       "version_major": 2,
       "version_minor": 0
      },
      "text/plain": [
       "Processing Channels (T=6):   0%|          | 0/3 [00:00<?, ?it/s]"
      ]
     },
     "metadata": {},
     "output_type": "display_data"
    },
    {
     "name": "stdout",
     "output_type": "stream",
     "text": [
      "Timepoint ID 6 saved out\n"
     ]
    },
    {
     "data": {
      "application/vnd.jupyter.widget-view+json": {
       "model_id": "c9080efb5005459fbc727bcd6ed25635",
       "version_major": 2,
       "version_minor": 0
      },
      "text/plain": [
       "Processing Channels (T=7):   0%|          | 0/3 [00:00<?, ?it/s]"
      ]
     },
     "metadata": {},
     "output_type": "display_data"
    },
    {
     "name": "stdout",
     "output_type": "stream",
     "text": [
      "Timepoint ID 7 saved out\n"
     ]
    },
    {
     "data": {
      "application/vnd.jupyter.widget-view+json": {
       "model_id": "92edbb70cec6497e9de8af06b7e586de",
       "version_major": 2,
       "version_minor": 0
      },
      "text/plain": [
       "Processing Channels (T=8):   0%|          | 0/3 [00:00<?, ?it/s]"
      ]
     },
     "metadata": {},
     "output_type": "display_data"
    },
    {
     "name": "stdout",
     "output_type": "stream",
     "text": [
      "Timepoint ID 8 saved out\n"
     ]
    },
    {
     "data": {
      "application/vnd.jupyter.widget-view+json": {
       "model_id": "d1be3803254a4b5ea7c783123e4368b0",
       "version_major": 2,
       "version_minor": 0
      },
      "text/plain": [
       "Processing Channels (T=9):   0%|          | 0/3 [00:00<?, ?it/s]"
      ]
     },
     "metadata": {},
     "output_type": "display_data"
    },
    {
     "name": "stdout",
     "output_type": "stream",
     "text": [
      "Timepoint ID 9 saved out\n"
     ]
    },
    {
     "data": {
      "application/vnd.jupyter.widget-view+json": {
       "model_id": "6407666b6d1f40faba23956a31745db7",
       "version_major": 2,
       "version_minor": 0
      },
      "text/plain": [
       "Processing Channels (T=10):   0%|          | 0/3 [00:00<?, ?it/s]"
      ]
     },
     "metadata": {},
     "output_type": "display_data"
    },
    {
     "name": "stdout",
     "output_type": "stream",
     "text": [
      "Timepoint ID 10 saved out\n"
     ]
    },
    {
     "data": {
      "application/vnd.jupyter.widget-view+json": {
       "model_id": "b57b0d91169d44eab9362fb7f65b6344",
       "version_major": 2,
       "version_minor": 0
      },
      "text/plain": [
       "Processing Channels (T=11):   0%|          | 0/3 [00:00<?, ?it/s]"
      ]
     },
     "metadata": {},
     "output_type": "display_data"
    },
    {
     "name": "stdout",
     "output_type": "stream",
     "text": [
      "Timepoint ID 11 saved out\n"
     ]
    },
    {
     "data": {
      "application/vnd.jupyter.widget-view+json": {
       "model_id": "d73e52c47519422c885abcc3895449bc",
       "version_major": 2,
       "version_minor": 0
      },
      "text/plain": [
       "Processing Channels (T=12):   0%|          | 0/3 [00:00<?, ?it/s]"
      ]
     },
     "metadata": {},
     "output_type": "display_data"
    },
    {
     "name": "stdout",
     "output_type": "stream",
     "text": [
      "Timepoint ID 12 saved out\n"
     ]
    },
    {
     "data": {
      "application/vnd.jupyter.widget-view+json": {
       "model_id": "3f10436e147743dabe309a5c2e476c1b",
       "version_major": 2,
       "version_minor": 0
      },
      "text/plain": [
       "Processing Channels (T=13):   0%|          | 0/3 [00:00<?, ?it/s]"
      ]
     },
     "metadata": {},
     "output_type": "display_data"
    },
    {
     "name": "stdout",
     "output_type": "stream",
     "text": [
      "Timepoint ID 13 saved out\n"
     ]
    },
    {
     "data": {
      "application/vnd.jupyter.widget-view+json": {
       "model_id": "008615003c3944ec94f6db1adbc29083",
       "version_major": 2,
       "version_minor": 0
      },
      "text/plain": [
       "Processing Channels (T=14):   0%|          | 0/3 [00:00<?, ?it/s]"
      ]
     },
     "metadata": {},
     "output_type": "display_data"
    },
    {
     "name": "stdout",
     "output_type": "stream",
     "text": [
      "Timepoint ID 14 saved out\n"
     ]
    },
    {
     "data": {
      "application/vnd.jupyter.widget-view+json": {
       "model_id": "3f9e1e3ff2b3457fb79f86321eafe966",
       "version_major": 2,
       "version_minor": 0
      },
      "text/plain": [
       "Processing Channels (T=15):   0%|          | 0/3 [00:00<?, ?it/s]"
      ]
     },
     "metadata": {},
     "output_type": "display_data"
    },
    {
     "name": "stdout",
     "output_type": "stream",
     "text": [
      "Timepoint ID 15 saved out\n"
     ]
    },
    {
     "data": {
      "application/vnd.jupyter.widget-view+json": {
       "model_id": "e49708d6764c4bdab866c049d5b047e5",
       "version_major": 2,
       "version_minor": 0
      },
      "text/plain": [
       "Processing Channels (T=16):   0%|          | 0/3 [00:00<?, ?it/s]"
      ]
     },
     "metadata": {},
     "output_type": "display_data"
    },
    {
     "name": "stdout",
     "output_type": "stream",
     "text": [
      "Timepoint ID 16 saved out\n"
     ]
    },
    {
     "data": {
      "application/vnd.jupyter.widget-view+json": {
       "model_id": "c1dd528f06f247458fb78d6d447fbee0",
       "version_major": 2,
       "version_minor": 0
      },
      "text/plain": [
       "Processing Channels (T=17):   0%|          | 0/3 [00:00<?, ?it/s]"
      ]
     },
     "metadata": {},
     "output_type": "display_data"
    },
    {
     "name": "stdout",
     "output_type": "stream",
     "text": [
      "Timepoint ID 17 saved out\n"
     ]
    },
    {
     "data": {
      "application/vnd.jupyter.widget-view+json": {
       "model_id": "36452e45837a4f8c8b94790e936f656c",
       "version_major": 2,
       "version_minor": 0
      },
      "text/plain": [
       "Processing Channels (T=18):   0%|          | 0/3 [00:00<?, ?it/s]"
      ]
     },
     "metadata": {},
     "output_type": "display_data"
    },
    {
     "name": "stdout",
     "output_type": "stream",
     "text": [
      "Timepoint ID 18 saved out\n"
     ]
    },
    {
     "data": {
      "application/vnd.jupyter.widget-view+json": {
       "model_id": "6a3d57b3d6444b80a04157127810bc35",
       "version_major": 2,
       "version_minor": 0
      },
      "text/plain": [
       "Processing Channels (T=19):   0%|          | 0/3 [00:00<?, ?it/s]"
      ]
     },
     "metadata": {},
     "output_type": "display_data"
    },
    {
     "name": "stdout",
     "output_type": "stream",
     "text": [
      "Timepoint ID 19 saved out\n"
     ]
    },
    {
     "data": {
      "application/vnd.jupyter.widget-view+json": {
       "model_id": "6da6f548fa3043de95d57a21b6a77483",
       "version_major": 2,
       "version_minor": 0
      },
      "text/plain": [
       "Processing Channels (T=20):   0%|          | 0/3 [00:00<?, ?it/s]"
      ]
     },
     "metadata": {},
     "output_type": "display_data"
    },
    {
     "name": "stdout",
     "output_type": "stream",
     "text": [
      "Timepoint ID 20 saved out\n"
     ]
    },
    {
     "data": {
      "application/vnd.jupyter.widget-view+json": {
       "model_id": "679ecf6e2e614af388df9bb1f114d9b9",
       "version_major": 2,
       "version_minor": 0
      },
      "text/plain": [
       "Processing Channels (T=21):   0%|          | 0/3 [00:00<?, ?it/s]"
      ]
     },
     "metadata": {},
     "output_type": "display_data"
    },
    {
     "name": "stdout",
     "output_type": "stream",
     "text": [
      "Timepoint ID 21 saved out\n"
     ]
    },
    {
     "data": {
      "application/vnd.jupyter.widget-view+json": {
       "model_id": "812ffe68d41e4ca49e8c827859305b17",
       "version_major": 2,
       "version_minor": 0
      },
      "text/plain": [
       "Processing Channels (T=22):   0%|          | 0/3 [00:00<?, ?it/s]"
      ]
     },
     "metadata": {},
     "output_type": "display_data"
    },
    {
     "name": "stdout",
     "output_type": "stream",
     "text": [
      "Timepoint ID 22 saved out\n"
     ]
    },
    {
     "data": {
      "application/vnd.jupyter.widget-view+json": {
       "model_id": "a0b70b1b7e38486293a822d2d79d6372",
       "version_major": 2,
       "version_minor": 0
      },
      "text/plain": [
       "Processing Channels (T=23):   0%|          | 0/3 [00:00<?, ?it/s]"
      ]
     },
     "metadata": {},
     "output_type": "display_data"
    },
    {
     "name": "stdout",
     "output_type": "stream",
     "text": [
      "Timepoint ID 23 saved out\n"
     ]
    },
    {
     "data": {
      "application/vnd.jupyter.widget-view+json": {
       "model_id": "23ff1bdbe90040689acbea772f692d73",
       "version_major": 2,
       "version_minor": 0
      },
      "text/plain": [
       "Processing Channels (T=24):   0%|          | 0/3 [00:00<?, ?it/s]"
      ]
     },
     "metadata": {},
     "output_type": "display_data"
    },
    {
     "name": "stdout",
     "output_type": "stream",
     "text": [
      "Timepoint ID 24 saved out\n"
     ]
    },
    {
     "data": {
      "application/vnd.jupyter.widget-view+json": {
       "model_id": "356a0b06cf8d4e228cf9a4c0bef01979",
       "version_major": 2,
       "version_minor": 0
      },
      "text/plain": [
       "Processing Channels (T=25):   0%|          | 0/3 [00:00<?, ?it/s]"
      ]
     },
     "metadata": {},
     "output_type": "display_data"
    },
    {
     "name": "stdout",
     "output_type": "stream",
     "text": [
      "Timepoint ID 25 saved out\n"
     ]
    },
    {
     "data": {
      "application/vnd.jupyter.widget-view+json": {
       "model_id": "5550c7be117a400bb1cd4108758d91e7",
       "version_major": 2,
       "version_minor": 0
      },
      "text/plain": [
       "Processing Channels (T=26):   0%|          | 0/3 [00:00<?, ?it/s]"
      ]
     },
     "metadata": {},
     "output_type": "display_data"
    },
    {
     "name": "stdout",
     "output_type": "stream",
     "text": [
      "Timepoint ID 26 saved out\n"
     ]
    },
    {
     "data": {
      "application/vnd.jupyter.widget-view+json": {
       "model_id": "02b67957992a49b28a5bee3ffc672152",
       "version_major": 2,
       "version_minor": 0
      },
      "text/plain": [
       "Processing Channels (T=27):   0%|          | 0/3 [00:00<?, ?it/s]"
      ]
     },
     "metadata": {},
     "output_type": "display_data"
    },
    {
     "name": "stdout",
     "output_type": "stream",
     "text": [
      "Timepoint ID 27 saved out\n"
     ]
    },
    {
     "data": {
      "application/vnd.jupyter.widget-view+json": {
       "model_id": "78d09d9ce43c4fa6b61a9ea00a4aa081",
       "version_major": 2,
       "version_minor": 0
      },
      "text/plain": [
       "Processing Channels (T=28):   0%|          | 0/3 [00:00<?, ?it/s]"
      ]
     },
     "metadata": {},
     "output_type": "display_data"
    },
    {
     "name": "stdout",
     "output_type": "stream",
     "text": [
      "Timepoint ID 28 saved out\n"
     ]
    },
    {
     "data": {
      "application/vnd.jupyter.widget-view+json": {
       "model_id": "649c2f764fa24c889494f54b96bc9b1e",
       "version_major": 2,
       "version_minor": 0
      },
      "text/plain": [
       "Processing Channels (T=29):   0%|          | 0/3 [00:00<?, ?it/s]"
      ]
     },
     "metadata": {},
     "output_type": "display_data"
    },
    {
     "name": "stdout",
     "output_type": "stream",
     "text": [
      "Timepoint ID 29 saved out\n"
     ]
    },
    {
     "data": {
      "application/vnd.jupyter.widget-view+json": {
       "model_id": "4acee6808ad34c76818b4b15dc693705",
       "version_major": 2,
       "version_minor": 0
      },
      "text/plain": [
       "Processing Channels (T=30):   0%|          | 0/3 [00:00<?, ?it/s]"
      ]
     },
     "metadata": {},
     "output_type": "display_data"
    },
    {
     "name": "stdout",
     "output_type": "stream",
     "text": [
      "Timepoint ID 30 saved out\n"
     ]
    },
    {
     "data": {
      "application/vnd.jupyter.widget-view+json": {
       "model_id": "fcf0b1c4da034ffa920eba78b01c504c",
       "version_major": 2,
       "version_minor": 0
      },
      "text/plain": [
       "Processing Channels (T=31):   0%|          | 0/3 [00:00<?, ?it/s]"
      ]
     },
     "metadata": {},
     "output_type": "display_data"
    },
    {
     "name": "stdout",
     "output_type": "stream",
     "text": [
      "Timepoint ID 31 saved out\n"
     ]
    },
    {
     "data": {
      "application/vnd.jupyter.widget-view+json": {
       "model_id": "6049b373dd2d4ee69dbbc63b71fc2dcb",
       "version_major": 2,
       "version_minor": 0
      },
      "text/plain": [
       "Processing Channels (T=32):   0%|          | 0/3 [00:00<?, ?it/s]"
      ]
     },
     "metadata": {},
     "output_type": "display_data"
    },
    {
     "name": "stdout",
     "output_type": "stream",
     "text": [
      "Timepoint ID 32 saved out\n"
     ]
    },
    {
     "data": {
      "application/vnd.jupyter.widget-view+json": {
       "model_id": "91a12748077b4450a3ebe967c580db77",
       "version_major": 2,
       "version_minor": 0
      },
      "text/plain": [
       "Processing Channels (T=33):   0%|          | 0/3 [00:00<?, ?it/s]"
      ]
     },
     "metadata": {},
     "output_type": "display_data"
    },
    {
     "name": "stdout",
     "output_type": "stream",
     "text": [
      "Timepoint ID 33 saved out\n"
     ]
    },
    {
     "data": {
      "application/vnd.jupyter.widget-view+json": {
       "model_id": "68fff51101ae4fd8b6fe26d090682213",
       "version_major": 2,
       "version_minor": 0
      },
      "text/plain": [
       "Processing Channels (T=34):   0%|          | 0/3 [00:00<?, ?it/s]"
      ]
     },
     "metadata": {},
     "output_type": "display_data"
    },
    {
     "name": "stdout",
     "output_type": "stream",
     "text": [
      "Timepoint ID 34 saved out\n"
     ]
    },
    {
     "data": {
      "application/vnd.jupyter.widget-view+json": {
       "model_id": "f89e153b37dd448bbc79385c47e945d2",
       "version_major": 2,
       "version_minor": 0
      },
      "text/plain": [
       "Processing Channels (T=35):   0%|          | 0/3 [00:00<?, ?it/s]"
      ]
     },
     "metadata": {},
     "output_type": "display_data"
    },
    {
     "name": "stdout",
     "output_type": "stream",
     "text": [
      "Timepoint ID 35 saved out\n"
     ]
    },
    {
     "data": {
      "application/vnd.jupyter.widget-view+json": {
       "model_id": "88ead45afc534446a83246500a87b21e",
       "version_major": 2,
       "version_minor": 0
      },
      "text/plain": [
       "Processing Channels (T=36):   0%|          | 0/3 [00:00<?, ?it/s]"
      ]
     },
     "metadata": {},
     "output_type": "display_data"
    },
    {
     "name": "stdout",
     "output_type": "stream",
     "text": [
      "Timepoint ID 36 saved out\n"
     ]
    },
    {
     "data": {
      "application/vnd.jupyter.widget-view+json": {
       "model_id": "f9a428270d134e8a81f673999ba67798",
       "version_major": 2,
       "version_minor": 0
      },
      "text/plain": [
       "Processing Channels (T=37):   0%|          | 0/3 [00:00<?, ?it/s]"
      ]
     },
     "metadata": {},
     "output_type": "display_data"
    },
    {
     "name": "stdout",
     "output_type": "stream",
     "text": [
      "Timepoint ID 37 saved out\n"
     ]
    },
    {
     "data": {
      "application/vnd.jupyter.widget-view+json": {
       "model_id": "a7cc50a412fb42229eed26d8287c5ebf",
       "version_major": 2,
       "version_minor": 0
      },
      "text/plain": [
       "Processing Channels (T=38):   0%|          | 0/3 [00:00<?, ?it/s]"
      ]
     },
     "metadata": {},
     "output_type": "display_data"
    },
    {
     "name": "stdout",
     "output_type": "stream",
     "text": [
      "Timepoint ID 38 saved out\n"
     ]
    },
    {
     "data": {
      "application/vnd.jupyter.widget-view+json": {
       "model_id": "775ee9e6bdc047ca951ba57a7637026b",
       "version_major": 2,
       "version_minor": 0
      },
      "text/plain": [
       "Processing Channels (T=39):   0%|          | 0/3 [00:00<?, ?it/s]"
      ]
     },
     "metadata": {},
     "output_type": "display_data"
    },
    {
     "name": "stdout",
     "output_type": "stream",
     "text": [
      "Timepoint ID 39 saved out\n"
     ]
    },
    {
     "data": {
      "application/vnd.jupyter.widget-view+json": {
       "model_id": "5ab15de38f9a4f8ea47eed3a742949b7",
       "version_major": 2,
       "version_minor": 0
      },
      "text/plain": [
       "Processing Channels (T=40):   0%|          | 0/3 [00:00<?, ?it/s]"
      ]
     },
     "metadata": {},
     "output_type": "display_data"
    },
    {
     "name": "stdout",
     "output_type": "stream",
     "text": [
      "Timepoint ID 40 saved out\n"
     ]
    },
    {
     "data": {
      "application/vnd.jupyter.widget-view+json": {
       "model_id": "a73eb294693740b5bf91a5eec3c57958",
       "version_major": 2,
       "version_minor": 0
      },
      "text/plain": [
       "Processing Channels (T=41):   0%|          | 0/3 [00:00<?, ?it/s]"
      ]
     },
     "metadata": {},
     "output_type": "display_data"
    },
    {
     "name": "stdout",
     "output_type": "stream",
     "text": [
      "Timepoint ID 41 saved out\n"
     ]
    },
    {
     "data": {
      "application/vnd.jupyter.widget-view+json": {
       "model_id": "97e7852ab8524d9b937d03fe59281a13",
       "version_major": 2,
       "version_minor": 0
      },
      "text/plain": [
       "Processing Channels (T=42):   0%|          | 0/3 [00:00<?, ?it/s]"
      ]
     },
     "metadata": {},
     "output_type": "display_data"
    },
    {
     "name": "stdout",
     "output_type": "stream",
     "text": [
      "Timepoint ID 42 saved out\n"
     ]
    },
    {
     "data": {
      "application/vnd.jupyter.widget-view+json": {
       "model_id": "d3673e6e1df84aeebdd6a76bfdfc17bf",
       "version_major": 2,
       "version_minor": 0
      },
      "text/plain": [
       "Processing Channels (T=43):   0%|          | 0/3 [00:00<?, ?it/s]"
      ]
     },
     "metadata": {},
     "output_type": "display_data"
    },
    {
     "name": "stdout",
     "output_type": "stream",
     "text": [
      "Timepoint ID 43 saved out\n"
     ]
    },
    {
     "data": {
      "application/vnd.jupyter.widget-view+json": {
       "model_id": "2720cfbce90e411dbe4e074b98bf81e8",
       "version_major": 2,
       "version_minor": 0
      },
      "text/plain": [
       "Processing Channels (T=44):   0%|          | 0/3 [00:00<?, ?it/s]"
      ]
     },
     "metadata": {},
     "output_type": "display_data"
    },
    {
     "name": "stdout",
     "output_type": "stream",
     "text": [
      "Timepoint ID 44 saved out\n"
     ]
    },
    {
     "data": {
      "application/vnd.jupyter.widget-view+json": {
       "model_id": "a5b6648ea0c844c99b509db8b7e318a0",
       "version_major": 2,
       "version_minor": 0
      },
      "text/plain": [
       "Processing Channels (T=45):   0%|          | 0/3 [00:00<?, ?it/s]"
      ]
     },
     "metadata": {},
     "output_type": "display_data"
    },
    {
     "name": "stdout",
     "output_type": "stream",
     "text": [
      "Timepoint ID 45 saved out\n"
     ]
    },
    {
     "data": {
      "application/vnd.jupyter.widget-view+json": {
       "model_id": "6567d179bd9b47f984616ced77b56476",
       "version_major": 2,
       "version_minor": 0
      },
      "text/plain": [
       "Processing Channels (T=46):   0%|          | 0/3 [00:00<?, ?it/s]"
      ]
     },
     "metadata": {},
     "output_type": "display_data"
    },
    {
     "name": "stdout",
     "output_type": "stream",
     "text": [
      "Timepoint ID 46 saved out\n"
     ]
    },
    {
     "data": {
      "application/vnd.jupyter.widget-view+json": {
       "model_id": "048e5fa302af49a9b6de2fe28910c273",
       "version_major": 2,
       "version_minor": 0
      },
      "text/plain": [
       "Processing Channels (T=47):   0%|          | 0/3 [00:00<?, ?it/s]"
      ]
     },
     "metadata": {},
     "output_type": "display_data"
    },
    {
     "name": "stdout",
     "output_type": "stream",
     "text": [
      "Timepoint ID 47 saved out\n"
     ]
    },
    {
     "data": {
      "application/vnd.jupyter.widget-view+json": {
       "model_id": "5202439febc14960829456fb0cfa3524",
       "version_major": 2,
       "version_minor": 0
      },
      "text/plain": [
       "Processing Channels (T=48):   0%|          | 0/3 [00:00<?, ?it/s]"
      ]
     },
     "metadata": {},
     "output_type": "display_data"
    },
    {
     "name": "stdout",
     "output_type": "stream",
     "text": [
      "Timepoint ID 48 saved out\n"
     ]
    },
    {
     "data": {
      "application/vnd.jupyter.widget-view+json": {
       "model_id": "21f2c35af009468a87fab4711d05b43c",
       "version_major": 2,
       "version_minor": 0
      },
      "text/plain": [
       "Processing Channels (T=49):   0%|          | 0/3 [00:00<?, ?it/s]"
      ]
     },
     "metadata": {},
     "output_type": "display_data"
    },
    {
     "name": "stdout",
     "output_type": "stream",
     "text": [
      "Timepoint ID 49 saved out\n"
     ]
    },
    {
     "data": {
      "application/vnd.jupyter.widget-view+json": {
       "model_id": "72b552306aed45368b42a77d75fd84cf",
       "version_major": 2,
       "version_minor": 0
      },
      "text/plain": [
       "Processing Channels (T=50):   0%|          | 0/3 [00:00<?, ?it/s]"
      ]
     },
     "metadata": {},
     "output_type": "display_data"
    },
    {
     "name": "stdout",
     "output_type": "stream",
     "text": [
      "Timepoint ID 50 saved out\n"
     ]
    },
    {
     "data": {
      "application/vnd.jupyter.widget-view+json": {
       "model_id": "790b1fea9eca4df892fbb4d9aae27da7",
       "version_major": 2,
       "version_minor": 0
      },
      "text/plain": [
       "Processing Channels (T=51):   0%|          | 0/3 [00:00<?, ?it/s]"
      ]
     },
     "metadata": {},
     "output_type": "display_data"
    },
    {
     "name": "stdout",
     "output_type": "stream",
     "text": [
      "Timepoint ID 51 saved out\n"
     ]
    },
    {
     "data": {
      "application/vnd.jupyter.widget-view+json": {
       "model_id": "5a3222056ee54b468ec18bcfce994d8e",
       "version_major": 2,
       "version_minor": 0
      },
      "text/plain": [
       "Processing Channels (T=52):   0%|          | 0/3 [00:00<?, ?it/s]"
      ]
     },
     "metadata": {},
     "output_type": "display_data"
    },
    {
     "name": "stdout",
     "output_type": "stream",
     "text": [
      "Timepoint ID 52 saved out\n"
     ]
    },
    {
     "data": {
      "application/vnd.jupyter.widget-view+json": {
       "model_id": "d4aa6d29bf484c4e986ed42e67f7be6b",
       "version_major": 2,
       "version_minor": 0
      },
      "text/plain": [
       "Processing Channels (T=53):   0%|          | 0/3 [00:00<?, ?it/s]"
      ]
     },
     "metadata": {},
     "output_type": "display_data"
    },
    {
     "name": "stdout",
     "output_type": "stream",
     "text": [
      "Timepoint ID 53 saved out\n"
     ]
    },
    {
     "data": {
      "application/vnd.jupyter.widget-view+json": {
       "model_id": "09c7ec593d364b0b865032c3b4fcb281",
       "version_major": 2,
       "version_minor": 0
      },
      "text/plain": [
       "Processing Channels (T=54):   0%|          | 0/3 [00:00<?, ?it/s]"
      ]
     },
     "metadata": {},
     "output_type": "display_data"
    },
    {
     "name": "stdout",
     "output_type": "stream",
     "text": [
      "Timepoint ID 54 saved out\n"
     ]
    },
    {
     "data": {
      "application/vnd.jupyter.widget-view+json": {
       "model_id": "3ca8b37c87814d82bc195cac1184be11",
       "version_major": 2,
       "version_minor": 0
      },
      "text/plain": [
       "Processing Channels (T=55):   0%|          | 0/3 [00:00<?, ?it/s]"
      ]
     },
     "metadata": {},
     "output_type": "display_data"
    },
    {
     "name": "stdout",
     "output_type": "stream",
     "text": [
      "Timepoint ID 55 saved out\n"
     ]
    },
    {
     "data": {
      "application/vnd.jupyter.widget-view+json": {
       "model_id": "17089440dac149409b4610a4ae4e932f",
       "version_major": 2,
       "version_minor": 0
      },
      "text/plain": [
       "Processing Channels (T=56):   0%|          | 0/3 [00:00<?, ?it/s]"
      ]
     },
     "metadata": {},
     "output_type": "display_data"
    },
    {
     "name": "stdout",
     "output_type": "stream",
     "text": [
      "Timepoint ID 56 saved out\n"
     ]
    },
    {
     "data": {
      "application/vnd.jupyter.widget-view+json": {
       "model_id": "5d7fbf41effb4084b93a8a921936022a",
       "version_major": 2,
       "version_minor": 0
      },
      "text/plain": [
       "Processing Channels (T=57):   0%|          | 0/3 [00:00<?, ?it/s]"
      ]
     },
     "metadata": {},
     "output_type": "display_data"
    },
    {
     "name": "stdout",
     "output_type": "stream",
     "text": [
      "Timepoint ID 57 saved out\n"
     ]
    },
    {
     "data": {
      "application/vnd.jupyter.widget-view+json": {
       "model_id": "90e17bd495d346bdad17eb4c8804dca1",
       "version_major": 2,
       "version_minor": 0
      },
      "text/plain": [
       "Processing Channels (T=58):   0%|          | 0/3 [00:00<?, ?it/s]"
      ]
     },
     "metadata": {},
     "output_type": "display_data"
    },
    {
     "name": "stdout",
     "output_type": "stream",
     "text": [
      "Timepoint ID 58 saved out\n"
     ]
    },
    {
     "data": {
      "application/vnd.jupyter.widget-view+json": {
       "model_id": "3aa18f42b4654fe6a3dcc30c1a2a9655",
       "version_major": 2,
       "version_minor": 0
      },
      "text/plain": [
       "Processing Channels (T=59):   0%|          | 0/3 [00:00<?, ?it/s]"
      ]
     },
     "metadata": {},
     "output_type": "display_data"
    },
    {
     "name": "stdout",
     "output_type": "stream",
     "text": [
      "Timepoint ID 59 saved out\n"
     ]
    },
    {
     "data": {
      "application/vnd.jupyter.widget-view+json": {
       "model_id": "c6dc330d924c4109adcb94a843836cb7",
       "version_major": 2,
       "version_minor": 0
      },
      "text/plain": [
       "Processing Channels (T=60):   0%|          | 0/3 [00:00<?, ?it/s]"
      ]
     },
     "metadata": {},
     "output_type": "display_data"
    },
    {
     "name": "stdout",
     "output_type": "stream",
     "text": [
      "Timepoint ID 60 saved out\n"
     ]
    },
    {
     "data": {
      "application/vnd.jupyter.widget-view+json": {
       "model_id": "65e86debe3b74c90820e24315426ab21",
       "version_major": 2,
       "version_minor": 0
      },
      "text/plain": [
       "Processing Channels (T=61):   0%|          | 0/3 [00:00<?, ?it/s]"
      ]
     },
     "metadata": {},
     "output_type": "display_data"
    },
    {
     "name": "stdout",
     "output_type": "stream",
     "text": [
      "Timepoint ID 61 saved out\n"
     ]
    },
    {
     "data": {
      "application/vnd.jupyter.widget-view+json": {
       "model_id": "0e56c72798a64316a8c39f5b60e73859",
       "version_major": 2,
       "version_minor": 0
      },
      "text/plain": [
       "Processing Channels (T=62):   0%|          | 0/3 [00:00<?, ?it/s]"
      ]
     },
     "metadata": {},
     "output_type": "display_data"
    },
    {
     "name": "stdout",
     "output_type": "stream",
     "text": [
      "Timepoint ID 62 saved out\n"
     ]
    },
    {
     "data": {
      "application/vnd.jupyter.widget-view+json": {
       "model_id": "bc2e0b823ac848a6ac9e4ee9a20fe6cb",
       "version_major": 2,
       "version_minor": 0
      },
      "text/plain": [
       "Processing Channels (T=63):   0%|          | 0/3 [00:00<?, ?it/s]"
      ]
     },
     "metadata": {},
     "output_type": "display_data"
    },
    {
     "name": "stdout",
     "output_type": "stream",
     "text": [
      "Timepoint ID 63 saved out\n"
     ]
    },
    {
     "data": {
      "application/vnd.jupyter.widget-view+json": {
       "model_id": "332cd38f8103437082ef43a5668b4ea3",
       "version_major": 2,
       "version_minor": 0
      },
      "text/plain": [
       "Processing Channels (T=64):   0%|          | 0/3 [00:00<?, ?it/s]"
      ]
     },
     "metadata": {},
     "output_type": "display_data"
    },
    {
     "name": "stdout",
     "output_type": "stream",
     "text": [
      "Timepoint ID 64 saved out\n"
     ]
    },
    {
     "data": {
      "application/vnd.jupyter.widget-view+json": {
       "model_id": "789fae3d863e474d9d2d1405bf5c1f68",
       "version_major": 2,
       "version_minor": 0
      },
      "text/plain": [
       "Processing Channels (T=65):   0%|          | 0/3 [00:00<?, ?it/s]"
      ]
     },
     "metadata": {},
     "output_type": "display_data"
    },
    {
     "name": "stdout",
     "output_type": "stream",
     "text": [
      "Timepoint ID 65 saved out\n"
     ]
    },
    {
     "data": {
      "application/vnd.jupyter.widget-view+json": {
       "model_id": "2aad81fd358a4b349ac6f26d56223de9",
       "version_major": 2,
       "version_minor": 0
      },
      "text/plain": [
       "Processing Channels (T=66):   0%|          | 0/3 [00:00<?, ?it/s]"
      ]
     },
     "metadata": {},
     "output_type": "display_data"
    },
    {
     "name": "stdout",
     "output_type": "stream",
     "text": [
      "Timepoint ID 66 saved out\n"
     ]
    },
    {
     "data": {
      "application/vnd.jupyter.widget-view+json": {
       "model_id": "13057472b9ae4437b9aa9de117e3f4d2",
       "version_major": 2,
       "version_minor": 0
      },
      "text/plain": [
       "Processing Channels (T=67):   0%|          | 0/3 [00:00<?, ?it/s]"
      ]
     },
     "metadata": {},
     "output_type": "display_data"
    },
    {
     "name": "stdout",
     "output_type": "stream",
     "text": [
      "Timepoint ID 67 saved out\n"
     ]
    },
    {
     "data": {
      "application/vnd.jupyter.widget-view+json": {
       "model_id": "82c87497e6424d2c9ae565bd587b5c75",
       "version_major": 2,
       "version_minor": 0
      },
      "text/plain": [
       "Processing Channels (T=68):   0%|          | 0/3 [00:00<?, ?it/s]"
      ]
     },
     "metadata": {},
     "output_type": "display_data"
    },
    {
     "name": "stdout",
     "output_type": "stream",
     "text": [
      "Timepoint ID 68 saved out\n"
     ]
    },
    {
     "data": {
      "application/vnd.jupyter.widget-view+json": {
       "model_id": "d184a14bb29e4feca8e84130512cdd38",
       "version_major": 2,
       "version_minor": 0
      },
      "text/plain": [
       "Processing Channels (T=69):   0%|          | 0/3 [00:00<?, ?it/s]"
      ]
     },
     "metadata": {},
     "output_type": "display_data"
    },
    {
     "name": "stdout",
     "output_type": "stream",
     "text": [
      "Timepoint ID 69 saved out\n"
     ]
    },
    {
     "data": {
      "application/vnd.jupyter.widget-view+json": {
       "model_id": "e82067c3bb814886b28d4b20ec120a31",
       "version_major": 2,
       "version_minor": 0
      },
      "text/plain": [
       "Processing Channels (T=70):   0%|          | 0/3 [00:00<?, ?it/s]"
      ]
     },
     "metadata": {},
     "output_type": "display_data"
    },
    {
     "name": "stdout",
     "output_type": "stream",
     "text": [
      "Timepoint ID 70 saved out\n"
     ]
    },
    {
     "data": {
      "application/vnd.jupyter.widget-view+json": {
       "model_id": "4c9bf6f7d1e641a19df8c527dcab3be2",
       "version_major": 2,
       "version_minor": 0
      },
      "text/plain": [
       "Processing Channels (T=71):   0%|          | 0/3 [00:00<?, ?it/s]"
      ]
     },
     "metadata": {},
     "output_type": "display_data"
    },
    {
     "name": "stdout",
     "output_type": "stream",
     "text": [
      "Timepoint ID 71 saved out\n"
     ]
    },
    {
     "data": {
      "application/vnd.jupyter.widget-view+json": {
       "model_id": "068df7bac9d7448f8a9e91476ee47361",
       "version_major": 2,
       "version_minor": 0
      },
      "text/plain": [
       "Processing Channels (T=72):   0%|          | 0/3 [00:00<?, ?it/s]"
      ]
     },
     "metadata": {},
     "output_type": "display_data"
    },
    {
     "name": "stdout",
     "output_type": "stream",
     "text": [
      "Timepoint ID 72 saved out\n"
     ]
    },
    {
     "data": {
      "application/vnd.jupyter.widget-view+json": {
       "model_id": "35655111858d4e0995b030d65c2b5b17",
       "version_major": 2,
       "version_minor": 0
      },
      "text/plain": [
       "Processing Channels (T=73):   0%|          | 0/3 [00:00<?, ?it/s]"
      ]
     },
     "metadata": {},
     "output_type": "display_data"
    },
    {
     "name": "stdout",
     "output_type": "stream",
     "text": [
      "Timepoint ID 73 saved out\n"
     ]
    },
    {
     "data": {
      "application/vnd.jupyter.widget-view+json": {
       "model_id": "99aa7db6905d443d8954af9826e0c624",
       "version_major": 2,
       "version_minor": 0
      },
      "text/plain": [
       "Processing Channels (T=74):   0%|          | 0/3 [00:00<?, ?it/s]"
      ]
     },
     "metadata": {},
     "output_type": "display_data"
    },
    {
     "name": "stdout",
     "output_type": "stream",
     "text": [
      "Timepoint ID 74 saved out\n"
     ]
    },
    {
     "data": {
      "application/vnd.jupyter.widget-view+json": {
       "model_id": "820b47089ee34b5d9193a4a7f7a47ebd",
       "version_major": 2,
       "version_minor": 0
      },
      "text/plain": [
       "Processing Channels (T=75):   0%|          | 0/3 [00:00<?, ?it/s]"
      ]
     },
     "metadata": {},
     "output_type": "display_data"
    },
    {
     "name": "stdout",
     "output_type": "stream",
     "text": [
      "Timepoint ID 75 saved out\n"
     ]
    },
    {
     "data": {
      "application/vnd.jupyter.widget-view+json": {
       "model_id": "7c9f296bedb7481f8073299030d78bd8",
       "version_major": 2,
       "version_minor": 0
      },
      "text/plain": [
       "Processing Channels (T=76):   0%|          | 0/3 [00:00<?, ?it/s]"
      ]
     },
     "metadata": {},
     "output_type": "display_data"
    },
    {
     "name": "stdout",
     "output_type": "stream",
     "text": [
      "Timepoint ID 76 saved out\n"
     ]
    },
    {
     "data": {
      "application/vnd.jupyter.widget-view+json": {
       "model_id": "b27b0060b77c4c299ff1fede0081c0be",
       "version_major": 2,
       "version_minor": 0
      },
      "text/plain": [
       "Processing Channels (T=77):   0%|          | 0/3 [00:00<?, ?it/s]"
      ]
     },
     "metadata": {},
     "output_type": "display_data"
    },
    {
     "name": "stdout",
     "output_type": "stream",
     "text": [
      "Timepoint ID 77 saved out\n"
     ]
    },
    {
     "data": {
      "application/vnd.jupyter.widget-view+json": {
       "model_id": "876ee1a943a841d09bbfda02d7bc99e3",
       "version_major": 2,
       "version_minor": 0
      },
      "text/plain": [
       "Processing Channels (T=78):   0%|          | 0/3 [00:00<?, ?it/s]"
      ]
     },
     "metadata": {},
     "output_type": "display_data"
    },
    {
     "name": "stdout",
     "output_type": "stream",
     "text": [
      "Timepoint ID 78 saved out\n"
     ]
    },
    {
     "data": {
      "application/vnd.jupyter.widget-view+json": {
       "model_id": "9c4d3ad91b0443d19feb66e6b831be2a",
       "version_major": 2,
       "version_minor": 0
      },
      "text/plain": [
       "Processing Channels (T=79):   0%|          | 0/3 [00:00<?, ?it/s]"
      ]
     },
     "metadata": {},
     "output_type": "display_data"
    },
    {
     "name": "stdout",
     "output_type": "stream",
     "text": [
      "Timepoint ID 79 saved out\n"
     ]
    },
    {
     "data": {
      "application/vnd.jupyter.widget-view+json": {
       "model_id": "98394dd588ae4cf583cda82c70a8cf2a",
       "version_major": 2,
       "version_minor": 0
      },
      "text/plain": [
       "Processing Channels (T=80):   0%|          | 0/3 [00:00<?, ?it/s]"
      ]
     },
     "metadata": {},
     "output_type": "display_data"
    },
    {
     "name": "stdout",
     "output_type": "stream",
     "text": [
      "Timepoint ID 80 saved out\n"
     ]
    },
    {
     "data": {
      "application/vnd.jupyter.widget-view+json": {
       "model_id": "7cf9c90c15ab4755897699857e6d553c",
       "version_major": 2,
       "version_minor": 0
      },
      "text/plain": [
       "Processing Channels (T=81):   0%|          | 0/3 [00:00<?, ?it/s]"
      ]
     },
     "metadata": {},
     "output_type": "display_data"
    },
    {
     "name": "stdout",
     "output_type": "stream",
     "text": [
      "Timepoint ID 81 saved out\n"
     ]
    },
    {
     "data": {
      "application/vnd.jupyter.widget-view+json": {
       "model_id": "6eaa085c221e46a88b73a03ffe5c5342",
       "version_major": 2,
       "version_minor": 0
      },
      "text/plain": [
       "Processing Channels (T=82):   0%|          | 0/3 [00:00<?, ?it/s]"
      ]
     },
     "metadata": {},
     "output_type": "display_data"
    },
    {
     "name": "stdout",
     "output_type": "stream",
     "text": [
      "Timepoint ID 82 saved out\n"
     ]
    },
    {
     "data": {
      "application/vnd.jupyter.widget-view+json": {
       "model_id": "900d079d85334e6497a2eb42b540d404",
       "version_major": 2,
       "version_minor": 0
      },
      "text/plain": [
       "Processing Channels (T=83):   0%|          | 0/3 [00:00<?, ?it/s]"
      ]
     },
     "metadata": {},
     "output_type": "display_data"
    },
    {
     "name": "stdout",
     "output_type": "stream",
     "text": [
      "Timepoint ID 83 saved out\n"
     ]
    },
    {
     "data": {
      "application/vnd.jupyter.widget-view+json": {
       "model_id": "1aeffe73731f48849ce89d790c78423f",
       "version_major": 2,
       "version_minor": 0
      },
      "text/plain": [
       "Processing Channels (T=84):   0%|          | 0/3 [00:00<?, ?it/s]"
      ]
     },
     "metadata": {},
     "output_type": "display_data"
    },
    {
     "name": "stdout",
     "output_type": "stream",
     "text": [
      "Timepoint ID 84 saved out\n"
     ]
    },
    {
     "data": {
      "application/vnd.jupyter.widget-view+json": {
       "model_id": "887a9812c36f42f1842604a030390a1f",
       "version_major": 2,
       "version_minor": 0
      },
      "text/plain": [
       "Processing Channels (T=85):   0%|          | 0/3 [00:00<?, ?it/s]"
      ]
     },
     "metadata": {},
     "output_type": "display_data"
    },
    {
     "name": "stdout",
     "output_type": "stream",
     "text": [
      "Timepoint ID 85 saved out\n"
     ]
    },
    {
     "data": {
      "application/vnd.jupyter.widget-view+json": {
       "model_id": "b2e22146d44f432a84732e1a6c8599b5",
       "version_major": 2,
       "version_minor": 0
      },
      "text/plain": [
       "Processing Channels (T=86):   0%|          | 0/3 [00:00<?, ?it/s]"
      ]
     },
     "metadata": {},
     "output_type": "display_data"
    },
    {
     "name": "stdout",
     "output_type": "stream",
     "text": [
      "Timepoint ID 86 saved out\n"
     ]
    },
    {
     "data": {
      "application/vnd.jupyter.widget-view+json": {
       "model_id": "cceae27d1a104ac6beaa919e75c986a2",
       "version_major": 2,
       "version_minor": 0
      },
      "text/plain": [
       "Processing Channels (T=87):   0%|          | 0/3 [00:00<?, ?it/s]"
      ]
     },
     "metadata": {},
     "output_type": "display_data"
    },
    {
     "name": "stdout",
     "output_type": "stream",
     "text": [
      "Timepoint ID 87 saved out\n"
     ]
    },
    {
     "data": {
      "application/vnd.jupyter.widget-view+json": {
       "model_id": "81e7485731564786af2074fcb0ab2af2",
       "version_major": 2,
       "version_minor": 0
      },
      "text/plain": [
       "Processing Channels (T=88):   0%|          | 0/3 [00:00<?, ?it/s]"
      ]
     },
     "metadata": {},
     "output_type": "display_data"
    },
    {
     "name": "stdout",
     "output_type": "stream",
     "text": [
      "Timepoint ID 88 saved out\n"
     ]
    },
    {
     "data": {
      "application/vnd.jupyter.widget-view+json": {
       "model_id": "40b8f2aaad50442784825945cd45cc13",
       "version_major": 2,
       "version_minor": 0
      },
      "text/plain": [
       "Processing Channels (T=89):   0%|          | 0/3 [00:00<?, ?it/s]"
      ]
     },
     "metadata": {},
     "output_type": "display_data"
    },
    {
     "name": "stdout",
     "output_type": "stream",
     "text": [
      "Timepoint ID 89 saved out\n"
     ]
    },
    {
     "data": {
      "application/vnd.jupyter.widget-view+json": {
       "model_id": "da84840f5eef456885eddacae357b438",
       "version_major": 2,
       "version_minor": 0
      },
      "text/plain": [
       "Processing Channels (T=90):   0%|          | 0/3 [00:00<?, ?it/s]"
      ]
     },
     "metadata": {},
     "output_type": "display_data"
    },
    {
     "name": "stdout",
     "output_type": "stream",
     "text": [
      "Timepoint ID 90 saved out\n"
     ]
    },
    {
     "data": {
      "application/vnd.jupyter.widget-view+json": {
       "model_id": "3babafa6b73e4a3daee34ba92eb29c9d",
       "version_major": 2,
       "version_minor": 0
      },
      "text/plain": [
       "Processing Channels (T=91):   0%|          | 0/3 [00:00<?, ?it/s]"
      ]
     },
     "metadata": {},
     "output_type": "display_data"
    },
    {
     "name": "stdout",
     "output_type": "stream",
     "text": [
      "Timepoint ID 91 saved out\n"
     ]
    },
    {
     "data": {
      "application/vnd.jupyter.widget-view+json": {
       "model_id": "2fe78340ff8e4099b0dacf473d72862c",
       "version_major": 2,
       "version_minor": 0
      },
      "text/plain": [
       "Processing Channels (T=92):   0%|          | 0/3 [00:00<?, ?it/s]"
      ]
     },
     "metadata": {},
     "output_type": "display_data"
    },
    {
     "name": "stdout",
     "output_type": "stream",
     "text": [
      "Timepoint ID 92 saved out\n"
     ]
    },
    {
     "data": {
      "application/vnd.jupyter.widget-view+json": {
       "model_id": "5b03dbf8a3a34d839895d38af6fbc257",
       "version_major": 2,
       "version_minor": 0
      },
      "text/plain": [
       "Processing Channels (T=93):   0%|          | 0/3 [00:00<?, ?it/s]"
      ]
     },
     "metadata": {},
     "output_type": "display_data"
    },
    {
     "name": "stdout",
     "output_type": "stream",
     "text": [
      "Timepoint ID 93 saved out\n"
     ]
    },
    {
     "data": {
      "application/vnd.jupyter.widget-view+json": {
       "model_id": "dd6496be113e4676a9f790b472c06c1d",
       "version_major": 2,
       "version_minor": 0
      },
      "text/plain": [
       "Processing Channels (T=94):   0%|          | 0/3 [00:00<?, ?it/s]"
      ]
     },
     "metadata": {},
     "output_type": "display_data"
    },
    {
     "name": "stdout",
     "output_type": "stream",
     "text": [
      "Timepoint ID 94 saved out\n"
     ]
    },
    {
     "data": {
      "application/vnd.jupyter.widget-view+json": {
       "model_id": "e7d946b0c0ec43b5bdcb4c40a211fcf6",
       "version_major": 2,
       "version_minor": 0
      },
      "text/plain": [
       "Processing Channels (T=95):   0%|          | 0/3 [00:00<?, ?it/s]"
      ]
     },
     "metadata": {},
     "output_type": "display_data"
    },
    {
     "name": "stdout",
     "output_type": "stream",
     "text": [
      "Timepoint ID 95 saved out\n"
     ]
    },
    {
     "data": {
      "application/vnd.jupyter.widget-view+json": {
       "model_id": "b71257591ffd46d8bb6d9f245b8eca63",
       "version_major": 2,
       "version_minor": 0
      },
      "text/plain": [
       "Processing Channels (T=96):   0%|          | 0/3 [00:00<?, ?it/s]"
      ]
     },
     "metadata": {},
     "output_type": "display_data"
    },
    {
     "name": "stdout",
     "output_type": "stream",
     "text": [
      "Timepoint ID 96 saved out\n"
     ]
    },
    {
     "data": {
      "application/vnd.jupyter.widget-view+json": {
       "model_id": "63471a2501e940dc8d03c56a395d020c",
       "version_major": 2,
       "version_minor": 0
      },
      "text/plain": [
       "Processing Channels (T=97):   0%|          | 0/3 [00:00<?, ?it/s]"
      ]
     },
     "metadata": {},
     "output_type": "display_data"
    },
    {
     "name": "stdout",
     "output_type": "stream",
     "text": [
      "Timepoint ID 97 saved out\n"
     ]
    },
    {
     "data": {
      "application/vnd.jupyter.widget-view+json": {
       "model_id": "890ce67ada114c7697f166a89acb4a40",
       "version_major": 2,
       "version_minor": 0
      },
      "text/plain": [
       "Processing Channels (T=98):   0%|          | 0/3 [00:00<?, ?it/s]"
      ]
     },
     "metadata": {},
     "output_type": "display_data"
    },
    {
     "name": "stdout",
     "output_type": "stream",
     "text": [
      "Timepoint ID 98 saved out\n"
     ]
    },
    {
     "data": {
      "application/vnd.jupyter.widget-view+json": {
       "model_id": "07ac25445ed2428abf9f85537538680a",
       "version_major": 2,
       "version_minor": 0
      },
      "text/plain": [
       "Processing Channels (T=99):   0%|          | 0/3 [00:00<?, ?it/s]"
      ]
     },
     "metadata": {},
     "output_type": "display_data"
    },
    {
     "name": "stdout",
     "output_type": "stream",
     "text": [
      "Timepoint ID 99 saved out\n"
     ]
    },
    {
     "data": {
      "application/vnd.jupyter.widget-view+json": {
       "model_id": "8dca56f50a1a4cd69035c121f187202d",
       "version_major": 2,
       "version_minor": 0
      },
      "text/plain": [
       "Processing Channels (T=100):   0%|          | 0/3 [00:00<?, ?it/s]"
      ]
     },
     "metadata": {},
     "output_type": "display_data"
    },
    {
     "name": "stdout",
     "output_type": "stream",
     "text": [
      "Timepoint ID 100 saved out\n"
     ]
    },
    {
     "data": {
      "application/vnd.jupyter.widget-view+json": {
       "model_id": "9b0198744fbe4b0ea62ff5506f17ea22",
       "version_major": 2,
       "version_minor": 0
      },
      "text/plain": [
       "Processing Channels (T=101):   0%|          | 0/3 [00:00<?, ?it/s]"
      ]
     },
     "metadata": {},
     "output_type": "display_data"
    },
    {
     "name": "stdout",
     "output_type": "stream",
     "text": [
      "Timepoint ID 101 saved out\n"
     ]
    },
    {
     "data": {
      "application/vnd.jupyter.widget-view+json": {
       "model_id": "82b1136d7e3f4efbb74dfed7ee299ed2",
       "version_major": 2,
       "version_minor": 0
      },
      "text/plain": [
       "Processing Channels (T=102):   0%|          | 0/3 [00:00<?, ?it/s]"
      ]
     },
     "metadata": {},
     "output_type": "display_data"
    },
    {
     "name": "stdout",
     "output_type": "stream",
     "text": [
      "Timepoint ID 102 saved out\n"
     ]
    },
    {
     "data": {
      "application/vnd.jupyter.widget-view+json": {
       "model_id": "2b20cb0f01ca41f8bd44e83cc34d11bb",
       "version_major": 2,
       "version_minor": 0
      },
      "text/plain": [
       "Processing Channels (T=103):   0%|          | 0/3 [00:00<?, ?it/s]"
      ]
     },
     "metadata": {},
     "output_type": "display_data"
    },
    {
     "name": "stdout",
     "output_type": "stream",
     "text": [
      "Timepoint ID 103 saved out\n"
     ]
    },
    {
     "data": {
      "application/vnd.jupyter.widget-view+json": {
       "model_id": "9560f8989fea49a2b7588cd6ee96d5be",
       "version_major": 2,
       "version_minor": 0
      },
      "text/plain": [
       "Processing Channels (T=104):   0%|          | 0/3 [00:00<?, ?it/s]"
      ]
     },
     "metadata": {},
     "output_type": "display_data"
    },
    {
     "name": "stdout",
     "output_type": "stream",
     "text": [
      "Timepoint ID 104 saved out\n"
     ]
    },
    {
     "data": {
      "application/vnd.jupyter.widget-view+json": {
       "model_id": "92f6c9da59124c468a21ea5fd934216a",
       "version_major": 2,
       "version_minor": 0
      },
      "text/plain": [
       "Processing Channels (T=105):   0%|          | 0/3 [00:00<?, ?it/s]"
      ]
     },
     "metadata": {},
     "output_type": "display_data"
    },
    {
     "name": "stdout",
     "output_type": "stream",
     "text": [
      "Timepoint ID 105 saved out\n"
     ]
    },
    {
     "data": {
      "application/vnd.jupyter.widget-view+json": {
       "model_id": "96811f9e996a4514bd2be3d17efb8f27",
       "version_major": 2,
       "version_minor": 0
      },
      "text/plain": [
       "Processing Channels (T=106):   0%|          | 0/3 [00:00<?, ?it/s]"
      ]
     },
     "metadata": {},
     "output_type": "display_data"
    },
    {
     "name": "stdout",
     "output_type": "stream",
     "text": [
      "Timepoint ID 106 saved out\n"
     ]
    },
    {
     "data": {
      "application/vnd.jupyter.widget-view+json": {
       "model_id": "d250d6d0123e460dbcbbee6ce08d036d",
       "version_major": 2,
       "version_minor": 0
      },
      "text/plain": [
       "Processing Channels (T=107):   0%|          | 0/3 [00:00<?, ?it/s]"
      ]
     },
     "metadata": {},
     "output_type": "display_data"
    },
    {
     "name": "stdout",
     "output_type": "stream",
     "text": [
      "Timepoint ID 107 saved out\n"
     ]
    },
    {
     "data": {
      "application/vnd.jupyter.widget-view+json": {
       "model_id": "8a6d52ecfdbb488da7bee42d44c7ca28",
       "version_major": 2,
       "version_minor": 0
      },
      "text/plain": [
       "Processing Channels (T=108):   0%|          | 0/3 [00:00<?, ?it/s]"
      ]
     },
     "metadata": {},
     "output_type": "display_data"
    },
    {
     "name": "stdout",
     "output_type": "stream",
     "text": [
      "Timepoint ID 108 saved out\n"
     ]
    },
    {
     "data": {
      "application/vnd.jupyter.widget-view+json": {
       "model_id": "3de932b8428440a99aaa89a24a3ba1cf",
       "version_major": 2,
       "version_minor": 0
      },
      "text/plain": [
       "Processing Channels (T=109):   0%|          | 0/3 [00:00<?, ?it/s]"
      ]
     },
     "metadata": {},
     "output_type": "display_data"
    },
    {
     "name": "stdout",
     "output_type": "stream",
     "text": [
      "Timepoint ID 109 saved out\n"
     ]
    },
    {
     "data": {
      "application/vnd.jupyter.widget-view+json": {
       "model_id": "d222d109cd604f37b0c1a00d5a6a912a",
       "version_major": 2,
       "version_minor": 0
      },
      "text/plain": [
       "Processing Channels (T=110):   0%|          | 0/3 [00:00<?, ?it/s]"
      ]
     },
     "metadata": {},
     "output_type": "display_data"
    },
    {
     "name": "stdout",
     "output_type": "stream",
     "text": [
      "Timepoint ID 110 saved out\n"
     ]
    },
    {
     "data": {
      "application/vnd.jupyter.widget-view+json": {
       "model_id": "a479085ef1e94a668c7941c9904755e9",
       "version_major": 2,
       "version_minor": 0
      },
      "text/plain": [
       "Processing Channels (T=111):   0%|          | 0/3 [00:00<?, ?it/s]"
      ]
     },
     "metadata": {},
     "output_type": "display_data"
    },
    {
     "name": "stdout",
     "output_type": "stream",
     "text": [
      "Timepoint ID 111 saved out\n"
     ]
    },
    {
     "data": {
      "application/vnd.jupyter.widget-view+json": {
       "model_id": "f84ef912f79f44489db9901a8956b912",
       "version_major": 2,
       "version_minor": 0
      },
      "text/plain": [
       "Processing Channels (T=112):   0%|          | 0/3 [00:00<?, ?it/s]"
      ]
     },
     "metadata": {},
     "output_type": "display_data"
    },
    {
     "name": "stdout",
     "output_type": "stream",
     "text": [
      "Timepoint ID 112 saved out\n"
     ]
    },
    {
     "data": {
      "application/vnd.jupyter.widget-view+json": {
       "model_id": "95995c1652834ac79fbb927ce5678a0d",
       "version_major": 2,
       "version_minor": 0
      },
      "text/plain": [
       "Processing Channels (T=113):   0%|          | 0/3 [00:00<?, ?it/s]"
      ]
     },
     "metadata": {},
     "output_type": "display_data"
    },
    {
     "name": "stdout",
     "output_type": "stream",
     "text": [
      "Timepoint ID 113 saved out\n"
     ]
    },
    {
     "data": {
      "application/vnd.jupyter.widget-view+json": {
       "model_id": "146b7aba40494ac2a7ce1da4dc47504b",
       "version_major": 2,
       "version_minor": 0
      },
      "text/plain": [
       "Processing Channels (T=114):   0%|          | 0/3 [00:00<?, ?it/s]"
      ]
     },
     "metadata": {},
     "output_type": "display_data"
    },
    {
     "name": "stdout",
     "output_type": "stream",
     "text": [
      "Timepoint ID 114 saved out\n"
     ]
    },
    {
     "data": {
      "application/vnd.jupyter.widget-view+json": {
       "model_id": "0a3927e00e3f4c64b0a9f9e0baccba1c",
       "version_major": 2,
       "version_minor": 0
      },
      "text/plain": [
       "Processing Channels (T=115):   0%|          | 0/3 [00:00<?, ?it/s]"
      ]
     },
     "metadata": {},
     "output_type": "display_data"
    },
    {
     "name": "stdout",
     "output_type": "stream",
     "text": [
      "Timepoint ID 115 saved out\n"
     ]
    },
    {
     "data": {
      "application/vnd.jupyter.widget-view+json": {
       "model_id": "30c01a7f25434ed19c61997d2b4d4d4f",
       "version_major": 2,
       "version_minor": 0
      },
      "text/plain": [
       "Processing Channels (T=116):   0%|          | 0/3 [00:00<?, ?it/s]"
      ]
     },
     "metadata": {},
     "output_type": "display_data"
    },
    {
     "name": "stdout",
     "output_type": "stream",
     "text": [
      "Timepoint ID 116 saved out\n"
     ]
    },
    {
     "data": {
      "application/vnd.jupyter.widget-view+json": {
       "model_id": "3e49129f24904afa8201347b49d57fa0",
       "version_major": 2,
       "version_minor": 0
      },
      "text/plain": [
       "Processing Channels (T=117):   0%|          | 0/3 [00:00<?, ?it/s]"
      ]
     },
     "metadata": {},
     "output_type": "display_data"
    },
    {
     "name": "stdout",
     "output_type": "stream",
     "text": [
      "Timepoint ID 117 saved out\n"
     ]
    },
    {
     "data": {
      "application/vnd.jupyter.widget-view+json": {
       "model_id": "7a24dcf6b25540a3a997a7e3a3223298",
       "version_major": 2,
       "version_minor": 0
      },
      "text/plain": [
       "Processing Channels (T=118):   0%|          | 0/3 [00:00<?, ?it/s]"
      ]
     },
     "metadata": {},
     "output_type": "display_data"
    },
    {
     "name": "stdout",
     "output_type": "stream",
     "text": [
      "Timepoint ID 118 saved out\n"
     ]
    },
    {
     "data": {
      "application/vnd.jupyter.widget-view+json": {
       "model_id": "1d895d0978044cdb96f74ac9c266a474",
       "version_major": 2,
       "version_minor": 0
      },
      "text/plain": [
       "Processing Channels (T=119):   0%|          | 0/3 [00:00<?, ?it/s]"
      ]
     },
     "metadata": {},
     "output_type": "display_data"
    },
    {
     "name": "stdout",
     "output_type": "stream",
     "text": [
      "Timepoint ID 119 saved out\n"
     ]
    },
    {
     "data": {
      "application/vnd.jupyter.widget-view+json": {
       "model_id": "3faffa94583f4bf28b77ac6d890c4fc5",
       "version_major": 2,
       "version_minor": 0
      },
      "text/plain": [
       "Processing Channels (T=120):   0%|          | 0/3 [00:00<?, ?it/s]"
      ]
     },
     "metadata": {},
     "output_type": "display_data"
    },
    {
     "name": "stdout",
     "output_type": "stream",
     "text": [
      "Timepoint ID 120 saved out\n"
     ]
    },
    {
     "data": {
      "application/vnd.jupyter.widget-view+json": {
       "model_id": "74da3a8f38d34b40969ef51a0a4822a3",
       "version_major": 2,
       "version_minor": 0
      },
      "text/plain": [
       "Processing Channels (T=121):   0%|          | 0/3 [00:00<?, ?it/s]"
      ]
     },
     "metadata": {},
     "output_type": "display_data"
    },
    {
     "name": "stdout",
     "output_type": "stream",
     "text": [
      "Timepoint ID 121 saved out\n"
     ]
    },
    {
     "data": {
      "application/vnd.jupyter.widget-view+json": {
       "model_id": "e9f19dbd56aa4da58a2cfcdc9b6205ca",
       "version_major": 2,
       "version_minor": 0
      },
      "text/plain": [
       "Processing Channels (T=122):   0%|          | 0/3 [00:00<?, ?it/s]"
      ]
     },
     "metadata": {},
     "output_type": "display_data"
    },
    {
     "name": "stdout",
     "output_type": "stream",
     "text": [
      "Timepoint ID 122 saved out\n"
     ]
    },
    {
     "data": {
      "application/vnd.jupyter.widget-view+json": {
       "model_id": "445888f7d59542e89fc23c761f6428f7",
       "version_major": 2,
       "version_minor": 0
      },
      "text/plain": [
       "Processing Channels (T=123):   0%|          | 0/3 [00:00<?, ?it/s]"
      ]
     },
     "metadata": {},
     "output_type": "display_data"
    },
    {
     "name": "stdout",
     "output_type": "stream",
     "text": [
      "Timepoint ID 123 saved out\n"
     ]
    },
    {
     "data": {
      "application/vnd.jupyter.widget-view+json": {
       "model_id": "373946e6daa84b839b1f6c7be5ae6420",
       "version_major": 2,
       "version_minor": 0
      },
      "text/plain": [
       "Processing Channels (T=124):   0%|          | 0/3 [00:00<?, ?it/s]"
      ]
     },
     "metadata": {},
     "output_type": "display_data"
    },
    {
     "name": "stdout",
     "output_type": "stream",
     "text": [
      "Timepoint ID 124 saved out\n"
     ]
    },
    {
     "data": {
      "application/vnd.jupyter.widget-view+json": {
       "model_id": "4bf8552842674661ab22cd5b83aea087",
       "version_major": 2,
       "version_minor": 0
      },
      "text/plain": [
       "Processing Channels (T=125):   0%|          | 0/3 [00:00<?, ?it/s]"
      ]
     },
     "metadata": {},
     "output_type": "display_data"
    },
    {
     "name": "stdout",
     "output_type": "stream",
     "text": [
      "Timepoint ID 125 saved out\n"
     ]
    },
    {
     "data": {
      "application/vnd.jupyter.widget-view+json": {
       "model_id": "21903aa431724392b3161789e4a37abb",
       "version_major": 2,
       "version_minor": 0
      },
      "text/plain": [
       "Processing Channels (T=126):   0%|          | 0/3 [00:00<?, ?it/s]"
      ]
     },
     "metadata": {},
     "output_type": "display_data"
    },
    {
     "name": "stdout",
     "output_type": "stream",
     "text": [
      "Timepoint ID 126 saved out\n"
     ]
    },
    {
     "data": {
      "application/vnd.jupyter.widget-view+json": {
       "model_id": "5e6f30f3d4da43c2b83baefa6c223604",
       "version_major": 2,
       "version_minor": 0
      },
      "text/plain": [
       "Processing Channels (T=127):   0%|          | 0/3 [00:00<?, ?it/s]"
      ]
     },
     "metadata": {},
     "output_type": "display_data"
    },
    {
     "name": "stdout",
     "output_type": "stream",
     "text": [
      "Timepoint ID 127 saved out\n"
     ]
    },
    {
     "data": {
      "application/vnd.jupyter.widget-view+json": {
       "model_id": "b6fb8415f314440e9e4a22c783dc84f6",
       "version_major": 2,
       "version_minor": 0
      },
      "text/plain": [
       "Processing Channels (T=128):   0%|          | 0/3 [00:00<?, ?it/s]"
      ]
     },
     "metadata": {},
     "output_type": "display_data"
    },
    {
     "name": "stdout",
     "output_type": "stream",
     "text": [
      "Timepoint ID 128 saved out\n"
     ]
    },
    {
     "data": {
      "application/vnd.jupyter.widget-view+json": {
       "model_id": "1acd408ec0574f44a7c3fffc0ec201a6",
       "version_major": 2,
       "version_minor": 0
      },
      "text/plain": [
       "Processing Channels (T=129):   0%|          | 0/3 [00:00<?, ?it/s]"
      ]
     },
     "metadata": {},
     "output_type": "display_data"
    },
    {
     "name": "stdout",
     "output_type": "stream",
     "text": [
      "Timepoint ID 129 saved out\n"
     ]
    },
    {
     "data": {
      "application/vnd.jupyter.widget-view+json": {
       "model_id": "2b533a53cb814eaeb00c3c91c7175c20",
       "version_major": 2,
       "version_minor": 0
      },
      "text/plain": [
       "Processing Channels (T=130):   0%|          | 0/3 [00:00<?, ?it/s]"
      ]
     },
     "metadata": {},
     "output_type": "display_data"
    },
    {
     "name": "stdout",
     "output_type": "stream",
     "text": [
      "Timepoint ID 130 saved out\n"
     ]
    },
    {
     "data": {
      "application/vnd.jupyter.widget-view+json": {
       "model_id": "3cc9066f59ca401ca43ec9e846b97948",
       "version_major": 2,
       "version_minor": 0
      },
      "text/plain": [
       "Processing Channels (T=131):   0%|          | 0/3 [00:00<?, ?it/s]"
      ]
     },
     "metadata": {},
     "output_type": "display_data"
    },
    {
     "name": "stdout",
     "output_type": "stream",
     "text": [
      "Timepoint ID 131 saved out\n"
     ]
    },
    {
     "data": {
      "application/vnd.jupyter.widget-view+json": {
       "model_id": "1c3803465dab4e118060fc2589edcf85",
       "version_major": 2,
       "version_minor": 0
      },
      "text/plain": [
       "Processing Channels (T=132):   0%|          | 0/3 [00:00<?, ?it/s]"
      ]
     },
     "metadata": {},
     "output_type": "display_data"
    },
    {
     "name": "stdout",
     "output_type": "stream",
     "text": [
      "Timepoint ID 132 saved out\n"
     ]
    },
    {
     "data": {
      "application/vnd.jupyter.widget-view+json": {
       "model_id": "14ec70e481524a6ca164fb769bef1afc",
       "version_major": 2,
       "version_minor": 0
      },
      "text/plain": [
       "Processing Channels (T=133):   0%|          | 0/3 [00:00<?, ?it/s]"
      ]
     },
     "metadata": {},
     "output_type": "display_data"
    },
    {
     "name": "stdout",
     "output_type": "stream",
     "text": [
      "Timepoint ID 133 saved out\n"
     ]
    },
    {
     "data": {
      "application/vnd.jupyter.widget-view+json": {
       "model_id": "6b95505482d84fc182a025342cf51bdc",
       "version_major": 2,
       "version_minor": 0
      },
      "text/plain": [
       "Processing Channels (T=134):   0%|          | 0/3 [00:00<?, ?it/s]"
      ]
     },
     "metadata": {},
     "output_type": "display_data"
    },
    {
     "name": "stdout",
     "output_type": "stream",
     "text": [
      "Timepoint ID 134 saved out\n"
     ]
    },
    {
     "data": {
      "application/vnd.jupyter.widget-view+json": {
       "model_id": "ae5ecdb719f346c39942da44b887b4ef",
       "version_major": 2,
       "version_minor": 0
      },
      "text/plain": [
       "Processing Channels (T=135):   0%|          | 0/3 [00:00<?, ?it/s]"
      ]
     },
     "metadata": {},
     "output_type": "display_data"
    },
    {
     "name": "stdout",
     "output_type": "stream",
     "text": [
      "Timepoint ID 135 saved out\n"
     ]
    },
    {
     "data": {
      "application/vnd.jupyter.widget-view+json": {
       "model_id": "751497722ab5465bae6874afb0abad51",
       "version_major": 2,
       "version_minor": 0
      },
      "text/plain": [
       "Processing Channels (T=136):   0%|          | 0/3 [00:00<?, ?it/s]"
      ]
     },
     "metadata": {},
     "output_type": "display_data"
    },
    {
     "name": "stdout",
     "output_type": "stream",
     "text": [
      "Timepoint ID 136 saved out\n"
     ]
    },
    {
     "data": {
      "application/vnd.jupyter.widget-view+json": {
       "model_id": "9c2e4f4457ee415cae71508e58044e4f",
       "version_major": 2,
       "version_minor": 0
      },
      "text/plain": [
       "Processing Channels (T=137):   0%|          | 0/3 [00:00<?, ?it/s]"
      ]
     },
     "metadata": {},
     "output_type": "display_data"
    },
    {
     "name": "stdout",
     "output_type": "stream",
     "text": [
      "Timepoint ID 137 saved out\n"
     ]
    },
    {
     "data": {
      "application/vnd.jupyter.widget-view+json": {
       "model_id": "68bdd1a483884882bb1e09c291827fe1",
       "version_major": 2,
       "version_minor": 0
      },
      "text/plain": [
       "Processing Channels (T=138):   0%|          | 0/3 [00:00<?, ?it/s]"
      ]
     },
     "metadata": {},
     "output_type": "display_data"
    },
    {
     "name": "stdout",
     "output_type": "stream",
     "text": [
      "Timepoint ID 138 saved out\n"
     ]
    },
    {
     "data": {
      "application/vnd.jupyter.widget-view+json": {
       "model_id": "575e64f0eac647188e237c8e6ced5689",
       "version_major": 2,
       "version_minor": 0
      },
      "text/plain": [
       "Processing Channels (T=139):   0%|          | 0/3 [00:00<?, ?it/s]"
      ]
     },
     "metadata": {},
     "output_type": "display_data"
    },
    {
     "name": "stdout",
     "output_type": "stream",
     "text": [
      "Timepoint ID 139 saved out\n"
     ]
    },
    {
     "data": {
      "application/vnd.jupyter.widget-view+json": {
       "model_id": "614447a417474581a19543c31a0189b5",
       "version_major": 2,
       "version_minor": 0
      },
      "text/plain": [
       "Processing Channels (T=140):   0%|          | 0/3 [00:00<?, ?it/s]"
      ]
     },
     "metadata": {},
     "output_type": "display_data"
    },
    {
     "name": "stdout",
     "output_type": "stream",
     "text": [
      "Timepoint ID 140 saved out\n"
     ]
    },
    {
     "data": {
      "application/vnd.jupyter.widget-view+json": {
       "model_id": "c8a05b5234b2482ba38f2c5b710095b1",
       "version_major": 2,
       "version_minor": 0
      },
      "text/plain": [
       "Processing Channels (T=141):   0%|          | 0/3 [00:00<?, ?it/s]"
      ]
     },
     "metadata": {},
     "output_type": "display_data"
    },
    {
     "name": "stdout",
     "output_type": "stream",
     "text": [
      "Timepoint ID 141 saved out\n"
     ]
    },
    {
     "data": {
      "application/vnd.jupyter.widget-view+json": {
       "model_id": "a5598bb521d84d7e9266cdac83599e13",
       "version_major": 2,
       "version_minor": 0
      },
      "text/plain": [
       "Processing Channels (T=142):   0%|          | 0/3 [00:00<?, ?it/s]"
      ]
     },
     "metadata": {},
     "output_type": "display_data"
    },
    {
     "name": "stdout",
     "output_type": "stream",
     "text": [
      "Timepoint ID 142 saved out\n"
     ]
    },
    {
     "data": {
      "application/vnd.jupyter.widget-view+json": {
       "model_id": "9361058f5f5240eb81cb6dbbb226674d",
       "version_major": 2,
       "version_minor": 0
      },
      "text/plain": [
       "Processing Channels (T=143):   0%|          | 0/3 [00:00<?, ?it/s]"
      ]
     },
     "metadata": {},
     "output_type": "display_data"
    },
    {
     "name": "stdout",
     "output_type": "stream",
     "text": [
      "Timepoint ID 143 saved out\n"
     ]
    },
    {
     "data": {
      "application/vnd.jupyter.widget-view+json": {
       "model_id": "b0b6745ae4b5400cb24216f3c5dbd238",
       "version_major": 2,
       "version_minor": 0
      },
      "text/plain": [
       "Processing Time Points:   0%|          | 0/144 [00:00<?, ?it/s]"
      ]
     },
     "metadata": {},
     "output_type": "display_data"
    },
    {
     "data": {
      "application/vnd.jupyter.widget-view+json": {
       "model_id": "2151cc398c6844a8924b1d6425bd65fd",
       "version_major": 2,
       "version_minor": 0
      },
      "text/plain": [
       "Processing Channels (T=0):   0%|          | 0/3 [00:00<?, ?it/s]"
      ]
     },
     "metadata": {},
     "output_type": "display_data"
    },
    {
     "name": "stdout",
     "output_type": "stream",
     "text": [
      "Timepoint ID 0 saved out\n"
     ]
    },
    {
     "data": {
      "application/vnd.jupyter.widget-view+json": {
       "model_id": "87d883d58284424580cdad6c7b3ceffe",
       "version_major": 2,
       "version_minor": 0
      },
      "text/plain": [
       "Processing Channels (T=1):   0%|          | 0/3 [00:00<?, ?it/s]"
      ]
     },
     "metadata": {},
     "output_type": "display_data"
    },
    {
     "name": "stdout",
     "output_type": "stream",
     "text": [
      "Timepoint ID 1 saved out\n"
     ]
    },
    {
     "data": {
      "application/vnd.jupyter.widget-view+json": {
       "model_id": "aff78261569445b3ab158b2d830d3c4c",
       "version_major": 2,
       "version_minor": 0
      },
      "text/plain": [
       "Processing Channels (T=2):   0%|          | 0/3 [00:00<?, ?it/s]"
      ]
     },
     "metadata": {},
     "output_type": "display_data"
    },
    {
     "name": "stdout",
     "output_type": "stream",
     "text": [
      "Timepoint ID 2 saved out\n"
     ]
    },
    {
     "data": {
      "application/vnd.jupyter.widget-view+json": {
       "model_id": "f6057e0e4f4843b390a85b6fa5705b84",
       "version_major": 2,
       "version_minor": 0
      },
      "text/plain": [
       "Processing Channels (T=3):   0%|          | 0/3 [00:00<?, ?it/s]"
      ]
     },
     "metadata": {},
     "output_type": "display_data"
    },
    {
     "name": "stdout",
     "output_type": "stream",
     "text": [
      "Timepoint ID 3 saved out\n"
     ]
    },
    {
     "data": {
      "application/vnd.jupyter.widget-view+json": {
       "model_id": "145d007af6c44f209db995732868f4e5",
       "version_major": 2,
       "version_minor": 0
      },
      "text/plain": [
       "Processing Channels (T=4):   0%|          | 0/3 [00:00<?, ?it/s]"
      ]
     },
     "metadata": {},
     "output_type": "display_data"
    },
    {
     "name": "stdout",
     "output_type": "stream",
     "text": [
      "Timepoint ID 4 saved out\n"
     ]
    },
    {
     "data": {
      "application/vnd.jupyter.widget-view+json": {
       "model_id": "5824d482b4264cc7ba9aedb59dd1588a",
       "version_major": 2,
       "version_minor": 0
      },
      "text/plain": [
       "Processing Channels (T=5):   0%|          | 0/3 [00:00<?, ?it/s]"
      ]
     },
     "metadata": {},
     "output_type": "display_data"
    },
    {
     "name": "stdout",
     "output_type": "stream",
     "text": [
      "Timepoint ID 5 saved out\n"
     ]
    },
    {
     "data": {
      "application/vnd.jupyter.widget-view+json": {
       "model_id": "88550b4eeca14afe832eec62f4361956",
       "version_major": 2,
       "version_minor": 0
      },
      "text/plain": [
       "Processing Channels (T=6):   0%|          | 0/3 [00:00<?, ?it/s]"
      ]
     },
     "metadata": {},
     "output_type": "display_data"
    },
    {
     "name": "stdout",
     "output_type": "stream",
     "text": [
      "Timepoint ID 6 saved out\n"
     ]
    },
    {
     "data": {
      "application/vnd.jupyter.widget-view+json": {
       "model_id": "81aa15acce754ee0aab02a470535844d",
       "version_major": 2,
       "version_minor": 0
      },
      "text/plain": [
       "Processing Channels (T=7):   0%|          | 0/3 [00:00<?, ?it/s]"
      ]
     },
     "metadata": {},
     "output_type": "display_data"
    },
    {
     "name": "stdout",
     "output_type": "stream",
     "text": [
      "Timepoint ID 7 saved out\n"
     ]
    },
    {
     "data": {
      "application/vnd.jupyter.widget-view+json": {
       "model_id": "27f6ef5b4e224c3db6fae33bfe9e4cec",
       "version_major": 2,
       "version_minor": 0
      },
      "text/plain": [
       "Processing Channels (T=8):   0%|          | 0/3 [00:00<?, ?it/s]"
      ]
     },
     "metadata": {},
     "output_type": "display_data"
    },
    {
     "name": "stdout",
     "output_type": "stream",
     "text": [
      "Timepoint ID 8 saved out\n"
     ]
    },
    {
     "data": {
      "application/vnd.jupyter.widget-view+json": {
       "model_id": "9e96523bacf044d69db4b8957e965dcb",
       "version_major": 2,
       "version_minor": 0
      },
      "text/plain": [
       "Processing Channels (T=9):   0%|          | 0/3 [00:00<?, ?it/s]"
      ]
     },
     "metadata": {},
     "output_type": "display_data"
    },
    {
     "name": "stdout",
     "output_type": "stream",
     "text": [
      "Timepoint ID 9 saved out\n"
     ]
    },
    {
     "data": {
      "application/vnd.jupyter.widget-view+json": {
       "model_id": "ea3755b93cdc4114b14916464858d763",
       "version_major": 2,
       "version_minor": 0
      },
      "text/plain": [
       "Processing Channels (T=10):   0%|          | 0/3 [00:00<?, ?it/s]"
      ]
     },
     "metadata": {},
     "output_type": "display_data"
    },
    {
     "name": "stdout",
     "output_type": "stream",
     "text": [
      "Timepoint ID 10 saved out\n"
     ]
    },
    {
     "data": {
      "application/vnd.jupyter.widget-view+json": {
       "model_id": "2e59f5cd99f248ec86c4b256d0b4ee4f",
       "version_major": 2,
       "version_minor": 0
      },
      "text/plain": [
       "Processing Channels (T=11):   0%|          | 0/3 [00:00<?, ?it/s]"
      ]
     },
     "metadata": {},
     "output_type": "display_data"
    },
    {
     "name": "stdout",
     "output_type": "stream",
     "text": [
      "Timepoint ID 11 saved out\n"
     ]
    },
    {
     "data": {
      "application/vnd.jupyter.widget-view+json": {
       "model_id": "734f66dea1ed4262a59a08530a5a232a",
       "version_major": 2,
       "version_minor": 0
      },
      "text/plain": [
       "Processing Channels (T=12):   0%|          | 0/3 [00:00<?, ?it/s]"
      ]
     },
     "metadata": {},
     "output_type": "display_data"
    },
    {
     "name": "stdout",
     "output_type": "stream",
     "text": [
      "Timepoint ID 12 saved out\n"
     ]
    },
    {
     "data": {
      "application/vnd.jupyter.widget-view+json": {
       "model_id": "9fee98c001bc46a797b94edfc348f281",
       "version_major": 2,
       "version_minor": 0
      },
      "text/plain": [
       "Processing Channels (T=13):   0%|          | 0/3 [00:00<?, ?it/s]"
      ]
     },
     "metadata": {},
     "output_type": "display_data"
    },
    {
     "name": "stdout",
     "output_type": "stream",
     "text": [
      "Timepoint ID 13 saved out\n"
     ]
    },
    {
     "data": {
      "application/vnd.jupyter.widget-view+json": {
       "model_id": "9a74903dca864b339a7655ee6dc72a6b",
       "version_major": 2,
       "version_minor": 0
      },
      "text/plain": [
       "Processing Channels (T=14):   0%|          | 0/3 [00:00<?, ?it/s]"
      ]
     },
     "metadata": {},
     "output_type": "display_data"
    },
    {
     "name": "stdout",
     "output_type": "stream",
     "text": [
      "Timepoint ID 14 saved out\n"
     ]
    },
    {
     "data": {
      "application/vnd.jupyter.widget-view+json": {
       "model_id": "f4a71028457c4e0c9e13a11d5acf51a2",
       "version_major": 2,
       "version_minor": 0
      },
      "text/plain": [
       "Processing Channels (T=15):   0%|          | 0/3 [00:00<?, ?it/s]"
      ]
     },
     "metadata": {},
     "output_type": "display_data"
    },
    {
     "name": "stdout",
     "output_type": "stream",
     "text": [
      "Timepoint ID 15 saved out\n"
     ]
    },
    {
     "data": {
      "application/vnd.jupyter.widget-view+json": {
       "model_id": "3765355d874e4c1d8fa823129694b32f",
       "version_major": 2,
       "version_minor": 0
      },
      "text/plain": [
       "Processing Channels (T=16):   0%|          | 0/3 [00:00<?, ?it/s]"
      ]
     },
     "metadata": {},
     "output_type": "display_data"
    },
    {
     "name": "stdout",
     "output_type": "stream",
     "text": [
      "Timepoint ID 16 saved out\n"
     ]
    },
    {
     "data": {
      "application/vnd.jupyter.widget-view+json": {
       "model_id": "6eb7005a13d74066ac9973d6e2f3eaed",
       "version_major": 2,
       "version_minor": 0
      },
      "text/plain": [
       "Processing Channels (T=17):   0%|          | 0/3 [00:00<?, ?it/s]"
      ]
     },
     "metadata": {},
     "output_type": "display_data"
    },
    {
     "name": "stdout",
     "output_type": "stream",
     "text": [
      "Timepoint ID 17 saved out\n"
     ]
    },
    {
     "data": {
      "application/vnd.jupyter.widget-view+json": {
       "model_id": "64fe0467b0834cf4934990298e1eb1a4",
       "version_major": 2,
       "version_minor": 0
      },
      "text/plain": [
       "Processing Channels (T=18):   0%|          | 0/3 [00:00<?, ?it/s]"
      ]
     },
     "metadata": {},
     "output_type": "display_data"
    },
    {
     "name": "stdout",
     "output_type": "stream",
     "text": [
      "Timepoint ID 18 saved out\n"
     ]
    },
    {
     "data": {
      "application/vnd.jupyter.widget-view+json": {
       "model_id": "36237680ca8b4a3ca10ad8d78ff31c53",
       "version_major": 2,
       "version_minor": 0
      },
      "text/plain": [
       "Processing Channels (T=19):   0%|          | 0/3 [00:00<?, ?it/s]"
      ]
     },
     "metadata": {},
     "output_type": "display_data"
    },
    {
     "name": "stdout",
     "output_type": "stream",
     "text": [
      "Timepoint ID 19 saved out\n"
     ]
    },
    {
     "data": {
      "application/vnd.jupyter.widget-view+json": {
       "model_id": "ca8fcaa1efb646a9978d0062712cd21b",
       "version_major": 2,
       "version_minor": 0
      },
      "text/plain": [
       "Processing Channels (T=20):   0%|          | 0/3 [00:00<?, ?it/s]"
      ]
     },
     "metadata": {},
     "output_type": "display_data"
    },
    {
     "name": "stdout",
     "output_type": "stream",
     "text": [
      "Timepoint ID 20 saved out\n"
     ]
    },
    {
     "data": {
      "application/vnd.jupyter.widget-view+json": {
       "model_id": "f783234f08844620b6d9548046b14436",
       "version_major": 2,
       "version_minor": 0
      },
      "text/plain": [
       "Processing Channels (T=21):   0%|          | 0/3 [00:00<?, ?it/s]"
      ]
     },
     "metadata": {},
     "output_type": "display_data"
    },
    {
     "name": "stdout",
     "output_type": "stream",
     "text": [
      "Timepoint ID 21 saved out\n"
     ]
    },
    {
     "data": {
      "application/vnd.jupyter.widget-view+json": {
       "model_id": "782646de61304819bb5ca105bcf63e21",
       "version_major": 2,
       "version_minor": 0
      },
      "text/plain": [
       "Processing Channels (T=22):   0%|          | 0/3 [00:00<?, ?it/s]"
      ]
     },
     "metadata": {},
     "output_type": "display_data"
    },
    {
     "name": "stdout",
     "output_type": "stream",
     "text": [
      "Timepoint ID 22 saved out\n"
     ]
    },
    {
     "data": {
      "application/vnd.jupyter.widget-view+json": {
       "model_id": "2a8f7097149f4e65b74451e3010a7306",
       "version_major": 2,
       "version_minor": 0
      },
      "text/plain": [
       "Processing Channels (T=23):   0%|          | 0/3 [00:00<?, ?it/s]"
      ]
     },
     "metadata": {},
     "output_type": "display_data"
    },
    {
     "name": "stdout",
     "output_type": "stream",
     "text": [
      "Timepoint ID 23 saved out\n"
     ]
    },
    {
     "data": {
      "application/vnd.jupyter.widget-view+json": {
       "model_id": "491a9cb2b9ef467fbf8878dffd0a051f",
       "version_major": 2,
       "version_minor": 0
      },
      "text/plain": [
       "Processing Channels (T=24):   0%|          | 0/3 [00:00<?, ?it/s]"
      ]
     },
     "metadata": {},
     "output_type": "display_data"
    },
    {
     "name": "stdout",
     "output_type": "stream",
     "text": [
      "Timepoint ID 24 saved out\n"
     ]
    },
    {
     "data": {
      "application/vnd.jupyter.widget-view+json": {
       "model_id": "d19ad969a6cb48bb9d1f4e27d22dd301",
       "version_major": 2,
       "version_minor": 0
      },
      "text/plain": [
       "Processing Channels (T=25):   0%|          | 0/3 [00:00<?, ?it/s]"
      ]
     },
     "metadata": {},
     "output_type": "display_data"
    },
    {
     "name": "stdout",
     "output_type": "stream",
     "text": [
      "Timepoint ID 25 saved out\n"
     ]
    },
    {
     "data": {
      "application/vnd.jupyter.widget-view+json": {
       "model_id": "b0f57d1ffa3e4693a5fef412eb7e952f",
       "version_major": 2,
       "version_minor": 0
      },
      "text/plain": [
       "Processing Channels (T=26):   0%|          | 0/3 [00:00<?, ?it/s]"
      ]
     },
     "metadata": {},
     "output_type": "display_data"
    },
    {
     "name": "stdout",
     "output_type": "stream",
     "text": [
      "Timepoint ID 26 saved out\n"
     ]
    },
    {
     "data": {
      "application/vnd.jupyter.widget-view+json": {
       "model_id": "a913ba52b16b437f9c2022b0edecc940",
       "version_major": 2,
       "version_minor": 0
      },
      "text/plain": [
       "Processing Channels (T=27):   0%|          | 0/3 [00:00<?, ?it/s]"
      ]
     },
     "metadata": {},
     "output_type": "display_data"
    },
    {
     "name": "stdout",
     "output_type": "stream",
     "text": [
      "Timepoint ID 27 saved out\n"
     ]
    },
    {
     "data": {
      "application/vnd.jupyter.widget-view+json": {
       "model_id": "e6774ec92c5240f59206ed517add35cc",
       "version_major": 2,
       "version_minor": 0
      },
      "text/plain": [
       "Processing Channels (T=28):   0%|          | 0/3 [00:00<?, ?it/s]"
      ]
     },
     "metadata": {},
     "output_type": "display_data"
    },
    {
     "name": "stdout",
     "output_type": "stream",
     "text": [
      "Timepoint ID 28 saved out\n"
     ]
    },
    {
     "data": {
      "application/vnd.jupyter.widget-view+json": {
       "model_id": "3c19512f3213488288671254f6a4e6c1",
       "version_major": 2,
       "version_minor": 0
      },
      "text/plain": [
       "Processing Channels (T=29):   0%|          | 0/3 [00:00<?, ?it/s]"
      ]
     },
     "metadata": {},
     "output_type": "display_data"
    },
    {
     "name": "stdout",
     "output_type": "stream",
     "text": [
      "Timepoint ID 29 saved out\n"
     ]
    },
    {
     "data": {
      "application/vnd.jupyter.widget-view+json": {
       "model_id": "a0ea6223387748c18932326fcbcc5e9e",
       "version_major": 2,
       "version_minor": 0
      },
      "text/plain": [
       "Processing Channels (T=30):   0%|          | 0/3 [00:00<?, ?it/s]"
      ]
     },
     "metadata": {},
     "output_type": "display_data"
    },
    {
     "name": "stdout",
     "output_type": "stream",
     "text": [
      "Timepoint ID 30 saved out\n"
     ]
    },
    {
     "data": {
      "application/vnd.jupyter.widget-view+json": {
       "model_id": "734e535e140949a0ac94636450e668df",
       "version_major": 2,
       "version_minor": 0
      },
      "text/plain": [
       "Processing Channels (T=31):   0%|          | 0/3 [00:00<?, ?it/s]"
      ]
     },
     "metadata": {},
     "output_type": "display_data"
    },
    {
     "name": "stdout",
     "output_type": "stream",
     "text": [
      "Timepoint ID 31 saved out\n"
     ]
    },
    {
     "data": {
      "application/vnd.jupyter.widget-view+json": {
       "model_id": "e2be20bc51734801b620f3bb0d7b28a4",
       "version_major": 2,
       "version_minor": 0
      },
      "text/plain": [
       "Processing Channels (T=32):   0%|          | 0/3 [00:00<?, ?it/s]"
      ]
     },
     "metadata": {},
     "output_type": "display_data"
    },
    {
     "name": "stdout",
     "output_type": "stream",
     "text": [
      "Timepoint ID 32 saved out\n"
     ]
    },
    {
     "data": {
      "application/vnd.jupyter.widget-view+json": {
       "model_id": "d4653f2fe2ea41abb383a4c71da785bb",
       "version_major": 2,
       "version_minor": 0
      },
      "text/plain": [
       "Processing Channels (T=33):   0%|          | 0/3 [00:00<?, ?it/s]"
      ]
     },
     "metadata": {},
     "output_type": "display_data"
    },
    {
     "name": "stdout",
     "output_type": "stream",
     "text": [
      "Timepoint ID 33 saved out\n"
     ]
    },
    {
     "data": {
      "application/vnd.jupyter.widget-view+json": {
       "model_id": "07a6227eba054cfe9ed2cf4918df4920",
       "version_major": 2,
       "version_minor": 0
      },
      "text/plain": [
       "Processing Channels (T=34):   0%|          | 0/3 [00:00<?, ?it/s]"
      ]
     },
     "metadata": {},
     "output_type": "display_data"
    },
    {
     "name": "stdout",
     "output_type": "stream",
     "text": [
      "Timepoint ID 34 saved out\n"
     ]
    },
    {
     "data": {
      "application/vnd.jupyter.widget-view+json": {
       "model_id": "d38c5c6f91664c16a6323c16f78c132e",
       "version_major": 2,
       "version_minor": 0
      },
      "text/plain": [
       "Processing Channels (T=35):   0%|          | 0/3 [00:00<?, ?it/s]"
      ]
     },
     "metadata": {},
     "output_type": "display_data"
    },
    {
     "name": "stdout",
     "output_type": "stream",
     "text": [
      "Timepoint ID 35 saved out\n"
     ]
    },
    {
     "data": {
      "application/vnd.jupyter.widget-view+json": {
       "model_id": "1945f16c14c24d6f99d702af4e0ae5f8",
       "version_major": 2,
       "version_minor": 0
      },
      "text/plain": [
       "Processing Channels (T=36):   0%|          | 0/3 [00:00<?, ?it/s]"
      ]
     },
     "metadata": {},
     "output_type": "display_data"
    },
    {
     "name": "stdout",
     "output_type": "stream",
     "text": [
      "Timepoint ID 36 saved out\n"
     ]
    },
    {
     "data": {
      "application/vnd.jupyter.widget-view+json": {
       "model_id": "c22991e5ec4e48509f672d875eec7656",
       "version_major": 2,
       "version_minor": 0
      },
      "text/plain": [
       "Processing Channels (T=37):   0%|          | 0/3 [00:00<?, ?it/s]"
      ]
     },
     "metadata": {},
     "output_type": "display_data"
    },
    {
     "name": "stdout",
     "output_type": "stream",
     "text": [
      "Timepoint ID 37 saved out\n"
     ]
    },
    {
     "data": {
      "application/vnd.jupyter.widget-view+json": {
       "model_id": "85ee5317c4a74e9082e5fc33df572956",
       "version_major": 2,
       "version_minor": 0
      },
      "text/plain": [
       "Processing Channels (T=38):   0%|          | 0/3 [00:00<?, ?it/s]"
      ]
     },
     "metadata": {},
     "output_type": "display_data"
    },
    {
     "name": "stdout",
     "output_type": "stream",
     "text": [
      "Timepoint ID 38 saved out\n"
     ]
    },
    {
     "data": {
      "application/vnd.jupyter.widget-view+json": {
       "model_id": "5eee182cff2b4533b8eeafe7d58c356d",
       "version_major": 2,
       "version_minor": 0
      },
      "text/plain": [
       "Processing Channels (T=39):   0%|          | 0/3 [00:00<?, ?it/s]"
      ]
     },
     "metadata": {},
     "output_type": "display_data"
    },
    {
     "name": "stdout",
     "output_type": "stream",
     "text": [
      "Timepoint ID 39 saved out\n"
     ]
    },
    {
     "data": {
      "application/vnd.jupyter.widget-view+json": {
       "model_id": "01aa088177674c1ca77266c91b950257",
       "version_major": 2,
       "version_minor": 0
      },
      "text/plain": [
       "Processing Channels (T=40):   0%|          | 0/3 [00:00<?, ?it/s]"
      ]
     },
     "metadata": {},
     "output_type": "display_data"
    },
    {
     "name": "stdout",
     "output_type": "stream",
     "text": [
      "Timepoint ID 40 saved out\n"
     ]
    },
    {
     "data": {
      "application/vnd.jupyter.widget-view+json": {
       "model_id": "e05109ae3bdc49f3948a54e09e5937ce",
       "version_major": 2,
       "version_minor": 0
      },
      "text/plain": [
       "Processing Channels (T=41):   0%|          | 0/3 [00:00<?, ?it/s]"
      ]
     },
     "metadata": {},
     "output_type": "display_data"
    },
    {
     "name": "stdout",
     "output_type": "stream",
     "text": [
      "Timepoint ID 41 saved out\n"
     ]
    },
    {
     "data": {
      "application/vnd.jupyter.widget-view+json": {
       "model_id": "6765e2acea134a199d77135c80d785d5",
       "version_major": 2,
       "version_minor": 0
      },
      "text/plain": [
       "Processing Channels (T=42):   0%|          | 0/3 [00:00<?, ?it/s]"
      ]
     },
     "metadata": {},
     "output_type": "display_data"
    },
    {
     "name": "stdout",
     "output_type": "stream",
     "text": [
      "Timepoint ID 42 saved out\n"
     ]
    },
    {
     "data": {
      "application/vnd.jupyter.widget-view+json": {
       "model_id": "8f4f0b0f405044ff95c56eba3d1b52c4",
       "version_major": 2,
       "version_minor": 0
      },
      "text/plain": [
       "Processing Channels (T=43):   0%|          | 0/3 [00:00<?, ?it/s]"
      ]
     },
     "metadata": {},
     "output_type": "display_data"
    },
    {
     "name": "stdout",
     "output_type": "stream",
     "text": [
      "Timepoint ID 43 saved out\n"
     ]
    },
    {
     "data": {
      "application/vnd.jupyter.widget-view+json": {
       "model_id": "843faa3a1a924ee5a3f302dbcafab2db",
       "version_major": 2,
       "version_minor": 0
      },
      "text/plain": [
       "Processing Channels (T=44):   0%|          | 0/3 [00:00<?, ?it/s]"
      ]
     },
     "metadata": {},
     "output_type": "display_data"
    },
    {
     "name": "stdout",
     "output_type": "stream",
     "text": [
      "Timepoint ID 44 saved out\n"
     ]
    },
    {
     "data": {
      "application/vnd.jupyter.widget-view+json": {
       "model_id": "985a66b6737047f8b9a5f4f648b9525a",
       "version_major": 2,
       "version_minor": 0
      },
      "text/plain": [
       "Processing Channels (T=45):   0%|          | 0/3 [00:00<?, ?it/s]"
      ]
     },
     "metadata": {},
     "output_type": "display_data"
    },
    {
     "name": "stdout",
     "output_type": "stream",
     "text": [
      "Timepoint ID 45 saved out\n"
     ]
    },
    {
     "data": {
      "application/vnd.jupyter.widget-view+json": {
       "model_id": "233313e9d40b41ceb23a996855a00b2e",
       "version_major": 2,
       "version_minor": 0
      },
      "text/plain": [
       "Processing Channels (T=46):   0%|          | 0/3 [00:00<?, ?it/s]"
      ]
     },
     "metadata": {},
     "output_type": "display_data"
    },
    {
     "name": "stdout",
     "output_type": "stream",
     "text": [
      "Timepoint ID 46 saved out\n"
     ]
    },
    {
     "data": {
      "application/vnd.jupyter.widget-view+json": {
       "model_id": "a8f617f8567d4b71809ee588902e77e8",
       "version_major": 2,
       "version_minor": 0
      },
      "text/plain": [
       "Processing Channels (T=47):   0%|          | 0/3 [00:00<?, ?it/s]"
      ]
     },
     "metadata": {},
     "output_type": "display_data"
    },
    {
     "name": "stdout",
     "output_type": "stream",
     "text": [
      "Timepoint ID 47 saved out\n"
     ]
    },
    {
     "data": {
      "application/vnd.jupyter.widget-view+json": {
       "model_id": "10496e2d49c047c492f7a945a3252c04",
       "version_major": 2,
       "version_minor": 0
      },
      "text/plain": [
       "Processing Channels (T=48):   0%|          | 0/3 [00:00<?, ?it/s]"
      ]
     },
     "metadata": {},
     "output_type": "display_data"
    },
    {
     "name": "stdout",
     "output_type": "stream",
     "text": [
      "Timepoint ID 48 saved out\n"
     ]
    },
    {
     "data": {
      "application/vnd.jupyter.widget-view+json": {
       "model_id": "fee342e11b9e4b71ac414cdc2934ee03",
       "version_major": 2,
       "version_minor": 0
      },
      "text/plain": [
       "Processing Channels (T=49):   0%|          | 0/3 [00:00<?, ?it/s]"
      ]
     },
     "metadata": {},
     "output_type": "display_data"
    },
    {
     "name": "stdout",
     "output_type": "stream",
     "text": [
      "Timepoint ID 49 saved out\n"
     ]
    },
    {
     "data": {
      "application/vnd.jupyter.widget-view+json": {
       "model_id": "c2fd23dfffb844dd9bb14ecab19f3ff8",
       "version_major": 2,
       "version_minor": 0
      },
      "text/plain": [
       "Processing Channels (T=50):   0%|          | 0/3 [00:00<?, ?it/s]"
      ]
     },
     "metadata": {},
     "output_type": "display_data"
    },
    {
     "name": "stdout",
     "output_type": "stream",
     "text": [
      "Timepoint ID 50 saved out\n"
     ]
    },
    {
     "data": {
      "application/vnd.jupyter.widget-view+json": {
       "model_id": "6960fb181e2b41bcbc928e6152b2ac6f",
       "version_major": 2,
       "version_minor": 0
      },
      "text/plain": [
       "Processing Channels (T=51):   0%|          | 0/3 [00:00<?, ?it/s]"
      ]
     },
     "metadata": {},
     "output_type": "display_data"
    },
    {
     "name": "stdout",
     "output_type": "stream",
     "text": [
      "Timepoint ID 51 saved out\n"
     ]
    },
    {
     "data": {
      "application/vnd.jupyter.widget-view+json": {
       "model_id": "2f9bed8498d6432c8f810b7cabc1ae6f",
       "version_major": 2,
       "version_minor": 0
      },
      "text/plain": [
       "Processing Channels (T=52):   0%|          | 0/3 [00:00<?, ?it/s]"
      ]
     },
     "metadata": {},
     "output_type": "display_data"
    },
    {
     "name": "stdout",
     "output_type": "stream",
     "text": [
      "Timepoint ID 52 saved out\n"
     ]
    },
    {
     "data": {
      "application/vnd.jupyter.widget-view+json": {
       "model_id": "91f414ae76c940ff8edbfd9f580fd7fe",
       "version_major": 2,
       "version_minor": 0
      },
      "text/plain": [
       "Processing Channels (T=53):   0%|          | 0/3 [00:00<?, ?it/s]"
      ]
     },
     "metadata": {},
     "output_type": "display_data"
    },
    {
     "name": "stdout",
     "output_type": "stream",
     "text": [
      "Timepoint ID 53 saved out\n"
     ]
    },
    {
     "data": {
      "application/vnd.jupyter.widget-view+json": {
       "model_id": "8c162edbe41d42f28edf8c604b6c62a0",
       "version_major": 2,
       "version_minor": 0
      },
      "text/plain": [
       "Processing Channels (T=54):   0%|          | 0/3 [00:00<?, ?it/s]"
      ]
     },
     "metadata": {},
     "output_type": "display_data"
    },
    {
     "name": "stdout",
     "output_type": "stream",
     "text": [
      "Timepoint ID 54 saved out\n"
     ]
    },
    {
     "data": {
      "application/vnd.jupyter.widget-view+json": {
       "model_id": "ff970ebc405a4692a45d929260589de1",
       "version_major": 2,
       "version_minor": 0
      },
      "text/plain": [
       "Processing Channels (T=55):   0%|          | 0/3 [00:00<?, ?it/s]"
      ]
     },
     "metadata": {},
     "output_type": "display_data"
    },
    {
     "name": "stdout",
     "output_type": "stream",
     "text": [
      "Timepoint ID 55 saved out\n"
     ]
    },
    {
     "data": {
      "application/vnd.jupyter.widget-view+json": {
       "model_id": "b5990d83dedc4d9981dd618ba26181c4",
       "version_major": 2,
       "version_minor": 0
      },
      "text/plain": [
       "Processing Channels (T=56):   0%|          | 0/3 [00:00<?, ?it/s]"
      ]
     },
     "metadata": {},
     "output_type": "display_data"
    },
    {
     "name": "stdout",
     "output_type": "stream",
     "text": [
      "Timepoint ID 56 saved out\n"
     ]
    },
    {
     "data": {
      "application/vnd.jupyter.widget-view+json": {
       "model_id": "4f207d6bb00b4f0aa71e0054277432d1",
       "version_major": 2,
       "version_minor": 0
      },
      "text/plain": [
       "Processing Channels (T=57):   0%|          | 0/3 [00:00<?, ?it/s]"
      ]
     },
     "metadata": {},
     "output_type": "display_data"
    },
    {
     "name": "stdout",
     "output_type": "stream",
     "text": [
      "Timepoint ID 57 saved out\n"
     ]
    },
    {
     "data": {
      "application/vnd.jupyter.widget-view+json": {
       "model_id": "98f5f2110d0444eb8dc242fb5807ba42",
       "version_major": 2,
       "version_minor": 0
      },
      "text/plain": [
       "Processing Channels (T=58):   0%|          | 0/3 [00:00<?, ?it/s]"
      ]
     },
     "metadata": {},
     "output_type": "display_data"
    },
    {
     "name": "stdout",
     "output_type": "stream",
     "text": [
      "Timepoint ID 58 saved out\n"
     ]
    },
    {
     "data": {
      "application/vnd.jupyter.widget-view+json": {
       "model_id": "aaba86ddbe904bff937c9307e6ff7fd9",
       "version_major": 2,
       "version_minor": 0
      },
      "text/plain": [
       "Processing Channels (T=59):   0%|          | 0/3 [00:00<?, ?it/s]"
      ]
     },
     "metadata": {},
     "output_type": "display_data"
    },
    {
     "name": "stdout",
     "output_type": "stream",
     "text": [
      "Timepoint ID 59 saved out\n"
     ]
    },
    {
     "data": {
      "application/vnd.jupyter.widget-view+json": {
       "model_id": "f2962495f4f04e0a903a18f8f46c94be",
       "version_major": 2,
       "version_minor": 0
      },
      "text/plain": [
       "Processing Channels (T=60):   0%|          | 0/3 [00:00<?, ?it/s]"
      ]
     },
     "metadata": {},
     "output_type": "display_data"
    },
    {
     "name": "stdout",
     "output_type": "stream",
     "text": [
      "Timepoint ID 60 saved out\n"
     ]
    },
    {
     "data": {
      "application/vnd.jupyter.widget-view+json": {
       "model_id": "01a4803cf19e488e8fba54f16ccb244d",
       "version_major": 2,
       "version_minor": 0
      },
      "text/plain": [
       "Processing Channels (T=61):   0%|          | 0/3 [00:00<?, ?it/s]"
      ]
     },
     "metadata": {},
     "output_type": "display_data"
    },
    {
     "name": "stdout",
     "output_type": "stream",
     "text": [
      "Timepoint ID 61 saved out\n"
     ]
    },
    {
     "data": {
      "application/vnd.jupyter.widget-view+json": {
       "model_id": "7776e40b08f34a6b9f5a605c35d7f49f",
       "version_major": 2,
       "version_minor": 0
      },
      "text/plain": [
       "Processing Channels (T=62):   0%|          | 0/3 [00:00<?, ?it/s]"
      ]
     },
     "metadata": {},
     "output_type": "display_data"
    },
    {
     "name": "stdout",
     "output_type": "stream",
     "text": [
      "Timepoint ID 62 saved out\n"
     ]
    },
    {
     "data": {
      "application/vnd.jupyter.widget-view+json": {
       "model_id": "78cb8c0dcf1c47bfa73655ac81f7d26c",
       "version_major": 2,
       "version_minor": 0
      },
      "text/plain": [
       "Processing Channels (T=63):   0%|          | 0/3 [00:00<?, ?it/s]"
      ]
     },
     "metadata": {},
     "output_type": "display_data"
    },
    {
     "name": "stdout",
     "output_type": "stream",
     "text": [
      "Timepoint ID 63 saved out\n"
     ]
    },
    {
     "data": {
      "application/vnd.jupyter.widget-view+json": {
       "model_id": "4bf971b9ef174938b3d210fd2a700c50",
       "version_major": 2,
       "version_minor": 0
      },
      "text/plain": [
       "Processing Channels (T=64):   0%|          | 0/3 [00:00<?, ?it/s]"
      ]
     },
     "metadata": {},
     "output_type": "display_data"
    },
    {
     "name": "stdout",
     "output_type": "stream",
     "text": [
      "Timepoint ID 64 saved out\n"
     ]
    },
    {
     "data": {
      "application/vnd.jupyter.widget-view+json": {
       "model_id": "42c7d842f8ed41e5aa31f121f1b97fda",
       "version_major": 2,
       "version_minor": 0
      },
      "text/plain": [
       "Processing Channels (T=65):   0%|          | 0/3 [00:00<?, ?it/s]"
      ]
     },
     "metadata": {},
     "output_type": "display_data"
    },
    {
     "name": "stdout",
     "output_type": "stream",
     "text": [
      "Timepoint ID 65 saved out\n"
     ]
    },
    {
     "data": {
      "application/vnd.jupyter.widget-view+json": {
       "model_id": "7cf9dcd7dba444a5a82416f84e6f1477",
       "version_major": 2,
       "version_minor": 0
      },
      "text/plain": [
       "Processing Channels (T=66):   0%|          | 0/3 [00:00<?, ?it/s]"
      ]
     },
     "metadata": {},
     "output_type": "display_data"
    },
    {
     "name": "stdout",
     "output_type": "stream",
     "text": [
      "Timepoint ID 66 saved out\n"
     ]
    },
    {
     "data": {
      "application/vnd.jupyter.widget-view+json": {
       "model_id": "053930c15713459d8a562598ca314068",
       "version_major": 2,
       "version_minor": 0
      },
      "text/plain": [
       "Processing Channels (T=67):   0%|          | 0/3 [00:00<?, ?it/s]"
      ]
     },
     "metadata": {},
     "output_type": "display_data"
    },
    {
     "name": "stdout",
     "output_type": "stream",
     "text": [
      "Timepoint ID 67 saved out\n"
     ]
    },
    {
     "data": {
      "application/vnd.jupyter.widget-view+json": {
       "model_id": "9f57a876e4394b4ca386b0f0648437ab",
       "version_major": 2,
       "version_minor": 0
      },
      "text/plain": [
       "Processing Channels (T=68):   0%|          | 0/3 [00:00<?, ?it/s]"
      ]
     },
     "metadata": {},
     "output_type": "display_data"
    },
    {
     "name": "stdout",
     "output_type": "stream",
     "text": [
      "Timepoint ID 68 saved out\n"
     ]
    },
    {
     "data": {
      "application/vnd.jupyter.widget-view+json": {
       "model_id": "cd128238701148f789be7a6329dbead7",
       "version_major": 2,
       "version_minor": 0
      },
      "text/plain": [
       "Processing Channels (T=69):   0%|          | 0/3 [00:00<?, ?it/s]"
      ]
     },
     "metadata": {},
     "output_type": "display_data"
    },
    {
     "name": "stdout",
     "output_type": "stream",
     "text": [
      "Timepoint ID 69 saved out\n"
     ]
    },
    {
     "data": {
      "application/vnd.jupyter.widget-view+json": {
       "model_id": "ffd482489ce24559bc7db2a96f489cba",
       "version_major": 2,
       "version_minor": 0
      },
      "text/plain": [
       "Processing Channels (T=70):   0%|          | 0/3 [00:00<?, ?it/s]"
      ]
     },
     "metadata": {},
     "output_type": "display_data"
    },
    {
     "name": "stdout",
     "output_type": "stream",
     "text": [
      "Timepoint ID 70 saved out\n"
     ]
    },
    {
     "data": {
      "application/vnd.jupyter.widget-view+json": {
       "model_id": "2814bd90fdac4724a9256845a80d9f50",
       "version_major": 2,
       "version_minor": 0
      },
      "text/plain": [
       "Processing Channels (T=71):   0%|          | 0/3 [00:00<?, ?it/s]"
      ]
     },
     "metadata": {},
     "output_type": "display_data"
    },
    {
     "name": "stdout",
     "output_type": "stream",
     "text": [
      "Timepoint ID 71 saved out\n"
     ]
    },
    {
     "data": {
      "application/vnd.jupyter.widget-view+json": {
       "model_id": "32bb8ff7cac346519390d61524c84250",
       "version_major": 2,
       "version_minor": 0
      },
      "text/plain": [
       "Processing Channels (T=72):   0%|          | 0/3 [00:00<?, ?it/s]"
      ]
     },
     "metadata": {},
     "output_type": "display_data"
    },
    {
     "name": "stdout",
     "output_type": "stream",
     "text": [
      "Timepoint ID 72 saved out\n"
     ]
    },
    {
     "data": {
      "application/vnd.jupyter.widget-view+json": {
       "model_id": "b79058c722524477acf638788fa08929",
       "version_major": 2,
       "version_minor": 0
      },
      "text/plain": [
       "Processing Channels (T=73):   0%|          | 0/3 [00:00<?, ?it/s]"
      ]
     },
     "metadata": {},
     "output_type": "display_data"
    },
    {
     "name": "stdout",
     "output_type": "stream",
     "text": [
      "Timepoint ID 73 saved out\n"
     ]
    },
    {
     "data": {
      "application/vnd.jupyter.widget-view+json": {
       "model_id": "863413bbeece4ea08dd58a2ef94d3bc1",
       "version_major": 2,
       "version_minor": 0
      },
      "text/plain": [
       "Processing Channels (T=74):   0%|          | 0/3 [00:00<?, ?it/s]"
      ]
     },
     "metadata": {},
     "output_type": "display_data"
    },
    {
     "name": "stdout",
     "output_type": "stream",
     "text": [
      "Timepoint ID 74 saved out\n"
     ]
    },
    {
     "data": {
      "application/vnd.jupyter.widget-view+json": {
       "model_id": "ba8df6ecd99143739e1f0563172552ff",
       "version_major": 2,
       "version_minor": 0
      },
      "text/plain": [
       "Processing Channels (T=75):   0%|          | 0/3 [00:00<?, ?it/s]"
      ]
     },
     "metadata": {},
     "output_type": "display_data"
    },
    {
     "name": "stdout",
     "output_type": "stream",
     "text": [
      "Timepoint ID 75 saved out\n"
     ]
    },
    {
     "data": {
      "application/vnd.jupyter.widget-view+json": {
       "model_id": "4a72b33f8a5d4d0488fca8aa84143577",
       "version_major": 2,
       "version_minor": 0
      },
      "text/plain": [
       "Processing Channels (T=76):   0%|          | 0/3 [00:00<?, ?it/s]"
      ]
     },
     "metadata": {},
     "output_type": "display_data"
    },
    {
     "name": "stdout",
     "output_type": "stream",
     "text": [
      "Timepoint ID 76 saved out\n"
     ]
    },
    {
     "data": {
      "application/vnd.jupyter.widget-view+json": {
       "model_id": "e2dc4e70caca4869a9450bcb183b4e40",
       "version_major": 2,
       "version_minor": 0
      },
      "text/plain": [
       "Processing Channels (T=77):   0%|          | 0/3 [00:00<?, ?it/s]"
      ]
     },
     "metadata": {},
     "output_type": "display_data"
    },
    {
     "name": "stdout",
     "output_type": "stream",
     "text": [
      "Timepoint ID 77 saved out\n"
     ]
    },
    {
     "data": {
      "application/vnd.jupyter.widget-view+json": {
       "model_id": "5346fcb3d0b6494b83bc484de7d329f8",
       "version_major": 2,
       "version_minor": 0
      },
      "text/plain": [
       "Processing Channels (T=78):   0%|          | 0/3 [00:00<?, ?it/s]"
      ]
     },
     "metadata": {},
     "output_type": "display_data"
    },
    {
     "name": "stdout",
     "output_type": "stream",
     "text": [
      "Timepoint ID 78 saved out\n"
     ]
    },
    {
     "data": {
      "application/vnd.jupyter.widget-view+json": {
       "model_id": "4a1b6fe38c5b4e9d81932d7174125599",
       "version_major": 2,
       "version_minor": 0
      },
      "text/plain": [
       "Processing Channels (T=79):   0%|          | 0/3 [00:00<?, ?it/s]"
      ]
     },
     "metadata": {},
     "output_type": "display_data"
    },
    {
     "name": "stdout",
     "output_type": "stream",
     "text": [
      "Timepoint ID 79 saved out\n"
     ]
    },
    {
     "data": {
      "application/vnd.jupyter.widget-view+json": {
       "model_id": "e25801b029aa447384eb2baf5c397e35",
       "version_major": 2,
       "version_minor": 0
      },
      "text/plain": [
       "Processing Channels (T=80):   0%|          | 0/3 [00:00<?, ?it/s]"
      ]
     },
     "metadata": {},
     "output_type": "display_data"
    },
    {
     "name": "stdout",
     "output_type": "stream",
     "text": [
      "Timepoint ID 80 saved out\n"
     ]
    },
    {
     "data": {
      "application/vnd.jupyter.widget-view+json": {
       "model_id": "9fb8a6afe6354b808ca5b7eb8b1317a0",
       "version_major": 2,
       "version_minor": 0
      },
      "text/plain": [
       "Processing Channels (T=81):   0%|          | 0/3 [00:00<?, ?it/s]"
      ]
     },
     "metadata": {},
     "output_type": "display_data"
    },
    {
     "name": "stdout",
     "output_type": "stream",
     "text": [
      "Timepoint ID 81 saved out\n"
     ]
    },
    {
     "data": {
      "application/vnd.jupyter.widget-view+json": {
       "model_id": "c3e48794a70a430188ef8a8bb224ff9b",
       "version_major": 2,
       "version_minor": 0
      },
      "text/plain": [
       "Processing Channels (T=82):   0%|          | 0/3 [00:00<?, ?it/s]"
      ]
     },
     "metadata": {},
     "output_type": "display_data"
    },
    {
     "name": "stdout",
     "output_type": "stream",
     "text": [
      "Timepoint ID 82 saved out\n"
     ]
    },
    {
     "data": {
      "application/vnd.jupyter.widget-view+json": {
       "model_id": "c7a534d4a6d64f52a814eb94d8ff4cf5",
       "version_major": 2,
       "version_minor": 0
      },
      "text/plain": [
       "Processing Channels (T=83):   0%|          | 0/3 [00:00<?, ?it/s]"
      ]
     },
     "metadata": {},
     "output_type": "display_data"
    },
    {
     "name": "stdout",
     "output_type": "stream",
     "text": [
      "Timepoint ID 83 saved out\n"
     ]
    },
    {
     "data": {
      "application/vnd.jupyter.widget-view+json": {
       "model_id": "bafa247a21de4193a4b975ddf1df2b2a",
       "version_major": 2,
       "version_minor": 0
      },
      "text/plain": [
       "Processing Channels (T=84):   0%|          | 0/3 [00:00<?, ?it/s]"
      ]
     },
     "metadata": {},
     "output_type": "display_data"
    },
    {
     "name": "stdout",
     "output_type": "stream",
     "text": [
      "Timepoint ID 84 saved out\n"
     ]
    },
    {
     "data": {
      "application/vnd.jupyter.widget-view+json": {
       "model_id": "f841c32b7fea477a8dad407747cfb745",
       "version_major": 2,
       "version_minor": 0
      },
      "text/plain": [
       "Processing Channels (T=85):   0%|          | 0/3 [00:00<?, ?it/s]"
      ]
     },
     "metadata": {},
     "output_type": "display_data"
    },
    {
     "name": "stdout",
     "output_type": "stream",
     "text": [
      "Timepoint ID 85 saved out\n"
     ]
    },
    {
     "data": {
      "application/vnd.jupyter.widget-view+json": {
       "model_id": "63815ecf9c33431b8ef0495ee1a9c5ae",
       "version_major": 2,
       "version_minor": 0
      },
      "text/plain": [
       "Processing Channels (T=86):   0%|          | 0/3 [00:00<?, ?it/s]"
      ]
     },
     "metadata": {},
     "output_type": "display_data"
    },
    {
     "name": "stdout",
     "output_type": "stream",
     "text": [
      "Timepoint ID 86 saved out\n"
     ]
    },
    {
     "data": {
      "application/vnd.jupyter.widget-view+json": {
       "model_id": "67d29f51913645cc962e604ca993d1df",
       "version_major": 2,
       "version_minor": 0
      },
      "text/plain": [
       "Processing Channels (T=87):   0%|          | 0/3 [00:00<?, ?it/s]"
      ]
     },
     "metadata": {},
     "output_type": "display_data"
    },
    {
     "name": "stdout",
     "output_type": "stream",
     "text": [
      "Timepoint ID 87 saved out\n"
     ]
    },
    {
     "data": {
      "application/vnd.jupyter.widget-view+json": {
       "model_id": "2da0701866814707b789cb40a49ee676",
       "version_major": 2,
       "version_minor": 0
      },
      "text/plain": [
       "Processing Channels (T=88):   0%|          | 0/3 [00:00<?, ?it/s]"
      ]
     },
     "metadata": {},
     "output_type": "display_data"
    },
    {
     "name": "stdout",
     "output_type": "stream",
     "text": [
      "Timepoint ID 88 saved out\n"
     ]
    },
    {
     "data": {
      "application/vnd.jupyter.widget-view+json": {
       "model_id": "c14749d328c4410282dd4220032a0b5a",
       "version_major": 2,
       "version_minor": 0
      },
      "text/plain": [
       "Processing Channels (T=89):   0%|          | 0/3 [00:00<?, ?it/s]"
      ]
     },
     "metadata": {},
     "output_type": "display_data"
    },
    {
     "name": "stdout",
     "output_type": "stream",
     "text": [
      "Timepoint ID 89 saved out\n"
     ]
    },
    {
     "data": {
      "application/vnd.jupyter.widget-view+json": {
       "model_id": "36cb6a6394ad4f288d312a582d97c1ee",
       "version_major": 2,
       "version_minor": 0
      },
      "text/plain": [
       "Processing Channels (T=90):   0%|          | 0/3 [00:00<?, ?it/s]"
      ]
     },
     "metadata": {},
     "output_type": "display_data"
    },
    {
     "name": "stdout",
     "output_type": "stream",
     "text": [
      "Timepoint ID 90 saved out\n"
     ]
    },
    {
     "data": {
      "application/vnd.jupyter.widget-view+json": {
       "model_id": "90cbeea4b6284fd3a58ca97a7c2cc801",
       "version_major": 2,
       "version_minor": 0
      },
      "text/plain": [
       "Processing Channels (T=91):   0%|          | 0/3 [00:00<?, ?it/s]"
      ]
     },
     "metadata": {},
     "output_type": "display_data"
    },
    {
     "name": "stdout",
     "output_type": "stream",
     "text": [
      "Timepoint ID 91 saved out\n"
     ]
    },
    {
     "data": {
      "application/vnd.jupyter.widget-view+json": {
       "model_id": "a69832c77d4a4e63891b3cdb41642c88",
       "version_major": 2,
       "version_minor": 0
      },
      "text/plain": [
       "Processing Channels (T=92):   0%|          | 0/3 [00:00<?, ?it/s]"
      ]
     },
     "metadata": {},
     "output_type": "display_data"
    },
    {
     "name": "stdout",
     "output_type": "stream",
     "text": [
      "Timepoint ID 92 saved out\n"
     ]
    },
    {
     "data": {
      "application/vnd.jupyter.widget-view+json": {
       "model_id": "5b96dd690cd24731bbc3864160e58cb3",
       "version_major": 2,
       "version_minor": 0
      },
      "text/plain": [
       "Processing Channels (T=93):   0%|          | 0/3 [00:00<?, ?it/s]"
      ]
     },
     "metadata": {},
     "output_type": "display_data"
    },
    {
     "name": "stdout",
     "output_type": "stream",
     "text": [
      "Timepoint ID 93 saved out\n"
     ]
    },
    {
     "data": {
      "application/vnd.jupyter.widget-view+json": {
       "model_id": "7541355869d04d8eb1ec2bc86cb23c74",
       "version_major": 2,
       "version_minor": 0
      },
      "text/plain": [
       "Processing Channels (T=94):   0%|          | 0/3 [00:00<?, ?it/s]"
      ]
     },
     "metadata": {},
     "output_type": "display_data"
    },
    {
     "name": "stdout",
     "output_type": "stream",
     "text": [
      "Timepoint ID 94 saved out\n"
     ]
    },
    {
     "data": {
      "application/vnd.jupyter.widget-view+json": {
       "model_id": "3ea7a0ac674e452ea5176079916933aa",
       "version_major": 2,
       "version_minor": 0
      },
      "text/plain": [
       "Processing Channels (T=95):   0%|          | 0/3 [00:00<?, ?it/s]"
      ]
     },
     "metadata": {},
     "output_type": "display_data"
    },
    {
     "name": "stdout",
     "output_type": "stream",
     "text": [
      "Timepoint ID 95 saved out\n"
     ]
    },
    {
     "data": {
      "application/vnd.jupyter.widget-view+json": {
       "model_id": "914a396775804036ab29d37fd5256ab1",
       "version_major": 2,
       "version_minor": 0
      },
      "text/plain": [
       "Processing Channels (T=96):   0%|          | 0/3 [00:00<?, ?it/s]"
      ]
     },
     "metadata": {},
     "output_type": "display_data"
    },
    {
     "name": "stdout",
     "output_type": "stream",
     "text": [
      "Timepoint ID 96 saved out\n"
     ]
    },
    {
     "data": {
      "application/vnd.jupyter.widget-view+json": {
       "model_id": "a5a57d2aa775452dbd78d2becebb3cb7",
       "version_major": 2,
       "version_minor": 0
      },
      "text/plain": [
       "Processing Channels (T=97):   0%|          | 0/3 [00:00<?, ?it/s]"
      ]
     },
     "metadata": {},
     "output_type": "display_data"
    },
    {
     "name": "stdout",
     "output_type": "stream",
     "text": [
      "Timepoint ID 97 saved out\n"
     ]
    },
    {
     "data": {
      "application/vnd.jupyter.widget-view+json": {
       "model_id": "cd77a3f7304949afbb40eb1e1a4a7c93",
       "version_major": 2,
       "version_minor": 0
      },
      "text/plain": [
       "Processing Channels (T=98):   0%|          | 0/3 [00:00<?, ?it/s]"
      ]
     },
     "metadata": {},
     "output_type": "display_data"
    },
    {
     "name": "stdout",
     "output_type": "stream",
     "text": [
      "Timepoint ID 98 saved out\n"
     ]
    },
    {
     "data": {
      "application/vnd.jupyter.widget-view+json": {
       "model_id": "7613ba24ea72448fb9dffe6811932743",
       "version_major": 2,
       "version_minor": 0
      },
      "text/plain": [
       "Processing Channels (T=99):   0%|          | 0/3 [00:00<?, ?it/s]"
      ]
     },
     "metadata": {},
     "output_type": "display_data"
    },
    {
     "name": "stdout",
     "output_type": "stream",
     "text": [
      "Timepoint ID 99 saved out\n"
     ]
    },
    {
     "data": {
      "application/vnd.jupyter.widget-view+json": {
       "model_id": "3fb47150fb2343c6b1348aaef4eb4031",
       "version_major": 2,
       "version_minor": 0
      },
      "text/plain": [
       "Processing Channels (T=100):   0%|          | 0/3 [00:00<?, ?it/s]"
      ]
     },
     "metadata": {},
     "output_type": "display_data"
    },
    {
     "name": "stdout",
     "output_type": "stream",
     "text": [
      "Timepoint ID 100 saved out\n"
     ]
    },
    {
     "data": {
      "application/vnd.jupyter.widget-view+json": {
       "model_id": "a3250ee4f77e4b1da4248c412d99ef93",
       "version_major": 2,
       "version_minor": 0
      },
      "text/plain": [
       "Processing Channels (T=101):   0%|          | 0/3 [00:00<?, ?it/s]"
      ]
     },
     "metadata": {},
     "output_type": "display_data"
    },
    {
     "name": "stdout",
     "output_type": "stream",
     "text": [
      "Timepoint ID 101 saved out\n"
     ]
    },
    {
     "data": {
      "application/vnd.jupyter.widget-view+json": {
       "model_id": "5c34c3355bd84c03b5f3db454aeb0757",
       "version_major": 2,
       "version_minor": 0
      },
      "text/plain": [
       "Processing Channels (T=102):   0%|          | 0/3 [00:00<?, ?it/s]"
      ]
     },
     "metadata": {},
     "output_type": "display_data"
    },
    {
     "name": "stdout",
     "output_type": "stream",
     "text": [
      "Timepoint ID 102 saved out\n"
     ]
    },
    {
     "data": {
      "application/vnd.jupyter.widget-view+json": {
       "model_id": "d6b15cfd7d5e4136b1129cfd481ef739",
       "version_major": 2,
       "version_minor": 0
      },
      "text/plain": [
       "Processing Channels (T=103):   0%|          | 0/3 [00:00<?, ?it/s]"
      ]
     },
     "metadata": {},
     "output_type": "display_data"
    },
    {
     "name": "stdout",
     "output_type": "stream",
     "text": [
      "Timepoint ID 103 saved out\n"
     ]
    },
    {
     "data": {
      "application/vnd.jupyter.widget-view+json": {
       "model_id": "ec20a02bd7394a299e62e8c854dcfdb3",
       "version_major": 2,
       "version_minor": 0
      },
      "text/plain": [
       "Processing Channels (T=104):   0%|          | 0/3 [00:00<?, ?it/s]"
      ]
     },
     "metadata": {},
     "output_type": "display_data"
    },
    {
     "name": "stdout",
     "output_type": "stream",
     "text": [
      "Timepoint ID 104 saved out\n"
     ]
    },
    {
     "data": {
      "application/vnd.jupyter.widget-view+json": {
       "model_id": "b747fe2ea0494e2cb5f25fee8d91adf6",
       "version_major": 2,
       "version_minor": 0
      },
      "text/plain": [
       "Processing Channels (T=105):   0%|          | 0/3 [00:00<?, ?it/s]"
      ]
     },
     "metadata": {},
     "output_type": "display_data"
    },
    {
     "name": "stdout",
     "output_type": "stream",
     "text": [
      "Timepoint ID 105 saved out\n"
     ]
    },
    {
     "data": {
      "application/vnd.jupyter.widget-view+json": {
       "model_id": "74a9ba4c81104ff8b1ec7c21430854d5",
       "version_major": 2,
       "version_minor": 0
      },
      "text/plain": [
       "Processing Channels (T=106):   0%|          | 0/3 [00:00<?, ?it/s]"
      ]
     },
     "metadata": {},
     "output_type": "display_data"
    },
    {
     "name": "stdout",
     "output_type": "stream",
     "text": [
      "Timepoint ID 106 saved out\n"
     ]
    },
    {
     "data": {
      "application/vnd.jupyter.widget-view+json": {
       "model_id": "557ac7e4c2d04c0ab4699c28c7793372",
       "version_major": 2,
       "version_minor": 0
      },
      "text/plain": [
       "Processing Channels (T=107):   0%|          | 0/3 [00:00<?, ?it/s]"
      ]
     },
     "metadata": {},
     "output_type": "display_data"
    },
    {
     "name": "stdout",
     "output_type": "stream",
     "text": [
      "Timepoint ID 107 saved out\n"
     ]
    },
    {
     "data": {
      "application/vnd.jupyter.widget-view+json": {
       "model_id": "99da8bd717fd4be8bd9470be07abf8d5",
       "version_major": 2,
       "version_minor": 0
      },
      "text/plain": [
       "Processing Channels (T=108):   0%|          | 0/3 [00:00<?, ?it/s]"
      ]
     },
     "metadata": {},
     "output_type": "display_data"
    },
    {
     "name": "stdout",
     "output_type": "stream",
     "text": [
      "Timepoint ID 108 saved out\n"
     ]
    },
    {
     "data": {
      "application/vnd.jupyter.widget-view+json": {
       "model_id": "7ec7f9a2d71d4401a5490bf06da5b18d",
       "version_major": 2,
       "version_minor": 0
      },
      "text/plain": [
       "Processing Channels (T=109):   0%|          | 0/3 [00:00<?, ?it/s]"
      ]
     },
     "metadata": {},
     "output_type": "display_data"
    },
    {
     "name": "stdout",
     "output_type": "stream",
     "text": [
      "Timepoint ID 109 saved out\n"
     ]
    },
    {
     "data": {
      "application/vnd.jupyter.widget-view+json": {
       "model_id": "436686dbf82d4640a5d8b5bc28ede3ca",
       "version_major": 2,
       "version_minor": 0
      },
      "text/plain": [
       "Processing Channels (T=110):   0%|          | 0/3 [00:00<?, ?it/s]"
      ]
     },
     "metadata": {},
     "output_type": "display_data"
    },
    {
     "name": "stdout",
     "output_type": "stream",
     "text": [
      "Timepoint ID 110 saved out\n"
     ]
    },
    {
     "data": {
      "application/vnd.jupyter.widget-view+json": {
       "model_id": "0524d25953a648d780923145f036c083",
       "version_major": 2,
       "version_minor": 0
      },
      "text/plain": [
       "Processing Channels (T=111):   0%|          | 0/3 [00:00<?, ?it/s]"
      ]
     },
     "metadata": {},
     "output_type": "display_data"
    },
    {
     "name": "stdout",
     "output_type": "stream",
     "text": [
      "Timepoint ID 111 saved out\n"
     ]
    },
    {
     "data": {
      "application/vnd.jupyter.widget-view+json": {
       "model_id": "0692f531b8874c79a95e4810abd63b79",
       "version_major": 2,
       "version_minor": 0
      },
      "text/plain": [
       "Processing Channels (T=112):   0%|          | 0/3 [00:00<?, ?it/s]"
      ]
     },
     "metadata": {},
     "output_type": "display_data"
    },
    {
     "name": "stdout",
     "output_type": "stream",
     "text": [
      "Timepoint ID 112 saved out\n"
     ]
    },
    {
     "data": {
      "application/vnd.jupyter.widget-view+json": {
       "model_id": "1e455a89349943d18ac17b740bb89e3f",
       "version_major": 2,
       "version_minor": 0
      },
      "text/plain": [
       "Processing Channels (T=113):   0%|          | 0/3 [00:00<?, ?it/s]"
      ]
     },
     "metadata": {},
     "output_type": "display_data"
    },
    {
     "name": "stdout",
     "output_type": "stream",
     "text": [
      "Timepoint ID 113 saved out\n"
     ]
    },
    {
     "data": {
      "application/vnd.jupyter.widget-view+json": {
       "model_id": "1e128cff447b4ac493eca19edc18b538",
       "version_major": 2,
       "version_minor": 0
      },
      "text/plain": [
       "Processing Channels (T=114):   0%|          | 0/3 [00:00<?, ?it/s]"
      ]
     },
     "metadata": {},
     "output_type": "display_data"
    },
    {
     "name": "stdout",
     "output_type": "stream",
     "text": [
      "Timepoint ID 114 saved out\n"
     ]
    },
    {
     "data": {
      "application/vnd.jupyter.widget-view+json": {
       "model_id": "e0136ff56f6244f69bfc2d810da327dd",
       "version_major": 2,
       "version_minor": 0
      },
      "text/plain": [
       "Processing Channels (T=115):   0%|          | 0/3 [00:00<?, ?it/s]"
      ]
     },
     "metadata": {},
     "output_type": "display_data"
    },
    {
     "name": "stdout",
     "output_type": "stream",
     "text": [
      "Timepoint ID 115 saved out\n"
     ]
    },
    {
     "data": {
      "application/vnd.jupyter.widget-view+json": {
       "model_id": "d8d3a255fb494d1da3017e3e2ef98cdc",
       "version_major": 2,
       "version_minor": 0
      },
      "text/plain": [
       "Processing Channels (T=116):   0%|          | 0/3 [00:00<?, ?it/s]"
      ]
     },
     "metadata": {},
     "output_type": "display_data"
    },
    {
     "name": "stdout",
     "output_type": "stream",
     "text": [
      "Timepoint ID 116 saved out\n"
     ]
    },
    {
     "data": {
      "application/vnd.jupyter.widget-view+json": {
       "model_id": "1be5a4d074bc421d8d1984a36c6d2536",
       "version_major": 2,
       "version_minor": 0
      },
      "text/plain": [
       "Processing Channels (T=117):   0%|          | 0/3 [00:00<?, ?it/s]"
      ]
     },
     "metadata": {},
     "output_type": "display_data"
    },
    {
     "name": "stdout",
     "output_type": "stream",
     "text": [
      "Timepoint ID 117 saved out\n"
     ]
    },
    {
     "data": {
      "application/vnd.jupyter.widget-view+json": {
       "model_id": "d7623bb521af42e6bee77fc53379ac8c",
       "version_major": 2,
       "version_minor": 0
      },
      "text/plain": [
       "Processing Channels (T=118):   0%|          | 0/3 [00:00<?, ?it/s]"
      ]
     },
     "metadata": {},
     "output_type": "display_data"
    },
    {
     "name": "stdout",
     "output_type": "stream",
     "text": [
      "Timepoint ID 118 saved out\n"
     ]
    },
    {
     "data": {
      "application/vnd.jupyter.widget-view+json": {
       "model_id": "9851dfa681164cf892056e5abb023012",
       "version_major": 2,
       "version_minor": 0
      },
      "text/plain": [
       "Processing Channels (T=119):   0%|          | 0/3 [00:00<?, ?it/s]"
      ]
     },
     "metadata": {},
     "output_type": "display_data"
    },
    {
     "name": "stdout",
     "output_type": "stream",
     "text": [
      "Timepoint ID 119 saved out\n"
     ]
    },
    {
     "data": {
      "application/vnd.jupyter.widget-view+json": {
       "model_id": "4a371aa6a0534222bb578f50af45664e",
       "version_major": 2,
       "version_minor": 0
      },
      "text/plain": [
       "Processing Channels (T=120):   0%|          | 0/3 [00:00<?, ?it/s]"
      ]
     },
     "metadata": {},
     "output_type": "display_data"
    },
    {
     "name": "stdout",
     "output_type": "stream",
     "text": [
      "Timepoint ID 120 saved out\n"
     ]
    },
    {
     "data": {
      "application/vnd.jupyter.widget-view+json": {
       "model_id": "6e7f1aeb2a684bb1a31879ebf209d34f",
       "version_major": 2,
       "version_minor": 0
      },
      "text/plain": [
       "Processing Channels (T=121):   0%|          | 0/3 [00:00<?, ?it/s]"
      ]
     },
     "metadata": {},
     "output_type": "display_data"
    },
    {
     "name": "stdout",
     "output_type": "stream",
     "text": [
      "Timepoint ID 121 saved out\n"
     ]
    },
    {
     "data": {
      "application/vnd.jupyter.widget-view+json": {
       "model_id": "f4b362f546c34d7c88ce7476f3bf45e1",
       "version_major": 2,
       "version_minor": 0
      },
      "text/plain": [
       "Processing Channels (T=122):   0%|          | 0/3 [00:00<?, ?it/s]"
      ]
     },
     "metadata": {},
     "output_type": "display_data"
    },
    {
     "name": "stdout",
     "output_type": "stream",
     "text": [
      "Timepoint ID 122 saved out\n"
     ]
    },
    {
     "data": {
      "application/vnd.jupyter.widget-view+json": {
       "model_id": "aaed1898cb4d4f5db53c25c4df084cca",
       "version_major": 2,
       "version_minor": 0
      },
      "text/plain": [
       "Processing Channels (T=123):   0%|          | 0/3 [00:00<?, ?it/s]"
      ]
     },
     "metadata": {},
     "output_type": "display_data"
    },
    {
     "name": "stdout",
     "output_type": "stream",
     "text": [
      "Timepoint ID 123 saved out\n"
     ]
    },
    {
     "data": {
      "application/vnd.jupyter.widget-view+json": {
       "model_id": "47cb3b21fcc8453a9f7866fb230f43d4",
       "version_major": 2,
       "version_minor": 0
      },
      "text/plain": [
       "Processing Channels (T=124):   0%|          | 0/3 [00:00<?, ?it/s]"
      ]
     },
     "metadata": {},
     "output_type": "display_data"
    },
    {
     "name": "stdout",
     "output_type": "stream",
     "text": [
      "Timepoint ID 124 saved out\n"
     ]
    },
    {
     "data": {
      "application/vnd.jupyter.widget-view+json": {
       "model_id": "ea922c7f226a4d5f91c0833c9c867ca5",
       "version_major": 2,
       "version_minor": 0
      },
      "text/plain": [
       "Processing Channels (T=125):   0%|          | 0/3 [00:00<?, ?it/s]"
      ]
     },
     "metadata": {},
     "output_type": "display_data"
    },
    {
     "name": "stdout",
     "output_type": "stream",
     "text": [
      "Timepoint ID 125 saved out\n"
     ]
    },
    {
     "data": {
      "application/vnd.jupyter.widget-view+json": {
       "model_id": "8e17e600215343d4a61538e786e3099f",
       "version_major": 2,
       "version_minor": 0
      },
      "text/plain": [
       "Processing Channels (T=126):   0%|          | 0/3 [00:00<?, ?it/s]"
      ]
     },
     "metadata": {},
     "output_type": "display_data"
    },
    {
     "name": "stdout",
     "output_type": "stream",
     "text": [
      "Timepoint ID 126 saved out\n"
     ]
    },
    {
     "data": {
      "application/vnd.jupyter.widget-view+json": {
       "model_id": "363226c326994d62ad736ca9f8978abe",
       "version_major": 2,
       "version_minor": 0
      },
      "text/plain": [
       "Processing Channels (T=127):   0%|          | 0/3 [00:00<?, ?it/s]"
      ]
     },
     "metadata": {},
     "output_type": "display_data"
    },
    {
     "name": "stdout",
     "output_type": "stream",
     "text": [
      "Timepoint ID 127 saved out\n"
     ]
    },
    {
     "data": {
      "application/vnd.jupyter.widget-view+json": {
       "model_id": "14b412ecb2844363bc3bb8cb4f7dfeeb",
       "version_major": 2,
       "version_minor": 0
      },
      "text/plain": [
       "Processing Channels (T=128):   0%|          | 0/3 [00:00<?, ?it/s]"
      ]
     },
     "metadata": {},
     "output_type": "display_data"
    },
    {
     "name": "stdout",
     "output_type": "stream",
     "text": [
      "Timepoint ID 128 saved out\n"
     ]
    },
    {
     "data": {
      "application/vnd.jupyter.widget-view+json": {
       "model_id": "31dfcd33b18941abafabe03870b96617",
       "version_major": 2,
       "version_minor": 0
      },
      "text/plain": [
       "Processing Channels (T=129):   0%|          | 0/3 [00:00<?, ?it/s]"
      ]
     },
     "metadata": {},
     "output_type": "display_data"
    },
    {
     "name": "stdout",
     "output_type": "stream",
     "text": [
      "Timepoint ID 129 saved out\n"
     ]
    },
    {
     "data": {
      "application/vnd.jupyter.widget-view+json": {
       "model_id": "ad69242695d443c19253a1a06c6684c8",
       "version_major": 2,
       "version_minor": 0
      },
      "text/plain": [
       "Processing Channels (T=130):   0%|          | 0/3 [00:00<?, ?it/s]"
      ]
     },
     "metadata": {},
     "output_type": "display_data"
    },
    {
     "name": "stdout",
     "output_type": "stream",
     "text": [
      "Timepoint ID 130 saved out\n"
     ]
    },
    {
     "data": {
      "application/vnd.jupyter.widget-view+json": {
       "model_id": "8fd87042f10e4928af4718b7928bb6b1",
       "version_major": 2,
       "version_minor": 0
      },
      "text/plain": [
       "Processing Channels (T=131):   0%|          | 0/3 [00:00<?, ?it/s]"
      ]
     },
     "metadata": {},
     "output_type": "display_data"
    },
    {
     "name": "stdout",
     "output_type": "stream",
     "text": [
      "Timepoint ID 131 saved out\n"
     ]
    },
    {
     "data": {
      "application/vnd.jupyter.widget-view+json": {
       "model_id": "a515dea5dd44420abfcb4f4831940c39",
       "version_major": 2,
       "version_minor": 0
      },
      "text/plain": [
       "Processing Channels (T=132):   0%|          | 0/3 [00:00<?, ?it/s]"
      ]
     },
     "metadata": {},
     "output_type": "display_data"
    },
    {
     "name": "stdout",
     "output_type": "stream",
     "text": [
      "Timepoint ID 132 saved out\n"
     ]
    },
    {
     "data": {
      "application/vnd.jupyter.widget-view+json": {
       "model_id": "49c5e911ef0742a28be24d0ccb31d8b5",
       "version_major": 2,
       "version_minor": 0
      },
      "text/plain": [
       "Processing Channels (T=133):   0%|          | 0/3 [00:00<?, ?it/s]"
      ]
     },
     "metadata": {},
     "output_type": "display_data"
    },
    {
     "name": "stdout",
     "output_type": "stream",
     "text": [
      "Timepoint ID 133 saved out\n"
     ]
    },
    {
     "data": {
      "application/vnd.jupyter.widget-view+json": {
       "model_id": "ecaab6fd7cbb4443be04bb843a84d1a5",
       "version_major": 2,
       "version_minor": 0
      },
      "text/plain": [
       "Processing Channels (T=134):   0%|          | 0/3 [00:00<?, ?it/s]"
      ]
     },
     "metadata": {},
     "output_type": "display_data"
    },
    {
     "name": "stdout",
     "output_type": "stream",
     "text": [
      "Timepoint ID 134 saved out\n"
     ]
    },
    {
     "data": {
      "application/vnd.jupyter.widget-view+json": {
       "model_id": "53ffb2fe0ddb413ba598298d29b5bcec",
       "version_major": 2,
       "version_minor": 0
      },
      "text/plain": [
       "Processing Channels (T=135):   0%|          | 0/3 [00:00<?, ?it/s]"
      ]
     },
     "metadata": {},
     "output_type": "display_data"
    },
    {
     "name": "stdout",
     "output_type": "stream",
     "text": [
      "Timepoint ID 135 saved out\n"
     ]
    },
    {
     "data": {
      "application/vnd.jupyter.widget-view+json": {
       "model_id": "ae46ffff8cf64eeaba2371eb77f025f5",
       "version_major": 2,
       "version_minor": 0
      },
      "text/plain": [
       "Processing Channels (T=136):   0%|          | 0/3 [00:00<?, ?it/s]"
      ]
     },
     "metadata": {},
     "output_type": "display_data"
    },
    {
     "name": "stdout",
     "output_type": "stream",
     "text": [
      "Timepoint ID 136 saved out\n"
     ]
    },
    {
     "data": {
      "application/vnd.jupyter.widget-view+json": {
       "model_id": "b2ebbd43e27b4046a70df39efa10bc64",
       "version_major": 2,
       "version_minor": 0
      },
      "text/plain": [
       "Processing Channels (T=137):   0%|          | 0/3 [00:00<?, ?it/s]"
      ]
     },
     "metadata": {},
     "output_type": "display_data"
    },
    {
     "name": "stdout",
     "output_type": "stream",
     "text": [
      "Timepoint ID 137 saved out\n"
     ]
    },
    {
     "data": {
      "application/vnd.jupyter.widget-view+json": {
       "model_id": "486ca8aa708248c2becce0ace211809c",
       "version_major": 2,
       "version_minor": 0
      },
      "text/plain": [
       "Processing Channels (T=138):   0%|          | 0/3 [00:00<?, ?it/s]"
      ]
     },
     "metadata": {},
     "output_type": "display_data"
    },
    {
     "name": "stdout",
     "output_type": "stream",
     "text": [
      "Timepoint ID 138 saved out\n"
     ]
    },
    {
     "data": {
      "application/vnd.jupyter.widget-view+json": {
       "model_id": "95afa5ef6a20444aa9fa7e8853cd0db9",
       "version_major": 2,
       "version_minor": 0
      },
      "text/plain": [
       "Processing Channels (T=139):   0%|          | 0/3 [00:00<?, ?it/s]"
      ]
     },
     "metadata": {},
     "output_type": "display_data"
    },
    {
     "name": "stdout",
     "output_type": "stream",
     "text": [
      "Timepoint ID 139 saved out\n"
     ]
    },
    {
     "data": {
      "application/vnd.jupyter.widget-view+json": {
       "model_id": "93172dc06aa64952a24dd590c1608a67",
       "version_major": 2,
       "version_minor": 0
      },
      "text/plain": [
       "Processing Channels (T=140):   0%|          | 0/3 [00:00<?, ?it/s]"
      ]
     },
     "metadata": {},
     "output_type": "display_data"
    },
    {
     "name": "stdout",
     "output_type": "stream",
     "text": [
      "Timepoint ID 140 saved out\n"
     ]
    },
    {
     "data": {
      "application/vnd.jupyter.widget-view+json": {
       "model_id": "919f879c739f4f7387d4bce4446b74db",
       "version_major": 2,
       "version_minor": 0
      },
      "text/plain": [
       "Processing Channels (T=141):   0%|          | 0/3 [00:00<?, ?it/s]"
      ]
     },
     "metadata": {},
     "output_type": "display_data"
    },
    {
     "name": "stdout",
     "output_type": "stream",
     "text": [
      "Timepoint ID 141 saved out\n"
     ]
    },
    {
     "data": {
      "application/vnd.jupyter.widget-view+json": {
       "model_id": "0bf8410e89ec4b5ba1c76e2afe4819da",
       "version_major": 2,
       "version_minor": 0
      },
      "text/plain": [
       "Processing Channels (T=142):   0%|          | 0/3 [00:00<?, ?it/s]"
      ]
     },
     "metadata": {},
     "output_type": "display_data"
    },
    {
     "name": "stdout",
     "output_type": "stream",
     "text": [
      "Timepoint ID 142 saved out\n"
     ]
    },
    {
     "data": {
      "application/vnd.jupyter.widget-view+json": {
       "model_id": "273e446e660e46fd9f1966d1ea85646f",
       "version_major": 2,
       "version_minor": 0
      },
      "text/plain": [
       "Processing Channels (T=143):   0%|          | 0/3 [00:00<?, ?it/s]"
      ]
     },
     "metadata": {},
     "output_type": "display_data"
    },
    {
     "name": "stdout",
     "output_type": "stream",
     "text": [
      "Timepoint ID 143 saved out\n"
     ]
    },
    {
     "data": {
      "application/vnd.jupyter.widget-view+json": {
       "model_id": "a1b00d49c3c34fe5933090ab574786e5",
       "version_major": 2,
       "version_minor": 0
      },
      "text/plain": [
       "Processing Time Points:   0%|          | 0/144 [00:00<?, ?it/s]"
      ]
     },
     "metadata": {},
     "output_type": "display_data"
    },
    {
     "data": {
      "application/vnd.jupyter.widget-view+json": {
       "model_id": "59c4bc039ef743c1a45f3e1081fb0595",
       "version_major": 2,
       "version_minor": 0
      },
      "text/plain": [
       "Processing Channels (T=0):   0%|          | 0/3 [00:00<?, ?it/s]"
      ]
     },
     "metadata": {},
     "output_type": "display_data"
    },
    {
     "name": "stdout",
     "output_type": "stream",
     "text": [
      "Timepoint ID 0 saved out\n"
     ]
    },
    {
     "data": {
      "application/vnd.jupyter.widget-view+json": {
       "model_id": "2a8c81699ec141ffb16e81a8c5e69709",
       "version_major": 2,
       "version_minor": 0
      },
      "text/plain": [
       "Processing Channels (T=1):   0%|          | 0/3 [00:00<?, ?it/s]"
      ]
     },
     "metadata": {},
     "output_type": "display_data"
    },
    {
     "name": "stdout",
     "output_type": "stream",
     "text": [
      "Timepoint ID 1 saved out\n"
     ]
    },
    {
     "data": {
      "application/vnd.jupyter.widget-view+json": {
       "model_id": "2c4818e5179f450ebb1b9a1e7b34a2a5",
       "version_major": 2,
       "version_minor": 0
      },
      "text/plain": [
       "Processing Channels (T=2):   0%|          | 0/3 [00:00<?, ?it/s]"
      ]
     },
     "metadata": {},
     "output_type": "display_data"
    },
    {
     "name": "stdout",
     "output_type": "stream",
     "text": [
      "Timepoint ID 2 saved out\n"
     ]
    },
    {
     "data": {
      "application/vnd.jupyter.widget-view+json": {
       "model_id": "dcedce93bd4848819ab2b3eae752c590",
       "version_major": 2,
       "version_minor": 0
      },
      "text/plain": [
       "Processing Channels (T=3):   0%|          | 0/3 [00:00<?, ?it/s]"
      ]
     },
     "metadata": {},
     "output_type": "display_data"
    },
    {
     "name": "stdout",
     "output_type": "stream",
     "text": [
      "Timepoint ID 3 saved out\n"
     ]
    },
    {
     "data": {
      "application/vnd.jupyter.widget-view+json": {
       "model_id": "ff11f5e171b3474fab504a607de23950",
       "version_major": 2,
       "version_minor": 0
      },
      "text/plain": [
       "Processing Channels (T=4):   0%|          | 0/3 [00:00<?, ?it/s]"
      ]
     },
     "metadata": {},
     "output_type": "display_data"
    },
    {
     "name": "stdout",
     "output_type": "stream",
     "text": [
      "Timepoint ID 4 saved out\n"
     ]
    },
    {
     "data": {
      "application/vnd.jupyter.widget-view+json": {
       "model_id": "e363034783ca4e09a7c3ab0c4d6cfa73",
       "version_major": 2,
       "version_minor": 0
      },
      "text/plain": [
       "Processing Channels (T=5):   0%|          | 0/3 [00:00<?, ?it/s]"
      ]
     },
     "metadata": {},
     "output_type": "display_data"
    },
    {
     "name": "stdout",
     "output_type": "stream",
     "text": [
      "Timepoint ID 5 saved out\n"
     ]
    },
    {
     "data": {
      "application/vnd.jupyter.widget-view+json": {
       "model_id": "59357bc102b94f468001fee333ae5ae1",
       "version_major": 2,
       "version_minor": 0
      },
      "text/plain": [
       "Processing Channels (T=6):   0%|          | 0/3 [00:00<?, ?it/s]"
      ]
     },
     "metadata": {},
     "output_type": "display_data"
    },
    {
     "name": "stdout",
     "output_type": "stream",
     "text": [
      "Timepoint ID 6 saved out\n"
     ]
    },
    {
     "data": {
      "application/vnd.jupyter.widget-view+json": {
       "model_id": "06baae871be74d0d9b468e83a906259a",
       "version_major": 2,
       "version_minor": 0
      },
      "text/plain": [
       "Processing Channels (T=7):   0%|          | 0/3 [00:00<?, ?it/s]"
      ]
     },
     "metadata": {},
     "output_type": "display_data"
    },
    {
     "name": "stdout",
     "output_type": "stream",
     "text": [
      "Timepoint ID 7 saved out\n"
     ]
    },
    {
     "data": {
      "application/vnd.jupyter.widget-view+json": {
       "model_id": "e1f7fbe89bf047059df871a100c15fba",
       "version_major": 2,
       "version_minor": 0
      },
      "text/plain": [
       "Processing Channels (T=8):   0%|          | 0/3 [00:00<?, ?it/s]"
      ]
     },
     "metadata": {},
     "output_type": "display_data"
    },
    {
     "name": "stdout",
     "output_type": "stream",
     "text": [
      "Timepoint ID 8 saved out\n"
     ]
    },
    {
     "data": {
      "application/vnd.jupyter.widget-view+json": {
       "model_id": "b970c04df5c34c3db6376d0f62705cae",
       "version_major": 2,
       "version_minor": 0
      },
      "text/plain": [
       "Processing Channels (T=9):   0%|          | 0/3 [00:00<?, ?it/s]"
      ]
     },
     "metadata": {},
     "output_type": "display_data"
    },
    {
     "name": "stdout",
     "output_type": "stream",
     "text": [
      "Timepoint ID 9 saved out\n"
     ]
    },
    {
     "data": {
      "application/vnd.jupyter.widget-view+json": {
       "model_id": "072df756931f45238438e14350fae781",
       "version_major": 2,
       "version_minor": 0
      },
      "text/plain": [
       "Processing Channels (T=10):   0%|          | 0/3 [00:00<?, ?it/s]"
      ]
     },
     "metadata": {},
     "output_type": "display_data"
    },
    {
     "name": "stdout",
     "output_type": "stream",
     "text": [
      "Timepoint ID 10 saved out\n"
     ]
    },
    {
     "data": {
      "application/vnd.jupyter.widget-view+json": {
       "model_id": "499ead3bf46b4eacbd23c948a66573f1",
       "version_major": 2,
       "version_minor": 0
      },
      "text/plain": [
       "Processing Channels (T=11):   0%|          | 0/3 [00:00<?, ?it/s]"
      ]
     },
     "metadata": {},
     "output_type": "display_data"
    },
    {
     "name": "stdout",
     "output_type": "stream",
     "text": [
      "Timepoint ID 11 saved out\n"
     ]
    },
    {
     "data": {
      "application/vnd.jupyter.widget-view+json": {
       "model_id": "8711515b1baf432296d8e78159f65c95",
       "version_major": 2,
       "version_minor": 0
      },
      "text/plain": [
       "Processing Channels (T=12):   0%|          | 0/3 [00:00<?, ?it/s]"
      ]
     },
     "metadata": {},
     "output_type": "display_data"
    },
    {
     "name": "stdout",
     "output_type": "stream",
     "text": [
      "Timepoint ID 12 saved out\n"
     ]
    },
    {
     "data": {
      "application/vnd.jupyter.widget-view+json": {
       "model_id": "b570849af5e648289f23e4238e8dfca0",
       "version_major": 2,
       "version_minor": 0
      },
      "text/plain": [
       "Processing Channels (T=13):   0%|          | 0/3 [00:00<?, ?it/s]"
      ]
     },
     "metadata": {},
     "output_type": "display_data"
    },
    {
     "name": "stdout",
     "output_type": "stream",
     "text": [
      "Timepoint ID 13 saved out\n"
     ]
    },
    {
     "data": {
      "application/vnd.jupyter.widget-view+json": {
       "model_id": "09ee741c33334ece9a1fa1536c6762b2",
       "version_major": 2,
       "version_minor": 0
      },
      "text/plain": [
       "Processing Channels (T=14):   0%|          | 0/3 [00:00<?, ?it/s]"
      ]
     },
     "metadata": {},
     "output_type": "display_data"
    },
    {
     "name": "stdout",
     "output_type": "stream",
     "text": [
      "Timepoint ID 14 saved out\n"
     ]
    },
    {
     "data": {
      "application/vnd.jupyter.widget-view+json": {
       "model_id": "e7a6f6785fba4c368e79229262e8a301",
       "version_major": 2,
       "version_minor": 0
      },
      "text/plain": [
       "Processing Channels (T=15):   0%|          | 0/3 [00:00<?, ?it/s]"
      ]
     },
     "metadata": {},
     "output_type": "display_data"
    },
    {
     "name": "stdout",
     "output_type": "stream",
     "text": [
      "Timepoint ID 15 saved out\n"
     ]
    },
    {
     "data": {
      "application/vnd.jupyter.widget-view+json": {
       "model_id": "412708c1442e4e7b9e8f14b60cb309ba",
       "version_major": 2,
       "version_minor": 0
      },
      "text/plain": [
       "Processing Channels (T=16):   0%|          | 0/3 [00:00<?, ?it/s]"
      ]
     },
     "metadata": {},
     "output_type": "display_data"
    },
    {
     "name": "stdout",
     "output_type": "stream",
     "text": [
      "Timepoint ID 16 saved out\n"
     ]
    },
    {
     "data": {
      "application/vnd.jupyter.widget-view+json": {
       "model_id": "cc198158f0874b1981858e1be941585c",
       "version_major": 2,
       "version_minor": 0
      },
      "text/plain": [
       "Processing Channels (T=17):   0%|          | 0/3 [00:00<?, ?it/s]"
      ]
     },
     "metadata": {},
     "output_type": "display_data"
    },
    {
     "name": "stdout",
     "output_type": "stream",
     "text": [
      "Timepoint ID 17 saved out\n"
     ]
    },
    {
     "data": {
      "application/vnd.jupyter.widget-view+json": {
       "model_id": "220dbdd57b424ad6b72737ebd982774c",
       "version_major": 2,
       "version_minor": 0
      },
      "text/plain": [
       "Processing Channels (T=18):   0%|          | 0/3 [00:00<?, ?it/s]"
      ]
     },
     "metadata": {},
     "output_type": "display_data"
    },
    {
     "name": "stdout",
     "output_type": "stream",
     "text": [
      "Timepoint ID 18 saved out\n"
     ]
    },
    {
     "data": {
      "application/vnd.jupyter.widget-view+json": {
       "model_id": "7d9dde246a0c493eb9bfe2025c4f3e07",
       "version_major": 2,
       "version_minor": 0
      },
      "text/plain": [
       "Processing Channels (T=19):   0%|          | 0/3 [00:00<?, ?it/s]"
      ]
     },
     "metadata": {},
     "output_type": "display_data"
    },
    {
     "name": "stdout",
     "output_type": "stream",
     "text": [
      "Timepoint ID 19 saved out\n"
     ]
    },
    {
     "data": {
      "application/vnd.jupyter.widget-view+json": {
       "model_id": "8a8abeb2bb394f0c930e0b8442203605",
       "version_major": 2,
       "version_minor": 0
      },
      "text/plain": [
       "Processing Channels (T=20):   0%|          | 0/3 [00:00<?, ?it/s]"
      ]
     },
     "metadata": {},
     "output_type": "display_data"
    },
    {
     "name": "stdout",
     "output_type": "stream",
     "text": [
      "Timepoint ID 20 saved out\n"
     ]
    },
    {
     "data": {
      "application/vnd.jupyter.widget-view+json": {
       "model_id": "74f86cdf19374173ad2e3b2437573d41",
       "version_major": 2,
       "version_minor": 0
      },
      "text/plain": [
       "Processing Channels (T=21):   0%|          | 0/3 [00:00<?, ?it/s]"
      ]
     },
     "metadata": {},
     "output_type": "display_data"
    },
    {
     "name": "stdout",
     "output_type": "stream",
     "text": [
      "Timepoint ID 21 saved out\n"
     ]
    },
    {
     "data": {
      "application/vnd.jupyter.widget-view+json": {
       "model_id": "093819be2cb04d49b843580c4b7e46da",
       "version_major": 2,
       "version_minor": 0
      },
      "text/plain": [
       "Processing Channels (T=22):   0%|          | 0/3 [00:00<?, ?it/s]"
      ]
     },
     "metadata": {},
     "output_type": "display_data"
    },
    {
     "name": "stdout",
     "output_type": "stream",
     "text": [
      "Timepoint ID 22 saved out\n"
     ]
    },
    {
     "data": {
      "application/vnd.jupyter.widget-view+json": {
       "model_id": "8fd4ee83f9c542a58e3ccd7785376350",
       "version_major": 2,
       "version_minor": 0
      },
      "text/plain": [
       "Processing Channels (T=23):   0%|          | 0/3 [00:00<?, ?it/s]"
      ]
     },
     "metadata": {},
     "output_type": "display_data"
    },
    {
     "name": "stdout",
     "output_type": "stream",
     "text": [
      "Timepoint ID 23 saved out\n"
     ]
    },
    {
     "data": {
      "application/vnd.jupyter.widget-view+json": {
       "model_id": "ec060f9d8a724b74b79565713958f322",
       "version_major": 2,
       "version_minor": 0
      },
      "text/plain": [
       "Processing Channels (T=24):   0%|          | 0/3 [00:00<?, ?it/s]"
      ]
     },
     "metadata": {},
     "output_type": "display_data"
    },
    {
     "name": "stdout",
     "output_type": "stream",
     "text": [
      "Timepoint ID 24 saved out\n"
     ]
    },
    {
     "data": {
      "application/vnd.jupyter.widget-view+json": {
       "model_id": "7e98d321cf61467087ec0fc8c8495dbf",
       "version_major": 2,
       "version_minor": 0
      },
      "text/plain": [
       "Processing Channels (T=25):   0%|          | 0/3 [00:00<?, ?it/s]"
      ]
     },
     "metadata": {},
     "output_type": "display_data"
    },
    {
     "name": "stdout",
     "output_type": "stream",
     "text": [
      "Timepoint ID 25 saved out\n"
     ]
    },
    {
     "data": {
      "application/vnd.jupyter.widget-view+json": {
       "model_id": "e7df56edf9174e59ae1f7286f711e9c9",
       "version_major": 2,
       "version_minor": 0
      },
      "text/plain": [
       "Processing Channels (T=26):   0%|          | 0/3 [00:00<?, ?it/s]"
      ]
     },
     "metadata": {},
     "output_type": "display_data"
    },
    {
     "name": "stdout",
     "output_type": "stream",
     "text": [
      "Timepoint ID 26 saved out\n"
     ]
    },
    {
     "data": {
      "application/vnd.jupyter.widget-view+json": {
       "model_id": "898bd316c8cb4550ad526685844881db",
       "version_major": 2,
       "version_minor": 0
      },
      "text/plain": [
       "Processing Channels (T=27):   0%|          | 0/3 [00:00<?, ?it/s]"
      ]
     },
     "metadata": {},
     "output_type": "display_data"
    },
    {
     "name": "stdout",
     "output_type": "stream",
     "text": [
      "Timepoint ID 27 saved out\n"
     ]
    },
    {
     "data": {
      "application/vnd.jupyter.widget-view+json": {
       "model_id": "7ae487e8a7144161bad8cb3bbb018d82",
       "version_major": 2,
       "version_minor": 0
      },
      "text/plain": [
       "Processing Channels (T=28):   0%|          | 0/3 [00:00<?, ?it/s]"
      ]
     },
     "metadata": {},
     "output_type": "display_data"
    },
    {
     "name": "stdout",
     "output_type": "stream",
     "text": [
      "Timepoint ID 28 saved out\n"
     ]
    },
    {
     "data": {
      "application/vnd.jupyter.widget-view+json": {
       "model_id": "373f7e313e40408c88fe3237a21a2665",
       "version_major": 2,
       "version_minor": 0
      },
      "text/plain": [
       "Processing Channels (T=29):   0%|          | 0/3 [00:00<?, ?it/s]"
      ]
     },
     "metadata": {},
     "output_type": "display_data"
    },
    {
     "name": "stdout",
     "output_type": "stream",
     "text": [
      "Timepoint ID 29 saved out\n"
     ]
    },
    {
     "data": {
      "application/vnd.jupyter.widget-view+json": {
       "model_id": "44a735a9bc3d45c1b89c867a2a4970c3",
       "version_major": 2,
       "version_minor": 0
      },
      "text/plain": [
       "Processing Channels (T=30):   0%|          | 0/3 [00:00<?, ?it/s]"
      ]
     },
     "metadata": {},
     "output_type": "display_data"
    },
    {
     "name": "stdout",
     "output_type": "stream",
     "text": [
      "Timepoint ID 30 saved out\n"
     ]
    },
    {
     "data": {
      "application/vnd.jupyter.widget-view+json": {
       "model_id": "89f036f2a871461a9789211f9ce80602",
       "version_major": 2,
       "version_minor": 0
      },
      "text/plain": [
       "Processing Channels (T=31):   0%|          | 0/3 [00:00<?, ?it/s]"
      ]
     },
     "metadata": {},
     "output_type": "display_data"
    },
    {
     "name": "stdout",
     "output_type": "stream",
     "text": [
      "Timepoint ID 31 saved out\n"
     ]
    },
    {
     "data": {
      "application/vnd.jupyter.widget-view+json": {
       "model_id": "e7e9d59ab0b74e18becc1a86fd0feae5",
       "version_major": 2,
       "version_minor": 0
      },
      "text/plain": [
       "Processing Channels (T=32):   0%|          | 0/3 [00:00<?, ?it/s]"
      ]
     },
     "metadata": {},
     "output_type": "display_data"
    },
    {
     "name": "stdout",
     "output_type": "stream",
     "text": [
      "Timepoint ID 32 saved out\n"
     ]
    },
    {
     "data": {
      "application/vnd.jupyter.widget-view+json": {
       "model_id": "9d1793aa3b274a3dab7961d5560c2057",
       "version_major": 2,
       "version_minor": 0
      },
      "text/plain": [
       "Processing Channels (T=33):   0%|          | 0/3 [00:00<?, ?it/s]"
      ]
     },
     "metadata": {},
     "output_type": "display_data"
    },
    {
     "name": "stdout",
     "output_type": "stream",
     "text": [
      "Timepoint ID 33 saved out\n"
     ]
    },
    {
     "data": {
      "application/vnd.jupyter.widget-view+json": {
       "model_id": "27a1690292a744baa50f11b355214505",
       "version_major": 2,
       "version_minor": 0
      },
      "text/plain": [
       "Processing Channels (T=34):   0%|          | 0/3 [00:00<?, ?it/s]"
      ]
     },
     "metadata": {},
     "output_type": "display_data"
    },
    {
     "name": "stdout",
     "output_type": "stream",
     "text": [
      "Timepoint ID 34 saved out\n"
     ]
    },
    {
     "data": {
      "application/vnd.jupyter.widget-view+json": {
       "model_id": "1811fe562b7146349cd17f259e29cf8d",
       "version_major": 2,
       "version_minor": 0
      },
      "text/plain": [
       "Processing Channels (T=35):   0%|          | 0/3 [00:00<?, ?it/s]"
      ]
     },
     "metadata": {},
     "output_type": "display_data"
    },
    {
     "name": "stdout",
     "output_type": "stream",
     "text": [
      "Timepoint ID 35 saved out\n"
     ]
    },
    {
     "data": {
      "application/vnd.jupyter.widget-view+json": {
       "model_id": "d3944320d5b5432e858feda87834d868",
       "version_major": 2,
       "version_minor": 0
      },
      "text/plain": [
       "Processing Channels (T=36):   0%|          | 0/3 [00:00<?, ?it/s]"
      ]
     },
     "metadata": {},
     "output_type": "display_data"
    },
    {
     "name": "stdout",
     "output_type": "stream",
     "text": [
      "Timepoint ID 36 saved out\n"
     ]
    },
    {
     "data": {
      "application/vnd.jupyter.widget-view+json": {
       "model_id": "618a673df78340ee915414ed2f58e872",
       "version_major": 2,
       "version_minor": 0
      },
      "text/plain": [
       "Processing Channels (T=37):   0%|          | 0/3 [00:00<?, ?it/s]"
      ]
     },
     "metadata": {},
     "output_type": "display_data"
    },
    {
     "name": "stdout",
     "output_type": "stream",
     "text": [
      "Timepoint ID 37 saved out\n"
     ]
    },
    {
     "data": {
      "application/vnd.jupyter.widget-view+json": {
       "model_id": "51ac7a7ad55b496ebcbffe98de3bad3c",
       "version_major": 2,
       "version_minor": 0
      },
      "text/plain": [
       "Processing Channels (T=38):   0%|          | 0/3 [00:00<?, ?it/s]"
      ]
     },
     "metadata": {},
     "output_type": "display_data"
    },
    {
     "name": "stdout",
     "output_type": "stream",
     "text": [
      "Timepoint ID 38 saved out\n"
     ]
    },
    {
     "data": {
      "application/vnd.jupyter.widget-view+json": {
       "model_id": "388d74c0b1b6425192a898f39ac6cb44",
       "version_major": 2,
       "version_minor": 0
      },
      "text/plain": [
       "Processing Channels (T=39):   0%|          | 0/3 [00:00<?, ?it/s]"
      ]
     },
     "metadata": {},
     "output_type": "display_data"
    },
    {
     "name": "stdout",
     "output_type": "stream",
     "text": [
      "Timepoint ID 39 saved out\n"
     ]
    },
    {
     "data": {
      "application/vnd.jupyter.widget-view+json": {
       "model_id": "d0f3d1dace124ef7ace0e1da88552e57",
       "version_major": 2,
       "version_minor": 0
      },
      "text/plain": [
       "Processing Channels (T=40):   0%|          | 0/3 [00:00<?, ?it/s]"
      ]
     },
     "metadata": {},
     "output_type": "display_data"
    },
    {
     "name": "stdout",
     "output_type": "stream",
     "text": [
      "Timepoint ID 40 saved out\n"
     ]
    },
    {
     "data": {
      "application/vnd.jupyter.widget-view+json": {
       "model_id": "76baeffaba7747c1a4411384ff38a4b8",
       "version_major": 2,
       "version_minor": 0
      },
      "text/plain": [
       "Processing Channels (T=41):   0%|          | 0/3 [00:00<?, ?it/s]"
      ]
     },
     "metadata": {},
     "output_type": "display_data"
    },
    {
     "name": "stdout",
     "output_type": "stream",
     "text": [
      "Timepoint ID 41 saved out\n"
     ]
    },
    {
     "data": {
      "application/vnd.jupyter.widget-view+json": {
       "model_id": "e2b588c60cd34b1ea744a2e9e27e8134",
       "version_major": 2,
       "version_minor": 0
      },
      "text/plain": [
       "Processing Channels (T=42):   0%|          | 0/3 [00:00<?, ?it/s]"
      ]
     },
     "metadata": {},
     "output_type": "display_data"
    },
    {
     "name": "stdout",
     "output_type": "stream",
     "text": [
      "Timepoint ID 42 saved out\n"
     ]
    },
    {
     "data": {
      "application/vnd.jupyter.widget-view+json": {
       "model_id": "3dbb2cdea9b94cb982d34c3540c64e4e",
       "version_major": 2,
       "version_minor": 0
      },
      "text/plain": [
       "Processing Channels (T=43):   0%|          | 0/3 [00:00<?, ?it/s]"
      ]
     },
     "metadata": {},
     "output_type": "display_data"
    },
    {
     "name": "stdout",
     "output_type": "stream",
     "text": [
      "Timepoint ID 43 saved out\n"
     ]
    },
    {
     "data": {
      "application/vnd.jupyter.widget-view+json": {
       "model_id": "4f27d3871bfb4e67a31c91842c7a90ab",
       "version_major": 2,
       "version_minor": 0
      },
      "text/plain": [
       "Processing Channels (T=44):   0%|          | 0/3 [00:00<?, ?it/s]"
      ]
     },
     "metadata": {},
     "output_type": "display_data"
    },
    {
     "name": "stdout",
     "output_type": "stream",
     "text": [
      "Timepoint ID 44 saved out\n"
     ]
    },
    {
     "data": {
      "application/vnd.jupyter.widget-view+json": {
       "model_id": "c7b19545b78b46afa60cb23b2b531d88",
       "version_major": 2,
       "version_minor": 0
      },
      "text/plain": [
       "Processing Channels (T=45):   0%|          | 0/3 [00:00<?, ?it/s]"
      ]
     },
     "metadata": {},
     "output_type": "display_data"
    },
    {
     "name": "stdout",
     "output_type": "stream",
     "text": [
      "Timepoint ID 45 saved out\n"
     ]
    },
    {
     "data": {
      "application/vnd.jupyter.widget-view+json": {
       "model_id": "c080be313bb841129ac0f98f302c1193",
       "version_major": 2,
       "version_minor": 0
      },
      "text/plain": [
       "Processing Channels (T=46):   0%|          | 0/3 [00:00<?, ?it/s]"
      ]
     },
     "metadata": {},
     "output_type": "display_data"
    },
    {
     "name": "stdout",
     "output_type": "stream",
     "text": [
      "Timepoint ID 46 saved out\n"
     ]
    },
    {
     "data": {
      "application/vnd.jupyter.widget-view+json": {
       "model_id": "98025851eb284c93be73ca85fc119fc9",
       "version_major": 2,
       "version_minor": 0
      },
      "text/plain": [
       "Processing Channels (T=47):   0%|          | 0/3 [00:00<?, ?it/s]"
      ]
     },
     "metadata": {},
     "output_type": "display_data"
    },
    {
     "name": "stdout",
     "output_type": "stream",
     "text": [
      "Timepoint ID 47 saved out\n"
     ]
    },
    {
     "data": {
      "application/vnd.jupyter.widget-view+json": {
       "model_id": "d502637759a948d5b4201ccffdda5737",
       "version_major": 2,
       "version_minor": 0
      },
      "text/plain": [
       "Processing Channels (T=48):   0%|          | 0/3 [00:00<?, ?it/s]"
      ]
     },
     "metadata": {},
     "output_type": "display_data"
    },
    {
     "name": "stdout",
     "output_type": "stream",
     "text": [
      "Timepoint ID 48 saved out\n"
     ]
    },
    {
     "data": {
      "application/vnd.jupyter.widget-view+json": {
       "model_id": "ffd8fd2558044f93b9b0a0e1aba26024",
       "version_major": 2,
       "version_minor": 0
      },
      "text/plain": [
       "Processing Channels (T=49):   0%|          | 0/3 [00:00<?, ?it/s]"
      ]
     },
     "metadata": {},
     "output_type": "display_data"
    },
    {
     "name": "stdout",
     "output_type": "stream",
     "text": [
      "Timepoint ID 49 saved out\n"
     ]
    },
    {
     "data": {
      "application/vnd.jupyter.widget-view+json": {
       "model_id": "1346f06dde3745168b97f816d70b9e3d",
       "version_major": 2,
       "version_minor": 0
      },
      "text/plain": [
       "Processing Channels (T=50):   0%|          | 0/3 [00:00<?, ?it/s]"
      ]
     },
     "metadata": {},
     "output_type": "display_data"
    },
    {
     "name": "stdout",
     "output_type": "stream",
     "text": [
      "Timepoint ID 50 saved out\n"
     ]
    },
    {
     "data": {
      "application/vnd.jupyter.widget-view+json": {
       "model_id": "5508ee48e9724092bdb1e4d1e3532f24",
       "version_major": 2,
       "version_minor": 0
      },
      "text/plain": [
       "Processing Channels (T=51):   0%|          | 0/3 [00:00<?, ?it/s]"
      ]
     },
     "metadata": {},
     "output_type": "display_data"
    },
    {
     "name": "stdout",
     "output_type": "stream",
     "text": [
      "Timepoint ID 51 saved out\n"
     ]
    },
    {
     "data": {
      "application/vnd.jupyter.widget-view+json": {
       "model_id": "1c50b23fb978403b9086cc22015d897a",
       "version_major": 2,
       "version_minor": 0
      },
      "text/plain": [
       "Processing Channels (T=52):   0%|          | 0/3 [00:00<?, ?it/s]"
      ]
     },
     "metadata": {},
     "output_type": "display_data"
    },
    {
     "name": "stdout",
     "output_type": "stream",
     "text": [
      "Timepoint ID 52 saved out\n"
     ]
    },
    {
     "data": {
      "application/vnd.jupyter.widget-view+json": {
       "model_id": "158a55ffbc19484eab73c0f0f462faf0",
       "version_major": 2,
       "version_minor": 0
      },
      "text/plain": [
       "Processing Channels (T=53):   0%|          | 0/3 [00:00<?, ?it/s]"
      ]
     },
     "metadata": {},
     "output_type": "display_data"
    },
    {
     "name": "stdout",
     "output_type": "stream",
     "text": [
      "Timepoint ID 53 saved out\n"
     ]
    },
    {
     "data": {
      "application/vnd.jupyter.widget-view+json": {
       "model_id": "f41cb7cfe2c94ad2bf5a7abce1f773f3",
       "version_major": 2,
       "version_minor": 0
      },
      "text/plain": [
       "Processing Channels (T=54):   0%|          | 0/3 [00:00<?, ?it/s]"
      ]
     },
     "metadata": {},
     "output_type": "display_data"
    },
    {
     "name": "stdout",
     "output_type": "stream",
     "text": [
      "Timepoint ID 54 saved out\n"
     ]
    },
    {
     "data": {
      "application/vnd.jupyter.widget-view+json": {
       "model_id": "b704a11d679141b49632673fcf8fd220",
       "version_major": 2,
       "version_minor": 0
      },
      "text/plain": [
       "Processing Channels (T=55):   0%|          | 0/3 [00:00<?, ?it/s]"
      ]
     },
     "metadata": {},
     "output_type": "display_data"
    },
    {
     "name": "stdout",
     "output_type": "stream",
     "text": [
      "Timepoint ID 55 saved out\n"
     ]
    },
    {
     "data": {
      "application/vnd.jupyter.widget-view+json": {
       "model_id": "69b3b762b1744323a24e94295f089bc5",
       "version_major": 2,
       "version_minor": 0
      },
      "text/plain": [
       "Processing Channels (T=56):   0%|          | 0/3 [00:00<?, ?it/s]"
      ]
     },
     "metadata": {},
     "output_type": "display_data"
    },
    {
     "name": "stdout",
     "output_type": "stream",
     "text": [
      "Timepoint ID 56 saved out\n"
     ]
    },
    {
     "data": {
      "application/vnd.jupyter.widget-view+json": {
       "model_id": "f8356ed3a4df45a49ccfb6ef49082c8f",
       "version_major": 2,
       "version_minor": 0
      },
      "text/plain": [
       "Processing Channels (T=57):   0%|          | 0/3 [00:00<?, ?it/s]"
      ]
     },
     "metadata": {},
     "output_type": "display_data"
    },
    {
     "name": "stdout",
     "output_type": "stream",
     "text": [
      "Timepoint ID 57 saved out\n"
     ]
    },
    {
     "data": {
      "application/vnd.jupyter.widget-view+json": {
       "model_id": "8058ea07912d4f27b8a2e70a272e8a59",
       "version_major": 2,
       "version_minor": 0
      },
      "text/plain": [
       "Processing Channels (T=58):   0%|          | 0/3 [00:00<?, ?it/s]"
      ]
     },
     "metadata": {},
     "output_type": "display_data"
    },
    {
     "name": "stdout",
     "output_type": "stream",
     "text": [
      "Timepoint ID 58 saved out\n"
     ]
    },
    {
     "data": {
      "application/vnd.jupyter.widget-view+json": {
       "model_id": "fea6c8c740294b058f2187fcb5fd158b",
       "version_major": 2,
       "version_minor": 0
      },
      "text/plain": [
       "Processing Channels (T=59):   0%|          | 0/3 [00:00<?, ?it/s]"
      ]
     },
     "metadata": {},
     "output_type": "display_data"
    },
    {
     "name": "stdout",
     "output_type": "stream",
     "text": [
      "Timepoint ID 59 saved out\n"
     ]
    },
    {
     "data": {
      "application/vnd.jupyter.widget-view+json": {
       "model_id": "981cc8095b83440784de44d1d4104f62",
       "version_major": 2,
       "version_minor": 0
      },
      "text/plain": [
       "Processing Channels (T=60):   0%|          | 0/3 [00:00<?, ?it/s]"
      ]
     },
     "metadata": {},
     "output_type": "display_data"
    },
    {
     "name": "stdout",
     "output_type": "stream",
     "text": [
      "Timepoint ID 60 saved out\n"
     ]
    },
    {
     "data": {
      "application/vnd.jupyter.widget-view+json": {
       "model_id": "67a72b8339f543629a9e5da787bc81e0",
       "version_major": 2,
       "version_minor": 0
      },
      "text/plain": [
       "Processing Channels (T=61):   0%|          | 0/3 [00:00<?, ?it/s]"
      ]
     },
     "metadata": {},
     "output_type": "display_data"
    },
    {
     "name": "stdout",
     "output_type": "stream",
     "text": [
      "Timepoint ID 61 saved out\n"
     ]
    },
    {
     "data": {
      "application/vnd.jupyter.widget-view+json": {
       "model_id": "d8ba62e0af174fd6b200988d968d8480",
       "version_major": 2,
       "version_minor": 0
      },
      "text/plain": [
       "Processing Channels (T=62):   0%|          | 0/3 [00:00<?, ?it/s]"
      ]
     },
     "metadata": {},
     "output_type": "display_data"
    },
    {
     "name": "stdout",
     "output_type": "stream",
     "text": [
      "Timepoint ID 62 saved out\n"
     ]
    },
    {
     "data": {
      "application/vnd.jupyter.widget-view+json": {
       "model_id": "0aeb6edef3ca4b3f9f52f6329da2eaca",
       "version_major": 2,
       "version_minor": 0
      },
      "text/plain": [
       "Processing Channels (T=63):   0%|          | 0/3 [00:00<?, ?it/s]"
      ]
     },
     "metadata": {},
     "output_type": "display_data"
    },
    {
     "name": "stdout",
     "output_type": "stream",
     "text": [
      "Timepoint ID 63 saved out\n"
     ]
    },
    {
     "data": {
      "application/vnd.jupyter.widget-view+json": {
       "model_id": "003a43bb8a6e4c9b908e0e70a62eda5b",
       "version_major": 2,
       "version_minor": 0
      },
      "text/plain": [
       "Processing Channels (T=64):   0%|          | 0/3 [00:00<?, ?it/s]"
      ]
     },
     "metadata": {},
     "output_type": "display_data"
    },
    {
     "name": "stdout",
     "output_type": "stream",
     "text": [
      "Timepoint ID 64 saved out\n"
     ]
    },
    {
     "data": {
      "application/vnd.jupyter.widget-view+json": {
       "model_id": "85ae6b0d3779464b85a976971b69f4d4",
       "version_major": 2,
       "version_minor": 0
      },
      "text/plain": [
       "Processing Channels (T=65):   0%|          | 0/3 [00:00<?, ?it/s]"
      ]
     },
     "metadata": {},
     "output_type": "display_data"
    },
    {
     "name": "stdout",
     "output_type": "stream",
     "text": [
      "Timepoint ID 65 saved out\n"
     ]
    },
    {
     "data": {
      "application/vnd.jupyter.widget-view+json": {
       "model_id": "ffff77827c734aba9cd9f3e5ad4658d0",
       "version_major": 2,
       "version_minor": 0
      },
      "text/plain": [
       "Processing Channels (T=66):   0%|          | 0/3 [00:00<?, ?it/s]"
      ]
     },
     "metadata": {},
     "output_type": "display_data"
    },
    {
     "name": "stdout",
     "output_type": "stream",
     "text": [
      "Timepoint ID 66 saved out\n"
     ]
    },
    {
     "data": {
      "application/vnd.jupyter.widget-view+json": {
       "model_id": "a2b88edaf547438b836ccaf784f340a3",
       "version_major": 2,
       "version_minor": 0
      },
      "text/plain": [
       "Processing Channels (T=67):   0%|          | 0/3 [00:00<?, ?it/s]"
      ]
     },
     "metadata": {},
     "output_type": "display_data"
    },
    {
     "name": "stdout",
     "output_type": "stream",
     "text": [
      "Timepoint ID 67 saved out\n"
     ]
    },
    {
     "data": {
      "application/vnd.jupyter.widget-view+json": {
       "model_id": "3969cdd99a89431aab7b70431d8ca921",
       "version_major": 2,
       "version_minor": 0
      },
      "text/plain": [
       "Processing Channels (T=68):   0%|          | 0/3 [00:00<?, ?it/s]"
      ]
     },
     "metadata": {},
     "output_type": "display_data"
    },
    {
     "name": "stdout",
     "output_type": "stream",
     "text": [
      "Timepoint ID 68 saved out\n"
     ]
    },
    {
     "data": {
      "application/vnd.jupyter.widget-view+json": {
       "model_id": "979cac07fed347a19fc477e85b4f778f",
       "version_major": 2,
       "version_minor": 0
      },
      "text/plain": [
       "Processing Channels (T=69):   0%|          | 0/3 [00:00<?, ?it/s]"
      ]
     },
     "metadata": {},
     "output_type": "display_data"
    },
    {
     "name": "stdout",
     "output_type": "stream",
     "text": [
      "Timepoint ID 69 saved out\n"
     ]
    },
    {
     "data": {
      "application/vnd.jupyter.widget-view+json": {
       "model_id": "295c2c062c9c40d1ba9d91613d46d042",
       "version_major": 2,
       "version_minor": 0
      },
      "text/plain": [
       "Processing Channels (T=70):   0%|          | 0/3 [00:00<?, ?it/s]"
      ]
     },
     "metadata": {},
     "output_type": "display_data"
    },
    {
     "name": "stdout",
     "output_type": "stream",
     "text": [
      "Timepoint ID 70 saved out\n"
     ]
    },
    {
     "data": {
      "application/vnd.jupyter.widget-view+json": {
       "model_id": "754ce749af2b402a864d6726cd0d3923",
       "version_major": 2,
       "version_minor": 0
      },
      "text/plain": [
       "Processing Channels (T=71):   0%|          | 0/3 [00:00<?, ?it/s]"
      ]
     },
     "metadata": {},
     "output_type": "display_data"
    },
    {
     "name": "stdout",
     "output_type": "stream",
     "text": [
      "Timepoint ID 71 saved out\n"
     ]
    },
    {
     "data": {
      "application/vnd.jupyter.widget-view+json": {
       "model_id": "c686cd8cde4943e4ac526f972ab5dd46",
       "version_major": 2,
       "version_minor": 0
      },
      "text/plain": [
       "Processing Channels (T=72):   0%|          | 0/3 [00:00<?, ?it/s]"
      ]
     },
     "metadata": {},
     "output_type": "display_data"
    },
    {
     "name": "stdout",
     "output_type": "stream",
     "text": [
      "Timepoint ID 72 saved out\n"
     ]
    },
    {
     "data": {
      "application/vnd.jupyter.widget-view+json": {
       "model_id": "6dc91b03da2b4a5785d709b7e6f53409",
       "version_major": 2,
       "version_minor": 0
      },
      "text/plain": [
       "Processing Channels (T=73):   0%|          | 0/3 [00:00<?, ?it/s]"
      ]
     },
     "metadata": {},
     "output_type": "display_data"
    },
    {
     "name": "stdout",
     "output_type": "stream",
     "text": [
      "Timepoint ID 73 saved out\n"
     ]
    },
    {
     "data": {
      "application/vnd.jupyter.widget-view+json": {
       "model_id": "c6f93391492f45c19133bfae0e08a282",
       "version_major": 2,
       "version_minor": 0
      },
      "text/plain": [
       "Processing Channels (T=74):   0%|          | 0/3 [00:00<?, ?it/s]"
      ]
     },
     "metadata": {},
     "output_type": "display_data"
    },
    {
     "name": "stdout",
     "output_type": "stream",
     "text": [
      "Timepoint ID 74 saved out\n"
     ]
    },
    {
     "data": {
      "application/vnd.jupyter.widget-view+json": {
       "model_id": "9ee3549c082c4d21a5037c2aa5a23420",
       "version_major": 2,
       "version_minor": 0
      },
      "text/plain": [
       "Processing Channels (T=75):   0%|          | 0/3 [00:00<?, ?it/s]"
      ]
     },
     "metadata": {},
     "output_type": "display_data"
    },
    {
     "name": "stdout",
     "output_type": "stream",
     "text": [
      "Timepoint ID 75 saved out\n"
     ]
    },
    {
     "data": {
      "application/vnd.jupyter.widget-view+json": {
       "model_id": "735ff7da5d97496f8b753e6e7e4a06f2",
       "version_major": 2,
       "version_minor": 0
      },
      "text/plain": [
       "Processing Channels (T=76):   0%|          | 0/3 [00:00<?, ?it/s]"
      ]
     },
     "metadata": {},
     "output_type": "display_data"
    },
    {
     "name": "stdout",
     "output_type": "stream",
     "text": [
      "Timepoint ID 76 saved out\n"
     ]
    },
    {
     "data": {
      "application/vnd.jupyter.widget-view+json": {
       "model_id": "781aa42fb9ed4ca4bea4e210d570703b",
       "version_major": 2,
       "version_minor": 0
      },
      "text/plain": [
       "Processing Channels (T=77):   0%|          | 0/3 [00:00<?, ?it/s]"
      ]
     },
     "metadata": {},
     "output_type": "display_data"
    },
    {
     "name": "stdout",
     "output_type": "stream",
     "text": [
      "Timepoint ID 77 saved out\n"
     ]
    },
    {
     "data": {
      "application/vnd.jupyter.widget-view+json": {
       "model_id": "1af39bc2425440719546bcf75a908b60",
       "version_major": 2,
       "version_minor": 0
      },
      "text/plain": [
       "Processing Channels (T=78):   0%|          | 0/3 [00:00<?, ?it/s]"
      ]
     },
     "metadata": {},
     "output_type": "display_data"
    },
    {
     "name": "stdout",
     "output_type": "stream",
     "text": [
      "Timepoint ID 78 saved out\n"
     ]
    },
    {
     "data": {
      "application/vnd.jupyter.widget-view+json": {
       "model_id": "0d6d7b75bb70444e813c0e165f87e21a",
       "version_major": 2,
       "version_minor": 0
      },
      "text/plain": [
       "Processing Channels (T=79):   0%|          | 0/3 [00:00<?, ?it/s]"
      ]
     },
     "metadata": {},
     "output_type": "display_data"
    },
    {
     "name": "stdout",
     "output_type": "stream",
     "text": [
      "Timepoint ID 79 saved out\n"
     ]
    },
    {
     "data": {
      "application/vnd.jupyter.widget-view+json": {
       "model_id": "b07eb66710de4eb8a4835878a4b94e09",
       "version_major": 2,
       "version_minor": 0
      },
      "text/plain": [
       "Processing Channels (T=80):   0%|          | 0/3 [00:00<?, ?it/s]"
      ]
     },
     "metadata": {},
     "output_type": "display_data"
    },
    {
     "name": "stdout",
     "output_type": "stream",
     "text": [
      "Timepoint ID 80 saved out\n"
     ]
    },
    {
     "data": {
      "application/vnd.jupyter.widget-view+json": {
       "model_id": "1844faf051984e97ad2bcf47336d0da0",
       "version_major": 2,
       "version_minor": 0
      },
      "text/plain": [
       "Processing Channels (T=81):   0%|          | 0/3 [00:00<?, ?it/s]"
      ]
     },
     "metadata": {},
     "output_type": "display_data"
    },
    {
     "name": "stdout",
     "output_type": "stream",
     "text": [
      "Timepoint ID 81 saved out\n"
     ]
    },
    {
     "data": {
      "application/vnd.jupyter.widget-view+json": {
       "model_id": "839a8f7a87d7429a988c2ca212540628",
       "version_major": 2,
       "version_minor": 0
      },
      "text/plain": [
       "Processing Channels (T=82):   0%|          | 0/3 [00:00<?, ?it/s]"
      ]
     },
     "metadata": {},
     "output_type": "display_data"
    },
    {
     "name": "stdout",
     "output_type": "stream",
     "text": [
      "Timepoint ID 82 saved out\n"
     ]
    },
    {
     "data": {
      "application/vnd.jupyter.widget-view+json": {
       "model_id": "3d9ee6d84a994b09b27fdca0b6d311c8",
       "version_major": 2,
       "version_minor": 0
      },
      "text/plain": [
       "Processing Channels (T=83):   0%|          | 0/3 [00:00<?, ?it/s]"
      ]
     },
     "metadata": {},
     "output_type": "display_data"
    },
    {
     "name": "stdout",
     "output_type": "stream",
     "text": [
      "Timepoint ID 83 saved out\n"
     ]
    },
    {
     "data": {
      "application/vnd.jupyter.widget-view+json": {
       "model_id": "5fe43f5cbe4b43e7aee132ebcc200a41",
       "version_major": 2,
       "version_minor": 0
      },
      "text/plain": [
       "Processing Channels (T=84):   0%|          | 0/3 [00:00<?, ?it/s]"
      ]
     },
     "metadata": {},
     "output_type": "display_data"
    },
    {
     "name": "stdout",
     "output_type": "stream",
     "text": [
      "Timepoint ID 84 saved out\n"
     ]
    },
    {
     "data": {
      "application/vnd.jupyter.widget-view+json": {
       "model_id": "541292550eaa42838fc45b13b3d2e0eb",
       "version_major": 2,
       "version_minor": 0
      },
      "text/plain": [
       "Processing Channels (T=85):   0%|          | 0/3 [00:00<?, ?it/s]"
      ]
     },
     "metadata": {},
     "output_type": "display_data"
    },
    {
     "name": "stdout",
     "output_type": "stream",
     "text": [
      "Timepoint ID 85 saved out\n"
     ]
    },
    {
     "data": {
      "application/vnd.jupyter.widget-view+json": {
       "model_id": "a0abc8cf4f964b79a58d27b077148903",
       "version_major": 2,
       "version_minor": 0
      },
      "text/plain": [
       "Processing Channels (T=86):   0%|          | 0/3 [00:00<?, ?it/s]"
      ]
     },
     "metadata": {},
     "output_type": "display_data"
    },
    {
     "name": "stdout",
     "output_type": "stream",
     "text": [
      "Timepoint ID 86 saved out\n"
     ]
    },
    {
     "data": {
      "application/vnd.jupyter.widget-view+json": {
       "model_id": "fe4ab345d8ec41a8916c886ed4ce9520",
       "version_major": 2,
       "version_minor": 0
      },
      "text/plain": [
       "Processing Channels (T=87):   0%|          | 0/3 [00:00<?, ?it/s]"
      ]
     },
     "metadata": {},
     "output_type": "display_data"
    },
    {
     "name": "stdout",
     "output_type": "stream",
     "text": [
      "Timepoint ID 87 saved out\n"
     ]
    },
    {
     "data": {
      "application/vnd.jupyter.widget-view+json": {
       "model_id": "78f0b8f49d8d4d2fb18274a942e7a666",
       "version_major": 2,
       "version_minor": 0
      },
      "text/plain": [
       "Processing Channels (T=88):   0%|          | 0/3 [00:00<?, ?it/s]"
      ]
     },
     "metadata": {},
     "output_type": "display_data"
    },
    {
     "name": "stdout",
     "output_type": "stream",
     "text": [
      "Timepoint ID 88 saved out\n"
     ]
    },
    {
     "data": {
      "application/vnd.jupyter.widget-view+json": {
       "model_id": "2b53a77e82224cc59895c01df9c3fb71",
       "version_major": 2,
       "version_minor": 0
      },
      "text/plain": [
       "Processing Channels (T=89):   0%|          | 0/3 [00:00<?, ?it/s]"
      ]
     },
     "metadata": {},
     "output_type": "display_data"
    },
    {
     "name": "stdout",
     "output_type": "stream",
     "text": [
      "Timepoint ID 89 saved out\n"
     ]
    },
    {
     "data": {
      "application/vnd.jupyter.widget-view+json": {
       "model_id": "6cf829378b784027b74cdea3a8c729ae",
       "version_major": 2,
       "version_minor": 0
      },
      "text/plain": [
       "Processing Channels (T=90):   0%|          | 0/3 [00:00<?, ?it/s]"
      ]
     },
     "metadata": {},
     "output_type": "display_data"
    },
    {
     "name": "stdout",
     "output_type": "stream",
     "text": [
      "Timepoint ID 90 saved out\n"
     ]
    },
    {
     "data": {
      "application/vnd.jupyter.widget-view+json": {
       "model_id": "f3a37925a00e452e9578bb070f30d97c",
       "version_major": 2,
       "version_minor": 0
      },
      "text/plain": [
       "Processing Channels (T=91):   0%|          | 0/3 [00:00<?, ?it/s]"
      ]
     },
     "metadata": {},
     "output_type": "display_data"
    },
    {
     "name": "stdout",
     "output_type": "stream",
     "text": [
      "Timepoint ID 91 saved out\n"
     ]
    },
    {
     "data": {
      "application/vnd.jupyter.widget-view+json": {
       "model_id": "e003a45d850442f0aa0261668de0650f",
       "version_major": 2,
       "version_minor": 0
      },
      "text/plain": [
       "Processing Channels (T=92):   0%|          | 0/3 [00:00<?, ?it/s]"
      ]
     },
     "metadata": {},
     "output_type": "display_data"
    },
    {
     "name": "stdout",
     "output_type": "stream",
     "text": [
      "Timepoint ID 92 saved out\n"
     ]
    },
    {
     "data": {
      "application/vnd.jupyter.widget-view+json": {
       "model_id": "5692408b653f40778412dbed70f34941",
       "version_major": 2,
       "version_minor": 0
      },
      "text/plain": [
       "Processing Channels (T=93):   0%|          | 0/3 [00:00<?, ?it/s]"
      ]
     },
     "metadata": {},
     "output_type": "display_data"
    },
    {
     "name": "stdout",
     "output_type": "stream",
     "text": [
      "Timepoint ID 93 saved out\n"
     ]
    },
    {
     "data": {
      "application/vnd.jupyter.widget-view+json": {
       "model_id": "90d3bafb89c44f80a1ce964f1cb0ff28",
       "version_major": 2,
       "version_minor": 0
      },
      "text/plain": [
       "Processing Channels (T=94):   0%|          | 0/3 [00:00<?, ?it/s]"
      ]
     },
     "metadata": {},
     "output_type": "display_data"
    },
    {
     "name": "stdout",
     "output_type": "stream",
     "text": [
      "Timepoint ID 94 saved out\n"
     ]
    },
    {
     "data": {
      "application/vnd.jupyter.widget-view+json": {
       "model_id": "c2e5be20bd4b48d6ba77aac1f3c6d39a",
       "version_major": 2,
       "version_minor": 0
      },
      "text/plain": [
       "Processing Channels (T=95):   0%|          | 0/3 [00:00<?, ?it/s]"
      ]
     },
     "metadata": {},
     "output_type": "display_data"
    },
    {
     "name": "stdout",
     "output_type": "stream",
     "text": [
      "Timepoint ID 95 saved out\n"
     ]
    },
    {
     "data": {
      "application/vnd.jupyter.widget-view+json": {
       "model_id": "5037502dd6674cd987b41826de27a34f",
       "version_major": 2,
       "version_minor": 0
      },
      "text/plain": [
       "Processing Channels (T=96):   0%|          | 0/3 [00:00<?, ?it/s]"
      ]
     },
     "metadata": {},
     "output_type": "display_data"
    },
    {
     "name": "stdout",
     "output_type": "stream",
     "text": [
      "Timepoint ID 96 saved out\n"
     ]
    },
    {
     "data": {
      "application/vnd.jupyter.widget-view+json": {
       "model_id": "666440f05bbb4d6e876ab3e5aacd2a94",
       "version_major": 2,
       "version_minor": 0
      },
      "text/plain": [
       "Processing Channels (T=97):   0%|          | 0/3 [00:00<?, ?it/s]"
      ]
     },
     "metadata": {},
     "output_type": "display_data"
    },
    {
     "name": "stdout",
     "output_type": "stream",
     "text": [
      "Timepoint ID 97 saved out\n"
     ]
    },
    {
     "data": {
      "application/vnd.jupyter.widget-view+json": {
       "model_id": "ecd27db2c844446ca7ece01d9a5a8c1e",
       "version_major": 2,
       "version_minor": 0
      },
      "text/plain": [
       "Processing Channels (T=98):   0%|          | 0/3 [00:00<?, ?it/s]"
      ]
     },
     "metadata": {},
     "output_type": "display_data"
    },
    {
     "name": "stdout",
     "output_type": "stream",
     "text": [
      "Timepoint ID 98 saved out\n"
     ]
    },
    {
     "data": {
      "application/vnd.jupyter.widget-view+json": {
       "model_id": "bf4ef8366dcb42599baaae52e710699e",
       "version_major": 2,
       "version_minor": 0
      },
      "text/plain": [
       "Processing Channels (T=99):   0%|          | 0/3 [00:00<?, ?it/s]"
      ]
     },
     "metadata": {},
     "output_type": "display_data"
    },
    {
     "name": "stdout",
     "output_type": "stream",
     "text": [
      "Timepoint ID 99 saved out\n"
     ]
    },
    {
     "data": {
      "application/vnd.jupyter.widget-view+json": {
       "model_id": "620f7441311847139d8d6b21e1184b3a",
       "version_major": 2,
       "version_minor": 0
      },
      "text/plain": [
       "Processing Channels (T=100):   0%|          | 0/3 [00:00<?, ?it/s]"
      ]
     },
     "metadata": {},
     "output_type": "display_data"
    },
    {
     "name": "stdout",
     "output_type": "stream",
     "text": [
      "Timepoint ID 100 saved out\n"
     ]
    },
    {
     "data": {
      "application/vnd.jupyter.widget-view+json": {
       "model_id": "ca65ffe73b7e4065afb32776f22efb2c",
       "version_major": 2,
       "version_minor": 0
      },
      "text/plain": [
       "Processing Channels (T=101):   0%|          | 0/3 [00:00<?, ?it/s]"
      ]
     },
     "metadata": {},
     "output_type": "display_data"
    },
    {
     "name": "stdout",
     "output_type": "stream",
     "text": [
      "Timepoint ID 101 saved out\n"
     ]
    },
    {
     "data": {
      "application/vnd.jupyter.widget-view+json": {
       "model_id": "929af5812e77491fa6888f88404fadeb",
       "version_major": 2,
       "version_minor": 0
      },
      "text/plain": [
       "Processing Channels (T=102):   0%|          | 0/3 [00:00<?, ?it/s]"
      ]
     },
     "metadata": {},
     "output_type": "display_data"
    },
    {
     "name": "stdout",
     "output_type": "stream",
     "text": [
      "Timepoint ID 102 saved out\n"
     ]
    },
    {
     "data": {
      "application/vnd.jupyter.widget-view+json": {
       "model_id": "7a92b8e6de084d63abe27eae116a26b3",
       "version_major": 2,
       "version_minor": 0
      },
      "text/plain": [
       "Processing Channels (T=103):   0%|          | 0/3 [00:00<?, ?it/s]"
      ]
     },
     "metadata": {},
     "output_type": "display_data"
    },
    {
     "name": "stdout",
     "output_type": "stream",
     "text": [
      "Timepoint ID 103 saved out\n"
     ]
    },
    {
     "data": {
      "application/vnd.jupyter.widget-view+json": {
       "model_id": "d0bc0a49c5cd40538244a028042bc235",
       "version_major": 2,
       "version_minor": 0
      },
      "text/plain": [
       "Processing Channels (T=104):   0%|          | 0/3 [00:00<?, ?it/s]"
      ]
     },
     "metadata": {},
     "output_type": "display_data"
    },
    {
     "name": "stdout",
     "output_type": "stream",
     "text": [
      "Timepoint ID 104 saved out\n"
     ]
    },
    {
     "data": {
      "application/vnd.jupyter.widget-view+json": {
       "model_id": "2f9ead4271d54f9884c3c05315521644",
       "version_major": 2,
       "version_minor": 0
      },
      "text/plain": [
       "Processing Channels (T=105):   0%|          | 0/3 [00:00<?, ?it/s]"
      ]
     },
     "metadata": {},
     "output_type": "display_data"
    },
    {
     "name": "stdout",
     "output_type": "stream",
     "text": [
      "Timepoint ID 105 saved out\n"
     ]
    },
    {
     "data": {
      "application/vnd.jupyter.widget-view+json": {
       "model_id": "550a3c0bfa054d5cb0b12ecf3c336fa5",
       "version_major": 2,
       "version_minor": 0
      },
      "text/plain": [
       "Processing Channels (T=106):   0%|          | 0/3 [00:00<?, ?it/s]"
      ]
     },
     "metadata": {},
     "output_type": "display_data"
    },
    {
     "name": "stdout",
     "output_type": "stream",
     "text": [
      "Timepoint ID 106 saved out\n"
     ]
    },
    {
     "data": {
      "application/vnd.jupyter.widget-view+json": {
       "model_id": "b1464e442b0545949a3e443a59ba7df0",
       "version_major": 2,
       "version_minor": 0
      },
      "text/plain": [
       "Processing Channels (T=107):   0%|          | 0/3 [00:00<?, ?it/s]"
      ]
     },
     "metadata": {},
     "output_type": "display_data"
    },
    {
     "name": "stdout",
     "output_type": "stream",
     "text": [
      "Timepoint ID 107 saved out\n"
     ]
    },
    {
     "data": {
      "application/vnd.jupyter.widget-view+json": {
       "model_id": "7a7f43ee1db94783a0f4613387136596",
       "version_major": 2,
       "version_minor": 0
      },
      "text/plain": [
       "Processing Channels (T=108):   0%|          | 0/3 [00:00<?, ?it/s]"
      ]
     },
     "metadata": {},
     "output_type": "display_data"
    },
    {
     "name": "stdout",
     "output_type": "stream",
     "text": [
      "Timepoint ID 108 saved out\n"
     ]
    },
    {
     "data": {
      "application/vnd.jupyter.widget-view+json": {
       "model_id": "7529aa27033c4ec58b16ea95b5526270",
       "version_major": 2,
       "version_minor": 0
      },
      "text/plain": [
       "Processing Channels (T=109):   0%|          | 0/3 [00:00<?, ?it/s]"
      ]
     },
     "metadata": {},
     "output_type": "display_data"
    },
    {
     "name": "stdout",
     "output_type": "stream",
     "text": [
      "Timepoint ID 109 saved out\n"
     ]
    },
    {
     "data": {
      "application/vnd.jupyter.widget-view+json": {
       "model_id": "187490be050d4179aef23ab6285ac983",
       "version_major": 2,
       "version_minor": 0
      },
      "text/plain": [
       "Processing Channels (T=110):   0%|          | 0/3 [00:00<?, ?it/s]"
      ]
     },
     "metadata": {},
     "output_type": "display_data"
    },
    {
     "name": "stdout",
     "output_type": "stream",
     "text": [
      "Timepoint ID 110 saved out\n"
     ]
    },
    {
     "data": {
      "application/vnd.jupyter.widget-view+json": {
       "model_id": "1512d858896a46a7bd2ab683b102eeac",
       "version_major": 2,
       "version_minor": 0
      },
      "text/plain": [
       "Processing Channels (T=111):   0%|          | 0/3 [00:00<?, ?it/s]"
      ]
     },
     "metadata": {},
     "output_type": "display_data"
    },
    {
     "name": "stdout",
     "output_type": "stream",
     "text": [
      "Timepoint ID 111 saved out\n"
     ]
    },
    {
     "data": {
      "application/vnd.jupyter.widget-view+json": {
       "model_id": "bc95285c58ad499396e57a20c051a781",
       "version_major": 2,
       "version_minor": 0
      },
      "text/plain": [
       "Processing Channels (T=112):   0%|          | 0/3 [00:00<?, ?it/s]"
      ]
     },
     "metadata": {},
     "output_type": "display_data"
    },
    {
     "name": "stdout",
     "output_type": "stream",
     "text": [
      "Timepoint ID 112 saved out\n"
     ]
    },
    {
     "data": {
      "application/vnd.jupyter.widget-view+json": {
       "model_id": "5edcd2c5fea242bf9c6494180391292b",
       "version_major": 2,
       "version_minor": 0
      },
      "text/plain": [
       "Processing Channels (T=113):   0%|          | 0/3 [00:00<?, ?it/s]"
      ]
     },
     "metadata": {},
     "output_type": "display_data"
    },
    {
     "name": "stdout",
     "output_type": "stream",
     "text": [
      "Timepoint ID 113 saved out\n"
     ]
    },
    {
     "data": {
      "application/vnd.jupyter.widget-view+json": {
       "model_id": "c6ba65a4497a439d9cd37b0d881bcecc",
       "version_major": 2,
       "version_minor": 0
      },
      "text/plain": [
       "Processing Channels (T=114):   0%|          | 0/3 [00:00<?, ?it/s]"
      ]
     },
     "metadata": {},
     "output_type": "display_data"
    },
    {
     "name": "stdout",
     "output_type": "stream",
     "text": [
      "Timepoint ID 114 saved out\n"
     ]
    },
    {
     "data": {
      "application/vnd.jupyter.widget-view+json": {
       "model_id": "0120234264e44602b31b0b53cedf3208",
       "version_major": 2,
       "version_minor": 0
      },
      "text/plain": [
       "Processing Channels (T=115):   0%|          | 0/3 [00:00<?, ?it/s]"
      ]
     },
     "metadata": {},
     "output_type": "display_data"
    },
    {
     "name": "stdout",
     "output_type": "stream",
     "text": [
      "Timepoint ID 115 saved out\n"
     ]
    },
    {
     "data": {
      "application/vnd.jupyter.widget-view+json": {
       "model_id": "946b3aca01a7498783215198ae53f876",
       "version_major": 2,
       "version_minor": 0
      },
      "text/plain": [
       "Processing Channels (T=116):   0%|          | 0/3 [00:00<?, ?it/s]"
      ]
     },
     "metadata": {},
     "output_type": "display_data"
    },
    {
     "name": "stdout",
     "output_type": "stream",
     "text": [
      "Timepoint ID 116 saved out\n"
     ]
    },
    {
     "data": {
      "application/vnd.jupyter.widget-view+json": {
       "model_id": "785540114b21435d83cddc538d62a18b",
       "version_major": 2,
       "version_minor": 0
      },
      "text/plain": [
       "Processing Channels (T=117):   0%|          | 0/3 [00:00<?, ?it/s]"
      ]
     },
     "metadata": {},
     "output_type": "display_data"
    },
    {
     "name": "stdout",
     "output_type": "stream",
     "text": [
      "Timepoint ID 117 saved out\n"
     ]
    },
    {
     "data": {
      "application/vnd.jupyter.widget-view+json": {
       "model_id": "46e8fc85b5b64e76959889dc1edd9512",
       "version_major": 2,
       "version_minor": 0
      },
      "text/plain": [
       "Processing Channels (T=118):   0%|          | 0/3 [00:00<?, ?it/s]"
      ]
     },
     "metadata": {},
     "output_type": "display_data"
    },
    {
     "name": "stdout",
     "output_type": "stream",
     "text": [
      "Timepoint ID 118 saved out\n"
     ]
    },
    {
     "data": {
      "application/vnd.jupyter.widget-view+json": {
       "model_id": "941a812390c34bb7a520fa306ab98eb1",
       "version_major": 2,
       "version_minor": 0
      },
      "text/plain": [
       "Processing Channels (T=119):   0%|          | 0/3 [00:00<?, ?it/s]"
      ]
     },
     "metadata": {},
     "output_type": "display_data"
    },
    {
     "name": "stdout",
     "output_type": "stream",
     "text": [
      "Timepoint ID 119 saved out\n"
     ]
    },
    {
     "data": {
      "application/vnd.jupyter.widget-view+json": {
       "model_id": "ff5500a8b9de4020a17c255d3884e4e1",
       "version_major": 2,
       "version_minor": 0
      },
      "text/plain": [
       "Processing Channels (T=120):   0%|          | 0/3 [00:00<?, ?it/s]"
      ]
     },
     "metadata": {},
     "output_type": "display_data"
    },
    {
     "name": "stdout",
     "output_type": "stream",
     "text": [
      "Timepoint ID 120 saved out\n"
     ]
    },
    {
     "data": {
      "application/vnd.jupyter.widget-view+json": {
       "model_id": "71fed262db3043f494ce4cfc8ab569db",
       "version_major": 2,
       "version_minor": 0
      },
      "text/plain": [
       "Processing Channels (T=121):   0%|          | 0/3 [00:00<?, ?it/s]"
      ]
     },
     "metadata": {},
     "output_type": "display_data"
    },
    {
     "name": "stdout",
     "output_type": "stream",
     "text": [
      "Timepoint ID 121 saved out\n"
     ]
    },
    {
     "data": {
      "application/vnd.jupyter.widget-view+json": {
       "model_id": "a8352f846760445a8c22c8b7219d1201",
       "version_major": 2,
       "version_minor": 0
      },
      "text/plain": [
       "Processing Channels (T=122):   0%|          | 0/3 [00:00<?, ?it/s]"
      ]
     },
     "metadata": {},
     "output_type": "display_data"
    },
    {
     "name": "stdout",
     "output_type": "stream",
     "text": [
      "Timepoint ID 122 saved out\n"
     ]
    },
    {
     "data": {
      "application/vnd.jupyter.widget-view+json": {
       "model_id": "986562e5cb634b93b4be08e2288f8f38",
       "version_major": 2,
       "version_minor": 0
      },
      "text/plain": [
       "Processing Channels (T=123):   0%|          | 0/3 [00:00<?, ?it/s]"
      ]
     },
     "metadata": {},
     "output_type": "display_data"
    },
    {
     "name": "stdout",
     "output_type": "stream",
     "text": [
      "Timepoint ID 123 saved out\n"
     ]
    },
    {
     "data": {
      "application/vnd.jupyter.widget-view+json": {
       "model_id": "f4e22d15268047db8f83d2dd569b7037",
       "version_major": 2,
       "version_minor": 0
      },
      "text/plain": [
       "Processing Channels (T=124):   0%|          | 0/3 [00:00<?, ?it/s]"
      ]
     },
     "metadata": {},
     "output_type": "display_data"
    },
    {
     "name": "stdout",
     "output_type": "stream",
     "text": [
      "Timepoint ID 124 saved out\n"
     ]
    },
    {
     "data": {
      "application/vnd.jupyter.widget-view+json": {
       "model_id": "cabeaa43e23d410ca5e80f2c38f602e2",
       "version_major": 2,
       "version_minor": 0
      },
      "text/plain": [
       "Processing Channels (T=125):   0%|          | 0/3 [00:00<?, ?it/s]"
      ]
     },
     "metadata": {},
     "output_type": "display_data"
    },
    {
     "name": "stdout",
     "output_type": "stream",
     "text": [
      "Timepoint ID 125 saved out\n"
     ]
    },
    {
     "data": {
      "application/vnd.jupyter.widget-view+json": {
       "model_id": "2e1f8b7c1bea424684db32736c6ae655",
       "version_major": 2,
       "version_minor": 0
      },
      "text/plain": [
       "Processing Channels (T=126):   0%|          | 0/3 [00:00<?, ?it/s]"
      ]
     },
     "metadata": {},
     "output_type": "display_data"
    },
    {
     "name": "stdout",
     "output_type": "stream",
     "text": [
      "Timepoint ID 126 saved out\n"
     ]
    },
    {
     "data": {
      "application/vnd.jupyter.widget-view+json": {
       "model_id": "2cc79330be224b58a95e338aa37a5026",
       "version_major": 2,
       "version_minor": 0
      },
      "text/plain": [
       "Processing Channels (T=127):   0%|          | 0/3 [00:00<?, ?it/s]"
      ]
     },
     "metadata": {},
     "output_type": "display_data"
    },
    {
     "name": "stdout",
     "output_type": "stream",
     "text": [
      "Timepoint ID 127 saved out\n"
     ]
    },
    {
     "data": {
      "application/vnd.jupyter.widget-view+json": {
       "model_id": "f52bd121fd26438bb93c1ce13a49567f",
       "version_major": 2,
       "version_minor": 0
      },
      "text/plain": [
       "Processing Channels (T=128):   0%|          | 0/3 [00:00<?, ?it/s]"
      ]
     },
     "metadata": {},
     "output_type": "display_data"
    },
    {
     "name": "stdout",
     "output_type": "stream",
     "text": [
      "Timepoint ID 128 saved out\n"
     ]
    },
    {
     "data": {
      "application/vnd.jupyter.widget-view+json": {
       "model_id": "d81bd6ef61a24f6e93240d86073c0e00",
       "version_major": 2,
       "version_minor": 0
      },
      "text/plain": [
       "Processing Channels (T=129):   0%|          | 0/3 [00:00<?, ?it/s]"
      ]
     },
     "metadata": {},
     "output_type": "display_data"
    },
    {
     "name": "stdout",
     "output_type": "stream",
     "text": [
      "Timepoint ID 129 saved out\n"
     ]
    },
    {
     "data": {
      "application/vnd.jupyter.widget-view+json": {
       "model_id": "35de3a597ca74de2bc19be29345a5702",
       "version_major": 2,
       "version_minor": 0
      },
      "text/plain": [
       "Processing Channels (T=130):   0%|          | 0/3 [00:00<?, ?it/s]"
      ]
     },
     "metadata": {},
     "output_type": "display_data"
    },
    {
     "name": "stdout",
     "output_type": "stream",
     "text": [
      "Timepoint ID 130 saved out\n"
     ]
    },
    {
     "data": {
      "application/vnd.jupyter.widget-view+json": {
       "model_id": "9c270dfe626e43b28ee584db81abc51b",
       "version_major": 2,
       "version_minor": 0
      },
      "text/plain": [
       "Processing Channels (T=131):   0%|          | 0/3 [00:00<?, ?it/s]"
      ]
     },
     "metadata": {},
     "output_type": "display_data"
    },
    {
     "name": "stdout",
     "output_type": "stream",
     "text": [
      "Timepoint ID 131 saved out\n"
     ]
    },
    {
     "data": {
      "application/vnd.jupyter.widget-view+json": {
       "model_id": "2528caa17f43499fab524d5807b2e36a",
       "version_major": 2,
       "version_minor": 0
      },
      "text/plain": [
       "Processing Channels (T=132):   0%|          | 0/3 [00:00<?, ?it/s]"
      ]
     },
     "metadata": {},
     "output_type": "display_data"
    },
    {
     "name": "stdout",
     "output_type": "stream",
     "text": [
      "Timepoint ID 132 saved out\n"
     ]
    },
    {
     "data": {
      "application/vnd.jupyter.widget-view+json": {
       "model_id": "b51dd4092d7047779f3620261f029889",
       "version_major": 2,
       "version_minor": 0
      },
      "text/plain": [
       "Processing Channels (T=133):   0%|          | 0/3 [00:00<?, ?it/s]"
      ]
     },
     "metadata": {},
     "output_type": "display_data"
    },
    {
     "name": "stdout",
     "output_type": "stream",
     "text": [
      "Timepoint ID 133 saved out\n"
     ]
    },
    {
     "data": {
      "application/vnd.jupyter.widget-view+json": {
       "model_id": "da8320e09d0544c0a65248c99aa8f4c2",
       "version_major": 2,
       "version_minor": 0
      },
      "text/plain": [
       "Processing Channels (T=134):   0%|          | 0/3 [00:00<?, ?it/s]"
      ]
     },
     "metadata": {},
     "output_type": "display_data"
    },
    {
     "name": "stdout",
     "output_type": "stream",
     "text": [
      "Timepoint ID 134 saved out\n"
     ]
    },
    {
     "data": {
      "application/vnd.jupyter.widget-view+json": {
       "model_id": "517048aad02d44a2a63ab4db56081df5",
       "version_major": 2,
       "version_minor": 0
      },
      "text/plain": [
       "Processing Channels (T=135):   0%|          | 0/3 [00:00<?, ?it/s]"
      ]
     },
     "metadata": {},
     "output_type": "display_data"
    },
    {
     "name": "stdout",
     "output_type": "stream",
     "text": [
      "Timepoint ID 135 saved out\n"
     ]
    },
    {
     "data": {
      "application/vnd.jupyter.widget-view+json": {
       "model_id": "ae4248054deb44f991d60addbc392af6",
       "version_major": 2,
       "version_minor": 0
      },
      "text/plain": [
       "Processing Channels (T=136):   0%|          | 0/3 [00:00<?, ?it/s]"
      ]
     },
     "metadata": {},
     "output_type": "display_data"
    },
    {
     "name": "stdout",
     "output_type": "stream",
     "text": [
      "Timepoint ID 136 saved out\n"
     ]
    },
    {
     "data": {
      "application/vnd.jupyter.widget-view+json": {
       "model_id": "364e6373224042d6b8734e791b4cba4f",
       "version_major": 2,
       "version_minor": 0
      },
      "text/plain": [
       "Processing Channels (T=137):   0%|          | 0/3 [00:00<?, ?it/s]"
      ]
     },
     "metadata": {},
     "output_type": "display_data"
    },
    {
     "name": "stdout",
     "output_type": "stream",
     "text": [
      "Timepoint ID 137 saved out\n"
     ]
    },
    {
     "data": {
      "application/vnd.jupyter.widget-view+json": {
       "model_id": "60b944ef81aa4dd2aba673c6bd9d805e",
       "version_major": 2,
       "version_minor": 0
      },
      "text/plain": [
       "Processing Channels (T=138):   0%|          | 0/3 [00:00<?, ?it/s]"
      ]
     },
     "metadata": {},
     "output_type": "display_data"
    },
    {
     "name": "stdout",
     "output_type": "stream",
     "text": [
      "Timepoint ID 138 saved out\n"
     ]
    },
    {
     "data": {
      "application/vnd.jupyter.widget-view+json": {
       "model_id": "9fdae598caba421e93d4ef144f7a59f0",
       "version_major": 2,
       "version_minor": 0
      },
      "text/plain": [
       "Processing Channels (T=139):   0%|          | 0/3 [00:00<?, ?it/s]"
      ]
     },
     "metadata": {},
     "output_type": "display_data"
    },
    {
     "name": "stdout",
     "output_type": "stream",
     "text": [
      "Timepoint ID 139 saved out\n"
     ]
    },
    {
     "data": {
      "application/vnd.jupyter.widget-view+json": {
       "model_id": "ecb4c8860d144b8f99b0acb96821344c",
       "version_major": 2,
       "version_minor": 0
      },
      "text/plain": [
       "Processing Channels (T=140):   0%|          | 0/3 [00:00<?, ?it/s]"
      ]
     },
     "metadata": {},
     "output_type": "display_data"
    },
    {
     "name": "stdout",
     "output_type": "stream",
     "text": [
      "Timepoint ID 140 saved out\n"
     ]
    },
    {
     "data": {
      "application/vnd.jupyter.widget-view+json": {
       "model_id": "6b43c575a8d24fab882acd85adf2035c",
       "version_major": 2,
       "version_minor": 0
      },
      "text/plain": [
       "Processing Channels (T=141):   0%|          | 0/3 [00:00<?, ?it/s]"
      ]
     },
     "metadata": {},
     "output_type": "display_data"
    },
    {
     "name": "stdout",
     "output_type": "stream",
     "text": [
      "Timepoint ID 141 saved out\n"
     ]
    },
    {
     "data": {
      "application/vnd.jupyter.widget-view+json": {
       "model_id": "b026904ca3bc461f91e840ba575b6c8f",
       "version_major": 2,
       "version_minor": 0
      },
      "text/plain": [
       "Processing Channels (T=142):   0%|          | 0/3 [00:00<?, ?it/s]"
      ]
     },
     "metadata": {},
     "output_type": "display_data"
    },
    {
     "name": "stdout",
     "output_type": "stream",
     "text": [
      "Timepoint ID 142 saved out\n"
     ]
    },
    {
     "data": {
      "application/vnd.jupyter.widget-view+json": {
       "model_id": "946df9196b0746a0abe6713ec447b8c1",
       "version_major": 2,
       "version_minor": 0
      },
      "text/plain": [
       "Processing Channels (T=143):   0%|          | 0/3 [00:00<?, ?it/s]"
      ]
     },
     "metadata": {},
     "output_type": "display_data"
    },
    {
     "name": "stdout",
     "output_type": "stream",
     "text": [
      "Timepoint ID 143 saved out\n",
      "/mnt/DATA3/BPP0050/BPP0050-1-Live-cell-to4i_Live-2__2025-04-10T18_45_48-Measurement 1/acquisition/zarr/(4, 5).zarr already exists, skipping\n",
      "/mnt/DATA3/BPP0050/BPP0050-1-Live-cell-to4i_Live-2__2025-04-10T18_45_48-Measurement 1/acquisition/zarr/(4, 6).zarr already exists, skipping\n",
      "/mnt/DATA3/BPP0050/BPP0050-1-Live-cell-to4i_Live-2__2025-04-10T18_45_48-Measurement 1/acquisition/zarr/(4, 7).zarr already exists, skipping\n",
      "/mnt/DATA3/BPP0050/BPP0050-1-Live-cell-to4i_Live-2__2025-04-10T18_45_48-Measurement 1/acquisition/zarr/(4, 8).zarr already exists, skipping\n",
      "/mnt/DATA3/BPP0050/BPP0050-1-Live-cell-to4i_Live-2__2025-04-10T18_45_48-Measurement 1/acquisition/zarr/(5, 4).zarr already exists, skipping\n",
      "/mnt/DATA3/BPP0050/BPP0050-1-Live-cell-to4i_Live-2__2025-04-10T18_45_48-Measurement 1/acquisition/zarr/(5, 5).zarr already exists, skipping\n"
     ]
    }
   ],
   "source": [
    "base_dir =  '/mnt/DATA3/BPP0050/BPP0050-1-Live-cell-to4i_Live-2__2025-04-10T18_45_48-Measurement 1/'\n",
    "\n",
    "base_dir_ID = 'BPP0050-1-Live-cell-to4i_Live-2__2025-04-10T18_45_48-Measurement 1'\n",
    "\n",
    "metadata_fn = os.path.join(base_dir, 'acquisition/Images/Index.idx.xml')\n",
    "metadata = dataio.read_harmony_metadata(metadata_fn)  \n",
    "\n",
    "# Convert applicable columns to numeric values\n",
    "metadata = metadata.apply(pd.to_numeric, errors='ignore')\n",
    "# Invert Y coordinates (cathode ray tube adjustment)\n",
    "metadata['PositionY'] = -metadata['PositionY']\n",
    "\n",
    "# Find the minimum Z position for non-Phase Contrast channels\n",
    "min_z = metadata.loc[~metadata['ChannelName'].str.contains('Phase Contrast', case=False, na=False), 'PositionZ'].min()\n",
    "\n",
    "# Assign this minimum Z value to all \"Phase Contrast\" channels\n",
    "metadata.loc[metadata['ChannelName'].str.contains('Phase Contrast', case=False, na=False), 'PositionZ'] = min_z\n",
    "\n",
    "image_dir = os.path.join(base_dir, 'acquisition/Images/')\n",
    "# use the metadata for the rows cols as the assay layout can be the same for multiple acquisitions, encompassing multiple layouts\n",
    "rows_cols = metadata[['Row', 'Col']].drop_duplicates().values\n",
    "\n",
    "assay_layout_fn = glob.glob(os.path.join(base_dir, 'acquisition/Assaylayout/*.xml'))[0]\n",
    "assay_layout = load_assay_layout(assay_layout_fn)\n",
    "\n",
    "\n",
    "\n",
    "\n",
    "for row_col in tqdm(rows_cols, desc=f'Now tiling in {base_dir_ID}', total = len(rows_cols)):\n",
    "    row, column = int(row_col[0]), int(row_col[1])\n",
    "    col = column\n",
    "    acq_ID = row, column\n",
    "\n",
    "    # Filter metadata for the current row and column (include all time points)\n",
    "    position_metadata = metadata[(metadata['Row'] == row) & (metadata['Col'] == column)]\n",
    "    # Get unique time points\n",
    "    timepoint_ids = sorted(position_metadata['TimepointID'].unique())\n",
    "    # Initialize a list to store time-lapse volumes\n",
    "    time_volumes = []\n",
    "    \n",
    "    # Define Zarr output path\n",
    "    zarr_output_dir = Path(base_dir) / f\"acquisition/zarr/{acq_ID}.zarr\"\n",
    "\n",
    "    if os.path.exists(zarr_output_dir):\n",
    "        print(zarr_output_dir, 'already exists, skipping')\n",
    "        continue\n",
    "\n",
    "    # Create root Zarr group\n",
    "    root = zarr.open_group(zarr_output_dir, mode='w')\n",
    "\n",
    "    T = len(position_metadata['TimepointID'].unique())\n",
    "    C = len(position_metadata['ChannelID'].unique())\n",
    "    Z = len(position_metadata['PlaneID'].unique())\n",
    "    Y = int((position_metadata['PositionY'].max() - position_metadata['PositionY'].min()) / position_metadata['ImageResolutionY'].iloc[0]) + position_metadata['ImageSizeY'].iloc[0]\n",
    "    X = int((position_metadata['PositionX'].max() - position_metadata['PositionX'].min()) / position_metadata['ImageResolutionX'].iloc[0]) + position_metadata['ImageSizeX'].iloc[0]\n",
    "    \n",
    "    zarr_array = root.create_dataset(\n",
    "        name=\"images\",\n",
    "        shape=(T, C, Z, Y, X),\n",
    "        chunks=(1, C, Z, Y, X),  # Chunk along T for sequential write\n",
    "        dtype='uint16',\n",
    "        compressor=numcodecs.Blosc(cname='zstd', clevel=5, shuffle=numcodecs.Blosc.BITSHUFFLE)\n",
    "    )    \n",
    "\n",
    "\n",
    "    sample_tile_id =  position_metadata.iloc[0]\n",
    "    # Iterate over each time point\n",
    "    for timepoint_id in tqdm(timepoint_ids, desc=\"Processing Time Points\", leave=True, position=1):\n",
    "        # Filter metadata for the current time point\n",
    "        time_metadata = position_metadata[position_metadata['TimepointID'] == timepoint_id]\n",
    "        # Get unique Channel\n",
    "        channel_ids = sorted(time_metadata['ChannelID'].unique())\n",
    "        # Initialize a list to hold each channel's Z-stack for this time point\n",
    "        channel_volumes = []\n",
    "        # Iterate over each channel\n",
    "        for channel_id in tqdm(channel_ids, desc=f\"Processing Channels (T={timepoint_id})\", leave=False, position=2):\n",
    "            # get specific channel metadata\n",
    "            channel_slice_metadata = time_metadata[time_metadata['ChannelID'] == channel_id]\n",
    "            # get z positions for this channel\n",
    "            z_ids = sorted(channel_slice_metadata['PositionZ'].unique())\n",
    "            # init a list to hold z slices\n",
    "            z_slices = []\n",
    "            # Iterate over Z positions\n",
    "            for z_id in z_ids:#tqdm(z_positions, desc=\"Processing Z-slices\", leave=False, position=3):\n",
    "                # get specific z slice metadata\n",
    "                z_slice_metadata = channel_slice_metadata[channel_slice_metadata['PositionZ'] == z_id]\n",
    "                # Initialize mosaic_slice if needed, ie for the first image to be placed in the blank slate\n",
    "                mosaic_size_x = int((z_slice_metadata['PositionX'].max() - z_slice_metadata['PositionX'].min()) / sample_tile_id['ImageResolutionX']) + sample_tile_id['ImageSizeX']\n",
    "                mosaic_size_y = int((z_slice_metadata['PositionY'].max() - z_slice_metadata['PositionY'].min()) / sample_tile_id['ImageResolutionY']) + sample_tile_id['ImageSizeY']\n",
    "                # For each position, create a large mosaic (accumulator & weight)\n",
    "                # Suppose mosaic_size_y, mosaic_size_x is the total bounding box in Y and X.\n",
    "                accumulator = np.zeros((mosaic_size_y, mosaic_size_x), dtype=np.float32)\n",
    "                weight_map  = np.zeros((mosaic_size_y, mosaic_size_x), dtype=np.float32)\n",
    "                \n",
    "                for tile_index, tile_id in z_slice_metadata.iterrows():\n",
    "                    # load the tile\n",
    "                    img_path = os.path.join(image_dir, tile_id['URL'])\n",
    "                    try:\n",
    "                        tile = imread(img_path).astype(np.float32)\n",
    "                    except FileNotFoundError:\n",
    "                        tile = np.zeros((tile_id['ImageSizeY'], tile_id['ImageSizeX']), dtype=np.float32)\n",
    "                \n",
    "                    # create alpha mask for this tile's shape\n",
    "                    alpha_mask = create_alpha_mask(tile.shape[0], tile.shape[1], feather=0.1)\n",
    "                \n",
    "                    # figure out where to place this tile in the mosaic\n",
    "                    x_pixel = int((tile_id['PositionX'] - z_slice_metadata['PositionX'].min()) / tile_id['ImageResolutionX'])\n",
    "                    y_pixel = int((tile_id['PositionY'] - z_slice_metadata['PositionY'].min()) / tile_id['ImageResolutionY'])\n",
    "                \n",
    "                    # add into the accumulator & weight\n",
    "                    # We slice out the region in the mosaic that corresponds to this tile\n",
    "                    acc_slice = accumulator[y_pixel:y_pixel+tile.shape[0], x_pixel:x_pixel+tile.shape[1]]\n",
    "                    wgt_slice = weight_map[y_pixel:y_pixel+tile.shape[0], x_pixel:x_pixel+tile.shape[1]]\n",
    "                \n",
    "                    acc_slice += tile * alpha_mask\n",
    "                    wgt_slice += alpha_mask\n",
    "                \n",
    "                # AFTER all tiles are placed:\n",
    "                final_mosaic = np.zeros_like(accumulator, dtype=np.float32)\n",
    "                \n",
    "                # Avoid division by zero\n",
    "                nonzero_mask = (weight_map > 0)\n",
    "                final_mosaic[nonzero_mask] = accumulator[nonzero_mask] / weight_map[nonzero_mask]\n",
    "                \n",
    "                # Then, convert final mosaic to e.g. uint16 if desired\n",
    "                mosaic = np.clip(final_mosaic, 0, 65535).astype(np.uint16)\n",
    "                \n",
    "                # now append that mosaic z slice to z slices stack, different if DPC\n",
    "                if \"Phase Contrast\" in channel_slice_metadata['ChannelName'].iloc[0]:  \n",
    "                    # print(f\"Distributing DPC image across Z slices\")\n",
    "                    dpc_slice = mosaic / len(metadata['PositionZ'].unique())  \n",
    "                    z_slices = [mosaic] * len(metadata['PositionZ'].unique())  \n",
    "                    break  \n",
    "                else:\n",
    "                    z_slices.append(mosaic)\n",
    "                \n",
    "            #stack z slices into a channel volume\n",
    "            if len(z_slices) > 0:\n",
    "                # channel_volume = np.max(z_slices, axis=0)\n",
    "                channel_volume = np.stack(z_slices, axis=0)\n",
    "                channel_volumes.append(channel_volume)\n",
    "        # stack the channel volume into a time volume\n",
    "        if len(channel_volumes) > 0:\n",
    "            image_volume_czyx = np.stack(channel_volumes, axis=0)  # C, Z, Y, X\n",
    "            # time_volumes.append(image_volume_czyx)  # Store for this time point\n",
    "            zarr_array[timepoint_id] = image_volume_czyx  # write to zarr on the fly\n",
    "            print(f'Timepoint ID {timepoint_id} saved out')\n",
    "    # # Stack all time points into a 5D array (T, C, Z, Y, X)\n",
    "    # if len(time_volumes) > 0:\n",
    "    #     images = np.stack(time_volumes, axis=0)  # T, C, Z, Y, X\n",
    "    #     print(f\"Final image volume shape: {images.shape}\")\n",
    "    # !notify-send \"Jupyter Notebook\" \"Your process has completed successfully!\"\n",
    "    \n",
    "    # try:\n",
    "    #     dask_images = dask.array.from_array(images)\n",
    "    #     zarr_group = zarr.open(zarr_output_dir, mode='w')\n",
    "    #     dask.array.to_zarr(dask_images, zarr_output_dir, component='images')\n",
    "    #     print(f\"Saved Zarr array successfully to {zarr_output_dir}\")\n",
    "    # except:\n",
    "    #     print(base_dir_ID, acq_ID, 'zarr output failed')\n"
   ]
  }
 ],
 "metadata": {
  "kernelspec": {
   "display_name": "godspeed",
   "language": "python",
   "name": "godspeed"
  },
  "language_info": {
   "codemirror_mode": {
    "name": "ipython",
    "version": 3
   },
   "file_extension": ".py",
   "mimetype": "text/x-python",
   "name": "python",
   "nbconvert_exporter": "python",
   "pygments_lexer": "ipython3",
   "version": "3.10.13"
  }
 },
 "nbformat": 4,
 "nbformat_minor": 5
}
