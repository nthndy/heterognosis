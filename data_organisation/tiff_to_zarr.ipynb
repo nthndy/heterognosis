{
 "cells": [
  {
   "cell_type": "markdown",
   "id": "0f386625-438a-4e1a-b696-d39ce1c852a7",
   "metadata": {},
   "source": [
    "# Zarr Tiling \n",
    "\n",
    "Notebook for taking Opera Phenix tiff output and tiling the images together into zarr mosaics with metadata attribute, specifically for the heterognosis project"
   ]
  },
  {
   "cell_type": "code",
   "execution_count": 1,
   "id": "adae0225-5c8b-42da-b76a-2af579102fbc",
   "metadata": {},
   "outputs": [],
   "source": [
    "import os\n",
    "import glob\n",
    "import pandas as pd\n",
    "import numpy as np\n",
    "import zarr\n",
    "import dask.array\n",
    "from scipy import stats\n",
    "import xml.etree.ElementTree as ET\n",
    "from tqdm.auto import tqdm \n",
    "from skimage.io import imread\n",
    "from macrohet import dataio \n",
    "\n",
    "\n",
    "def create_alpha_mask(height, width, feather=0.1):\n",
    "    \"\"\"\n",
    "    Create a 2D alpha mask of shape (height, width).\n",
    "    The mask is 1 in the interior, and over the last `feather` pixels\n",
    "    near each edge, it linearly ramps down to 0.\n",
    "    feather is a fraction of image i.e. a float percentage.\n",
    "    This is the core function that enables smooth image tiling \n",
    "    without dramatic cropping of cell morphology.\n",
    "    \"\"\"\n",
    "    # Coordinates\n",
    "    y = np.arange(height)\n",
    "    x = np.arange(width)\n",
    "\n",
    "    feather_pixels = feather * min(height, width)\n",
    "    \n",
    "    # Distance from left and right edges\n",
    "    dist_x_left  = x\n",
    "    dist_x_right = (width - 1) - x\n",
    "    # Distance from top and bottom edges\n",
    "    dist_y_top    = y\n",
    "    dist_y_bottom = (height - 1) - y\n",
    "    \n",
    "    # For each row, figure out the \"vertical\" ramp factor from top/bottom\n",
    "    # We'll make an array that is the min distance to top or bottom.\n",
    "    ramp_y = np.minimum(dist_y_top, dist_y_bottom)\n",
    "    # For each column, min distance to left or right\n",
    "    ramp_x = np.minimum(dist_x_left, dist_x_right)\n",
    "    \n",
    "    # Combine to get a 2D \"distance from any edge\"\n",
    "    # We can broadcast ramp_y over columns, ramp_x over rows\n",
    "    dist_from_edge = np.minimum(\n",
    "        ramp_y[:, None],\n",
    "        ramp_x[None, :]\n",
    "    )\n",
    "    \n",
    "    # Turn that distance into an alpha that goes from 0 to 1 linearly\n",
    "    # from the very edge to `feather` pixels in.\n",
    "    # If dist_from_edge >= feather, alpha=1. If dist < 0, alpha=0, etc.\n",
    "    alpha = np.clip(dist_from_edge / feather_pixels, 0, 1)\n",
    "    \n",
    "    return alpha\n",
    "\n",
    "\n",
    "def load_assay_layout(xml_file_name):\n",
    "    \"\"\"\n",
    "    Loads and parses an assay layout XML file into a pandas DataFrame with a 'position' index.\n",
    "\n",
    "    Args:\n",
    "        xml_file_name (str): The full path to the assay layout XML file.\n",
    "\n",
    "    Returns:\n",
    "        pandas.DataFrame: A DataFrame containing the assay layout information,\n",
    "                          with a 'position' column as index and each layer as a column.\n",
    "                          Returns an empty DataFrame if the file is not found or parsing fails.\n",
    "    \"\"\"\n",
    "    df_assay_layout = pd.DataFrame()\n",
    "\n",
    "    if not os.path.exists(xml_file_name):\n",
    "        print(f\"Error: The file '{xml_file_name}' was not found.\")\n",
    "    else:\n",
    "        try:\n",
    "            tree = ET.parse(xml_file_name)\n",
    "            root = tree.getroot()\n",
    "            namespaces = {'ns': 'http://www.perkinelmer.com/PEHH/HarmonyV5'}\n",
    "            plate_data = {}\n",
    "\n",
    "            for layer in root.findall('ns:Layer', namespaces):\n",
    "                layer_name_element = layer.find('ns:Name', namespaces)\n",
    "                if layer_name_element is None or layer_name_element.text is None:\n",
    "                    print(\"Warning: Found a layer without a name. Skipping this layer.\")\n",
    "                    continue\n",
    "                layer_name = layer_name_element.text.strip()\n",
    "\n",
    "                for well in layer.findall('ns:Well', namespaces):\n",
    "                    row_element = well.find('ns:Row', namespaces)\n",
    "                    col_element = well.find('ns:Col', namespaces)\n",
    "                    value_element = well.find('ns:Value', namespaces)\n",
    "\n",
    "                    if row_element is None or row_element.text is None or \\\n",
    "                       col_element is None or col_element.text is None:\n",
    "                        print(f\"Warning: Found a well in layer '{layer_name}' without row or col. Skipping this well.\")\n",
    "                        continue\n",
    "\n",
    "                    try:\n",
    "                        row = int(row_element.text.strip())\n",
    "                        col = int(col_element.text.strip())\n",
    "                    except ValueError:\n",
    "                        print(f\"Warning: Could not parse row/col as integers for a well in layer '{layer_name}'. Skipping this well.\")\n",
    "                        continue\n",
    "\n",
    "                    value = value_element.text.strip() if value_element is not None and value_element.text is not None else pd.NA\n",
    "                    well_key = (row, col)\n",
    "                    if well_key not in plate_data:\n",
    "                        plate_data[well_key] = {}\n",
    "                    plate_data[well_key][layer_name] = value\n",
    "\n",
    "            if plate_data:\n",
    "                df_assay_layout = pd.DataFrame.from_dict(plate_data, orient='index')\n",
    "                df_assay_layout.index.names = ['Row', 'Col']\n",
    "                df_assay_layout = df_assay_layout.sort_index()\n",
    "                df_assay_layout = df_assay_layout.dropna(how='all')\n",
    "\n",
    "                # Create a new 'position' column\n",
    "                df_assay_layout['position'] = df_assay_layout.index.map(lambda rc: f\"({rc[0]}, {rc[1]})\")\n",
    "                # Set 'position' as the new index\n",
    "                df_assay_layout = df_assay_layout.set_index('position')\n",
    "                df_assay_layout = df_assay_layout.drop(columns=['Row', 'Col']) # Drop the old index columns\n",
    "\n",
    "            else:\n",
    "                print(\"No data was extracted from the XML file to populate the DataFrame.\")\n",
    "\n",
    "        except ET.ParseError as e:\n",
    "            print(f\"Error parsing XML file '{xml_file_name}': {e}\")\n",
    "        except FileNotFoundError:\n",
    "            print(f\"Error: The file '{xml_file_name}' was not found.\")\n",
    "        except Exception as e:\n",
    "            print(f\"An unexpected error occurred during XML processing: {e}\")\n",
    "\n",
    "    return df_assay_layout\n"
   ]
  },
  {
   "cell_type": "markdown",
   "id": "3238f01f-4ae2-48df-ac49-fa69a691b9c7",
   "metadata": {},
   "source": [
    "### Add acquisition subdirectories\n",
    "\n",
    "This is where all the imagery will be kept"
   ]
  },
  {
   "cell_type": "code",
   "execution_count": null,
   "id": "aa93e011-c91e-4854-9031-2de325ce2820",
   "metadata": {},
   "outputs": [],
   "source": [
    "base_dir = '/mnt/DATA3/BPP0050/'\n",
    "parent_directories = glob.glob(os.path.join(base_dir, '*/'))\n",
    "\n",
    "# Define the name of the new subdirectory for acquisitions\n",
    "ACQUISITIONS_DIR_NAME = \"acquisition\"\n",
    "\n",
    "print(f\"Starting to organize subdirectories into '{ACQUISITIONS_DIR_NAME}'...\")\n",
    "\n",
    "for parent_dir in parent_directories:\n",
    "    # Ensure the parent directory path is clean and exists\n",
    "    parent_dir = os.path.normpath(parent_dir)\n",
    "    if not os.path.isdir(parent_dir):\n",
    "        print(f\"Warning: Parent directory not found, skipping: {parent_dir}\")\n",
    "        continue\n",
    "\n",
    "    # Construct the path for the new 'acquisitions' subdirectory\n",
    "    acquisitions_path = os.path.join(parent_dir, ACQUISITIONS_DIR_NAME)\n",
    "\n",
    "    # Create the 'acquisitions' subdirectory if it doesn't exist\n",
    "    try:\n",
    "        os.makedirs(acquisitions_path, exist_ok=True)\n",
    "        print(f\"Ensured '{acquisitions_path}' exists.\")\n",
    "    except OSError as e:\n",
    "        print(f\"Error creating '{acquisitions_path}': {e}\")\n",
    "        continue # Skip to the next parent directory if creation fails\n",
    "\n",
    "    # List all entries in the parent directory\n",
    "    # Filter for actual directories, excluding the 'acquisitions' directory itself\n",
    "    items_in_parent_dir = [\n",
    "        d for d in os.listdir(parent_dir)\n",
    "        if os.path.isdir(os.path.join(parent_dir, d)) and d != ACQUISITIONS_DIR_NAME\n",
    "    ]\n",
    "\n",
    "    if not items_in_parent_dir:\n",
    "        print(f\"No subdirectories found to move in: {parent_dir}\")\n",
    "        continue\n",
    "\n",
    "    print(f\"Processing parent directory: {parent_dir}\")\n",
    "    for subdir_name in items_in_parent_dir:\n",
    "        source_path = os.path.join(parent_dir, subdir_name)\n",
    "        destination_path = os.path.join(acquisitions_path, subdir_name)\n",
    "\n",
    "        try:\n",
    "            # Move the subdirectory\n",
    "            shutil.move(source_path, destination_path)\n",
    "            print(f\"  Moved '{source_path}' to '{destination_path}'\")\n",
    "        except shutil.Error as e:\n",
    "            print(f\"  Error moving '{source_path}': {e}\")\n",
    "        except Exception as e:\n",
    "            print(f\"  An unexpected error occurred while moving '{source_path}': {e}\")\n",
    "\n",
    "print(\"Script finished.\")"
   ]
  },
  {
   "cell_type": "markdown",
   "id": "b18bcaa1-7b7b-4632-b4f7-09726eed5786",
   "metadata": {},
   "source": [
    "# Tile, add metadata and save out "
   ]
  },
  {
   "cell_type": "code",
   "execution_count": 3,
   "id": "56ae1b72-5a0c-4638-990c-1d6cff78eb64",
   "metadata": {},
   "outputs": [
    {
     "data": {
      "text/plain": [
       "['/mnt/DATA3/BPP0050/BPP0050-1-Live-cell-to4i_Fixed_Cy5__2025-04-18T16_38_51-Measurement 1/',\n",
       " '/mnt/DATA3/BPP0050/BPP0050-1-Live-cell-to4i_Fixed_Cy8__2025-04-21T16_49_44-Measurement 1/',\n",
       " '/mnt/DATA3/BPP0050/BPP0050-1-Live-cell-to4i_Fixed_Cy10__2025-04-23T15_45_30-Measurement 1/',\n",
       " '/mnt/DATA3/BPP0050/BPP0050-1-Live-cell-to4i_Fixed_Cy2__2025-04-15T16_42_33-Measurement 3/',\n",
       " '/mnt/DATA3/BPP0050/BPP0050-1-Live-cell-to4i_Fixed_Cy4__2025-04-17T16_24_52-Measurement 1/',\n",
       " '/mnt/DATA3/BPP0050/BPP0050-1-Live-cell-to4i_Live-1__2025-04-09T18_25_04-Measurement 1/',\n",
       " '/mnt/DATA3/BPP0050/BPP0050-1-Live-cell-to4i_Live-2__2025-04-10T18_45_48-Measurement 1/',\n",
       " '/mnt/DATA3/BPP0050/BPP0050-1-Live-cell-to4i_Fixed_Cy7__2025-04-20T16_03_17-Measurement 1/',\n",
       " '/mnt/DATA3/BPP0050/BPP0050-1-Live-cell-to4i_Fixed_Cy17__2025-04-30T18_09_02-Measurement 1/',\n",
       " '/mnt/DATA3/BPP0050/BPP0050-1-Live-cell-to4i_Fixed_Cy13__2025-04-26T16_33_47-Measurement 1/',\n",
       " '/mnt/DATA3/BPP0050/BPP0050-1-Live-cell-to4i_Fixed_Cy6__2025-04-19T16_14_26-Measurement 1/',\n",
       " '/mnt/DATA3/BPP0050/BPP0050-1-Live-cell-to4i_Fixed_Cy9__2025-04-22T18_25_01-Measurement 1/',\n",
       " '/mnt/DATA3/BPP0050/BPP0050-1-Live-cell-to4i_Fixed_Cy1-2__2025-04-14T18_24_32-Measurement 1/',\n",
       " '/mnt/DATA3/BPP0050/BPP0050-1-Live-cell-to4i_Fixed_Cy15__2025-04-28T16_14_55-Measurement 1/',\n",
       " '/mnt/DATA3/BPP0050/BPP0050-1-Live-cell-to4i_Fixed_Cy16__2025-04-29T15_39_50-Measurement 1/',\n",
       " '/mnt/DATA3/BPP0050/BPP0050-1-Live-cell-to4i_Fixed_Cy1__2025-04-14T16_57_11-Measurement 1/',\n",
       " '/mnt/DATA3/BPP0050/BPP0050-1-Live-cell-to4i_Fixed_Cy12__2025-04-25T15_48_30-Measurement 1/',\n",
       " '/mnt/DATA3/BPP0050/BPP0050-1-Live-cell-to4i_Fixed_Cy3__2025-04-16T16_15_21-Measurement 1/',\n",
       " '/mnt/DATA3/BPP0050/BPP0050-1-Live-cell-to4i_Fixed_Cy11__2025-04-24T16_08_42-Measurement 1/',\n",
       " '/mnt/DATA3/BPP0050/BPP0050-1-Live-cell-to4i_Fixed_Cy14__2025-04-27T15_20_15-Measurement 1/']"
      ]
     },
     "execution_count": 3,
     "metadata": {},
     "output_type": "execute_result"
    }
   ],
   "source": [
    "base_dir = '/mnt/DATA3/BPP0050/'\n",
    "base_dirs = glob.glob(os.path.join(base_dir, '*/'))\n",
    "base_dirs"
   ]
  },
  {
   "cell_type": "code",
   "execution_count": 8,
   "id": "fbfb5363-8a68-4466-9659-cd9cf7e45391",
   "metadata": {},
   "outputs": [
    {
     "data": {
      "text/plain": [
       "'BPP0050-1-Live-cell-to4i_Live-2__2025-04-10T18_45_48-Measurement 1'"
      ]
     },
     "execution_count": 8,
     "metadata": {},
     "output_type": "execute_result"
    }
   ],
   "source": [
    "base_dir.split('/')[-2]"
   ]
  },
  {
   "cell_type": "code",
   "execution_count": 5,
   "id": "b227a09b-77ed-4a75-9248-9e95aebf06a9",
   "metadata": {},
   "outputs": [
    {
     "data": {
      "text/plain": [
       "''"
      ]
     },
     "execution_count": 5,
     "metadata": {},
     "output_type": "execute_result"
    }
   ],
   "source": [
    "base_dir_ID"
   ]
  },
  {
   "cell_type": "code",
   "execution_count": 9,
   "id": "b99c47cd-497e-4732-9588-6dcc68d0ee16",
   "metadata": {
    "scrolled": true
   },
   "outputs": [
    {
     "data": {
      "application/vnd.jupyter.widget-view+json": {
       "model_id": "5bf00dcad5bc42dc9def612f4baa7d22",
       "version_major": 2,
       "version_minor": 0
      },
      "text/plain": [
       "  0%|          | 0/20 [00:00<?, ?it/s]"
      ]
     },
     "metadata": {},
     "output_type": "display_data"
    },
    {
     "name": "stdout",
     "output_type": "stream",
     "text": [
      "Reading metadata XML file...\n"
     ]
    },
    {
     "data": {
      "application/vnd.jupyter.widget-view+json": {
       "model_id": "1e5908d81b9f4151a29e722c67b82600",
       "version_major": 2,
       "version_minor": 0
      },
      "text/plain": [
       "0it [00:00, ?it/s]"
      ]
     },
     "metadata": {},
     "output_type": "display_data"
    },
    {
     "name": "stdout",
     "output_type": "stream",
     "text": [
      "Extracting metadata complete!\n"
     ]
    },
    {
     "name": "stderr",
     "output_type": "stream",
     "text": [
      "/tmp/ipykernel_8701/2682895781.py:12: FutureWarning: errors='ignore' is deprecated and will raise in a future version. Use to_numeric without passing `errors` and catch exceptions explicitly instead\n",
      "  metadata = metadata.apply(pd.to_numeric, errors='ignore')\n"
     ]
    },
    {
     "name": "stdout",
     "output_type": "stream",
     "text": [
      "An unexpected error occurred during XML processing: \"['Row', 'Col'] not found in axis\"\n"
     ]
    },
    {
     "data": {
      "application/vnd.jupyter.widget-view+json": {
       "model_id": "e198e4d7aec04c1faacc326983b8325d",
       "version_major": 2,
       "version_minor": 0
      },
      "text/plain": [
       "Now tiling in BPP0050-1-Live-cell-to4i_Fixed_Cy5__2025-04-18T16_38_51-Measurement 1:   0%|          | 0/21 [00…"
      ]
     },
     "metadata": {},
     "output_type": "display_data"
    },
    {
     "name": "stdout",
     "output_type": "stream",
     "text": [
      "/mnt/DATA3/BPP0050/BPP0050-1-Live-cell-to4i_Fixed_Cy5__2025-04-18T16_38_51-Measurement 1/acquisition/zarr/(2, 4).zarr already exists, skipping\n",
      "/mnt/DATA3/BPP0050/BPP0050-1-Live-cell-to4i_Fixed_Cy5__2025-04-18T16_38_51-Measurement 1/acquisition/zarr/(2, 5).zarr already exists, skipping\n",
      "/mnt/DATA3/BPP0050/BPP0050-1-Live-cell-to4i_Fixed_Cy5__2025-04-18T16_38_51-Measurement 1/acquisition/zarr/(2, 6).zarr already exists, skipping\n",
      "/mnt/DATA3/BPP0050/BPP0050-1-Live-cell-to4i_Fixed_Cy5__2025-04-18T16_38_51-Measurement 1/acquisition/zarr/(2, 7).zarr already exists, skipping\n",
      "/mnt/DATA3/BPP0050/BPP0050-1-Live-cell-to4i_Fixed_Cy5__2025-04-18T16_38_51-Measurement 1/acquisition/zarr/(2, 8).zarr already exists, skipping\n",
      "/mnt/DATA3/BPP0050/BPP0050-1-Live-cell-to4i_Fixed_Cy5__2025-04-18T16_38_51-Measurement 1/acquisition/zarr/(3, 2).zarr already exists, skipping\n",
      "/mnt/DATA3/BPP0050/BPP0050-1-Live-cell-to4i_Fixed_Cy5__2025-04-18T16_38_51-Measurement 1/acquisition/zarr/(3, 3).zarr already exists, skipping\n",
      "/mnt/DATA3/BPP0050/BPP0050-1-Live-cell-to4i_Fixed_Cy5__2025-04-18T16_38_51-Measurement 1/acquisition/zarr/(3, 4).zarr already exists, skipping\n",
      "/mnt/DATA3/BPP0050/BPP0050-1-Live-cell-to4i_Fixed_Cy5__2025-04-18T16_38_51-Measurement 1/acquisition/zarr/(3, 5).zarr already exists, skipping\n",
      "/mnt/DATA3/BPP0050/BPP0050-1-Live-cell-to4i_Fixed_Cy5__2025-04-18T16_38_51-Measurement 1/acquisition/zarr/(3, 6).zarr already exists, skipping\n",
      "/mnt/DATA3/BPP0050/BPP0050-1-Live-cell-to4i_Fixed_Cy5__2025-04-18T16_38_51-Measurement 1/acquisition/zarr/(3, 7).zarr already exists, skipping\n",
      "/mnt/DATA3/BPP0050/BPP0050-1-Live-cell-to4i_Fixed_Cy5__2025-04-18T16_38_51-Measurement 1/acquisition/zarr/(3, 8).zarr already exists, skipping\n",
      "/mnt/DATA3/BPP0050/BPP0050-1-Live-cell-to4i_Fixed_Cy5__2025-04-18T16_38_51-Measurement 1/acquisition/zarr/(3, 9).zarr already exists, skipping\n",
      "/mnt/DATA3/BPP0050/BPP0050-1-Live-cell-to4i_Fixed_Cy5__2025-04-18T16_38_51-Measurement 1/acquisition/zarr/(4, 4).zarr already exists, skipping\n",
      "/mnt/DATA3/BPP0050/BPP0050-1-Live-cell-to4i_Fixed_Cy5__2025-04-18T16_38_51-Measurement 1/acquisition/zarr/(4, 5).zarr already exists, skipping\n",
      "/mnt/DATA3/BPP0050/BPP0050-1-Live-cell-to4i_Fixed_Cy5__2025-04-18T16_38_51-Measurement 1/acquisition/zarr/(4, 6).zarr already exists, skipping\n",
      "/mnt/DATA3/BPP0050/BPP0050-1-Live-cell-to4i_Fixed_Cy5__2025-04-18T16_38_51-Measurement 1/acquisition/zarr/(4, 7).zarr already exists, skipping\n",
      "/mnt/DATA3/BPP0050/BPP0050-1-Live-cell-to4i_Fixed_Cy5__2025-04-18T16_38_51-Measurement 1/acquisition/zarr/(4, 8).zarr already exists, skipping\n",
      "/mnt/DATA3/BPP0050/BPP0050-1-Live-cell-to4i_Fixed_Cy5__2025-04-18T16_38_51-Measurement 1/acquisition/zarr/(4, 9).zarr already exists, skipping\n",
      "/mnt/DATA3/BPP0050/BPP0050-1-Live-cell-to4i_Fixed_Cy5__2025-04-18T16_38_51-Measurement 1/acquisition/zarr/(5, 4).zarr already exists, skipping\n",
      "/mnt/DATA3/BPP0050/BPP0050-1-Live-cell-to4i_Fixed_Cy5__2025-04-18T16_38_51-Measurement 1/acquisition/zarr/(5, 5).zarr already exists, skipping\n",
      "Warning: Less than two unique TimepointIDs found, skipping framerate calculation.\n",
      "OME-Zarr metadata and assay layout saved to: /mnt/DATA3/BPP0050/BPP0050-1-Live-cell-to4i_Fixed_Cy5__2025-04-18T16_38_51-Measurement 1//acquisition/zarr//.zattrs\n",
      "Reading metadata XML file...\n"
     ]
    },
    {
     "name": "stderr",
     "output_type": "stream",
     "text": [
      "/tmp/ipykernel_8701/2682895781.py:152: FutureWarning: errors='ignore' is deprecated and will raise in a future version. Use to_numeric without passing `errors` and catch exceptions explicitly instead\n",
      "  timepoint_abs_times = metadata[['TimepointID', 'AbsTime']].drop_duplicates(subset=['TimepointID']).sort_values(key=lambda x: pd.to_numeric(x, errors='ignore'), by='TimepointID')\n"
     ]
    },
    {
     "data": {
      "application/vnd.jupyter.widget-view+json": {
       "model_id": "4b642b5c27ad49ee8d305a894a2d6c81",
       "version_major": 2,
       "version_minor": 0
      },
      "text/plain": [
       "0it [00:00, ?it/s]"
      ]
     },
     "metadata": {},
     "output_type": "display_data"
    },
    {
     "name": "stdout",
     "output_type": "stream",
     "text": [
      "Extracting metadata complete!\n"
     ]
    },
    {
     "name": "stderr",
     "output_type": "stream",
     "text": [
      "/tmp/ipykernel_8701/2682895781.py:12: FutureWarning: errors='ignore' is deprecated and will raise in a future version. Use to_numeric without passing `errors` and catch exceptions explicitly instead\n",
      "  metadata = metadata.apply(pd.to_numeric, errors='ignore')\n"
     ]
    },
    {
     "name": "stdout",
     "output_type": "stream",
     "text": [
      "An unexpected error occurred during XML processing: \"['Row', 'Col'] not found in axis\"\n"
     ]
    },
    {
     "data": {
      "application/vnd.jupyter.widget-view+json": {
       "model_id": "bcdcfeb98b7c4e03ab268d4ecc263d00",
       "version_major": 2,
       "version_minor": 0
      },
      "text/plain": [
       "Now tiling in BPP0050-1-Live-cell-to4i_Fixed_Cy8__2025-04-21T16_49_44-Measurement 1:   0%|          | 0/21 [00…"
      ]
     },
     "metadata": {},
     "output_type": "display_data"
    },
    {
     "name": "stdout",
     "output_type": "stream",
     "text": [
      "/mnt/DATA3/BPP0050/BPP0050-1-Live-cell-to4i_Fixed_Cy8__2025-04-21T16_49_44-Measurement 1/acquisition/zarr/(2, 4).zarr already exists, skipping\n",
      "/mnt/DATA3/BPP0050/BPP0050-1-Live-cell-to4i_Fixed_Cy8__2025-04-21T16_49_44-Measurement 1/acquisition/zarr/(2, 5).zarr already exists, skipping\n",
      "/mnt/DATA3/BPP0050/BPP0050-1-Live-cell-to4i_Fixed_Cy8__2025-04-21T16_49_44-Measurement 1/acquisition/zarr/(2, 6).zarr already exists, skipping\n",
      "/mnt/DATA3/BPP0050/BPP0050-1-Live-cell-to4i_Fixed_Cy8__2025-04-21T16_49_44-Measurement 1/acquisition/zarr/(2, 7).zarr already exists, skipping\n",
      "/mnt/DATA3/BPP0050/BPP0050-1-Live-cell-to4i_Fixed_Cy8__2025-04-21T16_49_44-Measurement 1/acquisition/zarr/(2, 8).zarr already exists, skipping\n",
      "/mnt/DATA3/BPP0050/BPP0050-1-Live-cell-to4i_Fixed_Cy8__2025-04-21T16_49_44-Measurement 1/acquisition/zarr/(3, 2).zarr already exists, skipping\n",
      "/mnt/DATA3/BPP0050/BPP0050-1-Live-cell-to4i_Fixed_Cy8__2025-04-21T16_49_44-Measurement 1/acquisition/zarr/(3, 3).zarr already exists, skipping\n",
      "/mnt/DATA3/BPP0050/BPP0050-1-Live-cell-to4i_Fixed_Cy8__2025-04-21T16_49_44-Measurement 1/acquisition/zarr/(3, 4).zarr already exists, skipping\n",
      "/mnt/DATA3/BPP0050/BPP0050-1-Live-cell-to4i_Fixed_Cy8__2025-04-21T16_49_44-Measurement 1/acquisition/zarr/(3, 5).zarr already exists, skipping\n",
      "/mnt/DATA3/BPP0050/BPP0050-1-Live-cell-to4i_Fixed_Cy8__2025-04-21T16_49_44-Measurement 1/acquisition/zarr/(3, 6).zarr already exists, skipping\n",
      "/mnt/DATA3/BPP0050/BPP0050-1-Live-cell-to4i_Fixed_Cy8__2025-04-21T16_49_44-Measurement 1/acquisition/zarr/(3, 7).zarr already exists, skipping\n",
      "/mnt/DATA3/BPP0050/BPP0050-1-Live-cell-to4i_Fixed_Cy8__2025-04-21T16_49_44-Measurement 1/acquisition/zarr/(3, 8).zarr already exists, skipping\n",
      "/mnt/DATA3/BPP0050/BPP0050-1-Live-cell-to4i_Fixed_Cy8__2025-04-21T16_49_44-Measurement 1/acquisition/zarr/(3, 9).zarr already exists, skipping\n",
      "/mnt/DATA3/BPP0050/BPP0050-1-Live-cell-to4i_Fixed_Cy8__2025-04-21T16_49_44-Measurement 1/acquisition/zarr/(4, 4).zarr already exists, skipping\n",
      "/mnt/DATA3/BPP0050/BPP0050-1-Live-cell-to4i_Fixed_Cy8__2025-04-21T16_49_44-Measurement 1/acquisition/zarr/(4, 5).zarr already exists, skipping\n",
      "/mnt/DATA3/BPP0050/BPP0050-1-Live-cell-to4i_Fixed_Cy8__2025-04-21T16_49_44-Measurement 1/acquisition/zarr/(4, 6).zarr already exists, skipping\n",
      "/mnt/DATA3/BPP0050/BPP0050-1-Live-cell-to4i_Fixed_Cy8__2025-04-21T16_49_44-Measurement 1/acquisition/zarr/(4, 7).zarr already exists, skipping\n",
      "/mnt/DATA3/BPP0050/BPP0050-1-Live-cell-to4i_Fixed_Cy8__2025-04-21T16_49_44-Measurement 1/acquisition/zarr/(4, 8).zarr already exists, skipping\n",
      "/mnt/DATA3/BPP0050/BPP0050-1-Live-cell-to4i_Fixed_Cy8__2025-04-21T16_49_44-Measurement 1/acquisition/zarr/(4, 9).zarr already exists, skipping\n",
      "/mnt/DATA3/BPP0050/BPP0050-1-Live-cell-to4i_Fixed_Cy8__2025-04-21T16_49_44-Measurement 1/acquisition/zarr/(5, 4).zarr already exists, skipping\n",
      "/mnt/DATA3/BPP0050/BPP0050-1-Live-cell-to4i_Fixed_Cy8__2025-04-21T16_49_44-Measurement 1/acquisition/zarr/(5, 5).zarr already exists, skipping\n",
      "Warning: Less than two unique TimepointIDs found, skipping framerate calculation.\n",
      "OME-Zarr metadata and assay layout saved to: /mnt/DATA3/BPP0050/BPP0050-1-Live-cell-to4i_Fixed_Cy8__2025-04-21T16_49_44-Measurement 1//acquisition/zarr//.zattrs\n",
      "Reading metadata XML file...\n"
     ]
    },
    {
     "name": "stderr",
     "output_type": "stream",
     "text": [
      "/tmp/ipykernel_8701/2682895781.py:152: FutureWarning: errors='ignore' is deprecated and will raise in a future version. Use to_numeric without passing `errors` and catch exceptions explicitly instead\n",
      "  timepoint_abs_times = metadata[['TimepointID', 'AbsTime']].drop_duplicates(subset=['TimepointID']).sort_values(key=lambda x: pd.to_numeric(x, errors='ignore'), by='TimepointID')\n"
     ]
    },
    {
     "data": {
      "application/vnd.jupyter.widget-view+json": {
       "model_id": "bd03ad70866245e68ccd9468376334c2",
       "version_major": 2,
       "version_minor": 0
      },
      "text/plain": [
       "0it [00:00, ?it/s]"
      ]
     },
     "metadata": {},
     "output_type": "display_data"
    },
    {
     "name": "stdout",
     "output_type": "stream",
     "text": [
      "Extracting metadata complete!\n"
     ]
    },
    {
     "name": "stderr",
     "output_type": "stream",
     "text": [
      "/tmp/ipykernel_8701/2682895781.py:12: FutureWarning: errors='ignore' is deprecated and will raise in a future version. Use to_numeric without passing `errors` and catch exceptions explicitly instead\n",
      "  metadata = metadata.apply(pd.to_numeric, errors='ignore')\n"
     ]
    },
    {
     "name": "stdout",
     "output_type": "stream",
     "text": [
      "An unexpected error occurred during XML processing: \"['Row', 'Col'] not found in axis\"\n"
     ]
    },
    {
     "data": {
      "application/vnd.jupyter.widget-view+json": {
       "model_id": "1c844c2d7d274308aa4906cf18b331e8",
       "version_major": 2,
       "version_minor": 0
      },
      "text/plain": [
       "Now tiling in BPP0050-1-Live-cell-to4i_Fixed_Cy10__2025-04-23T15_45_30-Measurement 1:   0%|          | 0/21 [0…"
      ]
     },
     "metadata": {},
     "output_type": "display_data"
    },
    {
     "name": "stdout",
     "output_type": "stream",
     "text": [
      "/mnt/DATA3/BPP0050/BPP0050-1-Live-cell-to4i_Fixed_Cy10__2025-04-23T15_45_30-Measurement 1/acquisition/zarr/(2, 4).zarr already exists, skipping\n",
      "/mnt/DATA3/BPP0050/BPP0050-1-Live-cell-to4i_Fixed_Cy10__2025-04-23T15_45_30-Measurement 1/acquisition/zarr/(2, 5).zarr already exists, skipping\n",
      "/mnt/DATA3/BPP0050/BPP0050-1-Live-cell-to4i_Fixed_Cy10__2025-04-23T15_45_30-Measurement 1/acquisition/zarr/(2, 6).zarr already exists, skipping\n",
      "/mnt/DATA3/BPP0050/BPP0050-1-Live-cell-to4i_Fixed_Cy10__2025-04-23T15_45_30-Measurement 1/acquisition/zarr/(2, 7).zarr already exists, skipping\n",
      "/mnt/DATA3/BPP0050/BPP0050-1-Live-cell-to4i_Fixed_Cy10__2025-04-23T15_45_30-Measurement 1/acquisition/zarr/(2, 8).zarr already exists, skipping\n",
      "/mnt/DATA3/BPP0050/BPP0050-1-Live-cell-to4i_Fixed_Cy10__2025-04-23T15_45_30-Measurement 1/acquisition/zarr/(3, 2).zarr already exists, skipping\n",
      "/mnt/DATA3/BPP0050/BPP0050-1-Live-cell-to4i_Fixed_Cy10__2025-04-23T15_45_30-Measurement 1/acquisition/zarr/(3, 3).zarr already exists, skipping\n",
      "/mnt/DATA3/BPP0050/BPP0050-1-Live-cell-to4i_Fixed_Cy10__2025-04-23T15_45_30-Measurement 1/acquisition/zarr/(3, 4).zarr already exists, skipping\n",
      "/mnt/DATA3/BPP0050/BPP0050-1-Live-cell-to4i_Fixed_Cy10__2025-04-23T15_45_30-Measurement 1/acquisition/zarr/(3, 5).zarr already exists, skipping\n",
      "/mnt/DATA3/BPP0050/BPP0050-1-Live-cell-to4i_Fixed_Cy10__2025-04-23T15_45_30-Measurement 1/acquisition/zarr/(3, 6).zarr already exists, skipping\n",
      "/mnt/DATA3/BPP0050/BPP0050-1-Live-cell-to4i_Fixed_Cy10__2025-04-23T15_45_30-Measurement 1/acquisition/zarr/(3, 7).zarr already exists, skipping\n",
      "/mnt/DATA3/BPP0050/BPP0050-1-Live-cell-to4i_Fixed_Cy10__2025-04-23T15_45_30-Measurement 1/acquisition/zarr/(3, 8).zarr already exists, skipping\n",
      "/mnt/DATA3/BPP0050/BPP0050-1-Live-cell-to4i_Fixed_Cy10__2025-04-23T15_45_30-Measurement 1/acquisition/zarr/(3, 9).zarr already exists, skipping\n",
      "/mnt/DATA3/BPP0050/BPP0050-1-Live-cell-to4i_Fixed_Cy10__2025-04-23T15_45_30-Measurement 1/acquisition/zarr/(4, 4).zarr already exists, skipping\n",
      "/mnt/DATA3/BPP0050/BPP0050-1-Live-cell-to4i_Fixed_Cy10__2025-04-23T15_45_30-Measurement 1/acquisition/zarr/(4, 5).zarr already exists, skipping\n",
      "/mnt/DATA3/BPP0050/BPP0050-1-Live-cell-to4i_Fixed_Cy10__2025-04-23T15_45_30-Measurement 1/acquisition/zarr/(4, 6).zarr already exists, skipping\n",
      "/mnt/DATA3/BPP0050/BPP0050-1-Live-cell-to4i_Fixed_Cy10__2025-04-23T15_45_30-Measurement 1/acquisition/zarr/(4, 7).zarr already exists, skipping\n",
      "/mnt/DATA3/BPP0050/BPP0050-1-Live-cell-to4i_Fixed_Cy10__2025-04-23T15_45_30-Measurement 1/acquisition/zarr/(4, 8).zarr already exists, skipping\n",
      "/mnt/DATA3/BPP0050/BPP0050-1-Live-cell-to4i_Fixed_Cy10__2025-04-23T15_45_30-Measurement 1/acquisition/zarr/(4, 9).zarr already exists, skipping\n",
      "/mnt/DATA3/BPP0050/BPP0050-1-Live-cell-to4i_Fixed_Cy10__2025-04-23T15_45_30-Measurement 1/acquisition/zarr/(5, 4).zarr already exists, skipping\n",
      "/mnt/DATA3/BPP0050/BPP0050-1-Live-cell-to4i_Fixed_Cy10__2025-04-23T15_45_30-Measurement 1/acquisition/zarr/(5, 5).zarr already exists, skipping\n",
      "Warning: Less than two unique TimepointIDs found, skipping framerate calculation.\n",
      "OME-Zarr metadata and assay layout saved to: /mnt/DATA3/BPP0050/BPP0050-1-Live-cell-to4i_Fixed_Cy10__2025-04-23T15_45_30-Measurement 1//acquisition/zarr//.zattrs\n",
      "Reading metadata XML file...\n"
     ]
    },
    {
     "name": "stderr",
     "output_type": "stream",
     "text": [
      "/tmp/ipykernel_8701/2682895781.py:152: FutureWarning: errors='ignore' is deprecated and will raise in a future version. Use to_numeric without passing `errors` and catch exceptions explicitly instead\n",
      "  timepoint_abs_times = metadata[['TimepointID', 'AbsTime']].drop_duplicates(subset=['TimepointID']).sort_values(key=lambda x: pd.to_numeric(x, errors='ignore'), by='TimepointID')\n"
     ]
    },
    {
     "data": {
      "application/vnd.jupyter.widget-view+json": {
       "model_id": "75aa63b02cfb4108a25064dc8305845d",
       "version_major": 2,
       "version_minor": 0
      },
      "text/plain": [
       "0it [00:00, ?it/s]"
      ]
     },
     "metadata": {},
     "output_type": "display_data"
    },
    {
     "name": "stdout",
     "output_type": "stream",
     "text": [
      "Extracting metadata complete!\n"
     ]
    },
    {
     "name": "stderr",
     "output_type": "stream",
     "text": [
      "/tmp/ipykernel_8701/2682895781.py:12: FutureWarning: errors='ignore' is deprecated and will raise in a future version. Use to_numeric without passing `errors` and catch exceptions explicitly instead\n",
      "  metadata = metadata.apply(pd.to_numeric, errors='ignore')\n"
     ]
    },
    {
     "name": "stdout",
     "output_type": "stream",
     "text": [
      "An unexpected error occurred during XML processing: \"['Row', 'Col'] not found in axis\"\n"
     ]
    },
    {
     "data": {
      "application/vnd.jupyter.widget-view+json": {
       "model_id": "1d0258a14bbf47da8fd965bd1f3d0d9c",
       "version_major": 2,
       "version_minor": 0
      },
      "text/plain": [
       "Now tiling in BPP0050-1-Live-cell-to4i_Fixed_Cy2__2025-04-15T16_42_33-Measurement 3:   0%|          | 0/21 [00…"
      ]
     },
     "metadata": {},
     "output_type": "display_data"
    },
    {
     "name": "stdout",
     "output_type": "stream",
     "text": [
      "/mnt/DATA3/BPP0050/BPP0050-1-Live-cell-to4i_Fixed_Cy2__2025-04-15T16_42_33-Measurement 3/acquisition/zarr/(2, 4).zarr already exists, skipping\n",
      "/mnt/DATA3/BPP0050/BPP0050-1-Live-cell-to4i_Fixed_Cy2__2025-04-15T16_42_33-Measurement 3/acquisition/zarr/(2, 5).zarr already exists, skipping\n",
      "/mnt/DATA3/BPP0050/BPP0050-1-Live-cell-to4i_Fixed_Cy2__2025-04-15T16_42_33-Measurement 3/acquisition/zarr/(2, 6).zarr already exists, skipping\n",
      "/mnt/DATA3/BPP0050/BPP0050-1-Live-cell-to4i_Fixed_Cy2__2025-04-15T16_42_33-Measurement 3/acquisition/zarr/(2, 7).zarr already exists, skipping\n",
      "/mnt/DATA3/BPP0050/BPP0050-1-Live-cell-to4i_Fixed_Cy2__2025-04-15T16_42_33-Measurement 3/acquisition/zarr/(2, 8).zarr already exists, skipping\n",
      "/mnt/DATA3/BPP0050/BPP0050-1-Live-cell-to4i_Fixed_Cy2__2025-04-15T16_42_33-Measurement 3/acquisition/zarr/(3, 2).zarr already exists, skipping\n",
      "/mnt/DATA3/BPP0050/BPP0050-1-Live-cell-to4i_Fixed_Cy2__2025-04-15T16_42_33-Measurement 3/acquisition/zarr/(3, 3).zarr already exists, skipping\n",
      "/mnt/DATA3/BPP0050/BPP0050-1-Live-cell-to4i_Fixed_Cy2__2025-04-15T16_42_33-Measurement 3/acquisition/zarr/(3, 4).zarr already exists, skipping\n",
      "/mnt/DATA3/BPP0050/BPP0050-1-Live-cell-to4i_Fixed_Cy2__2025-04-15T16_42_33-Measurement 3/acquisition/zarr/(3, 5).zarr already exists, skipping\n",
      "/mnt/DATA3/BPP0050/BPP0050-1-Live-cell-to4i_Fixed_Cy2__2025-04-15T16_42_33-Measurement 3/acquisition/zarr/(3, 6).zarr already exists, skipping\n",
      "/mnt/DATA3/BPP0050/BPP0050-1-Live-cell-to4i_Fixed_Cy2__2025-04-15T16_42_33-Measurement 3/acquisition/zarr/(3, 7).zarr already exists, skipping\n",
      "/mnt/DATA3/BPP0050/BPP0050-1-Live-cell-to4i_Fixed_Cy2__2025-04-15T16_42_33-Measurement 3/acquisition/zarr/(3, 8).zarr already exists, skipping\n",
      "/mnt/DATA3/BPP0050/BPP0050-1-Live-cell-to4i_Fixed_Cy2__2025-04-15T16_42_33-Measurement 3/acquisition/zarr/(3, 9).zarr already exists, skipping\n",
      "/mnt/DATA3/BPP0050/BPP0050-1-Live-cell-to4i_Fixed_Cy2__2025-04-15T16_42_33-Measurement 3/acquisition/zarr/(4, 4).zarr already exists, skipping\n",
      "/mnt/DATA3/BPP0050/BPP0050-1-Live-cell-to4i_Fixed_Cy2__2025-04-15T16_42_33-Measurement 3/acquisition/zarr/(4, 5).zarr already exists, skipping\n",
      "/mnt/DATA3/BPP0050/BPP0050-1-Live-cell-to4i_Fixed_Cy2__2025-04-15T16_42_33-Measurement 3/acquisition/zarr/(4, 6).zarr already exists, skipping\n",
      "/mnt/DATA3/BPP0050/BPP0050-1-Live-cell-to4i_Fixed_Cy2__2025-04-15T16_42_33-Measurement 3/acquisition/zarr/(4, 7).zarr already exists, skipping\n",
      "/mnt/DATA3/BPP0050/BPP0050-1-Live-cell-to4i_Fixed_Cy2__2025-04-15T16_42_33-Measurement 3/acquisition/zarr/(4, 8).zarr already exists, skipping\n",
      "/mnt/DATA3/BPP0050/BPP0050-1-Live-cell-to4i_Fixed_Cy2__2025-04-15T16_42_33-Measurement 3/acquisition/zarr/(4, 9).zarr already exists, skipping\n",
      "/mnt/DATA3/BPP0050/BPP0050-1-Live-cell-to4i_Fixed_Cy2__2025-04-15T16_42_33-Measurement 3/acquisition/zarr/(5, 4).zarr already exists, skipping\n",
      "/mnt/DATA3/BPP0050/BPP0050-1-Live-cell-to4i_Fixed_Cy2__2025-04-15T16_42_33-Measurement 3/acquisition/zarr/(5, 5).zarr already exists, skipping\n",
      "Warning: Less than two unique TimepointIDs found, skipping framerate calculation.\n",
      "OME-Zarr metadata and assay layout saved to: /mnt/DATA3/BPP0050/BPP0050-1-Live-cell-to4i_Fixed_Cy2__2025-04-15T16_42_33-Measurement 3//acquisition/zarr//.zattrs\n",
      "Reading metadata XML file...\n"
     ]
    },
    {
     "name": "stderr",
     "output_type": "stream",
     "text": [
      "/tmp/ipykernel_8701/2682895781.py:152: FutureWarning: errors='ignore' is deprecated and will raise in a future version. Use to_numeric without passing `errors` and catch exceptions explicitly instead\n",
      "  timepoint_abs_times = metadata[['TimepointID', 'AbsTime']].drop_duplicates(subset=['TimepointID']).sort_values(key=lambda x: pd.to_numeric(x, errors='ignore'), by='TimepointID')\n"
     ]
    },
    {
     "data": {
      "application/vnd.jupyter.widget-view+json": {
       "model_id": "bff73b59a9f542a688041d255b3df051",
       "version_major": 2,
       "version_minor": 0
      },
      "text/plain": [
       "0it [00:00, ?it/s]"
      ]
     },
     "metadata": {},
     "output_type": "display_data"
    },
    {
     "name": "stdout",
     "output_type": "stream",
     "text": [
      "Extracting metadata complete!\n"
     ]
    },
    {
     "name": "stderr",
     "output_type": "stream",
     "text": [
      "/tmp/ipykernel_8701/2682895781.py:12: FutureWarning: errors='ignore' is deprecated and will raise in a future version. Use to_numeric without passing `errors` and catch exceptions explicitly instead\n",
      "  metadata = metadata.apply(pd.to_numeric, errors='ignore')\n"
     ]
    },
    {
     "name": "stdout",
     "output_type": "stream",
     "text": [
      "An unexpected error occurred during XML processing: \"['Row', 'Col'] not found in axis\"\n"
     ]
    },
    {
     "data": {
      "application/vnd.jupyter.widget-view+json": {
       "model_id": "870a9ef7042c46a2a233938b2bc4d0c7",
       "version_major": 2,
       "version_minor": 0
      },
      "text/plain": [
       "Now tiling in BPP0050-1-Live-cell-to4i_Fixed_Cy4__2025-04-17T16_24_52-Measurement 1:   0%|          | 0/21 [00…"
      ]
     },
     "metadata": {},
     "output_type": "display_data"
    },
    {
     "name": "stdout",
     "output_type": "stream",
     "text": [
      "/mnt/DATA3/BPP0050/BPP0050-1-Live-cell-to4i_Fixed_Cy4__2025-04-17T16_24_52-Measurement 1/acquisition/zarr/(2, 4).zarr already exists, skipping\n",
      "/mnt/DATA3/BPP0050/BPP0050-1-Live-cell-to4i_Fixed_Cy4__2025-04-17T16_24_52-Measurement 1/acquisition/zarr/(2, 5).zarr already exists, skipping\n",
      "/mnt/DATA3/BPP0050/BPP0050-1-Live-cell-to4i_Fixed_Cy4__2025-04-17T16_24_52-Measurement 1/acquisition/zarr/(2, 6).zarr already exists, skipping\n",
      "/mnt/DATA3/BPP0050/BPP0050-1-Live-cell-to4i_Fixed_Cy4__2025-04-17T16_24_52-Measurement 1/acquisition/zarr/(2, 7).zarr already exists, skipping\n",
      "/mnt/DATA3/BPP0050/BPP0050-1-Live-cell-to4i_Fixed_Cy4__2025-04-17T16_24_52-Measurement 1/acquisition/zarr/(2, 8).zarr already exists, skipping\n",
      "/mnt/DATA3/BPP0050/BPP0050-1-Live-cell-to4i_Fixed_Cy4__2025-04-17T16_24_52-Measurement 1/acquisition/zarr/(3, 2).zarr already exists, skipping\n",
      "/mnt/DATA3/BPP0050/BPP0050-1-Live-cell-to4i_Fixed_Cy4__2025-04-17T16_24_52-Measurement 1/acquisition/zarr/(3, 3).zarr already exists, skipping\n",
      "/mnt/DATA3/BPP0050/BPP0050-1-Live-cell-to4i_Fixed_Cy4__2025-04-17T16_24_52-Measurement 1/acquisition/zarr/(3, 4).zarr already exists, skipping\n",
      "/mnt/DATA3/BPP0050/BPP0050-1-Live-cell-to4i_Fixed_Cy4__2025-04-17T16_24_52-Measurement 1/acquisition/zarr/(3, 5).zarr already exists, skipping\n",
      "/mnt/DATA3/BPP0050/BPP0050-1-Live-cell-to4i_Fixed_Cy4__2025-04-17T16_24_52-Measurement 1/acquisition/zarr/(3, 6).zarr already exists, skipping\n",
      "/mnt/DATA3/BPP0050/BPP0050-1-Live-cell-to4i_Fixed_Cy4__2025-04-17T16_24_52-Measurement 1/acquisition/zarr/(3, 7).zarr already exists, skipping\n",
      "/mnt/DATA3/BPP0050/BPP0050-1-Live-cell-to4i_Fixed_Cy4__2025-04-17T16_24_52-Measurement 1/acquisition/zarr/(3, 8).zarr already exists, skipping\n",
      "/mnt/DATA3/BPP0050/BPP0050-1-Live-cell-to4i_Fixed_Cy4__2025-04-17T16_24_52-Measurement 1/acquisition/zarr/(3, 9).zarr already exists, skipping\n",
      "/mnt/DATA3/BPP0050/BPP0050-1-Live-cell-to4i_Fixed_Cy4__2025-04-17T16_24_52-Measurement 1/acquisition/zarr/(4, 4).zarr already exists, skipping\n",
      "/mnt/DATA3/BPP0050/BPP0050-1-Live-cell-to4i_Fixed_Cy4__2025-04-17T16_24_52-Measurement 1/acquisition/zarr/(4, 5).zarr already exists, skipping\n",
      "/mnt/DATA3/BPP0050/BPP0050-1-Live-cell-to4i_Fixed_Cy4__2025-04-17T16_24_52-Measurement 1/acquisition/zarr/(4, 6).zarr already exists, skipping\n",
      "/mnt/DATA3/BPP0050/BPP0050-1-Live-cell-to4i_Fixed_Cy4__2025-04-17T16_24_52-Measurement 1/acquisition/zarr/(4, 7).zarr already exists, skipping\n",
      "/mnt/DATA3/BPP0050/BPP0050-1-Live-cell-to4i_Fixed_Cy4__2025-04-17T16_24_52-Measurement 1/acquisition/zarr/(4, 8).zarr already exists, skipping\n",
      "/mnt/DATA3/BPP0050/BPP0050-1-Live-cell-to4i_Fixed_Cy4__2025-04-17T16_24_52-Measurement 1/acquisition/zarr/(4, 9).zarr already exists, skipping\n",
      "/mnt/DATA3/BPP0050/BPP0050-1-Live-cell-to4i_Fixed_Cy4__2025-04-17T16_24_52-Measurement 1/acquisition/zarr/(5, 4).zarr already exists, skipping\n",
      "/mnt/DATA3/BPP0050/BPP0050-1-Live-cell-to4i_Fixed_Cy4__2025-04-17T16_24_52-Measurement 1/acquisition/zarr/(5, 5).zarr already exists, skipping\n",
      "Warning: Less than two unique TimepointIDs found, skipping framerate calculation.\n",
      "OME-Zarr metadata and assay layout saved to: /mnt/DATA3/BPP0050/BPP0050-1-Live-cell-to4i_Fixed_Cy4__2025-04-17T16_24_52-Measurement 1//acquisition/zarr//.zattrs\n",
      "Reading metadata XML file...\n"
     ]
    },
    {
     "name": "stderr",
     "output_type": "stream",
     "text": [
      "/tmp/ipykernel_8701/2682895781.py:152: FutureWarning: errors='ignore' is deprecated and will raise in a future version. Use to_numeric without passing `errors` and catch exceptions explicitly instead\n",
      "  timepoint_abs_times = metadata[['TimepointID', 'AbsTime']].drop_duplicates(subset=['TimepointID']).sort_values(key=lambda x: pd.to_numeric(x, errors='ignore'), by='TimepointID')\n"
     ]
    },
    {
     "data": {
      "application/vnd.jupyter.widget-view+json": {
       "model_id": "d350ddfc3b26449483e3f8bfe250e88b",
       "version_major": 2,
       "version_minor": 0
      },
      "text/plain": [
       "0it [00:00, ?it/s]"
      ]
     },
     "metadata": {},
     "output_type": "display_data"
    },
    {
     "name": "stdout",
     "output_type": "stream",
     "text": [
      "Extracting metadata complete!\n"
     ]
    },
    {
     "name": "stderr",
     "output_type": "stream",
     "text": [
      "/tmp/ipykernel_8701/2682895781.py:12: FutureWarning: errors='ignore' is deprecated and will raise in a future version. Use to_numeric without passing `errors` and catch exceptions explicitly instead\n",
      "  metadata = metadata.apply(pd.to_numeric, errors='ignore')\n"
     ]
    },
    {
     "name": "stdout",
     "output_type": "stream",
     "text": [
      "An unexpected error occurred during XML processing: \"['Row', 'Col'] not found in axis\"\n"
     ]
    },
    {
     "data": {
      "application/vnd.jupyter.widget-view+json": {
       "model_id": "fe6d37e6ce32439b9943966cbf8fa2dc",
       "version_major": 2,
       "version_minor": 0
      },
      "text/plain": [
       "Now tiling in BPP0050-1-Live-cell-to4i_Live-1__2025-04-09T18_25_04-Measurement 1:   0%|          | 0/13 [00:00…"
      ]
     },
     "metadata": {},
     "output_type": "display_data"
    },
    {
     "name": "stdout",
     "output_type": "stream",
     "text": [
      "/mnt/DATA3/BPP0050/BPP0050-1-Live-cell-to4i_Live-1__2025-04-09T18_25_04-Measurement 1/acquisition/zarr/(3, 3).zarr already exists, skipping\n",
      "/mnt/DATA3/BPP0050/BPP0050-1-Live-cell-to4i_Live-1__2025-04-09T18_25_04-Measurement 1/acquisition/zarr/(3, 4).zarr already exists, skipping\n",
      "/mnt/DATA3/BPP0050/BPP0050-1-Live-cell-to4i_Live-1__2025-04-09T18_25_04-Measurement 1/acquisition/zarr/(3, 5).zarr already exists, skipping\n",
      "/mnt/DATA3/BPP0050/BPP0050-1-Live-cell-to4i_Live-1__2025-04-09T18_25_04-Measurement 1/acquisition/zarr/(3, 6).zarr already exists, skipping\n",
      "/mnt/DATA3/BPP0050/BPP0050-1-Live-cell-to4i_Live-1__2025-04-09T18_25_04-Measurement 1/acquisition/zarr/(3, 7).zarr already exists, skipping\n",
      "/mnt/DATA3/BPP0050/BPP0050-1-Live-cell-to4i_Live-1__2025-04-09T18_25_04-Measurement 1/acquisition/zarr/(3, 8).zarr already exists, skipping\n",
      "/mnt/DATA3/BPP0050/BPP0050-1-Live-cell-to4i_Live-1__2025-04-09T18_25_04-Measurement 1/acquisition/zarr/(4, 4).zarr already exists, skipping\n",
      "/mnt/DATA3/BPP0050/BPP0050-1-Live-cell-to4i_Live-1__2025-04-09T18_25_04-Measurement 1/acquisition/zarr/(4, 5).zarr already exists, skipping\n",
      "/mnt/DATA3/BPP0050/BPP0050-1-Live-cell-to4i_Live-1__2025-04-09T18_25_04-Measurement 1/acquisition/zarr/(4, 6).zarr already exists, skipping\n",
      "/mnt/DATA3/BPP0050/BPP0050-1-Live-cell-to4i_Live-1__2025-04-09T18_25_04-Measurement 1/acquisition/zarr/(4, 7).zarr already exists, skipping\n",
      "/mnt/DATA3/BPP0050/BPP0050-1-Live-cell-to4i_Live-1__2025-04-09T18_25_04-Measurement 1/acquisition/zarr/(4, 8).zarr already exists, skipping\n",
      "/mnt/DATA3/BPP0050/BPP0050-1-Live-cell-to4i_Live-1__2025-04-09T18_25_04-Measurement 1/acquisition/zarr/(5, 4).zarr already exists, skipping\n",
      "/mnt/DATA3/BPP0050/BPP0050-1-Live-cell-to4i_Live-1__2025-04-09T18_25_04-Measurement 1/acquisition/zarr/(5, 5).zarr already exists, skipping\n",
      "Calculated framerate: 0.0005555488377486879 frames per second\n",
      "OME-Zarr metadata and assay layout saved to: /mnt/DATA3/BPP0050/BPP0050-1-Live-cell-to4i_Live-1__2025-04-09T18_25_04-Measurement 1//acquisition/zarr//.zattrs\n",
      "skipping untransferred BPP0050-1-Live-cell-to4i_Live-2__2025-04-10T18_45_48-Measurement 1\n",
      "Reading metadata XML file...\n"
     ]
    },
    {
     "name": "stderr",
     "output_type": "stream",
     "text": [
      "/tmp/ipykernel_8701/2682895781.py:152: FutureWarning: errors='ignore' is deprecated and will raise in a future version. Use to_numeric without passing `errors` and catch exceptions explicitly instead\n",
      "  timepoint_abs_times = metadata[['TimepointID', 'AbsTime']].drop_duplicates(subset=['TimepointID']).sort_values(key=lambda x: pd.to_numeric(x, errors='ignore'), by='TimepointID')\n"
     ]
    },
    {
     "data": {
      "application/vnd.jupyter.widget-view+json": {
       "model_id": "bc68effb9f224b99a1906f97804dbf17",
       "version_major": 2,
       "version_minor": 0
      },
      "text/plain": [
       "0it [00:00, ?it/s]"
      ]
     },
     "metadata": {},
     "output_type": "display_data"
    },
    {
     "name": "stdout",
     "output_type": "stream",
     "text": [
      "Extracting metadata complete!\n"
     ]
    },
    {
     "name": "stderr",
     "output_type": "stream",
     "text": [
      "/tmp/ipykernel_8701/2682895781.py:12: FutureWarning: errors='ignore' is deprecated and will raise in a future version. Use to_numeric without passing `errors` and catch exceptions explicitly instead\n",
      "  metadata = metadata.apply(pd.to_numeric, errors='ignore')\n"
     ]
    },
    {
     "name": "stdout",
     "output_type": "stream",
     "text": [
      "An unexpected error occurred during XML processing: \"['Row', 'Col'] not found in axis\"\n"
     ]
    },
    {
     "data": {
      "application/vnd.jupyter.widget-view+json": {
       "model_id": "92be1d90fea64340835ef463b7bf9ecf",
       "version_major": 2,
       "version_minor": 0
      },
      "text/plain": [
       "Now tiling in BPP0050-1-Live-cell-to4i_Fixed_Cy7__2025-04-20T16_03_17-Measurement 1:   0%|          | 0/21 [00…"
      ]
     },
     "metadata": {},
     "output_type": "display_data"
    },
    {
     "name": "stdout",
     "output_type": "stream",
     "text": [
      "/mnt/DATA3/BPP0050/BPP0050-1-Live-cell-to4i_Fixed_Cy7__2025-04-20T16_03_17-Measurement 1/acquisition/zarr/(2, 4).zarr already exists, skipping\n",
      "/mnt/DATA3/BPP0050/BPP0050-1-Live-cell-to4i_Fixed_Cy7__2025-04-20T16_03_17-Measurement 1/acquisition/zarr/(2, 5).zarr already exists, skipping\n",
      "/mnt/DATA3/BPP0050/BPP0050-1-Live-cell-to4i_Fixed_Cy7__2025-04-20T16_03_17-Measurement 1/acquisition/zarr/(2, 6).zarr already exists, skipping\n",
      "/mnt/DATA3/BPP0050/BPP0050-1-Live-cell-to4i_Fixed_Cy7__2025-04-20T16_03_17-Measurement 1/acquisition/zarr/(2, 7).zarr already exists, skipping\n",
      "/mnt/DATA3/BPP0050/BPP0050-1-Live-cell-to4i_Fixed_Cy7__2025-04-20T16_03_17-Measurement 1/acquisition/zarr/(2, 8).zarr already exists, skipping\n",
      "/mnt/DATA3/BPP0050/BPP0050-1-Live-cell-to4i_Fixed_Cy7__2025-04-20T16_03_17-Measurement 1/acquisition/zarr/(3, 2).zarr already exists, skipping\n",
      "/mnt/DATA3/BPP0050/BPP0050-1-Live-cell-to4i_Fixed_Cy7__2025-04-20T16_03_17-Measurement 1/acquisition/zarr/(3, 3).zarr already exists, skipping\n",
      "/mnt/DATA3/BPP0050/BPP0050-1-Live-cell-to4i_Fixed_Cy7__2025-04-20T16_03_17-Measurement 1/acquisition/zarr/(3, 4).zarr already exists, skipping\n",
      "/mnt/DATA3/BPP0050/BPP0050-1-Live-cell-to4i_Fixed_Cy7__2025-04-20T16_03_17-Measurement 1/acquisition/zarr/(3, 5).zarr already exists, skipping\n",
      "/mnt/DATA3/BPP0050/BPP0050-1-Live-cell-to4i_Fixed_Cy7__2025-04-20T16_03_17-Measurement 1/acquisition/zarr/(3, 6).zarr already exists, skipping\n",
      "/mnt/DATA3/BPP0050/BPP0050-1-Live-cell-to4i_Fixed_Cy7__2025-04-20T16_03_17-Measurement 1/acquisition/zarr/(3, 7).zarr already exists, skipping\n",
      "/mnt/DATA3/BPP0050/BPP0050-1-Live-cell-to4i_Fixed_Cy7__2025-04-20T16_03_17-Measurement 1/acquisition/zarr/(3, 8).zarr already exists, skipping\n",
      "/mnt/DATA3/BPP0050/BPP0050-1-Live-cell-to4i_Fixed_Cy7__2025-04-20T16_03_17-Measurement 1/acquisition/zarr/(3, 9).zarr already exists, skipping\n",
      "/mnt/DATA3/BPP0050/BPP0050-1-Live-cell-to4i_Fixed_Cy7__2025-04-20T16_03_17-Measurement 1/acquisition/zarr/(4, 4).zarr already exists, skipping\n",
      "/mnt/DATA3/BPP0050/BPP0050-1-Live-cell-to4i_Fixed_Cy7__2025-04-20T16_03_17-Measurement 1/acquisition/zarr/(4, 5).zarr already exists, skipping\n",
      "/mnt/DATA3/BPP0050/BPP0050-1-Live-cell-to4i_Fixed_Cy7__2025-04-20T16_03_17-Measurement 1/acquisition/zarr/(4, 6).zarr already exists, skipping\n",
      "/mnt/DATA3/BPP0050/BPP0050-1-Live-cell-to4i_Fixed_Cy7__2025-04-20T16_03_17-Measurement 1/acquisition/zarr/(4, 7).zarr already exists, skipping\n",
      "/mnt/DATA3/BPP0050/BPP0050-1-Live-cell-to4i_Fixed_Cy7__2025-04-20T16_03_17-Measurement 1/acquisition/zarr/(4, 8).zarr already exists, skipping\n",
      "/mnt/DATA3/BPP0050/BPP0050-1-Live-cell-to4i_Fixed_Cy7__2025-04-20T16_03_17-Measurement 1/acquisition/zarr/(4, 9).zarr already exists, skipping\n",
      "/mnt/DATA3/BPP0050/BPP0050-1-Live-cell-to4i_Fixed_Cy7__2025-04-20T16_03_17-Measurement 1/acquisition/zarr/(5, 4).zarr already exists, skipping\n",
      "/mnt/DATA3/BPP0050/BPP0050-1-Live-cell-to4i_Fixed_Cy7__2025-04-20T16_03_17-Measurement 1/acquisition/zarr/(5, 5).zarr already exists, skipping\n",
      "Warning: Less than two unique TimepointIDs found, skipping framerate calculation.\n",
      "OME-Zarr metadata and assay layout saved to: /mnt/DATA3/BPP0050/BPP0050-1-Live-cell-to4i_Fixed_Cy7__2025-04-20T16_03_17-Measurement 1//acquisition/zarr//.zattrs\n",
      "Reading metadata XML file...\n"
     ]
    },
    {
     "name": "stderr",
     "output_type": "stream",
     "text": [
      "/tmp/ipykernel_8701/2682895781.py:152: FutureWarning: errors='ignore' is deprecated and will raise in a future version. Use to_numeric without passing `errors` and catch exceptions explicitly instead\n",
      "  timepoint_abs_times = metadata[['TimepointID', 'AbsTime']].drop_duplicates(subset=['TimepointID']).sort_values(key=lambda x: pd.to_numeric(x, errors='ignore'), by='TimepointID')\n"
     ]
    },
    {
     "data": {
      "application/vnd.jupyter.widget-view+json": {
       "model_id": "5800b9623db045f8bbfd8dd687d04697",
       "version_major": 2,
       "version_minor": 0
      },
      "text/plain": [
       "0it [00:00, ?it/s]"
      ]
     },
     "metadata": {},
     "output_type": "display_data"
    },
    {
     "name": "stdout",
     "output_type": "stream",
     "text": [
      "Extracting metadata complete!\n"
     ]
    },
    {
     "name": "stderr",
     "output_type": "stream",
     "text": [
      "/tmp/ipykernel_8701/2682895781.py:12: FutureWarning: errors='ignore' is deprecated and will raise in a future version. Use to_numeric without passing `errors` and catch exceptions explicitly instead\n",
      "  metadata = metadata.apply(pd.to_numeric, errors='ignore')\n"
     ]
    },
    {
     "name": "stdout",
     "output_type": "stream",
     "text": [
      "An unexpected error occurred during XML processing: \"['Row', 'Col'] not found in axis\"\n"
     ]
    },
    {
     "data": {
      "application/vnd.jupyter.widget-view+json": {
       "model_id": "5be6ef0637a147f5ac05c836b215b905",
       "version_major": 2,
       "version_minor": 0
      },
      "text/plain": [
       "Now tiling in BPP0050-1-Live-cell-to4i_Fixed_Cy17__2025-04-30T18_09_02-Measurement 1:   0%|          | 0/21 [0…"
      ]
     },
     "metadata": {},
     "output_type": "display_data"
    },
    {
     "name": "stdout",
     "output_type": "stream",
     "text": [
      "/mnt/DATA3/BPP0050/BPP0050-1-Live-cell-to4i_Fixed_Cy17__2025-04-30T18_09_02-Measurement 1/acquisition/zarr/(2, 4).zarr already exists, skipping\n",
      "/mnt/DATA3/BPP0050/BPP0050-1-Live-cell-to4i_Fixed_Cy17__2025-04-30T18_09_02-Measurement 1/acquisition/zarr/(2, 5).zarr already exists, skipping\n",
      "/mnt/DATA3/BPP0050/BPP0050-1-Live-cell-to4i_Fixed_Cy17__2025-04-30T18_09_02-Measurement 1/acquisition/zarr/(2, 6).zarr already exists, skipping\n",
      "/mnt/DATA3/BPP0050/BPP0050-1-Live-cell-to4i_Fixed_Cy17__2025-04-30T18_09_02-Measurement 1/acquisition/zarr/(2, 7).zarr already exists, skipping\n",
      "/mnt/DATA3/BPP0050/BPP0050-1-Live-cell-to4i_Fixed_Cy17__2025-04-30T18_09_02-Measurement 1/acquisition/zarr/(2, 8).zarr already exists, skipping\n",
      "/mnt/DATA3/BPP0050/BPP0050-1-Live-cell-to4i_Fixed_Cy17__2025-04-30T18_09_02-Measurement 1/acquisition/zarr/(3, 2).zarr already exists, skipping\n",
      "/mnt/DATA3/BPP0050/BPP0050-1-Live-cell-to4i_Fixed_Cy17__2025-04-30T18_09_02-Measurement 1/acquisition/zarr/(3, 3).zarr already exists, skipping\n",
      "/mnt/DATA3/BPP0050/BPP0050-1-Live-cell-to4i_Fixed_Cy17__2025-04-30T18_09_02-Measurement 1/acquisition/zarr/(3, 4).zarr already exists, skipping\n",
      "/mnt/DATA3/BPP0050/BPP0050-1-Live-cell-to4i_Fixed_Cy17__2025-04-30T18_09_02-Measurement 1/acquisition/zarr/(3, 5).zarr already exists, skipping\n",
      "/mnt/DATA3/BPP0050/BPP0050-1-Live-cell-to4i_Fixed_Cy17__2025-04-30T18_09_02-Measurement 1/acquisition/zarr/(3, 6).zarr already exists, skipping\n",
      "/mnt/DATA3/BPP0050/BPP0050-1-Live-cell-to4i_Fixed_Cy17__2025-04-30T18_09_02-Measurement 1/acquisition/zarr/(3, 7).zarr already exists, skipping\n",
      "/mnt/DATA3/BPP0050/BPP0050-1-Live-cell-to4i_Fixed_Cy17__2025-04-30T18_09_02-Measurement 1/acquisition/zarr/(3, 8).zarr already exists, skipping\n",
      "/mnt/DATA3/BPP0050/BPP0050-1-Live-cell-to4i_Fixed_Cy17__2025-04-30T18_09_02-Measurement 1/acquisition/zarr/(3, 9).zarr already exists, skipping\n",
      "/mnt/DATA3/BPP0050/BPP0050-1-Live-cell-to4i_Fixed_Cy17__2025-04-30T18_09_02-Measurement 1/acquisition/zarr/(4, 4).zarr already exists, skipping\n",
      "/mnt/DATA3/BPP0050/BPP0050-1-Live-cell-to4i_Fixed_Cy17__2025-04-30T18_09_02-Measurement 1/acquisition/zarr/(4, 5).zarr already exists, skipping\n",
      "/mnt/DATA3/BPP0050/BPP0050-1-Live-cell-to4i_Fixed_Cy17__2025-04-30T18_09_02-Measurement 1/acquisition/zarr/(4, 6).zarr already exists, skipping\n",
      "/mnt/DATA3/BPP0050/BPP0050-1-Live-cell-to4i_Fixed_Cy17__2025-04-30T18_09_02-Measurement 1/acquisition/zarr/(4, 7).zarr already exists, skipping\n",
      "/mnt/DATA3/BPP0050/BPP0050-1-Live-cell-to4i_Fixed_Cy17__2025-04-30T18_09_02-Measurement 1/acquisition/zarr/(4, 8).zarr already exists, skipping\n",
      "/mnt/DATA3/BPP0050/BPP0050-1-Live-cell-to4i_Fixed_Cy17__2025-04-30T18_09_02-Measurement 1/acquisition/zarr/(4, 9).zarr already exists, skipping\n",
      "/mnt/DATA3/BPP0050/BPP0050-1-Live-cell-to4i_Fixed_Cy17__2025-04-30T18_09_02-Measurement 1/acquisition/zarr/(5, 4).zarr already exists, skipping\n",
      "/mnt/DATA3/BPP0050/BPP0050-1-Live-cell-to4i_Fixed_Cy17__2025-04-30T18_09_02-Measurement 1/acquisition/zarr/(5, 5).zarr already exists, skipping\n",
      "Warning: Less than two unique TimepointIDs found, skipping framerate calculation.\n",
      "OME-Zarr metadata and assay layout saved to: /mnt/DATA3/BPP0050/BPP0050-1-Live-cell-to4i_Fixed_Cy17__2025-04-30T18_09_02-Measurement 1//acquisition/zarr//.zattrs\n",
      "Reading metadata XML file...\n"
     ]
    },
    {
     "name": "stderr",
     "output_type": "stream",
     "text": [
      "/tmp/ipykernel_8701/2682895781.py:152: FutureWarning: errors='ignore' is deprecated and will raise in a future version. Use to_numeric without passing `errors` and catch exceptions explicitly instead\n",
      "  timepoint_abs_times = metadata[['TimepointID', 'AbsTime']].drop_duplicates(subset=['TimepointID']).sort_values(key=lambda x: pd.to_numeric(x, errors='ignore'), by='TimepointID')\n"
     ]
    },
    {
     "data": {
      "application/vnd.jupyter.widget-view+json": {
       "model_id": "56c559ee93b84651a8c664aed2577f2e",
       "version_major": 2,
       "version_minor": 0
      },
      "text/plain": [
       "0it [00:00, ?it/s]"
      ]
     },
     "metadata": {},
     "output_type": "display_data"
    },
    {
     "name": "stdout",
     "output_type": "stream",
     "text": [
      "Extracting metadata complete!\n"
     ]
    },
    {
     "name": "stderr",
     "output_type": "stream",
     "text": [
      "/tmp/ipykernel_8701/2682895781.py:12: FutureWarning: errors='ignore' is deprecated and will raise in a future version. Use to_numeric without passing `errors` and catch exceptions explicitly instead\n",
      "  metadata = metadata.apply(pd.to_numeric, errors='ignore')\n"
     ]
    },
    {
     "name": "stdout",
     "output_type": "stream",
     "text": [
      "An unexpected error occurred during XML processing: \"['Row', 'Col'] not found in axis\"\n"
     ]
    },
    {
     "data": {
      "application/vnd.jupyter.widget-view+json": {
       "model_id": "0dddb769c0704e64b75d3ebe4e64648c",
       "version_major": 2,
       "version_minor": 0
      },
      "text/plain": [
       "Now tiling in BPP0050-1-Live-cell-to4i_Fixed_Cy13__2025-04-26T16_33_47-Measurement 1:   0%|          | 0/21 [0…"
      ]
     },
     "metadata": {},
     "output_type": "display_data"
    },
    {
     "name": "stdout",
     "output_type": "stream",
     "text": [
      "/mnt/DATA3/BPP0050/BPP0050-1-Live-cell-to4i_Fixed_Cy13__2025-04-26T16_33_47-Measurement 1/acquisition/zarr/(2, 4).zarr already exists, skipping\n",
      "/mnt/DATA3/BPP0050/BPP0050-1-Live-cell-to4i_Fixed_Cy13__2025-04-26T16_33_47-Measurement 1/acquisition/zarr/(2, 5).zarr already exists, skipping\n",
      "/mnt/DATA3/BPP0050/BPP0050-1-Live-cell-to4i_Fixed_Cy13__2025-04-26T16_33_47-Measurement 1/acquisition/zarr/(2, 6).zarr already exists, skipping\n",
      "/mnt/DATA3/BPP0050/BPP0050-1-Live-cell-to4i_Fixed_Cy13__2025-04-26T16_33_47-Measurement 1/acquisition/zarr/(2, 7).zarr already exists, skipping\n",
      "/mnt/DATA3/BPP0050/BPP0050-1-Live-cell-to4i_Fixed_Cy13__2025-04-26T16_33_47-Measurement 1/acquisition/zarr/(2, 8).zarr already exists, skipping\n",
      "/mnt/DATA3/BPP0050/BPP0050-1-Live-cell-to4i_Fixed_Cy13__2025-04-26T16_33_47-Measurement 1/acquisition/zarr/(3, 2).zarr already exists, skipping\n",
      "/mnt/DATA3/BPP0050/BPP0050-1-Live-cell-to4i_Fixed_Cy13__2025-04-26T16_33_47-Measurement 1/acquisition/zarr/(3, 3).zarr already exists, skipping\n",
      "/mnt/DATA3/BPP0050/BPP0050-1-Live-cell-to4i_Fixed_Cy13__2025-04-26T16_33_47-Measurement 1/acquisition/zarr/(3, 4).zarr already exists, skipping\n",
      "/mnt/DATA3/BPP0050/BPP0050-1-Live-cell-to4i_Fixed_Cy13__2025-04-26T16_33_47-Measurement 1/acquisition/zarr/(3, 5).zarr already exists, skipping\n",
      "/mnt/DATA3/BPP0050/BPP0050-1-Live-cell-to4i_Fixed_Cy13__2025-04-26T16_33_47-Measurement 1/acquisition/zarr/(3, 6).zarr already exists, skipping\n",
      "/mnt/DATA3/BPP0050/BPP0050-1-Live-cell-to4i_Fixed_Cy13__2025-04-26T16_33_47-Measurement 1/acquisition/zarr/(3, 7).zarr already exists, skipping\n",
      "/mnt/DATA3/BPP0050/BPP0050-1-Live-cell-to4i_Fixed_Cy13__2025-04-26T16_33_47-Measurement 1/acquisition/zarr/(3, 8).zarr already exists, skipping\n",
      "/mnt/DATA3/BPP0050/BPP0050-1-Live-cell-to4i_Fixed_Cy13__2025-04-26T16_33_47-Measurement 1/acquisition/zarr/(3, 9).zarr already exists, skipping\n",
      "/mnt/DATA3/BPP0050/BPP0050-1-Live-cell-to4i_Fixed_Cy13__2025-04-26T16_33_47-Measurement 1/acquisition/zarr/(4, 4).zarr already exists, skipping\n",
      "/mnt/DATA3/BPP0050/BPP0050-1-Live-cell-to4i_Fixed_Cy13__2025-04-26T16_33_47-Measurement 1/acquisition/zarr/(4, 5).zarr already exists, skipping\n",
      "/mnt/DATA3/BPP0050/BPP0050-1-Live-cell-to4i_Fixed_Cy13__2025-04-26T16_33_47-Measurement 1/acquisition/zarr/(4, 6).zarr already exists, skipping\n",
      "/mnt/DATA3/BPP0050/BPP0050-1-Live-cell-to4i_Fixed_Cy13__2025-04-26T16_33_47-Measurement 1/acquisition/zarr/(4, 7).zarr already exists, skipping\n",
      "/mnt/DATA3/BPP0050/BPP0050-1-Live-cell-to4i_Fixed_Cy13__2025-04-26T16_33_47-Measurement 1/acquisition/zarr/(4, 8).zarr already exists, skipping\n",
      "/mnt/DATA3/BPP0050/BPP0050-1-Live-cell-to4i_Fixed_Cy13__2025-04-26T16_33_47-Measurement 1/acquisition/zarr/(4, 9).zarr already exists, skipping\n",
      "/mnt/DATA3/BPP0050/BPP0050-1-Live-cell-to4i_Fixed_Cy13__2025-04-26T16_33_47-Measurement 1/acquisition/zarr/(5, 4).zarr already exists, skipping\n",
      "/mnt/DATA3/BPP0050/BPP0050-1-Live-cell-to4i_Fixed_Cy13__2025-04-26T16_33_47-Measurement 1/acquisition/zarr/(5, 5).zarr already exists, skipping\n",
      "Warning: Less than two unique TimepointIDs found, skipping framerate calculation.\n",
      "OME-Zarr metadata and assay layout saved to: /mnt/DATA3/BPP0050/BPP0050-1-Live-cell-to4i_Fixed_Cy13__2025-04-26T16_33_47-Measurement 1//acquisition/zarr//.zattrs\n",
      "Reading metadata XML file...\n"
     ]
    },
    {
     "name": "stderr",
     "output_type": "stream",
     "text": [
      "/tmp/ipykernel_8701/2682895781.py:152: FutureWarning: errors='ignore' is deprecated and will raise in a future version. Use to_numeric without passing `errors` and catch exceptions explicitly instead\n",
      "  timepoint_abs_times = metadata[['TimepointID', 'AbsTime']].drop_duplicates(subset=['TimepointID']).sort_values(key=lambda x: pd.to_numeric(x, errors='ignore'), by='TimepointID')\n"
     ]
    },
    {
     "data": {
      "application/vnd.jupyter.widget-view+json": {
       "model_id": "671eb6e118874342ab1dfef781bbdea6",
       "version_major": 2,
       "version_minor": 0
      },
      "text/plain": [
       "0it [00:00, ?it/s]"
      ]
     },
     "metadata": {},
     "output_type": "display_data"
    },
    {
     "name": "stdout",
     "output_type": "stream",
     "text": [
      "Extracting metadata complete!\n"
     ]
    },
    {
     "name": "stderr",
     "output_type": "stream",
     "text": [
      "/tmp/ipykernel_8701/2682895781.py:12: FutureWarning: errors='ignore' is deprecated and will raise in a future version. Use to_numeric without passing `errors` and catch exceptions explicitly instead\n",
      "  metadata = metadata.apply(pd.to_numeric, errors='ignore')\n"
     ]
    },
    {
     "name": "stdout",
     "output_type": "stream",
     "text": [
      "An unexpected error occurred during XML processing: \"['Row', 'Col'] not found in axis\"\n"
     ]
    },
    {
     "data": {
      "application/vnd.jupyter.widget-view+json": {
       "model_id": "90a4bfeaacbf4ba6a4bc7601f04953a3",
       "version_major": 2,
       "version_minor": 0
      },
      "text/plain": [
       "Now tiling in BPP0050-1-Live-cell-to4i_Fixed_Cy6__2025-04-19T16_14_26-Measurement 1:   0%|          | 0/21 [00…"
      ]
     },
     "metadata": {},
     "output_type": "display_data"
    },
    {
     "name": "stdout",
     "output_type": "stream",
     "text": [
      "/mnt/DATA3/BPP0050/BPP0050-1-Live-cell-to4i_Fixed_Cy6__2025-04-19T16_14_26-Measurement 1/acquisition/zarr/(2, 4).zarr already exists, skipping\n",
      "/mnt/DATA3/BPP0050/BPP0050-1-Live-cell-to4i_Fixed_Cy6__2025-04-19T16_14_26-Measurement 1/acquisition/zarr/(2, 5).zarr already exists, skipping\n",
      "/mnt/DATA3/BPP0050/BPP0050-1-Live-cell-to4i_Fixed_Cy6__2025-04-19T16_14_26-Measurement 1/acquisition/zarr/(2, 6).zarr already exists, skipping\n",
      "/mnt/DATA3/BPP0050/BPP0050-1-Live-cell-to4i_Fixed_Cy6__2025-04-19T16_14_26-Measurement 1/acquisition/zarr/(2, 7).zarr already exists, skipping\n",
      "/mnt/DATA3/BPP0050/BPP0050-1-Live-cell-to4i_Fixed_Cy6__2025-04-19T16_14_26-Measurement 1/acquisition/zarr/(2, 8).zarr already exists, skipping\n",
      "/mnt/DATA3/BPP0050/BPP0050-1-Live-cell-to4i_Fixed_Cy6__2025-04-19T16_14_26-Measurement 1/acquisition/zarr/(3, 2).zarr already exists, skipping\n",
      "/mnt/DATA3/BPP0050/BPP0050-1-Live-cell-to4i_Fixed_Cy6__2025-04-19T16_14_26-Measurement 1/acquisition/zarr/(3, 3).zarr already exists, skipping\n",
      "/mnt/DATA3/BPP0050/BPP0050-1-Live-cell-to4i_Fixed_Cy6__2025-04-19T16_14_26-Measurement 1/acquisition/zarr/(3, 4).zarr already exists, skipping\n",
      "/mnt/DATA3/BPP0050/BPP0050-1-Live-cell-to4i_Fixed_Cy6__2025-04-19T16_14_26-Measurement 1/acquisition/zarr/(3, 5).zarr already exists, skipping\n",
      "/mnt/DATA3/BPP0050/BPP0050-1-Live-cell-to4i_Fixed_Cy6__2025-04-19T16_14_26-Measurement 1/acquisition/zarr/(3, 6).zarr already exists, skipping\n",
      "/mnt/DATA3/BPP0050/BPP0050-1-Live-cell-to4i_Fixed_Cy6__2025-04-19T16_14_26-Measurement 1/acquisition/zarr/(3, 7).zarr already exists, skipping\n",
      "/mnt/DATA3/BPP0050/BPP0050-1-Live-cell-to4i_Fixed_Cy6__2025-04-19T16_14_26-Measurement 1/acquisition/zarr/(3, 8).zarr already exists, skipping\n",
      "/mnt/DATA3/BPP0050/BPP0050-1-Live-cell-to4i_Fixed_Cy6__2025-04-19T16_14_26-Measurement 1/acquisition/zarr/(3, 9).zarr already exists, skipping\n",
      "/mnt/DATA3/BPP0050/BPP0050-1-Live-cell-to4i_Fixed_Cy6__2025-04-19T16_14_26-Measurement 1/acquisition/zarr/(4, 4).zarr already exists, skipping\n",
      "/mnt/DATA3/BPP0050/BPP0050-1-Live-cell-to4i_Fixed_Cy6__2025-04-19T16_14_26-Measurement 1/acquisition/zarr/(4, 5).zarr already exists, skipping\n",
      "/mnt/DATA3/BPP0050/BPP0050-1-Live-cell-to4i_Fixed_Cy6__2025-04-19T16_14_26-Measurement 1/acquisition/zarr/(4, 6).zarr already exists, skipping\n",
      "/mnt/DATA3/BPP0050/BPP0050-1-Live-cell-to4i_Fixed_Cy6__2025-04-19T16_14_26-Measurement 1/acquisition/zarr/(4, 7).zarr already exists, skipping\n",
      "/mnt/DATA3/BPP0050/BPP0050-1-Live-cell-to4i_Fixed_Cy6__2025-04-19T16_14_26-Measurement 1/acquisition/zarr/(4, 8).zarr already exists, skipping\n",
      "/mnt/DATA3/BPP0050/BPP0050-1-Live-cell-to4i_Fixed_Cy6__2025-04-19T16_14_26-Measurement 1/acquisition/zarr/(4, 9).zarr already exists, skipping\n",
      "/mnt/DATA3/BPP0050/BPP0050-1-Live-cell-to4i_Fixed_Cy6__2025-04-19T16_14_26-Measurement 1/acquisition/zarr/(5, 4).zarr already exists, skipping\n",
      "/mnt/DATA3/BPP0050/BPP0050-1-Live-cell-to4i_Fixed_Cy6__2025-04-19T16_14_26-Measurement 1/acquisition/zarr/(5, 5).zarr already exists, skipping\n",
      "Warning: Less than two unique TimepointIDs found, skipping framerate calculation.\n",
      "OME-Zarr metadata and assay layout saved to: /mnt/DATA3/BPP0050/BPP0050-1-Live-cell-to4i_Fixed_Cy6__2025-04-19T16_14_26-Measurement 1//acquisition/zarr//.zattrs\n",
      "Reading metadata XML file...\n"
     ]
    },
    {
     "name": "stderr",
     "output_type": "stream",
     "text": [
      "/tmp/ipykernel_8701/2682895781.py:152: FutureWarning: errors='ignore' is deprecated and will raise in a future version. Use to_numeric without passing `errors` and catch exceptions explicitly instead\n",
      "  timepoint_abs_times = metadata[['TimepointID', 'AbsTime']].drop_duplicates(subset=['TimepointID']).sort_values(key=lambda x: pd.to_numeric(x, errors='ignore'), by='TimepointID')\n"
     ]
    },
    {
     "data": {
      "application/vnd.jupyter.widget-view+json": {
       "model_id": "49e95b8e17704066bd9ad3893c8ef33b",
       "version_major": 2,
       "version_minor": 0
      },
      "text/plain": [
       "0it [00:00, ?it/s]"
      ]
     },
     "metadata": {},
     "output_type": "display_data"
    },
    {
     "name": "stdout",
     "output_type": "stream",
     "text": [
      "Extracting metadata complete!\n"
     ]
    },
    {
     "name": "stderr",
     "output_type": "stream",
     "text": [
      "/tmp/ipykernel_8701/2682895781.py:12: FutureWarning: errors='ignore' is deprecated and will raise in a future version. Use to_numeric without passing `errors` and catch exceptions explicitly instead\n",
      "  metadata = metadata.apply(pd.to_numeric, errors='ignore')\n"
     ]
    },
    {
     "name": "stdout",
     "output_type": "stream",
     "text": [
      "An unexpected error occurred during XML processing: \"['Row', 'Col'] not found in axis\"\n"
     ]
    },
    {
     "data": {
      "application/vnd.jupyter.widget-view+json": {
       "model_id": "2fc98122f949437a9abe90057167750e",
       "version_major": 2,
       "version_minor": 0
      },
      "text/plain": [
       "Now tiling in BPP0050-1-Live-cell-to4i_Fixed_Cy9__2025-04-22T18_25_01-Measurement 1:   0%|          | 0/21 [00…"
      ]
     },
     "metadata": {},
     "output_type": "display_data"
    },
    {
     "name": "stdout",
     "output_type": "stream",
     "text": [
      "/mnt/DATA3/BPP0050/BPP0050-1-Live-cell-to4i_Fixed_Cy9__2025-04-22T18_25_01-Measurement 1/acquisition/zarr/(2, 4).zarr already exists, skipping\n",
      "/mnt/DATA3/BPP0050/BPP0050-1-Live-cell-to4i_Fixed_Cy9__2025-04-22T18_25_01-Measurement 1/acquisition/zarr/(2, 5).zarr already exists, skipping\n",
      "/mnt/DATA3/BPP0050/BPP0050-1-Live-cell-to4i_Fixed_Cy9__2025-04-22T18_25_01-Measurement 1/acquisition/zarr/(2, 6).zarr already exists, skipping\n",
      "/mnt/DATA3/BPP0050/BPP0050-1-Live-cell-to4i_Fixed_Cy9__2025-04-22T18_25_01-Measurement 1/acquisition/zarr/(2, 7).zarr already exists, skipping\n",
      "/mnt/DATA3/BPP0050/BPP0050-1-Live-cell-to4i_Fixed_Cy9__2025-04-22T18_25_01-Measurement 1/acquisition/zarr/(2, 8).zarr already exists, skipping\n",
      "/mnt/DATA3/BPP0050/BPP0050-1-Live-cell-to4i_Fixed_Cy9__2025-04-22T18_25_01-Measurement 1/acquisition/zarr/(3, 2).zarr already exists, skipping\n",
      "/mnt/DATA3/BPP0050/BPP0050-1-Live-cell-to4i_Fixed_Cy9__2025-04-22T18_25_01-Measurement 1/acquisition/zarr/(3, 3).zarr already exists, skipping\n",
      "/mnt/DATA3/BPP0050/BPP0050-1-Live-cell-to4i_Fixed_Cy9__2025-04-22T18_25_01-Measurement 1/acquisition/zarr/(3, 4).zarr already exists, skipping\n",
      "/mnt/DATA3/BPP0050/BPP0050-1-Live-cell-to4i_Fixed_Cy9__2025-04-22T18_25_01-Measurement 1/acquisition/zarr/(3, 5).zarr already exists, skipping\n",
      "/mnt/DATA3/BPP0050/BPP0050-1-Live-cell-to4i_Fixed_Cy9__2025-04-22T18_25_01-Measurement 1/acquisition/zarr/(3, 6).zarr already exists, skipping\n",
      "/mnt/DATA3/BPP0050/BPP0050-1-Live-cell-to4i_Fixed_Cy9__2025-04-22T18_25_01-Measurement 1/acquisition/zarr/(3, 7).zarr already exists, skipping\n",
      "/mnt/DATA3/BPP0050/BPP0050-1-Live-cell-to4i_Fixed_Cy9__2025-04-22T18_25_01-Measurement 1/acquisition/zarr/(3, 8).zarr already exists, skipping\n",
      "/mnt/DATA3/BPP0050/BPP0050-1-Live-cell-to4i_Fixed_Cy9__2025-04-22T18_25_01-Measurement 1/acquisition/zarr/(3, 9).zarr already exists, skipping\n",
      "/mnt/DATA3/BPP0050/BPP0050-1-Live-cell-to4i_Fixed_Cy9__2025-04-22T18_25_01-Measurement 1/acquisition/zarr/(4, 4).zarr already exists, skipping\n",
      "/mnt/DATA3/BPP0050/BPP0050-1-Live-cell-to4i_Fixed_Cy9__2025-04-22T18_25_01-Measurement 1/acquisition/zarr/(4, 5).zarr already exists, skipping\n",
      "/mnt/DATA3/BPP0050/BPP0050-1-Live-cell-to4i_Fixed_Cy9__2025-04-22T18_25_01-Measurement 1/acquisition/zarr/(4, 6).zarr already exists, skipping\n",
      "/mnt/DATA3/BPP0050/BPP0050-1-Live-cell-to4i_Fixed_Cy9__2025-04-22T18_25_01-Measurement 1/acquisition/zarr/(4, 7).zarr already exists, skipping\n",
      "/mnt/DATA3/BPP0050/BPP0050-1-Live-cell-to4i_Fixed_Cy9__2025-04-22T18_25_01-Measurement 1/acquisition/zarr/(4, 8).zarr already exists, skipping\n",
      "/mnt/DATA3/BPP0050/BPP0050-1-Live-cell-to4i_Fixed_Cy9__2025-04-22T18_25_01-Measurement 1/acquisition/zarr/(4, 9).zarr already exists, skipping\n",
      "/mnt/DATA3/BPP0050/BPP0050-1-Live-cell-to4i_Fixed_Cy9__2025-04-22T18_25_01-Measurement 1/acquisition/zarr/(5, 4).zarr already exists, skipping\n",
      "/mnt/DATA3/BPP0050/BPP0050-1-Live-cell-to4i_Fixed_Cy9__2025-04-22T18_25_01-Measurement 1/acquisition/zarr/(5, 5).zarr already exists, skipping\n",
      "Warning: Less than two unique TimepointIDs found, skipping framerate calculation.\n",
      "OME-Zarr metadata and assay layout saved to: /mnt/DATA3/BPP0050/BPP0050-1-Live-cell-to4i_Fixed_Cy9__2025-04-22T18_25_01-Measurement 1//acquisition/zarr//.zattrs\n",
      "Reading metadata XML file...\n"
     ]
    },
    {
     "name": "stderr",
     "output_type": "stream",
     "text": [
      "/tmp/ipykernel_8701/2682895781.py:152: FutureWarning: errors='ignore' is deprecated and will raise in a future version. Use to_numeric without passing `errors` and catch exceptions explicitly instead\n",
      "  timepoint_abs_times = metadata[['TimepointID', 'AbsTime']].drop_duplicates(subset=['TimepointID']).sort_values(key=lambda x: pd.to_numeric(x, errors='ignore'), by='TimepointID')\n"
     ]
    },
    {
     "data": {
      "application/vnd.jupyter.widget-view+json": {
       "model_id": "6d87ec60d73d4ad89d10e50622d9a328",
       "version_major": 2,
       "version_minor": 0
      },
      "text/plain": [
       "0it [00:00, ?it/s]"
      ]
     },
     "metadata": {},
     "output_type": "display_data"
    },
    {
     "name": "stdout",
     "output_type": "stream",
     "text": [
      "Extracting metadata complete!\n"
     ]
    },
    {
     "name": "stderr",
     "output_type": "stream",
     "text": [
      "/tmp/ipykernel_8701/2682895781.py:12: FutureWarning: errors='ignore' is deprecated and will raise in a future version. Use to_numeric without passing `errors` and catch exceptions explicitly instead\n",
      "  metadata = metadata.apply(pd.to_numeric, errors='ignore')\n"
     ]
    },
    {
     "name": "stdout",
     "output_type": "stream",
     "text": [
      "An unexpected error occurred during XML processing: \"['Row', 'Col'] not found in axis\"\n"
     ]
    },
    {
     "data": {
      "application/vnd.jupyter.widget-view+json": {
       "model_id": "c7b7c9f0d9a84ae7b2e00e3f81ccd59a",
       "version_major": 2,
       "version_minor": 0
      },
      "text/plain": [
       "Now tiling in BPP0050-1-Live-cell-to4i_Fixed_Cy1-2__2025-04-14T18_24_32-Measurement 1:   0%|          | 0/21 […"
      ]
     },
     "metadata": {},
     "output_type": "display_data"
    },
    {
     "name": "stdout",
     "output_type": "stream",
     "text": [
      "/mnt/DATA3/BPP0050/BPP0050-1-Live-cell-to4i_Fixed_Cy1-2__2025-04-14T18_24_32-Measurement 1/acquisition/zarr/(2, 4).zarr already exists, skipping\n",
      "/mnt/DATA3/BPP0050/BPP0050-1-Live-cell-to4i_Fixed_Cy1-2__2025-04-14T18_24_32-Measurement 1/acquisition/zarr/(2, 5).zarr already exists, skipping\n",
      "/mnt/DATA3/BPP0050/BPP0050-1-Live-cell-to4i_Fixed_Cy1-2__2025-04-14T18_24_32-Measurement 1/acquisition/zarr/(2, 6).zarr already exists, skipping\n",
      "/mnt/DATA3/BPP0050/BPP0050-1-Live-cell-to4i_Fixed_Cy1-2__2025-04-14T18_24_32-Measurement 1/acquisition/zarr/(2, 7).zarr already exists, skipping\n",
      "/mnt/DATA3/BPP0050/BPP0050-1-Live-cell-to4i_Fixed_Cy1-2__2025-04-14T18_24_32-Measurement 1/acquisition/zarr/(2, 8).zarr already exists, skipping\n",
      "/mnt/DATA3/BPP0050/BPP0050-1-Live-cell-to4i_Fixed_Cy1-2__2025-04-14T18_24_32-Measurement 1/acquisition/zarr/(3, 2).zarr already exists, skipping\n",
      "/mnt/DATA3/BPP0050/BPP0050-1-Live-cell-to4i_Fixed_Cy1-2__2025-04-14T18_24_32-Measurement 1/acquisition/zarr/(3, 3).zarr already exists, skipping\n",
      "/mnt/DATA3/BPP0050/BPP0050-1-Live-cell-to4i_Fixed_Cy1-2__2025-04-14T18_24_32-Measurement 1/acquisition/zarr/(3, 4).zarr already exists, skipping\n",
      "/mnt/DATA3/BPP0050/BPP0050-1-Live-cell-to4i_Fixed_Cy1-2__2025-04-14T18_24_32-Measurement 1/acquisition/zarr/(3, 5).zarr already exists, skipping\n",
      "/mnt/DATA3/BPP0050/BPP0050-1-Live-cell-to4i_Fixed_Cy1-2__2025-04-14T18_24_32-Measurement 1/acquisition/zarr/(3, 6).zarr already exists, skipping\n",
      "/mnt/DATA3/BPP0050/BPP0050-1-Live-cell-to4i_Fixed_Cy1-2__2025-04-14T18_24_32-Measurement 1/acquisition/zarr/(3, 7).zarr already exists, skipping\n",
      "/mnt/DATA3/BPP0050/BPP0050-1-Live-cell-to4i_Fixed_Cy1-2__2025-04-14T18_24_32-Measurement 1/acquisition/zarr/(3, 8).zarr already exists, skipping\n",
      "/mnt/DATA3/BPP0050/BPP0050-1-Live-cell-to4i_Fixed_Cy1-2__2025-04-14T18_24_32-Measurement 1/acquisition/zarr/(3, 9).zarr already exists, skipping\n",
      "/mnt/DATA3/BPP0050/BPP0050-1-Live-cell-to4i_Fixed_Cy1-2__2025-04-14T18_24_32-Measurement 1/acquisition/zarr/(4, 4).zarr already exists, skipping\n",
      "/mnt/DATA3/BPP0050/BPP0050-1-Live-cell-to4i_Fixed_Cy1-2__2025-04-14T18_24_32-Measurement 1/acquisition/zarr/(4, 5).zarr already exists, skipping\n",
      "/mnt/DATA3/BPP0050/BPP0050-1-Live-cell-to4i_Fixed_Cy1-2__2025-04-14T18_24_32-Measurement 1/acquisition/zarr/(4, 6).zarr already exists, skipping\n",
      "/mnt/DATA3/BPP0050/BPP0050-1-Live-cell-to4i_Fixed_Cy1-2__2025-04-14T18_24_32-Measurement 1/acquisition/zarr/(4, 7).zarr already exists, skipping\n",
      "/mnt/DATA3/BPP0050/BPP0050-1-Live-cell-to4i_Fixed_Cy1-2__2025-04-14T18_24_32-Measurement 1/acquisition/zarr/(4, 8).zarr already exists, skipping\n",
      "/mnt/DATA3/BPP0050/BPP0050-1-Live-cell-to4i_Fixed_Cy1-2__2025-04-14T18_24_32-Measurement 1/acquisition/zarr/(4, 9).zarr already exists, skipping\n",
      "/mnt/DATA3/BPP0050/BPP0050-1-Live-cell-to4i_Fixed_Cy1-2__2025-04-14T18_24_32-Measurement 1/acquisition/zarr/(5, 4).zarr already exists, skipping\n",
      "/mnt/DATA3/BPP0050/BPP0050-1-Live-cell-to4i_Fixed_Cy1-2__2025-04-14T18_24_32-Measurement 1/acquisition/zarr/(5, 5).zarr already exists, skipping\n",
      "Warning: Less than two unique TimepointIDs found, skipping framerate calculation.\n",
      "OME-Zarr metadata and assay layout saved to: /mnt/DATA3/BPP0050/BPP0050-1-Live-cell-to4i_Fixed_Cy1-2__2025-04-14T18_24_32-Measurement 1//acquisition/zarr//.zattrs\n",
      "Reading metadata XML file...\n"
     ]
    },
    {
     "name": "stderr",
     "output_type": "stream",
     "text": [
      "/tmp/ipykernel_8701/2682895781.py:152: FutureWarning: errors='ignore' is deprecated and will raise in a future version. Use to_numeric without passing `errors` and catch exceptions explicitly instead\n",
      "  timepoint_abs_times = metadata[['TimepointID', 'AbsTime']].drop_duplicates(subset=['TimepointID']).sort_values(key=lambda x: pd.to_numeric(x, errors='ignore'), by='TimepointID')\n"
     ]
    },
    {
     "data": {
      "application/vnd.jupyter.widget-view+json": {
       "model_id": "7ba631171489461692f95def400c419a",
       "version_major": 2,
       "version_minor": 0
      },
      "text/plain": [
       "0it [00:00, ?it/s]"
      ]
     },
     "metadata": {},
     "output_type": "display_data"
    },
    {
     "name": "stdout",
     "output_type": "stream",
     "text": [
      "Extracting metadata complete!\n"
     ]
    },
    {
     "name": "stderr",
     "output_type": "stream",
     "text": [
      "/tmp/ipykernel_8701/2682895781.py:12: FutureWarning: errors='ignore' is deprecated and will raise in a future version. Use to_numeric without passing `errors` and catch exceptions explicitly instead\n",
      "  metadata = metadata.apply(pd.to_numeric, errors='ignore')\n"
     ]
    },
    {
     "name": "stdout",
     "output_type": "stream",
     "text": [
      "An unexpected error occurred during XML processing: \"['Row', 'Col'] not found in axis\"\n"
     ]
    },
    {
     "data": {
      "application/vnd.jupyter.widget-view+json": {
       "model_id": "57bcd3dc468142d4aeb08ad901759802",
       "version_major": 2,
       "version_minor": 0
      },
      "text/plain": [
       "Now tiling in BPP0050-1-Live-cell-to4i_Fixed_Cy15__2025-04-28T16_14_55-Measurement 1:   0%|          | 0/21 [0…"
      ]
     },
     "metadata": {},
     "output_type": "display_data"
    },
    {
     "data": {
      "application/vnd.jupyter.widget-view+json": {
       "model_id": "81b30fc71914417982b3e9133b9f1deb",
       "version_major": 2,
       "version_minor": 0
      },
      "text/plain": [
       "Processing Time Points:   0%|          | 0/1 [00:00<?, ?it/s]"
      ]
     },
     "metadata": {},
     "output_type": "display_data"
    },
    {
     "data": {
      "application/vnd.jupyter.widget-view+json": {
       "model_id": "5bad495a28a048948cd0c5a1cf136d41",
       "version_major": 2,
       "version_minor": 0
      },
      "text/plain": [
       "Processing Channels (T=0):   0%|          | 0/4 [00:00<?, ?it/s]"
      ]
     },
     "metadata": {},
     "output_type": "display_data"
    },
    {
     "name": "stdout",
     "output_type": "stream",
     "text": [
      "Final image volume shape: (1, 4, 8, 6911, 6911)\n",
      "Saved Zarr array successfully to /mnt/DATA3/BPP0050/BPP0050-1-Live-cell-to4i_Fixed_Cy15__2025-04-28T16_14_55-Measurement 1/acquisition/zarr/(2, 4).zarr\n"
     ]
    },
    {
     "data": {
      "application/vnd.jupyter.widget-view+json": {
       "model_id": "3c5464ebf3b44d4eb4df085e842e26ab",
       "version_major": 2,
       "version_minor": 0
      },
      "text/plain": [
       "Processing Time Points:   0%|          | 0/1 [00:00<?, ?it/s]"
      ]
     },
     "metadata": {},
     "output_type": "display_data"
    },
    {
     "data": {
      "application/vnd.jupyter.widget-view+json": {
       "model_id": "c4395fca161b4c5b9d3e55beab458456",
       "version_major": 2,
       "version_minor": 0
      },
      "text/plain": [
       "Processing Channels (T=0):   0%|          | 0/4 [00:00<?, ?it/s]"
      ]
     },
     "metadata": {},
     "output_type": "display_data"
    },
    {
     "name": "stdout",
     "output_type": "stream",
     "text": [
      "Final image volume shape: (1, 4, 8, 6911, 6911)\n",
      "Saved Zarr array successfully to /mnt/DATA3/BPP0050/BPP0050-1-Live-cell-to4i_Fixed_Cy15__2025-04-28T16_14_55-Measurement 1/acquisition/zarr/(2, 5).zarr\n"
     ]
    },
    {
     "data": {
      "application/vnd.jupyter.widget-view+json": {
       "model_id": "a0f2f5b1cd714cc18e7afa2029acd022",
       "version_major": 2,
       "version_minor": 0
      },
      "text/plain": [
       "Processing Time Points:   0%|          | 0/1 [00:00<?, ?it/s]"
      ]
     },
     "metadata": {},
     "output_type": "display_data"
    },
    {
     "data": {
      "application/vnd.jupyter.widget-view+json": {
       "model_id": "346d624144c84e90996d89f2722e26b3",
       "version_major": 2,
       "version_minor": 0
      },
      "text/plain": [
       "Processing Channels (T=0):   0%|          | 0/4 [00:00<?, ?it/s]"
      ]
     },
     "metadata": {},
     "output_type": "display_data"
    },
    {
     "name": "stdout",
     "output_type": "stream",
     "text": [
      "Final image volume shape: (1, 4, 8, 6911, 6911)\n",
      "Saved Zarr array successfully to /mnt/DATA3/BPP0050/BPP0050-1-Live-cell-to4i_Fixed_Cy15__2025-04-28T16_14_55-Measurement 1/acquisition/zarr/(2, 6).zarr\n"
     ]
    },
    {
     "data": {
      "application/vnd.jupyter.widget-view+json": {
       "model_id": "2b4b7cdc69b14c36964d7b830d83d83f",
       "version_major": 2,
       "version_minor": 0
      },
      "text/plain": [
       "Processing Time Points:   0%|          | 0/1 [00:00<?, ?it/s]"
      ]
     },
     "metadata": {},
     "output_type": "display_data"
    },
    {
     "data": {
      "application/vnd.jupyter.widget-view+json": {
       "model_id": "6647e7414b07481cbb8857ced224cdbf",
       "version_major": 2,
       "version_minor": 0
      },
      "text/plain": [
       "Processing Channels (T=0):   0%|          | 0/4 [00:00<?, ?it/s]"
      ]
     },
     "metadata": {},
     "output_type": "display_data"
    },
    {
     "name": "stdout",
     "output_type": "stream",
     "text": [
      "Final image volume shape: (1, 4, 8, 6911, 6911)\n",
      "Saved Zarr array successfully to /mnt/DATA3/BPP0050/BPP0050-1-Live-cell-to4i_Fixed_Cy15__2025-04-28T16_14_55-Measurement 1/acquisition/zarr/(2, 7).zarr\n"
     ]
    },
    {
     "data": {
      "application/vnd.jupyter.widget-view+json": {
       "model_id": "ce655b40ab5a4334a1fd6df552a952ec",
       "version_major": 2,
       "version_minor": 0
      },
      "text/plain": [
       "Processing Time Points:   0%|          | 0/1 [00:00<?, ?it/s]"
      ]
     },
     "metadata": {},
     "output_type": "display_data"
    },
    {
     "data": {
      "application/vnd.jupyter.widget-view+json": {
       "model_id": "d5368b4ee94846ba9b4d7ce323808c3d",
       "version_major": 2,
       "version_minor": 0
      },
      "text/plain": [
       "Processing Channels (T=0):   0%|          | 0/4 [00:00<?, ?it/s]"
      ]
     },
     "metadata": {},
     "output_type": "display_data"
    },
    {
     "name": "stdout",
     "output_type": "stream",
     "text": [
      "Final image volume shape: (1, 4, 8, 6911, 6911)\n",
      "Saved Zarr array successfully to /mnt/DATA3/BPP0050/BPP0050-1-Live-cell-to4i_Fixed_Cy15__2025-04-28T16_14_55-Measurement 1/acquisition/zarr/(2, 8).zarr\n"
     ]
    },
    {
     "data": {
      "application/vnd.jupyter.widget-view+json": {
       "model_id": "c6669b0a27d04246ae2a89e7ddd3c5c9",
       "version_major": 2,
       "version_minor": 0
      },
      "text/plain": [
       "Processing Time Points:   0%|          | 0/1 [00:00<?, ?it/s]"
      ]
     },
     "metadata": {},
     "output_type": "display_data"
    },
    {
     "data": {
      "application/vnd.jupyter.widget-view+json": {
       "model_id": "be1dd630cf4442ab8efdf004538efbd9",
       "version_major": 2,
       "version_minor": 0
      },
      "text/plain": [
       "Processing Channels (T=0):   0%|          | 0/4 [00:00<?, ?it/s]"
      ]
     },
     "metadata": {},
     "output_type": "display_data"
    },
    {
     "name": "stdout",
     "output_type": "stream",
     "text": [
      "Final image volume shape: (1, 4, 8, 6911, 6911)\n",
      "Saved Zarr array successfully to /mnt/DATA3/BPP0050/BPP0050-1-Live-cell-to4i_Fixed_Cy15__2025-04-28T16_14_55-Measurement 1/acquisition/zarr/(3, 2).zarr\n"
     ]
    },
    {
     "data": {
      "application/vnd.jupyter.widget-view+json": {
       "model_id": "45a2d2483b914c7f9852a9755f3b5f33",
       "version_major": 2,
       "version_minor": 0
      },
      "text/plain": [
       "Processing Time Points:   0%|          | 0/1 [00:00<?, ?it/s]"
      ]
     },
     "metadata": {},
     "output_type": "display_data"
    },
    {
     "data": {
      "application/vnd.jupyter.widget-view+json": {
       "model_id": "799623ad9f974075b22e098a9c1e663d",
       "version_major": 2,
       "version_minor": 0
      },
      "text/plain": [
       "Processing Channels (T=0):   0%|          | 0/4 [00:00<?, ?it/s]"
      ]
     },
     "metadata": {},
     "output_type": "display_data"
    },
    {
     "name": "stdout",
     "output_type": "stream",
     "text": [
      "Final image volume shape: (1, 4, 8, 6911, 6911)\n",
      "Saved Zarr array successfully to /mnt/DATA3/BPP0050/BPP0050-1-Live-cell-to4i_Fixed_Cy15__2025-04-28T16_14_55-Measurement 1/acquisition/zarr/(3, 3).zarr\n"
     ]
    },
    {
     "data": {
      "application/vnd.jupyter.widget-view+json": {
       "model_id": "0bea8eb7959f48eea06d7eee7b04af42",
       "version_major": 2,
       "version_minor": 0
      },
      "text/plain": [
       "Processing Time Points:   0%|          | 0/1 [00:00<?, ?it/s]"
      ]
     },
     "metadata": {},
     "output_type": "display_data"
    },
    {
     "data": {
      "application/vnd.jupyter.widget-view+json": {
       "model_id": "0a8f1fc697404a20a9f847afbdb152a2",
       "version_major": 2,
       "version_minor": 0
      },
      "text/plain": [
       "Processing Channels (T=0):   0%|          | 0/4 [00:00<?, ?it/s]"
      ]
     },
     "metadata": {},
     "output_type": "display_data"
    },
    {
     "name": "stdout",
     "output_type": "stream",
     "text": [
      "Final image volume shape: (1, 4, 8, 6911, 6911)\n",
      "Saved Zarr array successfully to /mnt/DATA3/BPP0050/BPP0050-1-Live-cell-to4i_Fixed_Cy15__2025-04-28T16_14_55-Measurement 1/acquisition/zarr/(3, 4).zarr\n"
     ]
    },
    {
     "data": {
      "application/vnd.jupyter.widget-view+json": {
       "model_id": "90917e45d8a04d5c8991a6ecc13f22d9",
       "version_major": 2,
       "version_minor": 0
      },
      "text/plain": [
       "Processing Time Points:   0%|          | 0/1 [00:00<?, ?it/s]"
      ]
     },
     "metadata": {},
     "output_type": "display_data"
    },
    {
     "data": {
      "application/vnd.jupyter.widget-view+json": {
       "model_id": "bcf742ddaf15408babd5da9c63cf05bd",
       "version_major": 2,
       "version_minor": 0
      },
      "text/plain": [
       "Processing Channels (T=0):   0%|          | 0/4 [00:00<?, ?it/s]"
      ]
     },
     "metadata": {},
     "output_type": "display_data"
    },
    {
     "name": "stdout",
     "output_type": "stream",
     "text": [
      "Final image volume shape: (1, 4, 8, 6911, 6911)\n",
      "Saved Zarr array successfully to /mnt/DATA3/BPP0050/BPP0050-1-Live-cell-to4i_Fixed_Cy15__2025-04-28T16_14_55-Measurement 1/acquisition/zarr/(3, 5).zarr\n"
     ]
    },
    {
     "data": {
      "application/vnd.jupyter.widget-view+json": {
       "model_id": "e7631b1c78a84d6e84374c7ae6ea6289",
       "version_major": 2,
       "version_minor": 0
      },
      "text/plain": [
       "Processing Time Points:   0%|          | 0/1 [00:00<?, ?it/s]"
      ]
     },
     "metadata": {},
     "output_type": "display_data"
    },
    {
     "data": {
      "application/vnd.jupyter.widget-view+json": {
       "model_id": "ec223a4e6d6d400081d8d0fb10700a30",
       "version_major": 2,
       "version_minor": 0
      },
      "text/plain": [
       "Processing Channels (T=0):   0%|          | 0/4 [00:00<?, ?it/s]"
      ]
     },
     "metadata": {},
     "output_type": "display_data"
    },
    {
     "name": "stdout",
     "output_type": "stream",
     "text": [
      "Final image volume shape: (1, 4, 8, 6911, 6911)\n",
      "Saved Zarr array successfully to /mnt/DATA3/BPP0050/BPP0050-1-Live-cell-to4i_Fixed_Cy15__2025-04-28T16_14_55-Measurement 1/acquisition/zarr/(3, 6).zarr\n"
     ]
    },
    {
     "data": {
      "application/vnd.jupyter.widget-view+json": {
       "model_id": "11ee490197a04185adf693d0e8585c29",
       "version_major": 2,
       "version_minor": 0
      },
      "text/plain": [
       "Processing Time Points:   0%|          | 0/1 [00:00<?, ?it/s]"
      ]
     },
     "metadata": {},
     "output_type": "display_data"
    },
    {
     "data": {
      "application/vnd.jupyter.widget-view+json": {
       "model_id": "6ab8d84df15942319114dd4fd0cc1699",
       "version_major": 2,
       "version_minor": 0
      },
      "text/plain": [
       "Processing Channels (T=0):   0%|          | 0/4 [00:00<?, ?it/s]"
      ]
     },
     "metadata": {},
     "output_type": "display_data"
    },
    {
     "name": "stdout",
     "output_type": "stream",
     "text": [
      "Final image volume shape: (1, 4, 8, 6911, 6911)\n",
      "Saved Zarr array successfully to /mnt/DATA3/BPP0050/BPP0050-1-Live-cell-to4i_Fixed_Cy15__2025-04-28T16_14_55-Measurement 1/acquisition/zarr/(3, 7).zarr\n"
     ]
    },
    {
     "data": {
      "application/vnd.jupyter.widget-view+json": {
       "model_id": "30acb051594a42de972182b9741c7317",
       "version_major": 2,
       "version_minor": 0
      },
      "text/plain": [
       "Processing Time Points:   0%|          | 0/1 [00:00<?, ?it/s]"
      ]
     },
     "metadata": {},
     "output_type": "display_data"
    },
    {
     "data": {
      "application/vnd.jupyter.widget-view+json": {
       "model_id": "384321c778674c8dabdc69279f4645ca",
       "version_major": 2,
       "version_minor": 0
      },
      "text/plain": [
       "Processing Channels (T=0):   0%|          | 0/4 [00:00<?, ?it/s]"
      ]
     },
     "metadata": {},
     "output_type": "display_data"
    },
    {
     "name": "stdout",
     "output_type": "stream",
     "text": [
      "Final image volume shape: (1, 4, 8, 6911, 6911)\n",
      "Saved Zarr array successfully to /mnt/DATA3/BPP0050/BPP0050-1-Live-cell-to4i_Fixed_Cy15__2025-04-28T16_14_55-Measurement 1/acquisition/zarr/(3, 8).zarr\n"
     ]
    },
    {
     "data": {
      "application/vnd.jupyter.widget-view+json": {
       "model_id": "b75f86c716e64caa8604be7065c9c8ed",
       "version_major": 2,
       "version_minor": 0
      },
      "text/plain": [
       "Processing Time Points:   0%|          | 0/1 [00:00<?, ?it/s]"
      ]
     },
     "metadata": {},
     "output_type": "display_data"
    },
    {
     "data": {
      "application/vnd.jupyter.widget-view+json": {
       "model_id": "a60738ab2073495d850dcdde107a54b6",
       "version_major": 2,
       "version_minor": 0
      },
      "text/plain": [
       "Processing Channels (T=0):   0%|          | 0/4 [00:00<?, ?it/s]"
      ]
     },
     "metadata": {},
     "output_type": "display_data"
    },
    {
     "name": "stdout",
     "output_type": "stream",
     "text": [
      "Final image volume shape: (1, 4, 8, 6911, 6911)\n",
      "Saved Zarr array successfully to /mnt/DATA3/BPP0050/BPP0050-1-Live-cell-to4i_Fixed_Cy15__2025-04-28T16_14_55-Measurement 1/acquisition/zarr/(3, 9).zarr\n"
     ]
    },
    {
     "data": {
      "application/vnd.jupyter.widget-view+json": {
       "model_id": "f2a72b20b36241eaa76e5da91bb728a6",
       "version_major": 2,
       "version_minor": 0
      },
      "text/plain": [
       "Processing Time Points:   0%|          | 0/1 [00:00<?, ?it/s]"
      ]
     },
     "metadata": {},
     "output_type": "display_data"
    },
    {
     "data": {
      "application/vnd.jupyter.widget-view+json": {
       "model_id": "d45e6f27122044acb0cd250be86716f2",
       "version_major": 2,
       "version_minor": 0
      },
      "text/plain": [
       "Processing Channels (T=0):   0%|          | 0/4 [00:00<?, ?it/s]"
      ]
     },
     "metadata": {},
     "output_type": "display_data"
    },
    {
     "name": "stdout",
     "output_type": "stream",
     "text": [
      "Final image volume shape: (1, 4, 8, 6911, 6911)\n",
      "Saved Zarr array successfully to /mnt/DATA3/BPP0050/BPP0050-1-Live-cell-to4i_Fixed_Cy15__2025-04-28T16_14_55-Measurement 1/acquisition/zarr/(4, 4).zarr\n"
     ]
    },
    {
     "data": {
      "application/vnd.jupyter.widget-view+json": {
       "model_id": "0f53181101234da8b6d0ffb909be228b",
       "version_major": 2,
       "version_minor": 0
      },
      "text/plain": [
       "Processing Time Points:   0%|          | 0/1 [00:00<?, ?it/s]"
      ]
     },
     "metadata": {},
     "output_type": "display_data"
    },
    {
     "data": {
      "application/vnd.jupyter.widget-view+json": {
       "model_id": "7cc215ab8db845d791afa96d046b7170",
       "version_major": 2,
       "version_minor": 0
      },
      "text/plain": [
       "Processing Channels (T=0):   0%|          | 0/4 [00:00<?, ?it/s]"
      ]
     },
     "metadata": {},
     "output_type": "display_data"
    },
    {
     "name": "stdout",
     "output_type": "stream",
     "text": [
      "Final image volume shape: (1, 4, 8, 6911, 6911)\n",
      "Saved Zarr array successfully to /mnt/DATA3/BPP0050/BPP0050-1-Live-cell-to4i_Fixed_Cy15__2025-04-28T16_14_55-Measurement 1/acquisition/zarr/(4, 5).zarr\n"
     ]
    },
    {
     "data": {
      "application/vnd.jupyter.widget-view+json": {
       "model_id": "8c61f63bee7444a8bc7f7c6900473034",
       "version_major": 2,
       "version_minor": 0
      },
      "text/plain": [
       "Processing Time Points:   0%|          | 0/1 [00:00<?, ?it/s]"
      ]
     },
     "metadata": {},
     "output_type": "display_data"
    },
    {
     "data": {
      "application/vnd.jupyter.widget-view+json": {
       "model_id": "736b1beb933941c19feadeb53c0a56c5",
       "version_major": 2,
       "version_minor": 0
      },
      "text/plain": [
       "Processing Channels (T=0):   0%|          | 0/4 [00:00<?, ?it/s]"
      ]
     },
     "metadata": {},
     "output_type": "display_data"
    },
    {
     "name": "stdout",
     "output_type": "stream",
     "text": [
      "Final image volume shape: (1, 4, 8, 6911, 6911)\n",
      "Saved Zarr array successfully to /mnt/DATA3/BPP0050/BPP0050-1-Live-cell-to4i_Fixed_Cy15__2025-04-28T16_14_55-Measurement 1/acquisition/zarr/(4, 6).zarr\n"
     ]
    },
    {
     "data": {
      "application/vnd.jupyter.widget-view+json": {
       "model_id": "5dc2860ec25e4361be856de53e298b34",
       "version_major": 2,
       "version_minor": 0
      },
      "text/plain": [
       "Processing Time Points:   0%|          | 0/1 [00:00<?, ?it/s]"
      ]
     },
     "metadata": {},
     "output_type": "display_data"
    },
    {
     "data": {
      "application/vnd.jupyter.widget-view+json": {
       "model_id": "2a772e0b13914d5e9d503366cd988b98",
       "version_major": 2,
       "version_minor": 0
      },
      "text/plain": [
       "Processing Channels (T=0):   0%|          | 0/4 [00:00<?, ?it/s]"
      ]
     },
     "metadata": {},
     "output_type": "display_data"
    },
    {
     "name": "stdout",
     "output_type": "stream",
     "text": [
      "Final image volume shape: (1, 4, 8, 6911, 6911)\n",
      "Saved Zarr array successfully to /mnt/DATA3/BPP0050/BPP0050-1-Live-cell-to4i_Fixed_Cy15__2025-04-28T16_14_55-Measurement 1/acquisition/zarr/(4, 7).zarr\n"
     ]
    },
    {
     "data": {
      "application/vnd.jupyter.widget-view+json": {
       "model_id": "dcea823fd01045c3a730d3d93f6325a3",
       "version_major": 2,
       "version_minor": 0
      },
      "text/plain": [
       "Processing Time Points:   0%|          | 0/1 [00:00<?, ?it/s]"
      ]
     },
     "metadata": {},
     "output_type": "display_data"
    },
    {
     "data": {
      "application/vnd.jupyter.widget-view+json": {
       "model_id": "f804869540ab4526ac243337b5fd20b3",
       "version_major": 2,
       "version_minor": 0
      },
      "text/plain": [
       "Processing Channels (T=0):   0%|          | 0/4 [00:00<?, ?it/s]"
      ]
     },
     "metadata": {},
     "output_type": "display_data"
    },
    {
     "name": "stdout",
     "output_type": "stream",
     "text": [
      "Final image volume shape: (1, 4, 8, 6911, 6911)\n",
      "Saved Zarr array successfully to /mnt/DATA3/BPP0050/BPP0050-1-Live-cell-to4i_Fixed_Cy15__2025-04-28T16_14_55-Measurement 1/acquisition/zarr/(4, 8).zarr\n"
     ]
    },
    {
     "data": {
      "application/vnd.jupyter.widget-view+json": {
       "model_id": "49a7bae11e1849afbc5f7d89a103c5b0",
       "version_major": 2,
       "version_minor": 0
      },
      "text/plain": [
       "Processing Time Points:   0%|          | 0/1 [00:00<?, ?it/s]"
      ]
     },
     "metadata": {},
     "output_type": "display_data"
    },
    {
     "data": {
      "application/vnd.jupyter.widget-view+json": {
       "model_id": "0a441d0fe8c6497589f0cad0e8494a4b",
       "version_major": 2,
       "version_minor": 0
      },
      "text/plain": [
       "Processing Channels (T=0):   0%|          | 0/4 [00:00<?, ?it/s]"
      ]
     },
     "metadata": {},
     "output_type": "display_data"
    },
    {
     "name": "stdout",
     "output_type": "stream",
     "text": [
      "Final image volume shape: (1, 4, 8, 6911, 6911)\n",
      "Saved Zarr array successfully to /mnt/DATA3/BPP0050/BPP0050-1-Live-cell-to4i_Fixed_Cy15__2025-04-28T16_14_55-Measurement 1/acquisition/zarr/(4, 9).zarr\n"
     ]
    },
    {
     "data": {
      "application/vnd.jupyter.widget-view+json": {
       "model_id": "e419780154cd444ebc484b23cc4c1ebf",
       "version_major": 2,
       "version_minor": 0
      },
      "text/plain": [
       "Processing Time Points:   0%|          | 0/1 [00:00<?, ?it/s]"
      ]
     },
     "metadata": {},
     "output_type": "display_data"
    },
    {
     "data": {
      "application/vnd.jupyter.widget-view+json": {
       "model_id": "82b07ca40e3741cb9de52511d590da52",
       "version_major": 2,
       "version_minor": 0
      },
      "text/plain": [
       "Processing Channels (T=0):   0%|          | 0/4 [00:00<?, ?it/s]"
      ]
     },
     "metadata": {},
     "output_type": "display_data"
    },
    {
     "name": "stdout",
     "output_type": "stream",
     "text": [
      "Final image volume shape: (1, 4, 8, 6911, 6911)\n",
      "Saved Zarr array successfully to /mnt/DATA3/BPP0050/BPP0050-1-Live-cell-to4i_Fixed_Cy15__2025-04-28T16_14_55-Measurement 1/acquisition/zarr/(5, 4).zarr\n"
     ]
    },
    {
     "data": {
      "application/vnd.jupyter.widget-view+json": {
       "model_id": "d6e70f52d9844168946f703cb57d13f4",
       "version_major": 2,
       "version_minor": 0
      },
      "text/plain": [
       "Processing Time Points:   0%|          | 0/1 [00:00<?, ?it/s]"
      ]
     },
     "metadata": {},
     "output_type": "display_data"
    },
    {
     "data": {
      "application/vnd.jupyter.widget-view+json": {
       "model_id": "35511ab7af7a45348a33b980f27bea10",
       "version_major": 2,
       "version_minor": 0
      },
      "text/plain": [
       "Processing Channels (T=0):   0%|          | 0/4 [00:00<?, ?it/s]"
      ]
     },
     "metadata": {},
     "output_type": "display_data"
    },
    {
     "name": "stdout",
     "output_type": "stream",
     "text": [
      "Final image volume shape: (1, 4, 8, 6911, 6911)\n",
      "Saved Zarr array successfully to /mnt/DATA3/BPP0050/BPP0050-1-Live-cell-to4i_Fixed_Cy15__2025-04-28T16_14_55-Measurement 1/acquisition/zarr/(5, 5).zarr\n",
      "Warning: Less than two unique TimepointIDs found, skipping framerate calculation.\n",
      "OME-Zarr metadata and assay layout saved to: /mnt/DATA3/BPP0050/BPP0050-1-Live-cell-to4i_Fixed_Cy15__2025-04-28T16_14_55-Measurement 1//acquisition/zarr//.zattrs\n",
      "Reading metadata XML file...\n"
     ]
    },
    {
     "name": "stderr",
     "output_type": "stream",
     "text": [
      "/tmp/ipykernel_8701/2682895781.py:152: FutureWarning: errors='ignore' is deprecated and will raise in a future version. Use to_numeric without passing `errors` and catch exceptions explicitly instead\n",
      "  timepoint_abs_times = metadata[['TimepointID', 'AbsTime']].drop_duplicates(subset=['TimepointID']).sort_values(key=lambda x: pd.to_numeric(x, errors='ignore'), by='TimepointID')\n"
     ]
    },
    {
     "data": {
      "application/vnd.jupyter.widget-view+json": {
       "model_id": "6d62800cf6a4432f8c38205a0c5ade4e",
       "version_major": 2,
       "version_minor": 0
      },
      "text/plain": [
       "0it [00:00, ?it/s]"
      ]
     },
     "metadata": {},
     "output_type": "display_data"
    },
    {
     "name": "stdout",
     "output_type": "stream",
     "text": [
      "Extracting metadata complete!\n"
     ]
    },
    {
     "name": "stderr",
     "output_type": "stream",
     "text": [
      "/tmp/ipykernel_8701/2682895781.py:12: FutureWarning: errors='ignore' is deprecated and will raise in a future version. Use to_numeric without passing `errors` and catch exceptions explicitly instead\n",
      "  metadata = metadata.apply(pd.to_numeric, errors='ignore')\n"
     ]
    },
    {
     "name": "stdout",
     "output_type": "stream",
     "text": [
      "An unexpected error occurred during XML processing: \"['Row', 'Col'] not found in axis\"\n"
     ]
    },
    {
     "data": {
      "application/vnd.jupyter.widget-view+json": {
       "model_id": "201c71c2e6f246a9b05f01686ed4d912",
       "version_major": 2,
       "version_minor": 0
      },
      "text/plain": [
       "Now tiling in BPP0050-1-Live-cell-to4i_Fixed_Cy16__2025-04-29T15_39_50-Measurement 1:   0%|          | 0/21 [0…"
      ]
     },
     "metadata": {},
     "output_type": "display_data"
    },
    {
     "data": {
      "application/vnd.jupyter.widget-view+json": {
       "model_id": "0d2dbd3633b64b709975e3109ad1848d",
       "version_major": 2,
       "version_minor": 0
      },
      "text/plain": [
       "Processing Time Points:   0%|          | 0/1 [00:00<?, ?it/s]"
      ]
     },
     "metadata": {},
     "output_type": "display_data"
    },
    {
     "data": {
      "application/vnd.jupyter.widget-view+json": {
       "model_id": "b5495ecd2b0b49ef8056a714a3e809f9",
       "version_major": 2,
       "version_minor": 0
      },
      "text/plain": [
       "Processing Channels (T=0):   0%|          | 0/4 [00:00<?, ?it/s]"
      ]
     },
     "metadata": {},
     "output_type": "display_data"
    },
    {
     "name": "stdout",
     "output_type": "stream",
     "text": [
      "Final image volume shape: (1, 4, 8, 6911, 6911)\n",
      "Saved Zarr array successfully to /mnt/DATA3/BPP0050/BPP0050-1-Live-cell-to4i_Fixed_Cy16__2025-04-29T15_39_50-Measurement 1/acquisition/zarr/(2, 4).zarr\n"
     ]
    },
    {
     "data": {
      "application/vnd.jupyter.widget-view+json": {
       "model_id": "968de55f73444832b15cdf4b70693cb1",
       "version_major": 2,
       "version_minor": 0
      },
      "text/plain": [
       "Processing Time Points:   0%|          | 0/1 [00:00<?, ?it/s]"
      ]
     },
     "metadata": {},
     "output_type": "display_data"
    },
    {
     "data": {
      "application/vnd.jupyter.widget-view+json": {
       "model_id": "a1d8a6fd92a148fa815b50af91fbfb81",
       "version_major": 2,
       "version_minor": 0
      },
      "text/plain": [
       "Processing Channels (T=0):   0%|          | 0/4 [00:00<?, ?it/s]"
      ]
     },
     "metadata": {},
     "output_type": "display_data"
    },
    {
     "name": "stdout",
     "output_type": "stream",
     "text": [
      "Final image volume shape: (1, 4, 8, 6911, 6911)\n",
      "Saved Zarr array successfully to /mnt/DATA3/BPP0050/BPP0050-1-Live-cell-to4i_Fixed_Cy16__2025-04-29T15_39_50-Measurement 1/acquisition/zarr/(2, 5).zarr\n"
     ]
    },
    {
     "data": {
      "application/vnd.jupyter.widget-view+json": {
       "model_id": "bce7dc87307a4db0a97ca0e2b08f9d8e",
       "version_major": 2,
       "version_minor": 0
      },
      "text/plain": [
       "Processing Time Points:   0%|          | 0/1 [00:00<?, ?it/s]"
      ]
     },
     "metadata": {},
     "output_type": "display_data"
    },
    {
     "data": {
      "application/vnd.jupyter.widget-view+json": {
       "model_id": "d85755d3532b4fe2916a2f6d07d3f35f",
       "version_major": 2,
       "version_minor": 0
      },
      "text/plain": [
       "Processing Channels (T=0):   0%|          | 0/4 [00:00<?, ?it/s]"
      ]
     },
     "metadata": {},
     "output_type": "display_data"
    },
    {
     "name": "stdout",
     "output_type": "stream",
     "text": [
      "Final image volume shape: (1, 4, 8, 6911, 6911)\n",
      "Saved Zarr array successfully to /mnt/DATA3/BPP0050/BPP0050-1-Live-cell-to4i_Fixed_Cy16__2025-04-29T15_39_50-Measurement 1/acquisition/zarr/(2, 6).zarr\n"
     ]
    },
    {
     "data": {
      "application/vnd.jupyter.widget-view+json": {
       "model_id": "52b18ad76dc84b86a4f3e28b865bacf9",
       "version_major": 2,
       "version_minor": 0
      },
      "text/plain": [
       "Processing Time Points:   0%|          | 0/1 [00:00<?, ?it/s]"
      ]
     },
     "metadata": {},
     "output_type": "display_data"
    },
    {
     "data": {
      "application/vnd.jupyter.widget-view+json": {
       "model_id": "5510b3e6b4ab4c648a3d9a1722f9f744",
       "version_major": 2,
       "version_minor": 0
      },
      "text/plain": [
       "Processing Channels (T=0):   0%|          | 0/4 [00:00<?, ?it/s]"
      ]
     },
     "metadata": {},
     "output_type": "display_data"
    },
    {
     "name": "stdout",
     "output_type": "stream",
     "text": [
      "Final image volume shape: (1, 4, 8, 6911, 6911)\n",
      "Saved Zarr array successfully to /mnt/DATA3/BPP0050/BPP0050-1-Live-cell-to4i_Fixed_Cy16__2025-04-29T15_39_50-Measurement 1/acquisition/zarr/(2, 7).zarr\n"
     ]
    },
    {
     "data": {
      "application/vnd.jupyter.widget-view+json": {
       "model_id": "490f477df39d460daec2d3b4f23b31a8",
       "version_major": 2,
       "version_minor": 0
      },
      "text/plain": [
       "Processing Time Points:   0%|          | 0/1 [00:00<?, ?it/s]"
      ]
     },
     "metadata": {},
     "output_type": "display_data"
    },
    {
     "data": {
      "application/vnd.jupyter.widget-view+json": {
       "model_id": "a9d0de11c74142918cfdf088e72cced3",
       "version_major": 2,
       "version_minor": 0
      },
      "text/plain": [
       "Processing Channels (T=0):   0%|          | 0/4 [00:00<?, ?it/s]"
      ]
     },
     "metadata": {},
     "output_type": "display_data"
    },
    {
     "name": "stdout",
     "output_type": "stream",
     "text": [
      "Final image volume shape: (1, 4, 8, 6911, 6911)\n",
      "Saved Zarr array successfully to /mnt/DATA3/BPP0050/BPP0050-1-Live-cell-to4i_Fixed_Cy16__2025-04-29T15_39_50-Measurement 1/acquisition/zarr/(2, 8).zarr\n"
     ]
    },
    {
     "data": {
      "application/vnd.jupyter.widget-view+json": {
       "model_id": "88a4af364fa1420aae4a6158bbc58768",
       "version_major": 2,
       "version_minor": 0
      },
      "text/plain": [
       "Processing Time Points:   0%|          | 0/1 [00:00<?, ?it/s]"
      ]
     },
     "metadata": {},
     "output_type": "display_data"
    },
    {
     "data": {
      "application/vnd.jupyter.widget-view+json": {
       "model_id": "f4f4cff624414fa2af6e1cd97087b2cc",
       "version_major": 2,
       "version_minor": 0
      },
      "text/plain": [
       "Processing Channels (T=0):   0%|          | 0/4 [00:00<?, ?it/s]"
      ]
     },
     "metadata": {},
     "output_type": "display_data"
    },
    {
     "name": "stdout",
     "output_type": "stream",
     "text": [
      "Final image volume shape: (1, 4, 8, 6911, 6911)\n",
      "Saved Zarr array successfully to /mnt/DATA3/BPP0050/BPP0050-1-Live-cell-to4i_Fixed_Cy16__2025-04-29T15_39_50-Measurement 1/acquisition/zarr/(3, 2).zarr\n"
     ]
    },
    {
     "data": {
      "application/vnd.jupyter.widget-view+json": {
       "model_id": "6325adafb9964349b309fd552a19de89",
       "version_major": 2,
       "version_minor": 0
      },
      "text/plain": [
       "Processing Time Points:   0%|          | 0/1 [00:00<?, ?it/s]"
      ]
     },
     "metadata": {},
     "output_type": "display_data"
    },
    {
     "data": {
      "application/vnd.jupyter.widget-view+json": {
       "model_id": "ba5f248fb7504ffc82c2e7903ee596fa",
       "version_major": 2,
       "version_minor": 0
      },
      "text/plain": [
       "Processing Channels (T=0):   0%|          | 0/4 [00:00<?, ?it/s]"
      ]
     },
     "metadata": {},
     "output_type": "display_data"
    },
    {
     "name": "stdout",
     "output_type": "stream",
     "text": [
      "Final image volume shape: (1, 4, 8, 6911, 6911)\n",
      "Saved Zarr array successfully to /mnt/DATA3/BPP0050/BPP0050-1-Live-cell-to4i_Fixed_Cy16__2025-04-29T15_39_50-Measurement 1/acquisition/zarr/(3, 3).zarr\n"
     ]
    },
    {
     "data": {
      "application/vnd.jupyter.widget-view+json": {
       "model_id": "7a9343b6a59046a09f53845b81ab8687",
       "version_major": 2,
       "version_minor": 0
      },
      "text/plain": [
       "Processing Time Points:   0%|          | 0/1 [00:00<?, ?it/s]"
      ]
     },
     "metadata": {},
     "output_type": "display_data"
    },
    {
     "data": {
      "application/vnd.jupyter.widget-view+json": {
       "model_id": "941a55e6d54e4078af9ebec869730d8d",
       "version_major": 2,
       "version_minor": 0
      },
      "text/plain": [
       "Processing Channels (T=0):   0%|          | 0/4 [00:00<?, ?it/s]"
      ]
     },
     "metadata": {},
     "output_type": "display_data"
    },
    {
     "name": "stdout",
     "output_type": "stream",
     "text": [
      "Final image volume shape: (1, 4, 8, 6911, 6911)\n",
      "Saved Zarr array successfully to /mnt/DATA3/BPP0050/BPP0050-1-Live-cell-to4i_Fixed_Cy16__2025-04-29T15_39_50-Measurement 1/acquisition/zarr/(3, 4).zarr\n"
     ]
    },
    {
     "data": {
      "application/vnd.jupyter.widget-view+json": {
       "model_id": "9fd5700720bb4fdfb457d84cc8dcc3d8",
       "version_major": 2,
       "version_minor": 0
      },
      "text/plain": [
       "Processing Time Points:   0%|          | 0/1 [00:00<?, ?it/s]"
      ]
     },
     "metadata": {},
     "output_type": "display_data"
    },
    {
     "data": {
      "application/vnd.jupyter.widget-view+json": {
       "model_id": "996a9b1e08df4df9ba13c0e87d117cad",
       "version_major": 2,
       "version_minor": 0
      },
      "text/plain": [
       "Processing Channels (T=0):   0%|          | 0/4 [00:00<?, ?it/s]"
      ]
     },
     "metadata": {},
     "output_type": "display_data"
    },
    {
     "name": "stdout",
     "output_type": "stream",
     "text": [
      "Final image volume shape: (1, 4, 8, 6911, 6911)\n",
      "Saved Zarr array successfully to /mnt/DATA3/BPP0050/BPP0050-1-Live-cell-to4i_Fixed_Cy16__2025-04-29T15_39_50-Measurement 1/acquisition/zarr/(3, 5).zarr\n"
     ]
    },
    {
     "data": {
      "application/vnd.jupyter.widget-view+json": {
       "model_id": "d1c146a227a74638aff328b4e8290bd9",
       "version_major": 2,
       "version_minor": 0
      },
      "text/plain": [
       "Processing Time Points:   0%|          | 0/1 [00:00<?, ?it/s]"
      ]
     },
     "metadata": {},
     "output_type": "display_data"
    },
    {
     "data": {
      "application/vnd.jupyter.widget-view+json": {
       "model_id": "902cae6a2e9545e19b54c399fb6bf4e2",
       "version_major": 2,
       "version_minor": 0
      },
      "text/plain": [
       "Processing Channels (T=0):   0%|          | 0/4 [00:00<?, ?it/s]"
      ]
     },
     "metadata": {},
     "output_type": "display_data"
    },
    {
     "name": "stdout",
     "output_type": "stream",
     "text": [
      "Final image volume shape: (1, 4, 8, 6911, 6911)\n",
      "Saved Zarr array successfully to /mnt/DATA3/BPP0050/BPP0050-1-Live-cell-to4i_Fixed_Cy16__2025-04-29T15_39_50-Measurement 1/acquisition/zarr/(3, 6).zarr\n"
     ]
    },
    {
     "data": {
      "application/vnd.jupyter.widget-view+json": {
       "model_id": "5496a8ed6f9f4b23984979a0fe2c1a31",
       "version_major": 2,
       "version_minor": 0
      },
      "text/plain": [
       "Processing Time Points:   0%|          | 0/1 [00:00<?, ?it/s]"
      ]
     },
     "metadata": {},
     "output_type": "display_data"
    },
    {
     "data": {
      "application/vnd.jupyter.widget-view+json": {
       "model_id": "37c46abe56354a1aa96efc9acd1f8655",
       "version_major": 2,
       "version_minor": 0
      },
      "text/plain": [
       "Processing Channels (T=0):   0%|          | 0/4 [00:00<?, ?it/s]"
      ]
     },
     "metadata": {},
     "output_type": "display_data"
    },
    {
     "name": "stdout",
     "output_type": "stream",
     "text": [
      "Final image volume shape: (1, 4, 8, 6911, 6911)\n",
      "Saved Zarr array successfully to /mnt/DATA3/BPP0050/BPP0050-1-Live-cell-to4i_Fixed_Cy16__2025-04-29T15_39_50-Measurement 1/acquisition/zarr/(3, 7).zarr\n"
     ]
    },
    {
     "data": {
      "application/vnd.jupyter.widget-view+json": {
       "model_id": "2287ae7268024f3e800690219baf3161",
       "version_major": 2,
       "version_minor": 0
      },
      "text/plain": [
       "Processing Time Points:   0%|          | 0/1 [00:00<?, ?it/s]"
      ]
     },
     "metadata": {},
     "output_type": "display_data"
    },
    {
     "data": {
      "application/vnd.jupyter.widget-view+json": {
       "model_id": "27828b42c49e4d599e48fa0b8c19c27a",
       "version_major": 2,
       "version_minor": 0
      },
      "text/plain": [
       "Processing Channels (T=0):   0%|          | 0/4 [00:00<?, ?it/s]"
      ]
     },
     "metadata": {},
     "output_type": "display_data"
    },
    {
     "name": "stdout",
     "output_type": "stream",
     "text": [
      "Final image volume shape: (1, 4, 8, 6911, 6911)\n",
      "Saved Zarr array successfully to /mnt/DATA3/BPP0050/BPP0050-1-Live-cell-to4i_Fixed_Cy16__2025-04-29T15_39_50-Measurement 1/acquisition/zarr/(3, 8).zarr\n"
     ]
    },
    {
     "data": {
      "application/vnd.jupyter.widget-view+json": {
       "model_id": "63f0da77ddd147f19883a9090b172215",
       "version_major": 2,
       "version_minor": 0
      },
      "text/plain": [
       "Processing Time Points:   0%|          | 0/1 [00:00<?, ?it/s]"
      ]
     },
     "metadata": {},
     "output_type": "display_data"
    },
    {
     "data": {
      "application/vnd.jupyter.widget-view+json": {
       "model_id": "b716fdfb808c422d9e5bc552dc7c5bcb",
       "version_major": 2,
       "version_minor": 0
      },
      "text/plain": [
       "Processing Channels (T=0):   0%|          | 0/4 [00:00<?, ?it/s]"
      ]
     },
     "metadata": {},
     "output_type": "display_data"
    },
    {
     "name": "stdout",
     "output_type": "stream",
     "text": [
      "Final image volume shape: (1, 4, 8, 6911, 6911)\n",
      "Saved Zarr array successfully to /mnt/DATA3/BPP0050/BPP0050-1-Live-cell-to4i_Fixed_Cy16__2025-04-29T15_39_50-Measurement 1/acquisition/zarr/(3, 9).zarr\n"
     ]
    },
    {
     "data": {
      "application/vnd.jupyter.widget-view+json": {
       "model_id": "3ee9780ed8b94fef8753f8b9966e8ce3",
       "version_major": 2,
       "version_minor": 0
      },
      "text/plain": [
       "Processing Time Points:   0%|          | 0/1 [00:00<?, ?it/s]"
      ]
     },
     "metadata": {},
     "output_type": "display_data"
    },
    {
     "data": {
      "application/vnd.jupyter.widget-view+json": {
       "model_id": "cb8d63cf5f384abf901f6d5633a15102",
       "version_major": 2,
       "version_minor": 0
      },
      "text/plain": [
       "Processing Channels (T=0):   0%|          | 0/4 [00:00<?, ?it/s]"
      ]
     },
     "metadata": {},
     "output_type": "display_data"
    },
    {
     "name": "stdout",
     "output_type": "stream",
     "text": [
      "Final image volume shape: (1, 4, 8, 6911, 6911)\n",
      "Saved Zarr array successfully to /mnt/DATA3/BPP0050/BPP0050-1-Live-cell-to4i_Fixed_Cy16__2025-04-29T15_39_50-Measurement 1/acquisition/zarr/(4, 4).zarr\n"
     ]
    },
    {
     "data": {
      "application/vnd.jupyter.widget-view+json": {
       "model_id": "691e567894214467bf18f7fe7566d3d7",
       "version_major": 2,
       "version_minor": 0
      },
      "text/plain": [
       "Processing Time Points:   0%|          | 0/1 [00:00<?, ?it/s]"
      ]
     },
     "metadata": {},
     "output_type": "display_data"
    },
    {
     "data": {
      "application/vnd.jupyter.widget-view+json": {
       "model_id": "0d5cd1d66e704459ad2c164b6736dadd",
       "version_major": 2,
       "version_minor": 0
      },
      "text/plain": [
       "Processing Channels (T=0):   0%|          | 0/4 [00:00<?, ?it/s]"
      ]
     },
     "metadata": {},
     "output_type": "display_data"
    },
    {
     "name": "stdout",
     "output_type": "stream",
     "text": [
      "Final image volume shape: (1, 4, 8, 6911, 6911)\n",
      "Saved Zarr array successfully to /mnt/DATA3/BPP0050/BPP0050-1-Live-cell-to4i_Fixed_Cy16__2025-04-29T15_39_50-Measurement 1/acquisition/zarr/(4, 5).zarr\n"
     ]
    },
    {
     "data": {
      "application/vnd.jupyter.widget-view+json": {
       "model_id": "6f838ba8437a4c3fa2f9b9575581c44a",
       "version_major": 2,
       "version_minor": 0
      },
      "text/plain": [
       "Processing Time Points:   0%|          | 0/1 [00:00<?, ?it/s]"
      ]
     },
     "metadata": {},
     "output_type": "display_data"
    },
    {
     "data": {
      "application/vnd.jupyter.widget-view+json": {
       "model_id": "42ffc38161fd427583cde9b7e23be167",
       "version_major": 2,
       "version_minor": 0
      },
      "text/plain": [
       "Processing Channels (T=0):   0%|          | 0/4 [00:00<?, ?it/s]"
      ]
     },
     "metadata": {},
     "output_type": "display_data"
    },
    {
     "name": "stdout",
     "output_type": "stream",
     "text": [
      "Final image volume shape: (1, 4, 8, 6911, 6911)\n",
      "Saved Zarr array successfully to /mnt/DATA3/BPP0050/BPP0050-1-Live-cell-to4i_Fixed_Cy16__2025-04-29T15_39_50-Measurement 1/acquisition/zarr/(4, 6).zarr\n"
     ]
    },
    {
     "data": {
      "application/vnd.jupyter.widget-view+json": {
       "model_id": "9ba633326b114c948a56e2c83d5243eb",
       "version_major": 2,
       "version_minor": 0
      },
      "text/plain": [
       "Processing Time Points:   0%|          | 0/1 [00:00<?, ?it/s]"
      ]
     },
     "metadata": {},
     "output_type": "display_data"
    },
    {
     "data": {
      "application/vnd.jupyter.widget-view+json": {
       "model_id": "baf5a362fe9142ed80f4ea1503e5bc79",
       "version_major": 2,
       "version_minor": 0
      },
      "text/plain": [
       "Processing Channels (T=0):   0%|          | 0/4 [00:00<?, ?it/s]"
      ]
     },
     "metadata": {},
     "output_type": "display_data"
    },
    {
     "name": "stdout",
     "output_type": "stream",
     "text": [
      "Final image volume shape: (1, 4, 8, 6911, 6911)\n",
      "Saved Zarr array successfully to /mnt/DATA3/BPP0050/BPP0050-1-Live-cell-to4i_Fixed_Cy16__2025-04-29T15_39_50-Measurement 1/acquisition/zarr/(4, 7).zarr\n"
     ]
    },
    {
     "data": {
      "application/vnd.jupyter.widget-view+json": {
       "model_id": "225d61c41ed849e8ae8a46bd0bacf1fe",
       "version_major": 2,
       "version_minor": 0
      },
      "text/plain": [
       "Processing Time Points:   0%|          | 0/1 [00:00<?, ?it/s]"
      ]
     },
     "metadata": {},
     "output_type": "display_data"
    },
    {
     "data": {
      "application/vnd.jupyter.widget-view+json": {
       "model_id": "96eadfa34dae4e4c86586f882a56fb26",
       "version_major": 2,
       "version_minor": 0
      },
      "text/plain": [
       "Processing Channels (T=0):   0%|          | 0/4 [00:00<?, ?it/s]"
      ]
     },
     "metadata": {},
     "output_type": "display_data"
    },
    {
     "name": "stdout",
     "output_type": "stream",
     "text": [
      "Final image volume shape: (1, 4, 8, 6911, 6911)\n",
      "Saved Zarr array successfully to /mnt/DATA3/BPP0050/BPP0050-1-Live-cell-to4i_Fixed_Cy16__2025-04-29T15_39_50-Measurement 1/acquisition/zarr/(4, 8).zarr\n"
     ]
    },
    {
     "data": {
      "application/vnd.jupyter.widget-view+json": {
       "model_id": "d67e74cde6744b26be7e59d617abeb43",
       "version_major": 2,
       "version_minor": 0
      },
      "text/plain": [
       "Processing Time Points:   0%|          | 0/1 [00:00<?, ?it/s]"
      ]
     },
     "metadata": {},
     "output_type": "display_data"
    },
    {
     "data": {
      "application/vnd.jupyter.widget-view+json": {
       "model_id": "74e1706902d649a9a07afbb122cdcb9b",
       "version_major": 2,
       "version_minor": 0
      },
      "text/plain": [
       "Processing Channels (T=0):   0%|          | 0/4 [00:00<?, ?it/s]"
      ]
     },
     "metadata": {},
     "output_type": "display_data"
    },
    {
     "name": "stdout",
     "output_type": "stream",
     "text": [
      "Final image volume shape: (1, 4, 8, 6911, 6911)\n",
      "Saved Zarr array successfully to /mnt/DATA3/BPP0050/BPP0050-1-Live-cell-to4i_Fixed_Cy16__2025-04-29T15_39_50-Measurement 1/acquisition/zarr/(4, 9).zarr\n"
     ]
    },
    {
     "data": {
      "application/vnd.jupyter.widget-view+json": {
       "model_id": "c7bd8ff81c5b453897ad0e26ee7e4213",
       "version_major": 2,
       "version_minor": 0
      },
      "text/plain": [
       "Processing Time Points:   0%|          | 0/1 [00:00<?, ?it/s]"
      ]
     },
     "metadata": {},
     "output_type": "display_data"
    },
    {
     "data": {
      "application/vnd.jupyter.widget-view+json": {
       "model_id": "a0dd4c79c7a84c26ae90e2db3b66e8c5",
       "version_major": 2,
       "version_minor": 0
      },
      "text/plain": [
       "Processing Channels (T=0):   0%|          | 0/4 [00:00<?, ?it/s]"
      ]
     },
     "metadata": {},
     "output_type": "display_data"
    },
    {
     "name": "stdout",
     "output_type": "stream",
     "text": [
      "Final image volume shape: (1, 4, 8, 6911, 6911)\n",
      "Saved Zarr array successfully to /mnt/DATA3/BPP0050/BPP0050-1-Live-cell-to4i_Fixed_Cy16__2025-04-29T15_39_50-Measurement 1/acquisition/zarr/(5, 4).zarr\n"
     ]
    },
    {
     "data": {
      "application/vnd.jupyter.widget-view+json": {
       "model_id": "51a19480aa434ba08055f62efafadc86",
       "version_major": 2,
       "version_minor": 0
      },
      "text/plain": [
       "Processing Time Points:   0%|          | 0/1 [00:00<?, ?it/s]"
      ]
     },
     "metadata": {},
     "output_type": "display_data"
    },
    {
     "data": {
      "application/vnd.jupyter.widget-view+json": {
       "model_id": "b9c20f66f4dd4a61986af6c84100e306",
       "version_major": 2,
       "version_minor": 0
      },
      "text/plain": [
       "Processing Channels (T=0):   0%|          | 0/4 [00:00<?, ?it/s]"
      ]
     },
     "metadata": {},
     "output_type": "display_data"
    },
    {
     "name": "stdout",
     "output_type": "stream",
     "text": [
      "Final image volume shape: (1, 4, 8, 6911, 6911)\n",
      "Saved Zarr array successfully to /mnt/DATA3/BPP0050/BPP0050-1-Live-cell-to4i_Fixed_Cy16__2025-04-29T15_39_50-Measurement 1/acquisition/zarr/(5, 5).zarr\n",
      "Warning: Less than two unique TimepointIDs found, skipping framerate calculation.\n",
      "OME-Zarr metadata and assay layout saved to: /mnt/DATA3/BPP0050/BPP0050-1-Live-cell-to4i_Fixed_Cy16__2025-04-29T15_39_50-Measurement 1//acquisition/zarr//.zattrs\n",
      "Reading metadata XML file...\n"
     ]
    },
    {
     "name": "stderr",
     "output_type": "stream",
     "text": [
      "/tmp/ipykernel_8701/2682895781.py:152: FutureWarning: errors='ignore' is deprecated and will raise in a future version. Use to_numeric without passing `errors` and catch exceptions explicitly instead\n",
      "  timepoint_abs_times = metadata[['TimepointID', 'AbsTime']].drop_duplicates(subset=['TimepointID']).sort_values(key=lambda x: pd.to_numeric(x, errors='ignore'), by='TimepointID')\n"
     ]
    },
    {
     "data": {
      "application/vnd.jupyter.widget-view+json": {
       "model_id": "6bf0684bd6634e9eaeb137fa22b3b341",
       "version_major": 2,
       "version_minor": 0
      },
      "text/plain": [
       "0it [00:00, ?it/s]"
      ]
     },
     "metadata": {},
     "output_type": "display_data"
    },
    {
     "name": "stdout",
     "output_type": "stream",
     "text": [
      "Extracting metadata complete!\n"
     ]
    },
    {
     "name": "stderr",
     "output_type": "stream",
     "text": [
      "/tmp/ipykernel_8701/2682895781.py:12: FutureWarning: errors='ignore' is deprecated and will raise in a future version. Use to_numeric without passing `errors` and catch exceptions explicitly instead\n",
      "  metadata = metadata.apply(pd.to_numeric, errors='ignore')\n"
     ]
    },
    {
     "name": "stdout",
     "output_type": "stream",
     "text": [
      "An unexpected error occurred during XML processing: \"['Row', 'Col'] not found in axis\"\n"
     ]
    },
    {
     "data": {
      "application/vnd.jupyter.widget-view+json": {
       "model_id": "184f52aca27c421ba34c0dbf7cafe86d",
       "version_major": 2,
       "version_minor": 0
      },
      "text/plain": [
       "Now tiling in BPP0050-1-Live-cell-to4i_Fixed_Cy1__2025-04-14T16_57_11-Measurement 1:   0%|          | 0/21 [00…"
      ]
     },
     "metadata": {},
     "output_type": "display_data"
    },
    {
     "data": {
      "application/vnd.jupyter.widget-view+json": {
       "model_id": "1a44efb3531f4ecbac83c69a5ec39ccd",
       "version_major": 2,
       "version_minor": 0
      },
      "text/plain": [
       "Processing Time Points:   0%|          | 0/1 [00:00<?, ?it/s]"
      ]
     },
     "metadata": {},
     "output_type": "display_data"
    },
    {
     "data": {
      "application/vnd.jupyter.widget-view+json": {
       "model_id": "05cb36ab9c2e47d6998ce89b887bcf52",
       "version_major": 2,
       "version_minor": 0
      },
      "text/plain": [
       "Processing Channels (T=0):   0%|          | 0/6 [00:00<?, ?it/s]"
      ]
     },
     "metadata": {},
     "output_type": "display_data"
    },
    {
     "name": "stdout",
     "output_type": "stream",
     "text": [
      "Final image volume shape: (1, 6, 3, 6911, 6911)\n",
      "Saved Zarr array successfully to /mnt/DATA3/BPP0050/BPP0050-1-Live-cell-to4i_Fixed_Cy1__2025-04-14T16_57_11-Measurement 1/acquisition/zarr/(2, 4).zarr\n"
     ]
    },
    {
     "data": {
      "application/vnd.jupyter.widget-view+json": {
       "model_id": "557dcc1b13e04eefba6d77a735865214",
       "version_major": 2,
       "version_minor": 0
      },
      "text/plain": [
       "Processing Time Points:   0%|          | 0/1 [00:00<?, ?it/s]"
      ]
     },
     "metadata": {},
     "output_type": "display_data"
    },
    {
     "data": {
      "application/vnd.jupyter.widget-view+json": {
       "model_id": "8cb9d5b754a94563b174a080c1409810",
       "version_major": 2,
       "version_minor": 0
      },
      "text/plain": [
       "Processing Channels (T=0):   0%|          | 0/6 [00:00<?, ?it/s]"
      ]
     },
     "metadata": {},
     "output_type": "display_data"
    },
    {
     "name": "stdout",
     "output_type": "stream",
     "text": [
      "Final image volume shape: (1, 6, 3, 6911, 6911)\n",
      "Saved Zarr array successfully to /mnt/DATA3/BPP0050/BPP0050-1-Live-cell-to4i_Fixed_Cy1__2025-04-14T16_57_11-Measurement 1/acquisition/zarr/(2, 5).zarr\n"
     ]
    },
    {
     "data": {
      "application/vnd.jupyter.widget-view+json": {
       "model_id": "385c16b08b2b40f29b9791fa6dee1e02",
       "version_major": 2,
       "version_minor": 0
      },
      "text/plain": [
       "Processing Time Points:   0%|          | 0/1 [00:00<?, ?it/s]"
      ]
     },
     "metadata": {},
     "output_type": "display_data"
    },
    {
     "data": {
      "application/vnd.jupyter.widget-view+json": {
       "model_id": "94e0d93ef4de471ea2c7ed0bf958a1b9",
       "version_major": 2,
       "version_minor": 0
      },
      "text/plain": [
       "Processing Channels (T=0):   0%|          | 0/6 [00:00<?, ?it/s]"
      ]
     },
     "metadata": {},
     "output_type": "display_data"
    },
    {
     "name": "stdout",
     "output_type": "stream",
     "text": [
      "Final image volume shape: (1, 6, 3, 6911, 6911)\n",
      "Saved Zarr array successfully to /mnt/DATA3/BPP0050/BPP0050-1-Live-cell-to4i_Fixed_Cy1__2025-04-14T16_57_11-Measurement 1/acquisition/zarr/(2, 6).zarr\n"
     ]
    },
    {
     "data": {
      "application/vnd.jupyter.widget-view+json": {
       "model_id": "44be89fd3bac40679d53287210497fdd",
       "version_major": 2,
       "version_minor": 0
      },
      "text/plain": [
       "Processing Time Points:   0%|          | 0/1 [00:00<?, ?it/s]"
      ]
     },
     "metadata": {},
     "output_type": "display_data"
    },
    {
     "data": {
      "application/vnd.jupyter.widget-view+json": {
       "model_id": "e0ed1fd89a1a45ac8d0e937dd51875c4",
       "version_major": 2,
       "version_minor": 0
      },
      "text/plain": [
       "Processing Channels (T=0):   0%|          | 0/6 [00:00<?, ?it/s]"
      ]
     },
     "metadata": {},
     "output_type": "display_data"
    },
    {
     "name": "stdout",
     "output_type": "stream",
     "text": [
      "Final image volume shape: (1, 6, 3, 6911, 6911)\n",
      "Saved Zarr array successfully to /mnt/DATA3/BPP0050/BPP0050-1-Live-cell-to4i_Fixed_Cy1__2025-04-14T16_57_11-Measurement 1/acquisition/zarr/(2, 7).zarr\n"
     ]
    },
    {
     "data": {
      "application/vnd.jupyter.widget-view+json": {
       "model_id": "e4e8d4d3e03b4e41b5f4b214bcda00eb",
       "version_major": 2,
       "version_minor": 0
      },
      "text/plain": [
       "Processing Time Points:   0%|          | 0/1 [00:00<?, ?it/s]"
      ]
     },
     "metadata": {},
     "output_type": "display_data"
    },
    {
     "data": {
      "application/vnd.jupyter.widget-view+json": {
       "model_id": "2f622768c23b4fbcb2cbaa46d4f53493",
       "version_major": 2,
       "version_minor": 0
      },
      "text/plain": [
       "Processing Channels (T=0):   0%|          | 0/6 [00:00<?, ?it/s]"
      ]
     },
     "metadata": {},
     "output_type": "display_data"
    },
    {
     "name": "stdout",
     "output_type": "stream",
     "text": [
      "Final image volume shape: (1, 6, 3, 6911, 6911)\n",
      "Saved Zarr array successfully to /mnt/DATA3/BPP0050/BPP0050-1-Live-cell-to4i_Fixed_Cy1__2025-04-14T16_57_11-Measurement 1/acquisition/zarr/(2, 8).zarr\n"
     ]
    },
    {
     "data": {
      "application/vnd.jupyter.widget-view+json": {
       "model_id": "b0fdb83fbef14d5fae0775bbc0af1d4c",
       "version_major": 2,
       "version_minor": 0
      },
      "text/plain": [
       "Processing Time Points:   0%|          | 0/1 [00:00<?, ?it/s]"
      ]
     },
     "metadata": {},
     "output_type": "display_data"
    },
    {
     "data": {
      "application/vnd.jupyter.widget-view+json": {
       "model_id": "dea2d60429fc43e2880f44549101048c",
       "version_major": 2,
       "version_minor": 0
      },
      "text/plain": [
       "Processing Channels (T=0):   0%|          | 0/6 [00:00<?, ?it/s]"
      ]
     },
     "metadata": {},
     "output_type": "display_data"
    },
    {
     "name": "stdout",
     "output_type": "stream",
     "text": [
      "Final image volume shape: (1, 6, 3, 6911, 6911)\n",
      "Saved Zarr array successfully to /mnt/DATA3/BPP0050/BPP0050-1-Live-cell-to4i_Fixed_Cy1__2025-04-14T16_57_11-Measurement 1/acquisition/zarr/(3, 2).zarr\n"
     ]
    },
    {
     "data": {
      "application/vnd.jupyter.widget-view+json": {
       "model_id": "9c56db04e3f8444a9615467a8152af52",
       "version_major": 2,
       "version_minor": 0
      },
      "text/plain": [
       "Processing Time Points:   0%|          | 0/1 [00:00<?, ?it/s]"
      ]
     },
     "metadata": {},
     "output_type": "display_data"
    },
    {
     "data": {
      "application/vnd.jupyter.widget-view+json": {
       "model_id": "5583c595507c4bbfb99714e512cefc98",
       "version_major": 2,
       "version_minor": 0
      },
      "text/plain": [
       "Processing Channels (T=0):   0%|          | 0/6 [00:00<?, ?it/s]"
      ]
     },
     "metadata": {},
     "output_type": "display_data"
    },
    {
     "name": "stdout",
     "output_type": "stream",
     "text": [
      "Final image volume shape: (1, 6, 3, 6911, 6911)\n",
      "Saved Zarr array successfully to /mnt/DATA3/BPP0050/BPP0050-1-Live-cell-to4i_Fixed_Cy1__2025-04-14T16_57_11-Measurement 1/acquisition/zarr/(3, 3).zarr\n"
     ]
    },
    {
     "data": {
      "application/vnd.jupyter.widget-view+json": {
       "model_id": "311d04e4082c4e638c029e8d1d4ad568",
       "version_major": 2,
       "version_minor": 0
      },
      "text/plain": [
       "Processing Time Points:   0%|          | 0/1 [00:00<?, ?it/s]"
      ]
     },
     "metadata": {},
     "output_type": "display_data"
    },
    {
     "data": {
      "application/vnd.jupyter.widget-view+json": {
       "model_id": "7f6c1a5450e5482ab0967d76762f243e",
       "version_major": 2,
       "version_minor": 0
      },
      "text/plain": [
       "Processing Channels (T=0):   0%|          | 0/6 [00:00<?, ?it/s]"
      ]
     },
     "metadata": {},
     "output_type": "display_data"
    },
    {
     "name": "stdout",
     "output_type": "stream",
     "text": [
      "Final image volume shape: (1, 6, 3, 6911, 6911)\n",
      "Saved Zarr array successfully to /mnt/DATA3/BPP0050/BPP0050-1-Live-cell-to4i_Fixed_Cy1__2025-04-14T16_57_11-Measurement 1/acquisition/zarr/(3, 4).zarr\n"
     ]
    },
    {
     "data": {
      "application/vnd.jupyter.widget-view+json": {
       "model_id": "b1bc4975ffc24ffa8616bc76aa452ffa",
       "version_major": 2,
       "version_minor": 0
      },
      "text/plain": [
       "Processing Time Points:   0%|          | 0/1 [00:00<?, ?it/s]"
      ]
     },
     "metadata": {},
     "output_type": "display_data"
    },
    {
     "data": {
      "application/vnd.jupyter.widget-view+json": {
       "model_id": "4d058fe5f5a14197a82eaa0757540304",
       "version_major": 2,
       "version_minor": 0
      },
      "text/plain": [
       "Processing Channels (T=0):   0%|          | 0/6 [00:00<?, ?it/s]"
      ]
     },
     "metadata": {},
     "output_type": "display_data"
    },
    {
     "name": "stdout",
     "output_type": "stream",
     "text": [
      "Final image volume shape: (1, 6, 3, 6911, 6911)\n",
      "Saved Zarr array successfully to /mnt/DATA3/BPP0050/BPP0050-1-Live-cell-to4i_Fixed_Cy1__2025-04-14T16_57_11-Measurement 1/acquisition/zarr/(3, 5).zarr\n"
     ]
    },
    {
     "data": {
      "application/vnd.jupyter.widget-view+json": {
       "model_id": "c03ef49eab424eb3850bc07a4ffa3c17",
       "version_major": 2,
       "version_minor": 0
      },
      "text/plain": [
       "Processing Time Points:   0%|          | 0/1 [00:00<?, ?it/s]"
      ]
     },
     "metadata": {},
     "output_type": "display_data"
    },
    {
     "data": {
      "application/vnd.jupyter.widget-view+json": {
       "model_id": "cc658dc382eb43fdbfcbd2393358985b",
       "version_major": 2,
       "version_minor": 0
      },
      "text/plain": [
       "Processing Channels (T=0):   0%|          | 0/6 [00:00<?, ?it/s]"
      ]
     },
     "metadata": {},
     "output_type": "display_data"
    },
    {
     "name": "stdout",
     "output_type": "stream",
     "text": [
      "Final image volume shape: (1, 6, 3, 6911, 6911)\n",
      "Saved Zarr array successfully to /mnt/DATA3/BPP0050/BPP0050-1-Live-cell-to4i_Fixed_Cy1__2025-04-14T16_57_11-Measurement 1/acquisition/zarr/(3, 6).zarr\n"
     ]
    },
    {
     "data": {
      "application/vnd.jupyter.widget-view+json": {
       "model_id": "8ff7f6f29549401ca2ac96a9608e810b",
       "version_major": 2,
       "version_minor": 0
      },
      "text/plain": [
       "Processing Time Points:   0%|          | 0/1 [00:00<?, ?it/s]"
      ]
     },
     "metadata": {},
     "output_type": "display_data"
    },
    {
     "data": {
      "application/vnd.jupyter.widget-view+json": {
       "model_id": "6a996e46f226471f811bbae99e5b897d",
       "version_major": 2,
       "version_minor": 0
      },
      "text/plain": [
       "Processing Channels (T=0):   0%|          | 0/6 [00:00<?, ?it/s]"
      ]
     },
     "metadata": {},
     "output_type": "display_data"
    },
    {
     "name": "stdout",
     "output_type": "stream",
     "text": [
      "Final image volume shape: (1, 6, 3, 6911, 6911)\n",
      "Saved Zarr array successfully to /mnt/DATA3/BPP0050/BPP0050-1-Live-cell-to4i_Fixed_Cy1__2025-04-14T16_57_11-Measurement 1/acquisition/zarr/(3, 7).zarr\n"
     ]
    },
    {
     "data": {
      "application/vnd.jupyter.widget-view+json": {
       "model_id": "0483e7859e5c468ebe9b15ee77f8efb9",
       "version_major": 2,
       "version_minor": 0
      },
      "text/plain": [
       "Processing Time Points:   0%|          | 0/1 [00:00<?, ?it/s]"
      ]
     },
     "metadata": {},
     "output_type": "display_data"
    },
    {
     "data": {
      "application/vnd.jupyter.widget-view+json": {
       "model_id": "e45993cc165d417795b2fa5d5c592cfe",
       "version_major": 2,
       "version_minor": 0
      },
      "text/plain": [
       "Processing Channels (T=0):   0%|          | 0/6 [00:00<?, ?it/s]"
      ]
     },
     "metadata": {},
     "output_type": "display_data"
    },
    {
     "name": "stdout",
     "output_type": "stream",
     "text": [
      "Final image volume shape: (1, 6, 3, 6911, 6911)\n",
      "Saved Zarr array successfully to /mnt/DATA3/BPP0050/BPP0050-1-Live-cell-to4i_Fixed_Cy1__2025-04-14T16_57_11-Measurement 1/acquisition/zarr/(3, 8).zarr\n"
     ]
    },
    {
     "data": {
      "application/vnd.jupyter.widget-view+json": {
       "model_id": "95c8a3aa86e542d6972e5ba1d6c59b74",
       "version_major": 2,
       "version_minor": 0
      },
      "text/plain": [
       "Processing Time Points:   0%|          | 0/1 [00:00<?, ?it/s]"
      ]
     },
     "metadata": {},
     "output_type": "display_data"
    },
    {
     "data": {
      "application/vnd.jupyter.widget-view+json": {
       "model_id": "ad47189abcfe49faaefada55f53bdb68",
       "version_major": 2,
       "version_minor": 0
      },
      "text/plain": [
       "Processing Channels (T=0):   0%|          | 0/6 [00:00<?, ?it/s]"
      ]
     },
     "metadata": {},
     "output_type": "display_data"
    },
    {
     "name": "stdout",
     "output_type": "stream",
     "text": [
      "Final image volume shape: (1, 6, 3, 6911, 6911)\n",
      "Saved Zarr array successfully to /mnt/DATA3/BPP0050/BPP0050-1-Live-cell-to4i_Fixed_Cy1__2025-04-14T16_57_11-Measurement 1/acquisition/zarr/(3, 9).zarr\n"
     ]
    },
    {
     "data": {
      "application/vnd.jupyter.widget-view+json": {
       "model_id": "5ad7145f8961486994ddd556dc779826",
       "version_major": 2,
       "version_minor": 0
      },
      "text/plain": [
       "Processing Time Points:   0%|          | 0/1 [00:00<?, ?it/s]"
      ]
     },
     "metadata": {},
     "output_type": "display_data"
    },
    {
     "data": {
      "application/vnd.jupyter.widget-view+json": {
       "model_id": "0c8729d85ea647489a54c5d26a223d77",
       "version_major": 2,
       "version_minor": 0
      },
      "text/plain": [
       "Processing Channels (T=0):   0%|          | 0/6 [00:00<?, ?it/s]"
      ]
     },
     "metadata": {},
     "output_type": "display_data"
    },
    {
     "name": "stdout",
     "output_type": "stream",
     "text": [
      "Final image volume shape: (1, 6, 3, 6911, 6911)\n",
      "Saved Zarr array successfully to /mnt/DATA3/BPP0050/BPP0050-1-Live-cell-to4i_Fixed_Cy1__2025-04-14T16_57_11-Measurement 1/acquisition/zarr/(4, 4).zarr\n"
     ]
    },
    {
     "data": {
      "application/vnd.jupyter.widget-view+json": {
       "model_id": "bdc3a88b122a4ffaaf76abac829c3964",
       "version_major": 2,
       "version_minor": 0
      },
      "text/plain": [
       "Processing Time Points:   0%|          | 0/1 [00:00<?, ?it/s]"
      ]
     },
     "metadata": {},
     "output_type": "display_data"
    },
    {
     "data": {
      "application/vnd.jupyter.widget-view+json": {
       "model_id": "1a19f49078034fd4bfe7a22156615552",
       "version_major": 2,
       "version_minor": 0
      },
      "text/plain": [
       "Processing Channels (T=0):   0%|          | 0/6 [00:00<?, ?it/s]"
      ]
     },
     "metadata": {},
     "output_type": "display_data"
    },
    {
     "name": "stdout",
     "output_type": "stream",
     "text": [
      "Final image volume shape: (1, 6, 3, 6911, 6911)\n",
      "Saved Zarr array successfully to /mnt/DATA3/BPP0050/BPP0050-1-Live-cell-to4i_Fixed_Cy1__2025-04-14T16_57_11-Measurement 1/acquisition/zarr/(4, 5).zarr\n"
     ]
    },
    {
     "data": {
      "application/vnd.jupyter.widget-view+json": {
       "model_id": "c941804aea7c44e09879f33310237afa",
       "version_major": 2,
       "version_minor": 0
      },
      "text/plain": [
       "Processing Time Points:   0%|          | 0/1 [00:00<?, ?it/s]"
      ]
     },
     "metadata": {},
     "output_type": "display_data"
    },
    {
     "data": {
      "application/vnd.jupyter.widget-view+json": {
       "model_id": "9f999313beed4ce29864953be23f89b2",
       "version_major": 2,
       "version_minor": 0
      },
      "text/plain": [
       "Processing Channels (T=0):   0%|          | 0/6 [00:00<?, ?it/s]"
      ]
     },
     "metadata": {},
     "output_type": "display_data"
    },
    {
     "name": "stdout",
     "output_type": "stream",
     "text": [
      "Final image volume shape: (1, 6, 3, 6911, 6911)\n",
      "Saved Zarr array successfully to /mnt/DATA3/BPP0050/BPP0050-1-Live-cell-to4i_Fixed_Cy1__2025-04-14T16_57_11-Measurement 1/acquisition/zarr/(4, 6).zarr\n"
     ]
    },
    {
     "data": {
      "application/vnd.jupyter.widget-view+json": {
       "model_id": "a9368d4327174fc4a4981886cf06bd02",
       "version_major": 2,
       "version_minor": 0
      },
      "text/plain": [
       "Processing Time Points:   0%|          | 0/1 [00:00<?, ?it/s]"
      ]
     },
     "metadata": {},
     "output_type": "display_data"
    },
    {
     "data": {
      "application/vnd.jupyter.widget-view+json": {
       "model_id": "2ee237d146d241ae85b15733101da8aa",
       "version_major": 2,
       "version_minor": 0
      },
      "text/plain": [
       "Processing Channels (T=0):   0%|          | 0/6 [00:00<?, ?it/s]"
      ]
     },
     "metadata": {},
     "output_type": "display_data"
    },
    {
     "name": "stdout",
     "output_type": "stream",
     "text": [
      "Final image volume shape: (1, 6, 3, 6911, 6911)\n",
      "Saved Zarr array successfully to /mnt/DATA3/BPP0050/BPP0050-1-Live-cell-to4i_Fixed_Cy1__2025-04-14T16_57_11-Measurement 1/acquisition/zarr/(4, 7).zarr\n"
     ]
    },
    {
     "data": {
      "application/vnd.jupyter.widget-view+json": {
       "model_id": "b844173590934bb586089d16fd78f504",
       "version_major": 2,
       "version_minor": 0
      },
      "text/plain": [
       "Processing Time Points:   0%|          | 0/1 [00:00<?, ?it/s]"
      ]
     },
     "metadata": {},
     "output_type": "display_data"
    },
    {
     "data": {
      "application/vnd.jupyter.widget-view+json": {
       "model_id": "ea0df6b23776451ea41f395649a1c5eb",
       "version_major": 2,
       "version_minor": 0
      },
      "text/plain": [
       "Processing Channels (T=0):   0%|          | 0/6 [00:00<?, ?it/s]"
      ]
     },
     "metadata": {},
     "output_type": "display_data"
    },
    {
     "name": "stdout",
     "output_type": "stream",
     "text": [
      "Final image volume shape: (1, 6, 3, 6911, 6911)\n",
      "Saved Zarr array successfully to /mnt/DATA3/BPP0050/BPP0050-1-Live-cell-to4i_Fixed_Cy1__2025-04-14T16_57_11-Measurement 1/acquisition/zarr/(4, 8).zarr\n"
     ]
    },
    {
     "data": {
      "application/vnd.jupyter.widget-view+json": {
       "model_id": "3f15ca77da7b46c2a58add5f61a4f612",
       "version_major": 2,
       "version_minor": 0
      },
      "text/plain": [
       "Processing Time Points:   0%|          | 0/1 [00:00<?, ?it/s]"
      ]
     },
     "metadata": {},
     "output_type": "display_data"
    },
    {
     "data": {
      "application/vnd.jupyter.widget-view+json": {
       "model_id": "ea8e128eb452435fa9b9bdf35c47befd",
       "version_major": 2,
       "version_minor": 0
      },
      "text/plain": [
       "Processing Channels (T=0):   0%|          | 0/6 [00:00<?, ?it/s]"
      ]
     },
     "metadata": {},
     "output_type": "display_data"
    },
    {
     "name": "stdout",
     "output_type": "stream",
     "text": [
      "Final image volume shape: (1, 6, 3, 6911, 6911)\n",
      "Saved Zarr array successfully to /mnt/DATA3/BPP0050/BPP0050-1-Live-cell-to4i_Fixed_Cy1__2025-04-14T16_57_11-Measurement 1/acquisition/zarr/(4, 9).zarr\n"
     ]
    },
    {
     "data": {
      "application/vnd.jupyter.widget-view+json": {
       "model_id": "0de2a8428ae741f0aeb76360e4240334",
       "version_major": 2,
       "version_minor": 0
      },
      "text/plain": [
       "Processing Time Points:   0%|          | 0/1 [00:00<?, ?it/s]"
      ]
     },
     "metadata": {},
     "output_type": "display_data"
    },
    {
     "data": {
      "application/vnd.jupyter.widget-view+json": {
       "model_id": "df64facec710457ba05fc20fdce8e986",
       "version_major": 2,
       "version_minor": 0
      },
      "text/plain": [
       "Processing Channels (T=0):   0%|          | 0/6 [00:00<?, ?it/s]"
      ]
     },
     "metadata": {},
     "output_type": "display_data"
    },
    {
     "name": "stdout",
     "output_type": "stream",
     "text": [
      "Final image volume shape: (1, 6, 3, 6911, 6911)\n",
      "Saved Zarr array successfully to /mnt/DATA3/BPP0050/BPP0050-1-Live-cell-to4i_Fixed_Cy1__2025-04-14T16_57_11-Measurement 1/acquisition/zarr/(5, 4).zarr\n"
     ]
    },
    {
     "data": {
      "application/vnd.jupyter.widget-view+json": {
       "model_id": "faa5e17266cf4d9e8f7cd49c4c6f1a90",
       "version_major": 2,
       "version_minor": 0
      },
      "text/plain": [
       "Processing Time Points:   0%|          | 0/1 [00:00<?, ?it/s]"
      ]
     },
     "metadata": {},
     "output_type": "display_data"
    },
    {
     "data": {
      "application/vnd.jupyter.widget-view+json": {
       "model_id": "bd0956c9889f4fc280df7be58440a296",
       "version_major": 2,
       "version_minor": 0
      },
      "text/plain": [
       "Processing Channels (T=0):   0%|          | 0/6 [00:00<?, ?it/s]"
      ]
     },
     "metadata": {},
     "output_type": "display_data"
    },
    {
     "name": "stdout",
     "output_type": "stream",
     "text": [
      "Final image volume shape: (1, 6, 3, 6911, 6911)\n",
      "Saved Zarr array successfully to /mnt/DATA3/BPP0050/BPP0050-1-Live-cell-to4i_Fixed_Cy1__2025-04-14T16_57_11-Measurement 1/acquisition/zarr/(5, 5).zarr\n",
      "Warning: Less than two unique TimepointIDs found, skipping framerate calculation.\n",
      "OME-Zarr metadata and assay layout saved to: /mnt/DATA3/BPP0050/BPP0050-1-Live-cell-to4i_Fixed_Cy1__2025-04-14T16_57_11-Measurement 1//acquisition/zarr//.zattrs\n",
      "Reading metadata XML file...\n"
     ]
    },
    {
     "name": "stderr",
     "output_type": "stream",
     "text": [
      "/tmp/ipykernel_8701/2682895781.py:152: FutureWarning: errors='ignore' is deprecated and will raise in a future version. Use to_numeric without passing `errors` and catch exceptions explicitly instead\n",
      "  timepoint_abs_times = metadata[['TimepointID', 'AbsTime']].drop_duplicates(subset=['TimepointID']).sort_values(key=lambda x: pd.to_numeric(x, errors='ignore'), by='TimepointID')\n"
     ]
    },
    {
     "data": {
      "application/vnd.jupyter.widget-view+json": {
       "model_id": "8bf0fa48e62d42d080b628425464a6d7",
       "version_major": 2,
       "version_minor": 0
      },
      "text/plain": [
       "0it [00:00, ?it/s]"
      ]
     },
     "metadata": {},
     "output_type": "display_data"
    },
    {
     "name": "stdout",
     "output_type": "stream",
     "text": [
      "Extracting metadata complete!\n"
     ]
    },
    {
     "name": "stderr",
     "output_type": "stream",
     "text": [
      "/tmp/ipykernel_8701/2682895781.py:12: FutureWarning: errors='ignore' is deprecated and will raise in a future version. Use to_numeric without passing `errors` and catch exceptions explicitly instead\n",
      "  metadata = metadata.apply(pd.to_numeric, errors='ignore')\n"
     ]
    },
    {
     "name": "stdout",
     "output_type": "stream",
     "text": [
      "An unexpected error occurred during XML processing: \"['Row', 'Col'] not found in axis\"\n"
     ]
    },
    {
     "data": {
      "application/vnd.jupyter.widget-view+json": {
       "model_id": "c63373d49a614dd2aea3848102068045",
       "version_major": 2,
       "version_minor": 0
      },
      "text/plain": [
       "Now tiling in BPP0050-1-Live-cell-to4i_Fixed_Cy12__2025-04-25T15_48_30-Measurement 1:   0%|          | 0/21 [0…"
      ]
     },
     "metadata": {},
     "output_type": "display_data"
    },
    {
     "data": {
      "application/vnd.jupyter.widget-view+json": {
       "model_id": "b363ba2b49744e93a48bfbbe8f3a5c7b",
       "version_major": 2,
       "version_minor": 0
      },
      "text/plain": [
       "Processing Time Points:   0%|          | 0/1 [00:00<?, ?it/s]"
      ]
     },
     "metadata": {},
     "output_type": "display_data"
    },
    {
     "data": {
      "application/vnd.jupyter.widget-view+json": {
       "model_id": "d1e089e08cf94aeaac5118c01bd78b60",
       "version_major": 2,
       "version_minor": 0
      },
      "text/plain": [
       "Processing Channels (T=0):   0%|          | 0/4 [00:00<?, ?it/s]"
      ]
     },
     "metadata": {},
     "output_type": "display_data"
    },
    {
     "name": "stdout",
     "output_type": "stream",
     "text": [
      "Final image volume shape: (1, 4, 8, 6911, 6911)\n",
      "Saved Zarr array successfully to /mnt/DATA3/BPP0050/BPP0050-1-Live-cell-to4i_Fixed_Cy12__2025-04-25T15_48_30-Measurement 1/acquisition/zarr/(2, 4).zarr\n"
     ]
    },
    {
     "data": {
      "application/vnd.jupyter.widget-view+json": {
       "model_id": "698fa2d936b84d55b04c483a3d254120",
       "version_major": 2,
       "version_minor": 0
      },
      "text/plain": [
       "Processing Time Points:   0%|          | 0/1 [00:00<?, ?it/s]"
      ]
     },
     "metadata": {},
     "output_type": "display_data"
    },
    {
     "data": {
      "application/vnd.jupyter.widget-view+json": {
       "model_id": "f413698671e24ae5bda9da171a940575",
       "version_major": 2,
       "version_minor": 0
      },
      "text/plain": [
       "Processing Channels (T=0):   0%|          | 0/4 [00:00<?, ?it/s]"
      ]
     },
     "metadata": {},
     "output_type": "display_data"
    },
    {
     "name": "stdout",
     "output_type": "stream",
     "text": [
      "Final image volume shape: (1, 4, 8, 6911, 6911)\n",
      "Saved Zarr array successfully to /mnt/DATA3/BPP0050/BPP0050-1-Live-cell-to4i_Fixed_Cy12__2025-04-25T15_48_30-Measurement 1/acquisition/zarr/(2, 5).zarr\n"
     ]
    },
    {
     "data": {
      "application/vnd.jupyter.widget-view+json": {
       "model_id": "ca6560ca1ab24e09a6ffd1e40cd9ddf6",
       "version_major": 2,
       "version_minor": 0
      },
      "text/plain": [
       "Processing Time Points:   0%|          | 0/1 [00:00<?, ?it/s]"
      ]
     },
     "metadata": {},
     "output_type": "display_data"
    },
    {
     "data": {
      "application/vnd.jupyter.widget-view+json": {
       "model_id": "a64bee9f2810490da555c047a227a7ca",
       "version_major": 2,
       "version_minor": 0
      },
      "text/plain": [
       "Processing Channels (T=0):   0%|          | 0/4 [00:00<?, ?it/s]"
      ]
     },
     "metadata": {},
     "output_type": "display_data"
    },
    {
     "name": "stdout",
     "output_type": "stream",
     "text": [
      "Final image volume shape: (1, 4, 8, 6911, 6911)\n",
      "Saved Zarr array successfully to /mnt/DATA3/BPP0050/BPP0050-1-Live-cell-to4i_Fixed_Cy12__2025-04-25T15_48_30-Measurement 1/acquisition/zarr/(2, 6).zarr\n"
     ]
    },
    {
     "data": {
      "application/vnd.jupyter.widget-view+json": {
       "model_id": "450d6d672d3c4d77b1e56e064e54b088",
       "version_major": 2,
       "version_minor": 0
      },
      "text/plain": [
       "Processing Time Points:   0%|          | 0/1 [00:00<?, ?it/s]"
      ]
     },
     "metadata": {},
     "output_type": "display_data"
    },
    {
     "data": {
      "application/vnd.jupyter.widget-view+json": {
       "model_id": "6c49f4013a30488f8287f1bc54c61852",
       "version_major": 2,
       "version_minor": 0
      },
      "text/plain": [
       "Processing Channels (T=0):   0%|          | 0/4 [00:00<?, ?it/s]"
      ]
     },
     "metadata": {},
     "output_type": "display_data"
    },
    {
     "name": "stdout",
     "output_type": "stream",
     "text": [
      "Final image volume shape: (1, 4, 8, 6911, 6911)\n",
      "Saved Zarr array successfully to /mnt/DATA3/BPP0050/BPP0050-1-Live-cell-to4i_Fixed_Cy12__2025-04-25T15_48_30-Measurement 1/acquisition/zarr/(2, 7).zarr\n"
     ]
    },
    {
     "data": {
      "application/vnd.jupyter.widget-view+json": {
       "model_id": "a9b699013f9847188c5ef341d9352254",
       "version_major": 2,
       "version_minor": 0
      },
      "text/plain": [
       "Processing Time Points:   0%|          | 0/1 [00:00<?, ?it/s]"
      ]
     },
     "metadata": {},
     "output_type": "display_data"
    },
    {
     "data": {
      "application/vnd.jupyter.widget-view+json": {
       "model_id": "d662111cacd94c6c9e1ea335218ee086",
       "version_major": 2,
       "version_minor": 0
      },
      "text/plain": [
       "Processing Channels (T=0):   0%|          | 0/4 [00:00<?, ?it/s]"
      ]
     },
     "metadata": {},
     "output_type": "display_data"
    },
    {
     "name": "stdout",
     "output_type": "stream",
     "text": [
      "Final image volume shape: (1, 4, 8, 6911, 6911)\n",
      "Saved Zarr array successfully to /mnt/DATA3/BPP0050/BPP0050-1-Live-cell-to4i_Fixed_Cy12__2025-04-25T15_48_30-Measurement 1/acquisition/zarr/(2, 8).zarr\n"
     ]
    },
    {
     "data": {
      "application/vnd.jupyter.widget-view+json": {
       "model_id": "8c32053364e94bc1a642aa4037977522",
       "version_major": 2,
       "version_minor": 0
      },
      "text/plain": [
       "Processing Time Points:   0%|          | 0/1 [00:00<?, ?it/s]"
      ]
     },
     "metadata": {},
     "output_type": "display_data"
    },
    {
     "data": {
      "application/vnd.jupyter.widget-view+json": {
       "model_id": "ebaafd4561204787b9a9a4050989bbc6",
       "version_major": 2,
       "version_minor": 0
      },
      "text/plain": [
       "Processing Channels (T=0):   0%|          | 0/4 [00:00<?, ?it/s]"
      ]
     },
     "metadata": {},
     "output_type": "display_data"
    },
    {
     "name": "stdout",
     "output_type": "stream",
     "text": [
      "Final image volume shape: (1, 4, 8, 6911, 6911)\n",
      "Saved Zarr array successfully to /mnt/DATA3/BPP0050/BPP0050-1-Live-cell-to4i_Fixed_Cy12__2025-04-25T15_48_30-Measurement 1/acquisition/zarr/(3, 2).zarr\n"
     ]
    },
    {
     "data": {
      "application/vnd.jupyter.widget-view+json": {
       "model_id": "ff504e2406524d82b530bbd41319e2fe",
       "version_major": 2,
       "version_minor": 0
      },
      "text/plain": [
       "Processing Time Points:   0%|          | 0/1 [00:00<?, ?it/s]"
      ]
     },
     "metadata": {},
     "output_type": "display_data"
    },
    {
     "data": {
      "application/vnd.jupyter.widget-view+json": {
       "model_id": "6192fb4b246a4b4d951d4b7d33fd6fe4",
       "version_major": 2,
       "version_minor": 0
      },
      "text/plain": [
       "Processing Channels (T=0):   0%|          | 0/4 [00:00<?, ?it/s]"
      ]
     },
     "metadata": {},
     "output_type": "display_data"
    },
    {
     "name": "stdout",
     "output_type": "stream",
     "text": [
      "Final image volume shape: (1, 4, 8, 6911, 6911)\n",
      "Saved Zarr array successfully to /mnt/DATA3/BPP0050/BPP0050-1-Live-cell-to4i_Fixed_Cy12__2025-04-25T15_48_30-Measurement 1/acquisition/zarr/(3, 3).zarr\n"
     ]
    },
    {
     "data": {
      "application/vnd.jupyter.widget-view+json": {
       "model_id": "dbf071feacaa401f900349ed140c5e82",
       "version_major": 2,
       "version_minor": 0
      },
      "text/plain": [
       "Processing Time Points:   0%|          | 0/1 [00:00<?, ?it/s]"
      ]
     },
     "metadata": {},
     "output_type": "display_data"
    },
    {
     "data": {
      "application/vnd.jupyter.widget-view+json": {
       "model_id": "4956f26f3cdb452390f95c574e903737",
       "version_major": 2,
       "version_minor": 0
      },
      "text/plain": [
       "Processing Channels (T=0):   0%|          | 0/4 [00:00<?, ?it/s]"
      ]
     },
     "metadata": {},
     "output_type": "display_data"
    },
    {
     "name": "stdout",
     "output_type": "stream",
     "text": [
      "Final image volume shape: (1, 4, 8, 6911, 6911)\n",
      "Saved Zarr array successfully to /mnt/DATA3/BPP0050/BPP0050-1-Live-cell-to4i_Fixed_Cy12__2025-04-25T15_48_30-Measurement 1/acquisition/zarr/(3, 4).zarr\n"
     ]
    },
    {
     "data": {
      "application/vnd.jupyter.widget-view+json": {
       "model_id": "c0f515a506424596bd74dbe18291441b",
       "version_major": 2,
       "version_minor": 0
      },
      "text/plain": [
       "Processing Time Points:   0%|          | 0/1 [00:00<?, ?it/s]"
      ]
     },
     "metadata": {},
     "output_type": "display_data"
    },
    {
     "data": {
      "application/vnd.jupyter.widget-view+json": {
       "model_id": "9e6b9d02fe2f4f9f85981bd944ef8e60",
       "version_major": 2,
       "version_minor": 0
      },
      "text/plain": [
       "Processing Channels (T=0):   0%|          | 0/4 [00:00<?, ?it/s]"
      ]
     },
     "metadata": {},
     "output_type": "display_data"
    },
    {
     "name": "stdout",
     "output_type": "stream",
     "text": [
      "Final image volume shape: (1, 4, 8, 6911, 6911)\n",
      "Saved Zarr array successfully to /mnt/DATA3/BPP0050/BPP0050-1-Live-cell-to4i_Fixed_Cy12__2025-04-25T15_48_30-Measurement 1/acquisition/zarr/(3, 5).zarr\n"
     ]
    },
    {
     "data": {
      "application/vnd.jupyter.widget-view+json": {
       "model_id": "9c99067750144e95862971c405125a1e",
       "version_major": 2,
       "version_minor": 0
      },
      "text/plain": [
       "Processing Time Points:   0%|          | 0/1 [00:00<?, ?it/s]"
      ]
     },
     "metadata": {},
     "output_type": "display_data"
    },
    {
     "data": {
      "application/vnd.jupyter.widget-view+json": {
       "model_id": "42c6eb2d465347a6a6f1c678e6f6e49e",
       "version_major": 2,
       "version_minor": 0
      },
      "text/plain": [
       "Processing Channels (T=0):   0%|          | 0/4 [00:00<?, ?it/s]"
      ]
     },
     "metadata": {},
     "output_type": "display_data"
    },
    {
     "name": "stdout",
     "output_type": "stream",
     "text": [
      "Final image volume shape: (1, 4, 8, 6911, 6911)\n",
      "Saved Zarr array successfully to /mnt/DATA3/BPP0050/BPP0050-1-Live-cell-to4i_Fixed_Cy12__2025-04-25T15_48_30-Measurement 1/acquisition/zarr/(3, 6).zarr\n"
     ]
    },
    {
     "data": {
      "application/vnd.jupyter.widget-view+json": {
       "model_id": "aea5d1f45c094c5a9f6aad0a07e231b5",
       "version_major": 2,
       "version_minor": 0
      },
      "text/plain": [
       "Processing Time Points:   0%|          | 0/1 [00:00<?, ?it/s]"
      ]
     },
     "metadata": {},
     "output_type": "display_data"
    },
    {
     "data": {
      "application/vnd.jupyter.widget-view+json": {
       "model_id": "755e1cda9b3e4cfc8f255e329e09504f",
       "version_major": 2,
       "version_minor": 0
      },
      "text/plain": [
       "Processing Channels (T=0):   0%|          | 0/4 [00:00<?, ?it/s]"
      ]
     },
     "metadata": {},
     "output_type": "display_data"
    },
    {
     "name": "stdout",
     "output_type": "stream",
     "text": [
      "Final image volume shape: (1, 4, 8, 6911, 6911)\n",
      "Saved Zarr array successfully to /mnt/DATA3/BPP0050/BPP0050-1-Live-cell-to4i_Fixed_Cy12__2025-04-25T15_48_30-Measurement 1/acquisition/zarr/(3, 7).zarr\n"
     ]
    },
    {
     "data": {
      "application/vnd.jupyter.widget-view+json": {
       "model_id": "a058fe0ee7ca470eb239276ce2ae2262",
       "version_major": 2,
       "version_minor": 0
      },
      "text/plain": [
       "Processing Time Points:   0%|          | 0/1 [00:00<?, ?it/s]"
      ]
     },
     "metadata": {},
     "output_type": "display_data"
    },
    {
     "data": {
      "application/vnd.jupyter.widget-view+json": {
       "model_id": "8c4020f5518f496d834dcc7939b62aa1",
       "version_major": 2,
       "version_minor": 0
      },
      "text/plain": [
       "Processing Channels (T=0):   0%|          | 0/4 [00:00<?, ?it/s]"
      ]
     },
     "metadata": {},
     "output_type": "display_data"
    },
    {
     "name": "stdout",
     "output_type": "stream",
     "text": [
      "Final image volume shape: (1, 4, 8, 6911, 6911)\n",
      "Saved Zarr array successfully to /mnt/DATA3/BPP0050/BPP0050-1-Live-cell-to4i_Fixed_Cy12__2025-04-25T15_48_30-Measurement 1/acquisition/zarr/(3, 8).zarr\n"
     ]
    },
    {
     "data": {
      "application/vnd.jupyter.widget-view+json": {
       "model_id": "8a03402126694f85a24751c294011f82",
       "version_major": 2,
       "version_minor": 0
      },
      "text/plain": [
       "Processing Time Points:   0%|          | 0/1 [00:00<?, ?it/s]"
      ]
     },
     "metadata": {},
     "output_type": "display_data"
    },
    {
     "data": {
      "application/vnd.jupyter.widget-view+json": {
       "model_id": "150c1b60fac9428282d04f62ba5c5530",
       "version_major": 2,
       "version_minor": 0
      },
      "text/plain": [
       "Processing Channels (T=0):   0%|          | 0/4 [00:00<?, ?it/s]"
      ]
     },
     "metadata": {},
     "output_type": "display_data"
    },
    {
     "name": "stdout",
     "output_type": "stream",
     "text": [
      "Final image volume shape: (1, 4, 8, 6911, 6911)\n",
      "Saved Zarr array successfully to /mnt/DATA3/BPP0050/BPP0050-1-Live-cell-to4i_Fixed_Cy12__2025-04-25T15_48_30-Measurement 1/acquisition/zarr/(3, 9).zarr\n"
     ]
    },
    {
     "data": {
      "application/vnd.jupyter.widget-view+json": {
       "model_id": "c269aec5363348c39cbde6621f30fef1",
       "version_major": 2,
       "version_minor": 0
      },
      "text/plain": [
       "Processing Time Points:   0%|          | 0/1 [00:00<?, ?it/s]"
      ]
     },
     "metadata": {},
     "output_type": "display_data"
    },
    {
     "data": {
      "application/vnd.jupyter.widget-view+json": {
       "model_id": "addf411cf98d40e9b027023050d1aed0",
       "version_major": 2,
       "version_minor": 0
      },
      "text/plain": [
       "Processing Channels (T=0):   0%|          | 0/4 [00:00<?, ?it/s]"
      ]
     },
     "metadata": {},
     "output_type": "display_data"
    },
    {
     "name": "stdout",
     "output_type": "stream",
     "text": [
      "Final image volume shape: (1, 4, 8, 6911, 6911)\n",
      "Saved Zarr array successfully to /mnt/DATA3/BPP0050/BPP0050-1-Live-cell-to4i_Fixed_Cy12__2025-04-25T15_48_30-Measurement 1/acquisition/zarr/(4, 4).zarr\n"
     ]
    },
    {
     "data": {
      "application/vnd.jupyter.widget-view+json": {
       "model_id": "66141f1770844720bb950bf60da08a93",
       "version_major": 2,
       "version_minor": 0
      },
      "text/plain": [
       "Processing Time Points:   0%|          | 0/1 [00:00<?, ?it/s]"
      ]
     },
     "metadata": {},
     "output_type": "display_data"
    },
    {
     "data": {
      "application/vnd.jupyter.widget-view+json": {
       "model_id": "4ef499dd329e48439ba1d611359e83a0",
       "version_major": 2,
       "version_minor": 0
      },
      "text/plain": [
       "Processing Channels (T=0):   0%|          | 0/4 [00:00<?, ?it/s]"
      ]
     },
     "metadata": {},
     "output_type": "display_data"
    },
    {
     "name": "stdout",
     "output_type": "stream",
     "text": [
      "Final image volume shape: (1, 4, 8, 6911, 6911)\n",
      "Saved Zarr array successfully to /mnt/DATA3/BPP0050/BPP0050-1-Live-cell-to4i_Fixed_Cy12__2025-04-25T15_48_30-Measurement 1/acquisition/zarr/(4, 5).zarr\n"
     ]
    },
    {
     "data": {
      "application/vnd.jupyter.widget-view+json": {
       "model_id": "298cbe4b38ec4f1682694e5049a4a0a0",
       "version_major": 2,
       "version_minor": 0
      },
      "text/plain": [
       "Processing Time Points:   0%|          | 0/1 [00:00<?, ?it/s]"
      ]
     },
     "metadata": {},
     "output_type": "display_data"
    },
    {
     "data": {
      "application/vnd.jupyter.widget-view+json": {
       "model_id": "361da9ff5d434bff8b722becb6ed6c9e",
       "version_major": 2,
       "version_minor": 0
      },
      "text/plain": [
       "Processing Channels (T=0):   0%|          | 0/4 [00:00<?, ?it/s]"
      ]
     },
     "metadata": {},
     "output_type": "display_data"
    },
    {
     "name": "stdout",
     "output_type": "stream",
     "text": [
      "Final image volume shape: (1, 4, 8, 6911, 6911)\n",
      "Saved Zarr array successfully to /mnt/DATA3/BPP0050/BPP0050-1-Live-cell-to4i_Fixed_Cy12__2025-04-25T15_48_30-Measurement 1/acquisition/zarr/(4, 6).zarr\n"
     ]
    },
    {
     "data": {
      "application/vnd.jupyter.widget-view+json": {
       "model_id": "eb032ca97bfb4c4fa1936acefa293b5f",
       "version_major": 2,
       "version_minor": 0
      },
      "text/plain": [
       "Processing Time Points:   0%|          | 0/1 [00:00<?, ?it/s]"
      ]
     },
     "metadata": {},
     "output_type": "display_data"
    },
    {
     "data": {
      "application/vnd.jupyter.widget-view+json": {
       "model_id": "9c33e1366db547d08f82826e5c3bcab0",
       "version_major": 2,
       "version_minor": 0
      },
      "text/plain": [
       "Processing Channels (T=0):   0%|          | 0/4 [00:00<?, ?it/s]"
      ]
     },
     "metadata": {},
     "output_type": "display_data"
    },
    {
     "name": "stdout",
     "output_type": "stream",
     "text": [
      "Final image volume shape: (1, 4, 8, 6911, 6911)\n",
      "Saved Zarr array successfully to /mnt/DATA3/BPP0050/BPP0050-1-Live-cell-to4i_Fixed_Cy12__2025-04-25T15_48_30-Measurement 1/acquisition/zarr/(4, 7).zarr\n"
     ]
    },
    {
     "data": {
      "application/vnd.jupyter.widget-view+json": {
       "model_id": "3ff0bbba7cd448678129186be74c70fa",
       "version_major": 2,
       "version_minor": 0
      },
      "text/plain": [
       "Processing Time Points:   0%|          | 0/1 [00:00<?, ?it/s]"
      ]
     },
     "metadata": {},
     "output_type": "display_data"
    },
    {
     "data": {
      "application/vnd.jupyter.widget-view+json": {
       "model_id": "32daac4361ce44d1a344b57a6a800c85",
       "version_major": 2,
       "version_minor": 0
      },
      "text/plain": [
       "Processing Channels (T=0):   0%|          | 0/4 [00:00<?, ?it/s]"
      ]
     },
     "metadata": {},
     "output_type": "display_data"
    },
    {
     "name": "stdout",
     "output_type": "stream",
     "text": [
      "Final image volume shape: (1, 4, 8, 6911, 6911)\n",
      "Saved Zarr array successfully to /mnt/DATA3/BPP0050/BPP0050-1-Live-cell-to4i_Fixed_Cy12__2025-04-25T15_48_30-Measurement 1/acquisition/zarr/(4, 8).zarr\n"
     ]
    },
    {
     "data": {
      "application/vnd.jupyter.widget-view+json": {
       "model_id": "9ed9ac5ae4b54edebd51bc5907b9d6b4",
       "version_major": 2,
       "version_minor": 0
      },
      "text/plain": [
       "Processing Time Points:   0%|          | 0/1 [00:00<?, ?it/s]"
      ]
     },
     "metadata": {},
     "output_type": "display_data"
    },
    {
     "data": {
      "application/vnd.jupyter.widget-view+json": {
       "model_id": "9053b728a90d4e7fa573d1d58625ea60",
       "version_major": 2,
       "version_minor": 0
      },
      "text/plain": [
       "Processing Channels (T=0):   0%|          | 0/4 [00:00<?, ?it/s]"
      ]
     },
     "metadata": {},
     "output_type": "display_data"
    },
    {
     "name": "stdout",
     "output_type": "stream",
     "text": [
      "Final image volume shape: (1, 4, 8, 6911, 6911)\n",
      "Saved Zarr array successfully to /mnt/DATA3/BPP0050/BPP0050-1-Live-cell-to4i_Fixed_Cy12__2025-04-25T15_48_30-Measurement 1/acquisition/zarr/(4, 9).zarr\n"
     ]
    },
    {
     "data": {
      "application/vnd.jupyter.widget-view+json": {
       "model_id": "89297505a4c84dc7b6193bf9134381f0",
       "version_major": 2,
       "version_minor": 0
      },
      "text/plain": [
       "Processing Time Points:   0%|          | 0/1 [00:00<?, ?it/s]"
      ]
     },
     "metadata": {},
     "output_type": "display_data"
    },
    {
     "data": {
      "application/vnd.jupyter.widget-view+json": {
       "model_id": "54d9e45b891344e080a3f5b8206dcf14",
       "version_major": 2,
       "version_minor": 0
      },
      "text/plain": [
       "Processing Channels (T=0):   0%|          | 0/4 [00:00<?, ?it/s]"
      ]
     },
     "metadata": {},
     "output_type": "display_data"
    },
    {
     "name": "stdout",
     "output_type": "stream",
     "text": [
      "Final image volume shape: (1, 4, 8, 6911, 6911)\n",
      "Saved Zarr array successfully to /mnt/DATA3/BPP0050/BPP0050-1-Live-cell-to4i_Fixed_Cy12__2025-04-25T15_48_30-Measurement 1/acquisition/zarr/(5, 4).zarr\n"
     ]
    },
    {
     "data": {
      "application/vnd.jupyter.widget-view+json": {
       "model_id": "c2e60872948447159fdde8f1fedc82e9",
       "version_major": 2,
       "version_minor": 0
      },
      "text/plain": [
       "Processing Time Points:   0%|          | 0/1 [00:00<?, ?it/s]"
      ]
     },
     "metadata": {},
     "output_type": "display_data"
    },
    {
     "data": {
      "application/vnd.jupyter.widget-view+json": {
       "model_id": "c3298371eb6740248808a0a644c9749d",
       "version_major": 2,
       "version_minor": 0
      },
      "text/plain": [
       "Processing Channels (T=0):   0%|          | 0/4 [00:00<?, ?it/s]"
      ]
     },
     "metadata": {},
     "output_type": "display_data"
    },
    {
     "name": "stdout",
     "output_type": "stream",
     "text": [
      "Final image volume shape: (1, 4, 8, 6911, 6911)\n",
      "Saved Zarr array successfully to /mnt/DATA3/BPP0050/BPP0050-1-Live-cell-to4i_Fixed_Cy12__2025-04-25T15_48_30-Measurement 1/acquisition/zarr/(5, 5).zarr\n",
      "Warning: Less than two unique TimepointIDs found, skipping framerate calculation.\n",
      "OME-Zarr metadata and assay layout saved to: /mnt/DATA3/BPP0050/BPP0050-1-Live-cell-to4i_Fixed_Cy12__2025-04-25T15_48_30-Measurement 1//acquisition/zarr//.zattrs\n",
      "Reading metadata XML file...\n"
     ]
    },
    {
     "name": "stderr",
     "output_type": "stream",
     "text": [
      "/tmp/ipykernel_8701/2682895781.py:152: FutureWarning: errors='ignore' is deprecated and will raise in a future version. Use to_numeric without passing `errors` and catch exceptions explicitly instead\n",
      "  timepoint_abs_times = metadata[['TimepointID', 'AbsTime']].drop_duplicates(subset=['TimepointID']).sort_values(key=lambda x: pd.to_numeric(x, errors='ignore'), by='TimepointID')\n"
     ]
    },
    {
     "data": {
      "application/vnd.jupyter.widget-view+json": {
       "model_id": "cdaefb4445a4471094f309dcb93b075d",
       "version_major": 2,
       "version_minor": 0
      },
      "text/plain": [
       "0it [00:00, ?it/s]"
      ]
     },
     "metadata": {},
     "output_type": "display_data"
    },
    {
     "name": "stdout",
     "output_type": "stream",
     "text": [
      "Extracting metadata complete!\n"
     ]
    },
    {
     "name": "stderr",
     "output_type": "stream",
     "text": [
      "/tmp/ipykernel_8701/2682895781.py:12: FutureWarning: errors='ignore' is deprecated and will raise in a future version. Use to_numeric without passing `errors` and catch exceptions explicitly instead\n",
      "  metadata = metadata.apply(pd.to_numeric, errors='ignore')\n"
     ]
    },
    {
     "name": "stdout",
     "output_type": "stream",
     "text": [
      "An unexpected error occurred during XML processing: \"['Row', 'Col'] not found in axis\"\n"
     ]
    },
    {
     "data": {
      "application/vnd.jupyter.widget-view+json": {
       "model_id": "72a8fecd6b2f4263884e0ff9a590fffa",
       "version_major": 2,
       "version_minor": 0
      },
      "text/plain": [
       "Now tiling in BPP0050-1-Live-cell-to4i_Fixed_Cy3__2025-04-16T16_15_21-Measurement 1:   0%|          | 0/21 [00…"
      ]
     },
     "metadata": {},
     "output_type": "display_data"
    },
    {
     "data": {
      "application/vnd.jupyter.widget-view+json": {
       "model_id": "518b5a935bc24f2c81550705b204fabe",
       "version_major": 2,
       "version_minor": 0
      },
      "text/plain": [
       "Processing Time Points:   0%|          | 0/1 [00:00<?, ?it/s]"
      ]
     },
     "metadata": {},
     "output_type": "display_data"
    },
    {
     "data": {
      "application/vnd.jupyter.widget-view+json": {
       "model_id": "a1bfe133c8b74245b7a4813e6210e052",
       "version_major": 2,
       "version_minor": 0
      },
      "text/plain": [
       "Processing Channels (T=0):   0%|          | 0/4 [00:00<?, ?it/s]"
      ]
     },
     "metadata": {},
     "output_type": "display_data"
    },
    {
     "name": "stdout",
     "output_type": "stream",
     "text": [
      "Final image volume shape: (1, 4, 8, 6911, 6911)\n",
      "Saved Zarr array successfully to /mnt/DATA3/BPP0050/BPP0050-1-Live-cell-to4i_Fixed_Cy3__2025-04-16T16_15_21-Measurement 1/acquisition/zarr/(2, 4).zarr\n"
     ]
    },
    {
     "data": {
      "application/vnd.jupyter.widget-view+json": {
       "model_id": "e7291b8d6c4f4841b2b8e431b8f9acc4",
       "version_major": 2,
       "version_minor": 0
      },
      "text/plain": [
       "Processing Time Points:   0%|          | 0/1 [00:00<?, ?it/s]"
      ]
     },
     "metadata": {},
     "output_type": "display_data"
    },
    {
     "data": {
      "application/vnd.jupyter.widget-view+json": {
       "model_id": "bd2d701f04f54cb1a9219802903713b9",
       "version_major": 2,
       "version_minor": 0
      },
      "text/plain": [
       "Processing Channels (T=0):   0%|          | 0/4 [00:00<?, ?it/s]"
      ]
     },
     "metadata": {},
     "output_type": "display_data"
    },
    {
     "name": "stdout",
     "output_type": "stream",
     "text": [
      "Final image volume shape: (1, 4, 8, 6911, 6911)\n",
      "Saved Zarr array successfully to /mnt/DATA3/BPP0050/BPP0050-1-Live-cell-to4i_Fixed_Cy3__2025-04-16T16_15_21-Measurement 1/acquisition/zarr/(2, 5).zarr\n"
     ]
    },
    {
     "data": {
      "application/vnd.jupyter.widget-view+json": {
       "model_id": "c70d00ee97f349e085c7d5b23e14ca0e",
       "version_major": 2,
       "version_minor": 0
      },
      "text/plain": [
       "Processing Time Points:   0%|          | 0/1 [00:00<?, ?it/s]"
      ]
     },
     "metadata": {},
     "output_type": "display_data"
    },
    {
     "data": {
      "application/vnd.jupyter.widget-view+json": {
       "model_id": "3148d0e51c154cbf9f58bb51d7e0228c",
       "version_major": 2,
       "version_minor": 0
      },
      "text/plain": [
       "Processing Channels (T=0):   0%|          | 0/4 [00:00<?, ?it/s]"
      ]
     },
     "metadata": {},
     "output_type": "display_data"
    },
    {
     "name": "stdout",
     "output_type": "stream",
     "text": [
      "Final image volume shape: (1, 4, 8, 6911, 6911)\n",
      "Saved Zarr array successfully to /mnt/DATA3/BPP0050/BPP0050-1-Live-cell-to4i_Fixed_Cy3__2025-04-16T16_15_21-Measurement 1/acquisition/zarr/(2, 6).zarr\n"
     ]
    },
    {
     "data": {
      "application/vnd.jupyter.widget-view+json": {
       "model_id": "db05ad9a084947c880070a122d50525c",
       "version_major": 2,
       "version_minor": 0
      },
      "text/plain": [
       "Processing Time Points:   0%|          | 0/1 [00:00<?, ?it/s]"
      ]
     },
     "metadata": {},
     "output_type": "display_data"
    },
    {
     "data": {
      "application/vnd.jupyter.widget-view+json": {
       "model_id": "4d635d1720b845b786600a2248c63cbc",
       "version_major": 2,
       "version_minor": 0
      },
      "text/plain": [
       "Processing Channels (T=0):   0%|          | 0/4 [00:00<?, ?it/s]"
      ]
     },
     "metadata": {},
     "output_type": "display_data"
    },
    {
     "name": "stdout",
     "output_type": "stream",
     "text": [
      "Final image volume shape: (1, 4, 8, 6911, 6911)\n",
      "Saved Zarr array successfully to /mnt/DATA3/BPP0050/BPP0050-1-Live-cell-to4i_Fixed_Cy3__2025-04-16T16_15_21-Measurement 1/acquisition/zarr/(2, 7).zarr\n"
     ]
    },
    {
     "data": {
      "application/vnd.jupyter.widget-view+json": {
       "model_id": "791eec1f89e747f19ffdd939cb62d3d8",
       "version_major": 2,
       "version_minor": 0
      },
      "text/plain": [
       "Processing Time Points:   0%|          | 0/1 [00:00<?, ?it/s]"
      ]
     },
     "metadata": {},
     "output_type": "display_data"
    },
    {
     "data": {
      "application/vnd.jupyter.widget-view+json": {
       "model_id": "d29bfe556d7348f3a6c1bb1650b8518f",
       "version_major": 2,
       "version_minor": 0
      },
      "text/plain": [
       "Processing Channels (T=0):   0%|          | 0/4 [00:00<?, ?it/s]"
      ]
     },
     "metadata": {},
     "output_type": "display_data"
    },
    {
     "name": "stdout",
     "output_type": "stream",
     "text": [
      "Final image volume shape: (1, 4, 8, 6911, 6911)\n",
      "Saved Zarr array successfully to /mnt/DATA3/BPP0050/BPP0050-1-Live-cell-to4i_Fixed_Cy3__2025-04-16T16_15_21-Measurement 1/acquisition/zarr/(2, 8).zarr\n"
     ]
    },
    {
     "data": {
      "application/vnd.jupyter.widget-view+json": {
       "model_id": "a9d324f59070476c9d4bcdd2ec387db1",
       "version_major": 2,
       "version_minor": 0
      },
      "text/plain": [
       "Processing Time Points:   0%|          | 0/1 [00:00<?, ?it/s]"
      ]
     },
     "metadata": {},
     "output_type": "display_data"
    },
    {
     "data": {
      "application/vnd.jupyter.widget-view+json": {
       "model_id": "102cf03048394f52888fa5b8740fb8fc",
       "version_major": 2,
       "version_minor": 0
      },
      "text/plain": [
       "Processing Channels (T=0):   0%|          | 0/4 [00:00<?, ?it/s]"
      ]
     },
     "metadata": {},
     "output_type": "display_data"
    },
    {
     "name": "stdout",
     "output_type": "stream",
     "text": [
      "Final image volume shape: (1, 4, 8, 6911, 6911)\n",
      "Saved Zarr array successfully to /mnt/DATA3/BPP0050/BPP0050-1-Live-cell-to4i_Fixed_Cy3__2025-04-16T16_15_21-Measurement 1/acquisition/zarr/(3, 2).zarr\n"
     ]
    },
    {
     "data": {
      "application/vnd.jupyter.widget-view+json": {
       "model_id": "8b7ae2e92d44402487744a031e725523",
       "version_major": 2,
       "version_minor": 0
      },
      "text/plain": [
       "Processing Time Points:   0%|          | 0/1 [00:00<?, ?it/s]"
      ]
     },
     "metadata": {},
     "output_type": "display_data"
    },
    {
     "data": {
      "application/vnd.jupyter.widget-view+json": {
       "model_id": "23bd8d0b2b8f45339cb1e53afb60af5b",
       "version_major": 2,
       "version_minor": 0
      },
      "text/plain": [
       "Processing Channels (T=0):   0%|          | 0/4 [00:00<?, ?it/s]"
      ]
     },
     "metadata": {},
     "output_type": "display_data"
    },
    {
     "name": "stdout",
     "output_type": "stream",
     "text": [
      "Final image volume shape: (1, 4, 8, 6911, 6911)\n",
      "Saved Zarr array successfully to /mnt/DATA3/BPP0050/BPP0050-1-Live-cell-to4i_Fixed_Cy3__2025-04-16T16_15_21-Measurement 1/acquisition/zarr/(3, 3).zarr\n"
     ]
    },
    {
     "data": {
      "application/vnd.jupyter.widget-view+json": {
       "model_id": "a309ebd4456742bf820cfc7115803d80",
       "version_major": 2,
       "version_minor": 0
      },
      "text/plain": [
       "Processing Time Points:   0%|          | 0/1 [00:00<?, ?it/s]"
      ]
     },
     "metadata": {},
     "output_type": "display_data"
    },
    {
     "data": {
      "application/vnd.jupyter.widget-view+json": {
       "model_id": "872bb63fe6754423b3cd46572abbd1ee",
       "version_major": 2,
       "version_minor": 0
      },
      "text/plain": [
       "Processing Channels (T=0):   0%|          | 0/4 [00:00<?, ?it/s]"
      ]
     },
     "metadata": {},
     "output_type": "display_data"
    },
    {
     "name": "stdout",
     "output_type": "stream",
     "text": [
      "Final image volume shape: (1, 4, 8, 6911, 6911)\n",
      "Saved Zarr array successfully to /mnt/DATA3/BPP0050/BPP0050-1-Live-cell-to4i_Fixed_Cy3__2025-04-16T16_15_21-Measurement 1/acquisition/zarr/(3, 4).zarr\n"
     ]
    },
    {
     "data": {
      "application/vnd.jupyter.widget-view+json": {
       "model_id": "ec1416a90b654a6eb4295c757f670bf1",
       "version_major": 2,
       "version_minor": 0
      },
      "text/plain": [
       "Processing Time Points:   0%|          | 0/1 [00:00<?, ?it/s]"
      ]
     },
     "metadata": {},
     "output_type": "display_data"
    },
    {
     "data": {
      "application/vnd.jupyter.widget-view+json": {
       "model_id": "6d1cb3b4da0140aa8f060bd89b202897",
       "version_major": 2,
       "version_minor": 0
      },
      "text/plain": [
       "Processing Channels (T=0):   0%|          | 0/4 [00:00<?, ?it/s]"
      ]
     },
     "metadata": {},
     "output_type": "display_data"
    },
    {
     "name": "stdout",
     "output_type": "stream",
     "text": [
      "Final image volume shape: (1, 4, 8, 6911, 6911)\n",
      "Saved Zarr array successfully to /mnt/DATA3/BPP0050/BPP0050-1-Live-cell-to4i_Fixed_Cy3__2025-04-16T16_15_21-Measurement 1/acquisition/zarr/(3, 5).zarr\n"
     ]
    },
    {
     "data": {
      "application/vnd.jupyter.widget-view+json": {
       "model_id": "991a55dbbdca4547a5b4cdcd866afce4",
       "version_major": 2,
       "version_minor": 0
      },
      "text/plain": [
       "Processing Time Points:   0%|          | 0/1 [00:00<?, ?it/s]"
      ]
     },
     "metadata": {},
     "output_type": "display_data"
    },
    {
     "data": {
      "application/vnd.jupyter.widget-view+json": {
       "model_id": "0c34e843bc7d4977ae6f7056245606d9",
       "version_major": 2,
       "version_minor": 0
      },
      "text/plain": [
       "Processing Channels (T=0):   0%|          | 0/4 [00:00<?, ?it/s]"
      ]
     },
     "metadata": {},
     "output_type": "display_data"
    },
    {
     "name": "stdout",
     "output_type": "stream",
     "text": [
      "Final image volume shape: (1, 4, 8, 6911, 6911)\n",
      "Saved Zarr array successfully to /mnt/DATA3/BPP0050/BPP0050-1-Live-cell-to4i_Fixed_Cy3__2025-04-16T16_15_21-Measurement 1/acquisition/zarr/(3, 6).zarr\n"
     ]
    },
    {
     "data": {
      "application/vnd.jupyter.widget-view+json": {
       "model_id": "f54b2f7d1a3e43ffa5e2876ba5d4b249",
       "version_major": 2,
       "version_minor": 0
      },
      "text/plain": [
       "Processing Time Points:   0%|          | 0/1 [00:00<?, ?it/s]"
      ]
     },
     "metadata": {},
     "output_type": "display_data"
    },
    {
     "data": {
      "application/vnd.jupyter.widget-view+json": {
       "model_id": "1efb753509124dd5995d8501d5517831",
       "version_major": 2,
       "version_minor": 0
      },
      "text/plain": [
       "Processing Channels (T=0):   0%|          | 0/4 [00:00<?, ?it/s]"
      ]
     },
     "metadata": {},
     "output_type": "display_data"
    },
    {
     "name": "stdout",
     "output_type": "stream",
     "text": [
      "Final image volume shape: (1, 4, 8, 6911, 6911)\n",
      "Saved Zarr array successfully to /mnt/DATA3/BPP0050/BPP0050-1-Live-cell-to4i_Fixed_Cy3__2025-04-16T16_15_21-Measurement 1/acquisition/zarr/(3, 7).zarr\n"
     ]
    },
    {
     "data": {
      "application/vnd.jupyter.widget-view+json": {
       "model_id": "ce67c0e55a9542d696d93ee3cd49643e",
       "version_major": 2,
       "version_minor": 0
      },
      "text/plain": [
       "Processing Time Points:   0%|          | 0/1 [00:00<?, ?it/s]"
      ]
     },
     "metadata": {},
     "output_type": "display_data"
    },
    {
     "data": {
      "application/vnd.jupyter.widget-view+json": {
       "model_id": "c901330fbe77438a993ee0b4a3280fb2",
       "version_major": 2,
       "version_minor": 0
      },
      "text/plain": [
       "Processing Channels (T=0):   0%|          | 0/4 [00:00<?, ?it/s]"
      ]
     },
     "metadata": {},
     "output_type": "display_data"
    },
    {
     "name": "stdout",
     "output_type": "stream",
     "text": [
      "Final image volume shape: (1, 4, 8, 6911, 6911)\n",
      "Saved Zarr array successfully to /mnt/DATA3/BPP0050/BPP0050-1-Live-cell-to4i_Fixed_Cy3__2025-04-16T16_15_21-Measurement 1/acquisition/zarr/(3, 8).zarr\n"
     ]
    },
    {
     "data": {
      "application/vnd.jupyter.widget-view+json": {
       "model_id": "eaa64fc0e243422e9321880ec198cccb",
       "version_major": 2,
       "version_minor": 0
      },
      "text/plain": [
       "Processing Time Points:   0%|          | 0/1 [00:00<?, ?it/s]"
      ]
     },
     "metadata": {},
     "output_type": "display_data"
    },
    {
     "data": {
      "application/vnd.jupyter.widget-view+json": {
       "model_id": "fef61a2484894be8aa4779b1a7e1720c",
       "version_major": 2,
       "version_minor": 0
      },
      "text/plain": [
       "Processing Channels (T=0):   0%|          | 0/4 [00:00<?, ?it/s]"
      ]
     },
     "metadata": {},
     "output_type": "display_data"
    },
    {
     "name": "stdout",
     "output_type": "stream",
     "text": [
      "Final image volume shape: (1, 4, 8, 6911, 6911)\n",
      "Saved Zarr array successfully to /mnt/DATA3/BPP0050/BPP0050-1-Live-cell-to4i_Fixed_Cy3__2025-04-16T16_15_21-Measurement 1/acquisition/zarr/(3, 9).zarr\n"
     ]
    },
    {
     "data": {
      "application/vnd.jupyter.widget-view+json": {
       "model_id": "f870ceeb7ef24833a0c0ca2ecf495503",
       "version_major": 2,
       "version_minor": 0
      },
      "text/plain": [
       "Processing Time Points:   0%|          | 0/1 [00:00<?, ?it/s]"
      ]
     },
     "metadata": {},
     "output_type": "display_data"
    },
    {
     "data": {
      "application/vnd.jupyter.widget-view+json": {
       "model_id": "9e492db6c1ad4cf29a3fe73e003ffe39",
       "version_major": 2,
       "version_minor": 0
      },
      "text/plain": [
       "Processing Channels (T=0):   0%|          | 0/4 [00:00<?, ?it/s]"
      ]
     },
     "metadata": {},
     "output_type": "display_data"
    },
    {
     "name": "stdout",
     "output_type": "stream",
     "text": [
      "Final image volume shape: (1, 4, 8, 6911, 6911)\n",
      "Saved Zarr array successfully to /mnt/DATA3/BPP0050/BPP0050-1-Live-cell-to4i_Fixed_Cy3__2025-04-16T16_15_21-Measurement 1/acquisition/zarr/(4, 4).zarr\n"
     ]
    },
    {
     "data": {
      "application/vnd.jupyter.widget-view+json": {
       "model_id": "5e5e546c881e4bb08e1149255b6ade1b",
       "version_major": 2,
       "version_minor": 0
      },
      "text/plain": [
       "Processing Time Points:   0%|          | 0/1 [00:00<?, ?it/s]"
      ]
     },
     "metadata": {},
     "output_type": "display_data"
    },
    {
     "data": {
      "application/vnd.jupyter.widget-view+json": {
       "model_id": "45ee47747cc74feb99893962becacdf4",
       "version_major": 2,
       "version_minor": 0
      },
      "text/plain": [
       "Processing Channels (T=0):   0%|          | 0/4 [00:00<?, ?it/s]"
      ]
     },
     "metadata": {},
     "output_type": "display_data"
    },
    {
     "name": "stdout",
     "output_type": "stream",
     "text": [
      "Final image volume shape: (1, 4, 8, 6911, 6911)\n",
      "Saved Zarr array successfully to /mnt/DATA3/BPP0050/BPP0050-1-Live-cell-to4i_Fixed_Cy3__2025-04-16T16_15_21-Measurement 1/acquisition/zarr/(4, 5).zarr\n"
     ]
    },
    {
     "data": {
      "application/vnd.jupyter.widget-view+json": {
       "model_id": "1715aef37e404a80a1712c2780b40ec5",
       "version_major": 2,
       "version_minor": 0
      },
      "text/plain": [
       "Processing Time Points:   0%|          | 0/1 [00:00<?, ?it/s]"
      ]
     },
     "metadata": {},
     "output_type": "display_data"
    },
    {
     "data": {
      "application/vnd.jupyter.widget-view+json": {
       "model_id": "0cc64b98e514431c8efca3ca071dbd37",
       "version_major": 2,
       "version_minor": 0
      },
      "text/plain": [
       "Processing Channels (T=0):   0%|          | 0/4 [00:00<?, ?it/s]"
      ]
     },
     "metadata": {},
     "output_type": "display_data"
    },
    {
     "name": "stdout",
     "output_type": "stream",
     "text": [
      "Final image volume shape: (1, 4, 8, 6911, 6911)\n",
      "Saved Zarr array successfully to /mnt/DATA3/BPP0050/BPP0050-1-Live-cell-to4i_Fixed_Cy3__2025-04-16T16_15_21-Measurement 1/acquisition/zarr/(4, 6).zarr\n"
     ]
    },
    {
     "data": {
      "application/vnd.jupyter.widget-view+json": {
       "model_id": "b0bf5c239d25449f8377725723102c3f",
       "version_major": 2,
       "version_minor": 0
      },
      "text/plain": [
       "Processing Time Points:   0%|          | 0/1 [00:00<?, ?it/s]"
      ]
     },
     "metadata": {},
     "output_type": "display_data"
    },
    {
     "data": {
      "application/vnd.jupyter.widget-view+json": {
       "model_id": "5b7df3033b2f47f49e879004f6809053",
       "version_major": 2,
       "version_minor": 0
      },
      "text/plain": [
       "Processing Channels (T=0):   0%|          | 0/4 [00:00<?, ?it/s]"
      ]
     },
     "metadata": {},
     "output_type": "display_data"
    },
    {
     "name": "stdout",
     "output_type": "stream",
     "text": [
      "Final image volume shape: (1, 4, 8, 6911, 6911)\n",
      "Saved Zarr array successfully to /mnt/DATA3/BPP0050/BPP0050-1-Live-cell-to4i_Fixed_Cy3__2025-04-16T16_15_21-Measurement 1/acquisition/zarr/(4, 7).zarr\n"
     ]
    },
    {
     "data": {
      "application/vnd.jupyter.widget-view+json": {
       "model_id": "eb6adb28d98448968dfc65dee830326e",
       "version_major": 2,
       "version_minor": 0
      },
      "text/plain": [
       "Processing Time Points:   0%|          | 0/1 [00:00<?, ?it/s]"
      ]
     },
     "metadata": {},
     "output_type": "display_data"
    },
    {
     "data": {
      "application/vnd.jupyter.widget-view+json": {
       "model_id": "760a3ef177e3480b9bdce77096f31ab7",
       "version_major": 2,
       "version_minor": 0
      },
      "text/plain": [
       "Processing Channels (T=0):   0%|          | 0/4 [00:00<?, ?it/s]"
      ]
     },
     "metadata": {},
     "output_type": "display_data"
    },
    {
     "name": "stdout",
     "output_type": "stream",
     "text": [
      "Final image volume shape: (1, 4, 8, 6911, 6911)\n",
      "Saved Zarr array successfully to /mnt/DATA3/BPP0050/BPP0050-1-Live-cell-to4i_Fixed_Cy3__2025-04-16T16_15_21-Measurement 1/acquisition/zarr/(4, 8).zarr\n"
     ]
    },
    {
     "data": {
      "application/vnd.jupyter.widget-view+json": {
       "model_id": "7919eb3fa8dc49cdaca93903b6179cb0",
       "version_major": 2,
       "version_minor": 0
      },
      "text/plain": [
       "Processing Time Points:   0%|          | 0/1 [00:00<?, ?it/s]"
      ]
     },
     "metadata": {},
     "output_type": "display_data"
    },
    {
     "data": {
      "application/vnd.jupyter.widget-view+json": {
       "model_id": "54c0a2f3bf29407a9ce543e7c9627334",
       "version_major": 2,
       "version_minor": 0
      },
      "text/plain": [
       "Processing Channels (T=0):   0%|          | 0/4 [00:00<?, ?it/s]"
      ]
     },
     "metadata": {},
     "output_type": "display_data"
    },
    {
     "name": "stdout",
     "output_type": "stream",
     "text": [
      "Final image volume shape: (1, 4, 8, 6911, 6911)\n",
      "Saved Zarr array successfully to /mnt/DATA3/BPP0050/BPP0050-1-Live-cell-to4i_Fixed_Cy3__2025-04-16T16_15_21-Measurement 1/acquisition/zarr/(4, 9).zarr\n"
     ]
    },
    {
     "data": {
      "application/vnd.jupyter.widget-view+json": {
       "model_id": "ae9838fd139f4a958efd1d42e01eefe6",
       "version_major": 2,
       "version_minor": 0
      },
      "text/plain": [
       "Processing Time Points:   0%|          | 0/1 [00:00<?, ?it/s]"
      ]
     },
     "metadata": {},
     "output_type": "display_data"
    },
    {
     "data": {
      "application/vnd.jupyter.widget-view+json": {
       "model_id": "2af125ecbee84fa4b68d7e49010f0e17",
       "version_major": 2,
       "version_minor": 0
      },
      "text/plain": [
       "Processing Channels (T=0):   0%|          | 0/4 [00:00<?, ?it/s]"
      ]
     },
     "metadata": {},
     "output_type": "display_data"
    },
    {
     "name": "stdout",
     "output_type": "stream",
     "text": [
      "Final image volume shape: (1, 4, 8, 6911, 6911)\n",
      "Saved Zarr array successfully to /mnt/DATA3/BPP0050/BPP0050-1-Live-cell-to4i_Fixed_Cy3__2025-04-16T16_15_21-Measurement 1/acquisition/zarr/(5, 4).zarr\n"
     ]
    },
    {
     "data": {
      "application/vnd.jupyter.widget-view+json": {
       "model_id": "d62cd038f1d04dbbbde84098609c1f71",
       "version_major": 2,
       "version_minor": 0
      },
      "text/plain": [
       "Processing Time Points:   0%|          | 0/1 [00:00<?, ?it/s]"
      ]
     },
     "metadata": {},
     "output_type": "display_data"
    },
    {
     "data": {
      "application/vnd.jupyter.widget-view+json": {
       "model_id": "9c10cc5da4bf48bdbf9bde1874c05ca1",
       "version_major": 2,
       "version_minor": 0
      },
      "text/plain": [
       "Processing Channels (T=0):   0%|          | 0/4 [00:00<?, ?it/s]"
      ]
     },
     "metadata": {},
     "output_type": "display_data"
    },
    {
     "name": "stdout",
     "output_type": "stream",
     "text": [
      "Final image volume shape: (1, 4, 8, 6911, 6911)\n",
      "Saved Zarr array successfully to /mnt/DATA3/BPP0050/BPP0050-1-Live-cell-to4i_Fixed_Cy3__2025-04-16T16_15_21-Measurement 1/acquisition/zarr/(5, 5).zarr\n",
      "Warning: Less than two unique TimepointIDs found, skipping framerate calculation.\n",
      "OME-Zarr metadata and assay layout saved to: /mnt/DATA3/BPP0050/BPP0050-1-Live-cell-to4i_Fixed_Cy3__2025-04-16T16_15_21-Measurement 1//acquisition/zarr//.zattrs\n",
      "Reading metadata XML file...\n"
     ]
    },
    {
     "name": "stderr",
     "output_type": "stream",
     "text": [
      "/tmp/ipykernel_8701/2682895781.py:152: FutureWarning: errors='ignore' is deprecated and will raise in a future version. Use to_numeric without passing `errors` and catch exceptions explicitly instead\n",
      "  timepoint_abs_times = metadata[['TimepointID', 'AbsTime']].drop_duplicates(subset=['TimepointID']).sort_values(key=lambda x: pd.to_numeric(x, errors='ignore'), by='TimepointID')\n"
     ]
    },
    {
     "data": {
      "application/vnd.jupyter.widget-view+json": {
       "model_id": "8d11bb347e9440b1ae158b44fef87cd2",
       "version_major": 2,
       "version_minor": 0
      },
      "text/plain": [
       "0it [00:00, ?it/s]"
      ]
     },
     "metadata": {},
     "output_type": "display_data"
    },
    {
     "name": "stdout",
     "output_type": "stream",
     "text": [
      "Extracting metadata complete!\n"
     ]
    },
    {
     "name": "stderr",
     "output_type": "stream",
     "text": [
      "/tmp/ipykernel_8701/2682895781.py:12: FutureWarning: errors='ignore' is deprecated and will raise in a future version. Use to_numeric without passing `errors` and catch exceptions explicitly instead\n",
      "  metadata = metadata.apply(pd.to_numeric, errors='ignore')\n"
     ]
    },
    {
     "name": "stdout",
     "output_type": "stream",
     "text": [
      "An unexpected error occurred during XML processing: \"['Row', 'Col'] not found in axis\"\n"
     ]
    },
    {
     "data": {
      "application/vnd.jupyter.widget-view+json": {
       "model_id": "2a33540614b746cdb30176b57599a2a4",
       "version_major": 2,
       "version_minor": 0
      },
      "text/plain": [
       "Now tiling in BPP0050-1-Live-cell-to4i_Fixed_Cy11__2025-04-24T16_08_42-Measurement 1:   0%|          | 0/21 [0…"
      ]
     },
     "metadata": {},
     "output_type": "display_data"
    },
    {
     "data": {
      "application/vnd.jupyter.widget-view+json": {
       "model_id": "e6d01c70e74248c2995d5695de762eb2",
       "version_major": 2,
       "version_minor": 0
      },
      "text/plain": [
       "Processing Time Points:   0%|          | 0/1 [00:00<?, ?it/s]"
      ]
     },
     "metadata": {},
     "output_type": "display_data"
    },
    {
     "data": {
      "application/vnd.jupyter.widget-view+json": {
       "model_id": "d7be1f22e077421099417a779f3bb3e6",
       "version_major": 2,
       "version_minor": 0
      },
      "text/plain": [
       "Processing Channels (T=0):   0%|          | 0/4 [00:00<?, ?it/s]"
      ]
     },
     "metadata": {},
     "output_type": "display_data"
    },
    {
     "name": "stdout",
     "output_type": "stream",
     "text": [
      "Final image volume shape: (1, 4, 8, 6911, 6911)\n",
      "Saved Zarr array successfully to /mnt/DATA3/BPP0050/BPP0050-1-Live-cell-to4i_Fixed_Cy11__2025-04-24T16_08_42-Measurement 1/acquisition/zarr/(2, 4).zarr\n"
     ]
    },
    {
     "data": {
      "application/vnd.jupyter.widget-view+json": {
       "model_id": "a6ee6cbbac95430ca7872682e0b811b3",
       "version_major": 2,
       "version_minor": 0
      },
      "text/plain": [
       "Processing Time Points:   0%|          | 0/1 [00:00<?, ?it/s]"
      ]
     },
     "metadata": {},
     "output_type": "display_data"
    },
    {
     "data": {
      "application/vnd.jupyter.widget-view+json": {
       "model_id": "49fe32099a0c41839b7f531c46dee1e1",
       "version_major": 2,
       "version_minor": 0
      },
      "text/plain": [
       "Processing Channels (T=0):   0%|          | 0/4 [00:00<?, ?it/s]"
      ]
     },
     "metadata": {},
     "output_type": "display_data"
    },
    {
     "name": "stdout",
     "output_type": "stream",
     "text": [
      "Final image volume shape: (1, 4, 8, 6911, 6911)\n",
      "Saved Zarr array successfully to /mnt/DATA3/BPP0050/BPP0050-1-Live-cell-to4i_Fixed_Cy11__2025-04-24T16_08_42-Measurement 1/acquisition/zarr/(2, 5).zarr\n"
     ]
    },
    {
     "data": {
      "application/vnd.jupyter.widget-view+json": {
       "model_id": "8e55529eaddd425c8624aa2148c51317",
       "version_major": 2,
       "version_minor": 0
      },
      "text/plain": [
       "Processing Time Points:   0%|          | 0/1 [00:00<?, ?it/s]"
      ]
     },
     "metadata": {},
     "output_type": "display_data"
    },
    {
     "data": {
      "application/vnd.jupyter.widget-view+json": {
       "model_id": "f3dcfc609caf458a9f05d442d4787343",
       "version_major": 2,
       "version_minor": 0
      },
      "text/plain": [
       "Processing Channels (T=0):   0%|          | 0/4 [00:00<?, ?it/s]"
      ]
     },
     "metadata": {},
     "output_type": "display_data"
    },
    {
     "name": "stdout",
     "output_type": "stream",
     "text": [
      "Final image volume shape: (1, 4, 8, 6911, 6911)\n",
      "Saved Zarr array successfully to /mnt/DATA3/BPP0050/BPP0050-1-Live-cell-to4i_Fixed_Cy11__2025-04-24T16_08_42-Measurement 1/acquisition/zarr/(2, 6).zarr\n"
     ]
    },
    {
     "data": {
      "application/vnd.jupyter.widget-view+json": {
       "model_id": "fb8e70331fcc49acb0c9de5f75682b98",
       "version_major": 2,
       "version_minor": 0
      },
      "text/plain": [
       "Processing Time Points:   0%|          | 0/1 [00:00<?, ?it/s]"
      ]
     },
     "metadata": {},
     "output_type": "display_data"
    },
    {
     "data": {
      "application/vnd.jupyter.widget-view+json": {
       "model_id": "e760316c5cb64a90a2ed2e81c4d1e92a",
       "version_major": 2,
       "version_minor": 0
      },
      "text/plain": [
       "Processing Channels (T=0):   0%|          | 0/4 [00:00<?, ?it/s]"
      ]
     },
     "metadata": {},
     "output_type": "display_data"
    },
    {
     "name": "stdout",
     "output_type": "stream",
     "text": [
      "Final image volume shape: (1, 4, 8, 6911, 6911)\n",
      "Saved Zarr array successfully to /mnt/DATA3/BPP0050/BPP0050-1-Live-cell-to4i_Fixed_Cy11__2025-04-24T16_08_42-Measurement 1/acquisition/zarr/(2, 7).zarr\n"
     ]
    },
    {
     "data": {
      "application/vnd.jupyter.widget-view+json": {
       "model_id": "e9a9156fabe54a159872d65be56567c7",
       "version_major": 2,
       "version_minor": 0
      },
      "text/plain": [
       "Processing Time Points:   0%|          | 0/1 [00:00<?, ?it/s]"
      ]
     },
     "metadata": {},
     "output_type": "display_data"
    },
    {
     "data": {
      "application/vnd.jupyter.widget-view+json": {
       "model_id": "d6faeed0f8aa4cb291d015b48e4c63b6",
       "version_major": 2,
       "version_minor": 0
      },
      "text/plain": [
       "Processing Channels (T=0):   0%|          | 0/4 [00:00<?, ?it/s]"
      ]
     },
     "metadata": {},
     "output_type": "display_data"
    },
    {
     "name": "stdout",
     "output_type": "stream",
     "text": [
      "Final image volume shape: (1, 4, 8, 6911, 6911)\n",
      "Saved Zarr array successfully to /mnt/DATA3/BPP0050/BPP0050-1-Live-cell-to4i_Fixed_Cy11__2025-04-24T16_08_42-Measurement 1/acquisition/zarr/(2, 8).zarr\n"
     ]
    },
    {
     "data": {
      "application/vnd.jupyter.widget-view+json": {
       "model_id": "9d3a44bedf3c42af954f9850e6dbc7ee",
       "version_major": 2,
       "version_minor": 0
      },
      "text/plain": [
       "Processing Time Points:   0%|          | 0/1 [00:00<?, ?it/s]"
      ]
     },
     "metadata": {},
     "output_type": "display_data"
    },
    {
     "data": {
      "application/vnd.jupyter.widget-view+json": {
       "model_id": "5753e728dcbb40569ddb35f76a8b0d11",
       "version_major": 2,
       "version_minor": 0
      },
      "text/plain": [
       "Processing Channels (T=0):   0%|          | 0/4 [00:00<?, ?it/s]"
      ]
     },
     "metadata": {},
     "output_type": "display_data"
    },
    {
     "name": "stdout",
     "output_type": "stream",
     "text": [
      "Final image volume shape: (1, 4, 8, 6911, 6911)\n",
      "Saved Zarr array successfully to /mnt/DATA3/BPP0050/BPP0050-1-Live-cell-to4i_Fixed_Cy11__2025-04-24T16_08_42-Measurement 1/acquisition/zarr/(3, 2).zarr\n"
     ]
    },
    {
     "data": {
      "application/vnd.jupyter.widget-view+json": {
       "model_id": "913759b1eebe4551a5f6d473756c1f33",
       "version_major": 2,
       "version_minor": 0
      },
      "text/plain": [
       "Processing Time Points:   0%|          | 0/1 [00:00<?, ?it/s]"
      ]
     },
     "metadata": {},
     "output_type": "display_data"
    },
    {
     "data": {
      "application/vnd.jupyter.widget-view+json": {
       "model_id": "79be1384a0364fbd91ae45b3a27e57d5",
       "version_major": 2,
       "version_minor": 0
      },
      "text/plain": [
       "Processing Channels (T=0):   0%|          | 0/4 [00:00<?, ?it/s]"
      ]
     },
     "metadata": {},
     "output_type": "display_data"
    },
    {
     "name": "stdout",
     "output_type": "stream",
     "text": [
      "Final image volume shape: (1, 4, 8, 6911, 6911)\n",
      "Saved Zarr array successfully to /mnt/DATA3/BPP0050/BPP0050-1-Live-cell-to4i_Fixed_Cy11__2025-04-24T16_08_42-Measurement 1/acquisition/zarr/(3, 3).zarr\n"
     ]
    },
    {
     "data": {
      "application/vnd.jupyter.widget-view+json": {
       "model_id": "fcada38507a04cfbb4465e64d9e15213",
       "version_major": 2,
       "version_minor": 0
      },
      "text/plain": [
       "Processing Time Points:   0%|          | 0/1 [00:00<?, ?it/s]"
      ]
     },
     "metadata": {},
     "output_type": "display_data"
    },
    {
     "data": {
      "application/vnd.jupyter.widget-view+json": {
       "model_id": "cb2d299273cb44b8aa5d81d7352f65d3",
       "version_major": 2,
       "version_minor": 0
      },
      "text/plain": [
       "Processing Channels (T=0):   0%|          | 0/4 [00:00<?, ?it/s]"
      ]
     },
     "metadata": {},
     "output_type": "display_data"
    },
    {
     "name": "stdout",
     "output_type": "stream",
     "text": [
      "Final image volume shape: (1, 4, 8, 6911, 6911)\n",
      "Saved Zarr array successfully to /mnt/DATA3/BPP0050/BPP0050-1-Live-cell-to4i_Fixed_Cy11__2025-04-24T16_08_42-Measurement 1/acquisition/zarr/(3, 4).zarr\n"
     ]
    },
    {
     "data": {
      "application/vnd.jupyter.widget-view+json": {
       "model_id": "a7371d2812f340e488c70cc3e131f958",
       "version_major": 2,
       "version_minor": 0
      },
      "text/plain": [
       "Processing Time Points:   0%|          | 0/1 [00:00<?, ?it/s]"
      ]
     },
     "metadata": {},
     "output_type": "display_data"
    },
    {
     "data": {
      "application/vnd.jupyter.widget-view+json": {
       "model_id": "82ab6cbd615e4ad286350b1645862300",
       "version_major": 2,
       "version_minor": 0
      },
      "text/plain": [
       "Processing Channels (T=0):   0%|          | 0/4 [00:00<?, ?it/s]"
      ]
     },
     "metadata": {},
     "output_type": "display_data"
    },
    {
     "name": "stdout",
     "output_type": "stream",
     "text": [
      "Final image volume shape: (1, 4, 8, 6911, 6911)\n",
      "Saved Zarr array successfully to /mnt/DATA3/BPP0050/BPP0050-1-Live-cell-to4i_Fixed_Cy11__2025-04-24T16_08_42-Measurement 1/acquisition/zarr/(3, 5).zarr\n"
     ]
    },
    {
     "data": {
      "application/vnd.jupyter.widget-view+json": {
       "model_id": "e101df3c954a47fcad8797b0d3155bc7",
       "version_major": 2,
       "version_minor": 0
      },
      "text/plain": [
       "Processing Time Points:   0%|          | 0/1 [00:00<?, ?it/s]"
      ]
     },
     "metadata": {},
     "output_type": "display_data"
    },
    {
     "data": {
      "application/vnd.jupyter.widget-view+json": {
       "model_id": "b5413f974c7f45819500a3f2b0e9f690",
       "version_major": 2,
       "version_minor": 0
      },
      "text/plain": [
       "Processing Channels (T=0):   0%|          | 0/4 [00:00<?, ?it/s]"
      ]
     },
     "metadata": {},
     "output_type": "display_data"
    },
    {
     "name": "stdout",
     "output_type": "stream",
     "text": [
      "Final image volume shape: (1, 4, 8, 6911, 6911)\n",
      "Saved Zarr array successfully to /mnt/DATA3/BPP0050/BPP0050-1-Live-cell-to4i_Fixed_Cy11__2025-04-24T16_08_42-Measurement 1/acquisition/zarr/(3, 6).zarr\n"
     ]
    },
    {
     "data": {
      "application/vnd.jupyter.widget-view+json": {
       "model_id": "1c46a934b8634eee827a225552e1a6d3",
       "version_major": 2,
       "version_minor": 0
      },
      "text/plain": [
       "Processing Time Points:   0%|          | 0/1 [00:00<?, ?it/s]"
      ]
     },
     "metadata": {},
     "output_type": "display_data"
    },
    {
     "data": {
      "application/vnd.jupyter.widget-view+json": {
       "model_id": "0679d230028945519ffd8b15bd626b94",
       "version_major": 2,
       "version_minor": 0
      },
      "text/plain": [
       "Processing Channels (T=0):   0%|          | 0/4 [00:00<?, ?it/s]"
      ]
     },
     "metadata": {},
     "output_type": "display_data"
    },
    {
     "name": "stdout",
     "output_type": "stream",
     "text": [
      "Final image volume shape: (1, 4, 8, 6911, 6911)\n",
      "Saved Zarr array successfully to /mnt/DATA3/BPP0050/BPP0050-1-Live-cell-to4i_Fixed_Cy11__2025-04-24T16_08_42-Measurement 1/acquisition/zarr/(3, 7).zarr\n"
     ]
    },
    {
     "data": {
      "application/vnd.jupyter.widget-view+json": {
       "model_id": "96bf4b70c3d2491ab7a3f8cab8b7e79f",
       "version_major": 2,
       "version_minor": 0
      },
      "text/plain": [
       "Processing Time Points:   0%|          | 0/1 [00:00<?, ?it/s]"
      ]
     },
     "metadata": {},
     "output_type": "display_data"
    },
    {
     "data": {
      "application/vnd.jupyter.widget-view+json": {
       "model_id": "de7c13d2aeed4ff5b48c89a9ef037290",
       "version_major": 2,
       "version_minor": 0
      },
      "text/plain": [
       "Processing Channels (T=0):   0%|          | 0/4 [00:00<?, ?it/s]"
      ]
     },
     "metadata": {},
     "output_type": "display_data"
    },
    {
     "name": "stdout",
     "output_type": "stream",
     "text": [
      "Final image volume shape: (1, 4, 8, 6911, 6911)\n",
      "Saved Zarr array successfully to /mnt/DATA3/BPP0050/BPP0050-1-Live-cell-to4i_Fixed_Cy11__2025-04-24T16_08_42-Measurement 1/acquisition/zarr/(3, 8).zarr\n"
     ]
    },
    {
     "data": {
      "application/vnd.jupyter.widget-view+json": {
       "model_id": "a94821338cf14152812f08d48202b524",
       "version_major": 2,
       "version_minor": 0
      },
      "text/plain": [
       "Processing Time Points:   0%|          | 0/1 [00:00<?, ?it/s]"
      ]
     },
     "metadata": {},
     "output_type": "display_data"
    },
    {
     "data": {
      "application/vnd.jupyter.widget-view+json": {
       "model_id": "e5d625b111e34a3a95ff3143f8348cef",
       "version_major": 2,
       "version_minor": 0
      },
      "text/plain": [
       "Processing Channels (T=0):   0%|          | 0/4 [00:00<?, ?it/s]"
      ]
     },
     "metadata": {},
     "output_type": "display_data"
    },
    {
     "name": "stdout",
     "output_type": "stream",
     "text": [
      "Final image volume shape: (1, 4, 8, 6911, 6911)\n",
      "Saved Zarr array successfully to /mnt/DATA3/BPP0050/BPP0050-1-Live-cell-to4i_Fixed_Cy11__2025-04-24T16_08_42-Measurement 1/acquisition/zarr/(3, 9).zarr\n"
     ]
    },
    {
     "data": {
      "application/vnd.jupyter.widget-view+json": {
       "model_id": "76790147e4b04a43afa3d5e614f08603",
       "version_major": 2,
       "version_minor": 0
      },
      "text/plain": [
       "Processing Time Points:   0%|          | 0/1 [00:00<?, ?it/s]"
      ]
     },
     "metadata": {},
     "output_type": "display_data"
    },
    {
     "data": {
      "application/vnd.jupyter.widget-view+json": {
       "model_id": "140afdd71789476ba37d9c976f106d1f",
       "version_major": 2,
       "version_minor": 0
      },
      "text/plain": [
       "Processing Channels (T=0):   0%|          | 0/4 [00:00<?, ?it/s]"
      ]
     },
     "metadata": {},
     "output_type": "display_data"
    },
    {
     "name": "stdout",
     "output_type": "stream",
     "text": [
      "Final image volume shape: (1, 4, 8, 6911, 6911)\n",
      "Saved Zarr array successfully to /mnt/DATA3/BPP0050/BPP0050-1-Live-cell-to4i_Fixed_Cy11__2025-04-24T16_08_42-Measurement 1/acquisition/zarr/(4, 4).zarr\n"
     ]
    },
    {
     "data": {
      "application/vnd.jupyter.widget-view+json": {
       "model_id": "59865499c43e4a09af3e87fb128e7192",
       "version_major": 2,
       "version_minor": 0
      },
      "text/plain": [
       "Processing Time Points:   0%|          | 0/1 [00:00<?, ?it/s]"
      ]
     },
     "metadata": {},
     "output_type": "display_data"
    },
    {
     "data": {
      "application/vnd.jupyter.widget-view+json": {
       "model_id": "65cc3277278641588e3ed2684a459d80",
       "version_major": 2,
       "version_minor": 0
      },
      "text/plain": [
       "Processing Channels (T=0):   0%|          | 0/4 [00:00<?, ?it/s]"
      ]
     },
     "metadata": {},
     "output_type": "display_data"
    },
    {
     "name": "stdout",
     "output_type": "stream",
     "text": [
      "Final image volume shape: (1, 4, 8, 6911, 6911)\n",
      "Saved Zarr array successfully to /mnt/DATA3/BPP0050/BPP0050-1-Live-cell-to4i_Fixed_Cy11__2025-04-24T16_08_42-Measurement 1/acquisition/zarr/(4, 5).zarr\n"
     ]
    },
    {
     "data": {
      "application/vnd.jupyter.widget-view+json": {
       "model_id": "da1a19ce88f84f19896f702c66ed8d24",
       "version_major": 2,
       "version_minor": 0
      },
      "text/plain": [
       "Processing Time Points:   0%|          | 0/1 [00:00<?, ?it/s]"
      ]
     },
     "metadata": {},
     "output_type": "display_data"
    },
    {
     "data": {
      "application/vnd.jupyter.widget-view+json": {
       "model_id": "12faee241c7c4619a029b5ed5f1b919b",
       "version_major": 2,
       "version_minor": 0
      },
      "text/plain": [
       "Processing Channels (T=0):   0%|          | 0/4 [00:00<?, ?it/s]"
      ]
     },
     "metadata": {},
     "output_type": "display_data"
    },
    {
     "name": "stdout",
     "output_type": "stream",
     "text": [
      "Final image volume shape: (1, 4, 8, 6911, 6911)\n",
      "Saved Zarr array successfully to /mnt/DATA3/BPP0050/BPP0050-1-Live-cell-to4i_Fixed_Cy11__2025-04-24T16_08_42-Measurement 1/acquisition/zarr/(4, 6).zarr\n"
     ]
    },
    {
     "data": {
      "application/vnd.jupyter.widget-view+json": {
       "model_id": "193108a845e54bd291d453b14f46379f",
       "version_major": 2,
       "version_minor": 0
      },
      "text/plain": [
       "Processing Time Points:   0%|          | 0/1 [00:00<?, ?it/s]"
      ]
     },
     "metadata": {},
     "output_type": "display_data"
    },
    {
     "data": {
      "application/vnd.jupyter.widget-view+json": {
       "model_id": "9a668b82e5ab4a06bf20657a507ae934",
       "version_major": 2,
       "version_minor": 0
      },
      "text/plain": [
       "Processing Channels (T=0):   0%|          | 0/4 [00:00<?, ?it/s]"
      ]
     },
     "metadata": {},
     "output_type": "display_data"
    },
    {
     "name": "stdout",
     "output_type": "stream",
     "text": [
      "Final image volume shape: (1, 4, 8, 6911, 6911)\n",
      "Saved Zarr array successfully to /mnt/DATA3/BPP0050/BPP0050-1-Live-cell-to4i_Fixed_Cy11__2025-04-24T16_08_42-Measurement 1/acquisition/zarr/(4, 7).zarr\n"
     ]
    },
    {
     "data": {
      "application/vnd.jupyter.widget-view+json": {
       "model_id": "104c79e48e04433b88673be6dc6b0575",
       "version_major": 2,
       "version_minor": 0
      },
      "text/plain": [
       "Processing Time Points:   0%|          | 0/1 [00:00<?, ?it/s]"
      ]
     },
     "metadata": {},
     "output_type": "display_data"
    },
    {
     "data": {
      "application/vnd.jupyter.widget-view+json": {
       "model_id": "849ff99f5404462093b78037a3c5b92b",
       "version_major": 2,
       "version_minor": 0
      },
      "text/plain": [
       "Processing Channels (T=0):   0%|          | 0/4 [00:00<?, ?it/s]"
      ]
     },
     "metadata": {},
     "output_type": "display_data"
    },
    {
     "name": "stdout",
     "output_type": "stream",
     "text": [
      "Final image volume shape: (1, 4, 8, 6911, 6911)\n",
      "Saved Zarr array successfully to /mnt/DATA3/BPP0050/BPP0050-1-Live-cell-to4i_Fixed_Cy11__2025-04-24T16_08_42-Measurement 1/acquisition/zarr/(4, 8).zarr\n"
     ]
    },
    {
     "data": {
      "application/vnd.jupyter.widget-view+json": {
       "model_id": "650f9f539a2d4335b570e1c8906dcbc4",
       "version_major": 2,
       "version_minor": 0
      },
      "text/plain": [
       "Processing Time Points:   0%|          | 0/1 [00:00<?, ?it/s]"
      ]
     },
     "metadata": {},
     "output_type": "display_data"
    },
    {
     "data": {
      "application/vnd.jupyter.widget-view+json": {
       "model_id": "1bd9c9cc319b4d228bfd063b7b936287",
       "version_major": 2,
       "version_minor": 0
      },
      "text/plain": [
       "Processing Channels (T=0):   0%|          | 0/4 [00:00<?, ?it/s]"
      ]
     },
     "metadata": {},
     "output_type": "display_data"
    },
    {
     "name": "stdout",
     "output_type": "stream",
     "text": [
      "Final image volume shape: (1, 4, 8, 6911, 6911)\n",
      "Saved Zarr array successfully to /mnt/DATA3/BPP0050/BPP0050-1-Live-cell-to4i_Fixed_Cy11__2025-04-24T16_08_42-Measurement 1/acquisition/zarr/(4, 9).zarr\n"
     ]
    },
    {
     "data": {
      "application/vnd.jupyter.widget-view+json": {
       "model_id": "b596e71e036346aba89163864e169975",
       "version_major": 2,
       "version_minor": 0
      },
      "text/plain": [
       "Processing Time Points:   0%|          | 0/1 [00:00<?, ?it/s]"
      ]
     },
     "metadata": {},
     "output_type": "display_data"
    },
    {
     "data": {
      "application/vnd.jupyter.widget-view+json": {
       "model_id": "65d25ff892e5476c8eaaff01b24785ff",
       "version_major": 2,
       "version_minor": 0
      },
      "text/plain": [
       "Processing Channels (T=0):   0%|          | 0/4 [00:00<?, ?it/s]"
      ]
     },
     "metadata": {},
     "output_type": "display_data"
    },
    {
     "name": "stdout",
     "output_type": "stream",
     "text": [
      "Final image volume shape: (1, 4, 8, 6911, 6911)\n",
      "Saved Zarr array successfully to /mnt/DATA3/BPP0050/BPP0050-1-Live-cell-to4i_Fixed_Cy11__2025-04-24T16_08_42-Measurement 1/acquisition/zarr/(5, 4).zarr\n"
     ]
    },
    {
     "data": {
      "application/vnd.jupyter.widget-view+json": {
       "model_id": "8d697631d44f487ca22a225d0f882d7a",
       "version_major": 2,
       "version_minor": 0
      },
      "text/plain": [
       "Processing Time Points:   0%|          | 0/1 [00:00<?, ?it/s]"
      ]
     },
     "metadata": {},
     "output_type": "display_data"
    },
    {
     "data": {
      "application/vnd.jupyter.widget-view+json": {
       "model_id": "3331a91d01e346cf90089e40faa2a73a",
       "version_major": 2,
       "version_minor": 0
      },
      "text/plain": [
       "Processing Channels (T=0):   0%|          | 0/4 [00:00<?, ?it/s]"
      ]
     },
     "metadata": {},
     "output_type": "display_data"
    },
    {
     "name": "stdout",
     "output_type": "stream",
     "text": [
      "Final image volume shape: (1, 4, 8, 6911, 6911)\n",
      "Saved Zarr array successfully to /mnt/DATA3/BPP0050/BPP0050-1-Live-cell-to4i_Fixed_Cy11__2025-04-24T16_08_42-Measurement 1/acquisition/zarr/(5, 5).zarr\n",
      "Warning: Less than two unique TimepointIDs found, skipping framerate calculation.\n",
      "OME-Zarr metadata and assay layout saved to: /mnt/DATA3/BPP0050/BPP0050-1-Live-cell-to4i_Fixed_Cy11__2025-04-24T16_08_42-Measurement 1//acquisition/zarr//.zattrs\n",
      "Reading metadata XML file...\n"
     ]
    },
    {
     "name": "stderr",
     "output_type": "stream",
     "text": [
      "/tmp/ipykernel_8701/2682895781.py:152: FutureWarning: errors='ignore' is deprecated and will raise in a future version. Use to_numeric without passing `errors` and catch exceptions explicitly instead\n",
      "  timepoint_abs_times = metadata[['TimepointID', 'AbsTime']].drop_duplicates(subset=['TimepointID']).sort_values(key=lambda x: pd.to_numeric(x, errors='ignore'), by='TimepointID')\n"
     ]
    },
    {
     "data": {
      "application/vnd.jupyter.widget-view+json": {
       "model_id": "dbb6fc2c05ef417092246dff6099d055",
       "version_major": 2,
       "version_minor": 0
      },
      "text/plain": [
       "0it [00:00, ?it/s]"
      ]
     },
     "metadata": {},
     "output_type": "display_data"
    },
    {
     "name": "stdout",
     "output_type": "stream",
     "text": [
      "Extracting metadata complete!\n"
     ]
    },
    {
     "name": "stderr",
     "output_type": "stream",
     "text": [
      "/tmp/ipykernel_8701/2682895781.py:12: FutureWarning: errors='ignore' is deprecated and will raise in a future version. Use to_numeric without passing `errors` and catch exceptions explicitly instead\n",
      "  metadata = metadata.apply(pd.to_numeric, errors='ignore')\n"
     ]
    },
    {
     "name": "stdout",
     "output_type": "stream",
     "text": [
      "An unexpected error occurred during XML processing: \"['Row', 'Col'] not found in axis\"\n"
     ]
    },
    {
     "data": {
      "application/vnd.jupyter.widget-view+json": {
       "model_id": "09a66f64242c4087a3b88d9b2a3bb9b4",
       "version_major": 2,
       "version_minor": 0
      },
      "text/plain": [
       "Now tiling in BPP0050-1-Live-cell-to4i_Fixed_Cy14__2025-04-27T15_20_15-Measurement 1:   0%|          | 0/21 [0…"
      ]
     },
     "metadata": {},
     "output_type": "display_data"
    },
    {
     "data": {
      "application/vnd.jupyter.widget-view+json": {
       "model_id": "2f79cb5469614852be3503c5f234bf94",
       "version_major": 2,
       "version_minor": 0
      },
      "text/plain": [
       "Processing Time Points:   0%|          | 0/1 [00:00<?, ?it/s]"
      ]
     },
     "metadata": {},
     "output_type": "display_data"
    },
    {
     "data": {
      "application/vnd.jupyter.widget-view+json": {
       "model_id": "7eb91b40c32a4eb6a3ec0814b60ed328",
       "version_major": 2,
       "version_minor": 0
      },
      "text/plain": [
       "Processing Channels (T=0):   0%|          | 0/4 [00:00<?, ?it/s]"
      ]
     },
     "metadata": {},
     "output_type": "display_data"
    },
    {
     "name": "stdout",
     "output_type": "stream",
     "text": [
      "Final image volume shape: (1, 4, 8, 6911, 6911)\n",
      "Saved Zarr array successfully to /mnt/DATA3/BPP0050/BPP0050-1-Live-cell-to4i_Fixed_Cy14__2025-04-27T15_20_15-Measurement 1/acquisition/zarr/(2, 4).zarr\n"
     ]
    },
    {
     "data": {
      "application/vnd.jupyter.widget-view+json": {
       "model_id": "c19b9be217d5499aa97ca654afc7fd38",
       "version_major": 2,
       "version_minor": 0
      },
      "text/plain": [
       "Processing Time Points:   0%|          | 0/1 [00:00<?, ?it/s]"
      ]
     },
     "metadata": {},
     "output_type": "display_data"
    },
    {
     "data": {
      "application/vnd.jupyter.widget-view+json": {
       "model_id": "b53f94bb4bb84814bcd47aaff112185c",
       "version_major": 2,
       "version_minor": 0
      },
      "text/plain": [
       "Processing Channels (T=0):   0%|          | 0/4 [00:00<?, ?it/s]"
      ]
     },
     "metadata": {},
     "output_type": "display_data"
    },
    {
     "name": "stdout",
     "output_type": "stream",
     "text": [
      "Final image volume shape: (1, 4, 8, 6911, 6911)\n",
      "Saved Zarr array successfully to /mnt/DATA3/BPP0050/BPP0050-1-Live-cell-to4i_Fixed_Cy14__2025-04-27T15_20_15-Measurement 1/acquisition/zarr/(2, 5).zarr\n"
     ]
    },
    {
     "data": {
      "application/vnd.jupyter.widget-view+json": {
       "model_id": "d0abd699ecbd4dafa4aa776f1bf232b6",
       "version_major": 2,
       "version_minor": 0
      },
      "text/plain": [
       "Processing Time Points:   0%|          | 0/1 [00:00<?, ?it/s]"
      ]
     },
     "metadata": {},
     "output_type": "display_data"
    },
    {
     "data": {
      "application/vnd.jupyter.widget-view+json": {
       "model_id": "9ba8358ea2e647858b285070217a4995",
       "version_major": 2,
       "version_minor": 0
      },
      "text/plain": [
       "Processing Channels (T=0):   0%|          | 0/4 [00:00<?, ?it/s]"
      ]
     },
     "metadata": {},
     "output_type": "display_data"
    },
    {
     "name": "stdout",
     "output_type": "stream",
     "text": [
      "Final image volume shape: (1, 4, 8, 6911, 6911)\n",
      "Saved Zarr array successfully to /mnt/DATA3/BPP0050/BPP0050-1-Live-cell-to4i_Fixed_Cy14__2025-04-27T15_20_15-Measurement 1/acquisition/zarr/(2, 6).zarr\n"
     ]
    },
    {
     "data": {
      "application/vnd.jupyter.widget-view+json": {
       "model_id": "d1cfb5f116524fb7807d4220682bc2ae",
       "version_major": 2,
       "version_minor": 0
      },
      "text/plain": [
       "Processing Time Points:   0%|          | 0/1 [00:00<?, ?it/s]"
      ]
     },
     "metadata": {},
     "output_type": "display_data"
    },
    {
     "data": {
      "application/vnd.jupyter.widget-view+json": {
       "model_id": "da7acc2870ba4a0eb1085e9faf758295",
       "version_major": 2,
       "version_minor": 0
      },
      "text/plain": [
       "Processing Channels (T=0):   0%|          | 0/4 [00:00<?, ?it/s]"
      ]
     },
     "metadata": {},
     "output_type": "display_data"
    },
    {
     "name": "stdout",
     "output_type": "stream",
     "text": [
      "Final image volume shape: (1, 4, 8, 6911, 6911)\n",
      "Saved Zarr array successfully to /mnt/DATA3/BPP0050/BPP0050-1-Live-cell-to4i_Fixed_Cy14__2025-04-27T15_20_15-Measurement 1/acquisition/zarr/(2, 7).zarr\n"
     ]
    },
    {
     "data": {
      "application/vnd.jupyter.widget-view+json": {
       "model_id": "efe09d654ea44bc5af1d122241ea20df",
       "version_major": 2,
       "version_minor": 0
      },
      "text/plain": [
       "Processing Time Points:   0%|          | 0/1 [00:00<?, ?it/s]"
      ]
     },
     "metadata": {},
     "output_type": "display_data"
    },
    {
     "data": {
      "application/vnd.jupyter.widget-view+json": {
       "model_id": "c0a56edeb5d9461aaa5c72cb873692ba",
       "version_major": 2,
       "version_minor": 0
      },
      "text/plain": [
       "Processing Channels (T=0):   0%|          | 0/4 [00:00<?, ?it/s]"
      ]
     },
     "metadata": {},
     "output_type": "display_data"
    },
    {
     "name": "stdout",
     "output_type": "stream",
     "text": [
      "Final image volume shape: (1, 4, 8, 6911, 6911)\n",
      "Saved Zarr array successfully to /mnt/DATA3/BPP0050/BPP0050-1-Live-cell-to4i_Fixed_Cy14__2025-04-27T15_20_15-Measurement 1/acquisition/zarr/(2, 8).zarr\n"
     ]
    },
    {
     "data": {
      "application/vnd.jupyter.widget-view+json": {
       "model_id": "8e19b9ce55804e9fa30277eecd30406e",
       "version_major": 2,
       "version_minor": 0
      },
      "text/plain": [
       "Processing Time Points:   0%|          | 0/1 [00:00<?, ?it/s]"
      ]
     },
     "metadata": {},
     "output_type": "display_data"
    },
    {
     "data": {
      "application/vnd.jupyter.widget-view+json": {
       "model_id": "cd9efcf31fad43f187e84e4e4fd28ec3",
       "version_major": 2,
       "version_minor": 0
      },
      "text/plain": [
       "Processing Channels (T=0):   0%|          | 0/4 [00:00<?, ?it/s]"
      ]
     },
     "metadata": {},
     "output_type": "display_data"
    },
    {
     "name": "stdout",
     "output_type": "stream",
     "text": [
      "Final image volume shape: (1, 4, 8, 6911, 6911)\n",
      "Saved Zarr array successfully to /mnt/DATA3/BPP0050/BPP0050-1-Live-cell-to4i_Fixed_Cy14__2025-04-27T15_20_15-Measurement 1/acquisition/zarr/(3, 2).zarr\n"
     ]
    },
    {
     "data": {
      "application/vnd.jupyter.widget-view+json": {
       "model_id": "fd318a8060ca4168a7a62655f1f0d8f9",
       "version_major": 2,
       "version_minor": 0
      },
      "text/plain": [
       "Processing Time Points:   0%|          | 0/1 [00:00<?, ?it/s]"
      ]
     },
     "metadata": {},
     "output_type": "display_data"
    },
    {
     "data": {
      "application/vnd.jupyter.widget-view+json": {
       "model_id": "b4d65160b2154d50a1edfb7fbb54a9ae",
       "version_major": 2,
       "version_minor": 0
      },
      "text/plain": [
       "Processing Channels (T=0):   0%|          | 0/4 [00:00<?, ?it/s]"
      ]
     },
     "metadata": {},
     "output_type": "display_data"
    },
    {
     "name": "stdout",
     "output_type": "stream",
     "text": [
      "Final image volume shape: (1, 4, 8, 6911, 6911)\n",
      "Saved Zarr array successfully to /mnt/DATA3/BPP0050/BPP0050-1-Live-cell-to4i_Fixed_Cy14__2025-04-27T15_20_15-Measurement 1/acquisition/zarr/(3, 3).zarr\n"
     ]
    },
    {
     "data": {
      "application/vnd.jupyter.widget-view+json": {
       "model_id": "e254f8c6729a46f3811ef8161be301cf",
       "version_major": 2,
       "version_minor": 0
      },
      "text/plain": [
       "Processing Time Points:   0%|          | 0/1 [00:00<?, ?it/s]"
      ]
     },
     "metadata": {},
     "output_type": "display_data"
    },
    {
     "data": {
      "application/vnd.jupyter.widget-view+json": {
       "model_id": "e94b1614dbc8475fa15ba73a2155fe2f",
       "version_major": 2,
       "version_minor": 0
      },
      "text/plain": [
       "Processing Channels (T=0):   0%|          | 0/4 [00:00<?, ?it/s]"
      ]
     },
     "metadata": {},
     "output_type": "display_data"
    },
    {
     "name": "stdout",
     "output_type": "stream",
     "text": [
      "Final image volume shape: (1, 4, 8, 6911, 6911)\n",
      "Saved Zarr array successfully to /mnt/DATA3/BPP0050/BPP0050-1-Live-cell-to4i_Fixed_Cy14__2025-04-27T15_20_15-Measurement 1/acquisition/zarr/(3, 4).zarr\n"
     ]
    },
    {
     "data": {
      "application/vnd.jupyter.widget-view+json": {
       "model_id": "3b19ccd2ebbe43f4879a9eceb7b201a9",
       "version_major": 2,
       "version_minor": 0
      },
      "text/plain": [
       "Processing Time Points:   0%|          | 0/1 [00:00<?, ?it/s]"
      ]
     },
     "metadata": {},
     "output_type": "display_data"
    },
    {
     "data": {
      "application/vnd.jupyter.widget-view+json": {
       "model_id": "75f4fa1a35cf4288af1242dfd40904ac",
       "version_major": 2,
       "version_minor": 0
      },
      "text/plain": [
       "Processing Channels (T=0):   0%|          | 0/4 [00:00<?, ?it/s]"
      ]
     },
     "metadata": {},
     "output_type": "display_data"
    },
    {
     "name": "stdout",
     "output_type": "stream",
     "text": [
      "Final image volume shape: (1, 4, 8, 6911, 6911)\n",
      "Saved Zarr array successfully to /mnt/DATA3/BPP0050/BPP0050-1-Live-cell-to4i_Fixed_Cy14__2025-04-27T15_20_15-Measurement 1/acquisition/zarr/(3, 5).zarr\n"
     ]
    },
    {
     "data": {
      "application/vnd.jupyter.widget-view+json": {
       "model_id": "50b432c0471a47ceae08624f8b2423d5",
       "version_major": 2,
       "version_minor": 0
      },
      "text/plain": [
       "Processing Time Points:   0%|          | 0/1 [00:00<?, ?it/s]"
      ]
     },
     "metadata": {},
     "output_type": "display_data"
    },
    {
     "data": {
      "application/vnd.jupyter.widget-view+json": {
       "model_id": "5528598d2d0a4a2ea78045456709181a",
       "version_major": 2,
       "version_minor": 0
      },
      "text/plain": [
       "Processing Channels (T=0):   0%|          | 0/4 [00:00<?, ?it/s]"
      ]
     },
     "metadata": {},
     "output_type": "display_data"
    },
    {
     "name": "stdout",
     "output_type": "stream",
     "text": [
      "Final image volume shape: (1, 4, 8, 6911, 6911)\n",
      "Saved Zarr array successfully to /mnt/DATA3/BPP0050/BPP0050-1-Live-cell-to4i_Fixed_Cy14__2025-04-27T15_20_15-Measurement 1/acquisition/zarr/(3, 6).zarr\n"
     ]
    },
    {
     "data": {
      "application/vnd.jupyter.widget-view+json": {
       "model_id": "54d46b9442e64998aa4b374b02dca054",
       "version_major": 2,
       "version_minor": 0
      },
      "text/plain": [
       "Processing Time Points:   0%|          | 0/1 [00:00<?, ?it/s]"
      ]
     },
     "metadata": {},
     "output_type": "display_data"
    },
    {
     "data": {
      "application/vnd.jupyter.widget-view+json": {
       "model_id": "039b59beaec640b988fcbe052f81ff33",
       "version_major": 2,
       "version_minor": 0
      },
      "text/plain": [
       "Processing Channels (T=0):   0%|          | 0/4 [00:00<?, ?it/s]"
      ]
     },
     "metadata": {},
     "output_type": "display_data"
    },
    {
     "name": "stdout",
     "output_type": "stream",
     "text": [
      "Final image volume shape: (1, 4, 8, 6911, 6911)\n",
      "Saved Zarr array successfully to /mnt/DATA3/BPP0050/BPP0050-1-Live-cell-to4i_Fixed_Cy14__2025-04-27T15_20_15-Measurement 1/acquisition/zarr/(3, 7).zarr\n"
     ]
    },
    {
     "data": {
      "application/vnd.jupyter.widget-view+json": {
       "model_id": "d3068e81aa084a6686c50289624e27a6",
       "version_major": 2,
       "version_minor": 0
      },
      "text/plain": [
       "Processing Time Points:   0%|          | 0/1 [00:00<?, ?it/s]"
      ]
     },
     "metadata": {},
     "output_type": "display_data"
    },
    {
     "data": {
      "application/vnd.jupyter.widget-view+json": {
       "model_id": "8c675b468ec64a68ae6ca3016bcce154",
       "version_major": 2,
       "version_minor": 0
      },
      "text/plain": [
       "Processing Channels (T=0):   0%|          | 0/4 [00:00<?, ?it/s]"
      ]
     },
     "metadata": {},
     "output_type": "display_data"
    },
    {
     "name": "stdout",
     "output_type": "stream",
     "text": [
      "Final image volume shape: (1, 4, 8, 6911, 6911)\n",
      "Saved Zarr array successfully to /mnt/DATA3/BPP0050/BPP0050-1-Live-cell-to4i_Fixed_Cy14__2025-04-27T15_20_15-Measurement 1/acquisition/zarr/(3, 8).zarr\n"
     ]
    },
    {
     "data": {
      "application/vnd.jupyter.widget-view+json": {
       "model_id": "eb6d6c747c5b497ea541458b961222d6",
       "version_major": 2,
       "version_minor": 0
      },
      "text/plain": [
       "Processing Time Points:   0%|          | 0/1 [00:00<?, ?it/s]"
      ]
     },
     "metadata": {},
     "output_type": "display_data"
    },
    {
     "data": {
      "application/vnd.jupyter.widget-view+json": {
       "model_id": "73d976c2e2b44f43961c55ad8fac3d87",
       "version_major": 2,
       "version_minor": 0
      },
      "text/plain": [
       "Processing Channels (T=0):   0%|          | 0/4 [00:00<?, ?it/s]"
      ]
     },
     "metadata": {},
     "output_type": "display_data"
    },
    {
     "name": "stdout",
     "output_type": "stream",
     "text": [
      "Final image volume shape: (1, 4, 8, 6911, 6911)\n",
      "Saved Zarr array successfully to /mnt/DATA3/BPP0050/BPP0050-1-Live-cell-to4i_Fixed_Cy14__2025-04-27T15_20_15-Measurement 1/acquisition/zarr/(3, 9).zarr\n"
     ]
    },
    {
     "data": {
      "application/vnd.jupyter.widget-view+json": {
       "model_id": "4fe01a6f6e7d436e988d54d03e632bb1",
       "version_major": 2,
       "version_minor": 0
      },
      "text/plain": [
       "Processing Time Points:   0%|          | 0/1 [00:00<?, ?it/s]"
      ]
     },
     "metadata": {},
     "output_type": "display_data"
    },
    {
     "data": {
      "application/vnd.jupyter.widget-view+json": {
       "model_id": "1b693346025d40a1b4cd95b536326789",
       "version_major": 2,
       "version_minor": 0
      },
      "text/plain": [
       "Processing Channels (T=0):   0%|          | 0/4 [00:00<?, ?it/s]"
      ]
     },
     "metadata": {},
     "output_type": "display_data"
    },
    {
     "name": "stdout",
     "output_type": "stream",
     "text": [
      "Final image volume shape: (1, 4, 8, 6911, 6911)\n",
      "Saved Zarr array successfully to /mnt/DATA3/BPP0050/BPP0050-1-Live-cell-to4i_Fixed_Cy14__2025-04-27T15_20_15-Measurement 1/acquisition/zarr/(4, 4).zarr\n"
     ]
    },
    {
     "data": {
      "application/vnd.jupyter.widget-view+json": {
       "model_id": "027abfac98f948818b00888bf3817e96",
       "version_major": 2,
       "version_minor": 0
      },
      "text/plain": [
       "Processing Time Points:   0%|          | 0/1 [00:00<?, ?it/s]"
      ]
     },
     "metadata": {},
     "output_type": "display_data"
    },
    {
     "data": {
      "application/vnd.jupyter.widget-view+json": {
       "model_id": "25cfd2ae19774ba1b8838aad7d03f6b5",
       "version_major": 2,
       "version_minor": 0
      },
      "text/plain": [
       "Processing Channels (T=0):   0%|          | 0/4 [00:00<?, ?it/s]"
      ]
     },
     "metadata": {},
     "output_type": "display_data"
    },
    {
     "name": "stdout",
     "output_type": "stream",
     "text": [
      "Final image volume shape: (1, 4, 8, 6911, 6911)\n",
      "Saved Zarr array successfully to /mnt/DATA3/BPP0050/BPP0050-1-Live-cell-to4i_Fixed_Cy14__2025-04-27T15_20_15-Measurement 1/acquisition/zarr/(4, 5).zarr\n"
     ]
    },
    {
     "data": {
      "application/vnd.jupyter.widget-view+json": {
       "model_id": "5d4fa334d1014111adc0d1206c23b348",
       "version_major": 2,
       "version_minor": 0
      },
      "text/plain": [
       "Processing Time Points:   0%|          | 0/1 [00:00<?, ?it/s]"
      ]
     },
     "metadata": {},
     "output_type": "display_data"
    },
    {
     "data": {
      "application/vnd.jupyter.widget-view+json": {
       "model_id": "ba61b9d45e094b86b55a59e457f3db67",
       "version_major": 2,
       "version_minor": 0
      },
      "text/plain": [
       "Processing Channels (T=0):   0%|          | 0/4 [00:00<?, ?it/s]"
      ]
     },
     "metadata": {},
     "output_type": "display_data"
    },
    {
     "name": "stdout",
     "output_type": "stream",
     "text": [
      "Final image volume shape: (1, 4, 8, 6911, 6911)\n",
      "Saved Zarr array successfully to /mnt/DATA3/BPP0050/BPP0050-1-Live-cell-to4i_Fixed_Cy14__2025-04-27T15_20_15-Measurement 1/acquisition/zarr/(4, 6).zarr\n"
     ]
    },
    {
     "data": {
      "application/vnd.jupyter.widget-view+json": {
       "model_id": "1d78a60432d34ec9a08182a7c6de88d6",
       "version_major": 2,
       "version_minor": 0
      },
      "text/plain": [
       "Processing Time Points:   0%|          | 0/1 [00:00<?, ?it/s]"
      ]
     },
     "metadata": {},
     "output_type": "display_data"
    },
    {
     "data": {
      "application/vnd.jupyter.widget-view+json": {
       "model_id": "f0acb484e6be4c9ca6b22d29420717ec",
       "version_major": 2,
       "version_minor": 0
      },
      "text/plain": [
       "Processing Channels (T=0):   0%|          | 0/4 [00:00<?, ?it/s]"
      ]
     },
     "metadata": {},
     "output_type": "display_data"
    },
    {
     "name": "stdout",
     "output_type": "stream",
     "text": [
      "Final image volume shape: (1, 4, 8, 6911, 6911)\n",
      "Saved Zarr array successfully to /mnt/DATA3/BPP0050/BPP0050-1-Live-cell-to4i_Fixed_Cy14__2025-04-27T15_20_15-Measurement 1/acquisition/zarr/(4, 7).zarr\n"
     ]
    },
    {
     "data": {
      "application/vnd.jupyter.widget-view+json": {
       "model_id": "89e98a71e34d433989a0e4676fa93530",
       "version_major": 2,
       "version_minor": 0
      },
      "text/plain": [
       "Processing Time Points:   0%|          | 0/1 [00:00<?, ?it/s]"
      ]
     },
     "metadata": {},
     "output_type": "display_data"
    },
    {
     "data": {
      "application/vnd.jupyter.widget-view+json": {
       "model_id": "f84516001a09403e95e5fada39672c4d",
       "version_major": 2,
       "version_minor": 0
      },
      "text/plain": [
       "Processing Channels (T=0):   0%|          | 0/4 [00:00<?, ?it/s]"
      ]
     },
     "metadata": {},
     "output_type": "display_data"
    },
    {
     "name": "stdout",
     "output_type": "stream",
     "text": [
      "Final image volume shape: (1, 4, 8, 6911, 6911)\n",
      "Saved Zarr array successfully to /mnt/DATA3/BPP0050/BPP0050-1-Live-cell-to4i_Fixed_Cy14__2025-04-27T15_20_15-Measurement 1/acquisition/zarr/(4, 8).zarr\n"
     ]
    },
    {
     "data": {
      "application/vnd.jupyter.widget-view+json": {
       "model_id": "cfe826c9b10646c8969c976f2ef422dd",
       "version_major": 2,
       "version_minor": 0
      },
      "text/plain": [
       "Processing Time Points:   0%|          | 0/1 [00:00<?, ?it/s]"
      ]
     },
     "metadata": {},
     "output_type": "display_data"
    },
    {
     "data": {
      "application/vnd.jupyter.widget-view+json": {
       "model_id": "6e48ada1d1614a9d87c5a27be163540d",
       "version_major": 2,
       "version_minor": 0
      },
      "text/plain": [
       "Processing Channels (T=0):   0%|          | 0/4 [00:00<?, ?it/s]"
      ]
     },
     "metadata": {},
     "output_type": "display_data"
    },
    {
     "name": "stdout",
     "output_type": "stream",
     "text": [
      "Final image volume shape: (1, 4, 8, 6911, 6911)\n",
      "Saved Zarr array successfully to /mnt/DATA3/BPP0050/BPP0050-1-Live-cell-to4i_Fixed_Cy14__2025-04-27T15_20_15-Measurement 1/acquisition/zarr/(4, 9).zarr\n"
     ]
    },
    {
     "data": {
      "application/vnd.jupyter.widget-view+json": {
       "model_id": "197e881e65c94e7cb79d177e446f87cf",
       "version_major": 2,
       "version_minor": 0
      },
      "text/plain": [
       "Processing Time Points:   0%|          | 0/1 [00:00<?, ?it/s]"
      ]
     },
     "metadata": {},
     "output_type": "display_data"
    },
    {
     "data": {
      "application/vnd.jupyter.widget-view+json": {
       "model_id": "16bf0e205b11476fa7f3e990bc4a3b08",
       "version_major": 2,
       "version_minor": 0
      },
      "text/plain": [
       "Processing Channels (T=0):   0%|          | 0/4 [00:00<?, ?it/s]"
      ]
     },
     "metadata": {},
     "output_type": "display_data"
    },
    {
     "name": "stdout",
     "output_type": "stream",
     "text": [
      "Final image volume shape: (1, 4, 8, 6911, 6911)\n",
      "Saved Zarr array successfully to /mnt/DATA3/BPP0050/BPP0050-1-Live-cell-to4i_Fixed_Cy14__2025-04-27T15_20_15-Measurement 1/acquisition/zarr/(5, 4).zarr\n"
     ]
    },
    {
     "data": {
      "application/vnd.jupyter.widget-view+json": {
       "model_id": "c1904fd62dc540e7a3a7d16d866be6bc",
       "version_major": 2,
       "version_minor": 0
      },
      "text/plain": [
       "Processing Time Points:   0%|          | 0/1 [00:00<?, ?it/s]"
      ]
     },
     "metadata": {},
     "output_type": "display_data"
    },
    {
     "data": {
      "application/vnd.jupyter.widget-view+json": {
       "model_id": "db7901d52e4d463cb0facd1d372d5ea5",
       "version_major": 2,
       "version_minor": 0
      },
      "text/plain": [
       "Processing Channels (T=0):   0%|          | 0/4 [00:00<?, ?it/s]"
      ]
     },
     "metadata": {},
     "output_type": "display_data"
    },
    {
     "name": "stdout",
     "output_type": "stream",
     "text": [
      "Final image volume shape: (1, 4, 8, 6911, 6911)\n",
      "Saved Zarr array successfully to /mnt/DATA3/BPP0050/BPP0050-1-Live-cell-to4i_Fixed_Cy14__2025-04-27T15_20_15-Measurement 1/acquisition/zarr/(5, 5).zarr\n",
      "Warning: Less than two unique TimepointIDs found, skipping framerate calculation.\n",
      "OME-Zarr metadata and assay layout saved to: /mnt/DATA3/BPP0050/BPP0050-1-Live-cell-to4i_Fixed_Cy14__2025-04-27T15_20_15-Measurement 1//acquisition/zarr//.zattrs\n"
     ]
    },
    {
     "name": "stderr",
     "output_type": "stream",
     "text": [
      "/tmp/ipykernel_8701/2682895781.py:152: FutureWarning: errors='ignore' is deprecated and will raise in a future version. Use to_numeric without passing `errors` and catch exceptions explicitly instead\n",
      "  timepoint_abs_times = metadata[['TimepointID', 'AbsTime']].drop_duplicates(subset=['TimepointID']).sort_values(key=lambda x: pd.to_numeric(x, errors='ignore'), by='TimepointID')\n"
     ]
    }
   ],
   "source": [
    "\n",
    "\n",
    "for base_dir in tqdm(base_dirs, total = len(base_dirs)):\n",
    "\n",
    "    base_dir_ID = base_dir.split('/')[-2] #os.path.basename(base_dir)\n",
    "    if base_dir_ID == 'BPP0050-1-Live-cell-to4i_Live-2__2025-04-10T18_45_48-Measurement 1':\n",
    "        print('skipping untransferred', base_dir_ID)\n",
    "        continue\n",
    "    \n",
    "    metadata_fn = os.path.join(base_dir, 'acquisition/Images/Index.idx.xml')\n",
    "    metadata = dataio.read_harmony_metadata(metadata_fn)  \n",
    "\n",
    "    # Convert applicable columns to numeric values\n",
    "    metadata = metadata.apply(pd.to_numeric, errors='ignore')\n",
    "    # Invert Y coordinates (cathode ray tube adjustment)\n",
    "    metadata['PositionY'] = -metadata['PositionY']\n",
    "    \n",
    "    # Find the minimum Z position for non-Phase Contrast channels\n",
    "    min_z = metadata.loc[~metadata['ChannelName'].str.contains('Phase Contrast', case=False, na=False), 'PositionZ'].min()\n",
    "    \n",
    "    # Assign this minimum Z value to all \"Phase Contrast\" channels\n",
    "    metadata.loc[metadata['ChannelName'].str.contains('Phase Contrast', case=False, na=False), 'PositionZ'] = min_z\n",
    "    \n",
    "    image_dir = os.path.join(base_dir, 'acquisition/Images/')\n",
    "    # use the metadata for the rows cols as the assay layout can be the same for multiple acquisitions, encompassing multiple layouts\n",
    "    rows_cols = metadata[['Row', 'Col']].drop_duplicates().values\n",
    "    \n",
    "    assay_layout_fn = glob.glob(os.path.join(base_dir, 'acquisition/Assaylayout/*.xml'))[0]\n",
    "    assay_layout = load_assay_layout(assay_layout_fn)\n",
    "\n",
    "\n",
    "\n",
    "\n",
    "    for row_col in tqdm(rows_cols, desc=f'Now tiling in {base_dir_ID}', total = len(rows_cols)):\n",
    "        row, column = int(row_col[0]), int(row_col[1])\n",
    "        col = column\n",
    "        acq_ID = row, column\n",
    "        \n",
    "        if os.path.exists(os.path.join(base_dir, f'acquisition/zarr/{acq_ID}.zarr')):\n",
    "            print(os.path.join(base_dir, f'acquisition/zarr/{acq_ID}.zarr'), 'already exists, skipping')\n",
    "            continue\n",
    "\n",
    "        # Filter metadata for the current row and column (include all time points)\n",
    "        position_metadata = metadata[(metadata['Row'] == row) & (metadata['Col'] == column)]\n",
    "        # Get unique time points\n",
    "        timepoint_ids = sorted(position_metadata['TimepointID'].unique())\n",
    "        # Initialize a list to store time-lapse volumes\n",
    "        time_volumes = []\n",
    "        \n",
    "        sample_tile_id =  position_metadata.iloc[0]\n",
    "        # Iterate over each time point\n",
    "        for timepoint_id in tqdm(timepoint_ids, desc=\"Processing Time Points\", leave=True, position=1):\n",
    "            # Filter metadata for the current time point\n",
    "            time_metadata = position_metadata[position_metadata['TimepointID'] == timepoint_id]\n",
    "            # Get unique Channel\n",
    "            channel_ids = sorted(time_metadata['ChannelID'].unique())\n",
    "            # Initialize a list to hold each channel's Z-stack for this time point\n",
    "            channel_volumes = []\n",
    "            # Iterate over each channel\n",
    "            for channel_id in tqdm(channel_ids, desc=f\"Processing Channels (T={timepoint_id})\", leave=False, position=2):\n",
    "                # get specific channel metadata\n",
    "                channel_slice_metadata = time_metadata[time_metadata['ChannelID'] == channel_id]\n",
    "                # get z positions for this channel\n",
    "                z_ids = sorted(channel_slice_metadata['PositionZ'].unique())\n",
    "                # init a list to hold z slices\n",
    "                z_slices = []\n",
    "                # Iterate over Z positions\n",
    "                for z_id in z_ids:#tqdm(z_positions, desc=\"Processing Z-slices\", leave=False, position=3):\n",
    "                    # get specific z slice metadata\n",
    "                    z_slice_metadata = channel_slice_metadata[channel_slice_metadata['PositionZ'] == z_id]\n",
    "                    # Initialize mosaic_slice if needed, ie for the first image to be placed in the blank slate\n",
    "                    mosaic_size_x = int((z_slice_metadata['PositionX'].max() - z_slice_metadata['PositionX'].min()) / sample_tile_id['ImageResolutionX']) + sample_tile_id['ImageSizeX']\n",
    "                    mosaic_size_y = int((z_slice_metadata['PositionY'].max() - z_slice_metadata['PositionY'].min()) / sample_tile_id['ImageResolutionY']) + sample_tile_id['ImageSizeY']\n",
    "                    # For each position, create a large mosaic (accumulator & weight)\n",
    "                    # Suppose mosaic_size_y, mosaic_size_x is the total bounding box in Y and X.\n",
    "                    accumulator = np.zeros((mosaic_size_y, mosaic_size_x), dtype=np.float32)\n",
    "                    weight_map  = np.zeros((mosaic_size_y, mosaic_size_x), dtype=np.float32)\n",
    "                    \n",
    "                    for tile_index, tile_id in z_slice_metadata.iterrows():\n",
    "                        # load the tile\n",
    "                        img_path = os.path.join(image_dir, tile_id['URL'])\n",
    "                        try:\n",
    "                            tile = imread(img_path).astype(np.float32)\n",
    "                        except FileNotFoundError:\n",
    "                            tile = np.zeros((tile_id['ImageSizeY'], tile_id['ImageSizeX']), dtype=np.float32)\n",
    "                    \n",
    "                        # create alpha mask for this tile's shape\n",
    "                        alpha_mask = create_alpha_mask(tile.shape[0], tile.shape[1], feather=0.1)\n",
    "                    \n",
    "                        # figure out where to place this tile in the mosaic\n",
    "                        x_pixel = int((tile_id['PositionX'] - z_slice_metadata['PositionX'].min()) / tile_id['ImageResolutionX'])\n",
    "                        y_pixel = int((tile_id['PositionY'] - z_slice_metadata['PositionY'].min()) / tile_id['ImageResolutionY'])\n",
    "                    \n",
    "                        # add into the accumulator & weight\n",
    "                        # We slice out the region in the mosaic that corresponds to this tile\n",
    "                        acc_slice = accumulator[y_pixel:y_pixel+tile.shape[0], x_pixel:x_pixel+tile.shape[1]]\n",
    "                        wgt_slice = weight_map[y_pixel:y_pixel+tile.shape[0], x_pixel:x_pixel+tile.shape[1]]\n",
    "                    \n",
    "                        acc_slice += tile * alpha_mask\n",
    "                        wgt_slice += alpha_mask\n",
    "                    \n",
    "                    # AFTER all tiles are placed:\n",
    "                    final_mosaic = np.zeros_like(accumulator, dtype=np.float32)\n",
    "                    \n",
    "                    # Avoid division by zero\n",
    "                    nonzero_mask = (weight_map > 0)\n",
    "                    final_mosaic[nonzero_mask] = accumulator[nonzero_mask] / weight_map[nonzero_mask]\n",
    "                    \n",
    "                    # Then, convert final mosaic to e.g. uint16 if desired\n",
    "                    mosaic = np.clip(final_mosaic, 0, 65535).astype(np.uint16)\n",
    "                    \n",
    "                    # now append that mosaic z slice to z slices stack, different if DPC\n",
    "                    if \"Phase Contrast\" in channel_slice_metadata['ChannelName'].iloc[0]:  \n",
    "                        # print(f\"Distributing DPC image across Z slices\")\n",
    "                        dpc_slice = mosaic / len(metadata['PositionZ'].unique())  \n",
    "                        z_slices = [mosaic] * len(metadata['PositionZ'].unique())  \n",
    "                        break  \n",
    "                    else:\n",
    "                        z_slices.append(mosaic)\n",
    "                    \n",
    "                #stack z slices into a channel volume\n",
    "                if len(z_slices) > 0:\n",
    "                    # channel_volume = np.max(z_slices, axis=0)\n",
    "                    channel_volume = np.stack(z_slices, axis=0)\n",
    "                    channel_volumes.append(channel_volume)\n",
    "            # stack the channel volume into a time volume\n",
    "            if len(channel_volumes) > 0:\n",
    "                image_volume_czyx = np.stack(channel_volumes, axis=0)  # C, Z, Y, X\n",
    "                time_volumes.append(image_volume_czyx)  # Store for this time point\n",
    "        # Stack all time points into a 5D array (T, C, Z, Y, X)\n",
    "        if len(time_volumes) > 0:\n",
    "            images = np.stack(time_volumes, axis=0)  # T, C, Z, Y, X\n",
    "            print(f\"Final image volume shape: {images.shape}\")\n",
    "\n",
    "        try:\n",
    "            zarr_output_dir = os.path.join(base_dir, f'acquisition/zarr/{acq_ID}.zarr')\n",
    "            dask_images = dask.array.from_array(images)\n",
    "            zarr_group = zarr.open(zarr_output_dir, mode='w')\n",
    "            dask.array.to_zarr(dask_images, zarr_output_dir, component='images')\n",
    "            print(f\"Saved Zarr array successfully to {zarr_output_dir}\")\n",
    "        except:\n",
    "            print(base_dir_ID, acq_ID, 'zarr output failed')\n",
    "\n",
    "    # --- Omero Metadata ---\n",
    "    omero_metadata = {}\n",
    "    average_time_difference_seconds = None\n",
    "\n",
    "    # Calculate temporal framerate based on unique, sorted TimepointIDs\n",
    "    if 'AbsTime' in metadata.columns and 'TimepointID' in metadata.columns:\n",
    "        try:\n",
    "            if not pd.api.types.is_datetime64_any_dtype(metadata['AbsTime']):\n",
    "                metadata['AbsTime'] = pd.to_datetime(metadata['AbsTime'], format='ISO8601', utc=True)\n",
    "\n",
    "            timepoint_abs_times = metadata[['TimepointID', 'AbsTime']].drop_duplicates(subset=['TimepointID']).sort_values(key=lambda x: pd.to_numeric(x, errors='ignore'), by='TimepointID')\n",
    "\n",
    "            if len(timepoint_abs_times['TimepointID'].unique()) > 1: # Check if there is a time series\n",
    "                # Calculate the time difference between consecutive timepoints in seconds\n",
    "                time_diffs = timepoint_abs_times['AbsTime'].diff().dt.total_seconds().dropna()\n",
    "\n",
    "                if not time_diffs.empty:\n",
    "                    # Calculate the average time difference in seconds\n",
    "                    average_time_difference_seconds = time_diffs.mean()\n",
    "                    if average_time_difference_seconds > 0:\n",
    "                        framerate = 1 / average_time_difference_seconds\n",
    "                        omero_metadata['frameRate'] = framerate\n",
    "                        print(f\"Calculated framerate: {framerate} frames per second\")\n",
    "                    else:\n",
    "                        print(\"Warning: Average time difference is zero or negative, cannot calculate framerate.\")\n",
    "                else:\n",
    "                    print(\"Warning: Could not calculate time differences for framerate.\")\n",
    "            else:\n",
    "                print(\"Warning: Less than two unique TimepointIDs found, skipping framerate calculation.\")\n",
    "\n",
    "        except Exception as e:\n",
    "            print(f\"Warning: An error occurred while calculating framerate: {e}\")\n",
    "    # Channels (rest of your channel metadata code remains the same)\n",
    "    channels_data = []\n",
    "    for index, row in metadata.drop_duplicates(subset=['ChannelID']).iterrows():\n",
    "        emission_wavelength_meters = None\n",
    "        excitation_wavelength_meters = None\n",
    "    \n",
    "        if pd.notna(row['MainEmissionWavelength']):\n",
    "            try:\n",
    "                emission_wavelength = float(row['MainEmissionWavelength'])\n",
    "                emission_wavelength_meters = emission_wavelength * 1e-9\n",
    "            except ValueError:\n",
    "                print(f\"Warning: Could not convert '{row['MainEmissionWavelength']}' to float for emission wavelength (Channel ID: {row['ChannelID']}). Setting to None.\")\n",
    "    \n",
    "        if pd.notna(row['MainExcitationWavelength']):\n",
    "            try:\n",
    "                excitation_wavelength = float(row['MainExcitationWavelength'])\n",
    "                excitation_wavelength_meters = excitation_wavelength * 1e-9\n",
    "            except ValueError:\n",
    "                print(f\"Warning: Could not convert '{row['MainExcitationWavelength']}' to float for excitation wavelength (Channel ID: {row['ChannelID']}). Setting to None.\")\n",
    "    \n",
    "        channel = {\n",
    "            \"id\": int(row['ChannelID']),\n",
    "            \"label\": row['ChannelName'],\n",
    "            \"emissionWaveMeters\": emission_wavelength_meters,\n",
    "            \"excitationWaveMeters\": excitation_wavelength_meters,\n",
    "            # Add other relevant channel metadata if available\n",
    "        }\n",
    "        channels_data.append(channel)\n",
    "    omero_metadata['channels'] = channels_data\n",
    "    \n",
    "    # Objective (rest of your objective metadata code remains the same)\n",
    "    objective_data = {}\n",
    "    if 'ObjectiveMagnification' in metadata.columns and pd.notna(metadata['ObjectiveMagnification'].iloc[0]):\n",
    "        try:\n",
    "            objective_data['magnification'] = float(metadata['ObjectiveMagnification'].iloc[0])\n",
    "        except ValueError:\n",
    "            print(f\"Warning: Could not convert '{metadata['ObjectiveMagnification'].iloc[0]}' to float for objective magnification. Skipping.\")\n",
    "    if 'ObjectiveNA' in metadata.columns and pd.notna(metadata['ObjectiveNA'].iloc[0]):\n",
    "        try:\n",
    "            objective_data['numericalAperture'] = float(metadata['ObjectiveNA'].iloc[0])\n",
    "        except ValueError:\n",
    "            print(f\"Warning: Could not convert '{metadata['ObjectiveNA'].iloc[0]}' to float for objective NA. Skipping.\")\n",
    "    if objective_data:\n",
    "        omero_metadata['objective'] = objective_data\n",
    "\n",
    "    # --- Multiscales Metadata ---\n",
    "    multiscales_data = [{\n",
    "        \"name\": \"images\",\n",
    "        \"datasets\": [],\n",
    "        \"axes\": [\n",
    "            {\"name\": \"t\", \"type\": \"time\", \"unit\": \"second\", \"spacing\": average_time_difference_seconds},\n",
    "            {\"name\": \"c\", \"type\": \"channel\"},\n",
    "            {\"name\": \"z\", \"type\": \"space\", \"unit\": \"meter\", \"spacing\": None},\n",
    "            {\"name\": \"y\", \"type\": \"space\", \"unit\": \"meter\", \"pixelResolution\": None},\n",
    "            {\"name\": \"x\", \"type\": \"space\", \"unit\": \"meter\", \"pixelResolution\": None}\n",
    "        ],\n",
    "        \"type\": \"image\",\n",
    "        \"version\": \"0.4\"\n",
    "    }]\n",
    "\n",
    "    # Iterate through your existing Zarr directories to populate datasets (remains the same)\n",
    "    zarr_root_dir = f'{base_dir}/acquisition/zarr/'\n",
    "    for filename in os.listdir(zarr_root_dir):\n",
    "        if filename.endswith('.zarr'):\n",
    "            position_name = filename.replace('.zarr', '')\n",
    "            multiscales_data[0]['datasets'].append({\"path\": f\"{filename}/images\"})\n",
    "\n",
    "    # Add Image resolution and size information (remains the same)\n",
    "    if 'ImageResolutionX' in metadata.columns and 'ImageResolutionY' in metadata.columns:\n",
    "        try:\n",
    "            resolution_x = float(metadata['ImageResolutionX'].iloc[0])\n",
    "            resolution_y = float(metadata['ImageResolutionY'].iloc[0])\n",
    "            multiscales_data[0]['axes'][3]['pixelResolution'] = resolution_y\n",
    "            multiscales_data[0]['axes'][4]['pixelResolution'] = resolution_x\n",
    "        except ValueError:\n",
    "            print(\"Warning: Could not convert ImageResolutionX or ImageResolutionY to float. Skipping resolution metadata.\")\n",
    "        except IndexError:\n",
    "            print(\"Warning: Could not set pixelResolution, check axes configuration.\")\n",
    "\n",
    "    if 'ImageSizeX' in metadata.columns and 'ImageSizeY' in metadata.columns:\n",
    "        try:\n",
    "            size_x = int(metadata['ImageSizeX'].iloc[0])\n",
    "            size_y = int(metadata['ImageSizeY'].iloc[0])\n",
    "        except ValueError:\n",
    "            print(\"Warning: Could not convert ImageSizeX or ImageSizeY to int. Skipping image size metadata.\")\n",
    "\n",
    "    # Calculate mode of differences between unique Z positions for pseudo z-resolution (remains the same)\n",
    "    if 'PositionZ' in metadata.columns:\n",
    "        try:\n",
    "            z_positions = metadata['PositionZ'].astype(float).unique()\n",
    "            z_positions_sorted = np.sort(z_positions)\n",
    "            if len(z_positions_sorted) > 1:\n",
    "                z_diffs = np.diff(z_positions_sorted)\n",
    "                mode_result = stats.mode(z_diffs)\n",
    "                if mode_result.count > 0:\n",
    "                    modal_z_diff = mode_result.mode\n",
    "                    multiscales_data[0]['axes'][2]['spacing'] = modal_z_diff # in meters\n",
    "                    multiscales_data[0]['axes'][2]['unit'] = \"meter\"\n",
    "                else:\n",
    "                    print(\"Warning: No unique mode found for z-position differences.\")\n",
    "            else:\n",
    "                print(\"Warning: Only one unique z position found, cannot calculate z difference mode.\")\n",
    "        except ValueError:\n",
    "            print(\"Warning: Could not process PositionZ values for z-resolution calculation.\")\n",
    "        except IndexError:\n",
    "            print(\"Warning: Could not set z spacing, check axes configuration.\")\n",
    "\n",
    "\n",
    "    # --- Combine Metadata and save ---\n",
    "    top_level_attrs = {\n",
    "        \"assay_layout\": assay_layout.to_dict(orient='index'),\n",
    "        \"omero\": omero_metadata,\n",
    "        \"multiscales\": multiscales_data,\n",
    "        \"version\": \"0.4\",\n",
    "    }\n",
    "\n",
    "    # Create the top-level Zarr group and save metadata\n",
    "    group = zarr.group(zarr_root_dir, overwrite=False)\n",
    "    group.attrs.put(top_level_attrs)\n",
    "\n",
    "    print(f\"OME-Zarr metadata and assay layout saved to: {zarr_root_dir}/.zattrs\")"
   ]
  },
  {
   "cell_type": "markdown",
   "id": "d657de83-8087-440f-83dc-0df8e83dc577",
   "metadata": {},
   "source": [
    "# redo this one: '/mnt/DATA3/BPP0050/BPP0050-1-Live-cell-to4i_Live-2__2025-04-10T18_45_48-Measurement 1/acquisition/Images/Index.idx.xml'\n"
   ]
  }
 ],
 "metadata": {
  "kernelspec": {
   "display_name": "godspeed",
   "language": "python",
   "name": "godspeed"
  },
  "language_info": {
   "codemirror_mode": {
    "name": "ipython",
    "version": 3
   },
   "file_extension": ".py",
   "mimetype": "text/x-python",
   "name": "python",
   "nbconvert_exporter": "python",
   "pygments_lexer": "ipython3",
   "version": "3.10.13"
  }
 },
 "nbformat": 4,
 "nbformat_minor": 5
}
