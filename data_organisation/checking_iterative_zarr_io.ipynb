{
 "cells": [
  {
   "cell_type": "code",
   "execution_count": 6,
   "id": "4c0d5363-468d-4132-98e0-4409ce9d86fc",
   "metadata": {},
   "outputs": [],
   "source": [
    "import zarr\n",
    "from pathlib import Path\n",
    "import os"
   ]
  },
  {
   "cell_type": "code",
   "execution_count": 5,
   "id": "06f0565d-4841-4bd7-b922-58ab61a1acd2",
   "metadata": {},
   "outputs": [],
   "source": [
    "base_dir = Path('/mnt/DATA3/BPP0050/BPP0050-1-Live-cell-to4i_Live-2__2025-04-10T18_45_48-Measurement 1/acquisition/zarr')"
   ]
  },
  {
   "cell_type": "code",
   "execution_count": 7,
   "id": "8493fa02-7695-4dd6-8808-a9f3269ca6e5",
   "metadata": {},
   "outputs": [
    {
     "data": {
      "text/plain": [
       "['(3, 5).zarr', '(3, 4).zarr', '(5, 4).zarr', '(5, 5).zarr']"
      ]
     },
     "execution_count": 7,
     "metadata": {},
     "output_type": "execute_result"
    }
   ],
   "source": [
    "os.listdir(base_dir)"
   ]
  },
  {
   "cell_type": "code",
   "execution_count": 9,
   "id": "65f90515-458a-4548-9961-45baa380c990",
   "metadata": {},
   "outputs": [
    {
     "data": {
      "text/plain": [
       "PosixPath('/mnt/DATA3/BPP0050/BPP0050-1-Live-cell-to4i_Live-2__2025-04-10T18_45_48-Measurement 1/acquisition/zarr/(5, 5).zarr')"
      ]
     },
     "execution_count": 9,
     "metadata": {},
     "output_type": "execute_result"
    }
   ],
   "source": [
    "base_dir / '(5, 5).zarr'"
   ]
  },
  {
   "cell_type": "code",
   "execution_count": 11,
   "id": "60a1cf96-8aff-4eb8-8e94-6dbd8f1c76c7",
   "metadata": {},
   "outputs": [],
   "source": [
    "images = zarr.open_group(base_dir / '(5, 5).zarr').images"
   ]
  },
  {
   "cell_type": "code",
   "execution_count": 12,
   "id": "1f8473b9-1264-454a-9c3f-f097dc77b80a",
   "metadata": {},
   "outputs": [
    {
     "data": {
      "text/plain": [
       "(144, 3, 3, 6911, 6911)"
      ]
     },
     "execution_count": 12,
     "metadata": {},
     "output_type": "execute_result"
    }
   ],
   "source": [
    "images.shape"
   ]
  },
  {
   "cell_type": "code",
   "execution_count": 13,
   "id": "db266dd6-fadb-4166-81a3-acf73a24d80a",
   "metadata": {},
   "outputs": [],
   "source": [
    "import napari"
   ]
  },
  {
   "cell_type": "code",
   "execution_count": 14,
   "id": "7174fcb5-78fb-43d6-bc70-16d160f85192",
   "metadata": {},
   "outputs": [
    {
     "data": {
      "text/plain": [
       "[<Image layer 'Image' at 0x7fca210cfdf0>,\n",
       " <Image layer 'Image [1]' at 0x7fc99417b310>,\n",
       " <Image layer 'Image [2]' at 0x7fc99664fdf0>]"
      ]
     },
     "execution_count": 14,
     "metadata": {},
     "output_type": "execute_result"
    }
   ],
   "source": [
    "viewer = napari.Viewer()\n",
    "viewer.add_image(images[0:10,...], channel_axis = 1)"
   ]
  }
 ],
 "metadata": {
  "kernelspec": {
   "display_name": "godspeed",
   "language": "python",
   "name": "godspeed"
  },
  "language_info": {
   "codemirror_mode": {
    "name": "ipython",
    "version": 3
   },
   "file_extension": ".py",
   "mimetype": "text/x-python",
   "name": "python",
   "nbconvert_exporter": "python",
   "pygments_lexer": "ipython3",
   "version": "3.10.13"
  }
 },
 "nbformat": 4,
 "nbformat_minor": 5
}
