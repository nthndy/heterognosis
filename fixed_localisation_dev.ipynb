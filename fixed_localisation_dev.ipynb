{
 "cells": [
  {
   "cell_type": "code",
   "execution_count": 1,
   "id": "865feb78-f1f3-497b-b3bf-2872a2880c81",
   "metadata": {},
   "outputs": [],
   "source": [
    "from skimage import io\n",
    "import glob\n",
    "import os\n",
    "from natsort import natsorted\n",
    "import numpy as np"
   ]
  },
  {
   "cell_type": "code",
   "execution_count": 3,
   "id": "58400ccd-c787-460a-b999-a7c6ecf2f32d",
   "metadata": {},
   "outputs": [],
   "source": [
    "image_fns = glob.glob('/Volumes/lab-gutierrezm/home/shared/Shared - Baptiste Pradel/4i/Live-cell to 4i for Nathan/BPP0050-1-Live-cell-to4i_Fixed_Cy1__2025-04-14T16_57_11-Measurement 1/Images/*tif*')"
   ]
  },
  {
   "cell_type": "code",
   "execution_count": 4,
   "id": "b39512e8-2f6e-4ddd-a96f-6152ef94fecc",
   "metadata": {},
   "outputs": [
    {
     "data": {
      "text/plain": [
       "['Assaylayout', 'Images', 'FFC_Profile']"
      ]
     },
     "execution_count": 4,
     "metadata": {},
     "output_type": "execute_result"
    }
   ],
   "source": [
    "os.listdir('/Volumes/lab-gutierrezm/home/shared/Shared - Baptiste Pradel/4i/Live-cell to 4i for Nathan/BPP0050-1-Live-cell-to4i_Fixed_Cy1__2025-04-14T16_57_11-Measurement 1')"
   ]
  },
  {
   "cell_type": "code",
   "execution_count": 5,
   "id": "55b17cee-8301-4e5c-a76e-6babf9c3d565",
   "metadata": {},
   "outputs": [
    {
     "name": "stderr",
     "output_type": "stream",
     "text": [
      "IOPub data rate exceeded.\n",
      "The Jupyter server will temporarily stop sending output\n",
      "to the client in order to avoid crashing it.\n",
      "To change this limit, set the config variable\n",
      "`--ServerApp.iopub_data_rate_limit`.\n",
      "\n",
      "Current values:\n",
      "ServerApp.iopub_data_rate_limit=1000000.0 (bytes/sec)\n",
      "ServerApp.rate_limit_window=3.0 (secs)\n",
      "\n"
     ]
    }
   ],
   "source": [
    "print(image_fns)"
   ]
  },
  {
   "cell_type": "code",
   "execution_count": 6,
   "id": "0fb26fe1-a575-475b-85df-2f54a20f1ba6",
   "metadata": {},
   "outputs": [],
   "source": [
    "base_dir = '/Volumes/lab-gutierrezm/home/shared/Shared - Baptiste Pradel/4i/Live-cell to 4i for Nathan/BPP0050-1-Live-cell-to4i_Fixed_Cy1__2025-04-14T16_57_11-Measurement 1/Images/'\n",
    "fn_template = os.path.join(base_dir, 'r03c05f01p01-ch*sk1fk1fl1.tiff')\n",
    "fns = glob.glob(fn_template)"
   ]
  },
  {
   "cell_type": "code",
   "execution_count": 7,
   "id": "028b3013-3fff-4162-b613-eb9c74668424",
   "metadata": {},
   "outputs": [
    {
     "data": {
      "text/plain": [
       "['/Volumes/lab-gutierrezm/home/shared/Shared - Baptiste Pradel/4i/Live-cell to 4i for Nathan/BPP0050-1-Live-cell-to4i_Fixed_Cy1__2025-04-14T16_57_11-Measurement 1/Images/r03c05f01p01-ch2sk1fk1fl1.tiff',\n",
       " '/Volumes/lab-gutierrezm/home/shared/Shared - Baptiste Pradel/4i/Live-cell to 4i for Nathan/BPP0050-1-Live-cell-to4i_Fixed_Cy1__2025-04-14T16_57_11-Measurement 1/Images/r03c05f01p01-ch3sk1fk1fl1.tiff',\n",
       " '/Volumes/lab-gutierrezm/home/shared/Shared - Baptiste Pradel/4i/Live-cell to 4i for Nathan/BPP0050-1-Live-cell-to4i_Fixed_Cy1__2025-04-14T16_57_11-Measurement 1/Images/r03c05f01p01-ch4sk1fk1fl1.tiff',\n",
       " '/Volumes/lab-gutierrezm/home/shared/Shared - Baptiste Pradel/4i/Live-cell to 4i for Nathan/BPP0050-1-Live-cell-to4i_Fixed_Cy1__2025-04-14T16_57_11-Measurement 1/Images/r03c05f01p01-ch5sk1fk1fl1.tiff',\n",
       " '/Volumes/lab-gutierrezm/home/shared/Shared - Baptiste Pradel/4i/Live-cell to 4i for Nathan/BPP0050-1-Live-cell-to4i_Fixed_Cy1__2025-04-14T16_57_11-Measurement 1/Images/r03c05f01p01-ch6sk1fk1fl1.tiff']"
      ]
     },
     "execution_count": 7,
     "metadata": {},
     "output_type": "execute_result"
    }
   ],
   "source": [
    "fns = natsorted(fns)\n",
    "fns"
   ]
  },
  {
   "cell_type": "code",
   "execution_count": 8,
   "id": "c2bcf861-31ec-4504-99cc-384d7ed1b667",
   "metadata": {},
   "outputs": [],
   "source": [
    "images = np.stack([io.imread(fn) for fn in fns], axis = 0)"
   ]
  },
  {
   "cell_type": "code",
   "execution_count": 15,
   "id": "0dc12cb6-5429-4251-9747-e82eacf11069",
   "metadata": {},
   "outputs": [],
   "source": [
    "import napari"
   ]
  },
  {
   "cell_type": "code",
   "execution_count": 17,
   "id": "d8031333-e589-46ce-b625-9c4bbb065a5c",
   "metadata": {},
   "outputs": [
    {
     "data": {
      "text/plain": [
       "[<Image layer 'Image' at 0x1369ee110>,\n",
       " <Image layer 'Image [1]' at 0x315daae90>,\n",
       " <Image layer 'Image [2]' at 0x3171c7fa0>,\n",
       " <Image layer 'Image [3]' at 0x1369ede70>,\n",
       " <Image layer 'Image [4]' at 0x317148c10>]"
      ]
     },
     "execution_count": 17,
     "metadata": {},
     "output_type": "execute_result"
    }
   ],
   "source": [
    "viewer = napari.Viewer()\n",
    "viewer.add_image(images, channel_axis=0)"
   ]
  },
  {
   "cell_type": "markdown",
   "id": "c03a9865-1bec-44c4-82cb-3e860c7824ce",
   "metadata": {},
   "source": [
    "# Previous code"
   ]
  },
  {
   "cell_type": "code",
   "execution_count": null,
   "id": "a9239b06-2613-4f30-86cf-3a7908c3102a",
   "metadata": {},
   "outputs": [],
   "source": [
    "base_dir = '/mnt/DATA3/BPP0050'\n",
    "zarr_dirs = glob.glob(os.path.join(base_dir, '*fixed*/acquisition/zarr/*/'))"
   ]
  },
  {
   "cell_type": "code",
   "execution_count": 7,
   "id": "ecf7a558-bc70-40a7-9cd5-b397fa25366c",
   "metadata": {
    "scrolled": true
   },
   "outputs": [
    {
     "data": {
      "application/vnd.jupyter.widget-view+json": {
       "model_id": "96a1f852bf8048a7ad92f8d3ed1dea4a",
       "version_major": 2,
       "version_minor": 0
      },
      "text/plain": [
       "  0%|          | 0/16 [00:00<?, ?it/s]"
      ]
     },
     "metadata": {},
     "output_type": "display_data"
    },
    {
     "data": {
      "application/vnd.jupyter.widget-view+json": {
       "model_id": "6aa0bbe6b1434e91a33ce7ac5b57f228",
       "version_major": 2,
       "version_minor": 0
      },
      "text/plain": [
       "  0%|          | 0/289 [00:00<?, ?it/s]"
      ]
     },
     "metadata": {},
     "output_type": "display_data"
    },
    {
     "name": "stderr",
     "output_type": "stream",
     "text": [
      "Resizing is depricated in v4.0.1+\n",
      "Resizing is depricated in v4.0.1+\n",
      "Resizing is depricated in v4.0.1+\n",
      "Resizing is depricated in v4.0.1+\n",
      "Resizing is depricated in v4.0.1+\n",
      "Resizing is depricated in v4.0.1+\n",
      "Resizing is depricated in v4.0.1+\n",
      "Resizing is depricated in v4.0.1+\n",
      "Resizing is depricated in v4.0.1+\n",
      "Resizing is depricated in v4.0.1+\n",
      "Resizing is depricated in v4.0.1+\n",
      "Resizing is depricated in v4.0.1+\n",
      "Resizing is depricated in v4.0.1+\n",
      "Resizing is depricated in v4.0.1+\n",
      "Resizing is depricated in v4.0.1+\n",
      "Resizing is depricated in v4.0.1+\n",
      "Resizing is depricated in v4.0.1+\n",
      "Resizing is depricated in v4.0.1+\n",
      "Resizing is depricated in v4.0.1+\n",
      "Resizing is depricated in v4.0.1+\n",
      "Resizing is depricated in v4.0.1+\n",
      "Resizing is depricated in v4.0.1+\n",
      "Resizing is depricated in v4.0.1+\n",
      "Resizing is depricated in v4.0.1+\n",
      "Resizing is depricated in v4.0.1+\n",
      "Resizing is depricated in v4.0.1+\n",
      "Resizing is depricated in v4.0.1+\n",
      "Resizing is depricated in v4.0.1+\n",
      "Resizing is depricated in v4.0.1+\n",
      "Resizing is depricated in v4.0.1+\n",
      "Resizing is depricated in v4.0.1+\n",
      "Resizing is depricated in v4.0.1+\n",
      "Resizing is depricated in v4.0.1+\n",
      "Resizing is depricated in v4.0.1+\n",
      "Resizing is depricated in v4.0.1+\n",
      "Resizing is depricated in v4.0.1+\n",
      "Resizing is depricated in v4.0.1+\n",
      "Resizing is depricated in v4.0.1+\n",
      "Resizing is depricated in v4.0.1+\n",
      "Resizing is depricated in v4.0.1+\n",
      "Resizing is depricated in v4.0.1+\n",
      "Resizing is depricated in v4.0.1+\n",
      "Resizing is depricated in v4.0.1+\n",
      "Resizing is depricated in v4.0.1+\n",
      "Resizing is depricated in v4.0.1+\n",
      "Resizing is depricated in v4.0.1+\n",
      "Resizing is depricated in v4.0.1+\n",
      "Resizing is depricated in v4.0.1+\n",
      "Resizing is depricated in v4.0.1+\n",
      "Resizing is depricated in v4.0.1+\n",
      "Resizing is depricated in v4.0.1+\n",
      "Resizing is depricated in v4.0.1+\n",
      "Resizing is depricated in v4.0.1+\n",
      "Resizing is depricated in v4.0.1+\n",
      "Resizing is depricated in v4.0.1+\n",
      "Resizing is depricated in v4.0.1+\n",
      "Resizing is depricated in v4.0.1+\n",
      "Resizing is depricated in v4.0.1+\n",
      "Resizing is depricated in v4.0.1+\n",
      "Resizing is depricated in v4.0.1+\n",
      "Resizing is depricated in v4.0.1+\n",
      "Resizing is depricated in v4.0.1+\n",
      "Resizing is depricated in v4.0.1+\n",
      "Resizing is depricated in v4.0.1+\n",
      "Resizing is depricated in v4.0.1+\n",
      "Resizing is depricated in v4.0.1+\n",
      "Resizing is depricated in v4.0.1+\n",
      "Resizing is depricated in v4.0.1+\n",
      "Resizing is depricated in v4.0.1+\n",
      "Resizing is depricated in v4.0.1+\n",
      "Resizing is depricated in v4.0.1+\n",
      "Resizing is depricated in v4.0.1+\n",
      "Resizing is depricated in v4.0.1+\n",
      "Resizing is depricated in v4.0.1+\n",
      "Resizing is depricated in v4.0.1+\n",
      "Resizing is depricated in v4.0.1+\n",
      "Resizing is depricated in v4.0.1+\n",
      "Resizing is depricated in v4.0.1+\n",
      "Resizing is depricated in v4.0.1+\n",
      "Resizing is depricated in v4.0.1+\n",
      "Resizing is depricated in v4.0.1+\n",
      "Resizing is depricated in v4.0.1+\n",
      "Resizing is depricated in v4.0.1+\n",
      "Resizing is depricated in v4.0.1+\n",
      "Resizing is depricated in v4.0.1+\n"
     ]
    },
    {
     "ename": "KeyboardInterrupt",
     "evalue": "",
     "output_type": "error",
     "traceback": [
      "\u001b[0;31m---------------------------------------------------------------------------\u001b[0m",
      "\u001b[0;31mKeyboardInterrupt\u001b[0m                         Traceback (most recent call last)",
      "Cell \u001b[0;32mIn[7], line 10\u001b[0m\n\u001b[1;32m      8\u001b[0m segmentation \u001b[38;5;241m=\u001b[39m []\n\u001b[1;32m      9\u001b[0m \u001b[38;5;28;01mfor\u001b[39;00m i, segmentation_input_frame \u001b[38;5;129;01min\u001b[39;00m tqdm(\u001b[38;5;28menumerate\u001b[39m(segmentation_input), total \u001b[38;5;241m=\u001b[39m \u001b[38;5;28mlen\u001b[39m(segmentation_input), leave\u001b[38;5;241m=\u001b[39m\u001b[38;5;28;01mFalse\u001b[39;00m):\n\u001b[0;32m---> 10\u001b[0m     masks, flows, styles \u001b[38;5;241m=\u001b[39m \u001b[43mmodel\u001b[49m\u001b[38;5;241;43m.\u001b[39;49m\u001b[43meval\u001b[49m\u001b[43m(\u001b[49m\u001b[43msegmentation_input_frame\u001b[49m\u001b[43m,\u001b[49m\u001b[43m \u001b[49m\n\u001b[1;32m     11\u001b[0m \u001b[43m                                      \u001b[49m\u001b[43mdiameter\u001b[49m\u001b[38;5;241;43m=\u001b[39;49m\u001b[38;5;241;43m100\u001b[39;49m\u001b[43m,\u001b[49m\n\u001b[1;32m     12\u001b[0m \u001b[43m                                      \u001b[49m\u001b[43manisotropy\u001b[49m\u001b[38;5;241;43m=\u001b[39;49m\u001b[38;5;241;43m1\u001b[39;49m\u001b[38;5;241;43m/\u001b[39;49m\u001b[43manisotropy\u001b[49m\u001b[43m,\u001b[49m\n\u001b[1;32m     13\u001b[0m \u001b[43m                                      \u001b[49m\u001b[43mmin_size\u001b[49m\u001b[38;5;241;43m=\u001b[39;49m\u001b[38;5;241;43m2000\u001b[39;49m\u001b[43m,\u001b[49m\n\u001b[1;32m     14\u001b[0m \u001b[43m                                      \u001b[49m\u001b[43mz_axis\u001b[49m\u001b[38;5;241;43m=\u001b[39;49m\u001b[38;5;241;43m0\u001b[39;49m\u001b[43m,\u001b[49m\u001b[43m \u001b[49m\u001b[43mdo_3D\u001b[49m\u001b[38;5;241;43m=\u001b[39;49m\u001b[38;5;28;43;01mTrue\u001b[39;49;00m\u001b[43m,\u001b[49m\n\u001b[1;32m     15\u001b[0m \u001b[43m                                     \u001b[49m\u001b[43m)\u001b[49m\n\u001b[1;32m     16\u001b[0m     segmentation\u001b[38;5;241m.\u001b[39mappend(masks)\n\u001b[1;32m     17\u001b[0m segmentation \u001b[38;5;241m=\u001b[39m np\u001b[38;5;241m.\u001b[39mstack(segmentation, axis\u001b[38;5;241m=\u001b[39m\u001b[38;5;241m0\u001b[39m)\n",
      "File \u001b[0;32m~/miniconda3/envs/godspeed/lib/python3.10/site-packages/cellpose/models.py:317\u001b[0m, in \u001b[0;36mCellposeModel.eval\u001b[0;34m(self, x, batch_size, resample, channels, channel_axis, z_axis, normalize, invert, rescale, diameter, flow_threshold, cellprob_threshold, do_3D, anisotropy, flow3D_smooth, stitch_threshold, min_size, max_size_fraction, niter, augment, tile_overlap, bsize, compute_masks, progress)\u001b[0m\n\u001b[1;32m    314\u001b[0m \u001b[38;5;28;01mif\u001b[39;00m \u001b[38;5;28misinstance\u001b[39m(anisotropy, (\u001b[38;5;28mfloat\u001b[39m, \u001b[38;5;28mint\u001b[39m)) \u001b[38;5;129;01mand\u001b[39;00m image_scaling:\n\u001b[1;32m    315\u001b[0m     anisotropy \u001b[38;5;241m=\u001b[39m image_scaling \u001b[38;5;241m*\u001b[39m anisotropy\n\u001b[0;32m--> 317\u001b[0m dP, cellprob, styles \u001b[38;5;241m=\u001b[39m \u001b[38;5;28;43mself\u001b[39;49m\u001b[38;5;241;43m.\u001b[39;49m\u001b[43m_run_net\u001b[49m\u001b[43m(\u001b[49m\n\u001b[1;32m    318\u001b[0m \u001b[43m    \u001b[49m\u001b[43mx\u001b[49m\u001b[43m,\u001b[49m\u001b[43m \u001b[49m\n\u001b[1;32m    319\u001b[0m \u001b[43m    \u001b[49m\u001b[43maugment\u001b[49m\u001b[38;5;241;43m=\u001b[39;49m\u001b[43maugment\u001b[49m\u001b[43m,\u001b[49m\u001b[43m \u001b[49m\n\u001b[1;32m    320\u001b[0m \u001b[43m    \u001b[49m\u001b[43mbatch_size\u001b[49m\u001b[38;5;241;43m=\u001b[39;49m\u001b[43mbatch_size\u001b[49m\u001b[43m,\u001b[49m\u001b[43m \u001b[49m\n\u001b[1;32m    321\u001b[0m \u001b[43m    \u001b[49m\u001b[43mtile_overlap\u001b[49m\u001b[38;5;241;43m=\u001b[39;49m\u001b[43mtile_overlap\u001b[49m\u001b[43m,\u001b[49m\u001b[43m \u001b[49m\n\u001b[1;32m    322\u001b[0m \u001b[43m    \u001b[49m\u001b[43mbsize\u001b[49m\u001b[38;5;241;43m=\u001b[39;49m\u001b[43mbsize\u001b[49m\u001b[43m,\u001b[49m\n\u001b[1;32m    323\u001b[0m \u001b[43m    \u001b[49m\u001b[43mdo_3D\u001b[49m\u001b[38;5;241;43m=\u001b[39;49m\u001b[43mdo_3D\u001b[49m\u001b[43m,\u001b[49m\u001b[43m \u001b[49m\n\u001b[1;32m    324\u001b[0m \u001b[43m    \u001b[49m\u001b[43manisotropy\u001b[49m\u001b[38;5;241;43m=\u001b[39;49m\u001b[43manisotropy\u001b[49m\u001b[43m)\u001b[49m\n\u001b[1;32m    326\u001b[0m \u001b[38;5;28;01mif\u001b[39;00m do_3D:    \n\u001b[1;32m    327\u001b[0m     \u001b[38;5;28;01mif\u001b[39;00m flow3D_smooth \u001b[38;5;241m>\u001b[39m \u001b[38;5;241m0\u001b[39m:\n",
      "File \u001b[0;32m~/miniconda3/envs/godspeed/lib/python3.10/site-packages/cellpose/models.py:395\u001b[0m, in \u001b[0;36mCellposeModel._run_net\u001b[0;34m(self, x, augment, batch_size, tile_overlap, bsize, anisotropy, do_3D)\u001b[0m\n\u001b[1;32m    391\u001b[0m     models_logger\u001b[38;5;241m.\u001b[39minfo(\u001b[38;5;124mf\u001b[39m\u001b[38;5;124m\"\u001b[39m\u001b[38;5;124mresizing 3D image with anisotropy=\u001b[39m\u001b[38;5;132;01m{\u001b[39;00manisotropy\u001b[38;5;132;01m}\u001b[39;00m\u001b[38;5;124m\"\u001b[39m)\n\u001b[1;32m    392\u001b[0m     x \u001b[38;5;241m=\u001b[39m transforms\u001b[38;5;241m.\u001b[39mresize_image(x\u001b[38;5;241m.\u001b[39mtranspose(\u001b[38;5;241m1\u001b[39m,\u001b[38;5;241m0\u001b[39m,\u001b[38;5;241m2\u001b[39m,\u001b[38;5;241m3\u001b[39m),\n\u001b[1;32m    393\u001b[0m                             Ly\u001b[38;5;241m=\u001b[39m\u001b[38;5;28mint\u001b[39m(Lz\u001b[38;5;241m*\u001b[39manisotropy), \n\u001b[1;32m    394\u001b[0m                             Lx\u001b[38;5;241m=\u001b[39m\u001b[38;5;28mint\u001b[39m(Lx))\u001b[38;5;241m.\u001b[39mtranspose(\u001b[38;5;241m1\u001b[39m,\u001b[38;5;241m0\u001b[39m,\u001b[38;5;241m2\u001b[39m,\u001b[38;5;241m3\u001b[39m)\n\u001b[0;32m--> 395\u001b[0m yf, styles \u001b[38;5;241m=\u001b[39m \u001b[43mrun_3D\u001b[49m\u001b[43m(\u001b[49m\u001b[38;5;28;43mself\u001b[39;49m\u001b[38;5;241;43m.\u001b[39;49m\u001b[43mnet\u001b[49m\u001b[43m,\u001b[49m\u001b[43m \u001b[49m\u001b[43mx\u001b[49m\u001b[43m,\u001b[49m\n\u001b[1;32m    396\u001b[0m \u001b[43m                    \u001b[49m\u001b[43mbatch_size\u001b[49m\u001b[38;5;241;43m=\u001b[39;49m\u001b[43mbatch_size\u001b[49m\u001b[43m,\u001b[49m\u001b[43m \u001b[49m\u001b[43maugment\u001b[49m\u001b[38;5;241;43m=\u001b[39;49m\u001b[43maugment\u001b[49m\u001b[43m,\u001b[49m\u001b[43m  \u001b[49m\n\u001b[1;32m    397\u001b[0m \u001b[43m                    \u001b[49m\u001b[43mtile_overlap\u001b[49m\u001b[38;5;241;43m=\u001b[39;49m\u001b[43mtile_overlap\u001b[49m\u001b[43m,\u001b[49m\u001b[43m \u001b[49m\n\u001b[1;32m    398\u001b[0m \u001b[43m                    \u001b[49m\u001b[43mbsize\u001b[49m\u001b[38;5;241;43m=\u001b[39;49m\u001b[43mbsize\u001b[49m\n\u001b[1;32m    399\u001b[0m \u001b[43m                    \u001b[49m\u001b[43m)\u001b[49m\n\u001b[1;32m    400\u001b[0m cellprob \u001b[38;5;241m=\u001b[39m yf[\u001b[38;5;241m.\u001b[39m\u001b[38;5;241m.\u001b[39m\u001b[38;5;241m.\u001b[39m, \u001b[38;5;241m-\u001b[39m\u001b[38;5;241m1\u001b[39m]\n\u001b[1;32m    401\u001b[0m dP \u001b[38;5;241m=\u001b[39m yf[\u001b[38;5;241m.\u001b[39m\u001b[38;5;241m.\u001b[39m\u001b[38;5;241m.\u001b[39m, :\u001b[38;5;241m-\u001b[39m\u001b[38;5;241m1\u001b[39m]\u001b[38;5;241m.\u001b[39mtranspose((\u001b[38;5;241m3\u001b[39m, \u001b[38;5;241m0\u001b[39m, \u001b[38;5;241m1\u001b[39m, \u001b[38;5;241m2\u001b[39m))\n",
      "File \u001b[0;32m~/miniconda3/envs/godspeed/lib/python3.10/site-packages/cellpose/core.py:294\u001b[0m, in \u001b[0;36mrun_3D\u001b[0;34m(net, imgs, batch_size, augment, tile_overlap, bsize, net_ortho, progress)\u001b[0m\n\u001b[1;32m    291\u001b[0m \u001b[38;5;66;03m# per image\u001b[39;00m\n\u001b[1;32m    292\u001b[0m core_logger\u001b[38;5;241m.\u001b[39minfo(\u001b[38;5;124m\"\u001b[39m\u001b[38;5;124mrunning \u001b[39m\u001b[38;5;132;01m%s\u001b[39;00m\u001b[38;5;124m: \u001b[39m\u001b[38;5;132;01m%d\u001b[39;00m\u001b[38;5;124m planes of size (\u001b[39m\u001b[38;5;132;01m%d\u001b[39;00m\u001b[38;5;124m, \u001b[39m\u001b[38;5;132;01m%d\u001b[39;00m\u001b[38;5;124m)\u001b[39m\u001b[38;5;124m\"\u001b[39m \u001b[38;5;241m%\u001b[39m\n\u001b[1;32m    293\u001b[0m                  (sstr[p], shape[pm[p][\u001b[38;5;241m0\u001b[39m]], shape[pm[p][\u001b[38;5;241m1\u001b[39m]], shape[pm[p][\u001b[38;5;241m2\u001b[39m]]))\n\u001b[0;32m--> 294\u001b[0m y, style \u001b[38;5;241m=\u001b[39m \u001b[43mrun_net\u001b[49m\u001b[43m(\u001b[49m\u001b[43mnet\u001b[49m\u001b[43m,\u001b[49m\n\u001b[1;32m    295\u001b[0m \u001b[43m                   \u001b[49m\u001b[43mxsl\u001b[49m\u001b[43m,\u001b[49m\u001b[43m \u001b[49m\u001b[43mbatch_size\u001b[49m\u001b[38;5;241;43m=\u001b[39;49m\u001b[43mbatch_size\u001b[49m\u001b[43m,\u001b[49m\u001b[43m \u001b[49m\u001b[43maugment\u001b[49m\u001b[38;5;241;43m=\u001b[39;49m\u001b[43maugment\u001b[49m\u001b[43m,\u001b[49m\u001b[43m \u001b[49m\n\u001b[1;32m    296\u001b[0m \u001b[43m                   \u001b[49m\u001b[43mbsize\u001b[49m\u001b[38;5;241;43m=\u001b[39;49m\u001b[43mbsize\u001b[49m\u001b[43m,\u001b[49m\u001b[43m \u001b[49m\u001b[43mtile_overlap\u001b[49m\u001b[38;5;241;43m=\u001b[39;49m\u001b[43mtile_overlap\u001b[49m\u001b[43m,\u001b[49m\u001b[43m \u001b[49m\n\u001b[1;32m    297\u001b[0m \u001b[43m                   \u001b[49m\u001b[43mrsz\u001b[49m\u001b[38;5;241;43m=\u001b[39;49m\u001b[38;5;28;43;01mNone\u001b[39;49;00m\u001b[43m)\u001b[49m\n\u001b[1;32m    298\u001b[0m yf[\u001b[38;5;241m.\u001b[39m\u001b[38;5;241m.\u001b[39m\u001b[38;5;241m.\u001b[39m, \u001b[38;5;241m-\u001b[39m\u001b[38;5;241m1\u001b[39m] \u001b[38;5;241m+\u001b[39m\u001b[38;5;241m=\u001b[39m y[\u001b[38;5;241m.\u001b[39m\u001b[38;5;241m.\u001b[39m\u001b[38;5;241m.\u001b[39m, \u001b[38;5;241m-\u001b[39m\u001b[38;5;241m1\u001b[39m]\u001b[38;5;241m.\u001b[39mtranspose(ipm[p])\n\u001b[1;32m    299\u001b[0m \u001b[38;5;28;01mfor\u001b[39;00m j \u001b[38;5;129;01min\u001b[39;00m \u001b[38;5;28mrange\u001b[39m(\u001b[38;5;241m2\u001b[39m):\n",
      "File \u001b[0;32m~/miniconda3/envs/godspeed/lib/python3.10/site-packages/cellpose/core.py:229\u001b[0m, in \u001b[0;36mrun_net\u001b[0;34m(net, imgi, batch_size, augment, tile_overlap, bsize, rsz)\u001b[0m\n\u001b[1;32m    227\u001b[0m \u001b[38;5;28;01mfor\u001b[39;00m j \u001b[38;5;129;01min\u001b[39;00m \u001b[38;5;28mrange\u001b[39m(\u001b[38;5;241m0\u001b[39m, IMGa\u001b[38;5;241m.\u001b[39mshape[\u001b[38;5;241m0\u001b[39m], batch_size):\n\u001b[1;32m    228\u001b[0m     bslc \u001b[38;5;241m=\u001b[39m \u001b[38;5;28mslice\u001b[39m(j, \u001b[38;5;28mmin\u001b[39m(j \u001b[38;5;241m+\u001b[39m batch_size, IMGa\u001b[38;5;241m.\u001b[39mshape[\u001b[38;5;241m0\u001b[39m]))\n\u001b[0;32m--> 229\u001b[0m     ya0, stylea0 \u001b[38;5;241m=\u001b[39m \u001b[43m_forward\u001b[49m\u001b[43m(\u001b[49m\u001b[43mnet\u001b[49m\u001b[43m,\u001b[49m\u001b[43m \u001b[49m\u001b[43mIMGa\u001b[49m\u001b[43m[\u001b[49m\u001b[43mbslc\u001b[49m\u001b[43m]\u001b[49m\u001b[43m)\u001b[49m\n\u001b[1;32m    230\u001b[0m     \u001b[38;5;28;01mif\u001b[39;00m j \u001b[38;5;241m==\u001b[39m \u001b[38;5;241m0\u001b[39m:\n\u001b[1;32m    231\u001b[0m         nout \u001b[38;5;241m=\u001b[39m ya0\u001b[38;5;241m.\u001b[39mshape[\u001b[38;5;241m1\u001b[39m]\n",
      "File \u001b[0;32m~/miniconda3/envs/godspeed/lib/python3.10/site-packages/cellpose/core.py:157\u001b[0m, in \u001b[0;36m_forward\u001b[0;34m(net, x)\u001b[0m\n\u001b[1;32m    155\u001b[0m net\u001b[38;5;241m.\u001b[39meval()\n\u001b[1;32m    156\u001b[0m \u001b[38;5;28;01mwith\u001b[39;00m torch\u001b[38;5;241m.\u001b[39mno_grad():\n\u001b[0;32m--> 157\u001b[0m     y, style \u001b[38;5;241m=\u001b[39m \u001b[43mnet\u001b[49m\u001b[43m(\u001b[49m\u001b[43mX\u001b[49m\u001b[43m)\u001b[49m[:\u001b[38;5;241m2\u001b[39m]\n\u001b[1;32m    158\u001b[0m \u001b[38;5;28;01mdel\u001b[39;00m X\n\u001b[1;32m    159\u001b[0m y \u001b[38;5;241m=\u001b[39m _from_device(y)\n",
      "File \u001b[0;32m~/miniconda3/envs/godspeed/lib/python3.10/site-packages/torch/nn/modules/module.py:1553\u001b[0m, in \u001b[0;36mModule._wrapped_call_impl\u001b[0;34m(self, *args, **kwargs)\u001b[0m\n\u001b[1;32m   1551\u001b[0m     \u001b[38;5;28;01mreturn\u001b[39;00m \u001b[38;5;28mself\u001b[39m\u001b[38;5;241m.\u001b[39m_compiled_call_impl(\u001b[38;5;241m*\u001b[39margs, \u001b[38;5;241m*\u001b[39m\u001b[38;5;241m*\u001b[39mkwargs)  \u001b[38;5;66;03m# type: ignore[misc]\u001b[39;00m\n\u001b[1;32m   1552\u001b[0m \u001b[38;5;28;01melse\u001b[39;00m:\n\u001b[0;32m-> 1553\u001b[0m     \u001b[38;5;28;01mreturn\u001b[39;00m \u001b[38;5;28;43mself\u001b[39;49m\u001b[38;5;241;43m.\u001b[39;49m\u001b[43m_call_impl\u001b[49m\u001b[43m(\u001b[49m\u001b[38;5;241;43m*\u001b[39;49m\u001b[43margs\u001b[49m\u001b[43m,\u001b[49m\u001b[43m \u001b[49m\u001b[38;5;241;43m*\u001b[39;49m\u001b[38;5;241;43m*\u001b[39;49m\u001b[43mkwargs\u001b[49m\u001b[43m)\u001b[49m\n",
      "File \u001b[0;32m~/miniconda3/envs/godspeed/lib/python3.10/site-packages/torch/nn/modules/module.py:1562\u001b[0m, in \u001b[0;36mModule._call_impl\u001b[0;34m(self, *args, **kwargs)\u001b[0m\n\u001b[1;32m   1557\u001b[0m \u001b[38;5;66;03m# If we don't have any hooks, we want to skip the rest of the logic in\u001b[39;00m\n\u001b[1;32m   1558\u001b[0m \u001b[38;5;66;03m# this function, and just call forward.\u001b[39;00m\n\u001b[1;32m   1559\u001b[0m \u001b[38;5;28;01mif\u001b[39;00m \u001b[38;5;129;01mnot\u001b[39;00m (\u001b[38;5;28mself\u001b[39m\u001b[38;5;241m.\u001b[39m_backward_hooks \u001b[38;5;129;01mor\u001b[39;00m \u001b[38;5;28mself\u001b[39m\u001b[38;5;241m.\u001b[39m_backward_pre_hooks \u001b[38;5;129;01mor\u001b[39;00m \u001b[38;5;28mself\u001b[39m\u001b[38;5;241m.\u001b[39m_forward_hooks \u001b[38;5;129;01mor\u001b[39;00m \u001b[38;5;28mself\u001b[39m\u001b[38;5;241m.\u001b[39m_forward_pre_hooks\n\u001b[1;32m   1560\u001b[0m         \u001b[38;5;129;01mor\u001b[39;00m _global_backward_pre_hooks \u001b[38;5;129;01mor\u001b[39;00m _global_backward_hooks\n\u001b[1;32m   1561\u001b[0m         \u001b[38;5;129;01mor\u001b[39;00m _global_forward_hooks \u001b[38;5;129;01mor\u001b[39;00m _global_forward_pre_hooks):\n\u001b[0;32m-> 1562\u001b[0m     \u001b[38;5;28;01mreturn\u001b[39;00m \u001b[43mforward_call\u001b[49m\u001b[43m(\u001b[49m\u001b[38;5;241;43m*\u001b[39;49m\u001b[43margs\u001b[49m\u001b[43m,\u001b[49m\u001b[43m \u001b[49m\u001b[38;5;241;43m*\u001b[39;49m\u001b[38;5;241;43m*\u001b[39;49m\u001b[43mkwargs\u001b[49m\u001b[43m)\u001b[49m\n\u001b[1;32m   1564\u001b[0m \u001b[38;5;28;01mtry\u001b[39;00m:\n\u001b[1;32m   1565\u001b[0m     result \u001b[38;5;241m=\u001b[39m \u001b[38;5;28;01mNone\u001b[39;00m\n",
      "File \u001b[0;32m~/miniconda3/envs/godspeed/lib/python3.10/site-packages/cellpose/vit_sam.py:68\u001b[0m, in \u001b[0;36mTransformer.forward\u001b[0;34m(self, x)\u001b[0m\n\u001b[1;32m     66\u001b[0m \u001b[38;5;28;01melse\u001b[39;00m:\n\u001b[1;32m     67\u001b[0m     \u001b[38;5;28;01mfor\u001b[39;00m blk \u001b[38;5;129;01min\u001b[39;00m \u001b[38;5;28mself\u001b[39m\u001b[38;5;241m.\u001b[39mencoder\u001b[38;5;241m.\u001b[39mblocks:\n\u001b[0;32m---> 68\u001b[0m         x \u001b[38;5;241m=\u001b[39m \u001b[43mblk\u001b[49m\u001b[43m(\u001b[49m\u001b[43mx\u001b[49m\u001b[43m)\u001b[49m\n\u001b[1;32m     70\u001b[0m x \u001b[38;5;241m=\u001b[39m \u001b[38;5;28mself\u001b[39m\u001b[38;5;241m.\u001b[39mencoder\u001b[38;5;241m.\u001b[39mneck(x\u001b[38;5;241m.\u001b[39mpermute(\u001b[38;5;241m0\u001b[39m, \u001b[38;5;241m3\u001b[39m, \u001b[38;5;241m1\u001b[39m, \u001b[38;5;241m2\u001b[39m))\n\u001b[1;32m     72\u001b[0m \u001b[38;5;66;03m# readout is changed here\u001b[39;00m\n",
      "File \u001b[0;32m~/miniconda3/envs/godspeed/lib/python3.10/site-packages/torch/nn/modules/module.py:1553\u001b[0m, in \u001b[0;36mModule._wrapped_call_impl\u001b[0;34m(self, *args, **kwargs)\u001b[0m\n\u001b[1;32m   1551\u001b[0m     \u001b[38;5;28;01mreturn\u001b[39;00m \u001b[38;5;28mself\u001b[39m\u001b[38;5;241m.\u001b[39m_compiled_call_impl(\u001b[38;5;241m*\u001b[39margs, \u001b[38;5;241m*\u001b[39m\u001b[38;5;241m*\u001b[39mkwargs)  \u001b[38;5;66;03m# type: ignore[misc]\u001b[39;00m\n\u001b[1;32m   1552\u001b[0m \u001b[38;5;28;01melse\u001b[39;00m:\n\u001b[0;32m-> 1553\u001b[0m     \u001b[38;5;28;01mreturn\u001b[39;00m \u001b[38;5;28;43mself\u001b[39;49m\u001b[38;5;241;43m.\u001b[39;49m\u001b[43m_call_impl\u001b[49m\u001b[43m(\u001b[49m\u001b[38;5;241;43m*\u001b[39;49m\u001b[43margs\u001b[49m\u001b[43m,\u001b[49m\u001b[43m \u001b[49m\u001b[38;5;241;43m*\u001b[39;49m\u001b[38;5;241;43m*\u001b[39;49m\u001b[43mkwargs\u001b[49m\u001b[43m)\u001b[49m\n",
      "File \u001b[0;32m~/miniconda3/envs/godspeed/lib/python3.10/site-packages/torch/nn/modules/module.py:1562\u001b[0m, in \u001b[0;36mModule._call_impl\u001b[0;34m(self, *args, **kwargs)\u001b[0m\n\u001b[1;32m   1557\u001b[0m \u001b[38;5;66;03m# If we don't have any hooks, we want to skip the rest of the logic in\u001b[39;00m\n\u001b[1;32m   1558\u001b[0m \u001b[38;5;66;03m# this function, and just call forward.\u001b[39;00m\n\u001b[1;32m   1559\u001b[0m \u001b[38;5;28;01mif\u001b[39;00m \u001b[38;5;129;01mnot\u001b[39;00m (\u001b[38;5;28mself\u001b[39m\u001b[38;5;241m.\u001b[39m_backward_hooks \u001b[38;5;129;01mor\u001b[39;00m \u001b[38;5;28mself\u001b[39m\u001b[38;5;241m.\u001b[39m_backward_pre_hooks \u001b[38;5;129;01mor\u001b[39;00m \u001b[38;5;28mself\u001b[39m\u001b[38;5;241m.\u001b[39m_forward_hooks \u001b[38;5;129;01mor\u001b[39;00m \u001b[38;5;28mself\u001b[39m\u001b[38;5;241m.\u001b[39m_forward_pre_hooks\n\u001b[1;32m   1560\u001b[0m         \u001b[38;5;129;01mor\u001b[39;00m _global_backward_pre_hooks \u001b[38;5;129;01mor\u001b[39;00m _global_backward_hooks\n\u001b[1;32m   1561\u001b[0m         \u001b[38;5;129;01mor\u001b[39;00m _global_forward_hooks \u001b[38;5;129;01mor\u001b[39;00m _global_forward_pre_hooks):\n\u001b[0;32m-> 1562\u001b[0m     \u001b[38;5;28;01mreturn\u001b[39;00m \u001b[43mforward_call\u001b[49m\u001b[43m(\u001b[49m\u001b[38;5;241;43m*\u001b[39;49m\u001b[43margs\u001b[49m\u001b[43m,\u001b[49m\u001b[43m \u001b[49m\u001b[38;5;241;43m*\u001b[39;49m\u001b[38;5;241;43m*\u001b[39;49m\u001b[43mkwargs\u001b[49m\u001b[43m)\u001b[49m\n\u001b[1;32m   1564\u001b[0m \u001b[38;5;28;01mtry\u001b[39;00m:\n\u001b[1;32m   1565\u001b[0m     result \u001b[38;5;241m=\u001b[39m \u001b[38;5;28;01mNone\u001b[39;00m\n",
      "File \u001b[0;32m~/miniconda3/envs/godspeed/lib/python3.10/site-packages/segment_anything/modeling/image_encoder.py:174\u001b[0m, in \u001b[0;36mBlock.forward\u001b[0;34m(self, x)\u001b[0m\n\u001b[1;32m    171\u001b[0m     H, W \u001b[38;5;241m=\u001b[39m x\u001b[38;5;241m.\u001b[39mshape[\u001b[38;5;241m1\u001b[39m], x\u001b[38;5;241m.\u001b[39mshape[\u001b[38;5;241m2\u001b[39m]\n\u001b[1;32m    172\u001b[0m     x, pad_hw \u001b[38;5;241m=\u001b[39m window_partition(x, \u001b[38;5;28mself\u001b[39m\u001b[38;5;241m.\u001b[39mwindow_size)\n\u001b[0;32m--> 174\u001b[0m x \u001b[38;5;241m=\u001b[39m \u001b[38;5;28;43mself\u001b[39;49m\u001b[38;5;241;43m.\u001b[39;49m\u001b[43mattn\u001b[49m\u001b[43m(\u001b[49m\u001b[43mx\u001b[49m\u001b[43m)\u001b[49m\n\u001b[1;32m    175\u001b[0m \u001b[38;5;66;03m# Reverse window partition\u001b[39;00m\n\u001b[1;32m    176\u001b[0m \u001b[38;5;28;01mif\u001b[39;00m \u001b[38;5;28mself\u001b[39m\u001b[38;5;241m.\u001b[39mwindow_size \u001b[38;5;241m>\u001b[39m \u001b[38;5;241m0\u001b[39m:\n",
      "File \u001b[0;32m~/miniconda3/envs/godspeed/lib/python3.10/site-packages/torch/nn/modules/module.py:1553\u001b[0m, in \u001b[0;36mModule._wrapped_call_impl\u001b[0;34m(self, *args, **kwargs)\u001b[0m\n\u001b[1;32m   1551\u001b[0m     \u001b[38;5;28;01mreturn\u001b[39;00m \u001b[38;5;28mself\u001b[39m\u001b[38;5;241m.\u001b[39m_compiled_call_impl(\u001b[38;5;241m*\u001b[39margs, \u001b[38;5;241m*\u001b[39m\u001b[38;5;241m*\u001b[39mkwargs)  \u001b[38;5;66;03m# type: ignore[misc]\u001b[39;00m\n\u001b[1;32m   1552\u001b[0m \u001b[38;5;28;01melse\u001b[39;00m:\n\u001b[0;32m-> 1553\u001b[0m     \u001b[38;5;28;01mreturn\u001b[39;00m \u001b[38;5;28;43mself\u001b[39;49m\u001b[38;5;241;43m.\u001b[39;49m\u001b[43m_call_impl\u001b[49m\u001b[43m(\u001b[49m\u001b[38;5;241;43m*\u001b[39;49m\u001b[43margs\u001b[49m\u001b[43m,\u001b[49m\u001b[43m \u001b[49m\u001b[38;5;241;43m*\u001b[39;49m\u001b[38;5;241;43m*\u001b[39;49m\u001b[43mkwargs\u001b[49m\u001b[43m)\u001b[49m\n",
      "File \u001b[0;32m~/miniconda3/envs/godspeed/lib/python3.10/site-packages/torch/nn/modules/module.py:1562\u001b[0m, in \u001b[0;36mModule._call_impl\u001b[0;34m(self, *args, **kwargs)\u001b[0m\n\u001b[1;32m   1557\u001b[0m \u001b[38;5;66;03m# If we don't have any hooks, we want to skip the rest of the logic in\u001b[39;00m\n\u001b[1;32m   1558\u001b[0m \u001b[38;5;66;03m# this function, and just call forward.\u001b[39;00m\n\u001b[1;32m   1559\u001b[0m \u001b[38;5;28;01mif\u001b[39;00m \u001b[38;5;129;01mnot\u001b[39;00m (\u001b[38;5;28mself\u001b[39m\u001b[38;5;241m.\u001b[39m_backward_hooks \u001b[38;5;129;01mor\u001b[39;00m \u001b[38;5;28mself\u001b[39m\u001b[38;5;241m.\u001b[39m_backward_pre_hooks \u001b[38;5;129;01mor\u001b[39;00m \u001b[38;5;28mself\u001b[39m\u001b[38;5;241m.\u001b[39m_forward_hooks \u001b[38;5;129;01mor\u001b[39;00m \u001b[38;5;28mself\u001b[39m\u001b[38;5;241m.\u001b[39m_forward_pre_hooks\n\u001b[1;32m   1560\u001b[0m         \u001b[38;5;129;01mor\u001b[39;00m _global_backward_pre_hooks \u001b[38;5;129;01mor\u001b[39;00m _global_backward_hooks\n\u001b[1;32m   1561\u001b[0m         \u001b[38;5;129;01mor\u001b[39;00m _global_forward_hooks \u001b[38;5;129;01mor\u001b[39;00m _global_forward_pre_hooks):\n\u001b[0;32m-> 1562\u001b[0m     \u001b[38;5;28;01mreturn\u001b[39;00m \u001b[43mforward_call\u001b[49m\u001b[43m(\u001b[49m\u001b[38;5;241;43m*\u001b[39;49m\u001b[43margs\u001b[49m\u001b[43m,\u001b[49m\u001b[43m \u001b[49m\u001b[38;5;241;43m*\u001b[39;49m\u001b[38;5;241;43m*\u001b[39;49m\u001b[43mkwargs\u001b[49m\u001b[43m)\u001b[49m\n\u001b[1;32m   1564\u001b[0m \u001b[38;5;28;01mtry\u001b[39;00m:\n\u001b[1;32m   1565\u001b[0m     result \u001b[38;5;241m=\u001b[39m \u001b[38;5;28;01mNone\u001b[39;00m\n",
      "File \u001b[0;32m~/miniconda3/envs/godspeed/lib/python3.10/site-packages/segment_anything/modeling/image_encoder.py:234\u001b[0m, in \u001b[0;36mAttention.forward\u001b[0;34m(self, x)\u001b[0m\n\u001b[1;32m    231\u001b[0m attn \u001b[38;5;241m=\u001b[39m (q \u001b[38;5;241m*\u001b[39m \u001b[38;5;28mself\u001b[39m\u001b[38;5;241m.\u001b[39mscale) \u001b[38;5;241m@\u001b[39m k\u001b[38;5;241m.\u001b[39mtranspose(\u001b[38;5;241m-\u001b[39m\u001b[38;5;241m2\u001b[39m, \u001b[38;5;241m-\u001b[39m\u001b[38;5;241m1\u001b[39m)\n\u001b[1;32m    233\u001b[0m \u001b[38;5;28;01mif\u001b[39;00m \u001b[38;5;28mself\u001b[39m\u001b[38;5;241m.\u001b[39muse_rel_pos:\n\u001b[0;32m--> 234\u001b[0m     attn \u001b[38;5;241m=\u001b[39m \u001b[43madd_decomposed_rel_pos\u001b[49m\u001b[43m(\u001b[49m\u001b[43mattn\u001b[49m\u001b[43m,\u001b[49m\u001b[43m \u001b[49m\u001b[43mq\u001b[49m\u001b[43m,\u001b[49m\u001b[43m \u001b[49m\u001b[38;5;28;43mself\u001b[39;49m\u001b[38;5;241;43m.\u001b[39;49m\u001b[43mrel_pos_h\u001b[49m\u001b[43m,\u001b[49m\u001b[43m \u001b[49m\u001b[38;5;28;43mself\u001b[39;49m\u001b[38;5;241;43m.\u001b[39;49m\u001b[43mrel_pos_w\u001b[49m\u001b[43m,\u001b[49m\u001b[43m \u001b[49m\u001b[43m(\u001b[49m\u001b[43mH\u001b[49m\u001b[43m,\u001b[49m\u001b[43m \u001b[49m\u001b[43mW\u001b[49m\u001b[43m)\u001b[49m\u001b[43m,\u001b[49m\u001b[43m \u001b[49m\u001b[43m(\u001b[49m\u001b[43mH\u001b[49m\u001b[43m,\u001b[49m\u001b[43m \u001b[49m\u001b[43mW\u001b[49m\u001b[43m)\u001b[49m\u001b[43m)\u001b[49m\n\u001b[1;32m    236\u001b[0m attn \u001b[38;5;241m=\u001b[39m attn\u001b[38;5;241m.\u001b[39msoftmax(dim\u001b[38;5;241m=\u001b[39m\u001b[38;5;241m-\u001b[39m\u001b[38;5;241m1\u001b[39m)\n\u001b[1;32m    237\u001b[0m x \u001b[38;5;241m=\u001b[39m (attn \u001b[38;5;241m@\u001b[39m v)\u001b[38;5;241m.\u001b[39mview(B, \u001b[38;5;28mself\u001b[39m\u001b[38;5;241m.\u001b[39mnum_heads, H, W, \u001b[38;5;241m-\u001b[39m\u001b[38;5;241m1\u001b[39m)\u001b[38;5;241m.\u001b[39mpermute(\u001b[38;5;241m0\u001b[39m, \u001b[38;5;241m2\u001b[39m, \u001b[38;5;241m3\u001b[39m, \u001b[38;5;241m1\u001b[39m, \u001b[38;5;241m4\u001b[39m)\u001b[38;5;241m.\u001b[39mreshape(B, H, W, \u001b[38;5;241m-\u001b[39m\u001b[38;5;241m1\u001b[39m)\n",
      "File \u001b[0;32m~/miniconda3/envs/godspeed/lib/python3.10/site-packages/segment_anything/modeling/image_encoder.py:350\u001b[0m, in \u001b[0;36madd_decomposed_rel_pos\u001b[0;34m(attn, q, rel_pos_h, rel_pos_w, q_size, k_size)\u001b[0m\n\u001b[1;32m    348\u001b[0m k_h, k_w \u001b[38;5;241m=\u001b[39m k_size\n\u001b[1;32m    349\u001b[0m Rh \u001b[38;5;241m=\u001b[39m get_rel_pos(q_h, k_h, rel_pos_h)\n\u001b[0;32m--> 350\u001b[0m Rw \u001b[38;5;241m=\u001b[39m \u001b[43mget_rel_pos\u001b[49m\u001b[43m(\u001b[49m\u001b[43mq_w\u001b[49m\u001b[43m,\u001b[49m\u001b[43m \u001b[49m\u001b[43mk_w\u001b[49m\u001b[43m,\u001b[49m\u001b[43m \u001b[49m\u001b[43mrel_pos_w\u001b[49m\u001b[43m)\u001b[49m\n\u001b[1;32m    352\u001b[0m B, _, dim \u001b[38;5;241m=\u001b[39m q\u001b[38;5;241m.\u001b[39mshape\n\u001b[1;32m    353\u001b[0m r_q \u001b[38;5;241m=\u001b[39m q\u001b[38;5;241m.\u001b[39mreshape(B, q_h, q_w, dim)\n",
      "\u001b[0;31mKeyboardInterrupt\u001b[0m: "
     ]
    }
   ],
   "source": [
    "for zarr_dir in tqdm(zarr_dirs):\n",
    "    pos = re.search(r'(\\d+)\\.zarr', zarr_dir).group(1) ## needs attn\n",
    "    label_dir = zarr_dir.replace('zarr','labels') ## needs attn\n",
    "    os.makedirs(label_dir, exist_ok=True)\n",
    "    \n",
    "    zarr_group = zarr.open_group(zarr_dir)\n",
    "    segmentation_input = zarr_group.images[:,1,:,...] ## needs channel enumeration checking\n",
    "    segmentation_input = np.max(segmentation_input, axis = 1) # check axis enumeration\n",
    "    segmentation = []\n",
    "    # for i, segmentation_input_frame in tqdm(enumerate(segmentation_input), total = len(segmentation_input), leave=False):\n",
    "    masks, flows, styles = model.eval(segmentation_input, #_frame, \n",
    "                                      diameter=100, # check the diameter\n",
    "                                      # anisotropy=1/anisotropy,\n",
    "                                      # min_size=2000,\n",
    "                                      # z_axis=0, do_3D=True,\n",
    "                                     )\n",
    "        # segmentation.append(masks)\n",
    "    # segmentation = np.stack(segmentation, axis=0)\n",
    "    segmentation = masks\n",
    "\n",
    "    # segmentation_fn = os.path.join(label_dir, 'segmentation.h5')\n",
    "    # with btrack.io.HDF5FileHandler(segmentation_fn, 'w', obj_type='obj_type_1') as writer:\n",
    "    #     writer.write_segmentation(segmentation)\n",
    "\n",
    "    # del segmentation_input\n",
    "\n",
    "    # CHECK IF WE NEED TO THRESHOLD?\n",
    "    \n",
    "    # mtb_images = zarr_group.images[:, 0, ...]\n",
    "    # mtb_images = np.transpose(mtb_images, (0, 2, 3, 4, 1))\n",
    "    # mtb_thresh = np.where(mtb_images >= Mtb_load_thresh, True, False)\n",
    "    # intensity_image = np.stack([mtb_images[...,0], \n",
    "    #                             mtb_images[...,1],\n",
    "    #                             mtb_thresh[...,0],\n",
    "    #                             mtb_thresh[...,1]], axis = -1)\n",
    "\n",
    "    # check channel axis order\n",
    "    intensity_image = np.transpose(images[:,1:,...], (0, 2, 3, 4, 1))\n",
    "\n",
    "    # del mtb_images\n",
    "    # del mtb_thresh\n",
    "\n",
    "    objects = btrack.utils.segmentation_to_objects(\n",
    "        segmentation, intensity_image=intensity_image,\n",
    "        properties = tuple(['area', 'mean_intensity']), \n",
    "        use_weighted_centroid=False,\n",
    "    )\n",
    "\n",
    "    objects_fn = os.path.join(label_dir, 'objects.h5')\n",
    "    with btrack.io.HDF5FileHandler(objects_fn, 'w', obj_type='obj_type_1') as writer:\n",
    "        writer.write_objects(objects)\n",
    "\n",
    "    tracks_fn = os.path.join(label_dir, 'tracks.h5')\n",
    "    # initialise a tracker session using a context manager\n",
    "    with btrack.BayesianTracker() as tracker:\n",
    "    \n",
    "        # configure the tracker using a config file\n",
    "        tracker.configure('/home/dayn/analysis/models/btrack/particle_config_pnassign.json')\n",
    "        tracker.max_search_radius = 50\n",
    "        # tracker.tracking_updates = [\"MOTION\", \"VISUAL\"]\n",
    "        # tracker.features = FEATURES\n",
    "    \n",
    "        # append the objects to be tracked\n",
    "        tracker.append(objects)\n",
    "    \n",
    "        # set the tracking volume\n",
    "        tracker.volume=((0, segmentation.shape[2]), (0, segmentation.shape[3]), (0, segmentation.shape[1]))\n",
    "    \n",
    "        # track them (in interactive mode)\n",
    "        tracker.track(step_size=10)\n",
    "    \n",
    "        # generate hypotheses and run the global optimizer\n",
    "        tracker.optimize()\n",
    "    \n",
    "        # get the tracks in a format for napari visualization\n",
    "        data, properties, graph = tracker.to_napari()\n",
    "        \n",
    "        # store the tracks\n",
    "        tracks = tracker.tracks\n",
    "        \n",
    "        # store the configuration\n",
    "        cfg = tracker.configuration\n",
    "        \n",
    "        # export the track data \n",
    "        tracker.export(tracks_fn, obj_type=\"obj_type_1\")\n",
    "        "
   ]
  }
 ],
 "metadata": {
  "kernelspec": {
   "display_name": "godspeed",
   "language": "python",
   "name": "godspeed"
  },
  "language_info": {
   "codemirror_mode": {
    "name": "ipython",
    "version": 3
   },
   "file_extension": ".py",
   "mimetype": "text/x-python",
   "name": "python",
   "nbconvert_exporter": "python",
   "pygments_lexer": "ipython3",
   "version": "3.10.16"
  }
 },
 "nbformat": 4,
 "nbformat_minor": 5
}
